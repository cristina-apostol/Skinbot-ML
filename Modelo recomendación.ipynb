{
 "cells": [
  {
   "cell_type": "code",
   "execution_count": 1,
   "id": "11430270",
   "metadata": {},
   "outputs": [],
   "source": [
    "import pandas as pd\n",
    "import numpy as np\n",
    "import json\n",
    "import warnings\n",
    "warnings.filterwarnings(\"ignore\")\n",
    "import json"
   ]
  },
  {
   "cell_type": "code",
   "execution_count": 3,
   "id": "20a8c222",
   "metadata": {},
   "outputs": [],
   "source": [
    "skin= pd.read_csv('skincaret.csv')"
   ]
  },
  {
   "cell_type": "code",
   "execution_count": 4,
   "id": "308e4f4f",
   "metadata": {},
   "outputs": [
    {
     "data": {
      "text/html": [
       "<div>\n",
       "<style scoped>\n",
       "    .dataframe tbody tr th:only-of-type {\n",
       "        vertical-align: middle;\n",
       "    }\n",
       "\n",
       "    .dataframe tbody tr th {\n",
       "        vertical-align: top;\n",
       "    }\n",
       "\n",
       "    .dataframe thead th {\n",
       "        text-align: right;\n",
       "    }\n",
       "</style>\n",
       "<table border=\"1\" class=\"dataframe\">\n",
       "  <thead>\n",
       "    <tr style=\"text-align: right;\">\n",
       "      <th></th>\n",
       "      <th>Unnamed: 0</th>\n",
       "      <th>Type</th>\n",
       "      <th>Skin</th>\n",
       "      <th>Rating</th>\n",
       "      <th>Reviews</th>\n",
       "      <th>Product</th>\n",
       "    </tr>\n",
       "  </thead>\n",
       "  <tbody>\n",
       "    <tr>\n",
       "      <th>0</th>\n",
       "      <td>0</td>\n",
       "      <td>General Moisturizer</td>\n",
       "      <td>dry</td>\n",
       "      <td>4.6</td>\n",
       "      <td>11060</td>\n",
       "      <td>Natural Moisturizing Factors + HA - The Ordinary</td>\n",
       "    </tr>\n",
       "    <tr>\n",
       "      <th>1</th>\n",
       "      <td>1</td>\n",
       "      <td>General Moisturizer</td>\n",
       "      <td>age</td>\n",
       "      <td>4.6</td>\n",
       "      <td>11060</td>\n",
       "      <td>Natural Moisturizing Factors + HA - The Ordinary</td>\n",
       "    </tr>\n",
       "    <tr>\n",
       "      <th>2</th>\n",
       "      <td>2</td>\n",
       "      <td>General Moisturizer</td>\n",
       "      <td>brightening</td>\n",
       "      <td>4.6</td>\n",
       "      <td>11060</td>\n",
       "      <td>Natural Moisturizing Factors + HA - The Ordinary</td>\n",
       "    </tr>\n",
       "    <tr>\n",
       "      <th>3</th>\n",
       "      <td>3</td>\n",
       "      <td>General Moisturizer</td>\n",
       "      <td>large pores</td>\n",
       "      <td>4.6</td>\n",
       "      <td>11060</td>\n",
       "      <td>Natural Moisturizing Factors + HA - The Ordinary</td>\n",
       "    </tr>\n",
       "    <tr>\n",
       "      <th>4</th>\n",
       "      <td>4</td>\n",
       "      <td>General Moisturizer</td>\n",
       "      <td>scar healing</td>\n",
       "      <td>4.6</td>\n",
       "      <td>11060</td>\n",
       "      <td>Natural Moisturizing Factors + HA - The Ordinary</td>\n",
       "    </tr>\n",
       "  </tbody>\n",
       "</table>\n",
       "</div>"
      ],
      "text/plain": [
       "   Unnamed: 0                 Type          Skin  Rating  Reviews  \\\n",
       "0           0  General Moisturizer           dry     4.6    11060   \n",
       "1           1  General Moisturizer           age     4.6    11060   \n",
       "2           2  General Moisturizer   brightening     4.6    11060   \n",
       "3           3  General Moisturizer   large pores     4.6    11060   \n",
       "4           4  General Moisturizer  scar healing     4.6    11060   \n",
       "\n",
       "                                            Product  \n",
       "0  Natural Moisturizing Factors + HA - The Ordinary  \n",
       "1  Natural Moisturizing Factors + HA - The Ordinary  \n",
       "2  Natural Moisturizing Factors + HA - The Ordinary  \n",
       "3  Natural Moisturizing Factors + HA - The Ordinary  \n",
       "4  Natural Moisturizing Factors + HA - The Ordinary  "
      ]
     },
     "execution_count": 4,
     "metadata": {},
     "output_type": "execute_result"
    }
   ],
   "source": [
    "skin.head()"
   ]
  },
  {
   "cell_type": "code",
   "execution_count": 10,
   "id": "630874b0",
   "metadata": {},
   "outputs": [],
   "source": [
    "skin= skin.drop('Unnamed: 0', axis=1)"
   ]
  },
  {
   "cell_type": "code",
   "execution_count": 11,
   "id": "0b11b013",
   "metadata": {},
   "outputs": [
    {
     "data": {
      "text/plain": [
       "array(['General Moisturizer', 'Eye Moisturizer', 'Toner', 'Serum',\n",
       "       'Facial Treatment', 'Sunscreen', 'Face Cleanser',\n",
       "       'Night Moisturizer', 'Day Moisturizer'], dtype=object)"
      ]
     },
     "execution_count": 11,
     "metadata": {},
     "output_type": "execute_result"
    }
   ],
   "source": [
    "skin.Type.unique()"
   ]
  },
  {
   "cell_type": "code",
   "execution_count": 12,
   "id": "80a24504",
   "metadata": {},
   "outputs": [
    {
     "data": {
      "text/plain": [
       "array(['dry', 'age', 'brightening', 'large pores', 'scar healing', 'oil',\n",
       "       'acne', 'sensitive', 'dark spots', 'texture'], dtype=object)"
      ]
     },
     "execution_count": 12,
     "metadata": {},
     "output_type": "execute_result"
    }
   ],
   "source": [
    "skin.Skin.unique()"
   ]
  },
  {
   "cell_type": "markdown",
   "id": "471943f6",
   "metadata": {},
   "source": [
    "Para realizar un modelo de recomendación vamos a filtrar cada tipo de piel, según tipo de porducto, para poder crear una buena rutina de skincare."
   ]
  },
  {
   "cell_type": "markdown",
   "id": "bce46620",
   "metadata": {},
   "source": [
    "## DRY SKIN - SERUM"
   ]
  },
  {
   "cell_type": "code",
   "execution_count": 15,
   "id": "e9dff0f5",
   "metadata": {},
   "outputs": [],
   "source": [
    "filtro= skin.loc[(skin.Skin == 'dry') & (skin.Type == 'Serum')]"
   ]
  },
  {
   "cell_type": "code",
   "execution_count": 16,
   "id": "b20590b0",
   "metadata": {},
   "outputs": [],
   "source": [
    "dry_serum=filtro.set_index('Product')"
   ]
  },
  {
   "cell_type": "code",
   "execution_count": 17,
   "id": "4dbf026b",
   "metadata": {},
   "outputs": [
    {
     "data": {
      "text/html": [
       "<div>\n",
       "<style scoped>\n",
       "    .dataframe tbody tr th:only-of-type {\n",
       "        vertical-align: middle;\n",
       "    }\n",
       "\n",
       "    .dataframe tbody tr th {\n",
       "        vertical-align: top;\n",
       "    }\n",
       "\n",
       "    .dataframe thead th {\n",
       "        text-align: right;\n",
       "    }\n",
       "</style>\n",
       "<table border=\"1\" class=\"dataframe\">\n",
       "  <thead>\n",
       "    <tr style=\"text-align: right;\">\n",
       "      <th></th>\n",
       "      <th>Type</th>\n",
       "      <th>Skin</th>\n",
       "      <th>Rating</th>\n",
       "      <th>Reviews</th>\n",
       "    </tr>\n",
       "    <tr>\n",
       "      <th>Product</th>\n",
       "      <th></th>\n",
       "      <th></th>\n",
       "      <th></th>\n",
       "      <th></th>\n",
       "    </tr>\n",
       "  </thead>\n",
       "  <tbody>\n",
       "    <tr>\n",
       "      <th>Freshly Juiced Vitamin Drop - Dear, Klairs</th>\n",
       "      <td>Serum</td>\n",
       "      <td>dry</td>\n",
       "      <td>4.5</td>\n",
       "      <td>8858</td>\n",
       "    </tr>\n",
       "    <tr>\n",
       "      <th>Youth Recovery &amp; Blemish Defense Night Serum - NourishMax</th>\n",
       "      <td>Serum</td>\n",
       "      <td>dry</td>\n",
       "      <td>4.5</td>\n",
       "      <td>81290</td>\n",
       "    </tr>\n",
       "    <tr>\n",
       "      <th>Green Tangerine Vita C Dark Spot Serum - Goodal</th>\n",
       "      <td>Serum</td>\n",
       "      <td>dry</td>\n",
       "      <td>5.0</td>\n",
       "      <td>3</td>\n",
       "    </tr>\n",
       "    <tr>\n",
       "      <th>Vitamin C Super Serum Plus - Naturium Skincare</th>\n",
       "      <td>Serum</td>\n",
       "      <td>dry</td>\n",
       "      <td>4.5</td>\n",
       "      <td>1703</td>\n",
       "    </tr>\n",
       "    <tr>\n",
       "      <th>Cica Care Clearing Ampoule - Rovectin</th>\n",
       "      <td>Serum</td>\n",
       "      <td>dry</td>\n",
       "      <td>4.3</td>\n",
       "      <td>11</td>\n",
       "    </tr>\n",
       "  </tbody>\n",
       "</table>\n",
       "</div>"
      ],
      "text/plain": [
       "                                                     Type Skin  Rating  \\\n",
       "Product                                                                  \n",
       "Freshly Juiced Vitamin Drop - Dear, Klairs          Serum  dry     4.5   \n",
       "Youth Recovery & Blemish Defense Night Serum - ...  Serum  dry     4.5   \n",
       "Green Tangerine Vita C Dark Spot Serum - Goodal     Serum  dry     5.0   \n",
       "Vitamin C Super Serum Plus - Naturium Skincare      Serum  dry     4.5   \n",
       "Cica Care Clearing Ampoule - Rovectin               Serum  dry     4.3   \n",
       "\n",
       "                                                    Reviews  \n",
       "Product                                                      \n",
       "Freshly Juiced Vitamin Drop - Dear, Klairs             8858  \n",
       "Youth Recovery & Blemish Defense Night Serum - ...    81290  \n",
       "Green Tangerine Vita C Dark Spot Serum - Goodal           3  \n",
       "Vitamin C Super Serum Plus - Naturium Skincare         1703  \n",
       "Cica Care Clearing Ampoule - Rovectin                    11  "
      ]
     },
     "execution_count": 17,
     "metadata": {},
     "output_type": "execute_result"
    }
   ],
   "source": [
    "dry_serum.drop(columns= ['Tye'])"
   ]
  },
  {
   "cell_type": "code",
   "execution_count": null,
   "id": "24e7fcbe",
   "metadata": {},
   "outputs": [],
   "source": []
  }
 ],
 "metadata": {
  "kernelspec": {
   "display_name": "Python 3 (ipykernel)",
   "language": "python",
   "name": "python3"
  },
  "language_info": {
   "codemirror_mode": {
    "name": "ipython",
    "version": 3
   },
   "file_extension": ".py",
   "mimetype": "text/x-python",
   "name": "python",
   "nbconvert_exporter": "python",
   "pygments_lexer": "ipython3",
   "version": "3.9.13"
  }
 },
 "nbformat": 4,
 "nbformat_minor": 5
}
