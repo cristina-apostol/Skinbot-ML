{
 "cells": [
  {
   "cell_type": "code",
   "execution_count": null,
   "id": "18ddf02c",
   "metadata": {},
   "outputs": [],
   "source": [
    "import json\n",
    "import pandas as pd\n",
    "import numpy as np\n",
    "import json\n",
    "import warnings"
   ]
  },
  {
   "cell_type": "markdown",
   "id": "db9ac7bf",
   "metadata": {},
   "source": [
    "### 1. Carga de los datos obtenidos."
   ]
  },
  {
   "cell_type": "code",
   "execution_count": null,
   "id": "3c520bbf",
   "metadata": {},
   "outputs": [],
   "source": [
    "with open('resultados.json', 'r') as f:\n",
    "    data= f.read()\n",
    "    "
   ]
  },
  {
   "cell_type": "code",
   "execution_count": null,
   "id": "f31f387f",
   "metadata": {},
   "outputs": [],
   "source": [
    "lista = json.loads(data)"
   ]
  },
  {
   "cell_type": "code",
   "execution_count": null,
   "id": "f43d3535",
   "metadata": {},
   "outputs": [],
   "source": [
    "productos = []\n",
    "reviews = []\n",
    "\n",
    "for i in lista:\n",
    "    for key, values in i.items():\n",
    "       \n",
    "        if key == 'Producto':\n",
    "            productos.append(values)\n",
    "        elif key == 'Reseñas':\n",
    "            reviews.append(values)\n",
    "\n",
    "        "
   ]
  },
  {
   "cell_type": "code",
   "execution_count": null,
   "id": "6e011e0c",
   "metadata": {},
   "outputs": [],
   "source": [
    "filtered_reviews = []\n",
    "\n",
    "for review in reviews:\n",
    "    if review is not None and isinstance(review, list):\n",
    "        product_reviews = []\n",
    "        for item in review:\n",
    "            if isinstance(item, str) and len(item) == 18:\n",
    "                product_reviews.append(item)\n",
    "        filtered_reviews.append(product_reviews)\n"
   ]
  },
  {
   "cell_type": "code",
   "execution_count": null,
   "id": "58e35578",
   "metadata": {},
   "outputs": [],
   "source": [
    "filtered_reviews[0]"
   ]
  },
  {
   "cell_type": "markdown",
   "id": "c0bea482",
   "metadata": {},
   "source": [
    "### 2. Creación del dataframe por cada usuario."
   ]
  },
  {
   "cell_type": "code",
   "execution_count": null,
   "id": "a043d3c0",
   "metadata": {},
   "outputs": [],
   "source": [
    "\n",
    "max_cols = max(len(row) for row in filtered_reviews)\n",
    "\n",
    "column_names = [f'usuario_{i+1}' if i < len(filtered_reviews[0]) else None for i in range(max_cols)]\n",
    "\n",
    "df = pd.DataFrame(filtered_reviews, columns=column_names)\n",
    "df.head()\n"
   ]
  },
  {
   "cell_type": "code",
   "execution_count": null,
   "id": "af23aa59",
   "metadata": {},
   "outputs": [],
   "source": [
    "def procesar_columna(columna):\n",
    "    return columna.str.split(' ', expand=True)[0]\n",
    "df = df.apply(procesar_columna)\n"
   ]
  },
  {
   "cell_type": "code",
   "execution_count": null,
   "id": "b7d0238a",
   "metadata": {},
   "outputs": [],
   "source": [
    "df.info()"
   ]
  },
  {
   "cell_type": "code",
   "execution_count": null,
   "id": "763f063a",
   "metadata": {},
   "outputs": [],
   "source": [
    "df['Productos'] = productos[:692]\n",
    "\n",
    "\n",
    "df = df.reindex(range(1995)).fillna(value=pd.np.nan)"
   ]
  },
  {
   "cell_type": "code",
   "execution_count": null,
   "id": "285c2f3d",
   "metadata": {},
   "outputs": [],
   "source": [
    "rating = df"
   ]
  },
  {
   "cell_type": "markdown",
   "id": "24135896",
   "metadata": {},
   "source": [
    "### 3. Unión entre los dataframes reviews y porductos."
   ]
  },
  {
   "cell_type": "code",
   "execution_count": null,
   "id": "5d4b52ec",
   "metadata": {},
   "outputs": [],
   "source": [
    "rating['Producto']=rating['Productos']"
   ]
  },
  {
   "cell_type": "code",
   "execution_count": null,
   "id": "aa6af455",
   "metadata": {},
   "outputs": [],
   "source": [
    "rating = rating.drop('Productos', axis=1)"
   ]
  },
  {
   "cell_type": "code",
   "execution_count": null,
   "id": "e0fa5d69",
   "metadata": {},
   "outputs": [],
   "source": [
    "rating.head()"
   ]
  },
  {
   "cell_type": "code",
   "execution_count": null,
   "id": "e56b91aa",
   "metadata": {},
   "outputs": [],
   "source": [
    "productos = pd.read_csv('productos.csv')"
   ]
  },
  {
   "cell_type": "code",
   "execution_count": null,
   "id": "094da5cd",
   "metadata": {},
   "outputs": [],
   "source": [
    "productos.head()"
   ]
  },
  {
   "cell_type": "code",
   "execution_count": null,
   "id": "0c6c46dc",
   "metadata": {},
   "outputs": [],
   "source": [
    "merged= pd.merge(productos, rating, on = 'Producto')"
   ]
  },
  {
   "cell_type": "code",
   "execution_count": null,
   "id": "2c77b143",
   "metadata": {},
   "outputs": [],
   "source": [
    "merged.head()"
   ]
  },
  {
   "cell_type": "markdown",
   "id": "49195070",
   "metadata": {},
   "source": [
    "**3.1 Limpieza del dataframe después de aplicar el merge.**"
   ]
  },
  {
   "cell_type": "code",
   "execution_count": null,
   "id": "9d7805c7",
   "metadata": {},
   "outputs": [],
   "source": [
    "merged['Products'] = merged['Brand'] + ' - ' + merged['Name']\n"
   ]
  },
  {
   "cell_type": "code",
   "execution_count": null,
   "id": "e7d35e02",
   "metadata": {},
   "outputs": [],
   "source": [
    "merged.head()"
   ]
  },
  {
   "cell_type": "code",
   "execution_count": null,
   "id": "12f27eb4",
   "metadata": {},
   "outputs": [],
   "source": [
    "merged = merged.drop(columns=['Brand','Name','Producto' , 'Unnamed: 0'], axis=1)"
   ]
  },
  {
   "cell_type": "code",
   "execution_count": null,
   "id": "355a7c38",
   "metadata": {},
   "outputs": [],
   "source": [
    "merged.head()"
   ]
  },
  {
   "cell_type": "code",
   "execution_count": null,
   "id": "efe5f540",
   "metadata": {},
   "outputs": [],
   "source": [
    "\n",
    "new_order = ['Type', 'Products','Skin','usuario_1','usuario_2','usuario_3','usuario_4','usuario_5','usuario_6','usuario_7','usuario_8','usuario_9','usuario_10']\n",
    "merged = merged.reindex(columns=new_order)"
   ]
  },
  {
   "cell_type": "code",
   "execution_count": null,
   "id": "5102a7f0",
   "metadata": {},
   "outputs": [],
   "source": [
    "merged.info()"
   ]
  },
  {
   "cell_type": "markdown",
   "id": "68d5338d",
   "metadata": {},
   "source": [
    "Vamos a transformar los rating en numeros float, para poder trabajar con estos datos posteriormente."
   ]
  },
  {
   "cell_type": "code",
   "execution_count": null,
   "id": "162040df",
   "metadata": {},
   "outputs": [],
   "source": [
    "\n",
    "cols_to_convert = [col for col in merged.columns if col not in ['Type', 'Products', 'Skin']]\n",
    "merged[cols_to_convert] = merged[cols_to_convert].applymap(lambda x: float(x))\n",
    "\n",
    "merged.info()"
   ]
  },
  {
   "cell_type": "code",
   "execution_count": null,
   "id": "a09ca89e",
   "metadata": {},
   "outputs": [],
   "source": [
    "merged.usuario_4.isnull().sum()"
   ]
  },
  {
   "cell_type": "code",
   "execution_count": null,
   "id": "81ff83a7",
   "metadata": {},
   "outputs": [],
   "source": [
    "merged.loc[merged[\"usuario_10\"].isnull()].head()"
   ]
  },
  {
   "cell_type": "markdown",
   "id": "9b4208d7",
   "metadata": {},
   "source": [
    "A continuación se van a eliminar aquellas filas, que tengan más de 6 valores nulos, puesto que son pocos los casos de productos con tan pocas reseñas."
   ]
  },
  {
   "cell_type": "code",
   "execution_count": null,
   "id": "5e9c42c3",
   "metadata": {},
   "outputs": [],
   "source": [
    "merged = merged.dropna(thresh=8)"
   ]
  },
  {
   "cell_type": "code",
   "execution_count": null,
   "id": "13255cbd",
   "metadata": {},
   "outputs": [],
   "source": [
    "merged.info()"
   ]
  },
  {
   "cell_type": "markdown",
   "id": "8c8713d9",
   "metadata": {},
   "source": [
    "Los nulos que nos quedan se van a sustituir por la media de la fila, ya que sería la media de las reviews que recibe el producto."
   ]
  },
  {
   "cell_type": "code",
   "execution_count": null,
   "id": "df63ef11",
   "metadata": {},
   "outputs": [],
   "source": [
    "cols = [col for col in merged.columns if col not in ['Type', 'Products', 'Skin']]\n",
    "merged['mean'] = merged[cols].mean(axis=1)[0]"
   ]
  },
  {
   "cell_type": "code",
   "execution_count": null,
   "id": "205a8b05",
   "metadata": {},
   "outputs": [],
   "source": [
    "merged['usuario_7'].isnull().sum()"
   ]
  },
  {
   "cell_type": "code",
   "execution_count": null,
   "id": "26d7def4",
   "metadata": {},
   "outputs": [],
   "source": [
    "merged.loc[merged[\"usuario_7\"].isnull()].head()"
   ]
  },
  {
   "cell_type": "code",
   "execution_count": null,
   "id": "9f11ce74",
   "metadata": {},
   "outputs": [],
   "source": [
    "merged['usuario_6'] = merged['usuario_6'].fillna(merged['mean'])"
   ]
  },
  {
   "cell_type": "code",
   "execution_count": null,
   "id": "d6615888",
   "metadata": {},
   "outputs": [],
   "source": [
    "merged['usuario_7'] = merged['usuario_7'].fillna(merged['mean'])"
   ]
  },
  {
   "cell_type": "code",
   "execution_count": null,
   "id": "b7ff2396",
   "metadata": {},
   "outputs": [],
   "source": [
    "merged['usuario_8'] = merged['usuario_8'].fillna(merged['mean'])"
   ]
  },
  {
   "cell_type": "code",
   "execution_count": null,
   "id": "8b36cc10",
   "metadata": {},
   "outputs": [],
   "source": [
    "merged['usuario_9'] = merged['usuario_9'].fillna(merged['mean'])"
   ]
  },
  {
   "cell_type": "code",
   "execution_count": null,
   "id": "bc393868",
   "metadata": {},
   "outputs": [],
   "source": [
    "merged['usuario_10'] = merged['usuario_10'].fillna(merged['mean'])"
   ]
  },
  {
   "cell_type": "code",
   "execution_count": null,
   "id": "01f8fbcd",
   "metadata": {},
   "outputs": [],
   "source": [
    "merged= merged.drop('mean', axis=1)"
   ]
  },
  {
   "cell_type": "markdown",
   "id": "e2e33cc9",
   "metadata": {},
   "source": [
    "### 4. Guardamos el dataframe final."
   ]
  },
  {
   "cell_type": "code",
   "execution_count": null,
   "id": "cd5f5881",
   "metadata": {},
   "outputs": [],
   "source": [
    "merged.to_csv('SKINCARE.csv', index=False)"
   ]
  },
  {
   "cell_type": "code",
   "execution_count": null,
   "id": "11e29378",
   "metadata": {},
   "outputs": [],
   "source": []
  }
 ],
 "metadata": {
  "kernelspec": {
   "display_name": "Python 3 (ipykernel)",
   "language": "python",
   "name": "python3"
  },
  "language_info": {
   "codemirror_mode": {
    "name": "ipython",
    "version": 3
   },
   "file_extension": ".py",
   "mimetype": "text/x-python",
   "name": "python",
   "nbconvert_exporter": "python",
   "pygments_lexer": "ipython3",
   "version": "3.9.13"
  }
 },
 "nbformat": 4,
 "nbformat_minor": 5
}
