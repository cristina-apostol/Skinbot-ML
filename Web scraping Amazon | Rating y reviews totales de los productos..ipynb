{
 "cells": [
  {
   "cell_type": "code",
   "execution_count": null,
   "id": "10b6d9eb",
   "metadata": {},
   "outputs": [],
   "source": [
    "import pandas as pd\n",
    "import numpy as np\n",
    "from selenium import webdriver\n",
    "from webdriver_manager.chrome import ChromeDriverManager\n",
    "from selenium.webdriver.common.by import By\n",
    "from selenium.webdriver.chrome.service import Service\n",
    "import time\n",
    "from tqdm.notebook import tqdm\n",
    "from selenium.webdriver.chrome.options import Options\n",
    "from selenium.common.exceptions import NoSuchElementException"
   ]
  },
  {
   "cell_type": "code",
   "execution_count": null,
   "id": "8bbde161",
   "metadata": {},
   "outputs": [],
   "source": [
    "with open('productos.txt', 'r') as f:\n",
    "    productos = f.read().splitlines()\n"
   ]
  },
  {
   "cell_type": "code",
   "execution_count": null,
   "id": "db08c34d",
   "metadata": {},
   "outputs": [],
   "source": [
    "options = webdriver.ChromeOptions()\n",
    "options.add_argument('--headless')\n",
    "driver = webdriver.Chrome(options=options)\n",
    "PATH = ChromeDriverManager().install()    \n",
    "driver = webdriver.Chrome(PATH)"
   ]
  },
  {
   "cell_type": "code",
   "execution_count": null,
   "id": "c25f92a3",
   "metadata": {},
   "outputs": [],
   "source": [
    "\n",
    "resultados = []\n",
    "\n",
    "\n",
    "productos_tqdm = tqdm(productos)\n",
    "\n",
    "for producto in productos_tqdm:\n",
    "\n",
    "    productos_tqdm.set_description(f\"Buscando {producto}\")\n",
    "    url = f'https://www.amazon.com/s?k={producto}&ref=nb_sb_noss&language=en_US'\n",
    "    driver.get(url)\n",
    "    time.sleep(2)\n",
    "\n",
    "    # Obtiene los nombres de los productos.\n",
    "    nombres_productos = driver.find_elements(By.XPATH, '//div[@class=\"a-section a-spacing-none a-spacing-top-small s-title-instructions-style\"]')\n",
    "\n",
    "    if len(nombres_productos) == 0:\n",
    "        resultados.append({'Producto': producto, 'Nombre encontrado': None, 'Nota': None, 'Reseñas': None})\n",
    "        continue\n",
    "\n",
    "    \n",
    "\n",
    "    # Obtiene la nota y el número de reseñas.\n",
    "    nota = driver.find_element(By.XPATH, '//span[@class=\"a-size-base\"]')\n",
    "    nota = nota.text if nota else None\n",
    "    num_resenas = driver.find_element(By.XPATH, '//span[@class=\"a-size-base s-underline-text\"]')\n",
    "    num_resenas = num_resenas.text if num_resenas else None\n",
    "\n",
    "\n",
    "    resultados.append({'Producto': producto, 'Nombre encontrado': nombres_productos[0].text, 'Nota': nota, 'Reseñas': num_resenas})\n",
    "    productos_tqdm.set_postfix(nota=nota, reseñas=num_resenas)\n",
    "\n",
    "\n",
    "driver.quit()\n",
    "\n",
    "\n",
    "\n"
   ]
  },
  {
   "cell_type": "code",
   "execution_count": null,
   "id": "e22446f1",
   "metadata": {},
   "outputs": [],
   "source": [
    "import json\n",
    "\n",
    "with open('review.json', 'w') as file:\n",
    "    json.dump(resultados, file)"
   ]
  },
  {
   "cell_type": "code",
   "execution_count": null,
   "id": "c3fe08d7",
   "metadata": {},
   "outputs": [],
   "source": []
  }
 ],
 "metadata": {
  "kernelspec": {
   "display_name": "Python 3 (ipykernel)",
   "language": "python",
   "name": "python3"
  },
  "language_info": {
   "codemirror_mode": {
    "name": "ipython",
    "version": 3
   },
   "file_extension": ".py",
   "mimetype": "text/x-python",
   "name": "python",
   "nbconvert_exporter": "python",
   "pygments_lexer": "ipython3",
   "version": "3.9.13"
  }
 },
 "nbformat": 4,
 "nbformat_minor": 5
}
