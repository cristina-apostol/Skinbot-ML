{
 "cells": [
  {
   "cell_type": "code",
   "execution_count": 8,
   "id": "83cefdcf",
   "metadata": {},
   "outputs": [],
   "source": [
    "import pandas as pd\n",
    "import numpy as np"
   ]
  },
  {
   "cell_type": "code",
   "execution_count": 9,
   "id": "3dbe4be2",
   "metadata": {},
   "outputs": [],
   "source": [
    "from selenium import webdriver"
   ]
  },
  {
   "cell_type": "code",
   "execution_count": 10,
   "id": "12fe185a",
   "metadata": {},
   "outputs": [
    {
     "name": "stdout",
     "output_type": "stream",
     "text": [
      "Requirement already satisfied: webdriver-manager in /home/usuario/anaconda3/lib/python3.9/site-packages (3.8.5)\n",
      "Requirement already satisfied: packaging in /home/usuario/anaconda3/lib/python3.9/site-packages (from webdriver-manager) (21.3)\n",
      "Requirement already satisfied: tqdm in /home/usuario/anaconda3/lib/python3.9/site-packages (from webdriver-manager) (4.64.1)\n",
      "Requirement already satisfied: python-dotenv in /home/usuario/anaconda3/lib/python3.9/site-packages (from webdriver-manager) (0.21.1)\n",
      "Requirement already satisfied: requests in /home/usuario/anaconda3/lib/python3.9/site-packages (from webdriver-manager) (2.28.1)\n",
      "Requirement already satisfied: pyparsing!=3.0.5,>=2.0.2 in /home/usuario/anaconda3/lib/python3.9/site-packages (from packaging->webdriver-manager) (3.0.9)\n",
      "Requirement already satisfied: certifi>=2017.4.17 in /home/usuario/anaconda3/lib/python3.9/site-packages (from requests->webdriver-manager) (2022.9.14)\n",
      "Requirement already satisfied: charset-normalizer<3,>=2 in /home/usuario/anaconda3/lib/python3.9/site-packages (from requests->webdriver-manager) (2.0.4)\n",
      "Requirement already satisfied: idna<4,>=2.5 in /home/usuario/anaconda3/lib/python3.9/site-packages (from requests->webdriver-manager) (3.3)\n",
      "Requirement already satisfied: urllib3<1.27,>=1.21.1 in /home/usuario/anaconda3/lib/python3.9/site-packages (from requests->webdriver-manager) (1.26.11)\n",
      "Note: you may need to restart the kernel to use updated packages.\n"
     ]
    }
   ],
   "source": [
    "%pip install webdriver-manager"
   ]
  },
  {
   "cell_type": "code",
   "execution_count": 11,
   "id": "49aac5f2",
   "metadata": {},
   "outputs": [],
   "source": [
    "from webdriver_manager.chrome import ChromeDriverManager\n",
    "from selenium.webdriver.common.by import By\n",
    "from selenium.webdriver.chrome.service import Service\n",
    "import time\n",
    "from tqdm.notebook import tqdm"
   ]
  },
  {
   "cell_type": "code",
   "execution_count": 29,
   "id": "388bf5a8",
   "metadata": {},
   "outputs": [
    {
     "ename": "IndentationError",
     "evalue": "unexpected indent (3771646508.py, line 43)",
     "output_type": "error",
     "traceback": [
      "\u001b[0;36m  File \u001b[0;32m\"/tmp/ipykernel_88601/3771646508.py\"\u001b[0;36m, line \u001b[0;32m43\u001b[0m\n\u001b[0;31m    return lst\u001b[0m\n\u001b[0m    ^\u001b[0m\n\u001b[0;31mIndentationError\u001b[0m\u001b[0;31m:\u001b[0m unexpected indent\n"
     ]
    }
   ],
   "source": [
    "def scrap(url):\n",
    "    PATH = ChromeDriverManager().install()    \n",
    "    driver = webdriver.Chrome(PATH)\n",
    "    driver.get(url)\n",
    "\n",
    "  \n",
    "    try:\n",
    "        cookies = driver.find_element(By.XPATH, '//*[@id=\"site-body\"]/div[2]/div/div[2]/div[3]/div/div[2]')\n",
    "        cookies.click()\n",
    "        time.sleep(1.5)\n",
    "        \n",
    "    except:\n",
    "        pass\n",
    "\n",
    "    lst = []\n",
    "    while True:\n",
    "        productos = driver.find_elements(By.CSS_SELECTOR, '.lg\\\\:h-full.w-full.flex.flex-col')\n",
    "        for producto in tqdm(productos, desc='Obteniendo productos'):\n",
    "            lst.append(producto.text.split('\\n'))\n",
    "            \n",
    "        print(f'Estamos en la página {driver.current_url}') \n",
    "'''\n",
    "        try:\n",
    "          \n",
    "            siguiente = driver.find_element(By.XPATH, '//a[@rel=\"next\"]')\n",
    "            \n",
    "            driver.execute_script(\"arguments[0].scrollIntoView();\", siguiente)\n",
    "            time.sleep(2)\n",
    "            \n",
    "            siguiente.click()\n",
    "            time.sleep(3)\n",
    "            \n",
    "         \n",
    "        except:\n",
    "            print('No se pudo hacer clic en el botón de la siguiente página.')\n",
    "            lst.append([])\n",
    "            break\n",
    "'''\n",
    "    \n",
    "    \n",
    "    driver.quit()\n",
    "\n",
    "    return lst"
   ]
  },
  {
   "cell_type": "code",
   "execution_count": 39,
   "id": "030e5b91",
   "metadata": {},
   "outputs": [],
   "source": [
    "def scrap(url):\n",
    "    PATH = ChromeDriverManager().install()    \n",
    "    driver = webdriver.Chrome(PATH)\n",
    "    driver.get(url)\n",
    "\n",
    "    try:\n",
    "        cookies = driver.find_element(By.XPATH, '//*[@id=\"site-body\"]/div[2]/div/div[2]/div[3]/div/div[2]')\n",
    "        cookies.click()\n",
    "        time.sleep(1.5)\n",
    "\n",
    "        lst = []\n",
    "        while True:\n",
    "            productos = driver.find_elements(By.CSS_SELECTOR, '.lg\\\\:h-full.w-full.flex.flex-col')\n",
    "            for producto in tqdm(productos, desc='Obteniendo productos'):\n",
    "                lst.append(producto.text.split('\\n'))\n",
    "\n",
    "            print(f'Estamos en la página {driver.current_url}') \n",
    "            break\n",
    "\n",
    "        return lst\n",
    "\n",
    "    except:\n",
    "        print('Error al obtener los datos.')\n",
    "        return []\n",
    "        \n",
    "    finally:\n",
    "        driver.quit()\n"
   ]
  },
  {
   "cell_type": "code",
   "execution_count": 41,
   "id": "e86f70b4",
   "metadata": {},
   "outputs": [],
   "source": []
  },
  {
   "cell_type": "code",
   "execution_count": 42,
   "id": "dd0213f5",
   "metadata": {},
   "outputs": [
    {
     "name": "stderr",
     "output_type": "stream",
     "text": [
      "2023-03-09 12:33:59,714 [88601] WARNING  py.warnings:109: [JupyterRequire] /tmp/ipykernel_88601/4040571658.py:3: DeprecationWarning: executable_path has been deprecated, please pass in a Service object\n",
      "  driver = webdriver.Chrome(PATH)\n",
      "\n"
     ]
    },
    {
     "data": {
      "application/vnd.jupyter.widget-view+json": {
       "model_id": "3f195132fe3045479eace902763e735c",
       "version_major": 2,
       "version_minor": 0
      },
      "text/plain": [
       "Obteniendo productos:   0%|          | 0/30 [00:00<?, ?it/s]"
      ]
     },
     "metadata": {},
     "output_type": "display_data"
    },
    {
     "name": "stdout",
     "output_type": "stream",
     "text": [
      "Estamos en la página https://skinsort.com/products//page/1\n"
     ]
    },
    {
     "data": {
      "application/vnd.jupyter.widget-view+json": {
       "model_id": "61b2f389f56f4f78b2f73ec7fbcc4847",
       "version_major": 2,
       "version_minor": 0
      },
      "text/plain": [
       "Obteniendo productos:   0%|          | 0/30 [00:00<?, ?it/s]"
      ]
     },
     "metadata": {},
     "output_type": "display_data"
    },
    {
     "name": "stdout",
     "output_type": "stream",
     "text": [
      "Estamos en la página https://skinsort.com/products//page/2\n"
     ]
    },
    {
     "data": {
      "application/vnd.jupyter.widget-view+json": {
       "model_id": "14216cf5ba874a3eb92324c9bf979c1a",
       "version_major": 2,
       "version_minor": 0
      },
      "text/plain": [
       "Obteniendo productos:   0%|          | 0/30 [00:00<?, ?it/s]"
      ]
     },
     "metadata": {},
     "output_type": "display_data"
    },
    {
     "name": "stdout",
     "output_type": "stream",
     "text": [
      "Estamos en la página https://skinsort.com/products//page/3\n"
     ]
    },
    {
     "data": {
      "application/vnd.jupyter.widget-view+json": {
       "model_id": "aa29ed7340d74927b08808a1303512cd",
       "version_major": 2,
       "version_minor": 0
      },
      "text/plain": [
       "Obteniendo productos:   0%|          | 0/30 [00:00<?, ?it/s]"
      ]
     },
     "metadata": {},
     "output_type": "display_data"
    },
    {
     "name": "stdout",
     "output_type": "stream",
     "text": [
      "Estamos en la página https://skinsort.com/products//page/4\n"
     ]
    },
    {
     "data": {
      "application/vnd.jupyter.widget-view+json": {
       "model_id": "755e5ef594d34bd5b462112ff053918e",
       "version_major": 2,
       "version_minor": 0
      },
      "text/plain": [
       "Obteniendo productos:   0%|          | 0/30 [00:00<?, ?it/s]"
      ]
     },
     "metadata": {},
     "output_type": "display_data"
    },
    {
     "name": "stdout",
     "output_type": "stream",
     "text": [
      "Estamos en la página https://skinsort.com/products//page/5\n",
      "Error al obtener los datos.\n"
     ]
    },
    {
     "data": {
      "application/vnd.jupyter.widget-view+json": {
       "model_id": "43e6c62454a54303928c3e981a23ee2c",
       "version_major": 2,
       "version_minor": 0
      },
      "text/plain": [
       "Obteniendo productos:   0%|          | 0/30 [00:00<?, ?it/s]"
      ]
     },
     "metadata": {},
     "output_type": "display_data"
    },
    {
     "name": "stdout",
     "output_type": "stream",
     "text": [
      "Estamos en la página https://skinsort.com/products//page/7\n"
     ]
    },
    {
     "data": {
      "application/vnd.jupyter.widget-view+json": {
       "model_id": "dd048107eb444de4ac1abffaad9b40ad",
       "version_major": 2,
       "version_minor": 0
      },
      "text/plain": [
       "Obteniendo productos:   0%|          | 0/30 [00:00<?, ?it/s]"
      ]
     },
     "metadata": {},
     "output_type": "display_data"
    },
    {
     "name": "stdout",
     "output_type": "stream",
     "text": [
      "Estamos en la página https://skinsort.com/products//page/8\n"
     ]
    },
    {
     "data": {
      "application/vnd.jupyter.widget-view+json": {
       "model_id": "a81a9ddb1a5e48e7ba8ac0ab4d921508",
       "version_major": 2,
       "version_minor": 0
      },
      "text/plain": [
       "Obteniendo productos:   0%|          | 0/30 [00:00<?, ?it/s]"
      ]
     },
     "metadata": {},
     "output_type": "display_data"
    },
    {
     "name": "stdout",
     "output_type": "stream",
     "text": [
      "Estamos en la página https://skinsort.com/products//page/9\n"
     ]
    },
    {
     "data": {
      "application/vnd.jupyter.widget-view+json": {
       "model_id": "7e11de1bdd4440b384ca0851fc0f5c09",
       "version_major": 2,
       "version_minor": 0
      },
      "text/plain": [
       "Obteniendo productos:   0%|          | 0/30 [00:00<?, ?it/s]"
      ]
     },
     "metadata": {},
     "output_type": "display_data"
    },
    {
     "name": "stdout",
     "output_type": "stream",
     "text": [
      "Estamos en la página https://skinsort.com/products//page/10\n"
     ]
    },
    {
     "data": {
      "application/vnd.jupyter.widget-view+json": {
       "model_id": "876229ffbc7b49d6a12d35a297a8f19f",
       "version_major": 2,
       "version_minor": 0
      },
      "text/plain": [
       "Obteniendo productos:   0%|          | 0/30 [00:00<?, ?it/s]"
      ]
     },
     "metadata": {},
     "output_type": "display_data"
    },
    {
     "name": "stdout",
     "output_type": "stream",
     "text": [
      "Estamos en la página https://skinsort.com/products//page/11\n"
     ]
    },
    {
     "data": {
      "application/vnd.jupyter.widget-view+json": {
       "model_id": "dd33fbcdad69484f951ddc34ea3a23c9",
       "version_major": 2,
       "version_minor": 0
      },
      "text/plain": [
       "Obteniendo productos:   0%|          | 0/30 [00:00<?, ?it/s]"
      ]
     },
     "metadata": {},
     "output_type": "display_data"
    },
    {
     "name": "stdout",
     "output_type": "stream",
     "text": [
      "Estamos en la página https://skinsort.com/products//page/12\n"
     ]
    },
    {
     "data": {
      "application/vnd.jupyter.widget-view+json": {
       "model_id": "f6e01cca93fe4cb3957b6525d61c329f",
       "version_major": 2,
       "version_minor": 0
      },
      "text/plain": [
       "Obteniendo productos:   0%|          | 0/30 [00:00<?, ?it/s]"
      ]
     },
     "metadata": {},
     "output_type": "display_data"
    },
    {
     "name": "stdout",
     "output_type": "stream",
     "text": [
      "Estamos en la página https://skinsort.com/products//page/13\n"
     ]
    },
    {
     "data": {
      "application/vnd.jupyter.widget-view+json": {
       "model_id": "6db0455598994740b081ceeb173bbff5",
       "version_major": 2,
       "version_minor": 0
      },
      "text/plain": [
       "Obteniendo productos:   0%|          | 0/30 [00:00<?, ?it/s]"
      ]
     },
     "metadata": {},
     "output_type": "display_data"
    },
    {
     "name": "stdout",
     "output_type": "stream",
     "text": [
      "Estamos en la página https://skinsort.com/products//page/14\n"
     ]
    },
    {
     "data": {
      "application/vnd.jupyter.widget-view+json": {
       "model_id": "d7f14784e68c4c3ebea0a88dbe5b2c5e",
       "version_major": 2,
       "version_minor": 0
      },
      "text/plain": [
       "Obteniendo productos:   0%|          | 0/30 [00:00<?, ?it/s]"
      ]
     },
     "metadata": {},
     "output_type": "display_data"
    },
    {
     "name": "stdout",
     "output_type": "stream",
     "text": [
      "Estamos en la página https://skinsort.com/products//page/15\n"
     ]
    },
    {
     "data": {
      "application/vnd.jupyter.widget-view+json": {
       "model_id": "a89e85d0bea04d72ba1a0e3ca54f5f1b",
       "version_major": 2,
       "version_minor": 0
      },
      "text/plain": [
       "Obteniendo productos:   0%|          | 0/30 [00:00<?, ?it/s]"
      ]
     },
     "metadata": {},
     "output_type": "display_data"
    },
    {
     "name": "stdout",
     "output_type": "stream",
     "text": [
      "Estamos en la página https://skinsort.com/products//page/16\n"
     ]
    },
    {
     "data": {
      "application/vnd.jupyter.widget-view+json": {
       "model_id": "d91292d638b44da09d6f4374717ca318",
       "version_major": 2,
       "version_minor": 0
      },
      "text/plain": [
       "Obteniendo productos:   0%|          | 0/30 [00:00<?, ?it/s]"
      ]
     },
     "metadata": {},
     "output_type": "display_data"
    },
    {
     "name": "stdout",
     "output_type": "stream",
     "text": [
      "Estamos en la página https://skinsort.com/products//page/17\n",
      "Error al obtener los datos.\n"
     ]
    },
    {
     "data": {
      "application/vnd.jupyter.widget-view+json": {
       "model_id": "5d02a57357324f0096a9ac7370261c76",
       "version_major": 2,
       "version_minor": 0
      },
      "text/plain": [
       "Obteniendo productos:   0%|          | 0/30 [00:00<?, ?it/s]"
      ]
     },
     "metadata": {},
     "output_type": "display_data"
    },
    {
     "name": "stdout",
     "output_type": "stream",
     "text": [
      "Estamos en la página https://skinsort.com/products//page/19\n"
     ]
    },
    {
     "data": {
      "application/vnd.jupyter.widget-view+json": {
       "model_id": "23f9eb3055494924ad91bb111eac0931",
       "version_major": 2,
       "version_minor": 0
      },
      "text/plain": [
       "Obteniendo productos:   0%|          | 0/30 [00:00<?, ?it/s]"
      ]
     },
     "metadata": {},
     "output_type": "display_data"
    },
    {
     "name": "stdout",
     "output_type": "stream",
     "text": [
      "Estamos en la página https://skinsort.com/products//page/20\n"
     ]
    },
    {
     "data": {
      "application/vnd.jupyter.widget-view+json": {
       "model_id": "e0daa06ff47b4b3e84e12f64303903b3",
       "version_major": 2,
       "version_minor": 0
      },
      "text/plain": [
       "Obteniendo productos:   0%|          | 0/30 [00:00<?, ?it/s]"
      ]
     },
     "metadata": {},
     "output_type": "display_data"
    },
    {
     "name": "stdout",
     "output_type": "stream",
     "text": [
      "Estamos en la página https://skinsort.com/products//page/21\n"
     ]
    },
    {
     "data": {
      "application/vnd.jupyter.widget-view+json": {
       "model_id": "b65907a73b084caebb8993afad8e8f20",
       "version_major": 2,
       "version_minor": 0
      },
      "text/plain": [
       "Obteniendo productos:   0%|          | 0/30 [00:00<?, ?it/s]"
      ]
     },
     "metadata": {},
     "output_type": "display_data"
    },
    {
     "name": "stdout",
     "output_type": "stream",
     "text": [
      "Estamos en la página https://skinsort.com/products//page/22\n"
     ]
    },
    {
     "data": {
      "application/vnd.jupyter.widget-view+json": {
       "model_id": "cd9fc108497741d5a89271d3d1b36434",
       "version_major": 2,
       "version_minor": 0
      },
      "text/plain": [
       "Obteniendo productos:   0%|          | 0/30 [00:00<?, ?it/s]"
      ]
     },
     "metadata": {},
     "output_type": "display_data"
    },
    {
     "name": "stdout",
     "output_type": "stream",
     "text": [
      "Estamos en la página https://skinsort.com/products//page/23\n"
     ]
    },
    {
     "data": {
      "application/vnd.jupyter.widget-view+json": {
       "model_id": "c8b74e03d9ef411b9cb65bcba61d451d",
       "version_major": 2,
       "version_minor": 0
      },
      "text/plain": [
       "Obteniendo productos:   0%|          | 0/30 [00:00<?, ?it/s]"
      ]
     },
     "metadata": {},
     "output_type": "display_data"
    },
    {
     "name": "stdout",
     "output_type": "stream",
     "text": [
      "Estamos en la página https://skinsort.com/products//page/24\n"
     ]
    },
    {
     "data": {
      "application/vnd.jupyter.widget-view+json": {
       "model_id": "b0ede29f066a4421a96f74b93b6e7e51",
       "version_major": 2,
       "version_minor": 0
      },
      "text/plain": [
       "Obteniendo productos:   0%|          | 0/30 [00:00<?, ?it/s]"
      ]
     },
     "metadata": {},
     "output_type": "display_data"
    },
    {
     "name": "stdout",
     "output_type": "stream",
     "text": [
      "Estamos en la página https://skinsort.com/products//page/25\n"
     ]
    },
    {
     "data": {
      "application/vnd.jupyter.widget-view+json": {
       "model_id": "b2297f1997ed4e45b1901bb3043768ac",
       "version_major": 2,
       "version_minor": 0
      },
      "text/plain": [
       "Obteniendo productos:   0%|          | 0/30 [00:00<?, ?it/s]"
      ]
     },
     "metadata": {},
     "output_type": "display_data"
    },
    {
     "name": "stdout",
     "output_type": "stream",
     "text": [
      "Estamos en la página https://skinsort.com/products//page/26\n"
     ]
    },
    {
     "data": {
      "application/vnd.jupyter.widget-view+json": {
       "model_id": "ba744aaea3b740e79c5f844e4cd2137b",
       "version_major": 2,
       "version_minor": 0
      },
      "text/plain": [
       "Obteniendo productos:   0%|          | 0/30 [00:00<?, ?it/s]"
      ]
     },
     "metadata": {},
     "output_type": "display_data"
    },
    {
     "name": "stdout",
     "output_type": "stream",
     "text": [
      "Estamos en la página https://skinsort.com/products//page/27\n"
     ]
    },
    {
     "data": {
      "application/vnd.jupyter.widget-view+json": {
       "model_id": "bec2ed672a5848fcb88feb3392fe2374",
       "version_major": 2,
       "version_minor": 0
      },
      "text/plain": [
       "Obteniendo productos:   0%|          | 0/30 [00:00<?, ?it/s]"
      ]
     },
     "metadata": {},
     "output_type": "display_data"
    },
    {
     "name": "stdout",
     "output_type": "stream",
     "text": [
      "Estamos en la página https://skinsort.com/products//page/28\n"
     ]
    },
    {
     "data": {
      "application/vnd.jupyter.widget-view+json": {
       "model_id": "0b3bfe2e365f4bb280a0e3264e9b9c32",
       "version_major": 2,
       "version_minor": 0
      },
      "text/plain": [
       "Obteniendo productos:   0%|          | 0/30 [00:00<?, ?it/s]"
      ]
     },
     "metadata": {},
     "output_type": "display_data"
    },
    {
     "name": "stdout",
     "output_type": "stream",
     "text": [
      "Estamos en la página https://skinsort.com/products//page/29\n"
     ]
    },
    {
     "data": {
      "application/vnd.jupyter.widget-view+json": {
       "model_id": "1d5080e3dfec4491b6d8ddd56b7c07c9",
       "version_major": 2,
       "version_minor": 0
      },
      "text/plain": [
       "Obteniendo productos:   0%|          | 0/30 [00:00<?, ?it/s]"
      ]
     },
     "metadata": {},
     "output_type": "display_data"
    },
    {
     "name": "stdout",
     "output_type": "stream",
     "text": [
      "Estamos en la página https://skinsort.com/products//page/30\n"
     ]
    },
    {
     "data": {
      "application/vnd.jupyter.widget-view+json": {
       "model_id": "d7acf506188941ee9a4f6b14019e73b6",
       "version_major": 2,
       "version_minor": 0
      },
      "text/plain": [
       "Obteniendo productos:   0%|          | 0/30 [00:00<?, ?it/s]"
      ]
     },
     "metadata": {},
     "output_type": "display_data"
    },
    {
     "name": "stdout",
     "output_type": "stream",
     "text": [
      "Estamos en la página https://skinsort.com/products//page/31\n"
     ]
    },
    {
     "data": {
      "application/vnd.jupyter.widget-view+json": {
       "model_id": "c88e696b76234bc39719d3711246437f",
       "version_major": 2,
       "version_minor": 0
      },
      "text/plain": [
       "Obteniendo productos:   0%|          | 0/30 [00:00<?, ?it/s]"
      ]
     },
     "metadata": {},
     "output_type": "display_data"
    },
    {
     "name": "stdout",
     "output_type": "stream",
     "text": [
      "Estamos en la página https://skinsort.com/products//page/32\n"
     ]
    },
    {
     "data": {
      "application/vnd.jupyter.widget-view+json": {
       "model_id": "96ffd2dd37bc4ded8b5f2d0915c52051",
       "version_major": 2,
       "version_minor": 0
      },
      "text/plain": [
       "Obteniendo productos:   0%|          | 0/30 [00:00<?, ?it/s]"
      ]
     },
     "metadata": {},
     "output_type": "display_data"
    },
    {
     "name": "stdout",
     "output_type": "stream",
     "text": [
      "Estamos en la página https://skinsort.com/products//page/33\n"
     ]
    },
    {
     "data": {
      "application/vnd.jupyter.widget-view+json": {
       "model_id": "6e4c7d0d23e94a81a74ee6f44284a322",
       "version_major": 2,
       "version_minor": 0
      },
      "text/plain": [
       "Obteniendo productos:   0%|          | 0/30 [00:00<?, ?it/s]"
      ]
     },
     "metadata": {},
     "output_type": "display_data"
    },
    {
     "name": "stdout",
     "output_type": "stream",
     "text": [
      "Estamos en la página https://skinsort.com/products//page/34\n"
     ]
    },
    {
     "data": {
      "application/vnd.jupyter.widget-view+json": {
       "model_id": "6d61f96c1b014b23be94bbafdd7a5126",
       "version_major": 2,
       "version_minor": 0
      },
      "text/plain": [
       "Obteniendo productos:   0%|          | 0/30 [00:00<?, ?it/s]"
      ]
     },
     "metadata": {},
     "output_type": "display_data"
    },
    {
     "name": "stdout",
     "output_type": "stream",
     "text": [
      "Estamos en la página https://skinsort.com/products//page/35\n"
     ]
    },
    {
     "data": {
      "application/vnd.jupyter.widget-view+json": {
       "model_id": "c60529ce02b74391bc4cc3734e306ac8",
       "version_major": 2,
       "version_minor": 0
      },
      "text/plain": [
       "Obteniendo productos:   0%|          | 0/30 [00:00<?, ?it/s]"
      ]
     },
     "metadata": {},
     "output_type": "display_data"
    },
    {
     "name": "stdout",
     "output_type": "stream",
     "text": [
      "Estamos en la página https://skinsort.com/products//page/36\n"
     ]
    },
    {
     "data": {
      "application/vnd.jupyter.widget-view+json": {
       "model_id": "0d1cc4a1e64848c2b2ea1673529437c9",
       "version_major": 2,
       "version_minor": 0
      },
      "text/plain": [
       "Obteniendo productos:   0%|          | 0/30 [00:00<?, ?it/s]"
      ]
     },
     "metadata": {},
     "output_type": "display_data"
    },
    {
     "name": "stdout",
     "output_type": "stream",
     "text": [
      "Estamos en la página https://skinsort.com/products//page/37\n"
     ]
    },
    {
     "data": {
      "application/vnd.jupyter.widget-view+json": {
       "model_id": "9a54ee95c05a4ce49af1ba0a6d24991d",
       "version_major": 2,
       "version_minor": 0
      },
      "text/plain": [
       "Obteniendo productos:   0%|          | 0/30 [00:00<?, ?it/s]"
      ]
     },
     "metadata": {},
     "output_type": "display_data"
    },
    {
     "name": "stdout",
     "output_type": "stream",
     "text": [
      "Estamos en la página https://skinsort.com/products//page/38\n"
     ]
    },
    {
     "data": {
      "application/vnd.jupyter.widget-view+json": {
       "model_id": "5dec2ab4e93c475998feb65025ea2b5d",
       "version_major": 2,
       "version_minor": 0
      },
      "text/plain": [
       "Obteniendo productos:   0%|          | 0/30 [00:00<?, ?it/s]"
      ]
     },
     "metadata": {},
     "output_type": "display_data"
    },
    {
     "name": "stdout",
     "output_type": "stream",
     "text": [
      "Estamos en la página https://skinsort.com/products//page/39\n"
     ]
    },
    {
     "data": {
      "application/vnd.jupyter.widget-view+json": {
       "model_id": "771fb35629644a17926a38b559301e5b",
       "version_major": 2,
       "version_minor": 0
      },
      "text/plain": [
       "Obteniendo productos:   0%|          | 0/30 [00:00<?, ?it/s]"
      ]
     },
     "metadata": {},
     "output_type": "display_data"
    },
    {
     "name": "stdout",
     "output_type": "stream",
     "text": [
      "Estamos en la página https://skinsort.com/products//page/40\n"
     ]
    },
    {
     "data": {
      "application/vnd.jupyter.widget-view+json": {
       "model_id": "08d4c31fae114daf8c3183216eecf82d",
       "version_major": 2,
       "version_minor": 0
      },
      "text/plain": [
       "Obteniendo productos:   0%|          | 0/30 [00:00<?, ?it/s]"
      ]
     },
     "metadata": {},
     "output_type": "display_data"
    },
    {
     "name": "stdout",
     "output_type": "stream",
     "text": [
      "Estamos en la página https://skinsort.com/products//page/41\n"
     ]
    },
    {
     "data": {
      "application/vnd.jupyter.widget-view+json": {
       "model_id": "3263a16de46f43c3a4f3aee0813598d5",
       "version_major": 2,
       "version_minor": 0
      },
      "text/plain": [
       "Obteniendo productos:   0%|          | 0/30 [00:00<?, ?it/s]"
      ]
     },
     "metadata": {},
     "output_type": "display_data"
    },
    {
     "name": "stdout",
     "output_type": "stream",
     "text": [
      "Estamos en la página https://skinsort.com/products//page/42\n"
     ]
    },
    {
     "data": {
      "application/vnd.jupyter.widget-view+json": {
       "model_id": "0703d42bccde4080a88dedae816fccee",
       "version_major": 2,
       "version_minor": 0
      },
      "text/plain": [
       "Obteniendo productos:   0%|          | 0/30 [00:00<?, ?it/s]"
      ]
     },
     "metadata": {},
     "output_type": "display_data"
    },
    {
     "name": "stdout",
     "output_type": "stream",
     "text": [
      "Estamos en la página https://skinsort.com/products//page/43\n"
     ]
    },
    {
     "data": {
      "application/vnd.jupyter.widget-view+json": {
       "model_id": "e60292690c7b4b1db17c1ded93425cd9",
       "version_major": 2,
       "version_minor": 0
      },
      "text/plain": [
       "Obteniendo productos:   0%|          | 0/30 [00:00<?, ?it/s]"
      ]
     },
     "metadata": {},
     "output_type": "display_data"
    },
    {
     "name": "stdout",
     "output_type": "stream",
     "text": [
      "Estamos en la página https://skinsort.com/products//page/44\n"
     ]
    },
    {
     "data": {
      "application/vnd.jupyter.widget-view+json": {
       "model_id": "b7765b7127c04c25a66adf620e795c18",
       "version_major": 2,
       "version_minor": 0
      },
      "text/plain": [
       "Obteniendo productos:   0%|          | 0/30 [00:00<?, ?it/s]"
      ]
     },
     "metadata": {},
     "output_type": "display_data"
    },
    {
     "name": "stdout",
     "output_type": "stream",
     "text": [
      "Estamos en la página https://skinsort.com/products//page/45\n"
     ]
    },
    {
     "data": {
      "application/vnd.jupyter.widget-view+json": {
       "model_id": "4cd6167b34e842b19755685b9f32e5e2",
       "version_major": 2,
       "version_minor": 0
      },
      "text/plain": [
       "Obteniendo productos:   0%|          | 0/30 [00:00<?, ?it/s]"
      ]
     },
     "metadata": {},
     "output_type": "display_data"
    },
    {
     "name": "stdout",
     "output_type": "stream",
     "text": [
      "Estamos en la página https://skinsort.com/products//page/46\n"
     ]
    },
    {
     "data": {
      "application/vnd.jupyter.widget-view+json": {
       "model_id": "6f0b8adf08cb4b0d935af12005eda52e",
       "version_major": 2,
       "version_minor": 0
      },
      "text/plain": [
       "Obteniendo productos:   0%|          | 0/30 [00:00<?, ?it/s]"
      ]
     },
     "metadata": {},
     "output_type": "display_data"
    },
    {
     "name": "stdout",
     "output_type": "stream",
     "text": [
      "Estamos en la página https://skinsort.com/products//page/47\n"
     ]
    },
    {
     "data": {
      "application/vnd.jupyter.widget-view+json": {
       "model_id": "ddb49c8d24da46af8e6ea4a89243d665",
       "version_major": 2,
       "version_minor": 0
      },
      "text/plain": [
       "Obteniendo productos:   0%|          | 0/30 [00:00<?, ?it/s]"
      ]
     },
     "metadata": {},
     "output_type": "display_data"
    },
    {
     "name": "stdout",
     "output_type": "stream",
     "text": [
      "Estamos en la página https://skinsort.com/products//page/48\n"
     ]
    },
    {
     "data": {
      "application/vnd.jupyter.widget-view+json": {
       "model_id": "a23cf1afd77946c281ad5dad21317ad3",
       "version_major": 2,
       "version_minor": 0
      },
      "text/plain": [
       "Obteniendo productos:   0%|          | 0/30 [00:00<?, ?it/s]"
      ]
     },
     "metadata": {},
     "output_type": "display_data"
    },
    {
     "name": "stdout",
     "output_type": "stream",
     "text": [
      "Estamos en la página https://skinsort.com/products//page/49\n"
     ]
    },
    {
     "data": {
      "application/vnd.jupyter.widget-view+json": {
       "model_id": "4a2b902cd8dc44bab27917a32d897077",
       "version_major": 2,
       "version_minor": 0
      },
      "text/plain": [
       "Obteniendo productos:   0%|          | 0/30 [00:00<?, ?it/s]"
      ]
     },
     "metadata": {},
     "output_type": "display_data"
    },
    {
     "name": "stdout",
     "output_type": "stream",
     "text": [
      "Estamos en la página https://skinsort.com/products//page/50\n"
     ]
    },
    {
     "data": {
      "application/vnd.jupyter.widget-view+json": {
       "model_id": "d0c4d6cf549842b591667b9c09ca8bd0",
       "version_major": 2,
       "version_minor": 0
      },
      "text/plain": [
       "Obteniendo productos:   0%|          | 0/30 [00:00<?, ?it/s]"
      ]
     },
     "metadata": {},
     "output_type": "display_data"
    },
    {
     "name": "stdout",
     "output_type": "stream",
     "text": [
      "Estamos en la página https://skinsort.com/products//page/51\n"
     ]
    },
    {
     "data": {
      "application/vnd.jupyter.widget-view+json": {
       "model_id": "1d3e4818fa4d4cdd99e771328c57705e",
       "version_major": 2,
       "version_minor": 0
      },
      "text/plain": [
       "Obteniendo productos:   0%|          | 0/30 [00:00<?, ?it/s]"
      ]
     },
     "metadata": {},
     "output_type": "display_data"
    },
    {
     "name": "stdout",
     "output_type": "stream",
     "text": [
      "Estamos en la página https://skinsort.com/products//page/52\n"
     ]
    },
    {
     "data": {
      "application/vnd.jupyter.widget-view+json": {
       "model_id": "7dd82afe29c74db09565fa5aed0c09df",
       "version_major": 2,
       "version_minor": 0
      },
      "text/plain": [
       "Obteniendo productos:   0%|          | 0/30 [00:00<?, ?it/s]"
      ]
     },
     "metadata": {},
     "output_type": "display_data"
    },
    {
     "name": "stdout",
     "output_type": "stream",
     "text": [
      "Estamos en la página https://skinsort.com/products//page/53\n"
     ]
    },
    {
     "data": {
      "application/vnd.jupyter.widget-view+json": {
       "model_id": "d0460f24e4e840b58eb8537f2dcaa3f2",
       "version_major": 2,
       "version_minor": 0
      },
      "text/plain": [
       "Obteniendo productos:   0%|          | 0/30 [00:00<?, ?it/s]"
      ]
     },
     "metadata": {},
     "output_type": "display_data"
    },
    {
     "name": "stdout",
     "output_type": "stream",
     "text": [
      "Estamos en la página https://skinsort.com/products//page/54\n"
     ]
    },
    {
     "data": {
      "application/vnd.jupyter.widget-view+json": {
       "model_id": "db5d162f991840db8270c05e9b7752a0",
       "version_major": 2,
       "version_minor": 0
      },
      "text/plain": [
       "Obteniendo productos:   0%|          | 0/30 [00:00<?, ?it/s]"
      ]
     },
     "metadata": {},
     "output_type": "display_data"
    },
    {
     "name": "stdout",
     "output_type": "stream",
     "text": [
      "Estamos en la página https://skinsort.com/products//page/55\n"
     ]
    },
    {
     "data": {
      "application/vnd.jupyter.widget-view+json": {
       "model_id": "ef9e6fef397346988d39679f5be4ffe8",
       "version_major": 2,
       "version_minor": 0
      },
      "text/plain": [
       "Obteniendo productos:   0%|          | 0/30 [00:00<?, ?it/s]"
      ]
     },
     "metadata": {},
     "output_type": "display_data"
    },
    {
     "name": "stdout",
     "output_type": "stream",
     "text": [
      "Estamos en la página https://skinsort.com/products//page/56\n"
     ]
    },
    {
     "data": {
      "application/vnd.jupyter.widget-view+json": {
       "model_id": "e1b8972e09e64e4299e366e4b57f6d84",
       "version_major": 2,
       "version_minor": 0
      },
      "text/plain": [
       "Obteniendo productos:   0%|          | 0/30 [00:00<?, ?it/s]"
      ]
     },
     "metadata": {},
     "output_type": "display_data"
    },
    {
     "name": "stdout",
     "output_type": "stream",
     "text": [
      "Estamos en la página https://skinsort.com/products//page/57\n"
     ]
    },
    {
     "data": {
      "application/vnd.jupyter.widget-view+json": {
       "model_id": "b1f93304344849a6a6f0e0a3316dfff3",
       "version_major": 2,
       "version_minor": 0
      },
      "text/plain": [
       "Obteniendo productos:   0%|          | 0/30 [00:00<?, ?it/s]"
      ]
     },
     "metadata": {},
     "output_type": "display_data"
    },
    {
     "name": "stdout",
     "output_type": "stream",
     "text": [
      "Estamos en la página https://skinsort.com/products//page/58\n"
     ]
    },
    {
     "data": {
      "application/vnd.jupyter.widget-view+json": {
       "model_id": "748157a606874181bbd775e8942e12e0",
       "version_major": 2,
       "version_minor": 0
      },
      "text/plain": [
       "Obteniendo productos:   0%|          | 0/30 [00:00<?, ?it/s]"
      ]
     },
     "metadata": {},
     "output_type": "display_data"
    },
    {
     "name": "stdout",
     "output_type": "stream",
     "text": [
      "Estamos en la página https://skinsort.com/products//page/59\n"
     ]
    },
    {
     "data": {
      "application/vnd.jupyter.widget-view+json": {
       "model_id": "7793e3c6df7247eaaf50c35459a4b9cb",
       "version_major": 2,
       "version_minor": 0
      },
      "text/plain": [
       "Obteniendo productos:   0%|          | 0/30 [00:00<?, ?it/s]"
      ]
     },
     "metadata": {},
     "output_type": "display_data"
    },
    {
     "name": "stdout",
     "output_type": "stream",
     "text": [
      "Estamos en la página https://skinsort.com/products//page/60\n"
     ]
    },
    {
     "data": {
      "application/vnd.jupyter.widget-view+json": {
       "model_id": "7969c8c9237e483c9a6d197d25849b0b",
       "version_major": 2,
       "version_minor": 0
      },
      "text/plain": [
       "Obteniendo productos:   0%|          | 0/30 [00:00<?, ?it/s]"
      ]
     },
     "metadata": {},
     "output_type": "display_data"
    },
    {
     "name": "stdout",
     "output_type": "stream",
     "text": [
      "Estamos en la página https://skinsort.com/products//page/61\n"
     ]
    },
    {
     "data": {
      "application/vnd.jupyter.widget-view+json": {
       "model_id": "b0a5f80003b34a60a417944b643512c8",
       "version_major": 2,
       "version_minor": 0
      },
      "text/plain": [
       "Obteniendo productos:   0%|          | 0/30 [00:00<?, ?it/s]"
      ]
     },
     "metadata": {},
     "output_type": "display_data"
    },
    {
     "name": "stdout",
     "output_type": "stream",
     "text": [
      "Estamos en la página https://skinsort.com/products//page/62\n"
     ]
    },
    {
     "data": {
      "application/vnd.jupyter.widget-view+json": {
       "model_id": "f3a3cef6dd8a4823a48bc9891084eb1d",
       "version_major": 2,
       "version_minor": 0
      },
      "text/plain": [
       "Obteniendo productos:   0%|          | 0/30 [00:00<?, ?it/s]"
      ]
     },
     "metadata": {},
     "output_type": "display_data"
    },
    {
     "name": "stdout",
     "output_type": "stream",
     "text": [
      "Estamos en la página https://skinsort.com/products//page/63\n"
     ]
    },
    {
     "data": {
      "application/vnd.jupyter.widget-view+json": {
       "model_id": "69c5d7ff426543baa8d270c97197ebf4",
       "version_major": 2,
       "version_minor": 0
      },
      "text/plain": [
       "Obteniendo productos:   0%|          | 0/30 [00:00<?, ?it/s]"
      ]
     },
     "metadata": {},
     "output_type": "display_data"
    },
    {
     "name": "stdout",
     "output_type": "stream",
     "text": [
      "Estamos en la página https://skinsort.com/products//page/64\n"
     ]
    },
    {
     "data": {
      "application/vnd.jupyter.widget-view+json": {
       "model_id": "3aad3eed764a4eaa80f078c23994f4af",
       "version_major": 2,
       "version_minor": 0
      },
      "text/plain": [
       "Obteniendo productos:   0%|          | 0/30 [00:00<?, ?it/s]"
      ]
     },
     "metadata": {},
     "output_type": "display_data"
    },
    {
     "name": "stdout",
     "output_type": "stream",
     "text": [
      "Estamos en la página https://skinsort.com/products//page/65\n"
     ]
    },
    {
     "data": {
      "application/vnd.jupyter.widget-view+json": {
       "model_id": "4755f5ceb6d1477d805dc0577bea05d5",
       "version_major": 2,
       "version_minor": 0
      },
      "text/plain": [
       "Obteniendo productos:   0%|          | 0/30 [00:00<?, ?it/s]"
      ]
     },
     "metadata": {},
     "output_type": "display_data"
    },
    {
     "name": "stdout",
     "output_type": "stream",
     "text": [
      "Estamos en la página https://skinsort.com/products//page/66\n"
     ]
    },
    {
     "data": {
      "application/vnd.jupyter.widget-view+json": {
       "model_id": "92eaec1e2d1843d7af45868cfc3f24c5",
       "version_major": 2,
       "version_minor": 0
      },
      "text/plain": [
       "Obteniendo productos:   0%|          | 0/30 [00:00<?, ?it/s]"
      ]
     },
     "metadata": {},
     "output_type": "display_data"
    },
    {
     "name": "stdout",
     "output_type": "stream",
     "text": [
      "Estamos en la página https://skinsort.com/products//page/67\n"
     ]
    },
    {
     "data": {
      "application/vnd.jupyter.widget-view+json": {
       "model_id": "46f2c768d0e94e1a952f48a23e86038e",
       "version_major": 2,
       "version_minor": 0
      },
      "text/plain": [
       "Obteniendo productos:   0%|          | 0/30 [00:00<?, ?it/s]"
      ]
     },
     "metadata": {},
     "output_type": "display_data"
    },
    {
     "name": "stdout",
     "output_type": "stream",
     "text": [
      "Estamos en la página https://skinsort.com/products//page/68\n"
     ]
    },
    {
     "data": {
      "application/vnd.jupyter.widget-view+json": {
       "model_id": "83e08be334724106b77aa12881bf2af0",
       "version_major": 2,
       "version_minor": 0
      },
      "text/plain": [
       "Obteniendo productos:   0%|          | 0/30 [00:00<?, ?it/s]"
      ]
     },
     "metadata": {},
     "output_type": "display_data"
    },
    {
     "name": "stdout",
     "output_type": "stream",
     "text": [
      "Estamos en la página https://skinsort.com/products//page/69\n"
     ]
    },
    {
     "data": {
      "application/vnd.jupyter.widget-view+json": {
       "model_id": "5e6c584fc3554d67ab9392136385fb83",
       "version_major": 2,
       "version_minor": 0
      },
      "text/plain": [
       "Obteniendo productos:   0%|          | 0/30 [00:00<?, ?it/s]"
      ]
     },
     "metadata": {},
     "output_type": "display_data"
    },
    {
     "name": "stdout",
     "output_type": "stream",
     "text": [
      "Estamos en la página https://skinsort.com/products//page/70\n"
     ]
    },
    {
     "data": {
      "application/vnd.jupyter.widget-view+json": {
       "model_id": "5b1e8099bcd2441699157d16e8bf4f4d",
       "version_major": 2,
       "version_minor": 0
      },
      "text/plain": [
       "Obteniendo productos:   0%|          | 0/30 [00:00<?, ?it/s]"
      ]
     },
     "metadata": {},
     "output_type": "display_data"
    },
    {
     "name": "stdout",
     "output_type": "stream",
     "text": [
      "Estamos en la página https://skinsort.com/products//page/71\n"
     ]
    },
    {
     "data": {
      "application/vnd.jupyter.widget-view+json": {
       "model_id": "964b3b9ed7d64a12b97cf03a12c82860",
       "version_major": 2,
       "version_minor": 0
      },
      "text/plain": [
       "Obteniendo productos:   0%|          | 0/30 [00:00<?, ?it/s]"
      ]
     },
     "metadata": {},
     "output_type": "display_data"
    },
    {
     "name": "stdout",
     "output_type": "stream",
     "text": [
      "Estamos en la página https://skinsort.com/products//page/72\n"
     ]
    },
    {
     "data": {
      "application/vnd.jupyter.widget-view+json": {
       "model_id": "f4ff73b4029e48daa2b4e18f2f54f4d0",
       "version_major": 2,
       "version_minor": 0
      },
      "text/plain": [
       "Obteniendo productos:   0%|          | 0/30 [00:00<?, ?it/s]"
      ]
     },
     "metadata": {},
     "output_type": "display_data"
    },
    {
     "name": "stdout",
     "output_type": "stream",
     "text": [
      "Estamos en la página https://skinsort.com/products//page/73\n"
     ]
    },
    {
     "data": {
      "application/vnd.jupyter.widget-view+json": {
       "model_id": "20206a7a993b4bbbbdd25fd6acc39822",
       "version_major": 2,
       "version_minor": 0
      },
      "text/plain": [
       "Obteniendo productos:   0%|          | 0/30 [00:00<?, ?it/s]"
      ]
     },
     "metadata": {},
     "output_type": "display_data"
    },
    {
     "name": "stdout",
     "output_type": "stream",
     "text": [
      "Estamos en la página https://skinsort.com/products//page/74\n"
     ]
    },
    {
     "data": {
      "application/vnd.jupyter.widget-view+json": {
       "model_id": "72fcc6177d314c4d812ab64023a2cfb9",
       "version_major": 2,
       "version_minor": 0
      },
      "text/plain": [
       "Obteniendo productos:   0%|          | 0/30 [00:00<?, ?it/s]"
      ]
     },
     "metadata": {},
     "output_type": "display_data"
    },
    {
     "name": "stdout",
     "output_type": "stream",
     "text": [
      "Estamos en la página https://skinsort.com/products//page/75\n"
     ]
    },
    {
     "data": {
      "application/vnd.jupyter.widget-view+json": {
       "model_id": "f4ff71d1578c44989881faefebcf3c7d",
       "version_major": 2,
       "version_minor": 0
      },
      "text/plain": [
       "Obteniendo productos:   0%|          | 0/30 [00:00<?, ?it/s]"
      ]
     },
     "metadata": {},
     "output_type": "display_data"
    },
    {
     "name": "stdout",
     "output_type": "stream",
     "text": [
      "Estamos en la página https://skinsort.com/products//page/76\n"
     ]
    },
    {
     "data": {
      "application/vnd.jupyter.widget-view+json": {
       "model_id": "d5c9f71b67ed4972bf268c73c023c48b",
       "version_major": 2,
       "version_minor": 0
      },
      "text/plain": [
       "Obteniendo productos:   0%|          | 0/30 [00:00<?, ?it/s]"
      ]
     },
     "metadata": {},
     "output_type": "display_data"
    },
    {
     "name": "stdout",
     "output_type": "stream",
     "text": [
      "Estamos en la página https://skinsort.com/products//page/77\n"
     ]
    },
    {
     "data": {
      "application/vnd.jupyter.widget-view+json": {
       "model_id": "a79246865fb14834993c575837d2812e",
       "version_major": 2,
       "version_minor": 0
      },
      "text/plain": [
       "Obteniendo productos:   0%|          | 0/30 [00:00<?, ?it/s]"
      ]
     },
     "metadata": {},
     "output_type": "display_data"
    },
    {
     "name": "stdout",
     "output_type": "stream",
     "text": [
      "Estamos en la página https://skinsort.com/products//page/78\n"
     ]
    },
    {
     "data": {
      "application/vnd.jupyter.widget-view+json": {
       "model_id": "cd7d617e67844fd6b2920697d3d0827a",
       "version_major": 2,
       "version_minor": 0
      },
      "text/plain": [
       "Obteniendo productos:   0%|          | 0/30 [00:00<?, ?it/s]"
      ]
     },
     "metadata": {},
     "output_type": "display_data"
    },
    {
     "name": "stdout",
     "output_type": "stream",
     "text": [
      "Estamos en la página https://skinsort.com/products//page/79\n"
     ]
    },
    {
     "data": {
      "application/vnd.jupyter.widget-view+json": {
       "model_id": "1273d96fec784e95ab83749dc8f40e5a",
       "version_major": 2,
       "version_minor": 0
      },
      "text/plain": [
       "Obteniendo productos:   0%|          | 0/30 [00:00<?, ?it/s]"
      ]
     },
     "metadata": {},
     "output_type": "display_data"
    },
    {
     "name": "stdout",
     "output_type": "stream",
     "text": [
      "Estamos en la página https://skinsort.com/products//page/80\n",
      "Error al obtener los datos.\n"
     ]
    },
    {
     "data": {
      "application/vnd.jupyter.widget-view+json": {
       "model_id": "499bd39fa9c642849acb3493dba76aed",
       "version_major": 2,
       "version_minor": 0
      },
      "text/plain": [
       "Obteniendo productos:   0%|          | 0/30 [00:00<?, ?it/s]"
      ]
     },
     "metadata": {},
     "output_type": "display_data"
    },
    {
     "name": "stdout",
     "output_type": "stream",
     "text": [
      "Estamos en la página https://skinsort.com/products//page/82\n"
     ]
    },
    {
     "data": {
      "application/vnd.jupyter.widget-view+json": {
       "model_id": "6ea43991483f4a699333c223b2a2d4c0",
       "version_major": 2,
       "version_minor": 0
      },
      "text/plain": [
       "Obteniendo productos:   0%|          | 0/30 [00:00<?, ?it/s]"
      ]
     },
     "metadata": {},
     "output_type": "display_data"
    },
    {
     "name": "stdout",
     "output_type": "stream",
     "text": [
      "Estamos en la página https://skinsort.com/products//page/83\n"
     ]
    },
    {
     "data": {
      "application/vnd.jupyter.widget-view+json": {
       "model_id": "f517877e043f4fdf9b833df8a0e35f8f",
       "version_major": 2,
       "version_minor": 0
      },
      "text/plain": [
       "Obteniendo productos:   0%|          | 0/30 [00:00<?, ?it/s]"
      ]
     },
     "metadata": {},
     "output_type": "display_data"
    },
    {
     "name": "stdout",
     "output_type": "stream",
     "text": [
      "Estamos en la página https://skinsort.com/products//page/84\n"
     ]
    },
    {
     "data": {
      "application/vnd.jupyter.widget-view+json": {
       "model_id": "00499008fed64510a2c97f9200a04ef0",
       "version_major": 2,
       "version_minor": 0
      },
      "text/plain": [
       "Obteniendo productos:   0%|          | 0/30 [00:00<?, ?it/s]"
      ]
     },
     "metadata": {},
     "output_type": "display_data"
    },
    {
     "name": "stdout",
     "output_type": "stream",
     "text": [
      "Estamos en la página https://skinsort.com/products//page/85\n"
     ]
    },
    {
     "data": {
      "application/vnd.jupyter.widget-view+json": {
       "model_id": "af25ea26184b457482af959b498e4b4f",
       "version_major": 2,
       "version_minor": 0
      },
      "text/plain": [
       "Obteniendo productos:   0%|          | 0/30 [00:00<?, ?it/s]"
      ]
     },
     "metadata": {},
     "output_type": "display_data"
    },
    {
     "name": "stdout",
     "output_type": "stream",
     "text": [
      "Estamos en la página https://skinsort.com/products//page/86\n"
     ]
    },
    {
     "data": {
      "application/vnd.jupyter.widget-view+json": {
       "model_id": "072da811ca444a968e88a7ef20105aec",
       "version_major": 2,
       "version_minor": 0
      },
      "text/plain": [
       "Obteniendo productos:   0%|          | 0/30 [00:00<?, ?it/s]"
      ]
     },
     "metadata": {},
     "output_type": "display_data"
    },
    {
     "name": "stdout",
     "output_type": "stream",
     "text": [
      "Estamos en la página https://skinsort.com/products//page/87\n"
     ]
    },
    {
     "data": {
      "application/vnd.jupyter.widget-view+json": {
       "model_id": "31e8e5e4318d4230b924efac95ffcb63",
       "version_major": 2,
       "version_minor": 0
      },
      "text/plain": [
       "Obteniendo productos:   0%|          | 0/30 [00:00<?, ?it/s]"
      ]
     },
     "metadata": {},
     "output_type": "display_data"
    },
    {
     "name": "stdout",
     "output_type": "stream",
     "text": [
      "Estamos en la página https://skinsort.com/products//page/88\n"
     ]
    },
    {
     "data": {
      "application/vnd.jupyter.widget-view+json": {
       "model_id": "6c04d4c8dc114198a34ac9f2610d2857",
       "version_major": 2,
       "version_minor": 0
      },
      "text/plain": [
       "Obteniendo productos:   0%|          | 0/30 [00:00<?, ?it/s]"
      ]
     },
     "metadata": {},
     "output_type": "display_data"
    },
    {
     "name": "stdout",
     "output_type": "stream",
     "text": [
      "Estamos en la página https://skinsort.com/products//page/89\n"
     ]
    },
    {
     "data": {
      "application/vnd.jupyter.widget-view+json": {
       "model_id": "ff236f573d884f9e8a830743efc51448",
       "version_major": 2,
       "version_minor": 0
      },
      "text/plain": [
       "Obteniendo productos:   0%|          | 0/30 [00:00<?, ?it/s]"
      ]
     },
     "metadata": {},
     "output_type": "display_data"
    },
    {
     "name": "stdout",
     "output_type": "stream",
     "text": [
      "Estamos en la página https://skinsort.com/products//page/90\n"
     ]
    },
    {
     "data": {
      "application/vnd.jupyter.widget-view+json": {
       "model_id": "538b05dce4034845b1c0afeef59788ff",
       "version_major": 2,
       "version_minor": 0
      },
      "text/plain": [
       "Obteniendo productos:   0%|          | 0/30 [00:00<?, ?it/s]"
      ]
     },
     "metadata": {},
     "output_type": "display_data"
    },
    {
     "name": "stdout",
     "output_type": "stream",
     "text": [
      "Estamos en la página https://skinsort.com/products//page/91\n"
     ]
    },
    {
     "data": {
      "application/vnd.jupyter.widget-view+json": {
       "model_id": "f64e287f053848419f043eed5d70a7c1",
       "version_major": 2,
       "version_minor": 0
      },
      "text/plain": [
       "Obteniendo productos:   0%|          | 0/30 [00:00<?, ?it/s]"
      ]
     },
     "metadata": {},
     "output_type": "display_data"
    },
    {
     "name": "stdout",
     "output_type": "stream",
     "text": [
      "Estamos en la página https://skinsort.com/products//page/92\n"
     ]
    },
    {
     "data": {
      "application/vnd.jupyter.widget-view+json": {
       "model_id": "5324260c27264494959d30046d93fc36",
       "version_major": 2,
       "version_minor": 0
      },
      "text/plain": [
       "Obteniendo productos:   0%|          | 0/30 [00:00<?, ?it/s]"
      ]
     },
     "metadata": {},
     "output_type": "display_data"
    },
    {
     "name": "stdout",
     "output_type": "stream",
     "text": [
      "Estamos en la página https://skinsort.com/products//page/93\n"
     ]
    },
    {
     "data": {
      "application/vnd.jupyter.widget-view+json": {
       "model_id": "33be25f54883420a8624d42a9454d04d",
       "version_major": 2,
       "version_minor": 0
      },
      "text/plain": [
       "Obteniendo productos:   0%|          | 0/30 [00:00<?, ?it/s]"
      ]
     },
     "metadata": {},
     "output_type": "display_data"
    },
    {
     "name": "stdout",
     "output_type": "stream",
     "text": [
      "Estamos en la página https://skinsort.com/products//page/94\n"
     ]
    },
    {
     "data": {
      "application/vnd.jupyter.widget-view+json": {
       "model_id": "7c8a68c1f3504442bd141ba422164d5c",
       "version_major": 2,
       "version_minor": 0
      },
      "text/plain": [
       "Obteniendo productos:   0%|          | 0/30 [00:00<?, ?it/s]"
      ]
     },
     "metadata": {},
     "output_type": "display_data"
    },
    {
     "name": "stdout",
     "output_type": "stream",
     "text": [
      "Estamos en la página https://skinsort.com/products//page/95\n"
     ]
    },
    {
     "data": {
      "application/vnd.jupyter.widget-view+json": {
       "model_id": "013581e2c20047c28474b37f0c263023",
       "version_major": 2,
       "version_minor": 0
      },
      "text/plain": [
       "Obteniendo productos:   0%|          | 0/30 [00:00<?, ?it/s]"
      ]
     },
     "metadata": {},
     "output_type": "display_data"
    },
    {
     "name": "stdout",
     "output_type": "stream",
     "text": [
      "Estamos en la página https://skinsort.com/products//page/96\n"
     ]
    },
    {
     "data": {
      "application/vnd.jupyter.widget-view+json": {
       "model_id": "20ff902913ff4f89ab467673c68a7ff4",
       "version_major": 2,
       "version_minor": 0
      },
      "text/plain": [
       "Obteniendo productos:   0%|          | 0/30 [00:00<?, ?it/s]"
      ]
     },
     "metadata": {},
     "output_type": "display_data"
    },
    {
     "name": "stdout",
     "output_type": "stream",
     "text": [
      "Estamos en la página https://skinsort.com/products//page/97\n"
     ]
    },
    {
     "data": {
      "application/vnd.jupyter.widget-view+json": {
       "model_id": "ad5e10e0426e4e13a9230c81b282713d",
       "version_major": 2,
       "version_minor": 0
      },
      "text/plain": [
       "Obteniendo productos:   0%|          | 0/30 [00:00<?, ?it/s]"
      ]
     },
     "metadata": {},
     "output_type": "display_data"
    },
    {
     "name": "stdout",
     "output_type": "stream",
     "text": [
      "Estamos en la página https://skinsort.com/products//page/98\n"
     ]
    },
    {
     "data": {
      "application/vnd.jupyter.widget-view+json": {
       "model_id": "46a1abd1e19445e79a6226e8ecbbb689",
       "version_major": 2,
       "version_minor": 0
      },
      "text/plain": [
       "Obteniendo productos:   0%|          | 0/30 [00:00<?, ?it/s]"
      ]
     },
     "metadata": {},
     "output_type": "display_data"
    },
    {
     "name": "stdout",
     "output_type": "stream",
     "text": [
      "Estamos en la página https://skinsort.com/products//page/99\n"
     ]
    }
   ],
   "source": [
    "dict1={}\n",
    "for i in range(1, 100):\n",
    "    dict1[i] = scrap(f'https://skinsort.com/products//page/{i}')"
   ]
  },
  {
   "cell_type": "code",
   "execution_count": 50,
   "id": "a2f31c54",
   "metadata": {},
   "outputs": [
    {
     "name": "stdout",
     "output_type": "stream",
     "text": [
      "[]\n"
     ]
    }
   ],
   "source": [
    "print(dict1[81])"
   ]
  },
  {
   "cell_type": "code",
   "execution_count": 51,
   "id": "60e25f36",
   "metadata": {},
   "outputs": [
    {
     "name": "stderr",
     "output_type": "stream",
     "text": [
      "2023-03-09 13:01:25,725 [88601] WARNING  py.warnings:109: [JupyterRequire] /tmp/ipykernel_88601/4040571658.py:3: DeprecationWarning: executable_path has been deprecated, please pass in a Service object\n",
      "  driver = webdriver.Chrome(PATH)\n",
      "\n"
     ]
    },
    {
     "data": {
      "application/vnd.jupyter.widget-view+json": {
       "model_id": "c41b85dd800a4d77a2e6dfbfcc537250",
       "version_major": 2,
       "version_minor": 0
      },
      "text/plain": [
       "Obteniendo productos:   0%|          | 0/30 [00:00<?, ?it/s]"
      ]
     },
     "metadata": {},
     "output_type": "display_data"
    },
    {
     "name": "stdout",
     "output_type": "stream",
     "text": [
      "Estamos en la página https://skinsort.com/products//page/6\n"
     ]
    },
    {
     "data": {
      "application/vnd.jupyter.widget-view+json": {
       "model_id": "95b2843496d44bfab5b142893196528c",
       "version_major": 2,
       "version_minor": 0
      },
      "text/plain": [
       "Obteniendo productos:   0%|          | 0/30 [00:00<?, ?it/s]"
      ]
     },
     "metadata": {},
     "output_type": "display_data"
    },
    {
     "name": "stdout",
     "output_type": "stream",
     "text": [
      "Estamos en la página https://skinsort.com/products//page/18\n"
     ]
    },
    {
     "data": {
      "application/vnd.jupyter.widget-view+json": {
       "model_id": "2e2d36eaa50f410d9f442372e17f4b2a",
       "version_major": 2,
       "version_minor": 0
      },
      "text/plain": [
       "Obteniendo productos:   0%|          | 0/30 [00:00<?, ?it/s]"
      ]
     },
     "metadata": {},
     "output_type": "display_data"
    },
    {
     "name": "stdout",
     "output_type": "stream",
     "text": [
      "Estamos en la página https://skinsort.com/products//page/81\n"
     ]
    }
   ],
   "source": [
    "dict1[6] = scrap('https://skinsort.com/products//page/6')\n",
    "dict1[18] = scrap('https://skinsort.com/products//page/18')\n",
    "dict1[81] = scrap('https://skinsort.com/products//page/81')"
   ]
  },
  {
   "cell_type": "code",
   "execution_count": 58,
   "id": "d28d03f8",
   "metadata": {},
   "outputs": [],
   "source": [
    "import json\n",
    "\n",
    "with open('datos_scrapeados1.json', 'w') as file:\n",
    "    json.dump(dict1, file)"
   ]
  },
  {
   "cell_type": "code",
   "execution_count": null,
   "id": "315cae75",
   "metadata": {},
   "outputs": [],
   "source": []
  },
  {
   "cell_type": "code",
   "execution_count": 59,
   "id": "2e9714ad",
   "metadata": {},
   "outputs": [
    {
     "name": "stderr",
     "output_type": "stream",
     "text": [
      "2023-03-09 13:03:58,068 [88601] WARNING  py.warnings:109: [JupyterRequire] /tmp/ipykernel_88601/4040571658.py:3: DeprecationWarning: executable_path has been deprecated, please pass in a Service object\n",
      "  driver = webdriver.Chrome(PATH)\n",
      "\n"
     ]
    },
    {
     "data": {
      "application/vnd.jupyter.widget-view+json": {
       "model_id": "2949ee249cb84bf5ab2ee90f576ccd14",
       "version_major": 2,
       "version_minor": 0
      },
      "text/plain": [
       "Obteniendo productos:   0%|          | 0/30 [00:00<?, ?it/s]"
      ]
     },
     "metadata": {},
     "output_type": "display_data"
    },
    {
     "name": "stdout",
     "output_type": "stream",
     "text": [
      "Estamos en la página https://skinsort.com/products//page/100\n",
      "Error al obtener los datos.\n"
     ]
    },
    {
     "data": {
      "application/vnd.jupyter.widget-view+json": {
       "model_id": "a7b875d97c124c1fad7a80608ce3c40f",
       "version_major": 2,
       "version_minor": 0
      },
      "text/plain": [
       "Obteniendo productos:   0%|          | 0/30 [00:00<?, ?it/s]"
      ]
     },
     "metadata": {},
     "output_type": "display_data"
    },
    {
     "name": "stdout",
     "output_type": "stream",
     "text": [
      "Estamos en la página https://skinsort.com/products//page/102\n"
     ]
    },
    {
     "data": {
      "application/vnd.jupyter.widget-view+json": {
       "model_id": "5ba236c37f494272a2933865d003cc9f",
       "version_major": 2,
       "version_minor": 0
      },
      "text/plain": [
       "Obteniendo productos:   0%|          | 0/30 [00:00<?, ?it/s]"
      ]
     },
     "metadata": {},
     "output_type": "display_data"
    },
    {
     "name": "stdout",
     "output_type": "stream",
     "text": [
      "Estamos en la página https://skinsort.com/products//page/103\n"
     ]
    },
    {
     "data": {
      "application/vnd.jupyter.widget-view+json": {
       "model_id": "f0efcd871757440f98fce6f8ef7875cb",
       "version_major": 2,
       "version_minor": 0
      },
      "text/plain": [
       "Obteniendo productos:   0%|          | 0/30 [00:00<?, ?it/s]"
      ]
     },
     "metadata": {},
     "output_type": "display_data"
    },
    {
     "name": "stdout",
     "output_type": "stream",
     "text": [
      "Estamos en la página https://skinsort.com/products//page/104\n"
     ]
    },
    {
     "data": {
      "application/vnd.jupyter.widget-view+json": {
       "model_id": "49515c134416482893e7aa452a90a01e",
       "version_major": 2,
       "version_minor": 0
      },
      "text/plain": [
       "Obteniendo productos:   0%|          | 0/30 [00:00<?, ?it/s]"
      ]
     },
     "metadata": {},
     "output_type": "display_data"
    },
    {
     "name": "stdout",
     "output_type": "stream",
     "text": [
      "Estamos en la página https://skinsort.com/products//page/105\n"
     ]
    },
    {
     "data": {
      "application/vnd.jupyter.widget-view+json": {
       "model_id": "8be675dd68d449c596f132b3d401e8cf",
       "version_major": 2,
       "version_minor": 0
      },
      "text/plain": [
       "Obteniendo productos:   0%|          | 0/30 [00:00<?, ?it/s]"
      ]
     },
     "metadata": {},
     "output_type": "display_data"
    },
    {
     "name": "stdout",
     "output_type": "stream",
     "text": [
      "Estamos en la página https://skinsort.com/products//page/106\n"
     ]
    },
    {
     "data": {
      "application/vnd.jupyter.widget-view+json": {
       "model_id": "78a93ae94ca04c65be3112db277be99c",
       "version_major": 2,
       "version_minor": 0
      },
      "text/plain": [
       "Obteniendo productos:   0%|          | 0/30 [00:00<?, ?it/s]"
      ]
     },
     "metadata": {},
     "output_type": "display_data"
    },
    {
     "name": "stdout",
     "output_type": "stream",
     "text": [
      "Estamos en la página https://skinsort.com/products//page/107\n"
     ]
    },
    {
     "data": {
      "application/vnd.jupyter.widget-view+json": {
       "model_id": "3d30072f5845476e989b1342986214c6",
       "version_major": 2,
       "version_minor": 0
      },
      "text/plain": [
       "Obteniendo productos:   0%|          | 0/30 [00:00<?, ?it/s]"
      ]
     },
     "metadata": {},
     "output_type": "display_data"
    },
    {
     "name": "stdout",
     "output_type": "stream",
     "text": [
      "Estamos en la página https://skinsort.com/products//page/108\n"
     ]
    },
    {
     "data": {
      "application/vnd.jupyter.widget-view+json": {
       "model_id": "cddd935affb84305b062b4e56adcd0a6",
       "version_major": 2,
       "version_minor": 0
      },
      "text/plain": [
       "Obteniendo productos:   0%|          | 0/30 [00:00<?, ?it/s]"
      ]
     },
     "metadata": {},
     "output_type": "display_data"
    },
    {
     "name": "stdout",
     "output_type": "stream",
     "text": [
      "Estamos en la página https://skinsort.com/products//page/109\n"
     ]
    },
    {
     "data": {
      "application/vnd.jupyter.widget-view+json": {
       "model_id": "0cd5ea7aca624c9e8a1c3f2abbfb0668",
       "version_major": 2,
       "version_minor": 0
      },
      "text/plain": [
       "Obteniendo productos:   0%|          | 0/30 [00:00<?, ?it/s]"
      ]
     },
     "metadata": {},
     "output_type": "display_data"
    },
    {
     "name": "stdout",
     "output_type": "stream",
     "text": [
      "Estamos en la página https://skinsort.com/products//page/110\n"
     ]
    },
    {
     "data": {
      "application/vnd.jupyter.widget-view+json": {
       "model_id": "297f6f2a3c3b4b18b365ccbb664e7c9f",
       "version_major": 2,
       "version_minor": 0
      },
      "text/plain": [
       "Obteniendo productos:   0%|          | 0/30 [00:00<?, ?it/s]"
      ]
     },
     "metadata": {},
     "output_type": "display_data"
    },
    {
     "name": "stdout",
     "output_type": "stream",
     "text": [
      "Estamos en la página https://skinsort.com/products//page/111\n"
     ]
    },
    {
     "data": {
      "application/vnd.jupyter.widget-view+json": {
       "model_id": "f70b601929a442c1b8dcec17145c5e13",
       "version_major": 2,
       "version_minor": 0
      },
      "text/plain": [
       "Obteniendo productos:   0%|          | 0/30 [00:00<?, ?it/s]"
      ]
     },
     "metadata": {},
     "output_type": "display_data"
    },
    {
     "name": "stdout",
     "output_type": "stream",
     "text": [
      "Estamos en la página https://skinsort.com/products//page/112\n"
     ]
    },
    {
     "data": {
      "application/vnd.jupyter.widget-view+json": {
       "model_id": "a6da235c1e324335ae9259459de7f8b6",
       "version_major": 2,
       "version_minor": 0
      },
      "text/plain": [
       "Obteniendo productos:   0%|          | 0/30 [00:00<?, ?it/s]"
      ]
     },
     "metadata": {},
     "output_type": "display_data"
    },
    {
     "name": "stdout",
     "output_type": "stream",
     "text": [
      "Estamos en la página https://skinsort.com/products//page/113\n"
     ]
    },
    {
     "data": {
      "application/vnd.jupyter.widget-view+json": {
       "model_id": "4318d7942d7943599ecf6a85b5c14682",
       "version_major": 2,
       "version_minor": 0
      },
      "text/plain": [
       "Obteniendo productos:   0%|          | 0/30 [00:00<?, ?it/s]"
      ]
     },
     "metadata": {},
     "output_type": "display_data"
    },
    {
     "name": "stdout",
     "output_type": "stream",
     "text": [
      "Estamos en la página https://skinsort.com/products//page/114\n"
     ]
    },
    {
     "data": {
      "application/vnd.jupyter.widget-view+json": {
       "model_id": "8b2e2690259b44e28468822981171424",
       "version_major": 2,
       "version_minor": 0
      },
      "text/plain": [
       "Obteniendo productos:   0%|          | 0/30 [00:00<?, ?it/s]"
      ]
     },
     "metadata": {},
     "output_type": "display_data"
    },
    {
     "name": "stdout",
     "output_type": "stream",
     "text": [
      "Estamos en la página https://skinsort.com/products//page/115\n"
     ]
    },
    {
     "data": {
      "application/vnd.jupyter.widget-view+json": {
       "model_id": "7572a2c8410146c18da7a3f30eff0995",
       "version_major": 2,
       "version_minor": 0
      },
      "text/plain": [
       "Obteniendo productos:   0%|          | 0/30 [00:00<?, ?it/s]"
      ]
     },
     "metadata": {},
     "output_type": "display_data"
    },
    {
     "name": "stdout",
     "output_type": "stream",
     "text": [
      "Estamos en la página https://skinsort.com/products//page/116\n"
     ]
    },
    {
     "data": {
      "application/vnd.jupyter.widget-view+json": {
       "model_id": "e17a6f2307574e95bafaf5f73c445291",
       "version_major": 2,
       "version_minor": 0
      },
      "text/plain": [
       "Obteniendo productos:   0%|          | 0/30 [00:00<?, ?it/s]"
      ]
     },
     "metadata": {},
     "output_type": "display_data"
    },
    {
     "name": "stdout",
     "output_type": "stream",
     "text": [
      "Estamos en la página https://skinsort.com/products//page/117\n"
     ]
    },
    {
     "data": {
      "application/vnd.jupyter.widget-view+json": {
       "model_id": "2e6b10321c244f979d5cce7b838414b4",
       "version_major": 2,
       "version_minor": 0
      },
      "text/plain": [
       "Obteniendo productos:   0%|          | 0/30 [00:00<?, ?it/s]"
      ]
     },
     "metadata": {},
     "output_type": "display_data"
    },
    {
     "name": "stdout",
     "output_type": "stream",
     "text": [
      "Estamos en la página https://skinsort.com/products//page/118\n"
     ]
    },
    {
     "data": {
      "application/vnd.jupyter.widget-view+json": {
       "model_id": "b4efb4db3a5a465ba08bd84e9fd5eebf",
       "version_major": 2,
       "version_minor": 0
      },
      "text/plain": [
       "Obteniendo productos:   0%|          | 0/30 [00:00<?, ?it/s]"
      ]
     },
     "metadata": {},
     "output_type": "display_data"
    },
    {
     "name": "stdout",
     "output_type": "stream",
     "text": [
      "Estamos en la página https://skinsort.com/products//page/119\n"
     ]
    },
    {
     "data": {
      "application/vnd.jupyter.widget-view+json": {
       "model_id": "fe65dc3f956a4b0787e500f440f88019",
       "version_major": 2,
       "version_minor": 0
      },
      "text/plain": [
       "Obteniendo productos:   0%|          | 0/30 [00:00<?, ?it/s]"
      ]
     },
     "metadata": {},
     "output_type": "display_data"
    },
    {
     "name": "stdout",
     "output_type": "stream",
     "text": [
      "Estamos en la página https://skinsort.com/products//page/120\n"
     ]
    },
    {
     "data": {
      "application/vnd.jupyter.widget-view+json": {
       "model_id": "de7d6d97465d412cadc14f00b82808b7",
       "version_major": 2,
       "version_minor": 0
      },
      "text/plain": [
       "Obteniendo productos:   0%|          | 0/30 [00:00<?, ?it/s]"
      ]
     },
     "metadata": {},
     "output_type": "display_data"
    },
    {
     "name": "stdout",
     "output_type": "stream",
     "text": [
      "Estamos en la página https://skinsort.com/products//page/121\n"
     ]
    },
    {
     "data": {
      "application/vnd.jupyter.widget-view+json": {
       "model_id": "5e0df02c69944b46a9f66e677ab23166",
       "version_major": 2,
       "version_minor": 0
      },
      "text/plain": [
       "Obteniendo productos:   0%|          | 0/30 [00:00<?, ?it/s]"
      ]
     },
     "metadata": {},
     "output_type": "display_data"
    },
    {
     "name": "stdout",
     "output_type": "stream",
     "text": [
      "Estamos en la página https://skinsort.com/products//page/122\n"
     ]
    },
    {
     "data": {
      "application/vnd.jupyter.widget-view+json": {
       "model_id": "2b203460d7ef4879b6dbd95cdf0d5a42",
       "version_major": 2,
       "version_minor": 0
      },
      "text/plain": [
       "Obteniendo productos:   0%|          | 0/30 [00:00<?, ?it/s]"
      ]
     },
     "metadata": {},
     "output_type": "display_data"
    },
    {
     "name": "stdout",
     "output_type": "stream",
     "text": [
      "Estamos en la página https://skinsort.com/products//page/123\n"
     ]
    },
    {
     "data": {
      "application/vnd.jupyter.widget-view+json": {
       "model_id": "528fa8a57692420eb7ee10e2dc8e303f",
       "version_major": 2,
       "version_minor": 0
      },
      "text/plain": [
       "Obteniendo productos:   0%|          | 0/30 [00:00<?, ?it/s]"
      ]
     },
     "metadata": {},
     "output_type": "display_data"
    },
    {
     "name": "stdout",
     "output_type": "stream",
     "text": [
      "Estamos en la página https://skinsort.com/products//page/124\n"
     ]
    },
    {
     "data": {
      "application/vnd.jupyter.widget-view+json": {
       "model_id": "5d0acfe8be05449198ab6bf5666e263e",
       "version_major": 2,
       "version_minor": 0
      },
      "text/plain": [
       "Obteniendo productos:   0%|          | 0/30 [00:00<?, ?it/s]"
      ]
     },
     "metadata": {},
     "output_type": "display_data"
    },
    {
     "name": "stdout",
     "output_type": "stream",
     "text": [
      "Estamos en la página https://skinsort.com/products//page/125\n"
     ]
    },
    {
     "data": {
      "application/vnd.jupyter.widget-view+json": {
       "model_id": "d34c636d8271423c86a3bcd0b2d45609",
       "version_major": 2,
       "version_minor": 0
      },
      "text/plain": [
       "Obteniendo productos:   0%|          | 0/30 [00:00<?, ?it/s]"
      ]
     },
     "metadata": {},
     "output_type": "display_data"
    },
    {
     "name": "stdout",
     "output_type": "stream",
     "text": [
      "Estamos en la página https://skinsort.com/products//page/126\n"
     ]
    },
    {
     "data": {
      "application/vnd.jupyter.widget-view+json": {
       "model_id": "46917aba60604fbe92c595434873feb7",
       "version_major": 2,
       "version_minor": 0
      },
      "text/plain": [
       "Obteniendo productos:   0%|          | 0/30 [00:00<?, ?it/s]"
      ]
     },
     "metadata": {},
     "output_type": "display_data"
    },
    {
     "name": "stdout",
     "output_type": "stream",
     "text": [
      "Estamos en la página https://skinsort.com/products//page/127\n"
     ]
    },
    {
     "data": {
      "application/vnd.jupyter.widget-view+json": {
       "model_id": "80eef46e2d4d431ca7b0620cb4b26f46",
       "version_major": 2,
       "version_minor": 0
      },
      "text/plain": [
       "Obteniendo productos:   0%|          | 0/30 [00:00<?, ?it/s]"
      ]
     },
     "metadata": {},
     "output_type": "display_data"
    },
    {
     "name": "stdout",
     "output_type": "stream",
     "text": [
      "Estamos en la página https://skinsort.com/products//page/128\n"
     ]
    },
    {
     "data": {
      "application/vnd.jupyter.widget-view+json": {
       "model_id": "d3236923511d45028348a213e9bb9da7",
       "version_major": 2,
       "version_minor": 0
      },
      "text/plain": [
       "Obteniendo productos:   0%|          | 0/30 [00:00<?, ?it/s]"
      ]
     },
     "metadata": {},
     "output_type": "display_data"
    },
    {
     "name": "stdout",
     "output_type": "stream",
     "text": [
      "Estamos en la página https://skinsort.com/products//page/129\n"
     ]
    },
    {
     "data": {
      "application/vnd.jupyter.widget-view+json": {
       "model_id": "545e5adb4ea841e4baf92ea93eebe687",
       "version_major": 2,
       "version_minor": 0
      },
      "text/plain": [
       "Obteniendo productos:   0%|          | 0/30 [00:00<?, ?it/s]"
      ]
     },
     "metadata": {},
     "output_type": "display_data"
    },
    {
     "name": "stdout",
     "output_type": "stream",
     "text": [
      "Estamos en la página https://skinsort.com/products//page/130\n"
     ]
    },
    {
     "data": {
      "application/vnd.jupyter.widget-view+json": {
       "model_id": "4e7b68d5484342ab8dd45cdca8d958d8",
       "version_major": 2,
       "version_minor": 0
      },
      "text/plain": [
       "Obteniendo productos:   0%|          | 0/30 [00:00<?, ?it/s]"
      ]
     },
     "metadata": {},
     "output_type": "display_data"
    },
    {
     "name": "stdout",
     "output_type": "stream",
     "text": [
      "Estamos en la página https://skinsort.com/products//page/131\n",
      "Error al obtener los datos.\n"
     ]
    },
    {
     "data": {
      "application/vnd.jupyter.widget-view+json": {
       "model_id": "19e994834b56400dacaebfac37dc1a24",
       "version_major": 2,
       "version_minor": 0
      },
      "text/plain": [
       "Obteniendo productos:   0%|          | 0/30 [00:00<?, ?it/s]"
      ]
     },
     "metadata": {},
     "output_type": "display_data"
    },
    {
     "name": "stdout",
     "output_type": "stream",
     "text": [
      "Estamos en la página https://skinsort.com/products//page/133\n"
     ]
    },
    {
     "data": {
      "application/vnd.jupyter.widget-view+json": {
       "model_id": "5a4bccd01faf432595e5ec36b039c2c5",
       "version_major": 2,
       "version_minor": 0
      },
      "text/plain": [
       "Obteniendo productos:   0%|          | 0/30 [00:00<?, ?it/s]"
      ]
     },
     "metadata": {},
     "output_type": "display_data"
    },
    {
     "name": "stdout",
     "output_type": "stream",
     "text": [
      "Estamos en la página https://skinsort.com/products//page/134\n",
      "Error al obtener los datos.\n"
     ]
    },
    {
     "data": {
      "application/vnd.jupyter.widget-view+json": {
       "model_id": "a0d59f99f936432d8c4c47809a3d16ed",
       "version_major": 2,
       "version_minor": 0
      },
      "text/plain": [
       "Obteniendo productos:   0%|          | 0/30 [00:00<?, ?it/s]"
      ]
     },
     "metadata": {},
     "output_type": "display_data"
    },
    {
     "name": "stdout",
     "output_type": "stream",
     "text": [
      "Estamos en la página https://skinsort.com/products//page/136\n"
     ]
    },
    {
     "data": {
      "application/vnd.jupyter.widget-view+json": {
       "model_id": "9552d59fb7da4056be88140dc00d8644",
       "version_major": 2,
       "version_minor": 0
      },
      "text/plain": [
       "Obteniendo productos:   0%|          | 0/30 [00:00<?, ?it/s]"
      ]
     },
     "metadata": {},
     "output_type": "display_data"
    },
    {
     "name": "stdout",
     "output_type": "stream",
     "text": [
      "Estamos en la página https://skinsort.com/products//page/137\n"
     ]
    },
    {
     "data": {
      "application/vnd.jupyter.widget-view+json": {
       "model_id": "2ababe20f80d4d8cb12cd37cddb6a905",
       "version_major": 2,
       "version_minor": 0
      },
      "text/plain": [
       "Obteniendo productos:   0%|          | 0/30 [00:00<?, ?it/s]"
      ]
     },
     "metadata": {},
     "output_type": "display_data"
    },
    {
     "name": "stdout",
     "output_type": "stream",
     "text": [
      "Estamos en la página https://skinsort.com/products//page/138\n"
     ]
    },
    {
     "data": {
      "application/vnd.jupyter.widget-view+json": {
       "model_id": "b42975093700449f99ad455d08bbd89c",
       "version_major": 2,
       "version_minor": 0
      },
      "text/plain": [
       "Obteniendo productos:   0%|          | 0/30 [00:00<?, ?it/s]"
      ]
     },
     "metadata": {},
     "output_type": "display_data"
    },
    {
     "name": "stdout",
     "output_type": "stream",
     "text": [
      "Estamos en la página https://skinsort.com/products//page/139\n"
     ]
    },
    {
     "data": {
      "application/vnd.jupyter.widget-view+json": {
       "model_id": "541ad46824d6462b96ce54471acb9efa",
       "version_major": 2,
       "version_minor": 0
      },
      "text/plain": [
       "Obteniendo productos:   0%|          | 0/30 [00:00<?, ?it/s]"
      ]
     },
     "metadata": {},
     "output_type": "display_data"
    },
    {
     "name": "stdout",
     "output_type": "stream",
     "text": [
      "Estamos en la página https://skinsort.com/products//page/140\n",
      "Error al obtener los datos.\n"
     ]
    },
    {
     "data": {
      "application/vnd.jupyter.widget-view+json": {
       "model_id": "2dbd76d257984f07bc89acaa6ce645ed",
       "version_major": 2,
       "version_minor": 0
      },
      "text/plain": [
       "Obteniendo productos:   0%|          | 0/30 [00:00<?, ?it/s]"
      ]
     },
     "metadata": {},
     "output_type": "display_data"
    },
    {
     "name": "stdout",
     "output_type": "stream",
     "text": [
      "Estamos en la página https://skinsort.com/products//page/142\n"
     ]
    },
    {
     "data": {
      "application/vnd.jupyter.widget-view+json": {
       "model_id": "cce97e98cf4f4841982a8d9ac6347465",
       "version_major": 2,
       "version_minor": 0
      },
      "text/plain": [
       "Obteniendo productos:   0%|          | 0/30 [00:00<?, ?it/s]"
      ]
     },
     "metadata": {},
     "output_type": "display_data"
    },
    {
     "name": "stdout",
     "output_type": "stream",
     "text": [
      "Estamos en la página https://skinsort.com/products//page/143\n"
     ]
    },
    {
     "data": {
      "application/vnd.jupyter.widget-view+json": {
       "model_id": "84e5436303684ed3866805f608de910b",
       "version_major": 2,
       "version_minor": 0
      },
      "text/plain": [
       "Obteniendo productos:   0%|          | 0/30 [00:00<?, ?it/s]"
      ]
     },
     "metadata": {},
     "output_type": "display_data"
    },
    {
     "name": "stdout",
     "output_type": "stream",
     "text": [
      "Estamos en la página https://skinsort.com/products//page/144\n",
      "Error al obtener los datos.\n"
     ]
    },
    {
     "data": {
      "application/vnd.jupyter.widget-view+json": {
       "model_id": "b4d497a7fe314eb3ae82eca7a487e339",
       "version_major": 2,
       "version_minor": 0
      },
      "text/plain": [
       "Obteniendo productos:   0%|          | 0/30 [00:00<?, ?it/s]"
      ]
     },
     "metadata": {},
     "output_type": "display_data"
    },
    {
     "name": "stdout",
     "output_type": "stream",
     "text": [
      "Estamos en la página https://skinsort.com/products//page/146\n"
     ]
    },
    {
     "data": {
      "application/vnd.jupyter.widget-view+json": {
       "model_id": "3387cf91617e4e61a179a2d1db383686",
       "version_major": 2,
       "version_minor": 0
      },
      "text/plain": [
       "Obteniendo productos:   0%|          | 0/30 [00:00<?, ?it/s]"
      ]
     },
     "metadata": {},
     "output_type": "display_data"
    },
    {
     "name": "stdout",
     "output_type": "stream",
     "text": [
      "Estamos en la página https://skinsort.com/products//page/147\n"
     ]
    },
    {
     "data": {
      "application/vnd.jupyter.widget-view+json": {
       "model_id": "f331fc40b1e74179ab9e6376a3169668",
       "version_major": 2,
       "version_minor": 0
      },
      "text/plain": [
       "Obteniendo productos:   0%|          | 0/30 [00:00<?, ?it/s]"
      ]
     },
     "metadata": {},
     "output_type": "display_data"
    },
    {
     "name": "stdout",
     "output_type": "stream",
     "text": [
      "Estamos en la página https://skinsort.com/products//page/148\n"
     ]
    },
    {
     "data": {
      "application/vnd.jupyter.widget-view+json": {
       "model_id": "2f3f005e21fa477e943f28ce39fd3299",
       "version_major": 2,
       "version_minor": 0
      },
      "text/plain": [
       "Obteniendo productos:   0%|          | 0/30 [00:00<?, ?it/s]"
      ]
     },
     "metadata": {},
     "output_type": "display_data"
    },
    {
     "name": "stdout",
     "output_type": "stream",
     "text": [
      "Estamos en la página https://skinsort.com/products//page/149\n"
     ]
    },
    {
     "data": {
      "application/vnd.jupyter.widget-view+json": {
       "model_id": "b94da771740c40e080158e32d30bb805",
       "version_major": 2,
       "version_minor": 0
      },
      "text/plain": [
       "Obteniendo productos:   0%|          | 0/30 [00:00<?, ?it/s]"
      ]
     },
     "metadata": {},
     "output_type": "display_data"
    },
    {
     "name": "stdout",
     "output_type": "stream",
     "text": [
      "Estamos en la página https://skinsort.com/products//page/150\n"
     ]
    },
    {
     "data": {
      "application/vnd.jupyter.widget-view+json": {
       "model_id": "3c340bf7fd5f4d8b966b5b56af6ed842",
       "version_major": 2,
       "version_minor": 0
      },
      "text/plain": [
       "Obteniendo productos:   0%|          | 0/30 [00:00<?, ?it/s]"
      ]
     },
     "metadata": {},
     "output_type": "display_data"
    },
    {
     "name": "stdout",
     "output_type": "stream",
     "text": [
      "Estamos en la página https://skinsort.com/products//page/151\n"
     ]
    },
    {
     "data": {
      "application/vnd.jupyter.widget-view+json": {
       "model_id": "79a8d5eb98d04996b854013c2626d83c",
       "version_major": 2,
       "version_minor": 0
      },
      "text/plain": [
       "Obteniendo productos:   0%|          | 0/30 [00:00<?, ?it/s]"
      ]
     },
     "metadata": {},
     "output_type": "display_data"
    },
    {
     "name": "stdout",
     "output_type": "stream",
     "text": [
      "Estamos en la página https://skinsort.com/products//page/152\n"
     ]
    },
    {
     "data": {
      "application/vnd.jupyter.widget-view+json": {
       "model_id": "46baf24006814cbaaa319be765bb560c",
       "version_major": 2,
       "version_minor": 0
      },
      "text/plain": [
       "Obteniendo productos:   0%|          | 0/30 [00:00<?, ?it/s]"
      ]
     },
     "metadata": {},
     "output_type": "display_data"
    },
    {
     "name": "stdout",
     "output_type": "stream",
     "text": [
      "Estamos en la página https://skinsort.com/products//page/153\n"
     ]
    },
    {
     "data": {
      "application/vnd.jupyter.widget-view+json": {
       "model_id": "5dd31ec852714ecbb0840e656b25b511",
       "version_major": 2,
       "version_minor": 0
      },
      "text/plain": [
       "Obteniendo productos:   0%|          | 0/30 [00:00<?, ?it/s]"
      ]
     },
     "metadata": {},
     "output_type": "display_data"
    },
    {
     "name": "stdout",
     "output_type": "stream",
     "text": [
      "Estamos en la página https://skinsort.com/products//page/154\n"
     ]
    },
    {
     "data": {
      "application/vnd.jupyter.widget-view+json": {
       "model_id": "323694d9a9e74a47a360501397c62989",
       "version_major": 2,
       "version_minor": 0
      },
      "text/plain": [
       "Obteniendo productos:   0%|          | 0/30 [00:00<?, ?it/s]"
      ]
     },
     "metadata": {},
     "output_type": "display_data"
    },
    {
     "name": "stdout",
     "output_type": "stream",
     "text": [
      "Estamos en la página https://skinsort.com/products//page/155\n"
     ]
    },
    {
     "data": {
      "application/vnd.jupyter.widget-view+json": {
       "model_id": "76fd883058d54dc9b933965c13f0e3ae",
       "version_major": 2,
       "version_minor": 0
      },
      "text/plain": [
       "Obteniendo productos:   0%|          | 0/30 [00:00<?, ?it/s]"
      ]
     },
     "metadata": {},
     "output_type": "display_data"
    },
    {
     "name": "stdout",
     "output_type": "stream",
     "text": [
      "Estamos en la página https://skinsort.com/products//page/156\n"
     ]
    },
    {
     "data": {
      "application/vnd.jupyter.widget-view+json": {
       "model_id": "104625c9c0404bc78a3ba4055b0ca749",
       "version_major": 2,
       "version_minor": 0
      },
      "text/plain": [
       "Obteniendo productos:   0%|          | 0/30 [00:00<?, ?it/s]"
      ]
     },
     "metadata": {},
     "output_type": "display_data"
    },
    {
     "name": "stdout",
     "output_type": "stream",
     "text": [
      "Estamos en la página https://skinsort.com/products//page/157\n"
     ]
    },
    {
     "data": {
      "application/vnd.jupyter.widget-view+json": {
       "model_id": "4d31cdeb9594421e8b39ef35f2dc786d",
       "version_major": 2,
       "version_minor": 0
      },
      "text/plain": [
       "Obteniendo productos:   0%|          | 0/30 [00:00<?, ?it/s]"
      ]
     },
     "metadata": {},
     "output_type": "display_data"
    },
    {
     "name": "stdout",
     "output_type": "stream",
     "text": [
      "Estamos en la página https://skinsort.com/products//page/158\n"
     ]
    },
    {
     "data": {
      "application/vnd.jupyter.widget-view+json": {
       "model_id": "1b577f78da774af9860f92dcebbee137",
       "version_major": 2,
       "version_minor": 0
      },
      "text/plain": [
       "Obteniendo productos:   0%|          | 0/30 [00:00<?, ?it/s]"
      ]
     },
     "metadata": {},
     "output_type": "display_data"
    },
    {
     "name": "stdout",
     "output_type": "stream",
     "text": [
      "Estamos en la página https://skinsort.com/products//page/159\n"
     ]
    },
    {
     "data": {
      "application/vnd.jupyter.widget-view+json": {
       "model_id": "33667a139fd84641bb63e4633f364911",
       "version_major": 2,
       "version_minor": 0
      },
      "text/plain": [
       "Obteniendo productos:   0%|          | 0/30 [00:00<?, ?it/s]"
      ]
     },
     "metadata": {},
     "output_type": "display_data"
    },
    {
     "name": "stdout",
     "output_type": "stream",
     "text": [
      "Estamos en la página https://skinsort.com/products//page/160\n"
     ]
    },
    {
     "data": {
      "application/vnd.jupyter.widget-view+json": {
       "model_id": "681dce924ba4422d9bbe059be984760a",
       "version_major": 2,
       "version_minor": 0
      },
      "text/plain": [
       "Obteniendo productos:   0%|          | 0/30 [00:00<?, ?it/s]"
      ]
     },
     "metadata": {},
     "output_type": "display_data"
    },
    {
     "name": "stdout",
     "output_type": "stream",
     "text": [
      "Estamos en la página https://skinsort.com/products//page/161\n"
     ]
    },
    {
     "data": {
      "application/vnd.jupyter.widget-view+json": {
       "model_id": "004b0824893d4d11ae80bd687e4556ef",
       "version_major": 2,
       "version_minor": 0
      },
      "text/plain": [
       "Obteniendo productos:   0%|          | 0/30 [00:00<?, ?it/s]"
      ]
     },
     "metadata": {},
     "output_type": "display_data"
    },
    {
     "name": "stdout",
     "output_type": "stream",
     "text": [
      "Estamos en la página https://skinsort.com/products//page/162\n"
     ]
    },
    {
     "data": {
      "application/vnd.jupyter.widget-view+json": {
       "model_id": "832a2d45e98f4599b6c5dba12b127ef0",
       "version_major": 2,
       "version_minor": 0
      },
      "text/plain": [
       "Obteniendo productos:   0%|          | 0/30 [00:00<?, ?it/s]"
      ]
     },
     "metadata": {},
     "output_type": "display_data"
    },
    {
     "name": "stdout",
     "output_type": "stream",
     "text": [
      "Estamos en la página https://skinsort.com/products//page/163\n"
     ]
    },
    {
     "data": {
      "application/vnd.jupyter.widget-view+json": {
       "model_id": "d7f3a6d620d14164997e2134341b2ff6",
       "version_major": 2,
       "version_minor": 0
      },
      "text/plain": [
       "Obteniendo productos:   0%|          | 0/30 [00:00<?, ?it/s]"
      ]
     },
     "metadata": {},
     "output_type": "display_data"
    },
    {
     "name": "stdout",
     "output_type": "stream",
     "text": [
      "Estamos en la página https://skinsort.com/products//page/164\n"
     ]
    },
    {
     "data": {
      "application/vnd.jupyter.widget-view+json": {
       "model_id": "8f3e4c9c9213461f813e649f55c149f2",
       "version_major": 2,
       "version_minor": 0
      },
      "text/plain": [
       "Obteniendo productos:   0%|          | 0/30 [00:00<?, ?it/s]"
      ]
     },
     "metadata": {},
     "output_type": "display_data"
    },
    {
     "name": "stdout",
     "output_type": "stream",
     "text": [
      "Estamos en la página https://skinsort.com/products//page/165\n"
     ]
    },
    {
     "data": {
      "application/vnd.jupyter.widget-view+json": {
       "model_id": "65126fea3f934c6ea1cd9eaf03fdca3e",
       "version_major": 2,
       "version_minor": 0
      },
      "text/plain": [
       "Obteniendo productos:   0%|          | 0/30 [00:00<?, ?it/s]"
      ]
     },
     "metadata": {},
     "output_type": "display_data"
    },
    {
     "name": "stdout",
     "output_type": "stream",
     "text": [
      "Estamos en la página https://skinsort.com/products//page/166\n"
     ]
    },
    {
     "data": {
      "application/vnd.jupyter.widget-view+json": {
       "model_id": "4c2f333247aa4487b590633ecab97d0b",
       "version_major": 2,
       "version_minor": 0
      },
      "text/plain": [
       "Obteniendo productos:   0%|          | 0/30 [00:00<?, ?it/s]"
      ]
     },
     "metadata": {},
     "output_type": "display_data"
    },
    {
     "name": "stdout",
     "output_type": "stream",
     "text": [
      "Estamos en la página https://skinsort.com/products//page/167\n"
     ]
    },
    {
     "data": {
      "application/vnd.jupyter.widget-view+json": {
       "model_id": "0680922a40dc47ffb28f43ec73f8c406",
       "version_major": 2,
       "version_minor": 0
      },
      "text/plain": [
       "Obteniendo productos:   0%|          | 0/30 [00:00<?, ?it/s]"
      ]
     },
     "metadata": {},
     "output_type": "display_data"
    },
    {
     "name": "stdout",
     "output_type": "stream",
     "text": [
      "Estamos en la página https://skinsort.com/products//page/168\n"
     ]
    },
    {
     "data": {
      "application/vnd.jupyter.widget-view+json": {
       "model_id": "8e7931c4c99d49be8b03f959117c8027",
       "version_major": 2,
       "version_minor": 0
      },
      "text/plain": [
       "Obteniendo productos:   0%|          | 0/30 [00:00<?, ?it/s]"
      ]
     },
     "metadata": {},
     "output_type": "display_data"
    },
    {
     "name": "stdout",
     "output_type": "stream",
     "text": [
      "Estamos en la página https://skinsort.com/products//page/169\n"
     ]
    },
    {
     "data": {
      "application/vnd.jupyter.widget-view+json": {
       "model_id": "ec346a45fc64498da590d79c52723002",
       "version_major": 2,
       "version_minor": 0
      },
      "text/plain": [
       "Obteniendo productos:   0%|          | 0/30 [00:00<?, ?it/s]"
      ]
     },
     "metadata": {},
     "output_type": "display_data"
    },
    {
     "name": "stdout",
     "output_type": "stream",
     "text": [
      "Estamos en la página https://skinsort.com/products//page/170\n"
     ]
    },
    {
     "data": {
      "application/vnd.jupyter.widget-view+json": {
       "model_id": "0182e61150ea4a928f0fbf627dec08e5",
       "version_major": 2,
       "version_minor": 0
      },
      "text/plain": [
       "Obteniendo productos:   0%|          | 0/30 [00:00<?, ?it/s]"
      ]
     },
     "metadata": {},
     "output_type": "display_data"
    },
    {
     "name": "stdout",
     "output_type": "stream",
     "text": [
      "Estamos en la página https://skinsort.com/products//page/171\n"
     ]
    },
    {
     "data": {
      "application/vnd.jupyter.widget-view+json": {
       "model_id": "fcba340ea4af401392774aa19f67c2c1",
       "version_major": 2,
       "version_minor": 0
      },
      "text/plain": [
       "Obteniendo productos:   0%|          | 0/30 [00:00<?, ?it/s]"
      ]
     },
     "metadata": {},
     "output_type": "display_data"
    },
    {
     "name": "stdout",
     "output_type": "stream",
     "text": [
      "Estamos en la página https://skinsort.com/products//page/172\n"
     ]
    },
    {
     "data": {
      "application/vnd.jupyter.widget-view+json": {
       "model_id": "9a123ad2bd974bceb615d2cb99799464",
       "version_major": 2,
       "version_minor": 0
      },
      "text/plain": [
       "Obteniendo productos:   0%|          | 0/30 [00:00<?, ?it/s]"
      ]
     },
     "metadata": {},
     "output_type": "display_data"
    },
    {
     "name": "stdout",
     "output_type": "stream",
     "text": [
      "Estamos en la página https://skinsort.com/products//page/173\n",
      "Error al obtener los datos.\n"
     ]
    },
    {
     "data": {
      "application/vnd.jupyter.widget-view+json": {
       "model_id": "0e2c44086bc74c49a63921240ff2bef2",
       "version_major": 2,
       "version_minor": 0
      },
      "text/plain": [
       "Obteniendo productos:   0%|          | 0/30 [00:00<?, ?it/s]"
      ]
     },
     "metadata": {},
     "output_type": "display_data"
    },
    {
     "name": "stdout",
     "output_type": "stream",
     "text": [
      "Estamos en la página https://skinsort.com/products//page/175\n"
     ]
    },
    {
     "data": {
      "application/vnd.jupyter.widget-view+json": {
       "model_id": "1f42eb3f87684befa51be49ab33437db",
       "version_major": 2,
       "version_minor": 0
      },
      "text/plain": [
       "Obteniendo productos:   0%|          | 0/30 [00:00<?, ?it/s]"
      ]
     },
     "metadata": {},
     "output_type": "display_data"
    },
    {
     "name": "stdout",
     "output_type": "stream",
     "text": [
      "Estamos en la página https://skinsort.com/products//page/176\n"
     ]
    },
    {
     "data": {
      "application/vnd.jupyter.widget-view+json": {
       "model_id": "7f929c595c9c40dc95ee6c51c146c38b",
       "version_major": 2,
       "version_minor": 0
      },
      "text/plain": [
       "Obteniendo productos:   0%|          | 0/30 [00:00<?, ?it/s]"
      ]
     },
     "metadata": {},
     "output_type": "display_data"
    },
    {
     "name": "stdout",
     "output_type": "stream",
     "text": [
      "Estamos en la página https://skinsort.com/products//page/177\n"
     ]
    },
    {
     "data": {
      "application/vnd.jupyter.widget-view+json": {
       "model_id": "7282b09ee8144247bc0d4db3192c9cf7",
       "version_major": 2,
       "version_minor": 0
      },
      "text/plain": [
       "Obteniendo productos:   0%|          | 0/30 [00:00<?, ?it/s]"
      ]
     },
     "metadata": {},
     "output_type": "display_data"
    },
    {
     "name": "stdout",
     "output_type": "stream",
     "text": [
      "Estamos en la página https://skinsort.com/products//page/178\n"
     ]
    },
    {
     "data": {
      "application/vnd.jupyter.widget-view+json": {
       "model_id": "32ddb133c5544924935fa690be858790",
       "version_major": 2,
       "version_minor": 0
      },
      "text/plain": [
       "Obteniendo productos:   0%|          | 0/30 [00:00<?, ?it/s]"
      ]
     },
     "metadata": {},
     "output_type": "display_data"
    },
    {
     "name": "stdout",
     "output_type": "stream",
     "text": [
      "Estamos en la página https://skinsort.com/products//page/179\n"
     ]
    },
    {
     "data": {
      "application/vnd.jupyter.widget-view+json": {
       "model_id": "3d209cc6d46c49ecab9bbd8a2b7b8df9",
       "version_major": 2,
       "version_minor": 0
      },
      "text/plain": [
       "Obteniendo productos:   0%|          | 0/30 [00:00<?, ?it/s]"
      ]
     },
     "metadata": {},
     "output_type": "display_data"
    },
    {
     "name": "stdout",
     "output_type": "stream",
     "text": [
      "Estamos en la página https://skinsort.com/products//page/180\n"
     ]
    },
    {
     "data": {
      "application/vnd.jupyter.widget-view+json": {
       "model_id": "183b35ff54d440e7a2694de45818f540",
       "version_major": 2,
       "version_minor": 0
      },
      "text/plain": [
       "Obteniendo productos:   0%|          | 0/30 [00:00<?, ?it/s]"
      ]
     },
     "metadata": {},
     "output_type": "display_data"
    },
    {
     "name": "stdout",
     "output_type": "stream",
     "text": [
      "Estamos en la página https://skinsort.com/products//page/181\n"
     ]
    },
    {
     "data": {
      "application/vnd.jupyter.widget-view+json": {
       "model_id": "b93c20a323bf4167af1040b0ff1d1657",
       "version_major": 2,
       "version_minor": 0
      },
      "text/plain": [
       "Obteniendo productos:   0%|          | 0/30 [00:00<?, ?it/s]"
      ]
     },
     "metadata": {},
     "output_type": "display_data"
    },
    {
     "name": "stdout",
     "output_type": "stream",
     "text": [
      "Estamos en la página https://skinsort.com/products//page/182\n"
     ]
    },
    {
     "data": {
      "application/vnd.jupyter.widget-view+json": {
       "model_id": "d4222a33d72b4c38a782b3456b7546c8",
       "version_major": 2,
       "version_minor": 0
      },
      "text/plain": [
       "Obteniendo productos:   0%|          | 0/30 [00:00<?, ?it/s]"
      ]
     },
     "metadata": {},
     "output_type": "display_data"
    },
    {
     "name": "stdout",
     "output_type": "stream",
     "text": [
      "Estamos en la página https://skinsort.com/products//page/183\n"
     ]
    },
    {
     "data": {
      "application/vnd.jupyter.widget-view+json": {
       "model_id": "7f46300583034300ad5ac1e5e89b5d88",
       "version_major": 2,
       "version_minor": 0
      },
      "text/plain": [
       "Obteniendo productos:   0%|          | 0/30 [00:00<?, ?it/s]"
      ]
     },
     "metadata": {},
     "output_type": "display_data"
    },
    {
     "name": "stdout",
     "output_type": "stream",
     "text": [
      "Estamos en la página https://skinsort.com/products//page/184\n"
     ]
    },
    {
     "data": {
      "application/vnd.jupyter.widget-view+json": {
       "model_id": "d342a99d2d4d4f66943e163ee38cdd6d",
       "version_major": 2,
       "version_minor": 0
      },
      "text/plain": [
       "Obteniendo productos:   0%|          | 0/30 [00:00<?, ?it/s]"
      ]
     },
     "metadata": {},
     "output_type": "display_data"
    },
    {
     "name": "stdout",
     "output_type": "stream",
     "text": [
      "Estamos en la página https://skinsort.com/products//page/185\n"
     ]
    },
    {
     "data": {
      "application/vnd.jupyter.widget-view+json": {
       "model_id": "c87a94173b0f49d29f627a15749daee0",
       "version_major": 2,
       "version_minor": 0
      },
      "text/plain": [
       "Obteniendo productos:   0%|          | 0/30 [00:00<?, ?it/s]"
      ]
     },
     "metadata": {},
     "output_type": "display_data"
    },
    {
     "name": "stdout",
     "output_type": "stream",
     "text": [
      "Estamos en la página https://skinsort.com/products//page/186\n"
     ]
    },
    {
     "data": {
      "application/vnd.jupyter.widget-view+json": {
       "model_id": "6f3387ea9f6c4586ad92ae1c16438a2f",
       "version_major": 2,
       "version_minor": 0
      },
      "text/plain": [
       "Obteniendo productos:   0%|          | 0/30 [00:00<?, ?it/s]"
      ]
     },
     "metadata": {},
     "output_type": "display_data"
    },
    {
     "name": "stdout",
     "output_type": "stream",
     "text": [
      "Estamos en la página https://skinsort.com/products//page/187\n"
     ]
    },
    {
     "data": {
      "application/vnd.jupyter.widget-view+json": {
       "model_id": "d3f8cf3cffb141cfb2d40f996d0fe3f9",
       "version_major": 2,
       "version_minor": 0
      },
      "text/plain": [
       "Obteniendo productos:   0%|          | 0/30 [00:00<?, ?it/s]"
      ]
     },
     "metadata": {},
     "output_type": "display_data"
    },
    {
     "name": "stdout",
     "output_type": "stream",
     "text": [
      "Estamos en la página https://skinsort.com/products//page/188\n"
     ]
    },
    {
     "data": {
      "application/vnd.jupyter.widget-view+json": {
       "model_id": "dff60bad2baf4208acb2a9c3846b84a7",
       "version_major": 2,
       "version_minor": 0
      },
      "text/plain": [
       "Obteniendo productos:   0%|          | 0/30 [00:00<?, ?it/s]"
      ]
     },
     "metadata": {},
     "output_type": "display_data"
    },
    {
     "name": "stdout",
     "output_type": "stream",
     "text": [
      "Estamos en la página https://skinsort.com/products//page/189\n",
      "Error al obtener los datos.\n"
     ]
    },
    {
     "data": {
      "application/vnd.jupyter.widget-view+json": {
       "model_id": "87098588ae564c69aee86676646305c5",
       "version_major": 2,
       "version_minor": 0
      },
      "text/plain": [
       "Obteniendo productos:   0%|          | 0/30 [00:00<?, ?it/s]"
      ]
     },
     "metadata": {},
     "output_type": "display_data"
    },
    {
     "name": "stdout",
     "output_type": "stream",
     "text": [
      "Estamos en la página https://skinsort.com/products//page/191\n"
     ]
    },
    {
     "data": {
      "application/vnd.jupyter.widget-view+json": {
       "model_id": "5859f5d60793460e9b46ee8e9e8dfe9a",
       "version_major": 2,
       "version_minor": 0
      },
      "text/plain": [
       "Obteniendo productos:   0%|          | 0/30 [00:00<?, ?it/s]"
      ]
     },
     "metadata": {},
     "output_type": "display_data"
    },
    {
     "name": "stdout",
     "output_type": "stream",
     "text": [
      "Estamos en la página https://skinsort.com/products//page/192\n"
     ]
    },
    {
     "data": {
      "application/vnd.jupyter.widget-view+json": {
       "model_id": "1ad2cfca62104cceac5fc61a4a6ab6ab",
       "version_major": 2,
       "version_minor": 0
      },
      "text/plain": [
       "Obteniendo productos:   0%|          | 0/30 [00:00<?, ?it/s]"
      ]
     },
     "metadata": {},
     "output_type": "display_data"
    },
    {
     "name": "stdout",
     "output_type": "stream",
     "text": [
      "Estamos en la página https://skinsort.com/products//page/193\n"
     ]
    },
    {
     "data": {
      "application/vnd.jupyter.widget-view+json": {
       "model_id": "dc5ebf1aacf342179e72f43111d07f20",
       "version_major": 2,
       "version_minor": 0
      },
      "text/plain": [
       "Obteniendo productos:   0%|          | 0/30 [00:00<?, ?it/s]"
      ]
     },
     "metadata": {},
     "output_type": "display_data"
    },
    {
     "name": "stdout",
     "output_type": "stream",
     "text": [
      "Estamos en la página https://skinsort.com/products//page/194\n"
     ]
    },
    {
     "data": {
      "application/vnd.jupyter.widget-view+json": {
       "model_id": "63185351f3764fbdbe53a3a366f9f0e0",
       "version_major": 2,
       "version_minor": 0
      },
      "text/plain": [
       "Obteniendo productos:   0%|          | 0/30 [00:00<?, ?it/s]"
      ]
     },
     "metadata": {},
     "output_type": "display_data"
    },
    {
     "name": "stdout",
     "output_type": "stream",
     "text": [
      "Estamos en la página https://skinsort.com/products//page/195\n",
      "Error al obtener los datos.\n"
     ]
    },
    {
     "data": {
      "application/vnd.jupyter.widget-view+json": {
       "model_id": "2026e1f4679a45cdbf71106ff9cb01e5",
       "version_major": 2,
       "version_minor": 0
      },
      "text/plain": [
       "Obteniendo productos:   0%|          | 0/30 [00:00<?, ?it/s]"
      ]
     },
     "metadata": {},
     "output_type": "display_data"
    },
    {
     "name": "stdout",
     "output_type": "stream",
     "text": [
      "Estamos en la página https://skinsort.com/products//page/197\n"
     ]
    },
    {
     "data": {
      "application/vnd.jupyter.widget-view+json": {
       "model_id": "f2c7dc0a4fdd4139a86b821cf0a5a86d",
       "version_major": 2,
       "version_minor": 0
      },
      "text/plain": [
       "Obteniendo productos:   0%|          | 0/30 [00:00<?, ?it/s]"
      ]
     },
     "metadata": {},
     "output_type": "display_data"
    },
    {
     "name": "stdout",
     "output_type": "stream",
     "text": [
      "Estamos en la página https://skinsort.com/products//page/198\n",
      "Error al obtener los datos.\n"
     ]
    }
   ],
   "source": [
    "dict2={}\n",
    "for i in range(100, 200):\n",
    "    dict2[i] = scrap(f'https://skinsort.com/products//page/{i}')"
   ]
  },
  {
   "cell_type": "code",
   "execution_count": 60,
   "id": "5d785f83",
   "metadata": {},
   "outputs": [
    {
     "name": "stderr",
     "output_type": "stream",
     "text": [
      "2023-03-09 13:20:53,132 [88601] WARNING  py.warnings:109: [JupyterRequire] /tmp/ipykernel_88601/4040571658.py:3: DeprecationWarning: executable_path has been deprecated, please pass in a Service object\n",
      "  driver = webdriver.Chrome(PATH)\n",
      "\n"
     ]
    },
    {
     "data": {
      "application/vnd.jupyter.widget-view+json": {
       "model_id": "226b5c5338b3423c86e74509aeda9dc0",
       "version_major": 2,
       "version_minor": 0
      },
      "text/plain": [
       "Obteniendo productos:   0%|          | 0/30 [00:00<?, ?it/s]"
      ]
     },
     "metadata": {},
     "output_type": "display_data"
    },
    {
     "name": "stdout",
     "output_type": "stream",
     "text": [
      "Estamos en la página https://skinsort.com/products//page/101\n"
     ]
    },
    {
     "data": {
      "application/vnd.jupyter.widget-view+json": {
       "model_id": "32948728e46d41f784717228d9bbf63c",
       "version_major": 2,
       "version_minor": 0
      },
      "text/plain": [
       "Obteniendo productos:   0%|          | 0/30 [00:00<?, ?it/s]"
      ]
     },
     "metadata": {},
     "output_type": "display_data"
    },
    {
     "name": "stdout",
     "output_type": "stream",
     "text": [
      "Estamos en la página https://skinsort.com/products//page/132\n"
     ]
    },
    {
     "data": {
      "application/vnd.jupyter.widget-view+json": {
       "model_id": "03530a9b9c6f44a0be446800ac971771",
       "version_major": 2,
       "version_minor": 0
      },
      "text/plain": [
       "Obteniendo productos:   0%|          | 0/30 [00:00<?, ?it/s]"
      ]
     },
     "metadata": {},
     "output_type": "display_data"
    },
    {
     "name": "stdout",
     "output_type": "stream",
     "text": [
      "Estamos en la página https://skinsort.com/products//page/35\n"
     ]
    },
    {
     "data": {
      "application/vnd.jupyter.widget-view+json": {
       "model_id": "268aafc8b1194183ba1029074b746c19",
       "version_major": 2,
       "version_minor": 0
      },
      "text/plain": [
       "Obteniendo productos:   0%|          | 0/30 [00:00<?, ?it/s]"
      ]
     },
     "metadata": {},
     "output_type": "display_data"
    },
    {
     "name": "stdout",
     "output_type": "stream",
     "text": [
      "Estamos en la página https://skinsort.com/products//page/141\n"
     ]
    },
    {
     "data": {
      "application/vnd.jupyter.widget-view+json": {
       "model_id": "487be44c57354766897a619890e4c71f",
       "version_major": 2,
       "version_minor": 0
      },
      "text/plain": [
       "Obteniendo productos:   0%|          | 0/30 [00:00<?, ?it/s]"
      ]
     },
     "metadata": {},
     "output_type": "display_data"
    },
    {
     "name": "stdout",
     "output_type": "stream",
     "text": [
      "Estamos en la página https://skinsort.com/products//page/145\n"
     ]
    },
    {
     "data": {
      "application/vnd.jupyter.widget-view+json": {
       "model_id": "63f644c2813d458f9a3bf625ef7c0c95",
       "version_major": 2,
       "version_minor": 0
      },
      "text/plain": [
       "Obteniendo productos:   0%|          | 0/30 [00:00<?, ?it/s]"
      ]
     },
     "metadata": {},
     "output_type": "display_data"
    },
    {
     "name": "stdout",
     "output_type": "stream",
     "text": [
      "Estamos en la página https://skinsort.com/products//page/174\n"
     ]
    },
    {
     "data": {
      "application/vnd.jupyter.widget-view+json": {
       "model_id": "7cfa42def0214186becbf2d02853fe46",
       "version_major": 2,
       "version_minor": 0
      },
      "text/plain": [
       "Obteniendo productos:   0%|          | 0/30 [00:00<?, ?it/s]"
      ]
     },
     "metadata": {},
     "output_type": "display_data"
    },
    {
     "name": "stdout",
     "output_type": "stream",
     "text": [
      "Estamos en la página https://skinsort.com/products//page/197\n"
     ]
    }
   ],
   "source": [
    "dict2[101] = scrap('https://skinsort.com/products//page/101')\n",
    "dict2[132] = scrap('https://skinsort.com/products//page/132')\n",
    "dict2[135] = scrap('https://skinsort.com/products//page/35')\n",
    "dict2[141] = scrap('https://skinsort.com/products//page/141')\n",
    "dict2[145] = scrap('https://skinsort.com/products//page/145')\n",
    "dict2[174] = scrap('https://skinsort.com/products//page/174')\n",
    "dict2[197] = scrap('https://skinsort.com/products//page/197')"
   ]
  },
  {
   "cell_type": "code",
   "execution_count": null,
   "id": "3696d415",
   "metadata": {},
   "outputs": [],
   "source": []
  },
  {
   "cell_type": "code",
   "execution_count": 61,
   "id": "9ff2746e",
   "metadata": {},
   "outputs": [],
   "source": [
    "\n",
    "with open('datos_scrapeados2.json', 'w') as file:\n",
    "    json.dump(dict2, file)"
   ]
  },
  {
   "cell_type": "code",
   "execution_count": 62,
   "id": "cdd8627d",
   "metadata": {},
   "outputs": [
    {
     "name": "stderr",
     "output_type": "stream",
     "text": [
      "2023-03-09 13:24:21,459 [88601] WARNING  py.warnings:109: [JupyterRequire] /tmp/ipykernel_88601/4040571658.py:3: DeprecationWarning: executable_path has been deprecated, please pass in a Service object\n",
      "  driver = webdriver.Chrome(PATH)\n",
      "\n"
     ]
    },
    {
     "data": {
      "application/vnd.jupyter.widget-view+json": {
       "model_id": "694810ecc74e4d4ba019492aa5060621",
       "version_major": 2,
       "version_minor": 0
      },
      "text/plain": [
       "Obteniendo productos:   0%|          | 0/30 [00:00<?, ?it/s]"
      ]
     },
     "metadata": {},
     "output_type": "display_data"
    },
    {
     "name": "stdout",
     "output_type": "stream",
     "text": [
      "Estamos en la página https://skinsort.com/products//page/200\n"
     ]
    },
    {
     "data": {
      "application/vnd.jupyter.widget-view+json": {
       "model_id": "8195dbee51834dacb59c078bad3c5d69",
       "version_major": 2,
       "version_minor": 0
      },
      "text/plain": [
       "Obteniendo productos:   0%|          | 0/30 [00:00<?, ?it/s]"
      ]
     },
     "metadata": {},
     "output_type": "display_data"
    },
    {
     "name": "stdout",
     "output_type": "stream",
     "text": [
      "Estamos en la página https://skinsort.com/products//page/201\n"
     ]
    },
    {
     "data": {
      "application/vnd.jupyter.widget-view+json": {
       "model_id": "55faea11413442cb9871c77b14cd283b",
       "version_major": 2,
       "version_minor": 0
      },
      "text/plain": [
       "Obteniendo productos:   0%|          | 0/30 [00:00<?, ?it/s]"
      ]
     },
     "metadata": {},
     "output_type": "display_data"
    },
    {
     "name": "stdout",
     "output_type": "stream",
     "text": [
      "Estamos en la página https://skinsort.com/products//page/202\n"
     ]
    },
    {
     "data": {
      "application/vnd.jupyter.widget-view+json": {
       "model_id": "57762e481676437485c004147a1f4df5",
       "version_major": 2,
       "version_minor": 0
      },
      "text/plain": [
       "Obteniendo productos:   0%|          | 0/30 [00:00<?, ?it/s]"
      ]
     },
     "metadata": {},
     "output_type": "display_data"
    },
    {
     "name": "stdout",
     "output_type": "stream",
     "text": [
      "Estamos en la página https://skinsort.com/products//page/203\n"
     ]
    },
    {
     "data": {
      "application/vnd.jupyter.widget-view+json": {
       "model_id": "0a4e18fe0014437c826c4770f32af7d1",
       "version_major": 2,
       "version_minor": 0
      },
      "text/plain": [
       "Obteniendo productos:   0%|          | 0/30 [00:00<?, ?it/s]"
      ]
     },
     "metadata": {},
     "output_type": "display_data"
    },
    {
     "name": "stdout",
     "output_type": "stream",
     "text": [
      "Estamos en la página https://skinsort.com/products//page/204\n"
     ]
    },
    {
     "data": {
      "application/vnd.jupyter.widget-view+json": {
       "model_id": "0773419ffc274850aa591c1d52d3e421",
       "version_major": 2,
       "version_minor": 0
      },
      "text/plain": [
       "Obteniendo productos:   0%|          | 0/30 [00:00<?, ?it/s]"
      ]
     },
     "metadata": {},
     "output_type": "display_data"
    },
    {
     "name": "stdout",
     "output_type": "stream",
     "text": [
      "Estamos en la página https://skinsort.com/products//page/205\n"
     ]
    },
    {
     "data": {
      "application/vnd.jupyter.widget-view+json": {
       "model_id": "35e1203f04894d268dfacb91be7ae00b",
       "version_major": 2,
       "version_minor": 0
      },
      "text/plain": [
       "Obteniendo productos:   0%|          | 0/30 [00:00<?, ?it/s]"
      ]
     },
     "metadata": {},
     "output_type": "display_data"
    },
    {
     "name": "stdout",
     "output_type": "stream",
     "text": [
      "Estamos en la página https://skinsort.com/products//page/206\n"
     ]
    },
    {
     "data": {
      "application/vnd.jupyter.widget-view+json": {
       "model_id": "e81b943afa4a45e2b738f1a82f2ac92e",
       "version_major": 2,
       "version_minor": 0
      },
      "text/plain": [
       "Obteniendo productos:   0%|          | 0/30 [00:00<?, ?it/s]"
      ]
     },
     "metadata": {},
     "output_type": "display_data"
    },
    {
     "name": "stdout",
     "output_type": "stream",
     "text": [
      "Estamos en la página https://skinsort.com/products//page/207\n"
     ]
    },
    {
     "data": {
      "application/vnd.jupyter.widget-view+json": {
       "model_id": "d236199230dc4ea2a192c605e0a93b7d",
       "version_major": 2,
       "version_minor": 0
      },
      "text/plain": [
       "Obteniendo productos:   0%|          | 0/30 [00:00<?, ?it/s]"
      ]
     },
     "metadata": {},
     "output_type": "display_data"
    },
    {
     "name": "stdout",
     "output_type": "stream",
     "text": [
      "Estamos en la página https://skinsort.com/products//page/208\n"
     ]
    },
    {
     "data": {
      "application/vnd.jupyter.widget-view+json": {
       "model_id": "751d8236eb674e26a8dacf72c0b738d9",
       "version_major": 2,
       "version_minor": 0
      },
      "text/plain": [
       "Obteniendo productos:   0%|          | 0/30 [00:00<?, ?it/s]"
      ]
     },
     "metadata": {},
     "output_type": "display_data"
    },
    {
     "name": "stdout",
     "output_type": "stream",
     "text": [
      "Estamos en la página https://skinsort.com/products//page/209\n"
     ]
    },
    {
     "data": {
      "application/vnd.jupyter.widget-view+json": {
       "model_id": "75b03152089145a6831502db035f68e1",
       "version_major": 2,
       "version_minor": 0
      },
      "text/plain": [
       "Obteniendo productos:   0%|          | 0/30 [00:00<?, ?it/s]"
      ]
     },
     "metadata": {},
     "output_type": "display_data"
    },
    {
     "name": "stdout",
     "output_type": "stream",
     "text": [
      "Estamos en la página https://skinsort.com/products//page/210\n"
     ]
    },
    {
     "data": {
      "application/vnd.jupyter.widget-view+json": {
       "model_id": "1818357a07f9490d960f82d407728a3f",
       "version_major": 2,
       "version_minor": 0
      },
      "text/plain": [
       "Obteniendo productos:   0%|          | 0/30 [00:00<?, ?it/s]"
      ]
     },
     "metadata": {},
     "output_type": "display_data"
    },
    {
     "name": "stdout",
     "output_type": "stream",
     "text": [
      "Estamos en la página https://skinsort.com/products//page/211\n"
     ]
    },
    {
     "data": {
      "application/vnd.jupyter.widget-view+json": {
       "model_id": "17c44e34c5174d67ae741c193f079fcd",
       "version_major": 2,
       "version_minor": 0
      },
      "text/plain": [
       "Obteniendo productos:   0%|          | 0/30 [00:00<?, ?it/s]"
      ]
     },
     "metadata": {},
     "output_type": "display_data"
    },
    {
     "name": "stdout",
     "output_type": "stream",
     "text": [
      "Estamos en la página https://skinsort.com/products//page/212\n"
     ]
    },
    {
     "data": {
      "application/vnd.jupyter.widget-view+json": {
       "model_id": "eef36d828e9a4858ab1bf92b5090783f",
       "version_major": 2,
       "version_minor": 0
      },
      "text/plain": [
       "Obteniendo productos:   0%|          | 0/30 [00:00<?, ?it/s]"
      ]
     },
     "metadata": {},
     "output_type": "display_data"
    },
    {
     "name": "stdout",
     "output_type": "stream",
     "text": [
      "Estamos en la página https://skinsort.com/products//page/213\n"
     ]
    },
    {
     "data": {
      "application/vnd.jupyter.widget-view+json": {
       "model_id": "80e3b0eeea0c4721bc1aa4590eb56274",
       "version_major": 2,
       "version_minor": 0
      },
      "text/plain": [
       "Obteniendo productos:   0%|          | 0/30 [00:00<?, ?it/s]"
      ]
     },
     "metadata": {},
     "output_type": "display_data"
    },
    {
     "name": "stdout",
     "output_type": "stream",
     "text": [
      "Estamos en la página https://skinsort.com/products//page/214\n"
     ]
    },
    {
     "data": {
      "application/vnd.jupyter.widget-view+json": {
       "model_id": "13934051bae64e06916dc49eec10b335",
       "version_major": 2,
       "version_minor": 0
      },
      "text/plain": [
       "Obteniendo productos:   0%|          | 0/30 [00:00<?, ?it/s]"
      ]
     },
     "metadata": {},
     "output_type": "display_data"
    },
    {
     "name": "stdout",
     "output_type": "stream",
     "text": [
      "Estamos en la página https://skinsort.com/products//page/215\n"
     ]
    },
    {
     "data": {
      "application/vnd.jupyter.widget-view+json": {
       "model_id": "7f4d682d0ad04acd85d7aef2240005bb",
       "version_major": 2,
       "version_minor": 0
      },
      "text/plain": [
       "Obteniendo productos:   0%|          | 0/30 [00:00<?, ?it/s]"
      ]
     },
     "metadata": {},
     "output_type": "display_data"
    },
    {
     "name": "stdout",
     "output_type": "stream",
     "text": [
      "Estamos en la página https://skinsort.com/products//page/216\n"
     ]
    },
    {
     "data": {
      "application/vnd.jupyter.widget-view+json": {
       "model_id": "7f4a6ed2869d4e809cc481202641715c",
       "version_major": 2,
       "version_minor": 0
      },
      "text/plain": [
       "Obteniendo productos:   0%|          | 0/30 [00:00<?, ?it/s]"
      ]
     },
     "metadata": {},
     "output_type": "display_data"
    },
    {
     "name": "stdout",
     "output_type": "stream",
     "text": [
      "Estamos en la página https://skinsort.com/products//page/217\n"
     ]
    },
    {
     "data": {
      "application/vnd.jupyter.widget-view+json": {
       "model_id": "7847922362e845c3afa4de2476ad5321",
       "version_major": 2,
       "version_minor": 0
      },
      "text/plain": [
       "Obteniendo productos:   0%|          | 0/30 [00:00<?, ?it/s]"
      ]
     },
     "metadata": {},
     "output_type": "display_data"
    },
    {
     "name": "stdout",
     "output_type": "stream",
     "text": [
      "Estamos en la página https://skinsort.com/products//page/218\n"
     ]
    },
    {
     "data": {
      "application/vnd.jupyter.widget-view+json": {
       "model_id": "40b3d68bf9a44b0e93bbe8e3488d6466",
       "version_major": 2,
       "version_minor": 0
      },
      "text/plain": [
       "Obteniendo productos:   0%|          | 0/30 [00:00<?, ?it/s]"
      ]
     },
     "metadata": {},
     "output_type": "display_data"
    },
    {
     "name": "stdout",
     "output_type": "stream",
     "text": [
      "Estamos en la página https://skinsort.com/products//page/219\n"
     ]
    },
    {
     "data": {
      "application/vnd.jupyter.widget-view+json": {
       "model_id": "ef0ba9c3894440d7850bbd435970bba4",
       "version_major": 2,
       "version_minor": 0
      },
      "text/plain": [
       "Obteniendo productos:   0%|          | 0/30 [00:00<?, ?it/s]"
      ]
     },
     "metadata": {},
     "output_type": "display_data"
    },
    {
     "name": "stdout",
     "output_type": "stream",
     "text": [
      "Estamos en la página https://skinsort.com/products//page/220\n"
     ]
    },
    {
     "data": {
      "application/vnd.jupyter.widget-view+json": {
       "model_id": "7cad3fd68c494124a6386d4a18b84ada",
       "version_major": 2,
       "version_minor": 0
      },
      "text/plain": [
       "Obteniendo productos:   0%|          | 0/30 [00:00<?, ?it/s]"
      ]
     },
     "metadata": {},
     "output_type": "display_data"
    },
    {
     "name": "stdout",
     "output_type": "stream",
     "text": [
      "Estamos en la página https://skinsort.com/products//page/221\n"
     ]
    },
    {
     "data": {
      "application/vnd.jupyter.widget-view+json": {
       "model_id": "99cfa0acdb2143e5a4d35e593c9bd312",
       "version_major": 2,
       "version_minor": 0
      },
      "text/plain": [
       "Obteniendo productos:   0%|          | 0/30 [00:00<?, ?it/s]"
      ]
     },
     "metadata": {},
     "output_type": "display_data"
    },
    {
     "name": "stdout",
     "output_type": "stream",
     "text": [
      "Estamos en la página https://skinsort.com/products//page/222\n"
     ]
    },
    {
     "data": {
      "application/vnd.jupyter.widget-view+json": {
       "model_id": "c656a055653248e1a71217dc78e308cc",
       "version_major": 2,
       "version_minor": 0
      },
      "text/plain": [
       "Obteniendo productos:   0%|          | 0/30 [00:00<?, ?it/s]"
      ]
     },
     "metadata": {},
     "output_type": "display_data"
    },
    {
     "name": "stdout",
     "output_type": "stream",
     "text": [
      "Estamos en la página https://skinsort.com/products//page/223\n"
     ]
    },
    {
     "data": {
      "application/vnd.jupyter.widget-view+json": {
       "model_id": "0e3f3cbaebea416cac083a69ba088f7a",
       "version_major": 2,
       "version_minor": 0
      },
      "text/plain": [
       "Obteniendo productos:   0%|          | 0/30 [00:00<?, ?it/s]"
      ]
     },
     "metadata": {},
     "output_type": "display_data"
    },
    {
     "name": "stdout",
     "output_type": "stream",
     "text": [
      "Estamos en la página https://skinsort.com/products//page/224\n"
     ]
    },
    {
     "data": {
      "application/vnd.jupyter.widget-view+json": {
       "model_id": "50721642cf79423eb08f665c8a2beda4",
       "version_major": 2,
       "version_minor": 0
      },
      "text/plain": [
       "Obteniendo productos:   0%|          | 0/30 [00:00<?, ?it/s]"
      ]
     },
     "metadata": {},
     "output_type": "display_data"
    },
    {
     "name": "stdout",
     "output_type": "stream",
     "text": [
      "Estamos en la página https://skinsort.com/products//page/225\n"
     ]
    },
    {
     "data": {
      "application/vnd.jupyter.widget-view+json": {
       "model_id": "61726f5007274d56bfd482f538c6c69a",
       "version_major": 2,
       "version_minor": 0
      },
      "text/plain": [
       "Obteniendo productos:   0%|          | 0/30 [00:00<?, ?it/s]"
      ]
     },
     "metadata": {},
     "output_type": "display_data"
    },
    {
     "name": "stdout",
     "output_type": "stream",
     "text": [
      "Estamos en la página https://skinsort.com/products//page/226\n"
     ]
    },
    {
     "data": {
      "application/vnd.jupyter.widget-view+json": {
       "model_id": "2fcc5affc6404c4d96e6e685e3dd5798",
       "version_major": 2,
       "version_minor": 0
      },
      "text/plain": [
       "Obteniendo productos:   0%|          | 0/30 [00:00<?, ?it/s]"
      ]
     },
     "metadata": {},
     "output_type": "display_data"
    },
    {
     "name": "stdout",
     "output_type": "stream",
     "text": [
      "Estamos en la página https://skinsort.com/products//page/227\n",
      "Error al obtener los datos.\n"
     ]
    },
    {
     "data": {
      "application/vnd.jupyter.widget-view+json": {
       "model_id": "2352aeafcec148738bbf1ba3afb5127c",
       "version_major": 2,
       "version_minor": 0
      },
      "text/plain": [
       "Obteniendo productos:   0%|          | 0/30 [00:00<?, ?it/s]"
      ]
     },
     "metadata": {},
     "output_type": "display_data"
    },
    {
     "name": "stdout",
     "output_type": "stream",
     "text": [
      "Estamos en la página https://skinsort.com/products//page/229\n"
     ]
    },
    {
     "data": {
      "application/vnd.jupyter.widget-view+json": {
       "model_id": "a937009ec3c6459fa30a9318270adebf",
       "version_major": 2,
       "version_minor": 0
      },
      "text/plain": [
       "Obteniendo productos:   0%|          | 0/30 [00:00<?, ?it/s]"
      ]
     },
     "metadata": {},
     "output_type": "display_data"
    },
    {
     "name": "stdout",
     "output_type": "stream",
     "text": [
      "Estamos en la página https://skinsort.com/products//page/230\n"
     ]
    },
    {
     "data": {
      "application/vnd.jupyter.widget-view+json": {
       "model_id": "d8946f0d4bc240919c25201a877c26bb",
       "version_major": 2,
       "version_minor": 0
      },
      "text/plain": [
       "Obteniendo productos:   0%|          | 0/30 [00:00<?, ?it/s]"
      ]
     },
     "metadata": {},
     "output_type": "display_data"
    },
    {
     "name": "stdout",
     "output_type": "stream",
     "text": [
      "Estamos en la página https://skinsort.com/products//page/231\n"
     ]
    },
    {
     "data": {
      "application/vnd.jupyter.widget-view+json": {
       "model_id": "fb13b6ea06b6402bbd20ae1193c42488",
       "version_major": 2,
       "version_minor": 0
      },
      "text/plain": [
       "Obteniendo productos:   0%|          | 0/30 [00:00<?, ?it/s]"
      ]
     },
     "metadata": {},
     "output_type": "display_data"
    },
    {
     "name": "stdout",
     "output_type": "stream",
     "text": [
      "Estamos en la página https://skinsort.com/products//page/232\n"
     ]
    },
    {
     "data": {
      "application/vnd.jupyter.widget-view+json": {
       "model_id": "d38c69dfb59f4d198c26a39c1a8b04a0",
       "version_major": 2,
       "version_minor": 0
      },
      "text/plain": [
       "Obteniendo productos:   0%|          | 0/30 [00:00<?, ?it/s]"
      ]
     },
     "metadata": {},
     "output_type": "display_data"
    },
    {
     "name": "stdout",
     "output_type": "stream",
     "text": [
      "Estamos en la página https://skinsort.com/products//page/233\n"
     ]
    },
    {
     "data": {
      "application/vnd.jupyter.widget-view+json": {
       "model_id": "b0436209c43b4b77b1c3a1ea60137c6f",
       "version_major": 2,
       "version_minor": 0
      },
      "text/plain": [
       "Obteniendo productos:   0%|          | 0/30 [00:00<?, ?it/s]"
      ]
     },
     "metadata": {},
     "output_type": "display_data"
    },
    {
     "name": "stdout",
     "output_type": "stream",
     "text": [
      "Estamos en la página https://skinsort.com/products//page/234\n"
     ]
    },
    {
     "data": {
      "application/vnd.jupyter.widget-view+json": {
       "model_id": "6abc9ad25adc43679c0d2745e9e12c09",
       "version_major": 2,
       "version_minor": 0
      },
      "text/plain": [
       "Obteniendo productos:   0%|          | 0/30 [00:00<?, ?it/s]"
      ]
     },
     "metadata": {},
     "output_type": "display_data"
    },
    {
     "name": "stdout",
     "output_type": "stream",
     "text": [
      "Estamos en la página https://skinsort.com/products//page/235\n"
     ]
    },
    {
     "data": {
      "application/vnd.jupyter.widget-view+json": {
       "model_id": "e2ba89334e3e4ea9aced4fcd80a490b3",
       "version_major": 2,
       "version_minor": 0
      },
      "text/plain": [
       "Obteniendo productos:   0%|          | 0/30 [00:00<?, ?it/s]"
      ]
     },
     "metadata": {},
     "output_type": "display_data"
    },
    {
     "name": "stdout",
     "output_type": "stream",
     "text": [
      "Estamos en la página https://skinsort.com/products//page/236\n"
     ]
    },
    {
     "data": {
      "application/vnd.jupyter.widget-view+json": {
       "model_id": "b32c1a9f3f45432bb2a1c19db80912f3",
       "version_major": 2,
       "version_minor": 0
      },
      "text/plain": [
       "Obteniendo productos:   0%|          | 0/30 [00:00<?, ?it/s]"
      ]
     },
     "metadata": {},
     "output_type": "display_data"
    },
    {
     "name": "stdout",
     "output_type": "stream",
     "text": [
      "Estamos en la página https://skinsort.com/products//page/237\n"
     ]
    },
    {
     "data": {
      "application/vnd.jupyter.widget-view+json": {
       "model_id": "5658d7d77b55484fbdaa7b07387af616",
       "version_major": 2,
       "version_minor": 0
      },
      "text/plain": [
       "Obteniendo productos:   0%|          | 0/30 [00:00<?, ?it/s]"
      ]
     },
     "metadata": {},
     "output_type": "display_data"
    },
    {
     "name": "stdout",
     "output_type": "stream",
     "text": [
      "Estamos en la página https://skinsort.com/products//page/238\n"
     ]
    },
    {
     "data": {
      "application/vnd.jupyter.widget-view+json": {
       "model_id": "46179eff73c742ba825e1c41344b2122",
       "version_major": 2,
       "version_minor": 0
      },
      "text/plain": [
       "Obteniendo productos:   0%|          | 0/30 [00:00<?, ?it/s]"
      ]
     },
     "metadata": {},
     "output_type": "display_data"
    },
    {
     "name": "stdout",
     "output_type": "stream",
     "text": [
      "Estamos en la página https://skinsort.com/products//page/239\n"
     ]
    },
    {
     "data": {
      "application/vnd.jupyter.widget-view+json": {
       "model_id": "fcb7ee85debe465ba85f1766567579d7",
       "version_major": 2,
       "version_minor": 0
      },
      "text/plain": [
       "Obteniendo productos:   0%|          | 0/30 [00:00<?, ?it/s]"
      ]
     },
     "metadata": {},
     "output_type": "display_data"
    },
    {
     "name": "stdout",
     "output_type": "stream",
     "text": [
      "Estamos en la página https://skinsort.com/products//page/240\n"
     ]
    },
    {
     "data": {
      "application/vnd.jupyter.widget-view+json": {
       "model_id": "e66d38da44124b75be7a8fd81e08bd78",
       "version_major": 2,
       "version_minor": 0
      },
      "text/plain": [
       "Obteniendo productos:   0%|          | 0/30 [00:00<?, ?it/s]"
      ]
     },
     "metadata": {},
     "output_type": "display_data"
    },
    {
     "name": "stdout",
     "output_type": "stream",
     "text": [
      "Estamos en la página https://skinsort.com/products//page/241\n"
     ]
    },
    {
     "data": {
      "application/vnd.jupyter.widget-view+json": {
       "model_id": "ab9b9e677e5042ec90515205e37a45a6",
       "version_major": 2,
       "version_minor": 0
      },
      "text/plain": [
       "Obteniendo productos:   0%|          | 0/30 [00:00<?, ?it/s]"
      ]
     },
     "metadata": {},
     "output_type": "display_data"
    },
    {
     "name": "stdout",
     "output_type": "stream",
     "text": [
      "Estamos en la página https://skinsort.com/products//page/242\n",
      "Error al obtener los datos.\n"
     ]
    },
    {
     "data": {
      "application/vnd.jupyter.widget-view+json": {
       "model_id": "fa15f7bf3d4940a8a6b754aa9e08f0c6",
       "version_major": 2,
       "version_minor": 0
      },
      "text/plain": [
       "Obteniendo productos:   0%|          | 0/30 [00:00<?, ?it/s]"
      ]
     },
     "metadata": {},
     "output_type": "display_data"
    },
    {
     "name": "stdout",
     "output_type": "stream",
     "text": [
      "Estamos en la página https://skinsort.com/products//page/244\n"
     ]
    },
    {
     "data": {
      "application/vnd.jupyter.widget-view+json": {
       "model_id": "80edc89338b34d86aa32f7e604e8d827",
       "version_major": 2,
       "version_minor": 0
      },
      "text/plain": [
       "Obteniendo productos:   0%|          | 0/30 [00:00<?, ?it/s]"
      ]
     },
     "metadata": {},
     "output_type": "display_data"
    },
    {
     "name": "stdout",
     "output_type": "stream",
     "text": [
      "Estamos en la página https://skinsort.com/products//page/245\n"
     ]
    },
    {
     "data": {
      "application/vnd.jupyter.widget-view+json": {
       "model_id": "2735f2ad9d354339960e37bde0f164aa",
       "version_major": 2,
       "version_minor": 0
      },
      "text/plain": [
       "Obteniendo productos:   0%|          | 0/30 [00:00<?, ?it/s]"
      ]
     },
     "metadata": {},
     "output_type": "display_data"
    },
    {
     "name": "stdout",
     "output_type": "stream",
     "text": [
      "Estamos en la página https://skinsort.com/products//page/246\n",
      "Error al obtener los datos.\n"
     ]
    },
    {
     "data": {
      "application/vnd.jupyter.widget-view+json": {
       "model_id": "7f0deac638744036a6d6453100dde6cd",
       "version_major": 2,
       "version_minor": 0
      },
      "text/plain": [
       "Obteniendo productos:   0%|          | 0/30 [00:00<?, ?it/s]"
      ]
     },
     "metadata": {},
     "output_type": "display_data"
    },
    {
     "name": "stdout",
     "output_type": "stream",
     "text": [
      "Estamos en la página https://skinsort.com/products//page/248\n"
     ]
    },
    {
     "data": {
      "application/vnd.jupyter.widget-view+json": {
       "model_id": "6b7e044368954a88bd66dd10aa26e38b",
       "version_major": 2,
       "version_minor": 0
      },
      "text/plain": [
       "Obteniendo productos:   0%|          | 0/30 [00:00<?, ?it/s]"
      ]
     },
     "metadata": {},
     "output_type": "display_data"
    },
    {
     "name": "stdout",
     "output_type": "stream",
     "text": [
      "Estamos en la página https://skinsort.com/products//page/249\n"
     ]
    },
    {
     "data": {
      "application/vnd.jupyter.widget-view+json": {
       "model_id": "83d9e65a081a4fc3bffb558ee99b7147",
       "version_major": 2,
       "version_minor": 0
      },
      "text/plain": [
       "Obteniendo productos:   0%|          | 0/30 [00:00<?, ?it/s]"
      ]
     },
     "metadata": {},
     "output_type": "display_data"
    },
    {
     "name": "stdout",
     "output_type": "stream",
     "text": [
      "Estamos en la página https://skinsort.com/products//page/250\n"
     ]
    },
    {
     "data": {
      "application/vnd.jupyter.widget-view+json": {
       "model_id": "ef50999260b641deb07cc8765462ee57",
       "version_major": 2,
       "version_minor": 0
      },
      "text/plain": [
       "Obteniendo productos:   0%|          | 0/30 [00:00<?, ?it/s]"
      ]
     },
     "metadata": {},
     "output_type": "display_data"
    },
    {
     "name": "stdout",
     "output_type": "stream",
     "text": [
      "Estamos en la página https://skinsort.com/products//page/251\n"
     ]
    },
    {
     "data": {
      "application/vnd.jupyter.widget-view+json": {
       "model_id": "44b8184694084e17a99a533c9f981888",
       "version_major": 2,
       "version_minor": 0
      },
      "text/plain": [
       "Obteniendo productos:   0%|          | 0/30 [00:00<?, ?it/s]"
      ]
     },
     "metadata": {},
     "output_type": "display_data"
    },
    {
     "name": "stdout",
     "output_type": "stream",
     "text": [
      "Estamos en la página https://skinsort.com/products//page/252\n"
     ]
    },
    {
     "data": {
      "application/vnd.jupyter.widget-view+json": {
       "model_id": "6dea536bc85a43b3a2c717cfd0c89c1a",
       "version_major": 2,
       "version_minor": 0
      },
      "text/plain": [
       "Obteniendo productos:   0%|          | 0/30 [00:00<?, ?it/s]"
      ]
     },
     "metadata": {},
     "output_type": "display_data"
    },
    {
     "name": "stdout",
     "output_type": "stream",
     "text": [
      "Estamos en la página https://skinsort.com/products//page/253\n"
     ]
    },
    {
     "data": {
      "application/vnd.jupyter.widget-view+json": {
       "model_id": "e5d83c0f92d145fd9b5401eec6f47a47",
       "version_major": 2,
       "version_minor": 0
      },
      "text/plain": [
       "Obteniendo productos:   0%|          | 0/30 [00:00<?, ?it/s]"
      ]
     },
     "metadata": {},
     "output_type": "display_data"
    },
    {
     "name": "stdout",
     "output_type": "stream",
     "text": [
      "Estamos en la página https://skinsort.com/products//page/254\n",
      "Error al obtener los datos.\n"
     ]
    },
    {
     "data": {
      "application/vnd.jupyter.widget-view+json": {
       "model_id": "718fc15aa889482fa7d5eb55aac94c96",
       "version_major": 2,
       "version_minor": 0
      },
      "text/plain": [
       "Obteniendo productos:   0%|          | 0/30 [00:00<?, ?it/s]"
      ]
     },
     "metadata": {},
     "output_type": "display_data"
    },
    {
     "name": "stdout",
     "output_type": "stream",
     "text": [
      "Estamos en la página https://skinsort.com/products//page/256\n"
     ]
    },
    {
     "data": {
      "application/vnd.jupyter.widget-view+json": {
       "model_id": "a67e522fc3424a87a3122ee2311ccdc7",
       "version_major": 2,
       "version_minor": 0
      },
      "text/plain": [
       "Obteniendo productos:   0%|          | 0/30 [00:00<?, ?it/s]"
      ]
     },
     "metadata": {},
     "output_type": "display_data"
    },
    {
     "name": "stdout",
     "output_type": "stream",
     "text": [
      "Estamos en la página https://skinsort.com/products//page/257\n"
     ]
    },
    {
     "data": {
      "application/vnd.jupyter.widget-view+json": {
       "model_id": "3f7d7c9c28e647f3a567bdb19a90f8a7",
       "version_major": 2,
       "version_minor": 0
      },
      "text/plain": [
       "Obteniendo productos:   0%|          | 0/30 [00:00<?, ?it/s]"
      ]
     },
     "metadata": {},
     "output_type": "display_data"
    },
    {
     "name": "stdout",
     "output_type": "stream",
     "text": [
      "Estamos en la página https://skinsort.com/products//page/258\n"
     ]
    },
    {
     "data": {
      "application/vnd.jupyter.widget-view+json": {
       "model_id": "adc894f69afc475e98cd1c8d6c9fe736",
       "version_major": 2,
       "version_minor": 0
      },
      "text/plain": [
       "Obteniendo productos:   0%|          | 0/30 [00:00<?, ?it/s]"
      ]
     },
     "metadata": {},
     "output_type": "display_data"
    },
    {
     "name": "stdout",
     "output_type": "stream",
     "text": [
      "Estamos en la página https://skinsort.com/products//page/259\n"
     ]
    },
    {
     "data": {
      "application/vnd.jupyter.widget-view+json": {
       "model_id": "6287536ca6154ecd9206b84ae286dc12",
       "version_major": 2,
       "version_minor": 0
      },
      "text/plain": [
       "Obteniendo productos:   0%|          | 0/30 [00:00<?, ?it/s]"
      ]
     },
     "metadata": {},
     "output_type": "display_data"
    },
    {
     "name": "stdout",
     "output_type": "stream",
     "text": [
      "Estamos en la página https://skinsort.com/products//page/260\n"
     ]
    },
    {
     "data": {
      "application/vnd.jupyter.widget-view+json": {
       "model_id": "000ded3bcd70450986b335d933177260",
       "version_major": 2,
       "version_minor": 0
      },
      "text/plain": [
       "Obteniendo productos:   0%|          | 0/30 [00:00<?, ?it/s]"
      ]
     },
     "metadata": {},
     "output_type": "display_data"
    },
    {
     "name": "stdout",
     "output_type": "stream",
     "text": [
      "Estamos en la página https://skinsort.com/products//page/261\n"
     ]
    },
    {
     "data": {
      "application/vnd.jupyter.widget-view+json": {
       "model_id": "b9a0a0dae72b46e588d1bfb240c91170",
       "version_major": 2,
       "version_minor": 0
      },
      "text/plain": [
       "Obteniendo productos:   0%|          | 0/30 [00:00<?, ?it/s]"
      ]
     },
     "metadata": {},
     "output_type": "display_data"
    },
    {
     "name": "stdout",
     "output_type": "stream",
     "text": [
      "Estamos en la página https://skinsort.com/products//page/262\n",
      "Error al obtener los datos.\n"
     ]
    },
    {
     "data": {
      "application/vnd.jupyter.widget-view+json": {
       "model_id": "b2d63572d371489fa478639892d800fb",
       "version_major": 2,
       "version_minor": 0
      },
      "text/plain": [
       "Obteniendo productos:   0%|          | 0/30 [00:00<?, ?it/s]"
      ]
     },
     "metadata": {},
     "output_type": "display_data"
    },
    {
     "name": "stdout",
     "output_type": "stream",
     "text": [
      "Estamos en la página https://skinsort.com/products//page/264\n"
     ]
    },
    {
     "data": {
      "application/vnd.jupyter.widget-view+json": {
       "model_id": "64f5301e78dc43ac8e796cd0e4b2e90d",
       "version_major": 2,
       "version_minor": 0
      },
      "text/plain": [
       "Obteniendo productos:   0%|          | 0/30 [00:00<?, ?it/s]"
      ]
     },
     "metadata": {},
     "output_type": "display_data"
    },
    {
     "name": "stdout",
     "output_type": "stream",
     "text": [
      "Estamos en la página https://skinsort.com/products//page/265\n"
     ]
    },
    {
     "data": {
      "application/vnd.jupyter.widget-view+json": {
       "model_id": "6e4f1ee9112d4c0a84004cef272f2c36",
       "version_major": 2,
       "version_minor": 0
      },
      "text/plain": [
       "Obteniendo productos:   0%|          | 0/30 [00:00<?, ?it/s]"
      ]
     },
     "metadata": {},
     "output_type": "display_data"
    },
    {
     "name": "stdout",
     "output_type": "stream",
     "text": [
      "Estamos en la página https://skinsort.com/products//page/266\n"
     ]
    },
    {
     "data": {
      "application/vnd.jupyter.widget-view+json": {
       "model_id": "b95a5995909b4540a9a0a3d333b01f01",
       "version_major": 2,
       "version_minor": 0
      },
      "text/plain": [
       "Obteniendo productos:   0%|          | 0/30 [00:00<?, ?it/s]"
      ]
     },
     "metadata": {},
     "output_type": "display_data"
    },
    {
     "name": "stdout",
     "output_type": "stream",
     "text": [
      "Estamos en la página https://skinsort.com/products//page/267\n"
     ]
    },
    {
     "data": {
      "application/vnd.jupyter.widget-view+json": {
       "model_id": "615e88e2ff5e4fef84ec5d210550a972",
       "version_major": 2,
       "version_minor": 0
      },
      "text/plain": [
       "Obteniendo productos:   0%|          | 0/30 [00:00<?, ?it/s]"
      ]
     },
     "metadata": {},
     "output_type": "display_data"
    },
    {
     "name": "stdout",
     "output_type": "stream",
     "text": [
      "Estamos en la página https://skinsort.com/products//page/268\n"
     ]
    },
    {
     "data": {
      "application/vnd.jupyter.widget-view+json": {
       "model_id": "a3fd4e4c72c740f6a0b1e183cd47750d",
       "version_major": 2,
       "version_minor": 0
      },
      "text/plain": [
       "Obteniendo productos:   0%|          | 0/30 [00:00<?, ?it/s]"
      ]
     },
     "metadata": {},
     "output_type": "display_data"
    },
    {
     "name": "stdout",
     "output_type": "stream",
     "text": [
      "Estamos en la página https://skinsort.com/products//page/269\n"
     ]
    },
    {
     "data": {
      "application/vnd.jupyter.widget-view+json": {
       "model_id": "989466371bc9439c9ce23809836d4f6d",
       "version_major": 2,
       "version_minor": 0
      },
      "text/plain": [
       "Obteniendo productos:   0%|          | 0/30 [00:00<?, ?it/s]"
      ]
     },
     "metadata": {},
     "output_type": "display_data"
    },
    {
     "name": "stdout",
     "output_type": "stream",
     "text": [
      "Estamos en la página https://skinsort.com/products//page/270\n"
     ]
    },
    {
     "data": {
      "application/vnd.jupyter.widget-view+json": {
       "model_id": "763e53a00e8b4ffb9b50ae352441a559",
       "version_major": 2,
       "version_minor": 0
      },
      "text/plain": [
       "Obteniendo productos:   0%|          | 0/30 [00:00<?, ?it/s]"
      ]
     },
     "metadata": {},
     "output_type": "display_data"
    },
    {
     "name": "stdout",
     "output_type": "stream",
     "text": [
      "Estamos en la página https://skinsort.com/products//page/271\n"
     ]
    },
    {
     "data": {
      "application/vnd.jupyter.widget-view+json": {
       "model_id": "1df5152551e2408888f4969b04307fb3",
       "version_major": 2,
       "version_minor": 0
      },
      "text/plain": [
       "Obteniendo productos:   0%|          | 0/30 [00:00<?, ?it/s]"
      ]
     },
     "metadata": {},
     "output_type": "display_data"
    },
    {
     "name": "stdout",
     "output_type": "stream",
     "text": [
      "Estamos en la página https://skinsort.com/products//page/272\n"
     ]
    },
    {
     "data": {
      "application/vnd.jupyter.widget-view+json": {
       "model_id": "200f2d9b9c5d4e15afb6bba65ef5b2f3",
       "version_major": 2,
       "version_minor": 0
      },
      "text/plain": [
       "Obteniendo productos:   0%|          | 0/30 [00:00<?, ?it/s]"
      ]
     },
     "metadata": {},
     "output_type": "display_data"
    },
    {
     "name": "stdout",
     "output_type": "stream",
     "text": [
      "Estamos en la página https://skinsort.com/products//page/273\n"
     ]
    },
    {
     "data": {
      "application/vnd.jupyter.widget-view+json": {
       "model_id": "edd65bcb159e4aaa99852b4ecc559f4a",
       "version_major": 2,
       "version_minor": 0
      },
      "text/plain": [
       "Obteniendo productos:   0%|          | 0/30 [00:00<?, ?it/s]"
      ]
     },
     "metadata": {},
     "output_type": "display_data"
    },
    {
     "name": "stdout",
     "output_type": "stream",
     "text": [
      "Estamos en la página https://skinsort.com/products//page/274\n"
     ]
    },
    {
     "data": {
      "application/vnd.jupyter.widget-view+json": {
       "model_id": "1ffad6cf262044158a49a50c35108e40",
       "version_major": 2,
       "version_minor": 0
      },
      "text/plain": [
       "Obteniendo productos:   0%|          | 0/30 [00:00<?, ?it/s]"
      ]
     },
     "metadata": {},
     "output_type": "display_data"
    },
    {
     "name": "stdout",
     "output_type": "stream",
     "text": [
      "Estamos en la página https://skinsort.com/products//page/275\n"
     ]
    },
    {
     "data": {
      "application/vnd.jupyter.widget-view+json": {
       "model_id": "0695a9141aaa43d8b127974c5451a3a1",
       "version_major": 2,
       "version_minor": 0
      },
      "text/plain": [
       "Obteniendo productos:   0%|          | 0/30 [00:00<?, ?it/s]"
      ]
     },
     "metadata": {},
     "output_type": "display_data"
    },
    {
     "name": "stdout",
     "output_type": "stream",
     "text": [
      "Estamos en la página https://skinsort.com/products//page/276\n"
     ]
    },
    {
     "data": {
      "application/vnd.jupyter.widget-view+json": {
       "model_id": "41a2123af4074b8d9f769c70a5aee928",
       "version_major": 2,
       "version_minor": 0
      },
      "text/plain": [
       "Obteniendo productos:   0%|          | 0/30 [00:00<?, ?it/s]"
      ]
     },
     "metadata": {},
     "output_type": "display_data"
    },
    {
     "name": "stdout",
     "output_type": "stream",
     "text": [
      "Estamos en la página https://skinsort.com/products//page/277\n"
     ]
    },
    {
     "data": {
      "application/vnd.jupyter.widget-view+json": {
       "model_id": "a38c7577e6b6495193613d3fc4a425b1",
       "version_major": 2,
       "version_minor": 0
      },
      "text/plain": [
       "Obteniendo productos:   0%|          | 0/30 [00:00<?, ?it/s]"
      ]
     },
     "metadata": {},
     "output_type": "display_data"
    },
    {
     "name": "stdout",
     "output_type": "stream",
     "text": [
      "Estamos en la página https://skinsort.com/products//page/278\n"
     ]
    },
    {
     "data": {
      "application/vnd.jupyter.widget-view+json": {
       "model_id": "ba84c56e370a40feb43628f5e4843bce",
       "version_major": 2,
       "version_minor": 0
      },
      "text/plain": [
       "Obteniendo productos:   0%|          | 0/30 [00:00<?, ?it/s]"
      ]
     },
     "metadata": {},
     "output_type": "display_data"
    },
    {
     "name": "stdout",
     "output_type": "stream",
     "text": [
      "Estamos en la página https://skinsort.com/products//page/279\n"
     ]
    },
    {
     "data": {
      "application/vnd.jupyter.widget-view+json": {
       "model_id": "43eefd518c0f4b16959849c62fc920ba",
       "version_major": 2,
       "version_minor": 0
      },
      "text/plain": [
       "Obteniendo productos:   0%|          | 0/30 [00:00<?, ?it/s]"
      ]
     },
     "metadata": {},
     "output_type": "display_data"
    },
    {
     "name": "stdout",
     "output_type": "stream",
     "text": [
      "Estamos en la página https://skinsort.com/products//page/280\n"
     ]
    },
    {
     "data": {
      "application/vnd.jupyter.widget-view+json": {
       "model_id": "cd3f8f1ccb9f4472a8d1a0f2a6450bfb",
       "version_major": 2,
       "version_minor": 0
      },
      "text/plain": [
       "Obteniendo productos:   0%|          | 0/30 [00:00<?, ?it/s]"
      ]
     },
     "metadata": {},
     "output_type": "display_data"
    },
    {
     "name": "stdout",
     "output_type": "stream",
     "text": [
      "Estamos en la página https://skinsort.com/products//page/281\n"
     ]
    },
    {
     "data": {
      "application/vnd.jupyter.widget-view+json": {
       "model_id": "9fe56935838045b6bbfe0c3dbbb8c086",
       "version_major": 2,
       "version_minor": 0
      },
      "text/plain": [
       "Obteniendo productos:   0%|          | 0/30 [00:00<?, ?it/s]"
      ]
     },
     "metadata": {},
     "output_type": "display_data"
    },
    {
     "name": "stdout",
     "output_type": "stream",
     "text": [
      "Estamos en la página https://skinsort.com/products//page/282\n"
     ]
    },
    {
     "data": {
      "application/vnd.jupyter.widget-view+json": {
       "model_id": "bf08c14545044d15913935a9f9dc89bd",
       "version_major": 2,
       "version_minor": 0
      },
      "text/plain": [
       "Obteniendo productos:   0%|          | 0/30 [00:00<?, ?it/s]"
      ]
     },
     "metadata": {},
     "output_type": "display_data"
    },
    {
     "name": "stdout",
     "output_type": "stream",
     "text": [
      "Estamos en la página https://skinsort.com/products//page/283\n"
     ]
    },
    {
     "data": {
      "application/vnd.jupyter.widget-view+json": {
       "model_id": "9eb5baeeaf194875af8ea7eb66e859c3",
       "version_major": 2,
       "version_minor": 0
      },
      "text/plain": [
       "Obteniendo productos:   0%|          | 0/30 [00:00<?, ?it/s]"
      ]
     },
     "metadata": {},
     "output_type": "display_data"
    },
    {
     "name": "stdout",
     "output_type": "stream",
     "text": [
      "Estamos en la página https://skinsort.com/products//page/284\n"
     ]
    },
    {
     "data": {
      "application/vnd.jupyter.widget-view+json": {
       "model_id": "615ee3eb636b4a53877708748dd2ca13",
       "version_major": 2,
       "version_minor": 0
      },
      "text/plain": [
       "Obteniendo productos:   0%|          | 0/30 [00:00<?, ?it/s]"
      ]
     },
     "metadata": {},
     "output_type": "display_data"
    },
    {
     "name": "stdout",
     "output_type": "stream",
     "text": [
      "Estamos en la página https://skinsort.com/products//page/285\n"
     ]
    },
    {
     "data": {
      "application/vnd.jupyter.widget-view+json": {
       "model_id": "b02ad664d9144be58d7ac2fca884c568",
       "version_major": 2,
       "version_minor": 0
      },
      "text/plain": [
       "Obteniendo productos:   0%|          | 0/30 [00:00<?, ?it/s]"
      ]
     },
     "metadata": {},
     "output_type": "display_data"
    },
    {
     "name": "stdout",
     "output_type": "stream",
     "text": [
      "Estamos en la página https://skinsort.com/products//page/286\n"
     ]
    },
    {
     "data": {
      "application/vnd.jupyter.widget-view+json": {
       "model_id": "b01078b8a4be4decb9d98f64dc21ddf7",
       "version_major": 2,
       "version_minor": 0
      },
      "text/plain": [
       "Obteniendo productos:   0%|          | 0/30 [00:00<?, ?it/s]"
      ]
     },
     "metadata": {},
     "output_type": "display_data"
    },
    {
     "name": "stdout",
     "output_type": "stream",
     "text": [
      "Estamos en la página https://skinsort.com/products//page/287\n"
     ]
    },
    {
     "data": {
      "application/vnd.jupyter.widget-view+json": {
       "model_id": "8d64d2f8c278414ea578e4264b58a40e",
       "version_major": 2,
       "version_minor": 0
      },
      "text/plain": [
       "Obteniendo productos:   0%|          | 0/30 [00:00<?, ?it/s]"
      ]
     },
     "metadata": {},
     "output_type": "display_data"
    },
    {
     "name": "stdout",
     "output_type": "stream",
     "text": [
      "Estamos en la página https://skinsort.com/products//page/288\n"
     ]
    },
    {
     "data": {
      "application/vnd.jupyter.widget-view+json": {
       "model_id": "0043889435e34cbdb607fd4c8d622f02",
       "version_major": 2,
       "version_minor": 0
      },
      "text/plain": [
       "Obteniendo productos:   0%|          | 0/30 [00:00<?, ?it/s]"
      ]
     },
     "metadata": {},
     "output_type": "display_data"
    },
    {
     "name": "stdout",
     "output_type": "stream",
     "text": [
      "Estamos en la página https://skinsort.com/products//page/289\n"
     ]
    },
    {
     "data": {
      "application/vnd.jupyter.widget-view+json": {
       "model_id": "ab0f82e0cddc42c8b33bc56c842b17ef",
       "version_major": 2,
       "version_minor": 0
      },
      "text/plain": [
       "Obteniendo productos:   0%|          | 0/30 [00:00<?, ?it/s]"
      ]
     },
     "metadata": {},
     "output_type": "display_data"
    },
    {
     "name": "stdout",
     "output_type": "stream",
     "text": [
      "Estamos en la página https://skinsort.com/products//page/290\n"
     ]
    },
    {
     "data": {
      "application/vnd.jupyter.widget-view+json": {
       "model_id": "8b63fab0f7654ebeb30ff765410c599b",
       "version_major": 2,
       "version_minor": 0
      },
      "text/plain": [
       "Obteniendo productos:   0%|          | 0/30 [00:00<?, ?it/s]"
      ]
     },
     "metadata": {},
     "output_type": "display_data"
    },
    {
     "name": "stdout",
     "output_type": "stream",
     "text": [
      "Estamos en la página https://skinsort.com/products//page/291\n",
      "Error al obtener los datos.\n"
     ]
    },
    {
     "data": {
      "application/vnd.jupyter.widget-view+json": {
       "model_id": "4f4d59b36ecc49e78e696fcd13ce3ec8",
       "version_major": 2,
       "version_minor": 0
      },
      "text/plain": [
       "Obteniendo productos:   0%|          | 0/30 [00:00<?, ?it/s]"
      ]
     },
     "metadata": {},
     "output_type": "display_data"
    },
    {
     "name": "stdout",
     "output_type": "stream",
     "text": [
      "Estamos en la página https://skinsort.com/products//page/293\n"
     ]
    },
    {
     "data": {
      "application/vnd.jupyter.widget-view+json": {
       "model_id": "4415d5f71ae24e9cb97a2c0847594544",
       "version_major": 2,
       "version_minor": 0
      },
      "text/plain": [
       "Obteniendo productos:   0%|          | 0/30 [00:00<?, ?it/s]"
      ]
     },
     "metadata": {},
     "output_type": "display_data"
    },
    {
     "name": "stdout",
     "output_type": "stream",
     "text": [
      "Estamos en la página https://skinsort.com/products//page/294\n"
     ]
    },
    {
     "data": {
      "application/vnd.jupyter.widget-view+json": {
       "model_id": "fa42c4fdf3b94eefa73588ad1d011602",
       "version_major": 2,
       "version_minor": 0
      },
      "text/plain": [
       "Obteniendo productos:   0%|          | 0/30 [00:00<?, ?it/s]"
      ]
     },
     "metadata": {},
     "output_type": "display_data"
    },
    {
     "name": "stdout",
     "output_type": "stream",
     "text": [
      "Estamos en la página https://skinsort.com/products//page/295\n"
     ]
    },
    {
     "data": {
      "application/vnd.jupyter.widget-view+json": {
       "model_id": "11e6098d3e424f5ab1589c4208ff99b9",
       "version_major": 2,
       "version_minor": 0
      },
      "text/plain": [
       "Obteniendo productos:   0%|          | 0/30 [00:00<?, ?it/s]"
      ]
     },
     "metadata": {},
     "output_type": "display_data"
    },
    {
     "name": "stdout",
     "output_type": "stream",
     "text": [
      "Estamos en la página https://skinsort.com/products//page/296\n",
      "Error al obtener los datos.\n"
     ]
    },
    {
     "data": {
      "application/vnd.jupyter.widget-view+json": {
       "model_id": "0375136ce38a451bb3c07cb9ce1c06a6",
       "version_major": 2,
       "version_minor": 0
      },
      "text/plain": [
       "Obteniendo productos:   0%|          | 0/30 [00:00<?, ?it/s]"
      ]
     },
     "metadata": {},
     "output_type": "display_data"
    },
    {
     "name": "stdout",
     "output_type": "stream",
     "text": [
      "Estamos en la página https://skinsort.com/products//page/298\n"
     ]
    },
    {
     "data": {
      "application/vnd.jupyter.widget-view+json": {
       "model_id": "5e8ab99add9e43c483816b9115a7a492",
       "version_major": 2,
       "version_minor": 0
      },
      "text/plain": [
       "Obteniendo productos:   0%|          | 0/30 [00:00<?, ?it/s]"
      ]
     },
     "metadata": {},
     "output_type": "display_data"
    },
    {
     "name": "stdout",
     "output_type": "stream",
     "text": [
      "Estamos en la página https://skinsort.com/products//page/299\n"
     ]
    }
   ],
   "source": [
    "dict3={}\n",
    "for i in range(200, 300):\n",
    "    dict3[i] = scrap(f'https://skinsort.com/products//page/{i}')"
   ]
  },
  {
   "cell_type": "code",
   "execution_count": 63,
   "id": "a0c07c1a",
   "metadata": {},
   "outputs": [
    {
     "name": "stderr",
     "output_type": "stream",
     "text": [
      "2023-03-09 14:02:18,298 [88601] WARNING  py.warnings:109: [JupyterRequire] /tmp/ipykernel_88601/4040571658.py:3: DeprecationWarning: executable_path has been deprecated, please pass in a Service object\n",
      "  driver = webdriver.Chrome(PATH)\n",
      "\n"
     ]
    },
    {
     "data": {
      "application/vnd.jupyter.widget-view+json": {
       "model_id": "ac8bc2a5046846c5b3643b833b4894b0",
       "version_major": 2,
       "version_minor": 0
      },
      "text/plain": [
       "Obteniendo productos:   0%|          | 0/30 [00:00<?, ?it/s]"
      ]
     },
     "metadata": {},
     "output_type": "display_data"
    },
    {
     "name": "stdout",
     "output_type": "stream",
     "text": [
      "Estamos en la página https://skinsort.com/products//page/228\n"
     ]
    },
    {
     "data": {
      "application/vnd.jupyter.widget-view+json": {
       "model_id": "cd92f17a5f9c4d33b218bcda9b9a89ac",
       "version_major": 2,
       "version_minor": 0
      },
      "text/plain": [
       "Obteniendo productos:   0%|          | 0/30 [00:00<?, ?it/s]"
      ]
     },
     "metadata": {},
     "output_type": "display_data"
    },
    {
     "name": "stdout",
     "output_type": "stream",
     "text": [
      "Estamos en la página https://skinsort.com/products//page/243\n"
     ]
    },
    {
     "data": {
      "application/vnd.jupyter.widget-view+json": {
       "model_id": "1c3ed475367449718edd57cdfc2cc35c",
       "version_major": 2,
       "version_minor": 0
      },
      "text/plain": [
       "Obteniendo productos:   0%|          | 0/30 [00:00<?, ?it/s]"
      ]
     },
     "metadata": {},
     "output_type": "display_data"
    },
    {
     "name": "stdout",
     "output_type": "stream",
     "text": [
      "Estamos en la página https://skinsort.com/products//page/247\n"
     ]
    },
    {
     "data": {
      "application/vnd.jupyter.widget-view+json": {
       "model_id": "e1c552fe64bb45db857b54f00336c252",
       "version_major": 2,
       "version_minor": 0
      },
      "text/plain": [
       "Obteniendo productos:   0%|          | 0/30 [00:00<?, ?it/s]"
      ]
     },
     "metadata": {},
     "output_type": "display_data"
    },
    {
     "name": "stdout",
     "output_type": "stream",
     "text": [
      "Estamos en la página https://skinsort.com/products//page/255\n"
     ]
    },
    {
     "data": {
      "application/vnd.jupyter.widget-view+json": {
       "model_id": "25b78d14952e479eb7ebec7d8a7b1a02",
       "version_major": 2,
       "version_minor": 0
      },
      "text/plain": [
       "Obteniendo productos:   0%|          | 0/30 [00:00<?, ?it/s]"
      ]
     },
     "metadata": {},
     "output_type": "display_data"
    },
    {
     "name": "stdout",
     "output_type": "stream",
     "text": [
      "Estamos en la página https://skinsort.com/products//page/263\n"
     ]
    },
    {
     "data": {
      "application/vnd.jupyter.widget-view+json": {
       "model_id": "a859f30ec6ed46b599b66afccccda75d",
       "version_major": 2,
       "version_minor": 0
      },
      "text/plain": [
       "Obteniendo productos:   0%|          | 0/30 [00:00<?, ?it/s]"
      ]
     },
     "metadata": {},
     "output_type": "display_data"
    },
    {
     "name": "stdout",
     "output_type": "stream",
     "text": [
      "Estamos en la página https://skinsort.com/products//page/292\n"
     ]
    },
    {
     "data": {
      "application/vnd.jupyter.widget-view+json": {
       "model_id": "711cc7132b2b4bf3848ab7aebbc93cdb",
       "version_major": 2,
       "version_minor": 0
      },
      "text/plain": [
       "Obteniendo productos:   0%|          | 0/30 [00:00<?, ?it/s]"
      ]
     },
     "metadata": {},
     "output_type": "display_data"
    },
    {
     "name": "stdout",
     "output_type": "stream",
     "text": [
      "Estamos en la página https://skinsort.com/products//page/297\n"
     ]
    }
   ],
   "source": [
    "dict3[228] = scrap('https://skinsort.com/products//page/228')\n",
    "dict3[243] = scrap('https://skinsort.com/products//page/243')\n",
    "dict3[247] = scrap('https://skinsort.com/products//page/247')\n",
    "dict3[255] = scrap('https://skinsort.com/products//page/255')\n",
    "dict3[263] = scrap('https://skinsort.com/products//page/263')\n",
    "dict3[292] = scrap('https://skinsort.com/products//page/292')\n",
    "dict3[297] = scrap('https://skinsort.com/products//page/297')"
   ]
  },
  {
   "cell_type": "code",
   "execution_count": 64,
   "id": "e42dcbfb",
   "metadata": {},
   "outputs": [],
   "source": [
    "with open('datos_scrapeados3.json', 'w') as file:\n",
    "    json.dump(dict3, file)"
   ]
  },
  {
   "cell_type": "code",
   "execution_count": 65,
   "id": "e33f267b",
   "metadata": {},
   "outputs": [
    {
     "name": "stderr",
     "output_type": "stream",
     "text": [
      "2023-03-09 14:03:59,010 [88601] WARNING  py.warnings:109: [JupyterRequire] /tmp/ipykernel_88601/4040571658.py:3: DeprecationWarning: executable_path has been deprecated, please pass in a Service object\n",
      "  driver = webdriver.Chrome(PATH)\n",
      "\n"
     ]
    },
    {
     "data": {
      "application/vnd.jupyter.widget-view+json": {
       "model_id": "7a09462b05aa45f0981c3768aa81eb14",
       "version_major": 2,
       "version_minor": 0
      },
      "text/plain": [
       "Obteniendo productos:   0%|          | 0/30 [00:00<?, ?it/s]"
      ]
     },
     "metadata": {},
     "output_type": "display_data"
    },
    {
     "name": "stdout",
     "output_type": "stream",
     "text": [
      "Estamos en la página https://skinsort.com/products//page/300\n"
     ]
    },
    {
     "data": {
      "application/vnd.jupyter.widget-view+json": {
       "model_id": "b13d4149ab7f4bcfa06ab4b35b6fdde7",
       "version_major": 2,
       "version_minor": 0
      },
      "text/plain": [
       "Obteniendo productos:   0%|          | 0/30 [00:00<?, ?it/s]"
      ]
     },
     "metadata": {},
     "output_type": "display_data"
    },
    {
     "name": "stdout",
     "output_type": "stream",
     "text": [
      "Estamos en la página https://skinsort.com/products//page/301\n"
     ]
    },
    {
     "data": {
      "application/vnd.jupyter.widget-view+json": {
       "model_id": "0e31cf9061914356afd09c123595710f",
       "version_major": 2,
       "version_minor": 0
      },
      "text/plain": [
       "Obteniendo productos:   0%|          | 0/30 [00:00<?, ?it/s]"
      ]
     },
     "metadata": {},
     "output_type": "display_data"
    },
    {
     "name": "stdout",
     "output_type": "stream",
     "text": [
      "Estamos en la página https://skinsort.com/products//page/302\n"
     ]
    },
    {
     "data": {
      "application/vnd.jupyter.widget-view+json": {
       "model_id": "9ed7f1a81e2e4affa9dd15e30d9bb1b0",
       "version_major": 2,
       "version_minor": 0
      },
      "text/plain": [
       "Obteniendo productos:   0%|          | 0/30 [00:00<?, ?it/s]"
      ]
     },
     "metadata": {},
     "output_type": "display_data"
    },
    {
     "name": "stdout",
     "output_type": "stream",
     "text": [
      "Estamos en la página https://skinsort.com/products//page/303\n"
     ]
    },
    {
     "data": {
      "application/vnd.jupyter.widget-view+json": {
       "model_id": "21942b74ab3c47d7b430dc5b4004d592",
       "version_major": 2,
       "version_minor": 0
      },
      "text/plain": [
       "Obteniendo productos:   0%|          | 0/30 [00:00<?, ?it/s]"
      ]
     },
     "metadata": {},
     "output_type": "display_data"
    },
    {
     "name": "stdout",
     "output_type": "stream",
     "text": [
      "Estamos en la página https://skinsort.com/products//page/304\n"
     ]
    },
    {
     "data": {
      "application/vnd.jupyter.widget-view+json": {
       "model_id": "67415539047a4f0a95c9202903bdd31e",
       "version_major": 2,
       "version_minor": 0
      },
      "text/plain": [
       "Obteniendo productos:   0%|          | 0/30 [00:00<?, ?it/s]"
      ]
     },
     "metadata": {},
     "output_type": "display_data"
    },
    {
     "name": "stdout",
     "output_type": "stream",
     "text": [
      "Estamos en la página https://skinsort.com/products//page/305\n"
     ]
    },
    {
     "data": {
      "application/vnd.jupyter.widget-view+json": {
       "model_id": "c88de237a175422d82a54f757e318bc6",
       "version_major": 2,
       "version_minor": 0
      },
      "text/plain": [
       "Obteniendo productos:   0%|          | 0/30 [00:00<?, ?it/s]"
      ]
     },
     "metadata": {},
     "output_type": "display_data"
    },
    {
     "name": "stdout",
     "output_type": "stream",
     "text": [
      "Estamos en la página https://skinsort.com/products//page/306\n"
     ]
    },
    {
     "data": {
      "application/vnd.jupyter.widget-view+json": {
       "model_id": "d8f536affed547449fb1b65b026e48fb",
       "version_major": 2,
       "version_minor": 0
      },
      "text/plain": [
       "Obteniendo productos:   0%|          | 0/30 [00:00<?, ?it/s]"
      ]
     },
     "metadata": {},
     "output_type": "display_data"
    },
    {
     "name": "stdout",
     "output_type": "stream",
     "text": [
      "Estamos en la página https://skinsort.com/products//page/307\n"
     ]
    },
    {
     "data": {
      "application/vnd.jupyter.widget-view+json": {
       "model_id": "f4fa2da1a2164b1d931c2121ee76b134",
       "version_major": 2,
       "version_minor": 0
      },
      "text/plain": [
       "Obteniendo productos:   0%|          | 0/30 [00:00<?, ?it/s]"
      ]
     },
     "metadata": {},
     "output_type": "display_data"
    },
    {
     "name": "stdout",
     "output_type": "stream",
     "text": [
      "Estamos en la página https://skinsort.com/products//page/308\n"
     ]
    },
    {
     "data": {
      "application/vnd.jupyter.widget-view+json": {
       "model_id": "2361f5e90902470fb01f66b358717e9d",
       "version_major": 2,
       "version_minor": 0
      },
      "text/plain": [
       "Obteniendo productos:   0%|          | 0/30 [00:00<?, ?it/s]"
      ]
     },
     "metadata": {},
     "output_type": "display_data"
    },
    {
     "name": "stdout",
     "output_type": "stream",
     "text": [
      "Estamos en la página https://skinsort.com/products//page/309\n"
     ]
    },
    {
     "data": {
      "application/vnd.jupyter.widget-view+json": {
       "model_id": "041c8422a21748f283d45c94a03a1e9d",
       "version_major": 2,
       "version_minor": 0
      },
      "text/plain": [
       "Obteniendo productos:   0%|          | 0/30 [00:00<?, ?it/s]"
      ]
     },
     "metadata": {},
     "output_type": "display_data"
    },
    {
     "name": "stdout",
     "output_type": "stream",
     "text": [
      "Estamos en la página https://skinsort.com/products//page/310\n"
     ]
    },
    {
     "data": {
      "application/vnd.jupyter.widget-view+json": {
       "model_id": "f1798b56ace54422948580f584407572",
       "version_major": 2,
       "version_minor": 0
      },
      "text/plain": [
       "Obteniendo productos:   0%|          | 0/30 [00:00<?, ?it/s]"
      ]
     },
     "metadata": {},
     "output_type": "display_data"
    },
    {
     "name": "stdout",
     "output_type": "stream",
     "text": [
      "Estamos en la página https://skinsort.com/products//page/311\n"
     ]
    },
    {
     "data": {
      "application/vnd.jupyter.widget-view+json": {
       "model_id": "06e3ba46e10149de8263279c5f78574b",
       "version_major": 2,
       "version_minor": 0
      },
      "text/plain": [
       "Obteniendo productos:   0%|          | 0/30 [00:00<?, ?it/s]"
      ]
     },
     "metadata": {},
     "output_type": "display_data"
    },
    {
     "name": "stdout",
     "output_type": "stream",
     "text": [
      "Estamos en la página https://skinsort.com/products//page/312\n"
     ]
    },
    {
     "data": {
      "application/vnd.jupyter.widget-view+json": {
       "model_id": "51bad4cc3b014380ae97e432ddad0d6d",
       "version_major": 2,
       "version_minor": 0
      },
      "text/plain": [
       "Obteniendo productos:   0%|          | 0/30 [00:00<?, ?it/s]"
      ]
     },
     "metadata": {},
     "output_type": "display_data"
    },
    {
     "name": "stdout",
     "output_type": "stream",
     "text": [
      "Estamos en la página https://skinsort.com/products//page/313\n"
     ]
    },
    {
     "data": {
      "application/vnd.jupyter.widget-view+json": {
       "model_id": "89a90315912d4d2288c60f868d422edd",
       "version_major": 2,
       "version_minor": 0
      },
      "text/plain": [
       "Obteniendo productos:   0%|          | 0/30 [00:00<?, ?it/s]"
      ]
     },
     "metadata": {},
     "output_type": "display_data"
    },
    {
     "name": "stdout",
     "output_type": "stream",
     "text": [
      "Estamos en la página https://skinsort.com/products//page/314\n"
     ]
    },
    {
     "data": {
      "application/vnd.jupyter.widget-view+json": {
       "model_id": "3ca422643a0a42f7887eb433aca12d11",
       "version_major": 2,
       "version_minor": 0
      },
      "text/plain": [
       "Obteniendo productos:   0%|          | 0/30 [00:00<?, ?it/s]"
      ]
     },
     "metadata": {},
     "output_type": "display_data"
    },
    {
     "name": "stdout",
     "output_type": "stream",
     "text": [
      "Estamos en la página https://skinsort.com/products//page/315\n"
     ]
    },
    {
     "data": {
      "application/vnd.jupyter.widget-view+json": {
       "model_id": "0946ad10443942479b1d099d790df6b2",
       "version_major": 2,
       "version_minor": 0
      },
      "text/plain": [
       "Obteniendo productos:   0%|          | 0/30 [00:00<?, ?it/s]"
      ]
     },
     "metadata": {},
     "output_type": "display_data"
    },
    {
     "name": "stdout",
     "output_type": "stream",
     "text": [
      "Estamos en la página https://skinsort.com/products//page/316\n",
      "Error al obtener los datos.\n"
     ]
    },
    {
     "data": {
      "application/vnd.jupyter.widget-view+json": {
       "model_id": "79feea018266487590624c7cb40c940a",
       "version_major": 2,
       "version_minor": 0
      },
      "text/plain": [
       "Obteniendo productos:   0%|          | 0/30 [00:00<?, ?it/s]"
      ]
     },
     "metadata": {},
     "output_type": "display_data"
    },
    {
     "name": "stdout",
     "output_type": "stream",
     "text": [
      "Estamos en la página https://skinsort.com/products//page/318\n"
     ]
    },
    {
     "data": {
      "application/vnd.jupyter.widget-view+json": {
       "model_id": "9510d48a26064a1c96a6ff4bad21361e",
       "version_major": 2,
       "version_minor": 0
      },
      "text/plain": [
       "Obteniendo productos:   0%|          | 0/30 [00:00<?, ?it/s]"
      ]
     },
     "metadata": {},
     "output_type": "display_data"
    },
    {
     "name": "stdout",
     "output_type": "stream",
     "text": [
      "Estamos en la página https://skinsort.com/products//page/319\n"
     ]
    },
    {
     "data": {
      "application/vnd.jupyter.widget-view+json": {
       "model_id": "2991c338fb124a14a19a2241a30685df",
       "version_major": 2,
       "version_minor": 0
      },
      "text/plain": [
       "Obteniendo productos:   0%|          | 0/30 [00:00<?, ?it/s]"
      ]
     },
     "metadata": {},
     "output_type": "display_data"
    },
    {
     "name": "stdout",
     "output_type": "stream",
     "text": [
      "Estamos en la página https://skinsort.com/products//page/320\n",
      "Error al obtener los datos.\n"
     ]
    },
    {
     "data": {
      "application/vnd.jupyter.widget-view+json": {
       "model_id": "0bfd19c62ef14e6d8174baae0f4fc9f8",
       "version_major": 2,
       "version_minor": 0
      },
      "text/plain": [
       "Obteniendo productos:   0%|          | 0/30 [00:00<?, ?it/s]"
      ]
     },
     "metadata": {},
     "output_type": "display_data"
    },
    {
     "name": "stdout",
     "output_type": "stream",
     "text": [
      "Estamos en la página https://skinsort.com/products//page/322\n"
     ]
    },
    {
     "data": {
      "application/vnd.jupyter.widget-view+json": {
       "model_id": "0caa8e98ca2e4f88b07d572486fac9a5",
       "version_major": 2,
       "version_minor": 0
      },
      "text/plain": [
       "Obteniendo productos:   0%|          | 0/30 [00:00<?, ?it/s]"
      ]
     },
     "metadata": {},
     "output_type": "display_data"
    },
    {
     "name": "stdout",
     "output_type": "stream",
     "text": [
      "Estamos en la página https://skinsort.com/products//page/323\n"
     ]
    },
    {
     "data": {
      "application/vnd.jupyter.widget-view+json": {
       "model_id": "2dce3034f9574e8188dd8bc55f51b1b1",
       "version_major": 2,
       "version_minor": 0
      },
      "text/plain": [
       "Obteniendo productos:   0%|          | 0/30 [00:00<?, ?it/s]"
      ]
     },
     "metadata": {},
     "output_type": "display_data"
    },
    {
     "name": "stdout",
     "output_type": "stream",
     "text": [
      "Estamos en la página https://skinsort.com/products//page/324\n",
      "Error al obtener los datos.\n"
     ]
    },
    {
     "data": {
      "application/vnd.jupyter.widget-view+json": {
       "model_id": "b3fb7bf75789424fb046286101867e9a",
       "version_major": 2,
       "version_minor": 0
      },
      "text/plain": [
       "Obteniendo productos:   0%|          | 0/30 [00:00<?, ?it/s]"
      ]
     },
     "metadata": {},
     "output_type": "display_data"
    },
    {
     "name": "stdout",
     "output_type": "stream",
     "text": [
      "Estamos en la página https://skinsort.com/products//page/326\n"
     ]
    },
    {
     "data": {
      "application/vnd.jupyter.widget-view+json": {
       "model_id": "ffb9e561da514941aa15895b3c7ae844",
       "version_major": 2,
       "version_minor": 0
      },
      "text/plain": [
       "Obteniendo productos:   0%|          | 0/30 [00:00<?, ?it/s]"
      ]
     },
     "metadata": {},
     "output_type": "display_data"
    },
    {
     "name": "stdout",
     "output_type": "stream",
     "text": [
      "Estamos en la página https://skinsort.com/products//page/327\n"
     ]
    },
    {
     "data": {
      "application/vnd.jupyter.widget-view+json": {
       "model_id": "cb363fdab6224a399aa9d1e713d1422e",
       "version_major": 2,
       "version_minor": 0
      },
      "text/plain": [
       "Obteniendo productos:   0%|          | 0/30 [00:00<?, ?it/s]"
      ]
     },
     "metadata": {},
     "output_type": "display_data"
    },
    {
     "name": "stdout",
     "output_type": "stream",
     "text": [
      "Estamos en la página https://skinsort.com/products//page/328\n"
     ]
    },
    {
     "data": {
      "application/vnd.jupyter.widget-view+json": {
       "model_id": "e905ea8478ec4c2fb4f4789460c0d91a",
       "version_major": 2,
       "version_minor": 0
      },
      "text/plain": [
       "Obteniendo productos:   0%|          | 0/30 [00:00<?, ?it/s]"
      ]
     },
     "metadata": {},
     "output_type": "display_data"
    },
    {
     "name": "stdout",
     "output_type": "stream",
     "text": [
      "Estamos en la página https://skinsort.com/products//page/329\n"
     ]
    },
    {
     "data": {
      "application/vnd.jupyter.widget-view+json": {
       "model_id": "92aff152ddc045e0b3e4e2168154ef8d",
       "version_major": 2,
       "version_minor": 0
      },
      "text/plain": [
       "Obteniendo productos:   0%|          | 0/30 [00:00<?, ?it/s]"
      ]
     },
     "metadata": {},
     "output_type": "display_data"
    },
    {
     "name": "stdout",
     "output_type": "stream",
     "text": [
      "Estamos en la página https://skinsort.com/products//page/330\n"
     ]
    },
    {
     "data": {
      "application/vnd.jupyter.widget-view+json": {
       "model_id": "af423a6d1e644364a7d339666996701a",
       "version_major": 2,
       "version_minor": 0
      },
      "text/plain": [
       "Obteniendo productos:   0%|          | 0/30 [00:00<?, ?it/s]"
      ]
     },
     "metadata": {},
     "output_type": "display_data"
    },
    {
     "name": "stdout",
     "output_type": "stream",
     "text": [
      "Estamos en la página https://skinsort.com/products//page/331\n"
     ]
    },
    {
     "data": {
      "application/vnd.jupyter.widget-view+json": {
       "model_id": "2308d8fbb80e45cb8634963f13c7e015",
       "version_major": 2,
       "version_minor": 0
      },
      "text/plain": [
       "Obteniendo productos:   0%|          | 0/30 [00:00<?, ?it/s]"
      ]
     },
     "metadata": {},
     "output_type": "display_data"
    },
    {
     "name": "stdout",
     "output_type": "stream",
     "text": [
      "Estamos en la página https://skinsort.com/products//page/332\n"
     ]
    },
    {
     "data": {
      "application/vnd.jupyter.widget-view+json": {
       "model_id": "b03789a1d8da4eb9873ac5f48f9adec8",
       "version_major": 2,
       "version_minor": 0
      },
      "text/plain": [
       "Obteniendo productos:   0%|          | 0/30 [00:00<?, ?it/s]"
      ]
     },
     "metadata": {},
     "output_type": "display_data"
    },
    {
     "name": "stdout",
     "output_type": "stream",
     "text": [
      "Estamos en la página https://skinsort.com/products//page/333\n"
     ]
    },
    {
     "data": {
      "application/vnd.jupyter.widget-view+json": {
       "model_id": "a5a19590e7bf4d1f9e2d83a8194d6568",
       "version_major": 2,
       "version_minor": 0
      },
      "text/plain": [
       "Obteniendo productos:   0%|          | 0/30 [00:00<?, ?it/s]"
      ]
     },
     "metadata": {},
     "output_type": "display_data"
    },
    {
     "name": "stdout",
     "output_type": "stream",
     "text": [
      "Estamos en la página https://skinsort.com/products//page/334\n"
     ]
    },
    {
     "data": {
      "application/vnd.jupyter.widget-view+json": {
       "model_id": "457d17c3bc8c4c649a408eabcea347a7",
       "version_major": 2,
       "version_minor": 0
      },
      "text/plain": [
       "Obteniendo productos:   0%|          | 0/30 [00:00<?, ?it/s]"
      ]
     },
     "metadata": {},
     "output_type": "display_data"
    },
    {
     "name": "stdout",
     "output_type": "stream",
     "text": [
      "Estamos en la página https://skinsort.com/products//page/335\n"
     ]
    },
    {
     "data": {
      "application/vnd.jupyter.widget-view+json": {
       "model_id": "a56a7dc4c6614878a59cf583f137b15d",
       "version_major": 2,
       "version_minor": 0
      },
      "text/plain": [
       "Obteniendo productos:   0%|          | 0/30 [00:00<?, ?it/s]"
      ]
     },
     "metadata": {},
     "output_type": "display_data"
    },
    {
     "name": "stdout",
     "output_type": "stream",
     "text": [
      "Estamos en la página https://skinsort.com/products//page/336\n"
     ]
    },
    {
     "data": {
      "application/vnd.jupyter.widget-view+json": {
       "model_id": "cd8cd0634cad4b72b929c1f6389b32d5",
       "version_major": 2,
       "version_minor": 0
      },
      "text/plain": [
       "Obteniendo productos:   0%|          | 0/30 [00:00<?, ?it/s]"
      ]
     },
     "metadata": {},
     "output_type": "display_data"
    },
    {
     "name": "stdout",
     "output_type": "stream",
     "text": [
      "Estamos en la página https://skinsort.com/products//page/337\n"
     ]
    },
    {
     "data": {
      "application/vnd.jupyter.widget-view+json": {
       "model_id": "e9be5c247ab0420081d4f205765916a7",
       "version_major": 2,
       "version_minor": 0
      },
      "text/plain": [
       "Obteniendo productos:   0%|          | 0/30 [00:00<?, ?it/s]"
      ]
     },
     "metadata": {},
     "output_type": "display_data"
    },
    {
     "name": "stdout",
     "output_type": "stream",
     "text": [
      "Estamos en la página https://skinsort.com/products//page/338\n"
     ]
    },
    {
     "data": {
      "application/vnd.jupyter.widget-view+json": {
       "model_id": "6bf7f20f252a4ffd867e70cccdf77af8",
       "version_major": 2,
       "version_minor": 0
      },
      "text/plain": [
       "Obteniendo productos:   0%|          | 0/30 [00:00<?, ?it/s]"
      ]
     },
     "metadata": {},
     "output_type": "display_data"
    },
    {
     "name": "stdout",
     "output_type": "stream",
     "text": [
      "Estamos en la página https://skinsort.com/products//page/339\n"
     ]
    },
    {
     "data": {
      "application/vnd.jupyter.widget-view+json": {
       "model_id": "0d35faf3764c44ea966df1c461e4e900",
       "version_major": 2,
       "version_minor": 0
      },
      "text/plain": [
       "Obteniendo productos:   0%|          | 0/30 [00:00<?, ?it/s]"
      ]
     },
     "metadata": {},
     "output_type": "display_data"
    },
    {
     "name": "stdout",
     "output_type": "stream",
     "text": [
      "Estamos en la página https://skinsort.com/products//page/340\n"
     ]
    },
    {
     "data": {
      "application/vnd.jupyter.widget-view+json": {
       "model_id": "704a9ad535df46739a39041001c87698",
       "version_major": 2,
       "version_minor": 0
      },
      "text/plain": [
       "Obteniendo productos:   0%|          | 0/30 [00:00<?, ?it/s]"
      ]
     },
     "metadata": {},
     "output_type": "display_data"
    },
    {
     "name": "stdout",
     "output_type": "stream",
     "text": [
      "Estamos en la página https://skinsort.com/products//page/341\n"
     ]
    },
    {
     "data": {
      "application/vnd.jupyter.widget-view+json": {
       "model_id": "3fb2d487497d447d9190a41ca84ebac9",
       "version_major": 2,
       "version_minor": 0
      },
      "text/plain": [
       "Obteniendo productos:   0%|          | 0/30 [00:00<?, ?it/s]"
      ]
     },
     "metadata": {},
     "output_type": "display_data"
    },
    {
     "name": "stdout",
     "output_type": "stream",
     "text": [
      "Estamos en la página https://skinsort.com/products//page/342\n"
     ]
    },
    {
     "data": {
      "application/vnd.jupyter.widget-view+json": {
       "model_id": "117197ac411e4b1b866b6ecefd846361",
       "version_major": 2,
       "version_minor": 0
      },
      "text/plain": [
       "Obteniendo productos:   0%|          | 0/30 [00:00<?, ?it/s]"
      ]
     },
     "metadata": {},
     "output_type": "display_data"
    },
    {
     "name": "stdout",
     "output_type": "stream",
     "text": [
      "Estamos en la página https://skinsort.com/products//page/343\n"
     ]
    },
    {
     "data": {
      "application/vnd.jupyter.widget-view+json": {
       "model_id": "587652b6ade14ea19a1165e3071e6ed8",
       "version_major": 2,
       "version_minor": 0
      },
      "text/plain": [
       "Obteniendo productos:   0%|          | 0/30 [00:00<?, ?it/s]"
      ]
     },
     "metadata": {},
     "output_type": "display_data"
    },
    {
     "name": "stdout",
     "output_type": "stream",
     "text": [
      "Estamos en la página https://skinsort.com/products//page/344\n"
     ]
    },
    {
     "data": {
      "application/vnd.jupyter.widget-view+json": {
       "model_id": "25c1529931e14365b4b6395c0179b896",
       "version_major": 2,
       "version_minor": 0
      },
      "text/plain": [
       "Obteniendo productos:   0%|          | 0/30 [00:00<?, ?it/s]"
      ]
     },
     "metadata": {},
     "output_type": "display_data"
    },
    {
     "name": "stdout",
     "output_type": "stream",
     "text": [
      "Estamos en la página https://skinsort.com/products//page/345\n"
     ]
    },
    {
     "data": {
      "application/vnd.jupyter.widget-view+json": {
       "model_id": "ca178a6fae2e4caa9b6d9df58f95b92f",
       "version_major": 2,
       "version_minor": 0
      },
      "text/plain": [
       "Obteniendo productos:   0%|          | 0/30 [00:00<?, ?it/s]"
      ]
     },
     "metadata": {},
     "output_type": "display_data"
    },
    {
     "name": "stdout",
     "output_type": "stream",
     "text": [
      "Estamos en la página https://skinsort.com/products//page/346\n",
      "Error al obtener los datos.\n"
     ]
    },
    {
     "data": {
      "application/vnd.jupyter.widget-view+json": {
       "model_id": "b47e137dffb540fbbe7e3ae0180c06c5",
       "version_major": 2,
       "version_minor": 0
      },
      "text/plain": [
       "Obteniendo productos:   0%|          | 0/30 [00:00<?, ?it/s]"
      ]
     },
     "metadata": {},
     "output_type": "display_data"
    },
    {
     "name": "stdout",
     "output_type": "stream",
     "text": [
      "Estamos en la página https://skinsort.com/products//page/348\n"
     ]
    },
    {
     "data": {
      "application/vnd.jupyter.widget-view+json": {
       "model_id": "e1e457153fab4317bc02361cb28dc2a0",
       "version_major": 2,
       "version_minor": 0
      },
      "text/plain": [
       "Obteniendo productos:   0%|          | 0/30 [00:00<?, ?it/s]"
      ]
     },
     "metadata": {},
     "output_type": "display_data"
    },
    {
     "name": "stdout",
     "output_type": "stream",
     "text": [
      "Estamos en la página https://skinsort.com/products//page/349\n"
     ]
    },
    {
     "data": {
      "application/vnd.jupyter.widget-view+json": {
       "model_id": "1cd4818e5838447998ebf41547790eb8",
       "version_major": 2,
       "version_minor": 0
      },
      "text/plain": [
       "Obteniendo productos:   0%|          | 0/30 [00:00<?, ?it/s]"
      ]
     },
     "metadata": {},
     "output_type": "display_data"
    },
    {
     "name": "stdout",
     "output_type": "stream",
     "text": [
      "Estamos en la página https://skinsort.com/products//page/350\n"
     ]
    },
    {
     "data": {
      "application/vnd.jupyter.widget-view+json": {
       "model_id": "433a74698d614384a106c3887a49165c",
       "version_major": 2,
       "version_minor": 0
      },
      "text/plain": [
       "Obteniendo productos:   0%|          | 0/30 [00:00<?, ?it/s]"
      ]
     },
     "metadata": {},
     "output_type": "display_data"
    },
    {
     "name": "stdout",
     "output_type": "stream",
     "text": [
      "Estamos en la página https://skinsort.com/products//page/351\n"
     ]
    },
    {
     "data": {
      "application/vnd.jupyter.widget-view+json": {
       "model_id": "e64d8aeb42c44607b1287c4c83cc4a1a",
       "version_major": 2,
       "version_minor": 0
      },
      "text/plain": [
       "Obteniendo productos:   0%|          | 0/30 [00:00<?, ?it/s]"
      ]
     },
     "metadata": {},
     "output_type": "display_data"
    },
    {
     "name": "stdout",
     "output_type": "stream",
     "text": [
      "Estamos en la página https://skinsort.com/products//page/352\n"
     ]
    },
    {
     "data": {
      "application/vnd.jupyter.widget-view+json": {
       "model_id": "466e4366dfed4d7a91169d75df33af87",
       "version_major": 2,
       "version_minor": 0
      },
      "text/plain": [
       "Obteniendo productos:   0%|          | 0/30 [00:00<?, ?it/s]"
      ]
     },
     "metadata": {},
     "output_type": "display_data"
    },
    {
     "name": "stdout",
     "output_type": "stream",
     "text": [
      "Estamos en la página https://skinsort.com/products//page/353\n"
     ]
    },
    {
     "data": {
      "application/vnd.jupyter.widget-view+json": {
       "model_id": "77df966f8fa647a29c9e217e27cc5916",
       "version_major": 2,
       "version_minor": 0
      },
      "text/plain": [
       "Obteniendo productos:   0%|          | 0/30 [00:00<?, ?it/s]"
      ]
     },
     "metadata": {},
     "output_type": "display_data"
    },
    {
     "name": "stdout",
     "output_type": "stream",
     "text": [
      "Estamos en la página https://skinsort.com/products//page/354\n"
     ]
    },
    {
     "data": {
      "application/vnd.jupyter.widget-view+json": {
       "model_id": "607720574e1c472889e097890d1ae141",
       "version_major": 2,
       "version_minor": 0
      },
      "text/plain": [
       "Obteniendo productos:   0%|          | 0/30 [00:00<?, ?it/s]"
      ]
     },
     "metadata": {},
     "output_type": "display_data"
    },
    {
     "name": "stdout",
     "output_type": "stream",
     "text": [
      "Estamos en la página https://skinsort.com/products//page/355\n"
     ]
    },
    {
     "data": {
      "application/vnd.jupyter.widget-view+json": {
       "model_id": "775e4e59e62d4a388bfb82535dac05ad",
       "version_major": 2,
       "version_minor": 0
      },
      "text/plain": [
       "Obteniendo productos:   0%|          | 0/30 [00:00<?, ?it/s]"
      ]
     },
     "metadata": {},
     "output_type": "display_data"
    },
    {
     "name": "stdout",
     "output_type": "stream",
     "text": [
      "Estamos en la página https://skinsort.com/products//page/356\n"
     ]
    },
    {
     "data": {
      "application/vnd.jupyter.widget-view+json": {
       "model_id": "110607981e3f467fa6cc735a2892a1a2",
       "version_major": 2,
       "version_minor": 0
      },
      "text/plain": [
       "Obteniendo productos:   0%|          | 0/30 [00:00<?, ?it/s]"
      ]
     },
     "metadata": {},
     "output_type": "display_data"
    },
    {
     "name": "stdout",
     "output_type": "stream",
     "text": [
      "Estamos en la página https://skinsort.com/products//page/357\n"
     ]
    },
    {
     "data": {
      "application/vnd.jupyter.widget-view+json": {
       "model_id": "4fa85cf4800a4254bdfb32f7d55f1a3b",
       "version_major": 2,
       "version_minor": 0
      },
      "text/plain": [
       "Obteniendo productos:   0%|          | 0/30 [00:00<?, ?it/s]"
      ]
     },
     "metadata": {},
     "output_type": "display_data"
    },
    {
     "name": "stdout",
     "output_type": "stream",
     "text": [
      "Estamos en la página https://skinsort.com/products//page/358\n"
     ]
    },
    {
     "data": {
      "application/vnd.jupyter.widget-view+json": {
       "model_id": "c9f3065d00054fc9860c2183589b4616",
       "version_major": 2,
       "version_minor": 0
      },
      "text/plain": [
       "Obteniendo productos:   0%|          | 0/30 [00:00<?, ?it/s]"
      ]
     },
     "metadata": {},
     "output_type": "display_data"
    },
    {
     "name": "stdout",
     "output_type": "stream",
     "text": [
      "Estamos en la página https://skinsort.com/products//page/359\n"
     ]
    },
    {
     "data": {
      "application/vnd.jupyter.widget-view+json": {
       "model_id": "66e04c2a775b44488b6599f2f56769f4",
       "version_major": 2,
       "version_minor": 0
      },
      "text/plain": [
       "Obteniendo productos:   0%|          | 0/30 [00:00<?, ?it/s]"
      ]
     },
     "metadata": {},
     "output_type": "display_data"
    },
    {
     "name": "stdout",
     "output_type": "stream",
     "text": [
      "Estamos en la página https://skinsort.com/products//page/360\n"
     ]
    },
    {
     "data": {
      "application/vnd.jupyter.widget-view+json": {
       "model_id": "ac68758c41da4001986b1869241efca6",
       "version_major": 2,
       "version_minor": 0
      },
      "text/plain": [
       "Obteniendo productos:   0%|          | 0/30 [00:00<?, ?it/s]"
      ]
     },
     "metadata": {},
     "output_type": "display_data"
    },
    {
     "name": "stdout",
     "output_type": "stream",
     "text": [
      "Estamos en la página https://skinsort.com/products//page/361\n"
     ]
    },
    {
     "data": {
      "application/vnd.jupyter.widget-view+json": {
       "model_id": "01f2cb6b7ca549dca7170f8d43b9ac2f",
       "version_major": 2,
       "version_minor": 0
      },
      "text/plain": [
       "Obteniendo productos:   0%|          | 0/30 [00:00<?, ?it/s]"
      ]
     },
     "metadata": {},
     "output_type": "display_data"
    },
    {
     "name": "stdout",
     "output_type": "stream",
     "text": [
      "Estamos en la página https://skinsort.com/products//page/362\n"
     ]
    },
    {
     "data": {
      "application/vnd.jupyter.widget-view+json": {
       "model_id": "90baafedb11c49618a531a9a20b1c01e",
       "version_major": 2,
       "version_minor": 0
      },
      "text/plain": [
       "Obteniendo productos:   0%|          | 0/30 [00:00<?, ?it/s]"
      ]
     },
     "metadata": {},
     "output_type": "display_data"
    },
    {
     "name": "stdout",
     "output_type": "stream",
     "text": [
      "Estamos en la página https://skinsort.com/products//page/363\n"
     ]
    },
    {
     "data": {
      "application/vnd.jupyter.widget-view+json": {
       "model_id": "c0a8add21ddb4a51ab4e7d2e943b462c",
       "version_major": 2,
       "version_minor": 0
      },
      "text/plain": [
       "Obteniendo productos:   0%|          | 0/30 [00:00<?, ?it/s]"
      ]
     },
     "metadata": {},
     "output_type": "display_data"
    },
    {
     "name": "stdout",
     "output_type": "stream",
     "text": [
      "Estamos en la página https://skinsort.com/products//page/364\n",
      "Error al obtener los datos.\n"
     ]
    },
    {
     "data": {
      "application/vnd.jupyter.widget-view+json": {
       "model_id": "d30414fefc2c4f40b84b988fcb85a421",
       "version_major": 2,
       "version_minor": 0
      },
      "text/plain": [
       "Obteniendo productos:   0%|          | 0/30 [00:00<?, ?it/s]"
      ]
     },
     "metadata": {},
     "output_type": "display_data"
    },
    {
     "name": "stdout",
     "output_type": "stream",
     "text": [
      "Estamos en la página https://skinsort.com/products//page/366\n"
     ]
    },
    {
     "data": {
      "application/vnd.jupyter.widget-view+json": {
       "model_id": "4f6d513189b74985a9bdd1c2ffea19dc",
       "version_major": 2,
       "version_minor": 0
      },
      "text/plain": [
       "Obteniendo productos:   0%|          | 0/30 [00:00<?, ?it/s]"
      ]
     },
     "metadata": {},
     "output_type": "display_data"
    },
    {
     "name": "stdout",
     "output_type": "stream",
     "text": [
      "Estamos en la página https://skinsort.com/products//page/367\n"
     ]
    },
    {
     "data": {
      "application/vnd.jupyter.widget-view+json": {
       "model_id": "afb8662ad8b540a6a2acc5b9605c1b4f",
       "version_major": 2,
       "version_minor": 0
      },
      "text/plain": [
       "Obteniendo productos:   0%|          | 0/30 [00:00<?, ?it/s]"
      ]
     },
     "metadata": {},
     "output_type": "display_data"
    },
    {
     "name": "stdout",
     "output_type": "stream",
     "text": [
      "Estamos en la página https://skinsort.com/products//page/368\n"
     ]
    },
    {
     "data": {
      "application/vnd.jupyter.widget-view+json": {
       "model_id": "14faa1dcb841482db79c5196c85700a5",
       "version_major": 2,
       "version_minor": 0
      },
      "text/plain": [
       "Obteniendo productos:   0%|          | 0/30 [00:00<?, ?it/s]"
      ]
     },
     "metadata": {},
     "output_type": "display_data"
    },
    {
     "name": "stdout",
     "output_type": "stream",
     "text": [
      "Estamos en la página https://skinsort.com/products//page/369\n"
     ]
    },
    {
     "data": {
      "application/vnd.jupyter.widget-view+json": {
       "model_id": "836b0604d3a74b1389740e26727af95b",
       "version_major": 2,
       "version_minor": 0
      },
      "text/plain": [
       "Obteniendo productos:   0%|          | 0/30 [00:00<?, ?it/s]"
      ]
     },
     "metadata": {},
     "output_type": "display_data"
    },
    {
     "name": "stdout",
     "output_type": "stream",
     "text": [
      "Estamos en la página https://skinsort.com/products//page/370\n"
     ]
    },
    {
     "data": {
      "application/vnd.jupyter.widget-view+json": {
       "model_id": "64d3a989be01408693c070e65c636183",
       "version_major": 2,
       "version_minor": 0
      },
      "text/plain": [
       "Obteniendo productos:   0%|          | 0/30 [00:00<?, ?it/s]"
      ]
     },
     "metadata": {},
     "output_type": "display_data"
    },
    {
     "name": "stdout",
     "output_type": "stream",
     "text": [
      "Estamos en la página https://skinsort.com/products//page/371\n"
     ]
    },
    {
     "data": {
      "application/vnd.jupyter.widget-view+json": {
       "model_id": "02aa9bb81972450f9fb4befa661c283f",
       "version_major": 2,
       "version_minor": 0
      },
      "text/plain": [
       "Obteniendo productos:   0%|          | 0/30 [00:00<?, ?it/s]"
      ]
     },
     "metadata": {},
     "output_type": "display_data"
    },
    {
     "name": "stdout",
     "output_type": "stream",
     "text": [
      "Estamos en la página https://skinsort.com/products//page/372\n"
     ]
    },
    {
     "data": {
      "application/vnd.jupyter.widget-view+json": {
       "model_id": "9a53a1f0473f4cc085c98da3f7d87272",
       "version_major": 2,
       "version_minor": 0
      },
      "text/plain": [
       "Obteniendo productos:   0%|          | 0/30 [00:00<?, ?it/s]"
      ]
     },
     "metadata": {},
     "output_type": "display_data"
    },
    {
     "name": "stdout",
     "output_type": "stream",
     "text": [
      "Estamos en la página https://skinsort.com/products//page/373\n"
     ]
    },
    {
     "data": {
      "application/vnd.jupyter.widget-view+json": {
       "model_id": "692b5e82a08a460c8190efc9e3350699",
       "version_major": 2,
       "version_minor": 0
      },
      "text/plain": [
       "Obteniendo productos:   0%|          | 0/30 [00:00<?, ?it/s]"
      ]
     },
     "metadata": {},
     "output_type": "display_data"
    },
    {
     "name": "stdout",
     "output_type": "stream",
     "text": [
      "Estamos en la página https://skinsort.com/products//page/374\n"
     ]
    },
    {
     "data": {
      "application/vnd.jupyter.widget-view+json": {
       "model_id": "bcd879a4323c41eab9707ba8d5591304",
       "version_major": 2,
       "version_minor": 0
      },
      "text/plain": [
       "Obteniendo productos:   0%|          | 0/30 [00:00<?, ?it/s]"
      ]
     },
     "metadata": {},
     "output_type": "display_data"
    },
    {
     "name": "stdout",
     "output_type": "stream",
     "text": [
      "Estamos en la página https://skinsort.com/products//page/375\n"
     ]
    },
    {
     "data": {
      "application/vnd.jupyter.widget-view+json": {
       "model_id": "cf22a8ddc3bd4f6c857b6aebfccf0a4a",
       "version_major": 2,
       "version_minor": 0
      },
      "text/plain": [
       "Obteniendo productos:   0%|          | 0/30 [00:00<?, ?it/s]"
      ]
     },
     "metadata": {},
     "output_type": "display_data"
    },
    {
     "name": "stdout",
     "output_type": "stream",
     "text": [
      "Estamos en la página https://skinsort.com/products//page/376\n"
     ]
    },
    {
     "data": {
      "application/vnd.jupyter.widget-view+json": {
       "model_id": "b5d106b1765941c2a196fbaa05bc7d22",
       "version_major": 2,
       "version_minor": 0
      },
      "text/plain": [
       "Obteniendo productos:   0%|          | 0/30 [00:00<?, ?it/s]"
      ]
     },
     "metadata": {},
     "output_type": "display_data"
    },
    {
     "name": "stdout",
     "output_type": "stream",
     "text": [
      "Estamos en la página https://skinsort.com/products//page/377\n"
     ]
    },
    {
     "data": {
      "application/vnd.jupyter.widget-view+json": {
       "model_id": "0cf7f2e571c740039381368f06ac6032",
       "version_major": 2,
       "version_minor": 0
      },
      "text/plain": [
       "Obteniendo productos:   0%|          | 0/30 [00:00<?, ?it/s]"
      ]
     },
     "metadata": {},
     "output_type": "display_data"
    },
    {
     "name": "stdout",
     "output_type": "stream",
     "text": [
      "Estamos en la página https://skinsort.com/products//page/378\n"
     ]
    },
    {
     "data": {
      "application/vnd.jupyter.widget-view+json": {
       "model_id": "43359e93a8e542db8759bc644223444e",
       "version_major": 2,
       "version_minor": 0
      },
      "text/plain": [
       "Obteniendo productos:   0%|          | 0/30 [00:00<?, ?it/s]"
      ]
     },
     "metadata": {},
     "output_type": "display_data"
    },
    {
     "name": "stdout",
     "output_type": "stream",
     "text": [
      "Estamos en la página https://skinsort.com/products//page/379\n"
     ]
    },
    {
     "data": {
      "application/vnd.jupyter.widget-view+json": {
       "model_id": "51f2c10ce7744927ada8b8e8ab90bfb3",
       "version_major": 2,
       "version_minor": 0
      },
      "text/plain": [
       "Obteniendo productos:   0%|          | 0/30 [00:00<?, ?it/s]"
      ]
     },
     "metadata": {},
     "output_type": "display_data"
    },
    {
     "name": "stdout",
     "output_type": "stream",
     "text": [
      "Estamos en la página https://skinsort.com/products//page/380\n"
     ]
    },
    {
     "data": {
      "application/vnd.jupyter.widget-view+json": {
       "model_id": "497b4fa50d5647f88f713ae126e889d2",
       "version_major": 2,
       "version_minor": 0
      },
      "text/plain": [
       "Obteniendo productos:   0%|          | 0/30 [00:00<?, ?it/s]"
      ]
     },
     "metadata": {},
     "output_type": "display_data"
    },
    {
     "name": "stdout",
     "output_type": "stream",
     "text": [
      "Estamos en la página https://skinsort.com/products//page/381\n"
     ]
    },
    {
     "data": {
      "application/vnd.jupyter.widget-view+json": {
       "model_id": "2dd803ddb81a48778f1e6d32a0b886be",
       "version_major": 2,
       "version_minor": 0
      },
      "text/plain": [
       "Obteniendo productos:   0%|          | 0/30 [00:00<?, ?it/s]"
      ]
     },
     "metadata": {},
     "output_type": "display_data"
    },
    {
     "name": "stdout",
     "output_type": "stream",
     "text": [
      "Estamos en la página https://skinsort.com/products//page/382\n"
     ]
    },
    {
     "data": {
      "application/vnd.jupyter.widget-view+json": {
       "model_id": "13adf7a7699449e18364bf8c244d455c",
       "version_major": 2,
       "version_minor": 0
      },
      "text/plain": [
       "Obteniendo productos:   0%|          | 0/30 [00:00<?, ?it/s]"
      ]
     },
     "metadata": {},
     "output_type": "display_data"
    },
    {
     "name": "stdout",
     "output_type": "stream",
     "text": [
      "Estamos en la página https://skinsort.com/products//page/383\n"
     ]
    },
    {
     "data": {
      "application/vnd.jupyter.widget-view+json": {
       "model_id": "5e102f3cd4d14e1eae051a0d44061a74",
       "version_major": 2,
       "version_minor": 0
      },
      "text/plain": [
       "Obteniendo productos:   0%|          | 0/30 [00:00<?, ?it/s]"
      ]
     },
     "metadata": {},
     "output_type": "display_data"
    },
    {
     "name": "stdout",
     "output_type": "stream",
     "text": [
      "Estamos en la página https://skinsort.com/products//page/384\n"
     ]
    },
    {
     "data": {
      "application/vnd.jupyter.widget-view+json": {
       "model_id": "9780d5511a1a453c90bda2b8b858b9ff",
       "version_major": 2,
       "version_minor": 0
      },
      "text/plain": [
       "Obteniendo productos:   0%|          | 0/30 [00:00<?, ?it/s]"
      ]
     },
     "metadata": {},
     "output_type": "display_data"
    },
    {
     "name": "stdout",
     "output_type": "stream",
     "text": [
      "Estamos en la página https://skinsort.com/products//page/385\n"
     ]
    },
    {
     "data": {
      "application/vnd.jupyter.widget-view+json": {
       "model_id": "09f234bd788645e7ba52f7e05fcfc49b",
       "version_major": 2,
       "version_minor": 0
      },
      "text/plain": [
       "Obteniendo productos:   0%|          | 0/30 [00:00<?, ?it/s]"
      ]
     },
     "metadata": {},
     "output_type": "display_data"
    },
    {
     "name": "stdout",
     "output_type": "stream",
     "text": [
      "Estamos en la página https://skinsort.com/products//page/386\n"
     ]
    },
    {
     "data": {
      "application/vnd.jupyter.widget-view+json": {
       "model_id": "e34a01c6f2dc40619d34b64a8f65b80c",
       "version_major": 2,
       "version_minor": 0
      },
      "text/plain": [
       "Obteniendo productos:   0%|          | 0/30 [00:00<?, ?it/s]"
      ]
     },
     "metadata": {},
     "output_type": "display_data"
    },
    {
     "name": "stdout",
     "output_type": "stream",
     "text": [
      "Estamos en la página https://skinsort.com/products//page/387\n"
     ]
    },
    {
     "data": {
      "application/vnd.jupyter.widget-view+json": {
       "model_id": "3ecc8ee437b64427b616605bfbfcd2ab",
       "version_major": 2,
       "version_minor": 0
      },
      "text/plain": [
       "Obteniendo productos:   0%|          | 0/30 [00:00<?, ?it/s]"
      ]
     },
     "metadata": {},
     "output_type": "display_data"
    },
    {
     "name": "stdout",
     "output_type": "stream",
     "text": [
      "Estamos en la página https://skinsort.com/products//page/388\n"
     ]
    },
    {
     "data": {
      "application/vnd.jupyter.widget-view+json": {
       "model_id": "e0f23e368ff54370926eb4d9ca3e6249",
       "version_major": 2,
       "version_minor": 0
      },
      "text/plain": [
       "Obteniendo productos:   0%|          | 0/30 [00:00<?, ?it/s]"
      ]
     },
     "metadata": {},
     "output_type": "display_data"
    },
    {
     "name": "stdout",
     "output_type": "stream",
     "text": [
      "Estamos en la página https://skinsort.com/products//page/389\n"
     ]
    },
    {
     "data": {
      "application/vnd.jupyter.widget-view+json": {
       "model_id": "ffcfbd5f14534ac38df06a44897d6fc1",
       "version_major": 2,
       "version_minor": 0
      },
      "text/plain": [
       "Obteniendo productos:   0%|          | 0/30 [00:00<?, ?it/s]"
      ]
     },
     "metadata": {},
     "output_type": "display_data"
    },
    {
     "name": "stdout",
     "output_type": "stream",
     "text": [
      "Estamos en la página https://skinsort.com/products//page/390\n"
     ]
    },
    {
     "data": {
      "application/vnd.jupyter.widget-view+json": {
       "model_id": "d9e5fdf0df4747d3914edd4404b1b1d4",
       "version_major": 2,
       "version_minor": 0
      },
      "text/plain": [
       "Obteniendo productos:   0%|          | 0/30 [00:00<?, ?it/s]"
      ]
     },
     "metadata": {},
     "output_type": "display_data"
    },
    {
     "name": "stdout",
     "output_type": "stream",
     "text": [
      "Estamos en la página https://skinsort.com/products//page/391\n"
     ]
    },
    {
     "data": {
      "application/vnd.jupyter.widget-view+json": {
       "model_id": "d57cc53371ef452a816beaaa53796455",
       "version_major": 2,
       "version_minor": 0
      },
      "text/plain": [
       "Obteniendo productos:   0%|          | 0/30 [00:00<?, ?it/s]"
      ]
     },
     "metadata": {},
     "output_type": "display_data"
    },
    {
     "name": "stdout",
     "output_type": "stream",
     "text": [
      "Estamos en la página https://skinsort.com/products//page/392\n"
     ]
    },
    {
     "data": {
      "application/vnd.jupyter.widget-view+json": {
       "model_id": "6cf61dd20b4d4c20bf7be4a1d3f32681",
       "version_major": 2,
       "version_minor": 0
      },
      "text/plain": [
       "Obteniendo productos:   0%|          | 0/30 [00:00<?, ?it/s]"
      ]
     },
     "metadata": {},
     "output_type": "display_data"
    },
    {
     "name": "stdout",
     "output_type": "stream",
     "text": [
      "Estamos en la página https://skinsort.com/products//page/393\n"
     ]
    },
    {
     "data": {
      "application/vnd.jupyter.widget-view+json": {
       "model_id": "04a01aa8e7644d19b2a29e13dc911740",
       "version_major": 2,
       "version_minor": 0
      },
      "text/plain": [
       "Obteniendo productos:   0%|          | 0/30 [00:00<?, ?it/s]"
      ]
     },
     "metadata": {},
     "output_type": "display_data"
    },
    {
     "name": "stdout",
     "output_type": "stream",
     "text": [
      "Estamos en la página https://skinsort.com/products//page/394\n"
     ]
    },
    {
     "data": {
      "application/vnd.jupyter.widget-view+json": {
       "model_id": "bb82c276f6b34d39b0f3a2abc2a6bca9",
       "version_major": 2,
       "version_minor": 0
      },
      "text/plain": [
       "Obteniendo productos:   0%|          | 0/30 [00:00<?, ?it/s]"
      ]
     },
     "metadata": {},
     "output_type": "display_data"
    },
    {
     "name": "stdout",
     "output_type": "stream",
     "text": [
      "Estamos en la página https://skinsort.com/products//page/395\n"
     ]
    },
    {
     "data": {
      "application/vnd.jupyter.widget-view+json": {
       "model_id": "c8e750a87987419db96ced915713871d",
       "version_major": 2,
       "version_minor": 0
      },
      "text/plain": [
       "Obteniendo productos:   0%|          | 0/30 [00:00<?, ?it/s]"
      ]
     },
     "metadata": {},
     "output_type": "display_data"
    },
    {
     "name": "stdout",
     "output_type": "stream",
     "text": [
      "Estamos en la página https://skinsort.com/products//page/396\n"
     ]
    },
    {
     "data": {
      "application/vnd.jupyter.widget-view+json": {
       "model_id": "85324bd55d0b425a8e9e531d241c3f5a",
       "version_major": 2,
       "version_minor": 0
      },
      "text/plain": [
       "Obteniendo productos:   0%|          | 0/30 [00:00<?, ?it/s]"
      ]
     },
     "metadata": {},
     "output_type": "display_data"
    },
    {
     "name": "stdout",
     "output_type": "stream",
     "text": [
      "Estamos en la página https://skinsort.com/products//page/397\n"
     ]
    },
    {
     "data": {
      "application/vnd.jupyter.widget-view+json": {
       "model_id": "eaa63ef6886d4d4ab41c4534f33139b3",
       "version_major": 2,
       "version_minor": 0
      },
      "text/plain": [
       "Obteniendo productos:   0%|          | 0/30 [00:00<?, ?it/s]"
      ]
     },
     "metadata": {},
     "output_type": "display_data"
    },
    {
     "name": "stdout",
     "output_type": "stream",
     "text": [
      "Estamos en la página https://skinsort.com/products//page/398\n"
     ]
    },
    {
     "data": {
      "application/vnd.jupyter.widget-view+json": {
       "model_id": "59000133341d4472b92d3868e4a4376f",
       "version_major": 2,
       "version_minor": 0
      },
      "text/plain": [
       "Obteniendo productos:   0%|          | 0/30 [00:00<?, ?it/s]"
      ]
     },
     "metadata": {},
     "output_type": "display_data"
    },
    {
     "name": "stdout",
     "output_type": "stream",
     "text": [
      "Estamos en la página https://skinsort.com/products//page/399\n"
     ]
    }
   ],
   "source": [
    "dict4={}\n",
    "for i in range(300, 400):\n",
    "    dict4[i] = scrap(f'https://skinsort.com/products//page/{i}')"
   ]
  },
  {
   "cell_type": "code",
   "execution_count": 66,
   "id": "728ef272",
   "metadata": {},
   "outputs": [
    {
     "name": "stderr",
     "output_type": "stream",
     "text": [
      "2023-03-09 14:37:14,497 [88601] WARNING  py.warnings:109: [JupyterRequire] /tmp/ipykernel_88601/4040571658.py:3: DeprecationWarning: executable_path has been deprecated, please pass in a Service object\n",
      "  driver = webdriver.Chrome(PATH)\n",
      "\n"
     ]
    },
    {
     "data": {
      "application/vnd.jupyter.widget-view+json": {
       "model_id": "943b758191114bf5a9e71cd0c0f9ced1",
       "version_major": 2,
       "version_minor": 0
      },
      "text/plain": [
       "Obteniendo productos:   0%|          | 0/30 [00:00<?, ?it/s]"
      ]
     },
     "metadata": {},
     "output_type": "display_data"
    },
    {
     "name": "stdout",
     "output_type": "stream",
     "text": [
      "Estamos en la página https://skinsort.com/products//page/317\n"
     ]
    },
    {
     "data": {
      "application/vnd.jupyter.widget-view+json": {
       "model_id": "42764f26324e45de9ebca734ea310604",
       "version_major": 2,
       "version_minor": 0
      },
      "text/plain": [
       "Obteniendo productos:   0%|          | 0/30 [00:00<?, ?it/s]"
      ]
     },
     "metadata": {},
     "output_type": "display_data"
    },
    {
     "name": "stdout",
     "output_type": "stream",
     "text": [
      "Estamos en la página https://skinsort.com/products//page/321\n"
     ]
    },
    {
     "data": {
      "application/vnd.jupyter.widget-view+json": {
       "model_id": "5c7393638aba45d5b6a0cbd07be1bb54",
       "version_major": 2,
       "version_minor": 0
      },
      "text/plain": [
       "Obteniendo productos:   0%|          | 0/30 [00:00<?, ?it/s]"
      ]
     },
     "metadata": {},
     "output_type": "display_data"
    },
    {
     "name": "stdout",
     "output_type": "stream",
     "text": [
      "Estamos en la página https://skinsort.com/products//page/325\n"
     ]
    },
    {
     "data": {
      "application/vnd.jupyter.widget-view+json": {
       "model_id": "900b89034aff4c7e8eaa323af18f8a9f",
       "version_major": 2,
       "version_minor": 0
      },
      "text/plain": [
       "Obteniendo productos:   0%|          | 0/30 [00:00<?, ?it/s]"
      ]
     },
     "metadata": {},
     "output_type": "display_data"
    },
    {
     "name": "stdout",
     "output_type": "stream",
     "text": [
      "Estamos en la página https://skinsort.com/products//page/347\n"
     ]
    },
    {
     "data": {
      "application/vnd.jupyter.widget-view+json": {
       "model_id": "9eb759e80cc544cf81c97da8fd3e34ab",
       "version_major": 2,
       "version_minor": 0
      },
      "text/plain": [
       "Obteniendo productos:   0%|          | 0/30 [00:00<?, ?it/s]"
      ]
     },
     "metadata": {},
     "output_type": "display_data"
    },
    {
     "name": "stdout",
     "output_type": "stream",
     "text": [
      "Estamos en la página https://skinsort.com/products//page/365\n"
     ]
    }
   ],
   "source": [
    "dict4[317] = scrap('https://skinsort.com/products//page/317')\n",
    "dict4[321] = scrap('https://skinsort.com/products//page/321')\n",
    "dict4[325] = scrap('https://skinsort.com/products//page/325')\n",
    "dict4[347] = scrap('https://skinsort.com/products//page/347')\n",
    "dict4[365] = scrap('https://skinsort.com/products//page/365')"
   ]
  },
  {
   "cell_type": "code",
   "execution_count": 67,
   "id": "f1e140b0",
   "metadata": {},
   "outputs": [],
   "source": [
    "with open('datos_scrapeados4.json', 'w') as file:\n",
    "    json.dump(dict4, file)"
   ]
  },
  {
   "cell_type": "code",
   "execution_count": 68,
   "id": "4484f172",
   "metadata": {},
   "outputs": [
    {
     "name": "stderr",
     "output_type": "stream",
     "text": [
      "2023-03-09 14:40:20,116 [88601] WARNING  py.warnings:109: [JupyterRequire] /tmp/ipykernel_88601/4040571658.py:3: DeprecationWarning: executable_path has been deprecated, please pass in a Service object\n",
      "  driver = webdriver.Chrome(PATH)\n",
      "\n"
     ]
    },
    {
     "data": {
      "application/vnd.jupyter.widget-view+json": {
       "model_id": "f41dbcb013594e4ea6382e0bc81651a9",
       "version_major": 2,
       "version_minor": 0
      },
      "text/plain": [
       "Obteniendo productos:   0%|          | 0/30 [00:00<?, ?it/s]"
      ]
     },
     "metadata": {},
     "output_type": "display_data"
    },
    {
     "name": "stdout",
     "output_type": "stream",
     "text": [
      "Estamos en la página https://skinsort.com/products//page/400\n"
     ]
    },
    {
     "data": {
      "application/vnd.jupyter.widget-view+json": {
       "model_id": "c842bb6f213b4efa991ea1555af295ee",
       "version_major": 2,
       "version_minor": 0
      },
      "text/plain": [
       "Obteniendo productos:   0%|          | 0/30 [00:00<?, ?it/s]"
      ]
     },
     "metadata": {},
     "output_type": "display_data"
    },
    {
     "name": "stdout",
     "output_type": "stream",
     "text": [
      "Estamos en la página https://skinsort.com/products//page/401\n"
     ]
    },
    {
     "data": {
      "application/vnd.jupyter.widget-view+json": {
       "model_id": "907c4af3dd3a465da317e71912fe7685",
       "version_major": 2,
       "version_minor": 0
      },
      "text/plain": [
       "Obteniendo productos:   0%|          | 0/30 [00:00<?, ?it/s]"
      ]
     },
     "metadata": {},
     "output_type": "display_data"
    },
    {
     "name": "stdout",
     "output_type": "stream",
     "text": [
      "Estamos en la página https://skinsort.com/products//page/402\n"
     ]
    },
    {
     "data": {
      "application/vnd.jupyter.widget-view+json": {
       "model_id": "9105473c35264f94b2bc3c45a39d7236",
       "version_major": 2,
       "version_minor": 0
      },
      "text/plain": [
       "Obteniendo productos:   0%|          | 0/30 [00:00<?, ?it/s]"
      ]
     },
     "metadata": {},
     "output_type": "display_data"
    },
    {
     "name": "stdout",
     "output_type": "stream",
     "text": [
      "Estamos en la página https://skinsort.com/products//page/403\n"
     ]
    },
    {
     "data": {
      "application/vnd.jupyter.widget-view+json": {
       "model_id": "872d4e241f0d45b7a933ce30c3505d11",
       "version_major": 2,
       "version_minor": 0
      },
      "text/plain": [
       "Obteniendo productos:   0%|          | 0/30 [00:00<?, ?it/s]"
      ]
     },
     "metadata": {},
     "output_type": "display_data"
    },
    {
     "name": "stdout",
     "output_type": "stream",
     "text": [
      "Estamos en la página https://skinsort.com/products//page/404\n",
      "Error al obtener los datos.\n"
     ]
    },
    {
     "data": {
      "application/vnd.jupyter.widget-view+json": {
       "model_id": "7b806d99ded64c93a88b38e7811ab044",
       "version_major": 2,
       "version_minor": 0
      },
      "text/plain": [
       "Obteniendo productos:   0%|          | 0/30 [00:00<?, ?it/s]"
      ]
     },
     "metadata": {},
     "output_type": "display_data"
    },
    {
     "name": "stdout",
     "output_type": "stream",
     "text": [
      "Estamos en la página https://skinsort.com/products//page/406\n"
     ]
    },
    {
     "data": {
      "application/vnd.jupyter.widget-view+json": {
       "model_id": "b907ca8ef650422fbbfc4afdee42dbac",
       "version_major": 2,
       "version_minor": 0
      },
      "text/plain": [
       "Obteniendo productos:   0%|          | 0/30 [00:00<?, ?it/s]"
      ]
     },
     "metadata": {},
     "output_type": "display_data"
    },
    {
     "name": "stdout",
     "output_type": "stream",
     "text": [
      "Estamos en la página https://skinsort.com/products//page/407\n"
     ]
    },
    {
     "data": {
      "application/vnd.jupyter.widget-view+json": {
       "model_id": "05afb64ceaf04cccbce1935764692acc",
       "version_major": 2,
       "version_minor": 0
      },
      "text/plain": [
       "Obteniendo productos:   0%|          | 0/30 [00:00<?, ?it/s]"
      ]
     },
     "metadata": {},
     "output_type": "display_data"
    },
    {
     "name": "stdout",
     "output_type": "stream",
     "text": [
      "Estamos en la página https://skinsort.com/products//page/408\n"
     ]
    },
    {
     "data": {
      "application/vnd.jupyter.widget-view+json": {
       "model_id": "e1bb34512694465ba4438003a6881a07",
       "version_major": 2,
       "version_minor": 0
      },
      "text/plain": [
       "Obteniendo productos:   0%|          | 0/30 [00:00<?, ?it/s]"
      ]
     },
     "metadata": {},
     "output_type": "display_data"
    },
    {
     "name": "stdout",
     "output_type": "stream",
     "text": [
      "Estamos en la página https://skinsort.com/products//page/409\n"
     ]
    },
    {
     "data": {
      "application/vnd.jupyter.widget-view+json": {
       "model_id": "ad9bbaba3fe5455e966020e9f965daeb",
       "version_major": 2,
       "version_minor": 0
      },
      "text/plain": [
       "Obteniendo productos:   0%|          | 0/30 [00:00<?, ?it/s]"
      ]
     },
     "metadata": {},
     "output_type": "display_data"
    },
    {
     "name": "stdout",
     "output_type": "stream",
     "text": [
      "Estamos en la página https://skinsort.com/products//page/410\n"
     ]
    },
    {
     "data": {
      "application/vnd.jupyter.widget-view+json": {
       "model_id": "2502537e420348828f59c56752642583",
       "version_major": 2,
       "version_minor": 0
      },
      "text/plain": [
       "Obteniendo productos:   0%|          | 0/30 [00:00<?, ?it/s]"
      ]
     },
     "metadata": {},
     "output_type": "display_data"
    },
    {
     "name": "stdout",
     "output_type": "stream",
     "text": [
      "Estamos en la página https://skinsort.com/products//page/411\n"
     ]
    },
    {
     "data": {
      "application/vnd.jupyter.widget-view+json": {
       "model_id": "b932c1e6345c4a74b33a272285af7582",
       "version_major": 2,
       "version_minor": 0
      },
      "text/plain": [
       "Obteniendo productos:   0%|          | 0/30 [00:00<?, ?it/s]"
      ]
     },
     "metadata": {},
     "output_type": "display_data"
    },
    {
     "name": "stdout",
     "output_type": "stream",
     "text": [
      "Estamos en la página https://skinsort.com/products//page/412\n"
     ]
    },
    {
     "data": {
      "application/vnd.jupyter.widget-view+json": {
       "model_id": "eb24a9af0eaa4ea691784557334dcfa4",
       "version_major": 2,
       "version_minor": 0
      },
      "text/plain": [
       "Obteniendo productos:   0%|          | 0/30 [00:00<?, ?it/s]"
      ]
     },
     "metadata": {},
     "output_type": "display_data"
    },
    {
     "name": "stdout",
     "output_type": "stream",
     "text": [
      "Estamos en la página https://skinsort.com/products//page/413\n"
     ]
    },
    {
     "data": {
      "application/vnd.jupyter.widget-view+json": {
       "model_id": "50db0b15d42447488a7b67234e28ec43",
       "version_major": 2,
       "version_minor": 0
      },
      "text/plain": [
       "Obteniendo productos:   0%|          | 0/30 [00:00<?, ?it/s]"
      ]
     },
     "metadata": {},
     "output_type": "display_data"
    },
    {
     "name": "stdout",
     "output_type": "stream",
     "text": [
      "Estamos en la página https://skinsort.com/products//page/414\n"
     ]
    },
    {
     "data": {
      "application/vnd.jupyter.widget-view+json": {
       "model_id": "4fba3508dce74b119a7a5de0d0830e4b",
       "version_major": 2,
       "version_minor": 0
      },
      "text/plain": [
       "Obteniendo productos:   0%|          | 0/30 [00:00<?, ?it/s]"
      ]
     },
     "metadata": {},
     "output_type": "display_data"
    },
    {
     "name": "stdout",
     "output_type": "stream",
     "text": [
      "Estamos en la página https://skinsort.com/products//page/415\n"
     ]
    },
    {
     "data": {
      "application/vnd.jupyter.widget-view+json": {
       "model_id": "33c0dd8791414e689ba32d659fe895bf",
       "version_major": 2,
       "version_minor": 0
      },
      "text/plain": [
       "Obteniendo productos:   0%|          | 0/30 [00:00<?, ?it/s]"
      ]
     },
     "metadata": {},
     "output_type": "display_data"
    },
    {
     "name": "stdout",
     "output_type": "stream",
     "text": [
      "Estamos en la página https://skinsort.com/products//page/416\n"
     ]
    },
    {
     "data": {
      "application/vnd.jupyter.widget-view+json": {
       "model_id": "dbdfaec11ca84ffdbabe42768ad62ed2",
       "version_major": 2,
       "version_minor": 0
      },
      "text/plain": [
       "Obteniendo productos:   0%|          | 0/30 [00:00<?, ?it/s]"
      ]
     },
     "metadata": {},
     "output_type": "display_data"
    },
    {
     "name": "stdout",
     "output_type": "stream",
     "text": [
      "Estamos en la página https://skinsort.com/products//page/417\n"
     ]
    },
    {
     "data": {
      "application/vnd.jupyter.widget-view+json": {
       "model_id": "9e18386c8898476bbe674a4b7acaee92",
       "version_major": 2,
       "version_minor": 0
      },
      "text/plain": [
       "Obteniendo productos:   0%|          | 0/30 [00:00<?, ?it/s]"
      ]
     },
     "metadata": {},
     "output_type": "display_data"
    },
    {
     "name": "stdout",
     "output_type": "stream",
     "text": [
      "Estamos en la página https://skinsort.com/products//page/418\n"
     ]
    },
    {
     "data": {
      "application/vnd.jupyter.widget-view+json": {
       "model_id": "9706048e60cf4b12964ab6d9d6968569",
       "version_major": 2,
       "version_minor": 0
      },
      "text/plain": [
       "Obteniendo productos:   0%|          | 0/30 [00:00<?, ?it/s]"
      ]
     },
     "metadata": {},
     "output_type": "display_data"
    },
    {
     "name": "stdout",
     "output_type": "stream",
     "text": [
      "Estamos en la página https://skinsort.com/products//page/419\n"
     ]
    },
    {
     "data": {
      "application/vnd.jupyter.widget-view+json": {
       "model_id": "9e6b017ff9d84324b87c3816c60aa99a",
       "version_major": 2,
       "version_minor": 0
      },
      "text/plain": [
       "Obteniendo productos:   0%|          | 0/30 [00:00<?, ?it/s]"
      ]
     },
     "metadata": {},
     "output_type": "display_data"
    },
    {
     "name": "stdout",
     "output_type": "stream",
     "text": [
      "Estamos en la página https://skinsort.com/products//page/420\n"
     ]
    },
    {
     "data": {
      "application/vnd.jupyter.widget-view+json": {
       "model_id": "9200f843180a4f82a0c468efd85ed116",
       "version_major": 2,
       "version_minor": 0
      },
      "text/plain": [
       "Obteniendo productos:   0%|          | 0/30 [00:00<?, ?it/s]"
      ]
     },
     "metadata": {},
     "output_type": "display_data"
    },
    {
     "name": "stdout",
     "output_type": "stream",
     "text": [
      "Estamos en la página https://skinsort.com/products//page/421\n"
     ]
    },
    {
     "data": {
      "application/vnd.jupyter.widget-view+json": {
       "model_id": "55c7fee0f6574e1e871cd1011baae399",
       "version_major": 2,
       "version_minor": 0
      },
      "text/plain": [
       "Obteniendo productos:   0%|          | 0/30 [00:00<?, ?it/s]"
      ]
     },
     "metadata": {},
     "output_type": "display_data"
    },
    {
     "name": "stdout",
     "output_type": "stream",
     "text": [
      "Estamos en la página https://skinsort.com/products//page/422\n"
     ]
    },
    {
     "data": {
      "application/vnd.jupyter.widget-view+json": {
       "model_id": "6fdf6738ae0742e787afccb47069f8e1",
       "version_major": 2,
       "version_minor": 0
      },
      "text/plain": [
       "Obteniendo productos:   0%|          | 0/30 [00:00<?, ?it/s]"
      ]
     },
     "metadata": {},
     "output_type": "display_data"
    },
    {
     "name": "stdout",
     "output_type": "stream",
     "text": [
      "Estamos en la página https://skinsort.com/products//page/423\n"
     ]
    },
    {
     "data": {
      "application/vnd.jupyter.widget-view+json": {
       "model_id": "370f5151992948f6b1afab24bfab0598",
       "version_major": 2,
       "version_minor": 0
      },
      "text/plain": [
       "Obteniendo productos:   0%|          | 0/30 [00:00<?, ?it/s]"
      ]
     },
     "metadata": {},
     "output_type": "display_data"
    },
    {
     "name": "stdout",
     "output_type": "stream",
     "text": [
      "Estamos en la página https://skinsort.com/products//page/424\n"
     ]
    },
    {
     "data": {
      "application/vnd.jupyter.widget-view+json": {
       "model_id": "64642c960752423c94cec5a22ab2cb87",
       "version_major": 2,
       "version_minor": 0
      },
      "text/plain": [
       "Obteniendo productos:   0%|          | 0/30 [00:00<?, ?it/s]"
      ]
     },
     "metadata": {},
     "output_type": "display_data"
    },
    {
     "name": "stdout",
     "output_type": "stream",
     "text": [
      "Estamos en la página https://skinsort.com/products//page/425\n"
     ]
    },
    {
     "data": {
      "application/vnd.jupyter.widget-view+json": {
       "model_id": "5dac217a2a4642d6871a99aaaebb6581",
       "version_major": 2,
       "version_minor": 0
      },
      "text/plain": [
       "Obteniendo productos:   0%|          | 0/30 [00:00<?, ?it/s]"
      ]
     },
     "metadata": {},
     "output_type": "display_data"
    },
    {
     "name": "stdout",
     "output_type": "stream",
     "text": [
      "Estamos en la página https://skinsort.com/products//page/426\n"
     ]
    },
    {
     "data": {
      "application/vnd.jupyter.widget-view+json": {
       "model_id": "bdf9ffaf099341378605a73da31fad88",
       "version_major": 2,
       "version_minor": 0
      },
      "text/plain": [
       "Obteniendo productos:   0%|          | 0/30 [00:00<?, ?it/s]"
      ]
     },
     "metadata": {},
     "output_type": "display_data"
    },
    {
     "name": "stdout",
     "output_type": "stream",
     "text": [
      "Estamos en la página https://skinsort.com/products//page/427\n"
     ]
    },
    {
     "data": {
      "application/vnd.jupyter.widget-view+json": {
       "model_id": "2b44397ece3244f0a03efd75fdf43fff",
       "version_major": 2,
       "version_minor": 0
      },
      "text/plain": [
       "Obteniendo productos:   0%|          | 0/30 [00:00<?, ?it/s]"
      ]
     },
     "metadata": {},
     "output_type": "display_data"
    },
    {
     "name": "stdout",
     "output_type": "stream",
     "text": [
      "Estamos en la página https://skinsort.com/products//page/428\n"
     ]
    },
    {
     "data": {
      "application/vnd.jupyter.widget-view+json": {
       "model_id": "d23f478ab7d94b4b9fdb74b8131456b6",
       "version_major": 2,
       "version_minor": 0
      },
      "text/plain": [
       "Obteniendo productos:   0%|          | 0/30 [00:00<?, ?it/s]"
      ]
     },
     "metadata": {},
     "output_type": "display_data"
    },
    {
     "name": "stdout",
     "output_type": "stream",
     "text": [
      "Estamos en la página https://skinsort.com/products//page/429\n"
     ]
    },
    {
     "data": {
      "application/vnd.jupyter.widget-view+json": {
       "model_id": "b6dea16473e64518b1124d5504cf365e",
       "version_major": 2,
       "version_minor": 0
      },
      "text/plain": [
       "Obteniendo productos:   0%|          | 0/30 [00:00<?, ?it/s]"
      ]
     },
     "metadata": {},
     "output_type": "display_data"
    },
    {
     "name": "stdout",
     "output_type": "stream",
     "text": [
      "Estamos en la página https://skinsort.com/products//page/430\n"
     ]
    },
    {
     "data": {
      "application/vnd.jupyter.widget-view+json": {
       "model_id": "b0e333377c3e4a94a6791c56f294eef1",
       "version_major": 2,
       "version_minor": 0
      },
      "text/plain": [
       "Obteniendo productos:   0%|          | 0/30 [00:00<?, ?it/s]"
      ]
     },
     "metadata": {},
     "output_type": "display_data"
    },
    {
     "name": "stdout",
     "output_type": "stream",
     "text": [
      "Estamos en la página https://skinsort.com/products//page/431\n"
     ]
    },
    {
     "data": {
      "application/vnd.jupyter.widget-view+json": {
       "model_id": "a175b71535544bc0bfa0afbc0c9fad83",
       "version_major": 2,
       "version_minor": 0
      },
      "text/plain": [
       "Obteniendo productos:   0%|          | 0/30 [00:00<?, ?it/s]"
      ]
     },
     "metadata": {},
     "output_type": "display_data"
    },
    {
     "name": "stdout",
     "output_type": "stream",
     "text": [
      "Estamos en la página https://skinsort.com/products//page/432\n"
     ]
    },
    {
     "data": {
      "application/vnd.jupyter.widget-view+json": {
       "model_id": "fc1937d8f541474f9d9a706d249e24ff",
       "version_major": 2,
       "version_minor": 0
      },
      "text/plain": [
       "Obteniendo productos:   0%|          | 0/30 [00:00<?, ?it/s]"
      ]
     },
     "metadata": {},
     "output_type": "display_data"
    },
    {
     "name": "stdout",
     "output_type": "stream",
     "text": [
      "Estamos en la página https://skinsort.com/products//page/433\n"
     ]
    },
    {
     "data": {
      "application/vnd.jupyter.widget-view+json": {
       "model_id": "510959170e53478fa9f996bd9e73d63b",
       "version_major": 2,
       "version_minor": 0
      },
      "text/plain": [
       "Obteniendo productos:   0%|          | 0/30 [00:00<?, ?it/s]"
      ]
     },
     "metadata": {},
     "output_type": "display_data"
    },
    {
     "name": "stdout",
     "output_type": "stream",
     "text": [
      "Estamos en la página https://skinsort.com/products//page/434\n"
     ]
    },
    {
     "data": {
      "application/vnd.jupyter.widget-view+json": {
       "model_id": "09b5e6c3bbcd411088684a016be0432d",
       "version_major": 2,
       "version_minor": 0
      },
      "text/plain": [
       "Obteniendo productos:   0%|          | 0/30 [00:00<?, ?it/s]"
      ]
     },
     "metadata": {},
     "output_type": "display_data"
    },
    {
     "name": "stdout",
     "output_type": "stream",
     "text": [
      "Estamos en la página https://skinsort.com/products//page/435\n"
     ]
    },
    {
     "data": {
      "application/vnd.jupyter.widget-view+json": {
       "model_id": "80bedaa54f5f4e30ab7ad6864c8f8b19",
       "version_major": 2,
       "version_minor": 0
      },
      "text/plain": [
       "Obteniendo productos:   0%|          | 0/30 [00:00<?, ?it/s]"
      ]
     },
     "metadata": {},
     "output_type": "display_data"
    },
    {
     "name": "stdout",
     "output_type": "stream",
     "text": [
      "Estamos en la página https://skinsort.com/products//page/436\n"
     ]
    },
    {
     "data": {
      "application/vnd.jupyter.widget-view+json": {
       "model_id": "e19f8e5143fe471a8ffad2c9c6efcb99",
       "version_major": 2,
       "version_minor": 0
      },
      "text/plain": [
       "Obteniendo productos:   0%|          | 0/30 [00:00<?, ?it/s]"
      ]
     },
     "metadata": {},
     "output_type": "display_data"
    },
    {
     "name": "stdout",
     "output_type": "stream",
     "text": [
      "Estamos en la página https://skinsort.com/products//page/437\n"
     ]
    },
    {
     "data": {
      "application/vnd.jupyter.widget-view+json": {
       "model_id": "fcbe80a9016749468749e5cc49f8ecde",
       "version_major": 2,
       "version_minor": 0
      },
      "text/plain": [
       "Obteniendo productos:   0%|          | 0/30 [00:00<?, ?it/s]"
      ]
     },
     "metadata": {},
     "output_type": "display_data"
    },
    {
     "name": "stdout",
     "output_type": "stream",
     "text": [
      "Estamos en la página https://skinsort.com/products//page/438\n"
     ]
    },
    {
     "data": {
      "application/vnd.jupyter.widget-view+json": {
       "model_id": "c1ff0d48941f4a6e8c24cab2d9599f49",
       "version_major": 2,
       "version_minor": 0
      },
      "text/plain": [
       "Obteniendo productos:   0%|          | 0/30 [00:00<?, ?it/s]"
      ]
     },
     "metadata": {},
     "output_type": "display_data"
    },
    {
     "name": "stdout",
     "output_type": "stream",
     "text": [
      "Estamos en la página https://skinsort.com/products//page/439\n"
     ]
    },
    {
     "data": {
      "application/vnd.jupyter.widget-view+json": {
       "model_id": "5594fc112d054c2aad57278f132ceba5",
       "version_major": 2,
       "version_minor": 0
      },
      "text/plain": [
       "Obteniendo productos:   0%|          | 0/30 [00:00<?, ?it/s]"
      ]
     },
     "metadata": {},
     "output_type": "display_data"
    },
    {
     "name": "stdout",
     "output_type": "stream",
     "text": [
      "Estamos en la página https://skinsort.com/products//page/440\n"
     ]
    },
    {
     "data": {
      "application/vnd.jupyter.widget-view+json": {
       "model_id": "6a79959a64fd4aafa089139958975bef",
       "version_major": 2,
       "version_minor": 0
      },
      "text/plain": [
       "Obteniendo productos:   0%|          | 0/30 [00:00<?, ?it/s]"
      ]
     },
     "metadata": {},
     "output_type": "display_data"
    },
    {
     "name": "stdout",
     "output_type": "stream",
     "text": [
      "Estamos en la página https://skinsort.com/products//page/441\n"
     ]
    },
    {
     "data": {
      "application/vnd.jupyter.widget-view+json": {
       "model_id": "b2e69e1ea4104c5cac5bb5792dc3f11a",
       "version_major": 2,
       "version_minor": 0
      },
      "text/plain": [
       "Obteniendo productos:   0%|          | 0/30 [00:00<?, ?it/s]"
      ]
     },
     "metadata": {},
     "output_type": "display_data"
    },
    {
     "name": "stdout",
     "output_type": "stream",
     "text": [
      "Estamos en la página https://skinsort.com/products//page/442\n"
     ]
    },
    {
     "data": {
      "application/vnd.jupyter.widget-view+json": {
       "model_id": "fac7126273cf402cbf036e1334019e0f",
       "version_major": 2,
       "version_minor": 0
      },
      "text/plain": [
       "Obteniendo productos:   0%|          | 0/30 [00:00<?, ?it/s]"
      ]
     },
     "metadata": {},
     "output_type": "display_data"
    },
    {
     "name": "stdout",
     "output_type": "stream",
     "text": [
      "Estamos en la página https://skinsort.com/products//page/443\n"
     ]
    },
    {
     "data": {
      "application/vnd.jupyter.widget-view+json": {
       "model_id": "d956d3be374e48af8a606b6e96b37729",
       "version_major": 2,
       "version_minor": 0
      },
      "text/plain": [
       "Obteniendo productos:   0%|          | 0/30 [00:00<?, ?it/s]"
      ]
     },
     "metadata": {},
     "output_type": "display_data"
    },
    {
     "name": "stdout",
     "output_type": "stream",
     "text": [
      "Estamos en la página https://skinsort.com/products//page/444\n"
     ]
    },
    {
     "data": {
      "application/vnd.jupyter.widget-view+json": {
       "model_id": "b687e9f2693640f1a98a911c52f959b2",
       "version_major": 2,
       "version_minor": 0
      },
      "text/plain": [
       "Obteniendo productos:   0%|          | 0/30 [00:00<?, ?it/s]"
      ]
     },
     "metadata": {},
     "output_type": "display_data"
    },
    {
     "name": "stdout",
     "output_type": "stream",
     "text": [
      "Estamos en la página https://skinsort.com/products//page/445\n"
     ]
    },
    {
     "data": {
      "application/vnd.jupyter.widget-view+json": {
       "model_id": "4e94e86d0b82469b828c58fb6c98a734",
       "version_major": 2,
       "version_minor": 0
      },
      "text/plain": [
       "Obteniendo productos:   0%|          | 0/30 [00:00<?, ?it/s]"
      ]
     },
     "metadata": {},
     "output_type": "display_data"
    },
    {
     "name": "stdout",
     "output_type": "stream",
     "text": [
      "Estamos en la página https://skinsort.com/products//page/446\n"
     ]
    },
    {
     "data": {
      "application/vnd.jupyter.widget-view+json": {
       "model_id": "07f610c74d8649c5bb0fe05fa7771520",
       "version_major": 2,
       "version_minor": 0
      },
      "text/plain": [
       "Obteniendo productos:   0%|          | 0/30 [00:00<?, ?it/s]"
      ]
     },
     "metadata": {},
     "output_type": "display_data"
    },
    {
     "name": "stdout",
     "output_type": "stream",
     "text": [
      "Estamos en la página https://skinsort.com/products//page/447\n"
     ]
    },
    {
     "data": {
      "application/vnd.jupyter.widget-view+json": {
       "model_id": "a99d4dff33aa480eb2b74cbeee69cffc",
       "version_major": 2,
       "version_minor": 0
      },
      "text/plain": [
       "Obteniendo productos:   0%|          | 0/30 [00:00<?, ?it/s]"
      ]
     },
     "metadata": {},
     "output_type": "display_data"
    },
    {
     "name": "stdout",
     "output_type": "stream",
     "text": [
      "Estamos en la página https://skinsort.com/products//page/448\n"
     ]
    },
    {
     "data": {
      "application/vnd.jupyter.widget-view+json": {
       "model_id": "e6d2452537224723984aa911d9b16173",
       "version_major": 2,
       "version_minor": 0
      },
      "text/plain": [
       "Obteniendo productos:   0%|          | 0/30 [00:00<?, ?it/s]"
      ]
     },
     "metadata": {},
     "output_type": "display_data"
    },
    {
     "name": "stdout",
     "output_type": "stream",
     "text": [
      "Estamos en la página https://skinsort.com/products//page/449\n"
     ]
    },
    {
     "data": {
      "application/vnd.jupyter.widget-view+json": {
       "model_id": "72335e025de04bb8a16b5f50b461658a",
       "version_major": 2,
       "version_minor": 0
      },
      "text/plain": [
       "Obteniendo productos:   0%|          | 0/30 [00:00<?, ?it/s]"
      ]
     },
     "metadata": {},
     "output_type": "display_data"
    },
    {
     "name": "stdout",
     "output_type": "stream",
     "text": [
      "Estamos en la página https://skinsort.com/products//page/450\n"
     ]
    },
    {
     "data": {
      "application/vnd.jupyter.widget-view+json": {
       "model_id": "6581444020ba48638ba8b20c8388f8e3",
       "version_major": 2,
       "version_minor": 0
      },
      "text/plain": [
       "Obteniendo productos:   0%|          | 0/30 [00:00<?, ?it/s]"
      ]
     },
     "metadata": {},
     "output_type": "display_data"
    },
    {
     "name": "stdout",
     "output_type": "stream",
     "text": [
      "Estamos en la página https://skinsort.com/products//page/451\n"
     ]
    },
    {
     "data": {
      "application/vnd.jupyter.widget-view+json": {
       "model_id": "d8bdbc19fe8e4722be5da97727eabf83",
       "version_major": 2,
       "version_minor": 0
      },
      "text/plain": [
       "Obteniendo productos:   0%|          | 0/30 [00:00<?, ?it/s]"
      ]
     },
     "metadata": {},
     "output_type": "display_data"
    },
    {
     "name": "stdout",
     "output_type": "stream",
     "text": [
      "Estamos en la página https://skinsort.com/products//page/452\n"
     ]
    },
    {
     "data": {
      "application/vnd.jupyter.widget-view+json": {
       "model_id": "664f8b718d35415a89c174e26b682b9a",
       "version_major": 2,
       "version_minor": 0
      },
      "text/plain": [
       "Obteniendo productos:   0%|          | 0/30 [00:00<?, ?it/s]"
      ]
     },
     "metadata": {},
     "output_type": "display_data"
    },
    {
     "name": "stdout",
     "output_type": "stream",
     "text": [
      "Estamos en la página https://skinsort.com/products//page/453\n"
     ]
    },
    {
     "data": {
      "application/vnd.jupyter.widget-view+json": {
       "model_id": "8c0c3e3508e24cf48dc37da6985f4393",
       "version_major": 2,
       "version_minor": 0
      },
      "text/plain": [
       "Obteniendo productos:   0%|          | 0/30 [00:00<?, ?it/s]"
      ]
     },
     "metadata": {},
     "output_type": "display_data"
    },
    {
     "name": "stdout",
     "output_type": "stream",
     "text": [
      "Estamos en la página https://skinsort.com/products//page/454\n"
     ]
    },
    {
     "data": {
      "application/vnd.jupyter.widget-view+json": {
       "model_id": "0f1e479ca9de41e080772a7142bb98cd",
       "version_major": 2,
       "version_minor": 0
      },
      "text/plain": [
       "Obteniendo productos:   0%|          | 0/30 [00:00<?, ?it/s]"
      ]
     },
     "metadata": {},
     "output_type": "display_data"
    },
    {
     "name": "stdout",
     "output_type": "stream",
     "text": [
      "Estamos en la página https://skinsort.com/products//page/455\n"
     ]
    },
    {
     "data": {
      "application/vnd.jupyter.widget-view+json": {
       "model_id": "5f17875013da4cdaab4a198f0d3a436f",
       "version_major": 2,
       "version_minor": 0
      },
      "text/plain": [
       "Obteniendo productos:   0%|          | 0/30 [00:00<?, ?it/s]"
      ]
     },
     "metadata": {},
     "output_type": "display_data"
    },
    {
     "name": "stdout",
     "output_type": "stream",
     "text": [
      "Estamos en la página https://skinsort.com/products//page/456\n"
     ]
    },
    {
     "data": {
      "application/vnd.jupyter.widget-view+json": {
       "model_id": "695730d9d4c24661a3b8bffa5a9f59ef",
       "version_major": 2,
       "version_minor": 0
      },
      "text/plain": [
       "Obteniendo productos:   0%|          | 0/30 [00:00<?, ?it/s]"
      ]
     },
     "metadata": {},
     "output_type": "display_data"
    },
    {
     "name": "stdout",
     "output_type": "stream",
     "text": [
      "Estamos en la página https://skinsort.com/products//page/457\n"
     ]
    },
    {
     "data": {
      "application/vnd.jupyter.widget-view+json": {
       "model_id": "0559c6c521cf4fca8b4ccef1cb4ba4ec",
       "version_major": 2,
       "version_minor": 0
      },
      "text/plain": [
       "Obteniendo productos:   0%|          | 0/30 [00:00<?, ?it/s]"
      ]
     },
     "metadata": {},
     "output_type": "display_data"
    },
    {
     "name": "stdout",
     "output_type": "stream",
     "text": [
      "Estamos en la página https://skinsort.com/products//page/458\n"
     ]
    },
    {
     "data": {
      "application/vnd.jupyter.widget-view+json": {
       "model_id": "43c1226dd9cd4638b76ab1fe7b030711",
       "version_major": 2,
       "version_minor": 0
      },
      "text/plain": [
       "Obteniendo productos:   0%|          | 0/30 [00:00<?, ?it/s]"
      ]
     },
     "metadata": {},
     "output_type": "display_data"
    },
    {
     "name": "stdout",
     "output_type": "stream",
     "text": [
      "Estamos en la página https://skinsort.com/products//page/459\n"
     ]
    },
    {
     "data": {
      "application/vnd.jupyter.widget-view+json": {
       "model_id": "dc32453e0d16426a8f64b22369993170",
       "version_major": 2,
       "version_minor": 0
      },
      "text/plain": [
       "Obteniendo productos:   0%|          | 0/30 [00:00<?, ?it/s]"
      ]
     },
     "metadata": {},
     "output_type": "display_data"
    },
    {
     "name": "stdout",
     "output_type": "stream",
     "text": [
      "Estamos en la página https://skinsort.com/products//page/460\n"
     ]
    },
    {
     "data": {
      "application/vnd.jupyter.widget-view+json": {
       "model_id": "cd682eaa2b2e433a8f206fbe64f3739e",
       "version_major": 2,
       "version_minor": 0
      },
      "text/plain": [
       "Obteniendo productos:   0%|          | 0/30 [00:00<?, ?it/s]"
      ]
     },
     "metadata": {},
     "output_type": "display_data"
    },
    {
     "name": "stdout",
     "output_type": "stream",
     "text": [
      "Estamos en la página https://skinsort.com/products//page/461\n",
      "Error al obtener los datos.\n"
     ]
    },
    {
     "data": {
      "application/vnd.jupyter.widget-view+json": {
       "model_id": "eefe189e93f14ba5b2b50d54bd0c932c",
       "version_major": 2,
       "version_minor": 0
      },
      "text/plain": [
       "Obteniendo productos:   0%|          | 0/30 [00:00<?, ?it/s]"
      ]
     },
     "metadata": {},
     "output_type": "display_data"
    },
    {
     "name": "stdout",
     "output_type": "stream",
     "text": [
      "Estamos en la página https://skinsort.com/products//page/463\n"
     ]
    },
    {
     "data": {
      "application/vnd.jupyter.widget-view+json": {
       "model_id": "a820658258b64aa1b46adf98af687a00",
       "version_major": 2,
       "version_minor": 0
      },
      "text/plain": [
       "Obteniendo productos:   0%|          | 0/30 [00:00<?, ?it/s]"
      ]
     },
     "metadata": {},
     "output_type": "display_data"
    },
    {
     "name": "stdout",
     "output_type": "stream",
     "text": [
      "Estamos en la página https://skinsort.com/products//page/464\n"
     ]
    },
    {
     "data": {
      "application/vnd.jupyter.widget-view+json": {
       "model_id": "10f220a9c8e041bc9466aa160019d85d",
       "version_major": 2,
       "version_minor": 0
      },
      "text/plain": [
       "Obteniendo productos:   0%|          | 0/30 [00:00<?, ?it/s]"
      ]
     },
     "metadata": {},
     "output_type": "display_data"
    },
    {
     "name": "stdout",
     "output_type": "stream",
     "text": [
      "Estamos en la página https://skinsort.com/products//page/465\n"
     ]
    },
    {
     "data": {
      "application/vnd.jupyter.widget-view+json": {
       "model_id": "5a01250cd87a43b896b8c6f32658659d",
       "version_major": 2,
       "version_minor": 0
      },
      "text/plain": [
       "Obteniendo productos:   0%|          | 0/30 [00:00<?, ?it/s]"
      ]
     },
     "metadata": {},
     "output_type": "display_data"
    },
    {
     "name": "stdout",
     "output_type": "stream",
     "text": [
      "Estamos en la página https://skinsort.com/products//page/466\n"
     ]
    },
    {
     "data": {
      "application/vnd.jupyter.widget-view+json": {
       "model_id": "8aa5c36ad502495e8a3aa1c25137a649",
       "version_major": 2,
       "version_minor": 0
      },
      "text/plain": [
       "Obteniendo productos:   0%|          | 0/30 [00:00<?, ?it/s]"
      ]
     },
     "metadata": {},
     "output_type": "display_data"
    },
    {
     "name": "stdout",
     "output_type": "stream",
     "text": [
      "Estamos en la página https://skinsort.com/products//page/467\n"
     ]
    },
    {
     "data": {
      "application/vnd.jupyter.widget-view+json": {
       "model_id": "bc60e2ce89a94f91b1e3759c27978445",
       "version_major": 2,
       "version_minor": 0
      },
      "text/plain": [
       "Obteniendo productos:   0%|          | 0/30 [00:00<?, ?it/s]"
      ]
     },
     "metadata": {},
     "output_type": "display_data"
    },
    {
     "name": "stdout",
     "output_type": "stream",
     "text": [
      "Estamos en la página https://skinsort.com/products//page/468\n"
     ]
    },
    {
     "data": {
      "application/vnd.jupyter.widget-view+json": {
       "model_id": "b5351de4d1e147bd99c2000a6d2aa667",
       "version_major": 2,
       "version_minor": 0
      },
      "text/plain": [
       "Obteniendo productos:   0%|          | 0/30 [00:00<?, ?it/s]"
      ]
     },
     "metadata": {},
     "output_type": "display_data"
    },
    {
     "name": "stdout",
     "output_type": "stream",
     "text": [
      "Estamos en la página https://skinsort.com/products//page/469\n"
     ]
    },
    {
     "data": {
      "application/vnd.jupyter.widget-view+json": {
       "model_id": "a0eff06206324f97b4581c3d67e91d3d",
       "version_major": 2,
       "version_minor": 0
      },
      "text/plain": [
       "Obteniendo productos:   0%|          | 0/30 [00:00<?, ?it/s]"
      ]
     },
     "metadata": {},
     "output_type": "display_data"
    },
    {
     "name": "stdout",
     "output_type": "stream",
     "text": [
      "Estamos en la página https://skinsort.com/products//page/470\n"
     ]
    },
    {
     "data": {
      "application/vnd.jupyter.widget-view+json": {
       "model_id": "bd216cfb1e894ea4a79da16841a4a6a1",
       "version_major": 2,
       "version_minor": 0
      },
      "text/plain": [
       "Obteniendo productos:   0%|          | 0/30 [00:00<?, ?it/s]"
      ]
     },
     "metadata": {},
     "output_type": "display_data"
    },
    {
     "name": "stdout",
     "output_type": "stream",
     "text": [
      "Estamos en la página https://skinsort.com/products//page/471\n"
     ]
    },
    {
     "data": {
      "application/vnd.jupyter.widget-view+json": {
       "model_id": "16c7175f008749b39aa11fd61e75ab5c",
       "version_major": 2,
       "version_minor": 0
      },
      "text/plain": [
       "Obteniendo productos:   0%|          | 0/30 [00:00<?, ?it/s]"
      ]
     },
     "metadata": {},
     "output_type": "display_data"
    },
    {
     "name": "stdout",
     "output_type": "stream",
     "text": [
      "Estamos en la página https://skinsort.com/products//page/472\n"
     ]
    },
    {
     "data": {
      "application/vnd.jupyter.widget-view+json": {
       "model_id": "b5750629d76e46759b0e8ed04baebaec",
       "version_major": 2,
       "version_minor": 0
      },
      "text/plain": [
       "Obteniendo productos:   0%|          | 0/9 [00:00<?, ?it/s]"
      ]
     },
     "metadata": {},
     "output_type": "display_data"
    },
    {
     "name": "stdout",
     "output_type": "stream",
     "text": [
      "Estamos en la página https://skinsort.com/products//page/473\n"
     ]
    }
   ],
   "source": [
    "dict5={}\n",
    "for i in range(400, 474):\n",
    "    dict5[i] = scrap(f'https://skinsort.com/products//page/{i}')"
   ]
  },
  {
   "cell_type": "code",
   "execution_count": 69,
   "id": "9061a52a",
   "metadata": {},
   "outputs": [
    {
     "name": "stderr",
     "output_type": "stream",
     "text": [
      "2023-03-09 14:52:20,645 [88601] WARNING  py.warnings:109: [JupyterRequire] /tmp/ipykernel_88601/4040571658.py:3: DeprecationWarning: executable_path has been deprecated, please pass in a Service object\n",
      "  driver = webdriver.Chrome(PATH)\n",
      "\n"
     ]
    },
    {
     "data": {
      "application/vnd.jupyter.widget-view+json": {
       "model_id": "f782ca13e8724dc599b5d3fb68e2b6ee",
       "version_major": 2,
       "version_minor": 0
      },
      "text/plain": [
       "Obteniendo productos:   0%|          | 0/30 [00:00<?, ?it/s]"
      ]
     },
     "metadata": {},
     "output_type": "display_data"
    },
    {
     "name": "stdout",
     "output_type": "stream",
     "text": [
      "Estamos en la página https://skinsort.com/products//page/405\n"
     ]
    },
    {
     "data": {
      "application/vnd.jupyter.widget-view+json": {
       "model_id": "04b97818d975475394dc573428831e26",
       "version_major": 2,
       "version_minor": 0
      },
      "text/plain": [
       "Obteniendo productos:   0%|          | 0/30 [00:00<?, ?it/s]"
      ]
     },
     "metadata": {},
     "output_type": "display_data"
    },
    {
     "name": "stdout",
     "output_type": "stream",
     "text": [
      "Estamos en la página https://skinsort.com/products//page/462\n"
     ]
    }
   ],
   "source": [
    "dict5[405] = scrap('https://skinsort.com/products//page/405')\n",
    "dict5[462] = scrap('https://skinsort.com/products//page/462')"
   ]
  },
  {
   "cell_type": "code",
   "execution_count": 70,
   "id": "7461aa08",
   "metadata": {},
   "outputs": [],
   "source": [
    "with open('datos_scrapeados5.json', 'w') as file:\n",
    "    json.dump(dict5, file)"
   ]
  },
  {
   "cell_type": "code",
   "execution_count": null,
   "id": "94557db6",
   "metadata": {},
   "outputs": [],
   "source": [
    "'''\n",
    "def procesar_producto(producto):\n",
    "    columnas = ['Nombre', 'Marca', 'Ingredientes', 'Cantidad', 'Descripción', 'Precio']\n",
    "    valores = dict(zip(columnas, producto))\n",
    "    return valores\n",
    "\n",
    "# Ejemplo de lista con productos\n",
    "lista_productos = [['Facial Treatment', 'The Ordinary', 'Niacinamide 10% + Zinc 1%', '(20)', 'vegan and cruelty-free facial treatment that contains niacinamide.', '$6.00 at Ulta'],\n",
    "                   ['Hyaluronic Acid 2% + B5', 'The Ordinary', 'Hyaluronic Acid, Vitamin B5', '(30)', 'An ultra-lightweight serum that hydrates and plumps skin, leaving it looking healthier and more radiant. Suitable for all skin types. Free of alcohol, oil, and silicone.', '$6.80 at Ulta'],\n",
    "                   ['Daily Facial Moisturizer SPF 30', 'CeraVe', 'Niacinamide, Ceramides', '(2.5 fl oz)', 'A lightweight, oil-free moisturizer with SPF 30 that hydrates and protects the skin barrier. Ideal for normal to oily skin types. Free of fragrance and oil.', '$15.99 at Ulta']]\n",
    "\n",
    "# Aplicar la función a cada producto en la lista\n",
    "productos_procesados = list(map(procesar_producto, lista_productos))\n",
    "\n",
    "# Crear un dataframe a partir de la lista de productos procesados\n",
    "df = pd.DataFrame(productos_procesados)\n",
    "\n",
    "print(df)\n",
    "\n",
    "'''"
   ]
  },
  {
   "cell_type": "code",
   "execution_count": null,
   "id": "59cdae18",
   "metadata": {},
   "outputs": [],
   "source": []
  }
 ],
 "metadata": {
  "kernelspec": {
   "display_name": "Python 3 (ipykernel)",
   "language": "python",
   "name": "python3"
  },
  "language_info": {
   "codemirror_mode": {
    "name": "ipython",
    "version": 3
   },
   "file_extension": ".py",
   "mimetype": "text/x-python",
   "name": "python",
   "nbconvert_exporter": "python",
   "pygments_lexer": "ipython3",
   "version": "3.9.13"
  }
 },
 "nbformat": 4,
 "nbformat_minor": 5
}
