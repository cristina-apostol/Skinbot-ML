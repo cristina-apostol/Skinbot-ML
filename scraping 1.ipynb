{
 "cells": [
  {
   "cell_type": "code",
   "execution_count": 3,
   "id": "83cefdcf",
   "metadata": {},
   "outputs": [],
   "source": [
    "import pandas as pd\n",
    "import numpy as np"
   ]
  },
  {
   "cell_type": "code",
   "execution_count": 4,
   "id": "3dbe4be2",
   "metadata": {},
   "outputs": [],
   "source": [
    "from selenium import webdriver"
   ]
  },
  {
   "cell_type": "code",
   "execution_count": 5,
   "id": "12fe185a",
   "metadata": {},
   "outputs": [
    {
     "name": "stdout",
     "output_type": "stream",
     "text": [
      "Requirement already satisfied: webdriver-manager in /home/usuario/anaconda3/lib/python3.9/site-packages (3.8.5)\n",
      "Requirement already satisfied: python-dotenv in /home/usuario/anaconda3/lib/python3.9/site-packages (from webdriver-manager) (0.21.1)\n",
      "Requirement already satisfied: requests in /home/usuario/anaconda3/lib/python3.9/site-packages (from webdriver-manager) (2.28.1)\n",
      "Requirement already satisfied: packaging in /home/usuario/anaconda3/lib/python3.9/site-packages (from webdriver-manager) (21.3)\n",
      "Requirement already satisfied: tqdm in /home/usuario/anaconda3/lib/python3.9/site-packages (from webdriver-manager) (4.64.1)\n",
      "Requirement already satisfied: pyparsing!=3.0.5,>=2.0.2 in /home/usuario/anaconda3/lib/python3.9/site-packages (from packaging->webdriver-manager) (3.0.9)\n",
      "Requirement already satisfied: idna<4,>=2.5 in /home/usuario/anaconda3/lib/python3.9/site-packages (from requests->webdriver-manager) (3.3)\n",
      "Requirement already satisfied: certifi>=2017.4.17 in /home/usuario/anaconda3/lib/python3.9/site-packages (from requests->webdriver-manager) (2022.9.14)\n",
      "Requirement already satisfied: charset-normalizer<3,>=2 in /home/usuario/anaconda3/lib/python3.9/site-packages (from requests->webdriver-manager) (2.0.4)\n",
      "Requirement already satisfied: urllib3<1.27,>=1.21.1 in /home/usuario/anaconda3/lib/python3.9/site-packages (from requests->webdriver-manager) (1.26.11)\n",
      "Note: you may need to restart the kernel to use updated packages.\n"
     ]
    }
   ],
   "source": [
    "%pip install webdriver-manager"
   ]
  },
  {
   "cell_type": "code",
   "execution_count": 6,
   "id": "49aac5f2",
   "metadata": {},
   "outputs": [],
   "source": [
    "from webdriver_manager.chrome import ChromeDriverManager\n",
    "from selenium.webdriver.common.by import By\n",
    "import time\n"
   ]
  },
  {
   "cell_type": "code",
   "execution_count": 11,
   "id": "d0c23402",
   "metadata": {},
   "outputs": [],
   "source": [
    "def obtener_productos_skinsort(url):\n",
    "    PATH = ChromeDriverManager().install()     # instala el driver de chrome   \n",
    "    driver = webdriver.Chrome(PATH)\n",
    "    driver.get(url)\n",
    "\n",
    "    # Aceptamos las cookies\n",
    "    try:\n",
    "        cookies = driver.find_element(By.XPATH, '//*[@id=\"site-body\"]/div[2]/div/div[2]/div[3]/div/div[2]')\n",
    "        cookies.click()\n",
    "    except:\n",
    "        pass\n",
    "\n",
    "    # Obtenemos todos los productos\n",
    "    lst = []\n",
    "    while True:\n",
    "        productos = driver.find_elements(By.CSS_SELECTOR, '.lg\\\\:h-full.w-full.flex.flex-col')\n",
    "        for producto in tqdm(productos, desc='Obteniendo productos'):\n",
    "            lst.append(producto.text.split('\\n'))\n",
    "            \n",
    "        print(f'Estamos en la página {driver.current_url}') \n",
    "\n",
    "        try:\n",
    "          \n",
    "            siguiente = driver.find_element(By.XPATH, '//a[@rel=\"next\"]')\n",
    "            \n",
    "            driver.execute_script(\"arguments[0].scrollIntoView();\", siguiente)\n",
    "            time.sleep(2)\n",
    "            # Hacer clic en el botón de la siguiente página\n",
    "            siguiente.click()\n",
    "            time.sleep(3.5)\n",
    "            \n",
    "         \n",
    "        except:\n",
    "            print('No se pudo hacer clic en el botón de la siguiente página.')\n",
    "            lst.append([])\n",
    "            break\n",
    "\n",
    "    driver.quit()\n",
    "\n",
    "    return lst"
   ]
  },
  {
   "cell_type": "code",
   "execution_count": 12,
   "id": "8e5186e9",
   "metadata": {},
   "outputs": [],
   "source": [
    "from tqdm.notebook import tqdm"
   ]
  },
  {
   "cell_type": "code",
   "execution_count": 13,
   "id": "908719ac",
   "metadata": {},
   "outputs": [
    {
     "name": "stderr",
     "output_type": "stream",
     "text": [
      "/tmp/ipykernel_81803/2526009205.py:3: DeprecationWarning: executable_path has been deprecated, please pass in a Service object\n",
      "  driver = webdriver.Chrome(PATH)\n"
     ]
    },
    {
     "data": {
      "application/vnd.jupyter.widget-view+json": {
       "model_id": "fd136feac5b64975b0786d493eef703a",
       "version_major": 2,
       "version_minor": 0
      },
      "text/plain": [
       "Obteniendo productos:   0%|          | 0/30 [00:00<?, ?it/s]"
      ]
     },
     "metadata": {},
     "output_type": "display_data"
    },
    {
     "name": "stdout",
     "output_type": "stream",
     "text": [
      "Estamos en la página https://skinsort.com/products/\n"
     ]
    },
    {
     "data": {
      "application/vnd.jupyter.widget-view+json": {
       "model_id": "90b934e159ab488b82c22d2383532b62",
       "version_major": 2,
       "version_minor": 0
      },
      "text/plain": [
       "Obteniendo productos:   0%|          | 0/30 [00:00<?, ?it/s]"
      ]
     },
     "metadata": {},
     "output_type": "display_data"
    },
    {
     "name": "stdout",
     "output_type": "stream",
     "text": [
      "Estamos en la página https://skinsort.com/products//page/2\n"
     ]
    },
    {
     "data": {
      "application/vnd.jupyter.widget-view+json": {
       "model_id": "043346c1b05c4dd8adebafd5545dc213",
       "version_major": 2,
       "version_minor": 0
      },
      "text/plain": [
       "Obteniendo productos:   0%|          | 0/30 [00:00<?, ?it/s]"
      ]
     },
     "metadata": {},
     "output_type": "display_data"
    },
    {
     "name": "stdout",
     "output_type": "stream",
     "text": [
      "Estamos en la página https://skinsort.com/products//page/3\n"
     ]
    },
    {
     "data": {
      "application/vnd.jupyter.widget-view+json": {
       "model_id": "62f541752a5c4de1ad1a4c8d25576c98",
       "version_major": 2,
       "version_minor": 0
      },
      "text/plain": [
       "Obteniendo productos:   0%|          | 0/30 [00:00<?, ?it/s]"
      ]
     },
     "metadata": {},
     "output_type": "display_data"
    },
    {
     "name": "stdout",
     "output_type": "stream",
     "text": [
      "Estamos en la página https://skinsort.com/products//page/4\n"
     ]
    },
    {
     "data": {
      "application/vnd.jupyter.widget-view+json": {
       "model_id": "83b2ad581c114217a8169e4102cb054a",
       "version_major": 2,
       "version_minor": 0
      },
      "text/plain": [
       "Obteniendo productos:   0%|          | 0/30 [00:00<?, ?it/s]"
      ]
     },
     "metadata": {},
     "output_type": "display_data"
    },
    {
     "name": "stdout",
     "output_type": "stream",
     "text": [
      "Estamos en la página https://skinsort.com/products//page/5\n"
     ]
    },
    {
     "data": {
      "application/vnd.jupyter.widget-view+json": {
       "model_id": "494a9b1c56b74b6696927a0bfa72421e",
       "version_major": 2,
       "version_minor": 0
      },
      "text/plain": [
       "Obteniendo productos:   0%|          | 0/30 [00:00<?, ?it/s]"
      ]
     },
     "metadata": {},
     "output_type": "display_data"
    },
    {
     "name": "stdout",
     "output_type": "stream",
     "text": [
      "Estamos en la página https://skinsort.com/products//page/6\n"
     ]
    },
    {
     "data": {
      "application/vnd.jupyter.widget-view+json": {
       "model_id": "1347d49a549f4c56b206556653deb7eb",
       "version_major": 2,
       "version_minor": 0
      },
      "text/plain": [
       "Obteniendo productos:   0%|          | 0/30 [00:00<?, ?it/s]"
      ]
     },
     "metadata": {},
     "output_type": "display_data"
    },
    {
     "name": "stdout",
     "output_type": "stream",
     "text": [
      "Estamos en la página https://skinsort.com/products//page/7\n"
     ]
    },
    {
     "data": {
      "application/vnd.jupyter.widget-view+json": {
       "model_id": "666afabbe9bb48cfba789db49e0ab309",
       "version_major": 2,
       "version_minor": 0
      },
      "text/plain": [
       "Obteniendo productos:   0%|          | 0/30 [00:00<?, ?it/s]"
      ]
     },
     "metadata": {},
     "output_type": "display_data"
    },
    {
     "name": "stdout",
     "output_type": "stream",
     "text": [
      "Estamos en la página https://skinsort.com/products//page/8\n"
     ]
    },
    {
     "data": {
      "application/vnd.jupyter.widget-view+json": {
       "model_id": "af38e45359584c35b297788520e15c19",
       "version_major": 2,
       "version_minor": 0
      },
      "text/plain": [
       "Obteniendo productos:   0%|          | 0/30 [00:00<?, ?it/s]"
      ]
     },
     "metadata": {},
     "output_type": "display_data"
    },
    {
     "name": "stdout",
     "output_type": "stream",
     "text": [
      "Estamos en la página https://skinsort.com/products//page/9\n"
     ]
    },
    {
     "data": {
      "application/vnd.jupyter.widget-view+json": {
       "model_id": "b592604e3d5c498490495df4e7374f7f",
       "version_major": 2,
       "version_minor": 0
      },
      "text/plain": [
       "Obteniendo productos:   0%|          | 0/30 [00:00<?, ?it/s]"
      ]
     },
     "metadata": {},
     "output_type": "display_data"
    },
    {
     "name": "stdout",
     "output_type": "stream",
     "text": [
      "Estamos en la página https://skinsort.com/products//page/10\n"
     ]
    },
    {
     "data": {
      "application/vnd.jupyter.widget-view+json": {
       "model_id": "6a3fd41b2d7e4543b487eb1867b668e3",
       "version_major": 2,
       "version_minor": 0
      },
      "text/plain": [
       "Obteniendo productos:   0%|          | 0/30 [00:00<?, ?it/s]"
      ]
     },
     "metadata": {},
     "output_type": "display_data"
    },
    {
     "name": "stdout",
     "output_type": "stream",
     "text": [
      "Estamos en la página https://skinsort.com/products//page/11\n"
     ]
    },
    {
     "data": {
      "application/vnd.jupyter.widget-view+json": {
       "model_id": "23b7c3a7832d4b4f87afd6723b248aa6",
       "version_major": 2,
       "version_minor": 0
      },
      "text/plain": [
       "Obteniendo productos:   0%|          | 0/30 [00:00<?, ?it/s]"
      ]
     },
     "metadata": {},
     "output_type": "display_data"
    },
    {
     "name": "stdout",
     "output_type": "stream",
     "text": [
      "Estamos en la página https://skinsort.com/products//page/12\n"
     ]
    },
    {
     "data": {
      "application/vnd.jupyter.widget-view+json": {
       "model_id": "38bc0e16dee84e1191dd5379cbc3bf7c",
       "version_major": 2,
       "version_minor": 0
      },
      "text/plain": [
       "Obteniendo productos:   0%|          | 0/30 [00:00<?, ?it/s]"
      ]
     },
     "metadata": {},
     "output_type": "display_data"
    },
    {
     "name": "stdout",
     "output_type": "stream",
     "text": [
      "Estamos en la página https://skinsort.com/products//page/13\n"
     ]
    },
    {
     "data": {
      "application/vnd.jupyter.widget-view+json": {
       "model_id": "fa73d8a89cc54b29931650a3f140701a",
       "version_major": 2,
       "version_minor": 0
      },
      "text/plain": [
       "Obteniendo productos:   0%|          | 0/30 [00:00<?, ?it/s]"
      ]
     },
     "metadata": {},
     "output_type": "display_data"
    },
    {
     "name": "stdout",
     "output_type": "stream",
     "text": [
      "Estamos en la página https://skinsort.com/products//page/14\n"
     ]
    },
    {
     "data": {
      "application/vnd.jupyter.widget-view+json": {
       "model_id": "2ed7ab5745d64d4590ef2e5ffb807e7f",
       "version_major": 2,
       "version_minor": 0
      },
      "text/plain": [
       "Obteniendo productos:   0%|          | 0/30 [00:00<?, ?it/s]"
      ]
     },
     "metadata": {},
     "output_type": "display_data"
    },
    {
     "name": "stdout",
     "output_type": "stream",
     "text": [
      "Estamos en la página https://skinsort.com/products//page/15\n"
     ]
    },
    {
     "data": {
      "application/vnd.jupyter.widget-view+json": {
       "model_id": "635ba96943ca423fa3c91d60add82f36",
       "version_major": 2,
       "version_minor": 0
      },
      "text/plain": [
       "Obteniendo productos:   0%|          | 0/30 [00:00<?, ?it/s]"
      ]
     },
     "metadata": {},
     "output_type": "display_data"
    },
    {
     "name": "stdout",
     "output_type": "stream",
     "text": [
      "Estamos en la página https://skinsort.com/products//page/16\n"
     ]
    },
    {
     "data": {
      "application/vnd.jupyter.widget-view+json": {
       "model_id": "235a11e34f4c4b259037ad2be39f7037",
       "version_major": 2,
       "version_minor": 0
      },
      "text/plain": [
       "Obteniendo productos:   0%|          | 0/30 [00:00<?, ?it/s]"
      ]
     },
     "metadata": {},
     "output_type": "display_data"
    },
    {
     "name": "stdout",
     "output_type": "stream",
     "text": [
      "Estamos en la página https://skinsort.com/products//page/17\n"
     ]
    },
    {
     "data": {
      "application/vnd.jupyter.widget-view+json": {
       "model_id": "57060c69d3064f82bddd728c07a83b66",
       "version_major": 2,
       "version_minor": 0
      },
      "text/plain": [
       "Obteniendo productos:   0%|          | 0/30 [00:00<?, ?it/s]"
      ]
     },
     "metadata": {},
     "output_type": "display_data"
    },
    {
     "name": "stdout",
     "output_type": "stream",
     "text": [
      "Estamos en la página https://skinsort.com/products//page/18\n"
     ]
    },
    {
     "data": {
      "application/vnd.jupyter.widget-view+json": {
       "model_id": "c94a6590451c40058e09f6e72c689879",
       "version_major": 2,
       "version_minor": 0
      },
      "text/plain": [
       "Obteniendo productos:   0%|          | 0/30 [00:00<?, ?it/s]"
      ]
     },
     "metadata": {},
     "output_type": "display_data"
    },
    {
     "name": "stdout",
     "output_type": "stream",
     "text": [
      "Estamos en la página https://skinsort.com/products//page/19\n"
     ]
    },
    {
     "data": {
      "application/vnd.jupyter.widget-view+json": {
       "model_id": "35dfb4ad789342ab8491eb77b65de8fa",
       "version_major": 2,
       "version_minor": 0
      },
      "text/plain": [
       "Obteniendo productos:   0%|          | 0/30 [00:00<?, ?it/s]"
      ]
     },
     "metadata": {},
     "output_type": "display_data"
    },
    {
     "name": "stdout",
     "output_type": "stream",
     "text": [
      "Estamos en la página https://skinsort.com/products//page/20\n"
     ]
    },
    {
     "data": {
      "application/vnd.jupyter.widget-view+json": {
       "model_id": "179aa14fa3b24886909e9138285ee5c5",
       "version_major": 2,
       "version_minor": 0
      },
      "text/plain": [
       "Obteniendo productos:   0%|          | 0/30 [00:00<?, ?it/s]"
      ]
     },
     "metadata": {},
     "output_type": "display_data"
    },
    {
     "name": "stdout",
     "output_type": "stream",
     "text": [
      "Estamos en la página https://skinsort.com/products//page/21\n"
     ]
    },
    {
     "data": {
      "application/vnd.jupyter.widget-view+json": {
       "model_id": "186c201cd47d4682b23395e876b978b7",
       "version_major": 2,
       "version_minor": 0
      },
      "text/plain": [
       "Obteniendo productos:   0%|          | 0/30 [00:00<?, ?it/s]"
      ]
     },
     "metadata": {},
     "output_type": "display_data"
    },
    {
     "name": "stdout",
     "output_type": "stream",
     "text": [
      "Estamos en la página https://skinsort.com/products//page/22\n"
     ]
    },
    {
     "data": {
      "application/vnd.jupyter.widget-view+json": {
       "model_id": "1c9263f1720d42338bfb70920170ec02",
       "version_major": 2,
       "version_minor": 0
      },
      "text/plain": [
       "Obteniendo productos:   0%|          | 0/30 [00:00<?, ?it/s]"
      ]
     },
     "metadata": {},
     "output_type": "display_data"
    },
    {
     "name": "stdout",
     "output_type": "stream",
     "text": [
      "Estamos en la página https://skinsort.com/products//page/23\n"
     ]
    },
    {
     "data": {
      "application/vnd.jupyter.widget-view+json": {
       "model_id": "c4f3ac819cfc4051a1f0e55a2fd32dce",
       "version_major": 2,
       "version_minor": 0
      },
      "text/plain": [
       "Obteniendo productos:   0%|          | 0/30 [00:00<?, ?it/s]"
      ]
     },
     "metadata": {},
     "output_type": "display_data"
    },
    {
     "name": "stdout",
     "output_type": "stream",
     "text": [
      "Estamos en la página https://skinsort.com/products//page/24\n"
     ]
    },
    {
     "data": {
      "application/vnd.jupyter.widget-view+json": {
       "model_id": "98e6c63e9cff4281ae52cde447eef91e",
       "version_major": 2,
       "version_minor": 0
      },
      "text/plain": [
       "Obteniendo productos:   0%|          | 0/30 [00:00<?, ?it/s]"
      ]
     },
     "metadata": {},
     "output_type": "display_data"
    },
    {
     "name": "stdout",
     "output_type": "stream",
     "text": [
      "Estamos en la página https://skinsort.com/products//page/25\n"
     ]
    },
    {
     "data": {
      "application/vnd.jupyter.widget-view+json": {
       "model_id": "3df04dc74d064659a1696141a3aef229",
       "version_major": 2,
       "version_minor": 0
      },
      "text/plain": [
       "Obteniendo productos:   0%|          | 0/30 [00:00<?, ?it/s]"
      ]
     },
     "metadata": {},
     "output_type": "display_data"
    },
    {
     "name": "stdout",
     "output_type": "stream",
     "text": [
      "Estamos en la página https://skinsort.com/products//page/26\n"
     ]
    },
    {
     "data": {
      "application/vnd.jupyter.widget-view+json": {
       "model_id": "c9ccecdcfba44a0e9ea966f58160b0b0",
       "version_major": 2,
       "version_minor": 0
      },
      "text/plain": [
       "Obteniendo productos:   0%|          | 0/30 [00:00<?, ?it/s]"
      ]
     },
     "metadata": {},
     "output_type": "display_data"
    },
    {
     "name": "stdout",
     "output_type": "stream",
     "text": [
      "Estamos en la página https://skinsort.com/products//page/27\n"
     ]
    },
    {
     "data": {
      "application/vnd.jupyter.widget-view+json": {
       "model_id": "b393f1432bb44600bc63eaac80edaff6",
       "version_major": 2,
       "version_minor": 0
      },
      "text/plain": [
       "Obteniendo productos:   0%|          | 0/30 [00:00<?, ?it/s]"
      ]
     },
     "metadata": {},
     "output_type": "display_data"
    },
    {
     "name": "stdout",
     "output_type": "stream",
     "text": [
      "Estamos en la página https://skinsort.com/products//page/28\n"
     ]
    },
    {
     "data": {
      "application/vnd.jupyter.widget-view+json": {
       "model_id": "d7ae0ffc836f4a5f952a1d0b12bba920",
       "version_major": 2,
       "version_minor": 0
      },
      "text/plain": [
       "Obteniendo productos:   0%|          | 0/30 [00:00<?, ?it/s]"
      ]
     },
     "metadata": {},
     "output_type": "display_data"
    },
    {
     "name": "stdout",
     "output_type": "stream",
     "text": [
      "Estamos en la página https://skinsort.com/products//page/29\n"
     ]
    },
    {
     "data": {
      "application/vnd.jupyter.widget-view+json": {
       "model_id": "d66d55643fb940f995457f893b1813cc",
       "version_major": 2,
       "version_minor": 0
      },
      "text/plain": [
       "Obteniendo productos:   0%|          | 0/30 [00:00<?, ?it/s]"
      ]
     },
     "metadata": {},
     "output_type": "display_data"
    },
    {
     "name": "stdout",
     "output_type": "stream",
     "text": [
      "Estamos en la página https://skinsort.com/products//page/30\n"
     ]
    },
    {
     "data": {
      "application/vnd.jupyter.widget-view+json": {
       "model_id": "4059659f17364d62890d0979694d7cc2",
       "version_major": 2,
       "version_minor": 0
      },
      "text/plain": [
       "Obteniendo productos:   0%|          | 0/30 [00:00<?, ?it/s]"
      ]
     },
     "metadata": {},
     "output_type": "display_data"
    },
    {
     "name": "stdout",
     "output_type": "stream",
     "text": [
      "Estamos en la página https://skinsort.com/products//page/31\n"
     ]
    },
    {
     "data": {
      "application/vnd.jupyter.widget-view+json": {
       "model_id": "3cf8b8164add40e89e85350f2568a164",
       "version_major": 2,
       "version_minor": 0
      },
      "text/plain": [
       "Obteniendo productos:   0%|          | 0/30 [00:00<?, ?it/s]"
      ]
     },
     "metadata": {},
     "output_type": "display_data"
    },
    {
     "name": "stdout",
     "output_type": "stream",
     "text": [
      "Estamos en la página https://skinsort.com/products//page/32\n"
     ]
    },
    {
     "data": {
      "application/vnd.jupyter.widget-view+json": {
       "model_id": "a6692e82de424816a08cbdd102a78952",
       "version_major": 2,
       "version_minor": 0
      },
      "text/plain": [
       "Obteniendo productos:   0%|          | 0/30 [00:00<?, ?it/s]"
      ]
     },
     "metadata": {},
     "output_type": "display_data"
    },
    {
     "name": "stdout",
     "output_type": "stream",
     "text": [
      "Estamos en la página https://skinsort.com/products//page/33\n"
     ]
    },
    {
     "data": {
      "application/vnd.jupyter.widget-view+json": {
       "model_id": "7a75f4d0c97a4e8fb37333f0fb60d1b7",
       "version_major": 2,
       "version_minor": 0
      },
      "text/plain": [
       "Obteniendo productos:   0%|          | 0/30 [00:00<?, ?it/s]"
      ]
     },
     "metadata": {},
     "output_type": "display_data"
    },
    {
     "name": "stdout",
     "output_type": "stream",
     "text": [
      "Estamos en la página https://skinsort.com/products//page/34\n"
     ]
    },
    {
     "data": {
      "application/vnd.jupyter.widget-view+json": {
       "model_id": "204773dbc2944cefacbaa1d2f91fd55c",
       "version_major": 2,
       "version_minor": 0
      },
      "text/plain": [
       "Obteniendo productos:   0%|          | 0/30 [00:00<?, ?it/s]"
      ]
     },
     "metadata": {},
     "output_type": "display_data"
    },
    {
     "name": "stdout",
     "output_type": "stream",
     "text": [
      "Estamos en la página https://skinsort.com/products//page/35\n"
     ]
    },
    {
     "data": {
      "application/vnd.jupyter.widget-view+json": {
       "model_id": "0437dc7d8f734357a22d4cbaf22083b3",
       "version_major": 2,
       "version_minor": 0
      },
      "text/plain": [
       "Obteniendo productos:   0%|          | 0/30 [00:00<?, ?it/s]"
      ]
     },
     "metadata": {},
     "output_type": "display_data"
    },
    {
     "name": "stdout",
     "output_type": "stream",
     "text": [
      "Estamos en la página https://skinsort.com/products//page/36\n"
     ]
    },
    {
     "data": {
      "application/vnd.jupyter.widget-view+json": {
       "model_id": "71128de2213f48279f26f46c17b51d59",
       "version_major": 2,
       "version_minor": 0
      },
      "text/plain": [
       "Obteniendo productos:   0%|          | 0/30 [00:00<?, ?it/s]"
      ]
     },
     "metadata": {},
     "output_type": "display_data"
    },
    {
     "name": "stdout",
     "output_type": "stream",
     "text": [
      "Estamos en la página https://skinsort.com/products//page/37\n"
     ]
    },
    {
     "data": {
      "application/vnd.jupyter.widget-view+json": {
       "model_id": "61e7c0ff15f74a9fa373144ed5fc249f",
       "version_major": 2,
       "version_minor": 0
      },
      "text/plain": [
       "Obteniendo productos:   0%|          | 0/30 [00:00<?, ?it/s]"
      ]
     },
     "metadata": {},
     "output_type": "display_data"
    },
    {
     "name": "stdout",
     "output_type": "stream",
     "text": [
      "Estamos en la página https://skinsort.com/products//page/38\n"
     ]
    },
    {
     "data": {
      "application/vnd.jupyter.widget-view+json": {
       "model_id": "81cdc69e88f74f0c8f8f18ccb90c6f43",
       "version_major": 2,
       "version_minor": 0
      },
      "text/plain": [
       "Obteniendo productos:   0%|          | 0/30 [00:00<?, ?it/s]"
      ]
     },
     "metadata": {},
     "output_type": "display_data"
    },
    {
     "name": "stdout",
     "output_type": "stream",
     "text": [
      "Estamos en la página https://skinsort.com/products//page/39\n"
     ]
    },
    {
     "data": {
      "application/vnd.jupyter.widget-view+json": {
       "model_id": "591d2b49c2d2479aa100230b18dfd957",
       "version_major": 2,
       "version_minor": 0
      },
      "text/plain": [
       "Obteniendo productos:   0%|          | 0/30 [00:00<?, ?it/s]"
      ]
     },
     "metadata": {},
     "output_type": "display_data"
    },
    {
     "name": "stdout",
     "output_type": "stream",
     "text": [
      "Estamos en la página https://skinsort.com/products//page/40\n"
     ]
    },
    {
     "data": {
      "application/vnd.jupyter.widget-view+json": {
       "model_id": "8cf4962170c84f209076e7ef7c5a721a",
       "version_major": 2,
       "version_minor": 0
      },
      "text/plain": [
       "Obteniendo productos:   0%|          | 0/30 [00:00<?, ?it/s]"
      ]
     },
     "metadata": {},
     "output_type": "display_data"
    },
    {
     "name": "stdout",
     "output_type": "stream",
     "text": [
      "Estamos en la página https://skinsort.com/products//page/41\n"
     ]
    },
    {
     "data": {
      "application/vnd.jupyter.widget-view+json": {
       "model_id": "e134da3a38b2419f8780db04338e06fb",
       "version_major": 2,
       "version_minor": 0
      },
      "text/plain": [
       "Obteniendo productos:   0%|          | 0/30 [00:00<?, ?it/s]"
      ]
     },
     "metadata": {},
     "output_type": "display_data"
    },
    {
     "name": "stdout",
     "output_type": "stream",
     "text": [
      "Estamos en la página https://skinsort.com/products//page/42\n"
     ]
    },
    {
     "data": {
      "application/vnd.jupyter.widget-view+json": {
       "model_id": "ae521c2d4e88464c9177643c85d5c0ba",
       "version_major": 2,
       "version_minor": 0
      },
      "text/plain": [
       "Obteniendo productos:   0%|          | 0/30 [00:00<?, ?it/s]"
      ]
     },
     "metadata": {},
     "output_type": "display_data"
    },
    {
     "name": "stdout",
     "output_type": "stream",
     "text": [
      "Estamos en la página https://skinsort.com/products//page/43\n"
     ]
    },
    {
     "data": {
      "application/vnd.jupyter.widget-view+json": {
       "model_id": "18a65a9288384230ae10cd5365cd8a14",
       "version_major": 2,
       "version_minor": 0
      },
      "text/plain": [
       "Obteniendo productos:   0%|          | 0/30 [00:00<?, ?it/s]"
      ]
     },
     "metadata": {},
     "output_type": "display_data"
    },
    {
     "name": "stdout",
     "output_type": "stream",
     "text": [
      "Estamos en la página https://skinsort.com/products//page/44\n"
     ]
    },
    {
     "data": {
      "application/vnd.jupyter.widget-view+json": {
       "model_id": "a98ec2a7248e48bfa8a54a410215ae63",
       "version_major": 2,
       "version_minor": 0
      },
      "text/plain": [
       "Obteniendo productos:   0%|          | 0/30 [00:00<?, ?it/s]"
      ]
     },
     "metadata": {},
     "output_type": "display_data"
    },
    {
     "name": "stdout",
     "output_type": "stream",
     "text": [
      "Estamos en la página https://skinsort.com/products//page/45\n"
     ]
    },
    {
     "data": {
      "application/vnd.jupyter.widget-view+json": {
       "model_id": "85fbffcf4e6c4d18a8fdbf6b37efe67b",
       "version_major": 2,
       "version_minor": 0
      },
      "text/plain": [
       "Obteniendo productos:   0%|          | 0/30 [00:00<?, ?it/s]"
      ]
     },
     "metadata": {},
     "output_type": "display_data"
    },
    {
     "name": "stdout",
     "output_type": "stream",
     "text": [
      "Estamos en la página https://skinsort.com/products//page/46\n"
     ]
    },
    {
     "data": {
      "application/vnd.jupyter.widget-view+json": {
       "model_id": "3ffe1a428ff54649ab1c7b819142f5d9",
       "version_major": 2,
       "version_minor": 0
      },
      "text/plain": [
       "Obteniendo productos:   0%|          | 0/30 [00:00<?, ?it/s]"
      ]
     },
     "metadata": {},
     "output_type": "display_data"
    },
    {
     "name": "stdout",
     "output_type": "stream",
     "text": [
      "Estamos en la página https://skinsort.com/products//page/47\n"
     ]
    },
    {
     "data": {
      "application/vnd.jupyter.widget-view+json": {
       "model_id": "23782a659e554b5aa94b35034624e361",
       "version_major": 2,
       "version_minor": 0
      },
      "text/plain": [
       "Obteniendo productos:   0%|          | 0/30 [00:00<?, ?it/s]"
      ]
     },
     "metadata": {},
     "output_type": "display_data"
    },
    {
     "name": "stdout",
     "output_type": "stream",
     "text": [
      "Estamos en la página https://skinsort.com/products//page/48\n"
     ]
    },
    {
     "data": {
      "application/vnd.jupyter.widget-view+json": {
       "model_id": "cac17f52d20b48d4b96fb538627a90aa",
       "version_major": 2,
       "version_minor": 0
      },
      "text/plain": [
       "Obteniendo productos:   0%|          | 0/30 [00:00<?, ?it/s]"
      ]
     },
     "metadata": {},
     "output_type": "display_data"
    },
    {
     "name": "stdout",
     "output_type": "stream",
     "text": [
      "Estamos en la página https://skinsort.com/products//page/49\n"
     ]
    },
    {
     "data": {
      "application/vnd.jupyter.widget-view+json": {
       "model_id": "0efd06cc4d014c3ba7551a174fa6a622",
       "version_major": 2,
       "version_minor": 0
      },
      "text/plain": [
       "Obteniendo productos:   0%|          | 0/30 [00:00<?, ?it/s]"
      ]
     },
     "metadata": {},
     "output_type": "display_data"
    },
    {
     "name": "stdout",
     "output_type": "stream",
     "text": [
      "Estamos en la página https://skinsort.com/products//page/50\n"
     ]
    },
    {
     "data": {
      "application/vnd.jupyter.widget-view+json": {
       "model_id": "87141f773efb472b872c53675137bddf",
       "version_major": 2,
       "version_minor": 0
      },
      "text/plain": [
       "Obteniendo productos:   0%|          | 0/30 [00:00<?, ?it/s]"
      ]
     },
     "metadata": {},
     "output_type": "display_data"
    },
    {
     "name": "stdout",
     "output_type": "stream",
     "text": [
      "Estamos en la página https://skinsort.com/products//page/51\n"
     ]
    },
    {
     "data": {
      "application/vnd.jupyter.widget-view+json": {
       "model_id": "06c76738dc9943bb9a194264aaad47d8",
       "version_major": 2,
       "version_minor": 0
      },
      "text/plain": [
       "Obteniendo productos:   0%|          | 0/30 [00:00<?, ?it/s]"
      ]
     },
     "metadata": {},
     "output_type": "display_data"
    },
    {
     "name": "stdout",
     "output_type": "stream",
     "text": [
      "Estamos en la página https://skinsort.com/products//page/52\n"
     ]
    },
    {
     "data": {
      "application/vnd.jupyter.widget-view+json": {
       "model_id": "3bfceaa5b74342038f4d93669a0951e9",
       "version_major": 2,
       "version_minor": 0
      },
      "text/plain": [
       "Obteniendo productos:   0%|          | 0/30 [00:00<?, ?it/s]"
      ]
     },
     "metadata": {},
     "output_type": "display_data"
    },
    {
     "name": "stdout",
     "output_type": "stream",
     "text": [
      "Estamos en la página https://skinsort.com/products//page/53\n"
     ]
    },
    {
     "data": {
      "application/vnd.jupyter.widget-view+json": {
       "model_id": "a9f9dc7e6b0042978732ffa4b5e15b1c",
       "version_major": 2,
       "version_minor": 0
      },
      "text/plain": [
       "Obteniendo productos:   0%|          | 0/30 [00:00<?, ?it/s]"
      ]
     },
     "metadata": {},
     "output_type": "display_data"
    },
    {
     "name": "stdout",
     "output_type": "stream",
     "text": [
      "Estamos en la página https://skinsort.com/products//page/54\n"
     ]
    },
    {
     "data": {
      "application/vnd.jupyter.widget-view+json": {
       "model_id": "2ffbc5145a55404886648ad81094d95e",
       "version_major": 2,
       "version_minor": 0
      },
      "text/plain": [
       "Obteniendo productos:   0%|          | 0/30 [00:00<?, ?it/s]"
      ]
     },
     "metadata": {},
     "output_type": "display_data"
    },
    {
     "name": "stdout",
     "output_type": "stream",
     "text": [
      "Estamos en la página https://skinsort.com/products//page/55\n"
     ]
    },
    {
     "data": {
      "application/vnd.jupyter.widget-view+json": {
       "model_id": "9493516d24c54426bab6497a775b4087",
       "version_major": 2,
       "version_minor": 0
      },
      "text/plain": [
       "Obteniendo productos:   0%|          | 0/30 [00:00<?, ?it/s]"
      ]
     },
     "metadata": {},
     "output_type": "display_data"
    },
    {
     "name": "stdout",
     "output_type": "stream",
     "text": [
      "Estamos en la página https://skinsort.com/products//page/56\n"
     ]
    },
    {
     "data": {
      "application/vnd.jupyter.widget-view+json": {
       "model_id": "8088c59aac0a4c158ba60b777ff96fb2",
       "version_major": 2,
       "version_minor": 0
      },
      "text/plain": [
       "Obteniendo productos:   0%|          | 0/30 [00:00<?, ?it/s]"
      ]
     },
     "metadata": {},
     "output_type": "display_data"
    },
    {
     "name": "stdout",
     "output_type": "stream",
     "text": [
      "Estamos en la página https://skinsort.com/products//page/57\n"
     ]
    },
    {
     "data": {
      "application/vnd.jupyter.widget-view+json": {
       "model_id": "ee890b50d01b4d8a96ad8df6e990e6e4",
       "version_major": 2,
       "version_minor": 0
      },
      "text/plain": [
       "Obteniendo productos:   0%|          | 0/30 [00:00<?, ?it/s]"
      ]
     },
     "metadata": {},
     "output_type": "display_data"
    },
    {
     "name": "stdout",
     "output_type": "stream",
     "text": [
      "Estamos en la página https://skinsort.com/products//page/58\n"
     ]
    },
    {
     "data": {
      "application/vnd.jupyter.widget-view+json": {
       "model_id": "f8cf7184198546ee983747f6dea20422",
       "version_major": 2,
       "version_minor": 0
      },
      "text/plain": [
       "Obteniendo productos:   0%|          | 0/30 [00:00<?, ?it/s]"
      ]
     },
     "metadata": {},
     "output_type": "display_data"
    },
    {
     "name": "stdout",
     "output_type": "stream",
     "text": [
      "Estamos en la página https://skinsort.com/products//page/59\n"
     ]
    },
    {
     "data": {
      "application/vnd.jupyter.widget-view+json": {
       "model_id": "af47b413d199444db073d93c31de5dae",
       "version_major": 2,
       "version_minor": 0
      },
      "text/plain": [
       "Obteniendo productos:   0%|          | 0/30 [00:00<?, ?it/s]"
      ]
     },
     "metadata": {},
     "output_type": "display_data"
    },
    {
     "name": "stdout",
     "output_type": "stream",
     "text": [
      "Estamos en la página https://skinsort.com/products//page/60\n"
     ]
    },
    {
     "data": {
      "application/vnd.jupyter.widget-view+json": {
       "model_id": "29cbe3c637ab425fb5264b246135c095",
       "version_major": 2,
       "version_minor": 0
      },
      "text/plain": [
       "Obteniendo productos:   0%|          | 0/30 [00:00<?, ?it/s]"
      ]
     },
     "metadata": {},
     "output_type": "display_data"
    },
    {
     "name": "stdout",
     "output_type": "stream",
     "text": [
      "Estamos en la página https://skinsort.com/products//page/61\n"
     ]
    },
    {
     "data": {
      "application/vnd.jupyter.widget-view+json": {
       "model_id": "167f6b819179402b830f118a01ee1f5e",
       "version_major": 2,
       "version_minor": 0
      },
      "text/plain": [
       "Obteniendo productos:   0%|          | 0/30 [00:00<?, ?it/s]"
      ]
     },
     "metadata": {},
     "output_type": "display_data"
    },
    {
     "name": "stdout",
     "output_type": "stream",
     "text": [
      "Estamos en la página https://skinsort.com/products//page/62\n"
     ]
    },
    {
     "data": {
      "application/vnd.jupyter.widget-view+json": {
       "model_id": "ed58e1f5731d4df28502a21a7a6938fd",
       "version_major": 2,
       "version_minor": 0
      },
      "text/plain": [
       "Obteniendo productos:   0%|          | 0/30 [00:00<?, ?it/s]"
      ]
     },
     "metadata": {},
     "output_type": "display_data"
    },
    {
     "name": "stdout",
     "output_type": "stream",
     "text": [
      "Estamos en la página https://skinsort.com/products//page/63\n"
     ]
    },
    {
     "data": {
      "application/vnd.jupyter.widget-view+json": {
       "model_id": "2d7f5a310f754825aa336b7fda41d467",
       "version_major": 2,
       "version_minor": 0
      },
      "text/plain": [
       "Obteniendo productos:   0%|          | 0/30 [00:00<?, ?it/s]"
      ]
     },
     "metadata": {},
     "output_type": "display_data"
    },
    {
     "name": "stdout",
     "output_type": "stream",
     "text": [
      "Estamos en la página https://skinsort.com/products//page/64\n"
     ]
    },
    {
     "data": {
      "application/vnd.jupyter.widget-view+json": {
       "model_id": "7c489df4b0df4967ba0448603663c3bc",
       "version_major": 2,
       "version_minor": 0
      },
      "text/plain": [
       "Obteniendo productos:   0%|          | 0/30 [00:00<?, ?it/s]"
      ]
     },
     "metadata": {},
     "output_type": "display_data"
    },
    {
     "name": "stdout",
     "output_type": "stream",
     "text": [
      "Estamos en la página https://skinsort.com/products//page/65\n"
     ]
    },
    {
     "data": {
      "application/vnd.jupyter.widget-view+json": {
       "model_id": "42a78028d5ba4c0697324ee73321885f",
       "version_major": 2,
       "version_minor": 0
      },
      "text/plain": [
       "Obteniendo productos:   0%|          | 0/30 [00:00<?, ?it/s]"
      ]
     },
     "metadata": {},
     "output_type": "display_data"
    },
    {
     "name": "stdout",
     "output_type": "stream",
     "text": [
      "Estamos en la página https://skinsort.com/products//page/66\n"
     ]
    },
    {
     "data": {
      "application/vnd.jupyter.widget-view+json": {
       "model_id": "0ba91be7c1b64469b6cf3457405e0e49",
       "version_major": 2,
       "version_minor": 0
      },
      "text/plain": [
       "Obteniendo productos:   0%|          | 0/30 [00:00<?, ?it/s]"
      ]
     },
     "metadata": {},
     "output_type": "display_data"
    },
    {
     "name": "stdout",
     "output_type": "stream",
     "text": [
      "Estamos en la página https://skinsort.com/products//page/67\n"
     ]
    },
    {
     "data": {
      "application/vnd.jupyter.widget-view+json": {
       "model_id": "95e3d8f1c28245c6aa025f9c92c4f9a9",
       "version_major": 2,
       "version_minor": 0
      },
      "text/plain": [
       "Obteniendo productos:   0%|          | 0/30 [00:00<?, ?it/s]"
      ]
     },
     "metadata": {},
     "output_type": "display_data"
    },
    {
     "name": "stdout",
     "output_type": "stream",
     "text": [
      "Estamos en la página https://skinsort.com/products//page/68\n"
     ]
    },
    {
     "data": {
      "application/vnd.jupyter.widget-view+json": {
       "model_id": "eaf9e6e120f7437589ad1121e12b5005",
       "version_major": 2,
       "version_minor": 0
      },
      "text/plain": [
       "Obteniendo productos:   0%|          | 0/30 [00:00<?, ?it/s]"
      ]
     },
     "metadata": {},
     "output_type": "display_data"
    },
    {
     "name": "stdout",
     "output_type": "stream",
     "text": [
      "Estamos en la página https://skinsort.com/products//page/69\n"
     ]
    },
    {
     "data": {
      "application/vnd.jupyter.widget-view+json": {
       "model_id": "6ce2243b2376467e91235a35411d0bd6",
       "version_major": 2,
       "version_minor": 0
      },
      "text/plain": [
       "Obteniendo productos:   0%|          | 0/30 [00:00<?, ?it/s]"
      ]
     },
     "metadata": {},
     "output_type": "display_data"
    },
    {
     "name": "stdout",
     "output_type": "stream",
     "text": [
      "Estamos en la página https://skinsort.com/products//page/70\n"
     ]
    },
    {
     "data": {
      "application/vnd.jupyter.widget-view+json": {
       "model_id": "1f8ac0e7cd554ec3b7cf017929ae8b83",
       "version_major": 2,
       "version_minor": 0
      },
      "text/plain": [
       "Obteniendo productos:   0%|          | 0/30 [00:00<?, ?it/s]"
      ]
     },
     "metadata": {},
     "output_type": "display_data"
    },
    {
     "name": "stdout",
     "output_type": "stream",
     "text": [
      "Estamos en la página https://skinsort.com/products//page/71\n"
     ]
    },
    {
     "data": {
      "application/vnd.jupyter.widget-view+json": {
       "model_id": "cb8831c62f4d40ffb32949e09bf3854b",
       "version_major": 2,
       "version_minor": 0
      },
      "text/plain": [
       "Obteniendo productos:   0%|          | 0/30 [00:00<?, ?it/s]"
      ]
     },
     "metadata": {},
     "output_type": "display_data"
    },
    {
     "name": "stdout",
     "output_type": "stream",
     "text": [
      "Estamos en la página https://skinsort.com/products//page/72\n"
     ]
    },
    {
     "data": {
      "application/vnd.jupyter.widget-view+json": {
       "model_id": "8faa412553dd4c1d877b52f42c3aa966",
       "version_major": 2,
       "version_minor": 0
      },
      "text/plain": [
       "Obteniendo productos:   0%|          | 0/30 [00:00<?, ?it/s]"
      ]
     },
     "metadata": {},
     "output_type": "display_data"
    },
    {
     "name": "stdout",
     "output_type": "stream",
     "text": [
      "Estamos en la página https://skinsort.com/products//page/73\n"
     ]
    },
    {
     "data": {
      "application/vnd.jupyter.widget-view+json": {
       "model_id": "3cdb72c928db4b8bac19d251ae475e54",
       "version_major": 2,
       "version_minor": 0
      },
      "text/plain": [
       "Obteniendo productos:   0%|          | 0/30 [00:00<?, ?it/s]"
      ]
     },
     "metadata": {},
     "output_type": "display_data"
    },
    {
     "name": "stdout",
     "output_type": "stream",
     "text": [
      "Estamos en la página https://skinsort.com/products//page/74\n"
     ]
    },
    {
     "data": {
      "application/vnd.jupyter.widget-view+json": {
       "model_id": "d2072fc3da024d43ba50b50fede9f259",
       "version_major": 2,
       "version_minor": 0
      },
      "text/plain": [
       "Obteniendo productos:   0%|          | 0/30 [00:00<?, ?it/s]"
      ]
     },
     "metadata": {},
     "output_type": "display_data"
    },
    {
     "name": "stdout",
     "output_type": "stream",
     "text": [
      "Estamos en la página https://skinsort.com/products//page/75\n"
     ]
    },
    {
     "data": {
      "application/vnd.jupyter.widget-view+json": {
       "model_id": "e1e7f906591d436e8077882b8f4b649d",
       "version_major": 2,
       "version_minor": 0
      },
      "text/plain": [
       "Obteniendo productos:   0%|          | 0/30 [00:00<?, ?it/s]"
      ]
     },
     "metadata": {},
     "output_type": "display_data"
    },
    {
     "name": "stdout",
     "output_type": "stream",
     "text": [
      "Estamos en la página https://skinsort.com/products//page/76\n"
     ]
    },
    {
     "data": {
      "application/vnd.jupyter.widget-view+json": {
       "model_id": "b9ffcebc84a841aaa9804d716575ca5e",
       "version_major": 2,
       "version_minor": 0
      },
      "text/plain": [
       "Obteniendo productos:   0%|          | 0/30 [00:00<?, ?it/s]"
      ]
     },
     "metadata": {},
     "output_type": "display_data"
    },
    {
     "name": "stdout",
     "output_type": "stream",
     "text": [
      "Estamos en la página https://skinsort.com/products//page/77\n"
     ]
    },
    {
     "data": {
      "application/vnd.jupyter.widget-view+json": {
       "model_id": "be366c18573e436986b9fcde107b8282",
       "version_major": 2,
       "version_minor": 0
      },
      "text/plain": [
       "Obteniendo productos:   0%|          | 0/30 [00:00<?, ?it/s]"
      ]
     },
     "metadata": {},
     "output_type": "display_data"
    }
   ],
   "source": [
    "url = 'https://skinsort.com/products'\n",
    "productos = obtener_productos_skinsort(url)\n",
    "\n",
    "  "
   ]
  },
  {
   "cell_type": "code",
   "execution_count": null,
   "id": "94557db6",
   "metadata": {},
   "outputs": [],
   "source": [
    "'''\n",
    "def procesar_producto(producto):\n",
    "    columnas = ['Nombre', 'Marca', 'Ingredientes', 'Cantidad', 'Descripción', 'Precio']\n",
    "    valores = dict(zip(columnas, producto))\n",
    "    return valores\n",
    "\n",
    "# Ejemplo de lista con productos\n",
    "lista_productos = [['Facial Treatment', 'The Ordinary', 'Niacinamide 10% + Zinc 1%', '(20)', 'vegan and cruelty-free facial treatment that contains niacinamide.', '$6.00 at Ulta'],\n",
    "                   ['Hyaluronic Acid 2% + B5', 'The Ordinary', 'Hyaluronic Acid, Vitamin B5', '(30)', 'An ultra-lightweight serum that hydrates and plumps skin, leaving it looking healthier and more radiant. Suitable for all skin types. Free of alcohol, oil, and silicone.', '$6.80 at Ulta'],\n",
    "                   ['Daily Facial Moisturizer SPF 30', 'CeraVe', 'Niacinamide, Ceramides', '(2.5 fl oz)', 'A lightweight, oil-free moisturizer with SPF 30 that hydrates and protects the skin barrier. Ideal for normal to oily skin types. Free of fragrance and oil.', '$15.99 at Ulta']]\n",
    "\n",
    "# Aplicar la función a cada producto en la lista\n",
    "productos_procesados = list(map(procesar_producto, lista_productos))\n",
    "\n",
    "# Crear un dataframe a partir de la lista de productos procesados\n",
    "df = pd.DataFrame(productos_procesados)\n",
    "\n",
    "print(df)\n",
    "\n",
    "'''"
   ]
  },
  {
   "cell_type": "code",
   "execution_count": null,
   "id": "59cdae18",
   "metadata": {},
   "outputs": [],
   "source": []
  }
 ],
 "metadata": {
  "kernelspec": {
   "display_name": "Python 3 (ipykernel)",
   "language": "python",
   "name": "python3"
  },
  "language_info": {
   "codemirror_mode": {
    "name": "ipython",
    "version": 3
   },
   "file_extension": ".py",
   "mimetype": "text/x-python",
   "name": "python",
   "nbconvert_exporter": "python",
   "pygments_lexer": "ipython3",
   "version": "3.9.13"
  },
  "vscode": {
   "interpreter": {
    "hash": "3d63f5f6077cdf008518d0c11b0b48c8e061165f0765851b39a63df06e8ff1d8"
   }
  }
 },
 "nbformat": 4,
 "nbformat_minor": 5
}
