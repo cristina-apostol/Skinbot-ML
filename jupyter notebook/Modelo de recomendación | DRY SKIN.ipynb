{
 "cells": [
  {
   "cell_type": "code",
   "execution_count": null,
   "id": "ffe0a8fc",
   "metadata": {},
   "outputs": [],
   "source": [
    "import pandas as pd\n",
    "import numpy as np\n",
    "import json\n",
    "import warnings\n",
    "warnings.filterwarnings(\"ignore\")\n",
    "import json\n",
    "\n",
    "from scipy.spatial.distance import pdist, squareform"
   ]
  },
  {
   "cell_type": "code",
   "execution_count": null,
   "id": "b1a9c067",
   "metadata": {},
   "outputs": [],
   "source": [
    "skincare= pd.read_csv('SKINCARE.csv')"
   ]
  },
  {
   "cell_type": "code",
   "execution_count": null,
   "id": "89963af6",
   "metadata": {},
   "outputs": [],
   "source": [
    "skincare.head()"
   ]
  },
  {
   "cell_type": "code",
   "execution_count": null,
   "id": "29ef0c84",
   "metadata": {},
   "outputs": [],
   "source": []
  },
  {
   "cell_type": "code",
   "execution_count": null,
   "id": "44dfd8a6",
   "metadata": {},
   "outputs": [],
   "source": [
    "skincare.Type.unique()"
   ]
  },
  {
   "cell_type": "code",
   "execution_count": null,
   "id": "0cff9ef2",
   "metadata": {},
   "outputs": [],
   "source": [
    "skincare.Skin.unique()"
   ]
  },
  {
   "cell_type": "code",
   "execution_count": null,
   "id": "55df9003",
   "metadata": {},
   "outputs": [],
   "source": []
  },
  {
   "cell_type": "markdown",
   "id": "15a34727",
   "metadata": {},
   "source": [
    "### Para realizar un modelo de recomendación vamos a filtrar cada tipo de piel, según tipo de producto, para poder crear la rutina de skincare final."
   ]
  },
  {
   "cell_type": "markdown",
   "id": "f518c451",
   "metadata": {},
   "source": [
    "**1. DRY SKIN - SERUM**"
   ]
  },
  {
   "cell_type": "code",
   "execution_count": null,
   "id": "97204220",
   "metadata": {},
   "outputs": [],
   "source": [
    "filtro= skincare.loc[(skincare.Skin == 'dry') & (skincare.Type == 'Serum')]"
   ]
  },
  {
   "cell_type": "code",
   "execution_count": null,
   "id": "d0213324",
   "metadata": {},
   "outputs": [],
   "source": [
    "dry_serum=filtro.set_index('Products')"
   ]
  },
  {
   "cell_type": "code",
   "execution_count": null,
   "id": "a91b3e21",
   "metadata": {},
   "outputs": [],
   "source": [
    "dry_serum = dry_serum.drop(columns= ['Type', 'Skin'], axis=1)"
   ]
  },
  {
   "cell_type": "code",
   "execution_count": null,
   "id": "23735647",
   "metadata": {},
   "outputs": [],
   "source": [
    "distancias = squareform(pdist(dry_serum, 'euclidean'))    \n",
    "\n",
    "distancias.shape"
   ]
  },
  {
   "cell_type": "code",
   "execution_count": null,
   "id": "ec3fe8b0",
   "metadata": {},
   "outputs": [],
   "source": [
    "similitud = 1 / (1 + distancias)\n",
    "\n",
    "similitud.shape"
   ]
  },
  {
   "cell_type": "code",
   "execution_count": null,
   "id": "73fb06c8",
   "metadata": {},
   "outputs": [],
   "source": [
    "simil= pd.DataFrame(similitud, index=dry_serum.index, columns=dry_serum.index)\n"
   ]
  },
  {
   "cell_type": "markdown",
   "id": "e8987396",
   "metadata": {},
   "source": [
    "Creamos un usuario random, para la recomendación de productoS."
   ]
  },
  {
   "cell_type": "code",
   "execution_count": null,
   "id": "597e088b",
   "metadata": {},
   "outputs": [],
   "source": [
    "random={\"Paula's Choice - Omega+ Complex Serum\": 4.5, \n",
    "     'Neutrogena - Rapid Wrinkle Repair Serum':2, \n",
    "     'Estée Lauder - Perfectionist Pro Serum Rapid Brightening Treatment with Ferment² + Vitamin C':5,\n",
    "     'Tula Skincare - Wrinkle Treatment Drops Retinol Alternative Serum':5, \n",
    "     'Isntree - TW-Real Bifida Ampoule':2,\n",
    "     'Clinique - Even Better Clinical™ Dark Spot Corrector & Optimizer':3.5, \n",
    "     'Murad - Vitamin C Glycolic Brightening Serum':3,\n",
    "     'Doa Kozmetik - Tetrahexyldecyl Ascorbate 5% Serum':4, \n",
    "     'Mission: Impossible – Fallout':3,\n",
    "     'Naturium Skincare - Vitamin C Super Serum Plus':3}"
   ]
  },
  {
   "cell_type": "code",
   "execution_count": null,
   "id": "315807ed",
   "metadata": {},
   "outputs": [],
   "source": [
    "dry_serum['random']=pd.Series(random)\n"
   ]
  },
  {
   "cell_type": "code",
   "execution_count": null,
   "id": "4d35e044",
   "metadata": {},
   "outputs": [],
   "source": [
    "prueba_serum= dry_serum.loc[dry_serum[\"random\"].isnull()] "
   ]
  },
  {
   "cell_type": "code",
   "execution_count": null,
   "id": "ac574a13",
   "metadata": {},
   "outputs": [],
   "source": [
    "rat_serum= prueba_serum.drop('random', axis=1)"
   ]
  },
  {
   "cell_type": "code",
   "execution_count": null,
   "id": "de731071",
   "metadata": {},
   "outputs": [],
   "source": [
    "rating_serum= dry_serum.loc[dry_serum[\"random\"].notnull()]"
   ]
  },
  {
   "cell_type": "code",
   "execution_count": null,
   "id": "8f3384ac",
   "metadata": {},
   "outputs": [],
   "source": [
    "distancias=squareform(pdist(rating_serum.T, 'euclidean')) \n",
    "\n",
    "similitud=1/(1+distancias)\n",
    "\n",
    "similitudes_serum=pd.DataFrame(similitud, index=rating_serum.columns, columns=rating_serum.columns)\n",
    "\n",
    "similitudes_serum"
   ]
  },
  {
   "cell_type": "code",
   "execution_count": null,
   "id": "4410ab28",
   "metadata": {},
   "outputs": [],
   "source": [
    "simil_serum=similitudes_serum['random'].sort_values(ascending=False)[1:]\n",
    "\n",
    "simil_serum"
   ]
  },
  {
   "cell_type": "code",
   "execution_count": null,
   "id": "840aaa04",
   "metadata": {},
   "outputs": [],
   "source": [
    "for n,s in dict(simil_serum).items():\n",
    "    \n",
    "    rat_serum[n]=rat_serum[n]*s   # producto entre similitud y rating\n",
    "    \n",
    "rat_serum['Total']=rat_serum.sum(axis=1)\n",
    "\n",
    "rec_serum=rat_serum.sort_values('Total', ascending=False)"
   ]
  },
  {
   "cell_type": "code",
   "execution_count": null,
   "id": "dee7b159",
   "metadata": {},
   "outputs": [],
   "source": [
    "rec_serum[:1]"
   ]
  },
  {
   "cell_type": "markdown",
   "id": "723d8eda",
   "metadata": {},
   "source": [
    "**2. DRY-GENERAL MOISTURIZER**"
   ]
  },
  {
   "cell_type": "code",
   "execution_count": null,
   "id": "1fde938f",
   "metadata": {},
   "outputs": [],
   "source": [
    "filtro= skincare.loc[(skincare.Skin == 'dry') & (skincare.Type == 'General Moisturizer')]\n"
   ]
  },
  {
   "cell_type": "code",
   "execution_count": null,
   "id": "87fe83fa",
   "metadata": {},
   "outputs": [],
   "source": [
    "\n",
    "dry_g=filtro.set_index('Products')\n",
    "\n",
    "dry_g = dry_g.drop(columns= ['Type', 'Skin'], axis=1)"
   ]
  },
  {
   "cell_type": "code",
   "execution_count": null,
   "id": "17d79596",
   "metadata": {},
   "outputs": [],
   "source": [
    "dry_g"
   ]
  },
  {
   "cell_type": "code",
   "execution_count": null,
   "id": "41047d61",
   "metadata": {},
   "outputs": [],
   "source": [
    "random={\"Eminence Organics - Apricot Calendula Nourishing Cream'\": 4.5, \n",
    "     \"Kiehl's - Ultra Facial Cream\":2, \n",
    "     'Tula Skincare - Protect + Plump Firming & Hydrating Face Moisturizer':5,\n",
    "     'IT Cosmetics - Bye Bye Redness Moisturizer':5, \n",
    "     'Clinique - Moisture Surge™ 100-Hour Auto-Replenishing Hydrator':2,\n",
    "     'Dermalogica - Intensive Moisture Balance':3.5, \n",
    "     'Olehenriksen - Sheer Transformation Perfecting Moisturizer':3.5,\n",
    "     'Bliss - Bright Idea Vitamin C + Tri-Peptide Collagen Protecting & Brightening Moisturizer':4, \n",
    "     'Dr. Jart+ - Teatreement™ Moisturizer':3,\n",
    "     'Eminence Organics - Apricot Calendula Nourishing Cream':3}\n",
    "\n",
    "dry_g['random']=pd.Series(random)\n",
    "\n",
    "\n",
    "prueba_g= dry_g.loc[dry_g[\"random\"].isnull()] \n",
    "\n",
    "rat_g= prueba_g.drop('random', axis=1)\n",
    "\n",
    "rating_g= dry_g.loc[dry_g[\"random\"].notnull()]\n",
    "\n",
    "distancias=squareform(pdist(rating_g.T, 'euclidean')) \n",
    "\n",
    "similitud=1/(1+distancias)\n",
    "\n",
    "similitudes_g=pd.DataFrame(similitud, index=rating_g.columns, columns=rating_g.columns)\n",
    "\n",
    "similitudes_g"
   ]
  },
  {
   "cell_type": "code",
   "execution_count": null,
   "id": "931ac01c",
   "metadata": {},
   "outputs": [],
   "source": [
    "simil_g=similitudes_g['random'].sort_values(ascending=False)[1:]\n",
    "\n",
    "for n,s in dict(simil_g).items():\n",
    "    \n",
    "    rat_g[n]=rat_g[n]*s   # producto entre similitud y rating\n",
    "    \n",
    "rat_g['Total']=rat_g.sum(axis=1)\n",
    "\n",
    "reco_g=rat_g.sort_values('Total', ascending=False)"
   ]
  },
  {
   "cell_type": "code",
   "execution_count": null,
   "id": "efd1c5e2",
   "metadata": {},
   "outputs": [],
   "source": [
    "reco_g[:1]"
   ]
  },
  {
   "cell_type": "markdown",
   "id": "349e1f00",
   "metadata": {},
   "source": [
    "Estas serían las mejores 3 cremas generales para el usuario con piel seca."
   ]
  },
  {
   "cell_type": "markdown",
   "id": "4cf93743",
   "metadata": {},
   "source": [
    "**3. DRY-EYE MOISTURIZER**"
   ]
  },
  {
   "cell_type": "code",
   "execution_count": null,
   "id": "4cbb31fd",
   "metadata": {},
   "outputs": [],
   "source": [
    "filtro= skincare.loc[(skincare.Skin == 'dry') & (skincare.Type == 'Eye Moisturizer')]\n"
   ]
  },
  {
   "cell_type": "code",
   "execution_count": null,
   "id": "258b7aa6",
   "metadata": {},
   "outputs": [],
   "source": [
    "\n",
    "dry_eye=filtro.set_index('Products')\n",
    "\n",
    "dry_eye = dry_eye.drop(columns= ['Type', 'Skin'], axis=1)"
   ]
  },
  {
   "cell_type": "code",
   "execution_count": null,
   "id": "cdd2211c",
   "metadata": {},
   "outputs": [],
   "source": [
    "\n",
    "random={ 'Clinique - All About Eyes':5 ,\n",
    "       'Revolution Beauty - Vitamin C Eye Cream': 2,\n",
    "       'The Body Shop - Drops of Youth™ Eye Concentrate': 4,\n",
    "       'First Aid Beauty - Skin Lab Retinol Eye Cream with Triple Hyalurionic Acid': 1,\n",
    "       'Juice Beauty - Smoothing Eye Concentrate':2,\n",
    "       'Tula Skincare - Glow Hour Brightening & Neutralizing Eye Balm': 3.5,\n",
    "       'Isntree - TW - Real Eye Cream': 2,\n",
    "       'Murad - Vita-C Eyes Dark Circle Corrector': 1,\n",
    "       'Estée Lauder - Advanced Night Repair Eye Concentrate Matrix Synchronized Recovery Complex': 4,\n",
    "       'Peter Thomas Roth - Mega-Rich Intensive Anti-Aging Eye Crème': 1,}\n",
    "\n",
    "dry_eye['random']=pd.Series(random)\n",
    "\n",
    "\n",
    "prueba_eye= dry_eye.loc[dry_eye[\"random\"].isnull()] \n",
    "\n",
    "rat_eye= prueba_eye.drop('random', axis=1)\n",
    "\n",
    "rating_eye= dry_eye.loc[dry_eye[\"random\"].notnull()]"
   ]
  },
  {
   "cell_type": "code",
   "execution_count": null,
   "id": "b6fedb4e",
   "metadata": {},
   "outputs": [],
   "source": [
    "\n",
    "distancias=squareform(pdist(rating_eye.T, 'euclidean')) \n",
    "\n",
    "similitud=1/(1+distancias)\n",
    "\n",
    "similitudes_eye=pd.DataFrame(similitud, index=rating_eye.columns, columns=rating_eye.columns)\n",
    "\n",
    "\n"
   ]
  },
  {
   "cell_type": "code",
   "execution_count": null,
   "id": "83752b61",
   "metadata": {
    "scrolled": true
   },
   "outputs": [],
   "source": [
    "simil_eye=similitudes_eye['random'].sort_values(ascending=False)[1:]\n",
    "\n",
    "for n,s in dict(simil_eye).items():\n",
    "    \n",
    "    rat_eye[n]=rat_eye[n]*s   # producto entre similitud y rating\n",
    "    \n",
    "rat_eye['Total']=rat_eye.sum(axis=1)\n",
    "\n",
    "reco_eye=rat_eye.sort_values('Total', ascending=False)\n",
    "\n",
    "reco_eye[:1]"
   ]
  },
  {
   "cell_type": "markdown",
   "id": "c381998e",
   "metadata": {},
   "source": [
    "**4. DRY - TONER**"
   ]
  },
  {
   "cell_type": "code",
   "execution_count": null,
   "id": "9c251c4a",
   "metadata": {},
   "outputs": [],
   "source": [
    "filtro= skincare.loc[(skincare.Skin == 'dry') & (skincare.Type == 'Toner')]\n"
   ]
  },
  {
   "cell_type": "code",
   "execution_count": null,
   "id": "f002e435",
   "metadata": {},
   "outputs": [],
   "source": [
    "\n",
    "dry_toner=filtro.set_index('Products')\n",
    "\n",
    "dry_toner = dry_toner.drop(columns= ['Type', 'Skin'], axis=1)"
   ]
  },
  {
   "cell_type": "code",
   "execution_count": null,
   "id": "7850c676",
   "metadata": {},
   "outputs": [],
   "source": [
    "dry_toner"
   ]
  },
  {
   "cell_type": "code",
   "execution_count": null,
   "id": "5e5b9262",
   "metadata": {},
   "outputs": [],
   "source": [
    "\n",
    "random={'Hada Labo - Gokujyun Premium Lotion': 1,\n",
    "       'Murad - Clarifying Toner':1,\n",
    "       'Origins - A Perfect World™ Age-Defense Treatment Lotion with White Tea':1,\n",
    "       'Clinique - Acne Solutions Clarifying Lotion':1,}\n",
    "\n",
    "dry_toner['random']=pd.Series(random)\n",
    "\n",
    "\n",
    "prueba_toner= dry_toner.loc[dry_toner[\"random\"].isnull()] \n",
    "\n",
    "rat_toner= prueba_toner.drop('random', axis=1)\n",
    "\n",
    "rating_toner= dry_toner.loc[dry_toner[\"random\"].notnull()]"
   ]
  },
  {
   "cell_type": "code",
   "execution_count": null,
   "id": "43385c7b",
   "metadata": {},
   "outputs": [],
   "source": [
    "\n",
    "distancias=squareform(pdist(rating_toner.T, 'euclidean')) \n",
    "\n",
    "similitud=1/(1+distancias)\n",
    "\n",
    "similitudes_toner=pd.DataFrame(similitud, index=rating_toner.columns, columns=rating_toner.columns)\n",
    "\n",
    "\n"
   ]
  },
  {
   "cell_type": "code",
   "execution_count": null,
   "id": "7254d749",
   "metadata": {
    "scrolled": true
   },
   "outputs": [],
   "source": [
    "simil_toner=similitudes_toner['random'].sort_values(ascending=False)[1:]\n",
    "\n",
    "for n,s in dict(simil_toner).items():\n",
    "    \n",
    "    rat_toner[n]=rat_toner[n]*s   # producto entre similitud y rating\n",
    "    \n",
    "rat_toner['Total']=rat_toner.sum(axis=1)\n",
    "\n",
    "reco_toner=rat_toner.sort_values('Total', ascending=False)\n",
    "\n",
    "reco_toner[:1]"
   ]
  },
  {
   "cell_type": "markdown",
   "id": "dd13b4e9",
   "metadata": {},
   "source": [
    "**5. DRY - FACIAL TREATMENT**"
   ]
  },
  {
   "cell_type": "code",
   "execution_count": null,
   "id": "a7d39be4",
   "metadata": {},
   "outputs": [],
   "source": [
    "filtro= skincare.loc[(skincare.Skin == 'dry') & (skincare.Type == 'Facial Treatment')]\n"
   ]
  },
  {
   "cell_type": "code",
   "execution_count": null,
   "id": "f3f36760",
   "metadata": {},
   "outputs": [],
   "source": [
    "filtro.Products.unique()"
   ]
  },
  {
   "cell_type": "code",
   "execution_count": null,
   "id": "fa7b38c6",
   "metadata": {},
   "outputs": [],
   "source": [
    "\n",
    "dry_treatment=filtro.set_index('Products')\n",
    "\n",
    "dry_treatment = dry_treatment.drop(columns= ['Type', 'Skin'], axis=1)"
   ]
  },
  {
   "cell_type": "code",
   "execution_count": null,
   "id": "4a7d6fb9",
   "metadata": {},
   "outputs": [],
   "source": [
    "\n",
    "random={'Dermalogica - Clear Start Post-Breakout Fix': 4,\n",
    "       'Missha - Time Revolution Night Repair Ampoule 5x':2,}\n",
    "\n",
    "dry_treatment['random']=pd.Series(random)\n",
    "\n",
    "prueba_treatment= dry_treatment.loc[dry_treatment[\"random\"].isnull()] \n",
    "\n",
    "rat_treatment= prueba_treatment.drop('random', axis=1)\n",
    "\n",
    "rating_treatment= dry_treatment.loc[dry_treatment[\"random\"].notnull()]"
   ]
  },
  {
   "cell_type": "code",
   "execution_count": null,
   "id": "683da75a",
   "metadata": {},
   "outputs": [],
   "source": [
    "\n",
    "distancias=squareform(pdist(rating_treatment.T, 'euclidean')) \n",
    "\n",
    "similitud=1/(1+distancias)\n",
    "\n",
    "similitudes_treatment=pd.DataFrame(similitud, index=rating_treatment.columns, columns=rating_treatment.columns)\n",
    "\n",
    "\n"
   ]
  },
  {
   "cell_type": "code",
   "execution_count": null,
   "id": "30ef900d",
   "metadata": {
    "scrolled": true
   },
   "outputs": [],
   "source": [
    "simil_treatment=similitudes_treatment['random'].sort_values(ascending=False)[1:]\n",
    "\n",
    "for n,s in dict(simil_treatment).items():\n",
    "    \n",
    "    rat_treatment[n]=rat_treatment[n]*s   # producto entre similitud y rating\n",
    "    \n",
    "rat_treatment['Total']=rat_treatment.sum(axis=1)\n",
    "\n",
    "reco_treatment=rat_treatment.sort_values('Total', ascending=False)\n",
    "\n",
    "reco_treatment[:1]"
   ]
  },
  {
   "cell_type": "markdown",
   "id": "877b5d57",
   "metadata": {},
   "source": [
    "**6. DRY - SUNSCREEN**"
   ]
  },
  {
   "cell_type": "code",
   "execution_count": null,
   "id": "160c3897",
   "metadata": {},
   "outputs": [],
   "source": [
    "filtro= skincare.loc[(skincare.Skin == 'dry') & (skincare.Type == 'Sunscreen')]\n"
   ]
  },
  {
   "cell_type": "code",
   "execution_count": null,
   "id": "cbabbec2",
   "metadata": {},
   "outputs": [],
   "source": [
    "filtro.Products.unique()"
   ]
  },
  {
   "cell_type": "code",
   "execution_count": null,
   "id": "03c41563",
   "metadata": {},
   "outputs": [],
   "source": [
    "\n",
    "dry_sun=filtro.set_index('Products')\n",
    "\n",
    "dry_sun = dry_sun.drop(columns= ['Type', 'Skin'], axis=1)"
   ]
  },
  {
   "cell_type": "code",
   "execution_count": null,
   "id": "255c00e1",
   "metadata": {},
   "outputs": [],
   "source": [
    "\n",
    "random={'Origins - VITAZING SPF 15 Energy-Boosting Moisturizer': 3.5,\n",
    "       }\n",
    "\n",
    "dry_sun['random']=pd.Series(random)\n",
    "\n",
    "prueba_sun= dry_sun.loc[dry_sun[\"random\"].isnull()] \n",
    "\n",
    "rat_sun= prueba_sun.drop('random', axis=1)\n",
    "\n",
    "rating_sun= dry_sun.loc[dry_sun[\"random\"].notnull()]"
   ]
  },
  {
   "cell_type": "code",
   "execution_count": null,
   "id": "b9d478f3",
   "metadata": {},
   "outputs": [],
   "source": [
    "\n",
    "distancias=squareform(pdist(rating_sun.T, 'euclidean')) \n",
    "\n",
    "similitud=1/(1+distancias)\n",
    "\n",
    "similitudes_sun=pd.DataFrame(similitud, index=rating_sun.columns, columns=rating_sun.columns)\n",
    "\n",
    "\n"
   ]
  },
  {
   "cell_type": "code",
   "execution_count": null,
   "id": "31f0ec55",
   "metadata": {
    "scrolled": true
   },
   "outputs": [],
   "source": [
    "simil_sun=similitudes_sun['random'].sort_values(ascending=False)[1:]\n",
    "\n",
    "for n,s in dict(simil_sun).items():\n",
    "    \n",
    "    rat_sun[n]=rat_sun[n]*s   # producto entre similitud y rating\n",
    "    \n",
    "rat_sun['Total']=rat_sun.sum(axis=1)\n",
    "\n",
    "reco_sun=rat_sun.sort_values('Total', ascending=False)\n",
    "\n",
    "reco_sun[:1]"
   ]
  },
  {
   "cell_type": "code",
   "execution_count": null,
   "id": "6f4c1693",
   "metadata": {},
   "outputs": [],
   "source": []
  },
  {
   "cell_type": "markdown",
   "id": "ac432e9c",
   "metadata": {},
   "source": [
    "**7. DRY- FACE CLEANSER**"
   ]
  },
  {
   "cell_type": "code",
   "execution_count": null,
   "id": "70c534e9",
   "metadata": {},
   "outputs": [],
   "source": [
    "filtro= skincare.loc[(skincare.Skin == 'dry') & (skincare.Type == 'Face Cleanser')]\n"
   ]
  },
  {
   "cell_type": "code",
   "execution_count": null,
   "id": "792c68fb",
   "metadata": {},
   "outputs": [],
   "source": [
    "filtro.Products.unique()"
   ]
  },
  {
   "cell_type": "code",
   "execution_count": null,
   "id": "2d83987c",
   "metadata": {},
   "outputs": [],
   "source": [
    "\n",
    "dry_clean=filtro.set_index('Products')\n",
    "\n",
    "dry_clean = dry_clean.drop(columns= ['Type', 'Skin'], axis=1)"
   ]
  },
  {
   "cell_type": "code",
   "execution_count": null,
   "id": "c55bf096",
   "metadata": {},
   "outputs": [],
   "source": [
    "\n",
    "random={'Olay - Pore Perfecting Scrub Cleanser Berry Burst': 3.5,\n",
    "        'Round Lab - 1025 Dokdo Cleansing Oil': 5,\n",
    "        'Andalou Naturals - CannaCell Cleansing Foam': 5,\n",
    "        'Truly - 24k Gold Black Soap Impurity Cleanser':1}\n",
    "\n",
    "dry_clean['random']=pd.Series(random)\n",
    "\n",
    "prueba_clean= dry_clean.loc[dry_clean[\"random\"].isnull()] \n",
    "\n",
    "rat_clean= prueba_clean.drop('random', axis=1)\n",
    "\n",
    "rating_clean= dry_clean.loc[dry_clean[\"random\"].notnull()]"
   ]
  },
  {
   "cell_type": "code",
   "execution_count": null,
   "id": "fc978f42",
   "metadata": {},
   "outputs": [],
   "source": [
    "\n",
    "distancias=squareform(pdist(rating_clean.T, 'euclidean')) \n",
    "\n",
    "similitud=1/(1+distancias)\n",
    "\n",
    "similitudes_clean=pd.DataFrame(similitud, index=rating_clean.columns, columns=rating_clean.columns)\n",
    "\n",
    "\n"
   ]
  },
  {
   "cell_type": "code",
   "execution_count": null,
   "id": "c15d5276",
   "metadata": {
    "scrolled": true
   },
   "outputs": [],
   "source": [
    "simil_clean=similitudes_clean['random'].sort_values(ascending=False)[1:]\n",
    "\n",
    "for n,s in dict(simil_clean).items():\n",
    "    \n",
    "    rat_clean[n]=rat_clean[n]*s   # producto entre similitud y rating\n",
    "    \n",
    "rat_clean['Total']=rat_clean.sum(axis=1)\n",
    "\n",
    "reco_clean=rat_clean.sort_values('Total', ascending=False)\n",
    "\n",
    "reco_clean[:1]"
   ]
  },
  {
   "cell_type": "markdown",
   "id": "6ecf6120",
   "metadata": {},
   "source": [
    "**8. DRY - NIGHT MOISTURIZER**"
   ]
  },
  {
   "cell_type": "code",
   "execution_count": null,
   "id": "f31a3d91",
   "metadata": {},
   "outputs": [],
   "source": [
    "filtro= skincare.loc[(skincare.Skin == 'dry') & (skincare.Type == 'Night Moisturizer')]\n"
   ]
  },
  {
   "cell_type": "code",
   "execution_count": null,
   "id": "c78be811",
   "metadata": {},
   "outputs": [],
   "source": [
    "filtro.Products.unique()"
   ]
  },
  {
   "cell_type": "code",
   "execution_count": null,
   "id": "288c155a",
   "metadata": {},
   "outputs": [],
   "source": [
    "\n",
    "dry_night=filtro.set_index('Products')\n",
    "\n",
    "dry_night = dry_night.drop(columns= ['Type', 'Skin'], axis=1)"
   ]
  },
  {
   "cell_type": "code",
   "execution_count": null,
   "id": "cdd4b0b4",
   "metadata": {},
   "outputs": [],
   "source": [
    "\n",
    "random={'Missha - Time Revolution Night Repair Ampoule Cream 5X': 3.5,\n",
    "        'Olehenriksen - Dewtopia 5% AHA Firming Night Crème': 5\n",
    "       }\n",
    "\n",
    "dry_night['random']=pd.Series(random)\n",
    "\n",
    "prueba_night= dry_night.loc[dry_night[\"random\"].isnull()] \n",
    "\n",
    "rat_night= prueba_night.drop('random', axis=1)\n",
    "\n",
    "rating_night= dry_night.loc[dry_night[\"random\"].notnull()]"
   ]
  },
  {
   "cell_type": "code",
   "execution_count": null,
   "id": "724331f6",
   "metadata": {},
   "outputs": [],
   "source": [
    "\n",
    "distancias=squareform(pdist(rating_night.T, 'euclidean')) \n",
    "\n",
    "similitud=1/(1+distancias)\n",
    "\n",
    "similitudes_night=pd.DataFrame(similitud, index=rating_night.columns, columns=rating_night.columns)\n",
    "\n",
    "\n"
   ]
  },
  {
   "cell_type": "code",
   "execution_count": null,
   "id": "44bb29d7",
   "metadata": {
    "scrolled": true
   },
   "outputs": [],
   "source": [
    "simil_night=similitudes_night['random'].sort_values(ascending=False)[1:]\n",
    "\n",
    "for n,s in dict(simil_night).items():\n",
    "    \n",
    "    rat_night[n]=rat_night[n]*s   # producto entre similitud y rating\n",
    "    \n",
    "rat_night['Total']=rat_night.sum(axis=1)\n",
    "\n",
    "reco_night=rat_night.sort_values('Total', ascending=False)\n",
    "\n",
    "reco_night[:1]"
   ]
  },
  {
   "cell_type": "code",
   "execution_count": null,
   "id": "789bf67c",
   "metadata": {},
   "outputs": [],
   "source": []
  },
  {
   "cell_type": "markdown",
   "id": "71ac00a8",
   "metadata": {},
   "source": [
    "**9. DRY - DAY MOISTURIZER**"
   ]
  },
  {
   "cell_type": "code",
   "execution_count": null,
   "id": "25f122ab",
   "metadata": {},
   "outputs": [],
   "source": [
    "filtro= skincare.loc[(skincare.Skin == 'dry') & (skincare.Type == 'Day Moisturizer')]\n"
   ]
  },
  {
   "cell_type": "code",
   "execution_count": null,
   "id": "aed4ee60",
   "metadata": {},
   "outputs": [],
   "source": [
    "filtro.Products.unique()"
   ]
  },
  {
   "cell_type": "code",
   "execution_count": null,
   "id": "36ba67ff",
   "metadata": {},
   "outputs": [],
   "source": [
    "\n",
    "dry_day=filtro.set_index('Products')\n",
    "\n",
    "dry_day = dry_day.drop(columns= ['Type', 'Skin'], axis=1)"
   ]
  },
  {
   "cell_type": "code",
   "execution_count": null,
   "id": "0bc87941",
   "metadata": {},
   "outputs": [],
   "source": [
    "\n",
    "random={'Ryor - Denní Krém Mořské Rasy': 3.5,\n",
    "      \n",
    "       }\n",
    "\n",
    "dry_day['random']=pd.Series(random)\n",
    "\n",
    "prueba_day= dry_day.loc[dry_day[\"random\"].isnull()] \n",
    "\n",
    "rat_day= prueba_day.drop('random', axis=1)\n",
    "\n",
    "rating_day= dry_day.loc[dry_day[\"random\"].notnull()]"
   ]
  },
  {
   "cell_type": "code",
   "execution_count": null,
   "id": "1760e73b",
   "metadata": {},
   "outputs": [],
   "source": [
    "\n",
    "distancias=squareform(pdist(rating_day.T, 'euclidean')) \n",
    "\n",
    "similitud=1/(1+distancias)\n",
    "\n",
    "similitudes_day=pd.DataFrame(similitud, index=rating_day.columns, columns=rating_day.columns)\n",
    "\n",
    "\n"
   ]
  },
  {
   "cell_type": "code",
   "execution_count": null,
   "id": "b3a081fc",
   "metadata": {
    "scrolled": true
   },
   "outputs": [],
   "source": [
    "simil_day=similitudes_day['random'].sort_values(ascending=False)[1:]\n",
    "\n",
    "for n,s in dict(simil_day).items():\n",
    "    \n",
    "    rat_day[n]=rat_day[n]*s   # producto entre similitud y rating\n",
    "    \n",
    "rat_day['Total']=rat_day.sum(axis=1)\n",
    "\n",
    "reco_day=rat_day.sort_values('Total', ascending=False)\n",
    "\n",
    "reco_day[:1]"
   ]
  },
  {
   "cell_type": "markdown",
   "id": "e22a544f",
   "metadata": {},
   "source": [
    "### SKINCARE ROUTINE FOR DRY SKIN - RANDOM USER"
   ]
  },
  {
   "cell_type": "code",
   "execution_count": null,
   "id": "a8bf340f",
   "metadata": {},
   "outputs": [],
   "source": [
    "skincare_routine= {'Face Cleaneser' : reco_clean.index[0], 'Toner': reco_toner.index[0], 'Serum': rec_serum.index[0] , \n",
    "          \n",
    "          'Eye_Moisturizer': reco_eye.index[0], 'General_Moisturizer': reco_g.index[0],\n",
    "                  'Day_Moisturizer': reco_day.index[0], 'Night_Moisturizer' : reco_night.index[0]}"
   ]
  },
  {
   "cell_type": "code",
   "execution_count": null,
   "id": "dfb92faf",
   "metadata": {},
   "outputs": [],
   "source": [
    "skincare_routine"
   ]
  },
  {
   "cell_type": "code",
   "execution_count": null,
   "id": "b85562e8",
   "metadata": {},
   "outputs": [],
   "source": []
  }
 ],
 "metadata": {
  "kernelspec": {
   "display_name": "Python 3 (ipykernel)",
   "language": "python",
   "name": "python3"
  },
  "language_info": {
   "codemirror_mode": {
    "name": "ipython",
    "version": 3
   },
   "file_extension": ".py",
   "mimetype": "text/x-python",
   "name": "python",
   "nbconvert_exporter": "python",
   "pygments_lexer": "ipython3",
   "version": "3.9.13"
  }
 },
 "nbformat": 4,
 "nbformat_minor": 5
}
