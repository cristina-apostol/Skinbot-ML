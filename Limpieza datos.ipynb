{
 "cells": [
  {
   "cell_type": "code",
   "execution_count": 1,
   "id": "5177cf81",
   "metadata": {},
   "outputs": [],
   "source": [
    "import pandas as pd\n",
    "import numpy as np\n",
    "import json\n",
    "import warnings\n",
    "warnings.filterwarnings(\"ignore\")"
   ]
  },
  {
   "cell_type": "code",
   "execution_count": 2,
   "id": "ae309059",
   "metadata": {},
   "outputs": [],
   "source": [
    "with open('dry.json', 'r') as f:\n",
    "    data= f.read()\n",
    "    "
   ]
  },
  {
   "cell_type": "code",
   "execution_count": 3,
   "id": "2f3e8494",
   "metadata": {},
   "outputs": [],
   "source": [
    "dry = json.loads(data)"
   ]
  },
  {
   "cell_type": "code",
   "execution_count": 4,
   "id": "2a5f17bb",
   "metadata": {},
   "outputs": [
    {
     "data": {
      "text/plain": [
       "61"
      ]
     },
     "execution_count": 4,
     "metadata": {},
     "output_type": "execute_result"
    }
   ],
   "source": [
    "len(dry)"
   ]
  },
  {
   "cell_type": "code",
   "execution_count": 5,
   "id": "c644c7dc",
   "metadata": {},
   "outputs": [],
   "source": [
    "with open('dry.json', 'r') as f:\n",
    "    dry= f.read()\n",
    "with open('oil.json', 'r') as f:\n",
    "    oil= f.read()\n",
    "with open('acne.json', 'r') as f:\n",
    "    acne= f.read()\n",
    "with open('age.json', 'r') as f:\n",
    "    age= f.read()\n",
    "with open('brig.json', 'r') as f:\n",
    "    bright= f.read()\n",
    "with open('pores.json', 'r') as f:\n",
    "    pores= f.read()\n",
    "with open('scar.json', 'r') as f:\n",
    "    scar= f.read()\n",
    "with open('sensitive.json', 'r') as f:\n",
    "    sens= f.read()\n",
    "with open('spots.json', 'r') as f:\n",
    "    spots= f.read()\n",
    "with open('texture.json', 'r') as f:\n",
    "    text= f.read()"
   ]
  },
  {
   "cell_type": "code",
   "execution_count": 6,
   "id": "f0f35c55",
   "metadata": {},
   "outputs": [],
   "source": [
    "dry = json.loads(dry)\n",
    "oil = json.loads(oil)\n",
    "acne = json.loads(acne)\n",
    "age = json.loads(age)\n",
    "bright = json.loads(bright)\n",
    "pores = json.loads(pores)\n",
    "scar = json.loads(scar)\n",
    "sens = json.loads(sens)\n",
    "spots = json.loads(spots)\n",
    "text = json.loads(text)"
   ]
  },
  {
   "cell_type": "markdown",
   "id": "e7d2b3ac",
   "metadata": {},
   "source": [
    "En este caso, tenemos 61 keys, es decir 61 paginas, en cada una de ellas tenemos 3 tipos de datos, tipo, marca, y nombre, con un total de 30 productos.\n",
    "Aqui key[0], sería tipo, key[1], es marca y key[2] es el nombre del porducto"
   ]
  },
  {
   "cell_type": "code",
   "execution_count": 7,
   "id": "87b1fccc",
   "metadata": {},
   "outputs": [],
   "source": [
    "\n",
    "dry_keys = dry.keys()\n",
    "tipo = []\n",
    "marca = []\n",
    "nombre = []\n",
    "\n",
    "for key in dry_keys:\n",
    "   \n",
    "        tipo.append(dry[key][0])\n",
    "\n",
    "        marca.append(dry[key][1])\n",
    "  \n",
    "        nombre.append(dry[key][2])\n",
    "\n",
    "\n"
   ]
  },
  {
   "cell_type": "code",
   "execution_count": 8,
   "id": "ef59e2b1",
   "metadata": {},
   "outputs": [],
   "source": [
    "tipos=[]\n",
    "for i in tipo:\n",
    "    for e in i:\n",
    "        tipos.append(e)\n",
    "\n",
    "marcas=[]\n",
    "for i in marca:\n",
    "    for e in i:\n",
    "        marcas.append(e)\n",
    "\n",
    "nombres=[]        \n",
    "for i in nombre:\n",
    "    for e in i:\n",
    "        nombres.append(e)"
   ]
  },
  {
   "cell_type": "code",
   "execution_count": 9,
   "id": "33e1c012",
   "metadata": {},
   "outputs": [],
   "source": [
    "def obtener_listados(d):\n",
    "    tipo = []\n",
    "    marca = []\n",
    "    nombre = []\n",
    "    \n",
    "    for key in d.keys():\n",
    "        tipo.append(d[key][0])\n",
    "        marca.append(d[key][1])\n",
    "        nombre.append(d[key][2])\n",
    "        \n",
    "    tipos = [e for i in tipo for e in i]\n",
    "    marcas = [e for i in marca for e in i]\n",
    "    nombres = [e for i in nombre for e in i]\n",
    "    \n",
    "    return tipos, marcas, nombres\n"
   ]
  },
  {
   "cell_type": "code",
   "execution_count": 10,
   "id": "303668e7",
   "metadata": {},
   "outputs": [],
   "source": [
    "dry_tipos, dry_marcas, dry_nombres = obtener_listados(dry)"
   ]
  },
  {
   "cell_type": "code",
   "execution_count": 11,
   "id": "0063dacf",
   "metadata": {},
   "outputs": [
    {
     "data": {
      "text/plain": [
       "1807"
      ]
     },
     "execution_count": 11,
     "metadata": {},
     "output_type": "execute_result"
    }
   ],
   "source": [
    "len(dry_tipos)"
   ]
  },
  {
   "cell_type": "code",
   "execution_count": 12,
   "id": "00c5fd88",
   "metadata": {},
   "outputs": [
    {
     "data": {
      "text/plain": [
       "1807"
      ]
     },
     "execution_count": 12,
     "metadata": {},
     "output_type": "execute_result"
    }
   ],
   "source": [
    "len(dry_marcas)"
   ]
  },
  {
   "cell_type": "code",
   "execution_count": 13,
   "id": "487ed943",
   "metadata": {},
   "outputs": [
    {
     "data": {
      "text/plain": [
       "161"
      ]
     },
     "execution_count": 13,
     "metadata": {},
     "output_type": "execute_result"
    }
   ],
   "source": [
    "len(oil)"
   ]
  },
  {
   "cell_type": "code",
   "execution_count": 14,
   "id": "e9822838",
   "metadata": {},
   "outputs": [],
   "source": [
    "data2 = {'Type': dry_tipos, 'Brand': dry_marcas, 'Name': dry_nombres}\n",
    "dry = pd.DataFrame(data2)\n",
    "dry['Skin'] = ['dry'] * len(dry.index)"
   ]
  },
  {
   "cell_type": "code",
   "execution_count": 15,
   "id": "00d8dddf",
   "metadata": {},
   "outputs": [],
   "source": [
    "tipos=[]\n",
    "marcas=[]\n",
    "nombres=[]\n",
    "for lista in oil:\n",
    "    # Agregar los valores de la primera, segunda y tercera lista de cada elemento de la lista actual a las listas correspondientes\n",
    "    tipos.extend(lista[0])\n",
    "    marcas.extend(lista[1])\n",
    "    nombres.extend(lista[2])"
   ]
  },
  {
   "cell_type": "code",
   "execution_count": 16,
   "id": "fc026096",
   "metadata": {},
   "outputs": [],
   "source": [
    "data = {'Type': tipos, 'Brand': marcas, 'Name': nombres}\n",
    "oil = pd.DataFrame(data)\n",
    "oil['Skin'] = ['oil'] * len(oil.index)"
   ]
  },
  {
   "cell_type": "code",
   "execution_count": 17,
   "id": "80825081",
   "metadata": {},
   "outputs": [
    {
     "data": {
      "text/html": [
       "<div>\n",
       "<style scoped>\n",
       "    .dataframe tbody tr th:only-of-type {\n",
       "        vertical-align: middle;\n",
       "    }\n",
       "\n",
       "    .dataframe tbody tr th {\n",
       "        vertical-align: top;\n",
       "    }\n",
       "\n",
       "    .dataframe thead th {\n",
       "        text-align: right;\n",
       "    }\n",
       "</style>\n",
       "<table border=\"1\" class=\"dataframe\">\n",
       "  <thead>\n",
       "    <tr style=\"text-align: right;\">\n",
       "      <th></th>\n",
       "      <th>Type</th>\n",
       "      <th>Brand</th>\n",
       "      <th>Name</th>\n",
       "      <th>Skin</th>\n",
       "    </tr>\n",
       "  </thead>\n",
       "  <tbody>\n",
       "    <tr>\n",
       "      <th>4812</th>\n",
       "      <td>Face Makeup</td>\n",
       "      <td>By Terry</td>\n",
       "      <td>Hyaluronic Hydra-Foundation</td>\n",
       "      <td>oil</td>\n",
       "    </tr>\n",
       "    <tr>\n",
       "      <th>4813</th>\n",
       "      <td>Makeup Remover</td>\n",
       "      <td>Lancôme</td>\n",
       "      <td>Lait Galatéis Douceur</td>\n",
       "      <td>oil</td>\n",
       "    </tr>\n",
       "    <tr>\n",
       "      <th>4814</th>\n",
       "      <td>Sunscreen\\n50 SPF</td>\n",
       "      <td>Dr. Oracle</td>\n",
       "      <td>A-Thera Sunblock SPF 50</td>\n",
       "      <td>oil</td>\n",
       "    </tr>\n",
       "    <tr>\n",
       "      <th>4815</th>\n",
       "      <td>Face Makeup\\n50 SPF</td>\n",
       "      <td>Laneige</td>\n",
       "      <td>Skin Veil Luminizing Base with SPF50</td>\n",
       "      <td>oil</td>\n",
       "    </tr>\n",
       "    <tr>\n",
       "      <th>4816</th>\n",
       "      <td>Face Makeup</td>\n",
       "      <td>Holika Holika</td>\n",
       "      <td>Clearing Petit BB</td>\n",
       "      <td>oil</td>\n",
       "    </tr>\n",
       "  </tbody>\n",
       "</table>\n",
       "</div>"
      ],
      "text/plain": [
       "                     Type          Brand  \\\n",
       "4812          Face Makeup       By Terry   \n",
       "4813       Makeup Remover        Lancôme   \n",
       "4814    Sunscreen\\n50 SPF     Dr. Oracle   \n",
       "4815  Face Makeup\\n50 SPF        Laneige   \n",
       "4816          Face Makeup  Holika Holika   \n",
       "\n",
       "                                      Name Skin  \n",
       "4812           Hyaluronic Hydra-Foundation  oil  \n",
       "4813                 Lait Galatéis Douceur  oil  \n",
       "4814               A-Thera Sunblock SPF 50  oil  \n",
       "4815  Skin Veil Luminizing Base with SPF50  oil  \n",
       "4816                     Clearing Petit BB  oil  "
      ]
     },
     "execution_count": 17,
     "metadata": {},
     "output_type": "execute_result"
    }
   ],
   "source": [
    "oil.tail()"
   ]
  },
  {
   "cell_type": "code",
   "execution_count": 18,
   "id": "fe40f6ec",
   "metadata": {},
   "outputs": [],
   "source": [
    "total = pd.concat([dry,oil], axis=0)"
   ]
  },
  {
   "cell_type": "code",
   "execution_count": 19,
   "id": "96b1fcbe",
   "metadata": {},
   "outputs": [],
   "source": [
    "def obtener_listados(lista):\n",
    "    tipos = []\n",
    "    marcas = []\n",
    "    nombres = []\n",
    "    for elemento in lista:\n",
    "        tipos.extend(elemento[0])\n",
    "        marcas.extend(elemento[1])\n",
    "        nombres.extend(elemento[2])\n",
    "    return tipos, marcas, nombres\n",
    "\n",
    "tipos1, marcas1, nombres1 = obtener_listados(acne)\n",
    "tipos2, marcas2, nombres2 = obtener_listados(age)\n",
    "tipos3, marcas3, nombres3 = obtener_listados(bright)\n",
    "tipos4, marcas4, nombres4 = obtener_listados(pores)\n",
    "tipos5, marcas5, nombres5 = obtener_listados(scar)\n",
    "tipos6, marcas6, nombres6 = obtener_listados(sens)\n",
    "tipos7, marcas7, nombres7 = obtener_listados(spots)\n",
    "tipos8, marcas8, nombres8 = obtener_listados(text)\n"
   ]
  },
  {
   "cell_type": "code",
   "execution_count": 20,
   "id": "8a9bf30f",
   "metadata": {},
   "outputs": [],
   "source": [
    "data3 = {'Type': tipos1, 'Brand': marcas1, 'Name': nombres1}\n",
    "acne = pd.DataFrame(data3)\n",
    "acne['Skin'] = ['acne'] * len(acne.index)"
   ]
  },
  {
   "cell_type": "code",
   "execution_count": 21,
   "id": "0a02e12e",
   "metadata": {},
   "outputs": [
    {
     "data": {
      "text/html": [
       "<div>\n",
       "<style scoped>\n",
       "    .dataframe tbody tr th:only-of-type {\n",
       "        vertical-align: middle;\n",
       "    }\n",
       "\n",
       "    .dataframe tbody tr th {\n",
       "        vertical-align: top;\n",
       "    }\n",
       "\n",
       "    .dataframe thead th {\n",
       "        text-align: right;\n",
       "    }\n",
       "</style>\n",
       "<table border=\"1\" class=\"dataframe\">\n",
       "  <thead>\n",
       "    <tr style=\"text-align: right;\">\n",
       "      <th></th>\n",
       "      <th>Type</th>\n",
       "      <th>Brand</th>\n",
       "      <th>Name</th>\n",
       "      <th>Skin</th>\n",
       "    </tr>\n",
       "  </thead>\n",
       "  <tbody>\n",
       "    <tr>\n",
       "      <th>3779</th>\n",
       "      <td>General Moisturizer</td>\n",
       "      <td>Neutrogena</td>\n",
       "      <td>Clear &amp; Defend Oil-Free Moisturiser</td>\n",
       "      <td>acne</td>\n",
       "    </tr>\n",
       "    <tr>\n",
       "      <th>3780</th>\n",
       "      <td>Face Makeup\\n50 SPF</td>\n",
       "      <td>Laneige</td>\n",
       "      <td>Skin Veil Luminizing Base with SPF50</td>\n",
       "      <td>acne</td>\n",
       "    </tr>\n",
       "    <tr>\n",
       "      <th>3781</th>\n",
       "      <td>Face Cleanser</td>\n",
       "      <td>up&amp;up</td>\n",
       "      <td>Renewing Cleanser</td>\n",
       "      <td>acne</td>\n",
       "    </tr>\n",
       "    <tr>\n",
       "      <th>3782</th>\n",
       "      <td>Face Cleanser</td>\n",
       "      <td>Neutrogena</td>\n",
       "      <td>Rapid Clear Stubborn Daily Acne Facial Cleanser</td>\n",
       "      <td>acne</td>\n",
       "    </tr>\n",
       "    <tr>\n",
       "      <th>3783</th>\n",
       "      <td>General Moisturizer</td>\n",
       "      <td>up&amp;up</td>\n",
       "      <td>Repairing Treatment</td>\n",
       "      <td>acne</td>\n",
       "    </tr>\n",
       "  </tbody>\n",
       "</table>\n",
       "</div>"
      ],
      "text/plain": [
       "                     Type       Brand  \\\n",
       "3779  General Moisturizer  Neutrogena   \n",
       "3780  Face Makeup\\n50 SPF     Laneige   \n",
       "3781        Face Cleanser       up&up   \n",
       "3782        Face Cleanser  Neutrogena   \n",
       "3783  General Moisturizer       up&up   \n",
       "\n",
       "                                                 Name  Skin  \n",
       "3779              Clear & Defend Oil-Free Moisturiser  acne  \n",
       "3780             Skin Veil Luminizing Base with SPF50  acne  \n",
       "3781                                Renewing Cleanser  acne  \n",
       "3782  Rapid Clear Stubborn Daily Acne Facial Cleanser  acne  \n",
       "3783                              Repairing Treatment  acne  "
      ]
     },
     "execution_count": 21,
     "metadata": {},
     "output_type": "execute_result"
    }
   ],
   "source": [
    "acne.tail()"
   ]
  },
  {
   "cell_type": "code",
   "execution_count": 22,
   "id": "56465e0e",
   "metadata": {},
   "outputs": [],
   "source": [
    "data4 = {'Type': tipos2, 'Brand': marcas2, 'Name': nombres2}\n",
    "age = pd.DataFrame(data4)\n",
    "age['Skin'] = ['age'] * len(age.index)"
   ]
  },
  {
   "cell_type": "code",
   "execution_count": 23,
   "id": "c1af3298",
   "metadata": {},
   "outputs": [
    {
     "data": {
      "text/html": [
       "<div>\n",
       "<style scoped>\n",
       "    .dataframe tbody tr th:only-of-type {\n",
       "        vertical-align: middle;\n",
       "    }\n",
       "\n",
       "    .dataframe tbody tr th {\n",
       "        vertical-align: top;\n",
       "    }\n",
       "\n",
       "    .dataframe thead th {\n",
       "        text-align: right;\n",
       "    }\n",
       "</style>\n",
       "<table border=\"1\" class=\"dataframe\">\n",
       "  <thead>\n",
       "    <tr style=\"text-align: right;\">\n",
       "      <th></th>\n",
       "      <th>Type</th>\n",
       "      <th>Brand</th>\n",
       "      <th>Name</th>\n",
       "      <th>Skin</th>\n",
       "    </tr>\n",
       "  </thead>\n",
       "  <tbody>\n",
       "    <tr>\n",
       "      <th>0</th>\n",
       "      <td>Face Cleanser</td>\n",
       "      <td>CeraVe</td>\n",
       "      <td>Hydrating Facial Cleanser</td>\n",
       "      <td>age</td>\n",
       "    </tr>\n",
       "    <tr>\n",
       "      <th>1</th>\n",
       "      <td>Face Cleanser</td>\n",
       "      <td>CeraVe</td>\n",
       "      <td>Foaming Facial Cleanser</td>\n",
       "      <td>age</td>\n",
       "    </tr>\n",
       "    <tr>\n",
       "      <th>2</th>\n",
       "      <td>General Moisturizer</td>\n",
       "      <td>CeraVe</td>\n",
       "      <td>Moisturizing Cream</td>\n",
       "      <td>age</td>\n",
       "    </tr>\n",
       "    <tr>\n",
       "      <th>3</th>\n",
       "      <td>General Moisturizer</td>\n",
       "      <td>CeraVe</td>\n",
       "      <td>Daily Moisturizing Lotion</td>\n",
       "      <td>age</td>\n",
       "    </tr>\n",
       "    <tr>\n",
       "      <th>4</th>\n",
       "      <td>Face Cleanser</td>\n",
       "      <td>CeraVe</td>\n",
       "      <td>Renewing SA Cleanser</td>\n",
       "      <td>age</td>\n",
       "    </tr>\n",
       "  </tbody>\n",
       "</table>\n",
       "</div>"
      ],
      "text/plain": [
       "                  Type   Brand                       Name Skin\n",
       "0        Face Cleanser  CeraVe  Hydrating Facial Cleanser  age\n",
       "1        Face Cleanser  CeraVe    Foaming Facial Cleanser  age\n",
       "2  General Moisturizer  CeraVe         Moisturizing Cream  age\n",
       "3  General Moisturizer  CeraVe  Daily Moisturizing Lotion  age\n",
       "4        Face Cleanser  CeraVe       Renewing SA Cleanser  age"
      ]
     },
     "execution_count": 23,
     "metadata": {},
     "output_type": "execute_result"
    }
   ],
   "source": [
    "age.head()"
   ]
  },
  {
   "cell_type": "code",
   "execution_count": 24,
   "id": "443df1f3",
   "metadata": {},
   "outputs": [],
   "source": [
    "data5 = {'Type': tipos3, 'Brand': marcas3, 'Name': nombres3}\n",
    "bright= pd.DataFrame(data5)\n",
    "bright['Skin'] = ['brightening'] * len(bright.index)"
   ]
  },
  {
   "cell_type": "code",
   "execution_count": 25,
   "id": "b18bdbaa",
   "metadata": {},
   "outputs": [],
   "source": [
    "data6 = {'Type': tipos4, 'Brand': marcas4, 'Name': nombres4}\n",
    "pores= pd.DataFrame(data6)\n",
    "pores['Skin'] = ['large pores'] * len(pores.index)"
   ]
  },
  {
   "cell_type": "code",
   "execution_count": 26,
   "id": "2590ba72",
   "metadata": {},
   "outputs": [],
   "source": [
    "data7 = {'Type': tipos5, 'Brand': marcas5, 'Name': nombres5}\n",
    "scar= pd.DataFrame(data7)\n",
    "scar['Skin'] = ['scar healing'] * len(scar.index)"
   ]
  },
  {
   "cell_type": "code",
   "execution_count": 27,
   "id": "294a8694",
   "metadata": {},
   "outputs": [],
   "source": [
    "data8 = {'Type': tipos6, 'Brand': marcas6, 'Name': nombres6}\n",
    "sens= pd.DataFrame(data8)\n",
    "sens['Skin'] = ['sensitive'] * len(sens.index)"
   ]
  },
  {
   "cell_type": "code",
   "execution_count": 28,
   "id": "d5a80b29",
   "metadata": {},
   "outputs": [],
   "source": [
    "data9 = {'Type': tipos7, 'Brand': marcas7, 'Name': nombres7}\n",
    "spots= pd.DataFrame(data9)\n",
    "spots['Skin'] = ['dark spots'] * len(spots.index)"
   ]
  },
  {
   "cell_type": "code",
   "execution_count": 29,
   "id": "f4b113ad",
   "metadata": {},
   "outputs": [],
   "source": [
    "dataa = {'Type': tipos8, 'Brand': marcas8, 'Name': nombres8}\n",
    "text= pd.DataFrame(dataa)\n",
    "text['Skin'] = ['texture'] * len(text.index)"
   ]
  },
  {
   "cell_type": "code",
   "execution_count": 30,
   "id": "0a01bb0e",
   "metadata": {},
   "outputs": [],
   "source": [
    "skincare = pd.concat([total, acne, age, bright, pores, scar, sens, spots, text], axis=0)"
   ]
  },
  {
   "cell_type": "code",
   "execution_count": 31,
   "id": "023f1d3d",
   "metadata": {},
   "outputs": [
    {
     "data": {
      "text/html": [
       "<div>\n",
       "<style scoped>\n",
       "    .dataframe tbody tr th:only-of-type {\n",
       "        vertical-align: middle;\n",
       "    }\n",
       "\n",
       "    .dataframe tbody tr th {\n",
       "        vertical-align: top;\n",
       "    }\n",
       "\n",
       "    .dataframe thead th {\n",
       "        text-align: right;\n",
       "    }\n",
       "</style>\n",
       "<table border=\"1\" class=\"dataframe\">\n",
       "  <thead>\n",
       "    <tr style=\"text-align: right;\">\n",
       "      <th></th>\n",
       "      <th>Type</th>\n",
       "      <th>Brand</th>\n",
       "      <th>Name</th>\n",
       "      <th>Skin</th>\n",
       "    </tr>\n",
       "  </thead>\n",
       "  <tbody>\n",
       "    <tr>\n",
       "      <th>1</th>\n",
       "      <td>Face Cleanser</td>\n",
       "      <td>CeraVe</td>\n",
       "      <td>Foaming Facial Cleanser</td>\n",
       "      <td>oil</td>\n",
       "    </tr>\n",
       "    <tr>\n",
       "      <th>3</th>\n",
       "      <td>Face Cleanser</td>\n",
       "      <td>CeraVe</td>\n",
       "      <td>Renewing SA Cleanser</td>\n",
       "      <td>oil</td>\n",
       "    </tr>\n",
       "    <tr>\n",
       "      <th>21</th>\n",
       "      <td>Face Cleanser</td>\n",
       "      <td>CeraVe</td>\n",
       "      <td>SA Smoothing Cleanser</td>\n",
       "      <td>oil</td>\n",
       "    </tr>\n",
       "    <tr>\n",
       "      <th>22</th>\n",
       "      <td>Face Cleanser</td>\n",
       "      <td>CeraVe</td>\n",
       "      <td>Hydrating Cream To Foam Cleanser</td>\n",
       "      <td>oil</td>\n",
       "    </tr>\n",
       "    <tr>\n",
       "      <th>25</th>\n",
       "      <td>Face Cleanser</td>\n",
       "      <td>CeraVe</td>\n",
       "      <td>Acne Foaming Cream Cleanser</td>\n",
       "      <td>oil</td>\n",
       "    </tr>\n",
       "    <tr>\n",
       "      <th>...</th>\n",
       "      <td>...</td>\n",
       "      <td>...</td>\n",
       "      <td>...</td>\n",
       "      <td>...</td>\n",
       "    </tr>\n",
       "    <tr>\n",
       "      <th>1973</th>\n",
       "      <td>Face Cleanser</td>\n",
       "      <td>CeraVe</td>\n",
       "      <td>Psoriasis Cleanser with Salicylic Acid Psorias...</td>\n",
       "      <td>dark spots</td>\n",
       "    </tr>\n",
       "    <tr>\n",
       "      <th>0</th>\n",
       "      <td>Face Cleanser</td>\n",
       "      <td>CeraVe</td>\n",
       "      <td>Renewing SA Cleanser</td>\n",
       "      <td>texture</td>\n",
       "    </tr>\n",
       "    <tr>\n",
       "      <th>14</th>\n",
       "      <td>Face Cleanser</td>\n",
       "      <td>CeraVe</td>\n",
       "      <td>Acne Foaming Cream Cleanser</td>\n",
       "      <td>texture</td>\n",
       "    </tr>\n",
       "    <tr>\n",
       "      <th>2230</th>\n",
       "      <td>Face Cleanser</td>\n",
       "      <td>CeraVe</td>\n",
       "      <td>Psoriasis Cleanser with Salicylic Acid Psorias...</td>\n",
       "      <td>texture</td>\n",
       "    </tr>\n",
       "    <tr>\n",
       "      <th>3795</th>\n",
       "      <td>Face Cleanser</td>\n",
       "      <td>CeraVe</td>\n",
       "      <td>Hydrating Cleanser Bar</td>\n",
       "      <td>texture</td>\n",
       "    </tr>\n",
       "  </tbody>\n",
       "</table>\n",
       "<p>63 rows × 4 columns</p>\n",
       "</div>"
      ],
      "text/plain": [
       "               Type   Brand  \\\n",
       "1     Face Cleanser  CeraVe   \n",
       "3     Face Cleanser  CeraVe   \n",
       "21    Face Cleanser  CeraVe   \n",
       "22    Face Cleanser  CeraVe   \n",
       "25    Face Cleanser  CeraVe   \n",
       "...             ...     ...   \n",
       "1973  Face Cleanser  CeraVe   \n",
       "0     Face Cleanser  CeraVe   \n",
       "14    Face Cleanser  CeraVe   \n",
       "2230  Face Cleanser  CeraVe   \n",
       "3795  Face Cleanser  CeraVe   \n",
       "\n",
       "                                                   Name        Skin  \n",
       "1                               Foaming Facial Cleanser         oil  \n",
       "3                                  Renewing SA Cleanser         oil  \n",
       "21                                SA Smoothing Cleanser         oil  \n",
       "22                     Hydrating Cream To Foam Cleanser         oil  \n",
       "25                          Acne Foaming Cream Cleanser         oil  \n",
       "...                                                 ...         ...  \n",
       "1973  Psoriasis Cleanser with Salicylic Acid Psorias...  dark spots  \n",
       "0                                  Renewing SA Cleanser     texture  \n",
       "14                          Acne Foaming Cream Cleanser     texture  \n",
       "2230  Psoriasis Cleanser with Salicylic Acid Psorias...     texture  \n",
       "3795                             Hydrating Cleanser Bar     texture  \n",
       "\n",
       "[63 rows x 4 columns]"
      ]
     },
     "execution_count": 31,
     "metadata": {},
     "output_type": "execute_result"
    }
   ],
   "source": [
    "skincare[(skincare.Type == 'Face Cleanser') & (skincare.Brand == 'CeraVe')]"
   ]
  },
  {
   "cell_type": "code",
   "execution_count": 32,
   "id": "0faaf0df",
   "metadata": {},
   "outputs": [
    {
     "data": {
      "text/html": [
       "<div>\n",
       "<style scoped>\n",
       "    .dataframe tbody tr th:only-of-type {\n",
       "        vertical-align: middle;\n",
       "    }\n",
       "\n",
       "    .dataframe tbody tr th {\n",
       "        vertical-align: top;\n",
       "    }\n",
       "\n",
       "    .dataframe thead th {\n",
       "        text-align: right;\n",
       "    }\n",
       "</style>\n",
       "<table border=\"1\" class=\"dataframe\">\n",
       "  <thead>\n",
       "    <tr style=\"text-align: right;\">\n",
       "      <th></th>\n",
       "      <th>Type</th>\n",
       "      <th>Brand</th>\n",
       "      <th>Name</th>\n",
       "      <th>Skin</th>\n",
       "    </tr>\n",
       "  </thead>\n",
       "  <tbody>\n",
       "    <tr>\n",
       "      <th>3980</th>\n",
       "      <td>Face Cleanser</td>\n",
       "      <td>GLAMGLOW</td>\n",
       "      <td>SUPERCLEANSE™</td>\n",
       "      <td>texture</td>\n",
       "    </tr>\n",
       "    <tr>\n",
       "      <th>3981</th>\n",
       "      <td>Sunscreen\\n30 SPF</td>\n",
       "      <td>Lancaster</td>\n",
       "      <td>Sun Beauty Velvet Touch Cream SPF30</td>\n",
       "      <td>texture</td>\n",
       "    </tr>\n",
       "    <tr>\n",
       "      <th>3982</th>\n",
       "      <td>Lip Moisturizer</td>\n",
       "      <td>Maybelline</td>\n",
       "      <td>Baby Lips Balm</td>\n",
       "      <td>texture</td>\n",
       "    </tr>\n",
       "    <tr>\n",
       "      <th>3983</th>\n",
       "      <td>Eye Makeup</td>\n",
       "      <td>Max Factor X</td>\n",
       "      <td>2000 Calorie Dramatic Volume Mascara</td>\n",
       "      <td>texture</td>\n",
       "    </tr>\n",
       "    <tr>\n",
       "      <th>3984</th>\n",
       "      <td>Sunscreen\\n50 SPF</td>\n",
       "      <td>L'Oreal</td>\n",
       "      <td>UV Perfect City Resist SPF50+ PA++++</td>\n",
       "      <td>texture</td>\n",
       "    </tr>\n",
       "  </tbody>\n",
       "</table>\n",
       "</div>"
      ],
      "text/plain": [
       "                   Type         Brand                                  Name  \\\n",
       "3980      Face Cleanser      GLAMGLOW                         SUPERCLEANSE™   \n",
       "3981  Sunscreen\\n30 SPF     Lancaster   Sun Beauty Velvet Touch Cream SPF30   \n",
       "3982    Lip Moisturizer    Maybelline                        Baby Lips Balm   \n",
       "3983         Eye Makeup  Max Factor X  2000 Calorie Dramatic Volume Mascara   \n",
       "3984  Sunscreen\\n50 SPF       L'Oreal  UV Perfect City Resist SPF50+ PA++++   \n",
       "\n",
       "         Skin  \n",
       "3980  texture  \n",
       "3981  texture  \n",
       "3982  texture  \n",
       "3983  texture  \n",
       "3984  texture  "
      ]
     },
     "execution_count": 32,
     "metadata": {},
     "output_type": "execute_result"
    }
   ],
   "source": [
    "skincare.tail()"
   ]
  },
  {
   "cell_type": "code",
   "execution_count": 33,
   "id": "d6c396ad",
   "metadata": {},
   "outputs": [],
   "source": [
    "skincare = skincare.reset_index(drop=True)"
   ]
  },
  {
   "cell_type": "code",
   "execution_count": 34,
   "id": "688d3b25",
   "metadata": {},
   "outputs": [
    {
     "data": {
      "text/plain": [
       "Neutrogena               592\n",
       "Paula's Choice           589\n",
       "La Roche-Posay           460\n",
       "Olay                     342\n",
       "L'Oreal                  341\n",
       "                        ... \n",
       "Pure Body Naturals         1\n",
       "Jones Road                 1\n",
       "we are feel good inc.      1\n",
       "Open Nature                1\n",
       "Ecological Formulas        1\n",
       "Name: Brand, Length: 1624, dtype: int64"
      ]
     },
     "execution_count": 34,
     "metadata": {},
     "output_type": "execute_result"
    }
   ],
   "source": [
    "skincare.Brand.value_counts()"
   ]
  },
  {
   "cell_type": "code",
   "execution_count": 35,
   "id": "38d41d21",
   "metadata": {},
   "outputs": [
    {
     "name": "stdout",
     "output_type": "stream",
     "text": [
      "<class 'pandas.core.frame.DataFrame'>\n",
      "RangeIndex: 45298 entries, 0 to 45297\n",
      "Data columns (total 4 columns):\n",
      " #   Column  Non-Null Count  Dtype \n",
      "---  ------  --------------  ----- \n",
      " 0   Type    45298 non-null  object\n",
      " 1   Brand   45298 non-null  object\n",
      " 2   Name    45298 non-null  object\n",
      " 3   Skin    45298 non-null  object\n",
      "dtypes: object(4)\n",
      "memory usage: 1.4+ MB\n"
     ]
    }
   ],
   "source": [
    "skincare.info()"
   ]
  },
  {
   "cell_type": "code",
   "execution_count": 36,
   "id": "68606ad1",
   "metadata": {},
   "outputs": [
    {
     "data": {
      "text/plain": [
       "True"
      ]
     },
     "execution_count": 36,
     "metadata": {},
     "output_type": "execute_result"
    }
   ],
   "source": [
    "skincare.duplicated().any()"
   ]
  },
  {
   "cell_type": "code",
   "execution_count": 37,
   "id": "25dcfbf3",
   "metadata": {},
   "outputs": [],
   "source": [
    "skincare = skincare.drop_duplicates()"
   ]
  },
  {
   "cell_type": "code",
   "execution_count": 38,
   "id": "d86f7a09",
   "metadata": {},
   "outputs": [
    {
     "name": "stdout",
     "output_type": "stream",
     "text": [
      "<class 'pandas.core.frame.DataFrame'>\n",
      "Int64Index: 44993 entries, 0 to 45297\n",
      "Data columns (total 4 columns):\n",
      " #   Column  Non-Null Count  Dtype \n",
      "---  ------  --------------  ----- \n",
      " 0   Type    44993 non-null  object\n",
      " 1   Brand   44993 non-null  object\n",
      " 2   Name    44993 non-null  object\n",
      " 3   Skin    44993 non-null  object\n",
      "dtypes: object(4)\n",
      "memory usage: 1.7+ MB\n"
     ]
    }
   ],
   "source": [
    "skincare.info()"
   ]
  },
  {
   "cell_type": "code",
   "execution_count": 39,
   "id": "cd438bdf",
   "metadata": {},
   "outputs": [
    {
     "data": {
      "text/html": [
       "<div>\n",
       "<style scoped>\n",
       "    .dataframe tbody tr th:only-of-type {\n",
       "        vertical-align: middle;\n",
       "    }\n",
       "\n",
       "    .dataframe tbody tr th {\n",
       "        vertical-align: top;\n",
       "    }\n",
       "\n",
       "    .dataframe thead th {\n",
       "        text-align: right;\n",
       "    }\n",
       "</style>\n",
       "<table border=\"1\" class=\"dataframe\">\n",
       "  <thead>\n",
       "    <tr style=\"text-align: right;\">\n",
       "      <th></th>\n",
       "      <th>Type</th>\n",
       "      <th>Brand</th>\n",
       "      <th>Name</th>\n",
       "      <th>Skin</th>\n",
       "    </tr>\n",
       "  </thead>\n",
       "  <tbody>\n",
       "    <tr>\n",
       "      <th>346</th>\n",
       "      <td>Sunscreen\\n30 SPF</td>\n",
       "      <td>Black Girl Sunscreen</td>\n",
       "      <td>Sunscreen SPF 30</td>\n",
       "      <td>dry</td>\n",
       "    </tr>\n",
       "    <tr>\n",
       "      <th>408</th>\n",
       "      <td>Sunscreen\\n30 SPF</td>\n",
       "      <td>Mad Hippie</td>\n",
       "      <td>Facial SPF 30+ Sunscreen</td>\n",
       "      <td>dry</td>\n",
       "    </tr>\n",
       "    <tr>\n",
       "      <th>785</th>\n",
       "      <td>Sunscreen\\n30 SPF</td>\n",
       "      <td>Drunk Elephant</td>\n",
       "      <td>Umbra™ Sheer Physical Daily Defense Broad Spec...</td>\n",
       "      <td>dry</td>\n",
       "    </tr>\n",
       "    <tr>\n",
       "      <th>881</th>\n",
       "      <td>Sunscreen\\n30 SPF</td>\n",
       "      <td>Colorescience</td>\n",
       "      <td>Tint du Soleil SPF 30 UV Protective Foundation</td>\n",
       "      <td>dry</td>\n",
       "    </tr>\n",
       "    <tr>\n",
       "      <th>890</th>\n",
       "      <td>Sunscreen\\n30 SPF</td>\n",
       "      <td>Supergoop!</td>\n",
       "      <td>City Sunscreen Serum SPF 30+ PA+++</td>\n",
       "      <td>dry</td>\n",
       "    </tr>\n",
       "    <tr>\n",
       "      <th>...</th>\n",
       "      <td>...</td>\n",
       "      <td>...</td>\n",
       "      <td>...</td>\n",
       "      <td>...</td>\n",
       "    </tr>\n",
       "    <tr>\n",
       "      <th>45047</th>\n",
       "      <td>Sunscreen\\n30 SPF</td>\n",
       "      <td>Supergoop!</td>\n",
       "      <td>PLAY Antioxidant Body Sunscreen Mist SPF 30 PA...</td>\n",
       "      <td>texture</td>\n",
       "    </tr>\n",
       "    <tr>\n",
       "      <th>45115</th>\n",
       "      <td>Sunscreen\\n30 SPF</td>\n",
       "      <td>Dr. Dennis Gross Skincare</td>\n",
       "      <td>All-Physical Lightweight Wrinkle Defense Broad...</td>\n",
       "      <td>texture</td>\n",
       "    </tr>\n",
       "    <tr>\n",
       "      <th>45135</th>\n",
       "      <td>Sunscreen\\n30 SPF</td>\n",
       "      <td>Think</td>\n",
       "      <td>Everyday Face, SPF 30+, Naturally Tinted</td>\n",
       "      <td>texture</td>\n",
       "    </tr>\n",
       "    <tr>\n",
       "      <th>45156</th>\n",
       "      <td>Sunscreen\\n30 SPF</td>\n",
       "      <td>Your Good Skin</td>\n",
       "      <td>SPF 30 Anti-Oxidant Day Cream</td>\n",
       "      <td>texture</td>\n",
       "    </tr>\n",
       "    <tr>\n",
       "      <th>45294</th>\n",
       "      <td>Sunscreen\\n30 SPF</td>\n",
       "      <td>Lancaster</td>\n",
       "      <td>Sun Beauty Velvet Touch Cream SPF30</td>\n",
       "      <td>texture</td>\n",
       "    </tr>\n",
       "  </tbody>\n",
       "</table>\n",
       "<p>569 rows × 4 columns</p>\n",
       "</div>"
      ],
      "text/plain": [
       "                    Type                      Brand  \\\n",
       "346    Sunscreen\\n30 SPF       Black Girl Sunscreen   \n",
       "408    Sunscreen\\n30 SPF                 Mad Hippie   \n",
       "785    Sunscreen\\n30 SPF             Drunk Elephant   \n",
       "881    Sunscreen\\n30 SPF              Colorescience   \n",
       "890    Sunscreen\\n30 SPF                 Supergoop!   \n",
       "...                  ...                        ...   \n",
       "45047  Sunscreen\\n30 SPF                 Supergoop!   \n",
       "45115  Sunscreen\\n30 SPF  Dr. Dennis Gross Skincare   \n",
       "45135  Sunscreen\\n30 SPF                      Think   \n",
       "45156  Sunscreen\\n30 SPF             Your Good Skin   \n",
       "45294  Sunscreen\\n30 SPF                  Lancaster   \n",
       "\n",
       "                                                    Name     Skin  \n",
       "346                                     Sunscreen SPF 30      dry  \n",
       "408                             Facial SPF 30+ Sunscreen      dry  \n",
       "785    Umbra™ Sheer Physical Daily Defense Broad Spec...      dry  \n",
       "881       Tint du Soleil SPF 30 UV Protective Foundation      dry  \n",
       "890                   City Sunscreen Serum SPF 30+ PA+++      dry  \n",
       "...                                                  ...      ...  \n",
       "45047  PLAY Antioxidant Body Sunscreen Mist SPF 30 PA...  texture  \n",
       "45115  All-Physical Lightweight Wrinkle Defense Broad...  texture  \n",
       "45135           Everyday Face, SPF 30+, Naturally Tinted  texture  \n",
       "45156                      SPF 30 Anti-Oxidant Day Cream  texture  \n",
       "45294                Sun Beauty Velvet Touch Cream SPF30  texture  \n",
       "\n",
       "[569 rows x 4 columns]"
      ]
     },
     "execution_count": 39,
     "metadata": {},
     "output_type": "execute_result"
    }
   ],
   "source": [
    "skincare[skincare['Type']== 'Sunscreen\\n30 SPF']"
   ]
  },
  {
   "cell_type": "code",
   "execution_count": 40,
   "id": "21d55385",
   "metadata": {},
   "outputs": [
    {
     "data": {
      "text/plain": [
       "array(['General Moisturizer', 'Eye Moisturizer', 'Toner', 'Serum',\n",
       "       'Eye Mask', 'Facial Treatment', 'Bath & Body', 'Wet Mask',\n",
       "       'Sheet Mask', 'Essence', 'Oil', 'Makeup Remover', 'Overnight Mask',\n",
       "       'Other', 'Exfoliator', 'Shampoo', 'Face Cleanser', 'Sunscreen',\n",
       "       'Hand Care', 'Sunscreen\\n50 SPF', 'Night Moisturizer',\n",
       "       'Face Makeup\\n50 SPF', 'Day Moisturizer', 'Tanning', 'Lip Makeup',\n",
       "       'General Moisturizer\\n30 SPF', 'Other Haircare', 'Face Makeup',\n",
       "       'Sunscreen\\n30 SPF', 'Day Moisturizer\\n30 SPF', 'Eye Makeup',\n",
       "       'Lip Moisturizer\\n30 SPF', 'Face Makeup\\n25 SPF',\n",
       "       'Lip Moisturizer', 'Lip Moisturizer\\n25 SPF', 'Conditioner',\n",
       "       'Sunscreen\\n35 SPF', 'Cheek Makeup', 'Emulsion',\n",
       "       'Sunscreen\\n20 SPF', 'Lip Mask', 'Sunscreen\\n45 SPF',\n",
       "       'Lip Moisturizer\\n15 SPF', 'Bath & Body\\n50 SPF',\n",
       "       'Sunscreen\\n55 SPF', 'Sunscreen\\n15 SPF', 'Face Makeup\\n23 SPF',\n",
       "       'Sunscreen\\n25 SPF', 'Day Moisturizer\\n15 SPF',\n",
       "       'General Moisturizer\\n25 SPF', 'Face Makeup\\n35 SPF',\n",
       "       'Day Moisturizer\\n25 SPF', 'Day Moisturizer\\n23 SPF',\n",
       "       'Sunscreen\\n40 SPF', 'Face Makeup\\n15 SPF', 'Nail Care',\n",
       "       'Other\\n35 SPF', 'Face Makeup\\n20 SPF', 'Lip Moisturizer\\n50 SPF',\n",
       "       'Sunscreen\\n41 SPF', 'Hand Care\\n25 SPF',\n",
       "       'Day Moisturizer\\n35 SPF', 'Face Makeup\\n30 SPF',\n",
       "       'Tanning\\n15 SPF', 'Face Makeup\\n45 SPF',\n",
       "       'Day Moisturizer\\n46 SPF', 'Tool', 'Sunscreen\\n34 SPF',\n",
       "       'Sunscreen\\n60 SPF', '', 'Serum\\n40 SPF',\n",
       "       'Day Moisturizer\\n40 SPF', 'General Moisturizer\\n20 SPF',\n",
       "       'Night Moisturizer\\n30 SPF', 'Day Moisturizer\\n20 SPF',\n",
       "       'Day Moisturizer\\n50 SPF', 'Lip Moisturizer\\n40 SPF',\n",
       "       'Sunscreen\\n46 SPF', 'General Moisturizer\\n15 SPF',\n",
       "       'Sunscreen\\n70 SPF', 'Sunscreen\\n38 SPF', 'Serum\\n50 SPF',\n",
       "       'Face Makeup\\n40 SPF', 'Sunscreen\\n75 SPF',\n",
       "       'General Moisturizer\\n50 SPF', 'Tanning\\n30 SPF',\n",
       "       'Face Makeup\\n33 SPF', 'Face Makeup\\n28 SPF', 'Emulsion\\n30 SPF',\n",
       "       'False Eyelash', 'Sunscreen\\n32 SPF', 'Serum\\n55 SPF',\n",
       "       'Day Moisturizer\\n18 SPF', 'General Moisturizer\\n45 SPF',\n",
       "       'Sunscreen\\n44 SPF', 'Eye Moisturizer\\n15 SPF',\n",
       "       'Sunscreen\\n43 SPF', 'Lip Moisturizer\\n20 SPF', 'Tanning\\n25 SPF',\n",
       "       'Lip Moisturizer\\n45 SPF', 'Eye Moisturizer\\n30 SPF',\n",
       "       'Makeup Applicator', 'Face Makeup\\n27 SPF',\n",
       "       'Eye Moisturizer\\n20 SPF', 'Sunscreen\\n42 SPF',\n",
       "       'Sunscreen\\n68 SPF', 'Sunscreen\\n36 SPF',\n",
       "       'General Moisturizer\\n42 SPF', 'Fragrance', 'Other\\n30 SPF',\n",
       "       'Serum\\n30 SPF', 'Facial Treatment\\n50 SPF', 'Sunscreen\\n47 SPF',\n",
       "       'Sunscreen\\n100 SPF', 'Lip Makeup\\n15 SPF', 'Serum\\n60 SPF',\n",
       "       'Sunscreen\\n90 SPF', 'Sunscreen\\n33 SPF',\n",
       "       'Lip Moisturizer\\n11 SPF', 'Facial Treatment\\n20 SPF',\n",
       "       'Serum\\n45 SPF', 'Bath & Body\\n15 SPF'], dtype=object)"
      ]
     },
     "execution_count": 40,
     "metadata": {},
     "output_type": "execute_result"
    }
   ],
   "source": [
    "skincare.Type.unique()"
   ]
  },
  {
   "cell_type": "code",
   "execution_count": 41,
   "id": "5e53d186",
   "metadata": {},
   "outputs": [],
   "source": [
    "skincare['Type'] = skincare['Type'].str.replace('\\n', ' ').str.strip()\n"
   ]
  },
  {
   "cell_type": "code",
   "execution_count": 42,
   "id": "b57de5c7",
   "metadata": {},
   "outputs": [
    {
     "data": {
      "text/plain": [
       "array(['General Moisturizer', 'Eye Moisturizer', 'Toner', 'Serum',\n",
       "       'Eye Mask', 'Facial Treatment', 'Bath & Body', 'Wet Mask',\n",
       "       'Sheet Mask', 'Essence', 'Oil', 'Makeup Remover', 'Overnight Mask',\n",
       "       'Other', 'Exfoliator', 'Shampoo', 'Face Cleanser', 'Sunscreen',\n",
       "       'Hand Care', 'Sunscreen 50 SPF', 'Night Moisturizer',\n",
       "       'Face Makeup 50 SPF', 'Day Moisturizer', 'Tanning', 'Lip Makeup',\n",
       "       'General Moisturizer 30 SPF', 'Other Haircare', 'Face Makeup',\n",
       "       'Sunscreen 30 SPF', 'Day Moisturizer 30 SPF', 'Eye Makeup',\n",
       "       'Lip Moisturizer 30 SPF', 'Face Makeup 25 SPF', 'Lip Moisturizer',\n",
       "       'Lip Moisturizer 25 SPF', 'Conditioner', 'Sunscreen 35 SPF',\n",
       "       'Cheek Makeup', 'Emulsion', 'Sunscreen 20 SPF', 'Lip Mask',\n",
       "       'Sunscreen 45 SPF', 'Lip Moisturizer 15 SPF', 'Bath & Body 50 SPF',\n",
       "       'Sunscreen 55 SPF', 'Sunscreen 15 SPF', 'Face Makeup 23 SPF',\n",
       "       'Sunscreen 25 SPF', 'Day Moisturizer 15 SPF',\n",
       "       'General Moisturizer 25 SPF', 'Face Makeup 35 SPF',\n",
       "       'Day Moisturizer 25 SPF', 'Day Moisturizer 23 SPF',\n",
       "       'Sunscreen 40 SPF', 'Face Makeup 15 SPF', 'Nail Care',\n",
       "       'Other 35 SPF', 'Face Makeup 20 SPF', 'Lip Moisturizer 50 SPF',\n",
       "       'Sunscreen 41 SPF', 'Hand Care 25 SPF', 'Day Moisturizer 35 SPF',\n",
       "       'Face Makeup 30 SPF', 'Tanning 15 SPF', 'Face Makeup 45 SPF',\n",
       "       'Day Moisturizer 46 SPF', 'Tool', 'Sunscreen 34 SPF',\n",
       "       'Sunscreen 60 SPF', '', 'Serum 40 SPF', 'Day Moisturizer 40 SPF',\n",
       "       'General Moisturizer 20 SPF', 'Night Moisturizer 30 SPF',\n",
       "       'Day Moisturizer 20 SPF', 'Day Moisturizer 50 SPF',\n",
       "       'Lip Moisturizer 40 SPF', 'Sunscreen 46 SPF',\n",
       "       'General Moisturizer 15 SPF', 'Sunscreen 70 SPF',\n",
       "       'Sunscreen 38 SPF', 'Serum 50 SPF', 'Face Makeup 40 SPF',\n",
       "       'Sunscreen 75 SPF', 'General Moisturizer 50 SPF', 'Tanning 30 SPF',\n",
       "       'Face Makeup 33 SPF', 'Face Makeup 28 SPF', 'Emulsion 30 SPF',\n",
       "       'False Eyelash', 'Sunscreen 32 SPF', 'Serum 55 SPF',\n",
       "       'Day Moisturizer 18 SPF', 'General Moisturizer 45 SPF',\n",
       "       'Sunscreen 44 SPF', 'Eye Moisturizer 15 SPF', 'Sunscreen 43 SPF',\n",
       "       'Lip Moisturizer 20 SPF', 'Tanning 25 SPF',\n",
       "       'Lip Moisturizer 45 SPF', 'Eye Moisturizer 30 SPF',\n",
       "       'Makeup Applicator', 'Face Makeup 27 SPF',\n",
       "       'Eye Moisturizer 20 SPF', 'Sunscreen 42 SPF', 'Sunscreen 68 SPF',\n",
       "       'Sunscreen 36 SPF', 'General Moisturizer 42 SPF', 'Fragrance',\n",
       "       'Other 30 SPF', 'Serum 30 SPF', 'Facial Treatment 50 SPF',\n",
       "       'Sunscreen 47 SPF', 'Sunscreen 100 SPF', 'Lip Makeup 15 SPF',\n",
       "       'Serum 60 SPF', 'Sunscreen 90 SPF', 'Sunscreen 33 SPF',\n",
       "       'Lip Moisturizer 11 SPF', 'Facial Treatment 20 SPF',\n",
       "       'Serum 45 SPF', 'Bath & Body 15 SPF'], dtype=object)"
      ]
     },
     "execution_count": 42,
     "metadata": {},
     "output_type": "execute_result"
    }
   ],
   "source": [
    "skincare.Type.unique()"
   ]
  },
  {
   "cell_type": "code",
   "execution_count": 43,
   "id": "32870aaa",
   "metadata": {},
   "outputs": [],
   "source": [
    "skincare['Type'] = skincare['Type'].str.replace(r'\\d+ SPF', '')\n"
   ]
  },
  {
   "cell_type": "code",
   "execution_count": 44,
   "id": "24fd9dd8",
   "metadata": {},
   "outputs": [
    {
     "data": {
      "text/plain": [
       "array(['General Moisturizer', 'Eye Moisturizer', 'Toner', 'Serum',\n",
       "       'Eye Mask', 'Facial Treatment', 'Bath & Body', 'Wet Mask',\n",
       "       'Sheet Mask', 'Essence', 'Oil', 'Makeup Remover', 'Overnight Mask',\n",
       "       'Other', 'Exfoliator', 'Shampoo', 'Face Cleanser', 'Sunscreen',\n",
       "       'Hand Care', 'Sunscreen ', 'Night Moisturizer', 'Face Makeup ',\n",
       "       'Day Moisturizer', 'Tanning', 'Lip Makeup', 'General Moisturizer ',\n",
       "       'Other Haircare', 'Face Makeup', 'Day Moisturizer ', 'Eye Makeup',\n",
       "       'Lip Moisturizer ', 'Lip Moisturizer', 'Conditioner',\n",
       "       'Cheek Makeup', 'Emulsion', 'Lip Mask', 'Bath & Body ',\n",
       "       'Nail Care', 'Other ', 'Hand Care ', 'Tanning ', 'Tool', '',\n",
       "       'Serum ', 'Night Moisturizer ', 'Emulsion ', 'False Eyelash',\n",
       "       'Eye Moisturizer ', 'Makeup Applicator', 'Fragrance',\n",
       "       'Facial Treatment ', 'Lip Makeup '], dtype=object)"
      ]
     },
     "execution_count": 44,
     "metadata": {},
     "output_type": "execute_result"
    }
   ],
   "source": [
    "skincare.Type.unique()"
   ]
  },
  {
   "cell_type": "code",
   "execution_count": 45,
   "id": "3e5e91a1",
   "metadata": {},
   "outputs": [],
   "source": [
    "skincare = skincare.loc[skincare['Type'] != '']\n"
   ]
  },
  {
   "cell_type": "code",
   "execution_count": 46,
   "id": "8bf2f71b",
   "metadata": {},
   "outputs": [],
   "source": [
    "skincare['Type'] = skincare['Type'].str.strip()"
   ]
  },
  {
   "cell_type": "code",
   "execution_count": 47,
   "id": "2acaf8a4",
   "metadata": {},
   "outputs": [
    {
     "data": {
      "text/plain": [
       "Serum                  8477\n",
       "General Moisturizer    6051\n",
       "Face Cleanser          3897\n",
       "Sunscreen              2891\n",
       "Toner                  2623\n",
       "Facial Treatment       2351\n",
       "Eye Moisturizer        2254\n",
       "Bath & Body            1820\n",
       "Exfoliator             1792\n",
       "Face Makeup            1435\n",
       "Wet Mask               1339\n",
       "Night Moisturizer      1244\n",
       "Day Moisturizer        1142\n",
       "Sheet Mask              985\n",
       "Lip Moisturizer         804\n",
       "Essence                 756\n",
       "Makeup Remover          752\n",
       "Oil                     635\n",
       "Overnight Mask          624\n",
       "Eye Makeup              384\n",
       "Eye Mask                384\n",
       "Other Haircare          372\n",
       "Shampoo                 311\n",
       "Other                   307\n",
       "Lip Makeup              298\n",
       "Tanning                 257\n",
       "Conditioner             193\n",
       "Cheek Makeup            125\n",
       "Hand Care               123\n",
       "Lip Mask                110\n",
       "Emulsion                101\n",
       "Nail Care                92\n",
       "Tool                     39\n",
       "Fragrance                 9\n",
       "False Eyelash             6\n",
       "Makeup Applicator         6\n",
       "Name: Type, dtype: int64"
      ]
     },
     "execution_count": 47,
     "metadata": {},
     "output_type": "execute_result"
    }
   ],
   "source": [
    "skincare.Type.value_counts()"
   ]
  },
  {
   "cell_type": "markdown",
   "id": "5c05fb4f",
   "metadata": {},
   "source": [
    "Eliminamos aquellos productos que no son específicos del cuidado facial."
   ]
  },
  {
   "cell_type": "code",
   "execution_count": 48,
   "id": "21f3e2ab",
   "metadata": {},
   "outputs": [],
   "source": [
    "indices = skincare.index[skincare['Type'].isin(['Other Haircare', 'Shampoo', 'Lip Makeup', 'Tanning', 'Conditioner', 'Cheek Makeup', 'Hand Care', 'Nail Care', 'Tool', 'Fragrance', 'False Eyelash', 'Makeup Applicator', 'Eye Makeup'])]"
   ]
  },
  {
   "cell_type": "code",
   "execution_count": 49,
   "id": "beb7ac11",
   "metadata": {},
   "outputs": [],
   "source": [
    "skincare = skincare.drop(indices)"
   ]
  },
  {
   "cell_type": "code",
   "execution_count": 50,
   "id": "b1ba6d3f",
   "metadata": {},
   "outputs": [
    {
     "data": {
      "text/plain": [
       "Serum                  8477\n",
       "General Moisturizer    6051\n",
       "Face Cleanser          3897\n",
       "Sunscreen              2891\n",
       "Toner                  2623\n",
       "Facial Treatment       2351\n",
       "Eye Moisturizer        2254\n",
       "Bath & Body            1820\n",
       "Exfoliator             1792\n",
       "Face Makeup            1435\n",
       "Wet Mask               1339\n",
       "Night Moisturizer      1244\n",
       "Day Moisturizer        1142\n",
       "Sheet Mask              985\n",
       "Lip Moisturizer         804\n",
       "Essence                 756\n",
       "Makeup Remover          752\n",
       "Oil                     635\n",
       "Overnight Mask          624\n",
       "Eye Mask                384\n",
       "Other                   307\n",
       "Lip Mask                110\n",
       "Emulsion                101\n",
       "Name: Type, dtype: int64"
      ]
     },
     "execution_count": 50,
     "metadata": {},
     "output_type": "execute_result"
    }
   ],
   "source": [
    "skincare.Type.value_counts()"
   ]
  },
  {
   "cell_type": "code",
   "execution_count": 51,
   "id": "caa8dabe",
   "metadata": {},
   "outputs": [
    {
     "data": {
      "text/plain": [
       "array(['Natural Moisturizing Factors + HA', 'Eye Repair Cream',\n",
       "       'Supple Preparation Unscented Toner',\n",
       "       'Freshly Juiced Vitamin Drop', 'Squalane + Peptide Eye Gel',\n",
       "       'Rose & Pomegranate Face Cream Moisturizer',\n",
       "       'Gokujyun Premium Lotion',\n",
       "       'Moisture Surge 72-Hour Auto-Replenishing Hydrator',\n",
       "       'Moisture Surge™ 100-Hour Auto-Replenishing Hydrator',\n",
       "       'Bifida Biome Aqua Barrier Cream',\n",
       "       'Youth Recovery & Blemish Defense Night Serum',\n",
       "       'Supple Preparation Facial Toner',\n",
       "       'Green Tangerine Vita C Dark Spot Serum',\n",
       "       'Vitamin C Super Serum Plus', 'TGF-B Booster',\n",
       "       'Cica Care Clearing Ampoule',\n",
       "       'Avocado Melt Retinol Eye Sleeping Mask',\n",
       "       'Vita C Plus Spot Correcting & Firming Ampoule',\n",
       "       'Stem Cellular Instant Eye Lift Algae Mask - Single',\n",
       "       'Hidratante Firmador'], dtype=object)"
      ]
     },
     "execution_count": 51,
     "metadata": {},
     "output_type": "execute_result"
    }
   ],
   "source": [
    "skincare.Name.unique()[:20]"
   ]
  },
  {
   "cell_type": "code",
   "execution_count": 52,
   "id": "cc32c014",
   "metadata": {},
   "outputs": [
    {
     "data": {
      "text/plain": [
       "Paula's Choice       588\n",
       "Neutrogena           582\n",
       "La Roche-Posay       451\n",
       "Olay                 337\n",
       "Eminence Organics    318\n",
       "                    ... \n",
       "Allies of Skin       102\n",
       "Philosophy           102\n",
       "Rovectin             101\n",
       "Gold Bond            100\n",
       "Mediheal              97\n",
       "Name: Brand, Length: 100, dtype: int64"
      ]
     },
     "execution_count": 52,
     "metadata": {},
     "output_type": "execute_result"
    }
   ],
   "source": [
    "skincare.Brand.value_counts()[:100]"
   ]
  },
  {
   "cell_type": "markdown",
   "id": "cdf60c52",
   "metadata": {},
   "source": [
    "Vamos a eliminar todas aquellas marcas que tengan menos de 50 productos , para quedarnos con las marcas que sean mas conocidas y sencillo de conseguir."
   ]
  },
  {
   "cell_type": "code",
   "execution_count": 53,
   "id": "c90ebb32",
   "metadata": {},
   "outputs": [],
   "source": [
    "skincare= skincare.groupby('Brand').filter(lambda x: len(x) >= 50)\n"
   ]
  },
  {
   "cell_type": "code",
   "execution_count": 54,
   "id": "e47cf2af",
   "metadata": {},
   "outputs": [
    {
     "data": {
      "text/plain": [
       "Paula's Choice       588\n",
       "Neutrogena           582\n",
       "La Roche-Posay       451\n",
       "Olay                 337\n",
       "Eminence Organics    318\n",
       "                    ... \n",
       "Algenist              51\n",
       "Principia             50\n",
       "alpyn beauty          50\n",
       "HYGGEE                50\n",
       "Herbivore             50\n",
       "Name: Brand, Length: 214, dtype: int64"
      ]
     },
     "execution_count": 54,
     "metadata": {},
     "output_type": "execute_result"
    }
   ],
   "source": [
    "skincare.Brand.value_counts()"
   ]
  },
  {
   "cell_type": "code",
   "execution_count": 55,
   "id": "49373eb5",
   "metadata": {},
   "outputs": [
    {
     "name": "stdout",
     "output_type": "stream",
     "text": [
      "<class 'pandas.core.frame.DataFrame'>\n",
      "Int64Index: 26001 entries, 0 to 45297\n",
      "Data columns (total 4 columns):\n",
      " #   Column  Non-Null Count  Dtype \n",
      "---  ------  --------------  ----- \n",
      " 0   Type    26001 non-null  object\n",
      " 1   Brand   26001 non-null  object\n",
      " 2   Name    26001 non-null  object\n",
      " 3   Skin    26001 non-null  object\n",
      "dtypes: object(4)\n",
      "memory usage: 1015.7+ KB\n"
     ]
    }
   ],
   "source": [
    "skincare.info()\n"
   ]
  },
  {
   "cell_type": "code",
   "execution_count": 56,
   "id": "5d4e62bc",
   "metadata": {},
   "outputs": [],
   "source": [
    "skincare = skincare.reset_index(drop=True)"
   ]
  },
  {
   "cell_type": "code",
   "execution_count": 57,
   "id": "c659ad98",
   "metadata": {},
   "outputs": [
    {
     "data": {
      "text/html": [
       "<div>\n",
       "<style scoped>\n",
       "    .dataframe tbody tr th:only-of-type {\n",
       "        vertical-align: middle;\n",
       "    }\n",
       "\n",
       "    .dataframe tbody tr th {\n",
       "        vertical-align: top;\n",
       "    }\n",
       "\n",
       "    .dataframe thead th {\n",
       "        text-align: right;\n",
       "    }\n",
       "</style>\n",
       "<table border=\"1\" class=\"dataframe\">\n",
       "  <thead>\n",
       "    <tr style=\"text-align: right;\">\n",
       "      <th></th>\n",
       "      <th>Type</th>\n",
       "      <th>Brand</th>\n",
       "      <th>Name</th>\n",
       "      <th>Skin</th>\n",
       "    </tr>\n",
       "  </thead>\n",
       "  <tbody>\n",
       "    <tr>\n",
       "      <th>0</th>\n",
       "      <td>General Moisturizer</td>\n",
       "      <td>The Ordinary</td>\n",
       "      <td>Natural Moisturizing Factors + HA</td>\n",
       "      <td>dry</td>\n",
       "    </tr>\n",
       "    <tr>\n",
       "      <th>1</th>\n",
       "      <td>Eye Moisturizer</td>\n",
       "      <td>CeraVe</td>\n",
       "      <td>Eye Repair Cream</td>\n",
       "      <td>dry</td>\n",
       "    </tr>\n",
       "    <tr>\n",
       "      <th>2</th>\n",
       "      <td>Toner</td>\n",
       "      <td>Dear, Klairs</td>\n",
       "      <td>Supple Preparation Unscented Toner</td>\n",
       "      <td>dry</td>\n",
       "    </tr>\n",
       "    <tr>\n",
       "      <th>3</th>\n",
       "      <td>Serum</td>\n",
       "      <td>Dear, Klairs</td>\n",
       "      <td>Freshly Juiced Vitamin Drop</td>\n",
       "      <td>dry</td>\n",
       "    </tr>\n",
       "    <tr>\n",
       "      <th>4</th>\n",
       "      <td>Eye Moisturizer</td>\n",
       "      <td>Biossance</td>\n",
       "      <td>Squalane + Peptide Eye Gel</td>\n",
       "      <td>dry</td>\n",
       "    </tr>\n",
       "  </tbody>\n",
       "</table>\n",
       "</div>"
      ],
      "text/plain": [
       "                  Type         Brand                                Name Skin\n",
       "0  General Moisturizer  The Ordinary   Natural Moisturizing Factors + HA  dry\n",
       "1      Eye Moisturizer        CeraVe                    Eye Repair Cream  dry\n",
       "2                Toner  Dear, Klairs  Supple Preparation Unscented Toner  dry\n",
       "3                Serum  Dear, Klairs         Freshly Juiced Vitamin Drop  dry\n",
       "4      Eye Moisturizer     Biossance          Squalane + Peptide Eye Gel  dry"
      ]
     },
     "execution_count": 57,
     "metadata": {},
     "output_type": "execute_result"
    }
   ],
   "source": [
    "skincare.head()"
   ]
  },
  {
   "cell_type": "code",
   "execution_count": 58,
   "id": "ff321210",
   "metadata": {},
   "outputs": [],
   "source": [
    "skincare['Producto'] = skincare['Brand'] + ' ' + skincare['Name']"
   ]
  },
  {
   "cell_type": "code",
   "execution_count": 59,
   "id": "dda7ad54",
   "metadata": {},
   "outputs": [
    {
     "data": {
      "text/html": [
       "<div>\n",
       "<style scoped>\n",
       "    .dataframe tbody tr th:only-of-type {\n",
       "        vertical-align: middle;\n",
       "    }\n",
       "\n",
       "    .dataframe tbody tr th {\n",
       "        vertical-align: top;\n",
       "    }\n",
       "\n",
       "    .dataframe thead th {\n",
       "        text-align: right;\n",
       "    }\n",
       "</style>\n",
       "<table border=\"1\" class=\"dataframe\">\n",
       "  <thead>\n",
       "    <tr style=\"text-align: right;\">\n",
       "      <th></th>\n",
       "      <th>Type</th>\n",
       "      <th>Brand</th>\n",
       "      <th>Name</th>\n",
       "      <th>Skin</th>\n",
       "      <th>Producto</th>\n",
       "    </tr>\n",
       "  </thead>\n",
       "  <tbody>\n",
       "    <tr>\n",
       "      <th>0</th>\n",
       "      <td>General Moisturizer</td>\n",
       "      <td>The Ordinary</td>\n",
       "      <td>Natural Moisturizing Factors + HA</td>\n",
       "      <td>dry</td>\n",
       "      <td>The Ordinary Natural Moisturizing Factors + HA</td>\n",
       "    </tr>\n",
       "    <tr>\n",
       "      <th>1</th>\n",
       "      <td>Eye Moisturizer</td>\n",
       "      <td>CeraVe</td>\n",
       "      <td>Eye Repair Cream</td>\n",
       "      <td>dry</td>\n",
       "      <td>CeraVe Eye Repair Cream</td>\n",
       "    </tr>\n",
       "    <tr>\n",
       "      <th>2</th>\n",
       "      <td>Toner</td>\n",
       "      <td>Dear, Klairs</td>\n",
       "      <td>Supple Preparation Unscented Toner</td>\n",
       "      <td>dry</td>\n",
       "      <td>Dear, Klairs Supple Preparation Unscented Toner</td>\n",
       "    </tr>\n",
       "    <tr>\n",
       "      <th>3</th>\n",
       "      <td>Serum</td>\n",
       "      <td>Dear, Klairs</td>\n",
       "      <td>Freshly Juiced Vitamin Drop</td>\n",
       "      <td>dry</td>\n",
       "      <td>Dear, Klairs Freshly Juiced Vitamin Drop</td>\n",
       "    </tr>\n",
       "    <tr>\n",
       "      <th>4</th>\n",
       "      <td>Eye Moisturizer</td>\n",
       "      <td>Biossance</td>\n",
       "      <td>Squalane + Peptide Eye Gel</td>\n",
       "      <td>dry</td>\n",
       "      <td>Biossance Squalane + Peptide Eye Gel</td>\n",
       "    </tr>\n",
       "  </tbody>\n",
       "</table>\n",
       "</div>"
      ],
      "text/plain": [
       "                  Type         Brand                                Name Skin  \\\n",
       "0  General Moisturizer  The Ordinary   Natural Moisturizing Factors + HA  dry   \n",
       "1      Eye Moisturizer        CeraVe                    Eye Repair Cream  dry   \n",
       "2                Toner  Dear, Klairs  Supple Preparation Unscented Toner  dry   \n",
       "3                Serum  Dear, Klairs         Freshly Juiced Vitamin Drop  dry   \n",
       "4      Eye Moisturizer     Biossance          Squalane + Peptide Eye Gel  dry   \n",
       "\n",
       "                                          Producto  \n",
       "0   The Ordinary Natural Moisturizing Factors + HA  \n",
       "1                          CeraVe Eye Repair Cream  \n",
       "2  Dear, Klairs Supple Preparation Unscented Toner  \n",
       "3         Dear, Klairs Freshly Juiced Vitamin Drop  \n",
       "4             Biossance Squalane + Peptide Eye Gel  "
      ]
     },
     "execution_count": 59,
     "metadata": {},
     "output_type": "execute_result"
    }
   ],
   "source": [
    "skincare.head()"
   ]
  },
  {
   "cell_type": "code",
   "execution_count": 60,
   "id": "06f6decc",
   "metadata": {},
   "outputs": [
    {
     "data": {
      "text/plain": [
       "PURITO AHA BHA Refreshing Solution                                                      14\n",
       "Revolution Beauty Multi Acid Peeling Solution                                           14\n",
       "SLMD Glycolic Acid Body Lotion                                                          12\n",
       "TONYMOLY Firming Ampoule                                                                10\n",
       "SkinBetter Science AlphaRet Overnight Cream                                             10\n",
       "                                                                                        ..\n",
       "Allies of Skin Peptide & Antioxidants Firming Daily Treatment                            9\n",
       "Derma E Anti Wrinkle Cream                                                               9\n",
       "Pacifica Wake Up Beautiful Retinoid Serum                                                9\n",
       "Skintific 5X Ceramide Low PH Cleanser                                                    9\n",
       "Peter Thomas Roth Max Sheer All Day Moisture Defense® Lotion SPF 30 Sunscreen Lotion     9\n",
       "Name: Producto, Length: 250, dtype: int64"
      ]
     },
     "execution_count": 60,
     "metadata": {},
     "output_type": "execute_result"
    }
   ],
   "source": [
    "skincare.Producto.value_counts()[:250]"
   ]
  },
  {
   "cell_type": "code",
   "execution_count": 61,
   "id": "643d2117",
   "metadata": {},
   "outputs": [
    {
     "data": {
      "text/plain": [
       "Paula's Choice       588\n",
       "Neutrogena           582\n",
       "La Roche-Posay       451\n",
       "Olay                 337\n",
       "Eminence Organics    318\n",
       "                    ... \n",
       "Algenist              51\n",
       "Principia             50\n",
       "alpyn beauty          50\n",
       "HYGGEE                50\n",
       "Herbivore             50\n",
       "Name: Brand, Length: 214, dtype: int64"
      ]
     },
     "execution_count": 61,
     "metadata": {},
     "output_type": "execute_result"
    }
   ],
   "source": [
    "skincare.Brand.value_counts()"
   ]
  },
  {
   "cell_type": "code",
   "execution_count": 62,
   "id": "8a5cfeac",
   "metadata": {},
   "outputs": [
    {
     "data": {
      "text/plain": [
       "6181"
      ]
     },
     "execution_count": 62,
     "metadata": {},
     "output_type": "execute_result"
    }
   ],
   "source": [
    "len(skincare.Producto.unique())"
   ]
  },
  {
   "cell_type": "code",
   "execution_count": 70,
   "id": "3aee1cde",
   "metadata": {},
   "outputs": [],
   "source": [
    "skincare= skincare.groupby('Producto').filter(lambda x: len(x) >= 5)"
   ]
  },
  {
   "cell_type": "code",
   "execution_count": 71,
   "id": "565140c7",
   "metadata": {},
   "outputs": [
    {
     "data": {
      "text/plain": [
       "Revolution Beauty Multi Acid Peeling Solution        14\n",
       "PURITO AHA BHA Refreshing Solution                   14\n",
       "SLMD Glycolic Acid Body Lotion                       12\n",
       "BRTC Vitalizer C-10 Ampoule Rich in Vitamin C        10\n",
       "Sallve Antioxidante Hidratante                       10\n",
       "                                                     ..\n",
       "Mary & May Hyaluronic Panthenol Hydra Mask            5\n",
       "Pacifica Dry It Out Acne Gel Spot Treatment           5\n",
       "Some By Mi Rose Intensive Tone-Up Cream               5\n",
       "The Purest Solutions Niacinamide 5% + Zinc PCA 1%     5\n",
       "Shiseido White Lucent Anti-Dark Circles Eye Cream     5\n",
       "Name: Producto, Length: 2634, dtype: int64"
      ]
     },
     "execution_count": 71,
     "metadata": {},
     "output_type": "execute_result"
    }
   ],
   "source": [
    "skincare.Producto.value_counts()"
   ]
  },
  {
   "cell_type": "code",
   "execution_count": 72,
   "id": "212a8a58",
   "metadata": {},
   "outputs": [
    {
     "data": {
      "text/plain": [
       "Serum                  3781\n",
       "General Moisturizer    2461\n",
       "Face Cleanser          1492\n",
       "Eye Moisturizer        1227\n",
       "Toner                  1187\n",
       "Facial Treatment       1146\n",
       "Exfoliator              931\n",
       "Sunscreen               873\n",
       "Bath & Body             711\n",
       "Night Moisturizer       667\n",
       "Wet Mask                591\n",
       "Day Moisturizer         520\n",
       "Sheet Mask              379\n",
       "Face Makeup             327\n",
       "Essence                 297\n",
       "Overnight Mask          249\n",
       "Oil                     201\n",
       "Lip Moisturizer         164\n",
       "Makeup Remover          150\n",
       "Eye Mask                133\n",
       "Other                    99\n",
       "Emulsion                 23\n",
       "Lip Mask                 10\n",
       "Name: Type, dtype: int64"
      ]
     },
     "execution_count": 72,
     "metadata": {},
     "output_type": "execute_result"
    }
   ],
   "source": [
    "skincare.Type.value_counts()"
   ]
  },
  {
   "cell_type": "code",
   "execution_count": 79,
   "id": "89b48af2",
   "metadata": {},
   "outputs": [
    {
     "data": {
      "text/html": [
       "<div>\n",
       "<style scoped>\n",
       "    .dataframe tbody tr th:only-of-type {\n",
       "        vertical-align: middle;\n",
       "    }\n",
       "\n",
       "    .dataframe tbody tr th {\n",
       "        vertical-align: top;\n",
       "    }\n",
       "\n",
       "    .dataframe thead th {\n",
       "        text-align: right;\n",
       "    }\n",
       "</style>\n",
       "<table border=\"1\" class=\"dataframe\">\n",
       "  <thead>\n",
       "    <tr style=\"text-align: right;\">\n",
       "      <th></th>\n",
       "      <th>Type</th>\n",
       "      <th>Brand</th>\n",
       "      <th>Name</th>\n",
       "      <th>Skin</th>\n",
       "      <th>Producto</th>\n",
       "    </tr>\n",
       "  </thead>\n",
       "  <tbody>\n",
       "    <tr>\n",
       "      <th>0</th>\n",
       "      <td>General Moisturizer</td>\n",
       "      <td>The Ordinary</td>\n",
       "      <td>Natural Moisturizing Factors + HA</td>\n",
       "      <td>dry</td>\n",
       "      <td>The Ordinary Natural Moisturizing Factors + HA</td>\n",
       "    </tr>\n",
       "    <tr>\n",
       "      <th>6</th>\n",
       "      <td>General Moisturizer</td>\n",
       "      <td>Clinique</td>\n",
       "      <td>Moisture Surge 72-Hour Auto-Replenishing Hydrator</td>\n",
       "      <td>dry</td>\n",
       "      <td>Clinique Moisture Surge 72-Hour Auto-Replenish...</td>\n",
       "    </tr>\n",
       "    <tr>\n",
       "      <th>7</th>\n",
       "      <td>General Moisturizer</td>\n",
       "      <td>Clinique</td>\n",
       "      <td>Moisture Surge™ 100-Hour Auto-Replenishing Hyd...</td>\n",
       "      <td>dry</td>\n",
       "      <td>Clinique Moisture Surge™ 100-Hour Auto-Repleni...</td>\n",
       "    </tr>\n",
       "    <tr>\n",
       "      <th>8</th>\n",
       "      <td>General Moisturizer</td>\n",
       "      <td>ma:nyo</td>\n",
       "      <td>Bifida Biome Aqua Barrier Cream</td>\n",
       "      <td>dry</td>\n",
       "      <td>ma:nyo Bifida Biome Aqua Barrier Cream</td>\n",
       "    </tr>\n",
       "    <tr>\n",
       "      <th>17</th>\n",
       "      <td>General Moisturizer</td>\n",
       "      <td>Sallve</td>\n",
       "      <td>Hidratante Firmador</td>\n",
       "      <td>dry</td>\n",
       "      <td>Sallve Hidratante Firmador</td>\n",
       "    </tr>\n",
       "    <tr>\n",
       "      <th>...</th>\n",
       "      <td>...</td>\n",
       "      <td>...</td>\n",
       "      <td>...</td>\n",
       "      <td>...</td>\n",
       "      <td>...</td>\n",
       "    </tr>\n",
       "    <tr>\n",
       "      <th>25967</th>\n",
       "      <td>General Moisturizer</td>\n",
       "      <td>Elizabeth Arden</td>\n",
       "      <td>Visible Difference Refining Moisture Cream Com...</td>\n",
       "      <td>texture</td>\n",
       "      <td>Elizabeth Arden Visible Difference Refining Mo...</td>\n",
       "    </tr>\n",
       "    <tr>\n",
       "      <th>25974</th>\n",
       "      <td>General Moisturizer</td>\n",
       "      <td>Dr. Dennis Gross Skincare</td>\n",
       "      <td>Hyaluronic Marine Oil-Free Moisture Cushion</td>\n",
       "      <td>texture</td>\n",
       "      <td>Dr. Dennis Gross Skincare Hyaluronic Marine Oi...</td>\n",
       "    </tr>\n",
       "    <tr>\n",
       "      <th>25978</th>\n",
       "      <td>General Moisturizer</td>\n",
       "      <td>Shiseido</td>\n",
       "      <td>White Lucent Brightening Gel Cream</td>\n",
       "      <td>texture</td>\n",
       "      <td>Shiseido White Lucent Brightening Gel Cream</td>\n",
       "    </tr>\n",
       "    <tr>\n",
       "      <th>25981</th>\n",
       "      <td>General Moisturizer</td>\n",
       "      <td>Olay</td>\n",
       "      <td>Total Effects 7inOne Face Moisturizer SPF 15</td>\n",
       "      <td>texture</td>\n",
       "      <td>Olay Total Effects 7inOne Face Moisturizer SPF 15</td>\n",
       "    </tr>\n",
       "    <tr>\n",
       "      <th>25997</th>\n",
       "      <td>General Moisturizer</td>\n",
       "      <td>Proactiv</td>\n",
       "      <td>Green Tea Moisturizer</td>\n",
       "      <td>texture</td>\n",
       "      <td>Proactiv Green Tea Moisturizer</td>\n",
       "    </tr>\n",
       "  </tbody>\n",
       "</table>\n",
       "<p>2469 rows × 5 columns</p>\n",
       "</div>"
      ],
      "text/plain": [
       "                      Type                      Brand  \\\n",
       "0      General Moisturizer               The Ordinary   \n",
       "6      General Moisturizer                   Clinique   \n",
       "7      General Moisturizer                   Clinique   \n",
       "8      General Moisturizer                     ma:nyo   \n",
       "17     General Moisturizer                     Sallve   \n",
       "...                    ...                        ...   \n",
       "25967  General Moisturizer            Elizabeth Arden   \n",
       "25974  General Moisturizer  Dr. Dennis Gross Skincare   \n",
       "25978  General Moisturizer                   Shiseido   \n",
       "25981  General Moisturizer                       Olay   \n",
       "25997  General Moisturizer                   Proactiv   \n",
       "\n",
       "                                                    Name     Skin  \\\n",
       "0                      Natural Moisturizing Factors + HA      dry   \n",
       "6      Moisture Surge 72-Hour Auto-Replenishing Hydrator      dry   \n",
       "7      Moisture Surge™ 100-Hour Auto-Replenishing Hyd...      dry   \n",
       "8                        Bifida Biome Aqua Barrier Cream      dry   \n",
       "17                                   Hidratante Firmador      dry   \n",
       "...                                                  ...      ...   \n",
       "25967  Visible Difference Refining Moisture Cream Com...  texture   \n",
       "25974        Hyaluronic Marine Oil-Free Moisture Cushion  texture   \n",
       "25978                 White Lucent Brightening Gel Cream  texture   \n",
       "25981       Total Effects 7inOne Face Moisturizer SPF 15  texture   \n",
       "25997                              Green Tea Moisturizer  texture   \n",
       "\n",
       "                                                Producto  \n",
       "0         The Ordinary Natural Moisturizing Factors + HA  \n",
       "6      Clinique Moisture Surge 72-Hour Auto-Replenish...  \n",
       "7      Clinique Moisture Surge™ 100-Hour Auto-Repleni...  \n",
       "8                 ma:nyo Bifida Biome Aqua Barrier Cream  \n",
       "17                            Sallve Hidratante Firmador  \n",
       "...                                                  ...  \n",
       "25967  Elizabeth Arden Visible Difference Refining Mo...  \n",
       "25974  Dr. Dennis Gross Skincare Hyaluronic Marine Oi...  \n",
       "25978        Shiseido White Lucent Brightening Gel Cream  \n",
       "25981  Olay Total Effects 7inOne Face Moisturizer SPF 15  \n",
       "25997                     Proactiv Green Tea Moisturizer  \n",
       "\n",
       "[2469 rows x 5 columns]"
      ]
     },
     "execution_count": 79,
     "metadata": {},
     "output_type": "execute_result"
    }
   ],
   "source": [
    " skincare.groupby('Producto').filter(lambda x: 'General Moisturizer' in x['Type'].unique())\n"
   ]
  },
  {
   "cell_type": "code",
   "execution_count": 74,
   "id": "58f47e01",
   "metadata": {},
   "outputs": [],
   "source": [
    "productos= list(skincare.Producto.unique())"
   ]
  },
  {
   "cell_type": "code",
   "execution_count": 80,
   "id": "39493159",
   "metadata": {},
   "outputs": [
    {
     "data": {
      "text/plain": [
       "2634"
      ]
     },
     "execution_count": 80,
     "metadata": {},
     "output_type": "execute_result"
    }
   ],
   "source": [
    "len(productos)"
   ]
  },
  {
   "cell_type": "code",
   "execution_count": null,
   "id": "536bec67",
   "metadata": {},
   "outputs": [],
   "source": [
    "for i in productos:\n",
    "    "
   ]
  }
 ],
 "metadata": {
  "kernelspec": {
   "display_name": "Python 3 (ipykernel)",
   "language": "python",
   "name": "python3"
  },
  "language_info": {
   "codemirror_mode": {
    "name": "ipython",
    "version": 3
   },
   "file_extension": ".py",
   "mimetype": "text/x-python",
   "name": "python",
   "nbconvert_exporter": "python",
   "pygments_lexer": "ipython3",
   "version": "3.9.13"
  }
 },
 "nbformat": 4,
 "nbformat_minor": 5
}
