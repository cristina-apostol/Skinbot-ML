{
 "cells": [
  {
   "cell_type": "code",
   "execution_count": 1,
   "id": "5177cf81",
   "metadata": {},
   "outputs": [],
   "source": [
    "import pandas as pd\n",
    "import numpy as np\n",
    "import json\n",
    "import warnings\n",
    "warnings.filterwarnings(\"ignore\")"
   ]
  },
  {
   "cell_type": "code",
   "execution_count": 2,
   "id": "ae309059",
   "metadata": {},
   "outputs": [],
   "source": [
    "with open('dry.json', 'r') as f:\n",
    "    data= f.read()\n",
    "    "
   ]
  },
  {
   "cell_type": "code",
   "execution_count": 3,
   "id": "2f3e8494",
   "metadata": {},
   "outputs": [],
   "source": [
    "dry = json.loads(data)"
   ]
  },
  {
   "cell_type": "code",
   "execution_count": 4,
   "id": "2a5f17bb",
   "metadata": {},
   "outputs": [
    {
     "data": {
      "text/plain": [
       "61"
      ]
     },
     "execution_count": 4,
     "metadata": {},
     "output_type": "execute_result"
    }
   ],
   "source": [
    "len(dry)"
   ]
  },
  {
   "cell_type": "code",
   "execution_count": 5,
   "id": "c644c7dc",
   "metadata": {},
   "outputs": [],
   "source": [
    "with open('dry.json', 'r') as f:\n",
    "    dry= f.read()\n",
    "with open('oil.json', 'r') as f:\n",
    "    oil= f.read()\n",
    "with open('acne.json', 'r') as f:\n",
    "    acne= f.read()\n",
    "with open('age.json', 'r') as f:\n",
    "    age= f.read()\n",
    "with open('brig.json', 'r') as f:\n",
    "    bright= f.read()\n",
    "with open('pores.json', 'r') as f:\n",
    "    pores= f.read()\n",
    "with open('scar.json', 'r') as f:\n",
    "    scar= f.read()\n",
    "with open('sensitive.json', 'r') as f:\n",
    "    sens= f.read()\n",
    "with open('spots.json', 'r') as f:\n",
    "    spots= f.read()\n",
    "with open('texture.json', 'r') as f:\n",
    "    text= f.read()"
   ]
  },
  {
   "cell_type": "code",
   "execution_count": 6,
   "id": "850ed6bd",
   "metadata": {},
   "outputs": [],
   "source": [
    "dry = json.loads(dry)\n",
    "oil = json.loads(oil)\n",
    "acne = json.loads(acne)\n",
    "age = json.loads(age)\n",
    "bright = json.loads(bright)\n",
    "pores = json.loads(pores)\n",
    "scar = json.loads(scar)\n",
    "sens = json.loads(sens)\n",
    "spots = json.loads(spots)\n",
    "text = json.loads(text)"
   ]
  },
  {
   "cell_type": "markdown",
   "id": "1b877cd8",
   "metadata": {},
   "source": [
    "En este caso, tenemos 61 keys, es decir 61 paginas, en cada una de ellas tenemos 3 tipos de datos, tipo, marca, y nombre, con un total de 30 productos.\n",
    "Aqui key[0], sería tipo, key[1], es marca y key[2] es el nombre del porducto"
   ]
  },
  {
   "cell_type": "code",
   "execution_count": 7,
   "id": "aef62945",
   "metadata": {},
   "outputs": [],
   "source": [
    "\n",
    "dry_keys = dry.keys()\n",
    "tipo = []\n",
    "marca = []\n",
    "nombre = []\n",
    "\n",
    "for key in dry_keys:\n",
    "   \n",
    "        tipo.append(dry[key][0])\n",
    "\n",
    "        marca.append(dry[key][1])\n",
    "  \n",
    "        nombre.append(dry[key][2])\n",
    "\n",
    "\n"
   ]
  },
  {
   "cell_type": "code",
   "execution_count": 8,
   "id": "de511dbd",
   "metadata": {},
   "outputs": [],
   "source": [
    "tipos=[]\n",
    "for i in tipo:\n",
    "    for e in i:\n",
    "        tipos.append(e)\n",
    "\n",
    "marcas=[]\n",
    "for i in marca:\n",
    "    for e in i:\n",
    "        marcas.append(e)\n",
    "\n",
    "nombres=[]        \n",
    "for i in nombre:\n",
    "    for e in i:\n",
    "        nombres.append(e)"
   ]
  },
  {
   "cell_type": "code",
   "execution_count": 9,
   "id": "de155646",
   "metadata": {},
   "outputs": [],
   "source": [
    "def obtener_listados(d):\n",
    "    tipo = []\n",
    "    marca = []\n",
    "    nombre = []\n",
    "    \n",
    "    for key in d.keys():\n",
    "        tipo.append(d[key][0])\n",
    "        marca.append(d[key][1])\n",
    "        nombre.append(d[key][2])\n",
    "        \n",
    "    tipos = [e for i in tipo for e in i]\n",
    "    marcas = [e for i in marca for e in i]\n",
    "    nombres = [e for i in nombre for e in i]\n",
    "    \n",
    "    return tipos, marcas, nombres\n"
   ]
  },
  {
   "cell_type": "code",
   "execution_count": 10,
   "id": "e4ddbd82",
   "metadata": {},
   "outputs": [],
   "source": [
    "dry_tipos, dry_marcas, dry_nombres = obtener_listados(dry)"
   ]
  },
  {
   "cell_type": "code",
   "execution_count": 11,
   "id": "e56847d8",
   "metadata": {},
   "outputs": [
    {
     "data": {
      "text/plain": [
       "1807"
      ]
     },
     "execution_count": 11,
     "metadata": {},
     "output_type": "execute_result"
    }
   ],
   "source": [
    "len(dry_tipos)"
   ]
  },
  {
   "cell_type": "code",
   "execution_count": 12,
   "id": "5fc14538",
   "metadata": {},
   "outputs": [
    {
     "data": {
      "text/plain": [
       "1807"
      ]
     },
     "execution_count": 12,
     "metadata": {},
     "output_type": "execute_result"
    }
   ],
   "source": [
    "len(dry_marcas)"
   ]
  },
  {
   "cell_type": "code",
   "execution_count": 13,
   "id": "3d599a78",
   "metadata": {},
   "outputs": [
    {
     "data": {
      "text/plain": [
       "161"
      ]
     },
     "execution_count": 13,
     "metadata": {},
     "output_type": "execute_result"
    }
   ],
   "source": [
    "len(oil)"
   ]
  },
  {
   "cell_type": "code",
   "execution_count": 14,
   "id": "a30ed43b",
   "metadata": {},
   "outputs": [],
   "source": [
    "data2 = {'Type': dry_tipos, 'Brand': dry_marcas, 'Name': dry_nombres}\n",
    "dry = pd.DataFrame(data2)\n",
    "dry['Skin'] = ['dry'] * len(dry.index)"
   ]
  },
  {
   "cell_type": "code",
   "execution_count": 15,
   "id": "5a3e24f1",
   "metadata": {},
   "outputs": [],
   "source": [
    "tipos=[]\n",
    "marcas=[]\n",
    "nombres=[]\n",
    "for lista in oil:\n",
    "    # Agregar los valores de la primera, segunda y tercera lista de cada elemento de la lista actual a las listas correspondientes\n",
    "    tipos.extend(lista[0])\n",
    "    marcas.extend(lista[1])\n",
    "    nombres.extend(lista[2])"
   ]
  },
  {
   "cell_type": "code",
   "execution_count": 16,
   "id": "5da1d633",
   "metadata": {},
   "outputs": [],
   "source": [
    "data = {'Type': tipos, 'Brand': marcas, 'Name': nombres}\n",
    "oil = pd.DataFrame(data)\n",
    "oil['Skin'] = ['oil'] * len(oil.index)"
   ]
  },
  {
   "cell_type": "code",
   "execution_count": 17,
   "id": "5121df01",
   "metadata": {},
   "outputs": [
    {
     "data": {
      "text/html": [
       "<div>\n",
       "<style scoped>\n",
       "    .dataframe tbody tr th:only-of-type {\n",
       "        vertical-align: middle;\n",
       "    }\n",
       "\n",
       "    .dataframe tbody tr th {\n",
       "        vertical-align: top;\n",
       "    }\n",
       "\n",
       "    .dataframe thead th {\n",
       "        text-align: right;\n",
       "    }\n",
       "</style>\n",
       "<table border=\"1\" class=\"dataframe\">\n",
       "  <thead>\n",
       "    <tr style=\"text-align: right;\">\n",
       "      <th></th>\n",
       "      <th>Type</th>\n",
       "      <th>Brand</th>\n",
       "      <th>Name</th>\n",
       "      <th>Skin</th>\n",
       "    </tr>\n",
       "  </thead>\n",
       "  <tbody>\n",
       "    <tr>\n",
       "      <th>4812</th>\n",
       "      <td>Face Makeup</td>\n",
       "      <td>By Terry</td>\n",
       "      <td>Hyaluronic Hydra-Foundation</td>\n",
       "      <td>oil</td>\n",
       "    </tr>\n",
       "    <tr>\n",
       "      <th>4813</th>\n",
       "      <td>Makeup Remover</td>\n",
       "      <td>Lancôme</td>\n",
       "      <td>Lait Galatéis Douceur</td>\n",
       "      <td>oil</td>\n",
       "    </tr>\n",
       "    <tr>\n",
       "      <th>4814</th>\n",
       "      <td>Sunscreen\\n50 SPF</td>\n",
       "      <td>Dr. Oracle</td>\n",
       "      <td>A-Thera Sunblock SPF 50</td>\n",
       "      <td>oil</td>\n",
       "    </tr>\n",
       "    <tr>\n",
       "      <th>4815</th>\n",
       "      <td>Face Makeup\\n50 SPF</td>\n",
       "      <td>Laneige</td>\n",
       "      <td>Skin Veil Luminizing Base with SPF50</td>\n",
       "      <td>oil</td>\n",
       "    </tr>\n",
       "    <tr>\n",
       "      <th>4816</th>\n",
       "      <td>Face Makeup</td>\n",
       "      <td>Holika Holika</td>\n",
       "      <td>Clearing Petit BB</td>\n",
       "      <td>oil</td>\n",
       "    </tr>\n",
       "  </tbody>\n",
       "</table>\n",
       "</div>"
      ],
      "text/plain": [
       "                     Type          Brand  \\\n",
       "4812          Face Makeup       By Terry   \n",
       "4813       Makeup Remover        Lancôme   \n",
       "4814    Sunscreen\\n50 SPF     Dr. Oracle   \n",
       "4815  Face Makeup\\n50 SPF        Laneige   \n",
       "4816          Face Makeup  Holika Holika   \n",
       "\n",
       "                                      Name Skin  \n",
       "4812           Hyaluronic Hydra-Foundation  oil  \n",
       "4813                 Lait Galatéis Douceur  oil  \n",
       "4814               A-Thera Sunblock SPF 50  oil  \n",
       "4815  Skin Veil Luminizing Base with SPF50  oil  \n",
       "4816                     Clearing Petit BB  oil  "
      ]
     },
     "execution_count": 17,
     "metadata": {},
     "output_type": "execute_result"
    }
   ],
   "source": [
    "oil.tail()"
   ]
  },
  {
   "cell_type": "code",
   "execution_count": 18,
   "id": "cf50d48d",
   "metadata": {},
   "outputs": [],
   "source": [
    "total = pd.concat([dry,oil], axis=0)"
   ]
  },
  {
   "cell_type": "code",
   "execution_count": 19,
   "id": "4dfc4dd5",
   "metadata": {},
   "outputs": [],
   "source": [
    "def obtener_listados(lista):\n",
    "    tipos = []\n",
    "    marcas = []\n",
    "    nombres = []\n",
    "    for elemento in lista:\n",
    "        tipos.extend(elemento[0])\n",
    "        marcas.extend(elemento[1])\n",
    "        nombres.extend(elemento[2])\n",
    "    return tipos, marcas, nombres\n",
    "\n",
    "tipos1, marcas1, nombres1 = obtener_listados(acne)\n",
    "tipos2, marcas2, nombres2 = obtener_listados(age)\n",
    "tipos3, marcas3, nombres3 = obtener_listados(bright)\n",
    "tipos4, marcas4, nombres4 = obtener_listados(pores)\n",
    "tipos5, marcas5, nombres5 = obtener_listados(scar)\n",
    "tipos6, marcas6, nombres6 = obtener_listados(sens)\n",
    "tipos7, marcas7, nombres7 = obtener_listados(spots)\n",
    "tipos8, marcas8, nombres8 = obtener_listados(text)\n"
   ]
  },
  {
   "cell_type": "code",
   "execution_count": 20,
   "id": "38d1bbfd",
   "metadata": {},
   "outputs": [],
   "source": [
    "data3 = {'Type': tipos1, 'Brand': marcas1, 'Name': nombres1}\n",
    "acne = pd.DataFrame(data3)\n",
    "acne['Skin'] = ['acne'] * len(acne.index)"
   ]
  },
  {
   "cell_type": "code",
   "execution_count": 21,
   "id": "3a751298",
   "metadata": {},
   "outputs": [
    {
     "data": {
      "text/html": [
       "<div>\n",
       "<style scoped>\n",
       "    .dataframe tbody tr th:only-of-type {\n",
       "        vertical-align: middle;\n",
       "    }\n",
       "\n",
       "    .dataframe tbody tr th {\n",
       "        vertical-align: top;\n",
       "    }\n",
       "\n",
       "    .dataframe thead th {\n",
       "        text-align: right;\n",
       "    }\n",
       "</style>\n",
       "<table border=\"1\" class=\"dataframe\">\n",
       "  <thead>\n",
       "    <tr style=\"text-align: right;\">\n",
       "      <th></th>\n",
       "      <th>Type</th>\n",
       "      <th>Brand</th>\n",
       "      <th>Name</th>\n",
       "      <th>Skin</th>\n",
       "    </tr>\n",
       "  </thead>\n",
       "  <tbody>\n",
       "    <tr>\n",
       "      <th>3779</th>\n",
       "      <td>General Moisturizer</td>\n",
       "      <td>Neutrogena</td>\n",
       "      <td>Clear &amp; Defend Oil-Free Moisturiser</td>\n",
       "      <td>acne</td>\n",
       "    </tr>\n",
       "    <tr>\n",
       "      <th>3780</th>\n",
       "      <td>Face Makeup\\n50 SPF</td>\n",
       "      <td>Laneige</td>\n",
       "      <td>Skin Veil Luminizing Base with SPF50</td>\n",
       "      <td>acne</td>\n",
       "    </tr>\n",
       "    <tr>\n",
       "      <th>3781</th>\n",
       "      <td>Face Cleanser</td>\n",
       "      <td>up&amp;up</td>\n",
       "      <td>Renewing Cleanser</td>\n",
       "      <td>acne</td>\n",
       "    </tr>\n",
       "    <tr>\n",
       "      <th>3782</th>\n",
       "      <td>Face Cleanser</td>\n",
       "      <td>Neutrogena</td>\n",
       "      <td>Rapid Clear Stubborn Daily Acne Facial Cleanser</td>\n",
       "      <td>acne</td>\n",
       "    </tr>\n",
       "    <tr>\n",
       "      <th>3783</th>\n",
       "      <td>General Moisturizer</td>\n",
       "      <td>up&amp;up</td>\n",
       "      <td>Repairing Treatment</td>\n",
       "      <td>acne</td>\n",
       "    </tr>\n",
       "  </tbody>\n",
       "</table>\n",
       "</div>"
      ],
      "text/plain": [
       "                     Type       Brand  \\\n",
       "3779  General Moisturizer  Neutrogena   \n",
       "3780  Face Makeup\\n50 SPF     Laneige   \n",
       "3781        Face Cleanser       up&up   \n",
       "3782        Face Cleanser  Neutrogena   \n",
       "3783  General Moisturizer       up&up   \n",
       "\n",
       "                                                 Name  Skin  \n",
       "3779              Clear & Defend Oil-Free Moisturiser  acne  \n",
       "3780             Skin Veil Luminizing Base with SPF50  acne  \n",
       "3781                                Renewing Cleanser  acne  \n",
       "3782  Rapid Clear Stubborn Daily Acne Facial Cleanser  acne  \n",
       "3783                              Repairing Treatment  acne  "
      ]
     },
     "execution_count": 21,
     "metadata": {},
     "output_type": "execute_result"
    }
   ],
   "source": [
    "acne.tail()"
   ]
  },
  {
   "cell_type": "code",
   "execution_count": 22,
   "id": "18843de4",
   "metadata": {},
   "outputs": [],
   "source": [
    "data4 = {'Type': tipos2, 'Brand': marcas2, 'Name': nombres2}\n",
    "age = pd.DataFrame(data4)\n",
    "age['Skin'] = ['age'] * len(age.index)"
   ]
  },
  {
   "cell_type": "code",
   "execution_count": 23,
   "id": "119e82b7",
   "metadata": {},
   "outputs": [
    {
     "data": {
      "text/html": [
       "<div>\n",
       "<style scoped>\n",
       "    .dataframe tbody tr th:only-of-type {\n",
       "        vertical-align: middle;\n",
       "    }\n",
       "\n",
       "    .dataframe tbody tr th {\n",
       "        vertical-align: top;\n",
       "    }\n",
       "\n",
       "    .dataframe thead th {\n",
       "        text-align: right;\n",
       "    }\n",
       "</style>\n",
       "<table border=\"1\" class=\"dataframe\">\n",
       "  <thead>\n",
       "    <tr style=\"text-align: right;\">\n",
       "      <th></th>\n",
       "      <th>Type</th>\n",
       "      <th>Brand</th>\n",
       "      <th>Name</th>\n",
       "      <th>Skin</th>\n",
       "    </tr>\n",
       "  </thead>\n",
       "  <tbody>\n",
       "    <tr>\n",
       "      <th>0</th>\n",
       "      <td>Face Cleanser</td>\n",
       "      <td>CeraVe</td>\n",
       "      <td>Hydrating Facial Cleanser</td>\n",
       "      <td>age</td>\n",
       "    </tr>\n",
       "    <tr>\n",
       "      <th>1</th>\n",
       "      <td>Face Cleanser</td>\n",
       "      <td>CeraVe</td>\n",
       "      <td>Foaming Facial Cleanser</td>\n",
       "      <td>age</td>\n",
       "    </tr>\n",
       "    <tr>\n",
       "      <th>2</th>\n",
       "      <td>General Moisturizer</td>\n",
       "      <td>CeraVe</td>\n",
       "      <td>Moisturizing Cream</td>\n",
       "      <td>age</td>\n",
       "    </tr>\n",
       "    <tr>\n",
       "      <th>3</th>\n",
       "      <td>General Moisturizer</td>\n",
       "      <td>CeraVe</td>\n",
       "      <td>Daily Moisturizing Lotion</td>\n",
       "      <td>age</td>\n",
       "    </tr>\n",
       "    <tr>\n",
       "      <th>4</th>\n",
       "      <td>Face Cleanser</td>\n",
       "      <td>CeraVe</td>\n",
       "      <td>Renewing SA Cleanser</td>\n",
       "      <td>age</td>\n",
       "    </tr>\n",
       "  </tbody>\n",
       "</table>\n",
       "</div>"
      ],
      "text/plain": [
       "                  Type   Brand                       Name Skin\n",
       "0        Face Cleanser  CeraVe  Hydrating Facial Cleanser  age\n",
       "1        Face Cleanser  CeraVe    Foaming Facial Cleanser  age\n",
       "2  General Moisturizer  CeraVe         Moisturizing Cream  age\n",
       "3  General Moisturizer  CeraVe  Daily Moisturizing Lotion  age\n",
       "4        Face Cleanser  CeraVe       Renewing SA Cleanser  age"
      ]
     },
     "execution_count": 23,
     "metadata": {},
     "output_type": "execute_result"
    }
   ],
   "source": [
    "age.head()"
   ]
  },
  {
   "cell_type": "code",
   "execution_count": 24,
   "id": "65768f3d",
   "metadata": {},
   "outputs": [],
   "source": [
    "data5 = {'Type': tipos3, 'Brand': marcas3, 'Name': nombres3}\n",
    "bright= pd.DataFrame(data5)\n",
    "bright['Skin'] = ['brightening'] * len(bright.index)"
   ]
  },
  {
   "cell_type": "code",
   "execution_count": 25,
   "id": "19bee8b8",
   "metadata": {},
   "outputs": [],
   "source": [
    "data6 = {'Type': tipos4, 'Brand': marcas4, 'Name': nombres4}\n",
    "pores= pd.DataFrame(data6)\n",
    "pores['Skin'] = ['large pores'] * len(pores.index)"
   ]
  },
  {
   "cell_type": "code",
   "execution_count": 26,
   "id": "241d0451",
   "metadata": {},
   "outputs": [],
   "source": [
    "data7 = {'Type': tipos5, 'Brand': marcas5, 'Name': nombres5}\n",
    "scar= pd.DataFrame(data7)\n",
    "scar['Skin'] = ['scar healing'] * len(scar.index)"
   ]
  },
  {
   "cell_type": "code",
   "execution_count": 27,
   "id": "b9d5bfd9",
   "metadata": {},
   "outputs": [],
   "source": [
    "data8 = {'Type': tipos6, 'Brand': marcas6, 'Name': nombres6}\n",
    "sens= pd.DataFrame(data8)\n",
    "sens['Skin'] = ['sensitive'] * len(sens.index)"
   ]
  },
  {
   "cell_type": "code",
   "execution_count": 28,
   "id": "20d1fe73",
   "metadata": {},
   "outputs": [],
   "source": [
    "data9 = {'Type': tipos7, 'Brand': marcas7, 'Name': nombres7}\n",
    "spots= pd.DataFrame(data9)\n",
    "spots['Skin'] = ['dark spots'] * len(spots.index)"
   ]
  },
  {
   "cell_type": "code",
   "execution_count": 29,
   "id": "c89b36c5",
   "metadata": {},
   "outputs": [],
   "source": [
    "dataa = {'Type': tipos8, 'Brand': marcas8, 'Name': nombres8}\n",
    "text= pd.DataFrame(dataa)\n",
    "text['Skin'] = ['texture'] * len(text.index)"
   ]
  },
  {
   "cell_type": "code",
   "execution_count": 30,
   "id": "cad0fbee",
   "metadata": {},
   "outputs": [],
   "source": [
    "skincare = pd.concat([total, acne, age, bright, pores, scar, sens, spots, text], axis=0)"
   ]
  },
  {
   "cell_type": "code",
   "execution_count": 31,
   "id": "b027a02c",
   "metadata": {},
   "outputs": [
    {
     "data": {
      "text/html": [
       "<div>\n",
       "<style scoped>\n",
       "    .dataframe tbody tr th:only-of-type {\n",
       "        vertical-align: middle;\n",
       "    }\n",
       "\n",
       "    .dataframe tbody tr th {\n",
       "        vertical-align: top;\n",
       "    }\n",
       "\n",
       "    .dataframe thead th {\n",
       "        text-align: right;\n",
       "    }\n",
       "</style>\n",
       "<table border=\"1\" class=\"dataframe\">\n",
       "  <thead>\n",
       "    <tr style=\"text-align: right;\">\n",
       "      <th></th>\n",
       "      <th>Type</th>\n",
       "      <th>Brand</th>\n",
       "      <th>Name</th>\n",
       "      <th>Skin</th>\n",
       "    </tr>\n",
       "  </thead>\n",
       "  <tbody>\n",
       "    <tr>\n",
       "      <th>1</th>\n",
       "      <td>Face Cleanser</td>\n",
       "      <td>CeraVe</td>\n",
       "      <td>Foaming Facial Cleanser</td>\n",
       "      <td>oil</td>\n",
       "    </tr>\n",
       "    <tr>\n",
       "      <th>3</th>\n",
       "      <td>Face Cleanser</td>\n",
       "      <td>CeraVe</td>\n",
       "      <td>Renewing SA Cleanser</td>\n",
       "      <td>oil</td>\n",
       "    </tr>\n",
       "    <tr>\n",
       "      <th>21</th>\n",
       "      <td>Face Cleanser</td>\n",
       "      <td>CeraVe</td>\n",
       "      <td>SA Smoothing Cleanser</td>\n",
       "      <td>oil</td>\n",
       "    </tr>\n",
       "    <tr>\n",
       "      <th>22</th>\n",
       "      <td>Face Cleanser</td>\n",
       "      <td>CeraVe</td>\n",
       "      <td>Hydrating Cream To Foam Cleanser</td>\n",
       "      <td>oil</td>\n",
       "    </tr>\n",
       "    <tr>\n",
       "      <th>25</th>\n",
       "      <td>Face Cleanser</td>\n",
       "      <td>CeraVe</td>\n",
       "      <td>Acne Foaming Cream Cleanser</td>\n",
       "      <td>oil</td>\n",
       "    </tr>\n",
       "    <tr>\n",
       "      <th>...</th>\n",
       "      <td>...</td>\n",
       "      <td>...</td>\n",
       "      <td>...</td>\n",
       "      <td>...</td>\n",
       "    </tr>\n",
       "    <tr>\n",
       "      <th>1973</th>\n",
       "      <td>Face Cleanser</td>\n",
       "      <td>CeraVe</td>\n",
       "      <td>Psoriasis Cleanser with Salicylic Acid Psorias...</td>\n",
       "      <td>dark spots</td>\n",
       "    </tr>\n",
       "    <tr>\n",
       "      <th>0</th>\n",
       "      <td>Face Cleanser</td>\n",
       "      <td>CeraVe</td>\n",
       "      <td>Renewing SA Cleanser</td>\n",
       "      <td>texture</td>\n",
       "    </tr>\n",
       "    <tr>\n",
       "      <th>14</th>\n",
       "      <td>Face Cleanser</td>\n",
       "      <td>CeraVe</td>\n",
       "      <td>Acne Foaming Cream Cleanser</td>\n",
       "      <td>texture</td>\n",
       "    </tr>\n",
       "    <tr>\n",
       "      <th>2230</th>\n",
       "      <td>Face Cleanser</td>\n",
       "      <td>CeraVe</td>\n",
       "      <td>Psoriasis Cleanser with Salicylic Acid Psorias...</td>\n",
       "      <td>texture</td>\n",
       "    </tr>\n",
       "    <tr>\n",
       "      <th>3795</th>\n",
       "      <td>Face Cleanser</td>\n",
       "      <td>CeraVe</td>\n",
       "      <td>Hydrating Cleanser Bar</td>\n",
       "      <td>texture</td>\n",
       "    </tr>\n",
       "  </tbody>\n",
       "</table>\n",
       "<p>63 rows × 4 columns</p>\n",
       "</div>"
      ],
      "text/plain": [
       "               Type   Brand  \\\n",
       "1     Face Cleanser  CeraVe   \n",
       "3     Face Cleanser  CeraVe   \n",
       "21    Face Cleanser  CeraVe   \n",
       "22    Face Cleanser  CeraVe   \n",
       "25    Face Cleanser  CeraVe   \n",
       "...             ...     ...   \n",
       "1973  Face Cleanser  CeraVe   \n",
       "0     Face Cleanser  CeraVe   \n",
       "14    Face Cleanser  CeraVe   \n",
       "2230  Face Cleanser  CeraVe   \n",
       "3795  Face Cleanser  CeraVe   \n",
       "\n",
       "                                                   Name        Skin  \n",
       "1                               Foaming Facial Cleanser         oil  \n",
       "3                                  Renewing SA Cleanser         oil  \n",
       "21                                SA Smoothing Cleanser         oil  \n",
       "22                     Hydrating Cream To Foam Cleanser         oil  \n",
       "25                          Acne Foaming Cream Cleanser         oil  \n",
       "...                                                 ...         ...  \n",
       "1973  Psoriasis Cleanser with Salicylic Acid Psorias...  dark spots  \n",
       "0                                  Renewing SA Cleanser     texture  \n",
       "14                          Acne Foaming Cream Cleanser     texture  \n",
       "2230  Psoriasis Cleanser with Salicylic Acid Psorias...     texture  \n",
       "3795                             Hydrating Cleanser Bar     texture  \n",
       "\n",
       "[63 rows x 4 columns]"
      ]
     },
     "execution_count": 31,
     "metadata": {},
     "output_type": "execute_result"
    }
   ],
   "source": [
    "skincare[(skincare.Type == 'Face Cleanser') & (skincare.Brand == 'CeraVe')]"
   ]
  },
  {
   "cell_type": "code",
   "execution_count": 32,
   "id": "51f36ade",
   "metadata": {},
   "outputs": [
    {
     "data": {
      "text/html": [
       "<div>\n",
       "<style scoped>\n",
       "    .dataframe tbody tr th:only-of-type {\n",
       "        vertical-align: middle;\n",
       "    }\n",
       "\n",
       "    .dataframe tbody tr th {\n",
       "        vertical-align: top;\n",
       "    }\n",
       "\n",
       "    .dataframe thead th {\n",
       "        text-align: right;\n",
       "    }\n",
       "</style>\n",
       "<table border=\"1\" class=\"dataframe\">\n",
       "  <thead>\n",
       "    <tr style=\"text-align: right;\">\n",
       "      <th></th>\n",
       "      <th>Type</th>\n",
       "      <th>Brand</th>\n",
       "      <th>Name</th>\n",
       "      <th>Skin</th>\n",
       "    </tr>\n",
       "  </thead>\n",
       "  <tbody>\n",
       "    <tr>\n",
       "      <th>3980</th>\n",
       "      <td>Face Cleanser</td>\n",
       "      <td>GLAMGLOW</td>\n",
       "      <td>SUPERCLEANSE™</td>\n",
       "      <td>texture</td>\n",
       "    </tr>\n",
       "    <tr>\n",
       "      <th>3981</th>\n",
       "      <td>Sunscreen\\n30 SPF</td>\n",
       "      <td>Lancaster</td>\n",
       "      <td>Sun Beauty Velvet Touch Cream SPF30</td>\n",
       "      <td>texture</td>\n",
       "    </tr>\n",
       "    <tr>\n",
       "      <th>3982</th>\n",
       "      <td>Lip Moisturizer</td>\n",
       "      <td>Maybelline</td>\n",
       "      <td>Baby Lips Balm</td>\n",
       "      <td>texture</td>\n",
       "    </tr>\n",
       "    <tr>\n",
       "      <th>3983</th>\n",
       "      <td>Eye Makeup</td>\n",
       "      <td>Max Factor X</td>\n",
       "      <td>2000 Calorie Dramatic Volume Mascara</td>\n",
       "      <td>texture</td>\n",
       "    </tr>\n",
       "    <tr>\n",
       "      <th>3984</th>\n",
       "      <td>Sunscreen\\n50 SPF</td>\n",
       "      <td>L'Oreal</td>\n",
       "      <td>UV Perfect City Resist SPF50+ PA++++</td>\n",
       "      <td>texture</td>\n",
       "    </tr>\n",
       "  </tbody>\n",
       "</table>\n",
       "</div>"
      ],
      "text/plain": [
       "                   Type         Brand                                  Name  \\\n",
       "3980      Face Cleanser      GLAMGLOW                         SUPERCLEANSE™   \n",
       "3981  Sunscreen\\n30 SPF     Lancaster   Sun Beauty Velvet Touch Cream SPF30   \n",
       "3982    Lip Moisturizer    Maybelline                        Baby Lips Balm   \n",
       "3983         Eye Makeup  Max Factor X  2000 Calorie Dramatic Volume Mascara   \n",
       "3984  Sunscreen\\n50 SPF       L'Oreal  UV Perfect City Resist SPF50+ PA++++   \n",
       "\n",
       "         Skin  \n",
       "3980  texture  \n",
       "3981  texture  \n",
       "3982  texture  \n",
       "3983  texture  \n",
       "3984  texture  "
      ]
     },
     "execution_count": 32,
     "metadata": {},
     "output_type": "execute_result"
    }
   ],
   "source": [
    "skincare.tail()"
   ]
  },
  {
   "cell_type": "code",
   "execution_count": 33,
   "id": "26d2fa99",
   "metadata": {},
   "outputs": [],
   "source": [
    "skincare = skincare.reset_index(drop=True)"
   ]
  },
  {
   "cell_type": "code",
   "execution_count": 34,
   "id": "553b4119",
   "metadata": {},
   "outputs": [
    {
     "data": {
      "text/plain": [
       "Neutrogena               592\n",
       "Paula's Choice           589\n",
       "La Roche-Posay           460\n",
       "Olay                     342\n",
       "L'Oreal                  341\n",
       "                        ... \n",
       "Pure Body Naturals         1\n",
       "Jones Road                 1\n",
       "we are feel good inc.      1\n",
       "Open Nature                1\n",
       "Ecological Formulas        1\n",
       "Name: Brand, Length: 1624, dtype: int64"
      ]
     },
     "execution_count": 34,
     "metadata": {},
     "output_type": "execute_result"
    }
   ],
   "source": [
    "skincare.Brand.value_counts()"
   ]
  },
  {
   "cell_type": "code",
   "execution_count": 35,
   "id": "9eec7235",
   "metadata": {},
   "outputs": [
    {
     "name": "stdout",
     "output_type": "stream",
     "text": [
      "<class 'pandas.core.frame.DataFrame'>\n",
      "RangeIndex: 45298 entries, 0 to 45297\n",
      "Data columns (total 4 columns):\n",
      " #   Column  Non-Null Count  Dtype \n",
      "---  ------  --------------  ----- \n",
      " 0   Type    45298 non-null  object\n",
      " 1   Brand   45298 non-null  object\n",
      " 2   Name    45298 non-null  object\n",
      " 3   Skin    45298 non-null  object\n",
      "dtypes: object(4)\n",
      "memory usage: 1.4+ MB\n"
     ]
    }
   ],
   "source": [
    "skincare.info()"
   ]
  },
  {
   "cell_type": "code",
   "execution_count": 36,
   "id": "7ef82e63",
   "metadata": {},
   "outputs": [
    {
     "data": {
      "text/plain": [
       "True"
      ]
     },
     "execution_count": 36,
     "metadata": {},
     "output_type": "execute_result"
    }
   ],
   "source": [
    "skincare.duplicated().any()"
   ]
  },
  {
   "cell_type": "code",
   "execution_count": 37,
   "id": "93f7065b",
   "metadata": {},
   "outputs": [],
   "source": [
    "skincare = skincare.drop_duplicates()"
   ]
  },
  {
   "cell_type": "code",
   "execution_count": 38,
   "id": "7f116b79",
   "metadata": {},
   "outputs": [
    {
     "name": "stdout",
     "output_type": "stream",
     "text": [
      "<class 'pandas.core.frame.DataFrame'>\n",
      "Int64Index: 44993 entries, 0 to 45297\n",
      "Data columns (total 4 columns):\n",
      " #   Column  Non-Null Count  Dtype \n",
      "---  ------  --------------  ----- \n",
      " 0   Type    44993 non-null  object\n",
      " 1   Brand   44993 non-null  object\n",
      " 2   Name    44993 non-null  object\n",
      " 3   Skin    44993 non-null  object\n",
      "dtypes: object(4)\n",
      "memory usage: 1.7+ MB\n"
     ]
    }
   ],
   "source": [
    "skincare.info()"
   ]
  },
  {
   "cell_type": "code",
   "execution_count": 39,
   "id": "eb57f1df",
   "metadata": {},
   "outputs": [
    {
     "data": {
      "text/html": [
       "<div>\n",
       "<style scoped>\n",
       "    .dataframe tbody tr th:only-of-type {\n",
       "        vertical-align: middle;\n",
       "    }\n",
       "\n",
       "    .dataframe tbody tr th {\n",
       "        vertical-align: top;\n",
       "    }\n",
       "\n",
       "    .dataframe thead th {\n",
       "        text-align: right;\n",
       "    }\n",
       "</style>\n",
       "<table border=\"1\" class=\"dataframe\">\n",
       "  <thead>\n",
       "    <tr style=\"text-align: right;\">\n",
       "      <th></th>\n",
       "      <th>Type</th>\n",
       "      <th>Brand</th>\n",
       "      <th>Name</th>\n",
       "      <th>Skin</th>\n",
       "    </tr>\n",
       "  </thead>\n",
       "  <tbody>\n",
       "    <tr>\n",
       "      <th>346</th>\n",
       "      <td>Sunscreen\\n30 SPF</td>\n",
       "      <td>Black Girl Sunscreen</td>\n",
       "      <td>Sunscreen SPF 30</td>\n",
       "      <td>dry</td>\n",
       "    </tr>\n",
       "    <tr>\n",
       "      <th>408</th>\n",
       "      <td>Sunscreen\\n30 SPF</td>\n",
       "      <td>Mad Hippie</td>\n",
       "      <td>Facial SPF 30+ Sunscreen</td>\n",
       "      <td>dry</td>\n",
       "    </tr>\n",
       "    <tr>\n",
       "      <th>785</th>\n",
       "      <td>Sunscreen\\n30 SPF</td>\n",
       "      <td>Drunk Elephant</td>\n",
       "      <td>Umbra™ Sheer Physical Daily Defense Broad Spec...</td>\n",
       "      <td>dry</td>\n",
       "    </tr>\n",
       "    <tr>\n",
       "      <th>881</th>\n",
       "      <td>Sunscreen\\n30 SPF</td>\n",
       "      <td>Colorescience</td>\n",
       "      <td>Tint du Soleil SPF 30 UV Protective Foundation</td>\n",
       "      <td>dry</td>\n",
       "    </tr>\n",
       "    <tr>\n",
       "      <th>890</th>\n",
       "      <td>Sunscreen\\n30 SPF</td>\n",
       "      <td>Supergoop!</td>\n",
       "      <td>City Sunscreen Serum SPF 30+ PA+++</td>\n",
       "      <td>dry</td>\n",
       "    </tr>\n",
       "    <tr>\n",
       "      <th>...</th>\n",
       "      <td>...</td>\n",
       "      <td>...</td>\n",
       "      <td>...</td>\n",
       "      <td>...</td>\n",
       "    </tr>\n",
       "    <tr>\n",
       "      <th>45047</th>\n",
       "      <td>Sunscreen\\n30 SPF</td>\n",
       "      <td>Supergoop!</td>\n",
       "      <td>PLAY Antioxidant Body Sunscreen Mist SPF 30 PA...</td>\n",
       "      <td>texture</td>\n",
       "    </tr>\n",
       "    <tr>\n",
       "      <th>45115</th>\n",
       "      <td>Sunscreen\\n30 SPF</td>\n",
       "      <td>Dr. Dennis Gross Skincare</td>\n",
       "      <td>All-Physical Lightweight Wrinkle Defense Broad...</td>\n",
       "      <td>texture</td>\n",
       "    </tr>\n",
       "    <tr>\n",
       "      <th>45135</th>\n",
       "      <td>Sunscreen\\n30 SPF</td>\n",
       "      <td>Think</td>\n",
       "      <td>Everyday Face, SPF 30+, Naturally Tinted</td>\n",
       "      <td>texture</td>\n",
       "    </tr>\n",
       "    <tr>\n",
       "      <th>45156</th>\n",
       "      <td>Sunscreen\\n30 SPF</td>\n",
       "      <td>Your Good Skin</td>\n",
       "      <td>SPF 30 Anti-Oxidant Day Cream</td>\n",
       "      <td>texture</td>\n",
       "    </tr>\n",
       "    <tr>\n",
       "      <th>45294</th>\n",
       "      <td>Sunscreen\\n30 SPF</td>\n",
       "      <td>Lancaster</td>\n",
       "      <td>Sun Beauty Velvet Touch Cream SPF30</td>\n",
       "      <td>texture</td>\n",
       "    </tr>\n",
       "  </tbody>\n",
       "</table>\n",
       "<p>569 rows × 4 columns</p>\n",
       "</div>"
      ],
      "text/plain": [
       "                    Type                      Brand  \\\n",
       "346    Sunscreen\\n30 SPF       Black Girl Sunscreen   \n",
       "408    Sunscreen\\n30 SPF                 Mad Hippie   \n",
       "785    Sunscreen\\n30 SPF             Drunk Elephant   \n",
       "881    Sunscreen\\n30 SPF              Colorescience   \n",
       "890    Sunscreen\\n30 SPF                 Supergoop!   \n",
       "...                  ...                        ...   \n",
       "45047  Sunscreen\\n30 SPF                 Supergoop!   \n",
       "45115  Sunscreen\\n30 SPF  Dr. Dennis Gross Skincare   \n",
       "45135  Sunscreen\\n30 SPF                      Think   \n",
       "45156  Sunscreen\\n30 SPF             Your Good Skin   \n",
       "45294  Sunscreen\\n30 SPF                  Lancaster   \n",
       "\n",
       "                                                    Name     Skin  \n",
       "346                                     Sunscreen SPF 30      dry  \n",
       "408                             Facial SPF 30+ Sunscreen      dry  \n",
       "785    Umbra™ Sheer Physical Daily Defense Broad Spec...      dry  \n",
       "881       Tint du Soleil SPF 30 UV Protective Foundation      dry  \n",
       "890                   City Sunscreen Serum SPF 30+ PA+++      dry  \n",
       "...                                                  ...      ...  \n",
       "45047  PLAY Antioxidant Body Sunscreen Mist SPF 30 PA...  texture  \n",
       "45115  All-Physical Lightweight Wrinkle Defense Broad...  texture  \n",
       "45135           Everyday Face, SPF 30+, Naturally Tinted  texture  \n",
       "45156                      SPF 30 Anti-Oxidant Day Cream  texture  \n",
       "45294                Sun Beauty Velvet Touch Cream SPF30  texture  \n",
       "\n",
       "[569 rows x 4 columns]"
      ]
     },
     "execution_count": 39,
     "metadata": {},
     "output_type": "execute_result"
    }
   ],
   "source": [
    "skincare[skincare['Type']== 'Sunscreen\\n30 SPF']"
   ]
  },
  {
   "cell_type": "code",
   "execution_count": 40,
   "id": "e03bde5a",
   "metadata": {},
   "outputs": [
    {
     "data": {
      "text/plain": [
       "array(['General Moisturizer', 'Eye Moisturizer', 'Toner', 'Serum',\n",
       "       'Eye Mask', 'Facial Treatment', 'Bath & Body', 'Wet Mask',\n",
       "       'Sheet Mask', 'Essence', 'Oil', 'Makeup Remover', 'Overnight Mask',\n",
       "       'Other', 'Exfoliator', 'Shampoo', 'Face Cleanser', 'Sunscreen',\n",
       "       'Hand Care', 'Sunscreen\\n50 SPF', 'Night Moisturizer',\n",
       "       'Face Makeup\\n50 SPF', 'Day Moisturizer', 'Tanning', 'Lip Makeup',\n",
       "       'General Moisturizer\\n30 SPF', 'Other Haircare', 'Face Makeup',\n",
       "       'Sunscreen\\n30 SPF', 'Day Moisturizer\\n30 SPF', 'Eye Makeup',\n",
       "       'Lip Moisturizer\\n30 SPF', 'Face Makeup\\n25 SPF',\n",
       "       'Lip Moisturizer', 'Lip Moisturizer\\n25 SPF', 'Conditioner',\n",
       "       'Sunscreen\\n35 SPF', 'Cheek Makeup', 'Emulsion',\n",
       "       'Sunscreen\\n20 SPF', 'Lip Mask', 'Sunscreen\\n45 SPF',\n",
       "       'Lip Moisturizer\\n15 SPF', 'Bath & Body\\n50 SPF',\n",
       "       'Sunscreen\\n55 SPF', 'Sunscreen\\n15 SPF', 'Face Makeup\\n23 SPF',\n",
       "       'Sunscreen\\n25 SPF', 'Day Moisturizer\\n15 SPF',\n",
       "       'General Moisturizer\\n25 SPF', 'Face Makeup\\n35 SPF',\n",
       "       'Day Moisturizer\\n25 SPF', 'Day Moisturizer\\n23 SPF',\n",
       "       'Sunscreen\\n40 SPF', 'Face Makeup\\n15 SPF', 'Nail Care',\n",
       "       'Other\\n35 SPF', 'Face Makeup\\n20 SPF', 'Lip Moisturizer\\n50 SPF',\n",
       "       'Sunscreen\\n41 SPF', 'Hand Care\\n25 SPF',\n",
       "       'Day Moisturizer\\n35 SPF', 'Face Makeup\\n30 SPF',\n",
       "       'Tanning\\n15 SPF', 'Face Makeup\\n45 SPF',\n",
       "       'Day Moisturizer\\n46 SPF', 'Tool', 'Sunscreen\\n34 SPF',\n",
       "       'Sunscreen\\n60 SPF', '', 'Serum\\n40 SPF',\n",
       "       'Day Moisturizer\\n40 SPF', 'General Moisturizer\\n20 SPF',\n",
       "       'Night Moisturizer\\n30 SPF', 'Day Moisturizer\\n20 SPF',\n",
       "       'Day Moisturizer\\n50 SPF', 'Lip Moisturizer\\n40 SPF',\n",
       "       'Sunscreen\\n46 SPF', 'General Moisturizer\\n15 SPF',\n",
       "       'Sunscreen\\n70 SPF', 'Sunscreen\\n38 SPF', 'Serum\\n50 SPF',\n",
       "       'Face Makeup\\n40 SPF', 'Sunscreen\\n75 SPF',\n",
       "       'General Moisturizer\\n50 SPF', 'Tanning\\n30 SPF',\n",
       "       'Face Makeup\\n33 SPF', 'Face Makeup\\n28 SPF', 'Emulsion\\n30 SPF',\n",
       "       'False Eyelash', 'Sunscreen\\n32 SPF', 'Serum\\n55 SPF',\n",
       "       'Day Moisturizer\\n18 SPF', 'General Moisturizer\\n45 SPF',\n",
       "       'Sunscreen\\n44 SPF', 'Eye Moisturizer\\n15 SPF',\n",
       "       'Sunscreen\\n43 SPF', 'Lip Moisturizer\\n20 SPF', 'Tanning\\n25 SPF',\n",
       "       'Lip Moisturizer\\n45 SPF', 'Eye Moisturizer\\n30 SPF',\n",
       "       'Makeup Applicator', 'Face Makeup\\n27 SPF',\n",
       "       'Eye Moisturizer\\n20 SPF', 'Sunscreen\\n42 SPF',\n",
       "       'Sunscreen\\n68 SPF', 'Sunscreen\\n36 SPF',\n",
       "       'General Moisturizer\\n42 SPF', 'Fragrance', 'Other\\n30 SPF',\n",
       "       'Serum\\n30 SPF', 'Facial Treatment\\n50 SPF', 'Sunscreen\\n47 SPF',\n",
       "       'Sunscreen\\n100 SPF', 'Lip Makeup\\n15 SPF', 'Serum\\n60 SPF',\n",
       "       'Sunscreen\\n90 SPF', 'Sunscreen\\n33 SPF',\n",
       "       'Lip Moisturizer\\n11 SPF', 'Facial Treatment\\n20 SPF',\n",
       "       'Serum\\n45 SPF', 'Bath & Body\\n15 SPF'], dtype=object)"
      ]
     },
     "execution_count": 40,
     "metadata": {},
     "output_type": "execute_result"
    }
   ],
   "source": [
    "skincare.Type.unique()"
   ]
  },
  {
   "cell_type": "code",
   "execution_count": 41,
   "id": "c798153d",
   "metadata": {},
   "outputs": [],
   "source": [
    "skincare['Type'] = skincare['Type'].str.replace('\\n', ' ').str.strip()\n"
   ]
  },
  {
   "cell_type": "code",
   "execution_count": 42,
   "id": "35bf0616",
   "metadata": {},
   "outputs": [
    {
     "data": {
      "text/plain": [
       "array(['General Moisturizer', 'Eye Moisturizer', 'Toner', 'Serum',\n",
       "       'Eye Mask', 'Facial Treatment', 'Bath & Body', 'Wet Mask',\n",
       "       'Sheet Mask', 'Essence', 'Oil', 'Makeup Remover', 'Overnight Mask',\n",
       "       'Other', 'Exfoliator', 'Shampoo', 'Face Cleanser', 'Sunscreen',\n",
       "       'Hand Care', 'Sunscreen 50 SPF', 'Night Moisturizer',\n",
       "       'Face Makeup 50 SPF', 'Day Moisturizer', 'Tanning', 'Lip Makeup',\n",
       "       'General Moisturizer 30 SPF', 'Other Haircare', 'Face Makeup',\n",
       "       'Sunscreen 30 SPF', 'Day Moisturizer 30 SPF', 'Eye Makeup',\n",
       "       'Lip Moisturizer 30 SPF', 'Face Makeup 25 SPF', 'Lip Moisturizer',\n",
       "       'Lip Moisturizer 25 SPF', 'Conditioner', 'Sunscreen 35 SPF',\n",
       "       'Cheek Makeup', 'Emulsion', 'Sunscreen 20 SPF', 'Lip Mask',\n",
       "       'Sunscreen 45 SPF', 'Lip Moisturizer 15 SPF', 'Bath & Body 50 SPF',\n",
       "       'Sunscreen 55 SPF', 'Sunscreen 15 SPF', 'Face Makeup 23 SPF',\n",
       "       'Sunscreen 25 SPF', 'Day Moisturizer 15 SPF',\n",
       "       'General Moisturizer 25 SPF', 'Face Makeup 35 SPF',\n",
       "       'Day Moisturizer 25 SPF', 'Day Moisturizer 23 SPF',\n",
       "       'Sunscreen 40 SPF', 'Face Makeup 15 SPF', 'Nail Care',\n",
       "       'Other 35 SPF', 'Face Makeup 20 SPF', 'Lip Moisturizer 50 SPF',\n",
       "       'Sunscreen 41 SPF', 'Hand Care 25 SPF', 'Day Moisturizer 35 SPF',\n",
       "       'Face Makeup 30 SPF', 'Tanning 15 SPF', 'Face Makeup 45 SPF',\n",
       "       'Day Moisturizer 46 SPF', 'Tool', 'Sunscreen 34 SPF',\n",
       "       'Sunscreen 60 SPF', '', 'Serum 40 SPF', 'Day Moisturizer 40 SPF',\n",
       "       'General Moisturizer 20 SPF', 'Night Moisturizer 30 SPF',\n",
       "       'Day Moisturizer 20 SPF', 'Day Moisturizer 50 SPF',\n",
       "       'Lip Moisturizer 40 SPF', 'Sunscreen 46 SPF',\n",
       "       'General Moisturizer 15 SPF', 'Sunscreen 70 SPF',\n",
       "       'Sunscreen 38 SPF', 'Serum 50 SPF', 'Face Makeup 40 SPF',\n",
       "       'Sunscreen 75 SPF', 'General Moisturizer 50 SPF', 'Tanning 30 SPF',\n",
       "       'Face Makeup 33 SPF', 'Face Makeup 28 SPF', 'Emulsion 30 SPF',\n",
       "       'False Eyelash', 'Sunscreen 32 SPF', 'Serum 55 SPF',\n",
       "       'Day Moisturizer 18 SPF', 'General Moisturizer 45 SPF',\n",
       "       'Sunscreen 44 SPF', 'Eye Moisturizer 15 SPF', 'Sunscreen 43 SPF',\n",
       "       'Lip Moisturizer 20 SPF', 'Tanning 25 SPF',\n",
       "       'Lip Moisturizer 45 SPF', 'Eye Moisturizer 30 SPF',\n",
       "       'Makeup Applicator', 'Face Makeup 27 SPF',\n",
       "       'Eye Moisturizer 20 SPF', 'Sunscreen 42 SPF', 'Sunscreen 68 SPF',\n",
       "       'Sunscreen 36 SPF', 'General Moisturizer 42 SPF', 'Fragrance',\n",
       "       'Other 30 SPF', 'Serum 30 SPF', 'Facial Treatment 50 SPF',\n",
       "       'Sunscreen 47 SPF', 'Sunscreen 100 SPF', 'Lip Makeup 15 SPF',\n",
       "       'Serum 60 SPF', 'Sunscreen 90 SPF', 'Sunscreen 33 SPF',\n",
       "       'Lip Moisturizer 11 SPF', 'Facial Treatment 20 SPF',\n",
       "       'Serum 45 SPF', 'Bath & Body 15 SPF'], dtype=object)"
      ]
     },
     "execution_count": 42,
     "metadata": {},
     "output_type": "execute_result"
    }
   ],
   "source": [
    "skincare.Type.unique()"
   ]
  },
  {
   "cell_type": "code",
   "execution_count": 43,
   "id": "9f27978e",
   "metadata": {},
   "outputs": [],
   "source": [
    "skincare['Type'] = skincare['Type'].str.replace(r'\\d+ SPF', '')\n"
   ]
  },
  {
   "cell_type": "code",
   "execution_count": 57,
   "id": "b709f56d",
   "metadata": {},
   "outputs": [
    {
     "data": {
      "text/plain": [
       "array(['General Moisturizer', 'Eye Moisturizer', 'Toner', 'Serum',\n",
       "       'Eye Mask', 'Facial Treatment', 'Bath & Body', 'Wet Mask',\n",
       "       'Sheet Mask', 'Essence', 'Oil', 'Makeup Remover', 'Overnight Mask',\n",
       "       'Other', 'Exfoliator', 'Shampoo', 'Face Cleanser', 'Sunscreen',\n",
       "       'Hand Care', 'Sunscreen ', 'Night Moisturizer', 'Face Makeup ',\n",
       "       'Day Moisturizer', 'Tanning', 'Lip Makeup', 'General Moisturizer ',\n",
       "       'Other Haircare', 'Face Makeup', 'Day Moisturizer ', 'Eye Makeup',\n",
       "       'Lip Moisturizer ', 'Lip Moisturizer', 'Conditioner',\n",
       "       'Cheek Makeup', 'Emulsion', 'Lip Mask', 'Bath & Body ',\n",
       "       'Nail Care', 'Other ', 'Hand Care ', 'Tanning ', 'Tool', '',\n",
       "       'Serum ', 'Night Moisturizer ', 'Emulsion ', 'False Eyelash',\n",
       "       'Eye Moisturizer ', 'Makeup Applicator', 'Fragrance',\n",
       "       'Facial Treatment ', 'Lip Makeup '], dtype=object)"
      ]
     },
     "execution_count": 57,
     "metadata": {},
     "output_type": "execute_result"
    }
   ],
   "source": [
    "skincare.Type.unique()"
   ]
  },
  {
   "cell_type": "code",
   "execution_count": 59,
   "id": "be8c75d2",
   "metadata": {},
   "outputs": [],
   "source": [
    "skincare = skincare.loc[skincare['Type'] != '']\n"
   ]
  },
  {
   "cell_type": "code",
   "execution_count": 63,
   "id": "2c663121",
   "metadata": {},
   "outputs": [],
   "source": [
    "skincare['Type'] = skincare['Type'].str.strip()"
   ]
  },
  {
   "cell_type": "code",
   "execution_count": 64,
   "id": "e0f3c0ea",
   "metadata": {},
   "outputs": [
    {
     "data": {
      "text/plain": [
       "Serum                  8477\n",
       "General Moisturizer    6051\n",
       "Face Cleanser          3897\n",
       "Sunscreen              2891\n",
       "Toner                  2623\n",
       "Facial Treatment       2351\n",
       "Eye Moisturizer        2254\n",
       "Bath & Body            1820\n",
       "Exfoliator             1792\n",
       "Face Makeup            1435\n",
       "Wet Mask               1339\n",
       "Night Moisturizer      1244\n",
       "Day Moisturizer        1142\n",
       "Sheet Mask              985\n",
       "Lip Moisturizer         804\n",
       "Essence                 756\n",
       "Makeup Remover          752\n",
       "Oil                     635\n",
       "Overnight Mask          624\n",
       "Eye Makeup              384\n",
       "Eye Mask                384\n",
       "Other Haircare          372\n",
       "Shampoo                 311\n",
       "Other                   307\n",
       "Lip Makeup              298\n",
       "Tanning                 257\n",
       "Conditioner             193\n",
       "Cheek Makeup            125\n",
       "Hand Care               123\n",
       "Lip Mask                110\n",
       "Emulsion                101\n",
       "Nail Care                92\n",
       "Tool                     39\n",
       "Fragrance                 9\n",
       "False Eyelash             6\n",
       "Makeup Applicator         6\n",
       "Name: Type, dtype: int64"
      ]
     },
     "execution_count": 64,
     "metadata": {},
     "output_type": "execute_result"
    }
   ],
   "source": [
    "skincare.Type.value_counts()"
   ]
  },
  {
   "cell_type": "code",
   "execution_count": 65,
   "id": "5bc700ad",
   "metadata": {},
   "outputs": [],
   "source": [
    "indices = skincare.index[skincare['Type'].isin(['Other Haircare', 'Shampoo', 'Lip Makeup', 'Tanning', 'Conditioner', 'Cheek Makeup', 'Hand Care', 'Nail Care', 'Tool', 'Fragrance', 'False Eyelash', 'Makeup Applicator', 'Eye Makeup'])]"
   ]
  },
  {
   "cell_type": "code",
   "execution_count": 66,
   "id": "2629bac3",
   "metadata": {},
   "outputs": [],
   "source": [
    "skincare = skincare.drop(indices)"
   ]
  },
  {
   "cell_type": "code",
   "execution_count": 67,
   "id": "c347417e",
   "metadata": {},
   "outputs": [
    {
     "data": {
      "text/plain": [
       "Serum                  8477\n",
       "General Moisturizer    6051\n",
       "Face Cleanser          3897\n",
       "Sunscreen              2891\n",
       "Toner                  2623\n",
       "Facial Treatment       2351\n",
       "Eye Moisturizer        2254\n",
       "Bath & Body            1820\n",
       "Exfoliator             1792\n",
       "Face Makeup            1435\n",
       "Wet Mask               1339\n",
       "Night Moisturizer      1244\n",
       "Day Moisturizer        1142\n",
       "Sheet Mask              985\n",
       "Lip Moisturizer         804\n",
       "Essence                 756\n",
       "Makeup Remover          752\n",
       "Oil                     635\n",
       "Overnight Mask          624\n",
       "Eye Mask                384\n",
       "Other                   307\n",
       "Lip Mask                110\n",
       "Emulsion                101\n",
       "Name: Type, dtype: int64"
      ]
     },
     "execution_count": 67,
     "metadata": {},
     "output_type": "execute_result"
    }
   ],
   "source": [
    "skincare.Type.value_counts()"
   ]
  },
  {
   "cell_type": "code",
   "execution_count": 88,
   "id": "4239f89a",
   "metadata": {},
   "outputs": [
    {
     "data": {
      "text/plain": [
       "array(['Natural Moisturizing Factors + HA', 'Eye Repair Cream',\n",
       "       'Supple Preparation Unscented Toner',\n",
       "       'Freshly Juiced Vitamin Drop', 'Squalane + Peptide Eye Gel',\n",
       "       'Rose & Pomegranate Face Cream Moisturizer',\n",
       "       'Gokujyun Premium Lotion',\n",
       "       'Moisture Surge 72-Hour Auto-Replenishing Hydrator',\n",
       "       'Moisture Surge™ 100-Hour Auto-Replenishing Hydrator',\n",
       "       'Bifida Biome Aqua Barrier Cream',\n",
       "       'Youth Recovery & Blemish Defense Night Serum',\n",
       "       'Supple Preparation Facial Toner',\n",
       "       'Green Tangerine Vita C Dark Spot Serum',\n",
       "       'Vitamin C Super Serum Plus', 'TGF-B Booster',\n",
       "       'Cica Care Clearing Ampoule',\n",
       "       'Avocado Melt Retinol Eye Sleeping Mask',\n",
       "       'Vita C Plus Spot Correcting & Firming Ampoule',\n",
       "       'Stem Cellular Instant Eye Lift Algae Mask - Single',\n",
       "       'Hidratante Firmador'], dtype=object)"
      ]
     },
     "execution_count": 88,
     "metadata": {},
     "output_type": "execute_result"
    }
   ],
   "source": [
    "skincare.Name.unique()[:20]"
   ]
  },
  {
   "cell_type": "code",
   "execution_count": 122,
   "id": "74c9fe7e",
   "metadata": {},
   "outputs": [
    {
     "data": {
      "text/plain": [
       "Paula's Choice               588\n",
       "Neutrogena                   582\n",
       "La Roche-Posay               451\n",
       "Olay                         337\n",
       "Eminence Organics            318\n",
       "Naturium Skincare            316\n",
       "Pacifica                     292\n",
       "L'Oreal                      290\n",
       "Clinique                     287\n",
       "No7                          286\n",
       "Peter Thomas Roth            281\n",
       "Garnier                      281\n",
       "CeraVe                       278\n",
       "COSRX                        266\n",
       "Murad                        266\n",
       "Neogen                       255\n",
       "Missha                       247\n",
       "The Body Shop                246\n",
       "Some By Mi                   236\n",
       "Kiehl's                      231\n",
       "Bliss                        226\n",
       "Isntree                      223\n",
       "e.l.f. cosmetics             222\n",
       "Bioderma                     221\n",
       "KORRES                       210\n",
       "TONYMOLY                     208\n",
       "Truly                        208\n",
       "Derma E                      206\n",
       "Tula Skincare                203\n",
       "Tree Hut                     194\n",
       "Cetaphil                     190\n",
       "Urban Skin                   188\n",
       "innisfree                    185\n",
       "Revolution Beauty            183\n",
       "Dr. Jart+                    183\n",
       "Origins                      182\n",
       "The INKEY List               177\n",
       "The Ordinary                 176\n",
       "Olehenriksen                 169\n",
       "Burt's Bees                  167\n",
       "Pixi Beauty                  167\n",
       "Laneige                      164\n",
       "Avène                        163\n",
       "Dr. Dennis Gross Skincare    162\n",
       "Dermalogica                  160\n",
       "Shiseido                     153\n",
       "Doa Kozmetik                 152\n",
       "FaceTheory                   151\n",
       "Versed                       150\n",
       "Round Lab                    150\n",
       "Name: Brand, dtype: int64"
      ]
     },
     "execution_count": 122,
     "metadata": {},
     "output_type": "execute_result"
    }
   ],
   "source": [
    "skincare.Brand.value_counts()[:50]"
   ]
  },
  {
   "cell_type": "code",
   "execution_count": 99,
   "id": "7256f87d",
   "metadata": {},
   "outputs": [
    {
     "data": {
      "text/plain": [
       "Paula's Choice              False\n",
       "Neutrogena                  False\n",
       "La Roche-Posay              False\n",
       "Olay                        False\n",
       "Eminence Organics           False\n",
       "                            ...  \n",
       "Jouer Cosmetics              True\n",
       "Anima Mundi Apothecary       True\n",
       "EleVen by Venus Williams     True\n",
       "tori belle cosmetics         True\n",
       "Ecological Formulas          True\n",
       "Name: Brand, Length: 1531, dtype: bool"
      ]
     },
     "execution_count": 99,
     "metadata": {},
     "output_type": "execute_result"
    }
   ],
   "source": [
    "skincare['Brand'].value_counts() <10"
   ]
  },
  {
   "cell_type": "markdown",
   "id": "37592b77",
   "metadata": {},
   "source": [
    "Vamos a eliminar todas aquellas marcas que tengan menos de 10 productos"
   ]
  },
  {
   "cell_type": "code",
   "execution_count": 127,
   "id": "1bd488ad",
   "metadata": {},
   "outputs": [],
   "source": [
    "valid_brands = skincare['Brand'].value_counts()[skincare['Brand'].value_counts() >= 10].index.tolist()\n",
    "skincare_filtered = skincare[~skincare['Brand'].isin(valid_brands)]\n"
   ]
  },
  {
   "cell_type": "code",
   "execution_count": 159,
   "id": "05bacd49",
   "metadata": {},
   "outputs": [],
   "source": [
    "skincare_filtered = skincare.groupby('Brand').filter(lambda x: len(x) >= 10)\n"
   ]
  },
  {
   "cell_type": "code",
   "execution_count": 160,
   "id": "b16e721b",
   "metadata": {},
   "outputs": [
    {
     "data": {
      "text/plain": [
       "Paula's Choice       588\n",
       "Neutrogena           582\n",
       "La Roche-Posay       451\n",
       "Olay                 337\n",
       "Eminence Organics    318\n",
       "                    ... \n",
       "Blume                 10\n",
       "SkinRX Lab            10\n",
       "Lagom                 10\n",
       "Huxley                10\n",
       "Erborian              10\n",
       "Name: Brand, Length: 828, dtype: int64"
      ]
     },
     "execution_count": 160,
     "metadata": {},
     "output_type": "execute_result"
    }
   ],
   "source": [
    "skincare_filtered.Brand.value_counts()"
   ]
  },
  {
   "cell_type": "code",
   "execution_count": 165,
   "id": "a151b482",
   "metadata": {},
   "outputs": [
    {
     "name": "stdout",
     "output_type": "stream",
     "text": [
      "<class 'pandas.core.frame.DataFrame'>\n",
      "Int64Index: 39647 entries, 0 to 45297\n",
      "Data columns (total 4 columns):\n",
      " #   Column  Non-Null Count  Dtype \n",
      "---  ------  --------------  ----- \n",
      " 0   Type    39647 non-null  object\n",
      " 1   Brand   39647 non-null  object\n",
      " 2   Name    39647 non-null  object\n",
      " 3   Skin    39647 non-null  object\n",
      "dtypes: object(4)\n",
      "memory usage: 1.5+ MB\n"
     ]
    }
   ],
   "source": [
    "skincare_filtered.info()\n"
   ]
  },
  {
   "cell_type": "code",
   "execution_count": 161,
   "id": "2a3a0142",
   "metadata": {},
   "outputs": [
    {
     "data": {
      "text/plain": [
       "828"
      ]
     },
     "execution_count": 161,
     "metadata": {},
     "output_type": "execute_result"
    }
   ],
   "source": [
    "len(skincare_filtered.Brand.unique())"
   ]
  },
  {
   "cell_type": "code",
   "execution_count": 162,
   "id": "52614869",
   "metadata": {},
   "outputs": [
    {
     "data": {
      "text/html": [
       "<div>\n",
       "<style scoped>\n",
       "    .dataframe tbody tr th:only-of-type {\n",
       "        vertical-align: middle;\n",
       "    }\n",
       "\n",
       "    .dataframe tbody tr th {\n",
       "        vertical-align: top;\n",
       "    }\n",
       "\n",
       "    .dataframe thead th {\n",
       "        text-align: right;\n",
       "    }\n",
       "</style>\n",
       "<table border=\"1\" class=\"dataframe\">\n",
       "  <thead>\n",
       "    <tr style=\"text-align: right;\">\n",
       "      <th></th>\n",
       "      <th>Type</th>\n",
       "      <th>Brand</th>\n",
       "      <th>Name</th>\n",
       "      <th>Skin</th>\n",
       "    </tr>\n",
       "  </thead>\n",
       "  <tbody>\n",
       "    <tr>\n",
       "      <th>383</th>\n",
       "      <td>Eye Moisturizer</td>\n",
       "      <td>KORA Organics</td>\n",
       "      <td>Berry Bright Vitamin C Eye Cream</td>\n",
       "      <td>dry</td>\n",
       "    </tr>\n",
       "    <tr>\n",
       "      <th>874</th>\n",
       "      <td>Eye Moisturizer</td>\n",
       "      <td>KORA Organics</td>\n",
       "      <td>Noni Radiant Eye Oil</td>\n",
       "      <td>dry</td>\n",
       "    </tr>\n",
       "    <tr>\n",
       "      <th>1080</th>\n",
       "      <td>Face Cleanser</td>\n",
       "      <td>KORA Organics</td>\n",
       "      <td>Cream Cleanser</td>\n",
       "      <td>dry</td>\n",
       "    </tr>\n",
       "    <tr>\n",
       "      <th>12214</th>\n",
       "      <td>Eye Moisturizer</td>\n",
       "      <td>KORA Organics</td>\n",
       "      <td>Berry Bright Vitamin C Eye Cream</td>\n",
       "      <td>age</td>\n",
       "    </tr>\n",
       "    <tr>\n",
       "      <th>13331</th>\n",
       "      <td>Serum</td>\n",
       "      <td>KORA Organics</td>\n",
       "      <td>Noni Bright Vitamin C Serum</td>\n",
       "      <td>age</td>\n",
       "    </tr>\n",
       "    <tr>\n",
       "      <th>15099</th>\n",
       "      <td>Face Cleanser</td>\n",
       "      <td>KORA Organics</td>\n",
       "      <td>Cream Cleanser</td>\n",
       "      <td>age</td>\n",
       "    </tr>\n",
       "    <tr>\n",
       "      <th>16417</th>\n",
       "      <td>General Moisturizer</td>\n",
       "      <td>KORA Organics</td>\n",
       "      <td>Active Algae Lightweight Moisturizer</td>\n",
       "      <td>age</td>\n",
       "    </tr>\n",
       "    <tr>\n",
       "      <th>16845</th>\n",
       "      <td>Makeup Remover</td>\n",
       "      <td>KORA Organics</td>\n",
       "      <td>Milky Mushroom Gentle Cleansing Oil</td>\n",
       "      <td>age</td>\n",
       "    </tr>\n",
       "    <tr>\n",
       "      <th>19042</th>\n",
       "      <td>Eye Moisturizer</td>\n",
       "      <td>KORA Organics</td>\n",
       "      <td>Berry Bright Vitamin C Eye Cream</td>\n",
       "      <td>brightening</td>\n",
       "    </tr>\n",
       "    <tr>\n",
       "      <th>20359</th>\n",
       "      <td>Serum</td>\n",
       "      <td>KORA Organics</td>\n",
       "      <td>Noni Bright Vitamin C Serum</td>\n",
       "      <td>brightening</td>\n",
       "    </tr>\n",
       "    <tr>\n",
       "      <th>21559</th>\n",
       "      <td>Eye Moisturizer</td>\n",
       "      <td>KORA Organics</td>\n",
       "      <td>Noni Radiant Eye Oil</td>\n",
       "      <td>brightening</td>\n",
       "    </tr>\n",
       "    <tr>\n",
       "      <th>22736</th>\n",
       "      <td>Face Cleanser</td>\n",
       "      <td>KORA Organics</td>\n",
       "      <td>Cream Cleanser</td>\n",
       "      <td>brightening</td>\n",
       "    </tr>\n",
       "    <tr>\n",
       "      <th>23946</th>\n",
       "      <td>Oil</td>\n",
       "      <td>KORA Organics</td>\n",
       "      <td>Noni Glow Face Oil</td>\n",
       "      <td>brightening</td>\n",
       "    </tr>\n",
       "    <tr>\n",
       "      <th>24413</th>\n",
       "      <td>Face Cleanser</td>\n",
       "      <td>KORA Organics</td>\n",
       "      <td>Turmeric Glow Foaming Cleanser</td>\n",
       "      <td>brightening</td>\n",
       "    </tr>\n",
       "    <tr>\n",
       "      <th>24915</th>\n",
       "      <td>General Moisturizer</td>\n",
       "      <td>KORA Organics</td>\n",
       "      <td>Active Algae Lightweight Moisturizer</td>\n",
       "      <td>brightening</td>\n",
       "    </tr>\n",
       "    <tr>\n",
       "      <th>28127</th>\n",
       "      <td>Serum</td>\n",
       "      <td>KORA Organics</td>\n",
       "      <td>Noni Bright Vitamin C Serum</td>\n",
       "      <td>large pores</td>\n",
       "    </tr>\n",
       "    <tr>\n",
       "      <th>29462</th>\n",
       "      <td>Face Cleanser</td>\n",
       "      <td>KORA Organics</td>\n",
       "      <td>Cream Cleanser</td>\n",
       "      <td>large pores</td>\n",
       "    </tr>\n",
       "    <tr>\n",
       "      <th>30542</th>\n",
       "      <td>Face Cleanser</td>\n",
       "      <td>KORA Organics</td>\n",
       "      <td>Turmeric Glow Foaming Cleanser</td>\n",
       "      <td>large pores</td>\n",
       "    </tr>\n",
       "    <tr>\n",
       "      <th>30868</th>\n",
       "      <td>General Moisturizer</td>\n",
       "      <td>KORA Organics</td>\n",
       "      <td>Active Algae Lightweight Moisturizer</td>\n",
       "      <td>large pores</td>\n",
       "    </tr>\n",
       "    <tr>\n",
       "      <th>31584</th>\n",
       "      <td>Makeup Remover</td>\n",
       "      <td>KORA Organics</td>\n",
       "      <td>Milky Mushroom Gentle Cleansing Oil</td>\n",
       "      <td>large pores</td>\n",
       "    </tr>\n",
       "    <tr>\n",
       "      <th>35048</th>\n",
       "      <td>General Moisturizer</td>\n",
       "      <td>KORA Organics</td>\n",
       "      <td>Active Algae Lightweight Moisturizer</td>\n",
       "      <td>scar healing</td>\n",
       "    </tr>\n",
       "    <tr>\n",
       "      <th>36166</th>\n",
       "      <td>Eye Moisturizer</td>\n",
       "      <td>KORA Organics</td>\n",
       "      <td>Berry Bright Vitamin C Eye Cream</td>\n",
       "      <td>sensitive</td>\n",
       "    </tr>\n",
       "    <tr>\n",
       "      <th>36656</th>\n",
       "      <td>Serum</td>\n",
       "      <td>KORA Organics</td>\n",
       "      <td>Noni Bright Vitamin C Serum</td>\n",
       "      <td>sensitive</td>\n",
       "    </tr>\n",
       "    <tr>\n",
       "      <th>37257</th>\n",
       "      <td>Face Cleanser</td>\n",
       "      <td>KORA Organics</td>\n",
       "      <td>Cream Cleanser</td>\n",
       "      <td>sensitive</td>\n",
       "    </tr>\n",
       "    <tr>\n",
       "      <th>39056</th>\n",
       "      <td>Eye Moisturizer</td>\n",
       "      <td>KORA Organics</td>\n",
       "      <td>Berry Bright Vitamin C Eye Cream</td>\n",
       "      <td>dark spots</td>\n",
       "    </tr>\n",
       "    <tr>\n",
       "      <th>39805</th>\n",
       "      <td>Serum</td>\n",
       "      <td>KORA Organics</td>\n",
       "      <td>Noni Bright Vitamin C Serum</td>\n",
       "      <td>dark spots</td>\n",
       "    </tr>\n",
       "    <tr>\n",
       "      <th>40807</th>\n",
       "      <td>Face Cleanser</td>\n",
       "      <td>KORA Organics</td>\n",
       "      <td>Cream Cleanser</td>\n",
       "      <td>dark spots</td>\n",
       "    </tr>\n",
       "    <tr>\n",
       "      <th>42809</th>\n",
       "      <td>Eye Moisturizer</td>\n",
       "      <td>KORA Organics</td>\n",
       "      <td>Berry Bright Vitamin C Eye Cream</td>\n",
       "      <td>texture</td>\n",
       "    </tr>\n",
       "    <tr>\n",
       "      <th>43663</th>\n",
       "      <td>Serum</td>\n",
       "      <td>KORA Organics</td>\n",
       "      <td>Noni Bright Vitamin C Serum</td>\n",
       "      <td>texture</td>\n",
       "    </tr>\n",
       "    <tr>\n",
       "      <th>44738</th>\n",
       "      <td>Face Cleanser</td>\n",
       "      <td>KORA Organics</td>\n",
       "      <td>Cream Cleanser</td>\n",
       "      <td>texture</td>\n",
       "    </tr>\n",
       "  </tbody>\n",
       "</table>\n",
       "</div>"
      ],
      "text/plain": [
       "                      Type          Brand  \\\n",
       "383        Eye Moisturizer  KORA Organics   \n",
       "874        Eye Moisturizer  KORA Organics   \n",
       "1080         Face Cleanser  KORA Organics   \n",
       "12214      Eye Moisturizer  KORA Organics   \n",
       "13331                Serum  KORA Organics   \n",
       "15099        Face Cleanser  KORA Organics   \n",
       "16417  General Moisturizer  KORA Organics   \n",
       "16845       Makeup Remover  KORA Organics   \n",
       "19042      Eye Moisturizer  KORA Organics   \n",
       "20359                Serum  KORA Organics   \n",
       "21559      Eye Moisturizer  KORA Organics   \n",
       "22736        Face Cleanser  KORA Organics   \n",
       "23946                  Oil  KORA Organics   \n",
       "24413        Face Cleanser  KORA Organics   \n",
       "24915  General Moisturizer  KORA Organics   \n",
       "28127                Serum  KORA Organics   \n",
       "29462        Face Cleanser  KORA Organics   \n",
       "30542        Face Cleanser  KORA Organics   \n",
       "30868  General Moisturizer  KORA Organics   \n",
       "31584       Makeup Remover  KORA Organics   \n",
       "35048  General Moisturizer  KORA Organics   \n",
       "36166      Eye Moisturizer  KORA Organics   \n",
       "36656                Serum  KORA Organics   \n",
       "37257        Face Cleanser  KORA Organics   \n",
       "39056      Eye Moisturizer  KORA Organics   \n",
       "39805                Serum  KORA Organics   \n",
       "40807        Face Cleanser  KORA Organics   \n",
       "42809      Eye Moisturizer  KORA Organics   \n",
       "43663                Serum  KORA Organics   \n",
       "44738        Face Cleanser  KORA Organics   \n",
       "\n",
       "                                       Name          Skin  \n",
       "383        Berry Bright Vitamin C Eye Cream           dry  \n",
       "874                    Noni Radiant Eye Oil           dry  \n",
       "1080                         Cream Cleanser           dry  \n",
       "12214      Berry Bright Vitamin C Eye Cream           age  \n",
       "13331           Noni Bright Vitamin C Serum           age  \n",
       "15099                        Cream Cleanser           age  \n",
       "16417  Active Algae Lightweight Moisturizer           age  \n",
       "16845   Milky Mushroom Gentle Cleansing Oil           age  \n",
       "19042      Berry Bright Vitamin C Eye Cream   brightening  \n",
       "20359           Noni Bright Vitamin C Serum   brightening  \n",
       "21559                  Noni Radiant Eye Oil   brightening  \n",
       "22736                        Cream Cleanser   brightening  \n",
       "23946                    Noni Glow Face Oil   brightening  \n",
       "24413        Turmeric Glow Foaming Cleanser   brightening  \n",
       "24915  Active Algae Lightweight Moisturizer   brightening  \n",
       "28127           Noni Bright Vitamin C Serum   large pores  \n",
       "29462                        Cream Cleanser   large pores  \n",
       "30542        Turmeric Glow Foaming Cleanser   large pores  \n",
       "30868  Active Algae Lightweight Moisturizer   large pores  \n",
       "31584   Milky Mushroom Gentle Cleansing Oil   large pores  \n",
       "35048  Active Algae Lightweight Moisturizer  scar healing  \n",
       "36166      Berry Bright Vitamin C Eye Cream     sensitive  \n",
       "36656           Noni Bright Vitamin C Serum     sensitive  \n",
       "37257                        Cream Cleanser     sensitive  \n",
       "39056      Berry Bright Vitamin C Eye Cream    dark spots  \n",
       "39805           Noni Bright Vitamin C Serum    dark spots  \n",
       "40807                        Cream Cleanser    dark spots  \n",
       "42809      Berry Bright Vitamin C Eye Cream       texture  \n",
       "43663           Noni Bright Vitamin C Serum       texture  \n",
       "44738                        Cream Cleanser       texture  "
      ]
     },
     "execution_count": 162,
     "metadata": {},
     "output_type": "execute_result"
    }
   ],
   "source": [
    "skincare_filtered[skincare_filtered.Brand == 'KORA Organics']"
   ]
  },
  {
   "cell_type": "code",
   "execution_count": null,
   "id": "8631e687",
   "metadata": {},
   "outputs": [],
   "source": []
  }
 ],
 "metadata": {
  "kernelspec": {
   "display_name": "Python 3 (ipykernel)",
   "language": "python",
   "name": "python3"
  },
  "language_info": {
   "codemirror_mode": {
    "name": "ipython",
    "version": 3
   },
   "file_extension": ".py",
   "mimetype": "text/x-python",
   "name": "python",
   "nbconvert_exporter": "python",
   "pygments_lexer": "ipython3",
   "version": "3.9.13"
  }
 },
 "nbformat": 4,
 "nbformat_minor": 5
}
