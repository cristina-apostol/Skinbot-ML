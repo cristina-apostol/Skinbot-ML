{
 "cells": [
  {
   "cell_type": "code",
   "execution_count": 1,
   "id": "5177cf81",
   "metadata": {},
   "outputs": [],
   "source": [
    "import pandas as pd\n",
    "import numpy as np\n",
    "import json\n",
    "import warnings\n",
    "warnings.filterwarnings(\"ignore\")"
   ]
  },
  {
   "cell_type": "code",
   "execution_count": 3,
   "id": "ae309059",
   "metadata": {},
   "outputs": [],
   "source": [
    "with open('dry.json', 'r') as f:\n",
    "    data= f.read()\n",
    "    "
   ]
  },
  {
   "cell_type": "code",
   "execution_count": 4,
   "id": "2f3e8494",
   "metadata": {},
   "outputs": [],
   "source": [
    "dry = json.loads(data)"
   ]
  },
  {
   "cell_type": "code",
   "execution_count": 6,
   "id": "2a5f17bb",
   "metadata": {},
   "outputs": [
    {
     "data": {
      "text/plain": [
       "61"
      ]
     },
     "execution_count": 6,
     "metadata": {},
     "output_type": "execute_result"
    }
   ],
   "source": [
    "len(dry)"
   ]
  },
  {
   "cell_type": "code",
   "execution_count": 2,
   "id": "c644c7dc",
   "metadata": {},
   "outputs": [],
   "source": [
    "with open('dry.json', 'r') as f:\n",
    "    dry= f.read()\n",
    "with open('oil.json', 'r') as f:\n",
    "    oil= f.read()\n",
    "with open('acne.json', 'r') as f:\n",
    "    acne= f.read()\n",
    "with open('age.json', 'r') as f:\n",
    "    age= f.read()\n",
    "with open('brig.json', 'r') as f:\n",
    "    bright= f.read()\n",
    "with open('pores.json', 'r') as f:\n",
    "    pores= f.read()\n",
    "with open('scar.json', 'r') as f:\n",
    "    scar= f.read()\n",
    "with open('sensitive.json', 'r') as f:\n",
    "    sens= f.read()\n",
    "with open('spots.json', 'r') as f:\n",
    "    spots= f.read()\n",
    "with open('texture.json', 'r') as f:\n",
    "    text= f.read()"
   ]
  },
  {
   "cell_type": "code",
   "execution_count": 4,
   "id": "644d5786",
   "metadata": {},
   "outputs": [],
   "source": [
    "dry = json.loads(dry)\n",
    "oil = json.loads(oil)\n",
    "acne = json.loads(acne)\n",
    "age = json.loads(age)\n",
    "bright = json.loads(bright)\n",
    "pores = json.loads(pores)\n",
    "scar = json.loads(scar)\n",
    "sens = json.loads(sens)\n",
    "spots = json.loads(spots)\n",
    "text = json.loads(text)"
   ]
  },
  {
   "cell_type": "markdown",
   "id": "75c326e5",
   "metadata": {},
   "source": [
    "En este caso, tenemos 61 keys, es decir 61 paginas, en cada una de ellas tenemos 3 tipos de datos, tipo, marca, y nombre, con un total de 30 productos.\n",
    "Aqui key[0], sería tipo, key[1], es marca y key[2] es el nombre del porducto"
   ]
  },
  {
   "cell_type": "code",
   "execution_count": 50,
   "id": "adb5a171",
   "metadata": {},
   "outputs": [],
   "source": [
    "\n",
    "dry_keys = dry.keys()\n",
    "tipo = []\n",
    "marca = []\n",
    "nombre = []\n",
    "\n",
    "for key in dry_keys:\n",
    "   \n",
    "        tipo.append(dry[key][0])\n",
    "\n",
    "        marca.append(dry[key][1])\n",
    "  \n",
    "        nombre.append(dry[key][2])\n",
    "\n",
    "\n"
   ]
  },
  {
   "cell_type": "code",
   "execution_count": 65,
   "id": "261c1bfa",
   "metadata": {},
   "outputs": [],
   "source": [
    "tipos=[]\n",
    "for i in tipo:\n",
    "    for e in i:\n",
    "        tipos.append(e)\n",
    "\n",
    "marcas=[]\n",
    "for i in marca:\n",
    "    for e in i:\n",
    "        marcas.append(e)\n",
    "\n",
    "nombres=[]        \n",
    "for i in nombre:\n",
    "    for e in i:\n",
    "        nombres.append(e)"
   ]
  },
  {
   "cell_type": "code",
   "execution_count": 61,
   "id": "9e855800",
   "metadata": {},
   "outputs": [
    {
     "data": {
      "text/plain": [
       "1807"
      ]
     },
     "execution_count": 61,
     "metadata": {},
     "output_type": "execute_result"
    }
   ],
   "source": [
    "len(tipos)"
   ]
  },
  {
   "cell_type": "code",
   "execution_count": 66,
   "id": "7069ccaf",
   "metadata": {},
   "outputs": [
    {
     "data": {
      "text/plain": [
       "1807"
      ]
     },
     "execution_count": 66,
     "metadata": {},
     "output_type": "execute_result"
    }
   ],
   "source": [
    "len(marcas)"
   ]
  },
  {
   "cell_type": "code",
   "execution_count": 67,
   "id": "6e2ab8a4",
   "metadata": {},
   "outputs": [
    {
     "data": {
      "text/plain": [
       "1807"
      ]
     },
     "execution_count": 67,
     "metadata": {},
     "output_type": "execute_result"
    }
   ],
   "source": [
    "len(nombres)"
   ]
  },
  {
   "cell_type": "code",
   "execution_count": 73,
   "id": "bc85a35e",
   "metadata": {},
   "outputs": [],
   "source": [
    "def obtener_listados(d):\n",
    "    tipo = []\n",
    "    marca = []\n",
    "    nombre = []\n",
    "    \n",
    "    for key in d.keys():\n",
    "        tipo.append(d[key][0])\n",
    "        marca.append(d[key][1])\n",
    "        nombre.append(d[key][2])\n",
    "        \n",
    "    tipos = [e for i in tipo for e in i]\n",
    "    marcas = [e for i in marca for e in i]\n",
    "    nombres = [e for i in nombre for e in i]\n",
    "    \n",
    "    return tipos, marcas, nombres\n"
   ]
  },
  {
   "cell_type": "code",
   "execution_count": 69,
   "id": "f79c44bb",
   "metadata": {},
   "outputs": [],
   "source": [
    "dry_tipos, dry_marcas, dry_nombres = obtener_listados(dry)"
   ]
  },
  {
   "cell_type": "code",
   "execution_count": 70,
   "id": "cf1760e4",
   "metadata": {},
   "outputs": [
    {
     "data": {
      "text/plain": [
       "1807"
      ]
     },
     "execution_count": 70,
     "metadata": {},
     "output_type": "execute_result"
    }
   ],
   "source": [
    "len(dry_tipos)"
   ]
  },
  {
   "cell_type": "code",
   "execution_count": 71,
   "id": "14e888fd",
   "metadata": {},
   "outputs": [
    {
     "data": {
      "text/plain": [
       "1807"
      ]
     },
     "execution_count": 71,
     "metadata": {},
     "output_type": "execute_result"
    }
   ],
   "source": [
    "len(dry_marcas)"
   ]
  },
  {
   "cell_type": "code",
   "execution_count": 86,
   "id": "008e784a",
   "metadata": {},
   "outputs": [
    {
     "data": {
      "text/plain": [
       "161"
      ]
     },
     "execution_count": 86,
     "metadata": {},
     "output_type": "execute_result"
    }
   ],
   "source": [
    "len(oil)"
   ]
  },
  {
   "cell_type": "code",
   "execution_count": 93,
   "id": "b7842c8b",
   "metadata": {},
   "outputs": [
    {
     "data": {
      "text/plain": [
       "['ACNE Cleanser',\n",
       " 'Crème Mousse Confort Creamy Foaming Cleanser',\n",
       " 'UV Perfect City Resist SPF50+ PA++++',\n",
       " 'Smoothing Relief Exfoliating Body Wash',\n",
       " 'Micro Setting Fit Cushion EX',\n",
       " 'Discipline Sulfate-Free Smoothing Shampoo for Frizzy Hair',\n",
       " 'BB Dis-A-Pore',\n",
       " 'Color Last Purple Shampoo with Fig & Orchid',\n",
       " 'Conditioner For Men',\n",
       " 'Color Balance Purple Shampoo',\n",
       " 'Tea Tree and Witch Hazel Shine Control Day Moisturiser',\n",
       " 'Clear & Defend Oil-Free Moisturiser',\n",
       " 'Hyaluronic Hydra-Foundation',\n",
       " 'Lait Galatéis Douceur',\n",
       " 'A-Thera Sunblock SPF 50',\n",
       " 'Skin Veil Luminizing Base with SPF50',\n",
       " 'Clearing Petit BB']"
      ]
     },
     "execution_count": 93,
     "metadata": {},
     "output_type": "execute_result"
    }
   ],
   "source": [
    "oil[160][2]"
   ]
  },
  {
   "cell_type": "code",
   "execution_count": 94,
   "id": "4b8f0569",
   "metadata": {},
   "outputs": [],
   "source": [
    "tipos=[]\n",
    "marcas=[]\n",
    "nombres=[]\n",
    "for lista in oil:\n",
    "    # Agregar los valores de la primera, segunda y tercera lista de cada elemento de la lista actual a las listas correspondientes\n",
    "    tipos.extend(lista[0])\n",
    "    marcas.extend(lista[1])\n",
    "    nombres.extend(lista[2])"
   ]
  },
  {
   "cell_type": "code",
   "execution_count": 97,
   "id": "1743f757",
   "metadata": {},
   "outputs": [
    {
     "data": {
      "text/plain": [
       "4817"
      ]
     },
     "execution_count": 97,
     "metadata": {},
     "output_type": "execute_result"
    }
   ],
   "source": [
    "len(marcas)"
   ]
  },
  {
   "cell_type": "code",
   "execution_count": 98,
   "id": "e4a967b0",
   "metadata": {},
   "outputs": [
    {
     "data": {
      "text/plain": [
       "4817"
      ]
     },
     "execution_count": 98,
     "metadata": {},
     "output_type": "execute_result"
    }
   ],
   "source": [
    "len(tipos)"
   ]
  },
  {
   "cell_type": "code",
   "execution_count": 99,
   "id": "24381f02",
   "metadata": {},
   "outputs": [
    {
     "data": {
      "text/plain": [
       "4817"
      ]
     },
     "execution_count": 99,
     "metadata": {},
     "output_type": "execute_result"
    }
   ],
   "source": [
    "len(nombres)"
   ]
  },
  {
   "cell_type": "code",
   "execution_count": null,
   "id": "6b80b646",
   "metadata": {},
   "outputs": [],
   "source": []
  }
 ],
 "metadata": {
  "kernelspec": {
   "display_name": "Python 3 (ipykernel)",
   "language": "python",
   "name": "python3"
  },
  "language_info": {
   "codemirror_mode": {
    "name": "ipython",
    "version": 3
   },
   "file_extension": ".py",
   "mimetype": "text/x-python",
   "name": "python",
   "nbconvert_exporter": "python",
   "pygments_lexer": "ipython3",
   "version": "3.9.13"
  }
 },
 "nbformat": 4,
 "nbformat_minor": 5
}
