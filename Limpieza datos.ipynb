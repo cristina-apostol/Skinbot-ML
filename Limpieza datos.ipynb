{
 "cells": [
  {
   "cell_type": "code",
   "execution_count": 1,
   "id": "5177cf81",
   "metadata": {},
   "outputs": [],
   "source": [
    "import pandas as pd\n",
    "import numpy as np\n",
    "import json\n",
    "import warnings\n",
    "warnings.filterwarnings(\"ignore\")"
   ]
  },
  {
   "cell_type": "code",
   "execution_count": 2,
   "id": "ae309059",
   "metadata": {},
   "outputs": [],
   "source": [
    "with open('dry.json', 'r') as f:\n",
    "    data= f.read()\n",
    "    "
   ]
  },
  {
   "cell_type": "code",
   "execution_count": 3,
   "id": "2f3e8494",
   "metadata": {},
   "outputs": [],
   "source": [
    "dry = json.loads(data)"
   ]
  },
  {
   "cell_type": "code",
   "execution_count": 4,
   "id": "2a5f17bb",
   "metadata": {},
   "outputs": [
    {
     "data": {
      "text/plain": [
       "61"
      ]
     },
     "execution_count": 4,
     "metadata": {},
     "output_type": "execute_result"
    }
   ],
   "source": [
    "len(dry)"
   ]
  },
  {
   "cell_type": "code",
   "execution_count": 5,
   "id": "c644c7dc",
   "metadata": {},
   "outputs": [],
   "source": [
    "with open('dry.json', 'r') as f:\n",
    "    dry= f.read()\n",
    "with open('oil.json', 'r') as f:\n",
    "    oil= f.read()\n",
    "with open('acne.json', 'r') as f:\n",
    "    acne= f.read()\n",
    "with open('age.json', 'r') as f:\n",
    "    age= f.read()\n",
    "with open('brig.json', 'r') as f:\n",
    "    bright= f.read()\n",
    "with open('pores.json', 'r') as f:\n",
    "    pores= f.read()\n",
    "with open('scar.json', 'r') as f:\n",
    "    scar= f.read()\n",
    "with open('sensitive.json', 'r') as f:\n",
    "    sens= f.read()\n",
    "with open('spots.json', 'r') as f:\n",
    "    spots= f.read()\n",
    "with open('texture.json', 'r') as f:\n",
    "    text= f.read()"
   ]
  },
  {
   "cell_type": "code",
   "execution_count": 6,
   "id": "a4556cc4",
   "metadata": {},
   "outputs": [],
   "source": [
    "dry = json.loads(dry)\n",
    "oil = json.loads(oil)\n",
    "acne = json.loads(acne)\n",
    "age = json.loads(age)\n",
    "bright = json.loads(bright)\n",
    "pores = json.loads(pores)\n",
    "scar = json.loads(scar)\n",
    "sens = json.loads(sens)\n",
    "spots = json.loads(spots)\n",
    "text = json.loads(text)"
   ]
  },
  {
   "cell_type": "markdown",
   "id": "e9c830ec",
   "metadata": {},
   "source": [
    "En este caso, tenemos 61 keys, es decir 61 paginas, en cada una de ellas tenemos 3 tipos de datos, tipo, marca, y nombre, con un total de 30 productos.\n",
    "Aqui key[0], sería tipo, key[1], es marca y key[2] es el nombre del porducto"
   ]
  },
  {
   "cell_type": "code",
   "execution_count": 7,
   "id": "edd88150",
   "metadata": {},
   "outputs": [],
   "source": [
    "\n",
    "dry_keys = dry.keys()\n",
    "tipo = []\n",
    "marca = []\n",
    "nombre = []\n",
    "\n",
    "for key in dry_keys:\n",
    "   \n",
    "        tipo.append(dry[key][0])\n",
    "\n",
    "        marca.append(dry[key][1])\n",
    "  \n",
    "        nombre.append(dry[key][2])\n",
    "\n",
    "\n"
   ]
  },
  {
   "cell_type": "code",
   "execution_count": 8,
   "id": "c463966c",
   "metadata": {},
   "outputs": [],
   "source": [
    "tipos=[]\n",
    "for i in tipo:\n",
    "    for e in i:\n",
    "        tipos.append(e)\n",
    "\n",
    "marcas=[]\n",
    "for i in marca:\n",
    "    for e in i:\n",
    "        marcas.append(e)\n",
    "\n",
    "nombres=[]        \n",
    "for i in nombre:\n",
    "    for e in i:\n",
    "        nombres.append(e)"
   ]
  },
  {
   "cell_type": "code",
   "execution_count": 9,
   "id": "def13e92",
   "metadata": {},
   "outputs": [],
   "source": [
    "def obtener_listados(d):\n",
    "    tipo = []\n",
    "    marca = []\n",
    "    nombre = []\n",
    "    \n",
    "    for key in d.keys():\n",
    "        tipo.append(d[key][0])\n",
    "        marca.append(d[key][1])\n",
    "        nombre.append(d[key][2])\n",
    "        \n",
    "    tipos = [e for i in tipo for e in i]\n",
    "    marcas = [e for i in marca for e in i]\n",
    "    nombres = [e for i in nombre for e in i]\n",
    "    \n",
    "    return tipos, marcas, nombres\n"
   ]
  },
  {
   "cell_type": "code",
   "execution_count": 10,
   "id": "7b4c03d2",
   "metadata": {},
   "outputs": [],
   "source": [
    "dry_tipos, dry_marcas, dry_nombres = obtener_listados(dry)"
   ]
  },
  {
   "cell_type": "code",
   "execution_count": 11,
   "id": "6907bb21",
   "metadata": {},
   "outputs": [
    {
     "data": {
      "text/plain": [
       "1807"
      ]
     },
     "execution_count": 11,
     "metadata": {},
     "output_type": "execute_result"
    }
   ],
   "source": [
    "len(dry_tipos)"
   ]
  },
  {
   "cell_type": "code",
   "execution_count": 12,
   "id": "c0767d6d",
   "metadata": {},
   "outputs": [
    {
     "data": {
      "text/plain": [
       "1807"
      ]
     },
     "execution_count": 12,
     "metadata": {},
     "output_type": "execute_result"
    }
   ],
   "source": [
    "len(dry_marcas)"
   ]
  },
  {
   "cell_type": "code",
   "execution_count": 13,
   "id": "ca8e7107",
   "metadata": {},
   "outputs": [
    {
     "data": {
      "text/plain": [
       "161"
      ]
     },
     "execution_count": 13,
     "metadata": {},
     "output_type": "execute_result"
    }
   ],
   "source": [
    "len(oil)"
   ]
  },
  {
   "cell_type": "code",
   "execution_count": 14,
   "id": "a42f54aa",
   "metadata": {},
   "outputs": [],
   "source": [
    "data2 = {'Type': dry_tipos, 'Brand': dry_marcas, 'Name': dry_nombres}\n",
    "dry = pd.DataFrame(data2)\n",
    "dry['Skin'] = ['dry'] * len(dry.index)"
   ]
  },
  {
   "cell_type": "code",
   "execution_count": 15,
   "id": "d9c8272a",
   "metadata": {},
   "outputs": [],
   "source": [
    "tipos=[]\n",
    "marcas=[]\n",
    "nombres=[]\n",
    "for lista in oil:\n",
    "    # Agregar los valores de la primera, segunda y tercera lista de cada elemento de la lista actual a las listas correspondientes\n",
    "    tipos.extend(lista[0])\n",
    "    marcas.extend(lista[1])\n",
    "    nombres.extend(lista[2])"
   ]
  },
  {
   "cell_type": "code",
   "execution_count": 16,
   "id": "ac892f48",
   "metadata": {},
   "outputs": [],
   "source": [
    "data = {'Type': tipos, 'Brand': marcas, 'Name': nombres}\n",
    "oil = pd.DataFrame(data)\n",
    "oil['Skin'] = ['oil'] * len(oil.index)"
   ]
  },
  {
   "cell_type": "code",
   "execution_count": 17,
   "id": "f69ec1ed",
   "metadata": {},
   "outputs": [
    {
     "data": {
      "text/html": [
       "<div>\n",
       "<style scoped>\n",
       "    .dataframe tbody tr th:only-of-type {\n",
       "        vertical-align: middle;\n",
       "    }\n",
       "\n",
       "    .dataframe tbody tr th {\n",
       "        vertical-align: top;\n",
       "    }\n",
       "\n",
       "    .dataframe thead th {\n",
       "        text-align: right;\n",
       "    }\n",
       "</style>\n",
       "<table border=\"1\" class=\"dataframe\">\n",
       "  <thead>\n",
       "    <tr style=\"text-align: right;\">\n",
       "      <th></th>\n",
       "      <th>Type</th>\n",
       "      <th>Brand</th>\n",
       "      <th>Name</th>\n",
       "      <th>Skin</th>\n",
       "    </tr>\n",
       "  </thead>\n",
       "  <tbody>\n",
       "    <tr>\n",
       "      <th>4812</th>\n",
       "      <td>Face Makeup</td>\n",
       "      <td>By Terry</td>\n",
       "      <td>Hyaluronic Hydra-Foundation</td>\n",
       "      <td>oil</td>\n",
       "    </tr>\n",
       "    <tr>\n",
       "      <th>4813</th>\n",
       "      <td>Makeup Remover</td>\n",
       "      <td>Lancôme</td>\n",
       "      <td>Lait Galatéis Douceur</td>\n",
       "      <td>oil</td>\n",
       "    </tr>\n",
       "    <tr>\n",
       "      <th>4814</th>\n",
       "      <td>Sunscreen\\n50 SPF</td>\n",
       "      <td>Dr. Oracle</td>\n",
       "      <td>A-Thera Sunblock SPF 50</td>\n",
       "      <td>oil</td>\n",
       "    </tr>\n",
       "    <tr>\n",
       "      <th>4815</th>\n",
       "      <td>Face Makeup\\n50 SPF</td>\n",
       "      <td>Laneige</td>\n",
       "      <td>Skin Veil Luminizing Base with SPF50</td>\n",
       "      <td>oil</td>\n",
       "    </tr>\n",
       "    <tr>\n",
       "      <th>4816</th>\n",
       "      <td>Face Makeup</td>\n",
       "      <td>Holika Holika</td>\n",
       "      <td>Clearing Petit BB</td>\n",
       "      <td>oil</td>\n",
       "    </tr>\n",
       "  </tbody>\n",
       "</table>\n",
       "</div>"
      ],
      "text/plain": [
       "                     Type          Brand  \\\n",
       "4812          Face Makeup       By Terry   \n",
       "4813       Makeup Remover        Lancôme   \n",
       "4814    Sunscreen\\n50 SPF     Dr. Oracle   \n",
       "4815  Face Makeup\\n50 SPF        Laneige   \n",
       "4816          Face Makeup  Holika Holika   \n",
       "\n",
       "                                      Name Skin  \n",
       "4812           Hyaluronic Hydra-Foundation  oil  \n",
       "4813                 Lait Galatéis Douceur  oil  \n",
       "4814               A-Thera Sunblock SPF 50  oil  \n",
       "4815  Skin Veil Luminizing Base with SPF50  oil  \n",
       "4816                     Clearing Petit BB  oil  "
      ]
     },
     "execution_count": 17,
     "metadata": {},
     "output_type": "execute_result"
    }
   ],
   "source": [
    "oil.tail()"
   ]
  },
  {
   "cell_type": "code",
   "execution_count": 18,
   "id": "f04b4f11",
   "metadata": {},
   "outputs": [],
   "source": [
    "total = pd.concat([dry,oil], axis=0)"
   ]
  },
  {
   "cell_type": "code",
   "execution_count": 19,
   "id": "f4f2ec43",
   "metadata": {},
   "outputs": [],
   "source": [
    "def obtener_listados(lista):\n",
    "    tipos = []\n",
    "    marcas = []\n",
    "    nombres = []\n",
    "    for elemento in lista:\n",
    "        tipos.extend(elemento[0])\n",
    "        marcas.extend(elemento[1])\n",
    "        nombres.extend(elemento[2])\n",
    "    return tipos, marcas, nombres\n",
    "\n",
    "tipos1, marcas1, nombres1 = obtener_listados(acne)\n",
    "tipos2, marcas2, nombres2 = obtener_listados(age)\n",
    "tipos3, marcas3, nombres3 = obtener_listados(bright)\n",
    "tipos4, marcas4, nombres4 = obtener_listados(pores)\n",
    "tipos5, marcas5, nombres5 = obtener_listados(scar)\n",
    "tipos6, marcas6, nombres6 = obtener_listados(sens)\n",
    "tipos7, marcas7, nombres7 = obtener_listados(spots)\n",
    "tipos8, marcas8, nombres8 = obtener_listados(text)\n"
   ]
  },
  {
   "cell_type": "code",
   "execution_count": 20,
   "id": "0e9ea31a",
   "metadata": {},
   "outputs": [],
   "source": [
    "data3 = {'Type': tipos1, 'Brand': marcas1, 'Name': nombres1}\n",
    "acne = pd.DataFrame(data3)\n",
    "acne['Skin'] = ['acne'] * len(acne.index)"
   ]
  },
  {
   "cell_type": "code",
   "execution_count": 21,
   "id": "e33dadfa",
   "metadata": {},
   "outputs": [
    {
     "data": {
      "text/html": [
       "<div>\n",
       "<style scoped>\n",
       "    .dataframe tbody tr th:only-of-type {\n",
       "        vertical-align: middle;\n",
       "    }\n",
       "\n",
       "    .dataframe tbody tr th {\n",
       "        vertical-align: top;\n",
       "    }\n",
       "\n",
       "    .dataframe thead th {\n",
       "        text-align: right;\n",
       "    }\n",
       "</style>\n",
       "<table border=\"1\" class=\"dataframe\">\n",
       "  <thead>\n",
       "    <tr style=\"text-align: right;\">\n",
       "      <th></th>\n",
       "      <th>Type</th>\n",
       "      <th>Brand</th>\n",
       "      <th>Name</th>\n",
       "      <th>Skin</th>\n",
       "    </tr>\n",
       "  </thead>\n",
       "  <tbody>\n",
       "    <tr>\n",
       "      <th>3779</th>\n",
       "      <td>General Moisturizer</td>\n",
       "      <td>Neutrogena</td>\n",
       "      <td>Clear &amp; Defend Oil-Free Moisturiser</td>\n",
       "      <td>acne</td>\n",
       "    </tr>\n",
       "    <tr>\n",
       "      <th>3780</th>\n",
       "      <td>Face Makeup\\n50 SPF</td>\n",
       "      <td>Laneige</td>\n",
       "      <td>Skin Veil Luminizing Base with SPF50</td>\n",
       "      <td>acne</td>\n",
       "    </tr>\n",
       "    <tr>\n",
       "      <th>3781</th>\n",
       "      <td>Face Cleanser</td>\n",
       "      <td>up&amp;up</td>\n",
       "      <td>Renewing Cleanser</td>\n",
       "      <td>acne</td>\n",
       "    </tr>\n",
       "    <tr>\n",
       "      <th>3782</th>\n",
       "      <td>Face Cleanser</td>\n",
       "      <td>Neutrogena</td>\n",
       "      <td>Rapid Clear Stubborn Daily Acne Facial Cleanser</td>\n",
       "      <td>acne</td>\n",
       "    </tr>\n",
       "    <tr>\n",
       "      <th>3783</th>\n",
       "      <td>General Moisturizer</td>\n",
       "      <td>up&amp;up</td>\n",
       "      <td>Repairing Treatment</td>\n",
       "      <td>acne</td>\n",
       "    </tr>\n",
       "  </tbody>\n",
       "</table>\n",
       "</div>"
      ],
      "text/plain": [
       "                     Type       Brand  \\\n",
       "3779  General Moisturizer  Neutrogena   \n",
       "3780  Face Makeup\\n50 SPF     Laneige   \n",
       "3781        Face Cleanser       up&up   \n",
       "3782        Face Cleanser  Neutrogena   \n",
       "3783  General Moisturizer       up&up   \n",
       "\n",
       "                                                 Name  Skin  \n",
       "3779              Clear & Defend Oil-Free Moisturiser  acne  \n",
       "3780             Skin Veil Luminizing Base with SPF50  acne  \n",
       "3781                                Renewing Cleanser  acne  \n",
       "3782  Rapid Clear Stubborn Daily Acne Facial Cleanser  acne  \n",
       "3783                              Repairing Treatment  acne  "
      ]
     },
     "execution_count": 21,
     "metadata": {},
     "output_type": "execute_result"
    }
   ],
   "source": [
    "acne.tail()"
   ]
  },
  {
   "cell_type": "code",
   "execution_count": 22,
   "id": "4ccb2d4a",
   "metadata": {},
   "outputs": [],
   "source": [
    "data4 = {'Type': tipos2, 'Brand': marcas2, 'Name': nombres2}\n",
    "age = pd.DataFrame(data4)\n",
    "age['Skin'] = ['age'] * len(age.index)"
   ]
  },
  {
   "cell_type": "code",
   "execution_count": 23,
   "id": "a4d05d04",
   "metadata": {},
   "outputs": [
    {
     "data": {
      "text/html": [
       "<div>\n",
       "<style scoped>\n",
       "    .dataframe tbody tr th:only-of-type {\n",
       "        vertical-align: middle;\n",
       "    }\n",
       "\n",
       "    .dataframe tbody tr th {\n",
       "        vertical-align: top;\n",
       "    }\n",
       "\n",
       "    .dataframe thead th {\n",
       "        text-align: right;\n",
       "    }\n",
       "</style>\n",
       "<table border=\"1\" class=\"dataframe\">\n",
       "  <thead>\n",
       "    <tr style=\"text-align: right;\">\n",
       "      <th></th>\n",
       "      <th>Type</th>\n",
       "      <th>Brand</th>\n",
       "      <th>Name</th>\n",
       "      <th>Skin</th>\n",
       "    </tr>\n",
       "  </thead>\n",
       "  <tbody>\n",
       "    <tr>\n",
       "      <th>0</th>\n",
       "      <td>Face Cleanser</td>\n",
       "      <td>CeraVe</td>\n",
       "      <td>Hydrating Facial Cleanser</td>\n",
       "      <td>age</td>\n",
       "    </tr>\n",
       "    <tr>\n",
       "      <th>1</th>\n",
       "      <td>Face Cleanser</td>\n",
       "      <td>CeraVe</td>\n",
       "      <td>Foaming Facial Cleanser</td>\n",
       "      <td>age</td>\n",
       "    </tr>\n",
       "    <tr>\n",
       "      <th>2</th>\n",
       "      <td>General Moisturizer</td>\n",
       "      <td>CeraVe</td>\n",
       "      <td>Moisturizing Cream</td>\n",
       "      <td>age</td>\n",
       "    </tr>\n",
       "    <tr>\n",
       "      <th>3</th>\n",
       "      <td>General Moisturizer</td>\n",
       "      <td>CeraVe</td>\n",
       "      <td>Daily Moisturizing Lotion</td>\n",
       "      <td>age</td>\n",
       "    </tr>\n",
       "    <tr>\n",
       "      <th>4</th>\n",
       "      <td>Face Cleanser</td>\n",
       "      <td>CeraVe</td>\n",
       "      <td>Renewing SA Cleanser</td>\n",
       "      <td>age</td>\n",
       "    </tr>\n",
       "  </tbody>\n",
       "</table>\n",
       "</div>"
      ],
      "text/plain": [
       "                  Type   Brand                       Name Skin\n",
       "0        Face Cleanser  CeraVe  Hydrating Facial Cleanser  age\n",
       "1        Face Cleanser  CeraVe    Foaming Facial Cleanser  age\n",
       "2  General Moisturizer  CeraVe         Moisturizing Cream  age\n",
       "3  General Moisturizer  CeraVe  Daily Moisturizing Lotion  age\n",
       "4        Face Cleanser  CeraVe       Renewing SA Cleanser  age"
      ]
     },
     "execution_count": 23,
     "metadata": {},
     "output_type": "execute_result"
    }
   ],
   "source": [
    "age.head()"
   ]
  },
  {
   "cell_type": "code",
   "execution_count": 24,
   "id": "cef99d09",
   "metadata": {},
   "outputs": [],
   "source": [
    "data5 = {'Type': tipos3, 'Brand': marcas3, 'Name': nombres3}\n",
    "bright= pd.DataFrame(data5)\n",
    "bright['Skin'] = ['brightening'] * len(bright.index)"
   ]
  },
  {
   "cell_type": "code",
   "execution_count": 25,
   "id": "1c834699",
   "metadata": {},
   "outputs": [],
   "source": [
    "data6 = {'Type': tipos4, 'Brand': marcas4, 'Name': nombres4}\n",
    "pores= pd.DataFrame(data6)\n",
    "pores['Skin'] = ['large pores'] * len(pores.index)"
   ]
  },
  {
   "cell_type": "code",
   "execution_count": 26,
   "id": "0b308614",
   "metadata": {},
   "outputs": [],
   "source": [
    "data7 = {'Type': tipos5, 'Brand': marcas5, 'Name': nombres5}\n",
    "scar= pd.DataFrame(data7)\n",
    "scar['Skin'] = ['scar healing'] * len(scar.index)"
   ]
  },
  {
   "cell_type": "code",
   "execution_count": 27,
   "id": "abb836bb",
   "metadata": {},
   "outputs": [],
   "source": [
    "data8 = {'Type': tipos6, 'Brand': marcas6, 'Name': nombres6}\n",
    "sens= pd.DataFrame(data8)\n",
    "sens['Skin'] = ['sensitive'] * len(sens.index)"
   ]
  },
  {
   "cell_type": "code",
   "execution_count": 28,
   "id": "a924cbca",
   "metadata": {},
   "outputs": [],
   "source": [
    "data9 = {'Type': tipos7, 'Brand': marcas7, 'Name': nombres7}\n",
    "spots= pd.DataFrame(data9)\n",
    "spots['Skin'] = ['dark spots'] * len(spots.index)"
   ]
  },
  {
   "cell_type": "code",
   "execution_count": 29,
   "id": "d58d7e7f",
   "metadata": {},
   "outputs": [],
   "source": [
    "dataa = {'Type': tipos8, 'Brand': marcas8, 'Name': nombres8}\n",
    "text= pd.DataFrame(dataa)\n",
    "text['Skin'] = ['texture'] * len(text.index)"
   ]
  },
  {
   "cell_type": "code",
   "execution_count": 30,
   "id": "9154c748",
   "metadata": {},
   "outputs": [],
   "source": [
    "skincare = pd.concat([total, acne, age, bright, pores, scar, sens, spots, text], axis=0)"
   ]
  },
  {
   "cell_type": "code",
   "execution_count": 31,
   "id": "55423f42",
   "metadata": {},
   "outputs": [
    {
     "data": {
      "text/html": [
       "<div>\n",
       "<style scoped>\n",
       "    .dataframe tbody tr th:only-of-type {\n",
       "        vertical-align: middle;\n",
       "    }\n",
       "\n",
       "    .dataframe tbody tr th {\n",
       "        vertical-align: top;\n",
       "    }\n",
       "\n",
       "    .dataframe thead th {\n",
       "        text-align: right;\n",
       "    }\n",
       "</style>\n",
       "<table border=\"1\" class=\"dataframe\">\n",
       "  <thead>\n",
       "    <tr style=\"text-align: right;\">\n",
       "      <th></th>\n",
       "      <th>Type</th>\n",
       "      <th>Brand</th>\n",
       "      <th>Name</th>\n",
       "      <th>Skin</th>\n",
       "    </tr>\n",
       "  </thead>\n",
       "  <tbody>\n",
       "    <tr>\n",
       "      <th>1</th>\n",
       "      <td>Face Cleanser</td>\n",
       "      <td>CeraVe</td>\n",
       "      <td>Foaming Facial Cleanser</td>\n",
       "      <td>oil</td>\n",
       "    </tr>\n",
       "    <tr>\n",
       "      <th>3</th>\n",
       "      <td>Face Cleanser</td>\n",
       "      <td>CeraVe</td>\n",
       "      <td>Renewing SA Cleanser</td>\n",
       "      <td>oil</td>\n",
       "    </tr>\n",
       "    <tr>\n",
       "      <th>21</th>\n",
       "      <td>Face Cleanser</td>\n",
       "      <td>CeraVe</td>\n",
       "      <td>SA Smoothing Cleanser</td>\n",
       "      <td>oil</td>\n",
       "    </tr>\n",
       "    <tr>\n",
       "      <th>22</th>\n",
       "      <td>Face Cleanser</td>\n",
       "      <td>CeraVe</td>\n",
       "      <td>Hydrating Cream To Foam Cleanser</td>\n",
       "      <td>oil</td>\n",
       "    </tr>\n",
       "    <tr>\n",
       "      <th>25</th>\n",
       "      <td>Face Cleanser</td>\n",
       "      <td>CeraVe</td>\n",
       "      <td>Acne Foaming Cream Cleanser</td>\n",
       "      <td>oil</td>\n",
       "    </tr>\n",
       "    <tr>\n",
       "      <th>...</th>\n",
       "      <td>...</td>\n",
       "      <td>...</td>\n",
       "      <td>...</td>\n",
       "      <td>...</td>\n",
       "    </tr>\n",
       "    <tr>\n",
       "      <th>1973</th>\n",
       "      <td>Face Cleanser</td>\n",
       "      <td>CeraVe</td>\n",
       "      <td>Psoriasis Cleanser with Salicylic Acid Psorias...</td>\n",
       "      <td>dark spots</td>\n",
       "    </tr>\n",
       "    <tr>\n",
       "      <th>0</th>\n",
       "      <td>Face Cleanser</td>\n",
       "      <td>CeraVe</td>\n",
       "      <td>Renewing SA Cleanser</td>\n",
       "      <td>texture</td>\n",
       "    </tr>\n",
       "    <tr>\n",
       "      <th>14</th>\n",
       "      <td>Face Cleanser</td>\n",
       "      <td>CeraVe</td>\n",
       "      <td>Acne Foaming Cream Cleanser</td>\n",
       "      <td>texture</td>\n",
       "    </tr>\n",
       "    <tr>\n",
       "      <th>2230</th>\n",
       "      <td>Face Cleanser</td>\n",
       "      <td>CeraVe</td>\n",
       "      <td>Psoriasis Cleanser with Salicylic Acid Psorias...</td>\n",
       "      <td>texture</td>\n",
       "    </tr>\n",
       "    <tr>\n",
       "      <th>3795</th>\n",
       "      <td>Face Cleanser</td>\n",
       "      <td>CeraVe</td>\n",
       "      <td>Hydrating Cleanser Bar</td>\n",
       "      <td>texture</td>\n",
       "    </tr>\n",
       "  </tbody>\n",
       "</table>\n",
       "<p>63 rows × 4 columns</p>\n",
       "</div>"
      ],
      "text/plain": [
       "               Type   Brand  \\\n",
       "1     Face Cleanser  CeraVe   \n",
       "3     Face Cleanser  CeraVe   \n",
       "21    Face Cleanser  CeraVe   \n",
       "22    Face Cleanser  CeraVe   \n",
       "25    Face Cleanser  CeraVe   \n",
       "...             ...     ...   \n",
       "1973  Face Cleanser  CeraVe   \n",
       "0     Face Cleanser  CeraVe   \n",
       "14    Face Cleanser  CeraVe   \n",
       "2230  Face Cleanser  CeraVe   \n",
       "3795  Face Cleanser  CeraVe   \n",
       "\n",
       "                                                   Name        Skin  \n",
       "1                               Foaming Facial Cleanser         oil  \n",
       "3                                  Renewing SA Cleanser         oil  \n",
       "21                                SA Smoothing Cleanser         oil  \n",
       "22                     Hydrating Cream To Foam Cleanser         oil  \n",
       "25                          Acne Foaming Cream Cleanser         oil  \n",
       "...                                                 ...         ...  \n",
       "1973  Psoriasis Cleanser with Salicylic Acid Psorias...  dark spots  \n",
       "0                                  Renewing SA Cleanser     texture  \n",
       "14                          Acne Foaming Cream Cleanser     texture  \n",
       "2230  Psoriasis Cleanser with Salicylic Acid Psorias...     texture  \n",
       "3795                             Hydrating Cleanser Bar     texture  \n",
       "\n",
       "[63 rows x 4 columns]"
      ]
     },
     "execution_count": 31,
     "metadata": {},
     "output_type": "execute_result"
    }
   ],
   "source": [
    "skincare[(skincare.Type == 'Face Cleanser') & (skincare.Brand == 'CeraVe')]"
   ]
  },
  {
   "cell_type": "code",
   "execution_count": 32,
   "id": "c520987a",
   "metadata": {},
   "outputs": [
    {
     "data": {
      "text/html": [
       "<div>\n",
       "<style scoped>\n",
       "    .dataframe tbody tr th:only-of-type {\n",
       "        vertical-align: middle;\n",
       "    }\n",
       "\n",
       "    .dataframe tbody tr th {\n",
       "        vertical-align: top;\n",
       "    }\n",
       "\n",
       "    .dataframe thead th {\n",
       "        text-align: right;\n",
       "    }\n",
       "</style>\n",
       "<table border=\"1\" class=\"dataframe\">\n",
       "  <thead>\n",
       "    <tr style=\"text-align: right;\">\n",
       "      <th></th>\n",
       "      <th>Type</th>\n",
       "      <th>Brand</th>\n",
       "      <th>Name</th>\n",
       "      <th>Skin</th>\n",
       "    </tr>\n",
       "  </thead>\n",
       "  <tbody>\n",
       "    <tr>\n",
       "      <th>3980</th>\n",
       "      <td>Face Cleanser</td>\n",
       "      <td>GLAMGLOW</td>\n",
       "      <td>SUPERCLEANSE™</td>\n",
       "      <td>texture</td>\n",
       "    </tr>\n",
       "    <tr>\n",
       "      <th>3981</th>\n",
       "      <td>Sunscreen\\n30 SPF</td>\n",
       "      <td>Lancaster</td>\n",
       "      <td>Sun Beauty Velvet Touch Cream SPF30</td>\n",
       "      <td>texture</td>\n",
       "    </tr>\n",
       "    <tr>\n",
       "      <th>3982</th>\n",
       "      <td>Lip Moisturizer</td>\n",
       "      <td>Maybelline</td>\n",
       "      <td>Baby Lips Balm</td>\n",
       "      <td>texture</td>\n",
       "    </tr>\n",
       "    <tr>\n",
       "      <th>3983</th>\n",
       "      <td>Eye Makeup</td>\n",
       "      <td>Max Factor X</td>\n",
       "      <td>2000 Calorie Dramatic Volume Mascara</td>\n",
       "      <td>texture</td>\n",
       "    </tr>\n",
       "    <tr>\n",
       "      <th>3984</th>\n",
       "      <td>Sunscreen\\n50 SPF</td>\n",
       "      <td>L'Oreal</td>\n",
       "      <td>UV Perfect City Resist SPF50+ PA++++</td>\n",
       "      <td>texture</td>\n",
       "    </tr>\n",
       "  </tbody>\n",
       "</table>\n",
       "</div>"
      ],
      "text/plain": [
       "                   Type         Brand                                  Name  \\\n",
       "3980      Face Cleanser      GLAMGLOW                         SUPERCLEANSE™   \n",
       "3981  Sunscreen\\n30 SPF     Lancaster   Sun Beauty Velvet Touch Cream SPF30   \n",
       "3982    Lip Moisturizer    Maybelline                        Baby Lips Balm   \n",
       "3983         Eye Makeup  Max Factor X  2000 Calorie Dramatic Volume Mascara   \n",
       "3984  Sunscreen\\n50 SPF       L'Oreal  UV Perfect City Resist SPF50+ PA++++   \n",
       "\n",
       "         Skin  \n",
       "3980  texture  \n",
       "3981  texture  \n",
       "3982  texture  \n",
       "3983  texture  \n",
       "3984  texture  "
      ]
     },
     "execution_count": 32,
     "metadata": {},
     "output_type": "execute_result"
    }
   ],
   "source": [
    "skincare.tail()"
   ]
  },
  {
   "cell_type": "code",
   "execution_count": 33,
   "id": "733d903a",
   "metadata": {},
   "outputs": [],
   "source": [
    "skincare = skincare.reset_index(drop=True)"
   ]
  },
  {
   "cell_type": "code",
   "execution_count": 34,
   "id": "f0f62c88",
   "metadata": {},
   "outputs": [
    {
     "data": {
      "text/plain": [
       "Neutrogena               592\n",
       "Paula's Choice           589\n",
       "La Roche-Posay           460\n",
       "Olay                     342\n",
       "L'Oreal                  341\n",
       "                        ... \n",
       "Pure Body Naturals         1\n",
       "Jones Road                 1\n",
       "we are feel good inc.      1\n",
       "Open Nature                1\n",
       "Ecological Formulas        1\n",
       "Name: Brand, Length: 1624, dtype: int64"
      ]
     },
     "execution_count": 34,
     "metadata": {},
     "output_type": "execute_result"
    }
   ],
   "source": [
    "skincare.Brand.value_counts()"
   ]
  },
  {
   "cell_type": "code",
   "execution_count": 35,
   "id": "699102f8",
   "metadata": {},
   "outputs": [
    {
     "name": "stdout",
     "output_type": "stream",
     "text": [
      "<class 'pandas.core.frame.DataFrame'>\n",
      "RangeIndex: 45298 entries, 0 to 45297\n",
      "Data columns (total 4 columns):\n",
      " #   Column  Non-Null Count  Dtype \n",
      "---  ------  --------------  ----- \n",
      " 0   Type    45298 non-null  object\n",
      " 1   Brand   45298 non-null  object\n",
      " 2   Name    45298 non-null  object\n",
      " 3   Skin    45298 non-null  object\n",
      "dtypes: object(4)\n",
      "memory usage: 1.4+ MB\n"
     ]
    }
   ],
   "source": [
    "skincare.info()"
   ]
  },
  {
   "cell_type": "code",
   "execution_count": 36,
   "id": "5b171ef0",
   "metadata": {},
   "outputs": [
    {
     "data": {
      "text/plain": [
       "True"
      ]
     },
     "execution_count": 36,
     "metadata": {},
     "output_type": "execute_result"
    }
   ],
   "source": [
    "skincare.duplicated().any()"
   ]
  },
  {
   "cell_type": "code",
   "execution_count": 37,
   "id": "1ce001d5",
   "metadata": {},
   "outputs": [],
   "source": [
    "skincare = skincare.drop_duplicates()"
   ]
  },
  {
   "cell_type": "code",
   "execution_count": 38,
   "id": "91660d96",
   "metadata": {},
   "outputs": [
    {
     "name": "stdout",
     "output_type": "stream",
     "text": [
      "<class 'pandas.core.frame.DataFrame'>\n",
      "Int64Index: 44993 entries, 0 to 45297\n",
      "Data columns (total 4 columns):\n",
      " #   Column  Non-Null Count  Dtype \n",
      "---  ------  --------------  ----- \n",
      " 0   Type    44993 non-null  object\n",
      " 1   Brand   44993 non-null  object\n",
      " 2   Name    44993 non-null  object\n",
      " 3   Skin    44993 non-null  object\n",
      "dtypes: object(4)\n",
      "memory usage: 1.7+ MB\n"
     ]
    }
   ],
   "source": [
    "skincare.info()"
   ]
  },
  {
   "cell_type": "code",
   "execution_count": 39,
   "id": "f713c481",
   "metadata": {},
   "outputs": [
    {
     "data": {
      "text/html": [
       "<div>\n",
       "<style scoped>\n",
       "    .dataframe tbody tr th:only-of-type {\n",
       "        vertical-align: middle;\n",
       "    }\n",
       "\n",
       "    .dataframe tbody tr th {\n",
       "        vertical-align: top;\n",
       "    }\n",
       "\n",
       "    .dataframe thead th {\n",
       "        text-align: right;\n",
       "    }\n",
       "</style>\n",
       "<table border=\"1\" class=\"dataframe\">\n",
       "  <thead>\n",
       "    <tr style=\"text-align: right;\">\n",
       "      <th></th>\n",
       "      <th>Type</th>\n",
       "      <th>Brand</th>\n",
       "      <th>Name</th>\n",
       "      <th>Skin</th>\n",
       "    </tr>\n",
       "  </thead>\n",
       "  <tbody>\n",
       "    <tr>\n",
       "      <th>346</th>\n",
       "      <td>Sunscreen\\n30 SPF</td>\n",
       "      <td>Black Girl Sunscreen</td>\n",
       "      <td>Sunscreen SPF 30</td>\n",
       "      <td>dry</td>\n",
       "    </tr>\n",
       "    <tr>\n",
       "      <th>408</th>\n",
       "      <td>Sunscreen\\n30 SPF</td>\n",
       "      <td>Mad Hippie</td>\n",
       "      <td>Facial SPF 30+ Sunscreen</td>\n",
       "      <td>dry</td>\n",
       "    </tr>\n",
       "    <tr>\n",
       "      <th>785</th>\n",
       "      <td>Sunscreen\\n30 SPF</td>\n",
       "      <td>Drunk Elephant</td>\n",
       "      <td>Umbra™ Sheer Physical Daily Defense Broad Spec...</td>\n",
       "      <td>dry</td>\n",
       "    </tr>\n",
       "    <tr>\n",
       "      <th>881</th>\n",
       "      <td>Sunscreen\\n30 SPF</td>\n",
       "      <td>Colorescience</td>\n",
       "      <td>Tint du Soleil SPF 30 UV Protective Foundation</td>\n",
       "      <td>dry</td>\n",
       "    </tr>\n",
       "    <tr>\n",
       "      <th>890</th>\n",
       "      <td>Sunscreen\\n30 SPF</td>\n",
       "      <td>Supergoop!</td>\n",
       "      <td>City Sunscreen Serum SPF 30+ PA+++</td>\n",
       "      <td>dry</td>\n",
       "    </tr>\n",
       "    <tr>\n",
       "      <th>...</th>\n",
       "      <td>...</td>\n",
       "      <td>...</td>\n",
       "      <td>...</td>\n",
       "      <td>...</td>\n",
       "    </tr>\n",
       "    <tr>\n",
       "      <th>45047</th>\n",
       "      <td>Sunscreen\\n30 SPF</td>\n",
       "      <td>Supergoop!</td>\n",
       "      <td>PLAY Antioxidant Body Sunscreen Mist SPF 30 PA...</td>\n",
       "      <td>texture</td>\n",
       "    </tr>\n",
       "    <tr>\n",
       "      <th>45115</th>\n",
       "      <td>Sunscreen\\n30 SPF</td>\n",
       "      <td>Dr. Dennis Gross Skincare</td>\n",
       "      <td>All-Physical Lightweight Wrinkle Defense Broad...</td>\n",
       "      <td>texture</td>\n",
       "    </tr>\n",
       "    <tr>\n",
       "      <th>45135</th>\n",
       "      <td>Sunscreen\\n30 SPF</td>\n",
       "      <td>Think</td>\n",
       "      <td>Everyday Face, SPF 30+, Naturally Tinted</td>\n",
       "      <td>texture</td>\n",
       "    </tr>\n",
       "    <tr>\n",
       "      <th>45156</th>\n",
       "      <td>Sunscreen\\n30 SPF</td>\n",
       "      <td>Your Good Skin</td>\n",
       "      <td>SPF 30 Anti-Oxidant Day Cream</td>\n",
       "      <td>texture</td>\n",
       "    </tr>\n",
       "    <tr>\n",
       "      <th>45294</th>\n",
       "      <td>Sunscreen\\n30 SPF</td>\n",
       "      <td>Lancaster</td>\n",
       "      <td>Sun Beauty Velvet Touch Cream SPF30</td>\n",
       "      <td>texture</td>\n",
       "    </tr>\n",
       "  </tbody>\n",
       "</table>\n",
       "<p>569 rows × 4 columns</p>\n",
       "</div>"
      ],
      "text/plain": [
       "                    Type                      Brand  \\\n",
       "346    Sunscreen\\n30 SPF       Black Girl Sunscreen   \n",
       "408    Sunscreen\\n30 SPF                 Mad Hippie   \n",
       "785    Sunscreen\\n30 SPF             Drunk Elephant   \n",
       "881    Sunscreen\\n30 SPF              Colorescience   \n",
       "890    Sunscreen\\n30 SPF                 Supergoop!   \n",
       "...                  ...                        ...   \n",
       "45047  Sunscreen\\n30 SPF                 Supergoop!   \n",
       "45115  Sunscreen\\n30 SPF  Dr. Dennis Gross Skincare   \n",
       "45135  Sunscreen\\n30 SPF                      Think   \n",
       "45156  Sunscreen\\n30 SPF             Your Good Skin   \n",
       "45294  Sunscreen\\n30 SPF                  Lancaster   \n",
       "\n",
       "                                                    Name     Skin  \n",
       "346                                     Sunscreen SPF 30      dry  \n",
       "408                             Facial SPF 30+ Sunscreen      dry  \n",
       "785    Umbra™ Sheer Physical Daily Defense Broad Spec...      dry  \n",
       "881       Tint du Soleil SPF 30 UV Protective Foundation      dry  \n",
       "890                   City Sunscreen Serum SPF 30+ PA+++      dry  \n",
       "...                                                  ...      ...  \n",
       "45047  PLAY Antioxidant Body Sunscreen Mist SPF 30 PA...  texture  \n",
       "45115  All-Physical Lightweight Wrinkle Defense Broad...  texture  \n",
       "45135           Everyday Face, SPF 30+, Naturally Tinted  texture  \n",
       "45156                      SPF 30 Anti-Oxidant Day Cream  texture  \n",
       "45294                Sun Beauty Velvet Touch Cream SPF30  texture  \n",
       "\n",
       "[569 rows x 4 columns]"
      ]
     },
     "execution_count": 39,
     "metadata": {},
     "output_type": "execute_result"
    }
   ],
   "source": [
    "skincare[skincare['Type']== 'Sunscreen\\n30 SPF']"
   ]
  },
  {
   "cell_type": "code",
   "execution_count": 40,
   "id": "5d8e965a",
   "metadata": {},
   "outputs": [
    {
     "data": {
      "text/plain": [
       "array(['General Moisturizer', 'Eye Moisturizer', 'Toner', 'Serum',\n",
       "       'Eye Mask', 'Facial Treatment', 'Bath & Body', 'Wet Mask',\n",
       "       'Sheet Mask', 'Essence', 'Oil', 'Makeup Remover', 'Overnight Mask',\n",
       "       'Other', 'Exfoliator', 'Shampoo', 'Face Cleanser', 'Sunscreen',\n",
       "       'Hand Care', 'Sunscreen\\n50 SPF', 'Night Moisturizer',\n",
       "       'Face Makeup\\n50 SPF', 'Day Moisturizer', 'Tanning', 'Lip Makeup',\n",
       "       'General Moisturizer\\n30 SPF', 'Other Haircare', 'Face Makeup',\n",
       "       'Sunscreen\\n30 SPF', 'Day Moisturizer\\n30 SPF', 'Eye Makeup',\n",
       "       'Lip Moisturizer\\n30 SPF', 'Face Makeup\\n25 SPF',\n",
       "       'Lip Moisturizer', 'Lip Moisturizer\\n25 SPF', 'Conditioner',\n",
       "       'Sunscreen\\n35 SPF', 'Cheek Makeup', 'Emulsion',\n",
       "       'Sunscreen\\n20 SPF', 'Lip Mask', 'Sunscreen\\n45 SPF',\n",
       "       'Lip Moisturizer\\n15 SPF', 'Bath & Body\\n50 SPF',\n",
       "       'Sunscreen\\n55 SPF', 'Sunscreen\\n15 SPF', 'Face Makeup\\n23 SPF',\n",
       "       'Sunscreen\\n25 SPF', 'Day Moisturizer\\n15 SPF',\n",
       "       'General Moisturizer\\n25 SPF', 'Face Makeup\\n35 SPF',\n",
       "       'Day Moisturizer\\n25 SPF', 'Day Moisturizer\\n23 SPF',\n",
       "       'Sunscreen\\n40 SPF', 'Face Makeup\\n15 SPF', 'Nail Care',\n",
       "       'Other\\n35 SPF', 'Face Makeup\\n20 SPF', 'Lip Moisturizer\\n50 SPF',\n",
       "       'Sunscreen\\n41 SPF', 'Hand Care\\n25 SPF',\n",
       "       'Day Moisturizer\\n35 SPF', 'Face Makeup\\n30 SPF',\n",
       "       'Tanning\\n15 SPF', 'Face Makeup\\n45 SPF',\n",
       "       'Day Moisturizer\\n46 SPF', 'Tool', 'Sunscreen\\n34 SPF',\n",
       "       'Sunscreen\\n60 SPF', '', 'Serum\\n40 SPF',\n",
       "       'Day Moisturizer\\n40 SPF', 'General Moisturizer\\n20 SPF',\n",
       "       'Night Moisturizer\\n30 SPF', 'Day Moisturizer\\n20 SPF',\n",
       "       'Day Moisturizer\\n50 SPF', 'Lip Moisturizer\\n40 SPF',\n",
       "       'Sunscreen\\n46 SPF', 'General Moisturizer\\n15 SPF',\n",
       "       'Sunscreen\\n70 SPF', 'Sunscreen\\n38 SPF', 'Serum\\n50 SPF',\n",
       "       'Face Makeup\\n40 SPF', 'Sunscreen\\n75 SPF',\n",
       "       'General Moisturizer\\n50 SPF', 'Tanning\\n30 SPF',\n",
       "       'Face Makeup\\n33 SPF', 'Face Makeup\\n28 SPF', 'Emulsion\\n30 SPF',\n",
       "       'False Eyelash', 'Sunscreen\\n32 SPF', 'Serum\\n55 SPF',\n",
       "       'Day Moisturizer\\n18 SPF', 'General Moisturizer\\n45 SPF',\n",
       "       'Sunscreen\\n44 SPF', 'Eye Moisturizer\\n15 SPF',\n",
       "       'Sunscreen\\n43 SPF', 'Lip Moisturizer\\n20 SPF', 'Tanning\\n25 SPF',\n",
       "       'Lip Moisturizer\\n45 SPF', 'Eye Moisturizer\\n30 SPF',\n",
       "       'Makeup Applicator', 'Face Makeup\\n27 SPF',\n",
       "       'Eye Moisturizer\\n20 SPF', 'Sunscreen\\n42 SPF',\n",
       "       'Sunscreen\\n68 SPF', 'Sunscreen\\n36 SPF',\n",
       "       'General Moisturizer\\n42 SPF', 'Fragrance', 'Other\\n30 SPF',\n",
       "       'Serum\\n30 SPF', 'Facial Treatment\\n50 SPF', 'Sunscreen\\n47 SPF',\n",
       "       'Sunscreen\\n100 SPF', 'Lip Makeup\\n15 SPF', 'Serum\\n60 SPF',\n",
       "       'Sunscreen\\n90 SPF', 'Sunscreen\\n33 SPF',\n",
       "       'Lip Moisturizer\\n11 SPF', 'Facial Treatment\\n20 SPF',\n",
       "       'Serum\\n45 SPF', 'Bath & Body\\n15 SPF'], dtype=object)"
      ]
     },
     "execution_count": 40,
     "metadata": {},
     "output_type": "execute_result"
    }
   ],
   "source": [
    "skincare.Type.unique()"
   ]
  },
  {
   "cell_type": "code",
   "execution_count": 41,
   "id": "dc055dcd",
   "metadata": {},
   "outputs": [],
   "source": [
    "skincare['Type'] = skincare['Type'].str.replace('\\n', ' ').str.strip()\n"
   ]
  },
  {
   "cell_type": "code",
   "execution_count": 42,
   "id": "968d34c1",
   "metadata": {},
   "outputs": [
    {
     "data": {
      "text/plain": [
       "array(['General Moisturizer', 'Eye Moisturizer', 'Toner', 'Serum',\n",
       "       'Eye Mask', 'Facial Treatment', 'Bath & Body', 'Wet Mask',\n",
       "       'Sheet Mask', 'Essence', 'Oil', 'Makeup Remover', 'Overnight Mask',\n",
       "       'Other', 'Exfoliator', 'Shampoo', 'Face Cleanser', 'Sunscreen',\n",
       "       'Hand Care', 'Sunscreen 50 SPF', 'Night Moisturizer',\n",
       "       'Face Makeup 50 SPF', 'Day Moisturizer', 'Tanning', 'Lip Makeup',\n",
       "       'General Moisturizer 30 SPF', 'Other Haircare', 'Face Makeup',\n",
       "       'Sunscreen 30 SPF', 'Day Moisturizer 30 SPF', 'Eye Makeup',\n",
       "       'Lip Moisturizer 30 SPF', 'Face Makeup 25 SPF', 'Lip Moisturizer',\n",
       "       'Lip Moisturizer 25 SPF', 'Conditioner', 'Sunscreen 35 SPF',\n",
       "       'Cheek Makeup', 'Emulsion', 'Sunscreen 20 SPF', 'Lip Mask',\n",
       "       'Sunscreen 45 SPF', 'Lip Moisturizer 15 SPF', 'Bath & Body 50 SPF',\n",
       "       'Sunscreen 55 SPF', 'Sunscreen 15 SPF', 'Face Makeup 23 SPF',\n",
       "       'Sunscreen 25 SPF', 'Day Moisturizer 15 SPF',\n",
       "       'General Moisturizer 25 SPF', 'Face Makeup 35 SPF',\n",
       "       'Day Moisturizer 25 SPF', 'Day Moisturizer 23 SPF',\n",
       "       'Sunscreen 40 SPF', 'Face Makeup 15 SPF', 'Nail Care',\n",
       "       'Other 35 SPF', 'Face Makeup 20 SPF', 'Lip Moisturizer 50 SPF',\n",
       "       'Sunscreen 41 SPF', 'Hand Care 25 SPF', 'Day Moisturizer 35 SPF',\n",
       "       'Face Makeup 30 SPF', 'Tanning 15 SPF', 'Face Makeup 45 SPF',\n",
       "       'Day Moisturizer 46 SPF', 'Tool', 'Sunscreen 34 SPF',\n",
       "       'Sunscreen 60 SPF', '', 'Serum 40 SPF', 'Day Moisturizer 40 SPF',\n",
       "       'General Moisturizer 20 SPF', 'Night Moisturizer 30 SPF',\n",
       "       'Day Moisturizer 20 SPF', 'Day Moisturizer 50 SPF',\n",
       "       'Lip Moisturizer 40 SPF', 'Sunscreen 46 SPF',\n",
       "       'General Moisturizer 15 SPF', 'Sunscreen 70 SPF',\n",
       "       'Sunscreen 38 SPF', 'Serum 50 SPF', 'Face Makeup 40 SPF',\n",
       "       'Sunscreen 75 SPF', 'General Moisturizer 50 SPF', 'Tanning 30 SPF',\n",
       "       'Face Makeup 33 SPF', 'Face Makeup 28 SPF', 'Emulsion 30 SPF',\n",
       "       'False Eyelash', 'Sunscreen 32 SPF', 'Serum 55 SPF',\n",
       "       'Day Moisturizer 18 SPF', 'General Moisturizer 45 SPF',\n",
       "       'Sunscreen 44 SPF', 'Eye Moisturizer 15 SPF', 'Sunscreen 43 SPF',\n",
       "       'Lip Moisturizer 20 SPF', 'Tanning 25 SPF',\n",
       "       'Lip Moisturizer 45 SPF', 'Eye Moisturizer 30 SPF',\n",
       "       'Makeup Applicator', 'Face Makeup 27 SPF',\n",
       "       'Eye Moisturizer 20 SPF', 'Sunscreen 42 SPF', 'Sunscreen 68 SPF',\n",
       "       'Sunscreen 36 SPF', 'General Moisturizer 42 SPF', 'Fragrance',\n",
       "       'Other 30 SPF', 'Serum 30 SPF', 'Facial Treatment 50 SPF',\n",
       "       'Sunscreen 47 SPF', 'Sunscreen 100 SPF', 'Lip Makeup 15 SPF',\n",
       "       'Serum 60 SPF', 'Sunscreen 90 SPF', 'Sunscreen 33 SPF',\n",
       "       'Lip Moisturizer 11 SPF', 'Facial Treatment 20 SPF',\n",
       "       'Serum 45 SPF', 'Bath & Body 15 SPF'], dtype=object)"
      ]
     },
     "execution_count": 42,
     "metadata": {},
     "output_type": "execute_result"
    }
   ],
   "source": [
    "skincare.Type.unique()"
   ]
  },
  {
   "cell_type": "code",
   "execution_count": 43,
   "id": "34b256cc",
   "metadata": {},
   "outputs": [],
   "source": [
    "skincare['Type'] = skincare['Type'].str.replace(r'\\d+ SPF', '')\n"
   ]
  },
  {
   "cell_type": "code",
   "execution_count": 44,
   "id": "e96beacc",
   "metadata": {},
   "outputs": [
    {
     "data": {
      "text/plain": [
       "array(['General Moisturizer', 'Eye Moisturizer', 'Toner', 'Serum',\n",
       "       'Eye Mask', 'Facial Treatment', 'Bath & Body', 'Wet Mask',\n",
       "       'Sheet Mask', 'Essence', 'Oil', 'Makeup Remover', 'Overnight Mask',\n",
       "       'Other', 'Exfoliator', 'Shampoo', 'Face Cleanser', 'Sunscreen',\n",
       "       'Hand Care', 'Sunscreen ', 'Night Moisturizer', 'Face Makeup ',\n",
       "       'Day Moisturizer', 'Tanning', 'Lip Makeup', 'General Moisturizer ',\n",
       "       'Other Haircare', 'Face Makeup', 'Day Moisturizer ', 'Eye Makeup',\n",
       "       'Lip Moisturizer ', 'Lip Moisturizer', 'Conditioner',\n",
       "       'Cheek Makeup', 'Emulsion', 'Lip Mask', 'Bath & Body ',\n",
       "       'Nail Care', 'Other ', 'Hand Care ', 'Tanning ', 'Tool', '',\n",
       "       'Serum ', 'Night Moisturizer ', 'Emulsion ', 'False Eyelash',\n",
       "       'Eye Moisturizer ', 'Makeup Applicator', 'Fragrance',\n",
       "       'Facial Treatment ', 'Lip Makeup '], dtype=object)"
      ]
     },
     "execution_count": 44,
     "metadata": {},
     "output_type": "execute_result"
    }
   ],
   "source": [
    "skincare.Type.unique()"
   ]
  },
  {
   "cell_type": "code",
   "execution_count": 45,
   "id": "46117c96",
   "metadata": {},
   "outputs": [],
   "source": [
    "skincare = skincare.loc[skincare['Type'] != '']\n"
   ]
  },
  {
   "cell_type": "code",
   "execution_count": 46,
   "id": "983cf1a8",
   "metadata": {},
   "outputs": [],
   "source": [
    "skincare['Type'] = skincare['Type'].str.strip()"
   ]
  },
  {
   "cell_type": "code",
   "execution_count": 47,
   "id": "54c516cb",
   "metadata": {},
   "outputs": [
    {
     "data": {
      "text/plain": [
       "Serum                  8477\n",
       "General Moisturizer    6051\n",
       "Face Cleanser          3897\n",
       "Sunscreen              2891\n",
       "Toner                  2623\n",
       "Facial Treatment       2351\n",
       "Eye Moisturizer        2254\n",
       "Bath & Body            1820\n",
       "Exfoliator             1792\n",
       "Face Makeup            1435\n",
       "Wet Mask               1339\n",
       "Night Moisturizer      1244\n",
       "Day Moisturizer        1142\n",
       "Sheet Mask              985\n",
       "Lip Moisturizer         804\n",
       "Essence                 756\n",
       "Makeup Remover          752\n",
       "Oil                     635\n",
       "Overnight Mask          624\n",
       "Eye Makeup              384\n",
       "Eye Mask                384\n",
       "Other Haircare          372\n",
       "Shampoo                 311\n",
       "Other                   307\n",
       "Lip Makeup              298\n",
       "Tanning                 257\n",
       "Conditioner             193\n",
       "Cheek Makeup            125\n",
       "Hand Care               123\n",
       "Lip Mask                110\n",
       "Emulsion                101\n",
       "Nail Care                92\n",
       "Tool                     39\n",
       "Fragrance                 9\n",
       "False Eyelash             6\n",
       "Makeup Applicator         6\n",
       "Name: Type, dtype: int64"
      ]
     },
     "execution_count": 47,
     "metadata": {},
     "output_type": "execute_result"
    }
   ],
   "source": [
    "skincare.Type.value_counts()"
   ]
  },
  {
   "cell_type": "markdown",
   "id": "3f053c39",
   "metadata": {},
   "source": [
    "Eliminamos aquellos productos que no son específicos del cuidado facial."
   ]
  },
  {
   "cell_type": "code",
   "execution_count": 48,
   "id": "aa70bf88",
   "metadata": {},
   "outputs": [],
   "source": [
    "indices = skincare.index[skincare['Type'].isin(['Other Haircare', 'Shampoo', 'Lip Makeup', 'Tanning', 'Conditioner', 'Cheek Makeup', 'Hand Care', 'Nail Care', 'Tool', 'Fragrance', 'False Eyelash', 'Makeup Applicator', 'Eye Makeup'])]"
   ]
  },
  {
   "cell_type": "code",
   "execution_count": 49,
   "id": "494f1407",
   "metadata": {},
   "outputs": [],
   "source": [
    "skincare = skincare.drop(indices)"
   ]
  },
  {
   "cell_type": "code",
   "execution_count": 50,
   "id": "05ffc099",
   "metadata": {},
   "outputs": [
    {
     "data": {
      "text/plain": [
       "Serum                  8477\n",
       "General Moisturizer    6051\n",
       "Face Cleanser          3897\n",
       "Sunscreen              2891\n",
       "Toner                  2623\n",
       "Facial Treatment       2351\n",
       "Eye Moisturizer        2254\n",
       "Bath & Body            1820\n",
       "Exfoliator             1792\n",
       "Face Makeup            1435\n",
       "Wet Mask               1339\n",
       "Night Moisturizer      1244\n",
       "Day Moisturizer        1142\n",
       "Sheet Mask              985\n",
       "Lip Moisturizer         804\n",
       "Essence                 756\n",
       "Makeup Remover          752\n",
       "Oil                     635\n",
       "Overnight Mask          624\n",
       "Eye Mask                384\n",
       "Other                   307\n",
       "Lip Mask                110\n",
       "Emulsion                101\n",
       "Name: Type, dtype: int64"
      ]
     },
     "execution_count": 50,
     "metadata": {},
     "output_type": "execute_result"
    }
   ],
   "source": [
    "skincare.Type.value_counts()"
   ]
  },
  {
   "cell_type": "code",
   "execution_count": 51,
   "id": "41d61c0e",
   "metadata": {},
   "outputs": [
    {
     "data": {
      "text/plain": [
       "array(['Natural Moisturizing Factors + HA', 'Eye Repair Cream',\n",
       "       'Supple Preparation Unscented Toner',\n",
       "       'Freshly Juiced Vitamin Drop', 'Squalane + Peptide Eye Gel',\n",
       "       'Rose & Pomegranate Face Cream Moisturizer',\n",
       "       'Gokujyun Premium Lotion',\n",
       "       'Moisture Surge 72-Hour Auto-Replenishing Hydrator',\n",
       "       'Moisture Surge™ 100-Hour Auto-Replenishing Hydrator',\n",
       "       'Bifida Biome Aqua Barrier Cream',\n",
       "       'Youth Recovery & Blemish Defense Night Serum',\n",
       "       'Supple Preparation Facial Toner',\n",
       "       'Green Tangerine Vita C Dark Spot Serum',\n",
       "       'Vitamin C Super Serum Plus', 'TGF-B Booster',\n",
       "       'Cica Care Clearing Ampoule',\n",
       "       'Avocado Melt Retinol Eye Sleeping Mask',\n",
       "       'Vita C Plus Spot Correcting & Firming Ampoule',\n",
       "       'Stem Cellular Instant Eye Lift Algae Mask - Single',\n",
       "       'Hidratante Firmador'], dtype=object)"
      ]
     },
     "execution_count": 51,
     "metadata": {},
     "output_type": "execute_result"
    }
   ],
   "source": [
    "skincare.Name.unique()[:20]"
   ]
  },
  {
   "cell_type": "code",
   "execution_count": 52,
   "id": "fe067bdf",
   "metadata": {},
   "outputs": [
    {
     "data": {
      "text/plain": [
       "Paula's Choice       588\n",
       "Neutrogena           582\n",
       "La Roche-Posay       451\n",
       "Olay                 337\n",
       "Eminence Organics    318\n",
       "                    ... \n",
       "Allies of Skin       102\n",
       "Philosophy           102\n",
       "Rovectin             101\n",
       "Gold Bond            100\n",
       "Mediheal              97\n",
       "Name: Brand, Length: 100, dtype: int64"
      ]
     },
     "execution_count": 52,
     "metadata": {},
     "output_type": "execute_result"
    }
   ],
   "source": [
    "skincare.Brand.value_counts()[:100]"
   ]
  },
  {
   "cell_type": "markdown",
   "id": "d5cf57ee",
   "metadata": {},
   "source": [
    "Vamos a eliminar todas aquellas marcas que tengan menos de 50 productos , para quedarnos con las marcas que sean mas conocidas y sencillo de conseguir."
   ]
  },
  {
   "cell_type": "code",
   "execution_count": 53,
   "id": "b19ac437",
   "metadata": {},
   "outputs": [],
   "source": [
    "skincare= skincare.groupby('Brand').filter(lambda x: len(x) >= 50)\n"
   ]
  },
  {
   "cell_type": "code",
   "execution_count": 54,
   "id": "d8b67644",
   "metadata": {},
   "outputs": [
    {
     "data": {
      "text/plain": [
       "Paula's Choice       588\n",
       "Neutrogena           582\n",
       "La Roche-Posay       451\n",
       "Olay                 337\n",
       "Eminence Organics    318\n",
       "                    ... \n",
       "Algenist              51\n",
       "Principia             50\n",
       "alpyn beauty          50\n",
       "HYGGEE                50\n",
       "Herbivore             50\n",
       "Name: Brand, Length: 214, dtype: int64"
      ]
     },
     "execution_count": 54,
     "metadata": {},
     "output_type": "execute_result"
    }
   ],
   "source": [
    "skincare.Brand.value_counts()"
   ]
  },
  {
   "cell_type": "code",
   "execution_count": 55,
   "id": "21f74149",
   "metadata": {},
   "outputs": [
    {
     "name": "stdout",
     "output_type": "stream",
     "text": [
      "<class 'pandas.core.frame.DataFrame'>\n",
      "Int64Index: 26001 entries, 0 to 45297\n",
      "Data columns (total 4 columns):\n",
      " #   Column  Non-Null Count  Dtype \n",
      "---  ------  --------------  ----- \n",
      " 0   Type    26001 non-null  object\n",
      " 1   Brand   26001 non-null  object\n",
      " 2   Name    26001 non-null  object\n",
      " 3   Skin    26001 non-null  object\n",
      "dtypes: object(4)\n",
      "memory usage: 1015.7+ KB\n"
     ]
    }
   ],
   "source": [
    "skincare.info()\n"
   ]
  },
  {
   "cell_type": "code",
   "execution_count": 56,
   "id": "646935c8",
   "metadata": {},
   "outputs": [],
   "source": [
    "skincare = skincare.reset_index(drop=True)"
   ]
  },
  {
   "cell_type": "code",
   "execution_count": 57,
   "id": "06d73174",
   "metadata": {},
   "outputs": [
    {
     "data": {
      "text/html": [
       "<div>\n",
       "<style scoped>\n",
       "    .dataframe tbody tr th:only-of-type {\n",
       "        vertical-align: middle;\n",
       "    }\n",
       "\n",
       "    .dataframe tbody tr th {\n",
       "        vertical-align: top;\n",
       "    }\n",
       "\n",
       "    .dataframe thead th {\n",
       "        text-align: right;\n",
       "    }\n",
       "</style>\n",
       "<table border=\"1\" class=\"dataframe\">\n",
       "  <thead>\n",
       "    <tr style=\"text-align: right;\">\n",
       "      <th></th>\n",
       "      <th>Type</th>\n",
       "      <th>Brand</th>\n",
       "      <th>Name</th>\n",
       "      <th>Skin</th>\n",
       "    </tr>\n",
       "  </thead>\n",
       "  <tbody>\n",
       "    <tr>\n",
       "      <th>0</th>\n",
       "      <td>General Moisturizer</td>\n",
       "      <td>The Ordinary</td>\n",
       "      <td>Natural Moisturizing Factors + HA</td>\n",
       "      <td>dry</td>\n",
       "    </tr>\n",
       "    <tr>\n",
       "      <th>1</th>\n",
       "      <td>Eye Moisturizer</td>\n",
       "      <td>CeraVe</td>\n",
       "      <td>Eye Repair Cream</td>\n",
       "      <td>dry</td>\n",
       "    </tr>\n",
       "    <tr>\n",
       "      <th>2</th>\n",
       "      <td>Toner</td>\n",
       "      <td>Dear, Klairs</td>\n",
       "      <td>Supple Preparation Unscented Toner</td>\n",
       "      <td>dry</td>\n",
       "    </tr>\n",
       "    <tr>\n",
       "      <th>3</th>\n",
       "      <td>Serum</td>\n",
       "      <td>Dear, Klairs</td>\n",
       "      <td>Freshly Juiced Vitamin Drop</td>\n",
       "      <td>dry</td>\n",
       "    </tr>\n",
       "    <tr>\n",
       "      <th>4</th>\n",
       "      <td>Eye Moisturizer</td>\n",
       "      <td>Biossance</td>\n",
       "      <td>Squalane + Peptide Eye Gel</td>\n",
       "      <td>dry</td>\n",
       "    </tr>\n",
       "  </tbody>\n",
       "</table>\n",
       "</div>"
      ],
      "text/plain": [
       "                  Type         Brand                                Name Skin\n",
       "0  General Moisturizer  The Ordinary   Natural Moisturizing Factors + HA  dry\n",
       "1      Eye Moisturizer        CeraVe                    Eye Repair Cream  dry\n",
       "2                Toner  Dear, Klairs  Supple Preparation Unscented Toner  dry\n",
       "3                Serum  Dear, Klairs         Freshly Juiced Vitamin Drop  dry\n",
       "4      Eye Moisturizer     Biossance          Squalane + Peptide Eye Gel  dry"
      ]
     },
     "execution_count": 57,
     "metadata": {},
     "output_type": "execute_result"
    }
   ],
   "source": [
    "skincare.head()"
   ]
  },
  {
   "cell_type": "code",
   "execution_count": 58,
   "id": "8bee99c2",
   "metadata": {},
   "outputs": [],
   "source": [
    "skincare['Producto'] = skincare['Brand'] + ' ' + skincare['Name']"
   ]
  },
  {
   "cell_type": "code",
   "execution_count": 59,
   "id": "c5808f72",
   "metadata": {},
   "outputs": [
    {
     "data": {
      "text/html": [
       "<div>\n",
       "<style scoped>\n",
       "    .dataframe tbody tr th:only-of-type {\n",
       "        vertical-align: middle;\n",
       "    }\n",
       "\n",
       "    .dataframe tbody tr th {\n",
       "        vertical-align: top;\n",
       "    }\n",
       "\n",
       "    .dataframe thead th {\n",
       "        text-align: right;\n",
       "    }\n",
       "</style>\n",
       "<table border=\"1\" class=\"dataframe\">\n",
       "  <thead>\n",
       "    <tr style=\"text-align: right;\">\n",
       "      <th></th>\n",
       "      <th>Type</th>\n",
       "      <th>Brand</th>\n",
       "      <th>Name</th>\n",
       "      <th>Skin</th>\n",
       "      <th>Producto</th>\n",
       "    </tr>\n",
       "  </thead>\n",
       "  <tbody>\n",
       "    <tr>\n",
       "      <th>0</th>\n",
       "      <td>General Moisturizer</td>\n",
       "      <td>The Ordinary</td>\n",
       "      <td>Natural Moisturizing Factors + HA</td>\n",
       "      <td>dry</td>\n",
       "      <td>The Ordinary Natural Moisturizing Factors + HA</td>\n",
       "    </tr>\n",
       "    <tr>\n",
       "      <th>1</th>\n",
       "      <td>Eye Moisturizer</td>\n",
       "      <td>CeraVe</td>\n",
       "      <td>Eye Repair Cream</td>\n",
       "      <td>dry</td>\n",
       "      <td>CeraVe Eye Repair Cream</td>\n",
       "    </tr>\n",
       "    <tr>\n",
       "      <th>2</th>\n",
       "      <td>Toner</td>\n",
       "      <td>Dear, Klairs</td>\n",
       "      <td>Supple Preparation Unscented Toner</td>\n",
       "      <td>dry</td>\n",
       "      <td>Dear, Klairs Supple Preparation Unscented Toner</td>\n",
       "    </tr>\n",
       "    <tr>\n",
       "      <th>3</th>\n",
       "      <td>Serum</td>\n",
       "      <td>Dear, Klairs</td>\n",
       "      <td>Freshly Juiced Vitamin Drop</td>\n",
       "      <td>dry</td>\n",
       "      <td>Dear, Klairs Freshly Juiced Vitamin Drop</td>\n",
       "    </tr>\n",
       "    <tr>\n",
       "      <th>4</th>\n",
       "      <td>Eye Moisturizer</td>\n",
       "      <td>Biossance</td>\n",
       "      <td>Squalane + Peptide Eye Gel</td>\n",
       "      <td>dry</td>\n",
       "      <td>Biossance Squalane + Peptide Eye Gel</td>\n",
       "    </tr>\n",
       "  </tbody>\n",
       "</table>\n",
       "</div>"
      ],
      "text/plain": [
       "                  Type         Brand                                Name Skin  \\\n",
       "0  General Moisturizer  The Ordinary   Natural Moisturizing Factors + HA  dry   \n",
       "1      Eye Moisturizer        CeraVe                    Eye Repair Cream  dry   \n",
       "2                Toner  Dear, Klairs  Supple Preparation Unscented Toner  dry   \n",
       "3                Serum  Dear, Klairs         Freshly Juiced Vitamin Drop  dry   \n",
       "4      Eye Moisturizer     Biossance          Squalane + Peptide Eye Gel  dry   \n",
       "\n",
       "                                          Producto  \n",
       "0   The Ordinary Natural Moisturizing Factors + HA  \n",
       "1                          CeraVe Eye Repair Cream  \n",
       "2  Dear, Klairs Supple Preparation Unscented Toner  \n",
       "3         Dear, Klairs Freshly Juiced Vitamin Drop  \n",
       "4             Biossance Squalane + Peptide Eye Gel  "
      ]
     },
     "execution_count": 59,
     "metadata": {},
     "output_type": "execute_result"
    }
   ],
   "source": [
    "skincare.head()"
   ]
  },
  {
   "cell_type": "code",
   "execution_count": 60,
   "id": "a26f3dcf",
   "metadata": {},
   "outputs": [
    {
     "data": {
      "text/plain": [
       "PURITO AHA BHA Refreshing Solution                                                      14\n",
       "Revolution Beauty Multi Acid Peeling Solution                                           14\n",
       "SLMD Glycolic Acid Body Lotion                                                          12\n",
       "TONYMOLY Firming Ampoule                                                                10\n",
       "SkinBetter Science AlphaRet Overnight Cream                                             10\n",
       "                                                                                        ..\n",
       "Allies of Skin Peptide & Antioxidants Firming Daily Treatment                            9\n",
       "Derma E Anti Wrinkle Cream                                                               9\n",
       "Pacifica Wake Up Beautiful Retinoid Serum                                                9\n",
       "Skintific 5X Ceramide Low PH Cleanser                                                    9\n",
       "Peter Thomas Roth Max Sheer All Day Moisture Defense® Lotion SPF 30 Sunscreen Lotion     9\n",
       "Name: Producto, Length: 250, dtype: int64"
      ]
     },
     "execution_count": 60,
     "metadata": {},
     "output_type": "execute_result"
    }
   ],
   "source": [
    "skincare.Producto.value_counts()[:250]"
   ]
  },
  {
   "cell_type": "code",
   "execution_count": 61,
   "id": "f88a6aa7",
   "metadata": {},
   "outputs": [
    {
     "data": {
      "text/plain": [
       "Paula's Choice       588\n",
       "Neutrogena           582\n",
       "La Roche-Posay       451\n",
       "Olay                 337\n",
       "Eminence Organics    318\n",
       "                    ... \n",
       "Algenist              51\n",
       "Principia             50\n",
       "alpyn beauty          50\n",
       "HYGGEE                50\n",
       "Herbivore             50\n",
       "Name: Brand, Length: 214, dtype: int64"
      ]
     },
     "execution_count": 61,
     "metadata": {},
     "output_type": "execute_result"
    }
   ],
   "source": [
    "skincare.Brand.value_counts()"
   ]
  },
  {
   "cell_type": "code",
   "execution_count": 62,
   "id": "da989221",
   "metadata": {},
   "outputs": [
    {
     "data": {
      "text/plain": [
       "6181"
      ]
     },
     "execution_count": 62,
     "metadata": {},
     "output_type": "execute_result"
    }
   ],
   "source": [
    "len(skincare.Producto.unique())"
   ]
  },
  {
   "cell_type": "code",
   "execution_count": 63,
   "id": "c75add41",
   "metadata": {},
   "outputs": [],
   "source": [
    "skincare= skincare.groupby('Producto').filter(lambda x: len(x) >= 5)"
   ]
  },
  {
   "cell_type": "code",
   "execution_count": 64,
   "id": "7882cfec",
   "metadata": {},
   "outputs": [
    {
     "data": {
      "text/plain": [
       "Revolution Beauty Multi Acid Peeling Solution        14\n",
       "PURITO AHA BHA Refreshing Solution                   14\n",
       "SLMD Glycolic Acid Body Lotion                       12\n",
       "BRTC Vitalizer C-10 Ampoule Rich in Vitamin C        10\n",
       "Sallve Antioxidante Hidratante                       10\n",
       "                                                     ..\n",
       "Mary & May Hyaluronic Panthenol Hydra Mask            5\n",
       "Pacifica Dry It Out Acne Gel Spot Treatment           5\n",
       "Some By Mi Rose Intensive Tone-Up Cream               5\n",
       "The Purest Solutions Niacinamide 5% + Zinc PCA 1%     5\n",
       "Shiseido White Lucent Anti-Dark Circles Eye Cream     5\n",
       "Name: Producto, Length: 2634, dtype: int64"
      ]
     },
     "execution_count": 64,
     "metadata": {},
     "output_type": "execute_result"
    }
   ],
   "source": [
    "skincare.Producto.value_counts()"
   ]
  },
  {
   "cell_type": "code",
   "execution_count": 65,
   "id": "7c18a6cc",
   "metadata": {},
   "outputs": [
    {
     "data": {
      "text/plain": [
       "Serum                  3781\n",
       "General Moisturizer    2461\n",
       "Face Cleanser          1492\n",
       "Eye Moisturizer        1227\n",
       "Toner                  1187\n",
       "Facial Treatment       1146\n",
       "Exfoliator              931\n",
       "Sunscreen               873\n",
       "Bath & Body             711\n",
       "Night Moisturizer       667\n",
       "Wet Mask                591\n",
       "Day Moisturizer         520\n",
       "Sheet Mask              379\n",
       "Face Makeup             327\n",
       "Essence                 297\n",
       "Overnight Mask          249\n",
       "Oil                     201\n",
       "Lip Moisturizer         164\n",
       "Makeup Remover          150\n",
       "Eye Mask                133\n",
       "Other                    99\n",
       "Emulsion                 23\n",
       "Lip Mask                 10\n",
       "Name: Type, dtype: int64"
      ]
     },
     "execution_count": 65,
     "metadata": {},
     "output_type": "execute_result"
    }
   ],
   "source": [
    "skincare.Type.value_counts()"
   ]
  },
  {
   "cell_type": "markdown",
   "id": "e35cde51",
   "metadata": {},
   "source": [
    "Nos quedamos con las columnas que tienen más importancia para una buena rutina de skincare"
   ]
  },
  {
   "cell_type": "code",
   "execution_count": 66,
   "id": "4fd7a95d",
   "metadata": {},
   "outputs": [],
   "source": [
    "categories = ['Serum', 'General Moisturizer', 'Face Cleanser', 'Eye Moisturizer', 'Toner', 'Facial Treatment', 'Sunscreen', 'Night Moisturizer', 'Day Moisturizer']\n"
   ]
  },
  {
   "cell_type": "raw",
   "id": "b611078c",
   "metadata": {},
   "source": []
  },
  {
   "cell_type": "code",
   "execution_count": 67,
   "id": "abc50699",
   "metadata": {},
   "outputs": [],
   "source": [
    "skincare = skincare[skincare['Type'].isin(categories)]"
   ]
  },
  {
   "cell_type": "code",
   "execution_count": 68,
   "id": "809feac3",
   "metadata": {},
   "outputs": [],
   "source": [
    "productos= list(skincare.Producto.unique())"
   ]
  },
  {
   "cell_type": "code",
   "execution_count": 69,
   "id": "8c675384",
   "metadata": {},
   "outputs": [],
   "source": [
    "with open('productos.txt', 'w') as file:\n",
    "    for producto in productos:\n",
    "        file.write(producto + '\\n')\n"
   ]
  },
  {
   "cell_type": "code",
   "execution_count": 70,
   "id": "edbf7924",
   "metadata": {},
   "outputs": [],
   "source": [
    "with open('review.json', 'r') as f:\n",
    "    rev= f.read()"
   ]
  },
  {
   "cell_type": "code",
   "execution_count": 71,
   "id": "37c0720d",
   "metadata": {},
   "outputs": [],
   "source": [
    "reviews= json.loads(rev)"
   ]
  },
  {
   "cell_type": "code",
   "execution_count": 72,
   "id": "d4036d02",
   "metadata": {},
   "outputs": [],
   "source": [
    "rev = pd.DataFrame(reviews)"
   ]
  },
  {
   "cell_type": "code",
   "execution_count": 73,
   "id": "4e0c08be",
   "metadata": {},
   "outputs": [
    {
     "name": "stdout",
     "output_type": "stream",
     "text": [
      "<class 'pandas.core.frame.DataFrame'>\n",
      "RangeIndex: 2280 entries, 0 to 2279\n",
      "Data columns (total 4 columns):\n",
      " #   Column             Non-Null Count  Dtype \n",
      "---  ------             --------------  ----- \n",
      " 0   Producto           2280 non-null   object\n",
      " 1   Nombre encontrado  2261 non-null   object\n",
      " 2   Nota               2261 non-null   object\n",
      " 3   Reseñas            2261 non-null   object\n",
      "dtypes: object(4)\n",
      "memory usage: 71.4+ KB\n"
     ]
    }
   ],
   "source": [
    "rev.info()\n"
   ]
  },
  {
   "cell_type": "code",
   "execution_count": 74,
   "id": "128a2256",
   "metadata": {},
   "outputs": [
    {
     "name": "stdout",
     "output_type": "stream",
     "text": [
      "<class 'pandas.core.frame.DataFrame'>\n",
      "Int64Index: 13354 entries, 0 to 26000\n",
      "Data columns (total 5 columns):\n",
      " #   Column    Non-Null Count  Dtype \n",
      "---  ------    --------------  ----- \n",
      " 0   Type      13354 non-null  object\n",
      " 1   Brand     13354 non-null  object\n",
      " 2   Name      13354 non-null  object\n",
      " 3   Skin      13354 non-null  object\n",
      " 4   Producto  13354 non-null  object\n",
      "dtypes: object(5)\n",
      "memory usage: 626.0+ KB\n"
     ]
    }
   ],
   "source": [
    "skincare.info()"
   ]
  },
  {
   "cell_type": "code",
   "execution_count": 75,
   "id": "7bdeb037",
   "metadata": {},
   "outputs": [],
   "source": [
    "total = pd.merge(rev , skincare, on ='Producto')"
   ]
  },
  {
   "cell_type": "code",
   "execution_count": 76,
   "id": "fa301743",
   "metadata": {},
   "outputs": [
    {
     "data": {
      "text/plain": [
       "False"
      ]
     },
     "execution_count": 76,
     "metadata": {},
     "output_type": "execute_result"
    }
   ],
   "source": [
    "total.duplicated().any()"
   ]
  },
  {
   "cell_type": "code",
   "execution_count": 77,
   "id": "3e64a2a1",
   "metadata": {},
   "outputs": [],
   "source": [
    "total = total.drop(['Producto', 'Nombre encontrado'], axis=1)\n"
   ]
  },
  {
   "cell_type": "code",
   "execution_count": 78,
   "id": "4338a01e",
   "metadata": {},
   "outputs": [
    {
     "data": {
      "text/html": [
       "<div>\n",
       "<style scoped>\n",
       "    .dataframe tbody tr th:only-of-type {\n",
       "        vertical-align: middle;\n",
       "    }\n",
       "\n",
       "    .dataframe tbody tr th {\n",
       "        vertical-align: top;\n",
       "    }\n",
       "\n",
       "    .dataframe thead th {\n",
       "        text-align: right;\n",
       "    }\n",
       "</style>\n",
       "<table border=\"1\" class=\"dataframe\">\n",
       "  <thead>\n",
       "    <tr style=\"text-align: right;\">\n",
       "      <th></th>\n",
       "      <th>Nota</th>\n",
       "      <th>Reseñas</th>\n",
       "      <th>Type</th>\n",
       "      <th>Brand</th>\n",
       "      <th>Name</th>\n",
       "      <th>Skin</th>\n",
       "    </tr>\n",
       "  </thead>\n",
       "  <tbody>\n",
       "    <tr>\n",
       "      <th>0</th>\n",
       "      <td>4.6</td>\n",
       "      <td>(11,060)</td>\n",
       "      <td>General Moisturizer</td>\n",
       "      <td>The Ordinary</td>\n",
       "      <td>Natural Moisturizing Factors + HA</td>\n",
       "      <td>dry</td>\n",
       "    </tr>\n",
       "    <tr>\n",
       "      <th>1</th>\n",
       "      <td>4.6</td>\n",
       "      <td>(11,060)</td>\n",
       "      <td>General Moisturizer</td>\n",
       "      <td>The Ordinary</td>\n",
       "      <td>Natural Moisturizing Factors + HA</td>\n",
       "      <td>age</td>\n",
       "    </tr>\n",
       "    <tr>\n",
       "      <th>2</th>\n",
       "      <td>4.6</td>\n",
       "      <td>(11,060)</td>\n",
       "      <td>General Moisturizer</td>\n",
       "      <td>The Ordinary</td>\n",
       "      <td>Natural Moisturizing Factors + HA</td>\n",
       "      <td>brightening</td>\n",
       "    </tr>\n",
       "    <tr>\n",
       "      <th>3</th>\n",
       "      <td>4.6</td>\n",
       "      <td>(11,060)</td>\n",
       "      <td>General Moisturizer</td>\n",
       "      <td>The Ordinary</td>\n",
       "      <td>Natural Moisturizing Factors + HA</td>\n",
       "      <td>large pores</td>\n",
       "    </tr>\n",
       "    <tr>\n",
       "      <th>4</th>\n",
       "      <td>4.6</td>\n",
       "      <td>(11,060)</td>\n",
       "      <td>General Moisturizer</td>\n",
       "      <td>The Ordinary</td>\n",
       "      <td>Natural Moisturizing Factors + HA</td>\n",
       "      <td>scar healing</td>\n",
       "    </tr>\n",
       "  </tbody>\n",
       "</table>\n",
       "</div>"
      ],
      "text/plain": [
       "  Nota   Reseñas                 Type         Brand  \\\n",
       "0  4.6  (11,060)  General Moisturizer  The Ordinary   \n",
       "1  4.6  (11,060)  General Moisturizer  The Ordinary   \n",
       "2  4.6  (11,060)  General Moisturizer  The Ordinary   \n",
       "3  4.6  (11,060)  General Moisturizer  The Ordinary   \n",
       "4  4.6  (11,060)  General Moisturizer  The Ordinary   \n",
       "\n",
       "                                Name          Skin  \n",
       "0  Natural Moisturizing Factors + HA           dry  \n",
       "1  Natural Moisturizing Factors + HA           age  \n",
       "2  Natural Moisturizing Factors + HA   brightening  \n",
       "3  Natural Moisturizing Factors + HA   large pores  \n",
       "4  Natural Moisturizing Factors + HA  scar healing  "
      ]
     },
     "execution_count": 78,
     "metadata": {},
     "output_type": "execute_result"
    }
   ],
   "source": [
    "total.head()"
   ]
  },
  {
   "cell_type": "code",
   "execution_count": 79,
   "id": "cf9c04e4",
   "metadata": {},
   "outputs": [],
   "source": [
    "total['Reseñas'] = total['Reseñas'].str.replace('[()]', '')"
   ]
  },
  {
   "cell_type": "code",
   "execution_count": 80,
   "id": "2cd1ac26",
   "metadata": {},
   "outputs": [],
   "source": [
    "total['Nota'] = total['Nota'].astype(float)"
   ]
  },
  {
   "cell_type": "code",
   "execution_count": 81,
   "id": "8684c722",
   "metadata": {},
   "outputs": [
    {
     "name": "stdout",
     "output_type": "stream",
     "text": [
      "<class 'pandas.core.frame.DataFrame'>\n",
      "Int64Index: 13354 entries, 0 to 13353\n",
      "Data columns (total 6 columns):\n",
      " #   Column   Non-Null Count  Dtype  \n",
      "---  ------   --------------  -----  \n",
      " 0   Nota     13266 non-null  float64\n",
      " 1   Reseñas  13266 non-null  object \n",
      " 2   Type     13354 non-null  object \n",
      " 3   Brand    13354 non-null  object \n",
      " 4   Name     13354 non-null  object \n",
      " 5   Skin     13354 non-null  object \n",
      "dtypes: float64(1), object(5)\n",
      "memory usage: 730.3+ KB\n"
     ]
    }
   ],
   "source": [
    "total.info()"
   ]
  },
  {
   "cell_type": "code",
   "execution_count": 82,
   "id": "9777a906",
   "metadata": {},
   "outputs": [],
   "source": [
    "total.dropna(inplace=True)"
   ]
  },
  {
   "cell_type": "code",
   "execution_count": 83,
   "id": "0b44dba8",
   "metadata": {},
   "outputs": [
    {
     "name": "stdout",
     "output_type": "stream",
     "text": [
      "<class 'pandas.core.frame.DataFrame'>\n",
      "Int64Index: 13266 entries, 0 to 13353\n",
      "Data columns (total 6 columns):\n",
      " #   Column   Non-Null Count  Dtype  \n",
      "---  ------   --------------  -----  \n",
      " 0   Nota     13266 non-null  float64\n",
      " 1   Reseñas  13266 non-null  object \n",
      " 2   Type     13266 non-null  object \n",
      " 3   Brand    13266 non-null  object \n",
      " 4   Name     13266 non-null  object \n",
      " 5   Skin     13266 non-null  object \n",
      "dtypes: float64(1), object(5)\n",
      "memory usage: 725.5+ KB\n"
     ]
    }
   ],
   "source": [
    "total.info()"
   ]
  },
  {
   "cell_type": "code",
   "execution_count": 84,
   "id": "e65418fe",
   "metadata": {},
   "outputs": [
    {
     "data": {
      "text/plain": [
       "array(['General Moisturizer', 'Eye Moisturizer', 'Toner', 'Serum',\n",
       "       'Facial Treatment', 'Sunscreen', 'Face Cleanser',\n",
       "       'Night Moisturizer', 'Day Moisturizer'], dtype=object)"
      ]
     },
     "execution_count": 84,
     "metadata": {},
     "output_type": "execute_result"
    }
   ],
   "source": [
    "total.Type.unique()"
   ]
  },
  {
   "cell_type": "code",
   "execution_count": 85,
   "id": "c1bbfd24",
   "metadata": {},
   "outputs": [],
   "source": [
    "\n",
    "# Definir el nuevo orden de las columnas\n",
    "new_order = ['Type', 'Name', 'Brand', 'Skin', 'Nota', 'Reseñas']\n",
    "\n",
    "# Utilizar el método .reindex() para reordenar las columnas\n",
    "total = total.reindex(columns=new_order)"
   ]
  },
  {
   "cell_type": "code",
   "execution_count": 86,
   "id": "3466a5fc",
   "metadata": {},
   "outputs": [
    {
     "data": {
      "text/html": [
       "<div>\n",
       "<style scoped>\n",
       "    .dataframe tbody tr th:only-of-type {\n",
       "        vertical-align: middle;\n",
       "    }\n",
       "\n",
       "    .dataframe tbody tr th {\n",
       "        vertical-align: top;\n",
       "    }\n",
       "\n",
       "    .dataframe thead th {\n",
       "        text-align: right;\n",
       "    }\n",
       "</style>\n",
       "<table border=\"1\" class=\"dataframe\">\n",
       "  <thead>\n",
       "    <tr style=\"text-align: right;\">\n",
       "      <th></th>\n",
       "      <th>Type</th>\n",
       "      <th>Name</th>\n",
       "      <th>Brand</th>\n",
       "      <th>Skin</th>\n",
       "      <th>Nota</th>\n",
       "      <th>Reseñas</th>\n",
       "    </tr>\n",
       "  </thead>\n",
       "  <tbody>\n",
       "    <tr>\n",
       "      <th>0</th>\n",
       "      <td>General Moisturizer</td>\n",
       "      <td>Natural Moisturizing Factors + HA</td>\n",
       "      <td>The Ordinary</td>\n",
       "      <td>dry</td>\n",
       "      <td>4.6</td>\n",
       "      <td>11,060</td>\n",
       "    </tr>\n",
       "    <tr>\n",
       "      <th>1</th>\n",
       "      <td>General Moisturizer</td>\n",
       "      <td>Natural Moisturizing Factors + HA</td>\n",
       "      <td>The Ordinary</td>\n",
       "      <td>age</td>\n",
       "      <td>4.6</td>\n",
       "      <td>11,060</td>\n",
       "    </tr>\n",
       "    <tr>\n",
       "      <th>2</th>\n",
       "      <td>General Moisturizer</td>\n",
       "      <td>Natural Moisturizing Factors + HA</td>\n",
       "      <td>The Ordinary</td>\n",
       "      <td>brightening</td>\n",
       "      <td>4.6</td>\n",
       "      <td>11,060</td>\n",
       "    </tr>\n",
       "    <tr>\n",
       "      <th>3</th>\n",
       "      <td>General Moisturizer</td>\n",
       "      <td>Natural Moisturizing Factors + HA</td>\n",
       "      <td>The Ordinary</td>\n",
       "      <td>large pores</td>\n",
       "      <td>4.6</td>\n",
       "      <td>11,060</td>\n",
       "    </tr>\n",
       "    <tr>\n",
       "      <th>4</th>\n",
       "      <td>General Moisturizer</td>\n",
       "      <td>Natural Moisturizing Factors + HA</td>\n",
       "      <td>The Ordinary</td>\n",
       "      <td>scar healing</td>\n",
       "      <td>4.6</td>\n",
       "      <td>11,060</td>\n",
       "    </tr>\n",
       "  </tbody>\n",
       "</table>\n",
       "</div>"
      ],
      "text/plain": [
       "                  Type                               Name         Brand  \\\n",
       "0  General Moisturizer  Natural Moisturizing Factors + HA  The Ordinary   \n",
       "1  General Moisturizer  Natural Moisturizing Factors + HA  The Ordinary   \n",
       "2  General Moisturizer  Natural Moisturizing Factors + HA  The Ordinary   \n",
       "3  General Moisturizer  Natural Moisturizing Factors + HA  The Ordinary   \n",
       "4  General Moisturizer  Natural Moisturizing Factors + HA  The Ordinary   \n",
       "\n",
       "           Skin  Nota Reseñas  \n",
       "0           dry   4.6  11,060  \n",
       "1           age   4.6  11,060  \n",
       "2   brightening   4.6  11,060  \n",
       "3   large pores   4.6  11,060  \n",
       "4  scar healing   4.6  11,060  "
      ]
     },
     "execution_count": 86,
     "metadata": {},
     "output_type": "execute_result"
    }
   ],
   "source": [
    "total.head()"
   ]
  },
  {
   "cell_type": "code",
   "execution_count": 87,
   "id": "aa4cb593",
   "metadata": {},
   "outputs": [],
   "source": [
    "total= total.rename(columns={'Nota': 'Rating', 'Reseñas': 'Reviews'})"
   ]
  },
  {
   "cell_type": "code",
   "execution_count": 88,
   "id": "d8a1714a",
   "metadata": {},
   "outputs": [
    {
     "data": {
      "text/html": [
       "<div>\n",
       "<style scoped>\n",
       "    .dataframe tbody tr th:only-of-type {\n",
       "        vertical-align: middle;\n",
       "    }\n",
       "\n",
       "    .dataframe tbody tr th {\n",
       "        vertical-align: top;\n",
       "    }\n",
       "\n",
       "    .dataframe thead th {\n",
       "        text-align: right;\n",
       "    }\n",
       "</style>\n",
       "<table border=\"1\" class=\"dataframe\">\n",
       "  <thead>\n",
       "    <tr style=\"text-align: right;\">\n",
       "      <th></th>\n",
       "      <th>Type</th>\n",
       "      <th>Name</th>\n",
       "      <th>Brand</th>\n",
       "      <th>Skin</th>\n",
       "      <th>Rating</th>\n",
       "      <th>Reviews</th>\n",
       "    </tr>\n",
       "  </thead>\n",
       "  <tbody>\n",
       "    <tr>\n",
       "      <th>0</th>\n",
       "      <td>General Moisturizer</td>\n",
       "      <td>Natural Moisturizing Factors + HA</td>\n",
       "      <td>The Ordinary</td>\n",
       "      <td>dry</td>\n",
       "      <td>4.6</td>\n",
       "      <td>11,060</td>\n",
       "    </tr>\n",
       "    <tr>\n",
       "      <th>1</th>\n",
       "      <td>General Moisturizer</td>\n",
       "      <td>Natural Moisturizing Factors + HA</td>\n",
       "      <td>The Ordinary</td>\n",
       "      <td>age</td>\n",
       "      <td>4.6</td>\n",
       "      <td>11,060</td>\n",
       "    </tr>\n",
       "    <tr>\n",
       "      <th>2</th>\n",
       "      <td>General Moisturizer</td>\n",
       "      <td>Natural Moisturizing Factors + HA</td>\n",
       "      <td>The Ordinary</td>\n",
       "      <td>brightening</td>\n",
       "      <td>4.6</td>\n",
       "      <td>11,060</td>\n",
       "    </tr>\n",
       "    <tr>\n",
       "      <th>3</th>\n",
       "      <td>General Moisturizer</td>\n",
       "      <td>Natural Moisturizing Factors + HA</td>\n",
       "      <td>The Ordinary</td>\n",
       "      <td>large pores</td>\n",
       "      <td>4.6</td>\n",
       "      <td>11,060</td>\n",
       "    </tr>\n",
       "    <tr>\n",
       "      <th>4</th>\n",
       "      <td>General Moisturizer</td>\n",
       "      <td>Natural Moisturizing Factors + HA</td>\n",
       "      <td>The Ordinary</td>\n",
       "      <td>scar healing</td>\n",
       "      <td>4.6</td>\n",
       "      <td>11,060</td>\n",
       "    </tr>\n",
       "  </tbody>\n",
       "</table>\n",
       "</div>"
      ],
      "text/plain": [
       "                  Type                               Name         Brand  \\\n",
       "0  General Moisturizer  Natural Moisturizing Factors + HA  The Ordinary   \n",
       "1  General Moisturizer  Natural Moisturizing Factors + HA  The Ordinary   \n",
       "2  General Moisturizer  Natural Moisturizing Factors + HA  The Ordinary   \n",
       "3  General Moisturizer  Natural Moisturizing Factors + HA  The Ordinary   \n",
       "4  General Moisturizer  Natural Moisturizing Factors + HA  The Ordinary   \n",
       "\n",
       "           Skin  Rating Reviews  \n",
       "0           dry     4.6  11,060  \n",
       "1           age     4.6  11,060  \n",
       "2   brightening     4.6  11,060  \n",
       "3   large pores     4.6  11,060  \n",
       "4  scar healing     4.6  11,060  "
      ]
     },
     "execution_count": 88,
     "metadata": {},
     "output_type": "execute_result"
    }
   ],
   "source": [
    "total.head()"
   ]
  },
  {
   "cell_type": "code",
   "execution_count": 89,
   "id": "34bd4cd0",
   "metadata": {},
   "outputs": [],
   "source": [
    "total['Reviews'] = total['Reviews'].str.replace('.', '')"
   ]
  },
  {
   "cell_type": "code",
   "execution_count": 90,
   "id": "c9398c0a",
   "metadata": {},
   "outputs": [
    {
     "data": {
      "text/plain": [
       "array(['11,060', '48,908', '3,869', '8,858', '7,321', '483', '28',\n",
       "       '1,239', '4', '81,290', '4,879', '3', '1,703', '11', '136,163',\n",
       "       '3,911', '3,136', '6', '2,068', '33,828', '1,031', '19', '15',\n",
       "       '4,264', '952', '52,401', '149', '7,785', '459', '532', '35,627',\n",
       "       '1,342', '2,874', '1,197', '24,522', '25,901', '7,759', '23,659',\n",
       "       '123', '694', '1,072', '263', '118,296', '27,117', '4,395',\n",
       "       '1,331', '1', '1,385', '641', '265', '24', '798', '338', '5,548',\n",
       "       '695', '3,539', '12', '78,562', '1,042', '37,500', '46', '1,133',\n",
       "       '6,346', '141', '15,358', '108', '5,189', '6,955', '511', '177',\n",
       "       '92', '115,753', '625', '69,840', '1,407', '647', '7', '220', '74',\n",
       "       '804', '453', '1,761', '1,423', '13', '709', '209', '42,320',\n",
       "       '1,838', '3,098', '97', '974', '41,645', '2,041', '819', '271',\n",
       "       '26,837', '375', '1,791', '504', '17,314', '39', '259', '41,069',\n",
       "       '94', '59', '30,939', '88', '119', '949', '87', '1,079', '30',\n",
       "       '1,879', '1,231', '5,168', '676', '5,063', '517', '470', '8,671',\n",
       "       '923', '89', '51', '533', '7,609', '363,220', '2', '40', '4,676',\n",
       "       '864', '121', '5,007', '861', '2,574', '1,045', '38', '22,699',\n",
       "       '1,693', '340', '83', '506', '597', '46,236', '352', '386', '175',\n",
       "       '52', '35', '714', '15,657', '485', '4,602', '116', '143', '184',\n",
       "       '8,705', '251', '18', '15,469', '465', '1,201', '1,050', '14,633',\n",
       "       '4,969', '38,864', '12,454', '4,918', '23', '17,999', '414', '125',\n",
       "       '1,366', '65,451', '1,055', '2,202', '213', '237', '2,281', '37',\n",
       "       '551', '17,311', '45', '8,614', '308', '4,959', '16,483', '298',\n",
       "       '273', '2,367', '1,012', '346', '1,948', '69', '16,027', '56',\n",
       "       '912', '11,813', '233', '238', '2,519', '1,912', '18,066',\n",
       "       '34,945', '21', '10,148', '49', '2,025', '111,827', '843', '1,621',\n",
       "       '710', '14', '567', '26,251', '334', '6,758', '510', '445',\n",
       "       '1,192', '369', '38,566', '1,193', '44', '1,968', '9', '24,150',\n",
       "       '24,203', '18,767', '4,401', '72,096', '54,633', '5,334', '2,388',\n",
       "       '1,485', '6,477', '5,687', '1,680', '419', '6,164', '34,016',\n",
       "       '26,721', '197', '1,447', '1,225', '3,378', '7,102', '480', '602',\n",
       "       '5,387', '2,056', '8', '2,984', '7,444', '2,059', '642', '1,918',\n",
       "       '624', '13,909', '215,169', '2,000', '2,624', '844', '63', '941',\n",
       "       '8,593', '4,237', '215', '2,077', '685', '2,213', '5,762', '657',\n",
       "       '5', '3,507', '50', '1,168', '2,983', '151', '120', '32', '68,702',\n",
       "       '2,024', '1,787', '13,513', '5,098', '68', '78,563', '162', '16',\n",
       "       '20', '11,145', '858', '142', '665', '1,803', '7,195', '2,147',\n",
       "       '330', '58', '77', '1,105', '784', '509', '5,741', '6,650',\n",
       "       '1,694', '1,472', '225', '17', '723', '1,114', '12,190', '1,305',\n",
       "       '377', '6,756', '1,517', '8,591', '9,212', '1,026', '195', '389',\n",
       "       '332', '1,041', '2,373', '174', '2,936', '1,492', '1,460', '66',\n",
       "       '13,882', '1,276', '31', '290', '394', '91', '21,814', '31,083',\n",
       "       '978', '26,360', '4,929', '230', '402', '4,725', '29,416', '126',\n",
       "       '3,822', '1,739', '703', '4,869', '1,726', '14,910', '303',\n",
       "       '17,847', '1,574', '189', '368', '4,919', '131', '6,894', '766',\n",
       "       '2,337', '648', '136,164', '68,703', '873', '574', '8,861', '979',\n",
       "       '2,170', '19,893', '408', '24,895', '33', '3,443', '2,387', '357',\n",
       "       '62,227', '1,267', '41,213', '15,857', '353', '1,965', '3,558',\n",
       "       '1,465', '11,558', '1,997', '627', '966', '2,238', '1,127', '103',\n",
       "       '314', '10,603', '25', '503', '82', '5,628', '152', '9,281',\n",
       "       '2,791', '809', '19,768', '339', '6,938', '792', '3,219', '797',\n",
       "       '2,654', '9,198', '473', '286', '2,403', '900', '2,598', '3,255',\n",
       "       '1,136', '15,552', '10,408', '572', '12,222', '4,153', '2,655',\n",
       "       '749', '5,366', '245', '4,134', '6,390', '7,545', '72,144',\n",
       "       '10,665', '11,656', '1,204', '51,742', '2,212', '1,915', '17,765',\n",
       "       '10,815', '1,516', '3,982', '254', '838', '1,134', '4,499',\n",
       "       '14,618', '7,698', '45,152', '713', '6,487', '2,457', '3,872',\n",
       "       '475', '7,803', '18,161', '250', '4,999', '163', '14,294', '2,407',\n",
       "       '18,183', '9,415', '2,287', '951', '1,764', '593', '559', '304',\n",
       "       '783', '2,843', '5,713', '4,139', '52,259', '5,220', '632', '825',\n",
       "       '3,113', '117', '215,170', '41,293', '538', '8,331', '341',\n",
       "       '11,075', '3,733', '173', '1,473', '479', '464', '10,046', '5,049',\n",
       "       '80', '168', '315', '27', '4,675', '23,660', '21,746', '1,976',\n",
       "       '32,188', '29', '1,316', '3,994', '3,488', '106', '1,536',\n",
       "       '26,972', '946', '3,248', '4,010', '2,040', '750', '22,705', '280',\n",
       "       '34', '10', '42', '1,927', '762', '903', '5,728', '249', '8,096',\n",
       "       '1,066', '2,391', '75', '1,089', '934', '257', '420', '544',\n",
       "       '1,857', '262', '371', '3,899', '36,057', '1,886', '617', '8,162',\n",
       "       '359', '46,237', '222', '7,702', '22,449', '1,526', '5,272',\n",
       "       '7,770', '5,753', '2,996', '7,263', '2,370', '4,525', '17,319',\n",
       "       '2,187', '6,221', '2,018', '185', '10,364', '5,044', '3,060',\n",
       "       '171', '2,710', '52,046', '110', '15,472', '2,737', '3,363', '738',\n",
       "       '698', '1,142', '15,127', '913', '1,699', '3,789', '1,073',\n",
       "       '6,049', '212', '5,678', '2,236', '19,469', '12,289', '2,993',\n",
       "       '2,189', '5,990', '791', '25,859', '3,329', '2,693', '3,755',\n",
       "       '4,958', '22,329', '1,585', '887', '387', '1,293', '9,470',\n",
       "       '1,880', '2,696', '835', '277', '192', '1,889', '2,612', '1,805',\n",
       "       '81', '4,936', '13,306', '1,093', '161', '104', '246', '1,015',\n",
       "       '21,822', '836', '11,611', '1,820', '48,451', '513', '1,383',\n",
       "       '767', '88,102', '3,141', '167', '11,561', '935', '2,782', '1,989',\n",
       "       '54', '199', '1,130', '5,701', '55', '13,341', '450', '398',\n",
       "       '4,310', '5,326', '5,714', '336', '1,872', '905', '628', '2,875',\n",
       "       '12,231', '15,709', '1,186', '726', '64', '41,212', '7,322', '294',\n",
       "       '16,349', '61', '9,489', '3,759', '1,712', '943', '53', '134',\n",
       "       '122', '144'], dtype=object)"
      ]
     },
     "execution_count": 90,
     "metadata": {},
     "output_type": "execute_result"
    }
   ],
   "source": [
    "total.Reviews.unique()"
   ]
  },
  {
   "cell_type": "code",
   "execution_count": 93,
   "id": "06e6e0f2",
   "metadata": {},
   "outputs": [],
   "source": [
    "total['Reviews'] = total['Reviews'].str.replace(',', '')"
   ]
  },
  {
   "cell_type": "code",
   "execution_count": 94,
   "id": "53b07241",
   "metadata": {},
   "outputs": [],
   "source": [
    "total['Reviews'] = total['Reviews'].astype(int)"
   ]
  },
  {
   "cell_type": "code",
   "execution_count": 95,
   "id": "e3e55394",
   "metadata": {},
   "outputs": [],
   "source": [
    "total['Product'] = total['Name'].str.cat(total['Brand'], sep=' - ')"
   ]
  },
  {
   "cell_type": "code",
   "execution_count": 96,
   "id": "87006d23",
   "metadata": {},
   "outputs": [],
   "source": [
    "total= total.drop(columns= ['Name', 'Brand', ], axis=1)"
   ]
  },
  {
   "cell_type": "code",
   "execution_count": 101,
   "id": "04d923dc",
   "metadata": {},
   "outputs": [],
   "source": [
    "total.to_csv('skincaret.csv')"
   ]
  }
 ],
 "metadata": {
  "kernelspec": {
   "display_name": "Python 3 (ipykernel)",
   "language": "python",
   "name": "python3"
  },
  "language_info": {
   "codemirror_mode": {
    "name": "ipython",
    "version": 3
   },
   "file_extension": ".py",
   "mimetype": "text/x-python",
   "name": "python",
   "nbconvert_exporter": "python",
   "pygments_lexer": "ipython3",
   "version": "3.9.13"
  }
 },
 "nbformat": 4,
 "nbformat_minor": 5
}
