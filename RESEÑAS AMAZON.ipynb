{
 "cells": [
  {
   "cell_type": "code",
   "execution_count": 8,
   "id": "8f00ac2e",
   "metadata": {},
   "outputs": [],
   "source": [
    "import pandas as pd\n",
    "import numpy as np\n",
    "from selenium import webdriver\n",
    "from webdriver_manager.chrome import ChromeDriverManager\n",
    "from selenium.webdriver.common.by import By\n",
    "from selenium.webdriver.chrome.service import Service\n",
    "import time\n",
    "from tqdm.notebook import tqdm\n",
    "from selenium.webdriver.chrome.options import Options\n",
    "from selenium.common.exceptions import NoSuchElementException\n",
    "from tqdm import tqdm\n",
    "import warnings\n",
    "warnings.filterwarnings(\"ignore\")"
   ]
  },
  {
   "cell_type": "code",
   "execution_count": 9,
   "id": "1340023b",
   "metadata": {},
   "outputs": [],
   "source": [
    "with open('productos.txt', 'r') as f:\n",
    "    productos = f.read().splitlines()\n"
   ]
  },
  {
   "cell_type": "code",
   "execution_count": 14,
   "id": "10dc0573",
   "metadata": {},
   "outputs": [
    {
     "data": {
      "text/plain": [
       "1995"
      ]
     },
     "execution_count": 14,
     "metadata": {},
     "output_type": "execute_result"
    }
   ],
   "source": [
    "len(productos)"
   ]
  },
  {
   "cell_type": "code",
   "execution_count": 11,
   "id": "52d1920a",
   "metadata": {},
   "outputs": [],
   "source": [
    "\n",
    "PATH = ChromeDriverManager().install()    \n",
    "driver = webdriver.Chrome(PATH)"
   ]
  },
  {
   "cell_type": "code",
   "execution_count": 12,
   "id": "ad8caa44",
   "metadata": {},
   "outputs": [],
   "source": [
    "def mi_funcion(x):\n",
    "    try:\n",
    "        url = 'https://www.amazon.com/?ref_=icp_country_from_us'\n",
    "        busqueda = x \n",
    "\n",
    "        driver = webdriver.Chrome(PATH)\n",
    "        driver.get(url)\n",
    "        time.sleep(2)\n",
    "   \n",
    "\n",
    "        buscar = driver.find_element(By.XPATH, '//*[@id=\"twotabsearchtextbox\"]')\n",
    "        buscar.click()\n",
    "        time.sleep(3)\n",
    "        \n",
    "        buscar.send_keys(busqueda)\n",
    "        buscar.send_keys(u'\\ue007')\n",
    "\n",
    "        producto = driver.find_element(By.XPATH, '//div[@class=\"a-section a-spacing-base\"]')\n",
    "        \n",
    "        producto.click()\n",
    "        time.sleep(4)\n",
    "\n",
    "        #reseña = driver.find_element(By.XPATH, '//*[@id=\"acrCustomerReviewText\"]')\n",
    "        #reseña.click()\n",
    "        #time.sleep(2)\n",
    "\n",
    "        show = driver.find_element(By.XPATH, '//*[@id=\"reviews-medley-footer\"]/div[2]/a')\n",
    "        driver.execute_script(\"arguments[0].scrollIntoView();\", show)\n",
    "        show.click()\n",
    "        time.sleep(2)\n",
    "\n",
    "        res = driver.find_elements(By.XPATH, '//a[@class=\"a-link-normal\"]')\n",
    "\n",
    "        # inicializar la lista vacía\n",
    "        lista = []\n",
    "\n",
    "        # iterar sobre los elementos en res\n",
    "        for i in res:\n",
    "            \n",
    "            # obtener el atributo 'title' de cada elemento y agregarlo a la lista\n",
    "            lista.append(i.get_attribute('title'))\n",
    "        return lista \n",
    "    except:\n",
    "        print(\"Ocurrió un error al realizar la búsqueda en Amazon.\")\n",
    "        \n",
    "driver.quit()"
   ]
  },
  {
   "cell_type": "code",
   "execution_count": 13,
   "id": "a5255992",
   "metadata": {},
   "outputs": [
    {
     "name": "stderr",
     "output_type": "stream",
     "text": [
      "0it [00:00, ?it/s]\n"
     ]
    }
   ],
   "source": [
    "import json\n",
    "\n",
    "try:\n",
    "    with open('resultados.json', 'r') as f:\n",
    "        list_res = json.load(f)\n",
    "except:\n",
    "    list_res = []\n",
    "\n",
    "for producto in tqdm(productos[len(list_res):]):\n",
    "    try:\n",
    "        res = mi_funcion(producto)\n",
    "        list_res.append({'Producto': producto, 'Reseñas': res})\n",
    "    except:\n",
    "        list_res.append(\"No disponible\")\n",
    "    \n",
    "    with open('resultados.json', 'w') as f:\n",
    "        json.dump(list_res, f)\n"
   ]
  },
  {
   "cell_type": "code",
   "execution_count": null,
   "id": "94955247",
   "metadata": {},
   "outputs": [],
   "source": []
  },
  {
   "cell_type": "code",
   "execution_count": null,
   "id": "bdb8823b",
   "metadata": {},
   "outputs": [],
   "source": []
  }
 ],
 "metadata": {
  "kernelspec": {
   "display_name": "Python 3 (ipykernel)",
   "language": "python",
   "name": "python3"
  },
  "language_info": {
   "codemirror_mode": {
    "name": "ipython",
    "version": 3
   },
   "file_extension": ".py",
   "mimetype": "text/x-python",
   "name": "python",
   "nbconvert_exporter": "python",
   "pygments_lexer": "ipython3",
   "version": "3.9.13"
  }
 },
 "nbformat": 4,
 "nbformat_minor": 5
}
