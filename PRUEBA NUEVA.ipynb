{
 "cells": [
  {
   "cell_type": "code",
   "execution_count": 1,
   "id": "39155a92",
   "metadata": {},
   "outputs": [],
   "source": [
    "import pandas as pd\n",
    "import numpy as np\n",
    "import json\n",
    "import warnings\n",
    "warnings.filterwarnings(\"ignore\")"
   ]
  },
  {
   "cell_type": "code",
   "execution_count": 2,
   "id": "6d64486d",
   "metadata": {},
   "outputs": [],
   "source": [
    "skincare = pd.read_csv('skincare.csv')"
   ]
  },
  {
   "cell_type": "code",
   "execution_count": 3,
   "id": "a5f31eeb",
   "metadata": {},
   "outputs": [
    {
     "data": {
      "text/html": [
       "<div>\n",
       "<style scoped>\n",
       "    .dataframe tbody tr th:only-of-type {\n",
       "        vertical-align: middle;\n",
       "    }\n",
       "\n",
       "    .dataframe tbody tr th {\n",
       "        vertical-align: top;\n",
       "    }\n",
       "\n",
       "    .dataframe thead th {\n",
       "        text-align: right;\n",
       "    }\n",
       "</style>\n",
       "<table border=\"1\" class=\"dataframe\">\n",
       "  <thead>\n",
       "    <tr style=\"text-align: right;\">\n",
       "      <th></th>\n",
       "      <th>Type</th>\n",
       "      <th>Brand</th>\n",
       "      <th>Name</th>\n",
       "      <th>Skin</th>\n",
       "    </tr>\n",
       "  </thead>\n",
       "  <tbody>\n",
       "    <tr>\n",
       "      <th>0</th>\n",
       "      <td>General Moisturizer</td>\n",
       "      <td>The Ordinary</td>\n",
       "      <td>Natural Moisturizing Factors + HA</td>\n",
       "      <td>dry</td>\n",
       "    </tr>\n",
       "    <tr>\n",
       "      <th>1</th>\n",
       "      <td>Eye Moisturizer</td>\n",
       "      <td>CeraVe</td>\n",
       "      <td>Eye Repair Cream</td>\n",
       "      <td>dry</td>\n",
       "    </tr>\n",
       "    <tr>\n",
       "      <th>2</th>\n",
       "      <td>Toner</td>\n",
       "      <td>Dear, Klairs</td>\n",
       "      <td>Supple Preparation Unscented Toner</td>\n",
       "      <td>dry</td>\n",
       "    </tr>\n",
       "    <tr>\n",
       "      <th>3</th>\n",
       "      <td>Serum</td>\n",
       "      <td>Dear, Klairs</td>\n",
       "      <td>Freshly Juiced Vitamin Drop</td>\n",
       "      <td>dry</td>\n",
       "    </tr>\n",
       "    <tr>\n",
       "      <th>4</th>\n",
       "      <td>Eye Moisturizer</td>\n",
       "      <td>Biossance</td>\n",
       "      <td>Squalane + Peptide Eye Gel</td>\n",
       "      <td>dry</td>\n",
       "    </tr>\n",
       "  </tbody>\n",
       "</table>\n",
       "</div>"
      ],
      "text/plain": [
       "                  Type         Brand                                Name Skin\n",
       "0  General Moisturizer  The Ordinary   Natural Moisturizing Factors + HA  dry\n",
       "1      Eye Moisturizer        CeraVe                    Eye Repair Cream  dry\n",
       "2                Toner  Dear, Klairs  Supple Preparation Unscented Toner  dry\n",
       "3                Serum  Dear, Klairs         Freshly Juiced Vitamin Drop  dry\n",
       "4      Eye Moisturizer     Biossance          Squalane + Peptide Eye Gel  dry"
      ]
     },
     "execution_count": 3,
     "metadata": {},
     "output_type": "execute_result"
    }
   ],
   "source": [
    "skincare.head()"
   ]
  },
  {
   "cell_type": "code",
   "execution_count": 4,
   "id": "f28e0119",
   "metadata": {},
   "outputs": [
    {
     "data": {
      "text/plain": [
       "array(['General Moisturizer', 'Eye Moisturizer', 'Toner', 'Serum',\n",
       "       'Eye Mask', 'Facial Treatment', 'Bath & Body', 'Wet Mask',\n",
       "       'Sheet Mask', 'Essence', 'Oil', 'Makeup Remover', 'Overnight Mask',\n",
       "       'Other', 'Exfoliator', 'Face Cleanser', 'Sunscreen',\n",
       "       'Night Moisturizer', 'Face Makeup', 'Day Moisturizer',\n",
       "       'Lip Moisturizer', 'Emulsion', 'Lip Mask'], dtype=object)"
      ]
     },
     "execution_count": 4,
     "metadata": {},
     "output_type": "execute_result"
    }
   ],
   "source": [
    "skincare.Type.unique()"
   ]
  },
  {
   "cell_type": "markdown",
   "id": "24b869f2",
   "metadata": {},
   "source": [
    "Solo nos vamos a quedar con los datos que son relevantes para una rutina de skincare."
   ]
  },
  {
   "cell_type": "code",
   "execution_count": 5,
   "id": "e370b161",
   "metadata": {},
   "outputs": [],
   "source": [
    "indices = skincare.index[skincare['Type'].isin(['Eye Mask', 'Shampoo', 'Bath & Body', 'Wet Mask', 'Sheet Mask', 'Essence', 'Overnight Mask', 'Other', 'Face Makeup', 'Emulsion', 'Lip Mask'])]"
   ]
  },
  {
   "cell_type": "code",
   "execution_count": 6,
   "id": "c8f29948",
   "metadata": {},
   "outputs": [],
   "source": [
    "skincare = skincare.drop(indices)"
   ]
  },
  {
   "cell_type": "code",
   "execution_count": 7,
   "id": "f07c9160",
   "metadata": {},
   "outputs": [
    {
     "data": {
      "text/plain": [
       "array(['General Moisturizer', 'Eye Moisturizer', 'Toner', 'Serum',\n",
       "       'Facial Treatment', 'Oil', 'Makeup Remover', 'Exfoliator',\n",
       "       'Face Cleanser', 'Sunscreen', 'Night Moisturizer',\n",
       "       'Day Moisturizer', 'Lip Moisturizer'], dtype=object)"
      ]
     },
     "execution_count": 7,
     "metadata": {},
     "output_type": "execute_result"
    }
   ],
   "source": [
    "skincare.Type.unique()"
   ]
  },
  {
   "cell_type": "code",
   "execution_count": 8,
   "id": "75898054",
   "metadata": {},
   "outputs": [
    {
     "data": {
      "text/plain": [
       "1365"
      ]
     },
     "execution_count": 8,
     "metadata": {},
     "output_type": "execute_result"
    }
   ],
   "source": [
    "len(skincare.Brand.unique())"
   ]
  },
  {
   "cell_type": "code",
   "execution_count": 9,
   "id": "873120f9",
   "metadata": {},
   "outputs": [
    {
     "data": {
      "text/plain": [
       "Brand\n",
       "(Malin+Goetz)            25\n",
       "100% Pure                10\n",
       "111MedCo                  1\n",
       "111Skin                  22\n",
       "2SOL                      7\n",
       "                         ..\n",
       "touch in SOL              6\n",
       "uluka                     5\n",
       "up&up                    26\n",
       "we are feel good inc.     1\n",
       "Ánimus Lab               12\n",
       "Name: Name, Length: 1365, dtype: int64"
      ]
     },
     "execution_count": 9,
     "metadata": {},
     "output_type": "execute_result"
    }
   ],
   "source": [
    "skincare.groupby('Brand')['Name'].count()"
   ]
  },
  {
   "cell_type": "code",
   "execution_count": 10,
   "id": "9d24f9ec",
   "metadata": {},
   "outputs": [
    {
     "data": {
      "text/plain": [
       "70"
      ]
     },
     "execution_count": 10,
     "metadata": {},
     "output_type": "execute_result"
    }
   ],
   "source": [
    "len(skincare['Brand'].value_counts()[skincare['Brand'].value_counts() > 100])"
   ]
  },
  {
   "cell_type": "markdown",
   "id": "a619d3d1",
   "metadata": {},
   "source": [
    "Para un mejor analisis de las reseñas, vamos a coger solo las marcas que tengan más de 100 productos, y asi asegurarnos de encontrar las reseñas en Amazon. "
   ]
  },
  {
   "cell_type": "code",
   "execution_count": 11,
   "id": "d11301ab",
   "metadata": {},
   "outputs": [
    {
     "data": {
      "text/html": [
       "<div>\n",
       "<style scoped>\n",
       "    .dataframe tbody tr th:only-of-type {\n",
       "        vertical-align: middle;\n",
       "    }\n",
       "\n",
       "    .dataframe tbody tr th {\n",
       "        vertical-align: top;\n",
       "    }\n",
       "\n",
       "    .dataframe thead th {\n",
       "        text-align: right;\n",
       "    }\n",
       "</style>\n",
       "<table border=\"1\" class=\"dataframe\">\n",
       "  <thead>\n",
       "    <tr style=\"text-align: right;\">\n",
       "      <th></th>\n",
       "      <th>Type</th>\n",
       "      <th>Brand</th>\n",
       "      <th>Name</th>\n",
       "      <th>Skin</th>\n",
       "    </tr>\n",
       "  </thead>\n",
       "  <tbody>\n",
       "    <tr>\n",
       "      <th>42758</th>\n",
       "      <td>General Moisturizer</td>\n",
       "      <td>The Body Shop</td>\n",
       "      <td>Vitamin C Glow-Protect Lotion SPF30</td>\n",
       "      <td>texture</td>\n",
       "    </tr>\n",
       "    <tr>\n",
       "      <th>42761</th>\n",
       "      <td>General Moisturizer</td>\n",
       "      <td>L'Oreal</td>\n",
       "      <td>Age Perfect Cell Renewal Rosy Tone Cream</td>\n",
       "      <td>texture</td>\n",
       "    </tr>\n",
       "    <tr>\n",
       "      <th>42762</th>\n",
       "      <td>Day Moisturizer</td>\n",
       "      <td>Origins</td>\n",
       "      <td>GinZing SPF40 Energy-Boosting Tinted Moisturizer</td>\n",
       "      <td>texture</td>\n",
       "    </tr>\n",
       "    <tr>\n",
       "      <th>42763</th>\n",
       "      <td>Sunscreen</td>\n",
       "      <td>Estée Lauder</td>\n",
       "      <td>DayWear Multi-Protection Anti-Oxidant Sheer Ti...</td>\n",
       "      <td>texture</td>\n",
       "    </tr>\n",
       "    <tr>\n",
       "      <th>42773</th>\n",
       "      <td>Sunscreen</td>\n",
       "      <td>L'Oreal</td>\n",
       "      <td>UV Perfect City Resist SPF50+ PA++++</td>\n",
       "      <td>texture</td>\n",
       "    </tr>\n",
       "  </tbody>\n",
       "</table>\n",
       "</div>"
      ],
      "text/plain": [
       "                      Type          Brand  \\\n",
       "42758  General Moisturizer  The Body Shop   \n",
       "42761  General Moisturizer        L'Oreal   \n",
       "42762      Day Moisturizer        Origins   \n",
       "42763            Sunscreen   Estée Lauder   \n",
       "42773            Sunscreen        L'Oreal   \n",
       "\n",
       "                                                    Name     Skin  \n",
       "42758                Vitamin C Glow-Protect Lotion SPF30  texture  \n",
       "42761           Age Perfect Cell Renewal Rosy Tone Cream  texture  \n",
       "42762   GinZing SPF40 Energy-Boosting Tinted Moisturizer  texture  \n",
       "42763  DayWear Multi-Protection Anti-Oxidant Sheer Ti...  texture  \n",
       "42773               UV Perfect City Resist SPF50+ PA++++  texture  "
      ]
     },
     "execution_count": 11,
     "metadata": {},
     "output_type": "execute_result"
    }
   ],
   "source": [
    "\n",
    "\n",
    "# Seleccionamos las marcas que tienen más de 100 productos\n",
    "marcas_filtradas = skincare['Brand'].value_counts()[skincare['Brand'].value_counts() > 100].index\n",
    "\n",
    "# Creamos un nuevo DataFrame con las filas que cumplen la condición\n",
    "skincare_filtrado = skincare[skincare['Brand'].isin(marcas_filtradas)]\n",
    "\n",
    "skincare_filtrado.tail()\n"
   ]
  },
  {
   "cell_type": "markdown",
   "id": "102bf70b",
   "metadata": {},
   "source": [
    "Vamos a unir producto y marca, para que la búsqueda sea mucho más exacta. "
   ]
  },
  {
   "cell_type": "code",
   "execution_count": 12,
   "id": "04cd5a8d",
   "metadata": {},
   "outputs": [],
   "source": [
    "skincare_filtrado['Producto'] = skincare_filtrado['Brand']+ ' ' + skincare_filtrado['Name']"
   ]
  },
  {
   "cell_type": "code",
   "execution_count": 13,
   "id": "826c5188",
   "metadata": {},
   "outputs": [
    {
     "data": {
      "text/html": [
       "<div>\n",
       "<style scoped>\n",
       "    .dataframe tbody tr th:only-of-type {\n",
       "        vertical-align: middle;\n",
       "    }\n",
       "\n",
       "    .dataframe tbody tr th {\n",
       "        vertical-align: top;\n",
       "    }\n",
       "\n",
       "    .dataframe thead th {\n",
       "        text-align: right;\n",
       "    }\n",
       "</style>\n",
       "<table border=\"1\" class=\"dataframe\">\n",
       "  <thead>\n",
       "    <tr style=\"text-align: right;\">\n",
       "      <th></th>\n",
       "      <th>Type</th>\n",
       "      <th>Brand</th>\n",
       "      <th>Name</th>\n",
       "      <th>Skin</th>\n",
       "      <th>Producto</th>\n",
       "    </tr>\n",
       "  </thead>\n",
       "  <tbody>\n",
       "    <tr>\n",
       "      <th>0</th>\n",
       "      <td>General Moisturizer</td>\n",
       "      <td>The Ordinary</td>\n",
       "      <td>Natural Moisturizing Factors + HA</td>\n",
       "      <td>dry</td>\n",
       "      <td>The Ordinary Natural Moisturizing Factors + HA</td>\n",
       "    </tr>\n",
       "    <tr>\n",
       "      <th>1</th>\n",
       "      <td>Eye Moisturizer</td>\n",
       "      <td>CeraVe</td>\n",
       "      <td>Eye Repair Cream</td>\n",
       "      <td>dry</td>\n",
       "      <td>CeraVe Eye Repair Cream</td>\n",
       "    </tr>\n",
       "    <tr>\n",
       "      <th>6</th>\n",
       "      <td>Toner</td>\n",
       "      <td>Hada Labo</td>\n",
       "      <td>Gokujyun Premium Lotion</td>\n",
       "      <td>dry</td>\n",
       "      <td>Hada Labo Gokujyun Premium Lotion</td>\n",
       "    </tr>\n",
       "    <tr>\n",
       "      <th>7</th>\n",
       "      <td>General Moisturizer</td>\n",
       "      <td>Clinique</td>\n",
       "      <td>Moisture Surge 72-Hour Auto-Replenishing Hydrator</td>\n",
       "      <td>dry</td>\n",
       "      <td>Clinique Moisture Surge 72-Hour Auto-Replenish...</td>\n",
       "    </tr>\n",
       "    <tr>\n",
       "      <th>8</th>\n",
       "      <td>General Moisturizer</td>\n",
       "      <td>Clinique</td>\n",
       "      <td>Moisture Surge™ 100-Hour Auto-Replenishing Hyd...</td>\n",
       "      <td>dry</td>\n",
       "      <td>Clinique Moisture Surge™ 100-Hour Auto-Repleni...</td>\n",
       "    </tr>\n",
       "  </tbody>\n",
       "</table>\n",
       "</div>"
      ],
      "text/plain": [
       "                  Type         Brand  \\\n",
       "0  General Moisturizer  The Ordinary   \n",
       "1      Eye Moisturizer        CeraVe   \n",
       "6                Toner     Hada Labo   \n",
       "7  General Moisturizer      Clinique   \n",
       "8  General Moisturizer      Clinique   \n",
       "\n",
       "                                                Name Skin  \\\n",
       "0                  Natural Moisturizing Factors + HA  dry   \n",
       "1                                   Eye Repair Cream  dry   \n",
       "6                            Gokujyun Premium Lotion  dry   \n",
       "7  Moisture Surge 72-Hour Auto-Replenishing Hydrator  dry   \n",
       "8  Moisture Surge™ 100-Hour Auto-Replenishing Hyd...  dry   \n",
       "\n",
       "                                            Producto  \n",
       "0     The Ordinary Natural Moisturizing Factors + HA  \n",
       "1                            CeraVe Eye Repair Cream  \n",
       "6                  Hada Labo Gokujyun Premium Lotion  \n",
       "7  Clinique Moisture Surge 72-Hour Auto-Replenish...  \n",
       "8  Clinique Moisture Surge™ 100-Hour Auto-Repleni...  "
      ]
     },
     "execution_count": 13,
     "metadata": {},
     "output_type": "execute_result"
    }
   ],
   "source": [
    "skincare_filtrado.head()"
   ]
  },
  {
   "cell_type": "code",
   "execution_count": 14,
   "id": "8929250a",
   "metadata": {},
   "outputs": [],
   "source": [
    "skincare_filtrado.to_csv('productos.csv')"
   ]
  },
  {
   "cell_type": "code",
   "execution_count": 15,
   "id": "48ef6829",
   "metadata": {},
   "outputs": [],
   "source": [
    "productos= skincare_filtrado.Producto.unique()"
   ]
  },
  {
   "cell_type": "code",
   "execution_count": 18,
   "id": "178d89c0",
   "metadata": {},
   "outputs": [
    {
     "data": {
      "text/plain": [
       "2784"
      ]
     },
     "execution_count": 18,
     "metadata": {},
     "output_type": "execute_result"
    }
   ],
   "source": [
    "len(productos)"
   ]
  },
  {
   "cell_type": "code",
   "execution_count": 17,
   "id": "edfdac03",
   "metadata": {},
   "outputs": [],
   "source": [
    "with open('productoss.txt', 'w') as file:\n",
    "    for producto in productos:\n",
    "        file.write(producto + '\\n')"
   ]
  },
  {
   "cell_type": "code",
   "execution_count": null,
   "id": "568cfb95",
   "metadata": {},
   "outputs": [],
   "source": []
  }
 ],
 "metadata": {
  "kernelspec": {
   "display_name": "Python 3 (ipykernel)",
   "language": "python",
   "name": "python3"
  },
  "language_info": {
   "codemirror_mode": {
    "name": "ipython",
    "version": 3
   },
   "file_extension": ".py",
   "mimetype": "text/x-python",
   "name": "python",
   "nbconvert_exporter": "python",
   "pygments_lexer": "ipython3",
   "version": "3.9.13"
  }
 },
 "nbformat": 4,
 "nbformat_minor": 5
}
