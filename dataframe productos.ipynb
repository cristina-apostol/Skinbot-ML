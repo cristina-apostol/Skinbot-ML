{
 "cells": [
  {
   "cell_type": "code",
   "execution_count": 1,
   "id": "cc798ed4",
   "metadata": {},
   "outputs": [],
   "source": [
    "import pandas as pd\n",
    "import numpy as np\n",
    "import json\n",
    "import warnings\n",
    "warnings.filterwarnings(\"ignore\")"
   ]
  },
  {
   "cell_type": "code",
   "execution_count": 42,
   "id": "1e1b6efe",
   "metadata": {},
   "outputs": [],
   "source": [
    "\n",
    "with open('datos_scrapeados1.json', 'r') as f:\n",
    "    data1 = f.read()\n",
    "    \n",
    "with open('datos_scrapeados2.json', 'r') as f:\n",
    "    data2 = f.read()\n",
    "\n",
    "with open('datos_scrapeados3.json', 'r') as f:\n",
    "    data3 = f.read()\n",
    "    \n",
    "\n",
    "with open('datos_scrapeados4.json', 'r') as f:\n",
    "    data4 = f.read()\n",
    "\n",
    "\n",
    "with open('datos_scrapeados5.json', 'r') as f:\n",
    "    data5 = f.read()\n",
    "\n"
   ]
  },
  {
   "cell_type": "code",
   "execution_count": 43,
   "id": "4b06a040",
   "metadata": {},
   "outputs": [],
   "source": [
    "\n",
    "\n",
    "# Convierte el JSON en un diccionario\n",
    "datos_dict1 = json.loads(data1)\n",
    "datos_dict2 = json.loads(data2)\n",
    "datos_dict3 = json.loads(data3)\n",
    "datos_dict4 = json.loads(data4)\n",
    "datos_dict5 = json.loads(data5)\n",
    "    \n"
   ]
  },
  {
   "cell_type": "code",
   "execution_count": 44,
   "id": "e8611016",
   "metadata": {},
   "outputs": [],
   "source": [
    "datos_dict_list = [datos_dict1, datos_dict2, datos_dict3, datos_dict4, datos_dict5]\n"
   ]
  },
  {
   "cell_type": "code",
   "execution_count": 49,
   "id": "f1c33bd4",
   "metadata": {},
   "outputs": [
    {
     "data": {
      "text/html": [
       "<div>\n",
       "<style scoped>\n",
       "    .dataframe tbody tr th:only-of-type {\n",
       "        vertical-align: middle;\n",
       "    }\n",
       "\n",
       "    .dataframe tbody tr th {\n",
       "        vertical-align: top;\n",
       "    }\n",
       "\n",
       "    .dataframe thead th {\n",
       "        text-align: right;\n",
       "    }\n",
       "</style>\n",
       "<table border=\"1\" class=\"dataframe\">\n",
       "  <thead>\n",
       "    <tr style=\"text-align: right;\">\n",
       "      <th></th>\n",
       "      <th>col1</th>\n",
       "      <th>col2</th>\n",
       "      <th>col3</th>\n",
       "      <th>col4</th>\n",
       "    </tr>\n",
       "  </thead>\n",
       "  <tbody>\n",
       "    <tr>\n",
       "      <th>0</th>\n",
       "      <td>Facial Treatment</td>\n",
       "      <td>The Ordinary</td>\n",
       "      <td>Niacinamide 10% + Zinc 1%</td>\n",
       "      <td>[(20), vegan and cruelty-free facial treatment...</td>\n",
       "    </tr>\n",
       "    <tr>\n",
       "      <th>1</th>\n",
       "      <td>Essence</td>\n",
       "      <td>COSRX</td>\n",
       "      <td>Advanced Snail 96 Mucin Power Essence</td>\n",
       "      <td>[(15), cruelty-free essence that contains hyal...</td>\n",
       "    </tr>\n",
       "    <tr>\n",
       "      <th>2</th>\n",
       "      <td>Face Cleanser</td>\n",
       "      <td>CeraVe</td>\n",
       "      <td>Hydrating Facial Cleanser</td>\n",
       "      <td>[(12), face cleanser that contains ceramides, ...</td>\n",
       "    </tr>\n",
       "    <tr>\n",
       "      <th>3</th>\n",
       "      <td>Face Cleanser</td>\n",
       "      <td>CeraVe</td>\n",
       "      <td>Foaming Facial Cleanser</td>\n",
       "      <td>[(8), face cleanser that contains aha, ceramid...</td>\n",
       "    </tr>\n",
       "    <tr>\n",
       "      <th>4</th>\n",
       "      <td>Facial Treatment</td>\n",
       "      <td>The Ordinary</td>\n",
       "      <td>Hyaluronic Acid 2% + B5</td>\n",
       "      <td>[(3), vegan and cruelty-free facial treatment ...</td>\n",
       "    </tr>\n",
       "  </tbody>\n",
       "</table>\n",
       "</div>"
      ],
      "text/plain": [
       "               col1          col2                                   col3  \\\n",
       "0  Facial Treatment  The Ordinary              Niacinamide 10% + Zinc 1%   \n",
       "1           Essence         COSRX  Advanced Snail 96 Mucin Power Essence   \n",
       "2     Face Cleanser        CeraVe              Hydrating Facial Cleanser   \n",
       "3     Face Cleanser        CeraVe                Foaming Facial Cleanser   \n",
       "4  Facial Treatment  The Ordinary                Hyaluronic Acid 2% + B5   \n",
       "\n",
       "                                                col4  \n",
       "0  [(20), vegan and cruelty-free facial treatment...  \n",
       "1  [(15), cruelty-free essence that contains hyal...  \n",
       "2  [(12), face cleanser that contains ceramides, ...  \n",
       "3  [(8), face cleanser that contains aha, ceramid...  \n",
       "4  [(3), vegan and cruelty-free facial treatment ...  "
      ]
     },
     "execution_count": 49,
     "metadata": {},
     "output_type": "execute_result"
    }
   ],
   "source": [
    "cols = ['col1', 'col2', 'col3', 'col4']\n",
    "\n",
    "# Diccionario vacío para almacenar los valores de cada columna\n",
    "new_d = {col: [] for col in cols}\n",
    "\n",
    "# Loop para agregar los elementos de cada lista del diccionario original al nuevo diccionario\n",
    "for datos_dict in datos_dict_list:\n",
    "    for key, value in datos_dict.items():\n",
    "        for lst in value:\n",
    "            new_d['col1'].append(lst[0])\n",
    "            new_d['col2'].append(lst[1])\n",
    "            new_d['col3'].append(lst[2])\n",
    "            new_d['col4'].append(lst[3:5])\n",
    "\n",
    "# Crear DataFrame a partir del diccionario\n",
    "df = pd.DataFrame(new_d)\n",
    "\n",
    "# Mostrar DataFrame resultado\n",
    "\n",
    "\n",
    "df.head()\n"
   ]
  },
  {
   "cell_type": "code",
   "execution_count": 53,
   "id": "32b1a606",
   "metadata": {},
   "outputs": [],
   "source": [
    "df.rename(columns={'col1':'Type', 'Brand':'Name', 'col4': 'Ingredients'}, inplace=True)"
   ]
  },
  {
   "cell_type": "code",
   "execution_count": 66,
   "id": "36225e34",
   "metadata": {},
   "outputs": [],
   "source": [
    "df['Ingredients'] = df['Ingredients'].str.join(', ')"
   ]
  },
  {
   "cell_type": "code",
   "execution_count": 68,
   "id": "634e6662",
   "metadata": {},
   "outputs": [
    {
     "name": "stdout",
     "output_type": "stream",
     "text": [
      "<class 'pandas.core.frame.DataFrame'>\n",
      "RangeIndex: 14079 entries, 0 to 14078\n",
      "Data columns (total 4 columns):\n",
      " #   Column       Non-Null Count  Dtype \n",
      "---  ------       --------------  ----- \n",
      " 0   Type         14079 non-null  object\n",
      " 1   col2         14079 non-null  object\n",
      " 2   col3         14079 non-null  object\n",
      " 3   Ingredients  14079 non-null  object\n",
      "dtypes: object(4)\n",
      "memory usage: 440.1+ KB\n"
     ]
    }
   ],
   "source": [
    "df.info()"
   ]
  },
  {
   "cell_type": "code",
   "execution_count": null,
   "id": "86371765",
   "metadata": {},
   "outputs": [],
   "source": []
  }
 ],
 "metadata": {
  "finalized": {
   "timestamp": 1678373171212,
   "trusted": true
  },
  "kernelspec": {
   "display_name": "Python 3 (ipykernel)",
   "language": "python",
   "name": "python3"
  },
  "language_info": {
   "codemirror_mode": {
    "name": "ipython",
    "version": 3
   },
   "file_extension": ".py",
   "mimetype": "text/x-python",
   "name": "python",
   "nbconvert_exporter": "python",
   "pygments_lexer": "ipython3",
   "version": "3.9.13"
  }
 },
 "nbformat": 4,
 "nbformat_minor": 5
}
