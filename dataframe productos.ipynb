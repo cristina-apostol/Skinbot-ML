{
 "cells": [
  {
   "cell_type": "code",
   "execution_count": 1,
   "id": "b2dfd9fe",
   "metadata": {},
   "outputs": [],
   "source": [
    "import pandas as pd\n",
    "import numpy as np\n",
    "import json\n",
    "import warnings\n",
    "warnings.filterwarnings(\"ignore\")"
   ]
  },
  {
   "cell_type": "code",
   "execution_count": 2,
   "id": "f5865b1e",
   "metadata": {},
   "outputs": [],
   "source": [
    "\n",
    "with open('datos_scrapeados1.json', 'r') as f:\n",
    "    data = f.read()\n",
    "\n"
   ]
  },
  {
   "cell_type": "code",
   "execution_count": null,
   "id": "ba3b9b60",
   "metadata": {},
   "outputs": [],
   "source": []
  },
  {
   "cell_type": "code",
   "execution_count": 3,
   "id": "f47e5ee1",
   "metadata": {},
   "outputs": [
    {
     "data": {
      "text/plain": [
       "['Facial Treatment',\n",
       " 'The Ordinary',\n",
       " 'Niacinamide 10% + Zinc 1%',\n",
       " '(20)',\n",
       " 'vegan and cruelty-free facial treatment that contains niacinamide.',\n",
       " '$6.00 at Ulta']"
      ]
     },
     "execution_count": 3,
     "metadata": {},
     "output_type": "execute_result"
    }
   ],
   "source": [
    "\n",
    "\n",
    "# Convierte el JSON en un diccionario\n",
    "datos_dict = json.loads(data)\n",
    "\n",
    "datos_dict['1'][0]\n",
    "\n",
    "\n",
    "    \n"
   ]
  },
  {
   "cell_type": "code",
   "execution_count": 4,
   "id": "02c177a4",
   "metadata": {},
   "outputs": [
    {
     "data": {
      "text/plain": [
       "['Serum',\n",
       " 'Naturium Skincare',\n",
       " 'Alpha Arbutin Serum 2%',\n",
       " 'vegan and cruelty-free serum that contains aha, hyaluronic acid, niacinamide and vitamin e.',\n",
       " '$19.99 at Amazon']"
      ]
     },
     "execution_count": 4,
     "metadata": {},
     "output_type": "execute_result"
    }
   ],
   "source": [
    "datos_dict['5'][0]"
   ]
  },
  {
   "cell_type": "code",
   "execution_count": 5,
   "id": "a3cb5719",
   "metadata": {},
   "outputs": [],
   "source": [
    "def obtener_elementos(valores):\n",
    "    if len(valores) >= 4:\n",
    "        if valores[2].isdigit() and valores[2].find(\"(\") != -1 and valores[2].find(\")\") != -1:\n",
    "            return valores[:2] + [valores[3]] + [None]\n",
    "        else:\n",
    "            return valores[:3] + [None]\n",
    "    else:\n",
    "        return valores + [None] * (4 - len(valores))\n"
   ]
  },
  {
   "cell_type": "code",
   "execution_count": 6,
   "id": "09919267",
   "metadata": {},
   "outputs": [],
   "source": [
    "new_d = {'col1': [], 'col2': [], 'col3': [], 'col4': []}\n",
    "\n",
    "# agregar los elementos de cada lista del diccionario original al nuevo diccionario\n",
    "for key, value in datos_dict.items():\n",
    "    for lst in value:\n",
    "        elementos = obtener_elementos(lst)\n",
    "        new_d['col1'].append(elementos[0] if len(elementos) >= 1 else None)\n",
    "        new_d['col2'].append(elementos[1] if len(elementos) >= 2 else None)\n",
    "        new_d['col3'].append(elementos[2] if len(elementos) >= 3 else None)\n",
    "        new_d['col4'].append(elementos[3] if len(elementos) >= 4 else None)\n",
    "\n",
    "df = pd.DataFrame(new_d)"
   ]
  },
  {
   "cell_type": "code",
   "execution_count": 7,
   "id": "5412889a",
   "metadata": {},
   "outputs": [
    {
     "data": {
      "text/html": [
       "<div>\n",
       "<style scoped>\n",
       "    .dataframe tbody tr th:only-of-type {\n",
       "        vertical-align: middle;\n",
       "    }\n",
       "\n",
       "    .dataframe tbody tr th {\n",
       "        vertical-align: top;\n",
       "    }\n",
       "\n",
       "    .dataframe thead th {\n",
       "        text-align: right;\n",
       "    }\n",
       "</style>\n",
       "<table border=\"1\" class=\"dataframe\">\n",
       "  <thead>\n",
       "    <tr style=\"text-align: right;\">\n",
       "      <th></th>\n",
       "      <th>col1</th>\n",
       "      <th>col2</th>\n",
       "      <th>col3</th>\n",
       "      <th>col4</th>\n",
       "    </tr>\n",
       "  </thead>\n",
       "  <tbody>\n",
       "    <tr>\n",
       "      <th>0</th>\n",
       "      <td>Facial Treatment</td>\n",
       "      <td>The Ordinary</td>\n",
       "      <td>Niacinamide 10% + Zinc 1%</td>\n",
       "      <td>None</td>\n",
       "    </tr>\n",
       "    <tr>\n",
       "      <th>1</th>\n",
       "      <td>Essence</td>\n",
       "      <td>COSRX</td>\n",
       "      <td>Advanced Snail 96 Mucin Power Essence</td>\n",
       "      <td>None</td>\n",
       "    </tr>\n",
       "    <tr>\n",
       "      <th>2</th>\n",
       "      <td>Face Cleanser</td>\n",
       "      <td>CeraVe</td>\n",
       "      <td>Hydrating Facial Cleanser</td>\n",
       "      <td>None</td>\n",
       "    </tr>\n",
       "    <tr>\n",
       "      <th>3</th>\n",
       "      <td>Face Cleanser</td>\n",
       "      <td>CeraVe</td>\n",
       "      <td>Foaming Facial Cleanser</td>\n",
       "      <td>None</td>\n",
       "    </tr>\n",
       "    <tr>\n",
       "      <th>4</th>\n",
       "      <td>Facial Treatment</td>\n",
       "      <td>The Ordinary</td>\n",
       "      <td>Hyaluronic Acid 2% + B5</td>\n",
       "      <td>None</td>\n",
       "    </tr>\n",
       "  </tbody>\n",
       "</table>\n",
       "</div>"
      ],
      "text/plain": [
       "               col1          col2                                   col3  col4\n",
       "0  Facial Treatment  The Ordinary              Niacinamide 10% + Zinc 1%  None\n",
       "1           Essence         COSRX  Advanced Snail 96 Mucin Power Essence  None\n",
       "2     Face Cleanser        CeraVe              Hydrating Facial Cleanser  None\n",
       "3     Face Cleanser        CeraVe                Foaming Facial Cleanser  None\n",
       "4  Facial Treatment  The Ordinary                Hyaluronic Acid 2% + B5  None"
      ]
     },
     "execution_count": 7,
     "metadata": {},
     "output_type": "execute_result"
    }
   ],
   "source": [
    "df.head()"
   ]
  },
  {
   "cell_type": "code",
   "execution_count": null,
   "id": "be8c5c31",
   "metadata": {},
   "outputs": [],
   "source": []
  }
 ],
 "metadata": {
  "finalized": {
   "timestamp": 1678373171212,
   "trusted": true
  },
  "kernelspec": {
   "display_name": "Python 3 (ipykernel)",
   "language": "python",
   "name": "python3"
  },
  "language_info": {
   "codemirror_mode": {
    "name": "ipython",
    "version": 3
   },
   "file_extension": ".py",
   "mimetype": "text/x-python",
   "name": "python",
   "nbconvert_exporter": "python",
   "pygments_lexer": "ipython3",
   "version": "3.9.13"
  }
 },
 "nbformat": 4,
 "nbformat_minor": 5
}
