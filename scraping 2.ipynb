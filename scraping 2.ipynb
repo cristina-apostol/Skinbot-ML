{
 "cells": [
  {
   "cell_type": "code",
   "execution_count": 1,
   "id": "1b14c71c",
   "metadata": {},
   "outputs": [
    {
     "name": "stdout",
     "output_type": "stream",
     "text": [
      "Requirement already satisfied: webdriver-manager in /home/usuario/anaconda3/lib/python3.9/site-packages (3.8.5)\n",
      "Requirement already satisfied: packaging in /home/usuario/anaconda3/lib/python3.9/site-packages (from webdriver-manager) (21.3)\n",
      "Requirement already satisfied: requests in /home/usuario/anaconda3/lib/python3.9/site-packages (from webdriver-manager) (2.28.1)\n",
      "Requirement already satisfied: python-dotenv in /home/usuario/anaconda3/lib/python3.9/site-packages (from webdriver-manager) (0.21.1)\n",
      "Requirement already satisfied: tqdm in /home/usuario/anaconda3/lib/python3.9/site-packages (from webdriver-manager) (4.64.1)\n",
      "Requirement already satisfied: pyparsing!=3.0.5,>=2.0.2 in /home/usuario/anaconda3/lib/python3.9/site-packages (from packaging->webdriver-manager) (3.0.9)\n",
      "Requirement already satisfied: charset-normalizer<3,>=2 in /home/usuario/anaconda3/lib/python3.9/site-packages (from requests->webdriver-manager) (2.0.4)\n",
      "Requirement already satisfied: urllib3<1.27,>=1.21.1 in /home/usuario/anaconda3/lib/python3.9/site-packages (from requests->webdriver-manager) (1.26.11)\n",
      "Requirement already satisfied: idna<4,>=2.5 in /home/usuario/anaconda3/lib/python3.9/site-packages (from requests->webdriver-manager) (3.3)\n",
      "Requirement already satisfied: certifi>=2017.4.17 in /home/usuario/anaconda3/lib/python3.9/site-packages (from requests->webdriver-manager) (2022.9.14)\n",
      "Note: you may need to restart the kernel to use updated packages.\n"
     ]
    }
   ],
   "source": [
    "import pandas as pd\n",
    "import numpy as np\n",
    "from selenium import webdriver\n",
    "\n",
    "%pip install webdriver-manager\n",
    "from webdriver_manager.chrome import ChromeDriverManager\n",
    "from selenium.webdriver.common.by import By\n",
    "import time\n",
    "\n"
   ]
  },
  {
   "cell_type": "code",
   "execution_count": 2,
   "id": "245cc1e1",
   "metadata": {},
   "outputs": [
    {
     "name": "stderr",
     "output_type": "stream",
     "text": [
      "2023-03-08 21:16:34,005 [48446] WARNING  py.warnings:109: [JupyterRequire] /tmp/ipykernel_48446/2220393913.py:3: DeprecationWarning: executable_path has been deprecated, please pass in a Service object\n",
      "  driver=webdriver.Chrome(PATH)       # abre una venta una de chrome\n",
      "\n"
     ]
    }
   ],
   "source": [
    "PATH = ChromeDriverManager().install()     # instala el driver de chrome\n",
    "\n",
    "driver=webdriver.Chrome(PATH)       # abre una venta una de chrome\n",
    "\n",
    "driver.get('https://skinsort.com/products/')"
   ]
  },
  {
   "cell_type": "code",
   "execution_count": 3,
   "id": "f2fe5458",
   "metadata": {},
   "outputs": [],
   "source": [
    "cookies= driver.find_element(By.XPATH, '//*[@id=\"site-body\"]/div[2]/div/div[2]/div[3]/div/div[2]').click() #aceptamos"
   ]
  },
  {
   "cell_type": "code",
   "execution_count": 10,
   "id": "50b7a8fe",
   "metadata": {},
   "outputs": [],
   "source": [
    "boton= driver.find_elements(By.XPATH, '//*[@id=\"filters-toggle\"]')"
   ]
  },
  {
   "cell_type": "code",
   "execution_count": 11,
   "id": "9018d163",
   "metadata": {},
   "outputs": [
    {
     "ename": "AttributeError",
     "evalue": "'list' object has no attribute 'click'",
     "output_type": "error",
     "traceback": [
      "\u001b[0;31m---------------------------------------------------------------------------\u001b[0m",
      "\u001b[0;31mAttributeError\u001b[0m                            Traceback (most recent call last)",
      "\u001b[0;32m/tmp/ipykernel_48446/4085243835.py\u001b[0m in \u001b[0;36m<module>\u001b[0;34m\u001b[0m\n\u001b[0;32m----> 1\u001b[0;31m \u001b[0mboton\u001b[0m\u001b[0;34m.\u001b[0m\u001b[0mclick\u001b[0m\u001b[0;34m(\u001b[0m\u001b[0;34m)\u001b[0m\u001b[0;34m\u001b[0m\u001b[0;34m\u001b[0m\u001b[0m\n\u001b[0m",
      "\u001b[0;31mAttributeError\u001b[0m: 'list' object has no attribute 'click'"
     ]
    }
   ],
   "source": [
    "boton.click()"
   ]
  },
  {
   "cell_type": "code",
   "execution_count": 6,
   "id": "ff1939f5",
   "metadata": {},
   "outputs": [],
   "source": [
    "piel= driver.find_element(By.XPATH, '/html/body/div[1]/div/div/div[1]/div/div[3]/div/div/div/turbo-frame/form/div[8]/div/div[1]/label')"
   ]
  },
  {
   "cell_type": "code",
   "execution_count": 7,
   "id": "50b524e3",
   "metadata": {},
   "outputs": [],
   "source": [
    "piel.click()"
   ]
  },
  {
   "cell_type": "code",
   "execution_count": 8,
   "id": "9c09f890",
   "metadata": {},
   "outputs": [],
   "source": [
    "prod= driver.find_element(By.XPATH, '//*[@id=\"products-table\"]/div[1]/div/div/div[2]/div/div[2]/h2/span[2]/a')"
   ]
  },
  {
   "cell_type": "code",
   "execution_count": 9,
   "id": "0acafb54",
   "metadata": {},
   "outputs": [
    {
     "data": {
      "text/plain": [
       "'Natural Moisturizing Factors + HA'"
      ]
     },
     "execution_count": 9,
     "metadata": {},
     "output_type": "execute_result"
    }
   ],
   "source": [
    "prod.text"
   ]
  },
  {
   "cell_type": "code",
   "execution_count": null,
   "id": "28713d19",
   "metadata": {},
   "outputs": [],
   "source": [
    "def obtener_productos_skinsort(url):\n",
    "    PATH = ChromeDriverManager().install()     # instala el driver de chrome   \n",
    "    driver = webdriver.Chrome(PATH)\n",
    "    driver.get(url)\n",
    "\n",
    "  \n",
    "    try:\n",
    "        cookies = driver.find_element(By.XPATH, '//*[@id=\"site-body\"]/div[2]/div/div[2]/div[3]/div/div[2]')\n",
    "        cookies.click()\n",
    "        time.sleep(1)\n",
    "    except:\n",
    "        pass\n",
    "\n",
    "    lst = []\n",
    "    while True:\n",
    "        productos = driver.find_elements(By.CSS_SELECTOR, '.lg\\\\:h-full.w-full.flex.flex-col')\n",
    "        for producto in tqdm(productos, desc='Obteniendo productos'):\n",
    "            lst.append(producto.text.split('\\n'))\n",
    "            \n",
    "        print(f'Estamos en la página {driver.current_url}') \n",
    "\n",
    "        try:\n",
    "          \n",
    "            siguiente = driver.find_element(By.XPATH, '//a[@rel=\"next\"]')\n",
    "            \n",
    "            driver.execute_script(\"arguments[0].scrollIntoView();\", siguiente)\n",
    "            time.sleep(2)\n",
    "            # Hacer clic en el botón de la siguiente página\n",
    "            siguiente.click()\n",
    "            time.sleep(3)\n",
    "            \n",
    "         \n",
    "        except:\n",
    "            print('No se pudo hacer clic en el botón de la siguiente página.')\n",
    "            lst.append([])\n",
    "            break\n",
    "\n",
    "    driver.quit()\n",
    "\n",
    "    return lst"
   ]
  }
 ],
 "metadata": {
  "kernelspec": {
   "display_name": "Python 3 (ipykernel)",
   "language": "python",
   "name": "python3"
  },
  "language_info": {
   "codemirror_mode": {
    "name": "ipython",
    "version": 3
   },
   "file_extension": ".py",
   "mimetype": "text/x-python",
   "name": "python",
   "nbconvert_exporter": "python",
   "pygments_lexer": "ipython3",
   "version": "3.9.13"
  }
 },
 "nbformat": 4,
 "nbformat_minor": 5
}
