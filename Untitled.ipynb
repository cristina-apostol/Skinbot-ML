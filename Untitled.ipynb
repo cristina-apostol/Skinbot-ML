{
 "cells": [
  {
   "cell_type": "code",
   "execution_count": 7,
   "id": "3effd94e",
   "metadata": {},
   "outputs": [],
   "source": [
    "import json\n",
    "import pandas as pd\n",
    "import numpy as np\n",
    "import json\n",
    "import warnings"
   ]
  },
  {
   "cell_type": "code",
   "execution_count": 8,
   "id": "2734aba1",
   "metadata": {},
   "outputs": [],
   "source": [
    "with open('resultados.json', 'r') as f:\n",
    "    data= f.read()\n",
    "    "
   ]
  },
  {
   "cell_type": "code",
   "execution_count": 22,
   "id": "db8e7589",
   "metadata": {},
   "outputs": [],
   "source": [
    "lista = json.loads(data)"
   ]
  },
  {
   "cell_type": "code",
   "execution_count": 28,
   "id": "f862407b",
   "metadata": {},
   "outputs": [
    {
     "ename": "SyntaxError",
     "evalue": "invalid syntax (2769495329.py, line 1)",
     "output_type": "error",
     "traceback": [
      "\u001b[0;36m  File \u001b[0;32m\"/tmp/ipykernel_4510/2769495329.py\"\u001b[0;36m, line \u001b[0;32m1\u001b[0m\n\u001b[0;31m    [x for x in lista len(x)==18]\u001b[0m\n\u001b[0m                      ^\u001b[0m\n\u001b[0;31mSyntaxError\u001b[0m\u001b[0;31m:\u001b[0m invalid syntax\n"
     ]
    }
   ],
   "source": [
    "[x for x in lista len(x)==18]"
   ]
  },
  {
   "cell_type": "code",
   "execution_count": 35,
   "id": "da12f628",
   "metadata": {},
   "outputs": [
    {
     "data": {
      "text/plain": [
       "{'Producto': 'The Ordinary Natural Moisturizing Factors + HA',\n",
       " 'Reseñas': ['',\n",
       "  'El 76% de las opiniones tienen 5 estrellas',\n",
       "  'El 76% de las opiniones tienen 5 estrellas',\n",
       "  'El 13% de las opiniones tienen 4 estrellas',\n",
       "  'El 13% de las opiniones tienen 4 estrellas',\n",
       "  'El 7% de las opiniones tienen 3 estrellas',\n",
       "  'El 7% de las opiniones tienen 3 estrellas',\n",
       "  'El 2% de las opiniones tienen 2 estrellas',\n",
       "  'El 2% de las opiniones tienen 2 estrellas',\n",
       "  'El 3% de las opiniones tienen 1 estrellas',\n",
       "  'El 3% de las opiniones tienen 1 estrellas',\n",
       "  '',\n",
       "  '',\n",
       "  '',\n",
       "  '',\n",
       "  '5.0 de 5 estrellas',\n",
       "  '',\n",
       "  '5.0 de 5 estrellas',\n",
       "  '',\n",
       "  '4.0 de 5 estrellas',\n",
       "  '',\n",
       "  '5.0 de 5 estrellas',\n",
       "  '',\n",
       "  '5.0 de 5 estrellas',\n",
       "  '',\n",
       "  '5.0 de 5 estrellas',\n",
       "  '',\n",
       "  '4.0 de 5 estrellas',\n",
       "  '',\n",
       "  '4.0 de 5 estrellas',\n",
       "  '',\n",
       "  '5.0 de 5 estrellas',\n",
       "  '',\n",
       "  '5.0 de 5 estrellas',\n",
       "  '',\n",
       "  '']}"
      ]
     },
     "execution_count": 35,
     "metadata": {},
     "output_type": "execute_result"
    }
   ],
   "source": [
    "lista[0]"
   ]
  },
  {
   "cell_type": "code",
   "execution_count": 92,
   "id": "8e79e61d",
   "metadata": {},
   "outputs": [],
   "source": [
    "# Crear listas vacías\n",
    "productos = []\n",
    "reviews = []\n",
    "\n",
    "# Iterar sobre cada diccionario en la lista\n",
    "for i in lista:\n",
    "    for key, values in i.items():\n",
    "        # Agregar valores a la lista correspondiente\n",
    "        if key == 'Producto':\n",
    "            productos.append(values)\n",
    "        elif key == 'Reseñas':\n",
    "            reviews.append(values)\n",
    "\n",
    "        "
   ]
  },
  {
   "cell_type": "code",
   "execution_count": 123,
   "id": "23ef28c2",
   "metadata": {},
   "outputs": [],
   "source": [
    "\n",
    "\n",
    "filtered_reviews = []\n",
    "\n",
    "for review in reviews:\n",
    "    if review is not None and isinstance(review, list):\n",
    "        product_reviews = []\n",
    "        for item in review:\n",
    "            if isinstance(item, str) and len(item) == 18:\n",
    "                product_reviews.append(item)\n",
    "        filtered_reviews.append(product_reviews)\n"
   ]
  },
  {
   "cell_type": "code",
   "execution_count": 139,
   "id": "da7a47a0",
   "metadata": {},
   "outputs": [
    {
     "data": {
      "text/plain": [
       "['5.0 de 5 estrellas',\n",
       " '5.0 de 5 estrellas',\n",
       " '4.0 de 5 estrellas',\n",
       " '5.0 de 5 estrellas',\n",
       " '5.0 de 5 estrellas',\n",
       " '5.0 de 5 estrellas',\n",
       " '4.0 de 5 estrellas',\n",
       " '4.0 de 5 estrellas',\n",
       " '5.0 de 5 estrellas',\n",
       " '5.0 de 5 estrellas']"
      ]
     },
     "execution_count": 139,
     "metadata": {},
     "output_type": "execute_result"
    }
   ],
   "source": [
    "filtered_reviews[0]"
   ]
  },
  {
   "cell_type": "code",
   "execution_count": 138,
   "id": "22667f3d",
   "metadata": {},
   "outputs": [
    {
     "data": {
      "text/html": [
       "<div>\n",
       "<style scoped>\n",
       "    .dataframe tbody tr th:only-of-type {\n",
       "        vertical-align: middle;\n",
       "    }\n",
       "\n",
       "    .dataframe tbody tr th {\n",
       "        vertical-align: top;\n",
       "    }\n",
       "\n",
       "    .dataframe thead th {\n",
       "        text-align: right;\n",
       "    }\n",
       "</style>\n",
       "<table border=\"1\" class=\"dataframe\">\n",
       "  <thead>\n",
       "    <tr style=\"text-align: right;\">\n",
       "      <th></th>\n",
       "      <th>usuario_1</th>\n",
       "      <th>usuario_2</th>\n",
       "      <th>usuario_3</th>\n",
       "      <th>usuario_4</th>\n",
       "      <th>usuario_5</th>\n",
       "      <th>usuario_6</th>\n",
       "      <th>usuario_7</th>\n",
       "      <th>usuario_8</th>\n",
       "      <th>usuario_9</th>\n",
       "      <th>usuario_10</th>\n",
       "    </tr>\n",
       "  </thead>\n",
       "  <tbody>\n",
       "    <tr>\n",
       "      <th>0</th>\n",
       "      <td>5.0 de 5 estrellas</td>\n",
       "      <td>5.0 de 5 estrellas</td>\n",
       "      <td>4.0 de 5 estrellas</td>\n",
       "      <td>5.0 de 5 estrellas</td>\n",
       "      <td>5.0 de 5 estrellas</td>\n",
       "      <td>5.0 de 5 estrellas</td>\n",
       "      <td>4.0 de 5 estrellas</td>\n",
       "      <td>4.0 de 5 estrellas</td>\n",
       "      <td>5.0 de 5 estrellas</td>\n",
       "      <td>5.0 de 5 estrellas</td>\n",
       "    </tr>\n",
       "    <tr>\n",
       "      <th>1</th>\n",
       "      <td>4.0 de 5 estrellas</td>\n",
       "      <td>5.0 de 5 estrellas</td>\n",
       "      <td>5.0 de 5 estrellas</td>\n",
       "      <td>5.0 de 5 estrellas</td>\n",
       "      <td>5.0 de 5 estrellas</td>\n",
       "      <td>5.0 de 5 estrellas</td>\n",
       "      <td>4.0 de 5 estrellas</td>\n",
       "      <td>5.0 de 5 estrellas</td>\n",
       "      <td>5.0 de 5 estrellas</td>\n",
       "      <td>4.0 de 5 estrellas</td>\n",
       "    </tr>\n",
       "    <tr>\n",
       "      <th>2</th>\n",
       "      <td>5.0 de 5 estrellas</td>\n",
       "      <td>5.0 de 5 estrellas</td>\n",
       "      <td>3.0 de 5 estrellas</td>\n",
       "      <td>5.0 de 5 estrellas</td>\n",
       "      <td>4.0 de 5 estrellas</td>\n",
       "      <td>3.0 de 5 estrellas</td>\n",
       "      <td>5.0 de 5 estrellas</td>\n",
       "      <td>5.0 de 5 estrellas</td>\n",
       "      <td>5.0 de 5 estrellas</td>\n",
       "      <td>5.0 de 5 estrellas</td>\n",
       "    </tr>\n",
       "    <tr>\n",
       "      <th>3</th>\n",
       "      <td>5.0 de 5 estrellas</td>\n",
       "      <td>5.0 de 5 estrellas</td>\n",
       "      <td>5.0 de 5 estrellas</td>\n",
       "      <td>5.0 de 5 estrellas</td>\n",
       "      <td>5.0 de 5 estrellas</td>\n",
       "      <td>3.0 de 5 estrellas</td>\n",
       "      <td>4.0 de 5 estrellas</td>\n",
       "      <td>3.0 de 5 estrellas</td>\n",
       "      <td>5.0 de 5 estrellas</td>\n",
       "      <td>3.0 de 5 estrellas</td>\n",
       "    </tr>\n",
       "    <tr>\n",
       "      <th>4</th>\n",
       "      <td>5.0 de 5 estrellas</td>\n",
       "      <td>3.0 de 5 estrellas</td>\n",
       "      <td>5.0 de 5 estrellas</td>\n",
       "      <td>5.0 de 5 estrellas</td>\n",
       "      <td>1.0 de 5 estrellas</td>\n",
       "      <td>1.0 de 5 estrellas</td>\n",
       "      <td>1.0 de 5 estrellas</td>\n",
       "      <td>5.0 de 5 estrellas</td>\n",
       "      <td>5.0 de 5 estrellas</td>\n",
       "      <td>5.0 de 5 estrellas</td>\n",
       "    </tr>\n",
       "  </tbody>\n",
       "</table>\n",
       "</div>"
      ],
      "text/plain": [
       "            usuario_1           usuario_2           usuario_3  \\\n",
       "0  5.0 de 5 estrellas  5.0 de 5 estrellas  4.0 de 5 estrellas   \n",
       "1  4.0 de 5 estrellas  5.0 de 5 estrellas  5.0 de 5 estrellas   \n",
       "2  5.0 de 5 estrellas  5.0 de 5 estrellas  3.0 de 5 estrellas   \n",
       "3  5.0 de 5 estrellas  5.0 de 5 estrellas  5.0 de 5 estrellas   \n",
       "4  5.0 de 5 estrellas  3.0 de 5 estrellas  5.0 de 5 estrellas   \n",
       "\n",
       "            usuario_4           usuario_5           usuario_6  \\\n",
       "0  5.0 de 5 estrellas  5.0 de 5 estrellas  5.0 de 5 estrellas   \n",
       "1  5.0 de 5 estrellas  5.0 de 5 estrellas  5.0 de 5 estrellas   \n",
       "2  5.0 de 5 estrellas  4.0 de 5 estrellas  3.0 de 5 estrellas   \n",
       "3  5.0 de 5 estrellas  5.0 de 5 estrellas  3.0 de 5 estrellas   \n",
       "4  5.0 de 5 estrellas  1.0 de 5 estrellas  1.0 de 5 estrellas   \n",
       "\n",
       "            usuario_7           usuario_8           usuario_9  \\\n",
       "0  4.0 de 5 estrellas  4.0 de 5 estrellas  5.0 de 5 estrellas   \n",
       "1  4.0 de 5 estrellas  5.0 de 5 estrellas  5.0 de 5 estrellas   \n",
       "2  5.0 de 5 estrellas  5.0 de 5 estrellas  5.0 de 5 estrellas   \n",
       "3  4.0 de 5 estrellas  3.0 de 5 estrellas  5.0 de 5 estrellas   \n",
       "4  1.0 de 5 estrellas  5.0 de 5 estrellas  5.0 de 5 estrellas   \n",
       "\n",
       "           usuario_10  \n",
       "0  5.0 de 5 estrellas  \n",
       "1  4.0 de 5 estrellas  \n",
       "2  5.0 de 5 estrellas  \n",
       "3  3.0 de 5 estrellas  \n",
       "4  5.0 de 5 estrellas  "
      ]
     },
     "execution_count": 138,
     "metadata": {},
     "output_type": "execute_result"
    }
   ],
   "source": [
    "import pandas as pd\n",
    "\n",
    "# Lista de listas con diferente longitud\n",
    "data = [['A', 'B', 'C'], ['D', 'E'], ['F', 'G', 'H', 'I']]\n",
    "\n",
    "# Encontrar el número máximo de columnas\n",
    "max_cols = max(len(row) for row in filtered_reviews)\n",
    "\n",
    "# Crear lista de nombres de columna de igual longitud\n",
    "column_names = [f'usuario_{i+1}' if i < len(filtered_reviews[0]) else None for i in range(max_cols)]\n",
    "\n",
    "# Crear DataFrame\n",
    "df = pd.DataFrame(filtered_reviews, columns=column_names)\n",
    "\n",
    "# Imprimir el resultado\n",
    "df.head()\n"
   ]
  },
  {
   "cell_type": "code",
   "execution_count": 70,
   "id": "84e4204e",
   "metadata": {},
   "outputs": [
    {
     "ename": "TypeError",
     "evalue": "'NoneType' object is not iterable",
     "output_type": "error",
     "traceback": [
      "\u001b[0;31m---------------------------------------------------------------------------\u001b[0m",
      "\u001b[0;31mTypeError\u001b[0m                                 Traceback (most recent call last)",
      "\u001b[0;32m/tmp/ipykernel_4510/3921402674.py\u001b[0m in \u001b[0;36m<module>\u001b[0;34m\u001b[0m\n\u001b[1;32m     13\u001b[0m \u001b[0;34m\u001b[0m\u001b[0m\n\u001b[1;32m     14\u001b[0m         \u001b[0;31m# Iterar sobre cada reseña y extraer la calificación si es 5 estrellas\u001b[0m\u001b[0;34m\u001b[0m\u001b[0;34m\u001b[0m\u001b[0m\n\u001b[0;32m---> 15\u001b[0;31m         \u001b[0;32mfor\u001b[0m \u001b[0mr\u001b[0m \u001b[0;32min\u001b[0m \u001b[0mproducto\u001b[0m\u001b[0;34m[\u001b[0m\u001b[0;34m'Reseñas'\u001b[0m\u001b[0;34m]\u001b[0m\u001b[0;34m:\u001b[0m\u001b[0;34m\u001b[0m\u001b[0;34m\u001b[0m\u001b[0m\n\u001b[0m\u001b[1;32m     16\u001b[0m             \u001b[0;32mif\u001b[0m \u001b[0;34m\"5.0 de 5 estrellas\"\u001b[0m \u001b[0;32min\u001b[0m \u001b[0mr\u001b[0m\u001b[0;34m:\u001b[0m\u001b[0;34m\u001b[0m\u001b[0;34m\u001b[0m\u001b[0m\n\u001b[1;32m     17\u001b[0m                 \u001b[0;31m# Extraer la reseña\u001b[0m\u001b[0;34m\u001b[0m\u001b[0;34m\u001b[0m\u001b[0m\n",
      "\u001b[0;31mTypeError\u001b[0m: 'NoneType' object is not iterable"
     ]
    }
   ],
   "source": [
    "# Crear un diccionario vacío para almacenar los datos\n",
    "datos = {}\n",
    "\n",
    "# Iterar sobre cada producto en la lista de datos\n",
    "for producto in lista:\n",
    "    # Comprobar si el producto tiene reseñas\n",
    "    if 'Reseñas' in producto:\n",
    "        # Extraer el nombre del producto\n",
    "        nombre_producto = producto['Producto']\n",
    "\n",
    "        # Crear un diccionario vacío para almacenar las puntuaciones\n",
    "        puntuaciones = {}\n",
    "\n",
    "        # Iterar sobre cada reseña y extraer la calificación si es 5 estrellas\n",
    "        for r in producto['Reseñas']:\n",
    "            if \"5.0 de 5 estrellas\" in r:\n",
    "                # Extraer la reseña\n",
    "                res = r.strip()\n",
    "                # Añadir la reseña al diccionario de puntuaciones\n",
    "                puntuaciones[len(puntuaciones)+1] = res\n",
    "\n",
    "        # Añadir el diccionario de puntuaciones al diccionario de datos\n",
    "        datos[nombre_producto] = puntuaciones\n",
    "\n",
    "# Crear el dataframe a partir del diccionario de datos\n",
    "df = pd.DataFrame.from_dict(datos, orient='index')\n",
    "\n"
   ]
  },
  {
   "cell_type": "code",
   "execution_count": 69,
   "id": "295e6e15",
   "metadata": {},
   "outputs": [
    {
     "data": {
      "text/html": [
       "<div>\n",
       "<style scoped>\n",
       "    .dataframe tbody tr th:only-of-type {\n",
       "        vertical-align: middle;\n",
       "    }\n",
       "\n",
       "    .dataframe tbody tr th {\n",
       "        vertical-align: top;\n",
       "    }\n",
       "\n",
       "    .dataframe thead th {\n",
       "        text-align: right;\n",
       "    }\n",
       "</style>\n",
       "<table border=\"1\" class=\"dataframe\">\n",
       "  <thead>\n",
       "    <tr style=\"text-align: right;\">\n",
       "      <th></th>\n",
       "    </tr>\n",
       "  </thead>\n",
       "  <tbody>\n",
       "  </tbody>\n",
       "</table>\n",
       "</div>"
      ],
      "text/plain": [
       "Empty DataFrame\n",
       "Columns: []\n",
       "Index: []"
      ]
     },
     "execution_count": 69,
     "metadata": {},
     "output_type": "execute_result"
    }
   ],
   "source": [
    "df"
   ]
  },
  {
   "cell_type": "code",
   "execution_count": 36,
   "id": "a66d28f7",
   "metadata": {},
   "outputs": [
    {
     "ename": "TypeError",
     "evalue": "string indices must be integers",
     "output_type": "error",
     "traceback": [
      "\u001b[0;31m---------------------------------------------------------------------------\u001b[0m",
      "\u001b[0;31mTypeError\u001b[0m                                 Traceback (most recent call last)",
      "\u001b[0;32m/tmp/ipykernel_4510/1169473782.py\u001b[0m in \u001b[0;36m<module>\u001b[0;34m\u001b[0m\n\u001b[1;32m      2\u001b[0m \u001b[0;34m\u001b[0m\u001b[0m\n\u001b[1;32m      3\u001b[0m \u001b[0;34m\u001b[0m\u001b[0m\n\u001b[0;32m----> 4\u001b[0;31m df = pd.DataFrame(lista={'Puntuaciones': [r for r in data['Reseñas'] if 'estrellas' in r],\n\u001b[0m\u001b[1;32m      5\u001b[0m                          'Producto': data['Producto']})\n\u001b[1;32m      6\u001b[0m \u001b[0;34m\u001b[0m\u001b[0m\n",
      "\u001b[0;31mTypeError\u001b[0m: string indices must be integers"
     ]
    }
   ],
   "source": [
    "import pandas as pd\n",
    "\n",
    "\n",
    "df = pd.DataFrame(lista={'Puntuaciones': [r for r in data['Reseñas'] if 'estrellas' in r],\n",
    "                         'Producto': data['Producto']})\n",
    "\n",
    "# Dividir la columna \"Puntuaciones\" en diferentes columnas por cada usuario\n",
    "df[['Usuario1', 'Usuario2', 'Usuario3', 'Usuario4', 'Usuario5', 'Usuario6', 'Usuario7',\n",
    "    'Usuario8', 'Usuario9', 'Usuario10']] = df['Puntuaciones'].str.split(',', expand=True)\n",
    "\n",
    "# Eliminar los caracteres no deseados de las puntuaciones de cada usuario\n",
    "for c in df.columns[1:]:\n",
    "    df[c] = df[c].str.extract('(\\d\\.\\d)', expand=True)\n",
    "\n",
    "# Eliminar la columna \"Puntuaciones\" que ya no es necesaria\n",
    "df = df.drop('Puntuaciones', axis=1)\n",
    "\n",
    "print(df)\n"
   ]
  },
  {
   "cell_type": "code",
   "execution_count": null,
   "id": "83009ecd",
   "metadata": {},
   "outputs": [],
   "source": []
  }
 ],
 "metadata": {
  "kernelspec": {
   "display_name": "Python 3 (ipykernel)",
   "language": "python",
   "name": "python3"
  },
  "language_info": {
   "codemirror_mode": {
    "name": "ipython",
    "version": 3
   },
   "file_extension": ".py",
   "mimetype": "text/x-python",
   "name": "python",
   "nbconvert_exporter": "python",
   "pygments_lexer": "ipython3",
   "version": "3.9.13"
  }
 },
 "nbformat": 4,
 "nbformat_minor": 5
}
