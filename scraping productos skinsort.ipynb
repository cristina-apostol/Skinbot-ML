{
 "cells": [
  {
   "cell_type": "code",
   "execution_count": 8,
   "id": "83cefdcf",
   "metadata": {},
   "outputs": [],
   "source": [
    "import pandas as pd\n",
    "import numpy as np"
   ]
  },
  {
   "cell_type": "code",
   "execution_count": 9,
   "id": "3dbe4be2",
   "metadata": {},
   "outputs": [],
   "source": [
    "from selenium import webdriver"
   ]
  },
  {
   "cell_type": "code",
   "execution_count": 10,
   "id": "12fe185a",
   "metadata": {},
   "outputs": [
    {
     "name": "stdout",
     "output_type": "stream",
     "text": [
      "Requirement already satisfied: webdriver-manager in /home/usuario/anaconda3/lib/python3.9/site-packages (3.8.5)\n",
      "Requirement already satisfied: packaging in /home/usuario/anaconda3/lib/python3.9/site-packages (from webdriver-manager) (21.3)\n",
      "Requirement already satisfied: tqdm in /home/usuario/anaconda3/lib/python3.9/site-packages (from webdriver-manager) (4.64.1)\n",
      "Requirement already satisfied: python-dotenv in /home/usuario/anaconda3/lib/python3.9/site-packages (from webdriver-manager) (0.21.1)\n",
      "Requirement already satisfied: requests in /home/usuario/anaconda3/lib/python3.9/site-packages (from webdriver-manager) (2.28.1)\n",
      "Requirement already satisfied: pyparsing!=3.0.5,>=2.0.2 in /home/usuario/anaconda3/lib/python3.9/site-packages (from packaging->webdriver-manager) (3.0.9)\n",
      "Requirement already satisfied: certifi>=2017.4.17 in /home/usuario/anaconda3/lib/python3.9/site-packages (from requests->webdriver-manager) (2022.9.14)\n",
      "Requirement already satisfied: charset-normalizer<3,>=2 in /home/usuario/anaconda3/lib/python3.9/site-packages (from requests->webdriver-manager) (2.0.4)\n",
      "Requirement already satisfied: idna<4,>=2.5 in /home/usuario/anaconda3/lib/python3.9/site-packages (from requests->webdriver-manager) (3.3)\n",
      "Requirement already satisfied: urllib3<1.27,>=1.21.1 in /home/usuario/anaconda3/lib/python3.9/site-packages (from requests->webdriver-manager) (1.26.11)\n",
      "Note: you may need to restart the kernel to use updated packages.\n"
     ]
    }
   ],
   "source": [
    "%pip install webdriver-manager"
   ]
  },
  {
   "cell_type": "code",
   "execution_count": 11,
   "id": "49aac5f2",
   "metadata": {},
   "outputs": [],
   "source": [
    "from webdriver_manager.chrome import ChromeDriverManager\n",
    "from selenium.webdriver.common.by import By\n",
    "from selenium.webdriver.chrome.service import Service\n",
    "import time\n",
    "from tqdm.notebook import tqdm"
   ]
  },
  {
   "cell_type": "markdown",
   "id": "006c0d32",
   "metadata": {},
   "source": [
    "### DRY"
   ]
  },
  {
   "cell_type": "code",
   "execution_count": 84,
   "id": "810acf2c",
   "metadata": {},
   "outputs": [
    {
     "name": "stderr",
     "output_type": "stream",
     "text": [
      "2023-03-09 21:00:46,509 [88601] WARNING  py.warnings:109: [JupyterRequire] /tmp/ipykernel_88601/541963057.py:3: DeprecationWarning: executable_path has been deprecated, please pass in a Service object\n",
      "  driver = webdriver.Chrome(PATH)\n",
      "\n"
     ]
    },
    {
     "data": {
      "application/vnd.jupyter.widget-view+json": {
       "model_id": "3b6ddc35f29541a3981126d8521a6b1b",
       "version_major": 2,
       "version_minor": 0
      },
      "text/plain": [
       "Obteniendo productos:   0%|          | 0/1 [00:00<?, ?it/s]"
      ]
     },
     "metadata": {},
     "output_type": "display_data"
    },
    {
     "name": "stdout",
     "output_type": "stream",
     "text": [
      "Estamos en la página https://skinsort.com/products/products-for-dry-skin/page/1\n"
     ]
    },
    {
     "data": {
      "application/vnd.jupyter.widget-view+json": {
       "model_id": "cbb04878afdb40beb7b9d3a80d52f10f",
       "version_major": 2,
       "version_minor": 0
      },
      "text/plain": [
       "Obteniendo productos:   0%|          | 0/1 [00:00<?, ?it/s]"
      ]
     },
     "metadata": {},
     "output_type": "display_data"
    },
    {
     "name": "stdout",
     "output_type": "stream",
     "text": [
      "Estamos en la página https://skinsort.com/products/products-for-dry-skin/page/1\n"
     ]
    },
    {
     "data": {
      "application/vnd.jupyter.widget-view+json": {
       "model_id": "59aad7724e2645bcad87ce5402a9d4ce",
       "version_major": 2,
       "version_minor": 0
      },
      "text/plain": [
       "Obteniendo productos:   0%|          | 0/1 [00:00<?, ?it/s]"
      ]
     },
     "metadata": {},
     "output_type": "display_data"
    },
    {
     "name": "stdout",
     "output_type": "stream",
     "text": [
      "Estamos en la página https://skinsort.com/products/products-for-dry-skin/page/1\n"
     ]
    },
    {
     "data": {
      "application/vnd.jupyter.widget-view+json": {
       "model_id": "36a4e513508e4fa6bb96fce5436bf358",
       "version_major": 2,
       "version_minor": 0
      },
      "text/plain": [
       "Obteniendo productos:   0%|          | 0/1 [00:00<?, ?it/s]"
      ]
     },
     "metadata": {},
     "output_type": "display_data"
    },
    {
     "name": "stdout",
     "output_type": "stream",
     "text": [
      "Estamos en la página https://skinsort.com/products/products-for-dry-skin/page/2\n"
     ]
    },
    {
     "data": {
      "application/vnd.jupyter.widget-view+json": {
       "model_id": "35d1b11c1bde468ca98f8dee50f6bcc6",
       "version_major": 2,
       "version_minor": 0
      },
      "text/plain": [
       "Obteniendo productos:   0%|          | 0/1 [00:00<?, ?it/s]"
      ]
     },
     "metadata": {},
     "output_type": "display_data"
    },
    {
     "name": "stdout",
     "output_type": "stream",
     "text": [
      "Estamos en la página https://skinsort.com/products/products-for-dry-skin/page/2\n"
     ]
    },
    {
     "data": {
      "application/vnd.jupyter.widget-view+json": {
       "model_id": "3f42c720222c40bcbce6ca5940b0edf6",
       "version_major": 2,
       "version_minor": 0
      },
      "text/plain": [
       "Obteniendo productos:   0%|          | 0/1 [00:00<?, ?it/s]"
      ]
     },
     "metadata": {},
     "output_type": "display_data"
    },
    {
     "name": "stdout",
     "output_type": "stream",
     "text": [
      "Estamos en la página https://skinsort.com/products/products-for-dry-skin/page/2\n"
     ]
    },
    {
     "data": {
      "application/vnd.jupyter.widget-view+json": {
       "model_id": "9be4a91f88554783bd5325c504174f1d",
       "version_major": 2,
       "version_minor": 0
      },
      "text/plain": [
       "Obteniendo productos:   0%|          | 0/1 [00:00<?, ?it/s]"
      ]
     },
     "metadata": {},
     "output_type": "display_data"
    },
    {
     "name": "stdout",
     "output_type": "stream",
     "text": [
      "Estamos en la página https://skinsort.com/products/products-for-dry-skin/page/3\n"
     ]
    },
    {
     "data": {
      "application/vnd.jupyter.widget-view+json": {
       "model_id": "2ec95595a97e43d2a2bb595363c665ea",
       "version_major": 2,
       "version_minor": 0
      },
      "text/plain": [
       "Obteniendo productos:   0%|          | 0/1 [00:00<?, ?it/s]"
      ]
     },
     "metadata": {},
     "output_type": "display_data"
    },
    {
     "name": "stdout",
     "output_type": "stream",
     "text": [
      "Estamos en la página https://skinsort.com/products/products-for-dry-skin/page/3\n"
     ]
    },
    {
     "data": {
      "application/vnd.jupyter.widget-view+json": {
       "model_id": "62900d89a847465d82b8cb4b8a101f23",
       "version_major": 2,
       "version_minor": 0
      },
      "text/plain": [
       "Obteniendo productos:   0%|          | 0/1 [00:00<?, ?it/s]"
      ]
     },
     "metadata": {},
     "output_type": "display_data"
    },
    {
     "name": "stdout",
     "output_type": "stream",
     "text": [
      "Estamos en la página https://skinsort.com/products/products-for-dry-skin/page/3\n"
     ]
    },
    {
     "data": {
      "application/vnd.jupyter.widget-view+json": {
       "model_id": "bf88f3f3bf8945eaa8e4f6ec31a2ce45",
       "version_major": 2,
       "version_minor": 0
      },
      "text/plain": [
       "Obteniendo productos:   0%|          | 0/1 [00:00<?, ?it/s]"
      ]
     },
     "metadata": {},
     "output_type": "display_data"
    },
    {
     "name": "stdout",
     "output_type": "stream",
     "text": [
      "Estamos en la página https://skinsort.com/products/products-for-dry-skin/page/4\n"
     ]
    },
    {
     "data": {
      "application/vnd.jupyter.widget-view+json": {
       "model_id": "79702e427c0445549d94eb67015ad5da",
       "version_major": 2,
       "version_minor": 0
      },
      "text/plain": [
       "Obteniendo productos:   0%|          | 0/1 [00:00<?, ?it/s]"
      ]
     },
     "metadata": {},
     "output_type": "display_data"
    },
    {
     "name": "stdout",
     "output_type": "stream",
     "text": [
      "Estamos en la página https://skinsort.com/products/products-for-dry-skin/page/4\n"
     ]
    },
    {
     "data": {
      "application/vnd.jupyter.widget-view+json": {
       "model_id": "ef6be0cf00ee4680bcc93dabcfe1b9ad",
       "version_major": 2,
       "version_minor": 0
      },
      "text/plain": [
       "Obteniendo productos:   0%|          | 0/1 [00:00<?, ?it/s]"
      ]
     },
     "metadata": {},
     "output_type": "display_data"
    },
    {
     "name": "stdout",
     "output_type": "stream",
     "text": [
      "Estamos en la página https://skinsort.com/products/products-for-dry-skin/page/4\n"
     ]
    },
    {
     "data": {
      "application/vnd.jupyter.widget-view+json": {
       "model_id": "11c2e9fed73d40db87e9bd8041ad89c1",
       "version_major": 2,
       "version_minor": 0
      },
      "text/plain": [
       "Obteniendo productos:   0%|          | 0/1 [00:00<?, ?it/s]"
      ]
     },
     "metadata": {},
     "output_type": "display_data"
    },
    {
     "name": "stdout",
     "output_type": "stream",
     "text": [
      "Estamos en la página https://skinsort.com/products/products-for-dry-skin/page/5\n"
     ]
    },
    {
     "data": {
      "application/vnd.jupyter.widget-view+json": {
       "model_id": "948642c04752407ab1699406a501c9f0",
       "version_major": 2,
       "version_minor": 0
      },
      "text/plain": [
       "Obteniendo productos:   0%|          | 0/1 [00:00<?, ?it/s]"
      ]
     },
     "metadata": {},
     "output_type": "display_data"
    },
    {
     "name": "stdout",
     "output_type": "stream",
     "text": [
      "Estamos en la página https://skinsort.com/products/products-for-dry-skin/page/5\n"
     ]
    },
    {
     "data": {
      "application/vnd.jupyter.widget-view+json": {
       "model_id": "bf87f69aeecc46d68a30f28d792854ba",
       "version_major": 2,
       "version_minor": 0
      },
      "text/plain": [
       "Obteniendo productos:   0%|          | 0/1 [00:00<?, ?it/s]"
      ]
     },
     "metadata": {},
     "output_type": "display_data"
    },
    {
     "name": "stdout",
     "output_type": "stream",
     "text": [
      "Estamos en la página https://skinsort.com/products/products-for-dry-skin/page/5\n"
     ]
    },
    {
     "data": {
      "application/vnd.jupyter.widget-view+json": {
       "model_id": "8d69129d795542ebb08d298915d58cb2",
       "version_major": 2,
       "version_minor": 0
      },
      "text/plain": [
       "Obteniendo productos:   0%|          | 0/1 [00:00<?, ?it/s]"
      ]
     },
     "metadata": {},
     "output_type": "display_data"
    },
    {
     "name": "stdout",
     "output_type": "stream",
     "text": [
      "Estamos en la página https://skinsort.com/products/products-for-dry-skin/page/6\n"
     ]
    },
    {
     "data": {
      "application/vnd.jupyter.widget-view+json": {
       "model_id": "35869156851a4967a344163d07d8d78e",
       "version_major": 2,
       "version_minor": 0
      },
      "text/plain": [
       "Obteniendo productos:   0%|          | 0/1 [00:00<?, ?it/s]"
      ]
     },
     "metadata": {},
     "output_type": "display_data"
    },
    {
     "name": "stdout",
     "output_type": "stream",
     "text": [
      "Estamos en la página https://skinsort.com/products/products-for-dry-skin/page/6\n"
     ]
    },
    {
     "data": {
      "application/vnd.jupyter.widget-view+json": {
       "model_id": "96175578bfb24a0c9cb198aa664f78d6",
       "version_major": 2,
       "version_minor": 0
      },
      "text/plain": [
       "Obteniendo productos:   0%|          | 0/1 [00:00<?, ?it/s]"
      ]
     },
     "metadata": {},
     "output_type": "display_data"
    },
    {
     "name": "stdout",
     "output_type": "stream",
     "text": [
      "Estamos en la página https://skinsort.com/products/products-for-dry-skin/page/6\n"
     ]
    },
    {
     "data": {
      "application/vnd.jupyter.widget-view+json": {
       "model_id": "27952679fa2e412ea38ad0d889a06d08",
       "version_major": 2,
       "version_minor": 0
      },
      "text/plain": [
       "Obteniendo productos:   0%|          | 0/1 [00:00<?, ?it/s]"
      ]
     },
     "metadata": {},
     "output_type": "display_data"
    },
    {
     "name": "stdout",
     "output_type": "stream",
     "text": [
      "Estamos en la página https://skinsort.com/products/products-for-dry-skin/page/7\n"
     ]
    },
    {
     "data": {
      "application/vnd.jupyter.widget-view+json": {
       "model_id": "8246724438eb4c3e8edd1091a60201ca",
       "version_major": 2,
       "version_minor": 0
      },
      "text/plain": [
       "Obteniendo productos:   0%|          | 0/1 [00:00<?, ?it/s]"
      ]
     },
     "metadata": {},
     "output_type": "display_data"
    },
    {
     "name": "stdout",
     "output_type": "stream",
     "text": [
      "Estamos en la página https://skinsort.com/products/products-for-dry-skin/page/7\n"
     ]
    },
    {
     "data": {
      "application/vnd.jupyter.widget-view+json": {
       "model_id": "e3b9b6de08d34bbe85c50dfaac33f060",
       "version_major": 2,
       "version_minor": 0
      },
      "text/plain": [
       "Obteniendo productos:   0%|          | 0/1 [00:00<?, ?it/s]"
      ]
     },
     "metadata": {},
     "output_type": "display_data"
    },
    {
     "name": "stdout",
     "output_type": "stream",
     "text": [
      "Estamos en la página https://skinsort.com/products/products-for-dry-skin/page/7\n"
     ]
    },
    {
     "data": {
      "application/vnd.jupyter.widget-view+json": {
       "model_id": "b727db1e03f8412ebe9d5fa3a63db18c",
       "version_major": 2,
       "version_minor": 0
      },
      "text/plain": [
       "Obteniendo productos:   0%|          | 0/1 [00:00<?, ?it/s]"
      ]
     },
     "metadata": {},
     "output_type": "display_data"
    },
    {
     "name": "stdout",
     "output_type": "stream",
     "text": [
      "Estamos en la página https://skinsort.com/products/products-for-dry-skin/page/8\n"
     ]
    },
    {
     "data": {
      "application/vnd.jupyter.widget-view+json": {
       "model_id": "7dcf63890b014d25a8cb756b570bd925",
       "version_major": 2,
       "version_minor": 0
      },
      "text/plain": [
       "Obteniendo productos:   0%|          | 0/1 [00:00<?, ?it/s]"
      ]
     },
     "metadata": {},
     "output_type": "display_data"
    },
    {
     "name": "stdout",
     "output_type": "stream",
     "text": [
      "Estamos en la página https://skinsort.com/products/products-for-dry-skin/page/8\n"
     ]
    },
    {
     "data": {
      "application/vnd.jupyter.widget-view+json": {
       "model_id": "f78471e6cdb8417a90ec5e3fa6107565",
       "version_major": 2,
       "version_minor": 0
      },
      "text/plain": [
       "Obteniendo productos:   0%|          | 0/1 [00:00<?, ?it/s]"
      ]
     },
     "metadata": {},
     "output_type": "display_data"
    },
    {
     "name": "stdout",
     "output_type": "stream",
     "text": [
      "Estamos en la página https://skinsort.com/products/products-for-dry-skin/page/8\n"
     ]
    },
    {
     "data": {
      "application/vnd.jupyter.widget-view+json": {
       "model_id": "c8d82a8e061b49c0ae8a7d390ac7df39",
       "version_major": 2,
       "version_minor": 0
      },
      "text/plain": [
       "Obteniendo productos:   0%|          | 0/1 [00:00<?, ?it/s]"
      ]
     },
     "metadata": {},
     "output_type": "display_data"
    },
    {
     "name": "stdout",
     "output_type": "stream",
     "text": [
      "Estamos en la página https://skinsort.com/products/products-for-dry-skin/page/9\n"
     ]
    },
    {
     "data": {
      "application/vnd.jupyter.widget-view+json": {
       "model_id": "39f2029666a74d3a87efe64e2a7eeff2",
       "version_major": 2,
       "version_minor": 0
      },
      "text/plain": [
       "Obteniendo productos:   0%|          | 0/1 [00:00<?, ?it/s]"
      ]
     },
     "metadata": {},
     "output_type": "display_data"
    },
    {
     "name": "stdout",
     "output_type": "stream",
     "text": [
      "Estamos en la página https://skinsort.com/products/products-for-dry-skin/page/9\n"
     ]
    },
    {
     "data": {
      "application/vnd.jupyter.widget-view+json": {
       "model_id": "850e3f78b09d4699ae31436b91f20cdc",
       "version_major": 2,
       "version_minor": 0
      },
      "text/plain": [
       "Obteniendo productos:   0%|          | 0/1 [00:00<?, ?it/s]"
      ]
     },
     "metadata": {},
     "output_type": "display_data"
    },
    {
     "name": "stdout",
     "output_type": "stream",
     "text": [
      "Estamos en la página https://skinsort.com/products/products-for-dry-skin/page/9\n"
     ]
    },
    {
     "data": {
      "application/vnd.jupyter.widget-view+json": {
       "model_id": "8be6cd1a0a5d4880ac7aad574fb23f18",
       "version_major": 2,
       "version_minor": 0
      },
      "text/plain": [
       "Obteniendo productos:   0%|          | 0/1 [00:00<?, ?it/s]"
      ]
     },
     "metadata": {},
     "output_type": "display_data"
    },
    {
     "name": "stdout",
     "output_type": "stream",
     "text": [
      "Estamos en la página https://skinsort.com/products/products-for-dry-skin/page/10\n"
     ]
    },
    {
     "data": {
      "application/vnd.jupyter.widget-view+json": {
       "model_id": "32a712119dea4ecab3cf07d825b35115",
       "version_major": 2,
       "version_minor": 0
      },
      "text/plain": [
       "Obteniendo productos:   0%|          | 0/1 [00:00<?, ?it/s]"
      ]
     },
     "metadata": {},
     "output_type": "display_data"
    },
    {
     "name": "stdout",
     "output_type": "stream",
     "text": [
      "Estamos en la página https://skinsort.com/products/products-for-dry-skin/page/10\n"
     ]
    },
    {
     "data": {
      "application/vnd.jupyter.widget-view+json": {
       "model_id": "16c5444b4aab46e4bd3b54d34415c7e4",
       "version_major": 2,
       "version_minor": 0
      },
      "text/plain": [
       "Obteniendo productos:   0%|          | 0/1 [00:00<?, ?it/s]"
      ]
     },
     "metadata": {},
     "output_type": "display_data"
    },
    {
     "name": "stdout",
     "output_type": "stream",
     "text": [
      "Estamos en la página https://skinsort.com/products/products-for-dry-skin/page/10\n"
     ]
    },
    {
     "data": {
      "application/vnd.jupyter.widget-view+json": {
       "model_id": "be0ff83a5de84568aa018ab1e213afa9",
       "version_major": 2,
       "version_minor": 0
      },
      "text/plain": [
       "Obteniendo productos:   0%|          | 0/1 [00:00<?, ?it/s]"
      ]
     },
     "metadata": {},
     "output_type": "display_data"
    },
    {
     "name": "stdout",
     "output_type": "stream",
     "text": [
      "Estamos en la página https://skinsort.com/products/products-for-dry-skin/page/11\n"
     ]
    },
    {
     "data": {
      "application/vnd.jupyter.widget-view+json": {
       "model_id": "7e3166eb603d424b89dfc659a50cbcd3",
       "version_major": 2,
       "version_minor": 0
      },
      "text/plain": [
       "Obteniendo productos:   0%|          | 0/1 [00:00<?, ?it/s]"
      ]
     },
     "metadata": {},
     "output_type": "display_data"
    },
    {
     "name": "stdout",
     "output_type": "stream",
     "text": [
      "Estamos en la página https://skinsort.com/products/products-for-dry-skin/page/11\n"
     ]
    },
    {
     "data": {
      "application/vnd.jupyter.widget-view+json": {
       "model_id": "270a7d4432634864a56f300208220754",
       "version_major": 2,
       "version_minor": 0
      },
      "text/plain": [
       "Obteniendo productos:   0%|          | 0/1 [00:00<?, ?it/s]"
      ]
     },
     "metadata": {},
     "output_type": "display_data"
    },
    {
     "name": "stdout",
     "output_type": "stream",
     "text": [
      "Estamos en la página https://skinsort.com/products/products-for-dry-skin/page/11\n"
     ]
    },
    {
     "data": {
      "application/vnd.jupyter.widget-view+json": {
       "model_id": "e6fdd4b43be3434d8b993cc61b77f9b3",
       "version_major": 2,
       "version_minor": 0
      },
      "text/plain": [
       "Obteniendo productos:   0%|          | 0/1 [00:00<?, ?it/s]"
      ]
     },
     "metadata": {},
     "output_type": "display_data"
    },
    {
     "name": "stdout",
     "output_type": "stream",
     "text": [
      "Estamos en la página https://skinsort.com/products/products-for-dry-skin/page/12\n"
     ]
    },
    {
     "data": {
      "application/vnd.jupyter.widget-view+json": {
       "model_id": "ee72d13f125b4c11b343025cb3f38af5",
       "version_major": 2,
       "version_minor": 0
      },
      "text/plain": [
       "Obteniendo productos:   0%|          | 0/1 [00:00<?, ?it/s]"
      ]
     },
     "metadata": {},
     "output_type": "display_data"
    },
    {
     "name": "stdout",
     "output_type": "stream",
     "text": [
      "Estamos en la página https://skinsort.com/products/products-for-dry-skin/page/12\n"
     ]
    },
    {
     "data": {
      "application/vnd.jupyter.widget-view+json": {
       "model_id": "22350793ab4d4199961584ada863c5c2",
       "version_major": 2,
       "version_minor": 0
      },
      "text/plain": [
       "Obteniendo productos:   0%|          | 0/1 [00:00<?, ?it/s]"
      ]
     },
     "metadata": {},
     "output_type": "display_data"
    },
    {
     "name": "stdout",
     "output_type": "stream",
     "text": [
      "Estamos en la página https://skinsort.com/products/products-for-dry-skin/page/12\n"
     ]
    },
    {
     "data": {
      "application/vnd.jupyter.widget-view+json": {
       "model_id": "5576681d9c7b43dd86bb253f6682969a",
       "version_major": 2,
       "version_minor": 0
      },
      "text/plain": [
       "Obteniendo productos:   0%|          | 0/1 [00:00<?, ?it/s]"
      ]
     },
     "metadata": {},
     "output_type": "display_data"
    },
    {
     "name": "stdout",
     "output_type": "stream",
     "text": [
      "Estamos en la página https://skinsort.com/products/products-for-dry-skin/page/13\n"
     ]
    },
    {
     "data": {
      "application/vnd.jupyter.widget-view+json": {
       "model_id": "b5b95f9c77c4439cac3546722b1c9f31",
       "version_major": 2,
       "version_minor": 0
      },
      "text/plain": [
       "Obteniendo productos:   0%|          | 0/1 [00:00<?, ?it/s]"
      ]
     },
     "metadata": {},
     "output_type": "display_data"
    },
    {
     "name": "stdout",
     "output_type": "stream",
     "text": [
      "Estamos en la página https://skinsort.com/products/products-for-dry-skin/page/13\n"
     ]
    },
    {
     "data": {
      "application/vnd.jupyter.widget-view+json": {
       "model_id": "b3fc4d567f2c43c2be19bd96e2388c23",
       "version_major": 2,
       "version_minor": 0
      },
      "text/plain": [
       "Obteniendo productos:   0%|          | 0/1 [00:00<?, ?it/s]"
      ]
     },
     "metadata": {},
     "output_type": "display_data"
    },
    {
     "name": "stdout",
     "output_type": "stream",
     "text": [
      "Estamos en la página https://skinsort.com/products/products-for-dry-skin/page/13\n"
     ]
    },
    {
     "data": {
      "application/vnd.jupyter.widget-view+json": {
       "model_id": "c0379039a164446986847d497d793559",
       "version_major": 2,
       "version_minor": 0
      },
      "text/plain": [
       "Obteniendo productos:   0%|          | 0/1 [00:00<?, ?it/s]"
      ]
     },
     "metadata": {},
     "output_type": "display_data"
    },
    {
     "name": "stdout",
     "output_type": "stream",
     "text": [
      "Estamos en la página https://skinsort.com/products/products-for-dry-skin/page/14\n"
     ]
    },
    {
     "data": {
      "application/vnd.jupyter.widget-view+json": {
       "model_id": "5720b54ab37c44eaab293d067a24ead1",
       "version_major": 2,
       "version_minor": 0
      },
      "text/plain": [
       "Obteniendo productos:   0%|          | 0/1 [00:00<?, ?it/s]"
      ]
     },
     "metadata": {},
     "output_type": "display_data"
    },
    {
     "name": "stdout",
     "output_type": "stream",
     "text": [
      "Estamos en la página https://skinsort.com/products/products-for-dry-skin/page/14\n"
     ]
    },
    {
     "data": {
      "application/vnd.jupyter.widget-view+json": {
       "model_id": "b2e4e0e5a9b74e33bb096015c63e7dd5",
       "version_major": 2,
       "version_minor": 0
      },
      "text/plain": [
       "Obteniendo productos:   0%|          | 0/1 [00:00<?, ?it/s]"
      ]
     },
     "metadata": {},
     "output_type": "display_data"
    },
    {
     "name": "stdout",
     "output_type": "stream",
     "text": [
      "Estamos en la página https://skinsort.com/products/products-for-dry-skin/page/14\n"
     ]
    },
    {
     "data": {
      "application/vnd.jupyter.widget-view+json": {
       "model_id": "75de39faf4b941629e441897616c387c",
       "version_major": 2,
       "version_minor": 0
      },
      "text/plain": [
       "Obteniendo productos:   0%|          | 0/1 [00:00<?, ?it/s]"
      ]
     },
     "metadata": {},
     "output_type": "display_data"
    },
    {
     "name": "stdout",
     "output_type": "stream",
     "text": [
      "Estamos en la página https://skinsort.com/products/products-for-dry-skin/page/15\n"
     ]
    },
    {
     "data": {
      "application/vnd.jupyter.widget-view+json": {
       "model_id": "ca57e37506d54cdfb4b8bfa7e0828bd2",
       "version_major": 2,
       "version_minor": 0
      },
      "text/plain": [
       "Obteniendo productos:   0%|          | 0/1 [00:00<?, ?it/s]"
      ]
     },
     "metadata": {},
     "output_type": "display_data"
    },
    {
     "name": "stdout",
     "output_type": "stream",
     "text": [
      "Estamos en la página https://skinsort.com/products/products-for-dry-skin/page/15\n"
     ]
    },
    {
     "data": {
      "application/vnd.jupyter.widget-view+json": {
       "model_id": "e6f0e569cea9485ea97a367bf8c65add",
       "version_major": 2,
       "version_minor": 0
      },
      "text/plain": [
       "Obteniendo productos:   0%|          | 0/1 [00:00<?, ?it/s]"
      ]
     },
     "metadata": {},
     "output_type": "display_data"
    },
    {
     "name": "stdout",
     "output_type": "stream",
     "text": [
      "Estamos en la página https://skinsort.com/products/products-for-dry-skin/page/15\n"
     ]
    },
    {
     "data": {
      "application/vnd.jupyter.widget-view+json": {
       "model_id": "b38d05a5c35c45d1a1d39041e248d418",
       "version_major": 2,
       "version_minor": 0
      },
      "text/plain": [
       "Obteniendo productos:   0%|          | 0/1 [00:00<?, ?it/s]"
      ]
     },
     "metadata": {},
     "output_type": "display_data"
    },
    {
     "name": "stdout",
     "output_type": "stream",
     "text": [
      "Estamos en la página https://skinsort.com/products/products-for-dry-skin/page/16\n"
     ]
    },
    {
     "data": {
      "application/vnd.jupyter.widget-view+json": {
       "model_id": "dcb1a2787c1b4bc6904569ed7f29b598",
       "version_major": 2,
       "version_minor": 0
      },
      "text/plain": [
       "Obteniendo productos:   0%|          | 0/1 [00:00<?, ?it/s]"
      ]
     },
     "metadata": {},
     "output_type": "display_data"
    },
    {
     "name": "stdout",
     "output_type": "stream",
     "text": [
      "Estamos en la página https://skinsort.com/products/products-for-dry-skin/page/16\n"
     ]
    },
    {
     "data": {
      "application/vnd.jupyter.widget-view+json": {
       "model_id": "3a16bc5e6d96418db09065053ac7e086",
       "version_major": 2,
       "version_minor": 0
      },
      "text/plain": [
       "Obteniendo productos:   0%|          | 0/1 [00:00<?, ?it/s]"
      ]
     },
     "metadata": {},
     "output_type": "display_data"
    },
    {
     "name": "stdout",
     "output_type": "stream",
     "text": [
      "Estamos en la página https://skinsort.com/products/products-for-dry-skin/page/16\n"
     ]
    },
    {
     "data": {
      "application/vnd.jupyter.widget-view+json": {
       "model_id": "dd4f3c7975f044f499183a82c68ea52b",
       "version_major": 2,
       "version_minor": 0
      },
      "text/plain": [
       "Obteniendo productos:   0%|          | 0/1 [00:00<?, ?it/s]"
      ]
     },
     "metadata": {},
     "output_type": "display_data"
    },
    {
     "name": "stdout",
     "output_type": "stream",
     "text": [
      "Estamos en la página https://skinsort.com/products/products-for-dry-skin/page/17\n"
     ]
    },
    {
     "data": {
      "application/vnd.jupyter.widget-view+json": {
       "model_id": "83ec879755dc403ab5339873f012d3b8",
       "version_major": 2,
       "version_minor": 0
      },
      "text/plain": [
       "Obteniendo productos:   0%|          | 0/1 [00:00<?, ?it/s]"
      ]
     },
     "metadata": {},
     "output_type": "display_data"
    },
    {
     "name": "stdout",
     "output_type": "stream",
     "text": [
      "Estamos en la página https://skinsort.com/products/products-for-dry-skin/page/17\n"
     ]
    },
    {
     "data": {
      "application/vnd.jupyter.widget-view+json": {
       "model_id": "75e2c23555534ce9ad021ebe49eab70c",
       "version_major": 2,
       "version_minor": 0
      },
      "text/plain": [
       "Obteniendo productos:   0%|          | 0/1 [00:00<?, ?it/s]"
      ]
     },
     "metadata": {},
     "output_type": "display_data"
    },
    {
     "name": "stdout",
     "output_type": "stream",
     "text": [
      "Estamos en la página https://skinsort.com/products/products-for-dry-skin/page/17\n"
     ]
    },
    {
     "data": {
      "application/vnd.jupyter.widget-view+json": {
       "model_id": "8ae0da4669f342d7b85678d1011ac774",
       "version_major": 2,
       "version_minor": 0
      },
      "text/plain": [
       "Obteniendo productos:   0%|          | 0/1 [00:00<?, ?it/s]"
      ]
     },
     "metadata": {},
     "output_type": "display_data"
    },
    {
     "name": "stdout",
     "output_type": "stream",
     "text": [
      "Estamos en la página https://skinsort.com/products/products-for-dry-skin/page/18\n"
     ]
    },
    {
     "data": {
      "application/vnd.jupyter.widget-view+json": {
       "model_id": "864c27a6cf994466980a05ef2c858217",
       "version_major": 2,
       "version_minor": 0
      },
      "text/plain": [
       "Obteniendo productos:   0%|          | 0/1 [00:00<?, ?it/s]"
      ]
     },
     "metadata": {},
     "output_type": "display_data"
    },
    {
     "name": "stdout",
     "output_type": "stream",
     "text": [
      "Estamos en la página https://skinsort.com/products/products-for-dry-skin/page/18\n"
     ]
    },
    {
     "data": {
      "application/vnd.jupyter.widget-view+json": {
       "model_id": "ed41f51726114fce960d1871b994cc09",
       "version_major": 2,
       "version_minor": 0
      },
      "text/plain": [
       "Obteniendo productos:   0%|          | 0/1 [00:00<?, ?it/s]"
      ]
     },
     "metadata": {},
     "output_type": "display_data"
    },
    {
     "name": "stdout",
     "output_type": "stream",
     "text": [
      "Estamos en la página https://skinsort.com/products/products-for-dry-skin/page/18\n"
     ]
    },
    {
     "data": {
      "application/vnd.jupyter.widget-view+json": {
       "model_id": "579fdc50de07402586cce4c7f4fe310d",
       "version_major": 2,
       "version_minor": 0
      },
      "text/plain": [
       "Obteniendo productos:   0%|          | 0/1 [00:00<?, ?it/s]"
      ]
     },
     "metadata": {},
     "output_type": "display_data"
    },
    {
     "name": "stdout",
     "output_type": "stream",
     "text": [
      "Estamos en la página https://skinsort.com/products/products-for-dry-skin/page/19\n"
     ]
    },
    {
     "data": {
      "application/vnd.jupyter.widget-view+json": {
       "model_id": "13962a96250d48dda1ca80e2b508a5da",
       "version_major": 2,
       "version_minor": 0
      },
      "text/plain": [
       "Obteniendo productos:   0%|          | 0/1 [00:00<?, ?it/s]"
      ]
     },
     "metadata": {},
     "output_type": "display_data"
    },
    {
     "name": "stdout",
     "output_type": "stream",
     "text": [
      "Estamos en la página https://skinsort.com/products/products-for-dry-skin/page/19\n"
     ]
    },
    {
     "data": {
      "application/vnd.jupyter.widget-view+json": {
       "model_id": "525f4c61c7b74717b8902f28dc68e4c9",
       "version_major": 2,
       "version_minor": 0
      },
      "text/plain": [
       "Obteniendo productos:   0%|          | 0/1 [00:00<?, ?it/s]"
      ]
     },
     "metadata": {},
     "output_type": "display_data"
    },
    {
     "name": "stdout",
     "output_type": "stream",
     "text": [
      "Estamos en la página https://skinsort.com/products/products-for-dry-skin/page/19\n"
     ]
    },
    {
     "data": {
      "application/vnd.jupyter.widget-view+json": {
       "model_id": "f3c470135add430ba2b4a55f4b7b3e10",
       "version_major": 2,
       "version_minor": 0
      },
      "text/plain": [
       "Obteniendo productos:   0%|          | 0/1 [00:00<?, ?it/s]"
      ]
     },
     "metadata": {},
     "output_type": "display_data"
    },
    {
     "name": "stdout",
     "output_type": "stream",
     "text": [
      "Estamos en la página https://skinsort.com/products/products-for-dry-skin/page/20\n"
     ]
    },
    {
     "data": {
      "application/vnd.jupyter.widget-view+json": {
       "model_id": "885a6380be1545eda05c4d173e8ab8aa",
       "version_major": 2,
       "version_minor": 0
      },
      "text/plain": [
       "Obteniendo productos:   0%|          | 0/1 [00:00<?, ?it/s]"
      ]
     },
     "metadata": {},
     "output_type": "display_data"
    },
    {
     "name": "stdout",
     "output_type": "stream",
     "text": [
      "Estamos en la página https://skinsort.com/products/products-for-dry-skin/page/20\n"
     ]
    },
    {
     "data": {
      "application/vnd.jupyter.widget-view+json": {
       "model_id": "ab3b73e7fec44c949c5543aea71796e0",
       "version_major": 2,
       "version_minor": 0
      },
      "text/plain": [
       "Obteniendo productos:   0%|          | 0/1 [00:00<?, ?it/s]"
      ]
     },
     "metadata": {},
     "output_type": "display_data"
    },
    {
     "name": "stdout",
     "output_type": "stream",
     "text": [
      "Estamos en la página https://skinsort.com/products/products-for-dry-skin/page/20\n"
     ]
    },
    {
     "data": {
      "application/vnd.jupyter.widget-view+json": {
       "model_id": "a90ca8b885114fd7a06a4c235b8cd70d",
       "version_major": 2,
       "version_minor": 0
      },
      "text/plain": [
       "Obteniendo productos:   0%|          | 0/1 [00:00<?, ?it/s]"
      ]
     },
     "metadata": {},
     "output_type": "display_data"
    },
    {
     "name": "stdout",
     "output_type": "stream",
     "text": [
      "Estamos en la página https://skinsort.com/products/products-for-dry-skin/page/21\n"
     ]
    },
    {
     "data": {
      "application/vnd.jupyter.widget-view+json": {
       "model_id": "ad2c12cacde64809966f39855d592e8a",
       "version_major": 2,
       "version_minor": 0
      },
      "text/plain": [
       "Obteniendo productos:   0%|          | 0/1 [00:00<?, ?it/s]"
      ]
     },
     "metadata": {},
     "output_type": "display_data"
    },
    {
     "name": "stdout",
     "output_type": "stream",
     "text": [
      "Estamos en la página https://skinsort.com/products/products-for-dry-skin/page/21\n"
     ]
    },
    {
     "data": {
      "application/vnd.jupyter.widget-view+json": {
       "model_id": "1f6f6a99790e485796e906263f902e8e",
       "version_major": 2,
       "version_minor": 0
      },
      "text/plain": [
       "Obteniendo productos:   0%|          | 0/1 [00:00<?, ?it/s]"
      ]
     },
     "metadata": {},
     "output_type": "display_data"
    },
    {
     "name": "stdout",
     "output_type": "stream",
     "text": [
      "Estamos en la página https://skinsort.com/products/products-for-dry-skin/page/21\n"
     ]
    },
    {
     "data": {
      "application/vnd.jupyter.widget-view+json": {
       "model_id": "1342ec3a7e1946f890f7cc47939a9e3d",
       "version_major": 2,
       "version_minor": 0
      },
      "text/plain": [
       "Obteniendo productos:   0%|          | 0/1 [00:00<?, ?it/s]"
      ]
     },
     "metadata": {},
     "output_type": "display_data"
    },
    {
     "name": "stdout",
     "output_type": "stream",
     "text": [
      "Estamos en la página https://skinsort.com/products/products-for-dry-skin/page/22\n"
     ]
    },
    {
     "data": {
      "application/vnd.jupyter.widget-view+json": {
       "model_id": "f483a827815141df9c47e7416f0b8ffb",
       "version_major": 2,
       "version_minor": 0
      },
      "text/plain": [
       "Obteniendo productos:   0%|          | 0/1 [00:00<?, ?it/s]"
      ]
     },
     "metadata": {},
     "output_type": "display_data"
    },
    {
     "name": "stdout",
     "output_type": "stream",
     "text": [
      "Estamos en la página https://skinsort.com/products/products-for-dry-skin/page/22\n"
     ]
    },
    {
     "data": {
      "application/vnd.jupyter.widget-view+json": {
       "model_id": "19115a94f81647bc8c1c936c56f16d82",
       "version_major": 2,
       "version_minor": 0
      },
      "text/plain": [
       "Obteniendo productos:   0%|          | 0/1 [00:00<?, ?it/s]"
      ]
     },
     "metadata": {},
     "output_type": "display_data"
    },
    {
     "name": "stdout",
     "output_type": "stream",
     "text": [
      "Estamos en la página https://skinsort.com/products/products-for-dry-skin/page/22\n"
     ]
    },
    {
     "data": {
      "application/vnd.jupyter.widget-view+json": {
       "model_id": "4d76192cb9934adfb734bbf952e4680e",
       "version_major": 2,
       "version_minor": 0
      },
      "text/plain": [
       "Obteniendo productos:   0%|          | 0/1 [00:00<?, ?it/s]"
      ]
     },
     "metadata": {},
     "output_type": "display_data"
    },
    {
     "name": "stdout",
     "output_type": "stream",
     "text": [
      "Estamos en la página https://skinsort.com/products/products-for-dry-skin/page/23\n"
     ]
    },
    {
     "data": {
      "application/vnd.jupyter.widget-view+json": {
       "model_id": "6f012bcd71314acc95f29cfae40c1bc5",
       "version_major": 2,
       "version_minor": 0
      },
      "text/plain": [
       "Obteniendo productos:   0%|          | 0/1 [00:00<?, ?it/s]"
      ]
     },
     "metadata": {},
     "output_type": "display_data"
    },
    {
     "name": "stdout",
     "output_type": "stream",
     "text": [
      "Estamos en la página https://skinsort.com/products/products-for-dry-skin/page/23\n"
     ]
    },
    {
     "data": {
      "application/vnd.jupyter.widget-view+json": {
       "model_id": "4a64aa8e96d94dd3ad7e891149e970f3",
       "version_major": 2,
       "version_minor": 0
      },
      "text/plain": [
       "Obteniendo productos:   0%|          | 0/1 [00:00<?, ?it/s]"
      ]
     },
     "metadata": {},
     "output_type": "display_data"
    },
    {
     "name": "stdout",
     "output_type": "stream",
     "text": [
      "Estamos en la página https://skinsort.com/products/products-for-dry-skin/page/23\n"
     ]
    },
    {
     "data": {
      "application/vnd.jupyter.widget-view+json": {
       "model_id": "303bc54806fa463198e8aa42c55d3f4e",
       "version_major": 2,
       "version_minor": 0
      },
      "text/plain": [
       "Obteniendo productos:   0%|          | 0/1 [00:00<?, ?it/s]"
      ]
     },
     "metadata": {},
     "output_type": "display_data"
    },
    {
     "name": "stdout",
     "output_type": "stream",
     "text": [
      "Estamos en la página https://skinsort.com/products/products-for-dry-skin/page/24\n"
     ]
    },
    {
     "data": {
      "application/vnd.jupyter.widget-view+json": {
       "model_id": "3f19c141f32845a39167770dd4806c4b",
       "version_major": 2,
       "version_minor": 0
      },
      "text/plain": [
       "Obteniendo productos:   0%|          | 0/1 [00:00<?, ?it/s]"
      ]
     },
     "metadata": {},
     "output_type": "display_data"
    },
    {
     "name": "stdout",
     "output_type": "stream",
     "text": [
      "Estamos en la página https://skinsort.com/products/products-for-dry-skin/page/24\n"
     ]
    },
    {
     "data": {
      "application/vnd.jupyter.widget-view+json": {
       "model_id": "74ccb10f7cdf48f9a30408b08bf25b9f",
       "version_major": 2,
       "version_minor": 0
      },
      "text/plain": [
       "Obteniendo productos:   0%|          | 0/1 [00:00<?, ?it/s]"
      ]
     },
     "metadata": {},
     "output_type": "display_data"
    },
    {
     "name": "stdout",
     "output_type": "stream",
     "text": [
      "Estamos en la página https://skinsort.com/products/products-for-dry-skin/page/24\n"
     ]
    },
    {
     "data": {
      "application/vnd.jupyter.widget-view+json": {
       "model_id": "82b4fe0944554bf5b9345f0ef3241904",
       "version_major": 2,
       "version_minor": 0
      },
      "text/plain": [
       "Obteniendo productos:   0%|          | 0/1 [00:00<?, ?it/s]"
      ]
     },
     "metadata": {},
     "output_type": "display_data"
    },
    {
     "name": "stdout",
     "output_type": "stream",
     "text": [
      "Estamos en la página https://skinsort.com/products/products-for-dry-skin/page/25\n"
     ]
    },
    {
     "data": {
      "application/vnd.jupyter.widget-view+json": {
       "model_id": "d824f575253644248afa6e21962a7584",
       "version_major": 2,
       "version_minor": 0
      },
      "text/plain": [
       "Obteniendo productos:   0%|          | 0/1 [00:00<?, ?it/s]"
      ]
     },
     "metadata": {},
     "output_type": "display_data"
    },
    {
     "name": "stdout",
     "output_type": "stream",
     "text": [
      "Estamos en la página https://skinsort.com/products/products-for-dry-skin/page/25\n"
     ]
    },
    {
     "data": {
      "application/vnd.jupyter.widget-view+json": {
       "model_id": "4b852a8430584ba48b831b44ff64aa3d",
       "version_major": 2,
       "version_minor": 0
      },
      "text/plain": [
       "Obteniendo productos:   0%|          | 0/1 [00:00<?, ?it/s]"
      ]
     },
     "metadata": {},
     "output_type": "display_data"
    },
    {
     "name": "stdout",
     "output_type": "stream",
     "text": [
      "Estamos en la página https://skinsort.com/products/products-for-dry-skin/page/25\n"
     ]
    },
    {
     "data": {
      "application/vnd.jupyter.widget-view+json": {
       "model_id": "6454ca599b6c417295f400f838509ef9",
       "version_major": 2,
       "version_minor": 0
      },
      "text/plain": [
       "Obteniendo productos:   0%|          | 0/1 [00:00<?, ?it/s]"
      ]
     },
     "metadata": {},
     "output_type": "display_data"
    },
    {
     "name": "stdout",
     "output_type": "stream",
     "text": [
      "Estamos en la página https://skinsort.com/products/products-for-dry-skin/page/26\n"
     ]
    },
    {
     "data": {
      "application/vnd.jupyter.widget-view+json": {
       "model_id": "b2792e7056d14a45822ef0c8aacdb1af",
       "version_major": 2,
       "version_minor": 0
      },
      "text/plain": [
       "Obteniendo productos:   0%|          | 0/1 [00:00<?, ?it/s]"
      ]
     },
     "metadata": {},
     "output_type": "display_data"
    },
    {
     "name": "stdout",
     "output_type": "stream",
     "text": [
      "Estamos en la página https://skinsort.com/products/products-for-dry-skin/page/26\n"
     ]
    },
    {
     "data": {
      "application/vnd.jupyter.widget-view+json": {
       "model_id": "c11a2a8166984f2d976a1d7796a2463f",
       "version_major": 2,
       "version_minor": 0
      },
      "text/plain": [
       "Obteniendo productos:   0%|          | 0/1 [00:00<?, ?it/s]"
      ]
     },
     "metadata": {},
     "output_type": "display_data"
    },
    {
     "name": "stdout",
     "output_type": "stream",
     "text": [
      "Estamos en la página https://skinsort.com/products/products-for-dry-skin/page/26\n"
     ]
    },
    {
     "data": {
      "application/vnd.jupyter.widget-view+json": {
       "model_id": "ca5fdbfe9ee44a7685bdb185d43c4902",
       "version_major": 2,
       "version_minor": 0
      },
      "text/plain": [
       "Obteniendo productos:   0%|          | 0/1 [00:00<?, ?it/s]"
      ]
     },
     "metadata": {},
     "output_type": "display_data"
    },
    {
     "name": "stdout",
     "output_type": "stream",
     "text": [
      "Estamos en la página https://skinsort.com/products/products-for-dry-skin/page/27\n"
     ]
    },
    {
     "data": {
      "application/vnd.jupyter.widget-view+json": {
       "model_id": "acd2982cb4be49eaa4840e32e95975b4",
       "version_major": 2,
       "version_minor": 0
      },
      "text/plain": [
       "Obteniendo productos:   0%|          | 0/1 [00:00<?, ?it/s]"
      ]
     },
     "metadata": {},
     "output_type": "display_data"
    },
    {
     "name": "stdout",
     "output_type": "stream",
     "text": [
      "Estamos en la página https://skinsort.com/products/products-for-dry-skin/page/27\n"
     ]
    },
    {
     "data": {
      "application/vnd.jupyter.widget-view+json": {
       "model_id": "4115a7c9650e4bfc848d883d3aa3f702",
       "version_major": 2,
       "version_minor": 0
      },
      "text/plain": [
       "Obteniendo productos:   0%|          | 0/1 [00:00<?, ?it/s]"
      ]
     },
     "metadata": {},
     "output_type": "display_data"
    },
    {
     "name": "stdout",
     "output_type": "stream",
     "text": [
      "Estamos en la página https://skinsort.com/products/products-for-dry-skin/page/27\n"
     ]
    },
    {
     "data": {
      "application/vnd.jupyter.widget-view+json": {
       "model_id": "cf01793888944b3fb17ed5922ebc8089",
       "version_major": 2,
       "version_minor": 0
      },
      "text/plain": [
       "Obteniendo productos:   0%|          | 0/1 [00:00<?, ?it/s]"
      ]
     },
     "metadata": {},
     "output_type": "display_data"
    },
    {
     "name": "stdout",
     "output_type": "stream",
     "text": [
      "Estamos en la página https://skinsort.com/products/products-for-dry-skin/page/28\n"
     ]
    },
    {
     "data": {
      "application/vnd.jupyter.widget-view+json": {
       "model_id": "c6e501469a304fe7ab278a9063258f3f",
       "version_major": 2,
       "version_minor": 0
      },
      "text/plain": [
       "Obteniendo productos:   0%|          | 0/1 [00:00<?, ?it/s]"
      ]
     },
     "metadata": {},
     "output_type": "display_data"
    },
    {
     "name": "stdout",
     "output_type": "stream",
     "text": [
      "Estamos en la página https://skinsort.com/products/products-for-dry-skin/page/28\n"
     ]
    },
    {
     "data": {
      "application/vnd.jupyter.widget-view+json": {
       "model_id": "85deb301e29b410fad086ef14544d6b8",
       "version_major": 2,
       "version_minor": 0
      },
      "text/plain": [
       "Obteniendo productos:   0%|          | 0/1 [00:00<?, ?it/s]"
      ]
     },
     "metadata": {},
     "output_type": "display_data"
    },
    {
     "name": "stdout",
     "output_type": "stream",
     "text": [
      "Estamos en la página https://skinsort.com/products/products-for-dry-skin/page/28\n"
     ]
    },
    {
     "data": {
      "application/vnd.jupyter.widget-view+json": {
       "model_id": "6c68a3939d784dfb9126ca66d3b849b7",
       "version_major": 2,
       "version_minor": 0
      },
      "text/plain": [
       "Obteniendo productos:   0%|          | 0/1 [00:00<?, ?it/s]"
      ]
     },
     "metadata": {},
     "output_type": "display_data"
    },
    {
     "name": "stdout",
     "output_type": "stream",
     "text": [
      "Estamos en la página https://skinsort.com/products/products-for-dry-skin/page/29\n"
     ]
    },
    {
     "data": {
      "application/vnd.jupyter.widget-view+json": {
       "model_id": "580ba53365ff4790ada8652a2dc257f2",
       "version_major": 2,
       "version_minor": 0
      },
      "text/plain": [
       "Obteniendo productos:   0%|          | 0/1 [00:00<?, ?it/s]"
      ]
     },
     "metadata": {},
     "output_type": "display_data"
    },
    {
     "name": "stdout",
     "output_type": "stream",
     "text": [
      "Estamos en la página https://skinsort.com/products/products-for-dry-skin/page/29\n"
     ]
    },
    {
     "data": {
      "application/vnd.jupyter.widget-view+json": {
       "model_id": "aad15c5610ab40fc9d32b2cdea80a333",
       "version_major": 2,
       "version_minor": 0
      },
      "text/plain": [
       "Obteniendo productos:   0%|          | 0/1 [00:00<?, ?it/s]"
      ]
     },
     "metadata": {},
     "output_type": "display_data"
    },
    {
     "name": "stdout",
     "output_type": "stream",
     "text": [
      "Estamos en la página https://skinsort.com/products/products-for-dry-skin/page/29\n"
     ]
    },
    {
     "data": {
      "application/vnd.jupyter.widget-view+json": {
       "model_id": "839eeb22cede4e29b2a2205b9cf1c826",
       "version_major": 2,
       "version_minor": 0
      },
      "text/plain": [
       "Obteniendo productos:   0%|          | 0/1 [00:00<?, ?it/s]"
      ]
     },
     "metadata": {},
     "output_type": "display_data"
    },
    {
     "name": "stdout",
     "output_type": "stream",
     "text": [
      "Estamos en la página https://skinsort.com/products/products-for-dry-skin/page/30\n"
     ]
    },
    {
     "data": {
      "application/vnd.jupyter.widget-view+json": {
       "model_id": "36997f50c285467dba992efd233516dc",
       "version_major": 2,
       "version_minor": 0
      },
      "text/plain": [
       "Obteniendo productos:   0%|          | 0/1 [00:00<?, ?it/s]"
      ]
     },
     "metadata": {},
     "output_type": "display_data"
    },
    {
     "name": "stdout",
     "output_type": "stream",
     "text": [
      "Estamos en la página https://skinsort.com/products/products-for-dry-skin/page/30\n"
     ]
    },
    {
     "data": {
      "application/vnd.jupyter.widget-view+json": {
       "model_id": "88cb089892524c2ba1d7d637aa93018e",
       "version_major": 2,
       "version_minor": 0
      },
      "text/plain": [
       "Obteniendo productos:   0%|          | 0/1 [00:00<?, ?it/s]"
      ]
     },
     "metadata": {},
     "output_type": "display_data"
    },
    {
     "name": "stdout",
     "output_type": "stream",
     "text": [
      "Estamos en la página https://skinsort.com/products/products-for-dry-skin/page/30\n"
     ]
    },
    {
     "data": {
      "application/vnd.jupyter.widget-view+json": {
       "model_id": "208f2b7d3e984d66a1c750a8dc4e7fdf",
       "version_major": 2,
       "version_minor": 0
      },
      "text/plain": [
       "Obteniendo productos:   0%|          | 0/1 [00:00<?, ?it/s]"
      ]
     },
     "metadata": {},
     "output_type": "display_data"
    },
    {
     "name": "stdout",
     "output_type": "stream",
     "text": [
      "Estamos en la página https://skinsort.com/products/products-for-dry-skin/page/31\n"
     ]
    },
    {
     "data": {
      "application/vnd.jupyter.widget-view+json": {
       "model_id": "96b1c1dfa62a46e28d198e1e13a39421",
       "version_major": 2,
       "version_minor": 0
      },
      "text/plain": [
       "Obteniendo productos:   0%|          | 0/1 [00:00<?, ?it/s]"
      ]
     },
     "metadata": {},
     "output_type": "display_data"
    },
    {
     "name": "stdout",
     "output_type": "stream",
     "text": [
      "Estamos en la página https://skinsort.com/products/products-for-dry-skin/page/31\n"
     ]
    },
    {
     "data": {
      "application/vnd.jupyter.widget-view+json": {
       "model_id": "62a25714db26442daab7530bf4a2224e",
       "version_major": 2,
       "version_minor": 0
      },
      "text/plain": [
       "Obteniendo productos:   0%|          | 0/1 [00:00<?, ?it/s]"
      ]
     },
     "metadata": {},
     "output_type": "display_data"
    },
    {
     "name": "stdout",
     "output_type": "stream",
     "text": [
      "Estamos en la página https://skinsort.com/products/products-for-dry-skin/page/31\n"
     ]
    },
    {
     "data": {
      "application/vnd.jupyter.widget-view+json": {
       "model_id": "7f989bb3c9004a1985a09dc6f503cf2d",
       "version_major": 2,
       "version_minor": 0
      },
      "text/plain": [
       "Obteniendo productos:   0%|          | 0/1 [00:00<?, ?it/s]"
      ]
     },
     "metadata": {},
     "output_type": "display_data"
    },
    {
     "name": "stdout",
     "output_type": "stream",
     "text": [
      "Estamos en la página https://skinsort.com/products/products-for-dry-skin/page/32\n"
     ]
    },
    {
     "data": {
      "application/vnd.jupyter.widget-view+json": {
       "model_id": "12369fe97d3e4f60a5d1eb47ecc6a7c4",
       "version_major": 2,
       "version_minor": 0
      },
      "text/plain": [
       "Obteniendo productos:   0%|          | 0/1 [00:00<?, ?it/s]"
      ]
     },
     "metadata": {},
     "output_type": "display_data"
    },
    {
     "name": "stdout",
     "output_type": "stream",
     "text": [
      "Estamos en la página https://skinsort.com/products/products-for-dry-skin/page/32\n"
     ]
    },
    {
     "data": {
      "application/vnd.jupyter.widget-view+json": {
       "model_id": "6fed68476a2a423ead6746a808b60a3f",
       "version_major": 2,
       "version_minor": 0
      },
      "text/plain": [
       "Obteniendo productos:   0%|          | 0/1 [00:00<?, ?it/s]"
      ]
     },
     "metadata": {},
     "output_type": "display_data"
    },
    {
     "name": "stdout",
     "output_type": "stream",
     "text": [
      "Estamos en la página https://skinsort.com/products/products-for-dry-skin/page/32\n"
     ]
    },
    {
     "data": {
      "application/vnd.jupyter.widget-view+json": {
       "model_id": "5b1ccd59135944cab70d4ecacacdde64",
       "version_major": 2,
       "version_minor": 0
      },
      "text/plain": [
       "Obteniendo productos:   0%|          | 0/1 [00:00<?, ?it/s]"
      ]
     },
     "metadata": {},
     "output_type": "display_data"
    },
    {
     "name": "stdout",
     "output_type": "stream",
     "text": [
      "Estamos en la página https://skinsort.com/products/products-for-dry-skin/page/33\n"
     ]
    },
    {
     "data": {
      "application/vnd.jupyter.widget-view+json": {
       "model_id": "019cc70594ef47e2902cb1a5254f478f",
       "version_major": 2,
       "version_minor": 0
      },
      "text/plain": [
       "Obteniendo productos:   0%|          | 0/1 [00:00<?, ?it/s]"
      ]
     },
     "metadata": {},
     "output_type": "display_data"
    },
    {
     "name": "stdout",
     "output_type": "stream",
     "text": [
      "Estamos en la página https://skinsort.com/products/products-for-dry-skin/page/33\n"
     ]
    },
    {
     "data": {
      "application/vnd.jupyter.widget-view+json": {
       "model_id": "9190edefb521498e81e9d1e61afe0c0b",
       "version_major": 2,
       "version_minor": 0
      },
      "text/plain": [
       "Obteniendo productos:   0%|          | 0/1 [00:00<?, ?it/s]"
      ]
     },
     "metadata": {},
     "output_type": "display_data"
    },
    {
     "name": "stdout",
     "output_type": "stream",
     "text": [
      "Estamos en la página https://skinsort.com/products/products-for-dry-skin/page/33\n"
     ]
    },
    {
     "data": {
      "application/vnd.jupyter.widget-view+json": {
       "model_id": "809c8bead7cb493aafea2eb7f36b40f8",
       "version_major": 2,
       "version_minor": 0
      },
      "text/plain": [
       "Obteniendo productos:   0%|          | 0/1 [00:00<?, ?it/s]"
      ]
     },
     "metadata": {},
     "output_type": "display_data"
    },
    {
     "name": "stdout",
     "output_type": "stream",
     "text": [
      "Estamos en la página https://skinsort.com/products/products-for-dry-skin/page/34\n"
     ]
    },
    {
     "data": {
      "application/vnd.jupyter.widget-view+json": {
       "model_id": "9f1b133bf7f64ae0933435bab31268ff",
       "version_major": 2,
       "version_minor": 0
      },
      "text/plain": [
       "Obteniendo productos:   0%|          | 0/1 [00:00<?, ?it/s]"
      ]
     },
     "metadata": {},
     "output_type": "display_data"
    },
    {
     "name": "stdout",
     "output_type": "stream",
     "text": [
      "Estamos en la página https://skinsort.com/products/products-for-dry-skin/page/34\n"
     ]
    },
    {
     "data": {
      "application/vnd.jupyter.widget-view+json": {
       "model_id": "38b401d6c7f644c2acaaeaffda087456",
       "version_major": 2,
       "version_minor": 0
      },
      "text/plain": [
       "Obteniendo productos:   0%|          | 0/1 [00:00<?, ?it/s]"
      ]
     },
     "metadata": {},
     "output_type": "display_data"
    },
    {
     "name": "stdout",
     "output_type": "stream",
     "text": [
      "Estamos en la página https://skinsort.com/products/products-for-dry-skin/page/34\n"
     ]
    },
    {
     "data": {
      "application/vnd.jupyter.widget-view+json": {
       "model_id": "92e6d1abcf454b1aa016781c2c53c901",
       "version_major": 2,
       "version_minor": 0
      },
      "text/plain": [
       "Obteniendo productos:   0%|          | 0/1 [00:00<?, ?it/s]"
      ]
     },
     "metadata": {},
     "output_type": "display_data"
    },
    {
     "name": "stdout",
     "output_type": "stream",
     "text": [
      "Estamos en la página https://skinsort.com/products/products-for-dry-skin/page/35\n"
     ]
    },
    {
     "data": {
      "application/vnd.jupyter.widget-view+json": {
       "model_id": "5df66d7d81454cc597f703678bc4ac9a",
       "version_major": 2,
       "version_minor": 0
      },
      "text/plain": [
       "Obteniendo productos:   0%|          | 0/1 [00:00<?, ?it/s]"
      ]
     },
     "metadata": {},
     "output_type": "display_data"
    },
    {
     "name": "stdout",
     "output_type": "stream",
     "text": [
      "Estamos en la página https://skinsort.com/products/products-for-dry-skin/page/35\n"
     ]
    },
    {
     "data": {
      "application/vnd.jupyter.widget-view+json": {
       "model_id": "134bccac56634e20acbf8ef8cc18b5dd",
       "version_major": 2,
       "version_minor": 0
      },
      "text/plain": [
       "Obteniendo productos:   0%|          | 0/1 [00:00<?, ?it/s]"
      ]
     },
     "metadata": {},
     "output_type": "display_data"
    },
    {
     "name": "stdout",
     "output_type": "stream",
     "text": [
      "Estamos en la página https://skinsort.com/products/products-for-dry-skin/page/35\n"
     ]
    },
    {
     "data": {
      "application/vnd.jupyter.widget-view+json": {
       "model_id": "7c5f5f0ce3834517b26a302b29aefe7e",
       "version_major": 2,
       "version_minor": 0
      },
      "text/plain": [
       "Obteniendo productos:   0%|          | 0/1 [00:00<?, ?it/s]"
      ]
     },
     "metadata": {},
     "output_type": "display_data"
    },
    {
     "name": "stdout",
     "output_type": "stream",
     "text": [
      "Estamos en la página https://skinsort.com/products/products-for-dry-skin/page/36\n"
     ]
    },
    {
     "data": {
      "application/vnd.jupyter.widget-view+json": {
       "model_id": "2e9add32f93f4324a087348d822062e9",
       "version_major": 2,
       "version_minor": 0
      },
      "text/plain": [
       "Obteniendo productos:   0%|          | 0/1 [00:00<?, ?it/s]"
      ]
     },
     "metadata": {},
     "output_type": "display_data"
    },
    {
     "name": "stdout",
     "output_type": "stream",
     "text": [
      "Estamos en la página https://skinsort.com/products/products-for-dry-skin/page/36\n"
     ]
    },
    {
     "data": {
      "application/vnd.jupyter.widget-view+json": {
       "model_id": "f75cd88db2044f2fb67d49d22066c8b1",
       "version_major": 2,
       "version_minor": 0
      },
      "text/plain": [
       "Obteniendo productos:   0%|          | 0/1 [00:00<?, ?it/s]"
      ]
     },
     "metadata": {},
     "output_type": "display_data"
    },
    {
     "name": "stdout",
     "output_type": "stream",
     "text": [
      "Estamos en la página https://skinsort.com/products/products-for-dry-skin/page/36\n"
     ]
    },
    {
     "data": {
      "application/vnd.jupyter.widget-view+json": {
       "model_id": "65d65aa9293f4a2fb566a915dfd483bc",
       "version_major": 2,
       "version_minor": 0
      },
      "text/plain": [
       "Obteniendo productos:   0%|          | 0/1 [00:00<?, ?it/s]"
      ]
     },
     "metadata": {},
     "output_type": "display_data"
    },
    {
     "name": "stdout",
     "output_type": "stream",
     "text": [
      "Estamos en la página https://skinsort.com/products/products-for-dry-skin/page/37\n"
     ]
    },
    {
     "data": {
      "application/vnd.jupyter.widget-view+json": {
       "model_id": "2da301cd2d45402282c4ba65fc7a93bc",
       "version_major": 2,
       "version_minor": 0
      },
      "text/plain": [
       "Obteniendo productos:   0%|          | 0/1 [00:00<?, ?it/s]"
      ]
     },
     "metadata": {},
     "output_type": "display_data"
    },
    {
     "name": "stdout",
     "output_type": "stream",
     "text": [
      "Estamos en la página https://skinsort.com/products/products-for-dry-skin/page/37\n"
     ]
    },
    {
     "data": {
      "application/vnd.jupyter.widget-view+json": {
       "model_id": "b76f4dd2dc5142a38301b8aa0131e9bb",
       "version_major": 2,
       "version_minor": 0
      },
      "text/plain": [
       "Obteniendo productos:   0%|          | 0/1 [00:00<?, ?it/s]"
      ]
     },
     "metadata": {},
     "output_type": "display_data"
    },
    {
     "name": "stdout",
     "output_type": "stream",
     "text": [
      "Estamos en la página https://skinsort.com/products/products-for-dry-skin/page/37\n"
     ]
    },
    {
     "data": {
      "application/vnd.jupyter.widget-view+json": {
       "model_id": "e25ea4e9c38f48d1958ae51e3f89ac96",
       "version_major": 2,
       "version_minor": 0
      },
      "text/plain": [
       "Obteniendo productos:   0%|          | 0/1 [00:00<?, ?it/s]"
      ]
     },
     "metadata": {},
     "output_type": "display_data"
    },
    {
     "name": "stdout",
     "output_type": "stream",
     "text": [
      "Estamos en la página https://skinsort.com/products/products-for-dry-skin/page/38\n"
     ]
    },
    {
     "data": {
      "application/vnd.jupyter.widget-view+json": {
       "model_id": "77bb73d55f7046bf8e4a73ba8b190dac",
       "version_major": 2,
       "version_minor": 0
      },
      "text/plain": [
       "Obteniendo productos:   0%|          | 0/1 [00:00<?, ?it/s]"
      ]
     },
     "metadata": {},
     "output_type": "display_data"
    },
    {
     "name": "stdout",
     "output_type": "stream",
     "text": [
      "Estamos en la página https://skinsort.com/products/products-for-dry-skin/page/38\n"
     ]
    },
    {
     "data": {
      "application/vnd.jupyter.widget-view+json": {
       "model_id": "c7b44f0a0d1d4ce486213af44041a1fc",
       "version_major": 2,
       "version_minor": 0
      },
      "text/plain": [
       "Obteniendo productos:   0%|          | 0/1 [00:00<?, ?it/s]"
      ]
     },
     "metadata": {},
     "output_type": "display_data"
    },
    {
     "name": "stdout",
     "output_type": "stream",
     "text": [
      "Estamos en la página https://skinsort.com/products/products-for-dry-skin/page/38\n"
     ]
    },
    {
     "data": {
      "application/vnd.jupyter.widget-view+json": {
       "model_id": "66bdadbbf1374db5a896841580f8c7f9",
       "version_major": 2,
       "version_minor": 0
      },
      "text/plain": [
       "Obteniendo productos:   0%|          | 0/1 [00:00<?, ?it/s]"
      ]
     },
     "metadata": {},
     "output_type": "display_data"
    },
    {
     "name": "stdout",
     "output_type": "stream",
     "text": [
      "Estamos en la página https://skinsort.com/products/products-for-dry-skin/page/39\n"
     ]
    },
    {
     "data": {
      "application/vnd.jupyter.widget-view+json": {
       "model_id": "1a54a8fb665e472daf0c05af56b66379",
       "version_major": 2,
       "version_minor": 0
      },
      "text/plain": [
       "Obteniendo productos:   0%|          | 0/1 [00:00<?, ?it/s]"
      ]
     },
     "metadata": {},
     "output_type": "display_data"
    },
    {
     "name": "stdout",
     "output_type": "stream",
     "text": [
      "Estamos en la página https://skinsort.com/products/products-for-dry-skin/page/39\n"
     ]
    },
    {
     "data": {
      "application/vnd.jupyter.widget-view+json": {
       "model_id": "562fda249a874ec28b3a06fcc523fcaa",
       "version_major": 2,
       "version_minor": 0
      },
      "text/plain": [
       "Obteniendo productos:   0%|          | 0/1 [00:00<?, ?it/s]"
      ]
     },
     "metadata": {},
     "output_type": "display_data"
    },
    {
     "name": "stdout",
     "output_type": "stream",
     "text": [
      "Estamos en la página https://skinsort.com/products/products-for-dry-skin/page/39\n"
     ]
    },
    {
     "data": {
      "application/vnd.jupyter.widget-view+json": {
       "model_id": "b99cf92d9ac24d998ca4bd8f2bd2bfea",
       "version_major": 2,
       "version_minor": 0
      },
      "text/plain": [
       "Obteniendo productos:   0%|          | 0/1 [00:00<?, ?it/s]"
      ]
     },
     "metadata": {},
     "output_type": "display_data"
    },
    {
     "name": "stdout",
     "output_type": "stream",
     "text": [
      "Estamos en la página https://skinsort.com/products/products-for-dry-skin/page/40\n"
     ]
    },
    {
     "data": {
      "application/vnd.jupyter.widget-view+json": {
       "model_id": "0110bad8dd6b4a79a13380324780779d",
       "version_major": 2,
       "version_minor": 0
      },
      "text/plain": [
       "Obteniendo productos:   0%|          | 0/1 [00:00<?, ?it/s]"
      ]
     },
     "metadata": {},
     "output_type": "display_data"
    },
    {
     "name": "stdout",
     "output_type": "stream",
     "text": [
      "Estamos en la página https://skinsort.com/products/products-for-dry-skin/page/40\n"
     ]
    },
    {
     "data": {
      "application/vnd.jupyter.widget-view+json": {
       "model_id": "198c39f4ba634174a7c3b51268fd447b",
       "version_major": 2,
       "version_minor": 0
      },
      "text/plain": [
       "Obteniendo productos:   0%|          | 0/1 [00:00<?, ?it/s]"
      ]
     },
     "metadata": {},
     "output_type": "display_data"
    },
    {
     "name": "stdout",
     "output_type": "stream",
     "text": [
      "Estamos en la página https://skinsort.com/products/products-for-dry-skin/page/40\n"
     ]
    },
    {
     "data": {
      "application/vnd.jupyter.widget-view+json": {
       "model_id": "00df4d75486f444d881ed986755e928d",
       "version_major": 2,
       "version_minor": 0
      },
      "text/plain": [
       "Obteniendo productos:   0%|          | 0/1 [00:00<?, ?it/s]"
      ]
     },
     "metadata": {},
     "output_type": "display_data"
    },
    {
     "name": "stdout",
     "output_type": "stream",
     "text": [
      "Estamos en la página https://skinsort.com/products/products-for-dry-skin/page/41\n"
     ]
    },
    {
     "data": {
      "application/vnd.jupyter.widget-view+json": {
       "model_id": "fcbe987b06414909a27e714c698f47a6",
       "version_major": 2,
       "version_minor": 0
      },
      "text/plain": [
       "Obteniendo productos:   0%|          | 0/1 [00:00<?, ?it/s]"
      ]
     },
     "metadata": {},
     "output_type": "display_data"
    },
    {
     "name": "stdout",
     "output_type": "stream",
     "text": [
      "Estamos en la página https://skinsort.com/products/products-for-dry-skin/page/41\n"
     ]
    },
    {
     "data": {
      "application/vnd.jupyter.widget-view+json": {
       "model_id": "7af43d2dd319441491d858d27314f1da",
       "version_major": 2,
       "version_minor": 0
      },
      "text/plain": [
       "Obteniendo productos:   0%|          | 0/1 [00:00<?, ?it/s]"
      ]
     },
     "metadata": {},
     "output_type": "display_data"
    },
    {
     "name": "stdout",
     "output_type": "stream",
     "text": [
      "Estamos en la página https://skinsort.com/products/products-for-dry-skin/page/41\n"
     ]
    },
    {
     "data": {
      "application/vnd.jupyter.widget-view+json": {
       "model_id": "d4de5411d47447f3ba5d6aae372ac623",
       "version_major": 2,
       "version_minor": 0
      },
      "text/plain": [
       "Obteniendo productos:   0%|          | 0/1 [00:00<?, ?it/s]"
      ]
     },
     "metadata": {},
     "output_type": "display_data"
    },
    {
     "name": "stdout",
     "output_type": "stream",
     "text": [
      "Estamos en la página https://skinsort.com/products/products-for-dry-skin/page/42\n"
     ]
    },
    {
     "data": {
      "application/vnd.jupyter.widget-view+json": {
       "model_id": "afbc66704008476a9db5499ee83a6b4c",
       "version_major": 2,
       "version_minor": 0
      },
      "text/plain": [
       "Obteniendo productos:   0%|          | 0/1 [00:00<?, ?it/s]"
      ]
     },
     "metadata": {},
     "output_type": "display_data"
    },
    {
     "name": "stdout",
     "output_type": "stream",
     "text": [
      "Estamos en la página https://skinsort.com/products/products-for-dry-skin/page/42\n"
     ]
    },
    {
     "data": {
      "application/vnd.jupyter.widget-view+json": {
       "model_id": "1b7eee0d924c437c8b5e105b7eb74e8c",
       "version_major": 2,
       "version_minor": 0
      },
      "text/plain": [
       "Obteniendo productos:   0%|          | 0/1 [00:00<?, ?it/s]"
      ]
     },
     "metadata": {},
     "output_type": "display_data"
    },
    {
     "name": "stdout",
     "output_type": "stream",
     "text": [
      "Estamos en la página https://skinsort.com/products/products-for-dry-skin/page/42\n"
     ]
    },
    {
     "data": {
      "application/vnd.jupyter.widget-view+json": {
       "model_id": "f2637fc535e74cdfa50ab01bff751812",
       "version_major": 2,
       "version_minor": 0
      },
      "text/plain": [
       "Obteniendo productos:   0%|          | 0/1 [00:00<?, ?it/s]"
      ]
     },
     "metadata": {},
     "output_type": "display_data"
    },
    {
     "name": "stdout",
     "output_type": "stream",
     "text": [
      "Estamos en la página https://skinsort.com/products/products-for-dry-skin/page/43\n"
     ]
    },
    {
     "data": {
      "application/vnd.jupyter.widget-view+json": {
       "model_id": "0215a881cf854bbf9710cc44ac46b43f",
       "version_major": 2,
       "version_minor": 0
      },
      "text/plain": [
       "Obteniendo productos:   0%|          | 0/1 [00:00<?, ?it/s]"
      ]
     },
     "metadata": {},
     "output_type": "display_data"
    },
    {
     "name": "stdout",
     "output_type": "stream",
     "text": [
      "Estamos en la página https://skinsort.com/products/products-for-dry-skin/page/43\n"
     ]
    },
    {
     "data": {
      "application/vnd.jupyter.widget-view+json": {
       "model_id": "dbdc4bb49e3b465ea048201d41b04fef",
       "version_major": 2,
       "version_minor": 0
      },
      "text/plain": [
       "Obteniendo productos:   0%|          | 0/1 [00:00<?, ?it/s]"
      ]
     },
     "metadata": {},
     "output_type": "display_data"
    },
    {
     "name": "stdout",
     "output_type": "stream",
     "text": [
      "Estamos en la página https://skinsort.com/products/products-for-dry-skin/page/43\n"
     ]
    },
    {
     "data": {
      "application/vnd.jupyter.widget-view+json": {
       "model_id": "69e83b082ca345a8b4b800b1e58c132c",
       "version_major": 2,
       "version_minor": 0
      },
      "text/plain": [
       "Obteniendo productos:   0%|          | 0/1 [00:00<?, ?it/s]"
      ]
     },
     "metadata": {},
     "output_type": "display_data"
    },
    {
     "name": "stdout",
     "output_type": "stream",
     "text": [
      "Estamos en la página https://skinsort.com/products/products-for-dry-skin/page/44\n"
     ]
    },
    {
     "data": {
      "application/vnd.jupyter.widget-view+json": {
       "model_id": "c7440abe3fd44d52b00293ea6ff8bd0c",
       "version_major": 2,
       "version_minor": 0
      },
      "text/plain": [
       "Obteniendo productos:   0%|          | 0/1 [00:00<?, ?it/s]"
      ]
     },
     "metadata": {},
     "output_type": "display_data"
    },
    {
     "name": "stdout",
     "output_type": "stream",
     "text": [
      "Estamos en la página https://skinsort.com/products/products-for-dry-skin/page/44\n"
     ]
    },
    {
     "data": {
      "application/vnd.jupyter.widget-view+json": {
       "model_id": "0eb95f74b0764caa8717ab6b15c468de",
       "version_major": 2,
       "version_minor": 0
      },
      "text/plain": [
       "Obteniendo productos:   0%|          | 0/1 [00:00<?, ?it/s]"
      ]
     },
     "metadata": {},
     "output_type": "display_data"
    },
    {
     "name": "stdout",
     "output_type": "stream",
     "text": [
      "Estamos en la página https://skinsort.com/products/products-for-dry-skin/page/44\n"
     ]
    },
    {
     "data": {
      "application/vnd.jupyter.widget-view+json": {
       "model_id": "e57540748ce245d38fff1536794606ed",
       "version_major": 2,
       "version_minor": 0
      },
      "text/plain": [
       "Obteniendo productos:   0%|          | 0/1 [00:00<?, ?it/s]"
      ]
     },
     "metadata": {},
     "output_type": "display_data"
    },
    {
     "name": "stdout",
     "output_type": "stream",
     "text": [
      "Estamos en la página https://skinsort.com/products/products-for-dry-skin/page/45\n"
     ]
    },
    {
     "data": {
      "application/vnd.jupyter.widget-view+json": {
       "model_id": "a1d6dc991fd644049ef298c396c7e953",
       "version_major": 2,
       "version_minor": 0
      },
      "text/plain": [
       "Obteniendo productos:   0%|          | 0/1 [00:00<?, ?it/s]"
      ]
     },
     "metadata": {},
     "output_type": "display_data"
    },
    {
     "name": "stdout",
     "output_type": "stream",
     "text": [
      "Estamos en la página https://skinsort.com/products/products-for-dry-skin/page/45\n"
     ]
    },
    {
     "data": {
      "application/vnd.jupyter.widget-view+json": {
       "model_id": "222e506d7cf3490eb6348eb22d196763",
       "version_major": 2,
       "version_minor": 0
      },
      "text/plain": [
       "Obteniendo productos:   0%|          | 0/1 [00:00<?, ?it/s]"
      ]
     },
     "metadata": {},
     "output_type": "display_data"
    },
    {
     "name": "stdout",
     "output_type": "stream",
     "text": [
      "Estamos en la página https://skinsort.com/products/products-for-dry-skin/page/45\n"
     ]
    },
    {
     "data": {
      "application/vnd.jupyter.widget-view+json": {
       "model_id": "e78033e9341341e58dba4e5b7b29ae5f",
       "version_major": 2,
       "version_minor": 0
      },
      "text/plain": [
       "Obteniendo productos:   0%|          | 0/1 [00:00<?, ?it/s]"
      ]
     },
     "metadata": {},
     "output_type": "display_data"
    },
    {
     "name": "stdout",
     "output_type": "stream",
     "text": [
      "Estamos en la página https://skinsort.com/products/products-for-dry-skin/page/46\n"
     ]
    },
    {
     "data": {
      "application/vnd.jupyter.widget-view+json": {
       "model_id": "cd91bece89884f3fb547d93ec4551d91",
       "version_major": 2,
       "version_minor": 0
      },
      "text/plain": [
       "Obteniendo productos:   0%|          | 0/1 [00:00<?, ?it/s]"
      ]
     },
     "metadata": {},
     "output_type": "display_data"
    },
    {
     "name": "stdout",
     "output_type": "stream",
     "text": [
      "Estamos en la página https://skinsort.com/products/products-for-dry-skin/page/46\n"
     ]
    },
    {
     "data": {
      "application/vnd.jupyter.widget-view+json": {
       "model_id": "4687157d71d74e17b2414c84eee5883e",
       "version_major": 2,
       "version_minor": 0
      },
      "text/plain": [
       "Obteniendo productos:   0%|          | 0/1 [00:00<?, ?it/s]"
      ]
     },
     "metadata": {},
     "output_type": "display_data"
    },
    {
     "name": "stdout",
     "output_type": "stream",
     "text": [
      "Estamos en la página https://skinsort.com/products/products-for-dry-skin/page/46\n"
     ]
    },
    {
     "data": {
      "application/vnd.jupyter.widget-view+json": {
       "model_id": "41a4084ccfe149bb85b1db91b7883bde",
       "version_major": 2,
       "version_minor": 0
      },
      "text/plain": [
       "Obteniendo productos:   0%|          | 0/1 [00:00<?, ?it/s]"
      ]
     },
     "metadata": {},
     "output_type": "display_data"
    },
    {
     "name": "stdout",
     "output_type": "stream",
     "text": [
      "Estamos en la página https://skinsort.com/products/products-for-dry-skin/page/47\n"
     ]
    },
    {
     "data": {
      "application/vnd.jupyter.widget-view+json": {
       "model_id": "02579a16daa2473292baab0e8076635a",
       "version_major": 2,
       "version_minor": 0
      },
      "text/plain": [
       "Obteniendo productos:   0%|          | 0/1 [00:00<?, ?it/s]"
      ]
     },
     "metadata": {},
     "output_type": "display_data"
    },
    {
     "name": "stdout",
     "output_type": "stream",
     "text": [
      "Estamos en la página https://skinsort.com/products/products-for-dry-skin/page/47\n"
     ]
    },
    {
     "data": {
      "application/vnd.jupyter.widget-view+json": {
       "model_id": "dbd7b0fbefcc4f858d2af4c2a633f0a1",
       "version_major": 2,
       "version_minor": 0
      },
      "text/plain": [
       "Obteniendo productos:   0%|          | 0/1 [00:00<?, ?it/s]"
      ]
     },
     "metadata": {},
     "output_type": "display_data"
    },
    {
     "name": "stdout",
     "output_type": "stream",
     "text": [
      "Estamos en la página https://skinsort.com/products/products-for-dry-skin/page/47\n",
      "Error al obtener los datos.\n"
     ]
    },
    {
     "data": {
      "application/vnd.jupyter.widget-view+json": {
       "model_id": "829b469e026a48269d7bf6e3f6b43ac2",
       "version_major": 2,
       "version_minor": 0
      },
      "text/plain": [
       "Obteniendo productos:   0%|          | 0/1 [00:00<?, ?it/s]"
      ]
     },
     "metadata": {},
     "output_type": "display_data"
    },
    {
     "name": "stdout",
     "output_type": "stream",
     "text": [
      "Estamos en la página https://skinsort.com/products/products-for-dry-skin/page/49\n"
     ]
    },
    {
     "data": {
      "application/vnd.jupyter.widget-view+json": {
       "model_id": "da785155c7344dba840e11634bf3f194",
       "version_major": 2,
       "version_minor": 0
      },
      "text/plain": [
       "Obteniendo productos:   0%|          | 0/1 [00:00<?, ?it/s]"
      ]
     },
     "metadata": {},
     "output_type": "display_data"
    },
    {
     "name": "stdout",
     "output_type": "stream",
     "text": [
      "Estamos en la página https://skinsort.com/products/products-for-dry-skin/page/49\n"
     ]
    },
    {
     "data": {
      "application/vnd.jupyter.widget-view+json": {
       "model_id": "8580f2cc9a384e6cb5f7821ea66ab6ea",
       "version_major": 2,
       "version_minor": 0
      },
      "text/plain": [
       "Obteniendo productos:   0%|          | 0/1 [00:00<?, ?it/s]"
      ]
     },
     "metadata": {},
     "output_type": "display_data"
    },
    {
     "name": "stdout",
     "output_type": "stream",
     "text": [
      "Estamos en la página https://skinsort.com/products/products-for-dry-skin/page/49\n"
     ]
    },
    {
     "data": {
      "application/vnd.jupyter.widget-view+json": {
       "model_id": "6aea3293c36b4b57b77dab097c9a994a",
       "version_major": 2,
       "version_minor": 0
      },
      "text/plain": [
       "Obteniendo productos:   0%|          | 0/1 [00:00<?, ?it/s]"
      ]
     },
     "metadata": {},
     "output_type": "display_data"
    },
    {
     "name": "stdout",
     "output_type": "stream",
     "text": [
      "Estamos en la página https://skinsort.com/products/products-for-dry-skin/page/50\n"
     ]
    },
    {
     "data": {
      "application/vnd.jupyter.widget-view+json": {
       "model_id": "8bad8693e7584516bedb7cb88e5ab55b",
       "version_major": 2,
       "version_minor": 0
      },
      "text/plain": [
       "Obteniendo productos:   0%|          | 0/1 [00:00<?, ?it/s]"
      ]
     },
     "metadata": {},
     "output_type": "display_data"
    },
    {
     "name": "stdout",
     "output_type": "stream",
     "text": [
      "Estamos en la página https://skinsort.com/products/products-for-dry-skin/page/50\n"
     ]
    },
    {
     "data": {
      "application/vnd.jupyter.widget-view+json": {
       "model_id": "8a7fdaa0ed544391a148b596760a9181",
       "version_major": 2,
       "version_minor": 0
      },
      "text/plain": [
       "Obteniendo productos:   0%|          | 0/1 [00:00<?, ?it/s]"
      ]
     },
     "metadata": {},
     "output_type": "display_data"
    },
    {
     "name": "stdout",
     "output_type": "stream",
     "text": [
      "Estamos en la página https://skinsort.com/products/products-for-dry-skin/page/50\n"
     ]
    },
    {
     "data": {
      "application/vnd.jupyter.widget-view+json": {
       "model_id": "f34ffd10553d428aabf5ecdc9369fa5d",
       "version_major": 2,
       "version_minor": 0
      },
      "text/plain": [
       "Obteniendo productos:   0%|          | 0/1 [00:00<?, ?it/s]"
      ]
     },
     "metadata": {},
     "output_type": "display_data"
    },
    {
     "name": "stdout",
     "output_type": "stream",
     "text": [
      "Estamos en la página https://skinsort.com/products/products-for-dry-skin/page/51\n"
     ]
    },
    {
     "data": {
      "application/vnd.jupyter.widget-view+json": {
       "model_id": "2f0aa48ec1c34b6fa8517d6468906000",
       "version_major": 2,
       "version_minor": 0
      },
      "text/plain": [
       "Obteniendo productos:   0%|          | 0/1 [00:00<?, ?it/s]"
      ]
     },
     "metadata": {},
     "output_type": "display_data"
    },
    {
     "name": "stdout",
     "output_type": "stream",
     "text": [
      "Estamos en la página https://skinsort.com/products/products-for-dry-skin/page/51\n"
     ]
    },
    {
     "data": {
      "application/vnd.jupyter.widget-view+json": {
       "model_id": "6a56c6c17e5b478ea3131e23a6a67293",
       "version_major": 2,
       "version_minor": 0
      },
      "text/plain": [
       "Obteniendo productos:   0%|          | 0/1 [00:00<?, ?it/s]"
      ]
     },
     "metadata": {},
     "output_type": "display_data"
    },
    {
     "name": "stdout",
     "output_type": "stream",
     "text": [
      "Estamos en la página https://skinsort.com/products/products-for-dry-skin/page/51\n"
     ]
    },
    {
     "data": {
      "application/vnd.jupyter.widget-view+json": {
       "model_id": "3078df5f32d5404eb54d0e4c769fcb2e",
       "version_major": 2,
       "version_minor": 0
      },
      "text/plain": [
       "Obteniendo productos:   0%|          | 0/1 [00:00<?, ?it/s]"
      ]
     },
     "metadata": {},
     "output_type": "display_data"
    },
    {
     "name": "stdout",
     "output_type": "stream",
     "text": [
      "Estamos en la página https://skinsort.com/products/products-for-dry-skin/page/52\n"
     ]
    },
    {
     "data": {
      "application/vnd.jupyter.widget-view+json": {
       "model_id": "85748ee8de474c5a8a127737c1053f23",
       "version_major": 2,
       "version_minor": 0
      },
      "text/plain": [
       "Obteniendo productos:   0%|          | 0/1 [00:00<?, ?it/s]"
      ]
     },
     "metadata": {},
     "output_type": "display_data"
    },
    {
     "name": "stdout",
     "output_type": "stream",
     "text": [
      "Estamos en la página https://skinsort.com/products/products-for-dry-skin/page/52\n"
     ]
    },
    {
     "data": {
      "application/vnd.jupyter.widget-view+json": {
       "model_id": "4eff5f65fb2540e0972d54e20cf33622",
       "version_major": 2,
       "version_minor": 0
      },
      "text/plain": [
       "Obteniendo productos:   0%|          | 0/1 [00:00<?, ?it/s]"
      ]
     },
     "metadata": {},
     "output_type": "display_data"
    },
    {
     "name": "stdout",
     "output_type": "stream",
     "text": [
      "Estamos en la página https://skinsort.com/products/products-for-dry-skin/page/52\n"
     ]
    },
    {
     "data": {
      "application/vnd.jupyter.widget-view+json": {
       "model_id": "8221eeb53b2e434385983920a6ff2b02",
       "version_major": 2,
       "version_minor": 0
      },
      "text/plain": [
       "Obteniendo productos:   0%|          | 0/1 [00:00<?, ?it/s]"
      ]
     },
     "metadata": {},
     "output_type": "display_data"
    },
    {
     "name": "stdout",
     "output_type": "stream",
     "text": [
      "Estamos en la página https://skinsort.com/products/products-for-dry-skin/page/53\n"
     ]
    },
    {
     "data": {
      "application/vnd.jupyter.widget-view+json": {
       "model_id": "40758b2df5854ab796303d86c46f829f",
       "version_major": 2,
       "version_minor": 0
      },
      "text/plain": [
       "Obteniendo productos:   0%|          | 0/1 [00:00<?, ?it/s]"
      ]
     },
     "metadata": {},
     "output_type": "display_data"
    },
    {
     "name": "stdout",
     "output_type": "stream",
     "text": [
      "Estamos en la página https://skinsort.com/products/products-for-dry-skin/page/53\n"
     ]
    },
    {
     "data": {
      "application/vnd.jupyter.widget-view+json": {
       "model_id": "cb798d84c71d44b7bfb5076845f4edeb",
       "version_major": 2,
       "version_minor": 0
      },
      "text/plain": [
       "Obteniendo productos:   0%|          | 0/1 [00:00<?, ?it/s]"
      ]
     },
     "metadata": {},
     "output_type": "display_data"
    },
    {
     "name": "stdout",
     "output_type": "stream",
     "text": [
      "Estamos en la página https://skinsort.com/products/products-for-dry-skin/page/53\n"
     ]
    },
    {
     "data": {
      "application/vnd.jupyter.widget-view+json": {
       "model_id": "c019e7343fb24d83ab1b4cfdc0e2b130",
       "version_major": 2,
       "version_minor": 0
      },
      "text/plain": [
       "Obteniendo productos:   0%|          | 0/1 [00:00<?, ?it/s]"
      ]
     },
     "metadata": {},
     "output_type": "display_data"
    },
    {
     "name": "stdout",
     "output_type": "stream",
     "text": [
      "Estamos en la página https://skinsort.com/products/products-for-dry-skin/page/54\n"
     ]
    },
    {
     "data": {
      "application/vnd.jupyter.widget-view+json": {
       "model_id": "87e4c7b61c234a9ebe7502d9b8a586c5",
       "version_major": 2,
       "version_minor": 0
      },
      "text/plain": [
       "Obteniendo productos:   0%|          | 0/1 [00:00<?, ?it/s]"
      ]
     },
     "metadata": {},
     "output_type": "display_data"
    },
    {
     "name": "stdout",
     "output_type": "stream",
     "text": [
      "Estamos en la página https://skinsort.com/products/products-for-dry-skin/page/54\n"
     ]
    },
    {
     "data": {
      "application/vnd.jupyter.widget-view+json": {
       "model_id": "6b27b3296471468ebc0e66757f45a015",
       "version_major": 2,
       "version_minor": 0
      },
      "text/plain": [
       "Obteniendo productos:   0%|          | 0/1 [00:00<?, ?it/s]"
      ]
     },
     "metadata": {},
     "output_type": "display_data"
    },
    {
     "name": "stdout",
     "output_type": "stream",
     "text": [
      "Estamos en la página https://skinsort.com/products/products-for-dry-skin/page/54\n"
     ]
    },
    {
     "data": {
      "application/vnd.jupyter.widget-view+json": {
       "model_id": "be35fceca86948f286b763acf7f33ed6",
       "version_major": 2,
       "version_minor": 0
      },
      "text/plain": [
       "Obteniendo productos:   0%|          | 0/1 [00:00<?, ?it/s]"
      ]
     },
     "metadata": {},
     "output_type": "display_data"
    },
    {
     "name": "stdout",
     "output_type": "stream",
     "text": [
      "Estamos en la página https://skinsort.com/products/products-for-dry-skin/page/55\n"
     ]
    },
    {
     "data": {
      "application/vnd.jupyter.widget-view+json": {
       "model_id": "445ae1d2f4a744778997a4b31f1dce97",
       "version_major": 2,
       "version_minor": 0
      },
      "text/plain": [
       "Obteniendo productos:   0%|          | 0/1 [00:00<?, ?it/s]"
      ]
     },
     "metadata": {},
     "output_type": "display_data"
    },
    {
     "name": "stdout",
     "output_type": "stream",
     "text": [
      "Estamos en la página https://skinsort.com/products/products-for-dry-skin/page/55\n"
     ]
    },
    {
     "data": {
      "application/vnd.jupyter.widget-view+json": {
       "model_id": "43fca8855f08438982ba64247ca6d9dd",
       "version_major": 2,
       "version_minor": 0
      },
      "text/plain": [
       "Obteniendo productos:   0%|          | 0/1 [00:00<?, ?it/s]"
      ]
     },
     "metadata": {},
     "output_type": "display_data"
    },
    {
     "name": "stdout",
     "output_type": "stream",
     "text": [
      "Estamos en la página https://skinsort.com/products/products-for-dry-skin/page/55\n"
     ]
    },
    {
     "data": {
      "application/vnd.jupyter.widget-view+json": {
       "model_id": "1310dbf06c76441f980502bffea72105",
       "version_major": 2,
       "version_minor": 0
      },
      "text/plain": [
       "Obteniendo productos:   0%|          | 0/1 [00:00<?, ?it/s]"
      ]
     },
     "metadata": {},
     "output_type": "display_data"
    },
    {
     "name": "stdout",
     "output_type": "stream",
     "text": [
      "Estamos en la página https://skinsort.com/products/products-for-dry-skin/page/56\n"
     ]
    },
    {
     "data": {
      "application/vnd.jupyter.widget-view+json": {
       "model_id": "74a5d9f99b144c4492928e43a2728bd9",
       "version_major": 2,
       "version_minor": 0
      },
      "text/plain": [
       "Obteniendo productos:   0%|          | 0/1 [00:00<?, ?it/s]"
      ]
     },
     "metadata": {},
     "output_type": "display_data"
    },
    {
     "name": "stdout",
     "output_type": "stream",
     "text": [
      "Estamos en la página https://skinsort.com/products/products-for-dry-skin/page/56\n"
     ]
    },
    {
     "data": {
      "application/vnd.jupyter.widget-view+json": {
       "model_id": "3da855130a1f4112a18a3916c40f54e8",
       "version_major": 2,
       "version_minor": 0
      },
      "text/plain": [
       "Obteniendo productos:   0%|          | 0/1 [00:00<?, ?it/s]"
      ]
     },
     "metadata": {},
     "output_type": "display_data"
    },
    {
     "name": "stdout",
     "output_type": "stream",
     "text": [
      "Estamos en la página https://skinsort.com/products/products-for-dry-skin/page/56\n"
     ]
    },
    {
     "data": {
      "application/vnd.jupyter.widget-view+json": {
       "model_id": "5f83e9a3246f453688c73199fd5be91e",
       "version_major": 2,
       "version_minor": 0
      },
      "text/plain": [
       "Obteniendo productos:   0%|          | 0/1 [00:00<?, ?it/s]"
      ]
     },
     "metadata": {},
     "output_type": "display_data"
    },
    {
     "name": "stdout",
     "output_type": "stream",
     "text": [
      "Estamos en la página https://skinsort.com/products/products-for-dry-skin/page/57\n"
     ]
    },
    {
     "data": {
      "application/vnd.jupyter.widget-view+json": {
       "model_id": "84b55cfc4a58467da5e5277b1e6c1a96",
       "version_major": 2,
       "version_minor": 0
      },
      "text/plain": [
       "Obteniendo productos:   0%|          | 0/1 [00:00<?, ?it/s]"
      ]
     },
     "metadata": {},
     "output_type": "display_data"
    },
    {
     "name": "stdout",
     "output_type": "stream",
     "text": [
      "Estamos en la página https://skinsort.com/products/products-for-dry-skin/page/57\n"
     ]
    },
    {
     "data": {
      "application/vnd.jupyter.widget-view+json": {
       "model_id": "1045455c2595430a96e93d1fca718353",
       "version_major": 2,
       "version_minor": 0
      },
      "text/plain": [
       "Obteniendo productos:   0%|          | 0/1 [00:00<?, ?it/s]"
      ]
     },
     "metadata": {},
     "output_type": "display_data"
    },
    {
     "name": "stdout",
     "output_type": "stream",
     "text": [
      "Estamos en la página https://skinsort.com/products/products-for-dry-skin/page/57\n"
     ]
    },
    {
     "data": {
      "application/vnd.jupyter.widget-view+json": {
       "model_id": "6c5469d2298946a2a1452437866c6823",
       "version_major": 2,
       "version_minor": 0
      },
      "text/plain": [
       "Obteniendo productos:   0%|          | 0/1 [00:00<?, ?it/s]"
      ]
     },
     "metadata": {},
     "output_type": "display_data"
    },
    {
     "name": "stdout",
     "output_type": "stream",
     "text": [
      "Estamos en la página https://skinsort.com/products/products-for-dry-skin/page/58\n"
     ]
    },
    {
     "data": {
      "application/vnd.jupyter.widget-view+json": {
       "model_id": "bfcef034c2ab424fa10ba4cf385ef73b",
       "version_major": 2,
       "version_minor": 0
      },
      "text/plain": [
       "Obteniendo productos:   0%|          | 0/1 [00:00<?, ?it/s]"
      ]
     },
     "metadata": {},
     "output_type": "display_data"
    },
    {
     "name": "stdout",
     "output_type": "stream",
     "text": [
      "Estamos en la página https://skinsort.com/products/products-for-dry-skin/page/58\n"
     ]
    },
    {
     "data": {
      "application/vnd.jupyter.widget-view+json": {
       "model_id": "5e494a6027014c6f8c0393fb447a0c73",
       "version_major": 2,
       "version_minor": 0
      },
      "text/plain": [
       "Obteniendo productos:   0%|          | 0/1 [00:00<?, ?it/s]"
      ]
     },
     "metadata": {},
     "output_type": "display_data"
    },
    {
     "name": "stdout",
     "output_type": "stream",
     "text": [
      "Estamos en la página https://skinsort.com/products/products-for-dry-skin/page/58\n"
     ]
    },
    {
     "data": {
      "application/vnd.jupyter.widget-view+json": {
       "model_id": "c25bc5834ef64f2fbe8db2e153c6c75a",
       "version_major": 2,
       "version_minor": 0
      },
      "text/plain": [
       "Obteniendo productos:   0%|          | 0/1 [00:00<?, ?it/s]"
      ]
     },
     "metadata": {},
     "output_type": "display_data"
    },
    {
     "name": "stdout",
     "output_type": "stream",
     "text": [
      "Estamos en la página https://skinsort.com/products/products-for-dry-skin/page/59\n"
     ]
    },
    {
     "data": {
      "application/vnd.jupyter.widget-view+json": {
       "model_id": "519b93c5ce754d198004badf7c78823b",
       "version_major": 2,
       "version_minor": 0
      },
      "text/plain": [
       "Obteniendo productos:   0%|          | 0/1 [00:00<?, ?it/s]"
      ]
     },
     "metadata": {},
     "output_type": "display_data"
    },
    {
     "name": "stdout",
     "output_type": "stream",
     "text": [
      "Estamos en la página https://skinsort.com/products/products-for-dry-skin/page/59\n"
     ]
    },
    {
     "data": {
      "application/vnd.jupyter.widget-view+json": {
       "model_id": "89b2590c19a74098846a0249e7670633",
       "version_major": 2,
       "version_minor": 0
      },
      "text/plain": [
       "Obteniendo productos:   0%|          | 0/1 [00:00<?, ?it/s]"
      ]
     },
     "metadata": {},
     "output_type": "display_data"
    },
    {
     "name": "stdout",
     "output_type": "stream",
     "text": [
      "Estamos en la página https://skinsort.com/products/products-for-dry-skin/page/59\n"
     ]
    },
    {
     "data": {
      "application/vnd.jupyter.widget-view+json": {
       "model_id": "32bd46867f2342f58b459ffa23070a58",
       "version_major": 2,
       "version_minor": 0
      },
      "text/plain": [
       "Obteniendo productos:   0%|          | 0/1 [00:00<?, ?it/s]"
      ]
     },
     "metadata": {},
     "output_type": "display_data"
    },
    {
     "name": "stdout",
     "output_type": "stream",
     "text": [
      "Estamos en la página https://skinsort.com/products/products-for-dry-skin/page/60\n"
     ]
    },
    {
     "data": {
      "application/vnd.jupyter.widget-view+json": {
       "model_id": "187d62f65dc24bbc8aab834cfe3e216a",
       "version_major": 2,
       "version_minor": 0
      },
      "text/plain": [
       "Obteniendo productos:   0%|          | 0/1 [00:00<?, ?it/s]"
      ]
     },
     "metadata": {},
     "output_type": "display_data"
    },
    {
     "name": "stdout",
     "output_type": "stream",
     "text": [
      "Estamos en la página https://skinsort.com/products/products-for-dry-skin/page/60\n"
     ]
    },
    {
     "data": {
      "application/vnd.jupyter.widget-view+json": {
       "model_id": "9619a2f32a1e4b5085666cbd29b2994a",
       "version_major": 2,
       "version_minor": 0
      },
      "text/plain": [
       "Obteniendo productos:   0%|          | 0/1 [00:00<?, ?it/s]"
      ]
     },
     "metadata": {},
     "output_type": "display_data"
    },
    {
     "name": "stdout",
     "output_type": "stream",
     "text": [
      "Estamos en la página https://skinsort.com/products/products-for-dry-skin/page/60\n"
     ]
    }
   ],
   "source": [
    "def scrap(url):\n",
    "    PATH = ChromeDriverManager().install()    \n",
    "    driver = webdriver.Chrome(PATH)\n",
    "    driver.get(url)\n",
    "\n",
    "    try:\n",
    "        cookies = driver.find_element(By.XPATH, '//*[@id=\"site-body\"]/div[2]/div/div[2]/div[3]/div/div[2]')\n",
    "        cookies.click()\n",
    "        time.sleep(1.5)\n",
    "\n",
    "        Type = []\n",
    "        tipos = driver.find_elements(By.XPATH, '//*[@id=\"products-table\"]/div[6]/div/div/div[2]/div/div[1]/p')\n",
    "        for producto in tqdm(tipos, desc='Obteniendo productos'):\n",
    "            Type.append(producto.text.split('\\n'))\n",
    "\n",
    "        print(f'Estamos en la página {driver.current_url}') \n",
    "        \n",
    "        Brand=[]\n",
    "        marca = driver.find_elements(By.XPATH, '//*[@id=\"products-table\"]/div[6]/div/div/div[2]/div/div[2]/h2/span[1]/a')\n",
    "        for producto in tqdm(marca, desc='Obteniendo productos'):\n",
    "            Brand.append(producto.text.split('\\n'))\n",
    "\n",
    "        print(f'Estamos en la página {driver.current_url}') \n",
    "              \n",
    "        Name=[]\n",
    "        name = driver.find_elements(By.XPATH, '//*[@id=\"products-table\"]/div[6]/div/div/div[2]/div/div[2]/h2/span[2]/a')\n",
    "        for producto in tqdm(name, desc='Obteniendo productos'):\n",
    "            Name.append(producto.text.split('\\n'))\n",
    "            \n",
    "        print(f'Estamos en la página {driver.current_url}') \n",
    "\n",
    "        return Type, Brand, Name\n",
    "\n",
    "    except:\n",
    "        print('Error al obtener los datos.')\n",
    "        return []\n",
    "        \n",
    "    finally:\n",
    "        driver.quit()\n",
    "\n",
    "dry = {}\n",
    "for i in range(1, 61):\n",
    "    url = f'https://skinsort.com/products/products-for-dry-skin/page/{i}'\n",
    "    data = scrap(url)\n",
    "    dict1[url] = data\n"
   ]
  },
  {
   "cell_type": "code",
   "execution_count": 85,
   "id": "679fd0d4",
   "metadata": {},
   "outputs": [],
   "source": [
    "import json\n",
    "\n",
    "with open('dry.json', 'w') as file:\n",
    "    json.dump(dict1, file)\n"
   ]
  },
  {
   "cell_type": "markdown",
   "id": "9d6de1c8",
   "metadata": {},
   "source": [
    "## OIL"
   ]
  },
  {
   "cell_type": "code",
   "execution_count": 88,
   "id": "c3309353",
   "metadata": {},
   "outputs": [
    {
     "name": "stderr",
     "output_type": "stream",
     "text": [
      "2023-03-09 21:14:35,394 [88601] WARNING  py.warnings:109: [JupyterRequire] /tmp/ipykernel_88601/3295202771.py:3: DeprecationWarning: executable_path has been deprecated, please pass in a Service object\n",
      "  driver = webdriver.Chrome(PATH)\n",
      "\n"
     ]
    },
    {
     "data": {
      "application/vnd.jupyter.widget-view+json": {
       "model_id": "7c73deb9f70b42b39c4d406e6cda5448",
       "version_major": 2,
       "version_minor": 0
      },
      "text/plain": [
       "Obteniendo productos:   0%|          | 0/1 [00:00<?, ?it/s]"
      ]
     },
     "metadata": {},
     "output_type": "display_data"
    },
    {
     "name": "stdout",
     "output_type": "stream",
     "text": [
      "Estamos en la página https://skinsort.com/products/products-for-oily-skin/page/1\n"
     ]
    },
    {
     "data": {
      "application/vnd.jupyter.widget-view+json": {
       "model_id": "7dd3d6588e144c40841823f0fd5d418f",
       "version_major": 2,
       "version_minor": 0
      },
      "text/plain": [
       "Obteniendo productos:   0%|          | 0/1 [00:00<?, ?it/s]"
      ]
     },
     "metadata": {},
     "output_type": "display_data"
    },
    {
     "name": "stdout",
     "output_type": "stream",
     "text": [
      "Estamos en la página https://skinsort.com/products/products-for-oily-skin/page/1\n"
     ]
    },
    {
     "data": {
      "application/vnd.jupyter.widget-view+json": {
       "model_id": "a92b0045aaf0425699d41e7157db9867",
       "version_major": 2,
       "version_minor": 0
      },
      "text/plain": [
       "Obteniendo productos:   0%|          | 0/1 [00:00<?, ?it/s]"
      ]
     },
     "metadata": {},
     "output_type": "display_data"
    },
    {
     "name": "stdout",
     "output_type": "stream",
     "text": [
      "Estamos en la página https://skinsort.com/products/products-for-oily-skin/page/1\n"
     ]
    },
    {
     "data": {
      "application/vnd.jupyter.widget-view+json": {
       "model_id": "c6864b4682ce4e9c8af9ce72e96e679c",
       "version_major": 2,
       "version_minor": 0
      },
      "text/plain": [
       "Obteniendo productos:   0%|          | 0/1 [00:00<?, ?it/s]"
      ]
     },
     "metadata": {},
     "output_type": "display_data"
    },
    {
     "name": "stdout",
     "output_type": "stream",
     "text": [
      "Estamos en la página https://skinsort.com/products/products-for-oily-skin/page/2\n"
     ]
    },
    {
     "data": {
      "application/vnd.jupyter.widget-view+json": {
       "model_id": "e67f39102456475daf4711401101854f",
       "version_major": 2,
       "version_minor": 0
      },
      "text/plain": [
       "Obteniendo productos:   0%|          | 0/1 [00:00<?, ?it/s]"
      ]
     },
     "metadata": {},
     "output_type": "display_data"
    },
    {
     "name": "stdout",
     "output_type": "stream",
     "text": [
      "Estamos en la página https://skinsort.com/products/products-for-oily-skin/page/2\n"
     ]
    },
    {
     "data": {
      "application/vnd.jupyter.widget-view+json": {
       "model_id": "a323f86d9a3b4385b6d9364b4b719c8d",
       "version_major": 2,
       "version_minor": 0
      },
      "text/plain": [
       "Obteniendo productos:   0%|          | 0/1 [00:00<?, ?it/s]"
      ]
     },
     "metadata": {},
     "output_type": "display_data"
    },
    {
     "name": "stdout",
     "output_type": "stream",
     "text": [
      "Estamos en la página https://skinsort.com/products/products-for-oily-skin/page/2\n"
     ]
    },
    {
     "data": {
      "application/vnd.jupyter.widget-view+json": {
       "model_id": "bd7fcb0508bd4f36b5d8f2fc629185d9",
       "version_major": 2,
       "version_minor": 0
      },
      "text/plain": [
       "Obteniendo productos:   0%|          | 0/1 [00:00<?, ?it/s]"
      ]
     },
     "metadata": {},
     "output_type": "display_data"
    },
    {
     "name": "stdout",
     "output_type": "stream",
     "text": [
      "Estamos en la página https://skinsort.com/products/products-for-oily-skin/page/3\n"
     ]
    },
    {
     "data": {
      "application/vnd.jupyter.widget-view+json": {
       "model_id": "46003daf64fc40ff88dfec7f4378ef5d",
       "version_major": 2,
       "version_minor": 0
      },
      "text/plain": [
       "Obteniendo productos:   0%|          | 0/1 [00:00<?, ?it/s]"
      ]
     },
     "metadata": {},
     "output_type": "display_data"
    },
    {
     "name": "stdout",
     "output_type": "stream",
     "text": [
      "Estamos en la página https://skinsort.com/products/products-for-oily-skin/page/3\n"
     ]
    },
    {
     "data": {
      "application/vnd.jupyter.widget-view+json": {
       "model_id": "f2d4ed6733d64818b98ce0750246ab85",
       "version_major": 2,
       "version_minor": 0
      },
      "text/plain": [
       "Obteniendo productos:   0%|          | 0/1 [00:00<?, ?it/s]"
      ]
     },
     "metadata": {},
     "output_type": "display_data"
    },
    {
     "name": "stdout",
     "output_type": "stream",
     "text": [
      "Estamos en la página https://skinsort.com/products/products-for-oily-skin/page/3\n"
     ]
    },
    {
     "data": {
      "application/vnd.jupyter.widget-view+json": {
       "model_id": "19bf86b97f33421cb1c2595f94ef4100",
       "version_major": 2,
       "version_minor": 0
      },
      "text/plain": [
       "Obteniendo productos:   0%|          | 0/1 [00:00<?, ?it/s]"
      ]
     },
     "metadata": {},
     "output_type": "display_data"
    },
    {
     "name": "stdout",
     "output_type": "stream",
     "text": [
      "Estamos en la página https://skinsort.com/products/products-for-oily-skin/page/4\n"
     ]
    },
    {
     "data": {
      "application/vnd.jupyter.widget-view+json": {
       "model_id": "9bf733a3bed2421f8a7d70e9c0b3589e",
       "version_major": 2,
       "version_minor": 0
      },
      "text/plain": [
       "Obteniendo productos:   0%|          | 0/1 [00:00<?, ?it/s]"
      ]
     },
     "metadata": {},
     "output_type": "display_data"
    },
    {
     "name": "stdout",
     "output_type": "stream",
     "text": [
      "Estamos en la página https://skinsort.com/products/products-for-oily-skin/page/4\n"
     ]
    },
    {
     "data": {
      "application/vnd.jupyter.widget-view+json": {
       "model_id": "68d6548cf46143af83787a1b4794e8b9",
       "version_major": 2,
       "version_minor": 0
      },
      "text/plain": [
       "Obteniendo productos:   0%|          | 0/1 [00:00<?, ?it/s]"
      ]
     },
     "metadata": {},
     "output_type": "display_data"
    },
    {
     "name": "stdout",
     "output_type": "stream",
     "text": [
      "Estamos en la página https://skinsort.com/products/products-for-oily-skin/page/4\n"
     ]
    },
    {
     "data": {
      "application/vnd.jupyter.widget-view+json": {
       "model_id": "4a528cafcbf14579bfb18ebb35752b64",
       "version_major": 2,
       "version_minor": 0
      },
      "text/plain": [
       "Obteniendo productos:   0%|          | 0/1 [00:00<?, ?it/s]"
      ]
     },
     "metadata": {},
     "output_type": "display_data"
    },
    {
     "name": "stdout",
     "output_type": "stream",
     "text": [
      "Estamos en la página https://skinsort.com/products/products-for-oily-skin/page/5\n"
     ]
    },
    {
     "data": {
      "application/vnd.jupyter.widget-view+json": {
       "model_id": "b773db920167407cb3aad1785f2c8d13",
       "version_major": 2,
       "version_minor": 0
      },
      "text/plain": [
       "Obteniendo productos:   0%|          | 0/1 [00:00<?, ?it/s]"
      ]
     },
     "metadata": {},
     "output_type": "display_data"
    },
    {
     "name": "stdout",
     "output_type": "stream",
     "text": [
      "Estamos en la página https://skinsort.com/products/products-for-oily-skin/page/5\n"
     ]
    },
    {
     "data": {
      "application/vnd.jupyter.widget-view+json": {
       "model_id": "c23aff7fcd524c268bc3032da268b194",
       "version_major": 2,
       "version_minor": 0
      },
      "text/plain": [
       "Obteniendo productos:   0%|          | 0/1 [00:00<?, ?it/s]"
      ]
     },
     "metadata": {},
     "output_type": "display_data"
    },
    {
     "name": "stdout",
     "output_type": "stream",
     "text": [
      "Estamos en la página https://skinsort.com/products/products-for-oily-skin/page/5\n"
     ]
    },
    {
     "data": {
      "application/vnd.jupyter.widget-view+json": {
       "model_id": "c4c815ed66864ca6bf5a13fae2a14fc9",
       "version_major": 2,
       "version_minor": 0
      },
      "text/plain": [
       "Obteniendo productos:   0%|          | 0/1 [00:00<?, ?it/s]"
      ]
     },
     "metadata": {},
     "output_type": "display_data"
    },
    {
     "name": "stdout",
     "output_type": "stream",
     "text": [
      "Estamos en la página https://skinsort.com/products/products-for-oily-skin/page/6\n"
     ]
    },
    {
     "data": {
      "application/vnd.jupyter.widget-view+json": {
       "model_id": "7c4dc7a60cc84664a5c759a55d9ce223",
       "version_major": 2,
       "version_minor": 0
      },
      "text/plain": [
       "Obteniendo productos:   0%|          | 0/1 [00:00<?, ?it/s]"
      ]
     },
     "metadata": {},
     "output_type": "display_data"
    },
    {
     "name": "stdout",
     "output_type": "stream",
     "text": [
      "Estamos en la página https://skinsort.com/products/products-for-oily-skin/page/6\n"
     ]
    },
    {
     "data": {
      "application/vnd.jupyter.widget-view+json": {
       "model_id": "2501e8c0104e4cb7a4153a28b43de74a",
       "version_major": 2,
       "version_minor": 0
      },
      "text/plain": [
       "Obteniendo productos:   0%|          | 0/1 [00:00<?, ?it/s]"
      ]
     },
     "metadata": {},
     "output_type": "display_data"
    },
    {
     "name": "stdout",
     "output_type": "stream",
     "text": [
      "Estamos en la página https://skinsort.com/products/products-for-oily-skin/page/6\n"
     ]
    },
    {
     "data": {
      "application/vnd.jupyter.widget-view+json": {
       "model_id": "6661f763942c4e88aa35f795001417cd",
       "version_major": 2,
       "version_minor": 0
      },
      "text/plain": [
       "Obteniendo productos:   0%|          | 0/1 [00:00<?, ?it/s]"
      ]
     },
     "metadata": {},
     "output_type": "display_data"
    },
    {
     "name": "stdout",
     "output_type": "stream",
     "text": [
      "Estamos en la página https://skinsort.com/products/products-for-oily-skin/page/7\n"
     ]
    },
    {
     "data": {
      "application/vnd.jupyter.widget-view+json": {
       "model_id": "4dfa5e774ee94ec5ad6df0d8b25cb7d3",
       "version_major": 2,
       "version_minor": 0
      },
      "text/plain": [
       "Obteniendo productos:   0%|          | 0/1 [00:00<?, ?it/s]"
      ]
     },
     "metadata": {},
     "output_type": "display_data"
    },
    {
     "name": "stdout",
     "output_type": "stream",
     "text": [
      "Estamos en la página https://skinsort.com/products/products-for-oily-skin/page/7\n"
     ]
    },
    {
     "data": {
      "application/vnd.jupyter.widget-view+json": {
       "model_id": "06c724e8dafe4164a340e7d59a2eee66",
       "version_major": 2,
       "version_minor": 0
      },
      "text/plain": [
       "Obteniendo productos:   0%|          | 0/1 [00:00<?, ?it/s]"
      ]
     },
     "metadata": {},
     "output_type": "display_data"
    },
    {
     "name": "stdout",
     "output_type": "stream",
     "text": [
      "Estamos en la página https://skinsort.com/products/products-for-oily-skin/page/7\n"
     ]
    },
    {
     "data": {
      "application/vnd.jupyter.widget-view+json": {
       "model_id": "befcd17f63ca473ebe23ffc381d11bcc",
       "version_major": 2,
       "version_minor": 0
      },
      "text/plain": [
       "Obteniendo productos:   0%|          | 0/1 [00:00<?, ?it/s]"
      ]
     },
     "metadata": {},
     "output_type": "display_data"
    },
    {
     "name": "stdout",
     "output_type": "stream",
     "text": [
      "Estamos en la página https://skinsort.com/products/products-for-oily-skin/page/8\n"
     ]
    },
    {
     "data": {
      "application/vnd.jupyter.widget-view+json": {
       "model_id": "d9d552c9d7c3493f933068e3bcc95deb",
       "version_major": 2,
       "version_minor": 0
      },
      "text/plain": [
       "Obteniendo productos:   0%|          | 0/1 [00:00<?, ?it/s]"
      ]
     },
     "metadata": {},
     "output_type": "display_data"
    },
    {
     "name": "stdout",
     "output_type": "stream",
     "text": [
      "Estamos en la página https://skinsort.com/products/products-for-oily-skin/page/8\n"
     ]
    },
    {
     "data": {
      "application/vnd.jupyter.widget-view+json": {
       "model_id": "58540ddac2e945298877e9c0f80025ed",
       "version_major": 2,
       "version_minor": 0
      },
      "text/plain": [
       "Obteniendo productos:   0%|          | 0/1 [00:00<?, ?it/s]"
      ]
     },
     "metadata": {},
     "output_type": "display_data"
    },
    {
     "name": "stdout",
     "output_type": "stream",
     "text": [
      "Estamos en la página https://skinsort.com/products/products-for-oily-skin/page/8\n"
     ]
    },
    {
     "data": {
      "application/vnd.jupyter.widget-view+json": {
       "model_id": "6f97622886ae485eb3e3238dcf663076",
       "version_major": 2,
       "version_minor": 0
      },
      "text/plain": [
       "Obteniendo productos:   0%|          | 0/1 [00:00<?, ?it/s]"
      ]
     },
     "metadata": {},
     "output_type": "display_data"
    },
    {
     "name": "stdout",
     "output_type": "stream",
     "text": [
      "Estamos en la página https://skinsort.com/products/products-for-oily-skin/page/9\n"
     ]
    },
    {
     "data": {
      "application/vnd.jupyter.widget-view+json": {
       "model_id": "9467431bc90a4283a1bc4adce8a935ba",
       "version_major": 2,
       "version_minor": 0
      },
      "text/plain": [
       "Obteniendo productos:   0%|          | 0/1 [00:00<?, ?it/s]"
      ]
     },
     "metadata": {},
     "output_type": "display_data"
    },
    {
     "name": "stdout",
     "output_type": "stream",
     "text": [
      "Estamos en la página https://skinsort.com/products/products-for-oily-skin/page/9\n"
     ]
    },
    {
     "data": {
      "application/vnd.jupyter.widget-view+json": {
       "model_id": "2404aed01cac4f07a2af7f63f533b7fc",
       "version_major": 2,
       "version_minor": 0
      },
      "text/plain": [
       "Obteniendo productos:   0%|          | 0/1 [00:00<?, ?it/s]"
      ]
     },
     "metadata": {},
     "output_type": "display_data"
    },
    {
     "name": "stdout",
     "output_type": "stream",
     "text": [
      "Estamos en la página https://skinsort.com/products/products-for-oily-skin/page/9\n"
     ]
    },
    {
     "data": {
      "application/vnd.jupyter.widget-view+json": {
       "model_id": "54f1c75af16142629e89866720225fff",
       "version_major": 2,
       "version_minor": 0
      },
      "text/plain": [
       "Obteniendo productos:   0%|          | 0/1 [00:00<?, ?it/s]"
      ]
     },
     "metadata": {},
     "output_type": "display_data"
    },
    {
     "name": "stdout",
     "output_type": "stream",
     "text": [
      "Estamos en la página https://skinsort.com/products/products-for-oily-skin/page/10\n"
     ]
    },
    {
     "data": {
      "application/vnd.jupyter.widget-view+json": {
       "model_id": "b6f384b9e8ca4bb19538a78de4f32a3c",
       "version_major": 2,
       "version_minor": 0
      },
      "text/plain": [
       "Obteniendo productos:   0%|          | 0/1 [00:00<?, ?it/s]"
      ]
     },
     "metadata": {},
     "output_type": "display_data"
    },
    {
     "name": "stdout",
     "output_type": "stream",
     "text": [
      "Estamos en la página https://skinsort.com/products/products-for-oily-skin/page/10\n"
     ]
    },
    {
     "data": {
      "application/vnd.jupyter.widget-view+json": {
       "model_id": "7e7613dbf71e4837b87ba52889eef6de",
       "version_major": 2,
       "version_minor": 0
      },
      "text/plain": [
       "Obteniendo productos:   0%|          | 0/1 [00:00<?, ?it/s]"
      ]
     },
     "metadata": {},
     "output_type": "display_data"
    },
    {
     "name": "stdout",
     "output_type": "stream",
     "text": [
      "Estamos en la página https://skinsort.com/products/products-for-oily-skin/page/10\n"
     ]
    },
    {
     "data": {
      "application/vnd.jupyter.widget-view+json": {
       "model_id": "50c1cf8914cf45289fe3b240ccdbdd3b",
       "version_major": 2,
       "version_minor": 0
      },
      "text/plain": [
       "Obteniendo productos:   0%|          | 0/1 [00:00<?, ?it/s]"
      ]
     },
     "metadata": {},
     "output_type": "display_data"
    },
    {
     "name": "stdout",
     "output_type": "stream",
     "text": [
      "Estamos en la página https://skinsort.com/products/products-for-oily-skin/page/11\n"
     ]
    },
    {
     "data": {
      "application/vnd.jupyter.widget-view+json": {
       "model_id": "20549c6474d5496490ed12ec39b1bb99",
       "version_major": 2,
       "version_minor": 0
      },
      "text/plain": [
       "Obteniendo productos:   0%|          | 0/1 [00:00<?, ?it/s]"
      ]
     },
     "metadata": {},
     "output_type": "display_data"
    },
    {
     "name": "stdout",
     "output_type": "stream",
     "text": [
      "Estamos en la página https://skinsort.com/products/products-for-oily-skin/page/11\n"
     ]
    },
    {
     "data": {
      "application/vnd.jupyter.widget-view+json": {
       "model_id": "35bdf1526e47495ea7ee144bfe5f13ac",
       "version_major": 2,
       "version_minor": 0
      },
      "text/plain": [
       "Obteniendo productos:   0%|          | 0/1 [00:00<?, ?it/s]"
      ]
     },
     "metadata": {},
     "output_type": "display_data"
    },
    {
     "name": "stdout",
     "output_type": "stream",
     "text": [
      "Estamos en la página https://skinsort.com/products/products-for-oily-skin/page/11\n"
     ]
    },
    {
     "data": {
      "application/vnd.jupyter.widget-view+json": {
       "model_id": "2226de77c75e4c1dba7c4489e768929c",
       "version_major": 2,
       "version_minor": 0
      },
      "text/plain": [
       "Obteniendo productos:   0%|          | 0/1 [00:00<?, ?it/s]"
      ]
     },
     "metadata": {},
     "output_type": "display_data"
    },
    {
     "name": "stdout",
     "output_type": "stream",
     "text": [
      "Estamos en la página https://skinsort.com/products/products-for-oily-skin/page/12\n"
     ]
    },
    {
     "data": {
      "application/vnd.jupyter.widget-view+json": {
       "model_id": "0026514a26e44d4ea588e79204edd1ce",
       "version_major": 2,
       "version_minor": 0
      },
      "text/plain": [
       "Obteniendo productos:   0%|          | 0/1 [00:00<?, ?it/s]"
      ]
     },
     "metadata": {},
     "output_type": "display_data"
    },
    {
     "name": "stdout",
     "output_type": "stream",
     "text": [
      "Estamos en la página https://skinsort.com/products/products-for-oily-skin/page/12\n"
     ]
    },
    {
     "data": {
      "application/vnd.jupyter.widget-view+json": {
       "model_id": "ac1d943060d641778d75858fa6050247",
       "version_major": 2,
       "version_minor": 0
      },
      "text/plain": [
       "Obteniendo productos:   0%|          | 0/1 [00:00<?, ?it/s]"
      ]
     },
     "metadata": {},
     "output_type": "display_data"
    },
    {
     "name": "stdout",
     "output_type": "stream",
     "text": [
      "Estamos en la página https://skinsort.com/products/products-for-oily-skin/page/12\n"
     ]
    },
    {
     "data": {
      "application/vnd.jupyter.widget-view+json": {
       "model_id": "e59a85c691874c95bb29ec161aae9c08",
       "version_major": 2,
       "version_minor": 0
      },
      "text/plain": [
       "Obteniendo productos:   0%|          | 0/1 [00:00<?, ?it/s]"
      ]
     },
     "metadata": {},
     "output_type": "display_data"
    },
    {
     "name": "stdout",
     "output_type": "stream",
     "text": [
      "Estamos en la página https://skinsort.com/products/products-for-oily-skin/page/13\n"
     ]
    },
    {
     "data": {
      "application/vnd.jupyter.widget-view+json": {
       "model_id": "83a665ec91bc4ad4bebbb03578221e24",
       "version_major": 2,
       "version_minor": 0
      },
      "text/plain": [
       "Obteniendo productos:   0%|          | 0/1 [00:00<?, ?it/s]"
      ]
     },
     "metadata": {},
     "output_type": "display_data"
    },
    {
     "name": "stdout",
     "output_type": "stream",
     "text": [
      "Estamos en la página https://skinsort.com/products/products-for-oily-skin/page/13\n"
     ]
    },
    {
     "data": {
      "application/vnd.jupyter.widget-view+json": {
       "model_id": "6a1ff50a62234192ad29f24883565a96",
       "version_major": 2,
       "version_minor": 0
      },
      "text/plain": [
       "Obteniendo productos:   0%|          | 0/1 [00:00<?, ?it/s]"
      ]
     },
     "metadata": {},
     "output_type": "display_data"
    },
    {
     "name": "stdout",
     "output_type": "stream",
     "text": [
      "Estamos en la página https://skinsort.com/products/products-for-oily-skin/page/13\n"
     ]
    },
    {
     "data": {
      "application/vnd.jupyter.widget-view+json": {
       "model_id": "891ee175529a413d8a603fe5ceef8dcc",
       "version_major": 2,
       "version_minor": 0
      },
      "text/plain": [
       "Obteniendo productos:   0%|          | 0/1 [00:00<?, ?it/s]"
      ]
     },
     "metadata": {},
     "output_type": "display_data"
    },
    {
     "name": "stdout",
     "output_type": "stream",
     "text": [
      "Estamos en la página https://skinsort.com/products/products-for-oily-skin/page/14\n"
     ]
    },
    {
     "data": {
      "application/vnd.jupyter.widget-view+json": {
       "model_id": "82bbe294afc140c5a8bb67e473e59d74",
       "version_major": 2,
       "version_minor": 0
      },
      "text/plain": [
       "Obteniendo productos:   0%|          | 0/1 [00:00<?, ?it/s]"
      ]
     },
     "metadata": {},
     "output_type": "display_data"
    },
    {
     "name": "stdout",
     "output_type": "stream",
     "text": [
      "Estamos en la página https://skinsort.com/products/products-for-oily-skin/page/14\n"
     ]
    },
    {
     "data": {
      "application/vnd.jupyter.widget-view+json": {
       "model_id": "ac436805d2c84cfc9a2d58e39331d004",
       "version_major": 2,
       "version_minor": 0
      },
      "text/plain": [
       "Obteniendo productos:   0%|          | 0/1 [00:00<?, ?it/s]"
      ]
     },
     "metadata": {},
     "output_type": "display_data"
    },
    {
     "name": "stdout",
     "output_type": "stream",
     "text": [
      "Estamos en la página https://skinsort.com/products/products-for-oily-skin/page/14\n"
     ]
    },
    {
     "data": {
      "application/vnd.jupyter.widget-view+json": {
       "model_id": "28061b1c849e435fbca79740df9760a7",
       "version_major": 2,
       "version_minor": 0
      },
      "text/plain": [
       "Obteniendo productos:   0%|          | 0/1 [00:00<?, ?it/s]"
      ]
     },
     "metadata": {},
     "output_type": "display_data"
    },
    {
     "name": "stdout",
     "output_type": "stream",
     "text": [
      "Estamos en la página https://skinsort.com/products/products-for-oily-skin/page/15\n"
     ]
    },
    {
     "data": {
      "application/vnd.jupyter.widget-view+json": {
       "model_id": "6c1ccb5f43b2484aa3f34ff8692c7906",
       "version_major": 2,
       "version_minor": 0
      },
      "text/plain": [
       "Obteniendo productos:   0%|          | 0/1 [00:00<?, ?it/s]"
      ]
     },
     "metadata": {},
     "output_type": "display_data"
    },
    {
     "name": "stdout",
     "output_type": "stream",
     "text": [
      "Estamos en la página https://skinsort.com/products/products-for-oily-skin/page/15\n"
     ]
    },
    {
     "data": {
      "application/vnd.jupyter.widget-view+json": {
       "model_id": "6ceb852ebacb456690e350d7776d536e",
       "version_major": 2,
       "version_minor": 0
      },
      "text/plain": [
       "Obteniendo productos:   0%|          | 0/1 [00:00<?, ?it/s]"
      ]
     },
     "metadata": {},
     "output_type": "display_data"
    },
    {
     "name": "stdout",
     "output_type": "stream",
     "text": [
      "Estamos en la página https://skinsort.com/products/products-for-oily-skin/page/15\n"
     ]
    },
    {
     "data": {
      "application/vnd.jupyter.widget-view+json": {
       "model_id": "e5622677a7324115bf659c3c2694d1f2",
       "version_major": 2,
       "version_minor": 0
      },
      "text/plain": [
       "Obteniendo productos:   0%|          | 0/1 [00:00<?, ?it/s]"
      ]
     },
     "metadata": {},
     "output_type": "display_data"
    },
    {
     "name": "stdout",
     "output_type": "stream",
     "text": [
      "Estamos en la página https://skinsort.com/products/products-for-oily-skin/page/16\n"
     ]
    },
    {
     "data": {
      "application/vnd.jupyter.widget-view+json": {
       "model_id": "cc41e1b4311c4c9cb302414c9033cd2c",
       "version_major": 2,
       "version_minor": 0
      },
      "text/plain": [
       "Obteniendo productos:   0%|          | 0/1 [00:00<?, ?it/s]"
      ]
     },
     "metadata": {},
     "output_type": "display_data"
    },
    {
     "name": "stdout",
     "output_type": "stream",
     "text": [
      "Estamos en la página https://skinsort.com/products/products-for-oily-skin/page/16\n"
     ]
    },
    {
     "data": {
      "application/vnd.jupyter.widget-view+json": {
       "model_id": "97930098d36c4f049a4ec8c39dd32256",
       "version_major": 2,
       "version_minor": 0
      },
      "text/plain": [
       "Obteniendo productos:   0%|          | 0/1 [00:00<?, ?it/s]"
      ]
     },
     "metadata": {},
     "output_type": "display_data"
    },
    {
     "name": "stdout",
     "output_type": "stream",
     "text": [
      "Estamos en la página https://skinsort.com/products/products-for-oily-skin/page/16\n"
     ]
    },
    {
     "data": {
      "application/vnd.jupyter.widget-view+json": {
       "model_id": "6af53da346784335aefa099d9eb95100",
       "version_major": 2,
       "version_minor": 0
      },
      "text/plain": [
       "Obteniendo productos:   0%|          | 0/1 [00:00<?, ?it/s]"
      ]
     },
     "metadata": {},
     "output_type": "display_data"
    },
    {
     "name": "stdout",
     "output_type": "stream",
     "text": [
      "Estamos en la página https://skinsort.com/products/products-for-oily-skin/page/17\n"
     ]
    },
    {
     "data": {
      "application/vnd.jupyter.widget-view+json": {
       "model_id": "2f8c782056054100802c5b04e37b1466",
       "version_major": 2,
       "version_minor": 0
      },
      "text/plain": [
       "Obteniendo productos:   0%|          | 0/1 [00:00<?, ?it/s]"
      ]
     },
     "metadata": {},
     "output_type": "display_data"
    },
    {
     "name": "stdout",
     "output_type": "stream",
     "text": [
      "Estamos en la página https://skinsort.com/products/products-for-oily-skin/page/17\n"
     ]
    },
    {
     "data": {
      "application/vnd.jupyter.widget-view+json": {
       "model_id": "5df1aab0b16b43b69048e5f654480904",
       "version_major": 2,
       "version_minor": 0
      },
      "text/plain": [
       "Obteniendo productos:   0%|          | 0/1 [00:00<?, ?it/s]"
      ]
     },
     "metadata": {},
     "output_type": "display_data"
    },
    {
     "name": "stdout",
     "output_type": "stream",
     "text": [
      "Estamos en la página https://skinsort.com/products/products-for-oily-skin/page/17\n"
     ]
    },
    {
     "data": {
      "application/vnd.jupyter.widget-view+json": {
       "model_id": "7469e6bacf704eb39376fdd8876a2d91",
       "version_major": 2,
       "version_minor": 0
      },
      "text/plain": [
       "Obteniendo productos:   0%|          | 0/1 [00:00<?, ?it/s]"
      ]
     },
     "metadata": {},
     "output_type": "display_data"
    },
    {
     "name": "stdout",
     "output_type": "stream",
     "text": [
      "Estamos en la página https://skinsort.com/products/products-for-oily-skin/page/18\n"
     ]
    },
    {
     "data": {
      "application/vnd.jupyter.widget-view+json": {
       "model_id": "2914bd8f3f504fe6b53ce86a9d48910d",
       "version_major": 2,
       "version_minor": 0
      },
      "text/plain": [
       "Obteniendo productos:   0%|          | 0/1 [00:00<?, ?it/s]"
      ]
     },
     "metadata": {},
     "output_type": "display_data"
    },
    {
     "name": "stdout",
     "output_type": "stream",
     "text": [
      "Estamos en la página https://skinsort.com/products/products-for-oily-skin/page/18\n"
     ]
    },
    {
     "data": {
      "application/vnd.jupyter.widget-view+json": {
       "model_id": "cdb24ee7f5d044a5a460d5f2e982c114",
       "version_major": 2,
       "version_minor": 0
      },
      "text/plain": [
       "Obteniendo productos:   0%|          | 0/1 [00:00<?, ?it/s]"
      ]
     },
     "metadata": {},
     "output_type": "display_data"
    },
    {
     "name": "stdout",
     "output_type": "stream",
     "text": [
      "Estamos en la página https://skinsort.com/products/products-for-oily-skin/page/18\n"
     ]
    },
    {
     "data": {
      "application/vnd.jupyter.widget-view+json": {
       "model_id": "8e23e40529a44f3dac84073292cb1cf9",
       "version_major": 2,
       "version_minor": 0
      },
      "text/plain": [
       "Obteniendo productos:   0%|          | 0/1 [00:00<?, ?it/s]"
      ]
     },
     "metadata": {},
     "output_type": "display_data"
    },
    {
     "name": "stdout",
     "output_type": "stream",
     "text": [
      "Estamos en la página https://skinsort.com/products/products-for-oily-skin/page/19\n"
     ]
    },
    {
     "data": {
      "application/vnd.jupyter.widget-view+json": {
       "model_id": "4f1654b3f39d4c7589d8f5b5be86868f",
       "version_major": 2,
       "version_minor": 0
      },
      "text/plain": [
       "Obteniendo productos:   0%|          | 0/1 [00:00<?, ?it/s]"
      ]
     },
     "metadata": {},
     "output_type": "display_data"
    },
    {
     "name": "stdout",
     "output_type": "stream",
     "text": [
      "Estamos en la página https://skinsort.com/products/products-for-oily-skin/page/19\n"
     ]
    },
    {
     "data": {
      "application/vnd.jupyter.widget-view+json": {
       "model_id": "3314f2314d6c4b8fb26125c54f73fcbb",
       "version_major": 2,
       "version_minor": 0
      },
      "text/plain": [
       "Obteniendo productos:   0%|          | 0/1 [00:00<?, ?it/s]"
      ]
     },
     "metadata": {},
     "output_type": "display_data"
    },
    {
     "name": "stdout",
     "output_type": "stream",
     "text": [
      "Estamos en la página https://skinsort.com/products/products-for-oily-skin/page/19\n"
     ]
    },
    {
     "data": {
      "application/vnd.jupyter.widget-view+json": {
       "model_id": "f4880eb9a07c4c7586ef908a8610caea",
       "version_major": 2,
       "version_minor": 0
      },
      "text/plain": [
       "Obteniendo productos:   0%|          | 0/1 [00:00<?, ?it/s]"
      ]
     },
     "metadata": {},
     "output_type": "display_data"
    },
    {
     "name": "stdout",
     "output_type": "stream",
     "text": [
      "Estamos en la página https://skinsort.com/products/products-for-oily-skin/page/20\n"
     ]
    },
    {
     "data": {
      "application/vnd.jupyter.widget-view+json": {
       "model_id": "f8f1ad39f1a8453ab8cfa7f812659758",
       "version_major": 2,
       "version_minor": 0
      },
      "text/plain": [
       "Obteniendo productos:   0%|          | 0/1 [00:00<?, ?it/s]"
      ]
     },
     "metadata": {},
     "output_type": "display_data"
    },
    {
     "name": "stdout",
     "output_type": "stream",
     "text": [
      "Estamos en la página https://skinsort.com/products/products-for-oily-skin/page/20\n"
     ]
    },
    {
     "data": {
      "application/vnd.jupyter.widget-view+json": {
       "model_id": "649f666cd03a4e0d974178e0e9eb0a4e",
       "version_major": 2,
       "version_minor": 0
      },
      "text/plain": [
       "Obteniendo productos:   0%|          | 0/1 [00:00<?, ?it/s]"
      ]
     },
     "metadata": {},
     "output_type": "display_data"
    },
    {
     "name": "stdout",
     "output_type": "stream",
     "text": [
      "Estamos en la página https://skinsort.com/products/products-for-oily-skin/page/20\n"
     ]
    },
    {
     "data": {
      "application/vnd.jupyter.widget-view+json": {
       "model_id": "f29729dbf53944199c6ef15a24c0349c",
       "version_major": 2,
       "version_minor": 0
      },
      "text/plain": [
       "Obteniendo productos:   0%|          | 0/1 [00:00<?, ?it/s]"
      ]
     },
     "metadata": {},
     "output_type": "display_data"
    },
    {
     "name": "stdout",
     "output_type": "stream",
     "text": [
      "Estamos en la página https://skinsort.com/products/products-for-oily-skin/page/21\n"
     ]
    },
    {
     "data": {
      "application/vnd.jupyter.widget-view+json": {
       "model_id": "524dc846a4064abb8f303c6c20442efa",
       "version_major": 2,
       "version_minor": 0
      },
      "text/plain": [
       "Obteniendo productos:   0%|          | 0/1 [00:00<?, ?it/s]"
      ]
     },
     "metadata": {},
     "output_type": "display_data"
    },
    {
     "name": "stdout",
     "output_type": "stream",
     "text": [
      "Estamos en la página https://skinsort.com/products/products-for-oily-skin/page/21\n"
     ]
    },
    {
     "data": {
      "application/vnd.jupyter.widget-view+json": {
       "model_id": "698363d0904941e48511722ece68f9c7",
       "version_major": 2,
       "version_minor": 0
      },
      "text/plain": [
       "Obteniendo productos:   0%|          | 0/1 [00:00<?, ?it/s]"
      ]
     },
     "metadata": {},
     "output_type": "display_data"
    },
    {
     "name": "stdout",
     "output_type": "stream",
     "text": [
      "Estamos en la página https://skinsort.com/products/products-for-oily-skin/page/21\n"
     ]
    },
    {
     "data": {
      "application/vnd.jupyter.widget-view+json": {
       "model_id": "147cae703f774274880bc013e234dfbe",
       "version_major": 2,
       "version_minor": 0
      },
      "text/plain": [
       "Obteniendo productos:   0%|          | 0/1 [00:00<?, ?it/s]"
      ]
     },
     "metadata": {},
     "output_type": "display_data"
    },
    {
     "name": "stdout",
     "output_type": "stream",
     "text": [
      "Estamos en la página https://skinsort.com/products/products-for-oily-skin/page/22\n"
     ]
    },
    {
     "data": {
      "application/vnd.jupyter.widget-view+json": {
       "model_id": "a7735d2ca1634204a9742b17388b8925",
       "version_major": 2,
       "version_minor": 0
      },
      "text/plain": [
       "Obteniendo productos:   0%|          | 0/1 [00:00<?, ?it/s]"
      ]
     },
     "metadata": {},
     "output_type": "display_data"
    },
    {
     "name": "stdout",
     "output_type": "stream",
     "text": [
      "Estamos en la página https://skinsort.com/products/products-for-oily-skin/page/22\n"
     ]
    },
    {
     "data": {
      "application/vnd.jupyter.widget-view+json": {
       "model_id": "fd91fe3888994067b9c29e0deb7f3598",
       "version_major": 2,
       "version_minor": 0
      },
      "text/plain": [
       "Obteniendo productos:   0%|          | 0/1 [00:00<?, ?it/s]"
      ]
     },
     "metadata": {},
     "output_type": "display_data"
    },
    {
     "name": "stdout",
     "output_type": "stream",
     "text": [
      "Estamos en la página https://skinsort.com/products/products-for-oily-skin/page/22\n"
     ]
    },
    {
     "data": {
      "application/vnd.jupyter.widget-view+json": {
       "model_id": "fb925a97ea244cbbad2635ecc2fbb31b",
       "version_major": 2,
       "version_minor": 0
      },
      "text/plain": [
       "Obteniendo productos:   0%|          | 0/1 [00:00<?, ?it/s]"
      ]
     },
     "metadata": {},
     "output_type": "display_data"
    },
    {
     "name": "stdout",
     "output_type": "stream",
     "text": [
      "Estamos en la página https://skinsort.com/products/products-for-oily-skin/page/23\n"
     ]
    },
    {
     "data": {
      "application/vnd.jupyter.widget-view+json": {
       "model_id": "6030ed954f64419380ead05f6dc94196",
       "version_major": 2,
       "version_minor": 0
      },
      "text/plain": [
       "Obteniendo productos:   0%|          | 0/1 [00:00<?, ?it/s]"
      ]
     },
     "metadata": {},
     "output_type": "display_data"
    },
    {
     "name": "stdout",
     "output_type": "stream",
     "text": [
      "Estamos en la página https://skinsort.com/products/products-for-oily-skin/page/23\n"
     ]
    },
    {
     "data": {
      "application/vnd.jupyter.widget-view+json": {
       "model_id": "6e5741c686674381a022ca8cda8c262c",
       "version_major": 2,
       "version_minor": 0
      },
      "text/plain": [
       "Obteniendo productos:   0%|          | 0/1 [00:00<?, ?it/s]"
      ]
     },
     "metadata": {},
     "output_type": "display_data"
    },
    {
     "name": "stdout",
     "output_type": "stream",
     "text": [
      "Estamos en la página https://skinsort.com/products/products-for-oily-skin/page/23\n"
     ]
    },
    {
     "data": {
      "application/vnd.jupyter.widget-view+json": {
       "model_id": "60c74d113e244a508f1340187708824a",
       "version_major": 2,
       "version_minor": 0
      },
      "text/plain": [
       "Obteniendo productos:   0%|          | 0/1 [00:00<?, ?it/s]"
      ]
     },
     "metadata": {},
     "output_type": "display_data"
    },
    {
     "name": "stdout",
     "output_type": "stream",
     "text": [
      "Estamos en la página https://skinsort.com/products/products-for-oily-skin/page/24\n"
     ]
    },
    {
     "data": {
      "application/vnd.jupyter.widget-view+json": {
       "model_id": "7f9f9b0db2d64b9bb1054557a2b1fab2",
       "version_major": 2,
       "version_minor": 0
      },
      "text/plain": [
       "Obteniendo productos:   0%|          | 0/1 [00:00<?, ?it/s]"
      ]
     },
     "metadata": {},
     "output_type": "display_data"
    },
    {
     "name": "stdout",
     "output_type": "stream",
     "text": [
      "Estamos en la página https://skinsort.com/products/products-for-oily-skin/page/24\n"
     ]
    },
    {
     "data": {
      "application/vnd.jupyter.widget-view+json": {
       "model_id": "fd19c26a2f204b55842ba1e513b5f9a9",
       "version_major": 2,
       "version_minor": 0
      },
      "text/plain": [
       "Obteniendo productos:   0%|          | 0/1 [00:00<?, ?it/s]"
      ]
     },
     "metadata": {},
     "output_type": "display_data"
    },
    {
     "name": "stdout",
     "output_type": "stream",
     "text": [
      "Estamos en la página https://skinsort.com/products/products-for-oily-skin/page/24\n"
     ]
    },
    {
     "data": {
      "application/vnd.jupyter.widget-view+json": {
       "model_id": "f29b74d594d046419c288dc744354254",
       "version_major": 2,
       "version_minor": 0
      },
      "text/plain": [
       "Obteniendo productos:   0%|          | 0/1 [00:00<?, ?it/s]"
      ]
     },
     "metadata": {},
     "output_type": "display_data"
    },
    {
     "name": "stdout",
     "output_type": "stream",
     "text": [
      "Estamos en la página https://skinsort.com/products/products-for-oily-skin/page/25\n"
     ]
    },
    {
     "data": {
      "application/vnd.jupyter.widget-view+json": {
       "model_id": "854e561058c14f8d958b5d7d1b9d2f70",
       "version_major": 2,
       "version_minor": 0
      },
      "text/plain": [
       "Obteniendo productos:   0%|          | 0/1 [00:00<?, ?it/s]"
      ]
     },
     "metadata": {},
     "output_type": "display_data"
    },
    {
     "name": "stdout",
     "output_type": "stream",
     "text": [
      "Estamos en la página https://skinsort.com/products/products-for-oily-skin/page/25\n"
     ]
    },
    {
     "data": {
      "application/vnd.jupyter.widget-view+json": {
       "model_id": "687bf0870930423f90851edc33640e46",
       "version_major": 2,
       "version_minor": 0
      },
      "text/plain": [
       "Obteniendo productos:   0%|          | 0/1 [00:00<?, ?it/s]"
      ]
     },
     "metadata": {},
     "output_type": "display_data"
    },
    {
     "name": "stdout",
     "output_type": "stream",
     "text": [
      "Estamos en la página https://skinsort.com/products/products-for-oily-skin/page/25\n"
     ]
    },
    {
     "data": {
      "application/vnd.jupyter.widget-view+json": {
       "model_id": "da54182c26a94bc7989b5c14feae7709",
       "version_major": 2,
       "version_minor": 0
      },
      "text/plain": [
       "Obteniendo productos:   0%|          | 0/1 [00:00<?, ?it/s]"
      ]
     },
     "metadata": {},
     "output_type": "display_data"
    },
    {
     "name": "stdout",
     "output_type": "stream",
     "text": [
      "Estamos en la página https://skinsort.com/products/products-for-oily-skin/page/26\n"
     ]
    },
    {
     "data": {
      "application/vnd.jupyter.widget-view+json": {
       "model_id": "9014cc211c184cfe90f9135b53bbe01f",
       "version_major": 2,
       "version_minor": 0
      },
      "text/plain": [
       "Obteniendo productos:   0%|          | 0/1 [00:00<?, ?it/s]"
      ]
     },
     "metadata": {},
     "output_type": "display_data"
    },
    {
     "name": "stdout",
     "output_type": "stream",
     "text": [
      "Estamos en la página https://skinsort.com/products/products-for-oily-skin/page/26\n"
     ]
    },
    {
     "data": {
      "application/vnd.jupyter.widget-view+json": {
       "model_id": "20c7926c3133458aa826b2c35fe168e1",
       "version_major": 2,
       "version_minor": 0
      },
      "text/plain": [
       "Obteniendo productos:   0%|          | 0/1 [00:00<?, ?it/s]"
      ]
     },
     "metadata": {},
     "output_type": "display_data"
    },
    {
     "name": "stdout",
     "output_type": "stream",
     "text": [
      "Estamos en la página https://skinsort.com/products/products-for-oily-skin/page/26\n"
     ]
    },
    {
     "data": {
      "application/vnd.jupyter.widget-view+json": {
       "model_id": "67c43c7c257d4501ba9d13125f5d387c",
       "version_major": 2,
       "version_minor": 0
      },
      "text/plain": [
       "Obteniendo productos:   0%|          | 0/1 [00:00<?, ?it/s]"
      ]
     },
     "metadata": {},
     "output_type": "display_data"
    },
    {
     "name": "stdout",
     "output_type": "stream",
     "text": [
      "Estamos en la página https://skinsort.com/products/products-for-oily-skin/page/27\n"
     ]
    },
    {
     "data": {
      "application/vnd.jupyter.widget-view+json": {
       "model_id": "ea692fc8293245f5a3d57a10aafdcd45",
       "version_major": 2,
       "version_minor": 0
      },
      "text/plain": [
       "Obteniendo productos:   0%|          | 0/1 [00:00<?, ?it/s]"
      ]
     },
     "metadata": {},
     "output_type": "display_data"
    },
    {
     "name": "stdout",
     "output_type": "stream",
     "text": [
      "Estamos en la página https://skinsort.com/products/products-for-oily-skin/page/27\n"
     ]
    },
    {
     "data": {
      "application/vnd.jupyter.widget-view+json": {
       "model_id": "cd2b46f0024a48cdaa0949dc6c415b93",
       "version_major": 2,
       "version_minor": 0
      },
      "text/plain": [
       "Obteniendo productos:   0%|          | 0/1 [00:00<?, ?it/s]"
      ]
     },
     "metadata": {},
     "output_type": "display_data"
    },
    {
     "name": "stdout",
     "output_type": "stream",
     "text": [
      "Estamos en la página https://skinsort.com/products/products-for-oily-skin/page/27\n"
     ]
    },
    {
     "data": {
      "application/vnd.jupyter.widget-view+json": {
       "model_id": "4b9b593f74934df0bbfbae3cf8bb1e79",
       "version_major": 2,
       "version_minor": 0
      },
      "text/plain": [
       "Obteniendo productos:   0%|          | 0/1 [00:00<?, ?it/s]"
      ]
     },
     "metadata": {},
     "output_type": "display_data"
    },
    {
     "name": "stdout",
     "output_type": "stream",
     "text": [
      "Estamos en la página https://skinsort.com/products/products-for-oily-skin/page/28\n"
     ]
    },
    {
     "data": {
      "application/vnd.jupyter.widget-view+json": {
       "model_id": "30117b4afa2f4aec91d802fe27141360",
       "version_major": 2,
       "version_minor": 0
      },
      "text/plain": [
       "Obteniendo productos:   0%|          | 0/1 [00:00<?, ?it/s]"
      ]
     },
     "metadata": {},
     "output_type": "display_data"
    },
    {
     "name": "stdout",
     "output_type": "stream",
     "text": [
      "Estamos en la página https://skinsort.com/products/products-for-oily-skin/page/28\n"
     ]
    },
    {
     "data": {
      "application/vnd.jupyter.widget-view+json": {
       "model_id": "3f634c7b74c74157b00f7cf083a89334",
       "version_major": 2,
       "version_minor": 0
      },
      "text/plain": [
       "Obteniendo productos:   0%|          | 0/1 [00:00<?, ?it/s]"
      ]
     },
     "metadata": {},
     "output_type": "display_data"
    },
    {
     "name": "stdout",
     "output_type": "stream",
     "text": [
      "Estamos en la página https://skinsort.com/products/products-for-oily-skin/page/28\n"
     ]
    },
    {
     "data": {
      "application/vnd.jupyter.widget-view+json": {
       "model_id": "451f6f07f657441089920339dbdf21ac",
       "version_major": 2,
       "version_minor": 0
      },
      "text/plain": [
       "Obteniendo productos:   0%|          | 0/1 [00:00<?, ?it/s]"
      ]
     },
     "metadata": {},
     "output_type": "display_data"
    },
    {
     "name": "stdout",
     "output_type": "stream",
     "text": [
      "Estamos en la página https://skinsort.com/products/products-for-oily-skin/page/29\n"
     ]
    },
    {
     "data": {
      "application/vnd.jupyter.widget-view+json": {
       "model_id": "c3391d4e9e1f48458564e0224b5826ca",
       "version_major": 2,
       "version_minor": 0
      },
      "text/plain": [
       "Obteniendo productos:   0%|          | 0/1 [00:00<?, ?it/s]"
      ]
     },
     "metadata": {},
     "output_type": "display_data"
    },
    {
     "name": "stdout",
     "output_type": "stream",
     "text": [
      "Estamos en la página https://skinsort.com/products/products-for-oily-skin/page/29\n"
     ]
    },
    {
     "data": {
      "application/vnd.jupyter.widget-view+json": {
       "model_id": "1854ee011bb74c018d6dc4b366613587",
       "version_major": 2,
       "version_minor": 0
      },
      "text/plain": [
       "Obteniendo productos:   0%|          | 0/1 [00:00<?, ?it/s]"
      ]
     },
     "metadata": {},
     "output_type": "display_data"
    },
    {
     "name": "stdout",
     "output_type": "stream",
     "text": [
      "Estamos en la página https://skinsort.com/products/products-for-oily-skin/page/29\n"
     ]
    },
    {
     "data": {
      "application/vnd.jupyter.widget-view+json": {
       "model_id": "38d56cabf6624da79a331dee749ce655",
       "version_major": 2,
       "version_minor": 0
      },
      "text/plain": [
       "Obteniendo productos:   0%|          | 0/1 [00:00<?, ?it/s]"
      ]
     },
     "metadata": {},
     "output_type": "display_data"
    },
    {
     "name": "stdout",
     "output_type": "stream",
     "text": [
      "Estamos en la página https://skinsort.com/products/products-for-oily-skin/page/30\n"
     ]
    },
    {
     "data": {
      "application/vnd.jupyter.widget-view+json": {
       "model_id": "40f149671c554669bf82a9872f90a5be",
       "version_major": 2,
       "version_minor": 0
      },
      "text/plain": [
       "Obteniendo productos:   0%|          | 0/1 [00:00<?, ?it/s]"
      ]
     },
     "metadata": {},
     "output_type": "display_data"
    },
    {
     "name": "stdout",
     "output_type": "stream",
     "text": [
      "Estamos en la página https://skinsort.com/products/products-for-oily-skin/page/30\n"
     ]
    },
    {
     "data": {
      "application/vnd.jupyter.widget-view+json": {
       "model_id": "14f8e256108d4a7da411778defc387f6",
       "version_major": 2,
       "version_minor": 0
      },
      "text/plain": [
       "Obteniendo productos:   0%|          | 0/1 [00:00<?, ?it/s]"
      ]
     },
     "metadata": {},
     "output_type": "display_data"
    },
    {
     "name": "stdout",
     "output_type": "stream",
     "text": [
      "Estamos en la página https://skinsort.com/products/products-for-oily-skin/page/30\n"
     ]
    },
    {
     "data": {
      "application/vnd.jupyter.widget-view+json": {
       "model_id": "801cc3e264764e33827df202f83a313b",
       "version_major": 2,
       "version_minor": 0
      },
      "text/plain": [
       "Obteniendo productos:   0%|          | 0/1 [00:00<?, ?it/s]"
      ]
     },
     "metadata": {},
     "output_type": "display_data"
    },
    {
     "name": "stdout",
     "output_type": "stream",
     "text": [
      "Estamos en la página https://skinsort.com/products/products-for-oily-skin/page/31\n"
     ]
    },
    {
     "data": {
      "application/vnd.jupyter.widget-view+json": {
       "model_id": "caed8dd4da614062bbf0bbf50a509294",
       "version_major": 2,
       "version_minor": 0
      },
      "text/plain": [
       "Obteniendo productos:   0%|          | 0/1 [00:00<?, ?it/s]"
      ]
     },
     "metadata": {},
     "output_type": "display_data"
    },
    {
     "name": "stdout",
     "output_type": "stream",
     "text": [
      "Estamos en la página https://skinsort.com/products/products-for-oily-skin/page/31\n"
     ]
    },
    {
     "data": {
      "application/vnd.jupyter.widget-view+json": {
       "model_id": "4eef69a3b2f44e52b83594b6239ee7dc",
       "version_major": 2,
       "version_minor": 0
      },
      "text/plain": [
       "Obteniendo productos:   0%|          | 0/1 [00:00<?, ?it/s]"
      ]
     },
     "metadata": {},
     "output_type": "display_data"
    },
    {
     "name": "stdout",
     "output_type": "stream",
     "text": [
      "Estamos en la página https://skinsort.com/products/products-for-oily-skin/page/31\n"
     ]
    },
    {
     "data": {
      "application/vnd.jupyter.widget-view+json": {
       "model_id": "68525795a9db4942976a5c7e9f7af8d3",
       "version_major": 2,
       "version_minor": 0
      },
      "text/plain": [
       "Obteniendo productos:   0%|          | 0/1 [00:00<?, ?it/s]"
      ]
     },
     "metadata": {},
     "output_type": "display_data"
    },
    {
     "name": "stdout",
     "output_type": "stream",
     "text": [
      "Estamos en la página https://skinsort.com/products/products-for-oily-skin/page/32\n"
     ]
    },
    {
     "data": {
      "application/vnd.jupyter.widget-view+json": {
       "model_id": "15bc255ba933443398f83ff63a42ef66",
       "version_major": 2,
       "version_minor": 0
      },
      "text/plain": [
       "Obteniendo productos:   0%|          | 0/1 [00:00<?, ?it/s]"
      ]
     },
     "metadata": {},
     "output_type": "display_data"
    },
    {
     "name": "stdout",
     "output_type": "stream",
     "text": [
      "Estamos en la página https://skinsort.com/products/products-for-oily-skin/page/32\n"
     ]
    },
    {
     "data": {
      "application/vnd.jupyter.widget-view+json": {
       "model_id": "dd8b8f5a3bc6413caca4a01aa3afbd8b",
       "version_major": 2,
       "version_minor": 0
      },
      "text/plain": [
       "Obteniendo productos:   0%|          | 0/1 [00:00<?, ?it/s]"
      ]
     },
     "metadata": {},
     "output_type": "display_data"
    },
    {
     "name": "stdout",
     "output_type": "stream",
     "text": [
      "Estamos en la página https://skinsort.com/products/products-for-oily-skin/page/32\n"
     ]
    },
    {
     "data": {
      "application/vnd.jupyter.widget-view+json": {
       "model_id": "84e9f9d9571f4a97878b8ed69816648a",
       "version_major": 2,
       "version_minor": 0
      },
      "text/plain": [
       "Obteniendo productos:   0%|          | 0/1 [00:00<?, ?it/s]"
      ]
     },
     "metadata": {},
     "output_type": "display_data"
    },
    {
     "name": "stdout",
     "output_type": "stream",
     "text": [
      "Estamos en la página https://skinsort.com/products/products-for-oily-skin/page/33\n"
     ]
    },
    {
     "data": {
      "application/vnd.jupyter.widget-view+json": {
       "model_id": "8999d2654fa84cd7817de2e2bb0f7441",
       "version_major": 2,
       "version_minor": 0
      },
      "text/plain": [
       "Obteniendo productos:   0%|          | 0/1 [00:00<?, ?it/s]"
      ]
     },
     "metadata": {},
     "output_type": "display_data"
    },
    {
     "name": "stdout",
     "output_type": "stream",
     "text": [
      "Estamos en la página https://skinsort.com/products/products-for-oily-skin/page/33\n"
     ]
    },
    {
     "data": {
      "application/vnd.jupyter.widget-view+json": {
       "model_id": "d44880135d5e4aa2b059ddbbee5e1788",
       "version_major": 2,
       "version_minor": 0
      },
      "text/plain": [
       "Obteniendo productos:   0%|          | 0/1 [00:00<?, ?it/s]"
      ]
     },
     "metadata": {},
     "output_type": "display_data"
    },
    {
     "name": "stdout",
     "output_type": "stream",
     "text": [
      "Estamos en la página https://skinsort.com/products/products-for-oily-skin/page/33\n"
     ]
    },
    {
     "data": {
      "application/vnd.jupyter.widget-view+json": {
       "model_id": "1235d9f3a3c24fc7beee8d97abceed4e",
       "version_major": 2,
       "version_minor": 0
      },
      "text/plain": [
       "Obteniendo productos:   0%|          | 0/1 [00:00<?, ?it/s]"
      ]
     },
     "metadata": {},
     "output_type": "display_data"
    },
    {
     "name": "stdout",
     "output_type": "stream",
     "text": [
      "Estamos en la página https://skinsort.com/products/products-for-oily-skin/page/34\n"
     ]
    },
    {
     "data": {
      "application/vnd.jupyter.widget-view+json": {
       "model_id": "18747b85a87842fba0be331566da1209",
       "version_major": 2,
       "version_minor": 0
      },
      "text/plain": [
       "Obteniendo productos:   0%|          | 0/1 [00:00<?, ?it/s]"
      ]
     },
     "metadata": {},
     "output_type": "display_data"
    },
    {
     "name": "stdout",
     "output_type": "stream",
     "text": [
      "Estamos en la página https://skinsort.com/products/products-for-oily-skin/page/34\n"
     ]
    },
    {
     "data": {
      "application/vnd.jupyter.widget-view+json": {
       "model_id": "b1babbda67724dbf9fcdc292813f1db1",
       "version_major": 2,
       "version_minor": 0
      },
      "text/plain": [
       "Obteniendo productos:   0%|          | 0/1 [00:00<?, ?it/s]"
      ]
     },
     "metadata": {},
     "output_type": "display_data"
    },
    {
     "name": "stdout",
     "output_type": "stream",
     "text": [
      "Estamos en la página https://skinsort.com/products/products-for-oily-skin/page/34\n"
     ]
    },
    {
     "data": {
      "application/vnd.jupyter.widget-view+json": {
       "model_id": "dafa03f3459140cd99e4f6d2c5164504",
       "version_major": 2,
       "version_minor": 0
      },
      "text/plain": [
       "Obteniendo productos:   0%|          | 0/1 [00:00<?, ?it/s]"
      ]
     },
     "metadata": {},
     "output_type": "display_data"
    },
    {
     "name": "stdout",
     "output_type": "stream",
     "text": [
      "Estamos en la página https://skinsort.com/products/products-for-oily-skin/page/35\n"
     ]
    },
    {
     "data": {
      "application/vnd.jupyter.widget-view+json": {
       "model_id": "2a6ec07b40cc40dc9f79d5d69cfbc3f0",
       "version_major": 2,
       "version_minor": 0
      },
      "text/plain": [
       "Obteniendo productos:   0%|          | 0/1 [00:00<?, ?it/s]"
      ]
     },
     "metadata": {},
     "output_type": "display_data"
    },
    {
     "name": "stdout",
     "output_type": "stream",
     "text": [
      "Estamos en la página https://skinsort.com/products/products-for-oily-skin/page/35\n"
     ]
    },
    {
     "data": {
      "application/vnd.jupyter.widget-view+json": {
       "model_id": "536086a057eb44198b7a13061cd13004",
       "version_major": 2,
       "version_minor": 0
      },
      "text/plain": [
       "Obteniendo productos:   0%|          | 0/1 [00:00<?, ?it/s]"
      ]
     },
     "metadata": {},
     "output_type": "display_data"
    },
    {
     "name": "stdout",
     "output_type": "stream",
     "text": [
      "Estamos en la página https://skinsort.com/products/products-for-oily-skin/page/35\n"
     ]
    },
    {
     "data": {
      "application/vnd.jupyter.widget-view+json": {
       "model_id": "18528188488b4d43936209c5a51c713c",
       "version_major": 2,
       "version_minor": 0
      },
      "text/plain": [
       "Obteniendo productos:   0%|          | 0/1 [00:00<?, ?it/s]"
      ]
     },
     "metadata": {},
     "output_type": "display_data"
    },
    {
     "name": "stdout",
     "output_type": "stream",
     "text": [
      "Estamos en la página https://skinsort.com/products/products-for-oily-skin/page/36\n"
     ]
    },
    {
     "data": {
      "application/vnd.jupyter.widget-view+json": {
       "model_id": "deb871a9b45c442d994c750bfcddab8e",
       "version_major": 2,
       "version_minor": 0
      },
      "text/plain": [
       "Obteniendo productos:   0%|          | 0/1 [00:00<?, ?it/s]"
      ]
     },
     "metadata": {},
     "output_type": "display_data"
    },
    {
     "name": "stdout",
     "output_type": "stream",
     "text": [
      "Estamos en la página https://skinsort.com/products/products-for-oily-skin/page/36\n"
     ]
    },
    {
     "data": {
      "application/vnd.jupyter.widget-view+json": {
       "model_id": "d2e181b5676e4cb2be318c05a8b71000",
       "version_major": 2,
       "version_minor": 0
      },
      "text/plain": [
       "Obteniendo productos:   0%|          | 0/1 [00:00<?, ?it/s]"
      ]
     },
     "metadata": {},
     "output_type": "display_data"
    },
    {
     "name": "stdout",
     "output_type": "stream",
     "text": [
      "Estamos en la página https://skinsort.com/products/products-for-oily-skin/page/36\n"
     ]
    },
    {
     "data": {
      "application/vnd.jupyter.widget-view+json": {
       "model_id": "4b975a705779444aa1495290cd7d01cb",
       "version_major": 2,
       "version_minor": 0
      },
      "text/plain": [
       "Obteniendo productos:   0%|          | 0/1 [00:00<?, ?it/s]"
      ]
     },
     "metadata": {},
     "output_type": "display_data"
    },
    {
     "name": "stdout",
     "output_type": "stream",
     "text": [
      "Estamos en la página https://skinsort.com/products/products-for-oily-skin/page/37\n"
     ]
    },
    {
     "data": {
      "application/vnd.jupyter.widget-view+json": {
       "model_id": "724a8921b4594435bc23db01d4fb00df",
       "version_major": 2,
       "version_minor": 0
      },
      "text/plain": [
       "Obteniendo productos:   0%|          | 0/1 [00:00<?, ?it/s]"
      ]
     },
     "metadata": {},
     "output_type": "display_data"
    },
    {
     "name": "stdout",
     "output_type": "stream",
     "text": [
      "Estamos en la página https://skinsort.com/products/products-for-oily-skin/page/37\n"
     ]
    },
    {
     "data": {
      "application/vnd.jupyter.widget-view+json": {
       "model_id": "b87474dff60e41a08a9d961fc63a30bf",
       "version_major": 2,
       "version_minor": 0
      },
      "text/plain": [
       "Obteniendo productos:   0%|          | 0/1 [00:00<?, ?it/s]"
      ]
     },
     "metadata": {},
     "output_type": "display_data"
    },
    {
     "name": "stdout",
     "output_type": "stream",
     "text": [
      "Estamos en la página https://skinsort.com/products/products-for-oily-skin/page/37\n"
     ]
    },
    {
     "data": {
      "application/vnd.jupyter.widget-view+json": {
       "model_id": "e11bb537a4cf4c9a8e1e62b4a146edaa",
       "version_major": 2,
       "version_minor": 0
      },
      "text/plain": [
       "Obteniendo productos:   0%|          | 0/1 [00:00<?, ?it/s]"
      ]
     },
     "metadata": {},
     "output_type": "display_data"
    },
    {
     "name": "stdout",
     "output_type": "stream",
     "text": [
      "Estamos en la página https://skinsort.com/products/products-for-oily-skin/page/38\n"
     ]
    },
    {
     "data": {
      "application/vnd.jupyter.widget-view+json": {
       "model_id": "34f771b16562436cb83f6274240b00ca",
       "version_major": 2,
       "version_minor": 0
      },
      "text/plain": [
       "Obteniendo productos:   0%|          | 0/1 [00:00<?, ?it/s]"
      ]
     },
     "metadata": {},
     "output_type": "display_data"
    },
    {
     "name": "stdout",
     "output_type": "stream",
     "text": [
      "Estamos en la página https://skinsort.com/products/products-for-oily-skin/page/38\n"
     ]
    },
    {
     "data": {
      "application/vnd.jupyter.widget-view+json": {
       "model_id": "6750743013f74d238819278762bbaf4a",
       "version_major": 2,
       "version_minor": 0
      },
      "text/plain": [
       "Obteniendo productos:   0%|          | 0/1 [00:00<?, ?it/s]"
      ]
     },
     "metadata": {},
     "output_type": "display_data"
    },
    {
     "name": "stdout",
     "output_type": "stream",
     "text": [
      "Estamos en la página https://skinsort.com/products/products-for-oily-skin/page/38\n"
     ]
    },
    {
     "data": {
      "application/vnd.jupyter.widget-view+json": {
       "model_id": "905cebbc0513494fad8d0fbf7cb6f2f8",
       "version_major": 2,
       "version_minor": 0
      },
      "text/plain": [
       "Obteniendo productos:   0%|          | 0/1 [00:00<?, ?it/s]"
      ]
     },
     "metadata": {},
     "output_type": "display_data"
    },
    {
     "name": "stdout",
     "output_type": "stream",
     "text": [
      "Estamos en la página https://skinsort.com/products/products-for-oily-skin/page/39\n"
     ]
    },
    {
     "data": {
      "application/vnd.jupyter.widget-view+json": {
       "model_id": "cd40c5f24d1a469cb0a7ee732da0715b",
       "version_major": 2,
       "version_minor": 0
      },
      "text/plain": [
       "Obteniendo productos:   0%|          | 0/1 [00:00<?, ?it/s]"
      ]
     },
     "metadata": {},
     "output_type": "display_data"
    },
    {
     "name": "stdout",
     "output_type": "stream",
     "text": [
      "Estamos en la página https://skinsort.com/products/products-for-oily-skin/page/39\n"
     ]
    },
    {
     "data": {
      "application/vnd.jupyter.widget-view+json": {
       "model_id": "75bd61f6f1954dd7b34d086cf83e5a4f",
       "version_major": 2,
       "version_minor": 0
      },
      "text/plain": [
       "Obteniendo productos:   0%|          | 0/1 [00:00<?, ?it/s]"
      ]
     },
     "metadata": {},
     "output_type": "display_data"
    },
    {
     "name": "stdout",
     "output_type": "stream",
     "text": [
      "Estamos en la página https://skinsort.com/products/products-for-oily-skin/page/39\n"
     ]
    },
    {
     "data": {
      "application/vnd.jupyter.widget-view+json": {
       "model_id": "9a9f2ef4e88540e69f1236853adc7213",
       "version_major": 2,
       "version_minor": 0
      },
      "text/plain": [
       "Obteniendo productos:   0%|          | 0/1 [00:00<?, ?it/s]"
      ]
     },
     "metadata": {},
     "output_type": "display_data"
    },
    {
     "name": "stdout",
     "output_type": "stream",
     "text": [
      "Estamos en la página https://skinsort.com/products/products-for-oily-skin/page/40\n"
     ]
    },
    {
     "data": {
      "application/vnd.jupyter.widget-view+json": {
       "model_id": "d6721b68d54142b0bd748c7b9b9917f9",
       "version_major": 2,
       "version_minor": 0
      },
      "text/plain": [
       "Obteniendo productos:   0%|          | 0/1 [00:00<?, ?it/s]"
      ]
     },
     "metadata": {},
     "output_type": "display_data"
    },
    {
     "name": "stdout",
     "output_type": "stream",
     "text": [
      "Estamos en la página https://skinsort.com/products/products-for-oily-skin/page/40\n"
     ]
    },
    {
     "data": {
      "application/vnd.jupyter.widget-view+json": {
       "model_id": "a7757fc431c749d89186e06398ec2fc0",
       "version_major": 2,
       "version_minor": 0
      },
      "text/plain": [
       "Obteniendo productos:   0%|          | 0/1 [00:00<?, ?it/s]"
      ]
     },
     "metadata": {},
     "output_type": "display_data"
    },
    {
     "name": "stdout",
     "output_type": "stream",
     "text": [
      "Estamos en la página https://skinsort.com/products/products-for-oily-skin/page/40\n",
      "Error al obtener los datos.\n"
     ]
    },
    {
     "data": {
      "application/vnd.jupyter.widget-view+json": {
       "model_id": "a557a563fd024f03965c472b529fb6a3",
       "version_major": 2,
       "version_minor": 0
      },
      "text/plain": [
       "Obteniendo productos:   0%|          | 0/1 [00:00<?, ?it/s]"
      ]
     },
     "metadata": {},
     "output_type": "display_data"
    },
    {
     "name": "stdout",
     "output_type": "stream",
     "text": [
      "Estamos en la página https://skinsort.com/products/products-for-oily-skin/page/42\n"
     ]
    },
    {
     "data": {
      "application/vnd.jupyter.widget-view+json": {
       "model_id": "9cc02f0ab1f74ed8b18b20d96be097eb",
       "version_major": 2,
       "version_minor": 0
      },
      "text/plain": [
       "Obteniendo productos:   0%|          | 0/1 [00:00<?, ?it/s]"
      ]
     },
     "metadata": {},
     "output_type": "display_data"
    },
    {
     "name": "stdout",
     "output_type": "stream",
     "text": [
      "Estamos en la página https://skinsort.com/products/products-for-oily-skin/page/42\n"
     ]
    },
    {
     "data": {
      "application/vnd.jupyter.widget-view+json": {
       "model_id": "15b76083b8b2470ca6e34299a1c834d7",
       "version_major": 2,
       "version_minor": 0
      },
      "text/plain": [
       "Obteniendo productos:   0%|          | 0/1 [00:00<?, ?it/s]"
      ]
     },
     "metadata": {},
     "output_type": "display_data"
    },
    {
     "name": "stdout",
     "output_type": "stream",
     "text": [
      "Estamos en la página https://skinsort.com/products/products-for-oily-skin/page/42\n"
     ]
    },
    {
     "data": {
      "application/vnd.jupyter.widget-view+json": {
       "model_id": "721d46344aeb47dc9e41ea327d0567c9",
       "version_major": 2,
       "version_minor": 0
      },
      "text/plain": [
       "Obteniendo productos:   0%|          | 0/1 [00:00<?, ?it/s]"
      ]
     },
     "metadata": {},
     "output_type": "display_data"
    },
    {
     "name": "stdout",
     "output_type": "stream",
     "text": [
      "Estamos en la página https://skinsort.com/products/products-for-oily-skin/page/43\n"
     ]
    },
    {
     "data": {
      "application/vnd.jupyter.widget-view+json": {
       "model_id": "d43946414cc64d5db84d8e8ed76bffb3",
       "version_major": 2,
       "version_minor": 0
      },
      "text/plain": [
       "Obteniendo productos:   0%|          | 0/1 [00:00<?, ?it/s]"
      ]
     },
     "metadata": {},
     "output_type": "display_data"
    },
    {
     "name": "stdout",
     "output_type": "stream",
     "text": [
      "Estamos en la página https://skinsort.com/products/products-for-oily-skin/page/43\n"
     ]
    },
    {
     "data": {
      "application/vnd.jupyter.widget-view+json": {
       "model_id": "6b12b1dc9c754017be6a760cabbed468",
       "version_major": 2,
       "version_minor": 0
      },
      "text/plain": [
       "Obteniendo productos:   0%|          | 0/1 [00:00<?, ?it/s]"
      ]
     },
     "metadata": {},
     "output_type": "display_data"
    },
    {
     "name": "stdout",
     "output_type": "stream",
     "text": [
      "Estamos en la página https://skinsort.com/products/products-for-oily-skin/page/43\n"
     ]
    },
    {
     "data": {
      "application/vnd.jupyter.widget-view+json": {
       "model_id": "88f74d8581e04d06a86e388f59c6cf9a",
       "version_major": 2,
       "version_minor": 0
      },
      "text/plain": [
       "Obteniendo productos:   0%|          | 0/1 [00:00<?, ?it/s]"
      ]
     },
     "metadata": {},
     "output_type": "display_data"
    },
    {
     "name": "stdout",
     "output_type": "stream",
     "text": [
      "Estamos en la página https://skinsort.com/products/products-for-oily-skin/page/44\n"
     ]
    },
    {
     "data": {
      "application/vnd.jupyter.widget-view+json": {
       "model_id": "552a35ca030c4089adbe106a5108260c",
       "version_major": 2,
       "version_minor": 0
      },
      "text/plain": [
       "Obteniendo productos:   0%|          | 0/1 [00:00<?, ?it/s]"
      ]
     },
     "metadata": {},
     "output_type": "display_data"
    },
    {
     "name": "stdout",
     "output_type": "stream",
     "text": [
      "Estamos en la página https://skinsort.com/products/products-for-oily-skin/page/44\n"
     ]
    },
    {
     "data": {
      "application/vnd.jupyter.widget-view+json": {
       "model_id": "b4af1a4a7e074c4caeae1df5937954e2",
       "version_major": 2,
       "version_minor": 0
      },
      "text/plain": [
       "Obteniendo productos:   0%|          | 0/1 [00:00<?, ?it/s]"
      ]
     },
     "metadata": {},
     "output_type": "display_data"
    },
    {
     "name": "stdout",
     "output_type": "stream",
     "text": [
      "Estamos en la página https://skinsort.com/products/products-for-oily-skin/page/44\n"
     ]
    },
    {
     "data": {
      "application/vnd.jupyter.widget-view+json": {
       "model_id": "20c25cb1260f4677a87bb28aff1abc63",
       "version_major": 2,
       "version_minor": 0
      },
      "text/plain": [
       "Obteniendo productos:   0%|          | 0/1 [00:00<?, ?it/s]"
      ]
     },
     "metadata": {},
     "output_type": "display_data"
    },
    {
     "name": "stdout",
     "output_type": "stream",
     "text": [
      "Estamos en la página https://skinsort.com/products/products-for-oily-skin/page/45\n"
     ]
    },
    {
     "data": {
      "application/vnd.jupyter.widget-view+json": {
       "model_id": "61fe999ba8804565bcc1a2494c05f957",
       "version_major": 2,
       "version_minor": 0
      },
      "text/plain": [
       "Obteniendo productos:   0%|          | 0/1 [00:00<?, ?it/s]"
      ]
     },
     "metadata": {},
     "output_type": "display_data"
    },
    {
     "name": "stdout",
     "output_type": "stream",
     "text": [
      "Estamos en la página https://skinsort.com/products/products-for-oily-skin/page/45\n"
     ]
    },
    {
     "data": {
      "application/vnd.jupyter.widget-view+json": {
       "model_id": "3e48677061b64a6780c735a57e8c7de4",
       "version_major": 2,
       "version_minor": 0
      },
      "text/plain": [
       "Obteniendo productos:   0%|          | 0/1 [00:00<?, ?it/s]"
      ]
     },
     "metadata": {},
     "output_type": "display_data"
    },
    {
     "name": "stdout",
     "output_type": "stream",
     "text": [
      "Estamos en la página https://skinsort.com/products/products-for-oily-skin/page/45\n"
     ]
    },
    {
     "data": {
      "application/vnd.jupyter.widget-view+json": {
       "model_id": "7df3f40df9f04b5ea52db88df6ef0fec",
       "version_major": 2,
       "version_minor": 0
      },
      "text/plain": [
       "Obteniendo productos:   0%|          | 0/1 [00:00<?, ?it/s]"
      ]
     },
     "metadata": {},
     "output_type": "display_data"
    },
    {
     "name": "stdout",
     "output_type": "stream",
     "text": [
      "Estamos en la página https://skinsort.com/products/products-for-oily-skin/page/46\n"
     ]
    },
    {
     "data": {
      "application/vnd.jupyter.widget-view+json": {
       "model_id": "e21a0bf673ac4309b0e4ab2d4237a70f",
       "version_major": 2,
       "version_minor": 0
      },
      "text/plain": [
       "Obteniendo productos:   0%|          | 0/1 [00:00<?, ?it/s]"
      ]
     },
     "metadata": {},
     "output_type": "display_data"
    },
    {
     "name": "stdout",
     "output_type": "stream",
     "text": [
      "Estamos en la página https://skinsort.com/products/products-for-oily-skin/page/46\n"
     ]
    },
    {
     "data": {
      "application/vnd.jupyter.widget-view+json": {
       "model_id": "b70f9452740244a28e0ddafe6391ccac",
       "version_major": 2,
       "version_minor": 0
      },
      "text/plain": [
       "Obteniendo productos:   0%|          | 0/1 [00:00<?, ?it/s]"
      ]
     },
     "metadata": {},
     "output_type": "display_data"
    },
    {
     "name": "stdout",
     "output_type": "stream",
     "text": [
      "Estamos en la página https://skinsort.com/products/products-for-oily-skin/page/46\n"
     ]
    },
    {
     "data": {
      "application/vnd.jupyter.widget-view+json": {
       "model_id": "9992f07115b0479e9acd4e66036364db",
       "version_major": 2,
       "version_minor": 0
      },
      "text/plain": [
       "Obteniendo productos:   0%|          | 0/1 [00:00<?, ?it/s]"
      ]
     },
     "metadata": {},
     "output_type": "display_data"
    },
    {
     "name": "stdout",
     "output_type": "stream",
     "text": [
      "Estamos en la página https://skinsort.com/products/products-for-oily-skin/page/47\n"
     ]
    },
    {
     "data": {
      "application/vnd.jupyter.widget-view+json": {
       "model_id": "20ad618977384e2cb316b3e50c5c8cba",
       "version_major": 2,
       "version_minor": 0
      },
      "text/plain": [
       "Obteniendo productos:   0%|          | 0/1 [00:00<?, ?it/s]"
      ]
     },
     "metadata": {},
     "output_type": "display_data"
    },
    {
     "name": "stdout",
     "output_type": "stream",
     "text": [
      "Estamos en la página https://skinsort.com/products/products-for-oily-skin/page/47\n"
     ]
    },
    {
     "data": {
      "application/vnd.jupyter.widget-view+json": {
       "model_id": "c0c6ca63a4bf4df390f461d3e2fc12d7",
       "version_major": 2,
       "version_minor": 0
      },
      "text/plain": [
       "Obteniendo productos:   0%|          | 0/1 [00:00<?, ?it/s]"
      ]
     },
     "metadata": {},
     "output_type": "display_data"
    },
    {
     "name": "stdout",
     "output_type": "stream",
     "text": [
      "Estamos en la página https://skinsort.com/products/products-for-oily-skin/page/47\n"
     ]
    },
    {
     "data": {
      "application/vnd.jupyter.widget-view+json": {
       "model_id": "bf2989b93db24d9a80532eed4fbd2f6d",
       "version_major": 2,
       "version_minor": 0
      },
      "text/plain": [
       "Obteniendo productos:   0%|          | 0/1 [00:00<?, ?it/s]"
      ]
     },
     "metadata": {},
     "output_type": "display_data"
    },
    {
     "name": "stdout",
     "output_type": "stream",
     "text": [
      "Estamos en la página https://skinsort.com/products/products-for-oily-skin/page/48\n"
     ]
    },
    {
     "data": {
      "application/vnd.jupyter.widget-view+json": {
       "model_id": "572aa6fd34e34e4b82033c92e4c8c5e9",
       "version_major": 2,
       "version_minor": 0
      },
      "text/plain": [
       "Obteniendo productos:   0%|          | 0/1 [00:00<?, ?it/s]"
      ]
     },
     "metadata": {},
     "output_type": "display_data"
    },
    {
     "name": "stdout",
     "output_type": "stream",
     "text": [
      "Estamos en la página https://skinsort.com/products/products-for-oily-skin/page/48\n"
     ]
    },
    {
     "data": {
      "application/vnd.jupyter.widget-view+json": {
       "model_id": "b9b9ff7ed6544eb9811242f8081138ba",
       "version_major": 2,
       "version_minor": 0
      },
      "text/plain": [
       "Obteniendo productos:   0%|          | 0/1 [00:00<?, ?it/s]"
      ]
     },
     "metadata": {},
     "output_type": "display_data"
    },
    {
     "name": "stdout",
     "output_type": "stream",
     "text": [
      "Estamos en la página https://skinsort.com/products/products-for-oily-skin/page/48\n"
     ]
    },
    {
     "data": {
      "application/vnd.jupyter.widget-view+json": {
       "model_id": "9135eff4f0394ddba1ae33209f0d2e03",
       "version_major": 2,
       "version_minor": 0
      },
      "text/plain": [
       "Obteniendo productos:   0%|          | 0/1 [00:00<?, ?it/s]"
      ]
     },
     "metadata": {},
     "output_type": "display_data"
    },
    {
     "name": "stdout",
     "output_type": "stream",
     "text": [
      "Estamos en la página https://skinsort.com/products/products-for-oily-skin/page/49\n"
     ]
    },
    {
     "data": {
      "application/vnd.jupyter.widget-view+json": {
       "model_id": "51bda18d9e714941aa94f938f682dff1",
       "version_major": 2,
       "version_minor": 0
      },
      "text/plain": [
       "Obteniendo productos:   0%|          | 0/1 [00:00<?, ?it/s]"
      ]
     },
     "metadata": {},
     "output_type": "display_data"
    },
    {
     "name": "stdout",
     "output_type": "stream",
     "text": [
      "Estamos en la página https://skinsort.com/products/products-for-oily-skin/page/49\n"
     ]
    },
    {
     "data": {
      "application/vnd.jupyter.widget-view+json": {
       "model_id": "2bf1d5fdab60490e933db3fa14e221c3",
       "version_major": 2,
       "version_minor": 0
      },
      "text/plain": [
       "Obteniendo productos:   0%|          | 0/1 [00:00<?, ?it/s]"
      ]
     },
     "metadata": {},
     "output_type": "display_data"
    },
    {
     "name": "stdout",
     "output_type": "stream",
     "text": [
      "Estamos en la página https://skinsort.com/products/products-for-oily-skin/page/49\n"
     ]
    },
    {
     "data": {
      "application/vnd.jupyter.widget-view+json": {
       "model_id": "8df3ff9e1bdf461bb012f348d6e87c70",
       "version_major": 2,
       "version_minor": 0
      },
      "text/plain": [
       "Obteniendo productos:   0%|          | 0/1 [00:00<?, ?it/s]"
      ]
     },
     "metadata": {},
     "output_type": "display_data"
    },
    {
     "name": "stdout",
     "output_type": "stream",
     "text": [
      "Estamos en la página https://skinsort.com/products/products-for-oily-skin/page/50\n"
     ]
    },
    {
     "data": {
      "application/vnd.jupyter.widget-view+json": {
       "model_id": "9828b10179674cef99fbe1ad24acf7df",
       "version_major": 2,
       "version_minor": 0
      },
      "text/plain": [
       "Obteniendo productos:   0%|          | 0/1 [00:00<?, ?it/s]"
      ]
     },
     "metadata": {},
     "output_type": "display_data"
    },
    {
     "name": "stdout",
     "output_type": "stream",
     "text": [
      "Estamos en la página https://skinsort.com/products/products-for-oily-skin/page/50\n"
     ]
    },
    {
     "data": {
      "application/vnd.jupyter.widget-view+json": {
       "model_id": "d6d23db2b234414c998b7783063b40c9",
       "version_major": 2,
       "version_minor": 0
      },
      "text/plain": [
       "Obteniendo productos:   0%|          | 0/1 [00:00<?, ?it/s]"
      ]
     },
     "metadata": {},
     "output_type": "display_data"
    },
    {
     "name": "stdout",
     "output_type": "stream",
     "text": [
      "Estamos en la página https://skinsort.com/products/products-for-oily-skin/page/50\n"
     ]
    },
    {
     "data": {
      "application/vnd.jupyter.widget-view+json": {
       "model_id": "73da6ea1f8424771b8d49c330771c430",
       "version_major": 2,
       "version_minor": 0
      },
      "text/plain": [
       "Obteniendo productos:   0%|          | 0/1 [00:00<?, ?it/s]"
      ]
     },
     "metadata": {},
     "output_type": "display_data"
    },
    {
     "name": "stdout",
     "output_type": "stream",
     "text": [
      "Estamos en la página https://skinsort.com/products/products-for-oily-skin/page/51\n"
     ]
    },
    {
     "data": {
      "application/vnd.jupyter.widget-view+json": {
       "model_id": "7e1d5b3cb5354320a2b1257bbbd09e48",
       "version_major": 2,
       "version_minor": 0
      },
      "text/plain": [
       "Obteniendo productos:   0%|          | 0/1 [00:00<?, ?it/s]"
      ]
     },
     "metadata": {},
     "output_type": "display_data"
    },
    {
     "name": "stdout",
     "output_type": "stream",
     "text": [
      "Estamos en la página https://skinsort.com/products/products-for-oily-skin/page/51\n"
     ]
    },
    {
     "data": {
      "application/vnd.jupyter.widget-view+json": {
       "model_id": "6065740b97f74360a46ca9b5265c95b1",
       "version_major": 2,
       "version_minor": 0
      },
      "text/plain": [
       "Obteniendo productos:   0%|          | 0/1 [00:00<?, ?it/s]"
      ]
     },
     "metadata": {},
     "output_type": "display_data"
    },
    {
     "name": "stdout",
     "output_type": "stream",
     "text": [
      "Estamos en la página https://skinsort.com/products/products-for-oily-skin/page/51\n"
     ]
    },
    {
     "data": {
      "application/vnd.jupyter.widget-view+json": {
       "model_id": "9173ddf7a45b4c8688c81242585e91a0",
       "version_major": 2,
       "version_minor": 0
      },
      "text/plain": [
       "Obteniendo productos:   0%|          | 0/1 [00:00<?, ?it/s]"
      ]
     },
     "metadata": {},
     "output_type": "display_data"
    },
    {
     "name": "stdout",
     "output_type": "stream",
     "text": [
      "Estamos en la página https://skinsort.com/products/products-for-oily-skin/page/52\n"
     ]
    },
    {
     "data": {
      "application/vnd.jupyter.widget-view+json": {
       "model_id": "d29cd1f3afa94f8789e26abf7f66a847",
       "version_major": 2,
       "version_minor": 0
      },
      "text/plain": [
       "Obteniendo productos:   0%|          | 0/1 [00:00<?, ?it/s]"
      ]
     },
     "metadata": {},
     "output_type": "display_data"
    },
    {
     "name": "stdout",
     "output_type": "stream",
     "text": [
      "Estamos en la página https://skinsort.com/products/products-for-oily-skin/page/52\n"
     ]
    },
    {
     "data": {
      "application/vnd.jupyter.widget-view+json": {
       "model_id": "7a8ed6b82369409b89418e3e59778b6d",
       "version_major": 2,
       "version_minor": 0
      },
      "text/plain": [
       "Obteniendo productos:   0%|          | 0/1 [00:00<?, ?it/s]"
      ]
     },
     "metadata": {},
     "output_type": "display_data"
    },
    {
     "name": "stdout",
     "output_type": "stream",
     "text": [
      "Estamos en la página https://skinsort.com/products/products-for-oily-skin/page/52\n"
     ]
    },
    {
     "data": {
      "application/vnd.jupyter.widget-view+json": {
       "model_id": "94aacf2fa30f4500a05b7b4472db75cc",
       "version_major": 2,
       "version_minor": 0
      },
      "text/plain": [
       "Obteniendo productos:   0%|          | 0/1 [00:00<?, ?it/s]"
      ]
     },
     "metadata": {},
     "output_type": "display_data"
    },
    {
     "name": "stdout",
     "output_type": "stream",
     "text": [
      "Estamos en la página https://skinsort.com/products/products-for-oily-skin/page/53\n"
     ]
    },
    {
     "data": {
      "application/vnd.jupyter.widget-view+json": {
       "model_id": "7564713dc0cb431c8b6bfa9e60b62c95",
       "version_major": 2,
       "version_minor": 0
      },
      "text/plain": [
       "Obteniendo productos:   0%|          | 0/1 [00:00<?, ?it/s]"
      ]
     },
     "metadata": {},
     "output_type": "display_data"
    },
    {
     "name": "stdout",
     "output_type": "stream",
     "text": [
      "Estamos en la página https://skinsort.com/products/products-for-oily-skin/page/53\n"
     ]
    },
    {
     "data": {
      "application/vnd.jupyter.widget-view+json": {
       "model_id": "d336bcdae3da4c21803ec9244b0a0a98",
       "version_major": 2,
       "version_minor": 0
      },
      "text/plain": [
       "Obteniendo productos:   0%|          | 0/1 [00:00<?, ?it/s]"
      ]
     },
     "metadata": {},
     "output_type": "display_data"
    },
    {
     "name": "stdout",
     "output_type": "stream",
     "text": [
      "Estamos en la página https://skinsort.com/products/products-for-oily-skin/page/53\n"
     ]
    },
    {
     "data": {
      "application/vnd.jupyter.widget-view+json": {
       "model_id": "2a0b64f86b58443fb4dc676692d022e4",
       "version_major": 2,
       "version_minor": 0
      },
      "text/plain": [
       "Obteniendo productos:   0%|          | 0/1 [00:00<?, ?it/s]"
      ]
     },
     "metadata": {},
     "output_type": "display_data"
    },
    {
     "name": "stdout",
     "output_type": "stream",
     "text": [
      "Estamos en la página https://skinsort.com/products/products-for-oily-skin/page/54\n"
     ]
    },
    {
     "data": {
      "application/vnd.jupyter.widget-view+json": {
       "model_id": "42f3bfb8e7f444d68cfe74a05c35ea9b",
       "version_major": 2,
       "version_minor": 0
      },
      "text/plain": [
       "Obteniendo productos:   0%|          | 0/1 [00:00<?, ?it/s]"
      ]
     },
     "metadata": {},
     "output_type": "display_data"
    },
    {
     "name": "stdout",
     "output_type": "stream",
     "text": [
      "Estamos en la página https://skinsort.com/products/products-for-oily-skin/page/54\n"
     ]
    },
    {
     "data": {
      "application/vnd.jupyter.widget-view+json": {
       "model_id": "53c0617f342141e29c68ff8a22bd4216",
       "version_major": 2,
       "version_minor": 0
      },
      "text/plain": [
       "Obteniendo productos:   0%|          | 0/1 [00:00<?, ?it/s]"
      ]
     },
     "metadata": {},
     "output_type": "display_data"
    },
    {
     "name": "stdout",
     "output_type": "stream",
     "text": [
      "Estamos en la página https://skinsort.com/products/products-for-oily-skin/page/54\n"
     ]
    },
    {
     "data": {
      "application/vnd.jupyter.widget-view+json": {
       "model_id": "3500ca4a1df34a62b2f5de779bdf336b",
       "version_major": 2,
       "version_minor": 0
      },
      "text/plain": [
       "Obteniendo productos:   0%|          | 0/1 [00:00<?, ?it/s]"
      ]
     },
     "metadata": {},
     "output_type": "display_data"
    },
    {
     "name": "stdout",
     "output_type": "stream",
     "text": [
      "Estamos en la página https://skinsort.com/products/products-for-oily-skin/page/55\n"
     ]
    },
    {
     "data": {
      "application/vnd.jupyter.widget-view+json": {
       "model_id": "9e29af424def423b9cf77fe2f6919598",
       "version_major": 2,
       "version_minor": 0
      },
      "text/plain": [
       "Obteniendo productos:   0%|          | 0/1 [00:00<?, ?it/s]"
      ]
     },
     "metadata": {},
     "output_type": "display_data"
    },
    {
     "name": "stdout",
     "output_type": "stream",
     "text": [
      "Estamos en la página https://skinsort.com/products/products-for-oily-skin/page/55\n"
     ]
    },
    {
     "data": {
      "application/vnd.jupyter.widget-view+json": {
       "model_id": "22b60172fb204462bf736b857cd22df8",
       "version_major": 2,
       "version_minor": 0
      },
      "text/plain": [
       "Obteniendo productos:   0%|          | 0/1 [00:00<?, ?it/s]"
      ]
     },
     "metadata": {},
     "output_type": "display_data"
    },
    {
     "name": "stdout",
     "output_type": "stream",
     "text": [
      "Estamos en la página https://skinsort.com/products/products-for-oily-skin/page/55\n"
     ]
    },
    {
     "data": {
      "application/vnd.jupyter.widget-view+json": {
       "model_id": "a1024554929642718151b3fd554c10ba",
       "version_major": 2,
       "version_minor": 0
      },
      "text/plain": [
       "Obteniendo productos:   0%|          | 0/1 [00:00<?, ?it/s]"
      ]
     },
     "metadata": {},
     "output_type": "display_data"
    },
    {
     "name": "stdout",
     "output_type": "stream",
     "text": [
      "Estamos en la página https://skinsort.com/products/products-for-oily-skin/page/56\n"
     ]
    },
    {
     "data": {
      "application/vnd.jupyter.widget-view+json": {
       "model_id": "8d2459c21b90428dbc2f6757514c0b9e",
       "version_major": 2,
       "version_minor": 0
      },
      "text/plain": [
       "Obteniendo productos:   0%|          | 0/1 [00:00<?, ?it/s]"
      ]
     },
     "metadata": {},
     "output_type": "display_data"
    },
    {
     "name": "stdout",
     "output_type": "stream",
     "text": [
      "Estamos en la página https://skinsort.com/products/products-for-oily-skin/page/56\n"
     ]
    },
    {
     "data": {
      "application/vnd.jupyter.widget-view+json": {
       "model_id": "dbda4216b79044db95ec87c04c3c9337",
       "version_major": 2,
       "version_minor": 0
      },
      "text/plain": [
       "Obteniendo productos:   0%|          | 0/1 [00:00<?, ?it/s]"
      ]
     },
     "metadata": {},
     "output_type": "display_data"
    },
    {
     "name": "stdout",
     "output_type": "stream",
     "text": [
      "Estamos en la página https://skinsort.com/products/products-for-oily-skin/page/56\n"
     ]
    },
    {
     "data": {
      "application/vnd.jupyter.widget-view+json": {
       "model_id": "c14839ea18ce45f486c3a09ba88cb677",
       "version_major": 2,
       "version_minor": 0
      },
      "text/plain": [
       "Obteniendo productos:   0%|          | 0/1 [00:00<?, ?it/s]"
      ]
     },
     "metadata": {},
     "output_type": "display_data"
    },
    {
     "name": "stdout",
     "output_type": "stream",
     "text": [
      "Estamos en la página https://skinsort.com/products/products-for-oily-skin/page/57\n"
     ]
    },
    {
     "data": {
      "application/vnd.jupyter.widget-view+json": {
       "model_id": "0611593c830246fd8fb77aa24b1e59a3",
       "version_major": 2,
       "version_minor": 0
      },
      "text/plain": [
       "Obteniendo productos:   0%|          | 0/1 [00:00<?, ?it/s]"
      ]
     },
     "metadata": {},
     "output_type": "display_data"
    },
    {
     "name": "stdout",
     "output_type": "stream",
     "text": [
      "Estamos en la página https://skinsort.com/products/products-for-oily-skin/page/57\n"
     ]
    },
    {
     "data": {
      "application/vnd.jupyter.widget-view+json": {
       "model_id": "138966b7803445299ec3d019428d1768",
       "version_major": 2,
       "version_minor": 0
      },
      "text/plain": [
       "Obteniendo productos:   0%|          | 0/1 [00:00<?, ?it/s]"
      ]
     },
     "metadata": {},
     "output_type": "display_data"
    },
    {
     "name": "stdout",
     "output_type": "stream",
     "text": [
      "Estamos en la página https://skinsort.com/products/products-for-oily-skin/page/57\n",
      "Error al obtener los datos.\n"
     ]
    },
    {
     "data": {
      "application/vnd.jupyter.widget-view+json": {
       "model_id": "6ac67ddbf3ea405094846e5b795a1566",
       "version_major": 2,
       "version_minor": 0
      },
      "text/plain": [
       "Obteniendo productos:   0%|          | 0/1 [00:00<?, ?it/s]"
      ]
     },
     "metadata": {},
     "output_type": "display_data"
    },
    {
     "name": "stdout",
     "output_type": "stream",
     "text": [
      "Estamos en la página https://skinsort.com/products/products-for-oily-skin/page/59\n"
     ]
    },
    {
     "data": {
      "application/vnd.jupyter.widget-view+json": {
       "model_id": "373a20716a264cb29b3b0398ca867f7c",
       "version_major": 2,
       "version_minor": 0
      },
      "text/plain": [
       "Obteniendo productos:   0%|          | 0/1 [00:00<?, ?it/s]"
      ]
     },
     "metadata": {},
     "output_type": "display_data"
    },
    {
     "name": "stdout",
     "output_type": "stream",
     "text": [
      "Estamos en la página https://skinsort.com/products/products-for-oily-skin/page/59\n"
     ]
    },
    {
     "data": {
      "application/vnd.jupyter.widget-view+json": {
       "model_id": "a67b948d979244539472a42b14030631",
       "version_major": 2,
       "version_minor": 0
      },
      "text/plain": [
       "Obteniendo productos:   0%|          | 0/1 [00:00<?, ?it/s]"
      ]
     },
     "metadata": {},
     "output_type": "display_data"
    },
    {
     "name": "stdout",
     "output_type": "stream",
     "text": [
      "Estamos en la página https://skinsort.com/products/products-for-oily-skin/page/59\n"
     ]
    },
    {
     "data": {
      "application/vnd.jupyter.widget-view+json": {
       "model_id": "7fcf1cf60f25422ea61f2c7d416af7b0",
       "version_major": 2,
       "version_minor": 0
      },
      "text/plain": [
       "Obteniendo productos:   0%|          | 0/1 [00:00<?, ?it/s]"
      ]
     },
     "metadata": {},
     "output_type": "display_data"
    },
    {
     "name": "stdout",
     "output_type": "stream",
     "text": [
      "Estamos en la página https://skinsort.com/products/products-for-oily-skin/page/60\n"
     ]
    },
    {
     "data": {
      "application/vnd.jupyter.widget-view+json": {
       "model_id": "7581fc9096a54f338cfbb3c298ee4491",
       "version_major": 2,
       "version_minor": 0
      },
      "text/plain": [
       "Obteniendo productos:   0%|          | 0/1 [00:00<?, ?it/s]"
      ]
     },
     "metadata": {},
     "output_type": "display_data"
    },
    {
     "name": "stdout",
     "output_type": "stream",
     "text": [
      "Estamos en la página https://skinsort.com/products/products-for-oily-skin/page/60\n"
     ]
    },
    {
     "data": {
      "application/vnd.jupyter.widget-view+json": {
       "model_id": "81d0e47df24246e7a4e456c8adb1a36c",
       "version_major": 2,
       "version_minor": 0
      },
      "text/plain": [
       "Obteniendo productos:   0%|          | 0/1 [00:00<?, ?it/s]"
      ]
     },
     "metadata": {},
     "output_type": "display_data"
    },
    {
     "name": "stdout",
     "output_type": "stream",
     "text": [
      "Estamos en la página https://skinsort.com/products/products-for-oily-skin/page/60\n"
     ]
    },
    {
     "data": {
      "application/vnd.jupyter.widget-view+json": {
       "model_id": "41960d42abf148d0a89286e99aff7b9e",
       "version_major": 2,
       "version_minor": 0
      },
      "text/plain": [
       "Obteniendo productos:   0%|          | 0/1 [00:00<?, ?it/s]"
      ]
     },
     "metadata": {},
     "output_type": "display_data"
    },
    {
     "name": "stdout",
     "output_type": "stream",
     "text": [
      "Estamos en la página https://skinsort.com/products/products-for-oily-skin/page/61\n"
     ]
    },
    {
     "data": {
      "application/vnd.jupyter.widget-view+json": {
       "model_id": "e1716a0bf8cd4dad822ad4efb5daa299",
       "version_major": 2,
       "version_minor": 0
      },
      "text/plain": [
       "Obteniendo productos:   0%|          | 0/1 [00:00<?, ?it/s]"
      ]
     },
     "metadata": {},
     "output_type": "display_data"
    },
    {
     "name": "stdout",
     "output_type": "stream",
     "text": [
      "Estamos en la página https://skinsort.com/products/products-for-oily-skin/page/61\n"
     ]
    },
    {
     "data": {
      "application/vnd.jupyter.widget-view+json": {
       "model_id": "a535fc6158184e43aa74a9467809b330",
       "version_major": 2,
       "version_minor": 0
      },
      "text/plain": [
       "Obteniendo productos:   0%|          | 0/1 [00:00<?, ?it/s]"
      ]
     },
     "metadata": {},
     "output_type": "display_data"
    },
    {
     "name": "stdout",
     "output_type": "stream",
     "text": [
      "Estamos en la página https://skinsort.com/products/products-for-oily-skin/page/61\n"
     ]
    },
    {
     "data": {
      "application/vnd.jupyter.widget-view+json": {
       "model_id": "97a174e3126e492588efcd07628bbb26",
       "version_major": 2,
       "version_minor": 0
      },
      "text/plain": [
       "Obteniendo productos:   0%|          | 0/1 [00:00<?, ?it/s]"
      ]
     },
     "metadata": {},
     "output_type": "display_data"
    },
    {
     "name": "stdout",
     "output_type": "stream",
     "text": [
      "Estamos en la página https://skinsort.com/products/products-for-oily-skin/page/62\n"
     ]
    },
    {
     "data": {
      "application/vnd.jupyter.widget-view+json": {
       "model_id": "08ea21a970124b4f86b273f080b32292",
       "version_major": 2,
       "version_minor": 0
      },
      "text/plain": [
       "Obteniendo productos:   0%|          | 0/1 [00:00<?, ?it/s]"
      ]
     },
     "metadata": {},
     "output_type": "display_data"
    },
    {
     "name": "stdout",
     "output_type": "stream",
     "text": [
      "Estamos en la página https://skinsort.com/products/products-for-oily-skin/page/62\n"
     ]
    },
    {
     "data": {
      "application/vnd.jupyter.widget-view+json": {
       "model_id": "595c01cc5ff741df9c7292683efadff7",
       "version_major": 2,
       "version_minor": 0
      },
      "text/plain": [
       "Obteniendo productos:   0%|          | 0/1 [00:00<?, ?it/s]"
      ]
     },
     "metadata": {},
     "output_type": "display_data"
    },
    {
     "name": "stdout",
     "output_type": "stream",
     "text": [
      "Estamos en la página https://skinsort.com/products/products-for-oily-skin/page/62\n"
     ]
    },
    {
     "data": {
      "application/vnd.jupyter.widget-view+json": {
       "model_id": "02f7a65a541c43c6a1111246c91cb4f7",
       "version_major": 2,
       "version_minor": 0
      },
      "text/plain": [
       "Obteniendo productos:   0%|          | 0/1 [00:00<?, ?it/s]"
      ]
     },
     "metadata": {},
     "output_type": "display_data"
    },
    {
     "name": "stdout",
     "output_type": "stream",
     "text": [
      "Estamos en la página https://skinsort.com/products/products-for-oily-skin/page/63\n"
     ]
    },
    {
     "data": {
      "application/vnd.jupyter.widget-view+json": {
       "model_id": "977fcc516f41494486e77f9552bfef78",
       "version_major": 2,
       "version_minor": 0
      },
      "text/plain": [
       "Obteniendo productos:   0%|          | 0/1 [00:00<?, ?it/s]"
      ]
     },
     "metadata": {},
     "output_type": "display_data"
    },
    {
     "name": "stdout",
     "output_type": "stream",
     "text": [
      "Estamos en la página https://skinsort.com/products/products-for-oily-skin/page/63\n"
     ]
    },
    {
     "data": {
      "application/vnd.jupyter.widget-view+json": {
       "model_id": "5a3e23fd7684423ca8acb50365df76c7",
       "version_major": 2,
       "version_minor": 0
      },
      "text/plain": [
       "Obteniendo productos:   0%|          | 0/1 [00:00<?, ?it/s]"
      ]
     },
     "metadata": {},
     "output_type": "display_data"
    },
    {
     "name": "stdout",
     "output_type": "stream",
     "text": [
      "Estamos en la página https://skinsort.com/products/products-for-oily-skin/page/63\n"
     ]
    },
    {
     "data": {
      "application/vnd.jupyter.widget-view+json": {
       "model_id": "8672cbea00134750bbfd6784af88015d",
       "version_major": 2,
       "version_minor": 0
      },
      "text/plain": [
       "Obteniendo productos:   0%|          | 0/1 [00:00<?, ?it/s]"
      ]
     },
     "metadata": {},
     "output_type": "display_data"
    },
    {
     "name": "stdout",
     "output_type": "stream",
     "text": [
      "Estamos en la página https://skinsort.com/products/products-for-oily-skin/page/64\n"
     ]
    },
    {
     "data": {
      "application/vnd.jupyter.widget-view+json": {
       "model_id": "08688bf731a1478fa1cd59bd0977f3d8",
       "version_major": 2,
       "version_minor": 0
      },
      "text/plain": [
       "Obteniendo productos:   0%|          | 0/1 [00:00<?, ?it/s]"
      ]
     },
     "metadata": {},
     "output_type": "display_data"
    },
    {
     "name": "stdout",
     "output_type": "stream",
     "text": [
      "Estamos en la página https://skinsort.com/products/products-for-oily-skin/page/64\n"
     ]
    },
    {
     "data": {
      "application/vnd.jupyter.widget-view+json": {
       "model_id": "382903f852e44029831f096fbf322cfd",
       "version_major": 2,
       "version_minor": 0
      },
      "text/plain": [
       "Obteniendo productos:   0%|          | 0/1 [00:00<?, ?it/s]"
      ]
     },
     "metadata": {},
     "output_type": "display_data"
    },
    {
     "name": "stdout",
     "output_type": "stream",
     "text": [
      "Estamos en la página https://skinsort.com/products/products-for-oily-skin/page/64\n"
     ]
    },
    {
     "data": {
      "application/vnd.jupyter.widget-view+json": {
       "model_id": "8fed0bcdeae440f3b6017d16d3168c4a",
       "version_major": 2,
       "version_minor": 0
      },
      "text/plain": [
       "Obteniendo productos:   0%|          | 0/1 [00:00<?, ?it/s]"
      ]
     },
     "metadata": {},
     "output_type": "display_data"
    },
    {
     "name": "stdout",
     "output_type": "stream",
     "text": [
      "Estamos en la página https://skinsort.com/products/products-for-oily-skin/page/65\n"
     ]
    },
    {
     "data": {
      "application/vnd.jupyter.widget-view+json": {
       "model_id": "eef51bf49b31467cb2446001e5faea8c",
       "version_major": 2,
       "version_minor": 0
      },
      "text/plain": [
       "Obteniendo productos:   0%|          | 0/1 [00:00<?, ?it/s]"
      ]
     },
     "metadata": {},
     "output_type": "display_data"
    },
    {
     "name": "stdout",
     "output_type": "stream",
     "text": [
      "Estamos en la página https://skinsort.com/products/products-for-oily-skin/page/65\n"
     ]
    },
    {
     "data": {
      "application/vnd.jupyter.widget-view+json": {
       "model_id": "00f809cc0e274d7e951fb55d79e61e47",
       "version_major": 2,
       "version_minor": 0
      },
      "text/plain": [
       "Obteniendo productos:   0%|          | 0/1 [00:00<?, ?it/s]"
      ]
     },
     "metadata": {},
     "output_type": "display_data"
    },
    {
     "name": "stdout",
     "output_type": "stream",
     "text": [
      "Estamos en la página https://skinsort.com/products/products-for-oily-skin/page/65\n"
     ]
    },
    {
     "data": {
      "application/vnd.jupyter.widget-view+json": {
       "model_id": "2df6447334ef452596a192faa3d624bd",
       "version_major": 2,
       "version_minor": 0
      },
      "text/plain": [
       "Obteniendo productos:   0%|          | 0/1 [00:00<?, ?it/s]"
      ]
     },
     "metadata": {},
     "output_type": "display_data"
    },
    {
     "name": "stdout",
     "output_type": "stream",
     "text": [
      "Estamos en la página https://skinsort.com/products/products-for-oily-skin/page/66\n"
     ]
    },
    {
     "data": {
      "application/vnd.jupyter.widget-view+json": {
       "model_id": "be63ca8b4c9e4bccaec0ccc92b4fe711",
       "version_major": 2,
       "version_minor": 0
      },
      "text/plain": [
       "Obteniendo productos:   0%|          | 0/1 [00:00<?, ?it/s]"
      ]
     },
     "metadata": {},
     "output_type": "display_data"
    },
    {
     "name": "stdout",
     "output_type": "stream",
     "text": [
      "Estamos en la página https://skinsort.com/products/products-for-oily-skin/page/66\n"
     ]
    },
    {
     "data": {
      "application/vnd.jupyter.widget-view+json": {
       "model_id": "3c1f63822cbc4bca8d4f4f3a7294ea9c",
       "version_major": 2,
       "version_minor": 0
      },
      "text/plain": [
       "Obteniendo productos:   0%|          | 0/1 [00:00<?, ?it/s]"
      ]
     },
     "metadata": {},
     "output_type": "display_data"
    },
    {
     "name": "stdout",
     "output_type": "stream",
     "text": [
      "Estamos en la página https://skinsort.com/products/products-for-oily-skin/page/66\n"
     ]
    },
    {
     "data": {
      "application/vnd.jupyter.widget-view+json": {
       "model_id": "3bde6d351df04ccebabe51801e747132",
       "version_major": 2,
       "version_minor": 0
      },
      "text/plain": [
       "Obteniendo productos:   0%|          | 0/1 [00:00<?, ?it/s]"
      ]
     },
     "metadata": {},
     "output_type": "display_data"
    },
    {
     "name": "stdout",
     "output_type": "stream",
     "text": [
      "Estamos en la página https://skinsort.com/products/products-for-oily-skin/page/67\n"
     ]
    },
    {
     "data": {
      "application/vnd.jupyter.widget-view+json": {
       "model_id": "f2fcb67b36094aa4ae187cd44c60c0a4",
       "version_major": 2,
       "version_minor": 0
      },
      "text/plain": [
       "Obteniendo productos:   0%|          | 0/1 [00:00<?, ?it/s]"
      ]
     },
     "metadata": {},
     "output_type": "display_data"
    },
    {
     "name": "stdout",
     "output_type": "stream",
     "text": [
      "Estamos en la página https://skinsort.com/products/products-for-oily-skin/page/67\n"
     ]
    },
    {
     "data": {
      "application/vnd.jupyter.widget-view+json": {
       "model_id": "bd44fbe1cbc0457b8edbf9de8f27d470",
       "version_major": 2,
       "version_minor": 0
      },
      "text/plain": [
       "Obteniendo productos:   0%|          | 0/1 [00:00<?, ?it/s]"
      ]
     },
     "metadata": {},
     "output_type": "display_data"
    },
    {
     "name": "stdout",
     "output_type": "stream",
     "text": [
      "Estamos en la página https://skinsort.com/products/products-for-oily-skin/page/67\n"
     ]
    },
    {
     "data": {
      "application/vnd.jupyter.widget-view+json": {
       "model_id": "6d634c45819242e5acba37aeb91247f8",
       "version_major": 2,
       "version_minor": 0
      },
      "text/plain": [
       "Obteniendo productos:   0%|          | 0/1 [00:00<?, ?it/s]"
      ]
     },
     "metadata": {},
     "output_type": "display_data"
    },
    {
     "name": "stdout",
     "output_type": "stream",
     "text": [
      "Estamos en la página https://skinsort.com/products/products-for-oily-skin/page/68\n"
     ]
    },
    {
     "data": {
      "application/vnd.jupyter.widget-view+json": {
       "model_id": "fdf8e2f4184c48a4b04cd47c192647dc",
       "version_major": 2,
       "version_minor": 0
      },
      "text/plain": [
       "Obteniendo productos:   0%|          | 0/1 [00:00<?, ?it/s]"
      ]
     },
     "metadata": {},
     "output_type": "display_data"
    },
    {
     "name": "stdout",
     "output_type": "stream",
     "text": [
      "Estamos en la página https://skinsort.com/products/products-for-oily-skin/page/68\n"
     ]
    },
    {
     "data": {
      "application/vnd.jupyter.widget-view+json": {
       "model_id": "89329dfb7a88441dbe8aee040104bdb1",
       "version_major": 2,
       "version_minor": 0
      },
      "text/plain": [
       "Obteniendo productos:   0%|          | 0/1 [00:00<?, ?it/s]"
      ]
     },
     "metadata": {},
     "output_type": "display_data"
    },
    {
     "name": "stdout",
     "output_type": "stream",
     "text": [
      "Estamos en la página https://skinsort.com/products/products-for-oily-skin/page/68\n"
     ]
    },
    {
     "data": {
      "application/vnd.jupyter.widget-view+json": {
       "model_id": "b66c42719e3a43b68582d775cd9b9da8",
       "version_major": 2,
       "version_minor": 0
      },
      "text/plain": [
       "Obteniendo productos:   0%|          | 0/1 [00:00<?, ?it/s]"
      ]
     },
     "metadata": {},
     "output_type": "display_data"
    },
    {
     "name": "stdout",
     "output_type": "stream",
     "text": [
      "Estamos en la página https://skinsort.com/products/products-for-oily-skin/page/69\n"
     ]
    },
    {
     "data": {
      "application/vnd.jupyter.widget-view+json": {
       "model_id": "7e9209c4d8b948989445cfc079fb5b13",
       "version_major": 2,
       "version_minor": 0
      },
      "text/plain": [
       "Obteniendo productos:   0%|          | 0/1 [00:00<?, ?it/s]"
      ]
     },
     "metadata": {},
     "output_type": "display_data"
    },
    {
     "name": "stdout",
     "output_type": "stream",
     "text": [
      "Estamos en la página https://skinsort.com/products/products-for-oily-skin/page/69\n"
     ]
    },
    {
     "data": {
      "application/vnd.jupyter.widget-view+json": {
       "model_id": "03ada01192af4b309bb9287feea0c511",
       "version_major": 2,
       "version_minor": 0
      },
      "text/plain": [
       "Obteniendo productos:   0%|          | 0/1 [00:00<?, ?it/s]"
      ]
     },
     "metadata": {},
     "output_type": "display_data"
    },
    {
     "name": "stdout",
     "output_type": "stream",
     "text": [
      "Estamos en la página https://skinsort.com/products/products-for-oily-skin/page/69\n"
     ]
    },
    {
     "data": {
      "application/vnd.jupyter.widget-view+json": {
       "model_id": "87bab4bbe0b5405aaea9bbd5a5304623",
       "version_major": 2,
       "version_minor": 0
      },
      "text/plain": [
       "Obteniendo productos:   0%|          | 0/1 [00:00<?, ?it/s]"
      ]
     },
     "metadata": {},
     "output_type": "display_data"
    },
    {
     "name": "stdout",
     "output_type": "stream",
     "text": [
      "Estamos en la página https://skinsort.com/products/products-for-oily-skin/page/70\n"
     ]
    },
    {
     "data": {
      "application/vnd.jupyter.widget-view+json": {
       "model_id": "5262e7c01b5e4808a2bc863df329f3a6",
       "version_major": 2,
       "version_minor": 0
      },
      "text/plain": [
       "Obteniendo productos:   0%|          | 0/1 [00:00<?, ?it/s]"
      ]
     },
     "metadata": {},
     "output_type": "display_data"
    },
    {
     "name": "stdout",
     "output_type": "stream",
     "text": [
      "Estamos en la página https://skinsort.com/products/products-for-oily-skin/page/70\n"
     ]
    },
    {
     "data": {
      "application/vnd.jupyter.widget-view+json": {
       "model_id": "c349355ec44e4d8ea3b284d10dba803d",
       "version_major": 2,
       "version_minor": 0
      },
      "text/plain": [
       "Obteniendo productos:   0%|          | 0/1 [00:00<?, ?it/s]"
      ]
     },
     "metadata": {},
     "output_type": "display_data"
    },
    {
     "name": "stdout",
     "output_type": "stream",
     "text": [
      "Estamos en la página https://skinsort.com/products/products-for-oily-skin/page/70\n"
     ]
    },
    {
     "data": {
      "application/vnd.jupyter.widget-view+json": {
       "model_id": "36cd688b21b84afba5c90663208f11b7",
       "version_major": 2,
       "version_minor": 0
      },
      "text/plain": [
       "Obteniendo productos:   0%|          | 0/1 [00:00<?, ?it/s]"
      ]
     },
     "metadata": {},
     "output_type": "display_data"
    },
    {
     "name": "stdout",
     "output_type": "stream",
     "text": [
      "Estamos en la página https://skinsort.com/products/products-for-oily-skin/page/71\n"
     ]
    },
    {
     "data": {
      "application/vnd.jupyter.widget-view+json": {
       "model_id": "b110ce7147c5491e817a24b51fca987e",
       "version_major": 2,
       "version_minor": 0
      },
      "text/plain": [
       "Obteniendo productos:   0%|          | 0/1 [00:00<?, ?it/s]"
      ]
     },
     "metadata": {},
     "output_type": "display_data"
    },
    {
     "name": "stdout",
     "output_type": "stream",
     "text": [
      "Estamos en la página https://skinsort.com/products/products-for-oily-skin/page/71\n"
     ]
    },
    {
     "data": {
      "application/vnd.jupyter.widget-view+json": {
       "model_id": "9335c04bb01d404a995405abad2c7bef",
       "version_major": 2,
       "version_minor": 0
      },
      "text/plain": [
       "Obteniendo productos:   0%|          | 0/1 [00:00<?, ?it/s]"
      ]
     },
     "metadata": {},
     "output_type": "display_data"
    },
    {
     "name": "stdout",
     "output_type": "stream",
     "text": [
      "Estamos en la página https://skinsort.com/products/products-for-oily-skin/page/71\n"
     ]
    },
    {
     "data": {
      "application/vnd.jupyter.widget-view+json": {
       "model_id": "e8de3c9dbd144e818cfea9fee555df9d",
       "version_major": 2,
       "version_minor": 0
      },
      "text/plain": [
       "Obteniendo productos:   0%|          | 0/1 [00:00<?, ?it/s]"
      ]
     },
     "metadata": {},
     "output_type": "display_data"
    },
    {
     "name": "stdout",
     "output_type": "stream",
     "text": [
      "Estamos en la página https://skinsort.com/products/products-for-oily-skin/page/72\n"
     ]
    },
    {
     "data": {
      "application/vnd.jupyter.widget-view+json": {
       "model_id": "b04b2cab197b4ce4b502c2d201e1b521",
       "version_major": 2,
       "version_minor": 0
      },
      "text/plain": [
       "Obteniendo productos:   0%|          | 0/1 [00:00<?, ?it/s]"
      ]
     },
     "metadata": {},
     "output_type": "display_data"
    },
    {
     "name": "stdout",
     "output_type": "stream",
     "text": [
      "Estamos en la página https://skinsort.com/products/products-for-oily-skin/page/72\n"
     ]
    },
    {
     "data": {
      "application/vnd.jupyter.widget-view+json": {
       "model_id": "ccbd2e5dcb6646078edcfb4aecbcd256",
       "version_major": 2,
       "version_minor": 0
      },
      "text/plain": [
       "Obteniendo productos:   0%|          | 0/1 [00:00<?, ?it/s]"
      ]
     },
     "metadata": {},
     "output_type": "display_data"
    },
    {
     "name": "stdout",
     "output_type": "stream",
     "text": [
      "Estamos en la página https://skinsort.com/products/products-for-oily-skin/page/72\n"
     ]
    },
    {
     "data": {
      "application/vnd.jupyter.widget-view+json": {
       "model_id": "898d664519b9409bbb7616ed07e52774",
       "version_major": 2,
       "version_minor": 0
      },
      "text/plain": [
       "Obteniendo productos:   0%|          | 0/1 [00:00<?, ?it/s]"
      ]
     },
     "metadata": {},
     "output_type": "display_data"
    },
    {
     "name": "stdout",
     "output_type": "stream",
     "text": [
      "Estamos en la página https://skinsort.com/products/products-for-oily-skin/page/73\n"
     ]
    },
    {
     "data": {
      "application/vnd.jupyter.widget-view+json": {
       "model_id": "4799241e87f54886bc78680efe99618e",
       "version_major": 2,
       "version_minor": 0
      },
      "text/plain": [
       "Obteniendo productos:   0%|          | 0/1 [00:00<?, ?it/s]"
      ]
     },
     "metadata": {},
     "output_type": "display_data"
    },
    {
     "name": "stdout",
     "output_type": "stream",
     "text": [
      "Estamos en la página https://skinsort.com/products/products-for-oily-skin/page/73\n"
     ]
    },
    {
     "data": {
      "application/vnd.jupyter.widget-view+json": {
       "model_id": "4ac699121fab4251bc3a8550264d0ff7",
       "version_major": 2,
       "version_minor": 0
      },
      "text/plain": [
       "Obteniendo productos:   0%|          | 0/1 [00:00<?, ?it/s]"
      ]
     },
     "metadata": {},
     "output_type": "display_data"
    },
    {
     "name": "stdout",
     "output_type": "stream",
     "text": [
      "Estamos en la página https://skinsort.com/products/products-for-oily-skin/page/73\n"
     ]
    },
    {
     "data": {
      "application/vnd.jupyter.widget-view+json": {
       "model_id": "219d481e7021401491883e8c3c4a95f5",
       "version_major": 2,
       "version_minor": 0
      },
      "text/plain": [
       "Obteniendo productos:   0%|          | 0/1 [00:00<?, ?it/s]"
      ]
     },
     "metadata": {},
     "output_type": "display_data"
    },
    {
     "name": "stdout",
     "output_type": "stream",
     "text": [
      "Estamos en la página https://skinsort.com/products/products-for-oily-skin/page/74\n"
     ]
    },
    {
     "data": {
      "application/vnd.jupyter.widget-view+json": {
       "model_id": "ff4e814ecce845cdb9bc219c7502ef25",
       "version_major": 2,
       "version_minor": 0
      },
      "text/plain": [
       "Obteniendo productos:   0%|          | 0/1 [00:00<?, ?it/s]"
      ]
     },
     "metadata": {},
     "output_type": "display_data"
    },
    {
     "name": "stdout",
     "output_type": "stream",
     "text": [
      "Estamos en la página https://skinsort.com/products/products-for-oily-skin/page/74\n"
     ]
    },
    {
     "data": {
      "application/vnd.jupyter.widget-view+json": {
       "model_id": "c066f21b1cd74a70988c63b350903df5",
       "version_major": 2,
       "version_minor": 0
      },
      "text/plain": [
       "Obteniendo productos:   0%|          | 0/1 [00:00<?, ?it/s]"
      ]
     },
     "metadata": {},
     "output_type": "display_data"
    },
    {
     "name": "stdout",
     "output_type": "stream",
     "text": [
      "Estamos en la página https://skinsort.com/products/products-for-oily-skin/page/74\n"
     ]
    },
    {
     "data": {
      "application/vnd.jupyter.widget-view+json": {
       "model_id": "0f8b8ec84eda45a0b72f8dc45e6dc542",
       "version_major": 2,
       "version_minor": 0
      },
      "text/plain": [
       "Obteniendo productos:   0%|          | 0/1 [00:00<?, ?it/s]"
      ]
     },
     "metadata": {},
     "output_type": "display_data"
    },
    {
     "name": "stdout",
     "output_type": "stream",
     "text": [
      "Estamos en la página https://skinsort.com/products/products-for-oily-skin/page/75\n"
     ]
    },
    {
     "data": {
      "application/vnd.jupyter.widget-view+json": {
       "model_id": "b5ad64a40ea940be82af6bbf3e79f3f7",
       "version_major": 2,
       "version_minor": 0
      },
      "text/plain": [
       "Obteniendo productos:   0%|          | 0/1 [00:00<?, ?it/s]"
      ]
     },
     "metadata": {},
     "output_type": "display_data"
    },
    {
     "name": "stdout",
     "output_type": "stream",
     "text": [
      "Estamos en la página https://skinsort.com/products/products-for-oily-skin/page/75\n"
     ]
    },
    {
     "data": {
      "application/vnd.jupyter.widget-view+json": {
       "model_id": "c6bef26ae82b45009323dbd36c8ee31e",
       "version_major": 2,
       "version_minor": 0
      },
      "text/plain": [
       "Obteniendo productos:   0%|          | 0/1 [00:00<?, ?it/s]"
      ]
     },
     "metadata": {},
     "output_type": "display_data"
    },
    {
     "name": "stdout",
     "output_type": "stream",
     "text": [
      "Estamos en la página https://skinsort.com/products/products-for-oily-skin/page/75\n"
     ]
    },
    {
     "data": {
      "application/vnd.jupyter.widget-view+json": {
       "model_id": "f6a256828d674e4cafad1aa52c46c41b",
       "version_major": 2,
       "version_minor": 0
      },
      "text/plain": [
       "Obteniendo productos:   0%|          | 0/1 [00:00<?, ?it/s]"
      ]
     },
     "metadata": {},
     "output_type": "display_data"
    },
    {
     "name": "stdout",
     "output_type": "stream",
     "text": [
      "Estamos en la página https://skinsort.com/products/products-for-oily-skin/page/76\n"
     ]
    },
    {
     "data": {
      "application/vnd.jupyter.widget-view+json": {
       "model_id": "17f21b66132b47b6b845c79d9bfb3190",
       "version_major": 2,
       "version_minor": 0
      },
      "text/plain": [
       "Obteniendo productos:   0%|          | 0/1 [00:00<?, ?it/s]"
      ]
     },
     "metadata": {},
     "output_type": "display_data"
    },
    {
     "name": "stdout",
     "output_type": "stream",
     "text": [
      "Estamos en la página https://skinsort.com/products/products-for-oily-skin/page/76\n"
     ]
    },
    {
     "data": {
      "application/vnd.jupyter.widget-view+json": {
       "model_id": "2493f93980774dcaa0a942768d523ef4",
       "version_major": 2,
       "version_minor": 0
      },
      "text/plain": [
       "Obteniendo productos:   0%|          | 0/1 [00:00<?, ?it/s]"
      ]
     },
     "metadata": {},
     "output_type": "display_data"
    },
    {
     "name": "stdout",
     "output_type": "stream",
     "text": [
      "Estamos en la página https://skinsort.com/products/products-for-oily-skin/page/76\n"
     ]
    },
    {
     "data": {
      "application/vnd.jupyter.widget-view+json": {
       "model_id": "48c4bd0e347048998335cb8050f45960",
       "version_major": 2,
       "version_minor": 0
      },
      "text/plain": [
       "Obteniendo productos:   0%|          | 0/1 [00:00<?, ?it/s]"
      ]
     },
     "metadata": {},
     "output_type": "display_data"
    },
    {
     "name": "stdout",
     "output_type": "stream",
     "text": [
      "Estamos en la página https://skinsort.com/products/products-for-oily-skin/page/77\n"
     ]
    },
    {
     "data": {
      "application/vnd.jupyter.widget-view+json": {
       "model_id": "c9198ab2c42343e3af052006a18a2bf0",
       "version_major": 2,
       "version_minor": 0
      },
      "text/plain": [
       "Obteniendo productos:   0%|          | 0/1 [00:00<?, ?it/s]"
      ]
     },
     "metadata": {},
     "output_type": "display_data"
    },
    {
     "name": "stdout",
     "output_type": "stream",
     "text": [
      "Estamos en la página https://skinsort.com/products/products-for-oily-skin/page/77\n"
     ]
    },
    {
     "data": {
      "application/vnd.jupyter.widget-view+json": {
       "model_id": "16b632952af04cbdb67a28f1eb454060",
       "version_major": 2,
       "version_minor": 0
      },
      "text/plain": [
       "Obteniendo productos:   0%|          | 0/1 [00:00<?, ?it/s]"
      ]
     },
     "metadata": {},
     "output_type": "display_data"
    },
    {
     "name": "stdout",
     "output_type": "stream",
     "text": [
      "Estamos en la página https://skinsort.com/products/products-for-oily-skin/page/77\n"
     ]
    },
    {
     "data": {
      "application/vnd.jupyter.widget-view+json": {
       "model_id": "78083823c7734dda8b1bad84763627d8",
       "version_major": 2,
       "version_minor": 0
      },
      "text/plain": [
       "Obteniendo productos:   0%|          | 0/1 [00:00<?, ?it/s]"
      ]
     },
     "metadata": {},
     "output_type": "display_data"
    },
    {
     "name": "stdout",
     "output_type": "stream",
     "text": [
      "Estamos en la página https://skinsort.com/products/products-for-oily-skin/page/78\n"
     ]
    },
    {
     "data": {
      "application/vnd.jupyter.widget-view+json": {
       "model_id": "ef0541a51a214f9b93c87dcd3427955c",
       "version_major": 2,
       "version_minor": 0
      },
      "text/plain": [
       "Obteniendo productos:   0%|          | 0/1 [00:00<?, ?it/s]"
      ]
     },
     "metadata": {},
     "output_type": "display_data"
    },
    {
     "name": "stdout",
     "output_type": "stream",
     "text": [
      "Estamos en la página https://skinsort.com/products/products-for-oily-skin/page/78\n"
     ]
    },
    {
     "data": {
      "application/vnd.jupyter.widget-view+json": {
       "model_id": "56d24cd2ddfe4e52817bf15e3705d9a2",
       "version_major": 2,
       "version_minor": 0
      },
      "text/plain": [
       "Obteniendo productos:   0%|          | 0/1 [00:00<?, ?it/s]"
      ]
     },
     "metadata": {},
     "output_type": "display_data"
    },
    {
     "name": "stdout",
     "output_type": "stream",
     "text": [
      "Estamos en la página https://skinsort.com/products/products-for-oily-skin/page/78\n"
     ]
    },
    {
     "data": {
      "application/vnd.jupyter.widget-view+json": {
       "model_id": "f97174caef3040f39aab7e05e6e70bdc",
       "version_major": 2,
       "version_minor": 0
      },
      "text/plain": [
       "Obteniendo productos:   0%|          | 0/1 [00:00<?, ?it/s]"
      ]
     },
     "metadata": {},
     "output_type": "display_data"
    },
    {
     "name": "stdout",
     "output_type": "stream",
     "text": [
      "Estamos en la página https://skinsort.com/products/products-for-oily-skin/page/79\n"
     ]
    },
    {
     "data": {
      "application/vnd.jupyter.widget-view+json": {
       "model_id": "4039f228ff044ad1ad472af501a12029",
       "version_major": 2,
       "version_minor": 0
      },
      "text/plain": [
       "Obteniendo productos:   0%|          | 0/1 [00:00<?, ?it/s]"
      ]
     },
     "metadata": {},
     "output_type": "display_data"
    },
    {
     "name": "stdout",
     "output_type": "stream",
     "text": [
      "Estamos en la página https://skinsort.com/products/products-for-oily-skin/page/79\n"
     ]
    },
    {
     "data": {
      "application/vnd.jupyter.widget-view+json": {
       "model_id": "aa2d74ea3b8641d4a312b9287bdd8335",
       "version_major": 2,
       "version_minor": 0
      },
      "text/plain": [
       "Obteniendo productos:   0%|          | 0/1 [00:00<?, ?it/s]"
      ]
     },
     "metadata": {},
     "output_type": "display_data"
    },
    {
     "name": "stdout",
     "output_type": "stream",
     "text": [
      "Estamos en la página https://skinsort.com/products/products-for-oily-skin/page/79\n"
     ]
    },
    {
     "data": {
      "application/vnd.jupyter.widget-view+json": {
       "model_id": "cd8e1bcb0dfb4a73badfe49f35c2e5d9",
       "version_major": 2,
       "version_minor": 0
      },
      "text/plain": [
       "Obteniendo productos:   0%|          | 0/1 [00:00<?, ?it/s]"
      ]
     },
     "metadata": {},
     "output_type": "display_data"
    },
    {
     "name": "stdout",
     "output_type": "stream",
     "text": [
      "Estamos en la página https://skinsort.com/products/products-for-oily-skin/page/80\n"
     ]
    },
    {
     "data": {
      "application/vnd.jupyter.widget-view+json": {
       "model_id": "26cbc94c95994963b012b78de6012ab9",
       "version_major": 2,
       "version_minor": 0
      },
      "text/plain": [
       "Obteniendo productos:   0%|          | 0/1 [00:00<?, ?it/s]"
      ]
     },
     "metadata": {},
     "output_type": "display_data"
    },
    {
     "name": "stdout",
     "output_type": "stream",
     "text": [
      "Estamos en la página https://skinsort.com/products/products-for-oily-skin/page/80\n"
     ]
    },
    {
     "data": {
      "application/vnd.jupyter.widget-view+json": {
       "model_id": "67312c6130e74fefa7793e8e968d977c",
       "version_major": 2,
       "version_minor": 0
      },
      "text/plain": [
       "Obteniendo productos:   0%|          | 0/1 [00:00<?, ?it/s]"
      ]
     },
     "metadata": {},
     "output_type": "display_data"
    },
    {
     "name": "stdout",
     "output_type": "stream",
     "text": [
      "Estamos en la página https://skinsort.com/products/products-for-oily-skin/page/80\n"
     ]
    },
    {
     "data": {
      "application/vnd.jupyter.widget-view+json": {
       "model_id": "5b5b99a058b842ff82762c43ea8f01d0",
       "version_major": 2,
       "version_minor": 0
      },
      "text/plain": [
       "Obteniendo productos:   0%|          | 0/1 [00:00<?, ?it/s]"
      ]
     },
     "metadata": {},
     "output_type": "display_data"
    },
    {
     "name": "stdout",
     "output_type": "stream",
     "text": [
      "Estamos en la página https://skinsort.com/products/products-for-oily-skin/page/81\n"
     ]
    },
    {
     "data": {
      "application/vnd.jupyter.widget-view+json": {
       "model_id": "196bfe5f7af4423eae6ddc4e06084c9f",
       "version_major": 2,
       "version_minor": 0
      },
      "text/plain": [
       "Obteniendo productos:   0%|          | 0/1 [00:00<?, ?it/s]"
      ]
     },
     "metadata": {},
     "output_type": "display_data"
    },
    {
     "name": "stdout",
     "output_type": "stream",
     "text": [
      "Estamos en la página https://skinsort.com/products/products-for-oily-skin/page/81\n"
     ]
    },
    {
     "data": {
      "application/vnd.jupyter.widget-view+json": {
       "model_id": "3dfb12f7564c46aeb1fc408b01a2ace9",
       "version_major": 2,
       "version_minor": 0
      },
      "text/plain": [
       "Obteniendo productos:   0%|          | 0/1 [00:00<?, ?it/s]"
      ]
     },
     "metadata": {},
     "output_type": "display_data"
    },
    {
     "name": "stdout",
     "output_type": "stream",
     "text": [
      "Estamos en la página https://skinsort.com/products/products-for-oily-skin/page/81\n"
     ]
    },
    {
     "data": {
      "application/vnd.jupyter.widget-view+json": {
       "model_id": "ba517d91e11c4f4fbd05fc794de23803",
       "version_major": 2,
       "version_minor": 0
      },
      "text/plain": [
       "Obteniendo productos:   0%|          | 0/1 [00:00<?, ?it/s]"
      ]
     },
     "metadata": {},
     "output_type": "display_data"
    },
    {
     "name": "stdout",
     "output_type": "stream",
     "text": [
      "Estamos en la página https://skinsort.com/products/products-for-oily-skin/page/82\n"
     ]
    },
    {
     "data": {
      "application/vnd.jupyter.widget-view+json": {
       "model_id": "06f5985bacdb4c70a3d379dc8845facd",
       "version_major": 2,
       "version_minor": 0
      },
      "text/plain": [
       "Obteniendo productos:   0%|          | 0/1 [00:00<?, ?it/s]"
      ]
     },
     "metadata": {},
     "output_type": "display_data"
    },
    {
     "name": "stdout",
     "output_type": "stream",
     "text": [
      "Estamos en la página https://skinsort.com/products/products-for-oily-skin/page/82\n"
     ]
    },
    {
     "data": {
      "application/vnd.jupyter.widget-view+json": {
       "model_id": "1e73574306f142d3a8c54fa3a4cc2af1",
       "version_major": 2,
       "version_minor": 0
      },
      "text/plain": [
       "Obteniendo productos:   0%|          | 0/1 [00:00<?, ?it/s]"
      ]
     },
     "metadata": {},
     "output_type": "display_data"
    },
    {
     "name": "stdout",
     "output_type": "stream",
     "text": [
      "Estamos en la página https://skinsort.com/products/products-for-oily-skin/page/82\n"
     ]
    },
    {
     "data": {
      "application/vnd.jupyter.widget-view+json": {
       "model_id": "83d2eb68cee24296a126580a4b955308",
       "version_major": 2,
       "version_minor": 0
      },
      "text/plain": [
       "Obteniendo productos:   0%|          | 0/1 [00:00<?, ?it/s]"
      ]
     },
     "metadata": {},
     "output_type": "display_data"
    },
    {
     "name": "stdout",
     "output_type": "stream",
     "text": [
      "Estamos en la página https://skinsort.com/products/products-for-oily-skin/page/83\n"
     ]
    },
    {
     "data": {
      "application/vnd.jupyter.widget-view+json": {
       "model_id": "2a36539c20f54b398c3c395db191df08",
       "version_major": 2,
       "version_minor": 0
      },
      "text/plain": [
       "Obteniendo productos:   0%|          | 0/1 [00:00<?, ?it/s]"
      ]
     },
     "metadata": {},
     "output_type": "display_data"
    },
    {
     "name": "stdout",
     "output_type": "stream",
     "text": [
      "Estamos en la página https://skinsort.com/products/products-for-oily-skin/page/83\n"
     ]
    },
    {
     "data": {
      "application/vnd.jupyter.widget-view+json": {
       "model_id": "f3f657122ec84dabb82e92c34620d713",
       "version_major": 2,
       "version_minor": 0
      },
      "text/plain": [
       "Obteniendo productos:   0%|          | 0/1 [00:00<?, ?it/s]"
      ]
     },
     "metadata": {},
     "output_type": "display_data"
    },
    {
     "name": "stdout",
     "output_type": "stream",
     "text": [
      "Estamos en la página https://skinsort.com/products/products-for-oily-skin/page/83\n"
     ]
    },
    {
     "data": {
      "application/vnd.jupyter.widget-view+json": {
       "model_id": "e3e0312465cb4c99bceeb2b737efe276",
       "version_major": 2,
       "version_minor": 0
      },
      "text/plain": [
       "Obteniendo productos:   0%|          | 0/1 [00:00<?, ?it/s]"
      ]
     },
     "metadata": {},
     "output_type": "display_data"
    },
    {
     "name": "stdout",
     "output_type": "stream",
     "text": [
      "Estamos en la página https://skinsort.com/products/products-for-oily-skin/page/84\n"
     ]
    },
    {
     "data": {
      "application/vnd.jupyter.widget-view+json": {
       "model_id": "9b8c2748a485494ea190b03ed44400b5",
       "version_major": 2,
       "version_minor": 0
      },
      "text/plain": [
       "Obteniendo productos:   0%|          | 0/1 [00:00<?, ?it/s]"
      ]
     },
     "metadata": {},
     "output_type": "display_data"
    },
    {
     "name": "stdout",
     "output_type": "stream",
     "text": [
      "Estamos en la página https://skinsort.com/products/products-for-oily-skin/page/84\n"
     ]
    },
    {
     "data": {
      "application/vnd.jupyter.widget-view+json": {
       "model_id": "53e7f477d9834d17b9b92af9bb8f69eb",
       "version_major": 2,
       "version_minor": 0
      },
      "text/plain": [
       "Obteniendo productos:   0%|          | 0/1 [00:00<?, ?it/s]"
      ]
     },
     "metadata": {},
     "output_type": "display_data"
    },
    {
     "name": "stdout",
     "output_type": "stream",
     "text": [
      "Estamos en la página https://skinsort.com/products/products-for-oily-skin/page/84\n"
     ]
    },
    {
     "data": {
      "application/vnd.jupyter.widget-view+json": {
       "model_id": "04fef26109124f2db7fbfdf5bad0dbcb",
       "version_major": 2,
       "version_minor": 0
      },
      "text/plain": [
       "Obteniendo productos:   0%|          | 0/1 [00:00<?, ?it/s]"
      ]
     },
     "metadata": {},
     "output_type": "display_data"
    },
    {
     "name": "stdout",
     "output_type": "stream",
     "text": [
      "Estamos en la página https://skinsort.com/products/products-for-oily-skin/page/85\n"
     ]
    },
    {
     "data": {
      "application/vnd.jupyter.widget-view+json": {
       "model_id": "411c98631b294d79be016b583302c549",
       "version_major": 2,
       "version_minor": 0
      },
      "text/plain": [
       "Obteniendo productos:   0%|          | 0/1 [00:00<?, ?it/s]"
      ]
     },
     "metadata": {},
     "output_type": "display_data"
    },
    {
     "name": "stdout",
     "output_type": "stream",
     "text": [
      "Estamos en la página https://skinsort.com/products/products-for-oily-skin/page/85\n"
     ]
    },
    {
     "data": {
      "application/vnd.jupyter.widget-view+json": {
       "model_id": "b3e0087b57db4e4d9c27ff60a274d2c0",
       "version_major": 2,
       "version_minor": 0
      },
      "text/plain": [
       "Obteniendo productos:   0%|          | 0/1 [00:00<?, ?it/s]"
      ]
     },
     "metadata": {},
     "output_type": "display_data"
    },
    {
     "name": "stdout",
     "output_type": "stream",
     "text": [
      "Estamos en la página https://skinsort.com/products/products-for-oily-skin/page/85\n"
     ]
    },
    {
     "data": {
      "application/vnd.jupyter.widget-view+json": {
       "model_id": "1f203b4f0a554e54a04a942a98c99e0d",
       "version_major": 2,
       "version_minor": 0
      },
      "text/plain": [
       "Obteniendo productos:   0%|          | 0/1 [00:00<?, ?it/s]"
      ]
     },
     "metadata": {},
     "output_type": "display_data"
    },
    {
     "name": "stdout",
     "output_type": "stream",
     "text": [
      "Estamos en la página https://skinsort.com/products/products-for-oily-skin/page/86\n"
     ]
    },
    {
     "data": {
      "application/vnd.jupyter.widget-view+json": {
       "model_id": "0020cad120084627903edd83c65b3de3",
       "version_major": 2,
       "version_minor": 0
      },
      "text/plain": [
       "Obteniendo productos:   0%|          | 0/1 [00:00<?, ?it/s]"
      ]
     },
     "metadata": {},
     "output_type": "display_data"
    },
    {
     "name": "stdout",
     "output_type": "stream",
     "text": [
      "Estamos en la página https://skinsort.com/products/products-for-oily-skin/page/86\n"
     ]
    },
    {
     "data": {
      "application/vnd.jupyter.widget-view+json": {
       "model_id": "14869e31aed140088866cf2c6e90df90",
       "version_major": 2,
       "version_minor": 0
      },
      "text/plain": [
       "Obteniendo productos:   0%|          | 0/1 [00:00<?, ?it/s]"
      ]
     },
     "metadata": {},
     "output_type": "display_data"
    },
    {
     "name": "stdout",
     "output_type": "stream",
     "text": [
      "Estamos en la página https://skinsort.com/products/products-for-oily-skin/page/86\n"
     ]
    },
    {
     "data": {
      "application/vnd.jupyter.widget-view+json": {
       "model_id": "be8168b6ad2c4633b6ac753db07e5225",
       "version_major": 2,
       "version_minor": 0
      },
      "text/plain": [
       "Obteniendo productos:   0%|          | 0/1 [00:00<?, ?it/s]"
      ]
     },
     "metadata": {},
     "output_type": "display_data"
    },
    {
     "name": "stdout",
     "output_type": "stream",
     "text": [
      "Estamos en la página https://skinsort.com/products/products-for-oily-skin/page/87\n"
     ]
    },
    {
     "data": {
      "application/vnd.jupyter.widget-view+json": {
       "model_id": "d988e9b5aa1347cf9a5586105ac3557e",
       "version_major": 2,
       "version_minor": 0
      },
      "text/plain": [
       "Obteniendo productos:   0%|          | 0/1 [00:00<?, ?it/s]"
      ]
     },
     "metadata": {},
     "output_type": "display_data"
    },
    {
     "name": "stdout",
     "output_type": "stream",
     "text": [
      "Estamos en la página https://skinsort.com/products/products-for-oily-skin/page/87\n"
     ]
    },
    {
     "data": {
      "application/vnd.jupyter.widget-view+json": {
       "model_id": "8f682935b2d1463c895b2bbdadc9ef63",
       "version_major": 2,
       "version_minor": 0
      },
      "text/plain": [
       "Obteniendo productos:   0%|          | 0/1 [00:00<?, ?it/s]"
      ]
     },
     "metadata": {},
     "output_type": "display_data"
    },
    {
     "name": "stdout",
     "output_type": "stream",
     "text": [
      "Estamos en la página https://skinsort.com/products/products-for-oily-skin/page/87\n"
     ]
    },
    {
     "data": {
      "application/vnd.jupyter.widget-view+json": {
       "model_id": "053a18265cd34f6b95e69155963f30e4",
       "version_major": 2,
       "version_minor": 0
      },
      "text/plain": [
       "Obteniendo productos:   0%|          | 0/1 [00:00<?, ?it/s]"
      ]
     },
     "metadata": {},
     "output_type": "display_data"
    },
    {
     "name": "stdout",
     "output_type": "stream",
     "text": [
      "Estamos en la página https://skinsort.com/products/products-for-oily-skin/page/88\n"
     ]
    },
    {
     "data": {
      "application/vnd.jupyter.widget-view+json": {
       "model_id": "30b879cb627d43bfbbe806bfc2226800",
       "version_major": 2,
       "version_minor": 0
      },
      "text/plain": [
       "Obteniendo productos:   0%|          | 0/1 [00:00<?, ?it/s]"
      ]
     },
     "metadata": {},
     "output_type": "display_data"
    },
    {
     "name": "stdout",
     "output_type": "stream",
     "text": [
      "Estamos en la página https://skinsort.com/products/products-for-oily-skin/page/88\n"
     ]
    },
    {
     "data": {
      "application/vnd.jupyter.widget-view+json": {
       "model_id": "dced905821254c25a4df9777be59f18c",
       "version_major": 2,
       "version_minor": 0
      },
      "text/plain": [
       "Obteniendo productos:   0%|          | 0/1 [00:00<?, ?it/s]"
      ]
     },
     "metadata": {},
     "output_type": "display_data"
    },
    {
     "name": "stdout",
     "output_type": "stream",
     "text": [
      "Estamos en la página https://skinsort.com/products/products-for-oily-skin/page/88\n",
      "Error al obtener los datos.\n"
     ]
    },
    {
     "data": {
      "application/vnd.jupyter.widget-view+json": {
       "model_id": "96816b3452954633b57746a322eb3722",
       "version_major": 2,
       "version_minor": 0
      },
      "text/plain": [
       "Obteniendo productos:   0%|          | 0/1 [00:00<?, ?it/s]"
      ]
     },
     "metadata": {},
     "output_type": "display_data"
    },
    {
     "name": "stdout",
     "output_type": "stream",
     "text": [
      "Estamos en la página https://skinsort.com/products/products-for-oily-skin/page/90\n"
     ]
    },
    {
     "data": {
      "application/vnd.jupyter.widget-view+json": {
       "model_id": "39c50cd16af74aff83c9f7c61d15cf84",
       "version_major": 2,
       "version_minor": 0
      },
      "text/plain": [
       "Obteniendo productos:   0%|          | 0/1 [00:00<?, ?it/s]"
      ]
     },
     "metadata": {},
     "output_type": "display_data"
    },
    {
     "name": "stdout",
     "output_type": "stream",
     "text": [
      "Estamos en la página https://skinsort.com/products/products-for-oily-skin/page/90\n"
     ]
    },
    {
     "data": {
      "application/vnd.jupyter.widget-view+json": {
       "model_id": "da4a279f7c9d4b1ba4c534018a8f4da2",
       "version_major": 2,
       "version_minor": 0
      },
      "text/plain": [
       "Obteniendo productos:   0%|          | 0/1 [00:00<?, ?it/s]"
      ]
     },
     "metadata": {},
     "output_type": "display_data"
    },
    {
     "name": "stdout",
     "output_type": "stream",
     "text": [
      "Estamos en la página https://skinsort.com/products/products-for-oily-skin/page/90\n"
     ]
    },
    {
     "data": {
      "application/vnd.jupyter.widget-view+json": {
       "model_id": "112fa8198a644a9295d59e18a69be5d4",
       "version_major": 2,
       "version_minor": 0
      },
      "text/plain": [
       "Obteniendo productos:   0%|          | 0/1 [00:00<?, ?it/s]"
      ]
     },
     "metadata": {},
     "output_type": "display_data"
    },
    {
     "name": "stdout",
     "output_type": "stream",
     "text": [
      "Estamos en la página https://skinsort.com/products/products-for-oily-skin/page/91\n"
     ]
    },
    {
     "data": {
      "application/vnd.jupyter.widget-view+json": {
       "model_id": "df70f2f9a46d4cc1be035d198ea23fcb",
       "version_major": 2,
       "version_minor": 0
      },
      "text/plain": [
       "Obteniendo productos:   0%|          | 0/1 [00:00<?, ?it/s]"
      ]
     },
     "metadata": {},
     "output_type": "display_data"
    },
    {
     "name": "stdout",
     "output_type": "stream",
     "text": [
      "Estamos en la página https://skinsort.com/products/products-for-oily-skin/page/91\n"
     ]
    },
    {
     "data": {
      "application/vnd.jupyter.widget-view+json": {
       "model_id": "835df3c32a484de3a83c647cce4fc033",
       "version_major": 2,
       "version_minor": 0
      },
      "text/plain": [
       "Obteniendo productos:   0%|          | 0/1 [00:00<?, ?it/s]"
      ]
     },
     "metadata": {},
     "output_type": "display_data"
    },
    {
     "name": "stdout",
     "output_type": "stream",
     "text": [
      "Estamos en la página https://skinsort.com/products/products-for-oily-skin/page/91\n"
     ]
    },
    {
     "data": {
      "application/vnd.jupyter.widget-view+json": {
       "model_id": "a047d106919448cc96002f7de73f250d",
       "version_major": 2,
       "version_minor": 0
      },
      "text/plain": [
       "Obteniendo productos:   0%|          | 0/1 [00:00<?, ?it/s]"
      ]
     },
     "metadata": {},
     "output_type": "display_data"
    },
    {
     "name": "stdout",
     "output_type": "stream",
     "text": [
      "Estamos en la página https://skinsort.com/products/products-for-oily-skin/page/92\n"
     ]
    },
    {
     "data": {
      "application/vnd.jupyter.widget-view+json": {
       "model_id": "d72bf5ba709f42ed9d606824a5de3d7d",
       "version_major": 2,
       "version_minor": 0
      },
      "text/plain": [
       "Obteniendo productos:   0%|          | 0/1 [00:00<?, ?it/s]"
      ]
     },
     "metadata": {},
     "output_type": "display_data"
    },
    {
     "name": "stdout",
     "output_type": "stream",
     "text": [
      "Estamos en la página https://skinsort.com/products/products-for-oily-skin/page/92\n"
     ]
    },
    {
     "data": {
      "application/vnd.jupyter.widget-view+json": {
       "model_id": "224a8371fd3c486faa17f3c403bd7960",
       "version_major": 2,
       "version_minor": 0
      },
      "text/plain": [
       "Obteniendo productos:   0%|          | 0/1 [00:00<?, ?it/s]"
      ]
     },
     "metadata": {},
     "output_type": "display_data"
    },
    {
     "name": "stdout",
     "output_type": "stream",
     "text": [
      "Estamos en la página https://skinsort.com/products/products-for-oily-skin/page/92\n"
     ]
    },
    {
     "data": {
      "application/vnd.jupyter.widget-view+json": {
       "model_id": "445758974b0046d5b1d792612f8bad66",
       "version_major": 2,
       "version_minor": 0
      },
      "text/plain": [
       "Obteniendo productos:   0%|          | 0/1 [00:00<?, ?it/s]"
      ]
     },
     "metadata": {},
     "output_type": "display_data"
    },
    {
     "name": "stdout",
     "output_type": "stream",
     "text": [
      "Estamos en la página https://skinsort.com/products/products-for-oily-skin/page/93\n"
     ]
    },
    {
     "data": {
      "application/vnd.jupyter.widget-view+json": {
       "model_id": "5f232fc3cecd4beda6ec6a47f8b433f9",
       "version_major": 2,
       "version_minor": 0
      },
      "text/plain": [
       "Obteniendo productos:   0%|          | 0/1 [00:00<?, ?it/s]"
      ]
     },
     "metadata": {},
     "output_type": "display_data"
    },
    {
     "name": "stdout",
     "output_type": "stream",
     "text": [
      "Estamos en la página https://skinsort.com/products/products-for-oily-skin/page/93\n"
     ]
    },
    {
     "data": {
      "application/vnd.jupyter.widget-view+json": {
       "model_id": "d4b094b19d8e4a77bb7854f7758cbf53",
       "version_major": 2,
       "version_minor": 0
      },
      "text/plain": [
       "Obteniendo productos:   0%|          | 0/1 [00:00<?, ?it/s]"
      ]
     },
     "metadata": {},
     "output_type": "display_data"
    },
    {
     "name": "stdout",
     "output_type": "stream",
     "text": [
      "Estamos en la página https://skinsort.com/products/products-for-oily-skin/page/93\n"
     ]
    },
    {
     "data": {
      "application/vnd.jupyter.widget-view+json": {
       "model_id": "8ff8c6b41e734b25a827ddc90b1b37f5",
       "version_major": 2,
       "version_minor": 0
      },
      "text/plain": [
       "Obteniendo productos:   0%|          | 0/1 [00:00<?, ?it/s]"
      ]
     },
     "metadata": {},
     "output_type": "display_data"
    },
    {
     "name": "stdout",
     "output_type": "stream",
     "text": [
      "Estamos en la página https://skinsort.com/products/products-for-oily-skin/page/94\n"
     ]
    },
    {
     "data": {
      "application/vnd.jupyter.widget-view+json": {
       "model_id": "7db1ab76062a4a0da30605ee5d85c5f4",
       "version_major": 2,
       "version_minor": 0
      },
      "text/plain": [
       "Obteniendo productos:   0%|          | 0/1 [00:00<?, ?it/s]"
      ]
     },
     "metadata": {},
     "output_type": "display_data"
    },
    {
     "name": "stdout",
     "output_type": "stream",
     "text": [
      "Estamos en la página https://skinsort.com/products/products-for-oily-skin/page/94\n"
     ]
    },
    {
     "data": {
      "application/vnd.jupyter.widget-view+json": {
       "model_id": "5244953f20b041f9bd0624540dcd82ef",
       "version_major": 2,
       "version_minor": 0
      },
      "text/plain": [
       "Obteniendo productos:   0%|          | 0/1 [00:00<?, ?it/s]"
      ]
     },
     "metadata": {},
     "output_type": "display_data"
    },
    {
     "name": "stdout",
     "output_type": "stream",
     "text": [
      "Estamos en la página https://skinsort.com/products/products-for-oily-skin/page/94\n"
     ]
    },
    {
     "data": {
      "application/vnd.jupyter.widget-view+json": {
       "model_id": "07b0e3c023c74a28ac4e4f3c5b01106d",
       "version_major": 2,
       "version_minor": 0
      },
      "text/plain": [
       "Obteniendo productos:   0%|          | 0/1 [00:00<?, ?it/s]"
      ]
     },
     "metadata": {},
     "output_type": "display_data"
    },
    {
     "name": "stdout",
     "output_type": "stream",
     "text": [
      "Estamos en la página https://skinsort.com/products/products-for-oily-skin/page/95\n"
     ]
    },
    {
     "data": {
      "application/vnd.jupyter.widget-view+json": {
       "model_id": "f734ccdfd07b4041b8b898723621468b",
       "version_major": 2,
       "version_minor": 0
      },
      "text/plain": [
       "Obteniendo productos:   0%|          | 0/1 [00:00<?, ?it/s]"
      ]
     },
     "metadata": {},
     "output_type": "display_data"
    },
    {
     "name": "stdout",
     "output_type": "stream",
     "text": [
      "Estamos en la página https://skinsort.com/products/products-for-oily-skin/page/95\n"
     ]
    },
    {
     "data": {
      "application/vnd.jupyter.widget-view+json": {
       "model_id": "3a13a97e1406422d9a2a5c7bf3b779de",
       "version_major": 2,
       "version_minor": 0
      },
      "text/plain": [
       "Obteniendo productos:   0%|          | 0/1 [00:00<?, ?it/s]"
      ]
     },
     "metadata": {},
     "output_type": "display_data"
    },
    {
     "name": "stdout",
     "output_type": "stream",
     "text": [
      "Estamos en la página https://skinsort.com/products/products-for-oily-skin/page/95\n"
     ]
    },
    {
     "data": {
      "application/vnd.jupyter.widget-view+json": {
       "model_id": "253b8ed1b73142378015b1999002a960",
       "version_major": 2,
       "version_minor": 0
      },
      "text/plain": [
       "Obteniendo productos:   0%|          | 0/1 [00:00<?, ?it/s]"
      ]
     },
     "metadata": {},
     "output_type": "display_data"
    },
    {
     "name": "stdout",
     "output_type": "stream",
     "text": [
      "Estamos en la página https://skinsort.com/products/products-for-oily-skin/page/96\n"
     ]
    },
    {
     "data": {
      "application/vnd.jupyter.widget-view+json": {
       "model_id": "baf16888a915458192055b96144eb3c9",
       "version_major": 2,
       "version_minor": 0
      },
      "text/plain": [
       "Obteniendo productos:   0%|          | 0/1 [00:00<?, ?it/s]"
      ]
     },
     "metadata": {},
     "output_type": "display_data"
    },
    {
     "name": "stdout",
     "output_type": "stream",
     "text": [
      "Estamos en la página https://skinsort.com/products/products-for-oily-skin/page/96\n"
     ]
    },
    {
     "data": {
      "application/vnd.jupyter.widget-view+json": {
       "model_id": "a84f658d0b684139802d7544322d791e",
       "version_major": 2,
       "version_minor": 0
      },
      "text/plain": [
       "Obteniendo productos:   0%|          | 0/1 [00:00<?, ?it/s]"
      ]
     },
     "metadata": {},
     "output_type": "display_data"
    },
    {
     "name": "stdout",
     "output_type": "stream",
     "text": [
      "Estamos en la página https://skinsort.com/products/products-for-oily-skin/page/96\n"
     ]
    },
    {
     "data": {
      "application/vnd.jupyter.widget-view+json": {
       "model_id": "a1114c9759fd4e35823ff7f6e7beb6e8",
       "version_major": 2,
       "version_minor": 0
      },
      "text/plain": [
       "Obteniendo productos:   0%|          | 0/1 [00:00<?, ?it/s]"
      ]
     },
     "metadata": {},
     "output_type": "display_data"
    },
    {
     "name": "stdout",
     "output_type": "stream",
     "text": [
      "Estamos en la página https://skinsort.com/products/products-for-oily-skin/page/97\n"
     ]
    },
    {
     "data": {
      "application/vnd.jupyter.widget-view+json": {
       "model_id": "10753310517742ab8d8e50a30233e034",
       "version_major": 2,
       "version_minor": 0
      },
      "text/plain": [
       "Obteniendo productos:   0%|          | 0/1 [00:00<?, ?it/s]"
      ]
     },
     "metadata": {},
     "output_type": "display_data"
    },
    {
     "name": "stdout",
     "output_type": "stream",
     "text": [
      "Estamos en la página https://skinsort.com/products/products-for-oily-skin/page/97\n"
     ]
    },
    {
     "data": {
      "application/vnd.jupyter.widget-view+json": {
       "model_id": "4be4cbbdf8784beba309993c06ce9d8a",
       "version_major": 2,
       "version_minor": 0
      },
      "text/plain": [
       "Obteniendo productos:   0%|          | 0/1 [00:00<?, ?it/s]"
      ]
     },
     "metadata": {},
     "output_type": "display_data"
    },
    {
     "name": "stdout",
     "output_type": "stream",
     "text": [
      "Estamos en la página https://skinsort.com/products/products-for-oily-skin/page/97\n"
     ]
    },
    {
     "data": {
      "application/vnd.jupyter.widget-view+json": {
       "model_id": "300af9ce36aa4b2f89f498553c46716c",
       "version_major": 2,
       "version_minor": 0
      },
      "text/plain": [
       "Obteniendo productos:   0%|          | 0/1 [00:00<?, ?it/s]"
      ]
     },
     "metadata": {},
     "output_type": "display_data"
    },
    {
     "name": "stdout",
     "output_type": "stream",
     "text": [
      "Estamos en la página https://skinsort.com/products/products-for-oily-skin/page/98\n"
     ]
    },
    {
     "data": {
      "application/vnd.jupyter.widget-view+json": {
       "model_id": "c6ecb067aec94dc49f93b249ea46fa6a",
       "version_major": 2,
       "version_minor": 0
      },
      "text/plain": [
       "Obteniendo productos:   0%|          | 0/1 [00:00<?, ?it/s]"
      ]
     },
     "metadata": {},
     "output_type": "display_data"
    },
    {
     "name": "stdout",
     "output_type": "stream",
     "text": [
      "Estamos en la página https://skinsort.com/products/products-for-oily-skin/page/98\n"
     ]
    },
    {
     "data": {
      "application/vnd.jupyter.widget-view+json": {
       "model_id": "4e881cf043e14c4f938da54ac91369ad",
       "version_major": 2,
       "version_minor": 0
      },
      "text/plain": [
       "Obteniendo productos:   0%|          | 0/1 [00:00<?, ?it/s]"
      ]
     },
     "metadata": {},
     "output_type": "display_data"
    },
    {
     "name": "stdout",
     "output_type": "stream",
     "text": [
      "Estamos en la página https://skinsort.com/products/products-for-oily-skin/page/98\n"
     ]
    },
    {
     "data": {
      "application/vnd.jupyter.widget-view+json": {
       "model_id": "ba50d7083ae64de58d881c69ee7d3b62",
       "version_major": 2,
       "version_minor": 0
      },
      "text/plain": [
       "Obteniendo productos:   0%|          | 0/1 [00:00<?, ?it/s]"
      ]
     },
     "metadata": {},
     "output_type": "display_data"
    },
    {
     "name": "stdout",
     "output_type": "stream",
     "text": [
      "Estamos en la página https://skinsort.com/products/products-for-oily-skin/page/99\n"
     ]
    },
    {
     "data": {
      "application/vnd.jupyter.widget-view+json": {
       "model_id": "8da65364ed814a14924d5607ec51f112",
       "version_major": 2,
       "version_minor": 0
      },
      "text/plain": [
       "Obteniendo productos:   0%|          | 0/1 [00:00<?, ?it/s]"
      ]
     },
     "metadata": {},
     "output_type": "display_data"
    },
    {
     "name": "stdout",
     "output_type": "stream",
     "text": [
      "Estamos en la página https://skinsort.com/products/products-for-oily-skin/page/99\n"
     ]
    },
    {
     "data": {
      "application/vnd.jupyter.widget-view+json": {
       "model_id": "69a721fa4734473ba7a7dc64f3a6d0ca",
       "version_major": 2,
       "version_minor": 0
      },
      "text/plain": [
       "Obteniendo productos:   0%|          | 0/1 [00:00<?, ?it/s]"
      ]
     },
     "metadata": {},
     "output_type": "display_data"
    },
    {
     "name": "stdout",
     "output_type": "stream",
     "text": [
      "Estamos en la página https://skinsort.com/products/products-for-oily-skin/page/99\n"
     ]
    },
    {
     "data": {
      "application/vnd.jupyter.widget-view+json": {
       "model_id": "fb51b0923ef148ae9aec2c6270c1a420",
       "version_major": 2,
       "version_minor": 0
      },
      "text/plain": [
       "Obteniendo productos:   0%|          | 0/1 [00:00<?, ?it/s]"
      ]
     },
     "metadata": {},
     "output_type": "display_data"
    },
    {
     "name": "stdout",
     "output_type": "stream",
     "text": [
      "Estamos en la página https://skinsort.com/products/products-for-oily-skin/page/100\n"
     ]
    },
    {
     "data": {
      "application/vnd.jupyter.widget-view+json": {
       "model_id": "10dcee5db49d4d9fbcbcb68d89910ce7",
       "version_major": 2,
       "version_minor": 0
      },
      "text/plain": [
       "Obteniendo productos:   0%|          | 0/1 [00:00<?, ?it/s]"
      ]
     },
     "metadata": {},
     "output_type": "display_data"
    },
    {
     "name": "stdout",
     "output_type": "stream",
     "text": [
      "Estamos en la página https://skinsort.com/products/products-for-oily-skin/page/100\n"
     ]
    },
    {
     "data": {
      "application/vnd.jupyter.widget-view+json": {
       "model_id": "a621124a2cd244c28d1b4b1c1d9e27ef",
       "version_major": 2,
       "version_minor": 0
      },
      "text/plain": [
       "Obteniendo productos:   0%|          | 0/1 [00:00<?, ?it/s]"
      ]
     },
     "metadata": {},
     "output_type": "display_data"
    },
    {
     "name": "stdout",
     "output_type": "stream",
     "text": [
      "Estamos en la página https://skinsort.com/products/products-for-oily-skin/page/100\n"
     ]
    },
    {
     "data": {
      "application/vnd.jupyter.widget-view+json": {
       "model_id": "d6775d70909a44fa942bb1e92fa46bf2",
       "version_major": 2,
       "version_minor": 0
      },
      "text/plain": [
       "Obteniendo productos:   0%|          | 0/1 [00:00<?, ?it/s]"
      ]
     },
     "metadata": {},
     "output_type": "display_data"
    },
    {
     "name": "stdout",
     "output_type": "stream",
     "text": [
      "Estamos en la página https://skinsort.com/products/products-for-oily-skin/page/101\n"
     ]
    },
    {
     "data": {
      "application/vnd.jupyter.widget-view+json": {
       "model_id": "c14d211392144afaad4c710999b31963",
       "version_major": 2,
       "version_minor": 0
      },
      "text/plain": [
       "Obteniendo productos:   0%|          | 0/1 [00:00<?, ?it/s]"
      ]
     },
     "metadata": {},
     "output_type": "display_data"
    },
    {
     "name": "stdout",
     "output_type": "stream",
     "text": [
      "Estamos en la página https://skinsort.com/products/products-for-oily-skin/page/101\n"
     ]
    },
    {
     "data": {
      "application/vnd.jupyter.widget-view+json": {
       "model_id": "b185d2f69ac941afaae4d93433da1023",
       "version_major": 2,
       "version_minor": 0
      },
      "text/plain": [
       "Obteniendo productos:   0%|          | 0/1 [00:00<?, ?it/s]"
      ]
     },
     "metadata": {},
     "output_type": "display_data"
    },
    {
     "name": "stdout",
     "output_type": "stream",
     "text": [
      "Estamos en la página https://skinsort.com/products/products-for-oily-skin/page/101\n"
     ]
    },
    {
     "data": {
      "application/vnd.jupyter.widget-view+json": {
       "model_id": "1de120c1a11048bba06a25aa346bb574",
       "version_major": 2,
       "version_minor": 0
      },
      "text/plain": [
       "Obteniendo productos:   0%|          | 0/1 [00:00<?, ?it/s]"
      ]
     },
     "metadata": {},
     "output_type": "display_data"
    },
    {
     "name": "stdout",
     "output_type": "stream",
     "text": [
      "Estamos en la página https://skinsort.com/products/products-for-oily-skin/page/102\n"
     ]
    },
    {
     "data": {
      "application/vnd.jupyter.widget-view+json": {
       "model_id": "ccd3b5d4df174f9f8659d62a5f34d545",
       "version_major": 2,
       "version_minor": 0
      },
      "text/plain": [
       "Obteniendo productos:   0%|          | 0/1 [00:00<?, ?it/s]"
      ]
     },
     "metadata": {},
     "output_type": "display_data"
    },
    {
     "name": "stdout",
     "output_type": "stream",
     "text": [
      "Estamos en la página https://skinsort.com/products/products-for-oily-skin/page/102\n"
     ]
    },
    {
     "data": {
      "application/vnd.jupyter.widget-view+json": {
       "model_id": "470fc8448b6a458b83c5b427188182dc",
       "version_major": 2,
       "version_minor": 0
      },
      "text/plain": [
       "Obteniendo productos:   0%|          | 0/1 [00:00<?, ?it/s]"
      ]
     },
     "metadata": {},
     "output_type": "display_data"
    },
    {
     "name": "stdout",
     "output_type": "stream",
     "text": [
      "Estamos en la página https://skinsort.com/products/products-for-oily-skin/page/102\n"
     ]
    },
    {
     "data": {
      "application/vnd.jupyter.widget-view+json": {
       "model_id": "2ea4ca8a17cb40bd9623b2472ae2c3ce",
       "version_major": 2,
       "version_minor": 0
      },
      "text/plain": [
       "Obteniendo productos:   0%|          | 0/1 [00:00<?, ?it/s]"
      ]
     },
     "metadata": {},
     "output_type": "display_data"
    },
    {
     "name": "stdout",
     "output_type": "stream",
     "text": [
      "Estamos en la página https://skinsort.com/products/products-for-oily-skin/page/103\n"
     ]
    },
    {
     "data": {
      "application/vnd.jupyter.widget-view+json": {
       "model_id": "dfa9b1a50cec42d6a100cdfa68c4d917",
       "version_major": 2,
       "version_minor": 0
      },
      "text/plain": [
       "Obteniendo productos:   0%|          | 0/1 [00:00<?, ?it/s]"
      ]
     },
     "metadata": {},
     "output_type": "display_data"
    },
    {
     "name": "stdout",
     "output_type": "stream",
     "text": [
      "Estamos en la página https://skinsort.com/products/products-for-oily-skin/page/103\n"
     ]
    },
    {
     "data": {
      "application/vnd.jupyter.widget-view+json": {
       "model_id": "6fb294f395d846dd8859f632fc184d2d",
       "version_major": 2,
       "version_minor": 0
      },
      "text/plain": [
       "Obteniendo productos:   0%|          | 0/1 [00:00<?, ?it/s]"
      ]
     },
     "metadata": {},
     "output_type": "display_data"
    },
    {
     "name": "stdout",
     "output_type": "stream",
     "text": [
      "Estamos en la página https://skinsort.com/products/products-for-oily-skin/page/103\n"
     ]
    },
    {
     "data": {
      "application/vnd.jupyter.widget-view+json": {
       "model_id": "b22652f6275445b18d6640f618110f8c",
       "version_major": 2,
       "version_minor": 0
      },
      "text/plain": [
       "Obteniendo productos:   0%|          | 0/1 [00:00<?, ?it/s]"
      ]
     },
     "metadata": {},
     "output_type": "display_data"
    },
    {
     "name": "stdout",
     "output_type": "stream",
     "text": [
      "Estamos en la página https://skinsort.com/products/products-for-oily-skin/page/104\n"
     ]
    },
    {
     "data": {
      "application/vnd.jupyter.widget-view+json": {
       "model_id": "7170de65846f428a97bb4b752c7b179c",
       "version_major": 2,
       "version_minor": 0
      },
      "text/plain": [
       "Obteniendo productos:   0%|          | 0/1 [00:00<?, ?it/s]"
      ]
     },
     "metadata": {},
     "output_type": "display_data"
    },
    {
     "name": "stdout",
     "output_type": "stream",
     "text": [
      "Estamos en la página https://skinsort.com/products/products-for-oily-skin/page/104\n"
     ]
    },
    {
     "data": {
      "application/vnd.jupyter.widget-view+json": {
       "model_id": "29cb1c9610484ce4b8a724c5de1c091d",
       "version_major": 2,
       "version_minor": 0
      },
      "text/plain": [
       "Obteniendo productos:   0%|          | 0/1 [00:00<?, ?it/s]"
      ]
     },
     "metadata": {},
     "output_type": "display_data"
    },
    {
     "name": "stdout",
     "output_type": "stream",
     "text": [
      "Estamos en la página https://skinsort.com/products/products-for-oily-skin/page/104\n"
     ]
    },
    {
     "data": {
      "application/vnd.jupyter.widget-view+json": {
       "model_id": "6b98096c22864ab790f3514ee29769d4",
       "version_major": 2,
       "version_minor": 0
      },
      "text/plain": [
       "Obteniendo productos:   0%|          | 0/1 [00:00<?, ?it/s]"
      ]
     },
     "metadata": {},
     "output_type": "display_data"
    },
    {
     "name": "stdout",
     "output_type": "stream",
     "text": [
      "Estamos en la página https://skinsort.com/products/products-for-oily-skin/page/105\n"
     ]
    },
    {
     "data": {
      "application/vnd.jupyter.widget-view+json": {
       "model_id": "3200c96e8e2e4d269a37fffd7aceadba",
       "version_major": 2,
       "version_minor": 0
      },
      "text/plain": [
       "Obteniendo productos:   0%|          | 0/1 [00:00<?, ?it/s]"
      ]
     },
     "metadata": {},
     "output_type": "display_data"
    },
    {
     "name": "stdout",
     "output_type": "stream",
     "text": [
      "Estamos en la página https://skinsort.com/products/products-for-oily-skin/page/105\n"
     ]
    },
    {
     "data": {
      "application/vnd.jupyter.widget-view+json": {
       "model_id": "ac992593d8f548e588d96fa0b623e473",
       "version_major": 2,
       "version_minor": 0
      },
      "text/plain": [
       "Obteniendo productos:   0%|          | 0/1 [00:00<?, ?it/s]"
      ]
     },
     "metadata": {},
     "output_type": "display_data"
    },
    {
     "name": "stdout",
     "output_type": "stream",
     "text": [
      "Estamos en la página https://skinsort.com/products/products-for-oily-skin/page/105\n"
     ]
    },
    {
     "data": {
      "application/vnd.jupyter.widget-view+json": {
       "model_id": "9a2ab74b9675440a95bcca2805445b89",
       "version_major": 2,
       "version_minor": 0
      },
      "text/plain": [
       "Obteniendo productos:   0%|          | 0/1 [00:00<?, ?it/s]"
      ]
     },
     "metadata": {},
     "output_type": "display_data"
    },
    {
     "name": "stdout",
     "output_type": "stream",
     "text": [
      "Estamos en la página https://skinsort.com/products/products-for-oily-skin/page/106\n"
     ]
    },
    {
     "data": {
      "application/vnd.jupyter.widget-view+json": {
       "model_id": "607e826fa40d4c18b953846c942e2c81",
       "version_major": 2,
       "version_minor": 0
      },
      "text/plain": [
       "Obteniendo productos:   0%|          | 0/1 [00:00<?, ?it/s]"
      ]
     },
     "metadata": {},
     "output_type": "display_data"
    },
    {
     "name": "stdout",
     "output_type": "stream",
     "text": [
      "Estamos en la página https://skinsort.com/products/products-for-oily-skin/page/106\n"
     ]
    },
    {
     "data": {
      "application/vnd.jupyter.widget-view+json": {
       "model_id": "c8e14d30d062416a9cc46e1ab3790765",
       "version_major": 2,
       "version_minor": 0
      },
      "text/plain": [
       "Obteniendo productos:   0%|          | 0/1 [00:00<?, ?it/s]"
      ]
     },
     "metadata": {},
     "output_type": "display_data"
    },
    {
     "name": "stdout",
     "output_type": "stream",
     "text": [
      "Estamos en la página https://skinsort.com/products/products-for-oily-skin/page/106\n"
     ]
    },
    {
     "data": {
      "application/vnd.jupyter.widget-view+json": {
       "model_id": "a787303965c34219a5813b23a3658ded",
       "version_major": 2,
       "version_minor": 0
      },
      "text/plain": [
       "Obteniendo productos:   0%|          | 0/1 [00:00<?, ?it/s]"
      ]
     },
     "metadata": {},
     "output_type": "display_data"
    },
    {
     "name": "stdout",
     "output_type": "stream",
     "text": [
      "Estamos en la página https://skinsort.com/products/products-for-oily-skin/page/107\n"
     ]
    },
    {
     "data": {
      "application/vnd.jupyter.widget-view+json": {
       "model_id": "76d0b6d6d1544aaebd4120423b47ce2d",
       "version_major": 2,
       "version_minor": 0
      },
      "text/plain": [
       "Obteniendo productos:   0%|          | 0/1 [00:00<?, ?it/s]"
      ]
     },
     "metadata": {},
     "output_type": "display_data"
    },
    {
     "name": "stdout",
     "output_type": "stream",
     "text": [
      "Estamos en la página https://skinsort.com/products/products-for-oily-skin/page/107\n"
     ]
    },
    {
     "data": {
      "application/vnd.jupyter.widget-view+json": {
       "model_id": "cdc1b8645a2b49dabf8bb50c53d1da04",
       "version_major": 2,
       "version_minor": 0
      },
      "text/plain": [
       "Obteniendo productos:   0%|          | 0/1 [00:00<?, ?it/s]"
      ]
     },
     "metadata": {},
     "output_type": "display_data"
    },
    {
     "name": "stdout",
     "output_type": "stream",
     "text": [
      "Estamos en la página https://skinsort.com/products/products-for-oily-skin/page/107\n"
     ]
    },
    {
     "data": {
      "application/vnd.jupyter.widget-view+json": {
       "model_id": "b300b08c079e434b9aa13f0e5d6a42f2",
       "version_major": 2,
       "version_minor": 0
      },
      "text/plain": [
       "Obteniendo productos:   0%|          | 0/1 [00:00<?, ?it/s]"
      ]
     },
     "metadata": {},
     "output_type": "display_data"
    },
    {
     "name": "stdout",
     "output_type": "stream",
     "text": [
      "Estamos en la página https://skinsort.com/products/products-for-oily-skin/page/108\n"
     ]
    },
    {
     "data": {
      "application/vnd.jupyter.widget-view+json": {
       "model_id": "4b36c9bc23b647febafacaf80cfbe16e",
       "version_major": 2,
       "version_minor": 0
      },
      "text/plain": [
       "Obteniendo productos:   0%|          | 0/1 [00:00<?, ?it/s]"
      ]
     },
     "metadata": {},
     "output_type": "display_data"
    },
    {
     "name": "stdout",
     "output_type": "stream",
     "text": [
      "Estamos en la página https://skinsort.com/products/products-for-oily-skin/page/108\n"
     ]
    },
    {
     "data": {
      "application/vnd.jupyter.widget-view+json": {
       "model_id": "07ea70a0edf04dd7886d85587f190e4b",
       "version_major": 2,
       "version_minor": 0
      },
      "text/plain": [
       "Obteniendo productos:   0%|          | 0/1 [00:00<?, ?it/s]"
      ]
     },
     "metadata": {},
     "output_type": "display_data"
    },
    {
     "name": "stdout",
     "output_type": "stream",
     "text": [
      "Estamos en la página https://skinsort.com/products/products-for-oily-skin/page/108\n"
     ]
    },
    {
     "data": {
      "application/vnd.jupyter.widget-view+json": {
       "model_id": "e8c75a80ea7c4285a5a322925921c3b5",
       "version_major": 2,
       "version_minor": 0
      },
      "text/plain": [
       "Obteniendo productos:   0%|          | 0/1 [00:00<?, ?it/s]"
      ]
     },
     "metadata": {},
     "output_type": "display_data"
    },
    {
     "name": "stdout",
     "output_type": "stream",
     "text": [
      "Estamos en la página https://skinsort.com/products/products-for-oily-skin/page/109\n"
     ]
    },
    {
     "data": {
      "application/vnd.jupyter.widget-view+json": {
       "model_id": "8ba1ebdca27346b789dade6135b4dcfe",
       "version_major": 2,
       "version_minor": 0
      },
      "text/plain": [
       "Obteniendo productos:   0%|          | 0/1 [00:00<?, ?it/s]"
      ]
     },
     "metadata": {},
     "output_type": "display_data"
    },
    {
     "name": "stdout",
     "output_type": "stream",
     "text": [
      "Estamos en la página https://skinsort.com/products/products-for-oily-skin/page/109\n"
     ]
    },
    {
     "data": {
      "application/vnd.jupyter.widget-view+json": {
       "model_id": "30881ce3ed6d4642a5b538bc1463856f",
       "version_major": 2,
       "version_minor": 0
      },
      "text/plain": [
       "Obteniendo productos:   0%|          | 0/1 [00:00<?, ?it/s]"
      ]
     },
     "metadata": {},
     "output_type": "display_data"
    },
    {
     "name": "stdout",
     "output_type": "stream",
     "text": [
      "Estamos en la página https://skinsort.com/products/products-for-oily-skin/page/109\n"
     ]
    },
    {
     "data": {
      "application/vnd.jupyter.widget-view+json": {
       "model_id": "cb81065ec9e94f7f979fb676c4b6ac5d",
       "version_major": 2,
       "version_minor": 0
      },
      "text/plain": [
       "Obteniendo productos:   0%|          | 0/1 [00:00<?, ?it/s]"
      ]
     },
     "metadata": {},
     "output_type": "display_data"
    },
    {
     "name": "stdout",
     "output_type": "stream",
     "text": [
      "Estamos en la página https://skinsort.com/products/products-for-oily-skin/page/110\n"
     ]
    },
    {
     "data": {
      "application/vnd.jupyter.widget-view+json": {
       "model_id": "7aebd669bf864c61a3baee0c91afbcc8",
       "version_major": 2,
       "version_minor": 0
      },
      "text/plain": [
       "Obteniendo productos:   0%|          | 0/1 [00:00<?, ?it/s]"
      ]
     },
     "metadata": {},
     "output_type": "display_data"
    },
    {
     "name": "stdout",
     "output_type": "stream",
     "text": [
      "Estamos en la página https://skinsort.com/products/products-for-oily-skin/page/110\n"
     ]
    },
    {
     "data": {
      "application/vnd.jupyter.widget-view+json": {
       "model_id": "6ebc0b6d60504bc9beafd4c25917b7e1",
       "version_major": 2,
       "version_minor": 0
      },
      "text/plain": [
       "Obteniendo productos:   0%|          | 0/1 [00:00<?, ?it/s]"
      ]
     },
     "metadata": {},
     "output_type": "display_data"
    },
    {
     "name": "stdout",
     "output_type": "stream",
     "text": [
      "Estamos en la página https://skinsort.com/products/products-for-oily-skin/page/110\n"
     ]
    },
    {
     "data": {
      "application/vnd.jupyter.widget-view+json": {
       "model_id": "11e79b9ffd0d418d87e08e16cc2e586d",
       "version_major": 2,
       "version_minor": 0
      },
      "text/plain": [
       "Obteniendo productos:   0%|          | 0/1 [00:00<?, ?it/s]"
      ]
     },
     "metadata": {},
     "output_type": "display_data"
    },
    {
     "name": "stdout",
     "output_type": "stream",
     "text": [
      "Estamos en la página https://skinsort.com/products/products-for-oily-skin/page/111\n"
     ]
    },
    {
     "data": {
      "application/vnd.jupyter.widget-view+json": {
       "model_id": "654f9e63a44645fb85023935b409c7be",
       "version_major": 2,
       "version_minor": 0
      },
      "text/plain": [
       "Obteniendo productos:   0%|          | 0/1 [00:00<?, ?it/s]"
      ]
     },
     "metadata": {},
     "output_type": "display_data"
    },
    {
     "name": "stdout",
     "output_type": "stream",
     "text": [
      "Estamos en la página https://skinsort.com/products/products-for-oily-skin/page/111\n"
     ]
    },
    {
     "data": {
      "application/vnd.jupyter.widget-view+json": {
       "model_id": "c61f7d829d96447d835104a1e1d7acf5",
       "version_major": 2,
       "version_minor": 0
      },
      "text/plain": [
       "Obteniendo productos:   0%|          | 0/1 [00:00<?, ?it/s]"
      ]
     },
     "metadata": {},
     "output_type": "display_data"
    },
    {
     "name": "stdout",
     "output_type": "stream",
     "text": [
      "Estamos en la página https://skinsort.com/products/products-for-oily-skin/page/111\n"
     ]
    },
    {
     "data": {
      "application/vnd.jupyter.widget-view+json": {
       "model_id": "6ecaa2bc49bd4cb5be9b72231a86ae47",
       "version_major": 2,
       "version_minor": 0
      },
      "text/plain": [
       "Obteniendo productos:   0%|          | 0/1 [00:00<?, ?it/s]"
      ]
     },
     "metadata": {},
     "output_type": "display_data"
    },
    {
     "name": "stdout",
     "output_type": "stream",
     "text": [
      "Estamos en la página https://skinsort.com/products/products-for-oily-skin/page/112\n"
     ]
    },
    {
     "data": {
      "application/vnd.jupyter.widget-view+json": {
       "model_id": "77149f7f037645668c0e3aa0df53bf86",
       "version_major": 2,
       "version_minor": 0
      },
      "text/plain": [
       "Obteniendo productos:   0%|          | 0/1 [00:00<?, ?it/s]"
      ]
     },
     "metadata": {},
     "output_type": "display_data"
    },
    {
     "name": "stdout",
     "output_type": "stream",
     "text": [
      "Estamos en la página https://skinsort.com/products/products-for-oily-skin/page/112\n"
     ]
    },
    {
     "data": {
      "application/vnd.jupyter.widget-view+json": {
       "model_id": "2aebed9c7947422791b663cc78d7ea5b",
       "version_major": 2,
       "version_minor": 0
      },
      "text/plain": [
       "Obteniendo productos:   0%|          | 0/1 [00:00<?, ?it/s]"
      ]
     },
     "metadata": {},
     "output_type": "display_data"
    },
    {
     "name": "stdout",
     "output_type": "stream",
     "text": [
      "Estamos en la página https://skinsort.com/products/products-for-oily-skin/page/112\n"
     ]
    },
    {
     "data": {
      "application/vnd.jupyter.widget-view+json": {
       "model_id": "b73730dda22d4ca981c2703fcf843d5a",
       "version_major": 2,
       "version_minor": 0
      },
      "text/plain": [
       "Obteniendo productos:   0%|          | 0/1 [00:00<?, ?it/s]"
      ]
     },
     "metadata": {},
     "output_type": "display_data"
    },
    {
     "name": "stdout",
     "output_type": "stream",
     "text": [
      "Estamos en la página https://skinsort.com/products/products-for-oily-skin/page/113\n"
     ]
    },
    {
     "data": {
      "application/vnd.jupyter.widget-view+json": {
       "model_id": "bc51f2e9d63a48e4a9c28feb4ebf48d7",
       "version_major": 2,
       "version_minor": 0
      },
      "text/plain": [
       "Obteniendo productos:   0%|          | 0/1 [00:00<?, ?it/s]"
      ]
     },
     "metadata": {},
     "output_type": "display_data"
    },
    {
     "name": "stdout",
     "output_type": "stream",
     "text": [
      "Estamos en la página https://skinsort.com/products/products-for-oily-skin/page/113\n"
     ]
    },
    {
     "data": {
      "application/vnd.jupyter.widget-view+json": {
       "model_id": "2ca79354850347efa28e08187f47bf04",
       "version_major": 2,
       "version_minor": 0
      },
      "text/plain": [
       "Obteniendo productos:   0%|          | 0/1 [00:00<?, ?it/s]"
      ]
     },
     "metadata": {},
     "output_type": "display_data"
    },
    {
     "name": "stdout",
     "output_type": "stream",
     "text": [
      "Estamos en la página https://skinsort.com/products/products-for-oily-skin/page/113\n",
      "Error al obtener los datos.\n"
     ]
    },
    {
     "data": {
      "application/vnd.jupyter.widget-view+json": {
       "model_id": "1ecb62c0ddba4107be0787da9b0d34f5",
       "version_major": 2,
       "version_minor": 0
      },
      "text/plain": [
       "Obteniendo productos:   0%|          | 0/1 [00:00<?, ?it/s]"
      ]
     },
     "metadata": {},
     "output_type": "display_data"
    },
    {
     "name": "stdout",
     "output_type": "stream",
     "text": [
      "Estamos en la página https://skinsort.com/products/products-for-oily-skin/page/115\n"
     ]
    },
    {
     "data": {
      "application/vnd.jupyter.widget-view+json": {
       "model_id": "ca7f0334b52d43de810acb0c67ad6a3e",
       "version_major": 2,
       "version_minor": 0
      },
      "text/plain": [
       "Obteniendo productos:   0%|          | 0/1 [00:00<?, ?it/s]"
      ]
     },
     "metadata": {},
     "output_type": "display_data"
    },
    {
     "name": "stdout",
     "output_type": "stream",
     "text": [
      "Estamos en la página https://skinsort.com/products/products-for-oily-skin/page/115\n"
     ]
    },
    {
     "data": {
      "application/vnd.jupyter.widget-view+json": {
       "model_id": "f6fd15e8bac54bb4994a3df4c60f6cef",
       "version_major": 2,
       "version_minor": 0
      },
      "text/plain": [
       "Obteniendo productos:   0%|          | 0/1 [00:00<?, ?it/s]"
      ]
     },
     "metadata": {},
     "output_type": "display_data"
    },
    {
     "name": "stdout",
     "output_type": "stream",
     "text": [
      "Estamos en la página https://skinsort.com/products/products-for-oily-skin/page/115\n"
     ]
    },
    {
     "data": {
      "application/vnd.jupyter.widget-view+json": {
       "model_id": "484d3385610d4a8bac24e3a6bb8b31ae",
       "version_major": 2,
       "version_minor": 0
      },
      "text/plain": [
       "Obteniendo productos:   0%|          | 0/1 [00:00<?, ?it/s]"
      ]
     },
     "metadata": {},
     "output_type": "display_data"
    },
    {
     "name": "stdout",
     "output_type": "stream",
     "text": [
      "Estamos en la página https://skinsort.com/products/products-for-oily-skin/page/116\n"
     ]
    },
    {
     "data": {
      "application/vnd.jupyter.widget-view+json": {
       "model_id": "eec7235d166b4c14879a123487db4a5d",
       "version_major": 2,
       "version_minor": 0
      },
      "text/plain": [
       "Obteniendo productos:   0%|          | 0/1 [00:00<?, ?it/s]"
      ]
     },
     "metadata": {},
     "output_type": "display_data"
    },
    {
     "name": "stdout",
     "output_type": "stream",
     "text": [
      "Estamos en la página https://skinsort.com/products/products-for-oily-skin/page/116\n"
     ]
    },
    {
     "data": {
      "application/vnd.jupyter.widget-view+json": {
       "model_id": "1a3c83eea64c4201baf2935e859ad781",
       "version_major": 2,
       "version_minor": 0
      },
      "text/plain": [
       "Obteniendo productos:   0%|          | 0/1 [00:00<?, ?it/s]"
      ]
     },
     "metadata": {},
     "output_type": "display_data"
    },
    {
     "name": "stdout",
     "output_type": "stream",
     "text": [
      "Estamos en la página https://skinsort.com/products/products-for-oily-skin/page/116\n"
     ]
    },
    {
     "data": {
      "application/vnd.jupyter.widget-view+json": {
       "model_id": "dd410f7a1af8466794b637ddef81ba32",
       "version_major": 2,
       "version_minor": 0
      },
      "text/plain": [
       "Obteniendo productos:   0%|          | 0/1 [00:00<?, ?it/s]"
      ]
     },
     "metadata": {},
     "output_type": "display_data"
    },
    {
     "name": "stdout",
     "output_type": "stream",
     "text": [
      "Estamos en la página https://skinsort.com/products/products-for-oily-skin/page/117\n"
     ]
    },
    {
     "data": {
      "application/vnd.jupyter.widget-view+json": {
       "model_id": "617a0ea10e1c4cea85addbb6bc33ff45",
       "version_major": 2,
       "version_minor": 0
      },
      "text/plain": [
       "Obteniendo productos:   0%|          | 0/1 [00:00<?, ?it/s]"
      ]
     },
     "metadata": {},
     "output_type": "display_data"
    },
    {
     "name": "stdout",
     "output_type": "stream",
     "text": [
      "Estamos en la página https://skinsort.com/products/products-for-oily-skin/page/117\n"
     ]
    },
    {
     "data": {
      "application/vnd.jupyter.widget-view+json": {
       "model_id": "c62b2a60030a4741867d30cb3cd67895",
       "version_major": 2,
       "version_minor": 0
      },
      "text/plain": [
       "Obteniendo productos:   0%|          | 0/1 [00:00<?, ?it/s]"
      ]
     },
     "metadata": {},
     "output_type": "display_data"
    },
    {
     "name": "stdout",
     "output_type": "stream",
     "text": [
      "Estamos en la página https://skinsort.com/products/products-for-oily-skin/page/117\n"
     ]
    },
    {
     "data": {
      "application/vnd.jupyter.widget-view+json": {
       "model_id": "2c353dfd67374c94886db223bd7b5591",
       "version_major": 2,
       "version_minor": 0
      },
      "text/plain": [
       "Obteniendo productos:   0%|          | 0/1 [00:00<?, ?it/s]"
      ]
     },
     "metadata": {},
     "output_type": "display_data"
    },
    {
     "name": "stdout",
     "output_type": "stream",
     "text": [
      "Estamos en la página https://skinsort.com/products/products-for-oily-skin/page/118\n"
     ]
    },
    {
     "data": {
      "application/vnd.jupyter.widget-view+json": {
       "model_id": "485ca75cba0a48cb8137340e642085e5",
       "version_major": 2,
       "version_minor": 0
      },
      "text/plain": [
       "Obteniendo productos:   0%|          | 0/1 [00:00<?, ?it/s]"
      ]
     },
     "metadata": {},
     "output_type": "display_data"
    },
    {
     "name": "stdout",
     "output_type": "stream",
     "text": [
      "Estamos en la página https://skinsort.com/products/products-for-oily-skin/page/118\n"
     ]
    },
    {
     "data": {
      "application/vnd.jupyter.widget-view+json": {
       "model_id": "7610cca6d4c94b32a439d3fda55eb64d",
       "version_major": 2,
       "version_minor": 0
      },
      "text/plain": [
       "Obteniendo productos:   0%|          | 0/1 [00:00<?, ?it/s]"
      ]
     },
     "metadata": {},
     "output_type": "display_data"
    },
    {
     "name": "stdout",
     "output_type": "stream",
     "text": [
      "Estamos en la página https://skinsort.com/products/products-for-oily-skin/page/118\n"
     ]
    },
    {
     "data": {
      "application/vnd.jupyter.widget-view+json": {
       "model_id": "04289ba62c10487f8e397092550cbff5",
       "version_major": 2,
       "version_minor": 0
      },
      "text/plain": [
       "Obteniendo productos:   0%|          | 0/1 [00:00<?, ?it/s]"
      ]
     },
     "metadata": {},
     "output_type": "display_data"
    },
    {
     "name": "stdout",
     "output_type": "stream",
     "text": [
      "Estamos en la página https://skinsort.com/products/products-for-oily-skin/page/119\n"
     ]
    },
    {
     "data": {
      "application/vnd.jupyter.widget-view+json": {
       "model_id": "33ad13957b14415c9db061f49d8f97c0",
       "version_major": 2,
       "version_minor": 0
      },
      "text/plain": [
       "Obteniendo productos:   0%|          | 0/1 [00:00<?, ?it/s]"
      ]
     },
     "metadata": {},
     "output_type": "display_data"
    },
    {
     "name": "stdout",
     "output_type": "stream",
     "text": [
      "Estamos en la página https://skinsort.com/products/products-for-oily-skin/page/119\n"
     ]
    },
    {
     "data": {
      "application/vnd.jupyter.widget-view+json": {
       "model_id": "0d38320b4e714680a021a54c4cb2583d",
       "version_major": 2,
       "version_minor": 0
      },
      "text/plain": [
       "Obteniendo productos:   0%|          | 0/1 [00:00<?, ?it/s]"
      ]
     },
     "metadata": {},
     "output_type": "display_data"
    },
    {
     "name": "stdout",
     "output_type": "stream",
     "text": [
      "Estamos en la página https://skinsort.com/products/products-for-oily-skin/page/119\n"
     ]
    },
    {
     "data": {
      "application/vnd.jupyter.widget-view+json": {
       "model_id": "b9d10e67efe34bd1b5dbf8a8bbacce43",
       "version_major": 2,
       "version_minor": 0
      },
      "text/plain": [
       "Obteniendo productos:   0%|          | 0/1 [00:00<?, ?it/s]"
      ]
     },
     "metadata": {},
     "output_type": "display_data"
    },
    {
     "name": "stdout",
     "output_type": "stream",
     "text": [
      "Estamos en la página https://skinsort.com/products/products-for-oily-skin/page/120\n"
     ]
    },
    {
     "data": {
      "application/vnd.jupyter.widget-view+json": {
       "model_id": "b4827b56131045239c99f948e2b64bfd",
       "version_major": 2,
       "version_minor": 0
      },
      "text/plain": [
       "Obteniendo productos:   0%|          | 0/1 [00:00<?, ?it/s]"
      ]
     },
     "metadata": {},
     "output_type": "display_data"
    },
    {
     "name": "stdout",
     "output_type": "stream",
     "text": [
      "Estamos en la página https://skinsort.com/products/products-for-oily-skin/page/120\n"
     ]
    },
    {
     "data": {
      "application/vnd.jupyter.widget-view+json": {
       "model_id": "66638fa401634522be5a86834079727f",
       "version_major": 2,
       "version_minor": 0
      },
      "text/plain": [
       "Obteniendo productos:   0%|          | 0/1 [00:00<?, ?it/s]"
      ]
     },
     "metadata": {},
     "output_type": "display_data"
    },
    {
     "name": "stdout",
     "output_type": "stream",
     "text": [
      "Estamos en la página https://skinsort.com/products/products-for-oily-skin/page/120\n"
     ]
    },
    {
     "data": {
      "application/vnd.jupyter.widget-view+json": {
       "model_id": "b3d2ffb4b4e34a4bb37fc41984c6c623",
       "version_major": 2,
       "version_minor": 0
      },
      "text/plain": [
       "Obteniendo productos:   0%|          | 0/1 [00:00<?, ?it/s]"
      ]
     },
     "metadata": {},
     "output_type": "display_data"
    },
    {
     "name": "stdout",
     "output_type": "stream",
     "text": [
      "Estamos en la página https://skinsort.com/products/products-for-oily-skin/page/121\n"
     ]
    },
    {
     "data": {
      "application/vnd.jupyter.widget-view+json": {
       "model_id": "48bc89361275479295c55ccbcd4c7dc0",
       "version_major": 2,
       "version_minor": 0
      },
      "text/plain": [
       "Obteniendo productos:   0%|          | 0/1 [00:00<?, ?it/s]"
      ]
     },
     "metadata": {},
     "output_type": "display_data"
    },
    {
     "name": "stdout",
     "output_type": "stream",
     "text": [
      "Estamos en la página https://skinsort.com/products/products-for-oily-skin/page/121\n"
     ]
    },
    {
     "data": {
      "application/vnd.jupyter.widget-view+json": {
       "model_id": "13cce6eba4a44f14a62a78a011fd09f7",
       "version_major": 2,
       "version_minor": 0
      },
      "text/plain": [
       "Obteniendo productos:   0%|          | 0/1 [00:00<?, ?it/s]"
      ]
     },
     "metadata": {},
     "output_type": "display_data"
    },
    {
     "name": "stdout",
     "output_type": "stream",
     "text": [
      "Estamos en la página https://skinsort.com/products/products-for-oily-skin/page/121\n"
     ]
    },
    {
     "data": {
      "application/vnd.jupyter.widget-view+json": {
       "model_id": "6fa21c8be23c4fc3862e4261e19154e3",
       "version_major": 2,
       "version_minor": 0
      },
      "text/plain": [
       "Obteniendo productos:   0%|          | 0/1 [00:00<?, ?it/s]"
      ]
     },
     "metadata": {},
     "output_type": "display_data"
    },
    {
     "name": "stdout",
     "output_type": "stream",
     "text": [
      "Estamos en la página https://skinsort.com/products/products-for-oily-skin/page/122\n"
     ]
    },
    {
     "data": {
      "application/vnd.jupyter.widget-view+json": {
       "model_id": "c6f15cc1fdd94bc5a14ee5a2c17d33e7",
       "version_major": 2,
       "version_minor": 0
      },
      "text/plain": [
       "Obteniendo productos:   0%|          | 0/1 [00:00<?, ?it/s]"
      ]
     },
     "metadata": {},
     "output_type": "display_data"
    },
    {
     "name": "stdout",
     "output_type": "stream",
     "text": [
      "Estamos en la página https://skinsort.com/products/products-for-oily-skin/page/122\n"
     ]
    },
    {
     "data": {
      "application/vnd.jupyter.widget-view+json": {
       "model_id": "75de0bdd370246579b7631d1ab32680a",
       "version_major": 2,
       "version_minor": 0
      },
      "text/plain": [
       "Obteniendo productos:   0%|          | 0/1 [00:00<?, ?it/s]"
      ]
     },
     "metadata": {},
     "output_type": "display_data"
    },
    {
     "name": "stdout",
     "output_type": "stream",
     "text": [
      "Estamos en la página https://skinsort.com/products/products-for-oily-skin/page/122\n"
     ]
    },
    {
     "data": {
      "application/vnd.jupyter.widget-view+json": {
       "model_id": "7c7c414648054db7b087b991295b4109",
       "version_major": 2,
       "version_minor": 0
      },
      "text/plain": [
       "Obteniendo productos:   0%|          | 0/1 [00:00<?, ?it/s]"
      ]
     },
     "metadata": {},
     "output_type": "display_data"
    },
    {
     "name": "stdout",
     "output_type": "stream",
     "text": [
      "Estamos en la página https://skinsort.com/products/products-for-oily-skin/page/123\n"
     ]
    },
    {
     "data": {
      "application/vnd.jupyter.widget-view+json": {
       "model_id": "de59e9f302be430ab269cc912a492cba",
       "version_major": 2,
       "version_minor": 0
      },
      "text/plain": [
       "Obteniendo productos:   0%|          | 0/1 [00:00<?, ?it/s]"
      ]
     },
     "metadata": {},
     "output_type": "display_data"
    },
    {
     "name": "stdout",
     "output_type": "stream",
     "text": [
      "Estamos en la página https://skinsort.com/products/products-for-oily-skin/page/123\n"
     ]
    },
    {
     "data": {
      "application/vnd.jupyter.widget-view+json": {
       "model_id": "5ad9181e6bbb4161a427f830d0f5a009",
       "version_major": 2,
       "version_minor": 0
      },
      "text/plain": [
       "Obteniendo productos:   0%|          | 0/1 [00:00<?, ?it/s]"
      ]
     },
     "metadata": {},
     "output_type": "display_data"
    },
    {
     "name": "stdout",
     "output_type": "stream",
     "text": [
      "Estamos en la página https://skinsort.com/products/products-for-oily-skin/page/123\n"
     ]
    },
    {
     "data": {
      "application/vnd.jupyter.widget-view+json": {
       "model_id": "a16158524fa948efb3405c201b9dd29b",
       "version_major": 2,
       "version_minor": 0
      },
      "text/plain": [
       "Obteniendo productos:   0%|          | 0/1 [00:00<?, ?it/s]"
      ]
     },
     "metadata": {},
     "output_type": "display_data"
    },
    {
     "name": "stdout",
     "output_type": "stream",
     "text": [
      "Estamos en la página https://skinsort.com/products/products-for-oily-skin/page/124\n"
     ]
    },
    {
     "data": {
      "application/vnd.jupyter.widget-view+json": {
       "model_id": "5f5670588b4a40bfaf5a2e643ac92571",
       "version_major": 2,
       "version_minor": 0
      },
      "text/plain": [
       "Obteniendo productos:   0%|          | 0/1 [00:00<?, ?it/s]"
      ]
     },
     "metadata": {},
     "output_type": "display_data"
    },
    {
     "name": "stdout",
     "output_type": "stream",
     "text": [
      "Estamos en la página https://skinsort.com/products/products-for-oily-skin/page/124\n"
     ]
    },
    {
     "data": {
      "application/vnd.jupyter.widget-view+json": {
       "model_id": "d5201d5fb41d4f82a9221fe4a470dbd1",
       "version_major": 2,
       "version_minor": 0
      },
      "text/plain": [
       "Obteniendo productos:   0%|          | 0/1 [00:00<?, ?it/s]"
      ]
     },
     "metadata": {},
     "output_type": "display_data"
    },
    {
     "name": "stdout",
     "output_type": "stream",
     "text": [
      "Estamos en la página https://skinsort.com/products/products-for-oily-skin/page/124\n"
     ]
    },
    {
     "data": {
      "application/vnd.jupyter.widget-view+json": {
       "model_id": "f632e8630fd74de8a2dcf8663ca02abf",
       "version_major": 2,
       "version_minor": 0
      },
      "text/plain": [
       "Obteniendo productos:   0%|          | 0/1 [00:00<?, ?it/s]"
      ]
     },
     "metadata": {},
     "output_type": "display_data"
    },
    {
     "name": "stdout",
     "output_type": "stream",
     "text": [
      "Estamos en la página https://skinsort.com/products/products-for-oily-skin/page/125\n"
     ]
    },
    {
     "data": {
      "application/vnd.jupyter.widget-view+json": {
       "model_id": "a7007080b14d465ab351dd77f68eb389",
       "version_major": 2,
       "version_minor": 0
      },
      "text/plain": [
       "Obteniendo productos:   0%|          | 0/1 [00:00<?, ?it/s]"
      ]
     },
     "metadata": {},
     "output_type": "display_data"
    },
    {
     "name": "stdout",
     "output_type": "stream",
     "text": [
      "Estamos en la página https://skinsort.com/products/products-for-oily-skin/page/125\n"
     ]
    },
    {
     "data": {
      "application/vnd.jupyter.widget-view+json": {
       "model_id": "66cc3c001f2841fb9574b07e3de2c509",
       "version_major": 2,
       "version_minor": 0
      },
      "text/plain": [
       "Obteniendo productos:   0%|          | 0/1 [00:00<?, ?it/s]"
      ]
     },
     "metadata": {},
     "output_type": "display_data"
    },
    {
     "name": "stdout",
     "output_type": "stream",
     "text": [
      "Estamos en la página https://skinsort.com/products/products-for-oily-skin/page/125\n"
     ]
    },
    {
     "data": {
      "application/vnd.jupyter.widget-view+json": {
       "model_id": "76b920c452d34dbf88906a0a64e4e41c",
       "version_major": 2,
       "version_minor": 0
      },
      "text/plain": [
       "Obteniendo productos:   0%|          | 0/1 [00:00<?, ?it/s]"
      ]
     },
     "metadata": {},
     "output_type": "display_data"
    },
    {
     "name": "stdout",
     "output_type": "stream",
     "text": [
      "Estamos en la página https://skinsort.com/products/products-for-oily-skin/page/126\n"
     ]
    },
    {
     "data": {
      "application/vnd.jupyter.widget-view+json": {
       "model_id": "0b425d6d4a3247da86ce048a87f9318c",
       "version_major": 2,
       "version_minor": 0
      },
      "text/plain": [
       "Obteniendo productos:   0%|          | 0/1 [00:00<?, ?it/s]"
      ]
     },
     "metadata": {},
     "output_type": "display_data"
    },
    {
     "name": "stdout",
     "output_type": "stream",
     "text": [
      "Estamos en la página https://skinsort.com/products/products-for-oily-skin/page/126\n"
     ]
    },
    {
     "data": {
      "application/vnd.jupyter.widget-view+json": {
       "model_id": "ef3a6ef6b0a045d98e8b1a806341753e",
       "version_major": 2,
       "version_minor": 0
      },
      "text/plain": [
       "Obteniendo productos:   0%|          | 0/1 [00:00<?, ?it/s]"
      ]
     },
     "metadata": {},
     "output_type": "display_data"
    },
    {
     "name": "stdout",
     "output_type": "stream",
     "text": [
      "Estamos en la página https://skinsort.com/products/products-for-oily-skin/page/126\n"
     ]
    },
    {
     "data": {
      "application/vnd.jupyter.widget-view+json": {
       "model_id": "8be2062a04864a89a239861495f91025",
       "version_major": 2,
       "version_minor": 0
      },
      "text/plain": [
       "Obteniendo productos:   0%|          | 0/1 [00:00<?, ?it/s]"
      ]
     },
     "metadata": {},
     "output_type": "display_data"
    },
    {
     "name": "stdout",
     "output_type": "stream",
     "text": [
      "Estamos en la página https://skinsort.com/products/products-for-oily-skin/page/127\n"
     ]
    },
    {
     "data": {
      "application/vnd.jupyter.widget-view+json": {
       "model_id": "f52ddb19edad4405bac0b9a822af9f0c",
       "version_major": 2,
       "version_minor": 0
      },
      "text/plain": [
       "Obteniendo productos:   0%|          | 0/1 [00:00<?, ?it/s]"
      ]
     },
     "metadata": {},
     "output_type": "display_data"
    },
    {
     "name": "stdout",
     "output_type": "stream",
     "text": [
      "Estamos en la página https://skinsort.com/products/products-for-oily-skin/page/127\n"
     ]
    },
    {
     "data": {
      "application/vnd.jupyter.widget-view+json": {
       "model_id": "31ce2e54e4f1419bb43b43cb358f1b1e",
       "version_major": 2,
       "version_minor": 0
      },
      "text/plain": [
       "Obteniendo productos:   0%|          | 0/1 [00:00<?, ?it/s]"
      ]
     },
     "metadata": {},
     "output_type": "display_data"
    },
    {
     "name": "stdout",
     "output_type": "stream",
     "text": [
      "Estamos en la página https://skinsort.com/products/products-for-oily-skin/page/127\n"
     ]
    },
    {
     "data": {
      "application/vnd.jupyter.widget-view+json": {
       "model_id": "5990571746dc41b181cc477866192985",
       "version_major": 2,
       "version_minor": 0
      },
      "text/plain": [
       "Obteniendo productos:   0%|          | 0/1 [00:00<?, ?it/s]"
      ]
     },
     "metadata": {},
     "output_type": "display_data"
    },
    {
     "name": "stdout",
     "output_type": "stream",
     "text": [
      "Estamos en la página https://skinsort.com/products/products-for-oily-skin/page/128\n"
     ]
    },
    {
     "data": {
      "application/vnd.jupyter.widget-view+json": {
       "model_id": "f57cd4bc203c4e56bc54c7fcfc7027d4",
       "version_major": 2,
       "version_minor": 0
      },
      "text/plain": [
       "Obteniendo productos:   0%|          | 0/1 [00:00<?, ?it/s]"
      ]
     },
     "metadata": {},
     "output_type": "display_data"
    },
    {
     "name": "stdout",
     "output_type": "stream",
     "text": [
      "Estamos en la página https://skinsort.com/products/products-for-oily-skin/page/128\n"
     ]
    },
    {
     "data": {
      "application/vnd.jupyter.widget-view+json": {
       "model_id": "28b95e8991824734a19d11721e0176da",
       "version_major": 2,
       "version_minor": 0
      },
      "text/plain": [
       "Obteniendo productos:   0%|          | 0/1 [00:00<?, ?it/s]"
      ]
     },
     "metadata": {},
     "output_type": "display_data"
    },
    {
     "name": "stdout",
     "output_type": "stream",
     "text": [
      "Estamos en la página https://skinsort.com/products/products-for-oily-skin/page/128\n"
     ]
    },
    {
     "data": {
      "application/vnd.jupyter.widget-view+json": {
       "model_id": "016b4591d9bc461f8755594950d9ce42",
       "version_major": 2,
       "version_minor": 0
      },
      "text/plain": [
       "Obteniendo productos:   0%|          | 0/1 [00:00<?, ?it/s]"
      ]
     },
     "metadata": {},
     "output_type": "display_data"
    },
    {
     "name": "stdout",
     "output_type": "stream",
     "text": [
      "Estamos en la página https://skinsort.com/products/products-for-oily-skin/page/129\n"
     ]
    },
    {
     "data": {
      "application/vnd.jupyter.widget-view+json": {
       "model_id": "3d6cd5d9f6b64db98163c147fe28673a",
       "version_major": 2,
       "version_minor": 0
      },
      "text/plain": [
       "Obteniendo productos:   0%|          | 0/1 [00:00<?, ?it/s]"
      ]
     },
     "metadata": {},
     "output_type": "display_data"
    },
    {
     "name": "stdout",
     "output_type": "stream",
     "text": [
      "Estamos en la página https://skinsort.com/products/products-for-oily-skin/page/129\n"
     ]
    },
    {
     "data": {
      "application/vnd.jupyter.widget-view+json": {
       "model_id": "73bb23379a9c4dd7b45d34a3d7ef64f5",
       "version_major": 2,
       "version_minor": 0
      },
      "text/plain": [
       "Obteniendo productos:   0%|          | 0/1 [00:00<?, ?it/s]"
      ]
     },
     "metadata": {},
     "output_type": "display_data"
    },
    {
     "name": "stdout",
     "output_type": "stream",
     "text": [
      "Estamos en la página https://skinsort.com/products/products-for-oily-skin/page/129\n"
     ]
    },
    {
     "data": {
      "application/vnd.jupyter.widget-view+json": {
       "model_id": "ebd479cb4a714d78894ba6316c9fa56d",
       "version_major": 2,
       "version_minor": 0
      },
      "text/plain": [
       "Obteniendo productos:   0%|          | 0/1 [00:00<?, ?it/s]"
      ]
     },
     "metadata": {},
     "output_type": "display_data"
    },
    {
     "name": "stdout",
     "output_type": "stream",
     "text": [
      "Estamos en la página https://skinsort.com/products/products-for-oily-skin/page/130\n"
     ]
    },
    {
     "data": {
      "application/vnd.jupyter.widget-view+json": {
       "model_id": "0d2309c8025f4aa38fb27c9385edce64",
       "version_major": 2,
       "version_minor": 0
      },
      "text/plain": [
       "Obteniendo productos:   0%|          | 0/1 [00:00<?, ?it/s]"
      ]
     },
     "metadata": {},
     "output_type": "display_data"
    },
    {
     "name": "stdout",
     "output_type": "stream",
     "text": [
      "Estamos en la página https://skinsort.com/products/products-for-oily-skin/page/130\n"
     ]
    },
    {
     "data": {
      "application/vnd.jupyter.widget-view+json": {
       "model_id": "a2388120319f4c0796db4d1cce940e46",
       "version_major": 2,
       "version_minor": 0
      },
      "text/plain": [
       "Obteniendo productos:   0%|          | 0/1 [00:00<?, ?it/s]"
      ]
     },
     "metadata": {},
     "output_type": "display_data"
    },
    {
     "name": "stdout",
     "output_type": "stream",
     "text": [
      "Estamos en la página https://skinsort.com/products/products-for-oily-skin/page/130\n"
     ]
    },
    {
     "data": {
      "application/vnd.jupyter.widget-view+json": {
       "model_id": "c4c58937ea7c4dc08a78a664cddbc747",
       "version_major": 2,
       "version_minor": 0
      },
      "text/plain": [
       "Obteniendo productos:   0%|          | 0/1 [00:00<?, ?it/s]"
      ]
     },
     "metadata": {},
     "output_type": "display_data"
    },
    {
     "name": "stdout",
     "output_type": "stream",
     "text": [
      "Estamos en la página https://skinsort.com/products/products-for-oily-skin/page/131\n"
     ]
    },
    {
     "data": {
      "application/vnd.jupyter.widget-view+json": {
       "model_id": "8056f415299a4164a677ebb03a52a570",
       "version_major": 2,
       "version_minor": 0
      },
      "text/plain": [
       "Obteniendo productos:   0%|          | 0/1 [00:00<?, ?it/s]"
      ]
     },
     "metadata": {},
     "output_type": "display_data"
    },
    {
     "name": "stdout",
     "output_type": "stream",
     "text": [
      "Estamos en la página https://skinsort.com/products/products-for-oily-skin/page/131\n"
     ]
    },
    {
     "data": {
      "application/vnd.jupyter.widget-view+json": {
       "model_id": "004a88c04b6142eab57c76dd48b85615",
       "version_major": 2,
       "version_minor": 0
      },
      "text/plain": [
       "Obteniendo productos:   0%|          | 0/1 [00:00<?, ?it/s]"
      ]
     },
     "metadata": {},
     "output_type": "display_data"
    },
    {
     "name": "stdout",
     "output_type": "stream",
     "text": [
      "Estamos en la página https://skinsort.com/products/products-for-oily-skin/page/131\n"
     ]
    },
    {
     "data": {
      "application/vnd.jupyter.widget-view+json": {
       "model_id": "bf3edddabcb64b95964276c253f75d91",
       "version_major": 2,
       "version_minor": 0
      },
      "text/plain": [
       "Obteniendo productos:   0%|          | 0/1 [00:00<?, ?it/s]"
      ]
     },
     "metadata": {},
     "output_type": "display_data"
    },
    {
     "name": "stdout",
     "output_type": "stream",
     "text": [
      "Estamos en la página https://skinsort.com/products/products-for-oily-skin/page/132\n"
     ]
    },
    {
     "data": {
      "application/vnd.jupyter.widget-view+json": {
       "model_id": "7cd78c0fcba54449b8cdae143c11de15",
       "version_major": 2,
       "version_minor": 0
      },
      "text/plain": [
       "Obteniendo productos:   0%|          | 0/1 [00:00<?, ?it/s]"
      ]
     },
     "metadata": {},
     "output_type": "display_data"
    },
    {
     "name": "stdout",
     "output_type": "stream",
     "text": [
      "Estamos en la página https://skinsort.com/products/products-for-oily-skin/page/132\n"
     ]
    },
    {
     "data": {
      "application/vnd.jupyter.widget-view+json": {
       "model_id": "52c76a6c64ed494e8d6d25899191c67e",
       "version_major": 2,
       "version_minor": 0
      },
      "text/plain": [
       "Obteniendo productos:   0%|          | 0/1 [00:00<?, ?it/s]"
      ]
     },
     "metadata": {},
     "output_type": "display_data"
    },
    {
     "name": "stdout",
     "output_type": "stream",
     "text": [
      "Estamos en la página https://skinsort.com/products/products-for-oily-skin/page/132\n",
      "Error al obtener los datos.\n"
     ]
    },
    {
     "data": {
      "application/vnd.jupyter.widget-view+json": {
       "model_id": "e47ca942a27e4b69a2c9522c9408b0a7",
       "version_major": 2,
       "version_minor": 0
      },
      "text/plain": [
       "Obteniendo productos:   0%|          | 0/1 [00:00<?, ?it/s]"
      ]
     },
     "metadata": {},
     "output_type": "display_data"
    },
    {
     "name": "stdout",
     "output_type": "stream",
     "text": [
      "Estamos en la página https://skinsort.com/products/products-for-oily-skin/page/134\n"
     ]
    },
    {
     "data": {
      "application/vnd.jupyter.widget-view+json": {
       "model_id": "05136c59b48f454cbf4eaae8c49821d0",
       "version_major": 2,
       "version_minor": 0
      },
      "text/plain": [
       "Obteniendo productos:   0%|          | 0/1 [00:00<?, ?it/s]"
      ]
     },
     "metadata": {},
     "output_type": "display_data"
    },
    {
     "name": "stdout",
     "output_type": "stream",
     "text": [
      "Estamos en la página https://skinsort.com/products/products-for-oily-skin/page/134\n"
     ]
    },
    {
     "data": {
      "application/vnd.jupyter.widget-view+json": {
       "model_id": "55a51c501b1f49458a91d2acf7ce51f5",
       "version_major": 2,
       "version_minor": 0
      },
      "text/plain": [
       "Obteniendo productos:   0%|          | 0/1 [00:00<?, ?it/s]"
      ]
     },
     "metadata": {},
     "output_type": "display_data"
    },
    {
     "name": "stdout",
     "output_type": "stream",
     "text": [
      "Estamos en la página https://skinsort.com/products/products-for-oily-skin/page/134\n"
     ]
    },
    {
     "data": {
      "application/vnd.jupyter.widget-view+json": {
       "model_id": "5185e5ad651942429f6de1e2a62d0986",
       "version_major": 2,
       "version_minor": 0
      },
      "text/plain": [
       "Obteniendo productos:   0%|          | 0/1 [00:00<?, ?it/s]"
      ]
     },
     "metadata": {},
     "output_type": "display_data"
    },
    {
     "name": "stdout",
     "output_type": "stream",
     "text": [
      "Estamos en la página https://skinsort.com/products/products-for-oily-skin/page/135\n"
     ]
    },
    {
     "data": {
      "application/vnd.jupyter.widget-view+json": {
       "model_id": "0afa0f3d8c284aaea940c120545bc007",
       "version_major": 2,
       "version_minor": 0
      },
      "text/plain": [
       "Obteniendo productos:   0%|          | 0/1 [00:00<?, ?it/s]"
      ]
     },
     "metadata": {},
     "output_type": "display_data"
    },
    {
     "name": "stdout",
     "output_type": "stream",
     "text": [
      "Estamos en la página https://skinsort.com/products/products-for-oily-skin/page/135\n"
     ]
    },
    {
     "data": {
      "application/vnd.jupyter.widget-view+json": {
       "model_id": "ace64d50d1e44a9eac3bf71166bb7bd0",
       "version_major": 2,
       "version_minor": 0
      },
      "text/plain": [
       "Obteniendo productos:   0%|          | 0/1 [00:00<?, ?it/s]"
      ]
     },
     "metadata": {},
     "output_type": "display_data"
    },
    {
     "name": "stdout",
     "output_type": "stream",
     "text": [
      "Estamos en la página https://skinsort.com/products/products-for-oily-skin/page/135\n"
     ]
    },
    {
     "data": {
      "application/vnd.jupyter.widget-view+json": {
       "model_id": "687e362a5d194462be719dfc43eea9b6",
       "version_major": 2,
       "version_minor": 0
      },
      "text/plain": [
       "Obteniendo productos:   0%|          | 0/1 [00:00<?, ?it/s]"
      ]
     },
     "metadata": {},
     "output_type": "display_data"
    },
    {
     "name": "stdout",
     "output_type": "stream",
     "text": [
      "Estamos en la página https://skinsort.com/products/products-for-oily-skin/page/136\n"
     ]
    },
    {
     "data": {
      "application/vnd.jupyter.widget-view+json": {
       "model_id": "f865857e701748bc87859f4c19f82eaf",
       "version_major": 2,
       "version_minor": 0
      },
      "text/plain": [
       "Obteniendo productos:   0%|          | 0/1 [00:00<?, ?it/s]"
      ]
     },
     "metadata": {},
     "output_type": "display_data"
    },
    {
     "name": "stdout",
     "output_type": "stream",
     "text": [
      "Estamos en la página https://skinsort.com/products/products-for-oily-skin/page/136\n"
     ]
    },
    {
     "data": {
      "application/vnd.jupyter.widget-view+json": {
       "model_id": "ab0f2d65cec4481aba536bfbca9e6023",
       "version_major": 2,
       "version_minor": 0
      },
      "text/plain": [
       "Obteniendo productos:   0%|          | 0/1 [00:00<?, ?it/s]"
      ]
     },
     "metadata": {},
     "output_type": "display_data"
    },
    {
     "name": "stdout",
     "output_type": "stream",
     "text": [
      "Estamos en la página https://skinsort.com/products/products-for-oily-skin/page/136\n"
     ]
    },
    {
     "data": {
      "application/vnd.jupyter.widget-view+json": {
       "model_id": "b990c6a7b7a1461fb5e507e80e68c5d8",
       "version_major": 2,
       "version_minor": 0
      },
      "text/plain": [
       "Obteniendo productos:   0%|          | 0/1 [00:00<?, ?it/s]"
      ]
     },
     "metadata": {},
     "output_type": "display_data"
    },
    {
     "name": "stdout",
     "output_type": "stream",
     "text": [
      "Estamos en la página https://skinsort.com/products/products-for-oily-skin/page/137\n"
     ]
    },
    {
     "data": {
      "application/vnd.jupyter.widget-view+json": {
       "model_id": "57b4f96773b3437f86bc8ec9a9e5b2d3",
       "version_major": 2,
       "version_minor": 0
      },
      "text/plain": [
       "Obteniendo productos:   0%|          | 0/1 [00:00<?, ?it/s]"
      ]
     },
     "metadata": {},
     "output_type": "display_data"
    },
    {
     "name": "stdout",
     "output_type": "stream",
     "text": [
      "Estamos en la página https://skinsort.com/products/products-for-oily-skin/page/137\n"
     ]
    },
    {
     "data": {
      "application/vnd.jupyter.widget-view+json": {
       "model_id": "64fa1308896e4cbf8d07bfe77c1e229b",
       "version_major": 2,
       "version_minor": 0
      },
      "text/plain": [
       "Obteniendo productos:   0%|          | 0/1 [00:00<?, ?it/s]"
      ]
     },
     "metadata": {},
     "output_type": "display_data"
    },
    {
     "name": "stdout",
     "output_type": "stream",
     "text": [
      "Estamos en la página https://skinsort.com/products/products-for-oily-skin/page/137\n"
     ]
    },
    {
     "data": {
      "application/vnd.jupyter.widget-view+json": {
       "model_id": "2c0eed47b52747619e065c6e057d84dd",
       "version_major": 2,
       "version_minor": 0
      },
      "text/plain": [
       "Obteniendo productos:   0%|          | 0/1 [00:00<?, ?it/s]"
      ]
     },
     "metadata": {},
     "output_type": "display_data"
    },
    {
     "name": "stdout",
     "output_type": "stream",
     "text": [
      "Estamos en la página https://skinsort.com/products/products-for-oily-skin/page/138\n"
     ]
    },
    {
     "data": {
      "application/vnd.jupyter.widget-view+json": {
       "model_id": "cf54465d169f447b859aa360440637cc",
       "version_major": 2,
       "version_minor": 0
      },
      "text/plain": [
       "Obteniendo productos:   0%|          | 0/1 [00:00<?, ?it/s]"
      ]
     },
     "metadata": {},
     "output_type": "display_data"
    },
    {
     "name": "stdout",
     "output_type": "stream",
     "text": [
      "Estamos en la página https://skinsort.com/products/products-for-oily-skin/page/138\n"
     ]
    },
    {
     "data": {
      "application/vnd.jupyter.widget-view+json": {
       "model_id": "bbd8eb2cc8e74260bbe77ab7e8e3c29f",
       "version_major": 2,
       "version_minor": 0
      },
      "text/plain": [
       "Obteniendo productos:   0%|          | 0/1 [00:00<?, ?it/s]"
      ]
     },
     "metadata": {},
     "output_type": "display_data"
    },
    {
     "name": "stdout",
     "output_type": "stream",
     "text": [
      "Estamos en la página https://skinsort.com/products/products-for-oily-skin/page/138\n"
     ]
    },
    {
     "data": {
      "application/vnd.jupyter.widget-view+json": {
       "model_id": "db0f02f7a5f044cc9e705b286e46eeea",
       "version_major": 2,
       "version_minor": 0
      },
      "text/plain": [
       "Obteniendo productos:   0%|          | 0/1 [00:00<?, ?it/s]"
      ]
     },
     "metadata": {},
     "output_type": "display_data"
    },
    {
     "name": "stdout",
     "output_type": "stream",
     "text": [
      "Estamos en la página https://skinsort.com/products/products-for-oily-skin/page/139\n"
     ]
    },
    {
     "data": {
      "application/vnd.jupyter.widget-view+json": {
       "model_id": "4e9f4d09043b46599aef8c5f41b680f3",
       "version_major": 2,
       "version_minor": 0
      },
      "text/plain": [
       "Obteniendo productos:   0%|          | 0/1 [00:00<?, ?it/s]"
      ]
     },
     "metadata": {},
     "output_type": "display_data"
    },
    {
     "name": "stdout",
     "output_type": "stream",
     "text": [
      "Estamos en la página https://skinsort.com/products/products-for-oily-skin/page/139\n"
     ]
    },
    {
     "data": {
      "application/vnd.jupyter.widget-view+json": {
       "model_id": "bbb3faa71f1a43178212f4f9f1dc7d40",
       "version_major": 2,
       "version_minor": 0
      },
      "text/plain": [
       "Obteniendo productos:   0%|          | 0/1 [00:00<?, ?it/s]"
      ]
     },
     "metadata": {},
     "output_type": "display_data"
    },
    {
     "name": "stdout",
     "output_type": "stream",
     "text": [
      "Estamos en la página https://skinsort.com/products/products-for-oily-skin/page/139\n"
     ]
    },
    {
     "data": {
      "application/vnd.jupyter.widget-view+json": {
       "model_id": "277a813374224d14abf8b9ef97e174a7",
       "version_major": 2,
       "version_minor": 0
      },
      "text/plain": [
       "Obteniendo productos:   0%|          | 0/1 [00:00<?, ?it/s]"
      ]
     },
     "metadata": {},
     "output_type": "display_data"
    },
    {
     "name": "stdout",
     "output_type": "stream",
     "text": [
      "Estamos en la página https://skinsort.com/products/products-for-oily-skin/page/140\n"
     ]
    },
    {
     "data": {
      "application/vnd.jupyter.widget-view+json": {
       "model_id": "cec5fd87e6894596b89fab3fd7077108",
       "version_major": 2,
       "version_minor": 0
      },
      "text/plain": [
       "Obteniendo productos:   0%|          | 0/1 [00:00<?, ?it/s]"
      ]
     },
     "metadata": {},
     "output_type": "display_data"
    },
    {
     "name": "stdout",
     "output_type": "stream",
     "text": [
      "Estamos en la página https://skinsort.com/products/products-for-oily-skin/page/140\n"
     ]
    },
    {
     "data": {
      "application/vnd.jupyter.widget-view+json": {
       "model_id": "34e21e601f644ee6a1794977c1e9b52e",
       "version_major": 2,
       "version_minor": 0
      },
      "text/plain": [
       "Obteniendo productos:   0%|          | 0/1 [00:00<?, ?it/s]"
      ]
     },
     "metadata": {},
     "output_type": "display_data"
    },
    {
     "name": "stdout",
     "output_type": "stream",
     "text": [
      "Estamos en la página https://skinsort.com/products/products-for-oily-skin/page/140\n"
     ]
    },
    {
     "data": {
      "application/vnd.jupyter.widget-view+json": {
       "model_id": "2850b462320248a0b0e7dd17330c6185",
       "version_major": 2,
       "version_minor": 0
      },
      "text/plain": [
       "Obteniendo productos:   0%|          | 0/1 [00:00<?, ?it/s]"
      ]
     },
     "metadata": {},
     "output_type": "display_data"
    },
    {
     "name": "stdout",
     "output_type": "stream",
     "text": [
      "Estamos en la página https://skinsort.com/products/products-for-oily-skin/page/141\n"
     ]
    },
    {
     "data": {
      "application/vnd.jupyter.widget-view+json": {
       "model_id": "a3b462927e4244679d67fa598302b265",
       "version_major": 2,
       "version_minor": 0
      },
      "text/plain": [
       "Obteniendo productos:   0%|          | 0/1 [00:00<?, ?it/s]"
      ]
     },
     "metadata": {},
     "output_type": "display_data"
    },
    {
     "name": "stdout",
     "output_type": "stream",
     "text": [
      "Estamos en la página https://skinsort.com/products/products-for-oily-skin/page/141\n"
     ]
    },
    {
     "data": {
      "application/vnd.jupyter.widget-view+json": {
       "model_id": "3985d8025a524f85a423751ee2bec3b4",
       "version_major": 2,
       "version_minor": 0
      },
      "text/plain": [
       "Obteniendo productos:   0%|          | 0/1 [00:00<?, ?it/s]"
      ]
     },
     "metadata": {},
     "output_type": "display_data"
    },
    {
     "name": "stdout",
     "output_type": "stream",
     "text": [
      "Estamos en la página https://skinsort.com/products/products-for-oily-skin/page/141\n"
     ]
    },
    {
     "data": {
      "application/vnd.jupyter.widget-view+json": {
       "model_id": "ca85d68dff2743658f7e4a862e556682",
       "version_major": 2,
       "version_minor": 0
      },
      "text/plain": [
       "Obteniendo productos:   0%|          | 0/1 [00:00<?, ?it/s]"
      ]
     },
     "metadata": {},
     "output_type": "display_data"
    },
    {
     "name": "stdout",
     "output_type": "stream",
     "text": [
      "Estamos en la página https://skinsort.com/products/products-for-oily-skin/page/142\n"
     ]
    },
    {
     "data": {
      "application/vnd.jupyter.widget-view+json": {
       "model_id": "d58141cb086e43fcbcaf841bdb442b93",
       "version_major": 2,
       "version_minor": 0
      },
      "text/plain": [
       "Obteniendo productos:   0%|          | 0/1 [00:00<?, ?it/s]"
      ]
     },
     "metadata": {},
     "output_type": "display_data"
    },
    {
     "name": "stdout",
     "output_type": "stream",
     "text": [
      "Estamos en la página https://skinsort.com/products/products-for-oily-skin/page/142\n"
     ]
    },
    {
     "data": {
      "application/vnd.jupyter.widget-view+json": {
       "model_id": "1548438c12c94168807be0f4ba26f9b6",
       "version_major": 2,
       "version_minor": 0
      },
      "text/plain": [
       "Obteniendo productos:   0%|          | 0/1 [00:00<?, ?it/s]"
      ]
     },
     "metadata": {},
     "output_type": "display_data"
    },
    {
     "name": "stdout",
     "output_type": "stream",
     "text": [
      "Estamos en la página https://skinsort.com/products/products-for-oily-skin/page/142\n"
     ]
    },
    {
     "data": {
      "application/vnd.jupyter.widget-view+json": {
       "model_id": "2d9c80a37be84cc389ff7a221c8a6699",
       "version_major": 2,
       "version_minor": 0
      },
      "text/plain": [
       "Obteniendo productos:   0%|          | 0/1 [00:00<?, ?it/s]"
      ]
     },
     "metadata": {},
     "output_type": "display_data"
    },
    {
     "name": "stdout",
     "output_type": "stream",
     "text": [
      "Estamos en la página https://skinsort.com/products/products-for-oily-skin/page/143\n"
     ]
    },
    {
     "data": {
      "application/vnd.jupyter.widget-view+json": {
       "model_id": "34e6f0a73ca84aecafa4c2713c850cd4",
       "version_major": 2,
       "version_minor": 0
      },
      "text/plain": [
       "Obteniendo productos:   0%|          | 0/1 [00:00<?, ?it/s]"
      ]
     },
     "metadata": {},
     "output_type": "display_data"
    },
    {
     "name": "stdout",
     "output_type": "stream",
     "text": [
      "Estamos en la página https://skinsort.com/products/products-for-oily-skin/page/143\n"
     ]
    },
    {
     "data": {
      "application/vnd.jupyter.widget-view+json": {
       "model_id": "f044189ae67a496197433617b669acf6",
       "version_major": 2,
       "version_minor": 0
      },
      "text/plain": [
       "Obteniendo productos:   0%|          | 0/1 [00:00<?, ?it/s]"
      ]
     },
     "metadata": {},
     "output_type": "display_data"
    },
    {
     "name": "stdout",
     "output_type": "stream",
     "text": [
      "Estamos en la página https://skinsort.com/products/products-for-oily-skin/page/143\n"
     ]
    },
    {
     "data": {
      "application/vnd.jupyter.widget-view+json": {
       "model_id": "af3ee532088e4a22a36c87acd0ff0f4a",
       "version_major": 2,
       "version_minor": 0
      },
      "text/plain": [
       "Obteniendo productos:   0%|          | 0/1 [00:00<?, ?it/s]"
      ]
     },
     "metadata": {},
     "output_type": "display_data"
    },
    {
     "name": "stdout",
     "output_type": "stream",
     "text": [
      "Estamos en la página https://skinsort.com/products/products-for-oily-skin/page/144\n"
     ]
    },
    {
     "data": {
      "application/vnd.jupyter.widget-view+json": {
       "model_id": "b861eeebf2f2491cabe352a6b461ced4",
       "version_major": 2,
       "version_minor": 0
      },
      "text/plain": [
       "Obteniendo productos:   0%|          | 0/1 [00:00<?, ?it/s]"
      ]
     },
     "metadata": {},
     "output_type": "display_data"
    },
    {
     "name": "stdout",
     "output_type": "stream",
     "text": [
      "Estamos en la página https://skinsort.com/products/products-for-oily-skin/page/144\n"
     ]
    },
    {
     "data": {
      "application/vnd.jupyter.widget-view+json": {
       "model_id": "a486762dac0a4ce08f75002214a70c73",
       "version_major": 2,
       "version_minor": 0
      },
      "text/plain": [
       "Obteniendo productos:   0%|          | 0/1 [00:00<?, ?it/s]"
      ]
     },
     "metadata": {},
     "output_type": "display_data"
    },
    {
     "name": "stdout",
     "output_type": "stream",
     "text": [
      "Estamos en la página https://skinsort.com/products/products-for-oily-skin/page/144\n"
     ]
    },
    {
     "data": {
      "application/vnd.jupyter.widget-view+json": {
       "model_id": "bdc332690397406e97bafa41da2dba7c",
       "version_major": 2,
       "version_minor": 0
      },
      "text/plain": [
       "Obteniendo productos:   0%|          | 0/1 [00:00<?, ?it/s]"
      ]
     },
     "metadata": {},
     "output_type": "display_data"
    },
    {
     "name": "stdout",
     "output_type": "stream",
     "text": [
      "Estamos en la página https://skinsort.com/products/products-for-oily-skin/page/145\n"
     ]
    },
    {
     "data": {
      "application/vnd.jupyter.widget-view+json": {
       "model_id": "2ef7e946dcf14e5d9f809687c7f48f67",
       "version_major": 2,
       "version_minor": 0
      },
      "text/plain": [
       "Obteniendo productos:   0%|          | 0/1 [00:00<?, ?it/s]"
      ]
     },
     "metadata": {},
     "output_type": "display_data"
    },
    {
     "name": "stdout",
     "output_type": "stream",
     "text": [
      "Estamos en la página https://skinsort.com/products/products-for-oily-skin/page/145\n"
     ]
    },
    {
     "data": {
      "application/vnd.jupyter.widget-view+json": {
       "model_id": "4e7823ac800146dea2d109d1c2fc7a1d",
       "version_major": 2,
       "version_minor": 0
      },
      "text/plain": [
       "Obteniendo productos:   0%|          | 0/1 [00:00<?, ?it/s]"
      ]
     },
     "metadata": {},
     "output_type": "display_data"
    },
    {
     "name": "stdout",
     "output_type": "stream",
     "text": [
      "Estamos en la página https://skinsort.com/products/products-for-oily-skin/page/145\n"
     ]
    },
    {
     "data": {
      "application/vnd.jupyter.widget-view+json": {
       "model_id": "a9d49f4739894fb895c242548410df37",
       "version_major": 2,
       "version_minor": 0
      },
      "text/plain": [
       "Obteniendo productos:   0%|          | 0/1 [00:00<?, ?it/s]"
      ]
     },
     "metadata": {},
     "output_type": "display_data"
    },
    {
     "name": "stdout",
     "output_type": "stream",
     "text": [
      "Estamos en la página https://skinsort.com/products/products-for-oily-skin/page/146\n"
     ]
    },
    {
     "data": {
      "application/vnd.jupyter.widget-view+json": {
       "model_id": "d0ddeb45d1eb44db920e980d48bfd618",
       "version_major": 2,
       "version_minor": 0
      },
      "text/plain": [
       "Obteniendo productos:   0%|          | 0/1 [00:00<?, ?it/s]"
      ]
     },
     "metadata": {},
     "output_type": "display_data"
    },
    {
     "name": "stdout",
     "output_type": "stream",
     "text": [
      "Estamos en la página https://skinsort.com/products/products-for-oily-skin/page/146\n"
     ]
    },
    {
     "data": {
      "application/vnd.jupyter.widget-view+json": {
       "model_id": "05894453c8b24c488de4a666fccac1ec",
       "version_major": 2,
       "version_minor": 0
      },
      "text/plain": [
       "Obteniendo productos:   0%|          | 0/1 [00:00<?, ?it/s]"
      ]
     },
     "metadata": {},
     "output_type": "display_data"
    },
    {
     "name": "stdout",
     "output_type": "stream",
     "text": [
      "Estamos en la página https://skinsort.com/products/products-for-oily-skin/page/146\n"
     ]
    },
    {
     "data": {
      "application/vnd.jupyter.widget-view+json": {
       "model_id": "2adacc8dc1fd4b7abbf10f3cf25c422a",
       "version_major": 2,
       "version_minor": 0
      },
      "text/plain": [
       "Obteniendo productos:   0%|          | 0/1 [00:00<?, ?it/s]"
      ]
     },
     "metadata": {},
     "output_type": "display_data"
    },
    {
     "name": "stdout",
     "output_type": "stream",
     "text": [
      "Estamos en la página https://skinsort.com/products/products-for-oily-skin/page/147\n"
     ]
    },
    {
     "data": {
      "application/vnd.jupyter.widget-view+json": {
       "model_id": "dd3fca17e72046b49304f5c3fbbaf16c",
       "version_major": 2,
       "version_minor": 0
      },
      "text/plain": [
       "Obteniendo productos:   0%|          | 0/1 [00:00<?, ?it/s]"
      ]
     },
     "metadata": {},
     "output_type": "display_data"
    },
    {
     "name": "stdout",
     "output_type": "stream",
     "text": [
      "Estamos en la página https://skinsort.com/products/products-for-oily-skin/page/147\n"
     ]
    },
    {
     "data": {
      "application/vnd.jupyter.widget-view+json": {
       "model_id": "997388c544d64804b1fe41953ff22359",
       "version_major": 2,
       "version_minor": 0
      },
      "text/plain": [
       "Obteniendo productos:   0%|          | 0/1 [00:00<?, ?it/s]"
      ]
     },
     "metadata": {},
     "output_type": "display_data"
    },
    {
     "name": "stdout",
     "output_type": "stream",
     "text": [
      "Estamos en la página https://skinsort.com/products/products-for-oily-skin/page/147\n"
     ]
    },
    {
     "data": {
      "application/vnd.jupyter.widget-view+json": {
       "model_id": "785f72b6de3e4c228dfcd7cb29f06c5a",
       "version_major": 2,
       "version_minor": 0
      },
      "text/plain": [
       "Obteniendo productos:   0%|          | 0/1 [00:00<?, ?it/s]"
      ]
     },
     "metadata": {},
     "output_type": "display_data"
    },
    {
     "name": "stdout",
     "output_type": "stream",
     "text": [
      "Estamos en la página https://skinsort.com/products/products-for-oily-skin/page/148\n"
     ]
    },
    {
     "data": {
      "application/vnd.jupyter.widget-view+json": {
       "model_id": "e20967fe52bc4214a38b7e727319ef10",
       "version_major": 2,
       "version_minor": 0
      },
      "text/plain": [
       "Obteniendo productos:   0%|          | 0/1 [00:00<?, ?it/s]"
      ]
     },
     "metadata": {},
     "output_type": "display_data"
    },
    {
     "name": "stdout",
     "output_type": "stream",
     "text": [
      "Estamos en la página https://skinsort.com/products/products-for-oily-skin/page/148\n"
     ]
    },
    {
     "data": {
      "application/vnd.jupyter.widget-view+json": {
       "model_id": "e847bc1bc53b449f9bdfbd1d6944d3ca",
       "version_major": 2,
       "version_minor": 0
      },
      "text/plain": [
       "Obteniendo productos:   0%|          | 0/1 [00:00<?, ?it/s]"
      ]
     },
     "metadata": {},
     "output_type": "display_data"
    },
    {
     "name": "stdout",
     "output_type": "stream",
     "text": [
      "Estamos en la página https://skinsort.com/products/products-for-oily-skin/page/148\n"
     ]
    },
    {
     "data": {
      "application/vnd.jupyter.widget-view+json": {
       "model_id": "7ccd4a7ac3e04c3c956d8f92e5f4e597",
       "version_major": 2,
       "version_minor": 0
      },
      "text/plain": [
       "Obteniendo productos:   0%|          | 0/1 [00:00<?, ?it/s]"
      ]
     },
     "metadata": {},
     "output_type": "display_data"
    },
    {
     "name": "stdout",
     "output_type": "stream",
     "text": [
      "Estamos en la página https://skinsort.com/products/products-for-oily-skin/page/149\n"
     ]
    },
    {
     "data": {
      "application/vnd.jupyter.widget-view+json": {
       "model_id": "976c0b1d88ad46879778532441f093bf",
       "version_major": 2,
       "version_minor": 0
      },
      "text/plain": [
       "Obteniendo productos:   0%|          | 0/1 [00:00<?, ?it/s]"
      ]
     },
     "metadata": {},
     "output_type": "display_data"
    },
    {
     "name": "stdout",
     "output_type": "stream",
     "text": [
      "Estamos en la página https://skinsort.com/products/products-for-oily-skin/page/149\n"
     ]
    },
    {
     "data": {
      "application/vnd.jupyter.widget-view+json": {
       "model_id": "846e22ac371144a8969aeb5a5274319a",
       "version_major": 2,
       "version_minor": 0
      },
      "text/plain": [
       "Obteniendo productos:   0%|          | 0/1 [00:00<?, ?it/s]"
      ]
     },
     "metadata": {},
     "output_type": "display_data"
    },
    {
     "name": "stdout",
     "output_type": "stream",
     "text": [
      "Estamos en la página https://skinsort.com/products/products-for-oily-skin/page/149\n"
     ]
    },
    {
     "data": {
      "application/vnd.jupyter.widget-view+json": {
       "model_id": "ed8c83fc567a4391b07141bb36ede689",
       "version_major": 2,
       "version_minor": 0
      },
      "text/plain": [
       "Obteniendo productos:   0%|          | 0/1 [00:00<?, ?it/s]"
      ]
     },
     "metadata": {},
     "output_type": "display_data"
    },
    {
     "name": "stdout",
     "output_type": "stream",
     "text": [
      "Estamos en la página https://skinsort.com/products/products-for-oily-skin/page/150\n"
     ]
    },
    {
     "data": {
      "application/vnd.jupyter.widget-view+json": {
       "model_id": "bd5d8c43c03645409e927c55546cf0d1",
       "version_major": 2,
       "version_minor": 0
      },
      "text/plain": [
       "Obteniendo productos:   0%|          | 0/1 [00:00<?, ?it/s]"
      ]
     },
     "metadata": {},
     "output_type": "display_data"
    },
    {
     "name": "stdout",
     "output_type": "stream",
     "text": [
      "Estamos en la página https://skinsort.com/products/products-for-oily-skin/page/150\n"
     ]
    },
    {
     "data": {
      "application/vnd.jupyter.widget-view+json": {
       "model_id": "045cb3f7731b43b6902cace9d742da64",
       "version_major": 2,
       "version_minor": 0
      },
      "text/plain": [
       "Obteniendo productos:   0%|          | 0/1 [00:00<?, ?it/s]"
      ]
     },
     "metadata": {},
     "output_type": "display_data"
    },
    {
     "name": "stdout",
     "output_type": "stream",
     "text": [
      "Estamos en la página https://skinsort.com/products/products-for-oily-skin/page/150\n"
     ]
    },
    {
     "data": {
      "application/vnd.jupyter.widget-view+json": {
       "model_id": "7c75225018ca4ccda82053f25a3bb229",
       "version_major": 2,
       "version_minor": 0
      },
      "text/plain": [
       "Obteniendo productos:   0%|          | 0/1 [00:00<?, ?it/s]"
      ]
     },
     "metadata": {},
     "output_type": "display_data"
    },
    {
     "name": "stdout",
     "output_type": "stream",
     "text": [
      "Estamos en la página https://skinsort.com/products/products-for-oily-skin/page/151\n"
     ]
    },
    {
     "data": {
      "application/vnd.jupyter.widget-view+json": {
       "model_id": "5d7e237367224d01a3b3a9e7b8b3ecca",
       "version_major": 2,
       "version_minor": 0
      },
      "text/plain": [
       "Obteniendo productos:   0%|          | 0/1 [00:00<?, ?it/s]"
      ]
     },
     "metadata": {},
     "output_type": "display_data"
    },
    {
     "name": "stdout",
     "output_type": "stream",
     "text": [
      "Estamos en la página https://skinsort.com/products/products-for-oily-skin/page/151\n"
     ]
    },
    {
     "data": {
      "application/vnd.jupyter.widget-view+json": {
       "model_id": "0abbfec13c2a4e0cb166bfd7bc832117",
       "version_major": 2,
       "version_minor": 0
      },
      "text/plain": [
       "Obteniendo productos:   0%|          | 0/1 [00:00<?, ?it/s]"
      ]
     },
     "metadata": {},
     "output_type": "display_data"
    },
    {
     "name": "stdout",
     "output_type": "stream",
     "text": [
      "Estamos en la página https://skinsort.com/products/products-for-oily-skin/page/151\n"
     ]
    },
    {
     "data": {
      "application/vnd.jupyter.widget-view+json": {
       "model_id": "cb1f6308fd634f868d09d4e03f90582c",
       "version_major": 2,
       "version_minor": 0
      },
      "text/plain": [
       "Obteniendo productos:   0%|          | 0/1 [00:00<?, ?it/s]"
      ]
     },
     "metadata": {},
     "output_type": "display_data"
    },
    {
     "name": "stdout",
     "output_type": "stream",
     "text": [
      "Estamos en la página https://skinsort.com/products/products-for-oily-skin/page/152\n"
     ]
    },
    {
     "data": {
      "application/vnd.jupyter.widget-view+json": {
       "model_id": "b08ddf5768ab4a0286731325036af6f5",
       "version_major": 2,
       "version_minor": 0
      },
      "text/plain": [
       "Obteniendo productos:   0%|          | 0/1 [00:00<?, ?it/s]"
      ]
     },
     "metadata": {},
     "output_type": "display_data"
    },
    {
     "name": "stdout",
     "output_type": "stream",
     "text": [
      "Estamos en la página https://skinsort.com/products/products-for-oily-skin/page/152\n"
     ]
    },
    {
     "data": {
      "application/vnd.jupyter.widget-view+json": {
       "model_id": "0df2608a7ee04be6ae3ad23b38e0a102",
       "version_major": 2,
       "version_minor": 0
      },
      "text/plain": [
       "Obteniendo productos:   0%|          | 0/1 [00:00<?, ?it/s]"
      ]
     },
     "metadata": {},
     "output_type": "display_data"
    },
    {
     "name": "stdout",
     "output_type": "stream",
     "text": [
      "Estamos en la página https://skinsort.com/products/products-for-oily-skin/page/152\n"
     ]
    },
    {
     "data": {
      "application/vnd.jupyter.widget-view+json": {
       "model_id": "4fae48550b14412eb49070c2d317e979",
       "version_major": 2,
       "version_minor": 0
      },
      "text/plain": [
       "Obteniendo productos:   0%|          | 0/1 [00:00<?, ?it/s]"
      ]
     },
     "metadata": {},
     "output_type": "display_data"
    },
    {
     "name": "stdout",
     "output_type": "stream",
     "text": [
      "Estamos en la página https://skinsort.com/products/products-for-oily-skin/page/153\n"
     ]
    },
    {
     "data": {
      "application/vnd.jupyter.widget-view+json": {
       "model_id": "4852908f0f424e97a930c4d7875c5f9d",
       "version_major": 2,
       "version_minor": 0
      },
      "text/plain": [
       "Obteniendo productos:   0%|          | 0/1 [00:00<?, ?it/s]"
      ]
     },
     "metadata": {},
     "output_type": "display_data"
    },
    {
     "name": "stdout",
     "output_type": "stream",
     "text": [
      "Estamos en la página https://skinsort.com/products/products-for-oily-skin/page/153\n"
     ]
    },
    {
     "data": {
      "application/vnd.jupyter.widget-view+json": {
       "model_id": "45c75480d77745109ebede348be1717a",
       "version_major": 2,
       "version_minor": 0
      },
      "text/plain": [
       "Obteniendo productos:   0%|          | 0/1 [00:00<?, ?it/s]"
      ]
     },
     "metadata": {},
     "output_type": "display_data"
    },
    {
     "name": "stdout",
     "output_type": "stream",
     "text": [
      "Estamos en la página https://skinsort.com/products/products-for-oily-skin/page/153\n"
     ]
    },
    {
     "data": {
      "application/vnd.jupyter.widget-view+json": {
       "model_id": "93669ca8115244e8beb196bbdeceafa2",
       "version_major": 2,
       "version_minor": 0
      },
      "text/plain": [
       "Obteniendo productos:   0%|          | 0/1 [00:00<?, ?it/s]"
      ]
     },
     "metadata": {},
     "output_type": "display_data"
    },
    {
     "name": "stdout",
     "output_type": "stream",
     "text": [
      "Estamos en la página https://skinsort.com/products/products-for-oily-skin/page/154\n"
     ]
    },
    {
     "data": {
      "application/vnd.jupyter.widget-view+json": {
       "model_id": "da4264844b5e44e8984aa63e4440e5e5",
       "version_major": 2,
       "version_minor": 0
      },
      "text/plain": [
       "Obteniendo productos:   0%|          | 0/1 [00:00<?, ?it/s]"
      ]
     },
     "metadata": {},
     "output_type": "display_data"
    },
    {
     "name": "stdout",
     "output_type": "stream",
     "text": [
      "Estamos en la página https://skinsort.com/products/products-for-oily-skin/page/154\n"
     ]
    },
    {
     "data": {
      "application/vnd.jupyter.widget-view+json": {
       "model_id": "33396d4f152445f08d5ff3887c5fc3b5",
       "version_major": 2,
       "version_minor": 0
      },
      "text/plain": [
       "Obteniendo productos:   0%|          | 0/1 [00:00<?, ?it/s]"
      ]
     },
     "metadata": {},
     "output_type": "display_data"
    },
    {
     "name": "stdout",
     "output_type": "stream",
     "text": [
      "Estamos en la página https://skinsort.com/products/products-for-oily-skin/page/154\n"
     ]
    },
    {
     "data": {
      "application/vnd.jupyter.widget-view+json": {
       "model_id": "61f8429794a342278debb48f7857d7ff",
       "version_major": 2,
       "version_minor": 0
      },
      "text/plain": [
       "Obteniendo productos:   0%|          | 0/1 [00:00<?, ?it/s]"
      ]
     },
     "metadata": {},
     "output_type": "display_data"
    },
    {
     "name": "stdout",
     "output_type": "stream",
     "text": [
      "Estamos en la página https://skinsort.com/products/products-for-oily-skin/page/155\n"
     ]
    },
    {
     "data": {
      "application/vnd.jupyter.widget-view+json": {
       "model_id": "9468d9b66ac04dab9e5a9db7728b6066",
       "version_major": 2,
       "version_minor": 0
      },
      "text/plain": [
       "Obteniendo productos:   0%|          | 0/1 [00:00<?, ?it/s]"
      ]
     },
     "metadata": {},
     "output_type": "display_data"
    },
    {
     "name": "stdout",
     "output_type": "stream",
     "text": [
      "Estamos en la página https://skinsort.com/products/products-for-oily-skin/page/155\n"
     ]
    },
    {
     "data": {
      "application/vnd.jupyter.widget-view+json": {
       "model_id": "39bfb5b3fe1f455991f2fcd22e3bb7f9",
       "version_major": 2,
       "version_minor": 0
      },
      "text/plain": [
       "Obteniendo productos:   0%|          | 0/1 [00:00<?, ?it/s]"
      ]
     },
     "metadata": {},
     "output_type": "display_data"
    },
    {
     "name": "stdout",
     "output_type": "stream",
     "text": [
      "Estamos en la página https://skinsort.com/products/products-for-oily-skin/page/155\n"
     ]
    },
    {
     "data": {
      "application/vnd.jupyter.widget-view+json": {
       "model_id": "4edaa18d0c894417a9cbcd6004deb86d",
       "version_major": 2,
       "version_minor": 0
      },
      "text/plain": [
       "Obteniendo productos:   0%|          | 0/1 [00:00<?, ?it/s]"
      ]
     },
     "metadata": {},
     "output_type": "display_data"
    },
    {
     "name": "stdout",
     "output_type": "stream",
     "text": [
      "Estamos en la página https://skinsort.com/products/products-for-oily-skin/page/156\n"
     ]
    },
    {
     "data": {
      "application/vnd.jupyter.widget-view+json": {
       "model_id": "e437873e6d9a427d8124f08a42408e25",
       "version_major": 2,
       "version_minor": 0
      },
      "text/plain": [
       "Obteniendo productos:   0%|          | 0/1 [00:00<?, ?it/s]"
      ]
     },
     "metadata": {},
     "output_type": "display_data"
    },
    {
     "name": "stdout",
     "output_type": "stream",
     "text": [
      "Estamos en la página https://skinsort.com/products/products-for-oily-skin/page/156\n"
     ]
    },
    {
     "data": {
      "application/vnd.jupyter.widget-view+json": {
       "model_id": "c916524a4d8740b6bb2567472f5e3e92",
       "version_major": 2,
       "version_minor": 0
      },
      "text/plain": [
       "Obteniendo productos:   0%|          | 0/1 [00:00<?, ?it/s]"
      ]
     },
     "metadata": {},
     "output_type": "display_data"
    },
    {
     "name": "stdout",
     "output_type": "stream",
     "text": [
      "Estamos en la página https://skinsort.com/products/products-for-oily-skin/page/156\n"
     ]
    },
    {
     "data": {
      "application/vnd.jupyter.widget-view+json": {
       "model_id": "de7a5b4777d942529c6178e002244131",
       "version_major": 2,
       "version_minor": 0
      },
      "text/plain": [
       "Obteniendo productos:   0%|          | 0/1 [00:00<?, ?it/s]"
      ]
     },
     "metadata": {},
     "output_type": "display_data"
    },
    {
     "name": "stdout",
     "output_type": "stream",
     "text": [
      "Estamos en la página https://skinsort.com/products/products-for-oily-skin/page/157\n"
     ]
    },
    {
     "data": {
      "application/vnd.jupyter.widget-view+json": {
       "model_id": "1a42b8029ee14d8bb3af4d0537cce801",
       "version_major": 2,
       "version_minor": 0
      },
      "text/plain": [
       "Obteniendo productos:   0%|          | 0/1 [00:00<?, ?it/s]"
      ]
     },
     "metadata": {},
     "output_type": "display_data"
    },
    {
     "name": "stdout",
     "output_type": "stream",
     "text": [
      "Estamos en la página https://skinsort.com/products/products-for-oily-skin/page/157\n"
     ]
    },
    {
     "data": {
      "application/vnd.jupyter.widget-view+json": {
       "model_id": "b60e33c9c2c34734a76d7613aa19425f",
       "version_major": 2,
       "version_minor": 0
      },
      "text/plain": [
       "Obteniendo productos:   0%|          | 0/1 [00:00<?, ?it/s]"
      ]
     },
     "metadata": {},
     "output_type": "display_data"
    },
    {
     "name": "stdout",
     "output_type": "stream",
     "text": [
      "Estamos en la página https://skinsort.com/products/products-for-oily-skin/page/157\n"
     ]
    },
    {
     "data": {
      "application/vnd.jupyter.widget-view+json": {
       "model_id": "51b55f62ee9941199ad524367d45922d",
       "version_major": 2,
       "version_minor": 0
      },
      "text/plain": [
       "Obteniendo productos:   0%|          | 0/1 [00:00<?, ?it/s]"
      ]
     },
     "metadata": {},
     "output_type": "display_data"
    },
    {
     "name": "stdout",
     "output_type": "stream",
     "text": [
      "Estamos en la página https://skinsort.com/products/products-for-oily-skin/page/158\n"
     ]
    },
    {
     "data": {
      "application/vnd.jupyter.widget-view+json": {
       "model_id": "94fc825d5e5e4f9fb827fce0a68280fb",
       "version_major": 2,
       "version_minor": 0
      },
      "text/plain": [
       "Obteniendo productos:   0%|          | 0/1 [00:00<?, ?it/s]"
      ]
     },
     "metadata": {},
     "output_type": "display_data"
    },
    {
     "name": "stdout",
     "output_type": "stream",
     "text": [
      "Estamos en la página https://skinsort.com/products/products-for-oily-skin/page/158\n"
     ]
    },
    {
     "data": {
      "application/vnd.jupyter.widget-view+json": {
       "model_id": "7b919e9f3bd24d96bcfdfc84cdfd1247",
       "version_major": 2,
       "version_minor": 0
      },
      "text/plain": [
       "Obteniendo productos:   0%|          | 0/1 [00:00<?, ?it/s]"
      ]
     },
     "metadata": {},
     "output_type": "display_data"
    },
    {
     "name": "stdout",
     "output_type": "stream",
     "text": [
      "Estamos en la página https://skinsort.com/products/products-for-oily-skin/page/158\n"
     ]
    },
    {
     "data": {
      "application/vnd.jupyter.widget-view+json": {
       "model_id": "8602baccf3e04db3abd8b1522ad760a7",
       "version_major": 2,
       "version_minor": 0
      },
      "text/plain": [
       "Obteniendo productos:   0%|          | 0/1 [00:00<?, ?it/s]"
      ]
     },
     "metadata": {},
     "output_type": "display_data"
    },
    {
     "name": "stdout",
     "output_type": "stream",
     "text": [
      "Estamos en la página https://skinsort.com/products/products-for-oily-skin/page/159\n"
     ]
    },
    {
     "data": {
      "application/vnd.jupyter.widget-view+json": {
       "model_id": "89f97d1432bf4c91bbeac352b2bcd409",
       "version_major": 2,
       "version_minor": 0
      },
      "text/plain": [
       "Obteniendo productos:   0%|          | 0/1 [00:00<?, ?it/s]"
      ]
     },
     "metadata": {},
     "output_type": "display_data"
    },
    {
     "name": "stdout",
     "output_type": "stream",
     "text": [
      "Estamos en la página https://skinsort.com/products/products-for-oily-skin/page/159\n"
     ]
    },
    {
     "data": {
      "application/vnd.jupyter.widget-view+json": {
       "model_id": "44e3b33cf5334b91ab21cad5127a6a56",
       "version_major": 2,
       "version_minor": 0
      },
      "text/plain": [
       "Obteniendo productos:   0%|          | 0/1 [00:00<?, ?it/s]"
      ]
     },
     "metadata": {},
     "output_type": "display_data"
    },
    {
     "name": "stdout",
     "output_type": "stream",
     "text": [
      "Estamos en la página https://skinsort.com/products/products-for-oily-skin/page/159\n"
     ]
    },
    {
     "data": {
      "application/vnd.jupyter.widget-view+json": {
       "model_id": "62502003d31c4bec98032d98887023b5",
       "version_major": 2,
       "version_minor": 0
      },
      "text/plain": [
       "Obteniendo productos:   0%|          | 0/1 [00:00<?, ?it/s]"
      ]
     },
     "metadata": {},
     "output_type": "display_data"
    },
    {
     "name": "stdout",
     "output_type": "stream",
     "text": [
      "Estamos en la página https://skinsort.com/products/products-for-oily-skin/page/160\n"
     ]
    },
    {
     "data": {
      "application/vnd.jupyter.widget-view+json": {
       "model_id": "fa3e80d37d0d4f8389b5c849336ab1a4",
       "version_major": 2,
       "version_minor": 0
      },
      "text/plain": [
       "Obteniendo productos:   0%|          | 0/1 [00:00<?, ?it/s]"
      ]
     },
     "metadata": {},
     "output_type": "display_data"
    },
    {
     "name": "stdout",
     "output_type": "stream",
     "text": [
      "Estamos en la página https://skinsort.com/products/products-for-oily-skin/page/160\n"
     ]
    },
    {
     "data": {
      "application/vnd.jupyter.widget-view+json": {
       "model_id": "69bc3f12c46e4e89acbfa9fd0085c249",
       "version_major": 2,
       "version_minor": 0
      },
      "text/plain": [
       "Obteniendo productos:   0%|          | 0/1 [00:00<?, ?it/s]"
      ]
     },
     "metadata": {},
     "output_type": "display_data"
    },
    {
     "name": "stdout",
     "output_type": "stream",
     "text": [
      "Estamos en la página https://skinsort.com/products/products-for-oily-skin/page/160\n"
     ]
    }
   ],
   "source": [
    "def scrap(url):\n",
    "    PATH = ChromeDriverManager().install()    \n",
    "    driver = webdriver.Chrome(PATH)\n",
    "    driver.get(url)\n",
    "\n",
    "    try:\n",
    "        cookies = driver.find_element(By.XPATH, '//*[@id=\"site-body\"]/div[2]/div/div[2]/div[3]/div/div[2]')\n",
    "        cookies.click()\n",
    "        time.sleep(1.5)\n",
    "\n",
    "        Type = []\n",
    "        tipos = driver.find_elements(By.XPATH, '//*[@id=\"products-table\"]/div[6]/div/div/div[2]/div/div[1]/p')\n",
    "        for producto in tqdm(tipos, desc='Obteniendo productos'):\n",
    "            Type.append(producto.text.split('\\n'))\n",
    "\n",
    "        print(f'Estamos en la página {driver.current_url}') \n",
    "        \n",
    "        Brand=[]\n",
    "        marca = driver.find_elements(By.XPATH, '//*[@id=\"products-table\"]/div[6]/div/div/div[2]/div/div[2]/h2/span[1]/a')\n",
    "        for producto in tqdm(marca, desc='Obteniendo productos'):\n",
    "            Brand.append(producto.text.split('\\n'))\n",
    "\n",
    "        print(f'Estamos en la página {driver.current_url}') \n",
    "              \n",
    "        Name=[]\n",
    "        name = driver.find_elements(By.XPATH, '//*[@id=\"products-table\"]/div[6]/div/div/div[2]/div/div[2]/h2/span[2]/a')\n",
    "        for producto in tqdm(name, desc='Obteniendo productos'):\n",
    "            Name.append(producto.text.split('\\n'))\n",
    "            \n",
    "        print(f'Estamos en la página {driver.current_url}') \n",
    "\n",
    "        return Type, Brand, Name\n",
    "\n",
    "    except:\n",
    "        print('Error al obtener los datos.')\n",
    "        return []\n",
    "        \n",
    "    finally:\n",
    "        driver.quit()\n",
    "\n",
    "oil = {}\n",
    "for i in range(1, 161):\n",
    "    url = f'https://skinsort.com/products/products-for-oily-skin/page/{i}'\n",
    "    data = scrap(url)\n",
    "    oil[i] = data\n"
   ]
  },
  {
   "cell_type": "code",
   "execution_count": 93,
   "id": "f1d302f2",
   "metadata": {},
   "outputs": [
    {
     "name": "stderr",
     "output_type": "stream",
     "text": [
      "2023-03-09 21:54:29,236 [88601] WARNING  py.warnings:109: [JupyterRequire] /tmp/ipykernel_88601/3295202771.py:3: DeprecationWarning: executable_path has been deprecated, please pass in a Service object\n",
      "  driver = webdriver.Chrome(PATH)\n",
      "\n"
     ]
    },
    {
     "data": {
      "application/vnd.jupyter.widget-view+json": {
       "model_id": "f45b7b5bd68240df9a31ff63581f5406",
       "version_major": 2,
       "version_minor": 0
      },
      "text/plain": [
       "Obteniendo productos:   0%|          | 0/1 [00:00<?, ?it/s]"
      ]
     },
     "metadata": {},
     "output_type": "display_data"
    },
    {
     "name": "stdout",
     "output_type": "stream",
     "text": [
      "Estamos en la página https://skinsort.com/products/products-for-oily-skin/page/133\n"
     ]
    },
    {
     "data": {
      "application/vnd.jupyter.widget-view+json": {
       "model_id": "0108dd9abcde43c1844ab83e28c6d1ac",
       "version_major": 2,
       "version_minor": 0
      },
      "text/plain": [
       "Obteniendo productos:   0%|          | 0/1 [00:00<?, ?it/s]"
      ]
     },
     "metadata": {},
     "output_type": "display_data"
    },
    {
     "name": "stdout",
     "output_type": "stream",
     "text": [
      "Estamos en la página https://skinsort.com/products/products-for-oily-skin/page/133\n"
     ]
    },
    {
     "data": {
      "application/vnd.jupyter.widget-view+json": {
       "model_id": "0dc2f502322f4126a5c8f6fa36bb6586",
       "version_major": 2,
       "version_minor": 0
      },
      "text/plain": [
       "Obteniendo productos:   0%|          | 0/1 [00:00<?, ?it/s]"
      ]
     },
     "metadata": {},
     "output_type": "display_data"
    },
    {
     "name": "stdout",
     "output_type": "stream",
     "text": [
      "Estamos en la página https://skinsort.com/products/products-for-oily-skin/page/133\n"
     ]
    }
   ],
   "source": [
    "oil[133] = scrap('https://skinsort.com/products/products-for-oily-skin/page/133')\n"
   ]
  },
  {
   "cell_type": "code",
   "execution_count": 94,
   "id": "c1978cdb",
   "metadata": {},
   "outputs": [],
   "source": [
    "import json\n",
    "\n",
    "with open('oil.json', 'w') as file:\n",
    "    json.dump(oil, file)\n"
   ]
  },
  {
   "cell_type": "markdown",
   "id": "6301e10e",
   "metadata": {},
   "source": [
    "## SENSITIVE"
   ]
  },
  {
   "cell_type": "code",
   "execution_count": 92,
   "id": "b74f3082",
   "metadata": {},
   "outputs": [
    {
     "name": "stderr",
     "output_type": "stream",
     "text": [
      "2023-03-09 21:41:34,295 [88601] WARNING  py.warnings:109: [JupyterRequire] /tmp/ipykernel_88601/3295202771.py:3: DeprecationWarning: executable_path has been deprecated, please pass in a Service object\n",
      "  driver = webdriver.Chrome(PATH)\n",
      "\n"
     ]
    },
    {
     "data": {
      "application/vnd.jupyter.widget-view+json": {
       "model_id": "276ea3c647804919932cad8c370a5527",
       "version_major": 2,
       "version_minor": 0
      },
      "text/plain": [
       "Obteniendo productos:   0%|          | 0/1 [00:00<?, ?it/s]"
      ]
     },
     "metadata": {},
     "output_type": "display_data"
    },
    {
     "name": "stdout",
     "output_type": "stream",
     "text": [
      "Estamos en la página https://skinsort.com/products/products-for-sensitive-skin/page/1\n"
     ]
    },
    {
     "data": {
      "application/vnd.jupyter.widget-view+json": {
       "model_id": "bcd9a162288944dba1d0699272d78bf3",
       "version_major": 2,
       "version_minor": 0
      },
      "text/plain": [
       "Obteniendo productos:   0%|          | 0/1 [00:00<?, ?it/s]"
      ]
     },
     "metadata": {},
     "output_type": "display_data"
    },
    {
     "name": "stdout",
     "output_type": "stream",
     "text": [
      "Estamos en la página https://skinsort.com/products/products-for-sensitive-skin/page/1\n"
     ]
    },
    {
     "data": {
      "application/vnd.jupyter.widget-view+json": {
       "model_id": "136b69ad31cf46eb9255dbeba2d2a5d8",
       "version_major": 2,
       "version_minor": 0
      },
      "text/plain": [
       "Obteniendo productos:   0%|          | 0/1 [00:00<?, ?it/s]"
      ]
     },
     "metadata": {},
     "output_type": "display_data"
    },
    {
     "name": "stdout",
     "output_type": "stream",
     "text": [
      "Estamos en la página https://skinsort.com/products/products-for-sensitive-skin/page/1\n"
     ]
    },
    {
     "data": {
      "application/vnd.jupyter.widget-view+json": {
       "model_id": "934f1221878e433f8c9e2ef0e44d6d74",
       "version_major": 2,
       "version_minor": 0
      },
      "text/plain": [
       "Obteniendo productos:   0%|          | 0/1 [00:00<?, ?it/s]"
      ]
     },
     "metadata": {},
     "output_type": "display_data"
    },
    {
     "name": "stdout",
     "output_type": "stream",
     "text": [
      "Estamos en la página https://skinsort.com/products/products-for-sensitive-skin/page/2\n"
     ]
    },
    {
     "data": {
      "application/vnd.jupyter.widget-view+json": {
       "model_id": "7faafb93e0bb44c9bb3f8ab3253ccffc",
       "version_major": 2,
       "version_minor": 0
      },
      "text/plain": [
       "Obteniendo productos:   0%|          | 0/1 [00:00<?, ?it/s]"
      ]
     },
     "metadata": {},
     "output_type": "display_data"
    },
    {
     "name": "stdout",
     "output_type": "stream",
     "text": [
      "Estamos en la página https://skinsort.com/products/products-for-sensitive-skin/page/2\n"
     ]
    },
    {
     "data": {
      "application/vnd.jupyter.widget-view+json": {
       "model_id": "f5698d98f6b14a5aa847c1eef7284e40",
       "version_major": 2,
       "version_minor": 0
      },
      "text/plain": [
       "Obteniendo productos:   0%|          | 0/1 [00:00<?, ?it/s]"
      ]
     },
     "metadata": {},
     "output_type": "display_data"
    },
    {
     "name": "stdout",
     "output_type": "stream",
     "text": [
      "Estamos en la página https://skinsort.com/products/products-for-sensitive-skin/page/2\n"
     ]
    },
    {
     "data": {
      "application/vnd.jupyter.widget-view+json": {
       "model_id": "f95f0c8b4b5846a4b5c12b422b6d181d",
       "version_major": 2,
       "version_minor": 0
      },
      "text/plain": [
       "Obteniendo productos:   0%|          | 0/1 [00:00<?, ?it/s]"
      ]
     },
     "metadata": {},
     "output_type": "display_data"
    },
    {
     "name": "stdout",
     "output_type": "stream",
     "text": [
      "Estamos en la página https://skinsort.com/products/products-for-sensitive-skin/page/3\n"
     ]
    },
    {
     "data": {
      "application/vnd.jupyter.widget-view+json": {
       "model_id": "8c05490aed554872a3057ed53c38939b",
       "version_major": 2,
       "version_minor": 0
      },
      "text/plain": [
       "Obteniendo productos:   0%|          | 0/1 [00:00<?, ?it/s]"
      ]
     },
     "metadata": {},
     "output_type": "display_data"
    },
    {
     "name": "stdout",
     "output_type": "stream",
     "text": [
      "Estamos en la página https://skinsort.com/products/products-for-sensitive-skin/page/3\n"
     ]
    },
    {
     "data": {
      "application/vnd.jupyter.widget-view+json": {
       "model_id": "d5d8ced2291743fa9e0a12a3dc586e26",
       "version_major": 2,
       "version_minor": 0
      },
      "text/plain": [
       "Obteniendo productos:   0%|          | 0/1 [00:00<?, ?it/s]"
      ]
     },
     "metadata": {},
     "output_type": "display_data"
    },
    {
     "name": "stdout",
     "output_type": "stream",
     "text": [
      "Estamos en la página https://skinsort.com/products/products-for-sensitive-skin/page/3\n"
     ]
    },
    {
     "data": {
      "application/vnd.jupyter.widget-view+json": {
       "model_id": "4dc20dd6a6fe46bda68063da6ce50c06",
       "version_major": 2,
       "version_minor": 0
      },
      "text/plain": [
       "Obteniendo productos:   0%|          | 0/1 [00:00<?, ?it/s]"
      ]
     },
     "metadata": {},
     "output_type": "display_data"
    },
    {
     "name": "stdout",
     "output_type": "stream",
     "text": [
      "Estamos en la página https://skinsort.com/products/products-for-sensitive-skin/page/4\n"
     ]
    },
    {
     "data": {
      "application/vnd.jupyter.widget-view+json": {
       "model_id": "925f93e9f343464db47843bda6ad1bde",
       "version_major": 2,
       "version_minor": 0
      },
      "text/plain": [
       "Obteniendo productos:   0%|          | 0/1 [00:00<?, ?it/s]"
      ]
     },
     "metadata": {},
     "output_type": "display_data"
    },
    {
     "name": "stdout",
     "output_type": "stream",
     "text": [
      "Estamos en la página https://skinsort.com/products/products-for-sensitive-skin/page/4\n"
     ]
    },
    {
     "data": {
      "application/vnd.jupyter.widget-view+json": {
       "model_id": "9720f0417cd247cdb5194ef7c0b54f7e",
       "version_major": 2,
       "version_minor": 0
      },
      "text/plain": [
       "Obteniendo productos:   0%|          | 0/1 [00:00<?, ?it/s]"
      ]
     },
     "metadata": {},
     "output_type": "display_data"
    },
    {
     "name": "stdout",
     "output_type": "stream",
     "text": [
      "Estamos en la página https://skinsort.com/products/products-for-sensitive-skin/page/4\n"
     ]
    },
    {
     "data": {
      "application/vnd.jupyter.widget-view+json": {
       "model_id": "0aa860588ab54b5abe3d9175df046309",
       "version_major": 2,
       "version_minor": 0
      },
      "text/plain": [
       "Obteniendo productos:   0%|          | 0/1 [00:00<?, ?it/s]"
      ]
     },
     "metadata": {},
     "output_type": "display_data"
    },
    {
     "name": "stdout",
     "output_type": "stream",
     "text": [
      "Estamos en la página https://skinsort.com/products/products-for-sensitive-skin/page/5\n"
     ]
    },
    {
     "data": {
      "application/vnd.jupyter.widget-view+json": {
       "model_id": "90e4468eed9e4342b92c3c5a7f7b8eb4",
       "version_major": 2,
       "version_minor": 0
      },
      "text/plain": [
       "Obteniendo productos:   0%|          | 0/1 [00:00<?, ?it/s]"
      ]
     },
     "metadata": {},
     "output_type": "display_data"
    },
    {
     "name": "stdout",
     "output_type": "stream",
     "text": [
      "Estamos en la página https://skinsort.com/products/products-for-sensitive-skin/page/5\n"
     ]
    },
    {
     "data": {
      "application/vnd.jupyter.widget-view+json": {
       "model_id": "104280ac5f4f4346a71dc79ade388a9d",
       "version_major": 2,
       "version_minor": 0
      },
      "text/plain": [
       "Obteniendo productos:   0%|          | 0/1 [00:00<?, ?it/s]"
      ]
     },
     "metadata": {},
     "output_type": "display_data"
    },
    {
     "name": "stdout",
     "output_type": "stream",
     "text": [
      "Estamos en la página https://skinsort.com/products/products-for-sensitive-skin/page/5\n"
     ]
    },
    {
     "data": {
      "application/vnd.jupyter.widget-view+json": {
       "model_id": "3e9fb2cef9df4b34baee639c7442605d",
       "version_major": 2,
       "version_minor": 0
      },
      "text/plain": [
       "Obteniendo productos:   0%|          | 0/1 [00:00<?, ?it/s]"
      ]
     },
     "metadata": {},
     "output_type": "display_data"
    },
    {
     "name": "stdout",
     "output_type": "stream",
     "text": [
      "Estamos en la página https://skinsort.com/products/products-for-sensitive-skin/page/6\n"
     ]
    },
    {
     "data": {
      "application/vnd.jupyter.widget-view+json": {
       "model_id": "d79e3ccd76be49dab657a3f87a5a5607",
       "version_major": 2,
       "version_minor": 0
      },
      "text/plain": [
       "Obteniendo productos:   0%|          | 0/1 [00:00<?, ?it/s]"
      ]
     },
     "metadata": {},
     "output_type": "display_data"
    },
    {
     "name": "stdout",
     "output_type": "stream",
     "text": [
      "Estamos en la página https://skinsort.com/products/products-for-sensitive-skin/page/6\n"
     ]
    },
    {
     "data": {
      "application/vnd.jupyter.widget-view+json": {
       "model_id": "adc892b58204440f8129f3b7759a8438",
       "version_major": 2,
       "version_minor": 0
      },
      "text/plain": [
       "Obteniendo productos:   0%|          | 0/1 [00:00<?, ?it/s]"
      ]
     },
     "metadata": {},
     "output_type": "display_data"
    },
    {
     "name": "stdout",
     "output_type": "stream",
     "text": [
      "Estamos en la página https://skinsort.com/products/products-for-sensitive-skin/page/6\n"
     ]
    },
    {
     "data": {
      "application/vnd.jupyter.widget-view+json": {
       "model_id": "b084316d44634846ba093ee249d01601",
       "version_major": 2,
       "version_minor": 0
      },
      "text/plain": [
       "Obteniendo productos:   0%|          | 0/1 [00:00<?, ?it/s]"
      ]
     },
     "metadata": {},
     "output_type": "display_data"
    },
    {
     "name": "stdout",
     "output_type": "stream",
     "text": [
      "Estamos en la página https://skinsort.com/products/products-for-sensitive-skin/page/7\n"
     ]
    },
    {
     "data": {
      "application/vnd.jupyter.widget-view+json": {
       "model_id": "104dc015e99f430bb54a204d6122c500",
       "version_major": 2,
       "version_minor": 0
      },
      "text/plain": [
       "Obteniendo productos:   0%|          | 0/1 [00:00<?, ?it/s]"
      ]
     },
     "metadata": {},
     "output_type": "display_data"
    },
    {
     "name": "stdout",
     "output_type": "stream",
     "text": [
      "Estamos en la página https://skinsort.com/products/products-for-sensitive-skin/page/7\n"
     ]
    },
    {
     "data": {
      "application/vnd.jupyter.widget-view+json": {
       "model_id": "f38548acda7d4789b262dcd81d30941f",
       "version_major": 2,
       "version_minor": 0
      },
      "text/plain": [
       "Obteniendo productos:   0%|          | 0/1 [00:00<?, ?it/s]"
      ]
     },
     "metadata": {},
     "output_type": "display_data"
    },
    {
     "name": "stdout",
     "output_type": "stream",
     "text": [
      "Estamos en la página https://skinsort.com/products/products-for-sensitive-skin/page/7\n"
     ]
    },
    {
     "data": {
      "application/vnd.jupyter.widget-view+json": {
       "model_id": "52cd313354f445448b8f96296cfe1f4d",
       "version_major": 2,
       "version_minor": 0
      },
      "text/plain": [
       "Obteniendo productos:   0%|          | 0/1 [00:00<?, ?it/s]"
      ]
     },
     "metadata": {},
     "output_type": "display_data"
    },
    {
     "name": "stdout",
     "output_type": "stream",
     "text": [
      "Estamos en la página https://skinsort.com/products/products-for-sensitive-skin/page/8\n"
     ]
    },
    {
     "data": {
      "application/vnd.jupyter.widget-view+json": {
       "model_id": "8392164771b94e3085d74359cbbfe6f0",
       "version_major": 2,
       "version_minor": 0
      },
      "text/plain": [
       "Obteniendo productos:   0%|          | 0/1 [00:00<?, ?it/s]"
      ]
     },
     "metadata": {},
     "output_type": "display_data"
    },
    {
     "name": "stdout",
     "output_type": "stream",
     "text": [
      "Estamos en la página https://skinsort.com/products/products-for-sensitive-skin/page/8\n"
     ]
    },
    {
     "data": {
      "application/vnd.jupyter.widget-view+json": {
       "model_id": "d3586b3a385847ab956647be5efd6942",
       "version_major": 2,
       "version_minor": 0
      },
      "text/plain": [
       "Obteniendo productos:   0%|          | 0/1 [00:00<?, ?it/s]"
      ]
     },
     "metadata": {},
     "output_type": "display_data"
    },
    {
     "name": "stdout",
     "output_type": "stream",
     "text": [
      "Estamos en la página https://skinsort.com/products/products-for-sensitive-skin/page/8\n"
     ]
    },
    {
     "data": {
      "application/vnd.jupyter.widget-view+json": {
       "model_id": "a208e93113124381924c87e87ede58f0",
       "version_major": 2,
       "version_minor": 0
      },
      "text/plain": [
       "Obteniendo productos:   0%|          | 0/1 [00:00<?, ?it/s]"
      ]
     },
     "metadata": {},
     "output_type": "display_data"
    },
    {
     "name": "stdout",
     "output_type": "stream",
     "text": [
      "Estamos en la página https://skinsort.com/products/products-for-sensitive-skin/page/9\n"
     ]
    },
    {
     "data": {
      "application/vnd.jupyter.widget-view+json": {
       "model_id": "77db890046d74a3f828b06bdc2236e47",
       "version_major": 2,
       "version_minor": 0
      },
      "text/plain": [
       "Obteniendo productos:   0%|          | 0/1 [00:00<?, ?it/s]"
      ]
     },
     "metadata": {},
     "output_type": "display_data"
    },
    {
     "name": "stdout",
     "output_type": "stream",
     "text": [
      "Estamos en la página https://skinsort.com/products/products-for-sensitive-skin/page/9\n"
     ]
    },
    {
     "data": {
      "application/vnd.jupyter.widget-view+json": {
       "model_id": "0527f060084d4e999307cdd467b013b6",
       "version_major": 2,
       "version_minor": 0
      },
      "text/plain": [
       "Obteniendo productos:   0%|          | 0/1 [00:00<?, ?it/s]"
      ]
     },
     "metadata": {},
     "output_type": "display_data"
    },
    {
     "name": "stdout",
     "output_type": "stream",
     "text": [
      "Estamos en la página https://skinsort.com/products/products-for-sensitive-skin/page/9\n"
     ]
    },
    {
     "data": {
      "application/vnd.jupyter.widget-view+json": {
       "model_id": "3f5f5d912fa0486f983ce58daab73f66",
       "version_major": 2,
       "version_minor": 0
      },
      "text/plain": [
       "Obteniendo productos:   0%|          | 0/1 [00:00<?, ?it/s]"
      ]
     },
     "metadata": {},
     "output_type": "display_data"
    },
    {
     "name": "stdout",
     "output_type": "stream",
     "text": [
      "Estamos en la página https://skinsort.com/products/products-for-sensitive-skin/page/10\n"
     ]
    },
    {
     "data": {
      "application/vnd.jupyter.widget-view+json": {
       "model_id": "6f9a027ae6414287ac7e4e0b941bdf04",
       "version_major": 2,
       "version_minor": 0
      },
      "text/plain": [
       "Obteniendo productos:   0%|          | 0/1 [00:00<?, ?it/s]"
      ]
     },
     "metadata": {},
     "output_type": "display_data"
    },
    {
     "name": "stdout",
     "output_type": "stream",
     "text": [
      "Estamos en la página https://skinsort.com/products/products-for-sensitive-skin/page/10\n"
     ]
    },
    {
     "data": {
      "application/vnd.jupyter.widget-view+json": {
       "model_id": "91b438b8fc264ffaba560dd7973a1937",
       "version_major": 2,
       "version_minor": 0
      },
      "text/plain": [
       "Obteniendo productos:   0%|          | 0/1 [00:00<?, ?it/s]"
      ]
     },
     "metadata": {},
     "output_type": "display_data"
    },
    {
     "name": "stdout",
     "output_type": "stream",
     "text": [
      "Estamos en la página https://skinsort.com/products/products-for-sensitive-skin/page/10\n"
     ]
    },
    {
     "data": {
      "application/vnd.jupyter.widget-view+json": {
       "model_id": "06572e21a4e441d7b075a924ba6844a4",
       "version_major": 2,
       "version_minor": 0
      },
      "text/plain": [
       "Obteniendo productos:   0%|          | 0/1 [00:00<?, ?it/s]"
      ]
     },
     "metadata": {},
     "output_type": "display_data"
    },
    {
     "name": "stdout",
     "output_type": "stream",
     "text": [
      "Estamos en la página https://skinsort.com/products/products-for-sensitive-skin/page/11\n"
     ]
    },
    {
     "data": {
      "application/vnd.jupyter.widget-view+json": {
       "model_id": "7e29f5309ee4475b833abd2ebef72d9d",
       "version_major": 2,
       "version_minor": 0
      },
      "text/plain": [
       "Obteniendo productos:   0%|          | 0/1 [00:00<?, ?it/s]"
      ]
     },
     "metadata": {},
     "output_type": "display_data"
    },
    {
     "name": "stdout",
     "output_type": "stream",
     "text": [
      "Estamos en la página https://skinsort.com/products/products-for-sensitive-skin/page/11\n"
     ]
    },
    {
     "data": {
      "application/vnd.jupyter.widget-view+json": {
       "model_id": "4e1a9d8467774b5e8c6ce9fcb869bd5c",
       "version_major": 2,
       "version_minor": 0
      },
      "text/plain": [
       "Obteniendo productos:   0%|          | 0/1 [00:00<?, ?it/s]"
      ]
     },
     "metadata": {},
     "output_type": "display_data"
    },
    {
     "name": "stdout",
     "output_type": "stream",
     "text": [
      "Estamos en la página https://skinsort.com/products/products-for-sensitive-skin/page/11\n"
     ]
    },
    {
     "data": {
      "application/vnd.jupyter.widget-view+json": {
       "model_id": "fbabccfebc4a4983b75ef445ab63aacf",
       "version_major": 2,
       "version_minor": 0
      },
      "text/plain": [
       "Obteniendo productos:   0%|          | 0/1 [00:00<?, ?it/s]"
      ]
     },
     "metadata": {},
     "output_type": "display_data"
    },
    {
     "name": "stdout",
     "output_type": "stream",
     "text": [
      "Estamos en la página https://skinsort.com/products/products-for-sensitive-skin/page/12\n"
     ]
    },
    {
     "data": {
      "application/vnd.jupyter.widget-view+json": {
       "model_id": "1ecb5bde05b04ea1835f2a24e20a610a",
       "version_major": 2,
       "version_minor": 0
      },
      "text/plain": [
       "Obteniendo productos:   0%|          | 0/1 [00:00<?, ?it/s]"
      ]
     },
     "metadata": {},
     "output_type": "display_data"
    },
    {
     "name": "stdout",
     "output_type": "stream",
     "text": [
      "Estamos en la página https://skinsort.com/products/products-for-sensitive-skin/page/12\n"
     ]
    },
    {
     "data": {
      "application/vnd.jupyter.widget-view+json": {
       "model_id": "f915f823323840428e22fb7bcd1c655c",
       "version_major": 2,
       "version_minor": 0
      },
      "text/plain": [
       "Obteniendo productos:   0%|          | 0/1 [00:00<?, ?it/s]"
      ]
     },
     "metadata": {},
     "output_type": "display_data"
    },
    {
     "name": "stdout",
     "output_type": "stream",
     "text": [
      "Estamos en la página https://skinsort.com/products/products-for-sensitive-skin/page/12\n"
     ]
    },
    {
     "data": {
      "application/vnd.jupyter.widget-view+json": {
       "model_id": "7a9e2bf4fc874002b3538a4aab9afca7",
       "version_major": 2,
       "version_minor": 0
      },
      "text/plain": [
       "Obteniendo productos:   0%|          | 0/1 [00:00<?, ?it/s]"
      ]
     },
     "metadata": {},
     "output_type": "display_data"
    },
    {
     "name": "stdout",
     "output_type": "stream",
     "text": [
      "Estamos en la página https://skinsort.com/products/products-for-sensitive-skin/page/13\n"
     ]
    },
    {
     "data": {
      "application/vnd.jupyter.widget-view+json": {
       "model_id": "e7c1cf1396b644f494201fd35016a509",
       "version_major": 2,
       "version_minor": 0
      },
      "text/plain": [
       "Obteniendo productos:   0%|          | 0/1 [00:00<?, ?it/s]"
      ]
     },
     "metadata": {},
     "output_type": "display_data"
    },
    {
     "name": "stdout",
     "output_type": "stream",
     "text": [
      "Estamos en la página https://skinsort.com/products/products-for-sensitive-skin/page/13\n"
     ]
    },
    {
     "data": {
      "application/vnd.jupyter.widget-view+json": {
       "model_id": "75d1044b074648d283c1ad4f88cd24a1",
       "version_major": 2,
       "version_minor": 0
      },
      "text/plain": [
       "Obteniendo productos:   0%|          | 0/1 [00:00<?, ?it/s]"
      ]
     },
     "metadata": {},
     "output_type": "display_data"
    },
    {
     "name": "stdout",
     "output_type": "stream",
     "text": [
      "Estamos en la página https://skinsort.com/products/products-for-sensitive-skin/page/13\n"
     ]
    },
    {
     "data": {
      "application/vnd.jupyter.widget-view+json": {
       "model_id": "185f13fbd7a74683953f7a8560ce5bce",
       "version_major": 2,
       "version_minor": 0
      },
      "text/plain": [
       "Obteniendo productos:   0%|          | 0/1 [00:00<?, ?it/s]"
      ]
     },
     "metadata": {},
     "output_type": "display_data"
    },
    {
     "name": "stdout",
     "output_type": "stream",
     "text": [
      "Estamos en la página https://skinsort.com/products/products-for-sensitive-skin/page/14\n"
     ]
    },
    {
     "data": {
      "application/vnd.jupyter.widget-view+json": {
       "model_id": "f33a9d4f23a4463a8847143af992ff9d",
       "version_major": 2,
       "version_minor": 0
      },
      "text/plain": [
       "Obteniendo productos:   0%|          | 0/1 [00:00<?, ?it/s]"
      ]
     },
     "metadata": {},
     "output_type": "display_data"
    },
    {
     "name": "stdout",
     "output_type": "stream",
     "text": [
      "Estamos en la página https://skinsort.com/products/products-for-sensitive-skin/page/14\n"
     ]
    },
    {
     "data": {
      "application/vnd.jupyter.widget-view+json": {
       "model_id": "5e4acccdaf3c4e678661e8a2b32f02df",
       "version_major": 2,
       "version_minor": 0
      },
      "text/plain": [
       "Obteniendo productos:   0%|          | 0/1 [00:00<?, ?it/s]"
      ]
     },
     "metadata": {},
     "output_type": "display_data"
    },
    {
     "name": "stdout",
     "output_type": "stream",
     "text": [
      "Estamos en la página https://skinsort.com/products/products-for-sensitive-skin/page/14\n"
     ]
    },
    {
     "data": {
      "application/vnd.jupyter.widget-view+json": {
       "model_id": "b4d2f55d47b44488b16e897f0e540731",
       "version_major": 2,
       "version_minor": 0
      },
      "text/plain": [
       "Obteniendo productos:   0%|          | 0/1 [00:00<?, ?it/s]"
      ]
     },
     "metadata": {},
     "output_type": "display_data"
    },
    {
     "name": "stdout",
     "output_type": "stream",
     "text": [
      "Estamos en la página https://skinsort.com/products/products-for-sensitive-skin/page/15\n"
     ]
    },
    {
     "data": {
      "application/vnd.jupyter.widget-view+json": {
       "model_id": "82b9fc6135324aaeb8649edea5ec0bb4",
       "version_major": 2,
       "version_minor": 0
      },
      "text/plain": [
       "Obteniendo productos:   0%|          | 0/1 [00:00<?, ?it/s]"
      ]
     },
     "metadata": {},
     "output_type": "display_data"
    },
    {
     "name": "stdout",
     "output_type": "stream",
     "text": [
      "Estamos en la página https://skinsort.com/products/products-for-sensitive-skin/page/15\n"
     ]
    },
    {
     "data": {
      "application/vnd.jupyter.widget-view+json": {
       "model_id": "801b74da750a489eb91e171583a63dcc",
       "version_major": 2,
       "version_minor": 0
      },
      "text/plain": [
       "Obteniendo productos:   0%|          | 0/1 [00:00<?, ?it/s]"
      ]
     },
     "metadata": {},
     "output_type": "display_data"
    },
    {
     "name": "stdout",
     "output_type": "stream",
     "text": [
      "Estamos en la página https://skinsort.com/products/products-for-sensitive-skin/page/15\n"
     ]
    },
    {
     "data": {
      "application/vnd.jupyter.widget-view+json": {
       "model_id": "3e0993feb26d44f38e46325b1a3ab23d",
       "version_major": 2,
       "version_minor": 0
      },
      "text/plain": [
       "Obteniendo productos:   0%|          | 0/1 [00:00<?, ?it/s]"
      ]
     },
     "metadata": {},
     "output_type": "display_data"
    },
    {
     "name": "stdout",
     "output_type": "stream",
     "text": [
      "Estamos en la página https://skinsort.com/products/products-for-sensitive-skin/page/16\n"
     ]
    },
    {
     "data": {
      "application/vnd.jupyter.widget-view+json": {
       "model_id": "5154c5b6ac174c0586608a4626a04f82",
       "version_major": 2,
       "version_minor": 0
      },
      "text/plain": [
       "Obteniendo productos:   0%|          | 0/1 [00:00<?, ?it/s]"
      ]
     },
     "metadata": {},
     "output_type": "display_data"
    },
    {
     "name": "stdout",
     "output_type": "stream",
     "text": [
      "Estamos en la página https://skinsort.com/products/products-for-sensitive-skin/page/16\n"
     ]
    },
    {
     "data": {
      "application/vnd.jupyter.widget-view+json": {
       "model_id": "30c13ec6787f4fe4b5d34ee6adb7d4d8",
       "version_major": 2,
       "version_minor": 0
      },
      "text/plain": [
       "Obteniendo productos:   0%|          | 0/1 [00:00<?, ?it/s]"
      ]
     },
     "metadata": {},
     "output_type": "display_data"
    },
    {
     "name": "stdout",
     "output_type": "stream",
     "text": [
      "Estamos en la página https://skinsort.com/products/products-for-sensitive-skin/page/16\n"
     ]
    },
    {
     "data": {
      "application/vnd.jupyter.widget-view+json": {
       "model_id": "8c57aeb2e1f44e84ac9574ccab8ddca1",
       "version_major": 2,
       "version_minor": 0
      },
      "text/plain": [
       "Obteniendo productos:   0%|          | 0/1 [00:00<?, ?it/s]"
      ]
     },
     "metadata": {},
     "output_type": "display_data"
    },
    {
     "name": "stdout",
     "output_type": "stream",
     "text": [
      "Estamos en la página https://skinsort.com/products/products-for-sensitive-skin/page/17\n"
     ]
    },
    {
     "data": {
      "application/vnd.jupyter.widget-view+json": {
       "model_id": "30b0f1996c3e4fdda43c21e22807ef6f",
       "version_major": 2,
       "version_minor": 0
      },
      "text/plain": [
       "Obteniendo productos:   0%|          | 0/1 [00:00<?, ?it/s]"
      ]
     },
     "metadata": {},
     "output_type": "display_data"
    },
    {
     "name": "stdout",
     "output_type": "stream",
     "text": [
      "Estamos en la página https://skinsort.com/products/products-for-sensitive-skin/page/17\n"
     ]
    },
    {
     "data": {
      "application/vnd.jupyter.widget-view+json": {
       "model_id": "d1c1c21d29e64bcd81dbbd0fdfa41440",
       "version_major": 2,
       "version_minor": 0
      },
      "text/plain": [
       "Obteniendo productos:   0%|          | 0/1 [00:00<?, ?it/s]"
      ]
     },
     "metadata": {},
     "output_type": "display_data"
    },
    {
     "name": "stdout",
     "output_type": "stream",
     "text": [
      "Estamos en la página https://skinsort.com/products/products-for-sensitive-skin/page/17\n"
     ]
    },
    {
     "data": {
      "application/vnd.jupyter.widget-view+json": {
       "model_id": "f3e79c2bc31d43f094d3e7425659b93c",
       "version_major": 2,
       "version_minor": 0
      },
      "text/plain": [
       "Obteniendo productos:   0%|          | 0/1 [00:00<?, ?it/s]"
      ]
     },
     "metadata": {},
     "output_type": "display_data"
    },
    {
     "name": "stdout",
     "output_type": "stream",
     "text": [
      "Estamos en la página https://skinsort.com/products/products-for-sensitive-skin/page/18\n"
     ]
    },
    {
     "data": {
      "application/vnd.jupyter.widget-view+json": {
       "model_id": "6557096d38164a139ee95139aca17dad",
       "version_major": 2,
       "version_minor": 0
      },
      "text/plain": [
       "Obteniendo productos:   0%|          | 0/1 [00:00<?, ?it/s]"
      ]
     },
     "metadata": {},
     "output_type": "display_data"
    },
    {
     "name": "stdout",
     "output_type": "stream",
     "text": [
      "Estamos en la página https://skinsort.com/products/products-for-sensitive-skin/page/18\n"
     ]
    },
    {
     "data": {
      "application/vnd.jupyter.widget-view+json": {
       "model_id": "227e16054f0e43fbb762551f8a876bae",
       "version_major": 2,
       "version_minor": 0
      },
      "text/plain": [
       "Obteniendo productos:   0%|          | 0/1 [00:00<?, ?it/s]"
      ]
     },
     "metadata": {},
     "output_type": "display_data"
    },
    {
     "name": "stdout",
     "output_type": "stream",
     "text": [
      "Estamos en la página https://skinsort.com/products/products-for-sensitive-skin/page/18\n"
     ]
    },
    {
     "data": {
      "application/vnd.jupyter.widget-view+json": {
       "model_id": "31c6bfff1d6d4331b355f08989d18c0b",
       "version_major": 2,
       "version_minor": 0
      },
      "text/plain": [
       "Obteniendo productos:   0%|          | 0/1 [00:00<?, ?it/s]"
      ]
     },
     "metadata": {},
     "output_type": "display_data"
    },
    {
     "name": "stdout",
     "output_type": "stream",
     "text": [
      "Estamos en la página https://skinsort.com/products/products-for-sensitive-skin/page/19\n"
     ]
    },
    {
     "data": {
      "application/vnd.jupyter.widget-view+json": {
       "model_id": "a49bffb65e79430c948ca49b55b2949a",
       "version_major": 2,
       "version_minor": 0
      },
      "text/plain": [
       "Obteniendo productos:   0%|          | 0/1 [00:00<?, ?it/s]"
      ]
     },
     "metadata": {},
     "output_type": "display_data"
    },
    {
     "name": "stdout",
     "output_type": "stream",
     "text": [
      "Estamos en la página https://skinsort.com/products/products-for-sensitive-skin/page/19\n"
     ]
    },
    {
     "data": {
      "application/vnd.jupyter.widget-view+json": {
       "model_id": "c2236cf83faf47eca119525786f1bb51",
       "version_major": 2,
       "version_minor": 0
      },
      "text/plain": [
       "Obteniendo productos:   0%|          | 0/1 [00:00<?, ?it/s]"
      ]
     },
     "metadata": {},
     "output_type": "display_data"
    },
    {
     "name": "stdout",
     "output_type": "stream",
     "text": [
      "Estamos en la página https://skinsort.com/products/products-for-sensitive-skin/page/19\n"
     ]
    },
    {
     "data": {
      "application/vnd.jupyter.widget-view+json": {
       "model_id": "fb5da4dc22ad4111867e2fe6005d18e3",
       "version_major": 2,
       "version_minor": 0
      },
      "text/plain": [
       "Obteniendo productos:   0%|          | 0/1 [00:00<?, ?it/s]"
      ]
     },
     "metadata": {},
     "output_type": "display_data"
    },
    {
     "name": "stdout",
     "output_type": "stream",
     "text": [
      "Estamos en la página https://skinsort.com/products/products-for-sensitive-skin/page/20\n"
     ]
    },
    {
     "data": {
      "application/vnd.jupyter.widget-view+json": {
       "model_id": "a6ea0ce62af84c9f87c4ce7d689f1242",
       "version_major": 2,
       "version_minor": 0
      },
      "text/plain": [
       "Obteniendo productos:   0%|          | 0/1 [00:00<?, ?it/s]"
      ]
     },
     "metadata": {},
     "output_type": "display_data"
    },
    {
     "name": "stdout",
     "output_type": "stream",
     "text": [
      "Estamos en la página https://skinsort.com/products/products-for-sensitive-skin/page/20\n"
     ]
    },
    {
     "data": {
      "application/vnd.jupyter.widget-view+json": {
       "model_id": "f673128c888549eba5a8afacaefaf221",
       "version_major": 2,
       "version_minor": 0
      },
      "text/plain": [
       "Obteniendo productos:   0%|          | 0/1 [00:00<?, ?it/s]"
      ]
     },
     "metadata": {},
     "output_type": "display_data"
    },
    {
     "name": "stdout",
     "output_type": "stream",
     "text": [
      "Estamos en la página https://skinsort.com/products/products-for-sensitive-skin/page/20\n"
     ]
    },
    {
     "data": {
      "application/vnd.jupyter.widget-view+json": {
       "model_id": "ca61a0326e534aa4b6a5ecaf44f679c3",
       "version_major": 2,
       "version_minor": 0
      },
      "text/plain": [
       "Obteniendo productos:   0%|          | 0/1 [00:00<?, ?it/s]"
      ]
     },
     "metadata": {},
     "output_type": "display_data"
    },
    {
     "name": "stdout",
     "output_type": "stream",
     "text": [
      "Estamos en la página https://skinsort.com/products/products-for-sensitive-skin/page/21\n"
     ]
    },
    {
     "data": {
      "application/vnd.jupyter.widget-view+json": {
       "model_id": "f7f1075769ab47bcaa0b9c0cc761ac9e",
       "version_major": 2,
       "version_minor": 0
      },
      "text/plain": [
       "Obteniendo productos:   0%|          | 0/1 [00:00<?, ?it/s]"
      ]
     },
     "metadata": {},
     "output_type": "display_data"
    },
    {
     "name": "stdout",
     "output_type": "stream",
     "text": [
      "Estamos en la página https://skinsort.com/products/products-for-sensitive-skin/page/21\n"
     ]
    },
    {
     "data": {
      "application/vnd.jupyter.widget-view+json": {
       "model_id": "91f5ef46136646ecaee34c73c8407bb4",
       "version_major": 2,
       "version_minor": 0
      },
      "text/plain": [
       "Obteniendo productos:   0%|          | 0/1 [00:00<?, ?it/s]"
      ]
     },
     "metadata": {},
     "output_type": "display_data"
    },
    {
     "name": "stdout",
     "output_type": "stream",
     "text": [
      "Estamos en la página https://skinsort.com/products/products-for-sensitive-skin/page/21\n"
     ]
    },
    {
     "data": {
      "application/vnd.jupyter.widget-view+json": {
       "model_id": "f7f2d8baf49445509019e61b1427995b",
       "version_major": 2,
       "version_minor": 0
      },
      "text/plain": [
       "Obteniendo productos:   0%|          | 0/1 [00:00<?, ?it/s]"
      ]
     },
     "metadata": {},
     "output_type": "display_data"
    },
    {
     "name": "stdout",
     "output_type": "stream",
     "text": [
      "Estamos en la página https://skinsort.com/products/products-for-sensitive-skin/page/22\n"
     ]
    },
    {
     "data": {
      "application/vnd.jupyter.widget-view+json": {
       "model_id": "d3e754f4331e4b0baec461c319d28351",
       "version_major": 2,
       "version_minor": 0
      },
      "text/plain": [
       "Obteniendo productos:   0%|          | 0/1 [00:00<?, ?it/s]"
      ]
     },
     "metadata": {},
     "output_type": "display_data"
    },
    {
     "name": "stdout",
     "output_type": "stream",
     "text": [
      "Estamos en la página https://skinsort.com/products/products-for-sensitive-skin/page/22\n"
     ]
    },
    {
     "data": {
      "application/vnd.jupyter.widget-view+json": {
       "model_id": "c102f89309ed4d4c9a23d27c318c3250",
       "version_major": 2,
       "version_minor": 0
      },
      "text/plain": [
       "Obteniendo productos:   0%|          | 0/1 [00:00<?, ?it/s]"
      ]
     },
     "metadata": {},
     "output_type": "display_data"
    },
    {
     "name": "stdout",
     "output_type": "stream",
     "text": [
      "Estamos en la página https://skinsort.com/products/products-for-sensitive-skin/page/22\n",
      "Error al obtener los datos.\n"
     ]
    },
    {
     "data": {
      "application/vnd.jupyter.widget-view+json": {
       "model_id": "f31950769be1453083b3e5c7c05a9af3",
       "version_major": 2,
       "version_minor": 0
      },
      "text/plain": [
       "Obteniendo productos:   0%|          | 0/1 [00:00<?, ?it/s]"
      ]
     },
     "metadata": {},
     "output_type": "display_data"
    },
    {
     "name": "stdout",
     "output_type": "stream",
     "text": [
      "Estamos en la página https://skinsort.com/products/products-for-sensitive-skin/page/24\n"
     ]
    },
    {
     "data": {
      "application/vnd.jupyter.widget-view+json": {
       "model_id": "9e4867225dd940b8a04c2247352613ee",
       "version_major": 2,
       "version_minor": 0
      },
      "text/plain": [
       "Obteniendo productos:   0%|          | 0/1 [00:00<?, ?it/s]"
      ]
     },
     "metadata": {},
     "output_type": "display_data"
    },
    {
     "name": "stdout",
     "output_type": "stream",
     "text": [
      "Estamos en la página https://skinsort.com/products/products-for-sensitive-skin/page/24\n"
     ]
    },
    {
     "data": {
      "application/vnd.jupyter.widget-view+json": {
       "model_id": "b221c10fc7ed4e719fad8658c38ff6ee",
       "version_major": 2,
       "version_minor": 0
      },
      "text/plain": [
       "Obteniendo productos:   0%|          | 0/1 [00:00<?, ?it/s]"
      ]
     },
     "metadata": {},
     "output_type": "display_data"
    },
    {
     "name": "stdout",
     "output_type": "stream",
     "text": [
      "Estamos en la página https://skinsort.com/products/products-for-sensitive-skin/page/24\n"
     ]
    },
    {
     "data": {
      "application/vnd.jupyter.widget-view+json": {
       "model_id": "d9056c5475cb4a0c9afbef0bf601b4e0",
       "version_major": 2,
       "version_minor": 0
      },
      "text/plain": [
       "Obteniendo productos:   0%|          | 0/1 [00:00<?, ?it/s]"
      ]
     },
     "metadata": {},
     "output_type": "display_data"
    },
    {
     "name": "stdout",
     "output_type": "stream",
     "text": [
      "Estamos en la página https://skinsort.com/products/products-for-sensitive-skin/page/25\n"
     ]
    },
    {
     "data": {
      "application/vnd.jupyter.widget-view+json": {
       "model_id": "e78172d5d98b42e0a69436eb3b4baf4a",
       "version_major": 2,
       "version_minor": 0
      },
      "text/plain": [
       "Obteniendo productos:   0%|          | 0/1 [00:00<?, ?it/s]"
      ]
     },
     "metadata": {},
     "output_type": "display_data"
    },
    {
     "name": "stdout",
     "output_type": "stream",
     "text": [
      "Estamos en la página https://skinsort.com/products/products-for-sensitive-skin/page/25\n"
     ]
    },
    {
     "data": {
      "application/vnd.jupyter.widget-view+json": {
       "model_id": "f63dbf12337445b4b4f2ca4e83f90f43",
       "version_major": 2,
       "version_minor": 0
      },
      "text/plain": [
       "Obteniendo productos:   0%|          | 0/1 [00:00<?, ?it/s]"
      ]
     },
     "metadata": {},
     "output_type": "display_data"
    },
    {
     "name": "stdout",
     "output_type": "stream",
     "text": [
      "Estamos en la página https://skinsort.com/products/products-for-sensitive-skin/page/25\n"
     ]
    },
    {
     "data": {
      "application/vnd.jupyter.widget-view+json": {
       "model_id": "51415a3a093742ad8db65ae5c818551b",
       "version_major": 2,
       "version_minor": 0
      },
      "text/plain": [
       "Obteniendo productos:   0%|          | 0/1 [00:00<?, ?it/s]"
      ]
     },
     "metadata": {},
     "output_type": "display_data"
    },
    {
     "name": "stdout",
     "output_type": "stream",
     "text": [
      "Estamos en la página https://skinsort.com/products/products-for-sensitive-skin/page/26\n"
     ]
    },
    {
     "data": {
      "application/vnd.jupyter.widget-view+json": {
       "model_id": "4d190f8929b44f95b79276e8d044837a",
       "version_major": 2,
       "version_minor": 0
      },
      "text/plain": [
       "Obteniendo productos:   0%|          | 0/1 [00:00<?, ?it/s]"
      ]
     },
     "metadata": {},
     "output_type": "display_data"
    },
    {
     "name": "stdout",
     "output_type": "stream",
     "text": [
      "Estamos en la página https://skinsort.com/products/products-for-sensitive-skin/page/26\n"
     ]
    },
    {
     "data": {
      "application/vnd.jupyter.widget-view+json": {
       "model_id": "f62b0103d5134481b37641b7e0fb2301",
       "version_major": 2,
       "version_minor": 0
      },
      "text/plain": [
       "Obteniendo productos:   0%|          | 0/1 [00:00<?, ?it/s]"
      ]
     },
     "metadata": {},
     "output_type": "display_data"
    },
    {
     "name": "stdout",
     "output_type": "stream",
     "text": [
      "Estamos en la página https://skinsort.com/products/products-for-sensitive-skin/page/26\n"
     ]
    },
    {
     "data": {
      "application/vnd.jupyter.widget-view+json": {
       "model_id": "a020f09f12584d67bcb835127ba3a948",
       "version_major": 2,
       "version_minor": 0
      },
      "text/plain": [
       "Obteniendo productos:   0%|          | 0/1 [00:00<?, ?it/s]"
      ]
     },
     "metadata": {},
     "output_type": "display_data"
    },
    {
     "name": "stdout",
     "output_type": "stream",
     "text": [
      "Estamos en la página https://skinsort.com/products/products-for-sensitive-skin/page/27\n"
     ]
    },
    {
     "data": {
      "application/vnd.jupyter.widget-view+json": {
       "model_id": "babe9d0f60384fa0b365833202e451c2",
       "version_major": 2,
       "version_minor": 0
      },
      "text/plain": [
       "Obteniendo productos:   0%|          | 0/1 [00:00<?, ?it/s]"
      ]
     },
     "metadata": {},
     "output_type": "display_data"
    },
    {
     "name": "stdout",
     "output_type": "stream",
     "text": [
      "Estamos en la página https://skinsort.com/products/products-for-sensitive-skin/page/27\n"
     ]
    },
    {
     "data": {
      "application/vnd.jupyter.widget-view+json": {
       "model_id": "c0e79b62531d46b8b6b792192b796b49",
       "version_major": 2,
       "version_minor": 0
      },
      "text/plain": [
       "Obteniendo productos:   0%|          | 0/1 [00:00<?, ?it/s]"
      ]
     },
     "metadata": {},
     "output_type": "display_data"
    },
    {
     "name": "stdout",
     "output_type": "stream",
     "text": [
      "Estamos en la página https://skinsort.com/products/products-for-sensitive-skin/page/27\n"
     ]
    },
    {
     "data": {
      "application/vnd.jupyter.widget-view+json": {
       "model_id": "46cf7f3acf6c4acebb2bbd8d70a9439d",
       "version_major": 2,
       "version_minor": 0
      },
      "text/plain": [
       "Obteniendo productos:   0%|          | 0/1 [00:00<?, ?it/s]"
      ]
     },
     "metadata": {},
     "output_type": "display_data"
    },
    {
     "name": "stdout",
     "output_type": "stream",
     "text": [
      "Estamos en la página https://skinsort.com/products/products-for-sensitive-skin/page/28\n"
     ]
    },
    {
     "data": {
      "application/vnd.jupyter.widget-view+json": {
       "model_id": "85de37487c7145d9a8d97fd1bac1445f",
       "version_major": 2,
       "version_minor": 0
      },
      "text/plain": [
       "Obteniendo productos:   0%|          | 0/1 [00:00<?, ?it/s]"
      ]
     },
     "metadata": {},
     "output_type": "display_data"
    },
    {
     "name": "stdout",
     "output_type": "stream",
     "text": [
      "Estamos en la página https://skinsort.com/products/products-for-sensitive-skin/page/28\n"
     ]
    },
    {
     "data": {
      "application/vnd.jupyter.widget-view+json": {
       "model_id": "cb8de6df4dc64f179584ebebec8124a7",
       "version_major": 2,
       "version_minor": 0
      },
      "text/plain": [
       "Obteniendo productos:   0%|          | 0/1 [00:00<?, ?it/s]"
      ]
     },
     "metadata": {},
     "output_type": "display_data"
    },
    {
     "name": "stdout",
     "output_type": "stream",
     "text": [
      "Estamos en la página https://skinsort.com/products/products-for-sensitive-skin/page/28\n"
     ]
    },
    {
     "data": {
      "application/vnd.jupyter.widget-view+json": {
       "model_id": "15c1eff462e34bbda4e4c5a09f01de16",
       "version_major": 2,
       "version_minor": 0
      },
      "text/plain": [
       "Obteniendo productos:   0%|          | 0/1 [00:00<?, ?it/s]"
      ]
     },
     "metadata": {},
     "output_type": "display_data"
    },
    {
     "name": "stdout",
     "output_type": "stream",
     "text": [
      "Estamos en la página https://skinsort.com/products/products-for-sensitive-skin/page/29\n"
     ]
    },
    {
     "data": {
      "application/vnd.jupyter.widget-view+json": {
       "model_id": "1fc11e7c1d154346ad83476ad198eb06",
       "version_major": 2,
       "version_minor": 0
      },
      "text/plain": [
       "Obteniendo productos:   0%|          | 0/1 [00:00<?, ?it/s]"
      ]
     },
     "metadata": {},
     "output_type": "display_data"
    },
    {
     "name": "stdout",
     "output_type": "stream",
     "text": [
      "Estamos en la página https://skinsort.com/products/products-for-sensitive-skin/page/29\n"
     ]
    },
    {
     "data": {
      "application/vnd.jupyter.widget-view+json": {
       "model_id": "7ab6e89ca6dd4a9e8a5fa691901e7dd3",
       "version_major": 2,
       "version_minor": 0
      },
      "text/plain": [
       "Obteniendo productos:   0%|          | 0/1 [00:00<?, ?it/s]"
      ]
     },
     "metadata": {},
     "output_type": "display_data"
    },
    {
     "name": "stdout",
     "output_type": "stream",
     "text": [
      "Estamos en la página https://skinsort.com/products/products-for-sensitive-skin/page/29\n"
     ]
    },
    {
     "data": {
      "application/vnd.jupyter.widget-view+json": {
       "model_id": "cea51d49b4f842dcb5fa03925b2b183c",
       "version_major": 2,
       "version_minor": 0
      },
      "text/plain": [
       "Obteniendo productos:   0%|          | 0/1 [00:00<?, ?it/s]"
      ]
     },
     "metadata": {},
     "output_type": "display_data"
    },
    {
     "name": "stdout",
     "output_type": "stream",
     "text": [
      "Estamos en la página https://skinsort.com/products/products-for-sensitive-skin/page/30\n"
     ]
    },
    {
     "data": {
      "application/vnd.jupyter.widget-view+json": {
       "model_id": "c3182b9b40914f27bbbae3332a985588",
       "version_major": 2,
       "version_minor": 0
      },
      "text/plain": [
       "Obteniendo productos:   0%|          | 0/1 [00:00<?, ?it/s]"
      ]
     },
     "metadata": {},
     "output_type": "display_data"
    },
    {
     "name": "stdout",
     "output_type": "stream",
     "text": [
      "Estamos en la página https://skinsort.com/products/products-for-sensitive-skin/page/30\n"
     ]
    },
    {
     "data": {
      "application/vnd.jupyter.widget-view+json": {
       "model_id": "bd1b3b2b75584a869a6ed17c20048a43",
       "version_major": 2,
       "version_minor": 0
      },
      "text/plain": [
       "Obteniendo productos:   0%|          | 0/1 [00:00<?, ?it/s]"
      ]
     },
     "metadata": {},
     "output_type": "display_data"
    },
    {
     "name": "stdout",
     "output_type": "stream",
     "text": [
      "Estamos en la página https://skinsort.com/products/products-for-sensitive-skin/page/30\n"
     ]
    },
    {
     "data": {
      "application/vnd.jupyter.widget-view+json": {
       "model_id": "bcea2c0f024b4f16b2b514d94155e5d3",
       "version_major": 2,
       "version_minor": 0
      },
      "text/plain": [
       "Obteniendo productos:   0%|          | 0/1 [00:00<?, ?it/s]"
      ]
     },
     "metadata": {},
     "output_type": "display_data"
    },
    {
     "name": "stdout",
     "output_type": "stream",
     "text": [
      "Estamos en la página https://skinsort.com/products/products-for-sensitive-skin/page/31\n"
     ]
    },
    {
     "data": {
      "application/vnd.jupyter.widget-view+json": {
       "model_id": "32ff8ae3b3364acda4f0e5461abc472e",
       "version_major": 2,
       "version_minor": 0
      },
      "text/plain": [
       "Obteniendo productos:   0%|          | 0/1 [00:00<?, ?it/s]"
      ]
     },
     "metadata": {},
     "output_type": "display_data"
    },
    {
     "name": "stdout",
     "output_type": "stream",
     "text": [
      "Estamos en la página https://skinsort.com/products/products-for-sensitive-skin/page/31\n"
     ]
    },
    {
     "data": {
      "application/vnd.jupyter.widget-view+json": {
       "model_id": "b3f3eb1967a0491fb81b22ce58960830",
       "version_major": 2,
       "version_minor": 0
      },
      "text/plain": [
       "Obteniendo productos:   0%|          | 0/1 [00:00<?, ?it/s]"
      ]
     },
     "metadata": {},
     "output_type": "display_data"
    },
    {
     "name": "stdout",
     "output_type": "stream",
     "text": [
      "Estamos en la página https://skinsort.com/products/products-for-sensitive-skin/page/31\n"
     ]
    },
    {
     "data": {
      "application/vnd.jupyter.widget-view+json": {
       "model_id": "d985633751684f4ebaae931def757104",
       "version_major": 2,
       "version_minor": 0
      },
      "text/plain": [
       "Obteniendo productos:   0%|          | 0/1 [00:00<?, ?it/s]"
      ]
     },
     "metadata": {},
     "output_type": "display_data"
    },
    {
     "name": "stdout",
     "output_type": "stream",
     "text": [
      "Estamos en la página https://skinsort.com/products/products-for-sensitive-skin/page/32\n"
     ]
    },
    {
     "data": {
      "application/vnd.jupyter.widget-view+json": {
       "model_id": "5837944ce2994ad2ab2df98a38aba121",
       "version_major": 2,
       "version_minor": 0
      },
      "text/plain": [
       "Obteniendo productos:   0%|          | 0/1 [00:00<?, ?it/s]"
      ]
     },
     "metadata": {},
     "output_type": "display_data"
    },
    {
     "name": "stdout",
     "output_type": "stream",
     "text": [
      "Estamos en la página https://skinsort.com/products/products-for-sensitive-skin/page/32\n"
     ]
    },
    {
     "data": {
      "application/vnd.jupyter.widget-view+json": {
       "model_id": "a07c8469a21d4570a4820c2855f3ee14",
       "version_major": 2,
       "version_minor": 0
      },
      "text/plain": [
       "Obteniendo productos:   0%|          | 0/1 [00:00<?, ?it/s]"
      ]
     },
     "metadata": {},
     "output_type": "display_data"
    },
    {
     "name": "stdout",
     "output_type": "stream",
     "text": [
      "Estamos en la página https://skinsort.com/products/products-for-sensitive-skin/page/32\n"
     ]
    },
    {
     "data": {
      "application/vnd.jupyter.widget-view+json": {
       "model_id": "140e74d7aa43450d8d9efa9782e6fd42",
       "version_major": 2,
       "version_minor": 0
      },
      "text/plain": [
       "Obteniendo productos:   0%|          | 0/1 [00:00<?, ?it/s]"
      ]
     },
     "metadata": {},
     "output_type": "display_data"
    },
    {
     "name": "stdout",
     "output_type": "stream",
     "text": [
      "Estamos en la página https://skinsort.com/products/products-for-sensitive-skin/page/33\n"
     ]
    },
    {
     "data": {
      "application/vnd.jupyter.widget-view+json": {
       "model_id": "3c8cd9f2aaa3467188af964b4e6f8bb7",
       "version_major": 2,
       "version_minor": 0
      },
      "text/plain": [
       "Obteniendo productos:   0%|          | 0/1 [00:00<?, ?it/s]"
      ]
     },
     "metadata": {},
     "output_type": "display_data"
    },
    {
     "name": "stdout",
     "output_type": "stream",
     "text": [
      "Estamos en la página https://skinsort.com/products/products-for-sensitive-skin/page/33\n"
     ]
    },
    {
     "data": {
      "application/vnd.jupyter.widget-view+json": {
       "model_id": "82db7178a45a4ded9585ba84d13cc761",
       "version_major": 2,
       "version_minor": 0
      },
      "text/plain": [
       "Obteniendo productos:   0%|          | 0/1 [00:00<?, ?it/s]"
      ]
     },
     "metadata": {},
     "output_type": "display_data"
    },
    {
     "name": "stdout",
     "output_type": "stream",
     "text": [
      "Estamos en la página https://skinsort.com/products/products-for-sensitive-skin/page/33\n"
     ]
    },
    {
     "data": {
      "application/vnd.jupyter.widget-view+json": {
       "model_id": "50a043ce9680414cb02f3e2fe5a2e623",
       "version_major": 2,
       "version_minor": 0
      },
      "text/plain": [
       "Obteniendo productos:   0%|          | 0/1 [00:00<?, ?it/s]"
      ]
     },
     "metadata": {},
     "output_type": "display_data"
    },
    {
     "name": "stdout",
     "output_type": "stream",
     "text": [
      "Estamos en la página https://skinsort.com/products/products-for-sensitive-skin/page/34\n"
     ]
    },
    {
     "data": {
      "application/vnd.jupyter.widget-view+json": {
       "model_id": "31c2354f4f4344fc96096451594d5269",
       "version_major": 2,
       "version_minor": 0
      },
      "text/plain": [
       "Obteniendo productos:   0%|          | 0/1 [00:00<?, ?it/s]"
      ]
     },
     "metadata": {},
     "output_type": "display_data"
    },
    {
     "name": "stdout",
     "output_type": "stream",
     "text": [
      "Estamos en la página https://skinsort.com/products/products-for-sensitive-skin/page/34\n"
     ]
    },
    {
     "data": {
      "application/vnd.jupyter.widget-view+json": {
       "model_id": "89feeaa110854907bec260032c712642",
       "version_major": 2,
       "version_minor": 0
      },
      "text/plain": [
       "Obteniendo productos:   0%|          | 0/1 [00:00<?, ?it/s]"
      ]
     },
     "metadata": {},
     "output_type": "display_data"
    },
    {
     "name": "stdout",
     "output_type": "stream",
     "text": [
      "Estamos en la página https://skinsort.com/products/products-for-sensitive-skin/page/34\n"
     ]
    },
    {
     "data": {
      "application/vnd.jupyter.widget-view+json": {
       "model_id": "805052a242714b449e744da6f418dce5",
       "version_major": 2,
       "version_minor": 0
      },
      "text/plain": [
       "Obteniendo productos:   0%|          | 0/1 [00:00<?, ?it/s]"
      ]
     },
     "metadata": {},
     "output_type": "display_data"
    },
    {
     "name": "stdout",
     "output_type": "stream",
     "text": [
      "Estamos en la página https://skinsort.com/products/products-for-sensitive-skin/page/35\n"
     ]
    },
    {
     "data": {
      "application/vnd.jupyter.widget-view+json": {
       "model_id": "43f7675718014950ac58bdf08e3c48bf",
       "version_major": 2,
       "version_minor": 0
      },
      "text/plain": [
       "Obteniendo productos:   0%|          | 0/1 [00:00<?, ?it/s]"
      ]
     },
     "metadata": {},
     "output_type": "display_data"
    },
    {
     "name": "stdout",
     "output_type": "stream",
     "text": [
      "Estamos en la página https://skinsort.com/products/products-for-sensitive-skin/page/35\n"
     ]
    },
    {
     "data": {
      "application/vnd.jupyter.widget-view+json": {
       "model_id": "fd98f61c421e4cada1af146b7f51ed35",
       "version_major": 2,
       "version_minor": 0
      },
      "text/plain": [
       "Obteniendo productos:   0%|          | 0/1 [00:00<?, ?it/s]"
      ]
     },
     "metadata": {},
     "output_type": "display_data"
    },
    {
     "name": "stdout",
     "output_type": "stream",
     "text": [
      "Estamos en la página https://skinsort.com/products/products-for-sensitive-skin/page/35\n"
     ]
    },
    {
     "data": {
      "application/vnd.jupyter.widget-view+json": {
       "model_id": "865ef03a5338424f90af6f884606541d",
       "version_major": 2,
       "version_minor": 0
      },
      "text/plain": [
       "Obteniendo productos:   0%|          | 0/1 [00:00<?, ?it/s]"
      ]
     },
     "metadata": {},
     "output_type": "display_data"
    },
    {
     "name": "stdout",
     "output_type": "stream",
     "text": [
      "Estamos en la página https://skinsort.com/products/products-for-sensitive-skin/page/36\n"
     ]
    },
    {
     "data": {
      "application/vnd.jupyter.widget-view+json": {
       "model_id": "66cf8036d1594319aecfd85433fa61f9",
       "version_major": 2,
       "version_minor": 0
      },
      "text/plain": [
       "Obteniendo productos:   0%|          | 0/1 [00:00<?, ?it/s]"
      ]
     },
     "metadata": {},
     "output_type": "display_data"
    },
    {
     "name": "stdout",
     "output_type": "stream",
     "text": [
      "Estamos en la página https://skinsort.com/products/products-for-sensitive-skin/page/36\n"
     ]
    },
    {
     "data": {
      "application/vnd.jupyter.widget-view+json": {
       "model_id": "35ad15500af54c1598e9cb29eecb36fb",
       "version_major": 2,
       "version_minor": 0
      },
      "text/plain": [
       "Obteniendo productos:   0%|          | 0/1 [00:00<?, ?it/s]"
      ]
     },
     "metadata": {},
     "output_type": "display_data"
    },
    {
     "name": "stdout",
     "output_type": "stream",
     "text": [
      "Estamos en la página https://skinsort.com/products/products-for-sensitive-skin/page/36\n"
     ]
    },
    {
     "data": {
      "application/vnd.jupyter.widget-view+json": {
       "model_id": "8fd50e4ecdf843b9a60255b144fb6227",
       "version_major": 2,
       "version_minor": 0
      },
      "text/plain": [
       "Obteniendo productos:   0%|          | 0/1 [00:00<?, ?it/s]"
      ]
     },
     "metadata": {},
     "output_type": "display_data"
    },
    {
     "name": "stdout",
     "output_type": "stream",
     "text": [
      "Estamos en la página https://skinsort.com/products/products-for-sensitive-skin/page/37\n"
     ]
    },
    {
     "data": {
      "application/vnd.jupyter.widget-view+json": {
       "model_id": "422c59e69f2d46d48b98e6c94dccb619",
       "version_major": 2,
       "version_minor": 0
      },
      "text/plain": [
       "Obteniendo productos:   0%|          | 0/1 [00:00<?, ?it/s]"
      ]
     },
     "metadata": {},
     "output_type": "display_data"
    },
    {
     "name": "stdout",
     "output_type": "stream",
     "text": [
      "Estamos en la página https://skinsort.com/products/products-for-sensitive-skin/page/37\n"
     ]
    },
    {
     "data": {
      "application/vnd.jupyter.widget-view+json": {
       "model_id": "6efd3976782042e89912408ee3bdb2c3",
       "version_major": 2,
       "version_minor": 0
      },
      "text/plain": [
       "Obteniendo productos:   0%|          | 0/1 [00:00<?, ?it/s]"
      ]
     },
     "metadata": {},
     "output_type": "display_data"
    },
    {
     "name": "stdout",
     "output_type": "stream",
     "text": [
      "Estamos en la página https://skinsort.com/products/products-for-sensitive-skin/page/37\n"
     ]
    },
    {
     "data": {
      "application/vnd.jupyter.widget-view+json": {
       "model_id": "3b97978ad55a4a2ba1c1c4a18b865861",
       "version_major": 2,
       "version_minor": 0
      },
      "text/plain": [
       "Obteniendo productos:   0%|          | 0/1 [00:00<?, ?it/s]"
      ]
     },
     "metadata": {},
     "output_type": "display_data"
    },
    {
     "name": "stdout",
     "output_type": "stream",
     "text": [
      "Estamos en la página https://skinsort.com/products/products-for-sensitive-skin/page/38\n"
     ]
    },
    {
     "data": {
      "application/vnd.jupyter.widget-view+json": {
       "model_id": "41b0636188c640e0bc2ccc552b1260af",
       "version_major": 2,
       "version_minor": 0
      },
      "text/plain": [
       "Obteniendo productos:   0%|          | 0/1 [00:00<?, ?it/s]"
      ]
     },
     "metadata": {},
     "output_type": "display_data"
    },
    {
     "name": "stdout",
     "output_type": "stream",
     "text": [
      "Estamos en la página https://skinsort.com/products/products-for-sensitive-skin/page/38\n"
     ]
    },
    {
     "data": {
      "application/vnd.jupyter.widget-view+json": {
       "model_id": "69363e3688bb4c858516b3f34940b3f1",
       "version_major": 2,
       "version_minor": 0
      },
      "text/plain": [
       "Obteniendo productos:   0%|          | 0/1 [00:00<?, ?it/s]"
      ]
     },
     "metadata": {},
     "output_type": "display_data"
    },
    {
     "name": "stdout",
     "output_type": "stream",
     "text": [
      "Estamos en la página https://skinsort.com/products/products-for-sensitive-skin/page/38\n"
     ]
    },
    {
     "data": {
      "application/vnd.jupyter.widget-view+json": {
       "model_id": "2139a1f9965148fa93162f548e66fa22",
       "version_major": 2,
       "version_minor": 0
      },
      "text/plain": [
       "Obteniendo productos:   0%|          | 0/1 [00:00<?, ?it/s]"
      ]
     },
     "metadata": {},
     "output_type": "display_data"
    },
    {
     "name": "stdout",
     "output_type": "stream",
     "text": [
      "Estamos en la página https://skinsort.com/products/products-for-sensitive-skin/page/39\n"
     ]
    },
    {
     "data": {
      "application/vnd.jupyter.widget-view+json": {
       "model_id": "08b7aa40892b47d5a167b193474512d9",
       "version_major": 2,
       "version_minor": 0
      },
      "text/plain": [
       "Obteniendo productos:   0%|          | 0/1 [00:00<?, ?it/s]"
      ]
     },
     "metadata": {},
     "output_type": "display_data"
    },
    {
     "name": "stdout",
     "output_type": "stream",
     "text": [
      "Estamos en la página https://skinsort.com/products/products-for-sensitive-skin/page/39\n"
     ]
    },
    {
     "data": {
      "application/vnd.jupyter.widget-view+json": {
       "model_id": "d607095b057d4bc39868f13b30f2bfc0",
       "version_major": 2,
       "version_minor": 0
      },
      "text/plain": [
       "Obteniendo productos:   0%|          | 0/1 [00:00<?, ?it/s]"
      ]
     },
     "metadata": {},
     "output_type": "display_data"
    },
    {
     "name": "stdout",
     "output_type": "stream",
     "text": [
      "Estamos en la página https://skinsort.com/products/products-for-sensitive-skin/page/39\n"
     ]
    },
    {
     "data": {
      "application/vnd.jupyter.widget-view+json": {
       "model_id": "95e1390877a145d68b205e1f6e2c2c5e",
       "version_major": 2,
       "version_minor": 0
      },
      "text/plain": [
       "Obteniendo productos:   0%|          | 0/1 [00:00<?, ?it/s]"
      ]
     },
     "metadata": {},
     "output_type": "display_data"
    },
    {
     "name": "stdout",
     "output_type": "stream",
     "text": [
      "Estamos en la página https://skinsort.com/products/products-for-sensitive-skin/page/40\n"
     ]
    },
    {
     "data": {
      "application/vnd.jupyter.widget-view+json": {
       "model_id": "89b7ff58c4f14f6cbdcdcbc45f75d1af",
       "version_major": 2,
       "version_minor": 0
      },
      "text/plain": [
       "Obteniendo productos:   0%|          | 0/1 [00:00<?, ?it/s]"
      ]
     },
     "metadata": {},
     "output_type": "display_data"
    },
    {
     "name": "stdout",
     "output_type": "stream",
     "text": [
      "Estamos en la página https://skinsort.com/products/products-for-sensitive-skin/page/40\n"
     ]
    },
    {
     "data": {
      "application/vnd.jupyter.widget-view+json": {
       "model_id": "a62538da8d8c458e99d709b9fa704d21",
       "version_major": 2,
       "version_minor": 0
      },
      "text/plain": [
       "Obteniendo productos:   0%|          | 0/1 [00:00<?, ?it/s]"
      ]
     },
     "metadata": {},
     "output_type": "display_data"
    },
    {
     "name": "stdout",
     "output_type": "stream",
     "text": [
      "Estamos en la página https://skinsort.com/products/products-for-sensitive-skin/page/40\n"
     ]
    },
    {
     "data": {
      "application/vnd.jupyter.widget-view+json": {
       "model_id": "123ec21214ae490ba78132e9ae314c7d",
       "version_major": 2,
       "version_minor": 0
      },
      "text/plain": [
       "Obteniendo productos:   0%|          | 0/1 [00:00<?, ?it/s]"
      ]
     },
     "metadata": {},
     "output_type": "display_data"
    },
    {
     "name": "stdout",
     "output_type": "stream",
     "text": [
      "Estamos en la página https://skinsort.com/products/products-for-sensitive-skin/page/41\n"
     ]
    },
    {
     "data": {
      "application/vnd.jupyter.widget-view+json": {
       "model_id": "efd07016e4d54e92a08aa5ebb0ac0aa3",
       "version_major": 2,
       "version_minor": 0
      },
      "text/plain": [
       "Obteniendo productos:   0%|          | 0/1 [00:00<?, ?it/s]"
      ]
     },
     "metadata": {},
     "output_type": "display_data"
    },
    {
     "name": "stdout",
     "output_type": "stream",
     "text": [
      "Estamos en la página https://skinsort.com/products/products-for-sensitive-skin/page/41\n"
     ]
    },
    {
     "data": {
      "application/vnd.jupyter.widget-view+json": {
       "model_id": "a3c5a0cf638e4b87ac4ca25b26f9e6ce",
       "version_major": 2,
       "version_minor": 0
      },
      "text/plain": [
       "Obteniendo productos:   0%|          | 0/1 [00:00<?, ?it/s]"
      ]
     },
     "metadata": {},
     "output_type": "display_data"
    },
    {
     "name": "stdout",
     "output_type": "stream",
     "text": [
      "Estamos en la página https://skinsort.com/products/products-for-sensitive-skin/page/41\n"
     ]
    },
    {
     "data": {
      "application/vnd.jupyter.widget-view+json": {
       "model_id": "fd2e72ecf5644ce9ad908daf1f987489",
       "version_major": 2,
       "version_minor": 0
      },
      "text/plain": [
       "Obteniendo productos:   0%|          | 0/1 [00:00<?, ?it/s]"
      ]
     },
     "metadata": {},
     "output_type": "display_data"
    },
    {
     "name": "stdout",
     "output_type": "stream",
     "text": [
      "Estamos en la página https://skinsort.com/products/products-for-sensitive-skin/page/42\n"
     ]
    },
    {
     "data": {
      "application/vnd.jupyter.widget-view+json": {
       "model_id": "2806786ef6a241b7878a87948cab3d3e",
       "version_major": 2,
       "version_minor": 0
      },
      "text/plain": [
       "Obteniendo productos:   0%|          | 0/1 [00:00<?, ?it/s]"
      ]
     },
     "metadata": {},
     "output_type": "display_data"
    },
    {
     "name": "stdout",
     "output_type": "stream",
     "text": [
      "Estamos en la página https://skinsort.com/products/products-for-sensitive-skin/page/42\n"
     ]
    },
    {
     "data": {
      "application/vnd.jupyter.widget-view+json": {
       "model_id": "a79c0b26ad954dd8b63ac62056bbe6dc",
       "version_major": 2,
       "version_minor": 0
      },
      "text/plain": [
       "Obteniendo productos:   0%|          | 0/1 [00:00<?, ?it/s]"
      ]
     },
     "metadata": {},
     "output_type": "display_data"
    },
    {
     "name": "stdout",
     "output_type": "stream",
     "text": [
      "Estamos en la página https://skinsort.com/products/products-for-sensitive-skin/page/42\n"
     ]
    },
    {
     "data": {
      "application/vnd.jupyter.widget-view+json": {
       "model_id": "7438d9543b504acc97bbf766646fcd8a",
       "version_major": 2,
       "version_minor": 0
      },
      "text/plain": [
       "Obteniendo productos:   0%|          | 0/1 [00:00<?, ?it/s]"
      ]
     },
     "metadata": {},
     "output_type": "display_data"
    },
    {
     "name": "stdout",
     "output_type": "stream",
     "text": [
      "Estamos en la página https://skinsort.com/products/products-for-sensitive-skin/page/43\n"
     ]
    },
    {
     "data": {
      "application/vnd.jupyter.widget-view+json": {
       "model_id": "8ff17156618b4a11884bae0b237a2171",
       "version_major": 2,
       "version_minor": 0
      },
      "text/plain": [
       "Obteniendo productos:   0%|          | 0/1 [00:00<?, ?it/s]"
      ]
     },
     "metadata": {},
     "output_type": "display_data"
    },
    {
     "name": "stdout",
     "output_type": "stream",
     "text": [
      "Estamos en la página https://skinsort.com/products/products-for-sensitive-skin/page/43\n"
     ]
    },
    {
     "data": {
      "application/vnd.jupyter.widget-view+json": {
       "model_id": "e6c1e0c87bf74f49934c31aeff710c2c",
       "version_major": 2,
       "version_minor": 0
      },
      "text/plain": [
       "Obteniendo productos:   0%|          | 0/1 [00:00<?, ?it/s]"
      ]
     },
     "metadata": {},
     "output_type": "display_data"
    },
    {
     "name": "stdout",
     "output_type": "stream",
     "text": [
      "Estamos en la página https://skinsort.com/products/products-for-sensitive-skin/page/43\n"
     ]
    },
    {
     "data": {
      "application/vnd.jupyter.widget-view+json": {
       "model_id": "b3469f77e4ca4293856ab18c08c63d51",
       "version_major": 2,
       "version_minor": 0
      },
      "text/plain": [
       "Obteniendo productos:   0%|          | 0/1 [00:00<?, ?it/s]"
      ]
     },
     "metadata": {},
     "output_type": "display_data"
    },
    {
     "name": "stdout",
     "output_type": "stream",
     "text": [
      "Estamos en la página https://skinsort.com/products/products-for-sensitive-skin/page/44\n"
     ]
    },
    {
     "data": {
      "application/vnd.jupyter.widget-view+json": {
       "model_id": "b9d403e8268c44ebab2b250e08649f8e",
       "version_major": 2,
       "version_minor": 0
      },
      "text/plain": [
       "Obteniendo productos:   0%|          | 0/1 [00:00<?, ?it/s]"
      ]
     },
     "metadata": {},
     "output_type": "display_data"
    },
    {
     "name": "stdout",
     "output_type": "stream",
     "text": [
      "Estamos en la página https://skinsort.com/products/products-for-sensitive-skin/page/44\n"
     ]
    },
    {
     "data": {
      "application/vnd.jupyter.widget-view+json": {
       "model_id": "664d5740d02b42b6aced41a29cac3c91",
       "version_major": 2,
       "version_minor": 0
      },
      "text/plain": [
       "Obteniendo productos:   0%|          | 0/1 [00:00<?, ?it/s]"
      ]
     },
     "metadata": {},
     "output_type": "display_data"
    },
    {
     "name": "stdout",
     "output_type": "stream",
     "text": [
      "Estamos en la página https://skinsort.com/products/products-for-sensitive-skin/page/44\n"
     ]
    },
    {
     "data": {
      "application/vnd.jupyter.widget-view+json": {
       "model_id": "87235b8eb9184e1fbdc3b265513720ac",
       "version_major": 2,
       "version_minor": 0
      },
      "text/plain": [
       "Obteniendo productos:   0%|          | 0/1 [00:00<?, ?it/s]"
      ]
     },
     "metadata": {},
     "output_type": "display_data"
    },
    {
     "name": "stdout",
     "output_type": "stream",
     "text": [
      "Estamos en la página https://skinsort.com/products/products-for-sensitive-skin/page/45\n"
     ]
    },
    {
     "data": {
      "application/vnd.jupyter.widget-view+json": {
       "model_id": "eff77d8eba6f442fb3017747bf09022e",
       "version_major": 2,
       "version_minor": 0
      },
      "text/plain": [
       "Obteniendo productos:   0%|          | 0/1 [00:00<?, ?it/s]"
      ]
     },
     "metadata": {},
     "output_type": "display_data"
    },
    {
     "name": "stdout",
     "output_type": "stream",
     "text": [
      "Estamos en la página https://skinsort.com/products/products-for-sensitive-skin/page/45\n"
     ]
    },
    {
     "data": {
      "application/vnd.jupyter.widget-view+json": {
       "model_id": "271803c01a7c49d89462d3eaba731d0f",
       "version_major": 2,
       "version_minor": 0
      },
      "text/plain": [
       "Obteniendo productos:   0%|          | 0/1 [00:00<?, ?it/s]"
      ]
     },
     "metadata": {},
     "output_type": "display_data"
    },
    {
     "name": "stdout",
     "output_type": "stream",
     "text": [
      "Estamos en la página https://skinsort.com/products/products-for-sensitive-skin/page/45\n"
     ]
    },
    {
     "data": {
      "application/vnd.jupyter.widget-view+json": {
       "model_id": "996c0a4c3cbd4d54a59636bdad1df6a1",
       "version_major": 2,
       "version_minor": 0
      },
      "text/plain": [
       "Obteniendo productos:   0%|          | 0/1 [00:00<?, ?it/s]"
      ]
     },
     "metadata": {},
     "output_type": "display_data"
    },
    {
     "name": "stdout",
     "output_type": "stream",
     "text": [
      "Estamos en la página https://skinsort.com/products/products-for-sensitive-skin/page/46\n"
     ]
    },
    {
     "data": {
      "application/vnd.jupyter.widget-view+json": {
       "model_id": "dc736d85c94b49ecbf1f6d6ead3f426b",
       "version_major": 2,
       "version_minor": 0
      },
      "text/plain": [
       "Obteniendo productos:   0%|          | 0/1 [00:00<?, ?it/s]"
      ]
     },
     "metadata": {},
     "output_type": "display_data"
    },
    {
     "name": "stdout",
     "output_type": "stream",
     "text": [
      "Estamos en la página https://skinsort.com/products/products-for-sensitive-skin/page/46\n"
     ]
    },
    {
     "data": {
      "application/vnd.jupyter.widget-view+json": {
       "model_id": "3d03fed3144b472c861b85eaf5424da5",
       "version_major": 2,
       "version_minor": 0
      },
      "text/plain": [
       "Obteniendo productos:   0%|          | 0/1 [00:00<?, ?it/s]"
      ]
     },
     "metadata": {},
     "output_type": "display_data"
    },
    {
     "name": "stdout",
     "output_type": "stream",
     "text": [
      "Estamos en la página https://skinsort.com/products/products-for-sensitive-skin/page/46\n"
     ]
    },
    {
     "data": {
      "application/vnd.jupyter.widget-view+json": {
       "model_id": "ad880693801941b4a3c62dfa8645a2b6",
       "version_major": 2,
       "version_minor": 0
      },
      "text/plain": [
       "Obteniendo productos:   0%|          | 0/1 [00:00<?, ?it/s]"
      ]
     },
     "metadata": {},
     "output_type": "display_data"
    },
    {
     "name": "stdout",
     "output_type": "stream",
     "text": [
      "Estamos en la página https://skinsort.com/products/products-for-sensitive-skin/page/47\n"
     ]
    },
    {
     "data": {
      "application/vnd.jupyter.widget-view+json": {
       "model_id": "7d84b3df9d4944e1ad810a1dfe28db5f",
       "version_major": 2,
       "version_minor": 0
      },
      "text/plain": [
       "Obteniendo productos:   0%|          | 0/1 [00:00<?, ?it/s]"
      ]
     },
     "metadata": {},
     "output_type": "display_data"
    },
    {
     "name": "stdout",
     "output_type": "stream",
     "text": [
      "Estamos en la página https://skinsort.com/products/products-for-sensitive-skin/page/47\n"
     ]
    },
    {
     "data": {
      "application/vnd.jupyter.widget-view+json": {
       "model_id": "f29cf43fc73241e38165e9aa9be10198",
       "version_major": 2,
       "version_minor": 0
      },
      "text/plain": [
       "Obteniendo productos:   0%|          | 0/1 [00:00<?, ?it/s]"
      ]
     },
     "metadata": {},
     "output_type": "display_data"
    },
    {
     "name": "stdout",
     "output_type": "stream",
     "text": [
      "Estamos en la página https://skinsort.com/products/products-for-sensitive-skin/page/47\n"
     ]
    },
    {
     "data": {
      "application/vnd.jupyter.widget-view+json": {
       "model_id": "cbce1fb2fabd48479572850971b3da0b",
       "version_major": 2,
       "version_minor": 0
      },
      "text/plain": [
       "Obteniendo productos:   0%|          | 0/1 [00:00<?, ?it/s]"
      ]
     },
     "metadata": {},
     "output_type": "display_data"
    },
    {
     "name": "stdout",
     "output_type": "stream",
     "text": [
      "Estamos en la página https://skinsort.com/products/products-for-sensitive-skin/page/48\n"
     ]
    },
    {
     "data": {
      "application/vnd.jupyter.widget-view+json": {
       "model_id": "b25729b2f9234df9aa7bf0dc585b3b8d",
       "version_major": 2,
       "version_minor": 0
      },
      "text/plain": [
       "Obteniendo productos:   0%|          | 0/1 [00:00<?, ?it/s]"
      ]
     },
     "metadata": {},
     "output_type": "display_data"
    },
    {
     "name": "stdout",
     "output_type": "stream",
     "text": [
      "Estamos en la página https://skinsort.com/products/products-for-sensitive-skin/page/48\n"
     ]
    },
    {
     "data": {
      "application/vnd.jupyter.widget-view+json": {
       "model_id": "598e5e099791431d84851b971fbcf4a1",
       "version_major": 2,
       "version_minor": 0
      },
      "text/plain": [
       "Obteniendo productos:   0%|          | 0/1 [00:00<?, ?it/s]"
      ]
     },
     "metadata": {},
     "output_type": "display_data"
    },
    {
     "name": "stdout",
     "output_type": "stream",
     "text": [
      "Estamos en la página https://skinsort.com/products/products-for-sensitive-skin/page/48\n"
     ]
    },
    {
     "data": {
      "application/vnd.jupyter.widget-view+json": {
       "model_id": "935d0e036bfa4dcebdf792b8db6aff16",
       "version_major": 2,
       "version_minor": 0
      },
      "text/plain": [
       "Obteniendo productos:   0%|          | 0/1 [00:00<?, ?it/s]"
      ]
     },
     "metadata": {},
     "output_type": "display_data"
    },
    {
     "name": "stdout",
     "output_type": "stream",
     "text": [
      "Estamos en la página https://skinsort.com/products/products-for-sensitive-skin/page/49\n"
     ]
    },
    {
     "data": {
      "application/vnd.jupyter.widget-view+json": {
       "model_id": "9f9329ee20a34fc195f873bd12ddbdb0",
       "version_major": 2,
       "version_minor": 0
      },
      "text/plain": [
       "Obteniendo productos:   0%|          | 0/1 [00:00<?, ?it/s]"
      ]
     },
     "metadata": {},
     "output_type": "display_data"
    },
    {
     "name": "stdout",
     "output_type": "stream",
     "text": [
      "Estamos en la página https://skinsort.com/products/products-for-sensitive-skin/page/49\n"
     ]
    },
    {
     "data": {
      "application/vnd.jupyter.widget-view+json": {
       "model_id": "e4fd07ef4eb04f1eb24487239298bc61",
       "version_major": 2,
       "version_minor": 0
      },
      "text/plain": [
       "Obteniendo productos:   0%|          | 0/1 [00:00<?, ?it/s]"
      ]
     },
     "metadata": {},
     "output_type": "display_data"
    },
    {
     "name": "stdout",
     "output_type": "stream",
     "text": [
      "Estamos en la página https://skinsort.com/products/products-for-sensitive-skin/page/49\n"
     ]
    },
    {
     "data": {
      "application/vnd.jupyter.widget-view+json": {
       "model_id": "e8c3a1163f0f49768937b0e15ac5a61a",
       "version_major": 2,
       "version_minor": 0
      },
      "text/plain": [
       "Obteniendo productos:   0%|          | 0/1 [00:00<?, ?it/s]"
      ]
     },
     "metadata": {},
     "output_type": "display_data"
    },
    {
     "name": "stdout",
     "output_type": "stream",
     "text": [
      "Estamos en la página https://skinsort.com/products/products-for-sensitive-skin/page/50\n"
     ]
    },
    {
     "data": {
      "application/vnd.jupyter.widget-view+json": {
       "model_id": "208cffd44e7847c9b32e73b86eec4312",
       "version_major": 2,
       "version_minor": 0
      },
      "text/plain": [
       "Obteniendo productos:   0%|          | 0/1 [00:00<?, ?it/s]"
      ]
     },
     "metadata": {},
     "output_type": "display_data"
    },
    {
     "name": "stdout",
     "output_type": "stream",
     "text": [
      "Estamos en la página https://skinsort.com/products/products-for-sensitive-skin/page/50\n"
     ]
    },
    {
     "data": {
      "application/vnd.jupyter.widget-view+json": {
       "model_id": "f225aeacb3584af0907082dd64d3c209",
       "version_major": 2,
       "version_minor": 0
      },
      "text/plain": [
       "Obteniendo productos:   0%|          | 0/1 [00:00<?, ?it/s]"
      ]
     },
     "metadata": {},
     "output_type": "display_data"
    },
    {
     "name": "stdout",
     "output_type": "stream",
     "text": [
      "Estamos en la página https://skinsort.com/products/products-for-sensitive-skin/page/50\n"
     ]
    },
    {
     "data": {
      "application/vnd.jupyter.widget-view+json": {
       "model_id": "89b00fd4a429465f8f550c538941e367",
       "version_major": 2,
       "version_minor": 0
      },
      "text/plain": [
       "Obteniendo productos:   0%|          | 0/1 [00:00<?, ?it/s]"
      ]
     },
     "metadata": {},
     "output_type": "display_data"
    },
    {
     "name": "stdout",
     "output_type": "stream",
     "text": [
      "Estamos en la página https://skinsort.com/products/products-for-sensitive-skin/page/51\n"
     ]
    },
    {
     "data": {
      "application/vnd.jupyter.widget-view+json": {
       "model_id": "df7baed0fd53438ea06da8014d12753d",
       "version_major": 2,
       "version_minor": 0
      },
      "text/plain": [
       "Obteniendo productos:   0%|          | 0/1 [00:00<?, ?it/s]"
      ]
     },
     "metadata": {},
     "output_type": "display_data"
    },
    {
     "name": "stdout",
     "output_type": "stream",
     "text": [
      "Estamos en la página https://skinsort.com/products/products-for-sensitive-skin/page/51\n"
     ]
    },
    {
     "data": {
      "application/vnd.jupyter.widget-view+json": {
       "model_id": "4db5d0846b08401c8414c7d42d4d3171",
       "version_major": 2,
       "version_minor": 0
      },
      "text/plain": [
       "Obteniendo productos:   0%|          | 0/1 [00:00<?, ?it/s]"
      ]
     },
     "metadata": {},
     "output_type": "display_data"
    },
    {
     "name": "stdout",
     "output_type": "stream",
     "text": [
      "Estamos en la página https://skinsort.com/products/products-for-sensitive-skin/page/51\n"
     ]
    },
    {
     "data": {
      "application/vnd.jupyter.widget-view+json": {
       "model_id": "b2ddd22241c943ea8cd52dd7182b3195",
       "version_major": 2,
       "version_minor": 0
      },
      "text/plain": [
       "Obteniendo productos:   0%|          | 0/1 [00:00<?, ?it/s]"
      ]
     },
     "metadata": {},
     "output_type": "display_data"
    },
    {
     "name": "stdout",
     "output_type": "stream",
     "text": [
      "Estamos en la página https://skinsort.com/products/products-for-sensitive-skin/page/52\n"
     ]
    },
    {
     "data": {
      "application/vnd.jupyter.widget-view+json": {
       "model_id": "55290912e1824ed98d699f6965e9998a",
       "version_major": 2,
       "version_minor": 0
      },
      "text/plain": [
       "Obteniendo productos:   0%|          | 0/1 [00:00<?, ?it/s]"
      ]
     },
     "metadata": {},
     "output_type": "display_data"
    },
    {
     "name": "stdout",
     "output_type": "stream",
     "text": [
      "Estamos en la página https://skinsort.com/products/products-for-sensitive-skin/page/52\n"
     ]
    },
    {
     "data": {
      "application/vnd.jupyter.widget-view+json": {
       "model_id": "73a2fc59f16e401eb481c43a10204f95",
       "version_major": 2,
       "version_minor": 0
      },
      "text/plain": [
       "Obteniendo productos:   0%|          | 0/1 [00:00<?, ?it/s]"
      ]
     },
     "metadata": {},
     "output_type": "display_data"
    },
    {
     "name": "stdout",
     "output_type": "stream",
     "text": [
      "Estamos en la página https://skinsort.com/products/products-for-sensitive-skin/page/52\n"
     ]
    },
    {
     "data": {
      "application/vnd.jupyter.widget-view+json": {
       "model_id": "52cc64e6fa8e4786b5ceff161424a2f9",
       "version_major": 2,
       "version_minor": 0
      },
      "text/plain": [
       "Obteniendo productos:   0%|          | 0/1 [00:00<?, ?it/s]"
      ]
     },
     "metadata": {},
     "output_type": "display_data"
    },
    {
     "name": "stdout",
     "output_type": "stream",
     "text": [
      "Estamos en la página https://skinsort.com/products/products-for-sensitive-skin/page/53\n"
     ]
    },
    {
     "data": {
      "application/vnd.jupyter.widget-view+json": {
       "model_id": "a6ae1009fca245ccbdc4c6fb40dee1ab",
       "version_major": 2,
       "version_minor": 0
      },
      "text/plain": [
       "Obteniendo productos:   0%|          | 0/1 [00:00<?, ?it/s]"
      ]
     },
     "metadata": {},
     "output_type": "display_data"
    },
    {
     "name": "stdout",
     "output_type": "stream",
     "text": [
      "Estamos en la página https://skinsort.com/products/products-for-sensitive-skin/page/53\n"
     ]
    },
    {
     "data": {
      "application/vnd.jupyter.widget-view+json": {
       "model_id": "840e1ef5344347a4b7c32a40068c3f1b",
       "version_major": 2,
       "version_minor": 0
      },
      "text/plain": [
       "Obteniendo productos:   0%|          | 0/1 [00:00<?, ?it/s]"
      ]
     },
     "metadata": {},
     "output_type": "display_data"
    },
    {
     "name": "stdout",
     "output_type": "stream",
     "text": [
      "Estamos en la página https://skinsort.com/products/products-for-sensitive-skin/page/53\n"
     ]
    },
    {
     "data": {
      "application/vnd.jupyter.widget-view+json": {
       "model_id": "37dbf3e298604e27b8db3d22c307008c",
       "version_major": 2,
       "version_minor": 0
      },
      "text/plain": [
       "Obteniendo productos:   0%|          | 0/1 [00:00<?, ?it/s]"
      ]
     },
     "metadata": {},
     "output_type": "display_data"
    },
    {
     "name": "stdout",
     "output_type": "stream",
     "text": [
      "Estamos en la página https://skinsort.com/products/products-for-sensitive-skin/page/54\n"
     ]
    },
    {
     "data": {
      "application/vnd.jupyter.widget-view+json": {
       "model_id": "f776d9824b79424890ef07ff7b621773",
       "version_major": 2,
       "version_minor": 0
      },
      "text/plain": [
       "Obteniendo productos:   0%|          | 0/1 [00:00<?, ?it/s]"
      ]
     },
     "metadata": {},
     "output_type": "display_data"
    },
    {
     "name": "stdout",
     "output_type": "stream",
     "text": [
      "Estamos en la página https://skinsort.com/products/products-for-sensitive-skin/page/54\n"
     ]
    },
    {
     "data": {
      "application/vnd.jupyter.widget-view+json": {
       "model_id": "4c35eea4c4ed4b1db416eabc4aea1c59",
       "version_major": 2,
       "version_minor": 0
      },
      "text/plain": [
       "Obteniendo productos:   0%|          | 0/1 [00:00<?, ?it/s]"
      ]
     },
     "metadata": {},
     "output_type": "display_data"
    },
    {
     "name": "stdout",
     "output_type": "stream",
     "text": [
      "Estamos en la página https://skinsort.com/products/products-for-sensitive-skin/page/54\n"
     ]
    },
    {
     "data": {
      "application/vnd.jupyter.widget-view+json": {
       "model_id": "fa817624d4df4b9f8ee80c42446b959d",
       "version_major": 2,
       "version_minor": 0
      },
      "text/plain": [
       "Obteniendo productos:   0%|          | 0/1 [00:00<?, ?it/s]"
      ]
     },
     "metadata": {},
     "output_type": "display_data"
    },
    {
     "name": "stdout",
     "output_type": "stream",
     "text": [
      "Estamos en la página https://skinsort.com/products/products-for-sensitive-skin/page/55\n"
     ]
    },
    {
     "data": {
      "application/vnd.jupyter.widget-view+json": {
       "model_id": "d3759352ead04231952af19c1d0e0a9d",
       "version_major": 2,
       "version_minor": 0
      },
      "text/plain": [
       "Obteniendo productos:   0%|          | 0/1 [00:00<?, ?it/s]"
      ]
     },
     "metadata": {},
     "output_type": "display_data"
    },
    {
     "name": "stdout",
     "output_type": "stream",
     "text": [
      "Estamos en la página https://skinsort.com/products/products-for-sensitive-skin/page/55\n"
     ]
    },
    {
     "data": {
      "application/vnd.jupyter.widget-view+json": {
       "model_id": "a1126f6b9e9b4386981824005138723f",
       "version_major": 2,
       "version_minor": 0
      },
      "text/plain": [
       "Obteniendo productos:   0%|          | 0/1 [00:00<?, ?it/s]"
      ]
     },
     "metadata": {},
     "output_type": "display_data"
    },
    {
     "name": "stdout",
     "output_type": "stream",
     "text": [
      "Estamos en la página https://skinsort.com/products/products-for-sensitive-skin/page/55\n"
     ]
    },
    {
     "data": {
      "application/vnd.jupyter.widget-view+json": {
       "model_id": "e9b5643dcd594a49baca4da105fec4bc",
       "version_major": 2,
       "version_minor": 0
      },
      "text/plain": [
       "Obteniendo productos:   0%|          | 0/1 [00:00<?, ?it/s]"
      ]
     },
     "metadata": {},
     "output_type": "display_data"
    },
    {
     "name": "stdout",
     "output_type": "stream",
     "text": [
      "Estamos en la página https://skinsort.com/products/products-for-sensitive-skin/page/56\n"
     ]
    },
    {
     "data": {
      "application/vnd.jupyter.widget-view+json": {
       "model_id": "092cc71ebffb40859cdbf33eee8a800a",
       "version_major": 2,
       "version_minor": 0
      },
      "text/plain": [
       "Obteniendo productos:   0%|          | 0/1 [00:00<?, ?it/s]"
      ]
     },
     "metadata": {},
     "output_type": "display_data"
    },
    {
     "name": "stdout",
     "output_type": "stream",
     "text": [
      "Estamos en la página https://skinsort.com/products/products-for-sensitive-skin/page/56\n"
     ]
    },
    {
     "data": {
      "application/vnd.jupyter.widget-view+json": {
       "model_id": "84f96e459b6a47f49b62d796c89cb600",
       "version_major": 2,
       "version_minor": 0
      },
      "text/plain": [
       "Obteniendo productos:   0%|          | 0/1 [00:00<?, ?it/s]"
      ]
     },
     "metadata": {},
     "output_type": "display_data"
    },
    {
     "name": "stdout",
     "output_type": "stream",
     "text": [
      "Estamos en la página https://skinsort.com/products/products-for-sensitive-skin/page/56\n"
     ]
    },
    {
     "data": {
      "application/vnd.jupyter.widget-view+json": {
       "model_id": "20b465a95718428a8354f3380fe69e8f",
       "version_major": 2,
       "version_minor": 0
      },
      "text/plain": [
       "Obteniendo productos:   0%|          | 0/1 [00:00<?, ?it/s]"
      ]
     },
     "metadata": {},
     "output_type": "display_data"
    },
    {
     "name": "stdout",
     "output_type": "stream",
     "text": [
      "Estamos en la página https://skinsort.com/products/products-for-sensitive-skin/page/57\n"
     ]
    },
    {
     "data": {
      "application/vnd.jupyter.widget-view+json": {
       "model_id": "22d521d9f84448b7b5eda19a676991fc",
       "version_major": 2,
       "version_minor": 0
      },
      "text/plain": [
       "Obteniendo productos:   0%|          | 0/1 [00:00<?, ?it/s]"
      ]
     },
     "metadata": {},
     "output_type": "display_data"
    },
    {
     "name": "stdout",
     "output_type": "stream",
     "text": [
      "Estamos en la página https://skinsort.com/products/products-for-sensitive-skin/page/57\n"
     ]
    },
    {
     "data": {
      "application/vnd.jupyter.widget-view+json": {
       "model_id": "ef0b6e7577944deba05d5cb0cadccac9",
       "version_major": 2,
       "version_minor": 0
      },
      "text/plain": [
       "Obteniendo productos:   0%|          | 0/1 [00:00<?, ?it/s]"
      ]
     },
     "metadata": {},
     "output_type": "display_data"
    },
    {
     "name": "stdout",
     "output_type": "stream",
     "text": [
      "Estamos en la página https://skinsort.com/products/products-for-sensitive-skin/page/57\n"
     ]
    },
    {
     "data": {
      "application/vnd.jupyter.widget-view+json": {
       "model_id": "b7efe17b33a34d50981c24296a501f55",
       "version_major": 2,
       "version_minor": 0
      },
      "text/plain": [
       "Obteniendo productos:   0%|          | 0/1 [00:00<?, ?it/s]"
      ]
     },
     "metadata": {},
     "output_type": "display_data"
    },
    {
     "name": "stdout",
     "output_type": "stream",
     "text": [
      "Estamos en la página https://skinsort.com/products/products-for-sensitive-skin/page/58\n"
     ]
    },
    {
     "data": {
      "application/vnd.jupyter.widget-view+json": {
       "model_id": "9c79ce07670246e9939f816ea31f861a",
       "version_major": 2,
       "version_minor": 0
      },
      "text/plain": [
       "Obteniendo productos:   0%|          | 0/1 [00:00<?, ?it/s]"
      ]
     },
     "metadata": {},
     "output_type": "display_data"
    },
    {
     "name": "stdout",
     "output_type": "stream",
     "text": [
      "Estamos en la página https://skinsort.com/products/products-for-sensitive-skin/page/58\n"
     ]
    },
    {
     "data": {
      "application/vnd.jupyter.widget-view+json": {
       "model_id": "5d3423f5312b467bb55aa877b3928dcc",
       "version_major": 2,
       "version_minor": 0
      },
      "text/plain": [
       "Obteniendo productos:   0%|          | 0/1 [00:00<?, ?it/s]"
      ]
     },
     "metadata": {},
     "output_type": "display_data"
    },
    {
     "name": "stdout",
     "output_type": "stream",
     "text": [
      "Estamos en la página https://skinsort.com/products/products-for-sensitive-skin/page/58\n"
     ]
    },
    {
     "data": {
      "application/vnd.jupyter.widget-view+json": {
       "model_id": "4fd45c34833f4c269e17b47f42099cde",
       "version_major": 2,
       "version_minor": 0
      },
      "text/plain": [
       "Obteniendo productos:   0%|          | 0/1 [00:00<?, ?it/s]"
      ]
     },
     "metadata": {},
     "output_type": "display_data"
    },
    {
     "name": "stdout",
     "output_type": "stream",
     "text": [
      "Estamos en la página https://skinsort.com/products/products-for-sensitive-skin/page/59\n"
     ]
    },
    {
     "data": {
      "application/vnd.jupyter.widget-view+json": {
       "model_id": "32d41f3cab5c44a88a32ed8feaa82b6f",
       "version_major": 2,
       "version_minor": 0
      },
      "text/plain": [
       "Obteniendo productos:   0%|          | 0/1 [00:00<?, ?it/s]"
      ]
     },
     "metadata": {},
     "output_type": "display_data"
    },
    {
     "name": "stdout",
     "output_type": "stream",
     "text": [
      "Estamos en la página https://skinsort.com/products/products-for-sensitive-skin/page/59\n"
     ]
    },
    {
     "data": {
      "application/vnd.jupyter.widget-view+json": {
       "model_id": "5475df8296694d349b1b2248d2c19a93",
       "version_major": 2,
       "version_minor": 0
      },
      "text/plain": [
       "Obteniendo productos:   0%|          | 0/1 [00:00<?, ?it/s]"
      ]
     },
     "metadata": {},
     "output_type": "display_data"
    },
    {
     "name": "stdout",
     "output_type": "stream",
     "text": [
      "Estamos en la página https://skinsort.com/products/products-for-sensitive-skin/page/59\n"
     ]
    },
    {
     "data": {
      "application/vnd.jupyter.widget-view+json": {
       "model_id": "0691dbc351ba41f89399ccae5852af4f",
       "version_major": 2,
       "version_minor": 0
      },
      "text/plain": [
       "Obteniendo productos:   0%|          | 0/1 [00:00<?, ?it/s]"
      ]
     },
     "metadata": {},
     "output_type": "display_data"
    },
    {
     "name": "stdout",
     "output_type": "stream",
     "text": [
      "Estamos en la página https://skinsort.com/products/products-for-sensitive-skin/page/60\n"
     ]
    },
    {
     "data": {
      "application/vnd.jupyter.widget-view+json": {
       "model_id": "ff89f8db96b544d0bd11e7fb78b71894",
       "version_major": 2,
       "version_minor": 0
      },
      "text/plain": [
       "Obteniendo productos:   0%|          | 0/1 [00:00<?, ?it/s]"
      ]
     },
     "metadata": {},
     "output_type": "display_data"
    },
    {
     "name": "stdout",
     "output_type": "stream",
     "text": [
      "Estamos en la página https://skinsort.com/products/products-for-sensitive-skin/page/60\n"
     ]
    },
    {
     "data": {
      "application/vnd.jupyter.widget-view+json": {
       "model_id": "ff5760e97f51457e951f9f88d727d093",
       "version_major": 2,
       "version_minor": 0
      },
      "text/plain": [
       "Obteniendo productos:   0%|          | 0/1 [00:00<?, ?it/s]"
      ]
     },
     "metadata": {},
     "output_type": "display_data"
    },
    {
     "name": "stdout",
     "output_type": "stream",
     "text": [
      "Estamos en la página https://skinsort.com/products/products-for-sensitive-skin/page/60\n",
      "Error al obtener los datos.\n"
     ]
    },
    {
     "data": {
      "application/vnd.jupyter.widget-view+json": {
       "model_id": "c6d9d17ea7d04a11937ad546dda50e11",
       "version_major": 2,
       "version_minor": 0
      },
      "text/plain": [
       "Obteniendo productos:   0%|          | 0/1 [00:00<?, ?it/s]"
      ]
     },
     "metadata": {},
     "output_type": "display_data"
    },
    {
     "name": "stdout",
     "output_type": "stream",
     "text": [
      "Estamos en la página https://skinsort.com/products/products-for-sensitive-skin/page/62\n"
     ]
    },
    {
     "data": {
      "application/vnd.jupyter.widget-view+json": {
       "model_id": "1e8f27ab8a3846398630c4225d6d4399",
       "version_major": 2,
       "version_minor": 0
      },
      "text/plain": [
       "Obteniendo productos:   0%|          | 0/1 [00:00<?, ?it/s]"
      ]
     },
     "metadata": {},
     "output_type": "display_data"
    },
    {
     "name": "stdout",
     "output_type": "stream",
     "text": [
      "Estamos en la página https://skinsort.com/products/products-for-sensitive-skin/page/62\n"
     ]
    },
    {
     "data": {
      "application/vnd.jupyter.widget-view+json": {
       "model_id": "cc835b2cfdf044ed91b223167591f22e",
       "version_major": 2,
       "version_minor": 0
      },
      "text/plain": [
       "Obteniendo productos:   0%|          | 0/1 [00:00<?, ?it/s]"
      ]
     },
     "metadata": {},
     "output_type": "display_data"
    },
    {
     "name": "stdout",
     "output_type": "stream",
     "text": [
      "Estamos en la página https://skinsort.com/products/products-for-sensitive-skin/page/62\n"
     ]
    },
    {
     "data": {
      "application/vnd.jupyter.widget-view+json": {
       "model_id": "631f6ad8dc1c4add93fb636b58cb0739",
       "version_major": 2,
       "version_minor": 0
      },
      "text/plain": [
       "Obteniendo productos:   0%|          | 0/1 [00:00<?, ?it/s]"
      ]
     },
     "metadata": {},
     "output_type": "display_data"
    },
    {
     "name": "stdout",
     "output_type": "stream",
     "text": [
      "Estamos en la página https://skinsort.com/products/products-for-sensitive-skin/page/63\n"
     ]
    },
    {
     "data": {
      "application/vnd.jupyter.widget-view+json": {
       "model_id": "bee954f9e1d9485795b32a0394e3fb52",
       "version_major": 2,
       "version_minor": 0
      },
      "text/plain": [
       "Obteniendo productos:   0%|          | 0/1 [00:00<?, ?it/s]"
      ]
     },
     "metadata": {},
     "output_type": "display_data"
    },
    {
     "name": "stdout",
     "output_type": "stream",
     "text": [
      "Estamos en la página https://skinsort.com/products/products-for-sensitive-skin/page/63\n"
     ]
    },
    {
     "data": {
      "application/vnd.jupyter.widget-view+json": {
       "model_id": "92f5aae10f8c432295ec0bc3ddd71bf7",
       "version_major": 2,
       "version_minor": 0
      },
      "text/plain": [
       "Obteniendo productos:   0%|          | 0/1 [00:00<?, ?it/s]"
      ]
     },
     "metadata": {},
     "output_type": "display_data"
    },
    {
     "name": "stdout",
     "output_type": "stream",
     "text": [
      "Estamos en la página https://skinsort.com/products/products-for-sensitive-skin/page/63\n"
     ]
    },
    {
     "data": {
      "application/vnd.jupyter.widget-view+json": {
       "model_id": "20654e52ef734db9b6e659c1a0783665",
       "version_major": 2,
       "version_minor": 0
      },
      "text/plain": [
       "Obteniendo productos:   0%|          | 0/1 [00:00<?, ?it/s]"
      ]
     },
     "metadata": {},
     "output_type": "display_data"
    },
    {
     "name": "stdout",
     "output_type": "stream",
     "text": [
      "Estamos en la página https://skinsort.com/products/products-for-sensitive-skin/page/64\n"
     ]
    },
    {
     "data": {
      "application/vnd.jupyter.widget-view+json": {
       "model_id": "0941a6f9548d46bfb64caaca90c2a3e5",
       "version_major": 2,
       "version_minor": 0
      },
      "text/plain": [
       "Obteniendo productos:   0%|          | 0/1 [00:00<?, ?it/s]"
      ]
     },
     "metadata": {},
     "output_type": "display_data"
    },
    {
     "name": "stdout",
     "output_type": "stream",
     "text": [
      "Estamos en la página https://skinsort.com/products/products-for-sensitive-skin/page/64\n"
     ]
    },
    {
     "data": {
      "application/vnd.jupyter.widget-view+json": {
       "model_id": "fd36f3374ba74cd7a2fffab5b11cf8e9",
       "version_major": 2,
       "version_minor": 0
      },
      "text/plain": [
       "Obteniendo productos:   0%|          | 0/1 [00:00<?, ?it/s]"
      ]
     },
     "metadata": {},
     "output_type": "display_data"
    },
    {
     "name": "stdout",
     "output_type": "stream",
     "text": [
      "Estamos en la página https://skinsort.com/products/products-for-sensitive-skin/page/64\n"
     ]
    },
    {
     "data": {
      "application/vnd.jupyter.widget-view+json": {
       "model_id": "96261cc9493d4574800f697652a3fda1",
       "version_major": 2,
       "version_minor": 0
      },
      "text/plain": [
       "Obteniendo productos:   0%|          | 0/1 [00:00<?, ?it/s]"
      ]
     },
     "metadata": {},
     "output_type": "display_data"
    },
    {
     "name": "stdout",
     "output_type": "stream",
     "text": [
      "Estamos en la página https://skinsort.com/products/products-for-sensitive-skin/page/65\n"
     ]
    },
    {
     "data": {
      "application/vnd.jupyter.widget-view+json": {
       "model_id": "d6b7d398397743c6904f1f641f8e2ff2",
       "version_major": 2,
       "version_minor": 0
      },
      "text/plain": [
       "Obteniendo productos:   0%|          | 0/1 [00:00<?, ?it/s]"
      ]
     },
     "metadata": {},
     "output_type": "display_data"
    },
    {
     "name": "stdout",
     "output_type": "stream",
     "text": [
      "Estamos en la página https://skinsort.com/products/products-for-sensitive-skin/page/65\n"
     ]
    },
    {
     "data": {
      "application/vnd.jupyter.widget-view+json": {
       "model_id": "25bc0a4e6fd24d89afd06edc5fdadb2e",
       "version_major": 2,
       "version_minor": 0
      },
      "text/plain": [
       "Obteniendo productos:   0%|          | 0/1 [00:00<?, ?it/s]"
      ]
     },
     "metadata": {},
     "output_type": "display_data"
    },
    {
     "name": "stdout",
     "output_type": "stream",
     "text": [
      "Estamos en la página https://skinsort.com/products/products-for-sensitive-skin/page/65\n"
     ]
    },
    {
     "data": {
      "application/vnd.jupyter.widget-view+json": {
       "model_id": "f7a19675fb9848e59bbac826a77f51cc",
       "version_major": 2,
       "version_minor": 0
      },
      "text/plain": [
       "Obteniendo productos:   0%|          | 0/1 [00:00<?, ?it/s]"
      ]
     },
     "metadata": {},
     "output_type": "display_data"
    },
    {
     "name": "stdout",
     "output_type": "stream",
     "text": [
      "Estamos en la página https://skinsort.com/products/products-for-sensitive-skin/page/66\n"
     ]
    },
    {
     "data": {
      "application/vnd.jupyter.widget-view+json": {
       "model_id": "ebf34663e16847ec8564a3deb4b14556",
       "version_major": 2,
       "version_minor": 0
      },
      "text/plain": [
       "Obteniendo productos:   0%|          | 0/1 [00:00<?, ?it/s]"
      ]
     },
     "metadata": {},
     "output_type": "display_data"
    },
    {
     "name": "stdout",
     "output_type": "stream",
     "text": [
      "Estamos en la página https://skinsort.com/products/products-for-sensitive-skin/page/66\n"
     ]
    },
    {
     "data": {
      "application/vnd.jupyter.widget-view+json": {
       "model_id": "f7d4bd7e6bdb4f04bd4e37be862fa5cf",
       "version_major": 2,
       "version_minor": 0
      },
      "text/plain": [
       "Obteniendo productos:   0%|          | 0/1 [00:00<?, ?it/s]"
      ]
     },
     "metadata": {},
     "output_type": "display_data"
    },
    {
     "name": "stdout",
     "output_type": "stream",
     "text": [
      "Estamos en la página https://skinsort.com/products/products-for-sensitive-skin/page/66\n"
     ]
    },
    {
     "data": {
      "application/vnd.jupyter.widget-view+json": {
       "model_id": "2958abdb8cce42f28411cd97a99e9862",
       "version_major": 2,
       "version_minor": 0
      },
      "text/plain": [
       "Obteniendo productos:   0%|          | 0/1 [00:00<?, ?it/s]"
      ]
     },
     "metadata": {},
     "output_type": "display_data"
    },
    {
     "name": "stdout",
     "output_type": "stream",
     "text": [
      "Estamos en la página https://skinsort.com/products/products-for-sensitive-skin/page/67\n"
     ]
    },
    {
     "data": {
      "application/vnd.jupyter.widget-view+json": {
       "model_id": "4febe2d0738643a99b6b44e6179dec92",
       "version_major": 2,
       "version_minor": 0
      },
      "text/plain": [
       "Obteniendo productos:   0%|          | 0/1 [00:00<?, ?it/s]"
      ]
     },
     "metadata": {},
     "output_type": "display_data"
    },
    {
     "name": "stdout",
     "output_type": "stream",
     "text": [
      "Estamos en la página https://skinsort.com/products/products-for-sensitive-skin/page/67\n"
     ]
    },
    {
     "data": {
      "application/vnd.jupyter.widget-view+json": {
       "model_id": "a78e0ea8b25845c0922758e7e0aaa1e1",
       "version_major": 2,
       "version_minor": 0
      },
      "text/plain": [
       "Obteniendo productos:   0%|          | 0/1 [00:00<?, ?it/s]"
      ]
     },
     "metadata": {},
     "output_type": "display_data"
    },
    {
     "name": "stdout",
     "output_type": "stream",
     "text": [
      "Estamos en la página https://skinsort.com/products/products-for-sensitive-skin/page/67\n"
     ]
    },
    {
     "data": {
      "application/vnd.jupyter.widget-view+json": {
       "model_id": "72d89aa28ce14111a04dd93bbe29d4aa",
       "version_major": 2,
       "version_minor": 0
      },
      "text/plain": [
       "Obteniendo productos:   0%|          | 0/1 [00:00<?, ?it/s]"
      ]
     },
     "metadata": {},
     "output_type": "display_data"
    },
    {
     "name": "stdout",
     "output_type": "stream",
     "text": [
      "Estamos en la página https://skinsort.com/products/products-for-sensitive-skin/page/68\n"
     ]
    },
    {
     "data": {
      "application/vnd.jupyter.widget-view+json": {
       "model_id": "199e842ec43e4f21a774cd5772376690",
       "version_major": 2,
       "version_minor": 0
      },
      "text/plain": [
       "Obteniendo productos:   0%|          | 0/1 [00:00<?, ?it/s]"
      ]
     },
     "metadata": {},
     "output_type": "display_data"
    },
    {
     "name": "stdout",
     "output_type": "stream",
     "text": [
      "Estamos en la página https://skinsort.com/products/products-for-sensitive-skin/page/68\n"
     ]
    },
    {
     "data": {
      "application/vnd.jupyter.widget-view+json": {
       "model_id": "ca6242e8a34c4a3fac26cc2179e4ecaf",
       "version_major": 2,
       "version_minor": 0
      },
      "text/plain": [
       "Obteniendo productos:   0%|          | 0/1 [00:00<?, ?it/s]"
      ]
     },
     "metadata": {},
     "output_type": "display_data"
    },
    {
     "name": "stdout",
     "output_type": "stream",
     "text": [
      "Estamos en la página https://skinsort.com/products/products-for-sensitive-skin/page/68\n"
     ]
    },
    {
     "data": {
      "application/vnd.jupyter.widget-view+json": {
       "model_id": "7e3e1434e7184d22aec1129b76e62995",
       "version_major": 2,
       "version_minor": 0
      },
      "text/plain": [
       "Obteniendo productos:   0%|          | 0/1 [00:00<?, ?it/s]"
      ]
     },
     "metadata": {},
     "output_type": "display_data"
    },
    {
     "name": "stdout",
     "output_type": "stream",
     "text": [
      "Estamos en la página https://skinsort.com/products/products-for-sensitive-skin/page/69\n"
     ]
    },
    {
     "data": {
      "application/vnd.jupyter.widget-view+json": {
       "model_id": "492bc0a217594d28af182a0eb4b1001e",
       "version_major": 2,
       "version_minor": 0
      },
      "text/plain": [
       "Obteniendo productos:   0%|          | 0/1 [00:00<?, ?it/s]"
      ]
     },
     "metadata": {},
     "output_type": "display_data"
    },
    {
     "name": "stdout",
     "output_type": "stream",
     "text": [
      "Estamos en la página https://skinsort.com/products/products-for-sensitive-skin/page/69\n"
     ]
    },
    {
     "data": {
      "application/vnd.jupyter.widget-view+json": {
       "model_id": "0c2f41bda9b54a34919e9d8ff0493e2c",
       "version_major": 2,
       "version_minor": 0
      },
      "text/plain": [
       "Obteniendo productos:   0%|          | 0/1 [00:00<?, ?it/s]"
      ]
     },
     "metadata": {},
     "output_type": "display_data"
    },
    {
     "name": "stdout",
     "output_type": "stream",
     "text": [
      "Estamos en la página https://skinsort.com/products/products-for-sensitive-skin/page/69\n"
     ]
    },
    {
     "data": {
      "application/vnd.jupyter.widget-view+json": {
       "model_id": "ab810051584d4048af6b3f299e802769",
       "version_major": 2,
       "version_minor": 0
      },
      "text/plain": [
       "Obteniendo productos:   0%|          | 0/1 [00:00<?, ?it/s]"
      ]
     },
     "metadata": {},
     "output_type": "display_data"
    },
    {
     "name": "stdout",
     "output_type": "stream",
     "text": [
      "Estamos en la página https://skinsort.com/products/products-for-sensitive-skin/page/70\n"
     ]
    },
    {
     "data": {
      "application/vnd.jupyter.widget-view+json": {
       "model_id": "64d453fa8169435591254960902a8d21",
       "version_major": 2,
       "version_minor": 0
      },
      "text/plain": [
       "Obteniendo productos:   0%|          | 0/1 [00:00<?, ?it/s]"
      ]
     },
     "metadata": {},
     "output_type": "display_data"
    },
    {
     "name": "stdout",
     "output_type": "stream",
     "text": [
      "Estamos en la página https://skinsort.com/products/products-for-sensitive-skin/page/70\n"
     ]
    },
    {
     "data": {
      "application/vnd.jupyter.widget-view+json": {
       "model_id": "010986942ea84e13b5cc60416ebb3e8d",
       "version_major": 2,
       "version_minor": 0
      },
      "text/plain": [
       "Obteniendo productos:   0%|          | 0/1 [00:00<?, ?it/s]"
      ]
     },
     "metadata": {},
     "output_type": "display_data"
    },
    {
     "name": "stdout",
     "output_type": "stream",
     "text": [
      "Estamos en la página https://skinsort.com/products/products-for-sensitive-skin/page/70\n"
     ]
    },
    {
     "data": {
      "application/vnd.jupyter.widget-view+json": {
       "model_id": "df134af6820d4496940ea73a96d5a5f1",
       "version_major": 2,
       "version_minor": 0
      },
      "text/plain": [
       "Obteniendo productos:   0%|          | 0/1 [00:00<?, ?it/s]"
      ]
     },
     "metadata": {},
     "output_type": "display_data"
    },
    {
     "name": "stdout",
     "output_type": "stream",
     "text": [
      "Estamos en la página https://skinsort.com/products/products-for-sensitive-skin/page/71\n"
     ]
    },
    {
     "data": {
      "application/vnd.jupyter.widget-view+json": {
       "model_id": "4482e8f6ee1643a2b9dccb158e660a56",
       "version_major": 2,
       "version_minor": 0
      },
      "text/plain": [
       "Obteniendo productos:   0%|          | 0/1 [00:00<?, ?it/s]"
      ]
     },
     "metadata": {},
     "output_type": "display_data"
    },
    {
     "name": "stdout",
     "output_type": "stream",
     "text": [
      "Estamos en la página https://skinsort.com/products/products-for-sensitive-skin/page/71\n"
     ]
    },
    {
     "data": {
      "application/vnd.jupyter.widget-view+json": {
       "model_id": "d2569d9c11a34c8ab06c4984a0737dac",
       "version_major": 2,
       "version_minor": 0
      },
      "text/plain": [
       "Obteniendo productos:   0%|          | 0/1 [00:00<?, ?it/s]"
      ]
     },
     "metadata": {},
     "output_type": "display_data"
    },
    {
     "name": "stdout",
     "output_type": "stream",
     "text": [
      "Estamos en la página https://skinsort.com/products/products-for-sensitive-skin/page/71\n"
     ]
    },
    {
     "data": {
      "application/vnd.jupyter.widget-view+json": {
       "model_id": "2386cf5d15cf470cbadc57bf6f0866da",
       "version_major": 2,
       "version_minor": 0
      },
      "text/plain": [
       "Obteniendo productos:   0%|          | 0/1 [00:00<?, ?it/s]"
      ]
     },
     "metadata": {},
     "output_type": "display_data"
    },
    {
     "name": "stdout",
     "output_type": "stream",
     "text": [
      "Estamos en la página https://skinsort.com/products/products-for-sensitive-skin/page/72\n"
     ]
    },
    {
     "data": {
      "application/vnd.jupyter.widget-view+json": {
       "model_id": "4e443762f82f4d298d13d5c67451ea4e",
       "version_major": 2,
       "version_minor": 0
      },
      "text/plain": [
       "Obteniendo productos:   0%|          | 0/1 [00:00<?, ?it/s]"
      ]
     },
     "metadata": {},
     "output_type": "display_data"
    },
    {
     "name": "stdout",
     "output_type": "stream",
     "text": [
      "Estamos en la página https://skinsort.com/products/products-for-sensitive-skin/page/72\n"
     ]
    },
    {
     "data": {
      "application/vnd.jupyter.widget-view+json": {
       "model_id": "73f0a9e58dcc488d89050d3a78ebaee8",
       "version_major": 2,
       "version_minor": 0
      },
      "text/plain": [
       "Obteniendo productos:   0%|          | 0/1 [00:00<?, ?it/s]"
      ]
     },
     "metadata": {},
     "output_type": "display_data"
    },
    {
     "name": "stdout",
     "output_type": "stream",
     "text": [
      "Estamos en la página https://skinsort.com/products/products-for-sensitive-skin/page/72\n"
     ]
    },
    {
     "data": {
      "application/vnd.jupyter.widget-view+json": {
       "model_id": "f0e04c8a31c443469befeb1a4bec3774",
       "version_major": 2,
       "version_minor": 0
      },
      "text/plain": [
       "Obteniendo productos:   0%|          | 0/1 [00:00<?, ?it/s]"
      ]
     },
     "metadata": {},
     "output_type": "display_data"
    },
    {
     "name": "stdout",
     "output_type": "stream",
     "text": [
      "Estamos en la página https://skinsort.com/products/products-for-sensitive-skin/page/73\n"
     ]
    },
    {
     "data": {
      "application/vnd.jupyter.widget-view+json": {
       "model_id": "8227d2be8c5047d29fab7c32c94ebeb2",
       "version_major": 2,
       "version_minor": 0
      },
      "text/plain": [
       "Obteniendo productos:   0%|          | 0/1 [00:00<?, ?it/s]"
      ]
     },
     "metadata": {},
     "output_type": "display_data"
    },
    {
     "name": "stdout",
     "output_type": "stream",
     "text": [
      "Estamos en la página https://skinsort.com/products/products-for-sensitive-skin/page/73\n"
     ]
    },
    {
     "data": {
      "application/vnd.jupyter.widget-view+json": {
       "model_id": "2eda128b142e4445ae461f876ae742ed",
       "version_major": 2,
       "version_minor": 0
      },
      "text/plain": [
       "Obteniendo productos:   0%|          | 0/1 [00:00<?, ?it/s]"
      ]
     },
     "metadata": {},
     "output_type": "display_data"
    },
    {
     "name": "stdout",
     "output_type": "stream",
     "text": [
      "Estamos en la página https://skinsort.com/products/products-for-sensitive-skin/page/73\n"
     ]
    },
    {
     "data": {
      "application/vnd.jupyter.widget-view+json": {
       "model_id": "4400614f9ab6434b99804323b033245c",
       "version_major": 2,
       "version_minor": 0
      },
      "text/plain": [
       "Obteniendo productos:   0%|          | 0/1 [00:00<?, ?it/s]"
      ]
     },
     "metadata": {},
     "output_type": "display_data"
    },
    {
     "name": "stdout",
     "output_type": "stream",
     "text": [
      "Estamos en la página https://skinsort.com/products/products-for-sensitive-skin/page/74\n"
     ]
    },
    {
     "data": {
      "application/vnd.jupyter.widget-view+json": {
       "model_id": "e9f01372d2804e8eb3c277d43aa78189",
       "version_major": 2,
       "version_minor": 0
      },
      "text/plain": [
       "Obteniendo productos:   0%|          | 0/1 [00:00<?, ?it/s]"
      ]
     },
     "metadata": {},
     "output_type": "display_data"
    },
    {
     "name": "stdout",
     "output_type": "stream",
     "text": [
      "Estamos en la página https://skinsort.com/products/products-for-sensitive-skin/page/74\n"
     ]
    },
    {
     "data": {
      "application/vnd.jupyter.widget-view+json": {
       "model_id": "cbd7daad5f20402fad3d429ef736ed65",
       "version_major": 2,
       "version_minor": 0
      },
      "text/plain": [
       "Obteniendo productos:   0%|          | 0/1 [00:00<?, ?it/s]"
      ]
     },
     "metadata": {},
     "output_type": "display_data"
    },
    {
     "name": "stdout",
     "output_type": "stream",
     "text": [
      "Estamos en la página https://skinsort.com/products/products-for-sensitive-skin/page/74\n"
     ]
    },
    {
     "data": {
      "application/vnd.jupyter.widget-view+json": {
       "model_id": "d5fa8f9721924bbdb5040a2005d718a3",
       "version_major": 2,
       "version_minor": 0
      },
      "text/plain": [
       "Obteniendo productos:   0%|          | 0/1 [00:00<?, ?it/s]"
      ]
     },
     "metadata": {},
     "output_type": "display_data"
    },
    {
     "name": "stdout",
     "output_type": "stream",
     "text": [
      "Estamos en la página https://skinsort.com/products/products-for-sensitive-skin/page/75\n"
     ]
    },
    {
     "data": {
      "application/vnd.jupyter.widget-view+json": {
       "model_id": "bbb907bda0c4437989490f971ce613ac",
       "version_major": 2,
       "version_minor": 0
      },
      "text/plain": [
       "Obteniendo productos:   0%|          | 0/1 [00:00<?, ?it/s]"
      ]
     },
     "metadata": {},
     "output_type": "display_data"
    },
    {
     "name": "stdout",
     "output_type": "stream",
     "text": [
      "Estamos en la página https://skinsort.com/products/products-for-sensitive-skin/page/75\n"
     ]
    },
    {
     "data": {
      "application/vnd.jupyter.widget-view+json": {
       "model_id": "e3c4b727ff4741edaf14084eb235e374",
       "version_major": 2,
       "version_minor": 0
      },
      "text/plain": [
       "Obteniendo productos:   0%|          | 0/1 [00:00<?, ?it/s]"
      ]
     },
     "metadata": {},
     "output_type": "display_data"
    },
    {
     "name": "stdout",
     "output_type": "stream",
     "text": [
      "Estamos en la página https://skinsort.com/products/products-for-sensitive-skin/page/75\n",
      "Error al obtener los datos.\n"
     ]
    },
    {
     "data": {
      "application/vnd.jupyter.widget-view+json": {
       "model_id": "e96004cb6a704b26a96327e22e7fe73e",
       "version_major": 2,
       "version_minor": 0
      },
      "text/plain": [
       "Obteniendo productos:   0%|          | 0/1 [00:00<?, ?it/s]"
      ]
     },
     "metadata": {},
     "output_type": "display_data"
    },
    {
     "name": "stdout",
     "output_type": "stream",
     "text": [
      "Estamos en la página https://skinsort.com/products/products-for-sensitive-skin/page/77\n"
     ]
    },
    {
     "data": {
      "application/vnd.jupyter.widget-view+json": {
       "model_id": "ac961956d6ce4fa3916810fbe0b419af",
       "version_major": 2,
       "version_minor": 0
      },
      "text/plain": [
       "Obteniendo productos:   0%|          | 0/1 [00:00<?, ?it/s]"
      ]
     },
     "metadata": {},
     "output_type": "display_data"
    },
    {
     "name": "stdout",
     "output_type": "stream",
     "text": [
      "Estamos en la página https://skinsort.com/products/products-for-sensitive-skin/page/77\n"
     ]
    },
    {
     "data": {
      "application/vnd.jupyter.widget-view+json": {
       "model_id": "af01f84423eb45fcba5a7beff4de5c06",
       "version_major": 2,
       "version_minor": 0
      },
      "text/plain": [
       "Obteniendo productos:   0%|          | 0/1 [00:00<?, ?it/s]"
      ]
     },
     "metadata": {},
     "output_type": "display_data"
    },
    {
     "name": "stdout",
     "output_type": "stream",
     "text": [
      "Estamos en la página https://skinsort.com/products/products-for-sensitive-skin/page/77\n"
     ]
    },
    {
     "data": {
      "application/vnd.jupyter.widget-view+json": {
       "model_id": "7869825654a54ded82f719be4d9a5599",
       "version_major": 2,
       "version_minor": 0
      },
      "text/plain": [
       "Obteniendo productos:   0%|          | 0/1 [00:00<?, ?it/s]"
      ]
     },
     "metadata": {},
     "output_type": "display_data"
    },
    {
     "name": "stdout",
     "output_type": "stream",
     "text": [
      "Estamos en la página https://skinsort.com/products/products-for-sensitive-skin/page/78\n"
     ]
    },
    {
     "data": {
      "application/vnd.jupyter.widget-view+json": {
       "model_id": "6654f0e8fbbe429ea90978b708dae95d",
       "version_major": 2,
       "version_minor": 0
      },
      "text/plain": [
       "Obteniendo productos:   0%|          | 0/1 [00:00<?, ?it/s]"
      ]
     },
     "metadata": {},
     "output_type": "display_data"
    },
    {
     "name": "stdout",
     "output_type": "stream",
     "text": [
      "Estamos en la página https://skinsort.com/products/products-for-sensitive-skin/page/78\n"
     ]
    },
    {
     "data": {
      "application/vnd.jupyter.widget-view+json": {
       "model_id": "ab970867aee24e5e9062e39cfb4e95cb",
       "version_major": 2,
       "version_minor": 0
      },
      "text/plain": [
       "Obteniendo productos:   0%|          | 0/1 [00:00<?, ?it/s]"
      ]
     },
     "metadata": {},
     "output_type": "display_data"
    },
    {
     "name": "stdout",
     "output_type": "stream",
     "text": [
      "Estamos en la página https://skinsort.com/products/products-for-sensitive-skin/page/78\n"
     ]
    },
    {
     "data": {
      "application/vnd.jupyter.widget-view+json": {
       "model_id": "3a08aa82476c46f39801b774f19e34d3",
       "version_major": 2,
       "version_minor": 0
      },
      "text/plain": [
       "Obteniendo productos:   0%|          | 0/1 [00:00<?, ?it/s]"
      ]
     },
     "metadata": {},
     "output_type": "display_data"
    },
    {
     "name": "stdout",
     "output_type": "stream",
     "text": [
      "Estamos en la página https://skinsort.com/products/products-for-sensitive-skin/page/79\n"
     ]
    },
    {
     "data": {
      "application/vnd.jupyter.widget-view+json": {
       "model_id": "a0c6324a680a415dad30ba0e059dd859",
       "version_major": 2,
       "version_minor": 0
      },
      "text/plain": [
       "Obteniendo productos:   0%|          | 0/1 [00:00<?, ?it/s]"
      ]
     },
     "metadata": {},
     "output_type": "display_data"
    },
    {
     "name": "stdout",
     "output_type": "stream",
     "text": [
      "Estamos en la página https://skinsort.com/products/products-for-sensitive-skin/page/79\n"
     ]
    },
    {
     "data": {
      "application/vnd.jupyter.widget-view+json": {
       "model_id": "9517c80c80e04641bbba02d2f0845889",
       "version_major": 2,
       "version_minor": 0
      },
      "text/plain": [
       "Obteniendo productos:   0%|          | 0/1 [00:00<?, ?it/s]"
      ]
     },
     "metadata": {},
     "output_type": "display_data"
    },
    {
     "name": "stdout",
     "output_type": "stream",
     "text": [
      "Estamos en la página https://skinsort.com/products/products-for-sensitive-skin/page/79\n"
     ]
    },
    {
     "data": {
      "application/vnd.jupyter.widget-view+json": {
       "model_id": "d3ce23a4b3d947ff888817cfb774379d",
       "version_major": 2,
       "version_minor": 0
      },
      "text/plain": [
       "Obteniendo productos:   0%|          | 0/1 [00:00<?, ?it/s]"
      ]
     },
     "metadata": {},
     "output_type": "display_data"
    },
    {
     "name": "stdout",
     "output_type": "stream",
     "text": [
      "Estamos en la página https://skinsort.com/products/products-for-sensitive-skin/page/80\n"
     ]
    },
    {
     "data": {
      "application/vnd.jupyter.widget-view+json": {
       "model_id": "e0dd5b8dee7048f59f6ba5d30aa11b73",
       "version_major": 2,
       "version_minor": 0
      },
      "text/plain": [
       "Obteniendo productos:   0%|          | 0/1 [00:00<?, ?it/s]"
      ]
     },
     "metadata": {},
     "output_type": "display_data"
    },
    {
     "name": "stdout",
     "output_type": "stream",
     "text": [
      "Estamos en la página https://skinsort.com/products/products-for-sensitive-skin/page/80\n"
     ]
    },
    {
     "data": {
      "application/vnd.jupyter.widget-view+json": {
       "model_id": "9502cfdefb7a4d15ad9853ff4e8127be",
       "version_major": 2,
       "version_minor": 0
      },
      "text/plain": [
       "Obteniendo productos:   0%|          | 0/1 [00:00<?, ?it/s]"
      ]
     },
     "metadata": {},
     "output_type": "display_data"
    },
    {
     "name": "stdout",
     "output_type": "stream",
     "text": [
      "Estamos en la página https://skinsort.com/products/products-for-sensitive-skin/page/80\n"
     ]
    }
   ],
   "source": [
    "sens = {}\n",
    "for i in range(1, 81):\n",
    "    url = f'https://skinsort.com/products/products-for-sensitive-skin/page/{i}'\n",
    "    data = scrap(url)\n",
    "    sens[i] = data"
   ]
  },
  {
   "cell_type": "code",
   "execution_count": 95,
   "id": "dcf8526e",
   "metadata": {},
   "outputs": [
    {
     "name": "stderr",
     "output_type": "stream",
     "text": [
      "2023-03-09 21:55:40,137 [88601] WARNING  py.warnings:109: [JupyterRequire] /tmp/ipykernel_88601/3295202771.py:3: DeprecationWarning: executable_path has been deprecated, please pass in a Service object\n",
      "  driver = webdriver.Chrome(PATH)\n",
      "\n"
     ]
    },
    {
     "data": {
      "application/vnd.jupyter.widget-view+json": {
       "model_id": "0399ad0ccc7e4073b5cb477d3940fbbd",
       "version_major": 2,
       "version_minor": 0
      },
      "text/plain": [
       "Obteniendo productos:   0%|          | 0/1 [00:00<?, ?it/s]"
      ]
     },
     "metadata": {},
     "output_type": "display_data"
    },
    {
     "name": "stdout",
     "output_type": "stream",
     "text": [
      "Estamos en la página https://skinsort.com/products/products-for-sensitive-skin/page/23\n"
     ]
    },
    {
     "data": {
      "application/vnd.jupyter.widget-view+json": {
       "model_id": "ca9373cce1bf43c69ca7783629c8e22f",
       "version_major": 2,
       "version_minor": 0
      },
      "text/plain": [
       "Obteniendo productos:   0%|          | 0/1 [00:00<?, ?it/s]"
      ]
     },
     "metadata": {},
     "output_type": "display_data"
    },
    {
     "name": "stdout",
     "output_type": "stream",
     "text": [
      "Estamos en la página https://skinsort.com/products/products-for-sensitive-skin/page/23\n"
     ]
    },
    {
     "data": {
      "application/vnd.jupyter.widget-view+json": {
       "model_id": "a727e20f470443f3b11701efd7d798ae",
       "version_major": 2,
       "version_minor": 0
      },
      "text/plain": [
       "Obteniendo productos:   0%|          | 0/1 [00:00<?, ?it/s]"
      ]
     },
     "metadata": {},
     "output_type": "display_data"
    },
    {
     "name": "stdout",
     "output_type": "stream",
     "text": [
      "Estamos en la página https://skinsort.com/products/products-for-sensitive-skin/page/23\n",
      "Error al obtener los datos.\n"
     ]
    },
    {
     "data": {
      "application/vnd.jupyter.widget-view+json": {
       "model_id": "4f4ea0b1e6bc456c83b591d0e741db01",
       "version_major": 2,
       "version_minor": 0
      },
      "text/plain": [
       "Obteniendo productos:   0%|          | 0/1 [00:00<?, ?it/s]"
      ]
     },
     "metadata": {},
     "output_type": "display_data"
    },
    {
     "name": "stdout",
     "output_type": "stream",
     "text": [
      "Estamos en la página https://skinsort.com/products/products-for-sensitive-skin/page/76\n"
     ]
    },
    {
     "data": {
      "application/vnd.jupyter.widget-view+json": {
       "model_id": "fd48a5d2f5824958985781417c76b7b5",
       "version_major": 2,
       "version_minor": 0
      },
      "text/plain": [
       "Obteniendo productos:   0%|          | 0/1 [00:00<?, ?it/s]"
      ]
     },
     "metadata": {},
     "output_type": "display_data"
    },
    {
     "name": "stdout",
     "output_type": "stream",
     "text": [
      "Estamos en la página https://skinsort.com/products/products-for-sensitive-skin/page/76\n"
     ]
    },
    {
     "data": {
      "application/vnd.jupyter.widget-view+json": {
       "model_id": "0e216bfd892148baa1943147c630708d",
       "version_major": 2,
       "version_minor": 0
      },
      "text/plain": [
       "Obteniendo productos:   0%|          | 0/1 [00:00<?, ?it/s]"
      ]
     },
     "metadata": {},
     "output_type": "display_data"
    },
    {
     "name": "stdout",
     "output_type": "stream",
     "text": [
      "Estamos en la página https://skinsort.com/products/products-for-sensitive-skin/page/76\n"
     ]
    }
   ],
   "source": [
    "sens[23] = scrap('https://skinsort.com/products/products-for-sensitive-skin/page/23')\n",
    "sens[61] = scrap('https://skinsort.com/products/products-for-sensitive-skin/page/61')\n",
    "sens[76] = scrap('https://skinsort.com/products/products-for-sensitive-skin/page/76')"
   ]
  },
  {
   "cell_type": "code",
   "execution_count": 96,
   "id": "b5cc6202",
   "metadata": {},
   "outputs": [
    {
     "name": "stderr",
     "output_type": "stream",
     "text": [
      "2023-03-09 21:56:27,914 [88601] WARNING  py.warnings:109: [JupyterRequire] /tmp/ipykernel_88601/3295202771.py:3: DeprecationWarning: executable_path has been deprecated, please pass in a Service object\n",
      "  driver = webdriver.Chrome(PATH)\n",
      "\n"
     ]
    },
    {
     "data": {
      "application/vnd.jupyter.widget-view+json": {
       "model_id": "5d6459d5590d47f495a5d83869c68c04",
       "version_major": 2,
       "version_minor": 0
      },
      "text/plain": [
       "Obteniendo productos:   0%|          | 0/1 [00:00<?, ?it/s]"
      ]
     },
     "metadata": {},
     "output_type": "display_data"
    },
    {
     "name": "stdout",
     "output_type": "stream",
     "text": [
      "Estamos en la página https://skinsort.com/products/products-for-sensitive-skin/page/61\n"
     ]
    },
    {
     "data": {
      "application/vnd.jupyter.widget-view+json": {
       "model_id": "fe4396a0d5dc49b1a6398329df16e193",
       "version_major": 2,
       "version_minor": 0
      },
      "text/plain": [
       "Obteniendo productos:   0%|          | 0/1 [00:00<?, ?it/s]"
      ]
     },
     "metadata": {},
     "output_type": "display_data"
    },
    {
     "name": "stdout",
     "output_type": "stream",
     "text": [
      "Estamos en la página https://skinsort.com/products/products-for-sensitive-skin/page/61\n"
     ]
    },
    {
     "data": {
      "application/vnd.jupyter.widget-view+json": {
       "model_id": "297a93d5950240d5ab3173f5e2f0ccb9",
       "version_major": 2,
       "version_minor": 0
      },
      "text/plain": [
       "Obteniendo productos:   0%|          | 0/1 [00:00<?, ?it/s]"
      ]
     },
     "metadata": {},
     "output_type": "display_data"
    },
    {
     "name": "stdout",
     "output_type": "stream",
     "text": [
      "Estamos en la página https://skinsort.com/products/products-for-sensitive-skin/page/61\n"
     ]
    }
   ],
   "source": [
    "sens[61] = scrap('https://skinsort.com/products/products-for-sensitive-skin/page/61')"
   ]
  },
  {
   "cell_type": "code",
   "execution_count": 97,
   "id": "c11e6c6d",
   "metadata": {},
   "outputs": [],
   "source": [
    "import json\n",
    "\n",
    "with open('sens.json', 'w') as file:\n",
    "    json.dump(sens, file)"
   ]
  },
  {
   "cell_type": "markdown",
   "id": "ac1e4606",
   "metadata": {},
   "source": [
    "## TEXTURE"
   ]
  },
  {
   "cell_type": "code",
   "execution_count": 98,
   "id": "39767493",
   "metadata": {},
   "outputs": [
    {
     "name": "stderr",
     "output_type": "stream",
     "text": [
      "2023-03-09 22:00:04,876 [88601] WARNING  py.warnings:109: [JupyterRequire] /tmp/ipykernel_88601/3295202771.py:3: DeprecationWarning: executable_path has been deprecated, please pass in a Service object\n",
      "  driver = webdriver.Chrome(PATH)\n",
      "\n"
     ]
    },
    {
     "data": {
      "application/vnd.jupyter.widget-view+json": {
       "model_id": "52312c07eaa942f8846e352e94f641c8",
       "version_major": 2,
       "version_minor": 0
      },
      "text/plain": [
       "Obteniendo productos:   0%|          | 0/1 [00:00<?, ?it/s]"
      ]
     },
     "metadata": {},
     "output_type": "display_data"
    },
    {
     "name": "stdout",
     "output_type": "stream",
     "text": [
      "Estamos en la página https://skinsort.com/products/products-for-better-texture/page/1\n"
     ]
    },
    {
     "data": {
      "application/vnd.jupyter.widget-view+json": {
       "model_id": "8ee7a243697841ba97aa00a2c8432950",
       "version_major": 2,
       "version_minor": 0
      },
      "text/plain": [
       "Obteniendo productos:   0%|          | 0/1 [00:00<?, ?it/s]"
      ]
     },
     "metadata": {},
     "output_type": "display_data"
    },
    {
     "name": "stdout",
     "output_type": "stream",
     "text": [
      "Estamos en la página https://skinsort.com/products/products-for-better-texture/page/1\n"
     ]
    },
    {
     "data": {
      "application/vnd.jupyter.widget-view+json": {
       "model_id": "bfc1b9ae420845b2bfcc3224809fee02",
       "version_major": 2,
       "version_minor": 0
      },
      "text/plain": [
       "Obteniendo productos:   0%|          | 0/1 [00:00<?, ?it/s]"
      ]
     },
     "metadata": {},
     "output_type": "display_data"
    },
    {
     "name": "stdout",
     "output_type": "stream",
     "text": [
      "Estamos en la página https://skinsort.com/products/products-for-better-texture/page/1\n"
     ]
    },
    {
     "data": {
      "application/vnd.jupyter.widget-view+json": {
       "model_id": "dc7efdd1bf08433baf6fa17be65311ff",
       "version_major": 2,
       "version_minor": 0
      },
      "text/plain": [
       "Obteniendo productos:   0%|          | 0/1 [00:00<?, ?it/s]"
      ]
     },
     "metadata": {},
     "output_type": "display_data"
    },
    {
     "name": "stdout",
     "output_type": "stream",
     "text": [
      "Estamos en la página https://skinsort.com/products/products-for-better-texture/page/2\n"
     ]
    },
    {
     "data": {
      "application/vnd.jupyter.widget-view+json": {
       "model_id": "2a524e8601ae413687ee504cd492d0e4",
       "version_major": 2,
       "version_minor": 0
      },
      "text/plain": [
       "Obteniendo productos:   0%|          | 0/1 [00:00<?, ?it/s]"
      ]
     },
     "metadata": {},
     "output_type": "display_data"
    },
    {
     "name": "stdout",
     "output_type": "stream",
     "text": [
      "Estamos en la página https://skinsort.com/products/products-for-better-texture/page/2\n"
     ]
    },
    {
     "data": {
      "application/vnd.jupyter.widget-view+json": {
       "model_id": "648827a1cfe1448fb7a6cf525b75817c",
       "version_major": 2,
       "version_minor": 0
      },
      "text/plain": [
       "Obteniendo productos:   0%|          | 0/1 [00:00<?, ?it/s]"
      ]
     },
     "metadata": {},
     "output_type": "display_data"
    },
    {
     "name": "stdout",
     "output_type": "stream",
     "text": [
      "Estamos en la página https://skinsort.com/products/products-for-better-texture/page/2\n"
     ]
    },
    {
     "data": {
      "application/vnd.jupyter.widget-view+json": {
       "model_id": "6278ae7e1d4043e391d1250079056cd9",
       "version_major": 2,
       "version_minor": 0
      },
      "text/plain": [
       "Obteniendo productos:   0%|          | 0/1 [00:00<?, ?it/s]"
      ]
     },
     "metadata": {},
     "output_type": "display_data"
    },
    {
     "name": "stdout",
     "output_type": "stream",
     "text": [
      "Estamos en la página https://skinsort.com/products/products-for-better-texture/page/3\n"
     ]
    },
    {
     "data": {
      "application/vnd.jupyter.widget-view+json": {
       "model_id": "97f57f5158f34f17bb9c06a3dd37c9f6",
       "version_major": 2,
       "version_minor": 0
      },
      "text/plain": [
       "Obteniendo productos:   0%|          | 0/1 [00:00<?, ?it/s]"
      ]
     },
     "metadata": {},
     "output_type": "display_data"
    },
    {
     "name": "stdout",
     "output_type": "stream",
     "text": [
      "Estamos en la página https://skinsort.com/products/products-for-better-texture/page/3\n"
     ]
    },
    {
     "data": {
      "application/vnd.jupyter.widget-view+json": {
       "model_id": "02d4d49cdcb74505a4e146abb1b2cb16",
       "version_major": 2,
       "version_minor": 0
      },
      "text/plain": [
       "Obteniendo productos:   0%|          | 0/1 [00:00<?, ?it/s]"
      ]
     },
     "metadata": {},
     "output_type": "display_data"
    },
    {
     "name": "stdout",
     "output_type": "stream",
     "text": [
      "Estamos en la página https://skinsort.com/products/products-for-better-texture/page/3\n"
     ]
    },
    {
     "data": {
      "application/vnd.jupyter.widget-view+json": {
       "model_id": "aeff4b815bf8489294535233d232086e",
       "version_major": 2,
       "version_minor": 0
      },
      "text/plain": [
       "Obteniendo productos:   0%|          | 0/1 [00:00<?, ?it/s]"
      ]
     },
     "metadata": {},
     "output_type": "display_data"
    },
    {
     "name": "stdout",
     "output_type": "stream",
     "text": [
      "Estamos en la página https://skinsort.com/products/products-for-better-texture/page/4\n"
     ]
    },
    {
     "data": {
      "application/vnd.jupyter.widget-view+json": {
       "model_id": "b3956c85c8c84f858395fde979108460",
       "version_major": 2,
       "version_minor": 0
      },
      "text/plain": [
       "Obteniendo productos:   0%|          | 0/1 [00:00<?, ?it/s]"
      ]
     },
     "metadata": {},
     "output_type": "display_data"
    },
    {
     "name": "stdout",
     "output_type": "stream",
     "text": [
      "Estamos en la página https://skinsort.com/products/products-for-better-texture/page/4\n"
     ]
    },
    {
     "data": {
      "application/vnd.jupyter.widget-view+json": {
       "model_id": "02633e60e6984dc8b5ea19ebcc7aac6e",
       "version_major": 2,
       "version_minor": 0
      },
      "text/plain": [
       "Obteniendo productos:   0%|          | 0/1 [00:00<?, ?it/s]"
      ]
     },
     "metadata": {},
     "output_type": "display_data"
    },
    {
     "name": "stdout",
     "output_type": "stream",
     "text": [
      "Estamos en la página https://skinsort.com/products/products-for-better-texture/page/4\n"
     ]
    },
    {
     "data": {
      "application/vnd.jupyter.widget-view+json": {
       "model_id": "7c4fa37bcd544616b66f98d5cd1c1e0b",
       "version_major": 2,
       "version_minor": 0
      },
      "text/plain": [
       "Obteniendo productos:   0%|          | 0/1 [00:00<?, ?it/s]"
      ]
     },
     "metadata": {},
     "output_type": "display_data"
    },
    {
     "name": "stdout",
     "output_type": "stream",
     "text": [
      "Estamos en la página https://skinsort.com/products/products-for-better-texture/page/5\n"
     ]
    },
    {
     "data": {
      "application/vnd.jupyter.widget-view+json": {
       "model_id": "e114232dd17b4f1183fbcdecdd325d04",
       "version_major": 2,
       "version_minor": 0
      },
      "text/plain": [
       "Obteniendo productos:   0%|          | 0/1 [00:00<?, ?it/s]"
      ]
     },
     "metadata": {},
     "output_type": "display_data"
    },
    {
     "name": "stdout",
     "output_type": "stream",
     "text": [
      "Estamos en la página https://skinsort.com/products/products-for-better-texture/page/5\n"
     ]
    },
    {
     "data": {
      "application/vnd.jupyter.widget-view+json": {
       "model_id": "d813cc452539440d8b6fb23d551feb0a",
       "version_major": 2,
       "version_minor": 0
      },
      "text/plain": [
       "Obteniendo productos:   0%|          | 0/1 [00:00<?, ?it/s]"
      ]
     },
     "metadata": {},
     "output_type": "display_data"
    },
    {
     "name": "stdout",
     "output_type": "stream",
     "text": [
      "Estamos en la página https://skinsort.com/products/products-for-better-texture/page/5\n",
      "Error al obtener los datos.\n",
      "Error al obtener los datos.\n"
     ]
    },
    {
     "data": {
      "application/vnd.jupyter.widget-view+json": {
       "model_id": "2062664ab43d43029d7b05c5cf258f9d",
       "version_major": 2,
       "version_minor": 0
      },
      "text/plain": [
       "Obteniendo productos:   0%|          | 0/1 [00:00<?, ?it/s]"
      ]
     },
     "metadata": {},
     "output_type": "display_data"
    },
    {
     "name": "stdout",
     "output_type": "stream",
     "text": [
      "Estamos en la página https://skinsort.com/products/products-for-better-texture/page/8\n"
     ]
    },
    {
     "data": {
      "application/vnd.jupyter.widget-view+json": {
       "model_id": "3168c5a7efdd4179bb4e136708188978",
       "version_major": 2,
       "version_minor": 0
      },
      "text/plain": [
       "Obteniendo productos:   0%|          | 0/1 [00:00<?, ?it/s]"
      ]
     },
     "metadata": {},
     "output_type": "display_data"
    },
    {
     "name": "stdout",
     "output_type": "stream",
     "text": [
      "Estamos en la página https://skinsort.com/products/products-for-better-texture/page/8\n"
     ]
    },
    {
     "data": {
      "application/vnd.jupyter.widget-view+json": {
       "model_id": "16ebd74861504ee6b6b96dda093097e0",
       "version_major": 2,
       "version_minor": 0
      },
      "text/plain": [
       "Obteniendo productos:   0%|          | 0/1 [00:00<?, ?it/s]"
      ]
     },
     "metadata": {},
     "output_type": "display_data"
    },
    {
     "name": "stdout",
     "output_type": "stream",
     "text": [
      "Estamos en la página https://skinsort.com/products/products-for-better-texture/page/8\n"
     ]
    },
    {
     "data": {
      "application/vnd.jupyter.widget-view+json": {
       "model_id": "7a34dfba467d40339746220281cab19e",
       "version_major": 2,
       "version_minor": 0
      },
      "text/plain": [
       "Obteniendo productos:   0%|          | 0/1 [00:00<?, ?it/s]"
      ]
     },
     "metadata": {},
     "output_type": "display_data"
    },
    {
     "name": "stdout",
     "output_type": "stream",
     "text": [
      "Estamos en la página https://skinsort.com/products/products-for-better-texture/page/9\n"
     ]
    },
    {
     "data": {
      "application/vnd.jupyter.widget-view+json": {
       "model_id": "fe6df642a30b4635b28e5e057a10ec58",
       "version_major": 2,
       "version_minor": 0
      },
      "text/plain": [
       "Obteniendo productos:   0%|          | 0/1 [00:00<?, ?it/s]"
      ]
     },
     "metadata": {},
     "output_type": "display_data"
    },
    {
     "name": "stdout",
     "output_type": "stream",
     "text": [
      "Estamos en la página https://skinsort.com/products/products-for-better-texture/page/9\n"
     ]
    },
    {
     "data": {
      "application/vnd.jupyter.widget-view+json": {
       "model_id": "6fd9eab9d25844db8b8d3573b5acb282",
       "version_major": 2,
       "version_minor": 0
      },
      "text/plain": [
       "Obteniendo productos:   0%|          | 0/1 [00:00<?, ?it/s]"
      ]
     },
     "metadata": {},
     "output_type": "display_data"
    },
    {
     "name": "stdout",
     "output_type": "stream",
     "text": [
      "Estamos en la página https://skinsort.com/products/products-for-better-texture/page/9\n"
     ]
    },
    {
     "data": {
      "application/vnd.jupyter.widget-view+json": {
       "model_id": "acf5d4e0c10548468c39569f7b85431d",
       "version_major": 2,
       "version_minor": 0
      },
      "text/plain": [
       "Obteniendo productos:   0%|          | 0/1 [00:00<?, ?it/s]"
      ]
     },
     "metadata": {},
     "output_type": "display_data"
    },
    {
     "name": "stdout",
     "output_type": "stream",
     "text": [
      "Estamos en la página https://skinsort.com/products/products-for-better-texture/page/10\n"
     ]
    },
    {
     "data": {
      "application/vnd.jupyter.widget-view+json": {
       "model_id": "c2b43981a11c4ac8ad05ba17f45a28fb",
       "version_major": 2,
       "version_minor": 0
      },
      "text/plain": [
       "Obteniendo productos:   0%|          | 0/1 [00:00<?, ?it/s]"
      ]
     },
     "metadata": {},
     "output_type": "display_data"
    },
    {
     "name": "stdout",
     "output_type": "stream",
     "text": [
      "Estamos en la página https://skinsort.com/products/products-for-better-texture/page/10\n"
     ]
    },
    {
     "data": {
      "application/vnd.jupyter.widget-view+json": {
       "model_id": "88e01941e3424fc5aef18ad038c7104f",
       "version_major": 2,
       "version_minor": 0
      },
      "text/plain": [
       "Obteniendo productos:   0%|          | 0/1 [00:00<?, ?it/s]"
      ]
     },
     "metadata": {},
     "output_type": "display_data"
    },
    {
     "name": "stdout",
     "output_type": "stream",
     "text": [
      "Estamos en la página https://skinsort.com/products/products-for-better-texture/page/10\n"
     ]
    },
    {
     "data": {
      "application/vnd.jupyter.widget-view+json": {
       "model_id": "a2e476bf111c40cba65e7c03cd554ae1",
       "version_major": 2,
       "version_minor": 0
      },
      "text/plain": [
       "Obteniendo productos:   0%|          | 0/1 [00:00<?, ?it/s]"
      ]
     },
     "metadata": {},
     "output_type": "display_data"
    },
    {
     "name": "stdout",
     "output_type": "stream",
     "text": [
      "Estamos en la página https://skinsort.com/products/products-for-better-texture/page/11\n"
     ]
    },
    {
     "data": {
      "application/vnd.jupyter.widget-view+json": {
       "model_id": "b94abbea47b5457e960a3fbade8dd827",
       "version_major": 2,
       "version_minor": 0
      },
      "text/plain": [
       "Obteniendo productos:   0%|          | 0/1 [00:00<?, ?it/s]"
      ]
     },
     "metadata": {},
     "output_type": "display_data"
    },
    {
     "name": "stdout",
     "output_type": "stream",
     "text": [
      "Estamos en la página https://skinsort.com/products/products-for-better-texture/page/11\n"
     ]
    },
    {
     "data": {
      "application/vnd.jupyter.widget-view+json": {
       "model_id": "bbbf01ee67504e328177104bc02424f9",
       "version_major": 2,
       "version_minor": 0
      },
      "text/plain": [
       "Obteniendo productos:   0%|          | 0/1 [00:00<?, ?it/s]"
      ]
     },
     "metadata": {},
     "output_type": "display_data"
    },
    {
     "name": "stdout",
     "output_type": "stream",
     "text": [
      "Estamos en la página https://skinsort.com/products/products-for-better-texture/page/11\n"
     ]
    },
    {
     "data": {
      "application/vnd.jupyter.widget-view+json": {
       "model_id": "987156dbb9b8414d82c5ff8dce2cb6cc",
       "version_major": 2,
       "version_minor": 0
      },
      "text/plain": [
       "Obteniendo productos:   0%|          | 0/1 [00:00<?, ?it/s]"
      ]
     },
     "metadata": {},
     "output_type": "display_data"
    },
    {
     "name": "stdout",
     "output_type": "stream",
     "text": [
      "Estamos en la página https://skinsort.com/products/products-for-better-texture/page/12\n"
     ]
    },
    {
     "data": {
      "application/vnd.jupyter.widget-view+json": {
       "model_id": "5db0063e66d54a828e21d7310ba98cf5",
       "version_major": 2,
       "version_minor": 0
      },
      "text/plain": [
       "Obteniendo productos:   0%|          | 0/1 [00:00<?, ?it/s]"
      ]
     },
     "metadata": {},
     "output_type": "display_data"
    },
    {
     "name": "stdout",
     "output_type": "stream",
     "text": [
      "Estamos en la página https://skinsort.com/products/products-for-better-texture/page/12\n"
     ]
    },
    {
     "data": {
      "application/vnd.jupyter.widget-view+json": {
       "model_id": "d7e1e680f8004dca85b5661b7e679196",
       "version_major": 2,
       "version_minor": 0
      },
      "text/plain": [
       "Obteniendo productos:   0%|          | 0/1 [00:00<?, ?it/s]"
      ]
     },
     "metadata": {},
     "output_type": "display_data"
    },
    {
     "name": "stdout",
     "output_type": "stream",
     "text": [
      "Estamos en la página https://skinsort.com/products/products-for-better-texture/page/12\n"
     ]
    },
    {
     "data": {
      "application/vnd.jupyter.widget-view+json": {
       "model_id": "af0bb486ea31416d981aa550321ce2e6",
       "version_major": 2,
       "version_minor": 0
      },
      "text/plain": [
       "Obteniendo productos:   0%|          | 0/1 [00:00<?, ?it/s]"
      ]
     },
     "metadata": {},
     "output_type": "display_data"
    },
    {
     "name": "stdout",
     "output_type": "stream",
     "text": [
      "Estamos en la página https://skinsort.com/products/products-for-better-texture/page/13\n"
     ]
    },
    {
     "data": {
      "application/vnd.jupyter.widget-view+json": {
       "model_id": "daa93ce3e9174fd68dcf8487a0e10a61",
       "version_major": 2,
       "version_minor": 0
      },
      "text/plain": [
       "Obteniendo productos:   0%|          | 0/1 [00:00<?, ?it/s]"
      ]
     },
     "metadata": {},
     "output_type": "display_data"
    },
    {
     "name": "stdout",
     "output_type": "stream",
     "text": [
      "Estamos en la página https://skinsort.com/products/products-for-better-texture/page/13\n"
     ]
    },
    {
     "data": {
      "application/vnd.jupyter.widget-view+json": {
       "model_id": "73d9d100a7384c6ea5a0b0068919aa3e",
       "version_major": 2,
       "version_minor": 0
      },
      "text/plain": [
       "Obteniendo productos:   0%|          | 0/1 [00:00<?, ?it/s]"
      ]
     },
     "metadata": {},
     "output_type": "display_data"
    },
    {
     "name": "stdout",
     "output_type": "stream",
     "text": [
      "Estamos en la página https://skinsort.com/products/products-for-better-texture/page/13\n"
     ]
    },
    {
     "data": {
      "application/vnd.jupyter.widget-view+json": {
       "model_id": "63055c95dfa2448b91556be64d232cc1",
       "version_major": 2,
       "version_minor": 0
      },
      "text/plain": [
       "Obteniendo productos:   0%|          | 0/1 [00:00<?, ?it/s]"
      ]
     },
     "metadata": {},
     "output_type": "display_data"
    },
    {
     "name": "stdout",
     "output_type": "stream",
     "text": [
      "Estamos en la página https://skinsort.com/products/products-for-better-texture/page/14\n"
     ]
    },
    {
     "data": {
      "application/vnd.jupyter.widget-view+json": {
       "model_id": "3798fe3e453b431d8ee2532018f988e5",
       "version_major": 2,
       "version_minor": 0
      },
      "text/plain": [
       "Obteniendo productos:   0%|          | 0/1 [00:00<?, ?it/s]"
      ]
     },
     "metadata": {},
     "output_type": "display_data"
    },
    {
     "name": "stdout",
     "output_type": "stream",
     "text": [
      "Estamos en la página https://skinsort.com/products/products-for-better-texture/page/14\n"
     ]
    },
    {
     "data": {
      "application/vnd.jupyter.widget-view+json": {
       "model_id": "f039fae408cd44ccbefcce996537bfff",
       "version_major": 2,
       "version_minor": 0
      },
      "text/plain": [
       "Obteniendo productos:   0%|          | 0/1 [00:00<?, ?it/s]"
      ]
     },
     "metadata": {},
     "output_type": "display_data"
    },
    {
     "name": "stdout",
     "output_type": "stream",
     "text": [
      "Estamos en la página https://skinsort.com/products/products-for-better-texture/page/14\n"
     ]
    },
    {
     "data": {
      "application/vnd.jupyter.widget-view+json": {
       "model_id": "c25ac582969d4dbf854b89789791bc62",
       "version_major": 2,
       "version_minor": 0
      },
      "text/plain": [
       "Obteniendo productos:   0%|          | 0/1 [00:00<?, ?it/s]"
      ]
     },
     "metadata": {},
     "output_type": "display_data"
    },
    {
     "name": "stdout",
     "output_type": "stream",
     "text": [
      "Estamos en la página https://skinsort.com/products/products-for-better-texture/page/15\n"
     ]
    },
    {
     "data": {
      "application/vnd.jupyter.widget-view+json": {
       "model_id": "2a5e4f0aa88b4bb1983c888a17276c49",
       "version_major": 2,
       "version_minor": 0
      },
      "text/plain": [
       "Obteniendo productos:   0%|          | 0/1 [00:00<?, ?it/s]"
      ]
     },
     "metadata": {},
     "output_type": "display_data"
    },
    {
     "name": "stdout",
     "output_type": "stream",
     "text": [
      "Estamos en la página https://skinsort.com/products/products-for-better-texture/page/15\n"
     ]
    },
    {
     "data": {
      "application/vnd.jupyter.widget-view+json": {
       "model_id": "e5fdcc13a11649beaa6fd147b83d011e",
       "version_major": 2,
       "version_minor": 0
      },
      "text/plain": [
       "Obteniendo productos:   0%|          | 0/1 [00:00<?, ?it/s]"
      ]
     },
     "metadata": {},
     "output_type": "display_data"
    },
    {
     "name": "stdout",
     "output_type": "stream",
     "text": [
      "Estamos en la página https://skinsort.com/products/products-for-better-texture/page/15\n"
     ]
    },
    {
     "data": {
      "application/vnd.jupyter.widget-view+json": {
       "model_id": "f0fd11c7fb4947f5bb2478e575cd880f",
       "version_major": 2,
       "version_minor": 0
      },
      "text/plain": [
       "Obteniendo productos:   0%|          | 0/1 [00:00<?, ?it/s]"
      ]
     },
     "metadata": {},
     "output_type": "display_data"
    },
    {
     "name": "stdout",
     "output_type": "stream",
     "text": [
      "Estamos en la página https://skinsort.com/products/products-for-better-texture/page/16\n"
     ]
    },
    {
     "data": {
      "application/vnd.jupyter.widget-view+json": {
       "model_id": "4a8c921211f04a89bbd1a17172392ef7",
       "version_major": 2,
       "version_minor": 0
      },
      "text/plain": [
       "Obteniendo productos:   0%|          | 0/1 [00:00<?, ?it/s]"
      ]
     },
     "metadata": {},
     "output_type": "display_data"
    },
    {
     "name": "stdout",
     "output_type": "stream",
     "text": [
      "Estamos en la página https://skinsort.com/products/products-for-better-texture/page/16\n"
     ]
    },
    {
     "data": {
      "application/vnd.jupyter.widget-view+json": {
       "model_id": "b75207bfa6dd4a7086c4834e3555ee6b",
       "version_major": 2,
       "version_minor": 0
      },
      "text/plain": [
       "Obteniendo productos:   0%|          | 0/1 [00:00<?, ?it/s]"
      ]
     },
     "metadata": {},
     "output_type": "display_data"
    },
    {
     "name": "stdout",
     "output_type": "stream",
     "text": [
      "Estamos en la página https://skinsort.com/products/products-for-better-texture/page/16\n"
     ]
    },
    {
     "data": {
      "application/vnd.jupyter.widget-view+json": {
       "model_id": "de66c9c7de6843d49d19857de0703edc",
       "version_major": 2,
       "version_minor": 0
      },
      "text/plain": [
       "Obteniendo productos:   0%|          | 0/1 [00:00<?, ?it/s]"
      ]
     },
     "metadata": {},
     "output_type": "display_data"
    },
    {
     "name": "stdout",
     "output_type": "stream",
     "text": [
      "Estamos en la página https://skinsort.com/products/products-for-better-texture/page/17\n"
     ]
    },
    {
     "data": {
      "application/vnd.jupyter.widget-view+json": {
       "model_id": "a78399171f504151a5a808035b2597e6",
       "version_major": 2,
       "version_minor": 0
      },
      "text/plain": [
       "Obteniendo productos:   0%|          | 0/1 [00:00<?, ?it/s]"
      ]
     },
     "metadata": {},
     "output_type": "display_data"
    },
    {
     "name": "stdout",
     "output_type": "stream",
     "text": [
      "Estamos en la página https://skinsort.com/products/products-for-better-texture/page/17\n"
     ]
    },
    {
     "data": {
      "application/vnd.jupyter.widget-view+json": {
       "model_id": "8e437552c88a40eba40d9b8243172b65",
       "version_major": 2,
       "version_minor": 0
      },
      "text/plain": [
       "Obteniendo productos:   0%|          | 0/1 [00:00<?, ?it/s]"
      ]
     },
     "metadata": {},
     "output_type": "display_data"
    },
    {
     "name": "stdout",
     "output_type": "stream",
     "text": [
      "Estamos en la página https://skinsort.com/products/products-for-better-texture/page/17\n"
     ]
    },
    {
     "data": {
      "application/vnd.jupyter.widget-view+json": {
       "model_id": "5b94d89768f7447092f8bf1933dfa8ea",
       "version_major": 2,
       "version_minor": 0
      },
      "text/plain": [
       "Obteniendo productos:   0%|          | 0/1 [00:00<?, ?it/s]"
      ]
     },
     "metadata": {},
     "output_type": "display_data"
    },
    {
     "name": "stdout",
     "output_type": "stream",
     "text": [
      "Estamos en la página https://skinsort.com/products/products-for-better-texture/page/18\n"
     ]
    },
    {
     "data": {
      "application/vnd.jupyter.widget-view+json": {
       "model_id": "87387046345341e3ab4bd5b851317c73",
       "version_major": 2,
       "version_minor": 0
      },
      "text/plain": [
       "Obteniendo productos:   0%|          | 0/1 [00:00<?, ?it/s]"
      ]
     },
     "metadata": {},
     "output_type": "display_data"
    },
    {
     "name": "stdout",
     "output_type": "stream",
     "text": [
      "Estamos en la página https://skinsort.com/products/products-for-better-texture/page/18\n"
     ]
    },
    {
     "data": {
      "application/vnd.jupyter.widget-view+json": {
       "model_id": "768e28c082524172b2c8169ab7b5c964",
       "version_major": 2,
       "version_minor": 0
      },
      "text/plain": [
       "Obteniendo productos:   0%|          | 0/1 [00:00<?, ?it/s]"
      ]
     },
     "metadata": {},
     "output_type": "display_data"
    },
    {
     "name": "stdout",
     "output_type": "stream",
     "text": [
      "Estamos en la página https://skinsort.com/products/products-for-better-texture/page/18\n"
     ]
    },
    {
     "data": {
      "application/vnd.jupyter.widget-view+json": {
       "model_id": "d2593210fec844e3a246c1c57dc95fdc",
       "version_major": 2,
       "version_minor": 0
      },
      "text/plain": [
       "Obteniendo productos:   0%|          | 0/1 [00:00<?, ?it/s]"
      ]
     },
     "metadata": {},
     "output_type": "display_data"
    },
    {
     "name": "stdout",
     "output_type": "stream",
     "text": [
      "Estamos en la página https://skinsort.com/products/products-for-better-texture/page/19\n"
     ]
    },
    {
     "data": {
      "application/vnd.jupyter.widget-view+json": {
       "model_id": "af708ef70fed43b89de281e5e6955bbc",
       "version_major": 2,
       "version_minor": 0
      },
      "text/plain": [
       "Obteniendo productos:   0%|          | 0/1 [00:00<?, ?it/s]"
      ]
     },
     "metadata": {},
     "output_type": "display_data"
    },
    {
     "name": "stdout",
     "output_type": "stream",
     "text": [
      "Estamos en la página https://skinsort.com/products/products-for-better-texture/page/19\n"
     ]
    },
    {
     "data": {
      "application/vnd.jupyter.widget-view+json": {
       "model_id": "e13fb98d694d4ec9adc15c0fd3035e68",
       "version_major": 2,
       "version_minor": 0
      },
      "text/plain": [
       "Obteniendo productos:   0%|          | 0/1 [00:00<?, ?it/s]"
      ]
     },
     "metadata": {},
     "output_type": "display_data"
    },
    {
     "name": "stdout",
     "output_type": "stream",
     "text": [
      "Estamos en la página https://skinsort.com/products/products-for-better-texture/page/19\n"
     ]
    },
    {
     "data": {
      "application/vnd.jupyter.widget-view+json": {
       "model_id": "5efebdd2bfbf4d439cc0d540773164c6",
       "version_major": 2,
       "version_minor": 0
      },
      "text/plain": [
       "Obteniendo productos:   0%|          | 0/1 [00:00<?, ?it/s]"
      ]
     },
     "metadata": {},
     "output_type": "display_data"
    },
    {
     "name": "stdout",
     "output_type": "stream",
     "text": [
      "Estamos en la página https://skinsort.com/products/products-for-better-texture/page/20\n"
     ]
    },
    {
     "data": {
      "application/vnd.jupyter.widget-view+json": {
       "model_id": "fe8b8d16b8e94552aaa5c7e081531d10",
       "version_major": 2,
       "version_minor": 0
      },
      "text/plain": [
       "Obteniendo productos:   0%|          | 0/1 [00:00<?, ?it/s]"
      ]
     },
     "metadata": {},
     "output_type": "display_data"
    },
    {
     "name": "stdout",
     "output_type": "stream",
     "text": [
      "Estamos en la página https://skinsort.com/products/products-for-better-texture/page/20\n"
     ]
    },
    {
     "data": {
      "application/vnd.jupyter.widget-view+json": {
       "model_id": "fbff38c537ba4a8a97241f98f190a6ef",
       "version_major": 2,
       "version_minor": 0
      },
      "text/plain": [
       "Obteniendo productos:   0%|          | 0/1 [00:00<?, ?it/s]"
      ]
     },
     "metadata": {},
     "output_type": "display_data"
    },
    {
     "name": "stdout",
     "output_type": "stream",
     "text": [
      "Estamos en la página https://skinsort.com/products/products-for-better-texture/page/20\n"
     ]
    },
    {
     "data": {
      "application/vnd.jupyter.widget-view+json": {
       "model_id": "4a47f60299eb45358975e4b7db64db11",
       "version_major": 2,
       "version_minor": 0
      },
      "text/plain": [
       "Obteniendo productos:   0%|          | 0/1 [00:00<?, ?it/s]"
      ]
     },
     "metadata": {},
     "output_type": "display_data"
    },
    {
     "name": "stdout",
     "output_type": "stream",
     "text": [
      "Estamos en la página https://skinsort.com/products/products-for-better-texture/page/21\n"
     ]
    },
    {
     "data": {
      "application/vnd.jupyter.widget-view+json": {
       "model_id": "283a2fac89a24f498ec8e1fbcccf98ab",
       "version_major": 2,
       "version_minor": 0
      },
      "text/plain": [
       "Obteniendo productos:   0%|          | 0/1 [00:00<?, ?it/s]"
      ]
     },
     "metadata": {},
     "output_type": "display_data"
    },
    {
     "name": "stdout",
     "output_type": "stream",
     "text": [
      "Estamos en la página https://skinsort.com/products/products-for-better-texture/page/21\n"
     ]
    },
    {
     "data": {
      "application/vnd.jupyter.widget-view+json": {
       "model_id": "410453e3ea084643aa820a3c50abdf1f",
       "version_major": 2,
       "version_minor": 0
      },
      "text/plain": [
       "Obteniendo productos:   0%|          | 0/1 [00:00<?, ?it/s]"
      ]
     },
     "metadata": {},
     "output_type": "display_data"
    },
    {
     "name": "stdout",
     "output_type": "stream",
     "text": [
      "Estamos en la página https://skinsort.com/products/products-for-better-texture/page/21\n"
     ]
    },
    {
     "data": {
      "application/vnd.jupyter.widget-view+json": {
       "model_id": "6453610848124c62a2f9108a3923be0d",
       "version_major": 2,
       "version_minor": 0
      },
      "text/plain": [
       "Obteniendo productos:   0%|          | 0/1 [00:00<?, ?it/s]"
      ]
     },
     "metadata": {},
     "output_type": "display_data"
    },
    {
     "name": "stdout",
     "output_type": "stream",
     "text": [
      "Estamos en la página https://skinsort.com/products/products-for-better-texture/page/22\n"
     ]
    },
    {
     "data": {
      "application/vnd.jupyter.widget-view+json": {
       "model_id": "df1f77381b8b4e6e880327663326547b",
       "version_major": 2,
       "version_minor": 0
      },
      "text/plain": [
       "Obteniendo productos:   0%|          | 0/1 [00:00<?, ?it/s]"
      ]
     },
     "metadata": {},
     "output_type": "display_data"
    },
    {
     "name": "stdout",
     "output_type": "stream",
     "text": [
      "Estamos en la página https://skinsort.com/products/products-for-better-texture/page/22\n"
     ]
    },
    {
     "data": {
      "application/vnd.jupyter.widget-view+json": {
       "model_id": "91887d2ca75341fe94472a3d02b29173",
       "version_major": 2,
       "version_minor": 0
      },
      "text/plain": [
       "Obteniendo productos:   0%|          | 0/1 [00:00<?, ?it/s]"
      ]
     },
     "metadata": {},
     "output_type": "display_data"
    },
    {
     "name": "stdout",
     "output_type": "stream",
     "text": [
      "Estamos en la página https://skinsort.com/products/products-for-better-texture/page/22\n"
     ]
    },
    {
     "data": {
      "application/vnd.jupyter.widget-view+json": {
       "model_id": "192ed712f8564bb08797ad47986b65ce",
       "version_major": 2,
       "version_minor": 0
      },
      "text/plain": [
       "Obteniendo productos:   0%|          | 0/1 [00:00<?, ?it/s]"
      ]
     },
     "metadata": {},
     "output_type": "display_data"
    },
    {
     "name": "stdout",
     "output_type": "stream",
     "text": [
      "Estamos en la página https://skinsort.com/products/products-for-better-texture/page/23\n"
     ]
    },
    {
     "data": {
      "application/vnd.jupyter.widget-view+json": {
       "model_id": "8d9c476482734443bc1a1f001b13ccfe",
       "version_major": 2,
       "version_minor": 0
      },
      "text/plain": [
       "Obteniendo productos:   0%|          | 0/1 [00:00<?, ?it/s]"
      ]
     },
     "metadata": {},
     "output_type": "display_data"
    },
    {
     "name": "stdout",
     "output_type": "stream",
     "text": [
      "Estamos en la página https://skinsort.com/products/products-for-better-texture/page/23\n"
     ]
    },
    {
     "data": {
      "application/vnd.jupyter.widget-view+json": {
       "model_id": "ead4f7b4dec34c5b8d27c3aebdebf260",
       "version_major": 2,
       "version_minor": 0
      },
      "text/plain": [
       "Obteniendo productos:   0%|          | 0/1 [00:00<?, ?it/s]"
      ]
     },
     "metadata": {},
     "output_type": "display_data"
    },
    {
     "name": "stdout",
     "output_type": "stream",
     "text": [
      "Estamos en la página https://skinsort.com/products/products-for-better-texture/page/23\n"
     ]
    },
    {
     "data": {
      "application/vnd.jupyter.widget-view+json": {
       "model_id": "73f9ae5b53e14f1987b4a5f3eea0fae9",
       "version_major": 2,
       "version_minor": 0
      },
      "text/plain": [
       "Obteniendo productos:   0%|          | 0/1 [00:00<?, ?it/s]"
      ]
     },
     "metadata": {},
     "output_type": "display_data"
    },
    {
     "name": "stdout",
     "output_type": "stream",
     "text": [
      "Estamos en la página https://skinsort.com/products/products-for-better-texture/page/24\n"
     ]
    },
    {
     "data": {
      "application/vnd.jupyter.widget-view+json": {
       "model_id": "f3ab1cfacd704fd6be6d349c6be34534",
       "version_major": 2,
       "version_minor": 0
      },
      "text/plain": [
       "Obteniendo productos:   0%|          | 0/1 [00:00<?, ?it/s]"
      ]
     },
     "metadata": {},
     "output_type": "display_data"
    },
    {
     "name": "stdout",
     "output_type": "stream",
     "text": [
      "Estamos en la página https://skinsort.com/products/products-for-better-texture/page/24\n"
     ]
    },
    {
     "data": {
      "application/vnd.jupyter.widget-view+json": {
       "model_id": "6eea4db9820848198c5cde2de06e1218",
       "version_major": 2,
       "version_minor": 0
      },
      "text/plain": [
       "Obteniendo productos:   0%|          | 0/1 [00:00<?, ?it/s]"
      ]
     },
     "metadata": {},
     "output_type": "display_data"
    },
    {
     "name": "stdout",
     "output_type": "stream",
     "text": [
      "Estamos en la página https://skinsort.com/products/products-for-better-texture/page/24\n"
     ]
    },
    {
     "data": {
      "application/vnd.jupyter.widget-view+json": {
       "model_id": "b02714718a7d48c5b753a05eff38418c",
       "version_major": 2,
       "version_minor": 0
      },
      "text/plain": [
       "Obteniendo productos:   0%|          | 0/1 [00:00<?, ?it/s]"
      ]
     },
     "metadata": {},
     "output_type": "display_data"
    },
    {
     "name": "stdout",
     "output_type": "stream",
     "text": [
      "Estamos en la página https://skinsort.com/products/products-for-better-texture/page/25\n"
     ]
    },
    {
     "data": {
      "application/vnd.jupyter.widget-view+json": {
       "model_id": "09fc9b0e77a24dbe8fba294f4f19018f",
       "version_major": 2,
       "version_minor": 0
      },
      "text/plain": [
       "Obteniendo productos:   0%|          | 0/1 [00:00<?, ?it/s]"
      ]
     },
     "metadata": {},
     "output_type": "display_data"
    },
    {
     "name": "stdout",
     "output_type": "stream",
     "text": [
      "Estamos en la página https://skinsort.com/products/products-for-better-texture/page/25\n"
     ]
    },
    {
     "data": {
      "application/vnd.jupyter.widget-view+json": {
       "model_id": "b3a940c7bb324372bbdc09c2573feee3",
       "version_major": 2,
       "version_minor": 0
      },
      "text/plain": [
       "Obteniendo productos:   0%|          | 0/1 [00:00<?, ?it/s]"
      ]
     },
     "metadata": {},
     "output_type": "display_data"
    },
    {
     "name": "stdout",
     "output_type": "stream",
     "text": [
      "Estamos en la página https://skinsort.com/products/products-for-better-texture/page/25\n"
     ]
    },
    {
     "data": {
      "application/vnd.jupyter.widget-view+json": {
       "model_id": "1bb4e3d301d941d79e9470eac99c955c",
       "version_major": 2,
       "version_minor": 0
      },
      "text/plain": [
       "Obteniendo productos:   0%|          | 0/1 [00:00<?, ?it/s]"
      ]
     },
     "metadata": {},
     "output_type": "display_data"
    },
    {
     "name": "stdout",
     "output_type": "stream",
     "text": [
      "Estamos en la página https://skinsort.com/products/products-for-better-texture/page/26\n"
     ]
    },
    {
     "data": {
      "application/vnd.jupyter.widget-view+json": {
       "model_id": "3721bd1287934f02890b4eb56d3cb7a7",
       "version_major": 2,
       "version_minor": 0
      },
      "text/plain": [
       "Obteniendo productos:   0%|          | 0/1 [00:00<?, ?it/s]"
      ]
     },
     "metadata": {},
     "output_type": "display_data"
    },
    {
     "name": "stdout",
     "output_type": "stream",
     "text": [
      "Estamos en la página https://skinsort.com/products/products-for-better-texture/page/26\n"
     ]
    },
    {
     "data": {
      "application/vnd.jupyter.widget-view+json": {
       "model_id": "da73a9aa61404230a406b4d1e939db5c",
       "version_major": 2,
       "version_minor": 0
      },
      "text/plain": [
       "Obteniendo productos:   0%|          | 0/1 [00:00<?, ?it/s]"
      ]
     },
     "metadata": {},
     "output_type": "display_data"
    },
    {
     "name": "stdout",
     "output_type": "stream",
     "text": [
      "Estamos en la página https://skinsort.com/products/products-for-better-texture/page/26\n"
     ]
    },
    {
     "data": {
      "application/vnd.jupyter.widget-view+json": {
       "model_id": "594e7306348f47aaa540695316787e7d",
       "version_major": 2,
       "version_minor": 0
      },
      "text/plain": [
       "Obteniendo productos:   0%|          | 0/1 [00:00<?, ?it/s]"
      ]
     },
     "metadata": {},
     "output_type": "display_data"
    },
    {
     "name": "stdout",
     "output_type": "stream",
     "text": [
      "Estamos en la página https://skinsort.com/products/products-for-better-texture/page/27\n"
     ]
    },
    {
     "data": {
      "application/vnd.jupyter.widget-view+json": {
       "model_id": "db11e4653879486394f4b72c335eb544",
       "version_major": 2,
       "version_minor": 0
      },
      "text/plain": [
       "Obteniendo productos:   0%|          | 0/1 [00:00<?, ?it/s]"
      ]
     },
     "metadata": {},
     "output_type": "display_data"
    },
    {
     "name": "stdout",
     "output_type": "stream",
     "text": [
      "Estamos en la página https://skinsort.com/products/products-for-better-texture/page/27\n"
     ]
    },
    {
     "data": {
      "application/vnd.jupyter.widget-view+json": {
       "model_id": "e1faf0d2eb9a418a988a51f9b4b7b7b0",
       "version_major": 2,
       "version_minor": 0
      },
      "text/plain": [
       "Obteniendo productos:   0%|          | 0/1 [00:00<?, ?it/s]"
      ]
     },
     "metadata": {},
     "output_type": "display_data"
    },
    {
     "name": "stdout",
     "output_type": "stream",
     "text": [
      "Estamos en la página https://skinsort.com/products/products-for-better-texture/page/27\n"
     ]
    },
    {
     "data": {
      "application/vnd.jupyter.widget-view+json": {
       "model_id": "d9aad1104db048fba954f4e30c18bba5",
       "version_major": 2,
       "version_minor": 0
      },
      "text/plain": [
       "Obteniendo productos:   0%|          | 0/1 [00:00<?, ?it/s]"
      ]
     },
     "metadata": {},
     "output_type": "display_data"
    },
    {
     "name": "stdout",
     "output_type": "stream",
     "text": [
      "Estamos en la página https://skinsort.com/products/products-for-better-texture/page/28\n"
     ]
    },
    {
     "data": {
      "application/vnd.jupyter.widget-view+json": {
       "model_id": "27a535a5cc7b490eb7d915e4666f5a35",
       "version_major": 2,
       "version_minor": 0
      },
      "text/plain": [
       "Obteniendo productos:   0%|          | 0/1 [00:00<?, ?it/s]"
      ]
     },
     "metadata": {},
     "output_type": "display_data"
    },
    {
     "name": "stdout",
     "output_type": "stream",
     "text": [
      "Estamos en la página https://skinsort.com/products/products-for-better-texture/page/28\n"
     ]
    },
    {
     "data": {
      "application/vnd.jupyter.widget-view+json": {
       "model_id": "248add18bbf543da8eca72589ebd5173",
       "version_major": 2,
       "version_minor": 0
      },
      "text/plain": [
       "Obteniendo productos:   0%|          | 0/1 [00:00<?, ?it/s]"
      ]
     },
     "metadata": {},
     "output_type": "display_data"
    },
    {
     "name": "stdout",
     "output_type": "stream",
     "text": [
      "Estamos en la página https://skinsort.com/products/products-for-better-texture/page/28\n"
     ]
    },
    {
     "data": {
      "application/vnd.jupyter.widget-view+json": {
       "model_id": "7f7b7c7355d946d18c97e8d94367e8c9",
       "version_major": 2,
       "version_minor": 0
      },
      "text/plain": [
       "Obteniendo productos:   0%|          | 0/1 [00:00<?, ?it/s]"
      ]
     },
     "metadata": {},
     "output_type": "display_data"
    },
    {
     "name": "stdout",
     "output_type": "stream",
     "text": [
      "Estamos en la página https://skinsort.com/products/products-for-better-texture/page/29\n"
     ]
    },
    {
     "data": {
      "application/vnd.jupyter.widget-view+json": {
       "model_id": "4828fe128cab4eb189fb248b8509aebc",
       "version_major": 2,
       "version_minor": 0
      },
      "text/plain": [
       "Obteniendo productos:   0%|          | 0/1 [00:00<?, ?it/s]"
      ]
     },
     "metadata": {},
     "output_type": "display_data"
    },
    {
     "name": "stdout",
     "output_type": "stream",
     "text": [
      "Estamos en la página https://skinsort.com/products/products-for-better-texture/page/29\n"
     ]
    },
    {
     "data": {
      "application/vnd.jupyter.widget-view+json": {
       "model_id": "b9432bc3f0874aaaadd852d0a21cb7ce",
       "version_major": 2,
       "version_minor": 0
      },
      "text/plain": [
       "Obteniendo productos:   0%|          | 0/1 [00:00<?, ?it/s]"
      ]
     },
     "metadata": {},
     "output_type": "display_data"
    },
    {
     "name": "stdout",
     "output_type": "stream",
     "text": [
      "Estamos en la página https://skinsort.com/products/products-for-better-texture/page/29\n"
     ]
    },
    {
     "data": {
      "application/vnd.jupyter.widget-view+json": {
       "model_id": "41ae9846615a40e0bde3fcd89daa8d77",
       "version_major": 2,
       "version_minor": 0
      },
      "text/plain": [
       "Obteniendo productos:   0%|          | 0/1 [00:00<?, ?it/s]"
      ]
     },
     "metadata": {},
     "output_type": "display_data"
    },
    {
     "name": "stdout",
     "output_type": "stream",
     "text": [
      "Estamos en la página https://skinsort.com/products/products-for-better-texture/page/30\n"
     ]
    },
    {
     "data": {
      "application/vnd.jupyter.widget-view+json": {
       "model_id": "278b1872865546c0ba319e8360ed7e8f",
       "version_major": 2,
       "version_minor": 0
      },
      "text/plain": [
       "Obteniendo productos:   0%|          | 0/1 [00:00<?, ?it/s]"
      ]
     },
     "metadata": {},
     "output_type": "display_data"
    },
    {
     "name": "stdout",
     "output_type": "stream",
     "text": [
      "Estamos en la página https://skinsort.com/products/products-for-better-texture/page/30\n"
     ]
    },
    {
     "data": {
      "application/vnd.jupyter.widget-view+json": {
       "model_id": "b1716b16cfa8416b8f73f39654fef148",
       "version_major": 2,
       "version_minor": 0
      },
      "text/plain": [
       "Obteniendo productos:   0%|          | 0/1 [00:00<?, ?it/s]"
      ]
     },
     "metadata": {},
     "output_type": "display_data"
    },
    {
     "name": "stdout",
     "output_type": "stream",
     "text": [
      "Estamos en la página https://skinsort.com/products/products-for-better-texture/page/30\n"
     ]
    },
    {
     "data": {
      "application/vnd.jupyter.widget-view+json": {
       "model_id": "4e6911fdfaa447569b34534df96174c4",
       "version_major": 2,
       "version_minor": 0
      },
      "text/plain": [
       "Obteniendo productos:   0%|          | 0/1 [00:00<?, ?it/s]"
      ]
     },
     "metadata": {},
     "output_type": "display_data"
    },
    {
     "name": "stdout",
     "output_type": "stream",
     "text": [
      "Estamos en la página https://skinsort.com/products/products-for-better-texture/page/31\n"
     ]
    },
    {
     "data": {
      "application/vnd.jupyter.widget-view+json": {
       "model_id": "d2e5fe97955b4a29a0875754ebf30593",
       "version_major": 2,
       "version_minor": 0
      },
      "text/plain": [
       "Obteniendo productos:   0%|          | 0/1 [00:00<?, ?it/s]"
      ]
     },
     "metadata": {},
     "output_type": "display_data"
    },
    {
     "name": "stdout",
     "output_type": "stream",
     "text": [
      "Estamos en la página https://skinsort.com/products/products-for-better-texture/page/31\n"
     ]
    },
    {
     "data": {
      "application/vnd.jupyter.widget-view+json": {
       "model_id": "8b2eaa4773a04db88ddb1792e75f903d",
       "version_major": 2,
       "version_minor": 0
      },
      "text/plain": [
       "Obteniendo productos:   0%|          | 0/1 [00:00<?, ?it/s]"
      ]
     },
     "metadata": {},
     "output_type": "display_data"
    },
    {
     "name": "stdout",
     "output_type": "stream",
     "text": [
      "Estamos en la página https://skinsort.com/products/products-for-better-texture/page/31\n"
     ]
    },
    {
     "data": {
      "application/vnd.jupyter.widget-view+json": {
       "model_id": "ce09eced891f49deb46f6ae2bbd052bb",
       "version_major": 2,
       "version_minor": 0
      },
      "text/plain": [
       "Obteniendo productos:   0%|          | 0/1 [00:00<?, ?it/s]"
      ]
     },
     "metadata": {},
     "output_type": "display_data"
    },
    {
     "name": "stdout",
     "output_type": "stream",
     "text": [
      "Estamos en la página https://skinsort.com/products/products-for-better-texture/page/32\n"
     ]
    },
    {
     "data": {
      "application/vnd.jupyter.widget-view+json": {
       "model_id": "a48c58698e774ca2965e6cc79db3c3fb",
       "version_major": 2,
       "version_minor": 0
      },
      "text/plain": [
       "Obteniendo productos:   0%|          | 0/1 [00:00<?, ?it/s]"
      ]
     },
     "metadata": {},
     "output_type": "display_data"
    },
    {
     "name": "stdout",
     "output_type": "stream",
     "text": [
      "Estamos en la página https://skinsort.com/products/products-for-better-texture/page/32\n"
     ]
    },
    {
     "data": {
      "application/vnd.jupyter.widget-view+json": {
       "model_id": "827a81c31b1c4155ae81ceba2825abe5",
       "version_major": 2,
       "version_minor": 0
      },
      "text/plain": [
       "Obteniendo productos:   0%|          | 0/1 [00:00<?, ?it/s]"
      ]
     },
     "metadata": {},
     "output_type": "display_data"
    },
    {
     "name": "stdout",
     "output_type": "stream",
     "text": [
      "Estamos en la página https://skinsort.com/products/products-for-better-texture/page/32\n"
     ]
    },
    {
     "data": {
      "application/vnd.jupyter.widget-view+json": {
       "model_id": "e074cde6aee747b6ba90417fcb712c5f",
       "version_major": 2,
       "version_minor": 0
      },
      "text/plain": [
       "Obteniendo productos:   0%|          | 0/1 [00:00<?, ?it/s]"
      ]
     },
     "metadata": {},
     "output_type": "display_data"
    },
    {
     "name": "stdout",
     "output_type": "stream",
     "text": [
      "Estamos en la página https://skinsort.com/products/products-for-better-texture/page/33\n"
     ]
    },
    {
     "data": {
      "application/vnd.jupyter.widget-view+json": {
       "model_id": "020cddeb7333405e94ea826b338b6d54",
       "version_major": 2,
       "version_minor": 0
      },
      "text/plain": [
       "Obteniendo productos:   0%|          | 0/1 [00:00<?, ?it/s]"
      ]
     },
     "metadata": {},
     "output_type": "display_data"
    },
    {
     "name": "stdout",
     "output_type": "stream",
     "text": [
      "Estamos en la página https://skinsort.com/products/products-for-better-texture/page/33\n"
     ]
    },
    {
     "data": {
      "application/vnd.jupyter.widget-view+json": {
       "model_id": "ed4015ce592b4f508e92753a9364aa2d",
       "version_major": 2,
       "version_minor": 0
      },
      "text/plain": [
       "Obteniendo productos:   0%|          | 0/1 [00:00<?, ?it/s]"
      ]
     },
     "metadata": {},
     "output_type": "display_data"
    },
    {
     "name": "stdout",
     "output_type": "stream",
     "text": [
      "Estamos en la página https://skinsort.com/products/products-for-better-texture/page/33\n"
     ]
    },
    {
     "data": {
      "application/vnd.jupyter.widget-view+json": {
       "model_id": "be8e9dcc442a482f8ac113d775877ff5",
       "version_major": 2,
       "version_minor": 0
      },
      "text/plain": [
       "Obteniendo productos:   0%|          | 0/1 [00:00<?, ?it/s]"
      ]
     },
     "metadata": {},
     "output_type": "display_data"
    },
    {
     "name": "stdout",
     "output_type": "stream",
     "text": [
      "Estamos en la página https://skinsort.com/products/products-for-better-texture/page/34\n"
     ]
    },
    {
     "data": {
      "application/vnd.jupyter.widget-view+json": {
       "model_id": "0582479bfedc4ad898475f39f91a2cfa",
       "version_major": 2,
       "version_minor": 0
      },
      "text/plain": [
       "Obteniendo productos:   0%|          | 0/1 [00:00<?, ?it/s]"
      ]
     },
     "metadata": {},
     "output_type": "display_data"
    },
    {
     "name": "stdout",
     "output_type": "stream",
     "text": [
      "Estamos en la página https://skinsort.com/products/products-for-better-texture/page/34\n"
     ]
    },
    {
     "data": {
      "application/vnd.jupyter.widget-view+json": {
       "model_id": "fe84953f94ca4581b8f04ecaa01f008e",
       "version_major": 2,
       "version_minor": 0
      },
      "text/plain": [
       "Obteniendo productos:   0%|          | 0/1 [00:00<?, ?it/s]"
      ]
     },
     "metadata": {},
     "output_type": "display_data"
    },
    {
     "name": "stdout",
     "output_type": "stream",
     "text": [
      "Estamos en la página https://skinsort.com/products/products-for-better-texture/page/34\n"
     ]
    },
    {
     "data": {
      "application/vnd.jupyter.widget-view+json": {
       "model_id": "c86fa826b10d4c398606e9c0b71cc6d4",
       "version_major": 2,
       "version_minor": 0
      },
      "text/plain": [
       "Obteniendo productos:   0%|          | 0/1 [00:00<?, ?it/s]"
      ]
     },
     "metadata": {},
     "output_type": "display_data"
    },
    {
     "name": "stdout",
     "output_type": "stream",
     "text": [
      "Estamos en la página https://skinsort.com/products/products-for-better-texture/page/35\n"
     ]
    },
    {
     "data": {
      "application/vnd.jupyter.widget-view+json": {
       "model_id": "16aea6a6d3d843aaa0021ed3769cfc8b",
       "version_major": 2,
       "version_minor": 0
      },
      "text/plain": [
       "Obteniendo productos:   0%|          | 0/1 [00:00<?, ?it/s]"
      ]
     },
     "metadata": {},
     "output_type": "display_data"
    },
    {
     "name": "stdout",
     "output_type": "stream",
     "text": [
      "Estamos en la página https://skinsort.com/products/products-for-better-texture/page/35\n"
     ]
    },
    {
     "data": {
      "application/vnd.jupyter.widget-view+json": {
       "model_id": "df6becad7d484dd2939972ca6dfb1884",
       "version_major": 2,
       "version_minor": 0
      },
      "text/plain": [
       "Obteniendo productos:   0%|          | 0/1 [00:00<?, ?it/s]"
      ]
     },
     "metadata": {},
     "output_type": "display_data"
    },
    {
     "name": "stdout",
     "output_type": "stream",
     "text": [
      "Estamos en la página https://skinsort.com/products/products-for-better-texture/page/35\n"
     ]
    },
    {
     "data": {
      "application/vnd.jupyter.widget-view+json": {
       "model_id": "61448c41c6ec49a884ba5fd850413e04",
       "version_major": 2,
       "version_minor": 0
      },
      "text/plain": [
       "Obteniendo productos:   0%|          | 0/1 [00:00<?, ?it/s]"
      ]
     },
     "metadata": {},
     "output_type": "display_data"
    },
    {
     "name": "stdout",
     "output_type": "stream",
     "text": [
      "Estamos en la página https://skinsort.com/products/products-for-better-texture/page/36\n"
     ]
    },
    {
     "data": {
      "application/vnd.jupyter.widget-view+json": {
       "model_id": "45ebb6ae5b2a44e7801df45419b5ba2e",
       "version_major": 2,
       "version_minor": 0
      },
      "text/plain": [
       "Obteniendo productos:   0%|          | 0/1 [00:00<?, ?it/s]"
      ]
     },
     "metadata": {},
     "output_type": "display_data"
    },
    {
     "name": "stdout",
     "output_type": "stream",
     "text": [
      "Estamos en la página https://skinsort.com/products/products-for-better-texture/page/36\n"
     ]
    },
    {
     "data": {
      "application/vnd.jupyter.widget-view+json": {
       "model_id": "45185abfc67140f38f937b60e5e53307",
       "version_major": 2,
       "version_minor": 0
      },
      "text/plain": [
       "Obteniendo productos:   0%|          | 0/1 [00:00<?, ?it/s]"
      ]
     },
     "metadata": {},
     "output_type": "display_data"
    },
    {
     "name": "stdout",
     "output_type": "stream",
     "text": [
      "Estamos en la página https://skinsort.com/products/products-for-better-texture/page/36\n"
     ]
    },
    {
     "data": {
      "application/vnd.jupyter.widget-view+json": {
       "model_id": "ce56ccb9d23641ae9de0903aee211260",
       "version_major": 2,
       "version_minor": 0
      },
      "text/plain": [
       "Obteniendo productos:   0%|          | 0/1 [00:00<?, ?it/s]"
      ]
     },
     "metadata": {},
     "output_type": "display_data"
    },
    {
     "name": "stdout",
     "output_type": "stream",
     "text": [
      "Estamos en la página https://skinsort.com/products/products-for-better-texture/page/37\n"
     ]
    },
    {
     "data": {
      "application/vnd.jupyter.widget-view+json": {
       "model_id": "2f1d01808b4f41d4be95ebf8e07dddcb",
       "version_major": 2,
       "version_minor": 0
      },
      "text/plain": [
       "Obteniendo productos:   0%|          | 0/1 [00:00<?, ?it/s]"
      ]
     },
     "metadata": {},
     "output_type": "display_data"
    },
    {
     "name": "stdout",
     "output_type": "stream",
     "text": [
      "Estamos en la página https://skinsort.com/products/products-for-better-texture/page/37\n"
     ]
    },
    {
     "data": {
      "application/vnd.jupyter.widget-view+json": {
       "model_id": "453babd4ea604a0cae8f203d9f2eff28",
       "version_major": 2,
       "version_minor": 0
      },
      "text/plain": [
       "Obteniendo productos:   0%|          | 0/1 [00:00<?, ?it/s]"
      ]
     },
     "metadata": {},
     "output_type": "display_data"
    },
    {
     "name": "stdout",
     "output_type": "stream",
     "text": [
      "Estamos en la página https://skinsort.com/products/products-for-better-texture/page/37\n"
     ]
    },
    {
     "data": {
      "application/vnd.jupyter.widget-view+json": {
       "model_id": "8c7e0ad9fbdb4be181a425a4ff27c5c6",
       "version_major": 2,
       "version_minor": 0
      },
      "text/plain": [
       "Obteniendo productos:   0%|          | 0/1 [00:00<?, ?it/s]"
      ]
     },
     "metadata": {},
     "output_type": "display_data"
    },
    {
     "name": "stdout",
     "output_type": "stream",
     "text": [
      "Estamos en la página https://skinsort.com/products/products-for-better-texture/page/38\n"
     ]
    },
    {
     "data": {
      "application/vnd.jupyter.widget-view+json": {
       "model_id": "21571d9925be4834a70d4afe2c9800d7",
       "version_major": 2,
       "version_minor": 0
      },
      "text/plain": [
       "Obteniendo productos:   0%|          | 0/1 [00:00<?, ?it/s]"
      ]
     },
     "metadata": {},
     "output_type": "display_data"
    },
    {
     "name": "stdout",
     "output_type": "stream",
     "text": [
      "Estamos en la página https://skinsort.com/products/products-for-better-texture/page/38\n"
     ]
    },
    {
     "data": {
      "application/vnd.jupyter.widget-view+json": {
       "model_id": "edcd28567f624cceb28e8a96f2096889",
       "version_major": 2,
       "version_minor": 0
      },
      "text/plain": [
       "Obteniendo productos:   0%|          | 0/1 [00:00<?, ?it/s]"
      ]
     },
     "metadata": {},
     "output_type": "display_data"
    },
    {
     "name": "stdout",
     "output_type": "stream",
     "text": [
      "Estamos en la página https://skinsort.com/products/products-for-better-texture/page/38\n"
     ]
    },
    {
     "data": {
      "application/vnd.jupyter.widget-view+json": {
       "model_id": "ea71a6f8929e4b9db31deda3cb36ce47",
       "version_major": 2,
       "version_minor": 0
      },
      "text/plain": [
       "Obteniendo productos:   0%|          | 0/1 [00:00<?, ?it/s]"
      ]
     },
     "metadata": {},
     "output_type": "display_data"
    },
    {
     "name": "stdout",
     "output_type": "stream",
     "text": [
      "Estamos en la página https://skinsort.com/products/products-for-better-texture/page/39\n"
     ]
    },
    {
     "data": {
      "application/vnd.jupyter.widget-view+json": {
       "model_id": "b7502f36ab364761912fed7b217a7f62",
       "version_major": 2,
       "version_minor": 0
      },
      "text/plain": [
       "Obteniendo productos:   0%|          | 0/1 [00:00<?, ?it/s]"
      ]
     },
     "metadata": {},
     "output_type": "display_data"
    },
    {
     "name": "stdout",
     "output_type": "stream",
     "text": [
      "Estamos en la página https://skinsort.com/products/products-for-better-texture/page/39\n"
     ]
    },
    {
     "data": {
      "application/vnd.jupyter.widget-view+json": {
       "model_id": "82c0b351b7704ddb82780aa9bf04fa4e",
       "version_major": 2,
       "version_minor": 0
      },
      "text/plain": [
       "Obteniendo productos:   0%|          | 0/1 [00:00<?, ?it/s]"
      ]
     },
     "metadata": {},
     "output_type": "display_data"
    },
    {
     "name": "stdout",
     "output_type": "stream",
     "text": [
      "Estamos en la página https://skinsort.com/products/products-for-better-texture/page/39\n"
     ]
    },
    {
     "data": {
      "application/vnd.jupyter.widget-view+json": {
       "model_id": "256041cb50464011a551efc47fbfc197",
       "version_major": 2,
       "version_minor": 0
      },
      "text/plain": [
       "Obteniendo productos:   0%|          | 0/1 [00:00<?, ?it/s]"
      ]
     },
     "metadata": {},
     "output_type": "display_data"
    },
    {
     "name": "stdout",
     "output_type": "stream",
     "text": [
      "Estamos en la página https://skinsort.com/products/products-for-better-texture/page/40\n"
     ]
    },
    {
     "data": {
      "application/vnd.jupyter.widget-view+json": {
       "model_id": "2a30903437d140bb8bdf0b3c20337823",
       "version_major": 2,
       "version_minor": 0
      },
      "text/plain": [
       "Obteniendo productos:   0%|          | 0/1 [00:00<?, ?it/s]"
      ]
     },
     "metadata": {},
     "output_type": "display_data"
    },
    {
     "name": "stdout",
     "output_type": "stream",
     "text": [
      "Estamos en la página https://skinsort.com/products/products-for-better-texture/page/40\n"
     ]
    },
    {
     "data": {
      "application/vnd.jupyter.widget-view+json": {
       "model_id": "90f28623acf14c36a1d514522e93c040",
       "version_major": 2,
       "version_minor": 0
      },
      "text/plain": [
       "Obteniendo productos:   0%|          | 0/1 [00:00<?, ?it/s]"
      ]
     },
     "metadata": {},
     "output_type": "display_data"
    },
    {
     "name": "stdout",
     "output_type": "stream",
     "text": [
      "Estamos en la página https://skinsort.com/products/products-for-better-texture/page/40\n"
     ]
    },
    {
     "data": {
      "application/vnd.jupyter.widget-view+json": {
       "model_id": "78dde2eb682e4810b0bbde38f8d787ea",
       "version_major": 2,
       "version_minor": 0
      },
      "text/plain": [
       "Obteniendo productos:   0%|          | 0/1 [00:00<?, ?it/s]"
      ]
     },
     "metadata": {},
     "output_type": "display_data"
    },
    {
     "name": "stdout",
     "output_type": "stream",
     "text": [
      "Estamos en la página https://skinsort.com/products/products-for-better-texture/page/41\n"
     ]
    },
    {
     "data": {
      "application/vnd.jupyter.widget-view+json": {
       "model_id": "98f20a8002cb491194d5abf3d30291d3",
       "version_major": 2,
       "version_minor": 0
      },
      "text/plain": [
       "Obteniendo productos:   0%|          | 0/1 [00:00<?, ?it/s]"
      ]
     },
     "metadata": {},
     "output_type": "display_data"
    },
    {
     "name": "stdout",
     "output_type": "stream",
     "text": [
      "Estamos en la página https://skinsort.com/products/products-for-better-texture/page/41\n"
     ]
    },
    {
     "data": {
      "application/vnd.jupyter.widget-view+json": {
       "model_id": "8d4d62bdf87b4ac4a18e574882ec1955",
       "version_major": 2,
       "version_minor": 0
      },
      "text/plain": [
       "Obteniendo productos:   0%|          | 0/1 [00:00<?, ?it/s]"
      ]
     },
     "metadata": {},
     "output_type": "display_data"
    },
    {
     "name": "stdout",
     "output_type": "stream",
     "text": [
      "Estamos en la página https://skinsort.com/products/products-for-better-texture/page/41\n"
     ]
    },
    {
     "data": {
      "application/vnd.jupyter.widget-view+json": {
       "model_id": "d52b98056f2041eea2158f88d577cd77",
       "version_major": 2,
       "version_minor": 0
      },
      "text/plain": [
       "Obteniendo productos:   0%|          | 0/1 [00:00<?, ?it/s]"
      ]
     },
     "metadata": {},
     "output_type": "display_data"
    },
    {
     "name": "stdout",
     "output_type": "stream",
     "text": [
      "Estamos en la página https://skinsort.com/products/products-for-better-texture/page/42\n"
     ]
    },
    {
     "data": {
      "application/vnd.jupyter.widget-view+json": {
       "model_id": "84b591835e544d39ab059ced41e275c3",
       "version_major": 2,
       "version_minor": 0
      },
      "text/plain": [
       "Obteniendo productos:   0%|          | 0/1 [00:00<?, ?it/s]"
      ]
     },
     "metadata": {},
     "output_type": "display_data"
    },
    {
     "name": "stdout",
     "output_type": "stream",
     "text": [
      "Estamos en la página https://skinsort.com/products/products-for-better-texture/page/42\n"
     ]
    },
    {
     "data": {
      "application/vnd.jupyter.widget-view+json": {
       "model_id": "10c689d9bb7a431f987d8a6be7a41e4b",
       "version_major": 2,
       "version_minor": 0
      },
      "text/plain": [
       "Obteniendo productos:   0%|          | 0/1 [00:00<?, ?it/s]"
      ]
     },
     "metadata": {},
     "output_type": "display_data"
    },
    {
     "name": "stdout",
     "output_type": "stream",
     "text": [
      "Estamos en la página https://skinsort.com/products/products-for-better-texture/page/42\n"
     ]
    },
    {
     "data": {
      "application/vnd.jupyter.widget-view+json": {
       "model_id": "41b4d8575c114db99d2386406234a035",
       "version_major": 2,
       "version_minor": 0
      },
      "text/plain": [
       "Obteniendo productos:   0%|          | 0/1 [00:00<?, ?it/s]"
      ]
     },
     "metadata": {},
     "output_type": "display_data"
    },
    {
     "name": "stdout",
     "output_type": "stream",
     "text": [
      "Estamos en la página https://skinsort.com/products/products-for-better-texture/page/43\n"
     ]
    },
    {
     "data": {
      "application/vnd.jupyter.widget-view+json": {
       "model_id": "02e01b8822de46598da27bdde94a0b1e",
       "version_major": 2,
       "version_minor": 0
      },
      "text/plain": [
       "Obteniendo productos:   0%|          | 0/1 [00:00<?, ?it/s]"
      ]
     },
     "metadata": {},
     "output_type": "display_data"
    },
    {
     "name": "stdout",
     "output_type": "stream",
     "text": [
      "Estamos en la página https://skinsort.com/products/products-for-better-texture/page/43\n"
     ]
    },
    {
     "data": {
      "application/vnd.jupyter.widget-view+json": {
       "model_id": "3beba4b864af4c0bb8572ead484a1e00",
       "version_major": 2,
       "version_minor": 0
      },
      "text/plain": [
       "Obteniendo productos:   0%|          | 0/1 [00:00<?, ?it/s]"
      ]
     },
     "metadata": {},
     "output_type": "display_data"
    },
    {
     "name": "stdout",
     "output_type": "stream",
     "text": [
      "Estamos en la página https://skinsort.com/products/products-for-better-texture/page/43\n"
     ]
    },
    {
     "data": {
      "application/vnd.jupyter.widget-view+json": {
       "model_id": "1ce482628e2c4f9c95de97a53518bb6a",
       "version_major": 2,
       "version_minor": 0
      },
      "text/plain": [
       "Obteniendo productos:   0%|          | 0/1 [00:00<?, ?it/s]"
      ]
     },
     "metadata": {},
     "output_type": "display_data"
    },
    {
     "name": "stdout",
     "output_type": "stream",
     "text": [
      "Estamos en la página https://skinsort.com/products/products-for-better-texture/page/44\n"
     ]
    },
    {
     "data": {
      "application/vnd.jupyter.widget-view+json": {
       "model_id": "99a90039a58d4a9ea906b079d4854006",
       "version_major": 2,
       "version_minor": 0
      },
      "text/plain": [
       "Obteniendo productos:   0%|          | 0/1 [00:00<?, ?it/s]"
      ]
     },
     "metadata": {},
     "output_type": "display_data"
    },
    {
     "name": "stdout",
     "output_type": "stream",
     "text": [
      "Estamos en la página https://skinsort.com/products/products-for-better-texture/page/44\n"
     ]
    },
    {
     "data": {
      "application/vnd.jupyter.widget-view+json": {
       "model_id": "0e8cb97eef964897bac2da87b3299440",
       "version_major": 2,
       "version_minor": 0
      },
      "text/plain": [
       "Obteniendo productos:   0%|          | 0/1 [00:00<?, ?it/s]"
      ]
     },
     "metadata": {},
     "output_type": "display_data"
    },
    {
     "name": "stdout",
     "output_type": "stream",
     "text": [
      "Estamos en la página https://skinsort.com/products/products-for-better-texture/page/44\n"
     ]
    },
    {
     "data": {
      "application/vnd.jupyter.widget-view+json": {
       "model_id": "c9b2a8e5bbf04f02854f34853238b512",
       "version_major": 2,
       "version_minor": 0
      },
      "text/plain": [
       "Obteniendo productos:   0%|          | 0/1 [00:00<?, ?it/s]"
      ]
     },
     "metadata": {},
     "output_type": "display_data"
    },
    {
     "name": "stdout",
     "output_type": "stream",
     "text": [
      "Estamos en la página https://skinsort.com/products/products-for-better-texture/page/45\n"
     ]
    },
    {
     "data": {
      "application/vnd.jupyter.widget-view+json": {
       "model_id": "b3213ae5f7b84b868c9dc83f3dec087b",
       "version_major": 2,
       "version_minor": 0
      },
      "text/plain": [
       "Obteniendo productos:   0%|          | 0/1 [00:00<?, ?it/s]"
      ]
     },
     "metadata": {},
     "output_type": "display_data"
    },
    {
     "name": "stdout",
     "output_type": "stream",
     "text": [
      "Estamos en la página https://skinsort.com/products/products-for-better-texture/page/45\n"
     ]
    },
    {
     "data": {
      "application/vnd.jupyter.widget-view+json": {
       "model_id": "5fedc1a3f739494fbc3e9773beaf02af",
       "version_major": 2,
       "version_minor": 0
      },
      "text/plain": [
       "Obteniendo productos:   0%|          | 0/1 [00:00<?, ?it/s]"
      ]
     },
     "metadata": {},
     "output_type": "display_data"
    },
    {
     "name": "stdout",
     "output_type": "stream",
     "text": [
      "Estamos en la página https://skinsort.com/products/products-for-better-texture/page/45\n"
     ]
    },
    {
     "data": {
      "application/vnd.jupyter.widget-view+json": {
       "model_id": "2b328b2cfea548e09f36e2d093dbce18",
       "version_major": 2,
       "version_minor": 0
      },
      "text/plain": [
       "Obteniendo productos:   0%|          | 0/1 [00:00<?, ?it/s]"
      ]
     },
     "metadata": {},
     "output_type": "display_data"
    },
    {
     "name": "stdout",
     "output_type": "stream",
     "text": [
      "Estamos en la página https://skinsort.com/products/products-for-better-texture/page/46\n"
     ]
    },
    {
     "data": {
      "application/vnd.jupyter.widget-view+json": {
       "model_id": "f08d748c4d224681a7054510324e2580",
       "version_major": 2,
       "version_minor": 0
      },
      "text/plain": [
       "Obteniendo productos:   0%|          | 0/1 [00:00<?, ?it/s]"
      ]
     },
     "metadata": {},
     "output_type": "display_data"
    },
    {
     "name": "stdout",
     "output_type": "stream",
     "text": [
      "Estamos en la página https://skinsort.com/products/products-for-better-texture/page/46\n"
     ]
    },
    {
     "data": {
      "application/vnd.jupyter.widget-view+json": {
       "model_id": "441af50814664b3b892579dc1d7d8335",
       "version_major": 2,
       "version_minor": 0
      },
      "text/plain": [
       "Obteniendo productos:   0%|          | 0/1 [00:00<?, ?it/s]"
      ]
     },
     "metadata": {},
     "output_type": "display_data"
    },
    {
     "name": "stdout",
     "output_type": "stream",
     "text": [
      "Estamos en la página https://skinsort.com/products/products-for-better-texture/page/46\n"
     ]
    },
    {
     "data": {
      "application/vnd.jupyter.widget-view+json": {
       "model_id": "bd64cdd0c4ff47429b267b4baa4e94b0",
       "version_major": 2,
       "version_minor": 0
      },
      "text/plain": [
       "Obteniendo productos:   0%|          | 0/1 [00:00<?, ?it/s]"
      ]
     },
     "metadata": {},
     "output_type": "display_data"
    },
    {
     "name": "stdout",
     "output_type": "stream",
     "text": [
      "Estamos en la página https://skinsort.com/products/products-for-better-texture/page/47\n"
     ]
    },
    {
     "data": {
      "application/vnd.jupyter.widget-view+json": {
       "model_id": "c97ec5f44ac543b78e79ef8fc7d23bb1",
       "version_major": 2,
       "version_minor": 0
      },
      "text/plain": [
       "Obteniendo productos:   0%|          | 0/1 [00:00<?, ?it/s]"
      ]
     },
     "metadata": {},
     "output_type": "display_data"
    },
    {
     "name": "stdout",
     "output_type": "stream",
     "text": [
      "Estamos en la página https://skinsort.com/products/products-for-better-texture/page/47\n"
     ]
    },
    {
     "data": {
      "application/vnd.jupyter.widget-view+json": {
       "model_id": "fa9c26d007a64dc59fa30ce76df00154",
       "version_major": 2,
       "version_minor": 0
      },
      "text/plain": [
       "Obteniendo productos:   0%|          | 0/1 [00:00<?, ?it/s]"
      ]
     },
     "metadata": {},
     "output_type": "display_data"
    },
    {
     "name": "stdout",
     "output_type": "stream",
     "text": [
      "Estamos en la página https://skinsort.com/products/products-for-better-texture/page/47\n"
     ]
    },
    {
     "data": {
      "application/vnd.jupyter.widget-view+json": {
       "model_id": "10369a5b0a684bc6ae927186d024d1c3",
       "version_major": 2,
       "version_minor": 0
      },
      "text/plain": [
       "Obteniendo productos:   0%|          | 0/1 [00:00<?, ?it/s]"
      ]
     },
     "metadata": {},
     "output_type": "display_data"
    },
    {
     "name": "stdout",
     "output_type": "stream",
     "text": [
      "Estamos en la página https://skinsort.com/products/products-for-better-texture/page/48\n"
     ]
    },
    {
     "data": {
      "application/vnd.jupyter.widget-view+json": {
       "model_id": "f27b0819acad427083968bec760bb916",
       "version_major": 2,
       "version_minor": 0
      },
      "text/plain": [
       "Obteniendo productos:   0%|          | 0/1 [00:00<?, ?it/s]"
      ]
     },
     "metadata": {},
     "output_type": "display_data"
    },
    {
     "name": "stdout",
     "output_type": "stream",
     "text": [
      "Estamos en la página https://skinsort.com/products/products-for-better-texture/page/48\n"
     ]
    },
    {
     "data": {
      "application/vnd.jupyter.widget-view+json": {
       "model_id": "dccb4688ea594ca480a1f1f4f9f3f4ed",
       "version_major": 2,
       "version_minor": 0
      },
      "text/plain": [
       "Obteniendo productos:   0%|          | 0/1 [00:00<?, ?it/s]"
      ]
     },
     "metadata": {},
     "output_type": "display_data"
    },
    {
     "name": "stdout",
     "output_type": "stream",
     "text": [
      "Estamos en la página https://skinsort.com/products/products-for-better-texture/page/48\n"
     ]
    },
    {
     "data": {
      "application/vnd.jupyter.widget-view+json": {
       "model_id": "6a70775e584d4226a02d82fd18ce499e",
       "version_major": 2,
       "version_minor": 0
      },
      "text/plain": [
       "Obteniendo productos:   0%|          | 0/1 [00:00<?, ?it/s]"
      ]
     },
     "metadata": {},
     "output_type": "display_data"
    },
    {
     "name": "stdout",
     "output_type": "stream",
     "text": [
      "Estamos en la página https://skinsort.com/products/products-for-better-texture/page/49\n"
     ]
    },
    {
     "data": {
      "application/vnd.jupyter.widget-view+json": {
       "model_id": "6a98b90eac39433d94095963395830c1",
       "version_major": 2,
       "version_minor": 0
      },
      "text/plain": [
       "Obteniendo productos:   0%|          | 0/1 [00:00<?, ?it/s]"
      ]
     },
     "metadata": {},
     "output_type": "display_data"
    },
    {
     "name": "stdout",
     "output_type": "stream",
     "text": [
      "Estamos en la página https://skinsort.com/products/products-for-better-texture/page/49\n"
     ]
    },
    {
     "data": {
      "application/vnd.jupyter.widget-view+json": {
       "model_id": "6ccd8243ec3b4509babc1a9542fbb0c0",
       "version_major": 2,
       "version_minor": 0
      },
      "text/plain": [
       "Obteniendo productos:   0%|          | 0/1 [00:00<?, ?it/s]"
      ]
     },
     "metadata": {},
     "output_type": "display_data"
    },
    {
     "name": "stdout",
     "output_type": "stream",
     "text": [
      "Estamos en la página https://skinsort.com/products/products-for-better-texture/page/49\n"
     ]
    },
    {
     "data": {
      "application/vnd.jupyter.widget-view+json": {
       "model_id": "223ffd07755a4b728362ae7e7029fb4b",
       "version_major": 2,
       "version_minor": 0
      },
      "text/plain": [
       "Obteniendo productos:   0%|          | 0/1 [00:00<?, ?it/s]"
      ]
     },
     "metadata": {},
     "output_type": "display_data"
    },
    {
     "name": "stdout",
     "output_type": "stream",
     "text": [
      "Estamos en la página https://skinsort.com/products/products-for-better-texture/page/50\n"
     ]
    },
    {
     "data": {
      "application/vnd.jupyter.widget-view+json": {
       "model_id": "83808243180b4fdb88b53cab15c1f641",
       "version_major": 2,
       "version_minor": 0
      },
      "text/plain": [
       "Obteniendo productos:   0%|          | 0/1 [00:00<?, ?it/s]"
      ]
     },
     "metadata": {},
     "output_type": "display_data"
    },
    {
     "name": "stdout",
     "output_type": "stream",
     "text": [
      "Estamos en la página https://skinsort.com/products/products-for-better-texture/page/50\n"
     ]
    },
    {
     "data": {
      "application/vnd.jupyter.widget-view+json": {
       "model_id": "b7d619b32e114b9498dec79d12b45ef6",
       "version_major": 2,
       "version_minor": 0
      },
      "text/plain": [
       "Obteniendo productos:   0%|          | 0/1 [00:00<?, ?it/s]"
      ]
     },
     "metadata": {},
     "output_type": "display_data"
    },
    {
     "name": "stdout",
     "output_type": "stream",
     "text": [
      "Estamos en la página https://skinsort.com/products/products-for-better-texture/page/50\n"
     ]
    },
    {
     "data": {
      "application/vnd.jupyter.widget-view+json": {
       "model_id": "22be0a2c884a44038f1d2140328ffbd4",
       "version_major": 2,
       "version_minor": 0
      },
      "text/plain": [
       "Obteniendo productos:   0%|          | 0/1 [00:00<?, ?it/s]"
      ]
     },
     "metadata": {},
     "output_type": "display_data"
    },
    {
     "name": "stdout",
     "output_type": "stream",
     "text": [
      "Estamos en la página https://skinsort.com/products/products-for-better-texture/page/51\n"
     ]
    },
    {
     "data": {
      "application/vnd.jupyter.widget-view+json": {
       "model_id": "5f232278afc9411185342edf9d977f82",
       "version_major": 2,
       "version_minor": 0
      },
      "text/plain": [
       "Obteniendo productos:   0%|          | 0/1 [00:00<?, ?it/s]"
      ]
     },
     "metadata": {},
     "output_type": "display_data"
    },
    {
     "name": "stdout",
     "output_type": "stream",
     "text": [
      "Estamos en la página https://skinsort.com/products/products-for-better-texture/page/51\n"
     ]
    },
    {
     "data": {
      "application/vnd.jupyter.widget-view+json": {
       "model_id": "06438643008147a2a885a216c071b04a",
       "version_major": 2,
       "version_minor": 0
      },
      "text/plain": [
       "Obteniendo productos:   0%|          | 0/1 [00:00<?, ?it/s]"
      ]
     },
     "metadata": {},
     "output_type": "display_data"
    },
    {
     "name": "stdout",
     "output_type": "stream",
     "text": [
      "Estamos en la página https://skinsort.com/products/products-for-better-texture/page/51\n"
     ]
    },
    {
     "data": {
      "application/vnd.jupyter.widget-view+json": {
       "model_id": "ce9105323021494e8ae7fbbb7ec13439",
       "version_major": 2,
       "version_minor": 0
      },
      "text/plain": [
       "Obteniendo productos:   0%|          | 0/1 [00:00<?, ?it/s]"
      ]
     },
     "metadata": {},
     "output_type": "display_data"
    },
    {
     "name": "stdout",
     "output_type": "stream",
     "text": [
      "Estamos en la página https://skinsort.com/products/products-for-better-texture/page/52\n"
     ]
    },
    {
     "data": {
      "application/vnd.jupyter.widget-view+json": {
       "model_id": "9b699568de7f4393b9d8a3e6d98be966",
       "version_major": 2,
       "version_minor": 0
      },
      "text/plain": [
       "Obteniendo productos:   0%|          | 0/1 [00:00<?, ?it/s]"
      ]
     },
     "metadata": {},
     "output_type": "display_data"
    },
    {
     "name": "stdout",
     "output_type": "stream",
     "text": [
      "Estamos en la página https://skinsort.com/products/products-for-better-texture/page/52\n"
     ]
    },
    {
     "data": {
      "application/vnd.jupyter.widget-view+json": {
       "model_id": "63cfc9df242f4ecea983d75e747fb78c",
       "version_major": 2,
       "version_minor": 0
      },
      "text/plain": [
       "Obteniendo productos:   0%|          | 0/1 [00:00<?, ?it/s]"
      ]
     },
     "metadata": {},
     "output_type": "display_data"
    },
    {
     "name": "stdout",
     "output_type": "stream",
     "text": [
      "Estamos en la página https://skinsort.com/products/products-for-better-texture/page/52\n"
     ]
    },
    {
     "data": {
      "application/vnd.jupyter.widget-view+json": {
       "model_id": "f0f9a8a46dab46938decf4bd620e8d48",
       "version_major": 2,
       "version_minor": 0
      },
      "text/plain": [
       "Obteniendo productos:   0%|          | 0/1 [00:00<?, ?it/s]"
      ]
     },
     "metadata": {},
     "output_type": "display_data"
    },
    {
     "name": "stdout",
     "output_type": "stream",
     "text": [
      "Estamos en la página https://skinsort.com/products/products-for-better-texture/page/53\n"
     ]
    },
    {
     "data": {
      "application/vnd.jupyter.widget-view+json": {
       "model_id": "40115683ef324fd09dbf26fb1e846ee3",
       "version_major": 2,
       "version_minor": 0
      },
      "text/plain": [
       "Obteniendo productos:   0%|          | 0/1 [00:00<?, ?it/s]"
      ]
     },
     "metadata": {},
     "output_type": "display_data"
    },
    {
     "name": "stdout",
     "output_type": "stream",
     "text": [
      "Estamos en la página https://skinsort.com/products/products-for-better-texture/page/53\n"
     ]
    },
    {
     "data": {
      "application/vnd.jupyter.widget-view+json": {
       "model_id": "61008cffdbf345fcaf7513b0bc4f2386",
       "version_major": 2,
       "version_minor": 0
      },
      "text/plain": [
       "Obteniendo productos:   0%|          | 0/1 [00:00<?, ?it/s]"
      ]
     },
     "metadata": {},
     "output_type": "display_data"
    },
    {
     "name": "stdout",
     "output_type": "stream",
     "text": [
      "Estamos en la página https://skinsort.com/products/products-for-better-texture/page/53\n"
     ]
    },
    {
     "data": {
      "application/vnd.jupyter.widget-view+json": {
       "model_id": "30334b0ee8eb4ac1a5fc8ac38a0bf862",
       "version_major": 2,
       "version_minor": 0
      },
      "text/plain": [
       "Obteniendo productos:   0%|          | 0/1 [00:00<?, ?it/s]"
      ]
     },
     "metadata": {},
     "output_type": "display_data"
    },
    {
     "name": "stdout",
     "output_type": "stream",
     "text": [
      "Estamos en la página https://skinsort.com/products/products-for-better-texture/page/54\n"
     ]
    },
    {
     "data": {
      "application/vnd.jupyter.widget-view+json": {
       "model_id": "bb9e56b44b87430e8b4f1595cbcc3bb7",
       "version_major": 2,
       "version_minor": 0
      },
      "text/plain": [
       "Obteniendo productos:   0%|          | 0/1 [00:00<?, ?it/s]"
      ]
     },
     "metadata": {},
     "output_type": "display_data"
    },
    {
     "name": "stdout",
     "output_type": "stream",
     "text": [
      "Estamos en la página https://skinsort.com/products/products-for-better-texture/page/54\n"
     ]
    },
    {
     "data": {
      "application/vnd.jupyter.widget-view+json": {
       "model_id": "3af0adb3965a45d58f69ed0b712724dc",
       "version_major": 2,
       "version_minor": 0
      },
      "text/plain": [
       "Obteniendo productos:   0%|          | 0/1 [00:00<?, ?it/s]"
      ]
     },
     "metadata": {},
     "output_type": "display_data"
    },
    {
     "name": "stdout",
     "output_type": "stream",
     "text": [
      "Estamos en la página https://skinsort.com/products/products-for-better-texture/page/54\n"
     ]
    },
    {
     "data": {
      "application/vnd.jupyter.widget-view+json": {
       "model_id": "7c7f7e612b3f4699b437bdc7f43aeba6",
       "version_major": 2,
       "version_minor": 0
      },
      "text/plain": [
       "Obteniendo productos:   0%|          | 0/1 [00:00<?, ?it/s]"
      ]
     },
     "metadata": {},
     "output_type": "display_data"
    },
    {
     "name": "stdout",
     "output_type": "stream",
     "text": [
      "Estamos en la página https://skinsort.com/products/products-for-better-texture/page/55\n"
     ]
    },
    {
     "data": {
      "application/vnd.jupyter.widget-view+json": {
       "model_id": "41dd44f4eefd4f97bf47073fc2157adc",
       "version_major": 2,
       "version_minor": 0
      },
      "text/plain": [
       "Obteniendo productos:   0%|          | 0/1 [00:00<?, ?it/s]"
      ]
     },
     "metadata": {},
     "output_type": "display_data"
    },
    {
     "name": "stdout",
     "output_type": "stream",
     "text": [
      "Estamos en la página https://skinsort.com/products/products-for-better-texture/page/55\n"
     ]
    },
    {
     "data": {
      "application/vnd.jupyter.widget-view+json": {
       "model_id": "eb97699d5d8b48fb8fc69a0d1297e08e",
       "version_major": 2,
       "version_minor": 0
      },
      "text/plain": [
       "Obteniendo productos:   0%|          | 0/1 [00:00<?, ?it/s]"
      ]
     },
     "metadata": {},
     "output_type": "display_data"
    },
    {
     "name": "stdout",
     "output_type": "stream",
     "text": [
      "Estamos en la página https://skinsort.com/products/products-for-better-texture/page/55\n"
     ]
    },
    {
     "data": {
      "application/vnd.jupyter.widget-view+json": {
       "model_id": "5a567fb2d4b745259819a73d02a1a967",
       "version_major": 2,
       "version_minor": 0
      },
      "text/plain": [
       "Obteniendo productos:   0%|          | 0/1 [00:00<?, ?it/s]"
      ]
     },
     "metadata": {},
     "output_type": "display_data"
    },
    {
     "name": "stdout",
     "output_type": "stream",
     "text": [
      "Estamos en la página https://skinsort.com/products/products-for-better-texture/page/56\n"
     ]
    },
    {
     "data": {
      "application/vnd.jupyter.widget-view+json": {
       "model_id": "c15ec41eac294563ab9d6fc66b4e6566",
       "version_major": 2,
       "version_minor": 0
      },
      "text/plain": [
       "Obteniendo productos:   0%|          | 0/1 [00:00<?, ?it/s]"
      ]
     },
     "metadata": {},
     "output_type": "display_data"
    },
    {
     "name": "stdout",
     "output_type": "stream",
     "text": [
      "Estamos en la página https://skinsort.com/products/products-for-better-texture/page/56\n"
     ]
    },
    {
     "data": {
      "application/vnd.jupyter.widget-view+json": {
       "model_id": "bcd66a59772b4ccd95cba26f7b8a7ee2",
       "version_major": 2,
       "version_minor": 0
      },
      "text/plain": [
       "Obteniendo productos:   0%|          | 0/1 [00:00<?, ?it/s]"
      ]
     },
     "metadata": {},
     "output_type": "display_data"
    },
    {
     "name": "stdout",
     "output_type": "stream",
     "text": [
      "Estamos en la página https://skinsort.com/products/products-for-better-texture/page/56\n"
     ]
    },
    {
     "data": {
      "application/vnd.jupyter.widget-view+json": {
       "model_id": "7b5b9d35717844ad93093a05eefcea0b",
       "version_major": 2,
       "version_minor": 0
      },
      "text/plain": [
       "Obteniendo productos:   0%|          | 0/1 [00:00<?, ?it/s]"
      ]
     },
     "metadata": {},
     "output_type": "display_data"
    },
    {
     "name": "stdout",
     "output_type": "stream",
     "text": [
      "Estamos en la página https://skinsort.com/products/products-for-better-texture/page/57\n"
     ]
    },
    {
     "data": {
      "application/vnd.jupyter.widget-view+json": {
       "model_id": "150d939ae8fc410589a76affabc160dc",
       "version_major": 2,
       "version_minor": 0
      },
      "text/plain": [
       "Obteniendo productos:   0%|          | 0/1 [00:00<?, ?it/s]"
      ]
     },
     "metadata": {},
     "output_type": "display_data"
    },
    {
     "name": "stdout",
     "output_type": "stream",
     "text": [
      "Estamos en la página https://skinsort.com/products/products-for-better-texture/page/57\n"
     ]
    },
    {
     "data": {
      "application/vnd.jupyter.widget-view+json": {
       "model_id": "1591bd1ccd9b4a1ab5063cc2cdc83b3d",
       "version_major": 2,
       "version_minor": 0
      },
      "text/plain": [
       "Obteniendo productos:   0%|          | 0/1 [00:00<?, ?it/s]"
      ]
     },
     "metadata": {},
     "output_type": "display_data"
    },
    {
     "name": "stdout",
     "output_type": "stream",
     "text": [
      "Estamos en la página https://skinsort.com/products/products-for-better-texture/page/57\n"
     ]
    },
    {
     "data": {
      "application/vnd.jupyter.widget-view+json": {
       "model_id": "876b787679084eb2b5b2db020958fe81",
       "version_major": 2,
       "version_minor": 0
      },
      "text/plain": [
       "Obteniendo productos:   0%|          | 0/1 [00:00<?, ?it/s]"
      ]
     },
     "metadata": {},
     "output_type": "display_data"
    },
    {
     "name": "stdout",
     "output_type": "stream",
     "text": [
      "Estamos en la página https://skinsort.com/products/products-for-better-texture/page/58\n"
     ]
    },
    {
     "data": {
      "application/vnd.jupyter.widget-view+json": {
       "model_id": "b6810768a20f4db8a890f9719b69f01d",
       "version_major": 2,
       "version_minor": 0
      },
      "text/plain": [
       "Obteniendo productos:   0%|          | 0/1 [00:00<?, ?it/s]"
      ]
     },
     "metadata": {},
     "output_type": "display_data"
    },
    {
     "name": "stdout",
     "output_type": "stream",
     "text": [
      "Estamos en la página https://skinsort.com/products/products-for-better-texture/page/58\n"
     ]
    },
    {
     "data": {
      "application/vnd.jupyter.widget-view+json": {
       "model_id": "56bc1f96cfed41bbad04f2406feef7cb",
       "version_major": 2,
       "version_minor": 0
      },
      "text/plain": [
       "Obteniendo productos:   0%|          | 0/1 [00:00<?, ?it/s]"
      ]
     },
     "metadata": {},
     "output_type": "display_data"
    },
    {
     "name": "stdout",
     "output_type": "stream",
     "text": [
      "Estamos en la página https://skinsort.com/products/products-for-better-texture/page/58\n"
     ]
    },
    {
     "data": {
      "application/vnd.jupyter.widget-view+json": {
       "model_id": "8aec5b5b212a44c0b93cc21db6ae8d62",
       "version_major": 2,
       "version_minor": 0
      },
      "text/plain": [
       "Obteniendo productos:   0%|          | 0/1 [00:00<?, ?it/s]"
      ]
     },
     "metadata": {},
     "output_type": "display_data"
    },
    {
     "name": "stdout",
     "output_type": "stream",
     "text": [
      "Estamos en la página https://skinsort.com/products/products-for-better-texture/page/59\n"
     ]
    },
    {
     "data": {
      "application/vnd.jupyter.widget-view+json": {
       "model_id": "cfa863968ebf4baa91aa4863983a6661",
       "version_major": 2,
       "version_minor": 0
      },
      "text/plain": [
       "Obteniendo productos:   0%|          | 0/1 [00:00<?, ?it/s]"
      ]
     },
     "metadata": {},
     "output_type": "display_data"
    },
    {
     "name": "stdout",
     "output_type": "stream",
     "text": [
      "Estamos en la página https://skinsort.com/products/products-for-better-texture/page/59\n"
     ]
    },
    {
     "data": {
      "application/vnd.jupyter.widget-view+json": {
       "model_id": "0dbb208e46c041c097a8d8cee4ac5ea0",
       "version_major": 2,
       "version_minor": 0
      },
      "text/plain": [
       "Obteniendo productos:   0%|          | 0/1 [00:00<?, ?it/s]"
      ]
     },
     "metadata": {},
     "output_type": "display_data"
    },
    {
     "name": "stdout",
     "output_type": "stream",
     "text": [
      "Estamos en la página https://skinsort.com/products/products-for-better-texture/page/59\n"
     ]
    },
    {
     "data": {
      "application/vnd.jupyter.widget-view+json": {
       "model_id": "962aa9bb703f48519a729ff8f55a00f5",
       "version_major": 2,
       "version_minor": 0
      },
      "text/plain": [
       "Obteniendo productos:   0%|          | 0/1 [00:00<?, ?it/s]"
      ]
     },
     "metadata": {},
     "output_type": "display_data"
    },
    {
     "name": "stdout",
     "output_type": "stream",
     "text": [
      "Estamos en la página https://skinsort.com/products/products-for-better-texture/page/60\n"
     ]
    },
    {
     "data": {
      "application/vnd.jupyter.widget-view+json": {
       "model_id": "a641aab9086c41829e7f4acb58460e65",
       "version_major": 2,
       "version_minor": 0
      },
      "text/plain": [
       "Obteniendo productos:   0%|          | 0/1 [00:00<?, ?it/s]"
      ]
     },
     "metadata": {},
     "output_type": "display_data"
    },
    {
     "name": "stdout",
     "output_type": "stream",
     "text": [
      "Estamos en la página https://skinsort.com/products/products-for-better-texture/page/60\n"
     ]
    },
    {
     "data": {
      "application/vnd.jupyter.widget-view+json": {
       "model_id": "d56610f952cb43479b8b6b11db83f2eb",
       "version_major": 2,
       "version_minor": 0
      },
      "text/plain": [
       "Obteniendo productos:   0%|          | 0/1 [00:00<?, ?it/s]"
      ]
     },
     "metadata": {},
     "output_type": "display_data"
    },
    {
     "name": "stdout",
     "output_type": "stream",
     "text": [
      "Estamos en la página https://skinsort.com/products/products-for-better-texture/page/60\n"
     ]
    },
    {
     "data": {
      "application/vnd.jupyter.widget-view+json": {
       "model_id": "bb8975e80d5d49f0bf78c8e660d04418",
       "version_major": 2,
       "version_minor": 0
      },
      "text/plain": [
       "Obteniendo productos:   0%|          | 0/1 [00:00<?, ?it/s]"
      ]
     },
     "metadata": {},
     "output_type": "display_data"
    },
    {
     "name": "stdout",
     "output_type": "stream",
     "text": [
      "Estamos en la página https://skinsort.com/products/products-for-better-texture/page/61\n"
     ]
    },
    {
     "data": {
      "application/vnd.jupyter.widget-view+json": {
       "model_id": "3cd8e8bf00fd49faa15f1ae5b7d38137",
       "version_major": 2,
       "version_minor": 0
      },
      "text/plain": [
       "Obteniendo productos:   0%|          | 0/1 [00:00<?, ?it/s]"
      ]
     },
     "metadata": {},
     "output_type": "display_data"
    },
    {
     "name": "stdout",
     "output_type": "stream",
     "text": [
      "Estamos en la página https://skinsort.com/products/products-for-better-texture/page/61\n"
     ]
    },
    {
     "data": {
      "application/vnd.jupyter.widget-view+json": {
       "model_id": "d4d9599f86e844b59045c4735dbdaa44",
       "version_major": 2,
       "version_minor": 0
      },
      "text/plain": [
       "Obteniendo productos:   0%|          | 0/1 [00:00<?, ?it/s]"
      ]
     },
     "metadata": {},
     "output_type": "display_data"
    },
    {
     "name": "stdout",
     "output_type": "stream",
     "text": [
      "Estamos en la página https://skinsort.com/products/products-for-better-texture/page/61\n"
     ]
    },
    {
     "data": {
      "application/vnd.jupyter.widget-view+json": {
       "model_id": "89bda6e9e51e4b8ab6d34a069ce1ce2f",
       "version_major": 2,
       "version_minor": 0
      },
      "text/plain": [
       "Obteniendo productos:   0%|          | 0/1 [00:00<?, ?it/s]"
      ]
     },
     "metadata": {},
     "output_type": "display_data"
    },
    {
     "name": "stdout",
     "output_type": "stream",
     "text": [
      "Estamos en la página https://skinsort.com/products/products-for-better-texture/page/62\n"
     ]
    },
    {
     "data": {
      "application/vnd.jupyter.widget-view+json": {
       "model_id": "9e28cff3a0004bf688163599645cb696",
       "version_major": 2,
       "version_minor": 0
      },
      "text/plain": [
       "Obteniendo productos:   0%|          | 0/1 [00:00<?, ?it/s]"
      ]
     },
     "metadata": {},
     "output_type": "display_data"
    },
    {
     "name": "stdout",
     "output_type": "stream",
     "text": [
      "Estamos en la página https://skinsort.com/products/products-for-better-texture/page/62\n"
     ]
    },
    {
     "data": {
      "application/vnd.jupyter.widget-view+json": {
       "model_id": "a49392d89a3b4a9da00a414c2a806a42",
       "version_major": 2,
       "version_minor": 0
      },
      "text/plain": [
       "Obteniendo productos:   0%|          | 0/1 [00:00<?, ?it/s]"
      ]
     },
     "metadata": {},
     "output_type": "display_data"
    },
    {
     "name": "stdout",
     "output_type": "stream",
     "text": [
      "Estamos en la página https://skinsort.com/products/products-for-better-texture/page/62\n"
     ]
    },
    {
     "data": {
      "application/vnd.jupyter.widget-view+json": {
       "model_id": "0bdac483fb724c8bbd3b50c5bdc0ff9a",
       "version_major": 2,
       "version_minor": 0
      },
      "text/plain": [
       "Obteniendo productos:   0%|          | 0/1 [00:00<?, ?it/s]"
      ]
     },
     "metadata": {},
     "output_type": "display_data"
    },
    {
     "name": "stdout",
     "output_type": "stream",
     "text": [
      "Estamos en la página https://skinsort.com/products/products-for-better-texture/page/63\n"
     ]
    },
    {
     "data": {
      "application/vnd.jupyter.widget-view+json": {
       "model_id": "df6de509bb8649dc873c625b3110fc77",
       "version_major": 2,
       "version_minor": 0
      },
      "text/plain": [
       "Obteniendo productos:   0%|          | 0/1 [00:00<?, ?it/s]"
      ]
     },
     "metadata": {},
     "output_type": "display_data"
    },
    {
     "name": "stdout",
     "output_type": "stream",
     "text": [
      "Estamos en la página https://skinsort.com/products/products-for-better-texture/page/63\n"
     ]
    },
    {
     "data": {
      "application/vnd.jupyter.widget-view+json": {
       "model_id": "e3285ff4188a4f79bb1c7cffdedb8b57",
       "version_major": 2,
       "version_minor": 0
      },
      "text/plain": [
       "Obteniendo productos:   0%|          | 0/1 [00:00<?, ?it/s]"
      ]
     },
     "metadata": {},
     "output_type": "display_data"
    },
    {
     "name": "stdout",
     "output_type": "stream",
     "text": [
      "Estamos en la página https://skinsort.com/products/products-for-better-texture/page/63\n"
     ]
    },
    {
     "data": {
      "application/vnd.jupyter.widget-view+json": {
       "model_id": "622e5591d1c6447892807b0b75559729",
       "version_major": 2,
       "version_minor": 0
      },
      "text/plain": [
       "Obteniendo productos:   0%|          | 0/1 [00:00<?, ?it/s]"
      ]
     },
     "metadata": {},
     "output_type": "display_data"
    },
    {
     "name": "stdout",
     "output_type": "stream",
     "text": [
      "Estamos en la página https://skinsort.com/products/products-for-better-texture/page/64\n"
     ]
    },
    {
     "data": {
      "application/vnd.jupyter.widget-view+json": {
       "model_id": "c8b3357061ab4b0b8778c63496fb5d6a",
       "version_major": 2,
       "version_minor": 0
      },
      "text/plain": [
       "Obteniendo productos:   0%|          | 0/1 [00:00<?, ?it/s]"
      ]
     },
     "metadata": {},
     "output_type": "display_data"
    },
    {
     "name": "stdout",
     "output_type": "stream",
     "text": [
      "Estamos en la página https://skinsort.com/products/products-for-better-texture/page/64\n"
     ]
    },
    {
     "data": {
      "application/vnd.jupyter.widget-view+json": {
       "model_id": "1be2af3808ba4a46b39fc6abe74316e6",
       "version_major": 2,
       "version_minor": 0
      },
      "text/plain": [
       "Obteniendo productos:   0%|          | 0/1 [00:00<?, ?it/s]"
      ]
     },
     "metadata": {},
     "output_type": "display_data"
    },
    {
     "name": "stdout",
     "output_type": "stream",
     "text": [
      "Estamos en la página https://skinsort.com/products/products-for-better-texture/page/64\n"
     ]
    },
    {
     "data": {
      "application/vnd.jupyter.widget-view+json": {
       "model_id": "0c287c47239a41aeb8a1db1c4746282b",
       "version_major": 2,
       "version_minor": 0
      },
      "text/plain": [
       "Obteniendo productos:   0%|          | 0/1 [00:00<?, ?it/s]"
      ]
     },
     "metadata": {},
     "output_type": "display_data"
    },
    {
     "name": "stdout",
     "output_type": "stream",
     "text": [
      "Estamos en la página https://skinsort.com/products/products-for-better-texture/page/65\n"
     ]
    },
    {
     "data": {
      "application/vnd.jupyter.widget-view+json": {
       "model_id": "7b1b283ba31e4b9ba08fe5d50dbc2afe",
       "version_major": 2,
       "version_minor": 0
      },
      "text/plain": [
       "Obteniendo productos:   0%|          | 0/1 [00:00<?, ?it/s]"
      ]
     },
     "metadata": {},
     "output_type": "display_data"
    },
    {
     "name": "stdout",
     "output_type": "stream",
     "text": [
      "Estamos en la página https://skinsort.com/products/products-for-better-texture/page/65\n"
     ]
    },
    {
     "data": {
      "application/vnd.jupyter.widget-view+json": {
       "model_id": "748d9e3c853340bebe5ab7a04389ec73",
       "version_major": 2,
       "version_minor": 0
      },
      "text/plain": [
       "Obteniendo productos:   0%|          | 0/1 [00:00<?, ?it/s]"
      ]
     },
     "metadata": {},
     "output_type": "display_data"
    },
    {
     "name": "stdout",
     "output_type": "stream",
     "text": [
      "Estamos en la página https://skinsort.com/products/products-for-better-texture/page/65\n"
     ]
    },
    {
     "data": {
      "application/vnd.jupyter.widget-view+json": {
       "model_id": "f00c1d0160234804a1c1f0a34c8d2483",
       "version_major": 2,
       "version_minor": 0
      },
      "text/plain": [
       "Obteniendo productos:   0%|          | 0/1 [00:00<?, ?it/s]"
      ]
     },
     "metadata": {},
     "output_type": "display_data"
    },
    {
     "name": "stdout",
     "output_type": "stream",
     "text": [
      "Estamos en la página https://skinsort.com/products/products-for-better-texture/page/66\n"
     ]
    },
    {
     "data": {
      "application/vnd.jupyter.widget-view+json": {
       "model_id": "5516b23bb8114ae2b97ef7fc8a6ff163",
       "version_major": 2,
       "version_minor": 0
      },
      "text/plain": [
       "Obteniendo productos:   0%|          | 0/1 [00:00<?, ?it/s]"
      ]
     },
     "metadata": {},
     "output_type": "display_data"
    },
    {
     "name": "stdout",
     "output_type": "stream",
     "text": [
      "Estamos en la página https://skinsort.com/products/products-for-better-texture/page/66\n"
     ]
    },
    {
     "data": {
      "application/vnd.jupyter.widget-view+json": {
       "model_id": "b25cc6b445de42bb87246d98c42431e3",
       "version_major": 2,
       "version_minor": 0
      },
      "text/plain": [
       "Obteniendo productos:   0%|          | 0/1 [00:00<?, ?it/s]"
      ]
     },
     "metadata": {},
     "output_type": "display_data"
    },
    {
     "name": "stdout",
     "output_type": "stream",
     "text": [
      "Estamos en la página https://skinsort.com/products/products-for-better-texture/page/66\n"
     ]
    },
    {
     "data": {
      "application/vnd.jupyter.widget-view+json": {
       "model_id": "f2b23a7c3f8046b6bdcbd2fb4be1944c",
       "version_major": 2,
       "version_minor": 0
      },
      "text/plain": [
       "Obteniendo productos:   0%|          | 0/1 [00:00<?, ?it/s]"
      ]
     },
     "metadata": {},
     "output_type": "display_data"
    },
    {
     "name": "stdout",
     "output_type": "stream",
     "text": [
      "Estamos en la página https://skinsort.com/products/products-for-better-texture/page/67\n"
     ]
    },
    {
     "data": {
      "application/vnd.jupyter.widget-view+json": {
       "model_id": "67dc3b5cf62e4c25a497b5a62f241d2c",
       "version_major": 2,
       "version_minor": 0
      },
      "text/plain": [
       "Obteniendo productos:   0%|          | 0/1 [00:00<?, ?it/s]"
      ]
     },
     "metadata": {},
     "output_type": "display_data"
    },
    {
     "name": "stdout",
     "output_type": "stream",
     "text": [
      "Estamos en la página https://skinsort.com/products/products-for-better-texture/page/67\n"
     ]
    },
    {
     "data": {
      "application/vnd.jupyter.widget-view+json": {
       "model_id": "454bb04e50b64d64acce27eb26633ac8",
       "version_major": 2,
       "version_minor": 0
      },
      "text/plain": [
       "Obteniendo productos:   0%|          | 0/1 [00:00<?, ?it/s]"
      ]
     },
     "metadata": {},
     "output_type": "display_data"
    },
    {
     "name": "stdout",
     "output_type": "stream",
     "text": [
      "Estamos en la página https://skinsort.com/products/products-for-better-texture/page/67\n"
     ]
    },
    {
     "data": {
      "application/vnd.jupyter.widget-view+json": {
       "model_id": "5e01788a767147e08541fa672f78c48c",
       "version_major": 2,
       "version_minor": 0
      },
      "text/plain": [
       "Obteniendo productos:   0%|          | 0/1 [00:00<?, ?it/s]"
      ]
     },
     "metadata": {},
     "output_type": "display_data"
    },
    {
     "name": "stdout",
     "output_type": "stream",
     "text": [
      "Estamos en la página https://skinsort.com/products/products-for-better-texture/page/68\n"
     ]
    },
    {
     "data": {
      "application/vnd.jupyter.widget-view+json": {
       "model_id": "16c35320737f40fd80560e8a1018b42c",
       "version_major": 2,
       "version_minor": 0
      },
      "text/plain": [
       "Obteniendo productos:   0%|          | 0/1 [00:00<?, ?it/s]"
      ]
     },
     "metadata": {},
     "output_type": "display_data"
    },
    {
     "name": "stdout",
     "output_type": "stream",
     "text": [
      "Estamos en la página https://skinsort.com/products/products-for-better-texture/page/68\n"
     ]
    },
    {
     "data": {
      "application/vnd.jupyter.widget-view+json": {
       "model_id": "30219bcce88c4161b7eed69906134459",
       "version_major": 2,
       "version_minor": 0
      },
      "text/plain": [
       "Obteniendo productos:   0%|          | 0/1 [00:00<?, ?it/s]"
      ]
     },
     "metadata": {},
     "output_type": "display_data"
    },
    {
     "name": "stdout",
     "output_type": "stream",
     "text": [
      "Estamos en la página https://skinsort.com/products/products-for-better-texture/page/68\n"
     ]
    },
    {
     "data": {
      "application/vnd.jupyter.widget-view+json": {
       "model_id": "ec5273c525a941d3b08ba5c112a0bb1f",
       "version_major": 2,
       "version_minor": 0
      },
      "text/plain": [
       "Obteniendo productos:   0%|          | 0/1 [00:00<?, ?it/s]"
      ]
     },
     "metadata": {},
     "output_type": "display_data"
    },
    {
     "name": "stdout",
     "output_type": "stream",
     "text": [
      "Estamos en la página https://skinsort.com/products/products-for-better-texture/page/69\n"
     ]
    },
    {
     "data": {
      "application/vnd.jupyter.widget-view+json": {
       "model_id": "d8a92ae6b80a41ed9019b223ce064c68",
       "version_major": 2,
       "version_minor": 0
      },
      "text/plain": [
       "Obteniendo productos:   0%|          | 0/1 [00:00<?, ?it/s]"
      ]
     },
     "metadata": {},
     "output_type": "display_data"
    },
    {
     "name": "stdout",
     "output_type": "stream",
     "text": [
      "Estamos en la página https://skinsort.com/products/products-for-better-texture/page/69\n"
     ]
    },
    {
     "data": {
      "application/vnd.jupyter.widget-view+json": {
       "model_id": "3eb85e34895e4b8982d2973664474bb9",
       "version_major": 2,
       "version_minor": 0
      },
      "text/plain": [
       "Obteniendo productos:   0%|          | 0/1 [00:00<?, ?it/s]"
      ]
     },
     "metadata": {},
     "output_type": "display_data"
    },
    {
     "name": "stdout",
     "output_type": "stream",
     "text": [
      "Estamos en la página https://skinsort.com/products/products-for-better-texture/page/69\n"
     ]
    },
    {
     "data": {
      "application/vnd.jupyter.widget-view+json": {
       "model_id": "15f6cda52f9044b7a5d820ec483e9a46",
       "version_major": 2,
       "version_minor": 0
      },
      "text/plain": [
       "Obteniendo productos:   0%|          | 0/1 [00:00<?, ?it/s]"
      ]
     },
     "metadata": {},
     "output_type": "display_data"
    },
    {
     "name": "stdout",
     "output_type": "stream",
     "text": [
      "Estamos en la página https://skinsort.com/products/products-for-better-texture/page/70\n"
     ]
    },
    {
     "data": {
      "application/vnd.jupyter.widget-view+json": {
       "model_id": "e4b6db7f96694c2faf8986c253779311",
       "version_major": 2,
       "version_minor": 0
      },
      "text/plain": [
       "Obteniendo productos:   0%|          | 0/1 [00:00<?, ?it/s]"
      ]
     },
     "metadata": {},
     "output_type": "display_data"
    },
    {
     "name": "stdout",
     "output_type": "stream",
     "text": [
      "Estamos en la página https://skinsort.com/products/products-for-better-texture/page/70\n"
     ]
    },
    {
     "data": {
      "application/vnd.jupyter.widget-view+json": {
       "model_id": "abbc4e97f7884010a804a428431c8a61",
       "version_major": 2,
       "version_minor": 0
      },
      "text/plain": [
       "Obteniendo productos:   0%|          | 0/1 [00:00<?, ?it/s]"
      ]
     },
     "metadata": {},
     "output_type": "display_data"
    },
    {
     "name": "stdout",
     "output_type": "stream",
     "text": [
      "Estamos en la página https://skinsort.com/products/products-for-better-texture/page/70\n"
     ]
    },
    {
     "data": {
      "application/vnd.jupyter.widget-view+json": {
       "model_id": "2397c860c30b4fa3894d800a42e31a9e",
       "version_major": 2,
       "version_minor": 0
      },
      "text/plain": [
       "Obteniendo productos:   0%|          | 0/1 [00:00<?, ?it/s]"
      ]
     },
     "metadata": {},
     "output_type": "display_data"
    },
    {
     "name": "stdout",
     "output_type": "stream",
     "text": [
      "Estamos en la página https://skinsort.com/products/products-for-better-texture/page/71\n"
     ]
    },
    {
     "data": {
      "application/vnd.jupyter.widget-view+json": {
       "model_id": "681768c26c0a4dbbafcef36b83826811",
       "version_major": 2,
       "version_minor": 0
      },
      "text/plain": [
       "Obteniendo productos:   0%|          | 0/1 [00:00<?, ?it/s]"
      ]
     },
     "metadata": {},
     "output_type": "display_data"
    },
    {
     "name": "stdout",
     "output_type": "stream",
     "text": [
      "Estamos en la página https://skinsort.com/products/products-for-better-texture/page/71\n"
     ]
    },
    {
     "data": {
      "application/vnd.jupyter.widget-view+json": {
       "model_id": "026ab72fb2dd4447b57cf8988568a49a",
       "version_major": 2,
       "version_minor": 0
      },
      "text/plain": [
       "Obteniendo productos:   0%|          | 0/1 [00:00<?, ?it/s]"
      ]
     },
     "metadata": {},
     "output_type": "display_data"
    },
    {
     "name": "stdout",
     "output_type": "stream",
     "text": [
      "Estamos en la página https://skinsort.com/products/products-for-better-texture/page/71\n"
     ]
    },
    {
     "data": {
      "application/vnd.jupyter.widget-view+json": {
       "model_id": "aa1692142c104086bd075cee229cf04f",
       "version_major": 2,
       "version_minor": 0
      },
      "text/plain": [
       "Obteniendo productos:   0%|          | 0/1 [00:00<?, ?it/s]"
      ]
     },
     "metadata": {},
     "output_type": "display_data"
    },
    {
     "name": "stdout",
     "output_type": "stream",
     "text": [
      "Estamos en la página https://skinsort.com/products/products-for-better-texture/page/72\n"
     ]
    },
    {
     "data": {
      "application/vnd.jupyter.widget-view+json": {
       "model_id": "0115995f0be64bf8a8c0d620b3b7dcee",
       "version_major": 2,
       "version_minor": 0
      },
      "text/plain": [
       "Obteniendo productos:   0%|          | 0/1 [00:00<?, ?it/s]"
      ]
     },
     "metadata": {},
     "output_type": "display_data"
    },
    {
     "name": "stdout",
     "output_type": "stream",
     "text": [
      "Estamos en la página https://skinsort.com/products/products-for-better-texture/page/72\n"
     ]
    },
    {
     "data": {
      "application/vnd.jupyter.widget-view+json": {
       "model_id": "6f008b1e9df645ed8ea8e87a2098d989",
       "version_major": 2,
       "version_minor": 0
      },
      "text/plain": [
       "Obteniendo productos:   0%|          | 0/1 [00:00<?, ?it/s]"
      ]
     },
     "metadata": {},
     "output_type": "display_data"
    },
    {
     "name": "stdout",
     "output_type": "stream",
     "text": [
      "Estamos en la página https://skinsort.com/products/products-for-better-texture/page/72\n"
     ]
    },
    {
     "data": {
      "application/vnd.jupyter.widget-view+json": {
       "model_id": "00316741e2e64f6b91e5a2ee743cdb9b",
       "version_major": 2,
       "version_minor": 0
      },
      "text/plain": [
       "Obteniendo productos:   0%|          | 0/1 [00:00<?, ?it/s]"
      ]
     },
     "metadata": {},
     "output_type": "display_data"
    },
    {
     "name": "stdout",
     "output_type": "stream",
     "text": [
      "Estamos en la página https://skinsort.com/products/products-for-better-texture/page/73\n"
     ]
    },
    {
     "data": {
      "application/vnd.jupyter.widget-view+json": {
       "model_id": "501168d0f19d432395b0f35f233f23d6",
       "version_major": 2,
       "version_minor": 0
      },
      "text/plain": [
       "Obteniendo productos:   0%|          | 0/1 [00:00<?, ?it/s]"
      ]
     },
     "metadata": {},
     "output_type": "display_data"
    },
    {
     "name": "stdout",
     "output_type": "stream",
     "text": [
      "Estamos en la página https://skinsort.com/products/products-for-better-texture/page/73\n"
     ]
    },
    {
     "data": {
      "application/vnd.jupyter.widget-view+json": {
       "model_id": "cd4609d8864b4170998f5179ef8cc069",
       "version_major": 2,
       "version_minor": 0
      },
      "text/plain": [
       "Obteniendo productos:   0%|          | 0/1 [00:00<?, ?it/s]"
      ]
     },
     "metadata": {},
     "output_type": "display_data"
    },
    {
     "name": "stdout",
     "output_type": "stream",
     "text": [
      "Estamos en la página https://skinsort.com/products/products-for-better-texture/page/73\n"
     ]
    },
    {
     "data": {
      "application/vnd.jupyter.widget-view+json": {
       "model_id": "4a7ca5fc8ce842b5bcfbac987e87fa05",
       "version_major": 2,
       "version_minor": 0
      },
      "text/plain": [
       "Obteniendo productos:   0%|          | 0/1 [00:00<?, ?it/s]"
      ]
     },
     "metadata": {},
     "output_type": "display_data"
    },
    {
     "name": "stdout",
     "output_type": "stream",
     "text": [
      "Estamos en la página https://skinsort.com/products/products-for-better-texture/page/74\n"
     ]
    },
    {
     "data": {
      "application/vnd.jupyter.widget-view+json": {
       "model_id": "94b79a8e0b264eb1b0ad6ae262997b43",
       "version_major": 2,
       "version_minor": 0
      },
      "text/plain": [
       "Obteniendo productos:   0%|          | 0/1 [00:00<?, ?it/s]"
      ]
     },
     "metadata": {},
     "output_type": "display_data"
    },
    {
     "name": "stdout",
     "output_type": "stream",
     "text": [
      "Estamos en la página https://skinsort.com/products/products-for-better-texture/page/74\n"
     ]
    },
    {
     "data": {
      "application/vnd.jupyter.widget-view+json": {
       "model_id": "248303b302cb42aeaef231b9a5e678de",
       "version_major": 2,
       "version_minor": 0
      },
      "text/plain": [
       "Obteniendo productos:   0%|          | 0/1 [00:00<?, ?it/s]"
      ]
     },
     "metadata": {},
     "output_type": "display_data"
    },
    {
     "name": "stdout",
     "output_type": "stream",
     "text": [
      "Estamos en la página https://skinsort.com/products/products-for-better-texture/page/74\n"
     ]
    },
    {
     "data": {
      "application/vnd.jupyter.widget-view+json": {
       "model_id": "a20ed4f10e6443309849cf49c7747cf0",
       "version_major": 2,
       "version_minor": 0
      },
      "text/plain": [
       "Obteniendo productos:   0%|          | 0/1 [00:00<?, ?it/s]"
      ]
     },
     "metadata": {},
     "output_type": "display_data"
    },
    {
     "name": "stdout",
     "output_type": "stream",
     "text": [
      "Estamos en la página https://skinsort.com/products/products-for-better-texture/page/75\n"
     ]
    },
    {
     "data": {
      "application/vnd.jupyter.widget-view+json": {
       "model_id": "064a8ae0a9f345c780f0511fb25a8765",
       "version_major": 2,
       "version_minor": 0
      },
      "text/plain": [
       "Obteniendo productos:   0%|          | 0/1 [00:00<?, ?it/s]"
      ]
     },
     "metadata": {},
     "output_type": "display_data"
    },
    {
     "name": "stdout",
     "output_type": "stream",
     "text": [
      "Estamos en la página https://skinsort.com/products/products-for-better-texture/page/75\n"
     ]
    },
    {
     "data": {
      "application/vnd.jupyter.widget-view+json": {
       "model_id": "b6b7a5c1b9ab430cb709e27d94274a5c",
       "version_major": 2,
       "version_minor": 0
      },
      "text/plain": [
       "Obteniendo productos:   0%|          | 0/1 [00:00<?, ?it/s]"
      ]
     },
     "metadata": {},
     "output_type": "display_data"
    },
    {
     "name": "stdout",
     "output_type": "stream",
     "text": [
      "Estamos en la página https://skinsort.com/products/products-for-better-texture/page/75\n"
     ]
    },
    {
     "data": {
      "application/vnd.jupyter.widget-view+json": {
       "model_id": "d391b17f45564564aabd4029db667f18",
       "version_major": 2,
       "version_minor": 0
      },
      "text/plain": [
       "Obteniendo productos:   0%|          | 0/1 [00:00<?, ?it/s]"
      ]
     },
     "metadata": {},
     "output_type": "display_data"
    },
    {
     "name": "stdout",
     "output_type": "stream",
     "text": [
      "Estamos en la página https://skinsort.com/products/products-for-better-texture/page/76\n"
     ]
    },
    {
     "data": {
      "application/vnd.jupyter.widget-view+json": {
       "model_id": "2f7d48a96e65468db41d9822273d22c8",
       "version_major": 2,
       "version_minor": 0
      },
      "text/plain": [
       "Obteniendo productos:   0%|          | 0/1 [00:00<?, ?it/s]"
      ]
     },
     "metadata": {},
     "output_type": "display_data"
    },
    {
     "name": "stdout",
     "output_type": "stream",
     "text": [
      "Estamos en la página https://skinsort.com/products/products-for-better-texture/page/76\n"
     ]
    },
    {
     "data": {
      "application/vnd.jupyter.widget-view+json": {
       "model_id": "0d1d2a6e57b7406f986455db6e7fe337",
       "version_major": 2,
       "version_minor": 0
      },
      "text/plain": [
       "Obteniendo productos:   0%|          | 0/1 [00:00<?, ?it/s]"
      ]
     },
     "metadata": {},
     "output_type": "display_data"
    },
    {
     "name": "stdout",
     "output_type": "stream",
     "text": [
      "Estamos en la página https://skinsort.com/products/products-for-better-texture/page/76\n"
     ]
    },
    {
     "data": {
      "application/vnd.jupyter.widget-view+json": {
       "model_id": "7eb615a91efd4af384a4fd468e7bad04",
       "version_major": 2,
       "version_minor": 0
      },
      "text/plain": [
       "Obteniendo productos:   0%|          | 0/1 [00:00<?, ?it/s]"
      ]
     },
     "metadata": {},
     "output_type": "display_data"
    },
    {
     "name": "stdout",
     "output_type": "stream",
     "text": [
      "Estamos en la página https://skinsort.com/products/products-for-better-texture/page/77\n"
     ]
    },
    {
     "data": {
      "application/vnd.jupyter.widget-view+json": {
       "model_id": "87c3be68daaf4f08b2ed4908eed2c83b",
       "version_major": 2,
       "version_minor": 0
      },
      "text/plain": [
       "Obteniendo productos:   0%|          | 0/1 [00:00<?, ?it/s]"
      ]
     },
     "metadata": {},
     "output_type": "display_data"
    },
    {
     "name": "stdout",
     "output_type": "stream",
     "text": [
      "Estamos en la página https://skinsort.com/products/products-for-better-texture/page/77\n"
     ]
    },
    {
     "data": {
      "application/vnd.jupyter.widget-view+json": {
       "model_id": "4c69a83fc5bf41d5b59a9e1cb8f55670",
       "version_major": 2,
       "version_minor": 0
      },
      "text/plain": [
       "Obteniendo productos:   0%|          | 0/1 [00:00<?, ?it/s]"
      ]
     },
     "metadata": {},
     "output_type": "display_data"
    },
    {
     "name": "stdout",
     "output_type": "stream",
     "text": [
      "Estamos en la página https://skinsort.com/products/products-for-better-texture/page/77\n"
     ]
    },
    {
     "data": {
      "application/vnd.jupyter.widget-view+json": {
       "model_id": "e5327ecb2b46463583441734728922e4",
       "version_major": 2,
       "version_minor": 0
      },
      "text/plain": [
       "Obteniendo productos:   0%|          | 0/1 [00:00<?, ?it/s]"
      ]
     },
     "metadata": {},
     "output_type": "display_data"
    },
    {
     "name": "stdout",
     "output_type": "stream",
     "text": [
      "Estamos en la página https://skinsort.com/products/products-for-better-texture/page/78\n"
     ]
    },
    {
     "data": {
      "application/vnd.jupyter.widget-view+json": {
       "model_id": "00c5467493da47feb69592614c2f8f1b",
       "version_major": 2,
       "version_minor": 0
      },
      "text/plain": [
       "Obteniendo productos:   0%|          | 0/1 [00:00<?, ?it/s]"
      ]
     },
     "metadata": {},
     "output_type": "display_data"
    },
    {
     "name": "stdout",
     "output_type": "stream",
     "text": [
      "Estamos en la página https://skinsort.com/products/products-for-better-texture/page/78\n"
     ]
    },
    {
     "data": {
      "application/vnd.jupyter.widget-view+json": {
       "model_id": "f0faeb6ef2d448479e68d5c4d5a61482",
       "version_major": 2,
       "version_minor": 0
      },
      "text/plain": [
       "Obteniendo productos:   0%|          | 0/1 [00:00<?, ?it/s]"
      ]
     },
     "metadata": {},
     "output_type": "display_data"
    },
    {
     "name": "stdout",
     "output_type": "stream",
     "text": [
      "Estamos en la página https://skinsort.com/products/products-for-better-texture/page/78\n"
     ]
    },
    {
     "data": {
      "application/vnd.jupyter.widget-view+json": {
       "model_id": "f0b83d3191d348fca84c859f556ab4e5",
       "version_major": 2,
       "version_minor": 0
      },
      "text/plain": [
       "Obteniendo productos:   0%|          | 0/1 [00:00<?, ?it/s]"
      ]
     },
     "metadata": {},
     "output_type": "display_data"
    },
    {
     "name": "stdout",
     "output_type": "stream",
     "text": [
      "Estamos en la página https://skinsort.com/products/products-for-better-texture/page/79\n"
     ]
    },
    {
     "data": {
      "application/vnd.jupyter.widget-view+json": {
       "model_id": "467eb4937f4242bdaf07751a629beb89",
       "version_major": 2,
       "version_minor": 0
      },
      "text/plain": [
       "Obteniendo productos:   0%|          | 0/1 [00:00<?, ?it/s]"
      ]
     },
     "metadata": {},
     "output_type": "display_data"
    },
    {
     "name": "stdout",
     "output_type": "stream",
     "text": [
      "Estamos en la página https://skinsort.com/products/products-for-better-texture/page/79\n"
     ]
    },
    {
     "data": {
      "application/vnd.jupyter.widget-view+json": {
       "model_id": "c57587b26e9443eaaa124e57126c7017",
       "version_major": 2,
       "version_minor": 0
      },
      "text/plain": [
       "Obteniendo productos:   0%|          | 0/1 [00:00<?, ?it/s]"
      ]
     },
     "metadata": {},
     "output_type": "display_data"
    },
    {
     "name": "stdout",
     "output_type": "stream",
     "text": [
      "Estamos en la página https://skinsort.com/products/products-for-better-texture/page/79\n"
     ]
    },
    {
     "data": {
      "application/vnd.jupyter.widget-view+json": {
       "model_id": "28a06a81508d4b56aeda8b8ce165634d",
       "version_major": 2,
       "version_minor": 0
      },
      "text/plain": [
       "Obteniendo productos:   0%|          | 0/1 [00:00<?, ?it/s]"
      ]
     },
     "metadata": {},
     "output_type": "display_data"
    },
    {
     "name": "stdout",
     "output_type": "stream",
     "text": [
      "Estamos en la página https://skinsort.com/products/products-for-better-texture/page/80\n"
     ]
    },
    {
     "data": {
      "application/vnd.jupyter.widget-view+json": {
       "model_id": "6a6ff169ad3a4a7fa0f58bd3bf233233",
       "version_major": 2,
       "version_minor": 0
      },
      "text/plain": [
       "Obteniendo productos:   0%|          | 0/1 [00:00<?, ?it/s]"
      ]
     },
     "metadata": {},
     "output_type": "display_data"
    },
    {
     "name": "stdout",
     "output_type": "stream",
     "text": [
      "Estamos en la página https://skinsort.com/products/products-for-better-texture/page/80\n"
     ]
    },
    {
     "data": {
      "application/vnd.jupyter.widget-view+json": {
       "model_id": "76b49ece29484226aa3781414135118f",
       "version_major": 2,
       "version_minor": 0
      },
      "text/plain": [
       "Obteniendo productos:   0%|          | 0/1 [00:00<?, ?it/s]"
      ]
     },
     "metadata": {},
     "output_type": "display_data"
    },
    {
     "name": "stdout",
     "output_type": "stream",
     "text": [
      "Estamos en la página https://skinsort.com/products/products-for-better-texture/page/80\n"
     ]
    },
    {
     "data": {
      "application/vnd.jupyter.widget-view+json": {
       "model_id": "1021c131ae3b4c8eb51708d5543b6841",
       "version_major": 2,
       "version_minor": 0
      },
      "text/plain": [
       "Obteniendo productos:   0%|          | 0/1 [00:00<?, ?it/s]"
      ]
     },
     "metadata": {},
     "output_type": "display_data"
    },
    {
     "name": "stdout",
     "output_type": "stream",
     "text": [
      "Estamos en la página https://skinsort.com/products/products-for-better-texture/page/81\n"
     ]
    },
    {
     "data": {
      "application/vnd.jupyter.widget-view+json": {
       "model_id": "aeb9594a35fd4ebd897634b26d766754",
       "version_major": 2,
       "version_minor": 0
      },
      "text/plain": [
       "Obteniendo productos:   0%|          | 0/1 [00:00<?, ?it/s]"
      ]
     },
     "metadata": {},
     "output_type": "display_data"
    },
    {
     "name": "stdout",
     "output_type": "stream",
     "text": [
      "Estamos en la página https://skinsort.com/products/products-for-better-texture/page/81\n"
     ]
    },
    {
     "data": {
      "application/vnd.jupyter.widget-view+json": {
       "model_id": "403bdb05a8994c0c9e2f9c166f81d9ee",
       "version_major": 2,
       "version_minor": 0
      },
      "text/plain": [
       "Obteniendo productos:   0%|          | 0/1 [00:00<?, ?it/s]"
      ]
     },
     "metadata": {},
     "output_type": "display_data"
    },
    {
     "name": "stdout",
     "output_type": "stream",
     "text": [
      "Estamos en la página https://skinsort.com/products/products-for-better-texture/page/81\n"
     ]
    },
    {
     "data": {
      "application/vnd.jupyter.widget-view+json": {
       "model_id": "9b5ed7a6447d4c13b906305b13769ed7",
       "version_major": 2,
       "version_minor": 0
      },
      "text/plain": [
       "Obteniendo productos:   0%|          | 0/1 [00:00<?, ?it/s]"
      ]
     },
     "metadata": {},
     "output_type": "display_data"
    },
    {
     "name": "stdout",
     "output_type": "stream",
     "text": [
      "Estamos en la página https://skinsort.com/products/products-for-better-texture/page/82\n"
     ]
    },
    {
     "data": {
      "application/vnd.jupyter.widget-view+json": {
       "model_id": "f1eb7ae068ee49a29c2b1cc0f4bc6e81",
       "version_major": 2,
       "version_minor": 0
      },
      "text/plain": [
       "Obteniendo productos:   0%|          | 0/1 [00:00<?, ?it/s]"
      ]
     },
     "metadata": {},
     "output_type": "display_data"
    },
    {
     "name": "stdout",
     "output_type": "stream",
     "text": [
      "Estamos en la página https://skinsort.com/products/products-for-better-texture/page/82\n"
     ]
    },
    {
     "data": {
      "application/vnd.jupyter.widget-view+json": {
       "model_id": "0d242798a35745cfa4b738d61edc4702",
       "version_major": 2,
       "version_minor": 0
      },
      "text/plain": [
       "Obteniendo productos:   0%|          | 0/1 [00:00<?, ?it/s]"
      ]
     },
     "metadata": {},
     "output_type": "display_data"
    },
    {
     "name": "stdout",
     "output_type": "stream",
     "text": [
      "Estamos en la página https://skinsort.com/products/products-for-better-texture/page/82\n"
     ]
    },
    {
     "data": {
      "application/vnd.jupyter.widget-view+json": {
       "model_id": "c0388ca0f3b64f54b9d311863177d1c1",
       "version_major": 2,
       "version_minor": 0
      },
      "text/plain": [
       "Obteniendo productos:   0%|          | 0/1 [00:00<?, ?it/s]"
      ]
     },
     "metadata": {},
     "output_type": "display_data"
    },
    {
     "name": "stdout",
     "output_type": "stream",
     "text": [
      "Estamos en la página https://skinsort.com/products/products-for-better-texture/page/83\n"
     ]
    },
    {
     "data": {
      "application/vnd.jupyter.widget-view+json": {
       "model_id": "3865ff8b748a4ab6ba20b48977e0cf15",
       "version_major": 2,
       "version_minor": 0
      },
      "text/plain": [
       "Obteniendo productos:   0%|          | 0/1 [00:00<?, ?it/s]"
      ]
     },
     "metadata": {},
     "output_type": "display_data"
    },
    {
     "name": "stdout",
     "output_type": "stream",
     "text": [
      "Estamos en la página https://skinsort.com/products/products-for-better-texture/page/83\n"
     ]
    },
    {
     "data": {
      "application/vnd.jupyter.widget-view+json": {
       "model_id": "1625c4f6680b466eb365fb2f5e24e53d",
       "version_major": 2,
       "version_minor": 0
      },
      "text/plain": [
       "Obteniendo productos:   0%|          | 0/1 [00:00<?, ?it/s]"
      ]
     },
     "metadata": {},
     "output_type": "display_data"
    },
    {
     "name": "stdout",
     "output_type": "stream",
     "text": [
      "Estamos en la página https://skinsort.com/products/products-for-better-texture/page/83\n"
     ]
    },
    {
     "data": {
      "application/vnd.jupyter.widget-view+json": {
       "model_id": "9b11836bc021455489c8c1fa89ee58b4",
       "version_major": 2,
       "version_minor": 0
      },
      "text/plain": [
       "Obteniendo productos:   0%|          | 0/1 [00:00<?, ?it/s]"
      ]
     },
     "metadata": {},
     "output_type": "display_data"
    },
    {
     "name": "stdout",
     "output_type": "stream",
     "text": [
      "Estamos en la página https://skinsort.com/products/products-for-better-texture/page/84\n"
     ]
    },
    {
     "data": {
      "application/vnd.jupyter.widget-view+json": {
       "model_id": "f4a254c4a69845cd957650c5ebd4a384",
       "version_major": 2,
       "version_minor": 0
      },
      "text/plain": [
       "Obteniendo productos:   0%|          | 0/1 [00:00<?, ?it/s]"
      ]
     },
     "metadata": {},
     "output_type": "display_data"
    },
    {
     "name": "stdout",
     "output_type": "stream",
     "text": [
      "Estamos en la página https://skinsort.com/products/products-for-better-texture/page/84\n"
     ]
    },
    {
     "data": {
      "application/vnd.jupyter.widget-view+json": {
       "model_id": "b3d6b120e0404f77903dd5a69a1bff71",
       "version_major": 2,
       "version_minor": 0
      },
      "text/plain": [
       "Obteniendo productos:   0%|          | 0/1 [00:00<?, ?it/s]"
      ]
     },
     "metadata": {},
     "output_type": "display_data"
    },
    {
     "name": "stdout",
     "output_type": "stream",
     "text": [
      "Estamos en la página https://skinsort.com/products/products-for-better-texture/page/84\n"
     ]
    },
    {
     "data": {
      "application/vnd.jupyter.widget-view+json": {
       "model_id": "2c1743c2ad124d579894f0d772f2e156",
       "version_major": 2,
       "version_minor": 0
      },
      "text/plain": [
       "Obteniendo productos:   0%|          | 0/1 [00:00<?, ?it/s]"
      ]
     },
     "metadata": {},
     "output_type": "display_data"
    },
    {
     "name": "stdout",
     "output_type": "stream",
     "text": [
      "Estamos en la página https://skinsort.com/products/products-for-better-texture/page/85\n"
     ]
    },
    {
     "data": {
      "application/vnd.jupyter.widget-view+json": {
       "model_id": "69ae8e1e7a3543a0986b662a32a4a1a1",
       "version_major": 2,
       "version_minor": 0
      },
      "text/plain": [
       "Obteniendo productos:   0%|          | 0/1 [00:00<?, ?it/s]"
      ]
     },
     "metadata": {},
     "output_type": "display_data"
    },
    {
     "name": "stdout",
     "output_type": "stream",
     "text": [
      "Estamos en la página https://skinsort.com/products/products-for-better-texture/page/85\n"
     ]
    },
    {
     "data": {
      "application/vnd.jupyter.widget-view+json": {
       "model_id": "cadc8363ac41461e9c4b08728a4f5bb5",
       "version_major": 2,
       "version_minor": 0
      },
      "text/plain": [
       "Obteniendo productos:   0%|          | 0/1 [00:00<?, ?it/s]"
      ]
     },
     "metadata": {},
     "output_type": "display_data"
    },
    {
     "name": "stdout",
     "output_type": "stream",
     "text": [
      "Estamos en la página https://skinsort.com/products/products-for-better-texture/page/85\n"
     ]
    },
    {
     "data": {
      "application/vnd.jupyter.widget-view+json": {
       "model_id": "88c4abb1565b4ff8bd43de2289f13c4c",
       "version_major": 2,
       "version_minor": 0
      },
      "text/plain": [
       "Obteniendo productos:   0%|          | 0/1 [00:00<?, ?it/s]"
      ]
     },
     "metadata": {},
     "output_type": "display_data"
    },
    {
     "name": "stdout",
     "output_type": "stream",
     "text": [
      "Estamos en la página https://skinsort.com/products/products-for-better-texture/page/86\n"
     ]
    },
    {
     "data": {
      "application/vnd.jupyter.widget-view+json": {
       "model_id": "0b3c97e88c9644e0b5246e9bfd8a5746",
       "version_major": 2,
       "version_minor": 0
      },
      "text/plain": [
       "Obteniendo productos:   0%|          | 0/1 [00:00<?, ?it/s]"
      ]
     },
     "metadata": {},
     "output_type": "display_data"
    },
    {
     "name": "stdout",
     "output_type": "stream",
     "text": [
      "Estamos en la página https://skinsort.com/products/products-for-better-texture/page/86\n"
     ]
    },
    {
     "data": {
      "application/vnd.jupyter.widget-view+json": {
       "model_id": "89eaca0055ba441fbae91931d3ff377d",
       "version_major": 2,
       "version_minor": 0
      },
      "text/plain": [
       "Obteniendo productos:   0%|          | 0/1 [00:00<?, ?it/s]"
      ]
     },
     "metadata": {},
     "output_type": "display_data"
    },
    {
     "name": "stdout",
     "output_type": "stream",
     "text": [
      "Estamos en la página https://skinsort.com/products/products-for-better-texture/page/86\n"
     ]
    },
    {
     "data": {
      "application/vnd.jupyter.widget-view+json": {
       "model_id": "fb9b08b9889e40e8bc7e1e9880ee96ff",
       "version_major": 2,
       "version_minor": 0
      },
      "text/plain": [
       "Obteniendo productos:   0%|          | 0/1 [00:00<?, ?it/s]"
      ]
     },
     "metadata": {},
     "output_type": "display_data"
    },
    {
     "name": "stdout",
     "output_type": "stream",
     "text": [
      "Estamos en la página https://skinsort.com/products/products-for-better-texture/page/87\n"
     ]
    },
    {
     "data": {
      "application/vnd.jupyter.widget-view+json": {
       "model_id": "671f089595944e7d835f3a7831cd3181",
       "version_major": 2,
       "version_minor": 0
      },
      "text/plain": [
       "Obteniendo productos:   0%|          | 0/1 [00:00<?, ?it/s]"
      ]
     },
     "metadata": {},
     "output_type": "display_data"
    },
    {
     "name": "stdout",
     "output_type": "stream",
     "text": [
      "Estamos en la página https://skinsort.com/products/products-for-better-texture/page/87\n"
     ]
    },
    {
     "data": {
      "application/vnd.jupyter.widget-view+json": {
       "model_id": "309cfc1f99214900b2110cb67ac02444",
       "version_major": 2,
       "version_minor": 0
      },
      "text/plain": [
       "Obteniendo productos:   0%|          | 0/1 [00:00<?, ?it/s]"
      ]
     },
     "metadata": {},
     "output_type": "display_data"
    },
    {
     "name": "stdout",
     "output_type": "stream",
     "text": [
      "Estamos en la página https://skinsort.com/products/products-for-better-texture/page/87\n"
     ]
    },
    {
     "data": {
      "application/vnd.jupyter.widget-view+json": {
       "model_id": "ebfcc73145a34393a5ab0c2066634bf2",
       "version_major": 2,
       "version_minor": 0
      },
      "text/plain": [
       "Obteniendo productos:   0%|          | 0/1 [00:00<?, ?it/s]"
      ]
     },
     "metadata": {},
     "output_type": "display_data"
    },
    {
     "name": "stdout",
     "output_type": "stream",
     "text": [
      "Estamos en la página https://skinsort.com/products/products-for-better-texture/page/88\n"
     ]
    },
    {
     "data": {
      "application/vnd.jupyter.widget-view+json": {
       "model_id": "fe89252fd845465db1b26478d0e0c281",
       "version_major": 2,
       "version_minor": 0
      },
      "text/plain": [
       "Obteniendo productos:   0%|          | 0/1 [00:00<?, ?it/s]"
      ]
     },
     "metadata": {},
     "output_type": "display_data"
    },
    {
     "name": "stdout",
     "output_type": "stream",
     "text": [
      "Estamos en la página https://skinsort.com/products/products-for-better-texture/page/88\n"
     ]
    },
    {
     "data": {
      "application/vnd.jupyter.widget-view+json": {
       "model_id": "442de5d3fb214899bf90472f7663a6f5",
       "version_major": 2,
       "version_minor": 0
      },
      "text/plain": [
       "Obteniendo productos:   0%|          | 0/1 [00:00<?, ?it/s]"
      ]
     },
     "metadata": {},
     "output_type": "display_data"
    },
    {
     "name": "stdout",
     "output_type": "stream",
     "text": [
      "Estamos en la página https://skinsort.com/products/products-for-better-texture/page/88\n"
     ]
    },
    {
     "data": {
      "application/vnd.jupyter.widget-view+json": {
       "model_id": "12d0320553ca470ca2f92ba922817024",
       "version_major": 2,
       "version_minor": 0
      },
      "text/plain": [
       "Obteniendo productos:   0%|          | 0/1 [00:00<?, ?it/s]"
      ]
     },
     "metadata": {},
     "output_type": "display_data"
    },
    {
     "name": "stdout",
     "output_type": "stream",
     "text": [
      "Estamos en la página https://skinsort.com/products/products-for-better-texture/page/89\n"
     ]
    },
    {
     "data": {
      "application/vnd.jupyter.widget-view+json": {
       "model_id": "7d877037d0334bb1b31d61bd80b24bd7",
       "version_major": 2,
       "version_minor": 0
      },
      "text/plain": [
       "Obteniendo productos:   0%|          | 0/1 [00:00<?, ?it/s]"
      ]
     },
     "metadata": {},
     "output_type": "display_data"
    },
    {
     "name": "stdout",
     "output_type": "stream",
     "text": [
      "Estamos en la página https://skinsort.com/products/products-for-better-texture/page/89\n"
     ]
    },
    {
     "data": {
      "application/vnd.jupyter.widget-view+json": {
       "model_id": "16ac4a578e9a4f43b61d14afde05611b",
       "version_major": 2,
       "version_minor": 0
      },
      "text/plain": [
       "Obteniendo productos:   0%|          | 0/1 [00:00<?, ?it/s]"
      ]
     },
     "metadata": {},
     "output_type": "display_data"
    },
    {
     "name": "stdout",
     "output_type": "stream",
     "text": [
      "Estamos en la página https://skinsort.com/products/products-for-better-texture/page/89\n"
     ]
    },
    {
     "data": {
      "application/vnd.jupyter.widget-view+json": {
       "model_id": "6ba411d40c0f40cb8fbdf83cc985838f",
       "version_major": 2,
       "version_minor": 0
      },
      "text/plain": [
       "Obteniendo productos:   0%|          | 0/1 [00:00<?, ?it/s]"
      ]
     },
     "metadata": {},
     "output_type": "display_data"
    },
    {
     "name": "stdout",
     "output_type": "stream",
     "text": [
      "Estamos en la página https://skinsort.com/products/products-for-better-texture/page/90\n"
     ]
    },
    {
     "data": {
      "application/vnd.jupyter.widget-view+json": {
       "model_id": "be9ac79e91b3490ebbaf68d722d6e268",
       "version_major": 2,
       "version_minor": 0
      },
      "text/plain": [
       "Obteniendo productos:   0%|          | 0/1 [00:00<?, ?it/s]"
      ]
     },
     "metadata": {},
     "output_type": "display_data"
    },
    {
     "name": "stdout",
     "output_type": "stream",
     "text": [
      "Estamos en la página https://skinsort.com/products/products-for-better-texture/page/90\n"
     ]
    },
    {
     "data": {
      "application/vnd.jupyter.widget-view+json": {
       "model_id": "e70fea4b0fcd4a7e8d652924ddb42073",
       "version_major": 2,
       "version_minor": 0
      },
      "text/plain": [
       "Obteniendo productos:   0%|          | 0/1 [00:00<?, ?it/s]"
      ]
     },
     "metadata": {},
     "output_type": "display_data"
    },
    {
     "name": "stdout",
     "output_type": "stream",
     "text": [
      "Estamos en la página https://skinsort.com/products/products-for-better-texture/page/90\n"
     ]
    },
    {
     "data": {
      "application/vnd.jupyter.widget-view+json": {
       "model_id": "efe03e7cfbe442da89103f0251650c03",
       "version_major": 2,
       "version_minor": 0
      },
      "text/plain": [
       "Obteniendo productos:   0%|          | 0/1 [00:00<?, ?it/s]"
      ]
     },
     "metadata": {},
     "output_type": "display_data"
    },
    {
     "name": "stdout",
     "output_type": "stream",
     "text": [
      "Estamos en la página https://skinsort.com/products/products-for-better-texture/page/91\n"
     ]
    },
    {
     "data": {
      "application/vnd.jupyter.widget-view+json": {
       "model_id": "2cadce62b2e34d7b8a64665e0bcc7f1e",
       "version_major": 2,
       "version_minor": 0
      },
      "text/plain": [
       "Obteniendo productos:   0%|          | 0/1 [00:00<?, ?it/s]"
      ]
     },
     "metadata": {},
     "output_type": "display_data"
    },
    {
     "name": "stdout",
     "output_type": "stream",
     "text": [
      "Estamos en la página https://skinsort.com/products/products-for-better-texture/page/91\n"
     ]
    },
    {
     "data": {
      "application/vnd.jupyter.widget-view+json": {
       "model_id": "d4d81647cffb4fd4bb34f017a13b77fa",
       "version_major": 2,
       "version_minor": 0
      },
      "text/plain": [
       "Obteniendo productos:   0%|          | 0/1 [00:00<?, ?it/s]"
      ]
     },
     "metadata": {},
     "output_type": "display_data"
    },
    {
     "name": "stdout",
     "output_type": "stream",
     "text": [
      "Estamos en la página https://skinsort.com/products/products-for-better-texture/page/91\n"
     ]
    },
    {
     "data": {
      "application/vnd.jupyter.widget-view+json": {
       "model_id": "5590a9f0e3644d5f96c25aed2b17500e",
       "version_major": 2,
       "version_minor": 0
      },
      "text/plain": [
       "Obteniendo productos:   0%|          | 0/1 [00:00<?, ?it/s]"
      ]
     },
     "metadata": {},
     "output_type": "display_data"
    },
    {
     "name": "stdout",
     "output_type": "stream",
     "text": [
      "Estamos en la página https://skinsort.com/products/products-for-better-texture/page/92\n"
     ]
    },
    {
     "data": {
      "application/vnd.jupyter.widget-view+json": {
       "model_id": "1d28c0138b234a17b763511125a15bf5",
       "version_major": 2,
       "version_minor": 0
      },
      "text/plain": [
       "Obteniendo productos:   0%|          | 0/1 [00:00<?, ?it/s]"
      ]
     },
     "metadata": {},
     "output_type": "display_data"
    },
    {
     "name": "stdout",
     "output_type": "stream",
     "text": [
      "Estamos en la página https://skinsort.com/products/products-for-better-texture/page/92\n"
     ]
    },
    {
     "data": {
      "application/vnd.jupyter.widget-view+json": {
       "model_id": "0e8e47242ef3477c975b044f0f96ed8f",
       "version_major": 2,
       "version_minor": 0
      },
      "text/plain": [
       "Obteniendo productos:   0%|          | 0/1 [00:00<?, ?it/s]"
      ]
     },
     "metadata": {},
     "output_type": "display_data"
    },
    {
     "name": "stdout",
     "output_type": "stream",
     "text": [
      "Estamos en la página https://skinsort.com/products/products-for-better-texture/page/92\n"
     ]
    },
    {
     "data": {
      "application/vnd.jupyter.widget-view+json": {
       "model_id": "abaa8f192bcd4ccabced2d71784aeb87",
       "version_major": 2,
       "version_minor": 0
      },
      "text/plain": [
       "Obteniendo productos:   0%|          | 0/1 [00:00<?, ?it/s]"
      ]
     },
     "metadata": {},
     "output_type": "display_data"
    },
    {
     "name": "stdout",
     "output_type": "stream",
     "text": [
      "Estamos en la página https://skinsort.com/products/products-for-better-texture/page/93\n"
     ]
    },
    {
     "data": {
      "application/vnd.jupyter.widget-view+json": {
       "model_id": "69dce7592e2946d68009b81f47b1058a",
       "version_major": 2,
       "version_minor": 0
      },
      "text/plain": [
       "Obteniendo productos:   0%|          | 0/1 [00:00<?, ?it/s]"
      ]
     },
     "metadata": {},
     "output_type": "display_data"
    },
    {
     "name": "stdout",
     "output_type": "stream",
     "text": [
      "Estamos en la página https://skinsort.com/products/products-for-better-texture/page/93\n"
     ]
    },
    {
     "data": {
      "application/vnd.jupyter.widget-view+json": {
       "model_id": "3d12945acbe14896a208dc02f0ec3f00",
       "version_major": 2,
       "version_minor": 0
      },
      "text/plain": [
       "Obteniendo productos:   0%|          | 0/1 [00:00<?, ?it/s]"
      ]
     },
     "metadata": {},
     "output_type": "display_data"
    },
    {
     "name": "stdout",
     "output_type": "stream",
     "text": [
      "Estamos en la página https://skinsort.com/products/products-for-better-texture/page/93\n"
     ]
    },
    {
     "data": {
      "application/vnd.jupyter.widget-view+json": {
       "model_id": "a58a434f48a94e8bb1c40613289c26ca",
       "version_major": 2,
       "version_minor": 0
      },
      "text/plain": [
       "Obteniendo productos:   0%|          | 0/1 [00:00<?, ?it/s]"
      ]
     },
     "metadata": {},
     "output_type": "display_data"
    },
    {
     "name": "stdout",
     "output_type": "stream",
     "text": [
      "Estamos en la página https://skinsort.com/products/products-for-better-texture/page/94\n"
     ]
    },
    {
     "data": {
      "application/vnd.jupyter.widget-view+json": {
       "model_id": "08a29ce0bbae431f9c2e171e9ee09cc0",
       "version_major": 2,
       "version_minor": 0
      },
      "text/plain": [
       "Obteniendo productos:   0%|          | 0/1 [00:00<?, ?it/s]"
      ]
     },
     "metadata": {},
     "output_type": "display_data"
    },
    {
     "name": "stdout",
     "output_type": "stream",
     "text": [
      "Estamos en la página https://skinsort.com/products/products-for-better-texture/page/94\n"
     ]
    },
    {
     "data": {
      "application/vnd.jupyter.widget-view+json": {
       "model_id": "c72dbb889662448b81349bfd4cd0cbd8",
       "version_major": 2,
       "version_minor": 0
      },
      "text/plain": [
       "Obteniendo productos:   0%|          | 0/1 [00:00<?, ?it/s]"
      ]
     },
     "metadata": {},
     "output_type": "display_data"
    },
    {
     "name": "stdout",
     "output_type": "stream",
     "text": [
      "Estamos en la página https://skinsort.com/products/products-for-better-texture/page/94\n"
     ]
    },
    {
     "data": {
      "application/vnd.jupyter.widget-view+json": {
       "model_id": "4d4740e6a9bb4025ae33d61024a5cee8",
       "version_major": 2,
       "version_minor": 0
      },
      "text/plain": [
       "Obteniendo productos:   0%|          | 0/1 [00:00<?, ?it/s]"
      ]
     },
     "metadata": {},
     "output_type": "display_data"
    },
    {
     "name": "stdout",
     "output_type": "stream",
     "text": [
      "Estamos en la página https://skinsort.com/products/products-for-better-texture/page/95\n"
     ]
    },
    {
     "data": {
      "application/vnd.jupyter.widget-view+json": {
       "model_id": "2d675ee3ef4b498f95046fb89bf75a66",
       "version_major": 2,
       "version_minor": 0
      },
      "text/plain": [
       "Obteniendo productos:   0%|          | 0/1 [00:00<?, ?it/s]"
      ]
     },
     "metadata": {},
     "output_type": "display_data"
    },
    {
     "name": "stdout",
     "output_type": "stream",
     "text": [
      "Estamos en la página https://skinsort.com/products/products-for-better-texture/page/95\n"
     ]
    },
    {
     "data": {
      "application/vnd.jupyter.widget-view+json": {
       "model_id": "08484252270e4028968923ad104e2e5e",
       "version_major": 2,
       "version_minor": 0
      },
      "text/plain": [
       "Obteniendo productos:   0%|          | 0/1 [00:00<?, ?it/s]"
      ]
     },
     "metadata": {},
     "output_type": "display_data"
    },
    {
     "name": "stdout",
     "output_type": "stream",
     "text": [
      "Estamos en la página https://skinsort.com/products/products-for-better-texture/page/95\n"
     ]
    },
    {
     "data": {
      "application/vnd.jupyter.widget-view+json": {
       "model_id": "a17667be489e4049994c7dce36799b4f",
       "version_major": 2,
       "version_minor": 0
      },
      "text/plain": [
       "Obteniendo productos:   0%|          | 0/1 [00:00<?, ?it/s]"
      ]
     },
     "metadata": {},
     "output_type": "display_data"
    },
    {
     "name": "stdout",
     "output_type": "stream",
     "text": [
      "Estamos en la página https://skinsort.com/products/products-for-better-texture/page/96\n"
     ]
    },
    {
     "data": {
      "application/vnd.jupyter.widget-view+json": {
       "model_id": "f9bdeaea242f4d0a92fc1a97d5a81142",
       "version_major": 2,
       "version_minor": 0
      },
      "text/plain": [
       "Obteniendo productos:   0%|          | 0/1 [00:00<?, ?it/s]"
      ]
     },
     "metadata": {},
     "output_type": "display_data"
    },
    {
     "name": "stdout",
     "output_type": "stream",
     "text": [
      "Estamos en la página https://skinsort.com/products/products-for-better-texture/page/96\n"
     ]
    },
    {
     "data": {
      "application/vnd.jupyter.widget-view+json": {
       "model_id": "3f040d8d35494746b5936006f4359d63",
       "version_major": 2,
       "version_minor": 0
      },
      "text/plain": [
       "Obteniendo productos:   0%|          | 0/1 [00:00<?, ?it/s]"
      ]
     },
     "metadata": {},
     "output_type": "display_data"
    },
    {
     "name": "stdout",
     "output_type": "stream",
     "text": [
      "Estamos en la página https://skinsort.com/products/products-for-better-texture/page/96\n"
     ]
    },
    {
     "data": {
      "application/vnd.jupyter.widget-view+json": {
       "model_id": "9bff572e047e402d9b01acb788147983",
       "version_major": 2,
       "version_minor": 0
      },
      "text/plain": [
       "Obteniendo productos:   0%|          | 0/1 [00:00<?, ?it/s]"
      ]
     },
     "metadata": {},
     "output_type": "display_data"
    },
    {
     "name": "stdout",
     "output_type": "stream",
     "text": [
      "Estamos en la página https://skinsort.com/products/products-for-better-texture/page/97\n"
     ]
    },
    {
     "data": {
      "application/vnd.jupyter.widget-view+json": {
       "model_id": "803320c760944f7098507b68f4489877",
       "version_major": 2,
       "version_minor": 0
      },
      "text/plain": [
       "Obteniendo productos:   0%|          | 0/1 [00:00<?, ?it/s]"
      ]
     },
     "metadata": {},
     "output_type": "display_data"
    },
    {
     "name": "stdout",
     "output_type": "stream",
     "text": [
      "Estamos en la página https://skinsort.com/products/products-for-better-texture/page/97\n"
     ]
    },
    {
     "data": {
      "application/vnd.jupyter.widget-view+json": {
       "model_id": "23e6666d5bb147c7b09d718abc5ef624",
       "version_major": 2,
       "version_minor": 0
      },
      "text/plain": [
       "Obteniendo productos:   0%|          | 0/1 [00:00<?, ?it/s]"
      ]
     },
     "metadata": {},
     "output_type": "display_data"
    },
    {
     "name": "stdout",
     "output_type": "stream",
     "text": [
      "Estamos en la página https://skinsort.com/products/products-for-better-texture/page/97\n"
     ]
    },
    {
     "data": {
      "application/vnd.jupyter.widget-view+json": {
       "model_id": "e7c4daa4fb054efb8ab2002b6c9b100c",
       "version_major": 2,
       "version_minor": 0
      },
      "text/plain": [
       "Obteniendo productos:   0%|          | 0/1 [00:00<?, ?it/s]"
      ]
     },
     "metadata": {},
     "output_type": "display_data"
    },
    {
     "name": "stdout",
     "output_type": "stream",
     "text": [
      "Estamos en la página https://skinsort.com/products/products-for-better-texture/page/98\n"
     ]
    },
    {
     "data": {
      "application/vnd.jupyter.widget-view+json": {
       "model_id": "e379a3c065b344dea2f4bc0c24b34e58",
       "version_major": 2,
       "version_minor": 0
      },
      "text/plain": [
       "Obteniendo productos:   0%|          | 0/1 [00:00<?, ?it/s]"
      ]
     },
     "metadata": {},
     "output_type": "display_data"
    },
    {
     "name": "stdout",
     "output_type": "stream",
     "text": [
      "Estamos en la página https://skinsort.com/products/products-for-better-texture/page/98\n"
     ]
    },
    {
     "data": {
      "application/vnd.jupyter.widget-view+json": {
       "model_id": "1f69b6d4aba84953bfb4fdfe0ef0371d",
       "version_major": 2,
       "version_minor": 0
      },
      "text/plain": [
       "Obteniendo productos:   0%|          | 0/1 [00:00<?, ?it/s]"
      ]
     },
     "metadata": {},
     "output_type": "display_data"
    },
    {
     "name": "stdout",
     "output_type": "stream",
     "text": [
      "Estamos en la página https://skinsort.com/products/products-for-better-texture/page/98\n",
      "Error al obtener los datos.\n"
     ]
    },
    {
     "data": {
      "application/vnd.jupyter.widget-view+json": {
       "model_id": "8a044739a05b43b7a10e5b2432822141",
       "version_major": 2,
       "version_minor": 0
      },
      "text/plain": [
       "Obteniendo productos:   0%|          | 0/1 [00:00<?, ?it/s]"
      ]
     },
     "metadata": {},
     "output_type": "display_data"
    },
    {
     "name": "stdout",
     "output_type": "stream",
     "text": [
      "Estamos en la página https://skinsort.com/products/products-for-better-texture/page/100\n"
     ]
    },
    {
     "data": {
      "application/vnd.jupyter.widget-view+json": {
       "model_id": "392d80a466b547ac87a5c1e8797a8b01",
       "version_major": 2,
       "version_minor": 0
      },
      "text/plain": [
       "Obteniendo productos:   0%|          | 0/1 [00:00<?, ?it/s]"
      ]
     },
     "metadata": {},
     "output_type": "display_data"
    },
    {
     "name": "stdout",
     "output_type": "stream",
     "text": [
      "Estamos en la página https://skinsort.com/products/products-for-better-texture/page/100\n"
     ]
    },
    {
     "data": {
      "application/vnd.jupyter.widget-view+json": {
       "model_id": "b6f0db0e9d9947b3a82060d148423467",
       "version_major": 2,
       "version_minor": 0
      },
      "text/plain": [
       "Obteniendo productos:   0%|          | 0/1 [00:00<?, ?it/s]"
      ]
     },
     "metadata": {},
     "output_type": "display_data"
    },
    {
     "name": "stdout",
     "output_type": "stream",
     "text": [
      "Estamos en la página https://skinsort.com/products/products-for-better-texture/page/100\n"
     ]
    },
    {
     "data": {
      "application/vnd.jupyter.widget-view+json": {
       "model_id": "be93bdc7e6994c09a136ee2193d7cb29",
       "version_major": 2,
       "version_minor": 0
      },
      "text/plain": [
       "Obteniendo productos:   0%|          | 0/1 [00:00<?, ?it/s]"
      ]
     },
     "metadata": {},
     "output_type": "display_data"
    },
    {
     "name": "stdout",
     "output_type": "stream",
     "text": [
      "Estamos en la página https://skinsort.com/products/products-for-better-texture/page/101\n"
     ]
    },
    {
     "data": {
      "application/vnd.jupyter.widget-view+json": {
       "model_id": "ac05cbed5c5e4dbaa1b1396f6bba8d63",
       "version_major": 2,
       "version_minor": 0
      },
      "text/plain": [
       "Obteniendo productos:   0%|          | 0/1 [00:00<?, ?it/s]"
      ]
     },
     "metadata": {},
     "output_type": "display_data"
    },
    {
     "name": "stdout",
     "output_type": "stream",
     "text": [
      "Estamos en la página https://skinsort.com/products/products-for-better-texture/page/101\n"
     ]
    },
    {
     "data": {
      "application/vnd.jupyter.widget-view+json": {
       "model_id": "dfab242dbcc14418ac5dbc37ac5403d2",
       "version_major": 2,
       "version_minor": 0
      },
      "text/plain": [
       "Obteniendo productos:   0%|          | 0/1 [00:00<?, ?it/s]"
      ]
     },
     "metadata": {},
     "output_type": "display_data"
    },
    {
     "name": "stdout",
     "output_type": "stream",
     "text": [
      "Estamos en la página https://skinsort.com/products/products-for-better-texture/page/101\n"
     ]
    },
    {
     "data": {
      "application/vnd.jupyter.widget-view+json": {
       "model_id": "a54db6d67a11406ba8fc7973bcb7732b",
       "version_major": 2,
       "version_minor": 0
      },
      "text/plain": [
       "Obteniendo productos:   0%|          | 0/1 [00:00<?, ?it/s]"
      ]
     },
     "metadata": {},
     "output_type": "display_data"
    },
    {
     "name": "stdout",
     "output_type": "stream",
     "text": [
      "Estamos en la página https://skinsort.com/products/products-for-better-texture/page/102\n"
     ]
    },
    {
     "data": {
      "application/vnd.jupyter.widget-view+json": {
       "model_id": "8f78a032888b44e0ba17b4239ba7c6dd",
       "version_major": 2,
       "version_minor": 0
      },
      "text/plain": [
       "Obteniendo productos:   0%|          | 0/1 [00:00<?, ?it/s]"
      ]
     },
     "metadata": {},
     "output_type": "display_data"
    },
    {
     "name": "stdout",
     "output_type": "stream",
     "text": [
      "Estamos en la página https://skinsort.com/products/products-for-better-texture/page/102\n"
     ]
    },
    {
     "data": {
      "application/vnd.jupyter.widget-view+json": {
       "model_id": "728c324e04524f57a7d2cd2b0b941a52",
       "version_major": 2,
       "version_minor": 0
      },
      "text/plain": [
       "Obteniendo productos:   0%|          | 0/1 [00:00<?, ?it/s]"
      ]
     },
     "metadata": {},
     "output_type": "display_data"
    },
    {
     "name": "stdout",
     "output_type": "stream",
     "text": [
      "Estamos en la página https://skinsort.com/products/products-for-better-texture/page/102\n"
     ]
    },
    {
     "data": {
      "application/vnd.jupyter.widget-view+json": {
       "model_id": "f8fef52b0f2640f8a74311d9ea3070ca",
       "version_major": 2,
       "version_minor": 0
      },
      "text/plain": [
       "Obteniendo productos:   0%|          | 0/1 [00:00<?, ?it/s]"
      ]
     },
     "metadata": {},
     "output_type": "display_data"
    },
    {
     "name": "stdout",
     "output_type": "stream",
     "text": [
      "Estamos en la página https://skinsort.com/products/products-for-better-texture/page/103\n"
     ]
    },
    {
     "data": {
      "application/vnd.jupyter.widget-view+json": {
       "model_id": "f91e92f28b31414093e0e807fbebfe91",
       "version_major": 2,
       "version_minor": 0
      },
      "text/plain": [
       "Obteniendo productos:   0%|          | 0/1 [00:00<?, ?it/s]"
      ]
     },
     "metadata": {},
     "output_type": "display_data"
    },
    {
     "name": "stdout",
     "output_type": "stream",
     "text": [
      "Estamos en la página https://skinsort.com/products/products-for-better-texture/page/103\n"
     ]
    },
    {
     "data": {
      "application/vnd.jupyter.widget-view+json": {
       "model_id": "3d6456c3439840f692716b38a420f856",
       "version_major": 2,
       "version_minor": 0
      },
      "text/plain": [
       "Obteniendo productos:   0%|          | 0/1 [00:00<?, ?it/s]"
      ]
     },
     "metadata": {},
     "output_type": "display_data"
    },
    {
     "name": "stdout",
     "output_type": "stream",
     "text": [
      "Estamos en la página https://skinsort.com/products/products-for-better-texture/page/103\n"
     ]
    },
    {
     "data": {
      "application/vnd.jupyter.widget-view+json": {
       "model_id": "93540fd9b71d47edac44e7aae87c6d74",
       "version_major": 2,
       "version_minor": 0
      },
      "text/plain": [
       "Obteniendo productos:   0%|          | 0/1 [00:00<?, ?it/s]"
      ]
     },
     "metadata": {},
     "output_type": "display_data"
    },
    {
     "name": "stdout",
     "output_type": "stream",
     "text": [
      "Estamos en la página https://skinsort.com/products/products-for-better-texture/page/104\n"
     ]
    },
    {
     "data": {
      "application/vnd.jupyter.widget-view+json": {
       "model_id": "e143840bdff242fb8c0cd121ec107841",
       "version_major": 2,
       "version_minor": 0
      },
      "text/plain": [
       "Obteniendo productos:   0%|          | 0/1 [00:00<?, ?it/s]"
      ]
     },
     "metadata": {},
     "output_type": "display_data"
    },
    {
     "name": "stdout",
     "output_type": "stream",
     "text": [
      "Estamos en la página https://skinsort.com/products/products-for-better-texture/page/104\n"
     ]
    },
    {
     "data": {
      "application/vnd.jupyter.widget-view+json": {
       "model_id": "4551abe2dd964bdaad9d172f615e7d1f",
       "version_major": 2,
       "version_minor": 0
      },
      "text/plain": [
       "Obteniendo productos:   0%|          | 0/1 [00:00<?, ?it/s]"
      ]
     },
     "metadata": {},
     "output_type": "display_data"
    },
    {
     "name": "stdout",
     "output_type": "stream",
     "text": [
      "Estamos en la página https://skinsort.com/products/products-for-better-texture/page/104\n"
     ]
    },
    {
     "data": {
      "application/vnd.jupyter.widget-view+json": {
       "model_id": "8dfb53c777444df2ba08e3876d7ac05f",
       "version_major": 2,
       "version_minor": 0
      },
      "text/plain": [
       "Obteniendo productos:   0%|          | 0/1 [00:00<?, ?it/s]"
      ]
     },
     "metadata": {},
     "output_type": "display_data"
    },
    {
     "name": "stdout",
     "output_type": "stream",
     "text": [
      "Estamos en la página https://skinsort.com/products/products-for-better-texture/page/105\n"
     ]
    },
    {
     "data": {
      "application/vnd.jupyter.widget-view+json": {
       "model_id": "fbaad2c7e17744609e18337fbb81e1ef",
       "version_major": 2,
       "version_minor": 0
      },
      "text/plain": [
       "Obteniendo productos:   0%|          | 0/1 [00:00<?, ?it/s]"
      ]
     },
     "metadata": {},
     "output_type": "display_data"
    },
    {
     "name": "stdout",
     "output_type": "stream",
     "text": [
      "Estamos en la página https://skinsort.com/products/products-for-better-texture/page/105\n"
     ]
    },
    {
     "data": {
      "application/vnd.jupyter.widget-view+json": {
       "model_id": "fb66f8996adb45a2860b723167b5b393",
       "version_major": 2,
       "version_minor": 0
      },
      "text/plain": [
       "Obteniendo productos:   0%|          | 0/1 [00:00<?, ?it/s]"
      ]
     },
     "metadata": {},
     "output_type": "display_data"
    },
    {
     "name": "stdout",
     "output_type": "stream",
     "text": [
      "Estamos en la página https://skinsort.com/products/products-for-better-texture/page/105\n"
     ]
    },
    {
     "data": {
      "application/vnd.jupyter.widget-view+json": {
       "model_id": "16f3c4cfa78f4fd189a77f2cff7d55fd",
       "version_major": 2,
       "version_minor": 0
      },
      "text/plain": [
       "Obteniendo productos:   0%|          | 0/1 [00:00<?, ?it/s]"
      ]
     },
     "metadata": {},
     "output_type": "display_data"
    },
    {
     "name": "stdout",
     "output_type": "stream",
     "text": [
      "Estamos en la página https://skinsort.com/products/products-for-better-texture/page/106\n"
     ]
    },
    {
     "data": {
      "application/vnd.jupyter.widget-view+json": {
       "model_id": "a38af52f563549d7b30fc359fb6340ba",
       "version_major": 2,
       "version_minor": 0
      },
      "text/plain": [
       "Obteniendo productos:   0%|          | 0/1 [00:00<?, ?it/s]"
      ]
     },
     "metadata": {},
     "output_type": "display_data"
    },
    {
     "name": "stdout",
     "output_type": "stream",
     "text": [
      "Estamos en la página https://skinsort.com/products/products-for-better-texture/page/106\n"
     ]
    },
    {
     "data": {
      "application/vnd.jupyter.widget-view+json": {
       "model_id": "3b11729023f848b5ac38cf87881e4342",
       "version_major": 2,
       "version_minor": 0
      },
      "text/plain": [
       "Obteniendo productos:   0%|          | 0/1 [00:00<?, ?it/s]"
      ]
     },
     "metadata": {},
     "output_type": "display_data"
    },
    {
     "name": "stdout",
     "output_type": "stream",
     "text": [
      "Estamos en la página https://skinsort.com/products/products-for-better-texture/page/106\n"
     ]
    },
    {
     "data": {
      "application/vnd.jupyter.widget-view+json": {
       "model_id": "3e70e80fa6ba41afa5582edaa57fc2a3",
       "version_major": 2,
       "version_minor": 0
      },
      "text/plain": [
       "Obteniendo productos:   0%|          | 0/1 [00:00<?, ?it/s]"
      ]
     },
     "metadata": {},
     "output_type": "display_data"
    },
    {
     "name": "stdout",
     "output_type": "stream",
     "text": [
      "Estamos en la página https://skinsort.com/products/products-for-better-texture/page/107\n"
     ]
    },
    {
     "data": {
      "application/vnd.jupyter.widget-view+json": {
       "model_id": "ad7cebf097fd4c8e9443361b8fdf77fb",
       "version_major": 2,
       "version_minor": 0
      },
      "text/plain": [
       "Obteniendo productos:   0%|          | 0/1 [00:00<?, ?it/s]"
      ]
     },
     "metadata": {},
     "output_type": "display_data"
    },
    {
     "name": "stdout",
     "output_type": "stream",
     "text": [
      "Estamos en la página https://skinsort.com/products/products-for-better-texture/page/107\n"
     ]
    },
    {
     "data": {
      "application/vnd.jupyter.widget-view+json": {
       "model_id": "1819f48be8584cc1a6068325045ec82c",
       "version_major": 2,
       "version_minor": 0
      },
      "text/plain": [
       "Obteniendo productos:   0%|          | 0/1 [00:00<?, ?it/s]"
      ]
     },
     "metadata": {},
     "output_type": "display_data"
    },
    {
     "name": "stdout",
     "output_type": "stream",
     "text": [
      "Estamos en la página https://skinsort.com/products/products-for-better-texture/page/107\n"
     ]
    },
    {
     "data": {
      "application/vnd.jupyter.widget-view+json": {
       "model_id": "d4a4841696fd4ad2981fc4e336ba3bd2",
       "version_major": 2,
       "version_minor": 0
      },
      "text/plain": [
       "Obteniendo productos:   0%|          | 0/1 [00:00<?, ?it/s]"
      ]
     },
     "metadata": {},
     "output_type": "display_data"
    },
    {
     "name": "stdout",
     "output_type": "stream",
     "text": [
      "Estamos en la página https://skinsort.com/products/products-for-better-texture/page/108\n"
     ]
    },
    {
     "data": {
      "application/vnd.jupyter.widget-view+json": {
       "model_id": "319a738925d446abb128c681090387f3",
       "version_major": 2,
       "version_minor": 0
      },
      "text/plain": [
       "Obteniendo productos:   0%|          | 0/1 [00:00<?, ?it/s]"
      ]
     },
     "metadata": {},
     "output_type": "display_data"
    },
    {
     "name": "stdout",
     "output_type": "stream",
     "text": [
      "Estamos en la página https://skinsort.com/products/products-for-better-texture/page/108\n"
     ]
    },
    {
     "data": {
      "application/vnd.jupyter.widget-view+json": {
       "model_id": "e7fb4b2eb93649f4a91bcf67bc93edd8",
       "version_major": 2,
       "version_minor": 0
      },
      "text/plain": [
       "Obteniendo productos:   0%|          | 0/1 [00:00<?, ?it/s]"
      ]
     },
     "metadata": {},
     "output_type": "display_data"
    },
    {
     "name": "stdout",
     "output_type": "stream",
     "text": [
      "Estamos en la página https://skinsort.com/products/products-for-better-texture/page/108\n"
     ]
    },
    {
     "data": {
      "application/vnd.jupyter.widget-view+json": {
       "model_id": "27ec2d01fedf45168dd2e41c3afe0e50",
       "version_major": 2,
       "version_minor": 0
      },
      "text/plain": [
       "Obteniendo productos:   0%|          | 0/1 [00:00<?, ?it/s]"
      ]
     },
     "metadata": {},
     "output_type": "display_data"
    },
    {
     "name": "stdout",
     "output_type": "stream",
     "text": [
      "Estamos en la página https://skinsort.com/products/products-for-better-texture/page/109\n"
     ]
    },
    {
     "data": {
      "application/vnd.jupyter.widget-view+json": {
       "model_id": "452e28bebd3f4b4d9825543203058d6f",
       "version_major": 2,
       "version_minor": 0
      },
      "text/plain": [
       "Obteniendo productos:   0%|          | 0/1 [00:00<?, ?it/s]"
      ]
     },
     "metadata": {},
     "output_type": "display_data"
    },
    {
     "name": "stdout",
     "output_type": "stream",
     "text": [
      "Estamos en la página https://skinsort.com/products/products-for-better-texture/page/109\n"
     ]
    },
    {
     "data": {
      "application/vnd.jupyter.widget-view+json": {
       "model_id": "72a23bf268e34d1cb4051f67ba00f118",
       "version_major": 2,
       "version_minor": 0
      },
      "text/plain": [
       "Obteniendo productos:   0%|          | 0/1 [00:00<?, ?it/s]"
      ]
     },
     "metadata": {},
     "output_type": "display_data"
    },
    {
     "name": "stdout",
     "output_type": "stream",
     "text": [
      "Estamos en la página https://skinsort.com/products/products-for-better-texture/page/109\n"
     ]
    },
    {
     "data": {
      "application/vnd.jupyter.widget-view+json": {
       "model_id": "500a7fc5d3454f1d8f2cd24778c7e639",
       "version_major": 2,
       "version_minor": 0
      },
      "text/plain": [
       "Obteniendo productos:   0%|          | 0/1 [00:00<?, ?it/s]"
      ]
     },
     "metadata": {},
     "output_type": "display_data"
    },
    {
     "name": "stdout",
     "output_type": "stream",
     "text": [
      "Estamos en la página https://skinsort.com/products/products-for-better-texture/page/110\n"
     ]
    },
    {
     "data": {
      "application/vnd.jupyter.widget-view+json": {
       "model_id": "ec13374b006f4aaeb4c7f3c922533756",
       "version_major": 2,
       "version_minor": 0
      },
      "text/plain": [
       "Obteniendo productos:   0%|          | 0/1 [00:00<?, ?it/s]"
      ]
     },
     "metadata": {},
     "output_type": "display_data"
    },
    {
     "name": "stdout",
     "output_type": "stream",
     "text": [
      "Estamos en la página https://skinsort.com/products/products-for-better-texture/page/110\n"
     ]
    },
    {
     "data": {
      "application/vnd.jupyter.widget-view+json": {
       "model_id": "d66f60db0aaf4f85b8118e75576d9836",
       "version_major": 2,
       "version_minor": 0
      },
      "text/plain": [
       "Obteniendo productos:   0%|          | 0/1 [00:00<?, ?it/s]"
      ]
     },
     "metadata": {},
     "output_type": "display_data"
    },
    {
     "name": "stdout",
     "output_type": "stream",
     "text": [
      "Estamos en la página https://skinsort.com/products/products-for-better-texture/page/110\n"
     ]
    },
    {
     "data": {
      "application/vnd.jupyter.widget-view+json": {
       "model_id": "2f232a3ca262471abfc0d04f69c1a992",
       "version_major": 2,
       "version_minor": 0
      },
      "text/plain": [
       "Obteniendo productos:   0%|          | 0/1 [00:00<?, ?it/s]"
      ]
     },
     "metadata": {},
     "output_type": "display_data"
    },
    {
     "name": "stdout",
     "output_type": "stream",
     "text": [
      "Estamos en la página https://skinsort.com/products/products-for-better-texture/page/111\n"
     ]
    },
    {
     "data": {
      "application/vnd.jupyter.widget-view+json": {
       "model_id": "e050400716ac4947a800b330f303a8d4",
       "version_major": 2,
       "version_minor": 0
      },
      "text/plain": [
       "Obteniendo productos:   0%|          | 0/1 [00:00<?, ?it/s]"
      ]
     },
     "metadata": {},
     "output_type": "display_data"
    },
    {
     "name": "stdout",
     "output_type": "stream",
     "text": [
      "Estamos en la página https://skinsort.com/products/products-for-better-texture/page/111\n"
     ]
    },
    {
     "data": {
      "application/vnd.jupyter.widget-view+json": {
       "model_id": "d39e102e2cbb40078e8b6d3f9775e819",
       "version_major": 2,
       "version_minor": 0
      },
      "text/plain": [
       "Obteniendo productos:   0%|          | 0/1 [00:00<?, ?it/s]"
      ]
     },
     "metadata": {},
     "output_type": "display_data"
    },
    {
     "name": "stdout",
     "output_type": "stream",
     "text": [
      "Estamos en la página https://skinsort.com/products/products-for-better-texture/page/111\n"
     ]
    },
    {
     "data": {
      "application/vnd.jupyter.widget-view+json": {
       "model_id": "51bed2adaa794b16814dca0cb700d677",
       "version_major": 2,
       "version_minor": 0
      },
      "text/plain": [
       "Obteniendo productos:   0%|          | 0/1 [00:00<?, ?it/s]"
      ]
     },
     "metadata": {},
     "output_type": "display_data"
    },
    {
     "name": "stdout",
     "output_type": "stream",
     "text": [
      "Estamos en la página https://skinsort.com/products/products-for-better-texture/page/112\n"
     ]
    },
    {
     "data": {
      "application/vnd.jupyter.widget-view+json": {
       "model_id": "dfc5e2b7f6ac4889acb4dd71b5c13cbb",
       "version_major": 2,
       "version_minor": 0
      },
      "text/plain": [
       "Obteniendo productos:   0%|          | 0/1 [00:00<?, ?it/s]"
      ]
     },
     "metadata": {},
     "output_type": "display_data"
    },
    {
     "name": "stdout",
     "output_type": "stream",
     "text": [
      "Estamos en la página https://skinsort.com/products/products-for-better-texture/page/112\n"
     ]
    },
    {
     "data": {
      "application/vnd.jupyter.widget-view+json": {
       "model_id": "6dc246b870a040029b30b68da182ed7e",
       "version_major": 2,
       "version_minor": 0
      },
      "text/plain": [
       "Obteniendo productos:   0%|          | 0/1 [00:00<?, ?it/s]"
      ]
     },
     "metadata": {},
     "output_type": "display_data"
    },
    {
     "name": "stdout",
     "output_type": "stream",
     "text": [
      "Estamos en la página https://skinsort.com/products/products-for-better-texture/page/112\n"
     ]
    },
    {
     "data": {
      "application/vnd.jupyter.widget-view+json": {
       "model_id": "54bb6ba2af834de0b687d263335a6f1f",
       "version_major": 2,
       "version_minor": 0
      },
      "text/plain": [
       "Obteniendo productos:   0%|          | 0/1 [00:00<?, ?it/s]"
      ]
     },
     "metadata": {},
     "output_type": "display_data"
    },
    {
     "name": "stdout",
     "output_type": "stream",
     "text": [
      "Estamos en la página https://skinsort.com/products/products-for-better-texture/page/113\n"
     ]
    },
    {
     "data": {
      "application/vnd.jupyter.widget-view+json": {
       "model_id": "549b6d318f574113bdba88f63094eb47",
       "version_major": 2,
       "version_minor": 0
      },
      "text/plain": [
       "Obteniendo productos:   0%|          | 0/1 [00:00<?, ?it/s]"
      ]
     },
     "metadata": {},
     "output_type": "display_data"
    },
    {
     "name": "stdout",
     "output_type": "stream",
     "text": [
      "Estamos en la página https://skinsort.com/products/products-for-better-texture/page/113\n"
     ]
    },
    {
     "data": {
      "application/vnd.jupyter.widget-view+json": {
       "model_id": "638dc15997564c968a82b5bd6b68fb77",
       "version_major": 2,
       "version_minor": 0
      },
      "text/plain": [
       "Obteniendo productos:   0%|          | 0/1 [00:00<?, ?it/s]"
      ]
     },
     "metadata": {},
     "output_type": "display_data"
    },
    {
     "name": "stdout",
     "output_type": "stream",
     "text": [
      "Estamos en la página https://skinsort.com/products/products-for-better-texture/page/113\n"
     ]
    },
    {
     "data": {
      "application/vnd.jupyter.widget-view+json": {
       "model_id": "d19e45d79c2a480cb0bef48a44906f03",
       "version_major": 2,
       "version_minor": 0
      },
      "text/plain": [
       "Obteniendo productos:   0%|          | 0/1 [00:00<?, ?it/s]"
      ]
     },
     "metadata": {},
     "output_type": "display_data"
    },
    {
     "name": "stdout",
     "output_type": "stream",
     "text": [
      "Estamos en la página https://skinsort.com/products/products-for-better-texture/page/114\n"
     ]
    },
    {
     "data": {
      "application/vnd.jupyter.widget-view+json": {
       "model_id": "a238b3188b0046eba4b995692e1cd97a",
       "version_major": 2,
       "version_minor": 0
      },
      "text/plain": [
       "Obteniendo productos:   0%|          | 0/1 [00:00<?, ?it/s]"
      ]
     },
     "metadata": {},
     "output_type": "display_data"
    },
    {
     "name": "stdout",
     "output_type": "stream",
     "text": [
      "Estamos en la página https://skinsort.com/products/products-for-better-texture/page/114\n"
     ]
    },
    {
     "data": {
      "application/vnd.jupyter.widget-view+json": {
       "model_id": "d9da96d6255948fcac34c8e334546ac2",
       "version_major": 2,
       "version_minor": 0
      },
      "text/plain": [
       "Obteniendo productos:   0%|          | 0/1 [00:00<?, ?it/s]"
      ]
     },
     "metadata": {},
     "output_type": "display_data"
    },
    {
     "name": "stdout",
     "output_type": "stream",
     "text": [
      "Estamos en la página https://skinsort.com/products/products-for-better-texture/page/114\n"
     ]
    },
    {
     "data": {
      "application/vnd.jupyter.widget-view+json": {
       "model_id": "abd601ddacd94adfb7bc5af319a03954",
       "version_major": 2,
       "version_minor": 0
      },
      "text/plain": [
       "Obteniendo productos:   0%|          | 0/1 [00:00<?, ?it/s]"
      ]
     },
     "metadata": {},
     "output_type": "display_data"
    },
    {
     "name": "stdout",
     "output_type": "stream",
     "text": [
      "Estamos en la página https://skinsort.com/products/products-for-better-texture/page/115\n"
     ]
    },
    {
     "data": {
      "application/vnd.jupyter.widget-view+json": {
       "model_id": "b7918ed2887b447da533f22c93c9a417",
       "version_major": 2,
       "version_minor": 0
      },
      "text/plain": [
       "Obteniendo productos:   0%|          | 0/1 [00:00<?, ?it/s]"
      ]
     },
     "metadata": {},
     "output_type": "display_data"
    },
    {
     "name": "stdout",
     "output_type": "stream",
     "text": [
      "Estamos en la página https://skinsort.com/products/products-for-better-texture/page/115\n"
     ]
    },
    {
     "data": {
      "application/vnd.jupyter.widget-view+json": {
       "model_id": "7197ad36f9b6475281ac2cb181a0be0a",
       "version_major": 2,
       "version_minor": 0
      },
      "text/plain": [
       "Obteniendo productos:   0%|          | 0/1 [00:00<?, ?it/s]"
      ]
     },
     "metadata": {},
     "output_type": "display_data"
    },
    {
     "name": "stdout",
     "output_type": "stream",
     "text": [
      "Estamos en la página https://skinsort.com/products/products-for-better-texture/page/115\n"
     ]
    },
    {
     "data": {
      "application/vnd.jupyter.widget-view+json": {
       "model_id": "aa41084597e544e1b0da80bc93136bf2",
       "version_major": 2,
       "version_minor": 0
      },
      "text/plain": [
       "Obteniendo productos:   0%|          | 0/1 [00:00<?, ?it/s]"
      ]
     },
     "metadata": {},
     "output_type": "display_data"
    },
    {
     "name": "stdout",
     "output_type": "stream",
     "text": [
      "Estamos en la página https://skinsort.com/products/products-for-better-texture/page/116\n"
     ]
    },
    {
     "data": {
      "application/vnd.jupyter.widget-view+json": {
       "model_id": "993a6cec944841c5bf0b9160875c7682",
       "version_major": 2,
       "version_minor": 0
      },
      "text/plain": [
       "Obteniendo productos:   0%|          | 0/1 [00:00<?, ?it/s]"
      ]
     },
     "metadata": {},
     "output_type": "display_data"
    },
    {
     "name": "stdout",
     "output_type": "stream",
     "text": [
      "Estamos en la página https://skinsort.com/products/products-for-better-texture/page/116\n"
     ]
    },
    {
     "data": {
      "application/vnd.jupyter.widget-view+json": {
       "model_id": "b3dbf8c61bc04a72946fdce654451ede",
       "version_major": 2,
       "version_minor": 0
      },
      "text/plain": [
       "Obteniendo productos:   0%|          | 0/1 [00:00<?, ?it/s]"
      ]
     },
     "metadata": {},
     "output_type": "display_data"
    },
    {
     "name": "stdout",
     "output_type": "stream",
     "text": [
      "Estamos en la página https://skinsort.com/products/products-for-better-texture/page/116\n"
     ]
    },
    {
     "data": {
      "application/vnd.jupyter.widget-view+json": {
       "model_id": "8e2ad95b722b449f811db673d65de37e",
       "version_major": 2,
       "version_minor": 0
      },
      "text/plain": [
       "Obteniendo productos:   0%|          | 0/1 [00:00<?, ?it/s]"
      ]
     },
     "metadata": {},
     "output_type": "display_data"
    },
    {
     "name": "stdout",
     "output_type": "stream",
     "text": [
      "Estamos en la página https://skinsort.com/products/products-for-better-texture/page/117\n"
     ]
    },
    {
     "data": {
      "application/vnd.jupyter.widget-view+json": {
       "model_id": "bf7348cbb9df4b1ea1b9df75629844c0",
       "version_major": 2,
       "version_minor": 0
      },
      "text/plain": [
       "Obteniendo productos:   0%|          | 0/1 [00:00<?, ?it/s]"
      ]
     },
     "metadata": {},
     "output_type": "display_data"
    },
    {
     "name": "stdout",
     "output_type": "stream",
     "text": [
      "Estamos en la página https://skinsort.com/products/products-for-better-texture/page/117\n"
     ]
    },
    {
     "data": {
      "application/vnd.jupyter.widget-view+json": {
       "model_id": "398ca8907cfc41d3b413552d308067b2",
       "version_major": 2,
       "version_minor": 0
      },
      "text/plain": [
       "Obteniendo productos:   0%|          | 0/1 [00:00<?, ?it/s]"
      ]
     },
     "metadata": {},
     "output_type": "display_data"
    },
    {
     "name": "stdout",
     "output_type": "stream",
     "text": [
      "Estamos en la página https://skinsort.com/products/products-for-better-texture/page/117\n"
     ]
    },
    {
     "data": {
      "application/vnd.jupyter.widget-view+json": {
       "model_id": "6fda6185f6e74c2487148cd010ec163d",
       "version_major": 2,
       "version_minor": 0
      },
      "text/plain": [
       "Obteniendo productos:   0%|          | 0/1 [00:00<?, ?it/s]"
      ]
     },
     "metadata": {},
     "output_type": "display_data"
    },
    {
     "name": "stdout",
     "output_type": "stream",
     "text": [
      "Estamos en la página https://skinsort.com/products/products-for-better-texture/page/118\n"
     ]
    },
    {
     "data": {
      "application/vnd.jupyter.widget-view+json": {
       "model_id": "98f1f3a5e75940b795f1f468908095bf",
       "version_major": 2,
       "version_minor": 0
      },
      "text/plain": [
       "Obteniendo productos:   0%|          | 0/1 [00:00<?, ?it/s]"
      ]
     },
     "metadata": {},
     "output_type": "display_data"
    },
    {
     "name": "stdout",
     "output_type": "stream",
     "text": [
      "Estamos en la página https://skinsort.com/products/products-for-better-texture/page/118\n"
     ]
    },
    {
     "data": {
      "application/vnd.jupyter.widget-view+json": {
       "model_id": "88cba7d7acb5450aa6fde83632932d43",
       "version_major": 2,
       "version_minor": 0
      },
      "text/plain": [
       "Obteniendo productos:   0%|          | 0/1 [00:00<?, ?it/s]"
      ]
     },
     "metadata": {},
     "output_type": "display_data"
    },
    {
     "name": "stdout",
     "output_type": "stream",
     "text": [
      "Estamos en la página https://skinsort.com/products/products-for-better-texture/page/118\n"
     ]
    },
    {
     "data": {
      "application/vnd.jupyter.widget-view+json": {
       "model_id": "34d475ae69a4480d901797812ed58c19",
       "version_major": 2,
       "version_minor": 0
      },
      "text/plain": [
       "Obteniendo productos:   0%|          | 0/1 [00:00<?, ?it/s]"
      ]
     },
     "metadata": {},
     "output_type": "display_data"
    },
    {
     "name": "stdout",
     "output_type": "stream",
     "text": [
      "Estamos en la página https://skinsort.com/products/products-for-better-texture/page/119\n"
     ]
    },
    {
     "data": {
      "application/vnd.jupyter.widget-view+json": {
       "model_id": "a2263a5359564c3d8698d5bc8d7e5e75",
       "version_major": 2,
       "version_minor": 0
      },
      "text/plain": [
       "Obteniendo productos:   0%|          | 0/1 [00:00<?, ?it/s]"
      ]
     },
     "metadata": {},
     "output_type": "display_data"
    },
    {
     "name": "stdout",
     "output_type": "stream",
     "text": [
      "Estamos en la página https://skinsort.com/products/products-for-better-texture/page/119\n"
     ]
    },
    {
     "data": {
      "application/vnd.jupyter.widget-view+json": {
       "model_id": "0c17669d151645d8bdc338cf6a30760f",
       "version_major": 2,
       "version_minor": 0
      },
      "text/plain": [
       "Obteniendo productos:   0%|          | 0/1 [00:00<?, ?it/s]"
      ]
     },
     "metadata": {},
     "output_type": "display_data"
    },
    {
     "name": "stdout",
     "output_type": "stream",
     "text": [
      "Estamos en la página https://skinsort.com/products/products-for-better-texture/page/119\n"
     ]
    },
    {
     "data": {
      "application/vnd.jupyter.widget-view+json": {
       "model_id": "c52ba582916b4610ada3a5791c4de954",
       "version_major": 2,
       "version_minor": 0
      },
      "text/plain": [
       "Obteniendo productos:   0%|          | 0/1 [00:00<?, ?it/s]"
      ]
     },
     "metadata": {},
     "output_type": "display_data"
    },
    {
     "name": "stdout",
     "output_type": "stream",
     "text": [
      "Estamos en la página https://skinsort.com/products/products-for-better-texture/page/120\n"
     ]
    },
    {
     "data": {
      "application/vnd.jupyter.widget-view+json": {
       "model_id": "53b61670b0c14319a72a7f20d502562e",
       "version_major": 2,
       "version_minor": 0
      },
      "text/plain": [
       "Obteniendo productos:   0%|          | 0/1 [00:00<?, ?it/s]"
      ]
     },
     "metadata": {},
     "output_type": "display_data"
    },
    {
     "name": "stdout",
     "output_type": "stream",
     "text": [
      "Estamos en la página https://skinsort.com/products/products-for-better-texture/page/120\n"
     ]
    },
    {
     "data": {
      "application/vnd.jupyter.widget-view+json": {
       "model_id": "e81ec65a833e45e2856e5f6b68d1b040",
       "version_major": 2,
       "version_minor": 0
      },
      "text/plain": [
       "Obteniendo productos:   0%|          | 0/1 [00:00<?, ?it/s]"
      ]
     },
     "metadata": {},
     "output_type": "display_data"
    },
    {
     "name": "stdout",
     "output_type": "stream",
     "text": [
      "Estamos en la página https://skinsort.com/products/products-for-better-texture/page/120\n"
     ]
    },
    {
     "data": {
      "application/vnd.jupyter.widget-view+json": {
       "model_id": "39f1a2093d3246938295e7c203e294fb",
       "version_major": 2,
       "version_minor": 0
      },
      "text/plain": [
       "Obteniendo productos:   0%|          | 0/1 [00:00<?, ?it/s]"
      ]
     },
     "metadata": {},
     "output_type": "display_data"
    },
    {
     "name": "stdout",
     "output_type": "stream",
     "text": [
      "Estamos en la página https://skinsort.com/products/products-for-better-texture/page/121\n"
     ]
    },
    {
     "data": {
      "application/vnd.jupyter.widget-view+json": {
       "model_id": "cd074c7c9f8c460fb796378a14a56ea0",
       "version_major": 2,
       "version_minor": 0
      },
      "text/plain": [
       "Obteniendo productos:   0%|          | 0/1 [00:00<?, ?it/s]"
      ]
     },
     "metadata": {},
     "output_type": "display_data"
    },
    {
     "name": "stdout",
     "output_type": "stream",
     "text": [
      "Estamos en la página https://skinsort.com/products/products-for-better-texture/page/121\n"
     ]
    },
    {
     "data": {
      "application/vnd.jupyter.widget-view+json": {
       "model_id": "81eb7b3d5b7d4ad9990a012610c0e605",
       "version_major": 2,
       "version_minor": 0
      },
      "text/plain": [
       "Obteniendo productos:   0%|          | 0/1 [00:00<?, ?it/s]"
      ]
     },
     "metadata": {},
     "output_type": "display_data"
    },
    {
     "name": "stdout",
     "output_type": "stream",
     "text": [
      "Estamos en la página https://skinsort.com/products/products-for-better-texture/page/121\n"
     ]
    },
    {
     "data": {
      "application/vnd.jupyter.widget-view+json": {
       "model_id": "b17bd42bff084fad964aef0e195e9e6a",
       "version_major": 2,
       "version_minor": 0
      },
      "text/plain": [
       "Obteniendo productos:   0%|          | 0/1 [00:00<?, ?it/s]"
      ]
     },
     "metadata": {},
     "output_type": "display_data"
    },
    {
     "name": "stdout",
     "output_type": "stream",
     "text": [
      "Estamos en la página https://skinsort.com/products/products-for-better-texture/page/122\n"
     ]
    },
    {
     "data": {
      "application/vnd.jupyter.widget-view+json": {
       "model_id": "7274552e92bd498888c4e2433a02af87",
       "version_major": 2,
       "version_minor": 0
      },
      "text/plain": [
       "Obteniendo productos:   0%|          | 0/1 [00:00<?, ?it/s]"
      ]
     },
     "metadata": {},
     "output_type": "display_data"
    },
    {
     "name": "stdout",
     "output_type": "stream",
     "text": [
      "Estamos en la página https://skinsort.com/products/products-for-better-texture/page/122\n"
     ]
    },
    {
     "data": {
      "application/vnd.jupyter.widget-view+json": {
       "model_id": "d7267e52f435496da16e41c995c35240",
       "version_major": 2,
       "version_minor": 0
      },
      "text/plain": [
       "Obteniendo productos:   0%|          | 0/1 [00:00<?, ?it/s]"
      ]
     },
     "metadata": {},
     "output_type": "display_data"
    },
    {
     "name": "stdout",
     "output_type": "stream",
     "text": [
      "Estamos en la página https://skinsort.com/products/products-for-better-texture/page/122\n"
     ]
    },
    {
     "data": {
      "application/vnd.jupyter.widget-view+json": {
       "model_id": "6300697000cb465ba20ebb55bb165d6e",
       "version_major": 2,
       "version_minor": 0
      },
      "text/plain": [
       "Obteniendo productos:   0%|          | 0/1 [00:00<?, ?it/s]"
      ]
     },
     "metadata": {},
     "output_type": "display_data"
    },
    {
     "name": "stdout",
     "output_type": "stream",
     "text": [
      "Estamos en la página https://skinsort.com/products/products-for-better-texture/page/123\n"
     ]
    },
    {
     "data": {
      "application/vnd.jupyter.widget-view+json": {
       "model_id": "5d96a27135584391ae6a020e6278a0b9",
       "version_major": 2,
       "version_minor": 0
      },
      "text/plain": [
       "Obteniendo productos:   0%|          | 0/1 [00:00<?, ?it/s]"
      ]
     },
     "metadata": {},
     "output_type": "display_data"
    },
    {
     "name": "stdout",
     "output_type": "stream",
     "text": [
      "Estamos en la página https://skinsort.com/products/products-for-better-texture/page/123\n"
     ]
    },
    {
     "data": {
      "application/vnd.jupyter.widget-view+json": {
       "model_id": "095cf89fd2ec434b9e0eeab825566377",
       "version_major": 2,
       "version_minor": 0
      },
      "text/plain": [
       "Obteniendo productos:   0%|          | 0/1 [00:00<?, ?it/s]"
      ]
     },
     "metadata": {},
     "output_type": "display_data"
    },
    {
     "name": "stdout",
     "output_type": "stream",
     "text": [
      "Estamos en la página https://skinsort.com/products/products-for-better-texture/page/123\n"
     ]
    },
    {
     "data": {
      "application/vnd.jupyter.widget-view+json": {
       "model_id": "a80d793d9bc34497ad060241a64d7b63",
       "version_major": 2,
       "version_minor": 0
      },
      "text/plain": [
       "Obteniendo productos:   0%|          | 0/1 [00:00<?, ?it/s]"
      ]
     },
     "metadata": {},
     "output_type": "display_data"
    },
    {
     "name": "stdout",
     "output_type": "stream",
     "text": [
      "Estamos en la página https://skinsort.com/products/products-for-better-texture/page/124\n"
     ]
    },
    {
     "data": {
      "application/vnd.jupyter.widget-view+json": {
       "model_id": "a41850cda7524357933a342b56f7c93a",
       "version_major": 2,
       "version_minor": 0
      },
      "text/plain": [
       "Obteniendo productos:   0%|          | 0/1 [00:00<?, ?it/s]"
      ]
     },
     "metadata": {},
     "output_type": "display_data"
    },
    {
     "name": "stdout",
     "output_type": "stream",
     "text": [
      "Estamos en la página https://skinsort.com/products/products-for-better-texture/page/124\n"
     ]
    },
    {
     "data": {
      "application/vnd.jupyter.widget-view+json": {
       "model_id": "e16971b878704dba9f3b4c81bacbfe32",
       "version_major": 2,
       "version_minor": 0
      },
      "text/plain": [
       "Obteniendo productos:   0%|          | 0/1 [00:00<?, ?it/s]"
      ]
     },
     "metadata": {},
     "output_type": "display_data"
    },
    {
     "name": "stdout",
     "output_type": "stream",
     "text": [
      "Estamos en la página https://skinsort.com/products/products-for-better-texture/page/124\n"
     ]
    },
    {
     "data": {
      "application/vnd.jupyter.widget-view+json": {
       "model_id": "773adda93e18478f936f68f1f6cae27b",
       "version_major": 2,
       "version_minor": 0
      },
      "text/plain": [
       "Obteniendo productos:   0%|          | 0/1 [00:00<?, ?it/s]"
      ]
     },
     "metadata": {},
     "output_type": "display_data"
    },
    {
     "name": "stdout",
     "output_type": "stream",
     "text": [
      "Estamos en la página https://skinsort.com/products/products-for-better-texture/page/125\n"
     ]
    },
    {
     "data": {
      "application/vnd.jupyter.widget-view+json": {
       "model_id": "41373236d50a4f4889e21a8d17ab0fc7",
       "version_major": 2,
       "version_minor": 0
      },
      "text/plain": [
       "Obteniendo productos:   0%|          | 0/1 [00:00<?, ?it/s]"
      ]
     },
     "metadata": {},
     "output_type": "display_data"
    },
    {
     "name": "stdout",
     "output_type": "stream",
     "text": [
      "Estamos en la página https://skinsort.com/products/products-for-better-texture/page/125\n"
     ]
    },
    {
     "data": {
      "application/vnd.jupyter.widget-view+json": {
       "model_id": "97cfa8b3ad5042ed9c3e2d973104fef8",
       "version_major": 2,
       "version_minor": 0
      },
      "text/plain": [
       "Obteniendo productos:   0%|          | 0/1 [00:00<?, ?it/s]"
      ]
     },
     "metadata": {},
     "output_type": "display_data"
    },
    {
     "name": "stdout",
     "output_type": "stream",
     "text": [
      "Estamos en la página https://skinsort.com/products/products-for-better-texture/page/125\n"
     ]
    },
    {
     "data": {
      "application/vnd.jupyter.widget-view+json": {
       "model_id": "a922474602d34fbdb65e63fc18a03e3f",
       "version_major": 2,
       "version_minor": 0
      },
      "text/plain": [
       "Obteniendo productos:   0%|          | 0/1 [00:00<?, ?it/s]"
      ]
     },
     "metadata": {},
     "output_type": "display_data"
    },
    {
     "name": "stdout",
     "output_type": "stream",
     "text": [
      "Estamos en la página https://skinsort.com/products/products-for-better-texture/page/126\n"
     ]
    },
    {
     "data": {
      "application/vnd.jupyter.widget-view+json": {
       "model_id": "5e304d84bca8463e8fd06a4bbc13e884",
       "version_major": 2,
       "version_minor": 0
      },
      "text/plain": [
       "Obteniendo productos:   0%|          | 0/1 [00:00<?, ?it/s]"
      ]
     },
     "metadata": {},
     "output_type": "display_data"
    },
    {
     "name": "stdout",
     "output_type": "stream",
     "text": [
      "Estamos en la página https://skinsort.com/products/products-for-better-texture/page/126\n"
     ]
    },
    {
     "data": {
      "application/vnd.jupyter.widget-view+json": {
       "model_id": "ba22b3dac86547edb570157cc5657c8f",
       "version_major": 2,
       "version_minor": 0
      },
      "text/plain": [
       "Obteniendo productos:   0%|          | 0/1 [00:00<?, ?it/s]"
      ]
     },
     "metadata": {},
     "output_type": "display_data"
    },
    {
     "name": "stdout",
     "output_type": "stream",
     "text": [
      "Estamos en la página https://skinsort.com/products/products-for-better-texture/page/126\n"
     ]
    },
    {
     "data": {
      "application/vnd.jupyter.widget-view+json": {
       "model_id": "04e638e9d8324db3a5f1a147bda068c9",
       "version_major": 2,
       "version_minor": 0
      },
      "text/plain": [
       "Obteniendo productos:   0%|          | 0/1 [00:00<?, ?it/s]"
      ]
     },
     "metadata": {},
     "output_type": "display_data"
    },
    {
     "name": "stdout",
     "output_type": "stream",
     "text": [
      "Estamos en la página https://skinsort.com/products/products-for-better-texture/page/127\n"
     ]
    },
    {
     "data": {
      "application/vnd.jupyter.widget-view+json": {
       "model_id": "d34d87ac79524f60bf55e9f011a7ad48",
       "version_major": 2,
       "version_minor": 0
      },
      "text/plain": [
       "Obteniendo productos:   0%|          | 0/1 [00:00<?, ?it/s]"
      ]
     },
     "metadata": {},
     "output_type": "display_data"
    },
    {
     "name": "stdout",
     "output_type": "stream",
     "text": [
      "Estamos en la página https://skinsort.com/products/products-for-better-texture/page/127\n"
     ]
    },
    {
     "data": {
      "application/vnd.jupyter.widget-view+json": {
       "model_id": "b327521d35a743ca92c6f79e310a42de",
       "version_major": 2,
       "version_minor": 0
      },
      "text/plain": [
       "Obteniendo productos:   0%|          | 0/1 [00:00<?, ?it/s]"
      ]
     },
     "metadata": {},
     "output_type": "display_data"
    },
    {
     "name": "stdout",
     "output_type": "stream",
     "text": [
      "Estamos en la página https://skinsort.com/products/products-for-better-texture/page/127\n"
     ]
    },
    {
     "data": {
      "application/vnd.jupyter.widget-view+json": {
       "model_id": "b6dc17d5abae48f1be37da7f1c934620",
       "version_major": 2,
       "version_minor": 0
      },
      "text/plain": [
       "Obteniendo productos:   0%|          | 0/1 [00:00<?, ?it/s]"
      ]
     },
     "metadata": {},
     "output_type": "display_data"
    },
    {
     "name": "stdout",
     "output_type": "stream",
     "text": [
      "Estamos en la página https://skinsort.com/products/products-for-better-texture/page/128\n"
     ]
    },
    {
     "data": {
      "application/vnd.jupyter.widget-view+json": {
       "model_id": "84321bcf0c2a4da4940415ec582c6a3e",
       "version_major": 2,
       "version_minor": 0
      },
      "text/plain": [
       "Obteniendo productos:   0%|          | 0/1 [00:00<?, ?it/s]"
      ]
     },
     "metadata": {},
     "output_type": "display_data"
    },
    {
     "name": "stdout",
     "output_type": "stream",
     "text": [
      "Estamos en la página https://skinsort.com/products/products-for-better-texture/page/128\n"
     ]
    },
    {
     "data": {
      "application/vnd.jupyter.widget-view+json": {
       "model_id": "7827347b50684354961323ea9e7d751e",
       "version_major": 2,
       "version_minor": 0
      },
      "text/plain": [
       "Obteniendo productos:   0%|          | 0/1 [00:00<?, ?it/s]"
      ]
     },
     "metadata": {},
     "output_type": "display_data"
    },
    {
     "name": "stdout",
     "output_type": "stream",
     "text": [
      "Estamos en la página https://skinsort.com/products/products-for-better-texture/page/128\n"
     ]
    },
    {
     "data": {
      "application/vnd.jupyter.widget-view+json": {
       "model_id": "8c46d4a3e2ac4f56974ba3b80c472f65",
       "version_major": 2,
       "version_minor": 0
      },
      "text/plain": [
       "Obteniendo productos:   0%|          | 0/1 [00:00<?, ?it/s]"
      ]
     },
     "metadata": {},
     "output_type": "display_data"
    },
    {
     "name": "stdout",
     "output_type": "stream",
     "text": [
      "Estamos en la página https://skinsort.com/products/products-for-better-texture/page/129\n"
     ]
    },
    {
     "data": {
      "application/vnd.jupyter.widget-view+json": {
       "model_id": "4446ac87b7a041e3afa103a8d69c3c3c",
       "version_major": 2,
       "version_minor": 0
      },
      "text/plain": [
       "Obteniendo productos:   0%|          | 0/1 [00:00<?, ?it/s]"
      ]
     },
     "metadata": {},
     "output_type": "display_data"
    },
    {
     "name": "stdout",
     "output_type": "stream",
     "text": [
      "Estamos en la página https://skinsort.com/products/products-for-better-texture/page/129\n"
     ]
    },
    {
     "data": {
      "application/vnd.jupyter.widget-view+json": {
       "model_id": "d244f804996d4084a6247d13757c9dbd",
       "version_major": 2,
       "version_minor": 0
      },
      "text/plain": [
       "Obteniendo productos:   0%|          | 0/1 [00:00<?, ?it/s]"
      ]
     },
     "metadata": {},
     "output_type": "display_data"
    },
    {
     "name": "stdout",
     "output_type": "stream",
     "text": [
      "Estamos en la página https://skinsort.com/products/products-for-better-texture/page/129\n"
     ]
    },
    {
     "data": {
      "application/vnd.jupyter.widget-view+json": {
       "model_id": "58a2c5f521e041eebec4bf7e193dbac4",
       "version_major": 2,
       "version_minor": 0
      },
      "text/plain": [
       "Obteniendo productos:   0%|          | 0/1 [00:00<?, ?it/s]"
      ]
     },
     "metadata": {},
     "output_type": "display_data"
    },
    {
     "name": "stdout",
     "output_type": "stream",
     "text": [
      "Estamos en la página https://skinsort.com/products/products-for-better-texture/page/130\n"
     ]
    },
    {
     "data": {
      "application/vnd.jupyter.widget-view+json": {
       "model_id": "9ad3dcf4a9524c8ca5907650e8e42b22",
       "version_major": 2,
       "version_minor": 0
      },
      "text/plain": [
       "Obteniendo productos:   0%|          | 0/1 [00:00<?, ?it/s]"
      ]
     },
     "metadata": {},
     "output_type": "display_data"
    },
    {
     "name": "stdout",
     "output_type": "stream",
     "text": [
      "Estamos en la página https://skinsort.com/products/products-for-better-texture/page/130\n"
     ]
    },
    {
     "data": {
      "application/vnd.jupyter.widget-view+json": {
       "model_id": "38531b432494445b800f4d5ff905ff66",
       "version_major": 2,
       "version_minor": 0
      },
      "text/plain": [
       "Obteniendo productos:   0%|          | 0/1 [00:00<?, ?it/s]"
      ]
     },
     "metadata": {},
     "output_type": "display_data"
    },
    {
     "name": "stdout",
     "output_type": "stream",
     "text": [
      "Estamos en la página https://skinsort.com/products/products-for-better-texture/page/130\n"
     ]
    },
    {
     "data": {
      "application/vnd.jupyter.widget-view+json": {
       "model_id": "2124656f029c476a99e5313fad4fd7fd",
       "version_major": 2,
       "version_minor": 0
      },
      "text/plain": [
       "Obteniendo productos:   0%|          | 0/1 [00:00<?, ?it/s]"
      ]
     },
     "metadata": {},
     "output_type": "display_data"
    },
    {
     "name": "stdout",
     "output_type": "stream",
     "text": [
      "Estamos en la página https://skinsort.com/products/products-for-better-texture/page/131\n"
     ]
    },
    {
     "data": {
      "application/vnd.jupyter.widget-view+json": {
       "model_id": "4612605439a445098ee426abb2b71c62",
       "version_major": 2,
       "version_minor": 0
      },
      "text/plain": [
       "Obteniendo productos:   0%|          | 0/1 [00:00<?, ?it/s]"
      ]
     },
     "metadata": {},
     "output_type": "display_data"
    },
    {
     "name": "stdout",
     "output_type": "stream",
     "text": [
      "Estamos en la página https://skinsort.com/products/products-for-better-texture/page/131\n"
     ]
    },
    {
     "data": {
      "application/vnd.jupyter.widget-view+json": {
       "model_id": "7d8d39f7c7ae4bd89ed05263264dcef4",
       "version_major": 2,
       "version_minor": 0
      },
      "text/plain": [
       "Obteniendo productos:   0%|          | 0/1 [00:00<?, ?it/s]"
      ]
     },
     "metadata": {},
     "output_type": "display_data"
    },
    {
     "name": "stdout",
     "output_type": "stream",
     "text": [
      "Estamos en la página https://skinsort.com/products/products-for-better-texture/page/131\n"
     ]
    },
    {
     "data": {
      "application/vnd.jupyter.widget-view+json": {
       "model_id": "ae1aef58caa54af586bb65cdd374c3ab",
       "version_major": 2,
       "version_minor": 0
      },
      "text/plain": [
       "Obteniendo productos:   0%|          | 0/1 [00:00<?, ?it/s]"
      ]
     },
     "metadata": {},
     "output_type": "display_data"
    },
    {
     "name": "stdout",
     "output_type": "stream",
     "text": [
      "Estamos en la página https://skinsort.com/products/products-for-better-texture/page/132\n"
     ]
    },
    {
     "data": {
      "application/vnd.jupyter.widget-view+json": {
       "model_id": "c1b7e37437b04a70a06e463eb46affec",
       "version_major": 2,
       "version_minor": 0
      },
      "text/plain": [
       "Obteniendo productos:   0%|          | 0/1 [00:00<?, ?it/s]"
      ]
     },
     "metadata": {},
     "output_type": "display_data"
    },
    {
     "name": "stdout",
     "output_type": "stream",
     "text": [
      "Estamos en la página https://skinsort.com/products/products-for-better-texture/page/132\n"
     ]
    },
    {
     "data": {
      "application/vnd.jupyter.widget-view+json": {
       "model_id": "ce74e2dab28b4d90abd3819832a44bf7",
       "version_major": 2,
       "version_minor": 0
      },
      "text/plain": [
       "Obteniendo productos:   0%|          | 0/1 [00:00<?, ?it/s]"
      ]
     },
     "metadata": {},
     "output_type": "display_data"
    },
    {
     "name": "stdout",
     "output_type": "stream",
     "text": [
      "Estamos en la página https://skinsort.com/products/products-for-better-texture/page/132\n"
     ]
    }
   ],
   "source": [
    "text = {}\n",
    "for i in range(1, 133):\n",
    "    url = f'https://skinsort.com/products/products-for-better-texture/page/{i}'\n",
    "    data = scrap(url)\n",
    "    text[i] = data"
   ]
  },
  {
   "cell_type": "code",
   "execution_count": 99,
   "id": "a23c5a68",
   "metadata": {},
   "outputs": [
    {
     "name": "stderr",
     "output_type": "stream",
     "text": [
      "2023-03-09 22:21:45,496 [88601] WARNING  py.warnings:109: [JupyterRequire] /tmp/ipykernel_88601/3295202771.py:3: DeprecationWarning: executable_path has been deprecated, please pass in a Service object\n",
      "  driver = webdriver.Chrome(PATH)\n",
      "\n"
     ]
    },
    {
     "data": {
      "application/vnd.jupyter.widget-view+json": {
       "model_id": "91003752fb434f709447d0a5782600c6",
       "version_major": 2,
       "version_minor": 0
      },
      "text/plain": [
       "Obteniendo productos:   0%|          | 0/1 [00:00<?, ?it/s]"
      ]
     },
     "metadata": {},
     "output_type": "display_data"
    },
    {
     "name": "stdout",
     "output_type": "stream",
     "text": [
      "Estamos en la página https://skinsort.com/products/products-for-better-texture/page/6\n"
     ]
    },
    {
     "data": {
      "application/vnd.jupyter.widget-view+json": {
       "model_id": "f6174dd8d1ed40808b2f4684da5d336d",
       "version_major": 2,
       "version_minor": 0
      },
      "text/plain": [
       "Obteniendo productos:   0%|          | 0/1 [00:00<?, ?it/s]"
      ]
     },
     "metadata": {},
     "output_type": "display_data"
    },
    {
     "name": "stdout",
     "output_type": "stream",
     "text": [
      "Estamos en la página https://skinsort.com/products/products-for-better-texture/page/6\n"
     ]
    },
    {
     "data": {
      "application/vnd.jupyter.widget-view+json": {
       "model_id": "38402b8ebab848f180fb2eb31500ff75",
       "version_major": 2,
       "version_minor": 0
      },
      "text/plain": [
       "Obteniendo productos:   0%|          | 0/1 [00:00<?, ?it/s]"
      ]
     },
     "metadata": {},
     "output_type": "display_data"
    },
    {
     "name": "stdout",
     "output_type": "stream",
     "text": [
      "Estamos en la página https://skinsort.com/products/products-for-better-texture/page/6\n"
     ]
    },
    {
     "data": {
      "application/vnd.jupyter.widget-view+json": {
       "model_id": "777ddd675528400b8a901838aa41d78d",
       "version_major": 2,
       "version_minor": 0
      },
      "text/plain": [
       "Obteniendo productos:   0%|          | 0/1 [00:00<?, ?it/s]"
      ]
     },
     "metadata": {},
     "output_type": "display_data"
    },
    {
     "name": "stdout",
     "output_type": "stream",
     "text": [
      "Estamos en la página https://skinsort.com/products/products-for-better-texture/page/7\n"
     ]
    },
    {
     "data": {
      "application/vnd.jupyter.widget-view+json": {
       "model_id": "0f819e7a84aa4efcb40dfe91573fd371",
       "version_major": 2,
       "version_minor": 0
      },
      "text/plain": [
       "Obteniendo productos:   0%|          | 0/1 [00:00<?, ?it/s]"
      ]
     },
     "metadata": {},
     "output_type": "display_data"
    },
    {
     "name": "stdout",
     "output_type": "stream",
     "text": [
      "Estamos en la página https://skinsort.com/products/products-for-better-texture/page/7\n"
     ]
    },
    {
     "data": {
      "application/vnd.jupyter.widget-view+json": {
       "model_id": "8e2f15b76ac54c68a4c40b07eadc3b48",
       "version_major": 2,
       "version_minor": 0
      },
      "text/plain": [
       "Obteniendo productos:   0%|          | 0/1 [00:00<?, ?it/s]"
      ]
     },
     "metadata": {},
     "output_type": "display_data"
    },
    {
     "name": "stdout",
     "output_type": "stream",
     "text": [
      "Estamos en la página https://skinsort.com/products/products-for-better-texture/page/7\n"
     ]
    },
    {
     "data": {
      "application/vnd.jupyter.widget-view+json": {
       "model_id": "e462fc6aa07a44b2a33a1b5134ee080d",
       "version_major": 2,
       "version_minor": 0
      },
      "text/plain": [
       "Obteniendo productos:   0%|          | 0/1 [00:00<?, ?it/s]"
      ]
     },
     "metadata": {},
     "output_type": "display_data"
    },
    {
     "name": "stdout",
     "output_type": "stream",
     "text": [
      "Estamos en la página https://skinsort.com/products/products-for-better-texture/page/99\n"
     ]
    },
    {
     "data": {
      "application/vnd.jupyter.widget-view+json": {
       "model_id": "1c0e2fe88bea42868d88e3414919513f",
       "version_major": 2,
       "version_minor": 0
      },
      "text/plain": [
       "Obteniendo productos:   0%|          | 0/1 [00:00<?, ?it/s]"
      ]
     },
     "metadata": {},
     "output_type": "display_data"
    },
    {
     "name": "stdout",
     "output_type": "stream",
     "text": [
      "Estamos en la página https://skinsort.com/products/products-for-better-texture/page/99\n"
     ]
    },
    {
     "data": {
      "application/vnd.jupyter.widget-view+json": {
       "model_id": "5752dbc9145448b98d7b80524e17a596",
       "version_major": 2,
       "version_minor": 0
      },
      "text/plain": [
       "Obteniendo productos:   0%|          | 0/1 [00:00<?, ?it/s]"
      ]
     },
     "metadata": {},
     "output_type": "display_data"
    },
    {
     "name": "stdout",
     "output_type": "stream",
     "text": [
      "Estamos en la página https://skinsort.com/products/products-for-better-texture/page/99\n"
     ]
    }
   ],
   "source": [
    "text[6] = scrap('https://skinsort.com/products/products-for-better-texture/page/6')\n",
    "text[7] = scrap('https://skinsort.com/products/products-for-better-texture/page/7')\n",
    "text[99] = scrap('https://skinsort.com/products/products-for-better-texture/page/99')\n",
    "\n"
   ]
  },
  {
   "cell_type": "code",
   "execution_count": 100,
   "id": "f07af879",
   "metadata": {},
   "outputs": [],
   "source": [
    "import json\n",
    "\n",
    "with open('text.json', 'w') as file:\n",
    "    json.dump(text, file)"
   ]
  },
  {
   "cell_type": "markdown",
   "id": "8fde75c7",
   "metadata": {},
   "source": [
    "## LARGE PORES"
   ]
  },
  {
   "cell_type": "code",
   "execution_count": null,
   "id": "568e465d",
   "metadata": {},
   "outputs": [],
   "source": [
    "pores = {}\n",
    "for i in range(1, 192):\n",
    "    url = f'https://skinsort.com/products/products-for-large-pores/page/{i}'\n",
    "    data = scrap(url)\n",
    "    pores[i] = data"
   ]
  },
  {
   "cell_type": "code",
   "execution_count": null,
   "id": "b6718db4",
   "metadata": {},
   "outputs": [],
   "source": [
    "import json\n",
    "\n",
    "with open('pores.json', 'w') as file:\n",
    "    json.dump(pores, file)"
   ]
  },
  {
   "cell_type": "code",
   "execution_count": null,
   "id": "4d132683",
   "metadata": {},
   "outputs": [],
   "source": []
  },
  {
   "cell_type": "code",
   "execution_count": null,
   "id": "3f9441d1",
   "metadata": {},
   "outputs": [],
   "source": []
  },
  {
   "cell_type": "code",
   "execution_count": null,
   "id": "e95e937f",
   "metadata": {},
   "outputs": [],
   "source": []
  },
  {
   "cell_type": "code",
   "execution_count": null,
   "id": "3e7a7b96",
   "metadata": {},
   "outputs": [],
   "source": []
  },
  {
   "cell_type": "code",
   "execution_count": null,
   "id": "bf3a509b",
   "metadata": {},
   "outputs": [],
   "source": []
  },
  {
   "cell_type": "code",
   "execution_count": null,
   "id": "531eb7fb",
   "metadata": {},
   "outputs": [],
   "source": []
  },
  {
   "cell_type": "code",
   "execution_count": null,
   "id": "61d44963",
   "metadata": {},
   "outputs": [],
   "source": []
  },
  {
   "cell_type": "code",
   "execution_count": null,
   "id": "ac21ae4f",
   "metadata": {},
   "outputs": [],
   "source": []
  },
  {
   "cell_type": "code",
   "execution_count": null,
   "id": "2c0b3736",
   "metadata": {},
   "outputs": [],
   "source": []
  },
  {
   "cell_type": "code",
   "execution_count": null,
   "id": "e1313b82",
   "metadata": {},
   "outputs": [],
   "source": []
  },
  {
   "cell_type": "code",
   "execution_count": 41,
   "id": "b5d17ac4",
   "metadata": {},
   "outputs": [],
   "source": []
  },
  {
   "cell_type": "code",
   "execution_count": 51,
   "id": "3bd1dcb7",
   "metadata": {},
   "outputs": [
    {
     "name": "stderr",
     "output_type": "stream",
     "text": [
      "2023-03-09 13:01:25,725 [88601] WARNING  py.warnings:109: [JupyterRequire] /tmp/ipykernel_88601/4040571658.py:3: DeprecationWarning: executable_path has been deprecated, please pass in a Service object\n",
      "  driver = webdriver.Chrome(PATH)\n",
      "\n"
     ]
    },
    {
     "data": {
      "application/vnd.jupyter.widget-view+json": {
       "model_id": "c41b85dd800a4d77a2e6dfbfcc537250",
       "version_major": 2,
       "version_minor": 0
      },
      "text/plain": [
       "Obteniendo productos:   0%|          | 0/30 [00:00<?, ?it/s]"
      ]
     },
     "metadata": {},
     "output_type": "display_data"
    },
    {
     "name": "stdout",
     "output_type": "stream",
     "text": [
      "Estamos en la página https://skinsort.com/products//page/6\n"
     ]
    },
    {
     "data": {
      "application/vnd.jupyter.widget-view+json": {
       "model_id": "95b2843496d44bfab5b142893196528c",
       "version_major": 2,
       "version_minor": 0
      },
      "text/plain": [
       "Obteniendo productos:   0%|          | 0/30 [00:00<?, ?it/s]"
      ]
     },
     "metadata": {},
     "output_type": "display_data"
    },
    {
     "name": "stdout",
     "output_type": "stream",
     "text": [
      "Estamos en la página https://skinsort.com/products//page/18\n"
     ]
    },
    {
     "data": {
      "application/vnd.jupyter.widget-view+json": {
       "model_id": "2e2d36eaa50f410d9f442372e17f4b2a",
       "version_major": 2,
       "version_minor": 0
      },
      "text/plain": [
       "Obteniendo productos:   0%|          | 0/30 [00:00<?, ?it/s]"
      ]
     },
     "metadata": {},
     "output_type": "display_data"
    },
    {
     "name": "stdout",
     "output_type": "stream",
     "text": [
      "Estamos en la página https://skinsort.com/products//page/81\n"
     ]
    }
   ],
   "source": [
    "dict1[6] = scrap('https://skinsort.com/products//page/6')\n",
    "dict1[18] = scrap('https://skinsort.com/products//page/18')\n",
    "dict1[81] = scrap('https://skinsort.com/products//page/81')"
   ]
  },
  {
   "cell_type": "code",
   "execution_count": 58,
   "id": "7b93a9fa",
   "metadata": {},
   "outputs": [],
   "source": [
    "import json\n",
    "\n",
    "with open('datos_scrapeados1.json', 'w') as file:\n",
    "    json.dump(dict1, file)"
   ]
  },
  {
   "cell_type": "code",
   "execution_count": null,
   "id": "60da42f2",
   "metadata": {},
   "outputs": [],
   "source": []
  },
  {
   "cell_type": "code",
   "execution_count": 59,
   "id": "d7d3d59d",
   "metadata": {},
   "outputs": [
    {
     "name": "stderr",
     "output_type": "stream",
     "text": [
      "2023-03-09 13:03:58,068 [88601] WARNING  py.warnings:109: [JupyterRequire] /tmp/ipykernel_88601/4040571658.py:3: DeprecationWarning: executable_path has been deprecated, please pass in a Service object\n",
      "  driver = webdriver.Chrome(PATH)\n",
      "\n"
     ]
    },
    {
     "data": {
      "application/vnd.jupyter.widget-view+json": {
       "model_id": "2949ee249cb84bf5ab2ee90f576ccd14",
       "version_major": 2,
       "version_minor": 0
      },
      "text/plain": [
       "Obteniendo productos:   0%|          | 0/30 [00:00<?, ?it/s]"
      ]
     },
     "metadata": {},
     "output_type": "display_data"
    },
    {
     "name": "stdout",
     "output_type": "stream",
     "text": [
      "Estamos en la página https://skinsort.com/products//page/100\n",
      "Error al obtener los datos.\n"
     ]
    },
    {
     "data": {
      "application/vnd.jupyter.widget-view+json": {
       "model_id": "a7b875d97c124c1fad7a80608ce3c40f",
       "version_major": 2,
       "version_minor": 0
      },
      "text/plain": [
       "Obteniendo productos:   0%|          | 0/30 [00:00<?, ?it/s]"
      ]
     },
     "metadata": {},
     "output_type": "display_data"
    },
    {
     "name": "stdout",
     "output_type": "stream",
     "text": [
      "Estamos en la página https://skinsort.com/products//page/102\n"
     ]
    },
    {
     "data": {
      "application/vnd.jupyter.widget-view+json": {
       "model_id": "5ba236c37f494272a2933865d003cc9f",
       "version_major": 2,
       "version_minor": 0
      },
      "text/plain": [
       "Obteniendo productos:   0%|          | 0/30 [00:00<?, ?it/s]"
      ]
     },
     "metadata": {},
     "output_type": "display_data"
    },
    {
     "name": "stdout",
     "output_type": "stream",
     "text": [
      "Estamos en la página https://skinsort.com/products//page/103\n"
     ]
    },
    {
     "data": {
      "application/vnd.jupyter.widget-view+json": {
       "model_id": "f0efcd871757440f98fce6f8ef7875cb",
       "version_major": 2,
       "version_minor": 0
      },
      "text/plain": [
       "Obteniendo productos:   0%|          | 0/30 [00:00<?, ?it/s]"
      ]
     },
     "metadata": {},
     "output_type": "display_data"
    },
    {
     "name": "stdout",
     "output_type": "stream",
     "text": [
      "Estamos en la página https://skinsort.com/products//page/104\n"
     ]
    },
    {
     "data": {
      "application/vnd.jupyter.widget-view+json": {
       "model_id": "49515c134416482893e7aa452a90a01e",
       "version_major": 2,
       "version_minor": 0
      },
      "text/plain": [
       "Obteniendo productos:   0%|          | 0/30 [00:00<?, ?it/s]"
      ]
     },
     "metadata": {},
     "output_type": "display_data"
    },
    {
     "name": "stdout",
     "output_type": "stream",
     "text": [
      "Estamos en la página https://skinsort.com/products//page/105\n"
     ]
    },
    {
     "data": {
      "application/vnd.jupyter.widget-view+json": {
       "model_id": "8be675dd68d449c596f132b3d401e8cf",
       "version_major": 2,
       "version_minor": 0
      },
      "text/plain": [
       "Obteniendo productos:   0%|          | 0/30 [00:00<?, ?it/s]"
      ]
     },
     "metadata": {},
     "output_type": "display_data"
    },
    {
     "name": "stdout",
     "output_type": "stream",
     "text": [
      "Estamos en la página https://skinsort.com/products//page/106\n"
     ]
    },
    {
     "data": {
      "application/vnd.jupyter.widget-view+json": {
       "model_id": "78a93ae94ca04c65be3112db277be99c",
       "version_major": 2,
       "version_minor": 0
      },
      "text/plain": [
       "Obteniendo productos:   0%|          | 0/30 [00:00<?, ?it/s]"
      ]
     },
     "metadata": {},
     "output_type": "display_data"
    },
    {
     "name": "stdout",
     "output_type": "stream",
     "text": [
      "Estamos en la página https://skinsort.com/products//page/107\n"
     ]
    },
    {
     "data": {
      "application/vnd.jupyter.widget-view+json": {
       "model_id": "3d30072f5845476e989b1342986214c6",
       "version_major": 2,
       "version_minor": 0
      },
      "text/plain": [
       "Obteniendo productos:   0%|          | 0/30 [00:00<?, ?it/s]"
      ]
     },
     "metadata": {},
     "output_type": "display_data"
    },
    {
     "name": "stdout",
     "output_type": "stream",
     "text": [
      "Estamos en la página https://skinsort.com/products//page/108\n"
     ]
    },
    {
     "data": {
      "application/vnd.jupyter.widget-view+json": {
       "model_id": "cddd935affb84305b062b4e56adcd0a6",
       "version_major": 2,
       "version_minor": 0
      },
      "text/plain": [
       "Obteniendo productos:   0%|          | 0/30 [00:00<?, ?it/s]"
      ]
     },
     "metadata": {},
     "output_type": "display_data"
    },
    {
     "name": "stdout",
     "output_type": "stream",
     "text": [
      "Estamos en la página https://skinsort.com/products//page/109\n"
     ]
    },
    {
     "data": {
      "application/vnd.jupyter.widget-view+json": {
       "model_id": "0cd5ea7aca624c9e8a1c3f2abbfb0668",
       "version_major": 2,
       "version_minor": 0
      },
      "text/plain": [
       "Obteniendo productos:   0%|          | 0/30 [00:00<?, ?it/s]"
      ]
     },
     "metadata": {},
     "output_type": "display_data"
    },
    {
     "name": "stdout",
     "output_type": "stream",
     "text": [
      "Estamos en la página https://skinsort.com/products//page/110\n"
     ]
    },
    {
     "data": {
      "application/vnd.jupyter.widget-view+json": {
       "model_id": "297f6f2a3c3b4b18b365ccbb664e7c9f",
       "version_major": 2,
       "version_minor": 0
      },
      "text/plain": [
       "Obteniendo productos:   0%|          | 0/30 [00:00<?, ?it/s]"
      ]
     },
     "metadata": {},
     "output_type": "display_data"
    },
    {
     "name": "stdout",
     "output_type": "stream",
     "text": [
      "Estamos en la página https://skinsort.com/products//page/111\n"
     ]
    },
    {
     "data": {
      "application/vnd.jupyter.widget-view+json": {
       "model_id": "f70b601929a442c1b8dcec17145c5e13",
       "version_major": 2,
       "version_minor": 0
      },
      "text/plain": [
       "Obteniendo productos:   0%|          | 0/30 [00:00<?, ?it/s]"
      ]
     },
     "metadata": {},
     "output_type": "display_data"
    },
    {
     "name": "stdout",
     "output_type": "stream",
     "text": [
      "Estamos en la página https://skinsort.com/products//page/112\n"
     ]
    },
    {
     "data": {
      "application/vnd.jupyter.widget-view+json": {
       "model_id": "a6da235c1e324335ae9259459de7f8b6",
       "version_major": 2,
       "version_minor": 0
      },
      "text/plain": [
       "Obteniendo productos:   0%|          | 0/30 [00:00<?, ?it/s]"
      ]
     },
     "metadata": {},
     "output_type": "display_data"
    },
    {
     "name": "stdout",
     "output_type": "stream",
     "text": [
      "Estamos en la página https://skinsort.com/products//page/113\n"
     ]
    },
    {
     "data": {
      "application/vnd.jupyter.widget-view+json": {
       "model_id": "4318d7942d7943599ecf6a85b5c14682",
       "version_major": 2,
       "version_minor": 0
      },
      "text/plain": [
       "Obteniendo productos:   0%|          | 0/30 [00:00<?, ?it/s]"
      ]
     },
     "metadata": {},
     "output_type": "display_data"
    },
    {
     "name": "stdout",
     "output_type": "stream",
     "text": [
      "Estamos en la página https://skinsort.com/products//page/114\n"
     ]
    },
    {
     "data": {
      "application/vnd.jupyter.widget-view+json": {
       "model_id": "8b2e2690259b44e28468822981171424",
       "version_major": 2,
       "version_minor": 0
      },
      "text/plain": [
       "Obteniendo productos:   0%|          | 0/30 [00:00<?, ?it/s]"
      ]
     },
     "metadata": {},
     "output_type": "display_data"
    },
    {
     "name": "stdout",
     "output_type": "stream",
     "text": [
      "Estamos en la página https://skinsort.com/products//page/115\n"
     ]
    },
    {
     "data": {
      "application/vnd.jupyter.widget-view+json": {
       "model_id": "7572a2c8410146c18da7a3f30eff0995",
       "version_major": 2,
       "version_minor": 0
      },
      "text/plain": [
       "Obteniendo productos:   0%|          | 0/30 [00:00<?, ?it/s]"
      ]
     },
     "metadata": {},
     "output_type": "display_data"
    },
    {
     "name": "stdout",
     "output_type": "stream",
     "text": [
      "Estamos en la página https://skinsort.com/products//page/116\n"
     ]
    },
    {
     "data": {
      "application/vnd.jupyter.widget-view+json": {
       "model_id": "e17a6f2307574e95bafaf5f73c445291",
       "version_major": 2,
       "version_minor": 0
      },
      "text/plain": [
       "Obteniendo productos:   0%|          | 0/30 [00:00<?, ?it/s]"
      ]
     },
     "metadata": {},
     "output_type": "display_data"
    },
    {
     "name": "stdout",
     "output_type": "stream",
     "text": [
      "Estamos en la página https://skinsort.com/products//page/117\n"
     ]
    },
    {
     "data": {
      "application/vnd.jupyter.widget-view+json": {
       "model_id": "2e6b10321c244f979d5cce7b838414b4",
       "version_major": 2,
       "version_minor": 0
      },
      "text/plain": [
       "Obteniendo productos:   0%|          | 0/30 [00:00<?, ?it/s]"
      ]
     },
     "metadata": {},
     "output_type": "display_data"
    },
    {
     "name": "stdout",
     "output_type": "stream",
     "text": [
      "Estamos en la página https://skinsort.com/products//page/118\n"
     ]
    },
    {
     "data": {
      "application/vnd.jupyter.widget-view+json": {
       "model_id": "b4efb4db3a5a465ba08bd84e9fd5eebf",
       "version_major": 2,
       "version_minor": 0
      },
      "text/plain": [
       "Obteniendo productos:   0%|          | 0/30 [00:00<?, ?it/s]"
      ]
     },
     "metadata": {},
     "output_type": "display_data"
    },
    {
     "name": "stdout",
     "output_type": "stream",
     "text": [
      "Estamos en la página https://skinsort.com/products//page/119\n"
     ]
    },
    {
     "data": {
      "application/vnd.jupyter.widget-view+json": {
       "model_id": "fe65dc3f956a4b0787e500f440f88019",
       "version_major": 2,
       "version_minor": 0
      },
      "text/plain": [
       "Obteniendo productos:   0%|          | 0/30 [00:00<?, ?it/s]"
      ]
     },
     "metadata": {},
     "output_type": "display_data"
    },
    {
     "name": "stdout",
     "output_type": "stream",
     "text": [
      "Estamos en la página https://skinsort.com/products//page/120\n"
     ]
    },
    {
     "data": {
      "application/vnd.jupyter.widget-view+json": {
       "model_id": "de7d6d97465d412cadc14f00b82808b7",
       "version_major": 2,
       "version_minor": 0
      },
      "text/plain": [
       "Obteniendo productos:   0%|          | 0/30 [00:00<?, ?it/s]"
      ]
     },
     "metadata": {},
     "output_type": "display_data"
    },
    {
     "name": "stdout",
     "output_type": "stream",
     "text": [
      "Estamos en la página https://skinsort.com/products//page/121\n"
     ]
    },
    {
     "data": {
      "application/vnd.jupyter.widget-view+json": {
       "model_id": "5e0df02c69944b46a9f66e677ab23166",
       "version_major": 2,
       "version_minor": 0
      },
      "text/plain": [
       "Obteniendo productos:   0%|          | 0/30 [00:00<?, ?it/s]"
      ]
     },
     "metadata": {},
     "output_type": "display_data"
    },
    {
     "name": "stdout",
     "output_type": "stream",
     "text": [
      "Estamos en la página https://skinsort.com/products//page/122\n"
     ]
    },
    {
     "data": {
      "application/vnd.jupyter.widget-view+json": {
       "model_id": "2b203460d7ef4879b6dbd95cdf0d5a42",
       "version_major": 2,
       "version_minor": 0
      },
      "text/plain": [
       "Obteniendo productos:   0%|          | 0/30 [00:00<?, ?it/s]"
      ]
     },
     "metadata": {},
     "output_type": "display_data"
    },
    {
     "name": "stdout",
     "output_type": "stream",
     "text": [
      "Estamos en la página https://skinsort.com/products//page/123\n"
     ]
    },
    {
     "data": {
      "application/vnd.jupyter.widget-view+json": {
       "model_id": "528fa8a57692420eb7ee10e2dc8e303f",
       "version_major": 2,
       "version_minor": 0
      },
      "text/plain": [
       "Obteniendo productos:   0%|          | 0/30 [00:00<?, ?it/s]"
      ]
     },
     "metadata": {},
     "output_type": "display_data"
    },
    {
     "name": "stdout",
     "output_type": "stream",
     "text": [
      "Estamos en la página https://skinsort.com/products//page/124\n"
     ]
    },
    {
     "data": {
      "application/vnd.jupyter.widget-view+json": {
       "model_id": "5d0acfe8be05449198ab6bf5666e263e",
       "version_major": 2,
       "version_minor": 0
      },
      "text/plain": [
       "Obteniendo productos:   0%|          | 0/30 [00:00<?, ?it/s]"
      ]
     },
     "metadata": {},
     "output_type": "display_data"
    },
    {
     "name": "stdout",
     "output_type": "stream",
     "text": [
      "Estamos en la página https://skinsort.com/products//page/125\n"
     ]
    },
    {
     "data": {
      "application/vnd.jupyter.widget-view+json": {
       "model_id": "d34c636d8271423c86a3bcd0b2d45609",
       "version_major": 2,
       "version_minor": 0
      },
      "text/plain": [
       "Obteniendo productos:   0%|          | 0/30 [00:00<?, ?it/s]"
      ]
     },
     "metadata": {},
     "output_type": "display_data"
    },
    {
     "name": "stdout",
     "output_type": "stream",
     "text": [
      "Estamos en la página https://skinsort.com/products//page/126\n"
     ]
    },
    {
     "data": {
      "application/vnd.jupyter.widget-view+json": {
       "model_id": "46917aba60604fbe92c595434873feb7",
       "version_major": 2,
       "version_minor": 0
      },
      "text/plain": [
       "Obteniendo productos:   0%|          | 0/30 [00:00<?, ?it/s]"
      ]
     },
     "metadata": {},
     "output_type": "display_data"
    },
    {
     "name": "stdout",
     "output_type": "stream",
     "text": [
      "Estamos en la página https://skinsort.com/products//page/127\n"
     ]
    },
    {
     "data": {
      "application/vnd.jupyter.widget-view+json": {
       "model_id": "80eef46e2d4d431ca7b0620cb4b26f46",
       "version_major": 2,
       "version_minor": 0
      },
      "text/plain": [
       "Obteniendo productos:   0%|          | 0/30 [00:00<?, ?it/s]"
      ]
     },
     "metadata": {},
     "output_type": "display_data"
    },
    {
     "name": "stdout",
     "output_type": "stream",
     "text": [
      "Estamos en la página https://skinsort.com/products//page/128\n"
     ]
    },
    {
     "data": {
      "application/vnd.jupyter.widget-view+json": {
       "model_id": "d3236923511d45028348a213e9bb9da7",
       "version_major": 2,
       "version_minor": 0
      },
      "text/plain": [
       "Obteniendo productos:   0%|          | 0/30 [00:00<?, ?it/s]"
      ]
     },
     "metadata": {},
     "output_type": "display_data"
    },
    {
     "name": "stdout",
     "output_type": "stream",
     "text": [
      "Estamos en la página https://skinsort.com/products//page/129\n"
     ]
    },
    {
     "data": {
      "application/vnd.jupyter.widget-view+json": {
       "model_id": "545e5adb4ea841e4baf92ea93eebe687",
       "version_major": 2,
       "version_minor": 0
      },
      "text/plain": [
       "Obteniendo productos:   0%|          | 0/30 [00:00<?, ?it/s]"
      ]
     },
     "metadata": {},
     "output_type": "display_data"
    },
    {
     "name": "stdout",
     "output_type": "stream",
     "text": [
      "Estamos en la página https://skinsort.com/products//page/130\n"
     ]
    },
    {
     "data": {
      "application/vnd.jupyter.widget-view+json": {
       "model_id": "4e7b68d5484342ab8dd45cdca8d958d8",
       "version_major": 2,
       "version_minor": 0
      },
      "text/plain": [
       "Obteniendo productos:   0%|          | 0/30 [00:00<?, ?it/s]"
      ]
     },
     "metadata": {},
     "output_type": "display_data"
    },
    {
     "name": "stdout",
     "output_type": "stream",
     "text": [
      "Estamos en la página https://skinsort.com/products//page/131\n",
      "Error al obtener los datos.\n"
     ]
    },
    {
     "data": {
      "application/vnd.jupyter.widget-view+json": {
       "model_id": "19e994834b56400dacaebfac37dc1a24",
       "version_major": 2,
       "version_minor": 0
      },
      "text/plain": [
       "Obteniendo productos:   0%|          | 0/30 [00:00<?, ?it/s]"
      ]
     },
     "metadata": {},
     "output_type": "display_data"
    },
    {
     "name": "stdout",
     "output_type": "stream",
     "text": [
      "Estamos en la página https://skinsort.com/products//page/133\n"
     ]
    },
    {
     "data": {
      "application/vnd.jupyter.widget-view+json": {
       "model_id": "5a4bccd01faf432595e5ec36b039c2c5",
       "version_major": 2,
       "version_minor": 0
      },
      "text/plain": [
       "Obteniendo productos:   0%|          | 0/30 [00:00<?, ?it/s]"
      ]
     },
     "metadata": {},
     "output_type": "display_data"
    },
    {
     "name": "stdout",
     "output_type": "stream",
     "text": [
      "Estamos en la página https://skinsort.com/products//page/134\n",
      "Error al obtener los datos.\n"
     ]
    },
    {
     "data": {
      "application/vnd.jupyter.widget-view+json": {
       "model_id": "a0d59f99f936432d8c4c47809a3d16ed",
       "version_major": 2,
       "version_minor": 0
      },
      "text/plain": [
       "Obteniendo productos:   0%|          | 0/30 [00:00<?, ?it/s]"
      ]
     },
     "metadata": {},
     "output_type": "display_data"
    },
    {
     "name": "stdout",
     "output_type": "stream",
     "text": [
      "Estamos en la página https://skinsort.com/products//page/136\n"
     ]
    },
    {
     "data": {
      "application/vnd.jupyter.widget-view+json": {
       "model_id": "9552d59fb7da4056be88140dc00d8644",
       "version_major": 2,
       "version_minor": 0
      },
      "text/plain": [
       "Obteniendo productos:   0%|          | 0/30 [00:00<?, ?it/s]"
      ]
     },
     "metadata": {},
     "output_type": "display_data"
    },
    {
     "name": "stdout",
     "output_type": "stream",
     "text": [
      "Estamos en la página https://skinsort.com/products//page/137\n"
     ]
    },
    {
     "data": {
      "application/vnd.jupyter.widget-view+json": {
       "model_id": "2ababe20f80d4d8cb12cd37cddb6a905",
       "version_major": 2,
       "version_minor": 0
      },
      "text/plain": [
       "Obteniendo productos:   0%|          | 0/30 [00:00<?, ?it/s]"
      ]
     },
     "metadata": {},
     "output_type": "display_data"
    },
    {
     "name": "stdout",
     "output_type": "stream",
     "text": [
      "Estamos en la página https://skinsort.com/products//page/138\n"
     ]
    },
    {
     "data": {
      "application/vnd.jupyter.widget-view+json": {
       "model_id": "b42975093700449f99ad455d08bbd89c",
       "version_major": 2,
       "version_minor": 0
      },
      "text/plain": [
       "Obteniendo productos:   0%|          | 0/30 [00:00<?, ?it/s]"
      ]
     },
     "metadata": {},
     "output_type": "display_data"
    },
    {
     "name": "stdout",
     "output_type": "stream",
     "text": [
      "Estamos en la página https://skinsort.com/products//page/139\n"
     ]
    },
    {
     "data": {
      "application/vnd.jupyter.widget-view+json": {
       "model_id": "541ad46824d6462b96ce54471acb9efa",
       "version_major": 2,
       "version_minor": 0
      },
      "text/plain": [
       "Obteniendo productos:   0%|          | 0/30 [00:00<?, ?it/s]"
      ]
     },
     "metadata": {},
     "output_type": "display_data"
    },
    {
     "name": "stdout",
     "output_type": "stream",
     "text": [
      "Estamos en la página https://skinsort.com/products//page/140\n",
      "Error al obtener los datos.\n"
     ]
    },
    {
     "data": {
      "application/vnd.jupyter.widget-view+json": {
       "model_id": "2dbd76d257984f07bc89acaa6ce645ed",
       "version_major": 2,
       "version_minor": 0
      },
      "text/plain": [
       "Obteniendo productos:   0%|          | 0/30 [00:00<?, ?it/s]"
      ]
     },
     "metadata": {},
     "output_type": "display_data"
    },
    {
     "name": "stdout",
     "output_type": "stream",
     "text": [
      "Estamos en la página https://skinsort.com/products//page/142\n"
     ]
    },
    {
     "data": {
      "application/vnd.jupyter.widget-view+json": {
       "model_id": "cce97e98cf4f4841982a8d9ac6347465",
       "version_major": 2,
       "version_minor": 0
      },
      "text/plain": [
       "Obteniendo productos:   0%|          | 0/30 [00:00<?, ?it/s]"
      ]
     },
     "metadata": {},
     "output_type": "display_data"
    },
    {
     "name": "stdout",
     "output_type": "stream",
     "text": [
      "Estamos en la página https://skinsort.com/products//page/143\n"
     ]
    },
    {
     "data": {
      "application/vnd.jupyter.widget-view+json": {
       "model_id": "84e5436303684ed3866805f608de910b",
       "version_major": 2,
       "version_minor": 0
      },
      "text/plain": [
       "Obteniendo productos:   0%|          | 0/30 [00:00<?, ?it/s]"
      ]
     },
     "metadata": {},
     "output_type": "display_data"
    },
    {
     "name": "stdout",
     "output_type": "stream",
     "text": [
      "Estamos en la página https://skinsort.com/products//page/144\n",
      "Error al obtener los datos.\n"
     ]
    },
    {
     "data": {
      "application/vnd.jupyter.widget-view+json": {
       "model_id": "b4d497a7fe314eb3ae82eca7a487e339",
       "version_major": 2,
       "version_minor": 0
      },
      "text/plain": [
       "Obteniendo productos:   0%|          | 0/30 [00:00<?, ?it/s]"
      ]
     },
     "metadata": {},
     "output_type": "display_data"
    },
    {
     "name": "stdout",
     "output_type": "stream",
     "text": [
      "Estamos en la página https://skinsort.com/products//page/146\n"
     ]
    },
    {
     "data": {
      "application/vnd.jupyter.widget-view+json": {
       "model_id": "3387cf91617e4e61a179a2d1db383686",
       "version_major": 2,
       "version_minor": 0
      },
      "text/plain": [
       "Obteniendo productos:   0%|          | 0/30 [00:00<?, ?it/s]"
      ]
     },
     "metadata": {},
     "output_type": "display_data"
    },
    {
     "name": "stdout",
     "output_type": "stream",
     "text": [
      "Estamos en la página https://skinsort.com/products//page/147\n"
     ]
    },
    {
     "data": {
      "application/vnd.jupyter.widget-view+json": {
       "model_id": "f331fc40b1e74179ab9e6376a3169668",
       "version_major": 2,
       "version_minor": 0
      },
      "text/plain": [
       "Obteniendo productos:   0%|          | 0/30 [00:00<?, ?it/s]"
      ]
     },
     "metadata": {},
     "output_type": "display_data"
    },
    {
     "name": "stdout",
     "output_type": "stream",
     "text": [
      "Estamos en la página https://skinsort.com/products//page/148\n"
     ]
    },
    {
     "data": {
      "application/vnd.jupyter.widget-view+json": {
       "model_id": "2f3f005e21fa477e943f28ce39fd3299",
       "version_major": 2,
       "version_minor": 0
      },
      "text/plain": [
       "Obteniendo productos:   0%|          | 0/30 [00:00<?, ?it/s]"
      ]
     },
     "metadata": {},
     "output_type": "display_data"
    },
    {
     "name": "stdout",
     "output_type": "stream",
     "text": [
      "Estamos en la página https://skinsort.com/products//page/149\n"
     ]
    },
    {
     "data": {
      "application/vnd.jupyter.widget-view+json": {
       "model_id": "b94da771740c40e080158e32d30bb805",
       "version_major": 2,
       "version_minor": 0
      },
      "text/plain": [
       "Obteniendo productos:   0%|          | 0/30 [00:00<?, ?it/s]"
      ]
     },
     "metadata": {},
     "output_type": "display_data"
    },
    {
     "name": "stdout",
     "output_type": "stream",
     "text": [
      "Estamos en la página https://skinsort.com/products//page/150\n"
     ]
    },
    {
     "data": {
      "application/vnd.jupyter.widget-view+json": {
       "model_id": "3c340bf7fd5f4d8b966b5b56af6ed842",
       "version_major": 2,
       "version_minor": 0
      },
      "text/plain": [
       "Obteniendo productos:   0%|          | 0/30 [00:00<?, ?it/s]"
      ]
     },
     "metadata": {},
     "output_type": "display_data"
    },
    {
     "name": "stdout",
     "output_type": "stream",
     "text": [
      "Estamos en la página https://skinsort.com/products//page/151\n"
     ]
    },
    {
     "data": {
      "application/vnd.jupyter.widget-view+json": {
       "model_id": "79a8d5eb98d04996b854013c2626d83c",
       "version_major": 2,
       "version_minor": 0
      },
      "text/plain": [
       "Obteniendo productos:   0%|          | 0/30 [00:00<?, ?it/s]"
      ]
     },
     "metadata": {},
     "output_type": "display_data"
    },
    {
     "name": "stdout",
     "output_type": "stream",
     "text": [
      "Estamos en la página https://skinsort.com/products//page/152\n"
     ]
    },
    {
     "data": {
      "application/vnd.jupyter.widget-view+json": {
       "model_id": "46baf24006814cbaaa319be765bb560c",
       "version_major": 2,
       "version_minor": 0
      },
      "text/plain": [
       "Obteniendo productos:   0%|          | 0/30 [00:00<?, ?it/s]"
      ]
     },
     "metadata": {},
     "output_type": "display_data"
    },
    {
     "name": "stdout",
     "output_type": "stream",
     "text": [
      "Estamos en la página https://skinsort.com/products//page/153\n"
     ]
    },
    {
     "data": {
      "application/vnd.jupyter.widget-view+json": {
       "model_id": "5dd31ec852714ecbb0840e656b25b511",
       "version_major": 2,
       "version_minor": 0
      },
      "text/plain": [
       "Obteniendo productos:   0%|          | 0/30 [00:00<?, ?it/s]"
      ]
     },
     "metadata": {},
     "output_type": "display_data"
    },
    {
     "name": "stdout",
     "output_type": "stream",
     "text": [
      "Estamos en la página https://skinsort.com/products//page/154\n"
     ]
    },
    {
     "data": {
      "application/vnd.jupyter.widget-view+json": {
       "model_id": "323694d9a9e74a47a360501397c62989",
       "version_major": 2,
       "version_minor": 0
      },
      "text/plain": [
       "Obteniendo productos:   0%|          | 0/30 [00:00<?, ?it/s]"
      ]
     },
     "metadata": {},
     "output_type": "display_data"
    },
    {
     "name": "stdout",
     "output_type": "stream",
     "text": [
      "Estamos en la página https://skinsort.com/products//page/155\n"
     ]
    },
    {
     "data": {
      "application/vnd.jupyter.widget-view+json": {
       "model_id": "76fd883058d54dc9b933965c13f0e3ae",
       "version_major": 2,
       "version_minor": 0
      },
      "text/plain": [
       "Obteniendo productos:   0%|          | 0/30 [00:00<?, ?it/s]"
      ]
     },
     "metadata": {},
     "output_type": "display_data"
    },
    {
     "name": "stdout",
     "output_type": "stream",
     "text": [
      "Estamos en la página https://skinsort.com/products//page/156\n"
     ]
    },
    {
     "data": {
      "application/vnd.jupyter.widget-view+json": {
       "model_id": "104625c9c0404bc78a3ba4055b0ca749",
       "version_major": 2,
       "version_minor": 0
      },
      "text/plain": [
       "Obteniendo productos:   0%|          | 0/30 [00:00<?, ?it/s]"
      ]
     },
     "metadata": {},
     "output_type": "display_data"
    },
    {
     "name": "stdout",
     "output_type": "stream",
     "text": [
      "Estamos en la página https://skinsort.com/products//page/157\n"
     ]
    },
    {
     "data": {
      "application/vnd.jupyter.widget-view+json": {
       "model_id": "4d31cdeb9594421e8b39ef35f2dc786d",
       "version_major": 2,
       "version_minor": 0
      },
      "text/plain": [
       "Obteniendo productos:   0%|          | 0/30 [00:00<?, ?it/s]"
      ]
     },
     "metadata": {},
     "output_type": "display_data"
    },
    {
     "name": "stdout",
     "output_type": "stream",
     "text": [
      "Estamos en la página https://skinsort.com/products//page/158\n"
     ]
    },
    {
     "data": {
      "application/vnd.jupyter.widget-view+json": {
       "model_id": "1b577f78da774af9860f92dcebbee137",
       "version_major": 2,
       "version_minor": 0
      },
      "text/plain": [
       "Obteniendo productos:   0%|          | 0/30 [00:00<?, ?it/s]"
      ]
     },
     "metadata": {},
     "output_type": "display_data"
    },
    {
     "name": "stdout",
     "output_type": "stream",
     "text": [
      "Estamos en la página https://skinsort.com/products//page/159\n"
     ]
    },
    {
     "data": {
      "application/vnd.jupyter.widget-view+json": {
       "model_id": "33667a139fd84641bb63e4633f364911",
       "version_major": 2,
       "version_minor": 0
      },
      "text/plain": [
       "Obteniendo productos:   0%|          | 0/30 [00:00<?, ?it/s]"
      ]
     },
     "metadata": {},
     "output_type": "display_data"
    },
    {
     "name": "stdout",
     "output_type": "stream",
     "text": [
      "Estamos en la página https://skinsort.com/products//page/160\n"
     ]
    },
    {
     "data": {
      "application/vnd.jupyter.widget-view+json": {
       "model_id": "681dce924ba4422d9bbe059be984760a",
       "version_major": 2,
       "version_minor": 0
      },
      "text/plain": [
       "Obteniendo productos:   0%|          | 0/30 [00:00<?, ?it/s]"
      ]
     },
     "metadata": {},
     "output_type": "display_data"
    },
    {
     "name": "stdout",
     "output_type": "stream",
     "text": [
      "Estamos en la página https://skinsort.com/products//page/161\n"
     ]
    },
    {
     "data": {
      "application/vnd.jupyter.widget-view+json": {
       "model_id": "004b0824893d4d11ae80bd687e4556ef",
       "version_major": 2,
       "version_minor": 0
      },
      "text/plain": [
       "Obteniendo productos:   0%|          | 0/30 [00:00<?, ?it/s]"
      ]
     },
     "metadata": {},
     "output_type": "display_data"
    },
    {
     "name": "stdout",
     "output_type": "stream",
     "text": [
      "Estamos en la página https://skinsort.com/products//page/162\n"
     ]
    },
    {
     "data": {
      "application/vnd.jupyter.widget-view+json": {
       "model_id": "832a2d45e98f4599b6c5dba12b127ef0",
       "version_major": 2,
       "version_minor": 0
      },
      "text/plain": [
       "Obteniendo productos:   0%|          | 0/30 [00:00<?, ?it/s]"
      ]
     },
     "metadata": {},
     "output_type": "display_data"
    },
    {
     "name": "stdout",
     "output_type": "stream",
     "text": [
      "Estamos en la página https://skinsort.com/products//page/163\n"
     ]
    },
    {
     "data": {
      "application/vnd.jupyter.widget-view+json": {
       "model_id": "d7f3a6d620d14164997e2134341b2ff6",
       "version_major": 2,
       "version_minor": 0
      },
      "text/plain": [
       "Obteniendo productos:   0%|          | 0/30 [00:00<?, ?it/s]"
      ]
     },
     "metadata": {},
     "output_type": "display_data"
    },
    {
     "name": "stdout",
     "output_type": "stream",
     "text": [
      "Estamos en la página https://skinsort.com/products//page/164\n"
     ]
    },
    {
     "data": {
      "application/vnd.jupyter.widget-view+json": {
       "model_id": "8f3e4c9c9213461f813e649f55c149f2",
       "version_major": 2,
       "version_minor": 0
      },
      "text/plain": [
       "Obteniendo productos:   0%|          | 0/30 [00:00<?, ?it/s]"
      ]
     },
     "metadata": {},
     "output_type": "display_data"
    },
    {
     "name": "stdout",
     "output_type": "stream",
     "text": [
      "Estamos en la página https://skinsort.com/products//page/165\n"
     ]
    },
    {
     "data": {
      "application/vnd.jupyter.widget-view+json": {
       "model_id": "65126fea3f934c6ea1cd9eaf03fdca3e",
       "version_major": 2,
       "version_minor": 0
      },
      "text/plain": [
       "Obteniendo productos:   0%|          | 0/30 [00:00<?, ?it/s]"
      ]
     },
     "metadata": {},
     "output_type": "display_data"
    },
    {
     "name": "stdout",
     "output_type": "stream",
     "text": [
      "Estamos en la página https://skinsort.com/products//page/166\n"
     ]
    },
    {
     "data": {
      "application/vnd.jupyter.widget-view+json": {
       "model_id": "4c2f333247aa4487b590633ecab97d0b",
       "version_major": 2,
       "version_minor": 0
      },
      "text/plain": [
       "Obteniendo productos:   0%|          | 0/30 [00:00<?, ?it/s]"
      ]
     },
     "metadata": {},
     "output_type": "display_data"
    },
    {
     "name": "stdout",
     "output_type": "stream",
     "text": [
      "Estamos en la página https://skinsort.com/products//page/167\n"
     ]
    },
    {
     "data": {
      "application/vnd.jupyter.widget-view+json": {
       "model_id": "0680922a40dc47ffb28f43ec73f8c406",
       "version_major": 2,
       "version_minor": 0
      },
      "text/plain": [
       "Obteniendo productos:   0%|          | 0/30 [00:00<?, ?it/s]"
      ]
     },
     "metadata": {},
     "output_type": "display_data"
    },
    {
     "name": "stdout",
     "output_type": "stream",
     "text": [
      "Estamos en la página https://skinsort.com/products//page/168\n"
     ]
    },
    {
     "data": {
      "application/vnd.jupyter.widget-view+json": {
       "model_id": "8e7931c4c99d49be8b03f959117c8027",
       "version_major": 2,
       "version_minor": 0
      },
      "text/plain": [
       "Obteniendo productos:   0%|          | 0/30 [00:00<?, ?it/s]"
      ]
     },
     "metadata": {},
     "output_type": "display_data"
    },
    {
     "name": "stdout",
     "output_type": "stream",
     "text": [
      "Estamos en la página https://skinsort.com/products//page/169\n"
     ]
    },
    {
     "data": {
      "application/vnd.jupyter.widget-view+json": {
       "model_id": "ec346a45fc64498da590d79c52723002",
       "version_major": 2,
       "version_minor": 0
      },
      "text/plain": [
       "Obteniendo productos:   0%|          | 0/30 [00:00<?, ?it/s]"
      ]
     },
     "metadata": {},
     "output_type": "display_data"
    },
    {
     "name": "stdout",
     "output_type": "stream",
     "text": [
      "Estamos en la página https://skinsort.com/products//page/170\n"
     ]
    },
    {
     "data": {
      "application/vnd.jupyter.widget-view+json": {
       "model_id": "0182e61150ea4a928f0fbf627dec08e5",
       "version_major": 2,
       "version_minor": 0
      },
      "text/plain": [
       "Obteniendo productos:   0%|          | 0/30 [00:00<?, ?it/s]"
      ]
     },
     "metadata": {},
     "output_type": "display_data"
    },
    {
     "name": "stdout",
     "output_type": "stream",
     "text": [
      "Estamos en la página https://skinsort.com/products//page/171\n"
     ]
    },
    {
     "data": {
      "application/vnd.jupyter.widget-view+json": {
       "model_id": "fcba340ea4af401392774aa19f67c2c1",
       "version_major": 2,
       "version_minor": 0
      },
      "text/plain": [
       "Obteniendo productos:   0%|          | 0/30 [00:00<?, ?it/s]"
      ]
     },
     "metadata": {},
     "output_type": "display_data"
    },
    {
     "name": "stdout",
     "output_type": "stream",
     "text": [
      "Estamos en la página https://skinsort.com/products//page/172\n"
     ]
    },
    {
     "data": {
      "application/vnd.jupyter.widget-view+json": {
       "model_id": "9a123ad2bd974bceb615d2cb99799464",
       "version_major": 2,
       "version_minor": 0
      },
      "text/plain": [
       "Obteniendo productos:   0%|          | 0/30 [00:00<?, ?it/s]"
      ]
     },
     "metadata": {},
     "output_type": "display_data"
    },
    {
     "name": "stdout",
     "output_type": "stream",
     "text": [
      "Estamos en la página https://skinsort.com/products//page/173\n",
      "Error al obtener los datos.\n"
     ]
    },
    {
     "data": {
      "application/vnd.jupyter.widget-view+json": {
       "model_id": "0e2c44086bc74c49a63921240ff2bef2",
       "version_major": 2,
       "version_minor": 0
      },
      "text/plain": [
       "Obteniendo productos:   0%|          | 0/30 [00:00<?, ?it/s]"
      ]
     },
     "metadata": {},
     "output_type": "display_data"
    },
    {
     "name": "stdout",
     "output_type": "stream",
     "text": [
      "Estamos en la página https://skinsort.com/products//page/175\n"
     ]
    },
    {
     "data": {
      "application/vnd.jupyter.widget-view+json": {
       "model_id": "1f42eb3f87684befa51be49ab33437db",
       "version_major": 2,
       "version_minor": 0
      },
      "text/plain": [
       "Obteniendo productos:   0%|          | 0/30 [00:00<?, ?it/s]"
      ]
     },
     "metadata": {},
     "output_type": "display_data"
    },
    {
     "name": "stdout",
     "output_type": "stream",
     "text": [
      "Estamos en la página https://skinsort.com/products//page/176\n"
     ]
    },
    {
     "data": {
      "application/vnd.jupyter.widget-view+json": {
       "model_id": "7f929c595c9c40dc95ee6c51c146c38b",
       "version_major": 2,
       "version_minor": 0
      },
      "text/plain": [
       "Obteniendo productos:   0%|          | 0/30 [00:00<?, ?it/s]"
      ]
     },
     "metadata": {},
     "output_type": "display_data"
    },
    {
     "name": "stdout",
     "output_type": "stream",
     "text": [
      "Estamos en la página https://skinsort.com/products//page/177\n"
     ]
    },
    {
     "data": {
      "application/vnd.jupyter.widget-view+json": {
       "model_id": "7282b09ee8144247bc0d4db3192c9cf7",
       "version_major": 2,
       "version_minor": 0
      },
      "text/plain": [
       "Obteniendo productos:   0%|          | 0/30 [00:00<?, ?it/s]"
      ]
     },
     "metadata": {},
     "output_type": "display_data"
    },
    {
     "name": "stdout",
     "output_type": "stream",
     "text": [
      "Estamos en la página https://skinsort.com/products//page/178\n"
     ]
    },
    {
     "data": {
      "application/vnd.jupyter.widget-view+json": {
       "model_id": "32ddb133c5544924935fa690be858790",
       "version_major": 2,
       "version_minor": 0
      },
      "text/plain": [
       "Obteniendo productos:   0%|          | 0/30 [00:00<?, ?it/s]"
      ]
     },
     "metadata": {},
     "output_type": "display_data"
    },
    {
     "name": "stdout",
     "output_type": "stream",
     "text": [
      "Estamos en la página https://skinsort.com/products//page/179\n"
     ]
    },
    {
     "data": {
      "application/vnd.jupyter.widget-view+json": {
       "model_id": "3d209cc6d46c49ecab9bbd8a2b7b8df9",
       "version_major": 2,
       "version_minor": 0
      },
      "text/plain": [
       "Obteniendo productos:   0%|          | 0/30 [00:00<?, ?it/s]"
      ]
     },
     "metadata": {},
     "output_type": "display_data"
    },
    {
     "name": "stdout",
     "output_type": "stream",
     "text": [
      "Estamos en la página https://skinsort.com/products//page/180\n"
     ]
    },
    {
     "data": {
      "application/vnd.jupyter.widget-view+json": {
       "model_id": "183b35ff54d440e7a2694de45818f540",
       "version_major": 2,
       "version_minor": 0
      },
      "text/plain": [
       "Obteniendo productos:   0%|          | 0/30 [00:00<?, ?it/s]"
      ]
     },
     "metadata": {},
     "output_type": "display_data"
    },
    {
     "name": "stdout",
     "output_type": "stream",
     "text": [
      "Estamos en la página https://skinsort.com/products//page/181\n"
     ]
    },
    {
     "data": {
      "application/vnd.jupyter.widget-view+json": {
       "model_id": "b93c20a323bf4167af1040b0ff1d1657",
       "version_major": 2,
       "version_minor": 0
      },
      "text/plain": [
       "Obteniendo productos:   0%|          | 0/30 [00:00<?, ?it/s]"
      ]
     },
     "metadata": {},
     "output_type": "display_data"
    },
    {
     "name": "stdout",
     "output_type": "stream",
     "text": [
      "Estamos en la página https://skinsort.com/products//page/182\n"
     ]
    },
    {
     "data": {
      "application/vnd.jupyter.widget-view+json": {
       "model_id": "d4222a33d72b4c38a782b3456b7546c8",
       "version_major": 2,
       "version_minor": 0
      },
      "text/plain": [
       "Obteniendo productos:   0%|          | 0/30 [00:00<?, ?it/s]"
      ]
     },
     "metadata": {},
     "output_type": "display_data"
    },
    {
     "name": "stdout",
     "output_type": "stream",
     "text": [
      "Estamos en la página https://skinsort.com/products//page/183\n"
     ]
    },
    {
     "data": {
      "application/vnd.jupyter.widget-view+json": {
       "model_id": "7f46300583034300ad5ac1e5e89b5d88",
       "version_major": 2,
       "version_minor": 0
      },
      "text/plain": [
       "Obteniendo productos:   0%|          | 0/30 [00:00<?, ?it/s]"
      ]
     },
     "metadata": {},
     "output_type": "display_data"
    },
    {
     "name": "stdout",
     "output_type": "stream",
     "text": [
      "Estamos en la página https://skinsort.com/products//page/184\n"
     ]
    },
    {
     "data": {
      "application/vnd.jupyter.widget-view+json": {
       "model_id": "d342a99d2d4d4f66943e163ee38cdd6d",
       "version_major": 2,
       "version_minor": 0
      },
      "text/plain": [
       "Obteniendo productos:   0%|          | 0/30 [00:00<?, ?it/s]"
      ]
     },
     "metadata": {},
     "output_type": "display_data"
    },
    {
     "name": "stdout",
     "output_type": "stream",
     "text": [
      "Estamos en la página https://skinsort.com/products//page/185\n"
     ]
    },
    {
     "data": {
      "application/vnd.jupyter.widget-view+json": {
       "model_id": "c87a94173b0f49d29f627a15749daee0",
       "version_major": 2,
       "version_minor": 0
      },
      "text/plain": [
       "Obteniendo productos:   0%|          | 0/30 [00:00<?, ?it/s]"
      ]
     },
     "metadata": {},
     "output_type": "display_data"
    },
    {
     "name": "stdout",
     "output_type": "stream",
     "text": [
      "Estamos en la página https://skinsort.com/products//page/186\n"
     ]
    },
    {
     "data": {
      "application/vnd.jupyter.widget-view+json": {
       "model_id": "6f3387ea9f6c4586ad92ae1c16438a2f",
       "version_major": 2,
       "version_minor": 0
      },
      "text/plain": [
       "Obteniendo productos:   0%|          | 0/30 [00:00<?, ?it/s]"
      ]
     },
     "metadata": {},
     "output_type": "display_data"
    },
    {
     "name": "stdout",
     "output_type": "stream",
     "text": [
      "Estamos en la página https://skinsort.com/products//page/187\n"
     ]
    },
    {
     "data": {
      "application/vnd.jupyter.widget-view+json": {
       "model_id": "d3f8cf3cffb141cfb2d40f996d0fe3f9",
       "version_major": 2,
       "version_minor": 0
      },
      "text/plain": [
       "Obteniendo productos:   0%|          | 0/30 [00:00<?, ?it/s]"
      ]
     },
     "metadata": {},
     "output_type": "display_data"
    },
    {
     "name": "stdout",
     "output_type": "stream",
     "text": [
      "Estamos en la página https://skinsort.com/products//page/188\n"
     ]
    },
    {
     "data": {
      "application/vnd.jupyter.widget-view+json": {
       "model_id": "dff60bad2baf4208acb2a9c3846b84a7",
       "version_major": 2,
       "version_minor": 0
      },
      "text/plain": [
       "Obteniendo productos:   0%|          | 0/30 [00:00<?, ?it/s]"
      ]
     },
     "metadata": {},
     "output_type": "display_data"
    },
    {
     "name": "stdout",
     "output_type": "stream",
     "text": [
      "Estamos en la página https://skinsort.com/products//page/189\n",
      "Error al obtener los datos.\n"
     ]
    },
    {
     "data": {
      "application/vnd.jupyter.widget-view+json": {
       "model_id": "87098588ae564c69aee86676646305c5",
       "version_major": 2,
       "version_minor": 0
      },
      "text/plain": [
       "Obteniendo productos:   0%|          | 0/30 [00:00<?, ?it/s]"
      ]
     },
     "metadata": {},
     "output_type": "display_data"
    },
    {
     "name": "stdout",
     "output_type": "stream",
     "text": [
      "Estamos en la página https://skinsort.com/products//page/191\n"
     ]
    },
    {
     "data": {
      "application/vnd.jupyter.widget-view+json": {
       "model_id": "5859f5d60793460e9b46ee8e9e8dfe9a",
       "version_major": 2,
       "version_minor": 0
      },
      "text/plain": [
       "Obteniendo productos:   0%|          | 0/30 [00:00<?, ?it/s]"
      ]
     },
     "metadata": {},
     "output_type": "display_data"
    },
    {
     "name": "stdout",
     "output_type": "stream",
     "text": [
      "Estamos en la página https://skinsort.com/products//page/192\n"
     ]
    },
    {
     "data": {
      "application/vnd.jupyter.widget-view+json": {
       "model_id": "1ad2cfca62104cceac5fc61a4a6ab6ab",
       "version_major": 2,
       "version_minor": 0
      },
      "text/plain": [
       "Obteniendo productos:   0%|          | 0/30 [00:00<?, ?it/s]"
      ]
     },
     "metadata": {},
     "output_type": "display_data"
    },
    {
     "name": "stdout",
     "output_type": "stream",
     "text": [
      "Estamos en la página https://skinsort.com/products//page/193\n"
     ]
    },
    {
     "data": {
      "application/vnd.jupyter.widget-view+json": {
       "model_id": "dc5ebf1aacf342179e72f43111d07f20",
       "version_major": 2,
       "version_minor": 0
      },
      "text/plain": [
       "Obteniendo productos:   0%|          | 0/30 [00:00<?, ?it/s]"
      ]
     },
     "metadata": {},
     "output_type": "display_data"
    },
    {
     "name": "stdout",
     "output_type": "stream",
     "text": [
      "Estamos en la página https://skinsort.com/products//page/194\n"
     ]
    },
    {
     "data": {
      "application/vnd.jupyter.widget-view+json": {
       "model_id": "63185351f3764fbdbe53a3a366f9f0e0",
       "version_major": 2,
       "version_minor": 0
      },
      "text/plain": [
       "Obteniendo productos:   0%|          | 0/30 [00:00<?, ?it/s]"
      ]
     },
     "metadata": {},
     "output_type": "display_data"
    },
    {
     "name": "stdout",
     "output_type": "stream",
     "text": [
      "Estamos en la página https://skinsort.com/products//page/195\n",
      "Error al obtener los datos.\n"
     ]
    },
    {
     "data": {
      "application/vnd.jupyter.widget-view+json": {
       "model_id": "2026e1f4679a45cdbf71106ff9cb01e5",
       "version_major": 2,
       "version_minor": 0
      },
      "text/plain": [
       "Obteniendo productos:   0%|          | 0/30 [00:00<?, ?it/s]"
      ]
     },
     "metadata": {},
     "output_type": "display_data"
    },
    {
     "name": "stdout",
     "output_type": "stream",
     "text": [
      "Estamos en la página https://skinsort.com/products//page/197\n"
     ]
    },
    {
     "data": {
      "application/vnd.jupyter.widget-view+json": {
       "model_id": "f2c7dc0a4fdd4139a86b821cf0a5a86d",
       "version_major": 2,
       "version_minor": 0
      },
      "text/plain": [
       "Obteniendo productos:   0%|          | 0/30 [00:00<?, ?it/s]"
      ]
     },
     "metadata": {},
     "output_type": "display_data"
    },
    {
     "name": "stdout",
     "output_type": "stream",
     "text": [
      "Estamos en la página https://skinsort.com/products//page/198\n",
      "Error al obtener los datos.\n"
     ]
    }
   ],
   "source": [
    "dict2={}\n",
    "for i in range(100, 200):\n",
    "    dict2[i] = scrap(f'https://skinsort.com/products//page/{i}')"
   ]
  },
  {
   "cell_type": "code",
   "execution_count": 60,
   "id": "50fe5f4c",
   "metadata": {},
   "outputs": [
    {
     "name": "stderr",
     "output_type": "stream",
     "text": [
      "2023-03-09 13:20:53,132 [88601] WARNING  py.warnings:109: [JupyterRequire] /tmp/ipykernel_88601/4040571658.py:3: DeprecationWarning: executable_path has been deprecated, please pass in a Service object\n",
      "  driver = webdriver.Chrome(PATH)\n",
      "\n"
     ]
    },
    {
     "data": {
      "application/vnd.jupyter.widget-view+json": {
       "model_id": "226b5c5338b3423c86e74509aeda9dc0",
       "version_major": 2,
       "version_minor": 0
      },
      "text/plain": [
       "Obteniendo productos:   0%|          | 0/30 [00:00<?, ?it/s]"
      ]
     },
     "metadata": {},
     "output_type": "display_data"
    },
    {
     "name": "stdout",
     "output_type": "stream",
     "text": [
      "Estamos en la página https://skinsort.com/products//page/101\n"
     ]
    },
    {
     "data": {
      "application/vnd.jupyter.widget-view+json": {
       "model_id": "32948728e46d41f784717228d9bbf63c",
       "version_major": 2,
       "version_minor": 0
      },
      "text/plain": [
       "Obteniendo productos:   0%|          | 0/30 [00:00<?, ?it/s]"
      ]
     },
     "metadata": {},
     "output_type": "display_data"
    },
    {
     "name": "stdout",
     "output_type": "stream",
     "text": [
      "Estamos en la página https://skinsort.com/products//page/132\n"
     ]
    },
    {
     "data": {
      "application/vnd.jupyter.widget-view+json": {
       "model_id": "03530a9b9c6f44a0be446800ac971771",
       "version_major": 2,
       "version_minor": 0
      },
      "text/plain": [
       "Obteniendo productos:   0%|          | 0/30 [00:00<?, ?it/s]"
      ]
     },
     "metadata": {},
     "output_type": "display_data"
    },
    {
     "name": "stdout",
     "output_type": "stream",
     "text": [
      "Estamos en la página https://skinsort.com/products//page/35\n"
     ]
    },
    {
     "data": {
      "application/vnd.jupyter.widget-view+json": {
       "model_id": "268aafc8b1194183ba1029074b746c19",
       "version_major": 2,
       "version_minor": 0
      },
      "text/plain": [
       "Obteniendo productos:   0%|          | 0/30 [00:00<?, ?it/s]"
      ]
     },
     "metadata": {},
     "output_type": "display_data"
    },
    {
     "name": "stdout",
     "output_type": "stream",
     "text": [
      "Estamos en la página https://skinsort.com/products//page/141\n"
     ]
    },
    {
     "data": {
      "application/vnd.jupyter.widget-view+json": {
       "model_id": "487be44c57354766897a619890e4c71f",
       "version_major": 2,
       "version_minor": 0
      },
      "text/plain": [
       "Obteniendo productos:   0%|          | 0/30 [00:00<?, ?it/s]"
      ]
     },
     "metadata": {},
     "output_type": "display_data"
    },
    {
     "name": "stdout",
     "output_type": "stream",
     "text": [
      "Estamos en la página https://skinsort.com/products//page/145\n"
     ]
    },
    {
     "data": {
      "application/vnd.jupyter.widget-view+json": {
       "model_id": "63f644c2813d458f9a3bf625ef7c0c95",
       "version_major": 2,
       "version_minor": 0
      },
      "text/plain": [
       "Obteniendo productos:   0%|          | 0/30 [00:00<?, ?it/s]"
      ]
     },
     "metadata": {},
     "output_type": "display_data"
    },
    {
     "name": "stdout",
     "output_type": "stream",
     "text": [
      "Estamos en la página https://skinsort.com/products//page/174\n"
     ]
    },
    {
     "data": {
      "application/vnd.jupyter.widget-view+json": {
       "model_id": "7cfa42def0214186becbf2d02853fe46",
       "version_major": 2,
       "version_minor": 0
      },
      "text/plain": [
       "Obteniendo productos:   0%|          | 0/30 [00:00<?, ?it/s]"
      ]
     },
     "metadata": {},
     "output_type": "display_data"
    },
    {
     "name": "stdout",
     "output_type": "stream",
     "text": [
      "Estamos en la página https://skinsort.com/products//page/197\n"
     ]
    }
   ],
   "source": [
    "dict2[101] = scrap('https://skinsort.com/products//page/101')\n",
    "dict2[132] = scrap('https://skinsort.com/products//page/132')\n",
    "dict2[135] = scrap('https://skinsort.com/products//page/35')\n",
    "dict2[141] = scrap('https://skinsort.com/products//page/141')\n",
    "dict2[145] = scrap('https://skinsort.com/products//page/145')\n",
    "dict2[174] = scrap('https://skinsort.com/products//page/174')\n",
    "dict2[197] = scrap('https://skinsort.com/products//page/197')"
   ]
  },
  {
   "cell_type": "code",
   "execution_count": null,
   "id": "9ea60656",
   "metadata": {},
   "outputs": [],
   "source": []
  },
  {
   "cell_type": "code",
   "execution_count": 61,
   "id": "96ac4fe8",
   "metadata": {},
   "outputs": [],
   "source": [
    "\n",
    "with open('datos_scrapeados2.json', 'w') as file:\n",
    "    json.dump(dict2, file)"
   ]
  },
  {
   "cell_type": "code",
   "execution_count": 62,
   "id": "7e8fd907",
   "metadata": {},
   "outputs": [
    {
     "name": "stderr",
     "output_type": "stream",
     "text": [
      "2023-03-09 13:24:21,459 [88601] WARNING  py.warnings:109: [JupyterRequire] /tmp/ipykernel_88601/4040571658.py:3: DeprecationWarning: executable_path has been deprecated, please pass in a Service object\n",
      "  driver = webdriver.Chrome(PATH)\n",
      "\n"
     ]
    },
    {
     "data": {
      "application/vnd.jupyter.widget-view+json": {
       "model_id": "694810ecc74e4d4ba019492aa5060621",
       "version_major": 2,
       "version_minor": 0
      },
      "text/plain": [
       "Obteniendo productos:   0%|          | 0/30 [00:00<?, ?it/s]"
      ]
     },
     "metadata": {},
     "output_type": "display_data"
    },
    {
     "name": "stdout",
     "output_type": "stream",
     "text": [
      "Estamos en la página https://skinsort.com/products//page/200\n"
     ]
    },
    {
     "data": {
      "application/vnd.jupyter.widget-view+json": {
       "model_id": "8195dbee51834dacb59c078bad3c5d69",
       "version_major": 2,
       "version_minor": 0
      },
      "text/plain": [
       "Obteniendo productos:   0%|          | 0/30 [00:00<?, ?it/s]"
      ]
     },
     "metadata": {},
     "output_type": "display_data"
    },
    {
     "name": "stdout",
     "output_type": "stream",
     "text": [
      "Estamos en la página https://skinsort.com/products//page/201\n"
     ]
    },
    {
     "data": {
      "application/vnd.jupyter.widget-view+json": {
       "model_id": "55faea11413442cb9871c77b14cd283b",
       "version_major": 2,
       "version_minor": 0
      },
      "text/plain": [
       "Obteniendo productos:   0%|          | 0/30 [00:00<?, ?it/s]"
      ]
     },
     "metadata": {},
     "output_type": "display_data"
    },
    {
     "name": "stdout",
     "output_type": "stream",
     "text": [
      "Estamos en la página https://skinsort.com/products//page/202\n"
     ]
    },
    {
     "data": {
      "application/vnd.jupyter.widget-view+json": {
       "model_id": "57762e481676437485c004147a1f4df5",
       "version_major": 2,
       "version_minor": 0
      },
      "text/plain": [
       "Obteniendo productos:   0%|          | 0/30 [00:00<?, ?it/s]"
      ]
     },
     "metadata": {},
     "output_type": "display_data"
    },
    {
     "name": "stdout",
     "output_type": "stream",
     "text": [
      "Estamos en la página https://skinsort.com/products//page/203\n"
     ]
    },
    {
     "data": {
      "application/vnd.jupyter.widget-view+json": {
       "model_id": "0a4e18fe0014437c826c4770f32af7d1",
       "version_major": 2,
       "version_minor": 0
      },
      "text/plain": [
       "Obteniendo productos:   0%|          | 0/30 [00:00<?, ?it/s]"
      ]
     },
     "metadata": {},
     "output_type": "display_data"
    },
    {
     "name": "stdout",
     "output_type": "stream",
     "text": [
      "Estamos en la página https://skinsort.com/products//page/204\n"
     ]
    },
    {
     "data": {
      "application/vnd.jupyter.widget-view+json": {
       "model_id": "0773419ffc274850aa591c1d52d3e421",
       "version_major": 2,
       "version_minor": 0
      },
      "text/plain": [
       "Obteniendo productos:   0%|          | 0/30 [00:00<?, ?it/s]"
      ]
     },
     "metadata": {},
     "output_type": "display_data"
    },
    {
     "name": "stdout",
     "output_type": "stream",
     "text": [
      "Estamos en la página https://skinsort.com/products//page/205\n"
     ]
    },
    {
     "data": {
      "application/vnd.jupyter.widget-view+json": {
       "model_id": "35e1203f04894d268dfacb91be7ae00b",
       "version_major": 2,
       "version_minor": 0
      },
      "text/plain": [
       "Obteniendo productos:   0%|          | 0/30 [00:00<?, ?it/s]"
      ]
     },
     "metadata": {},
     "output_type": "display_data"
    },
    {
     "name": "stdout",
     "output_type": "stream",
     "text": [
      "Estamos en la página https://skinsort.com/products//page/206\n"
     ]
    },
    {
     "data": {
      "application/vnd.jupyter.widget-view+json": {
       "model_id": "e81b943afa4a45e2b738f1a82f2ac92e",
       "version_major": 2,
       "version_minor": 0
      },
      "text/plain": [
       "Obteniendo productos:   0%|          | 0/30 [00:00<?, ?it/s]"
      ]
     },
     "metadata": {},
     "output_type": "display_data"
    },
    {
     "name": "stdout",
     "output_type": "stream",
     "text": [
      "Estamos en la página https://skinsort.com/products//page/207\n"
     ]
    },
    {
     "data": {
      "application/vnd.jupyter.widget-view+json": {
       "model_id": "d236199230dc4ea2a192c605e0a93b7d",
       "version_major": 2,
       "version_minor": 0
      },
      "text/plain": [
       "Obteniendo productos:   0%|          | 0/30 [00:00<?, ?it/s]"
      ]
     },
     "metadata": {},
     "output_type": "display_data"
    },
    {
     "name": "stdout",
     "output_type": "stream",
     "text": [
      "Estamos en la página https://skinsort.com/products//page/208\n"
     ]
    },
    {
     "data": {
      "application/vnd.jupyter.widget-view+json": {
       "model_id": "751d8236eb674e26a8dacf72c0b738d9",
       "version_major": 2,
       "version_minor": 0
      },
      "text/plain": [
       "Obteniendo productos:   0%|          | 0/30 [00:00<?, ?it/s]"
      ]
     },
     "metadata": {},
     "output_type": "display_data"
    },
    {
     "name": "stdout",
     "output_type": "stream",
     "text": [
      "Estamos en la página https://skinsort.com/products//page/209\n"
     ]
    },
    {
     "data": {
      "application/vnd.jupyter.widget-view+json": {
       "model_id": "75b03152089145a6831502db035f68e1",
       "version_major": 2,
       "version_minor": 0
      },
      "text/plain": [
       "Obteniendo productos:   0%|          | 0/30 [00:00<?, ?it/s]"
      ]
     },
     "metadata": {},
     "output_type": "display_data"
    },
    {
     "name": "stdout",
     "output_type": "stream",
     "text": [
      "Estamos en la página https://skinsort.com/products//page/210\n"
     ]
    },
    {
     "data": {
      "application/vnd.jupyter.widget-view+json": {
       "model_id": "1818357a07f9490d960f82d407728a3f",
       "version_major": 2,
       "version_minor": 0
      },
      "text/plain": [
       "Obteniendo productos:   0%|          | 0/30 [00:00<?, ?it/s]"
      ]
     },
     "metadata": {},
     "output_type": "display_data"
    },
    {
     "name": "stdout",
     "output_type": "stream",
     "text": [
      "Estamos en la página https://skinsort.com/products//page/211\n"
     ]
    },
    {
     "data": {
      "application/vnd.jupyter.widget-view+json": {
       "model_id": "17c44e34c5174d67ae741c193f079fcd",
       "version_major": 2,
       "version_minor": 0
      },
      "text/plain": [
       "Obteniendo productos:   0%|          | 0/30 [00:00<?, ?it/s]"
      ]
     },
     "metadata": {},
     "output_type": "display_data"
    },
    {
     "name": "stdout",
     "output_type": "stream",
     "text": [
      "Estamos en la página https://skinsort.com/products//page/212\n"
     ]
    },
    {
     "data": {
      "application/vnd.jupyter.widget-view+json": {
       "model_id": "eef36d828e9a4858ab1bf92b5090783f",
       "version_major": 2,
       "version_minor": 0
      },
      "text/plain": [
       "Obteniendo productos:   0%|          | 0/30 [00:00<?, ?it/s]"
      ]
     },
     "metadata": {},
     "output_type": "display_data"
    },
    {
     "name": "stdout",
     "output_type": "stream",
     "text": [
      "Estamos en la página https://skinsort.com/products//page/213\n"
     ]
    },
    {
     "data": {
      "application/vnd.jupyter.widget-view+json": {
       "model_id": "80e3b0eeea0c4721bc1aa4590eb56274",
       "version_major": 2,
       "version_minor": 0
      },
      "text/plain": [
       "Obteniendo productos:   0%|          | 0/30 [00:00<?, ?it/s]"
      ]
     },
     "metadata": {},
     "output_type": "display_data"
    },
    {
     "name": "stdout",
     "output_type": "stream",
     "text": [
      "Estamos en la página https://skinsort.com/products//page/214\n"
     ]
    },
    {
     "data": {
      "application/vnd.jupyter.widget-view+json": {
       "model_id": "13934051bae64e06916dc49eec10b335",
       "version_major": 2,
       "version_minor": 0
      },
      "text/plain": [
       "Obteniendo productos:   0%|          | 0/30 [00:00<?, ?it/s]"
      ]
     },
     "metadata": {},
     "output_type": "display_data"
    },
    {
     "name": "stdout",
     "output_type": "stream",
     "text": [
      "Estamos en la página https://skinsort.com/products//page/215\n"
     ]
    },
    {
     "data": {
      "application/vnd.jupyter.widget-view+json": {
       "model_id": "7f4d682d0ad04acd85d7aef2240005bb",
       "version_major": 2,
       "version_minor": 0
      },
      "text/plain": [
       "Obteniendo productos:   0%|          | 0/30 [00:00<?, ?it/s]"
      ]
     },
     "metadata": {},
     "output_type": "display_data"
    },
    {
     "name": "stdout",
     "output_type": "stream",
     "text": [
      "Estamos en la página https://skinsort.com/products//page/216\n"
     ]
    },
    {
     "data": {
      "application/vnd.jupyter.widget-view+json": {
       "model_id": "7f4a6ed2869d4e809cc481202641715c",
       "version_major": 2,
       "version_minor": 0
      },
      "text/plain": [
       "Obteniendo productos:   0%|          | 0/30 [00:00<?, ?it/s]"
      ]
     },
     "metadata": {},
     "output_type": "display_data"
    },
    {
     "name": "stdout",
     "output_type": "stream",
     "text": [
      "Estamos en la página https://skinsort.com/products//page/217\n"
     ]
    },
    {
     "data": {
      "application/vnd.jupyter.widget-view+json": {
       "model_id": "7847922362e845c3afa4de2476ad5321",
       "version_major": 2,
       "version_minor": 0
      },
      "text/plain": [
       "Obteniendo productos:   0%|          | 0/30 [00:00<?, ?it/s]"
      ]
     },
     "metadata": {},
     "output_type": "display_data"
    },
    {
     "name": "stdout",
     "output_type": "stream",
     "text": [
      "Estamos en la página https://skinsort.com/products//page/218\n"
     ]
    },
    {
     "data": {
      "application/vnd.jupyter.widget-view+json": {
       "model_id": "40b3d68bf9a44b0e93bbe8e3488d6466",
       "version_major": 2,
       "version_minor": 0
      },
      "text/plain": [
       "Obteniendo productos:   0%|          | 0/30 [00:00<?, ?it/s]"
      ]
     },
     "metadata": {},
     "output_type": "display_data"
    },
    {
     "name": "stdout",
     "output_type": "stream",
     "text": [
      "Estamos en la página https://skinsort.com/products//page/219\n"
     ]
    },
    {
     "data": {
      "application/vnd.jupyter.widget-view+json": {
       "model_id": "ef0ba9c3894440d7850bbd435970bba4",
       "version_major": 2,
       "version_minor": 0
      },
      "text/plain": [
       "Obteniendo productos:   0%|          | 0/30 [00:00<?, ?it/s]"
      ]
     },
     "metadata": {},
     "output_type": "display_data"
    },
    {
     "name": "stdout",
     "output_type": "stream",
     "text": [
      "Estamos en la página https://skinsort.com/products//page/220\n"
     ]
    },
    {
     "data": {
      "application/vnd.jupyter.widget-view+json": {
       "model_id": "7cad3fd68c494124a6386d4a18b84ada",
       "version_major": 2,
       "version_minor": 0
      },
      "text/plain": [
       "Obteniendo productos:   0%|          | 0/30 [00:00<?, ?it/s]"
      ]
     },
     "metadata": {},
     "output_type": "display_data"
    },
    {
     "name": "stdout",
     "output_type": "stream",
     "text": [
      "Estamos en la página https://skinsort.com/products//page/221\n"
     ]
    },
    {
     "data": {
      "application/vnd.jupyter.widget-view+json": {
       "model_id": "99cfa0acdb2143e5a4d35e593c9bd312",
       "version_major": 2,
       "version_minor": 0
      },
      "text/plain": [
       "Obteniendo productos:   0%|          | 0/30 [00:00<?, ?it/s]"
      ]
     },
     "metadata": {},
     "output_type": "display_data"
    },
    {
     "name": "stdout",
     "output_type": "stream",
     "text": [
      "Estamos en la página https://skinsort.com/products//page/222\n"
     ]
    },
    {
     "data": {
      "application/vnd.jupyter.widget-view+json": {
       "model_id": "c656a055653248e1a71217dc78e308cc",
       "version_major": 2,
       "version_minor": 0
      },
      "text/plain": [
       "Obteniendo productos:   0%|          | 0/30 [00:00<?, ?it/s]"
      ]
     },
     "metadata": {},
     "output_type": "display_data"
    },
    {
     "name": "stdout",
     "output_type": "stream",
     "text": [
      "Estamos en la página https://skinsort.com/products//page/223\n"
     ]
    },
    {
     "data": {
      "application/vnd.jupyter.widget-view+json": {
       "model_id": "0e3f3cbaebea416cac083a69ba088f7a",
       "version_major": 2,
       "version_minor": 0
      },
      "text/plain": [
       "Obteniendo productos:   0%|          | 0/30 [00:00<?, ?it/s]"
      ]
     },
     "metadata": {},
     "output_type": "display_data"
    },
    {
     "name": "stdout",
     "output_type": "stream",
     "text": [
      "Estamos en la página https://skinsort.com/products//page/224\n"
     ]
    },
    {
     "data": {
      "application/vnd.jupyter.widget-view+json": {
       "model_id": "50721642cf79423eb08f665c8a2beda4",
       "version_major": 2,
       "version_minor": 0
      },
      "text/plain": [
       "Obteniendo productos:   0%|          | 0/30 [00:00<?, ?it/s]"
      ]
     },
     "metadata": {},
     "output_type": "display_data"
    },
    {
     "name": "stdout",
     "output_type": "stream",
     "text": [
      "Estamos en la página https://skinsort.com/products//page/225\n"
     ]
    },
    {
     "data": {
      "application/vnd.jupyter.widget-view+json": {
       "model_id": "61726f5007274d56bfd482f538c6c69a",
       "version_major": 2,
       "version_minor": 0
      },
      "text/plain": [
       "Obteniendo productos:   0%|          | 0/30 [00:00<?, ?it/s]"
      ]
     },
     "metadata": {},
     "output_type": "display_data"
    },
    {
     "name": "stdout",
     "output_type": "stream",
     "text": [
      "Estamos en la página https://skinsort.com/products//page/226\n"
     ]
    },
    {
     "data": {
      "application/vnd.jupyter.widget-view+json": {
       "model_id": "2fcc5affc6404c4d96e6e685e3dd5798",
       "version_major": 2,
       "version_minor": 0
      },
      "text/plain": [
       "Obteniendo productos:   0%|          | 0/30 [00:00<?, ?it/s]"
      ]
     },
     "metadata": {},
     "output_type": "display_data"
    },
    {
     "name": "stdout",
     "output_type": "stream",
     "text": [
      "Estamos en la página https://skinsort.com/products//page/227\n",
      "Error al obtener los datos.\n"
     ]
    },
    {
     "data": {
      "application/vnd.jupyter.widget-view+json": {
       "model_id": "2352aeafcec148738bbf1ba3afb5127c",
       "version_major": 2,
       "version_minor": 0
      },
      "text/plain": [
       "Obteniendo productos:   0%|          | 0/30 [00:00<?, ?it/s]"
      ]
     },
     "metadata": {},
     "output_type": "display_data"
    },
    {
     "name": "stdout",
     "output_type": "stream",
     "text": [
      "Estamos en la página https://skinsort.com/products//page/229\n"
     ]
    },
    {
     "data": {
      "application/vnd.jupyter.widget-view+json": {
       "model_id": "a937009ec3c6459fa30a9318270adebf",
       "version_major": 2,
       "version_minor": 0
      },
      "text/plain": [
       "Obteniendo productos:   0%|          | 0/30 [00:00<?, ?it/s]"
      ]
     },
     "metadata": {},
     "output_type": "display_data"
    },
    {
     "name": "stdout",
     "output_type": "stream",
     "text": [
      "Estamos en la página https://skinsort.com/products//page/230\n"
     ]
    },
    {
     "data": {
      "application/vnd.jupyter.widget-view+json": {
       "model_id": "d8946f0d4bc240919c25201a877c26bb",
       "version_major": 2,
       "version_minor": 0
      },
      "text/plain": [
       "Obteniendo productos:   0%|          | 0/30 [00:00<?, ?it/s]"
      ]
     },
     "metadata": {},
     "output_type": "display_data"
    },
    {
     "name": "stdout",
     "output_type": "stream",
     "text": [
      "Estamos en la página https://skinsort.com/products//page/231\n"
     ]
    },
    {
     "data": {
      "application/vnd.jupyter.widget-view+json": {
       "model_id": "fb13b6ea06b6402bbd20ae1193c42488",
       "version_major": 2,
       "version_minor": 0
      },
      "text/plain": [
       "Obteniendo productos:   0%|          | 0/30 [00:00<?, ?it/s]"
      ]
     },
     "metadata": {},
     "output_type": "display_data"
    },
    {
     "name": "stdout",
     "output_type": "stream",
     "text": [
      "Estamos en la página https://skinsort.com/products//page/232\n"
     ]
    },
    {
     "data": {
      "application/vnd.jupyter.widget-view+json": {
       "model_id": "d38c69dfb59f4d198c26a39c1a8b04a0",
       "version_major": 2,
       "version_minor": 0
      },
      "text/plain": [
       "Obteniendo productos:   0%|          | 0/30 [00:00<?, ?it/s]"
      ]
     },
     "metadata": {},
     "output_type": "display_data"
    },
    {
     "name": "stdout",
     "output_type": "stream",
     "text": [
      "Estamos en la página https://skinsort.com/products//page/233\n"
     ]
    },
    {
     "data": {
      "application/vnd.jupyter.widget-view+json": {
       "model_id": "b0436209c43b4b77b1c3a1ea60137c6f",
       "version_major": 2,
       "version_minor": 0
      },
      "text/plain": [
       "Obteniendo productos:   0%|          | 0/30 [00:00<?, ?it/s]"
      ]
     },
     "metadata": {},
     "output_type": "display_data"
    },
    {
     "name": "stdout",
     "output_type": "stream",
     "text": [
      "Estamos en la página https://skinsort.com/products//page/234\n"
     ]
    },
    {
     "data": {
      "application/vnd.jupyter.widget-view+json": {
       "model_id": "6abc9ad25adc43679c0d2745e9e12c09",
       "version_major": 2,
       "version_minor": 0
      },
      "text/plain": [
       "Obteniendo productos:   0%|          | 0/30 [00:00<?, ?it/s]"
      ]
     },
     "metadata": {},
     "output_type": "display_data"
    },
    {
     "name": "stdout",
     "output_type": "stream",
     "text": [
      "Estamos en la página https://skinsort.com/products//page/235\n"
     ]
    },
    {
     "data": {
      "application/vnd.jupyter.widget-view+json": {
       "model_id": "e2ba89334e3e4ea9aced4fcd80a490b3",
       "version_major": 2,
       "version_minor": 0
      },
      "text/plain": [
       "Obteniendo productos:   0%|          | 0/30 [00:00<?, ?it/s]"
      ]
     },
     "metadata": {},
     "output_type": "display_data"
    },
    {
     "name": "stdout",
     "output_type": "stream",
     "text": [
      "Estamos en la página https://skinsort.com/products//page/236\n"
     ]
    },
    {
     "data": {
      "application/vnd.jupyter.widget-view+json": {
       "model_id": "b32c1a9f3f45432bb2a1c19db80912f3",
       "version_major": 2,
       "version_minor": 0
      },
      "text/plain": [
       "Obteniendo productos:   0%|          | 0/30 [00:00<?, ?it/s]"
      ]
     },
     "metadata": {},
     "output_type": "display_data"
    },
    {
     "name": "stdout",
     "output_type": "stream",
     "text": [
      "Estamos en la página https://skinsort.com/products//page/237\n"
     ]
    },
    {
     "data": {
      "application/vnd.jupyter.widget-view+json": {
       "model_id": "5658d7d77b55484fbdaa7b07387af616",
       "version_major": 2,
       "version_minor": 0
      },
      "text/plain": [
       "Obteniendo productos:   0%|          | 0/30 [00:00<?, ?it/s]"
      ]
     },
     "metadata": {},
     "output_type": "display_data"
    },
    {
     "name": "stdout",
     "output_type": "stream",
     "text": [
      "Estamos en la página https://skinsort.com/products//page/238\n"
     ]
    },
    {
     "data": {
      "application/vnd.jupyter.widget-view+json": {
       "model_id": "46179eff73c742ba825e1c41344b2122",
       "version_major": 2,
       "version_minor": 0
      },
      "text/plain": [
       "Obteniendo productos:   0%|          | 0/30 [00:00<?, ?it/s]"
      ]
     },
     "metadata": {},
     "output_type": "display_data"
    },
    {
     "name": "stdout",
     "output_type": "stream",
     "text": [
      "Estamos en la página https://skinsort.com/products//page/239\n"
     ]
    },
    {
     "data": {
      "application/vnd.jupyter.widget-view+json": {
       "model_id": "fcb7ee85debe465ba85f1766567579d7",
       "version_major": 2,
       "version_minor": 0
      },
      "text/plain": [
       "Obteniendo productos:   0%|          | 0/30 [00:00<?, ?it/s]"
      ]
     },
     "metadata": {},
     "output_type": "display_data"
    },
    {
     "name": "stdout",
     "output_type": "stream",
     "text": [
      "Estamos en la página https://skinsort.com/products//page/240\n"
     ]
    },
    {
     "data": {
      "application/vnd.jupyter.widget-view+json": {
       "model_id": "e66d38da44124b75be7a8fd81e08bd78",
       "version_major": 2,
       "version_minor": 0
      },
      "text/plain": [
       "Obteniendo productos:   0%|          | 0/30 [00:00<?, ?it/s]"
      ]
     },
     "metadata": {},
     "output_type": "display_data"
    },
    {
     "name": "stdout",
     "output_type": "stream",
     "text": [
      "Estamos en la página https://skinsort.com/products//page/241\n"
     ]
    },
    {
     "data": {
      "application/vnd.jupyter.widget-view+json": {
       "model_id": "ab9b9e677e5042ec90515205e37a45a6",
       "version_major": 2,
       "version_minor": 0
      },
      "text/plain": [
       "Obteniendo productos:   0%|          | 0/30 [00:00<?, ?it/s]"
      ]
     },
     "metadata": {},
     "output_type": "display_data"
    },
    {
     "name": "stdout",
     "output_type": "stream",
     "text": [
      "Estamos en la página https://skinsort.com/products//page/242\n",
      "Error al obtener los datos.\n"
     ]
    },
    {
     "data": {
      "application/vnd.jupyter.widget-view+json": {
       "model_id": "fa15f7bf3d4940a8a6b754aa9e08f0c6",
       "version_major": 2,
       "version_minor": 0
      },
      "text/plain": [
       "Obteniendo productos:   0%|          | 0/30 [00:00<?, ?it/s]"
      ]
     },
     "metadata": {},
     "output_type": "display_data"
    },
    {
     "name": "stdout",
     "output_type": "stream",
     "text": [
      "Estamos en la página https://skinsort.com/products//page/244\n"
     ]
    },
    {
     "data": {
      "application/vnd.jupyter.widget-view+json": {
       "model_id": "80edc89338b34d86aa32f7e604e8d827",
       "version_major": 2,
       "version_minor": 0
      },
      "text/plain": [
       "Obteniendo productos:   0%|          | 0/30 [00:00<?, ?it/s]"
      ]
     },
     "metadata": {},
     "output_type": "display_data"
    },
    {
     "name": "stdout",
     "output_type": "stream",
     "text": [
      "Estamos en la página https://skinsort.com/products//page/245\n"
     ]
    },
    {
     "data": {
      "application/vnd.jupyter.widget-view+json": {
       "model_id": "2735f2ad9d354339960e37bde0f164aa",
       "version_major": 2,
       "version_minor": 0
      },
      "text/plain": [
       "Obteniendo productos:   0%|          | 0/30 [00:00<?, ?it/s]"
      ]
     },
     "metadata": {},
     "output_type": "display_data"
    },
    {
     "name": "stdout",
     "output_type": "stream",
     "text": [
      "Estamos en la página https://skinsort.com/products//page/246\n",
      "Error al obtener los datos.\n"
     ]
    },
    {
     "data": {
      "application/vnd.jupyter.widget-view+json": {
       "model_id": "7f0deac638744036a6d6453100dde6cd",
       "version_major": 2,
       "version_minor": 0
      },
      "text/plain": [
       "Obteniendo productos:   0%|          | 0/30 [00:00<?, ?it/s]"
      ]
     },
     "metadata": {},
     "output_type": "display_data"
    },
    {
     "name": "stdout",
     "output_type": "stream",
     "text": [
      "Estamos en la página https://skinsort.com/products//page/248\n"
     ]
    },
    {
     "data": {
      "application/vnd.jupyter.widget-view+json": {
       "model_id": "6b7e044368954a88bd66dd10aa26e38b",
       "version_major": 2,
       "version_minor": 0
      },
      "text/plain": [
       "Obteniendo productos:   0%|          | 0/30 [00:00<?, ?it/s]"
      ]
     },
     "metadata": {},
     "output_type": "display_data"
    },
    {
     "name": "stdout",
     "output_type": "stream",
     "text": [
      "Estamos en la página https://skinsort.com/products//page/249\n"
     ]
    },
    {
     "data": {
      "application/vnd.jupyter.widget-view+json": {
       "model_id": "83d9e65a081a4fc3bffb558ee99b7147",
       "version_major": 2,
       "version_minor": 0
      },
      "text/plain": [
       "Obteniendo productos:   0%|          | 0/30 [00:00<?, ?it/s]"
      ]
     },
     "metadata": {},
     "output_type": "display_data"
    },
    {
     "name": "stdout",
     "output_type": "stream",
     "text": [
      "Estamos en la página https://skinsort.com/products//page/250\n"
     ]
    },
    {
     "data": {
      "application/vnd.jupyter.widget-view+json": {
       "model_id": "ef50999260b641deb07cc8765462ee57",
       "version_major": 2,
       "version_minor": 0
      },
      "text/plain": [
       "Obteniendo productos:   0%|          | 0/30 [00:00<?, ?it/s]"
      ]
     },
     "metadata": {},
     "output_type": "display_data"
    },
    {
     "name": "stdout",
     "output_type": "stream",
     "text": [
      "Estamos en la página https://skinsort.com/products//page/251\n"
     ]
    },
    {
     "data": {
      "application/vnd.jupyter.widget-view+json": {
       "model_id": "44b8184694084e17a99a533c9f981888",
       "version_major": 2,
       "version_minor": 0
      },
      "text/plain": [
       "Obteniendo productos:   0%|          | 0/30 [00:00<?, ?it/s]"
      ]
     },
     "metadata": {},
     "output_type": "display_data"
    },
    {
     "name": "stdout",
     "output_type": "stream",
     "text": [
      "Estamos en la página https://skinsort.com/products//page/252\n"
     ]
    },
    {
     "data": {
      "application/vnd.jupyter.widget-view+json": {
       "model_id": "6dea536bc85a43b3a2c717cfd0c89c1a",
       "version_major": 2,
       "version_minor": 0
      },
      "text/plain": [
       "Obteniendo productos:   0%|          | 0/30 [00:00<?, ?it/s]"
      ]
     },
     "metadata": {},
     "output_type": "display_data"
    },
    {
     "name": "stdout",
     "output_type": "stream",
     "text": [
      "Estamos en la página https://skinsort.com/products//page/253\n"
     ]
    },
    {
     "data": {
      "application/vnd.jupyter.widget-view+json": {
       "model_id": "e5d83c0f92d145fd9b5401eec6f47a47",
       "version_major": 2,
       "version_minor": 0
      },
      "text/plain": [
       "Obteniendo productos:   0%|          | 0/30 [00:00<?, ?it/s]"
      ]
     },
     "metadata": {},
     "output_type": "display_data"
    },
    {
     "name": "stdout",
     "output_type": "stream",
     "text": [
      "Estamos en la página https://skinsort.com/products//page/254\n",
      "Error al obtener los datos.\n"
     ]
    },
    {
     "data": {
      "application/vnd.jupyter.widget-view+json": {
       "model_id": "718fc15aa889482fa7d5eb55aac94c96",
       "version_major": 2,
       "version_minor": 0
      },
      "text/plain": [
       "Obteniendo productos:   0%|          | 0/30 [00:00<?, ?it/s]"
      ]
     },
     "metadata": {},
     "output_type": "display_data"
    },
    {
     "name": "stdout",
     "output_type": "stream",
     "text": [
      "Estamos en la página https://skinsort.com/products//page/256\n"
     ]
    },
    {
     "data": {
      "application/vnd.jupyter.widget-view+json": {
       "model_id": "a67e522fc3424a87a3122ee2311ccdc7",
       "version_major": 2,
       "version_minor": 0
      },
      "text/plain": [
       "Obteniendo productos:   0%|          | 0/30 [00:00<?, ?it/s]"
      ]
     },
     "metadata": {},
     "output_type": "display_data"
    },
    {
     "name": "stdout",
     "output_type": "stream",
     "text": [
      "Estamos en la página https://skinsort.com/products//page/257\n"
     ]
    },
    {
     "data": {
      "application/vnd.jupyter.widget-view+json": {
       "model_id": "3f7d7c9c28e647f3a567bdb19a90f8a7",
       "version_major": 2,
       "version_minor": 0
      },
      "text/plain": [
       "Obteniendo productos:   0%|          | 0/30 [00:00<?, ?it/s]"
      ]
     },
     "metadata": {},
     "output_type": "display_data"
    },
    {
     "name": "stdout",
     "output_type": "stream",
     "text": [
      "Estamos en la página https://skinsort.com/products//page/258\n"
     ]
    },
    {
     "data": {
      "application/vnd.jupyter.widget-view+json": {
       "model_id": "adc894f69afc475e98cd1c8d6c9fe736",
       "version_major": 2,
       "version_minor": 0
      },
      "text/plain": [
       "Obteniendo productos:   0%|          | 0/30 [00:00<?, ?it/s]"
      ]
     },
     "metadata": {},
     "output_type": "display_data"
    },
    {
     "name": "stdout",
     "output_type": "stream",
     "text": [
      "Estamos en la página https://skinsort.com/products//page/259\n"
     ]
    },
    {
     "data": {
      "application/vnd.jupyter.widget-view+json": {
       "model_id": "6287536ca6154ecd9206b84ae286dc12",
       "version_major": 2,
       "version_minor": 0
      },
      "text/plain": [
       "Obteniendo productos:   0%|          | 0/30 [00:00<?, ?it/s]"
      ]
     },
     "metadata": {},
     "output_type": "display_data"
    },
    {
     "name": "stdout",
     "output_type": "stream",
     "text": [
      "Estamos en la página https://skinsort.com/products//page/260\n"
     ]
    },
    {
     "data": {
      "application/vnd.jupyter.widget-view+json": {
       "model_id": "000ded3bcd70450986b335d933177260",
       "version_major": 2,
       "version_minor": 0
      },
      "text/plain": [
       "Obteniendo productos:   0%|          | 0/30 [00:00<?, ?it/s]"
      ]
     },
     "metadata": {},
     "output_type": "display_data"
    },
    {
     "name": "stdout",
     "output_type": "stream",
     "text": [
      "Estamos en la página https://skinsort.com/products//page/261\n"
     ]
    },
    {
     "data": {
      "application/vnd.jupyter.widget-view+json": {
       "model_id": "b9a0a0dae72b46e588d1bfb240c91170",
       "version_major": 2,
       "version_minor": 0
      },
      "text/plain": [
       "Obteniendo productos:   0%|          | 0/30 [00:00<?, ?it/s]"
      ]
     },
     "metadata": {},
     "output_type": "display_data"
    },
    {
     "name": "stdout",
     "output_type": "stream",
     "text": [
      "Estamos en la página https://skinsort.com/products//page/262\n",
      "Error al obtener los datos.\n"
     ]
    },
    {
     "data": {
      "application/vnd.jupyter.widget-view+json": {
       "model_id": "b2d63572d371489fa478639892d800fb",
       "version_major": 2,
       "version_minor": 0
      },
      "text/plain": [
       "Obteniendo productos:   0%|          | 0/30 [00:00<?, ?it/s]"
      ]
     },
     "metadata": {},
     "output_type": "display_data"
    },
    {
     "name": "stdout",
     "output_type": "stream",
     "text": [
      "Estamos en la página https://skinsort.com/products//page/264\n"
     ]
    },
    {
     "data": {
      "application/vnd.jupyter.widget-view+json": {
       "model_id": "64f5301e78dc43ac8e796cd0e4b2e90d",
       "version_major": 2,
       "version_minor": 0
      },
      "text/plain": [
       "Obteniendo productos:   0%|          | 0/30 [00:00<?, ?it/s]"
      ]
     },
     "metadata": {},
     "output_type": "display_data"
    },
    {
     "name": "stdout",
     "output_type": "stream",
     "text": [
      "Estamos en la página https://skinsort.com/products//page/265\n"
     ]
    },
    {
     "data": {
      "application/vnd.jupyter.widget-view+json": {
       "model_id": "6e4f1ee9112d4c0a84004cef272f2c36",
       "version_major": 2,
       "version_minor": 0
      },
      "text/plain": [
       "Obteniendo productos:   0%|          | 0/30 [00:00<?, ?it/s]"
      ]
     },
     "metadata": {},
     "output_type": "display_data"
    },
    {
     "name": "stdout",
     "output_type": "stream",
     "text": [
      "Estamos en la página https://skinsort.com/products//page/266\n"
     ]
    },
    {
     "data": {
      "application/vnd.jupyter.widget-view+json": {
       "model_id": "b95a5995909b4540a9a0a3d333b01f01",
       "version_major": 2,
       "version_minor": 0
      },
      "text/plain": [
       "Obteniendo productos:   0%|          | 0/30 [00:00<?, ?it/s]"
      ]
     },
     "metadata": {},
     "output_type": "display_data"
    },
    {
     "name": "stdout",
     "output_type": "stream",
     "text": [
      "Estamos en la página https://skinsort.com/products//page/267\n"
     ]
    },
    {
     "data": {
      "application/vnd.jupyter.widget-view+json": {
       "model_id": "615e88e2ff5e4fef84ec5d210550a972",
       "version_major": 2,
       "version_minor": 0
      },
      "text/plain": [
       "Obteniendo productos:   0%|          | 0/30 [00:00<?, ?it/s]"
      ]
     },
     "metadata": {},
     "output_type": "display_data"
    },
    {
     "name": "stdout",
     "output_type": "stream",
     "text": [
      "Estamos en la página https://skinsort.com/products//page/268\n"
     ]
    },
    {
     "data": {
      "application/vnd.jupyter.widget-view+json": {
       "model_id": "a3fd4e4c72c740f6a0b1e183cd47750d",
       "version_major": 2,
       "version_minor": 0
      },
      "text/plain": [
       "Obteniendo productos:   0%|          | 0/30 [00:00<?, ?it/s]"
      ]
     },
     "metadata": {},
     "output_type": "display_data"
    },
    {
     "name": "stdout",
     "output_type": "stream",
     "text": [
      "Estamos en la página https://skinsort.com/products//page/269\n"
     ]
    },
    {
     "data": {
      "application/vnd.jupyter.widget-view+json": {
       "model_id": "989466371bc9439c9ce23809836d4f6d",
       "version_major": 2,
       "version_minor": 0
      },
      "text/plain": [
       "Obteniendo productos:   0%|          | 0/30 [00:00<?, ?it/s]"
      ]
     },
     "metadata": {},
     "output_type": "display_data"
    },
    {
     "name": "stdout",
     "output_type": "stream",
     "text": [
      "Estamos en la página https://skinsort.com/products//page/270\n"
     ]
    },
    {
     "data": {
      "application/vnd.jupyter.widget-view+json": {
       "model_id": "763e53a00e8b4ffb9b50ae352441a559",
       "version_major": 2,
       "version_minor": 0
      },
      "text/plain": [
       "Obteniendo productos:   0%|          | 0/30 [00:00<?, ?it/s]"
      ]
     },
     "metadata": {},
     "output_type": "display_data"
    },
    {
     "name": "stdout",
     "output_type": "stream",
     "text": [
      "Estamos en la página https://skinsort.com/products//page/271\n"
     ]
    },
    {
     "data": {
      "application/vnd.jupyter.widget-view+json": {
       "model_id": "1df5152551e2408888f4969b04307fb3",
       "version_major": 2,
       "version_minor": 0
      },
      "text/plain": [
       "Obteniendo productos:   0%|          | 0/30 [00:00<?, ?it/s]"
      ]
     },
     "metadata": {},
     "output_type": "display_data"
    },
    {
     "name": "stdout",
     "output_type": "stream",
     "text": [
      "Estamos en la página https://skinsort.com/products//page/272\n"
     ]
    },
    {
     "data": {
      "application/vnd.jupyter.widget-view+json": {
       "model_id": "200f2d9b9c5d4e15afb6bba65ef5b2f3",
       "version_major": 2,
       "version_minor": 0
      },
      "text/plain": [
       "Obteniendo productos:   0%|          | 0/30 [00:00<?, ?it/s]"
      ]
     },
     "metadata": {},
     "output_type": "display_data"
    },
    {
     "name": "stdout",
     "output_type": "stream",
     "text": [
      "Estamos en la página https://skinsort.com/products//page/273\n"
     ]
    },
    {
     "data": {
      "application/vnd.jupyter.widget-view+json": {
       "model_id": "edd65bcb159e4aaa99852b4ecc559f4a",
       "version_major": 2,
       "version_minor": 0
      },
      "text/plain": [
       "Obteniendo productos:   0%|          | 0/30 [00:00<?, ?it/s]"
      ]
     },
     "metadata": {},
     "output_type": "display_data"
    },
    {
     "name": "stdout",
     "output_type": "stream",
     "text": [
      "Estamos en la página https://skinsort.com/products//page/274\n"
     ]
    },
    {
     "data": {
      "application/vnd.jupyter.widget-view+json": {
       "model_id": "1ffad6cf262044158a49a50c35108e40",
       "version_major": 2,
       "version_minor": 0
      },
      "text/plain": [
       "Obteniendo productos:   0%|          | 0/30 [00:00<?, ?it/s]"
      ]
     },
     "metadata": {},
     "output_type": "display_data"
    },
    {
     "name": "stdout",
     "output_type": "stream",
     "text": [
      "Estamos en la página https://skinsort.com/products//page/275\n"
     ]
    },
    {
     "data": {
      "application/vnd.jupyter.widget-view+json": {
       "model_id": "0695a9141aaa43d8b127974c5451a3a1",
       "version_major": 2,
       "version_minor": 0
      },
      "text/plain": [
       "Obteniendo productos:   0%|          | 0/30 [00:00<?, ?it/s]"
      ]
     },
     "metadata": {},
     "output_type": "display_data"
    },
    {
     "name": "stdout",
     "output_type": "stream",
     "text": [
      "Estamos en la página https://skinsort.com/products//page/276\n"
     ]
    },
    {
     "data": {
      "application/vnd.jupyter.widget-view+json": {
       "model_id": "41a2123af4074b8d9f769c70a5aee928",
       "version_major": 2,
       "version_minor": 0
      },
      "text/plain": [
       "Obteniendo productos:   0%|          | 0/30 [00:00<?, ?it/s]"
      ]
     },
     "metadata": {},
     "output_type": "display_data"
    },
    {
     "name": "stdout",
     "output_type": "stream",
     "text": [
      "Estamos en la página https://skinsort.com/products//page/277\n"
     ]
    },
    {
     "data": {
      "application/vnd.jupyter.widget-view+json": {
       "model_id": "a38c7577e6b6495193613d3fc4a425b1",
       "version_major": 2,
       "version_minor": 0
      },
      "text/plain": [
       "Obteniendo productos:   0%|          | 0/30 [00:00<?, ?it/s]"
      ]
     },
     "metadata": {},
     "output_type": "display_data"
    },
    {
     "name": "stdout",
     "output_type": "stream",
     "text": [
      "Estamos en la página https://skinsort.com/products//page/278\n"
     ]
    },
    {
     "data": {
      "application/vnd.jupyter.widget-view+json": {
       "model_id": "ba84c56e370a40feb43628f5e4843bce",
       "version_major": 2,
       "version_minor": 0
      },
      "text/plain": [
       "Obteniendo productos:   0%|          | 0/30 [00:00<?, ?it/s]"
      ]
     },
     "metadata": {},
     "output_type": "display_data"
    },
    {
     "name": "stdout",
     "output_type": "stream",
     "text": [
      "Estamos en la página https://skinsort.com/products//page/279\n"
     ]
    },
    {
     "data": {
      "application/vnd.jupyter.widget-view+json": {
       "model_id": "43eefd518c0f4b16959849c62fc920ba",
       "version_major": 2,
       "version_minor": 0
      },
      "text/plain": [
       "Obteniendo productos:   0%|          | 0/30 [00:00<?, ?it/s]"
      ]
     },
     "metadata": {},
     "output_type": "display_data"
    },
    {
     "name": "stdout",
     "output_type": "stream",
     "text": [
      "Estamos en la página https://skinsort.com/products//page/280\n"
     ]
    },
    {
     "data": {
      "application/vnd.jupyter.widget-view+json": {
       "model_id": "cd3f8f1ccb9f4472a8d1a0f2a6450bfb",
       "version_major": 2,
       "version_minor": 0
      },
      "text/plain": [
       "Obteniendo productos:   0%|          | 0/30 [00:00<?, ?it/s]"
      ]
     },
     "metadata": {},
     "output_type": "display_data"
    },
    {
     "name": "stdout",
     "output_type": "stream",
     "text": [
      "Estamos en la página https://skinsort.com/products//page/281\n"
     ]
    },
    {
     "data": {
      "application/vnd.jupyter.widget-view+json": {
       "model_id": "9fe56935838045b6bbfe0c3dbbb8c086",
       "version_major": 2,
       "version_minor": 0
      },
      "text/plain": [
       "Obteniendo productos:   0%|          | 0/30 [00:00<?, ?it/s]"
      ]
     },
     "metadata": {},
     "output_type": "display_data"
    },
    {
     "name": "stdout",
     "output_type": "stream",
     "text": [
      "Estamos en la página https://skinsort.com/products//page/282\n"
     ]
    },
    {
     "data": {
      "application/vnd.jupyter.widget-view+json": {
       "model_id": "bf08c14545044d15913935a9f9dc89bd",
       "version_major": 2,
       "version_minor": 0
      },
      "text/plain": [
       "Obteniendo productos:   0%|          | 0/30 [00:00<?, ?it/s]"
      ]
     },
     "metadata": {},
     "output_type": "display_data"
    },
    {
     "name": "stdout",
     "output_type": "stream",
     "text": [
      "Estamos en la página https://skinsort.com/products//page/283\n"
     ]
    },
    {
     "data": {
      "application/vnd.jupyter.widget-view+json": {
       "model_id": "9eb5baeeaf194875af8ea7eb66e859c3",
       "version_major": 2,
       "version_minor": 0
      },
      "text/plain": [
       "Obteniendo productos:   0%|          | 0/30 [00:00<?, ?it/s]"
      ]
     },
     "metadata": {},
     "output_type": "display_data"
    },
    {
     "name": "stdout",
     "output_type": "stream",
     "text": [
      "Estamos en la página https://skinsort.com/products//page/284\n"
     ]
    },
    {
     "data": {
      "application/vnd.jupyter.widget-view+json": {
       "model_id": "615ee3eb636b4a53877708748dd2ca13",
       "version_major": 2,
       "version_minor": 0
      },
      "text/plain": [
       "Obteniendo productos:   0%|          | 0/30 [00:00<?, ?it/s]"
      ]
     },
     "metadata": {},
     "output_type": "display_data"
    },
    {
     "name": "stdout",
     "output_type": "stream",
     "text": [
      "Estamos en la página https://skinsort.com/products//page/285\n"
     ]
    },
    {
     "data": {
      "application/vnd.jupyter.widget-view+json": {
       "model_id": "b02ad664d9144be58d7ac2fca884c568",
       "version_major": 2,
       "version_minor": 0
      },
      "text/plain": [
       "Obteniendo productos:   0%|          | 0/30 [00:00<?, ?it/s]"
      ]
     },
     "metadata": {},
     "output_type": "display_data"
    },
    {
     "name": "stdout",
     "output_type": "stream",
     "text": [
      "Estamos en la página https://skinsort.com/products//page/286\n"
     ]
    },
    {
     "data": {
      "application/vnd.jupyter.widget-view+json": {
       "model_id": "b01078b8a4be4decb9d98f64dc21ddf7",
       "version_major": 2,
       "version_minor": 0
      },
      "text/plain": [
       "Obteniendo productos:   0%|          | 0/30 [00:00<?, ?it/s]"
      ]
     },
     "metadata": {},
     "output_type": "display_data"
    },
    {
     "name": "stdout",
     "output_type": "stream",
     "text": [
      "Estamos en la página https://skinsort.com/products//page/287\n"
     ]
    },
    {
     "data": {
      "application/vnd.jupyter.widget-view+json": {
       "model_id": "8d64d2f8c278414ea578e4264b58a40e",
       "version_major": 2,
       "version_minor": 0
      },
      "text/plain": [
       "Obteniendo productos:   0%|          | 0/30 [00:00<?, ?it/s]"
      ]
     },
     "metadata": {},
     "output_type": "display_data"
    },
    {
     "name": "stdout",
     "output_type": "stream",
     "text": [
      "Estamos en la página https://skinsort.com/products//page/288\n"
     ]
    },
    {
     "data": {
      "application/vnd.jupyter.widget-view+json": {
       "model_id": "0043889435e34cbdb607fd4c8d622f02",
       "version_major": 2,
       "version_minor": 0
      },
      "text/plain": [
       "Obteniendo productos:   0%|          | 0/30 [00:00<?, ?it/s]"
      ]
     },
     "metadata": {},
     "output_type": "display_data"
    },
    {
     "name": "stdout",
     "output_type": "stream",
     "text": [
      "Estamos en la página https://skinsort.com/products//page/289\n"
     ]
    },
    {
     "data": {
      "application/vnd.jupyter.widget-view+json": {
       "model_id": "ab0f82e0cddc42c8b33bc56c842b17ef",
       "version_major": 2,
       "version_minor": 0
      },
      "text/plain": [
       "Obteniendo productos:   0%|          | 0/30 [00:00<?, ?it/s]"
      ]
     },
     "metadata": {},
     "output_type": "display_data"
    },
    {
     "name": "stdout",
     "output_type": "stream",
     "text": [
      "Estamos en la página https://skinsort.com/products//page/290\n"
     ]
    },
    {
     "data": {
      "application/vnd.jupyter.widget-view+json": {
       "model_id": "8b63fab0f7654ebeb30ff765410c599b",
       "version_major": 2,
       "version_minor": 0
      },
      "text/plain": [
       "Obteniendo productos:   0%|          | 0/30 [00:00<?, ?it/s]"
      ]
     },
     "metadata": {},
     "output_type": "display_data"
    },
    {
     "name": "stdout",
     "output_type": "stream",
     "text": [
      "Estamos en la página https://skinsort.com/products//page/291\n",
      "Error al obtener los datos.\n"
     ]
    },
    {
     "data": {
      "application/vnd.jupyter.widget-view+json": {
       "model_id": "4f4d59b36ecc49e78e696fcd13ce3ec8",
       "version_major": 2,
       "version_minor": 0
      },
      "text/plain": [
       "Obteniendo productos:   0%|          | 0/30 [00:00<?, ?it/s]"
      ]
     },
     "metadata": {},
     "output_type": "display_data"
    },
    {
     "name": "stdout",
     "output_type": "stream",
     "text": [
      "Estamos en la página https://skinsort.com/products//page/293\n"
     ]
    },
    {
     "data": {
      "application/vnd.jupyter.widget-view+json": {
       "model_id": "4415d5f71ae24e9cb97a2c0847594544",
       "version_major": 2,
       "version_minor": 0
      },
      "text/plain": [
       "Obteniendo productos:   0%|          | 0/30 [00:00<?, ?it/s]"
      ]
     },
     "metadata": {},
     "output_type": "display_data"
    },
    {
     "name": "stdout",
     "output_type": "stream",
     "text": [
      "Estamos en la página https://skinsort.com/products//page/294\n"
     ]
    },
    {
     "data": {
      "application/vnd.jupyter.widget-view+json": {
       "model_id": "fa42c4fdf3b94eefa73588ad1d011602",
       "version_major": 2,
       "version_minor": 0
      },
      "text/plain": [
       "Obteniendo productos:   0%|          | 0/30 [00:00<?, ?it/s]"
      ]
     },
     "metadata": {},
     "output_type": "display_data"
    },
    {
     "name": "stdout",
     "output_type": "stream",
     "text": [
      "Estamos en la página https://skinsort.com/products//page/295\n"
     ]
    },
    {
     "data": {
      "application/vnd.jupyter.widget-view+json": {
       "model_id": "11e6098d3e424f5ab1589c4208ff99b9",
       "version_major": 2,
       "version_minor": 0
      },
      "text/plain": [
       "Obteniendo productos:   0%|          | 0/30 [00:00<?, ?it/s]"
      ]
     },
     "metadata": {},
     "output_type": "display_data"
    },
    {
     "name": "stdout",
     "output_type": "stream",
     "text": [
      "Estamos en la página https://skinsort.com/products//page/296\n",
      "Error al obtener los datos.\n"
     ]
    },
    {
     "data": {
      "application/vnd.jupyter.widget-view+json": {
       "model_id": "0375136ce38a451bb3c07cb9ce1c06a6",
       "version_major": 2,
       "version_minor": 0
      },
      "text/plain": [
       "Obteniendo productos:   0%|          | 0/30 [00:00<?, ?it/s]"
      ]
     },
     "metadata": {},
     "output_type": "display_data"
    },
    {
     "name": "stdout",
     "output_type": "stream",
     "text": [
      "Estamos en la página https://skinsort.com/products//page/298\n"
     ]
    },
    {
     "data": {
      "application/vnd.jupyter.widget-view+json": {
       "model_id": "5e8ab99add9e43c483816b9115a7a492",
       "version_major": 2,
       "version_minor": 0
      },
      "text/plain": [
       "Obteniendo productos:   0%|          | 0/30 [00:00<?, ?it/s]"
      ]
     },
     "metadata": {},
     "output_type": "display_data"
    },
    {
     "name": "stdout",
     "output_type": "stream",
     "text": [
      "Estamos en la página https://skinsort.com/products//page/299\n"
     ]
    }
   ],
   "source": [
    "dict3={}\n",
    "for i in range(200, 300):\n",
    "    dict3[i] = scrap(f'https://skinsort.com/products//page/{i}')"
   ]
  },
  {
   "cell_type": "code",
   "execution_count": 63,
   "id": "5b3bad96",
   "metadata": {},
   "outputs": [
    {
     "name": "stderr",
     "output_type": "stream",
     "text": [
      "2023-03-09 14:02:18,298 [88601] WARNING  py.warnings:109: [JupyterRequire] /tmp/ipykernel_88601/4040571658.py:3: DeprecationWarning: executable_path has been deprecated, please pass in a Service object\n",
      "  driver = webdriver.Chrome(PATH)\n",
      "\n"
     ]
    },
    {
     "data": {
      "application/vnd.jupyter.widget-view+json": {
       "model_id": "ac8bc2a5046846c5b3643b833b4894b0",
       "version_major": 2,
       "version_minor": 0
      },
      "text/plain": [
       "Obteniendo productos:   0%|          | 0/30 [00:00<?, ?it/s]"
      ]
     },
     "metadata": {},
     "output_type": "display_data"
    },
    {
     "name": "stdout",
     "output_type": "stream",
     "text": [
      "Estamos en la página https://skinsort.com/products//page/228\n"
     ]
    },
    {
     "data": {
      "application/vnd.jupyter.widget-view+json": {
       "model_id": "cd92f17a5f9c4d33b218bcda9b9a89ac",
       "version_major": 2,
       "version_minor": 0
      },
      "text/plain": [
       "Obteniendo productos:   0%|          | 0/30 [00:00<?, ?it/s]"
      ]
     },
     "metadata": {},
     "output_type": "display_data"
    },
    {
     "name": "stdout",
     "output_type": "stream",
     "text": [
      "Estamos en la página https://skinsort.com/products//page/243\n"
     ]
    },
    {
     "data": {
      "application/vnd.jupyter.widget-view+json": {
       "model_id": "1c3ed475367449718edd57cdfc2cc35c",
       "version_major": 2,
       "version_minor": 0
      },
      "text/plain": [
       "Obteniendo productos:   0%|          | 0/30 [00:00<?, ?it/s]"
      ]
     },
     "metadata": {},
     "output_type": "display_data"
    },
    {
     "name": "stdout",
     "output_type": "stream",
     "text": [
      "Estamos en la página https://skinsort.com/products//page/247\n"
     ]
    },
    {
     "data": {
      "application/vnd.jupyter.widget-view+json": {
       "model_id": "e1c552fe64bb45db857b54f00336c252",
       "version_major": 2,
       "version_minor": 0
      },
      "text/plain": [
       "Obteniendo productos:   0%|          | 0/30 [00:00<?, ?it/s]"
      ]
     },
     "metadata": {},
     "output_type": "display_data"
    },
    {
     "name": "stdout",
     "output_type": "stream",
     "text": [
      "Estamos en la página https://skinsort.com/products//page/255\n"
     ]
    },
    {
     "data": {
      "application/vnd.jupyter.widget-view+json": {
       "model_id": "25b78d14952e479eb7ebec7d8a7b1a02",
       "version_major": 2,
       "version_minor": 0
      },
      "text/plain": [
       "Obteniendo productos:   0%|          | 0/30 [00:00<?, ?it/s]"
      ]
     },
     "metadata": {},
     "output_type": "display_data"
    },
    {
     "name": "stdout",
     "output_type": "stream",
     "text": [
      "Estamos en la página https://skinsort.com/products//page/263\n"
     ]
    },
    {
     "data": {
      "application/vnd.jupyter.widget-view+json": {
       "model_id": "a859f30ec6ed46b599b66afccccda75d",
       "version_major": 2,
       "version_minor": 0
      },
      "text/plain": [
       "Obteniendo productos:   0%|          | 0/30 [00:00<?, ?it/s]"
      ]
     },
     "metadata": {},
     "output_type": "display_data"
    },
    {
     "name": "stdout",
     "output_type": "stream",
     "text": [
      "Estamos en la página https://skinsort.com/products//page/292\n"
     ]
    },
    {
     "data": {
      "application/vnd.jupyter.widget-view+json": {
       "model_id": "711cc7132b2b4bf3848ab7aebbc93cdb",
       "version_major": 2,
       "version_minor": 0
      },
      "text/plain": [
       "Obteniendo productos:   0%|          | 0/30 [00:00<?, ?it/s]"
      ]
     },
     "metadata": {},
     "output_type": "display_data"
    },
    {
     "name": "stdout",
     "output_type": "stream",
     "text": [
      "Estamos en la página https://skinsort.com/products//page/297\n"
     ]
    }
   ],
   "source": [
    "dict3[228] = scrap('https://skinsort.com/products//page/228')\n",
    "dict3[243] = scrap('https://skinsort.com/products//page/243')\n",
    "dict3[247] = scrap('https://skinsort.com/products//page/247')\n",
    "dict3[255] = scrap('https://skinsort.com/products//page/255')\n",
    "dict3[263] = scrap('https://skinsort.com/products//page/263')\n",
    "dict3[292] = scrap('https://skinsort.com/products//page/292')\n",
    "dict3[297] = scrap('https://skinsort.com/products//page/297')"
   ]
  },
  {
   "cell_type": "code",
   "execution_count": 64,
   "id": "232dd3db",
   "metadata": {},
   "outputs": [],
   "source": [
    "with open('datos_scrapeados3.json', 'w') as file:\n",
    "    json.dump(dict3, file)"
   ]
  },
  {
   "cell_type": "code",
   "execution_count": 65,
   "id": "98c5a51f",
   "metadata": {},
   "outputs": [
    {
     "name": "stderr",
     "output_type": "stream",
     "text": [
      "2023-03-09 14:03:59,010 [88601] WARNING  py.warnings:109: [JupyterRequire] /tmp/ipykernel_88601/4040571658.py:3: DeprecationWarning: executable_path has been deprecated, please pass in a Service object\n",
      "  driver = webdriver.Chrome(PATH)\n",
      "\n"
     ]
    },
    {
     "data": {
      "application/vnd.jupyter.widget-view+json": {
       "model_id": "7a09462b05aa45f0981c3768aa81eb14",
       "version_major": 2,
       "version_minor": 0
      },
      "text/plain": [
       "Obteniendo productos:   0%|          | 0/30 [00:00<?, ?it/s]"
      ]
     },
     "metadata": {},
     "output_type": "display_data"
    },
    {
     "name": "stdout",
     "output_type": "stream",
     "text": [
      "Estamos en la página https://skinsort.com/products//page/300\n"
     ]
    },
    {
     "data": {
      "application/vnd.jupyter.widget-view+json": {
       "model_id": "b13d4149ab7f4bcfa06ab4b35b6fdde7",
       "version_major": 2,
       "version_minor": 0
      },
      "text/plain": [
       "Obteniendo productos:   0%|          | 0/30 [00:00<?, ?it/s]"
      ]
     },
     "metadata": {},
     "output_type": "display_data"
    },
    {
     "name": "stdout",
     "output_type": "stream",
     "text": [
      "Estamos en la página https://skinsort.com/products//page/301\n"
     ]
    },
    {
     "data": {
      "application/vnd.jupyter.widget-view+json": {
       "model_id": "0e31cf9061914356afd09c123595710f",
       "version_major": 2,
       "version_minor": 0
      },
      "text/plain": [
       "Obteniendo productos:   0%|          | 0/30 [00:00<?, ?it/s]"
      ]
     },
     "metadata": {},
     "output_type": "display_data"
    },
    {
     "name": "stdout",
     "output_type": "stream",
     "text": [
      "Estamos en la página https://skinsort.com/products//page/302\n"
     ]
    },
    {
     "data": {
      "application/vnd.jupyter.widget-view+json": {
       "model_id": "9ed7f1a81e2e4affa9dd15e30d9bb1b0",
       "version_major": 2,
       "version_minor": 0
      },
      "text/plain": [
       "Obteniendo productos:   0%|          | 0/30 [00:00<?, ?it/s]"
      ]
     },
     "metadata": {},
     "output_type": "display_data"
    },
    {
     "name": "stdout",
     "output_type": "stream",
     "text": [
      "Estamos en la página https://skinsort.com/products//page/303\n"
     ]
    },
    {
     "data": {
      "application/vnd.jupyter.widget-view+json": {
       "model_id": "21942b74ab3c47d7b430dc5b4004d592",
       "version_major": 2,
       "version_minor": 0
      },
      "text/plain": [
       "Obteniendo productos:   0%|          | 0/30 [00:00<?, ?it/s]"
      ]
     },
     "metadata": {},
     "output_type": "display_data"
    },
    {
     "name": "stdout",
     "output_type": "stream",
     "text": [
      "Estamos en la página https://skinsort.com/products//page/304\n"
     ]
    },
    {
     "data": {
      "application/vnd.jupyter.widget-view+json": {
       "model_id": "67415539047a4f0a95c9202903bdd31e",
       "version_major": 2,
       "version_minor": 0
      },
      "text/plain": [
       "Obteniendo productos:   0%|          | 0/30 [00:00<?, ?it/s]"
      ]
     },
     "metadata": {},
     "output_type": "display_data"
    },
    {
     "name": "stdout",
     "output_type": "stream",
     "text": [
      "Estamos en la página https://skinsort.com/products//page/305\n"
     ]
    },
    {
     "data": {
      "application/vnd.jupyter.widget-view+json": {
       "model_id": "c88de237a175422d82a54f757e318bc6",
       "version_major": 2,
       "version_minor": 0
      },
      "text/plain": [
       "Obteniendo productos:   0%|          | 0/30 [00:00<?, ?it/s]"
      ]
     },
     "metadata": {},
     "output_type": "display_data"
    },
    {
     "name": "stdout",
     "output_type": "stream",
     "text": [
      "Estamos en la página https://skinsort.com/products//page/306\n"
     ]
    },
    {
     "data": {
      "application/vnd.jupyter.widget-view+json": {
       "model_id": "d8f536affed547449fb1b65b026e48fb",
       "version_major": 2,
       "version_minor": 0
      },
      "text/plain": [
       "Obteniendo productos:   0%|          | 0/30 [00:00<?, ?it/s]"
      ]
     },
     "metadata": {},
     "output_type": "display_data"
    },
    {
     "name": "stdout",
     "output_type": "stream",
     "text": [
      "Estamos en la página https://skinsort.com/products//page/307\n"
     ]
    },
    {
     "data": {
      "application/vnd.jupyter.widget-view+json": {
       "model_id": "f4fa2da1a2164b1d931c2121ee76b134",
       "version_major": 2,
       "version_minor": 0
      },
      "text/plain": [
       "Obteniendo productos:   0%|          | 0/30 [00:00<?, ?it/s]"
      ]
     },
     "metadata": {},
     "output_type": "display_data"
    },
    {
     "name": "stdout",
     "output_type": "stream",
     "text": [
      "Estamos en la página https://skinsort.com/products//page/308\n"
     ]
    },
    {
     "data": {
      "application/vnd.jupyter.widget-view+json": {
       "model_id": "2361f5e90902470fb01f66b358717e9d",
       "version_major": 2,
       "version_minor": 0
      },
      "text/plain": [
       "Obteniendo productos:   0%|          | 0/30 [00:00<?, ?it/s]"
      ]
     },
     "metadata": {},
     "output_type": "display_data"
    },
    {
     "name": "stdout",
     "output_type": "stream",
     "text": [
      "Estamos en la página https://skinsort.com/products//page/309\n"
     ]
    },
    {
     "data": {
      "application/vnd.jupyter.widget-view+json": {
       "model_id": "041c8422a21748f283d45c94a03a1e9d",
       "version_major": 2,
       "version_minor": 0
      },
      "text/plain": [
       "Obteniendo productos:   0%|          | 0/30 [00:00<?, ?it/s]"
      ]
     },
     "metadata": {},
     "output_type": "display_data"
    },
    {
     "name": "stdout",
     "output_type": "stream",
     "text": [
      "Estamos en la página https://skinsort.com/products//page/310\n"
     ]
    },
    {
     "data": {
      "application/vnd.jupyter.widget-view+json": {
       "model_id": "f1798b56ace54422948580f584407572",
       "version_major": 2,
       "version_minor": 0
      },
      "text/plain": [
       "Obteniendo productos:   0%|          | 0/30 [00:00<?, ?it/s]"
      ]
     },
     "metadata": {},
     "output_type": "display_data"
    },
    {
     "name": "stdout",
     "output_type": "stream",
     "text": [
      "Estamos en la página https://skinsort.com/products//page/311\n"
     ]
    },
    {
     "data": {
      "application/vnd.jupyter.widget-view+json": {
       "model_id": "06e3ba46e10149de8263279c5f78574b",
       "version_major": 2,
       "version_minor": 0
      },
      "text/plain": [
       "Obteniendo productos:   0%|          | 0/30 [00:00<?, ?it/s]"
      ]
     },
     "metadata": {},
     "output_type": "display_data"
    },
    {
     "name": "stdout",
     "output_type": "stream",
     "text": [
      "Estamos en la página https://skinsort.com/products//page/312\n"
     ]
    },
    {
     "data": {
      "application/vnd.jupyter.widget-view+json": {
       "model_id": "51bad4cc3b014380ae97e432ddad0d6d",
       "version_major": 2,
       "version_minor": 0
      },
      "text/plain": [
       "Obteniendo productos:   0%|          | 0/30 [00:00<?, ?it/s]"
      ]
     },
     "metadata": {},
     "output_type": "display_data"
    },
    {
     "name": "stdout",
     "output_type": "stream",
     "text": [
      "Estamos en la página https://skinsort.com/products//page/313\n"
     ]
    },
    {
     "data": {
      "application/vnd.jupyter.widget-view+json": {
       "model_id": "89a90315912d4d2288c60f868d422edd",
       "version_major": 2,
       "version_minor": 0
      },
      "text/plain": [
       "Obteniendo productos:   0%|          | 0/30 [00:00<?, ?it/s]"
      ]
     },
     "metadata": {},
     "output_type": "display_data"
    },
    {
     "name": "stdout",
     "output_type": "stream",
     "text": [
      "Estamos en la página https://skinsort.com/products//page/314\n"
     ]
    },
    {
     "data": {
      "application/vnd.jupyter.widget-view+json": {
       "model_id": "3ca422643a0a42f7887eb433aca12d11",
       "version_major": 2,
       "version_minor": 0
      },
      "text/plain": [
       "Obteniendo productos:   0%|          | 0/30 [00:00<?, ?it/s]"
      ]
     },
     "metadata": {},
     "output_type": "display_data"
    },
    {
     "name": "stdout",
     "output_type": "stream",
     "text": [
      "Estamos en la página https://skinsort.com/products//page/315\n"
     ]
    },
    {
     "data": {
      "application/vnd.jupyter.widget-view+json": {
       "model_id": "0946ad10443942479b1d099d790df6b2",
       "version_major": 2,
       "version_minor": 0
      },
      "text/plain": [
       "Obteniendo productos:   0%|          | 0/30 [00:00<?, ?it/s]"
      ]
     },
     "metadata": {},
     "output_type": "display_data"
    },
    {
     "name": "stdout",
     "output_type": "stream",
     "text": [
      "Estamos en la página https://skinsort.com/products//page/316\n",
      "Error al obtener los datos.\n"
     ]
    },
    {
     "data": {
      "application/vnd.jupyter.widget-view+json": {
       "model_id": "79feea018266487590624c7cb40c940a",
       "version_major": 2,
       "version_minor": 0
      },
      "text/plain": [
       "Obteniendo productos:   0%|          | 0/30 [00:00<?, ?it/s]"
      ]
     },
     "metadata": {},
     "output_type": "display_data"
    },
    {
     "name": "stdout",
     "output_type": "stream",
     "text": [
      "Estamos en la página https://skinsort.com/products//page/318\n"
     ]
    },
    {
     "data": {
      "application/vnd.jupyter.widget-view+json": {
       "model_id": "9510d48a26064a1c96a6ff4bad21361e",
       "version_major": 2,
       "version_minor": 0
      },
      "text/plain": [
       "Obteniendo productos:   0%|          | 0/30 [00:00<?, ?it/s]"
      ]
     },
     "metadata": {},
     "output_type": "display_data"
    },
    {
     "name": "stdout",
     "output_type": "stream",
     "text": [
      "Estamos en la página https://skinsort.com/products//page/319\n"
     ]
    },
    {
     "data": {
      "application/vnd.jupyter.widget-view+json": {
       "model_id": "2991c338fb124a14a19a2241a30685df",
       "version_major": 2,
       "version_minor": 0
      },
      "text/plain": [
       "Obteniendo productos:   0%|          | 0/30 [00:00<?, ?it/s]"
      ]
     },
     "metadata": {},
     "output_type": "display_data"
    },
    {
     "name": "stdout",
     "output_type": "stream",
     "text": [
      "Estamos en la página https://skinsort.com/products//page/320\n",
      "Error al obtener los datos.\n"
     ]
    },
    {
     "data": {
      "application/vnd.jupyter.widget-view+json": {
       "model_id": "0bfd19c62ef14e6d8174baae0f4fc9f8",
       "version_major": 2,
       "version_minor": 0
      },
      "text/plain": [
       "Obteniendo productos:   0%|          | 0/30 [00:00<?, ?it/s]"
      ]
     },
     "metadata": {},
     "output_type": "display_data"
    },
    {
     "name": "stdout",
     "output_type": "stream",
     "text": [
      "Estamos en la página https://skinsort.com/products//page/322\n"
     ]
    },
    {
     "data": {
      "application/vnd.jupyter.widget-view+json": {
       "model_id": "0caa8e98ca2e4f88b07d572486fac9a5",
       "version_major": 2,
       "version_minor": 0
      },
      "text/plain": [
       "Obteniendo productos:   0%|          | 0/30 [00:00<?, ?it/s]"
      ]
     },
     "metadata": {},
     "output_type": "display_data"
    },
    {
     "name": "stdout",
     "output_type": "stream",
     "text": [
      "Estamos en la página https://skinsort.com/products//page/323\n"
     ]
    },
    {
     "data": {
      "application/vnd.jupyter.widget-view+json": {
       "model_id": "2dce3034f9574e8188dd8bc55f51b1b1",
       "version_major": 2,
       "version_minor": 0
      },
      "text/plain": [
       "Obteniendo productos:   0%|          | 0/30 [00:00<?, ?it/s]"
      ]
     },
     "metadata": {},
     "output_type": "display_data"
    },
    {
     "name": "stdout",
     "output_type": "stream",
     "text": [
      "Estamos en la página https://skinsort.com/products//page/324\n",
      "Error al obtener los datos.\n"
     ]
    },
    {
     "data": {
      "application/vnd.jupyter.widget-view+json": {
       "model_id": "b3fb7bf75789424fb046286101867e9a",
       "version_major": 2,
       "version_minor": 0
      },
      "text/plain": [
       "Obteniendo productos:   0%|          | 0/30 [00:00<?, ?it/s]"
      ]
     },
     "metadata": {},
     "output_type": "display_data"
    },
    {
     "name": "stdout",
     "output_type": "stream",
     "text": [
      "Estamos en la página https://skinsort.com/products//page/326\n"
     ]
    },
    {
     "data": {
      "application/vnd.jupyter.widget-view+json": {
       "model_id": "ffb9e561da514941aa15895b3c7ae844",
       "version_major": 2,
       "version_minor": 0
      },
      "text/plain": [
       "Obteniendo productos:   0%|          | 0/30 [00:00<?, ?it/s]"
      ]
     },
     "metadata": {},
     "output_type": "display_data"
    },
    {
     "name": "stdout",
     "output_type": "stream",
     "text": [
      "Estamos en la página https://skinsort.com/products//page/327\n"
     ]
    },
    {
     "data": {
      "application/vnd.jupyter.widget-view+json": {
       "model_id": "cb363fdab6224a399aa9d1e713d1422e",
       "version_major": 2,
       "version_minor": 0
      },
      "text/plain": [
       "Obteniendo productos:   0%|          | 0/30 [00:00<?, ?it/s]"
      ]
     },
     "metadata": {},
     "output_type": "display_data"
    },
    {
     "name": "stdout",
     "output_type": "stream",
     "text": [
      "Estamos en la página https://skinsort.com/products//page/328\n"
     ]
    },
    {
     "data": {
      "application/vnd.jupyter.widget-view+json": {
       "model_id": "e905ea8478ec4c2fb4f4789460c0d91a",
       "version_major": 2,
       "version_minor": 0
      },
      "text/plain": [
       "Obteniendo productos:   0%|          | 0/30 [00:00<?, ?it/s]"
      ]
     },
     "metadata": {},
     "output_type": "display_data"
    },
    {
     "name": "stdout",
     "output_type": "stream",
     "text": [
      "Estamos en la página https://skinsort.com/products//page/329\n"
     ]
    },
    {
     "data": {
      "application/vnd.jupyter.widget-view+json": {
       "model_id": "92aff152ddc045e0b3e4e2168154ef8d",
       "version_major": 2,
       "version_minor": 0
      },
      "text/plain": [
       "Obteniendo productos:   0%|          | 0/30 [00:00<?, ?it/s]"
      ]
     },
     "metadata": {},
     "output_type": "display_data"
    },
    {
     "name": "stdout",
     "output_type": "stream",
     "text": [
      "Estamos en la página https://skinsort.com/products//page/330\n"
     ]
    },
    {
     "data": {
      "application/vnd.jupyter.widget-view+json": {
       "model_id": "af423a6d1e644364a7d339666996701a",
       "version_major": 2,
       "version_minor": 0
      },
      "text/plain": [
       "Obteniendo productos:   0%|          | 0/30 [00:00<?, ?it/s]"
      ]
     },
     "metadata": {},
     "output_type": "display_data"
    },
    {
     "name": "stdout",
     "output_type": "stream",
     "text": [
      "Estamos en la página https://skinsort.com/products//page/331\n"
     ]
    },
    {
     "data": {
      "application/vnd.jupyter.widget-view+json": {
       "model_id": "2308d8fbb80e45cb8634963f13c7e015",
       "version_major": 2,
       "version_minor": 0
      },
      "text/plain": [
       "Obteniendo productos:   0%|          | 0/30 [00:00<?, ?it/s]"
      ]
     },
     "metadata": {},
     "output_type": "display_data"
    },
    {
     "name": "stdout",
     "output_type": "stream",
     "text": [
      "Estamos en la página https://skinsort.com/products//page/332\n"
     ]
    },
    {
     "data": {
      "application/vnd.jupyter.widget-view+json": {
       "model_id": "b03789a1d8da4eb9873ac5f48f9adec8",
       "version_major": 2,
       "version_minor": 0
      },
      "text/plain": [
       "Obteniendo productos:   0%|          | 0/30 [00:00<?, ?it/s]"
      ]
     },
     "metadata": {},
     "output_type": "display_data"
    },
    {
     "name": "stdout",
     "output_type": "stream",
     "text": [
      "Estamos en la página https://skinsort.com/products//page/333\n"
     ]
    },
    {
     "data": {
      "application/vnd.jupyter.widget-view+json": {
       "model_id": "a5a19590e7bf4d1f9e2d83a8194d6568",
       "version_major": 2,
       "version_minor": 0
      },
      "text/plain": [
       "Obteniendo productos:   0%|          | 0/30 [00:00<?, ?it/s]"
      ]
     },
     "metadata": {},
     "output_type": "display_data"
    },
    {
     "name": "stdout",
     "output_type": "stream",
     "text": [
      "Estamos en la página https://skinsort.com/products//page/334\n"
     ]
    },
    {
     "data": {
      "application/vnd.jupyter.widget-view+json": {
       "model_id": "457d17c3bc8c4c649a408eabcea347a7",
       "version_major": 2,
       "version_minor": 0
      },
      "text/plain": [
       "Obteniendo productos:   0%|          | 0/30 [00:00<?, ?it/s]"
      ]
     },
     "metadata": {},
     "output_type": "display_data"
    },
    {
     "name": "stdout",
     "output_type": "stream",
     "text": [
      "Estamos en la página https://skinsort.com/products//page/335\n"
     ]
    },
    {
     "data": {
      "application/vnd.jupyter.widget-view+json": {
       "model_id": "a56a7dc4c6614878a59cf583f137b15d",
       "version_major": 2,
       "version_minor": 0
      },
      "text/plain": [
       "Obteniendo productos:   0%|          | 0/30 [00:00<?, ?it/s]"
      ]
     },
     "metadata": {},
     "output_type": "display_data"
    },
    {
     "name": "stdout",
     "output_type": "stream",
     "text": [
      "Estamos en la página https://skinsort.com/products//page/336\n"
     ]
    },
    {
     "data": {
      "application/vnd.jupyter.widget-view+json": {
       "model_id": "cd8cd0634cad4b72b929c1f6389b32d5",
       "version_major": 2,
       "version_minor": 0
      },
      "text/plain": [
       "Obteniendo productos:   0%|          | 0/30 [00:00<?, ?it/s]"
      ]
     },
     "metadata": {},
     "output_type": "display_data"
    },
    {
     "name": "stdout",
     "output_type": "stream",
     "text": [
      "Estamos en la página https://skinsort.com/products//page/337\n"
     ]
    },
    {
     "data": {
      "application/vnd.jupyter.widget-view+json": {
       "model_id": "e9be5c247ab0420081d4f205765916a7",
       "version_major": 2,
       "version_minor": 0
      },
      "text/plain": [
       "Obteniendo productos:   0%|          | 0/30 [00:00<?, ?it/s]"
      ]
     },
     "metadata": {},
     "output_type": "display_data"
    },
    {
     "name": "stdout",
     "output_type": "stream",
     "text": [
      "Estamos en la página https://skinsort.com/products//page/338\n"
     ]
    },
    {
     "data": {
      "application/vnd.jupyter.widget-view+json": {
       "model_id": "6bf7f20f252a4ffd867e70cccdf77af8",
       "version_major": 2,
       "version_minor": 0
      },
      "text/plain": [
       "Obteniendo productos:   0%|          | 0/30 [00:00<?, ?it/s]"
      ]
     },
     "metadata": {},
     "output_type": "display_data"
    },
    {
     "name": "stdout",
     "output_type": "stream",
     "text": [
      "Estamos en la página https://skinsort.com/products//page/339\n"
     ]
    },
    {
     "data": {
      "application/vnd.jupyter.widget-view+json": {
       "model_id": "0d35faf3764c44ea966df1c461e4e900",
       "version_major": 2,
       "version_minor": 0
      },
      "text/plain": [
       "Obteniendo productos:   0%|          | 0/30 [00:00<?, ?it/s]"
      ]
     },
     "metadata": {},
     "output_type": "display_data"
    },
    {
     "name": "stdout",
     "output_type": "stream",
     "text": [
      "Estamos en la página https://skinsort.com/products//page/340\n"
     ]
    },
    {
     "data": {
      "application/vnd.jupyter.widget-view+json": {
       "model_id": "704a9ad535df46739a39041001c87698",
       "version_major": 2,
       "version_minor": 0
      },
      "text/plain": [
       "Obteniendo productos:   0%|          | 0/30 [00:00<?, ?it/s]"
      ]
     },
     "metadata": {},
     "output_type": "display_data"
    },
    {
     "name": "stdout",
     "output_type": "stream",
     "text": [
      "Estamos en la página https://skinsort.com/products//page/341\n"
     ]
    },
    {
     "data": {
      "application/vnd.jupyter.widget-view+json": {
       "model_id": "3fb2d487497d447d9190a41ca84ebac9",
       "version_major": 2,
       "version_minor": 0
      },
      "text/plain": [
       "Obteniendo productos:   0%|          | 0/30 [00:00<?, ?it/s]"
      ]
     },
     "metadata": {},
     "output_type": "display_data"
    },
    {
     "name": "stdout",
     "output_type": "stream",
     "text": [
      "Estamos en la página https://skinsort.com/products//page/342\n"
     ]
    },
    {
     "data": {
      "application/vnd.jupyter.widget-view+json": {
       "model_id": "117197ac411e4b1b866b6ecefd846361",
       "version_major": 2,
       "version_minor": 0
      },
      "text/plain": [
       "Obteniendo productos:   0%|          | 0/30 [00:00<?, ?it/s]"
      ]
     },
     "metadata": {},
     "output_type": "display_data"
    },
    {
     "name": "stdout",
     "output_type": "stream",
     "text": [
      "Estamos en la página https://skinsort.com/products//page/343\n"
     ]
    },
    {
     "data": {
      "application/vnd.jupyter.widget-view+json": {
       "model_id": "587652b6ade14ea19a1165e3071e6ed8",
       "version_major": 2,
       "version_minor": 0
      },
      "text/plain": [
       "Obteniendo productos:   0%|          | 0/30 [00:00<?, ?it/s]"
      ]
     },
     "metadata": {},
     "output_type": "display_data"
    },
    {
     "name": "stdout",
     "output_type": "stream",
     "text": [
      "Estamos en la página https://skinsort.com/products//page/344\n"
     ]
    },
    {
     "data": {
      "application/vnd.jupyter.widget-view+json": {
       "model_id": "25c1529931e14365b4b6395c0179b896",
       "version_major": 2,
       "version_minor": 0
      },
      "text/plain": [
       "Obteniendo productos:   0%|          | 0/30 [00:00<?, ?it/s]"
      ]
     },
     "metadata": {},
     "output_type": "display_data"
    },
    {
     "name": "stdout",
     "output_type": "stream",
     "text": [
      "Estamos en la página https://skinsort.com/products//page/345\n"
     ]
    },
    {
     "data": {
      "application/vnd.jupyter.widget-view+json": {
       "model_id": "ca178a6fae2e4caa9b6d9df58f95b92f",
       "version_major": 2,
       "version_minor": 0
      },
      "text/plain": [
       "Obteniendo productos:   0%|          | 0/30 [00:00<?, ?it/s]"
      ]
     },
     "metadata": {},
     "output_type": "display_data"
    },
    {
     "name": "stdout",
     "output_type": "stream",
     "text": [
      "Estamos en la página https://skinsort.com/products//page/346\n",
      "Error al obtener los datos.\n"
     ]
    },
    {
     "data": {
      "application/vnd.jupyter.widget-view+json": {
       "model_id": "b47e137dffb540fbbe7e3ae0180c06c5",
       "version_major": 2,
       "version_minor": 0
      },
      "text/plain": [
       "Obteniendo productos:   0%|          | 0/30 [00:00<?, ?it/s]"
      ]
     },
     "metadata": {},
     "output_type": "display_data"
    },
    {
     "name": "stdout",
     "output_type": "stream",
     "text": [
      "Estamos en la página https://skinsort.com/products//page/348\n"
     ]
    },
    {
     "data": {
      "application/vnd.jupyter.widget-view+json": {
       "model_id": "e1e457153fab4317bc02361cb28dc2a0",
       "version_major": 2,
       "version_minor": 0
      },
      "text/plain": [
       "Obteniendo productos:   0%|          | 0/30 [00:00<?, ?it/s]"
      ]
     },
     "metadata": {},
     "output_type": "display_data"
    },
    {
     "name": "stdout",
     "output_type": "stream",
     "text": [
      "Estamos en la página https://skinsort.com/products//page/349\n"
     ]
    },
    {
     "data": {
      "application/vnd.jupyter.widget-view+json": {
       "model_id": "1cd4818e5838447998ebf41547790eb8",
       "version_major": 2,
       "version_minor": 0
      },
      "text/plain": [
       "Obteniendo productos:   0%|          | 0/30 [00:00<?, ?it/s]"
      ]
     },
     "metadata": {},
     "output_type": "display_data"
    },
    {
     "name": "stdout",
     "output_type": "stream",
     "text": [
      "Estamos en la página https://skinsort.com/products//page/350\n"
     ]
    },
    {
     "data": {
      "application/vnd.jupyter.widget-view+json": {
       "model_id": "433a74698d614384a106c3887a49165c",
       "version_major": 2,
       "version_minor": 0
      },
      "text/plain": [
       "Obteniendo productos:   0%|          | 0/30 [00:00<?, ?it/s]"
      ]
     },
     "metadata": {},
     "output_type": "display_data"
    },
    {
     "name": "stdout",
     "output_type": "stream",
     "text": [
      "Estamos en la página https://skinsort.com/products//page/351\n"
     ]
    },
    {
     "data": {
      "application/vnd.jupyter.widget-view+json": {
       "model_id": "e64d8aeb42c44607b1287c4c83cc4a1a",
       "version_major": 2,
       "version_minor": 0
      },
      "text/plain": [
       "Obteniendo productos:   0%|          | 0/30 [00:00<?, ?it/s]"
      ]
     },
     "metadata": {},
     "output_type": "display_data"
    },
    {
     "name": "stdout",
     "output_type": "stream",
     "text": [
      "Estamos en la página https://skinsort.com/products//page/352\n"
     ]
    },
    {
     "data": {
      "application/vnd.jupyter.widget-view+json": {
       "model_id": "466e4366dfed4d7a91169d75df33af87",
       "version_major": 2,
       "version_minor": 0
      },
      "text/plain": [
       "Obteniendo productos:   0%|          | 0/30 [00:00<?, ?it/s]"
      ]
     },
     "metadata": {},
     "output_type": "display_data"
    },
    {
     "name": "stdout",
     "output_type": "stream",
     "text": [
      "Estamos en la página https://skinsort.com/products//page/353\n"
     ]
    },
    {
     "data": {
      "application/vnd.jupyter.widget-view+json": {
       "model_id": "77df966f8fa647a29c9e217e27cc5916",
       "version_major": 2,
       "version_minor": 0
      },
      "text/plain": [
       "Obteniendo productos:   0%|          | 0/30 [00:00<?, ?it/s]"
      ]
     },
     "metadata": {},
     "output_type": "display_data"
    },
    {
     "name": "stdout",
     "output_type": "stream",
     "text": [
      "Estamos en la página https://skinsort.com/products//page/354\n"
     ]
    },
    {
     "data": {
      "application/vnd.jupyter.widget-view+json": {
       "model_id": "607720574e1c472889e097890d1ae141",
       "version_major": 2,
       "version_minor": 0
      },
      "text/plain": [
       "Obteniendo productos:   0%|          | 0/30 [00:00<?, ?it/s]"
      ]
     },
     "metadata": {},
     "output_type": "display_data"
    },
    {
     "name": "stdout",
     "output_type": "stream",
     "text": [
      "Estamos en la página https://skinsort.com/products//page/355\n"
     ]
    },
    {
     "data": {
      "application/vnd.jupyter.widget-view+json": {
       "model_id": "775e4e59e62d4a388bfb82535dac05ad",
       "version_major": 2,
       "version_minor": 0
      },
      "text/plain": [
       "Obteniendo productos:   0%|          | 0/30 [00:00<?, ?it/s]"
      ]
     },
     "metadata": {},
     "output_type": "display_data"
    },
    {
     "name": "stdout",
     "output_type": "stream",
     "text": [
      "Estamos en la página https://skinsort.com/products//page/356\n"
     ]
    },
    {
     "data": {
      "application/vnd.jupyter.widget-view+json": {
       "model_id": "110607981e3f467fa6cc735a2892a1a2",
       "version_major": 2,
       "version_minor": 0
      },
      "text/plain": [
       "Obteniendo productos:   0%|          | 0/30 [00:00<?, ?it/s]"
      ]
     },
     "metadata": {},
     "output_type": "display_data"
    },
    {
     "name": "stdout",
     "output_type": "stream",
     "text": [
      "Estamos en la página https://skinsort.com/products//page/357\n"
     ]
    },
    {
     "data": {
      "application/vnd.jupyter.widget-view+json": {
       "model_id": "4fa85cf4800a4254bdfb32f7d55f1a3b",
       "version_major": 2,
       "version_minor": 0
      },
      "text/plain": [
       "Obteniendo productos:   0%|          | 0/30 [00:00<?, ?it/s]"
      ]
     },
     "metadata": {},
     "output_type": "display_data"
    },
    {
     "name": "stdout",
     "output_type": "stream",
     "text": [
      "Estamos en la página https://skinsort.com/products//page/358\n"
     ]
    },
    {
     "data": {
      "application/vnd.jupyter.widget-view+json": {
       "model_id": "c9f3065d00054fc9860c2183589b4616",
       "version_major": 2,
       "version_minor": 0
      },
      "text/plain": [
       "Obteniendo productos:   0%|          | 0/30 [00:00<?, ?it/s]"
      ]
     },
     "metadata": {},
     "output_type": "display_data"
    },
    {
     "name": "stdout",
     "output_type": "stream",
     "text": [
      "Estamos en la página https://skinsort.com/products//page/359\n"
     ]
    },
    {
     "data": {
      "application/vnd.jupyter.widget-view+json": {
       "model_id": "66e04c2a775b44488b6599f2f56769f4",
       "version_major": 2,
       "version_minor": 0
      },
      "text/plain": [
       "Obteniendo productos:   0%|          | 0/30 [00:00<?, ?it/s]"
      ]
     },
     "metadata": {},
     "output_type": "display_data"
    },
    {
     "name": "stdout",
     "output_type": "stream",
     "text": [
      "Estamos en la página https://skinsort.com/products//page/360\n"
     ]
    },
    {
     "data": {
      "application/vnd.jupyter.widget-view+json": {
       "model_id": "ac68758c41da4001986b1869241efca6",
       "version_major": 2,
       "version_minor": 0
      },
      "text/plain": [
       "Obteniendo productos:   0%|          | 0/30 [00:00<?, ?it/s]"
      ]
     },
     "metadata": {},
     "output_type": "display_data"
    },
    {
     "name": "stdout",
     "output_type": "stream",
     "text": [
      "Estamos en la página https://skinsort.com/products//page/361\n"
     ]
    },
    {
     "data": {
      "application/vnd.jupyter.widget-view+json": {
       "model_id": "01f2cb6b7ca549dca7170f8d43b9ac2f",
       "version_major": 2,
       "version_minor": 0
      },
      "text/plain": [
       "Obteniendo productos:   0%|          | 0/30 [00:00<?, ?it/s]"
      ]
     },
     "metadata": {},
     "output_type": "display_data"
    },
    {
     "name": "stdout",
     "output_type": "stream",
     "text": [
      "Estamos en la página https://skinsort.com/products//page/362\n"
     ]
    },
    {
     "data": {
      "application/vnd.jupyter.widget-view+json": {
       "model_id": "90baafedb11c49618a531a9a20b1c01e",
       "version_major": 2,
       "version_minor": 0
      },
      "text/plain": [
       "Obteniendo productos:   0%|          | 0/30 [00:00<?, ?it/s]"
      ]
     },
     "metadata": {},
     "output_type": "display_data"
    },
    {
     "name": "stdout",
     "output_type": "stream",
     "text": [
      "Estamos en la página https://skinsort.com/products//page/363\n"
     ]
    },
    {
     "data": {
      "application/vnd.jupyter.widget-view+json": {
       "model_id": "c0a8add21ddb4a51ab4e7d2e943b462c",
       "version_major": 2,
       "version_minor": 0
      },
      "text/plain": [
       "Obteniendo productos:   0%|          | 0/30 [00:00<?, ?it/s]"
      ]
     },
     "metadata": {},
     "output_type": "display_data"
    },
    {
     "name": "stdout",
     "output_type": "stream",
     "text": [
      "Estamos en la página https://skinsort.com/products//page/364\n",
      "Error al obtener los datos.\n"
     ]
    },
    {
     "data": {
      "application/vnd.jupyter.widget-view+json": {
       "model_id": "d30414fefc2c4f40b84b988fcb85a421",
       "version_major": 2,
       "version_minor": 0
      },
      "text/plain": [
       "Obteniendo productos:   0%|          | 0/30 [00:00<?, ?it/s]"
      ]
     },
     "metadata": {},
     "output_type": "display_data"
    },
    {
     "name": "stdout",
     "output_type": "stream",
     "text": [
      "Estamos en la página https://skinsort.com/products//page/366\n"
     ]
    },
    {
     "data": {
      "application/vnd.jupyter.widget-view+json": {
       "model_id": "4f6d513189b74985a9bdd1c2ffea19dc",
       "version_major": 2,
       "version_minor": 0
      },
      "text/plain": [
       "Obteniendo productos:   0%|          | 0/30 [00:00<?, ?it/s]"
      ]
     },
     "metadata": {},
     "output_type": "display_data"
    },
    {
     "name": "stdout",
     "output_type": "stream",
     "text": [
      "Estamos en la página https://skinsort.com/products//page/367\n"
     ]
    },
    {
     "data": {
      "application/vnd.jupyter.widget-view+json": {
       "model_id": "afb8662ad8b540a6a2acc5b9605c1b4f",
       "version_major": 2,
       "version_minor": 0
      },
      "text/plain": [
       "Obteniendo productos:   0%|          | 0/30 [00:00<?, ?it/s]"
      ]
     },
     "metadata": {},
     "output_type": "display_data"
    },
    {
     "name": "stdout",
     "output_type": "stream",
     "text": [
      "Estamos en la página https://skinsort.com/products//page/368\n"
     ]
    },
    {
     "data": {
      "application/vnd.jupyter.widget-view+json": {
       "model_id": "14faa1dcb841482db79c5196c85700a5",
       "version_major": 2,
       "version_minor": 0
      },
      "text/plain": [
       "Obteniendo productos:   0%|          | 0/30 [00:00<?, ?it/s]"
      ]
     },
     "metadata": {},
     "output_type": "display_data"
    },
    {
     "name": "stdout",
     "output_type": "stream",
     "text": [
      "Estamos en la página https://skinsort.com/products//page/369\n"
     ]
    },
    {
     "data": {
      "application/vnd.jupyter.widget-view+json": {
       "model_id": "836b0604d3a74b1389740e26727af95b",
       "version_major": 2,
       "version_minor": 0
      },
      "text/plain": [
       "Obteniendo productos:   0%|          | 0/30 [00:00<?, ?it/s]"
      ]
     },
     "metadata": {},
     "output_type": "display_data"
    },
    {
     "name": "stdout",
     "output_type": "stream",
     "text": [
      "Estamos en la página https://skinsort.com/products//page/370\n"
     ]
    },
    {
     "data": {
      "application/vnd.jupyter.widget-view+json": {
       "model_id": "64d3a989be01408693c070e65c636183",
       "version_major": 2,
       "version_minor": 0
      },
      "text/plain": [
       "Obteniendo productos:   0%|          | 0/30 [00:00<?, ?it/s]"
      ]
     },
     "metadata": {},
     "output_type": "display_data"
    },
    {
     "name": "stdout",
     "output_type": "stream",
     "text": [
      "Estamos en la página https://skinsort.com/products//page/371\n"
     ]
    },
    {
     "data": {
      "application/vnd.jupyter.widget-view+json": {
       "model_id": "02aa9bb81972450f9fb4befa661c283f",
       "version_major": 2,
       "version_minor": 0
      },
      "text/plain": [
       "Obteniendo productos:   0%|          | 0/30 [00:00<?, ?it/s]"
      ]
     },
     "metadata": {},
     "output_type": "display_data"
    },
    {
     "name": "stdout",
     "output_type": "stream",
     "text": [
      "Estamos en la página https://skinsort.com/products//page/372\n"
     ]
    },
    {
     "data": {
      "application/vnd.jupyter.widget-view+json": {
       "model_id": "9a53a1f0473f4cc085c98da3f7d87272",
       "version_major": 2,
       "version_minor": 0
      },
      "text/plain": [
       "Obteniendo productos:   0%|          | 0/30 [00:00<?, ?it/s]"
      ]
     },
     "metadata": {},
     "output_type": "display_data"
    },
    {
     "name": "stdout",
     "output_type": "stream",
     "text": [
      "Estamos en la página https://skinsort.com/products//page/373\n"
     ]
    },
    {
     "data": {
      "application/vnd.jupyter.widget-view+json": {
       "model_id": "692b5e82a08a460c8190efc9e3350699",
       "version_major": 2,
       "version_minor": 0
      },
      "text/plain": [
       "Obteniendo productos:   0%|          | 0/30 [00:00<?, ?it/s]"
      ]
     },
     "metadata": {},
     "output_type": "display_data"
    },
    {
     "name": "stdout",
     "output_type": "stream",
     "text": [
      "Estamos en la página https://skinsort.com/products//page/374\n"
     ]
    },
    {
     "data": {
      "application/vnd.jupyter.widget-view+json": {
       "model_id": "bcd879a4323c41eab9707ba8d5591304",
       "version_major": 2,
       "version_minor": 0
      },
      "text/plain": [
       "Obteniendo productos:   0%|          | 0/30 [00:00<?, ?it/s]"
      ]
     },
     "metadata": {},
     "output_type": "display_data"
    },
    {
     "name": "stdout",
     "output_type": "stream",
     "text": [
      "Estamos en la página https://skinsort.com/products//page/375\n"
     ]
    },
    {
     "data": {
      "application/vnd.jupyter.widget-view+json": {
       "model_id": "cf22a8ddc3bd4f6c857b6aebfccf0a4a",
       "version_major": 2,
       "version_minor": 0
      },
      "text/plain": [
       "Obteniendo productos:   0%|          | 0/30 [00:00<?, ?it/s]"
      ]
     },
     "metadata": {},
     "output_type": "display_data"
    },
    {
     "name": "stdout",
     "output_type": "stream",
     "text": [
      "Estamos en la página https://skinsort.com/products//page/376\n"
     ]
    },
    {
     "data": {
      "application/vnd.jupyter.widget-view+json": {
       "model_id": "b5d106b1765941c2a196fbaa05bc7d22",
       "version_major": 2,
       "version_minor": 0
      },
      "text/plain": [
       "Obteniendo productos:   0%|          | 0/30 [00:00<?, ?it/s]"
      ]
     },
     "metadata": {},
     "output_type": "display_data"
    },
    {
     "name": "stdout",
     "output_type": "stream",
     "text": [
      "Estamos en la página https://skinsort.com/products//page/377\n"
     ]
    },
    {
     "data": {
      "application/vnd.jupyter.widget-view+json": {
       "model_id": "0cf7f2e571c740039381368f06ac6032",
       "version_major": 2,
       "version_minor": 0
      },
      "text/plain": [
       "Obteniendo productos:   0%|          | 0/30 [00:00<?, ?it/s]"
      ]
     },
     "metadata": {},
     "output_type": "display_data"
    },
    {
     "name": "stdout",
     "output_type": "stream",
     "text": [
      "Estamos en la página https://skinsort.com/products//page/378\n"
     ]
    },
    {
     "data": {
      "application/vnd.jupyter.widget-view+json": {
       "model_id": "43359e93a8e542db8759bc644223444e",
       "version_major": 2,
       "version_minor": 0
      },
      "text/plain": [
       "Obteniendo productos:   0%|          | 0/30 [00:00<?, ?it/s]"
      ]
     },
     "metadata": {},
     "output_type": "display_data"
    },
    {
     "name": "stdout",
     "output_type": "stream",
     "text": [
      "Estamos en la página https://skinsort.com/products//page/379\n"
     ]
    },
    {
     "data": {
      "application/vnd.jupyter.widget-view+json": {
       "model_id": "51f2c10ce7744927ada8b8e8ab90bfb3",
       "version_major": 2,
       "version_minor": 0
      },
      "text/plain": [
       "Obteniendo productos:   0%|          | 0/30 [00:00<?, ?it/s]"
      ]
     },
     "metadata": {},
     "output_type": "display_data"
    },
    {
     "name": "stdout",
     "output_type": "stream",
     "text": [
      "Estamos en la página https://skinsort.com/products//page/380\n"
     ]
    },
    {
     "data": {
      "application/vnd.jupyter.widget-view+json": {
       "model_id": "497b4fa50d5647f88f713ae126e889d2",
       "version_major": 2,
       "version_minor": 0
      },
      "text/plain": [
       "Obteniendo productos:   0%|          | 0/30 [00:00<?, ?it/s]"
      ]
     },
     "metadata": {},
     "output_type": "display_data"
    },
    {
     "name": "stdout",
     "output_type": "stream",
     "text": [
      "Estamos en la página https://skinsort.com/products//page/381\n"
     ]
    },
    {
     "data": {
      "application/vnd.jupyter.widget-view+json": {
       "model_id": "2dd803ddb81a48778f1e6d32a0b886be",
       "version_major": 2,
       "version_minor": 0
      },
      "text/plain": [
       "Obteniendo productos:   0%|          | 0/30 [00:00<?, ?it/s]"
      ]
     },
     "metadata": {},
     "output_type": "display_data"
    },
    {
     "name": "stdout",
     "output_type": "stream",
     "text": [
      "Estamos en la página https://skinsort.com/products//page/382\n"
     ]
    },
    {
     "data": {
      "application/vnd.jupyter.widget-view+json": {
       "model_id": "13adf7a7699449e18364bf8c244d455c",
       "version_major": 2,
       "version_minor": 0
      },
      "text/plain": [
       "Obteniendo productos:   0%|          | 0/30 [00:00<?, ?it/s]"
      ]
     },
     "metadata": {},
     "output_type": "display_data"
    },
    {
     "name": "stdout",
     "output_type": "stream",
     "text": [
      "Estamos en la página https://skinsort.com/products//page/383\n"
     ]
    },
    {
     "data": {
      "application/vnd.jupyter.widget-view+json": {
       "model_id": "5e102f3cd4d14e1eae051a0d44061a74",
       "version_major": 2,
       "version_minor": 0
      },
      "text/plain": [
       "Obteniendo productos:   0%|          | 0/30 [00:00<?, ?it/s]"
      ]
     },
     "metadata": {},
     "output_type": "display_data"
    },
    {
     "name": "stdout",
     "output_type": "stream",
     "text": [
      "Estamos en la página https://skinsort.com/products//page/384\n"
     ]
    },
    {
     "data": {
      "application/vnd.jupyter.widget-view+json": {
       "model_id": "9780d5511a1a453c90bda2b8b858b9ff",
       "version_major": 2,
       "version_minor": 0
      },
      "text/plain": [
       "Obteniendo productos:   0%|          | 0/30 [00:00<?, ?it/s]"
      ]
     },
     "metadata": {},
     "output_type": "display_data"
    },
    {
     "name": "stdout",
     "output_type": "stream",
     "text": [
      "Estamos en la página https://skinsort.com/products//page/385\n"
     ]
    },
    {
     "data": {
      "application/vnd.jupyter.widget-view+json": {
       "model_id": "09f234bd788645e7ba52f7e05fcfc49b",
       "version_major": 2,
       "version_minor": 0
      },
      "text/plain": [
       "Obteniendo productos:   0%|          | 0/30 [00:00<?, ?it/s]"
      ]
     },
     "metadata": {},
     "output_type": "display_data"
    },
    {
     "name": "stdout",
     "output_type": "stream",
     "text": [
      "Estamos en la página https://skinsort.com/products//page/386\n"
     ]
    },
    {
     "data": {
      "application/vnd.jupyter.widget-view+json": {
       "model_id": "e34a01c6f2dc40619d34b64a8f65b80c",
       "version_major": 2,
       "version_minor": 0
      },
      "text/plain": [
       "Obteniendo productos:   0%|          | 0/30 [00:00<?, ?it/s]"
      ]
     },
     "metadata": {},
     "output_type": "display_data"
    },
    {
     "name": "stdout",
     "output_type": "stream",
     "text": [
      "Estamos en la página https://skinsort.com/products//page/387\n"
     ]
    },
    {
     "data": {
      "application/vnd.jupyter.widget-view+json": {
       "model_id": "3ecc8ee437b64427b616605bfbfcd2ab",
       "version_major": 2,
       "version_minor": 0
      },
      "text/plain": [
       "Obteniendo productos:   0%|          | 0/30 [00:00<?, ?it/s]"
      ]
     },
     "metadata": {},
     "output_type": "display_data"
    },
    {
     "name": "stdout",
     "output_type": "stream",
     "text": [
      "Estamos en la página https://skinsort.com/products//page/388\n"
     ]
    },
    {
     "data": {
      "application/vnd.jupyter.widget-view+json": {
       "model_id": "e0f23e368ff54370926eb4d9ca3e6249",
       "version_major": 2,
       "version_minor": 0
      },
      "text/plain": [
       "Obteniendo productos:   0%|          | 0/30 [00:00<?, ?it/s]"
      ]
     },
     "metadata": {},
     "output_type": "display_data"
    },
    {
     "name": "stdout",
     "output_type": "stream",
     "text": [
      "Estamos en la página https://skinsort.com/products//page/389\n"
     ]
    },
    {
     "data": {
      "application/vnd.jupyter.widget-view+json": {
       "model_id": "ffcfbd5f14534ac38df06a44897d6fc1",
       "version_major": 2,
       "version_minor": 0
      },
      "text/plain": [
       "Obteniendo productos:   0%|          | 0/30 [00:00<?, ?it/s]"
      ]
     },
     "metadata": {},
     "output_type": "display_data"
    },
    {
     "name": "stdout",
     "output_type": "stream",
     "text": [
      "Estamos en la página https://skinsort.com/products//page/390\n"
     ]
    },
    {
     "data": {
      "application/vnd.jupyter.widget-view+json": {
       "model_id": "d9e5fdf0df4747d3914edd4404b1b1d4",
       "version_major": 2,
       "version_minor": 0
      },
      "text/plain": [
       "Obteniendo productos:   0%|          | 0/30 [00:00<?, ?it/s]"
      ]
     },
     "metadata": {},
     "output_type": "display_data"
    },
    {
     "name": "stdout",
     "output_type": "stream",
     "text": [
      "Estamos en la página https://skinsort.com/products//page/391\n"
     ]
    },
    {
     "data": {
      "application/vnd.jupyter.widget-view+json": {
       "model_id": "d57cc53371ef452a816beaaa53796455",
       "version_major": 2,
       "version_minor": 0
      },
      "text/plain": [
       "Obteniendo productos:   0%|          | 0/30 [00:00<?, ?it/s]"
      ]
     },
     "metadata": {},
     "output_type": "display_data"
    },
    {
     "name": "stdout",
     "output_type": "stream",
     "text": [
      "Estamos en la página https://skinsort.com/products//page/392\n"
     ]
    },
    {
     "data": {
      "application/vnd.jupyter.widget-view+json": {
       "model_id": "6cf61dd20b4d4c20bf7be4a1d3f32681",
       "version_major": 2,
       "version_minor": 0
      },
      "text/plain": [
       "Obteniendo productos:   0%|          | 0/30 [00:00<?, ?it/s]"
      ]
     },
     "metadata": {},
     "output_type": "display_data"
    },
    {
     "name": "stdout",
     "output_type": "stream",
     "text": [
      "Estamos en la página https://skinsort.com/products//page/393\n"
     ]
    },
    {
     "data": {
      "application/vnd.jupyter.widget-view+json": {
       "model_id": "04a01aa8e7644d19b2a29e13dc911740",
       "version_major": 2,
       "version_minor": 0
      },
      "text/plain": [
       "Obteniendo productos:   0%|          | 0/30 [00:00<?, ?it/s]"
      ]
     },
     "metadata": {},
     "output_type": "display_data"
    },
    {
     "name": "stdout",
     "output_type": "stream",
     "text": [
      "Estamos en la página https://skinsort.com/products//page/394\n"
     ]
    },
    {
     "data": {
      "application/vnd.jupyter.widget-view+json": {
       "model_id": "bb82c276f6b34d39b0f3a2abc2a6bca9",
       "version_major": 2,
       "version_minor": 0
      },
      "text/plain": [
       "Obteniendo productos:   0%|          | 0/30 [00:00<?, ?it/s]"
      ]
     },
     "metadata": {},
     "output_type": "display_data"
    },
    {
     "name": "stdout",
     "output_type": "stream",
     "text": [
      "Estamos en la página https://skinsort.com/products//page/395\n"
     ]
    },
    {
     "data": {
      "application/vnd.jupyter.widget-view+json": {
       "model_id": "c8e750a87987419db96ced915713871d",
       "version_major": 2,
       "version_minor": 0
      },
      "text/plain": [
       "Obteniendo productos:   0%|          | 0/30 [00:00<?, ?it/s]"
      ]
     },
     "metadata": {},
     "output_type": "display_data"
    },
    {
     "name": "stdout",
     "output_type": "stream",
     "text": [
      "Estamos en la página https://skinsort.com/products//page/396\n"
     ]
    },
    {
     "data": {
      "application/vnd.jupyter.widget-view+json": {
       "model_id": "85324bd55d0b425a8e9e531d241c3f5a",
       "version_major": 2,
       "version_minor": 0
      },
      "text/plain": [
       "Obteniendo productos:   0%|          | 0/30 [00:00<?, ?it/s]"
      ]
     },
     "metadata": {},
     "output_type": "display_data"
    },
    {
     "name": "stdout",
     "output_type": "stream",
     "text": [
      "Estamos en la página https://skinsort.com/products//page/397\n"
     ]
    },
    {
     "data": {
      "application/vnd.jupyter.widget-view+json": {
       "model_id": "eaa63ef6886d4d4ab41c4534f33139b3",
       "version_major": 2,
       "version_minor": 0
      },
      "text/plain": [
       "Obteniendo productos:   0%|          | 0/30 [00:00<?, ?it/s]"
      ]
     },
     "metadata": {},
     "output_type": "display_data"
    },
    {
     "name": "stdout",
     "output_type": "stream",
     "text": [
      "Estamos en la página https://skinsort.com/products//page/398\n"
     ]
    },
    {
     "data": {
      "application/vnd.jupyter.widget-view+json": {
       "model_id": "59000133341d4472b92d3868e4a4376f",
       "version_major": 2,
       "version_minor": 0
      },
      "text/plain": [
       "Obteniendo productos:   0%|          | 0/30 [00:00<?, ?it/s]"
      ]
     },
     "metadata": {},
     "output_type": "display_data"
    },
    {
     "name": "stdout",
     "output_type": "stream",
     "text": [
      "Estamos en la página https://skinsort.com/products//page/399\n"
     ]
    }
   ],
   "source": [
    "dict4={}\n",
    "for i in range(300, 400):\n",
    "    dict4[i] = scrap(f'https://skinsort.com/products//page/{i}')"
   ]
  },
  {
   "cell_type": "code",
   "execution_count": 66,
   "id": "f2ae5c41",
   "metadata": {},
   "outputs": [
    {
     "name": "stderr",
     "output_type": "stream",
     "text": [
      "2023-03-09 14:37:14,497 [88601] WARNING  py.warnings:109: [JupyterRequire] /tmp/ipykernel_88601/4040571658.py:3: DeprecationWarning: executable_path has been deprecated, please pass in a Service object\n",
      "  driver = webdriver.Chrome(PATH)\n",
      "\n"
     ]
    },
    {
     "data": {
      "application/vnd.jupyter.widget-view+json": {
       "model_id": "943b758191114bf5a9e71cd0c0f9ced1",
       "version_major": 2,
       "version_minor": 0
      },
      "text/plain": [
       "Obteniendo productos:   0%|          | 0/30 [00:00<?, ?it/s]"
      ]
     },
     "metadata": {},
     "output_type": "display_data"
    },
    {
     "name": "stdout",
     "output_type": "stream",
     "text": [
      "Estamos en la página https://skinsort.com/products//page/317\n"
     ]
    },
    {
     "data": {
      "application/vnd.jupyter.widget-view+json": {
       "model_id": "42764f26324e45de9ebca734ea310604",
       "version_major": 2,
       "version_minor": 0
      },
      "text/plain": [
       "Obteniendo productos:   0%|          | 0/30 [00:00<?, ?it/s]"
      ]
     },
     "metadata": {},
     "output_type": "display_data"
    },
    {
     "name": "stdout",
     "output_type": "stream",
     "text": [
      "Estamos en la página https://skinsort.com/products//page/321\n"
     ]
    },
    {
     "data": {
      "application/vnd.jupyter.widget-view+json": {
       "model_id": "5c7393638aba45d5b6a0cbd07be1bb54",
       "version_major": 2,
       "version_minor": 0
      },
      "text/plain": [
       "Obteniendo productos:   0%|          | 0/30 [00:00<?, ?it/s]"
      ]
     },
     "metadata": {},
     "output_type": "display_data"
    },
    {
     "name": "stdout",
     "output_type": "stream",
     "text": [
      "Estamos en la página https://skinsort.com/products//page/325\n"
     ]
    },
    {
     "data": {
      "application/vnd.jupyter.widget-view+json": {
       "model_id": "900b89034aff4c7e8eaa323af18f8a9f",
       "version_major": 2,
       "version_minor": 0
      },
      "text/plain": [
       "Obteniendo productos:   0%|          | 0/30 [00:00<?, ?it/s]"
      ]
     },
     "metadata": {},
     "output_type": "display_data"
    },
    {
     "name": "stdout",
     "output_type": "stream",
     "text": [
      "Estamos en la página https://skinsort.com/products//page/347\n"
     ]
    },
    {
     "data": {
      "application/vnd.jupyter.widget-view+json": {
       "model_id": "9eb759e80cc544cf81c97da8fd3e34ab",
       "version_major": 2,
       "version_minor": 0
      },
      "text/plain": [
       "Obteniendo productos:   0%|          | 0/30 [00:00<?, ?it/s]"
      ]
     },
     "metadata": {},
     "output_type": "display_data"
    },
    {
     "name": "stdout",
     "output_type": "stream",
     "text": [
      "Estamos en la página https://skinsort.com/products//page/365\n"
     ]
    }
   ],
   "source": [
    "dict4[317] = scrap('https://skinsort.com/products//page/317')\n",
    "dict4[321] = scrap('https://skinsort.com/products//page/321')\n",
    "dict4[325] = scrap('https://skinsort.com/products//page/325')\n",
    "dict4[347] = scrap('https://skinsort.com/products//page/347')\n",
    "dict4[365] = scrap('https://skinsort.com/products//page/365')"
   ]
  },
  {
   "cell_type": "code",
   "execution_count": 67,
   "id": "cad0b697",
   "metadata": {},
   "outputs": [],
   "source": [
    "with open('datos_scrapeados4.json', 'w') as file:\n",
    "    json.dump(dict4, file)"
   ]
  },
  {
   "cell_type": "code",
   "execution_count": 68,
   "id": "b7f8e9e6",
   "metadata": {},
   "outputs": [
    {
     "name": "stderr",
     "output_type": "stream",
     "text": [
      "2023-03-09 14:40:20,116 [88601] WARNING  py.warnings:109: [JupyterRequire] /tmp/ipykernel_88601/4040571658.py:3: DeprecationWarning: executable_path has been deprecated, please pass in a Service object\n",
      "  driver = webdriver.Chrome(PATH)\n",
      "\n"
     ]
    },
    {
     "data": {
      "application/vnd.jupyter.widget-view+json": {
       "model_id": "f41dbcb013594e4ea6382e0bc81651a9",
       "version_major": 2,
       "version_minor": 0
      },
      "text/plain": [
       "Obteniendo productos:   0%|          | 0/30 [00:00<?, ?it/s]"
      ]
     },
     "metadata": {},
     "output_type": "display_data"
    },
    {
     "name": "stdout",
     "output_type": "stream",
     "text": [
      "Estamos en la página https://skinsort.com/products//page/400\n"
     ]
    },
    {
     "data": {
      "application/vnd.jupyter.widget-view+json": {
       "model_id": "c842bb6f213b4efa991ea1555af295ee",
       "version_major": 2,
       "version_minor": 0
      },
      "text/plain": [
       "Obteniendo productos:   0%|          | 0/30 [00:00<?, ?it/s]"
      ]
     },
     "metadata": {},
     "output_type": "display_data"
    },
    {
     "name": "stdout",
     "output_type": "stream",
     "text": [
      "Estamos en la página https://skinsort.com/products//page/401\n"
     ]
    },
    {
     "data": {
      "application/vnd.jupyter.widget-view+json": {
       "model_id": "907c4af3dd3a465da317e71912fe7685",
       "version_major": 2,
       "version_minor": 0
      },
      "text/plain": [
       "Obteniendo productos:   0%|          | 0/30 [00:00<?, ?it/s]"
      ]
     },
     "metadata": {},
     "output_type": "display_data"
    },
    {
     "name": "stdout",
     "output_type": "stream",
     "text": [
      "Estamos en la página https://skinsort.com/products//page/402\n"
     ]
    },
    {
     "data": {
      "application/vnd.jupyter.widget-view+json": {
       "model_id": "9105473c35264f94b2bc3c45a39d7236",
       "version_major": 2,
       "version_minor": 0
      },
      "text/plain": [
       "Obteniendo productos:   0%|          | 0/30 [00:00<?, ?it/s]"
      ]
     },
     "metadata": {},
     "output_type": "display_data"
    },
    {
     "name": "stdout",
     "output_type": "stream",
     "text": [
      "Estamos en la página https://skinsort.com/products//page/403\n"
     ]
    },
    {
     "data": {
      "application/vnd.jupyter.widget-view+json": {
       "model_id": "872d4e241f0d45b7a933ce30c3505d11",
       "version_major": 2,
       "version_minor": 0
      },
      "text/plain": [
       "Obteniendo productos:   0%|          | 0/30 [00:00<?, ?it/s]"
      ]
     },
     "metadata": {},
     "output_type": "display_data"
    },
    {
     "name": "stdout",
     "output_type": "stream",
     "text": [
      "Estamos en la página https://skinsort.com/products//page/404\n",
      "Error al obtener los datos.\n"
     ]
    },
    {
     "data": {
      "application/vnd.jupyter.widget-view+json": {
       "model_id": "7b806d99ded64c93a88b38e7811ab044",
       "version_major": 2,
       "version_minor": 0
      },
      "text/plain": [
       "Obteniendo productos:   0%|          | 0/30 [00:00<?, ?it/s]"
      ]
     },
     "metadata": {},
     "output_type": "display_data"
    },
    {
     "name": "stdout",
     "output_type": "stream",
     "text": [
      "Estamos en la página https://skinsort.com/products//page/406\n"
     ]
    },
    {
     "data": {
      "application/vnd.jupyter.widget-view+json": {
       "model_id": "b907ca8ef650422fbbfc4afdee42dbac",
       "version_major": 2,
       "version_minor": 0
      },
      "text/plain": [
       "Obteniendo productos:   0%|          | 0/30 [00:00<?, ?it/s]"
      ]
     },
     "metadata": {},
     "output_type": "display_data"
    },
    {
     "name": "stdout",
     "output_type": "stream",
     "text": [
      "Estamos en la página https://skinsort.com/products//page/407\n"
     ]
    },
    {
     "data": {
      "application/vnd.jupyter.widget-view+json": {
       "model_id": "05afb64ceaf04cccbce1935764692acc",
       "version_major": 2,
       "version_minor": 0
      },
      "text/plain": [
       "Obteniendo productos:   0%|          | 0/30 [00:00<?, ?it/s]"
      ]
     },
     "metadata": {},
     "output_type": "display_data"
    },
    {
     "name": "stdout",
     "output_type": "stream",
     "text": [
      "Estamos en la página https://skinsort.com/products//page/408\n"
     ]
    },
    {
     "data": {
      "application/vnd.jupyter.widget-view+json": {
       "model_id": "e1bb34512694465ba4438003a6881a07",
       "version_major": 2,
       "version_minor": 0
      },
      "text/plain": [
       "Obteniendo productos:   0%|          | 0/30 [00:00<?, ?it/s]"
      ]
     },
     "metadata": {},
     "output_type": "display_data"
    },
    {
     "name": "stdout",
     "output_type": "stream",
     "text": [
      "Estamos en la página https://skinsort.com/products//page/409\n"
     ]
    },
    {
     "data": {
      "application/vnd.jupyter.widget-view+json": {
       "model_id": "ad9bbaba3fe5455e966020e9f965daeb",
       "version_major": 2,
       "version_minor": 0
      },
      "text/plain": [
       "Obteniendo productos:   0%|          | 0/30 [00:00<?, ?it/s]"
      ]
     },
     "metadata": {},
     "output_type": "display_data"
    },
    {
     "name": "stdout",
     "output_type": "stream",
     "text": [
      "Estamos en la página https://skinsort.com/products//page/410\n"
     ]
    },
    {
     "data": {
      "application/vnd.jupyter.widget-view+json": {
       "model_id": "2502537e420348828f59c56752642583",
       "version_major": 2,
       "version_minor": 0
      },
      "text/plain": [
       "Obteniendo productos:   0%|          | 0/30 [00:00<?, ?it/s]"
      ]
     },
     "metadata": {},
     "output_type": "display_data"
    },
    {
     "name": "stdout",
     "output_type": "stream",
     "text": [
      "Estamos en la página https://skinsort.com/products//page/411\n"
     ]
    },
    {
     "data": {
      "application/vnd.jupyter.widget-view+json": {
       "model_id": "b932c1e6345c4a74b33a272285af7582",
       "version_major": 2,
       "version_minor": 0
      },
      "text/plain": [
       "Obteniendo productos:   0%|          | 0/30 [00:00<?, ?it/s]"
      ]
     },
     "metadata": {},
     "output_type": "display_data"
    },
    {
     "name": "stdout",
     "output_type": "stream",
     "text": [
      "Estamos en la página https://skinsort.com/products//page/412\n"
     ]
    },
    {
     "data": {
      "application/vnd.jupyter.widget-view+json": {
       "model_id": "eb24a9af0eaa4ea691784557334dcfa4",
       "version_major": 2,
       "version_minor": 0
      },
      "text/plain": [
       "Obteniendo productos:   0%|          | 0/30 [00:00<?, ?it/s]"
      ]
     },
     "metadata": {},
     "output_type": "display_data"
    },
    {
     "name": "stdout",
     "output_type": "stream",
     "text": [
      "Estamos en la página https://skinsort.com/products//page/413\n"
     ]
    },
    {
     "data": {
      "application/vnd.jupyter.widget-view+json": {
       "model_id": "50db0b15d42447488a7b67234e28ec43",
       "version_major": 2,
       "version_minor": 0
      },
      "text/plain": [
       "Obteniendo productos:   0%|          | 0/30 [00:00<?, ?it/s]"
      ]
     },
     "metadata": {},
     "output_type": "display_data"
    },
    {
     "name": "stdout",
     "output_type": "stream",
     "text": [
      "Estamos en la página https://skinsort.com/products//page/414\n"
     ]
    },
    {
     "data": {
      "application/vnd.jupyter.widget-view+json": {
       "model_id": "4fba3508dce74b119a7a5de0d0830e4b",
       "version_major": 2,
       "version_minor": 0
      },
      "text/plain": [
       "Obteniendo productos:   0%|          | 0/30 [00:00<?, ?it/s]"
      ]
     },
     "metadata": {},
     "output_type": "display_data"
    },
    {
     "name": "stdout",
     "output_type": "stream",
     "text": [
      "Estamos en la página https://skinsort.com/products//page/415\n"
     ]
    },
    {
     "data": {
      "application/vnd.jupyter.widget-view+json": {
       "model_id": "33c0dd8791414e689ba32d659fe895bf",
       "version_major": 2,
       "version_minor": 0
      },
      "text/plain": [
       "Obteniendo productos:   0%|          | 0/30 [00:00<?, ?it/s]"
      ]
     },
     "metadata": {},
     "output_type": "display_data"
    },
    {
     "name": "stdout",
     "output_type": "stream",
     "text": [
      "Estamos en la página https://skinsort.com/products//page/416\n"
     ]
    },
    {
     "data": {
      "application/vnd.jupyter.widget-view+json": {
       "model_id": "dbdfaec11ca84ffdbabe42768ad62ed2",
       "version_major": 2,
       "version_minor": 0
      },
      "text/plain": [
       "Obteniendo productos:   0%|          | 0/30 [00:00<?, ?it/s]"
      ]
     },
     "metadata": {},
     "output_type": "display_data"
    },
    {
     "name": "stdout",
     "output_type": "stream",
     "text": [
      "Estamos en la página https://skinsort.com/products//page/417\n"
     ]
    },
    {
     "data": {
      "application/vnd.jupyter.widget-view+json": {
       "model_id": "9e18386c8898476bbe674a4b7acaee92",
       "version_major": 2,
       "version_minor": 0
      },
      "text/plain": [
       "Obteniendo productos:   0%|          | 0/30 [00:00<?, ?it/s]"
      ]
     },
     "metadata": {},
     "output_type": "display_data"
    },
    {
     "name": "stdout",
     "output_type": "stream",
     "text": [
      "Estamos en la página https://skinsort.com/products//page/418\n"
     ]
    },
    {
     "data": {
      "application/vnd.jupyter.widget-view+json": {
       "model_id": "9706048e60cf4b12964ab6d9d6968569",
       "version_major": 2,
       "version_minor": 0
      },
      "text/plain": [
       "Obteniendo productos:   0%|          | 0/30 [00:00<?, ?it/s]"
      ]
     },
     "metadata": {},
     "output_type": "display_data"
    },
    {
     "name": "stdout",
     "output_type": "stream",
     "text": [
      "Estamos en la página https://skinsort.com/products//page/419\n"
     ]
    },
    {
     "data": {
      "application/vnd.jupyter.widget-view+json": {
       "model_id": "9e6b017ff9d84324b87c3816c60aa99a",
       "version_major": 2,
       "version_minor": 0
      },
      "text/plain": [
       "Obteniendo productos:   0%|          | 0/30 [00:00<?, ?it/s]"
      ]
     },
     "metadata": {},
     "output_type": "display_data"
    },
    {
     "name": "stdout",
     "output_type": "stream",
     "text": [
      "Estamos en la página https://skinsort.com/products//page/420\n"
     ]
    },
    {
     "data": {
      "application/vnd.jupyter.widget-view+json": {
       "model_id": "9200f843180a4f82a0c468efd85ed116",
       "version_major": 2,
       "version_minor": 0
      },
      "text/plain": [
       "Obteniendo productos:   0%|          | 0/30 [00:00<?, ?it/s]"
      ]
     },
     "metadata": {},
     "output_type": "display_data"
    },
    {
     "name": "stdout",
     "output_type": "stream",
     "text": [
      "Estamos en la página https://skinsort.com/products//page/421\n"
     ]
    },
    {
     "data": {
      "application/vnd.jupyter.widget-view+json": {
       "model_id": "55c7fee0f6574e1e871cd1011baae399",
       "version_major": 2,
       "version_minor": 0
      },
      "text/plain": [
       "Obteniendo productos:   0%|          | 0/30 [00:00<?, ?it/s]"
      ]
     },
     "metadata": {},
     "output_type": "display_data"
    },
    {
     "name": "stdout",
     "output_type": "stream",
     "text": [
      "Estamos en la página https://skinsort.com/products//page/422\n"
     ]
    },
    {
     "data": {
      "application/vnd.jupyter.widget-view+json": {
       "model_id": "6fdf6738ae0742e787afccb47069f8e1",
       "version_major": 2,
       "version_minor": 0
      },
      "text/plain": [
       "Obteniendo productos:   0%|          | 0/30 [00:00<?, ?it/s]"
      ]
     },
     "metadata": {},
     "output_type": "display_data"
    },
    {
     "name": "stdout",
     "output_type": "stream",
     "text": [
      "Estamos en la página https://skinsort.com/products//page/423\n"
     ]
    },
    {
     "data": {
      "application/vnd.jupyter.widget-view+json": {
       "model_id": "370f5151992948f6b1afab24bfab0598",
       "version_major": 2,
       "version_minor": 0
      },
      "text/plain": [
       "Obteniendo productos:   0%|          | 0/30 [00:00<?, ?it/s]"
      ]
     },
     "metadata": {},
     "output_type": "display_data"
    },
    {
     "name": "stdout",
     "output_type": "stream",
     "text": [
      "Estamos en la página https://skinsort.com/products//page/424\n"
     ]
    },
    {
     "data": {
      "application/vnd.jupyter.widget-view+json": {
       "model_id": "64642c960752423c94cec5a22ab2cb87",
       "version_major": 2,
       "version_minor": 0
      },
      "text/plain": [
       "Obteniendo productos:   0%|          | 0/30 [00:00<?, ?it/s]"
      ]
     },
     "metadata": {},
     "output_type": "display_data"
    },
    {
     "name": "stdout",
     "output_type": "stream",
     "text": [
      "Estamos en la página https://skinsort.com/products//page/425\n"
     ]
    },
    {
     "data": {
      "application/vnd.jupyter.widget-view+json": {
       "model_id": "5dac217a2a4642d6871a99aaaebb6581",
       "version_major": 2,
       "version_minor": 0
      },
      "text/plain": [
       "Obteniendo productos:   0%|          | 0/30 [00:00<?, ?it/s]"
      ]
     },
     "metadata": {},
     "output_type": "display_data"
    },
    {
     "name": "stdout",
     "output_type": "stream",
     "text": [
      "Estamos en la página https://skinsort.com/products//page/426\n"
     ]
    },
    {
     "data": {
      "application/vnd.jupyter.widget-view+json": {
       "model_id": "bdf9ffaf099341378605a73da31fad88",
       "version_major": 2,
       "version_minor": 0
      },
      "text/plain": [
       "Obteniendo productos:   0%|          | 0/30 [00:00<?, ?it/s]"
      ]
     },
     "metadata": {},
     "output_type": "display_data"
    },
    {
     "name": "stdout",
     "output_type": "stream",
     "text": [
      "Estamos en la página https://skinsort.com/products//page/427\n"
     ]
    },
    {
     "data": {
      "application/vnd.jupyter.widget-view+json": {
       "model_id": "2b44397ece3244f0a03efd75fdf43fff",
       "version_major": 2,
       "version_minor": 0
      },
      "text/plain": [
       "Obteniendo productos:   0%|          | 0/30 [00:00<?, ?it/s]"
      ]
     },
     "metadata": {},
     "output_type": "display_data"
    },
    {
     "name": "stdout",
     "output_type": "stream",
     "text": [
      "Estamos en la página https://skinsort.com/products//page/428\n"
     ]
    },
    {
     "data": {
      "application/vnd.jupyter.widget-view+json": {
       "model_id": "d23f478ab7d94b4b9fdb74b8131456b6",
       "version_major": 2,
       "version_minor": 0
      },
      "text/plain": [
       "Obteniendo productos:   0%|          | 0/30 [00:00<?, ?it/s]"
      ]
     },
     "metadata": {},
     "output_type": "display_data"
    },
    {
     "name": "stdout",
     "output_type": "stream",
     "text": [
      "Estamos en la página https://skinsort.com/products//page/429\n"
     ]
    },
    {
     "data": {
      "application/vnd.jupyter.widget-view+json": {
       "model_id": "b6dea16473e64518b1124d5504cf365e",
       "version_major": 2,
       "version_minor": 0
      },
      "text/plain": [
       "Obteniendo productos:   0%|          | 0/30 [00:00<?, ?it/s]"
      ]
     },
     "metadata": {},
     "output_type": "display_data"
    },
    {
     "name": "stdout",
     "output_type": "stream",
     "text": [
      "Estamos en la página https://skinsort.com/products//page/430\n"
     ]
    },
    {
     "data": {
      "application/vnd.jupyter.widget-view+json": {
       "model_id": "b0e333377c3e4a94a6791c56f294eef1",
       "version_major": 2,
       "version_minor": 0
      },
      "text/plain": [
       "Obteniendo productos:   0%|          | 0/30 [00:00<?, ?it/s]"
      ]
     },
     "metadata": {},
     "output_type": "display_data"
    },
    {
     "name": "stdout",
     "output_type": "stream",
     "text": [
      "Estamos en la página https://skinsort.com/products//page/431\n"
     ]
    },
    {
     "data": {
      "application/vnd.jupyter.widget-view+json": {
       "model_id": "a175b71535544bc0bfa0afbc0c9fad83",
       "version_major": 2,
       "version_minor": 0
      },
      "text/plain": [
       "Obteniendo productos:   0%|          | 0/30 [00:00<?, ?it/s]"
      ]
     },
     "metadata": {},
     "output_type": "display_data"
    },
    {
     "name": "stdout",
     "output_type": "stream",
     "text": [
      "Estamos en la página https://skinsort.com/products//page/432\n"
     ]
    },
    {
     "data": {
      "application/vnd.jupyter.widget-view+json": {
       "model_id": "fc1937d8f541474f9d9a706d249e24ff",
       "version_major": 2,
       "version_minor": 0
      },
      "text/plain": [
       "Obteniendo productos:   0%|          | 0/30 [00:00<?, ?it/s]"
      ]
     },
     "metadata": {},
     "output_type": "display_data"
    },
    {
     "name": "stdout",
     "output_type": "stream",
     "text": [
      "Estamos en la página https://skinsort.com/products//page/433\n"
     ]
    },
    {
     "data": {
      "application/vnd.jupyter.widget-view+json": {
       "model_id": "510959170e53478fa9f996bd9e73d63b",
       "version_major": 2,
       "version_minor": 0
      },
      "text/plain": [
       "Obteniendo productos:   0%|          | 0/30 [00:00<?, ?it/s]"
      ]
     },
     "metadata": {},
     "output_type": "display_data"
    },
    {
     "name": "stdout",
     "output_type": "stream",
     "text": [
      "Estamos en la página https://skinsort.com/products//page/434\n"
     ]
    },
    {
     "data": {
      "application/vnd.jupyter.widget-view+json": {
       "model_id": "09b5e6c3bbcd411088684a016be0432d",
       "version_major": 2,
       "version_minor": 0
      },
      "text/plain": [
       "Obteniendo productos:   0%|          | 0/30 [00:00<?, ?it/s]"
      ]
     },
     "metadata": {},
     "output_type": "display_data"
    },
    {
     "name": "stdout",
     "output_type": "stream",
     "text": [
      "Estamos en la página https://skinsort.com/products//page/435\n"
     ]
    },
    {
     "data": {
      "application/vnd.jupyter.widget-view+json": {
       "model_id": "80bedaa54f5f4e30ab7ad6864c8f8b19",
       "version_major": 2,
       "version_minor": 0
      },
      "text/plain": [
       "Obteniendo productos:   0%|          | 0/30 [00:00<?, ?it/s]"
      ]
     },
     "metadata": {},
     "output_type": "display_data"
    },
    {
     "name": "stdout",
     "output_type": "stream",
     "text": [
      "Estamos en la página https://skinsort.com/products//page/436\n"
     ]
    },
    {
     "data": {
      "application/vnd.jupyter.widget-view+json": {
       "model_id": "e19f8e5143fe471a8ffad2c9c6efcb99",
       "version_major": 2,
       "version_minor": 0
      },
      "text/plain": [
       "Obteniendo productos:   0%|          | 0/30 [00:00<?, ?it/s]"
      ]
     },
     "metadata": {},
     "output_type": "display_data"
    },
    {
     "name": "stdout",
     "output_type": "stream",
     "text": [
      "Estamos en la página https://skinsort.com/products//page/437\n"
     ]
    },
    {
     "data": {
      "application/vnd.jupyter.widget-view+json": {
       "model_id": "fcbe80a9016749468749e5cc49f8ecde",
       "version_major": 2,
       "version_minor": 0
      },
      "text/plain": [
       "Obteniendo productos:   0%|          | 0/30 [00:00<?, ?it/s]"
      ]
     },
     "metadata": {},
     "output_type": "display_data"
    },
    {
     "name": "stdout",
     "output_type": "stream",
     "text": [
      "Estamos en la página https://skinsort.com/products//page/438\n"
     ]
    },
    {
     "data": {
      "application/vnd.jupyter.widget-view+json": {
       "model_id": "c1ff0d48941f4a6e8c24cab2d9599f49",
       "version_major": 2,
       "version_minor": 0
      },
      "text/plain": [
       "Obteniendo productos:   0%|          | 0/30 [00:00<?, ?it/s]"
      ]
     },
     "metadata": {},
     "output_type": "display_data"
    },
    {
     "name": "stdout",
     "output_type": "stream",
     "text": [
      "Estamos en la página https://skinsort.com/products//page/439\n"
     ]
    },
    {
     "data": {
      "application/vnd.jupyter.widget-view+json": {
       "model_id": "5594fc112d054c2aad57278f132ceba5",
       "version_major": 2,
       "version_minor": 0
      },
      "text/plain": [
       "Obteniendo productos:   0%|          | 0/30 [00:00<?, ?it/s]"
      ]
     },
     "metadata": {},
     "output_type": "display_data"
    },
    {
     "name": "stdout",
     "output_type": "stream",
     "text": [
      "Estamos en la página https://skinsort.com/products//page/440\n"
     ]
    },
    {
     "data": {
      "application/vnd.jupyter.widget-view+json": {
       "model_id": "6a79959a64fd4aafa089139958975bef",
       "version_major": 2,
       "version_minor": 0
      },
      "text/plain": [
       "Obteniendo productos:   0%|          | 0/30 [00:00<?, ?it/s]"
      ]
     },
     "metadata": {},
     "output_type": "display_data"
    },
    {
     "name": "stdout",
     "output_type": "stream",
     "text": [
      "Estamos en la página https://skinsort.com/products//page/441\n"
     ]
    },
    {
     "data": {
      "application/vnd.jupyter.widget-view+json": {
       "model_id": "b2e69e1ea4104c5cac5bb5792dc3f11a",
       "version_major": 2,
       "version_minor": 0
      },
      "text/plain": [
       "Obteniendo productos:   0%|          | 0/30 [00:00<?, ?it/s]"
      ]
     },
     "metadata": {},
     "output_type": "display_data"
    },
    {
     "name": "stdout",
     "output_type": "stream",
     "text": [
      "Estamos en la página https://skinsort.com/products//page/442\n"
     ]
    },
    {
     "data": {
      "application/vnd.jupyter.widget-view+json": {
       "model_id": "fac7126273cf402cbf036e1334019e0f",
       "version_major": 2,
       "version_minor": 0
      },
      "text/plain": [
       "Obteniendo productos:   0%|          | 0/30 [00:00<?, ?it/s]"
      ]
     },
     "metadata": {},
     "output_type": "display_data"
    },
    {
     "name": "stdout",
     "output_type": "stream",
     "text": [
      "Estamos en la página https://skinsort.com/products//page/443\n"
     ]
    },
    {
     "data": {
      "application/vnd.jupyter.widget-view+json": {
       "model_id": "d956d3be374e48af8a606b6e96b37729",
       "version_major": 2,
       "version_minor": 0
      },
      "text/plain": [
       "Obteniendo productos:   0%|          | 0/30 [00:00<?, ?it/s]"
      ]
     },
     "metadata": {},
     "output_type": "display_data"
    },
    {
     "name": "stdout",
     "output_type": "stream",
     "text": [
      "Estamos en la página https://skinsort.com/products//page/444\n"
     ]
    },
    {
     "data": {
      "application/vnd.jupyter.widget-view+json": {
       "model_id": "b687e9f2693640f1a98a911c52f959b2",
       "version_major": 2,
       "version_minor": 0
      },
      "text/plain": [
       "Obteniendo productos:   0%|          | 0/30 [00:00<?, ?it/s]"
      ]
     },
     "metadata": {},
     "output_type": "display_data"
    },
    {
     "name": "stdout",
     "output_type": "stream",
     "text": [
      "Estamos en la página https://skinsort.com/products//page/445\n"
     ]
    },
    {
     "data": {
      "application/vnd.jupyter.widget-view+json": {
       "model_id": "4e94e86d0b82469b828c58fb6c98a734",
       "version_major": 2,
       "version_minor": 0
      },
      "text/plain": [
       "Obteniendo productos:   0%|          | 0/30 [00:00<?, ?it/s]"
      ]
     },
     "metadata": {},
     "output_type": "display_data"
    },
    {
     "name": "stdout",
     "output_type": "stream",
     "text": [
      "Estamos en la página https://skinsort.com/products//page/446\n"
     ]
    },
    {
     "data": {
      "application/vnd.jupyter.widget-view+json": {
       "model_id": "07f610c74d8649c5bb0fe05fa7771520",
       "version_major": 2,
       "version_minor": 0
      },
      "text/plain": [
       "Obteniendo productos:   0%|          | 0/30 [00:00<?, ?it/s]"
      ]
     },
     "metadata": {},
     "output_type": "display_data"
    },
    {
     "name": "stdout",
     "output_type": "stream",
     "text": [
      "Estamos en la página https://skinsort.com/products//page/447\n"
     ]
    },
    {
     "data": {
      "application/vnd.jupyter.widget-view+json": {
       "model_id": "a99d4dff33aa480eb2b74cbeee69cffc",
       "version_major": 2,
       "version_minor": 0
      },
      "text/plain": [
       "Obteniendo productos:   0%|          | 0/30 [00:00<?, ?it/s]"
      ]
     },
     "metadata": {},
     "output_type": "display_data"
    },
    {
     "name": "stdout",
     "output_type": "stream",
     "text": [
      "Estamos en la página https://skinsort.com/products//page/448\n"
     ]
    },
    {
     "data": {
      "application/vnd.jupyter.widget-view+json": {
       "model_id": "e6d2452537224723984aa911d9b16173",
       "version_major": 2,
       "version_minor": 0
      },
      "text/plain": [
       "Obteniendo productos:   0%|          | 0/30 [00:00<?, ?it/s]"
      ]
     },
     "metadata": {},
     "output_type": "display_data"
    },
    {
     "name": "stdout",
     "output_type": "stream",
     "text": [
      "Estamos en la página https://skinsort.com/products//page/449\n"
     ]
    },
    {
     "data": {
      "application/vnd.jupyter.widget-view+json": {
       "model_id": "72335e025de04bb8a16b5f50b461658a",
       "version_major": 2,
       "version_minor": 0
      },
      "text/plain": [
       "Obteniendo productos:   0%|          | 0/30 [00:00<?, ?it/s]"
      ]
     },
     "metadata": {},
     "output_type": "display_data"
    },
    {
     "name": "stdout",
     "output_type": "stream",
     "text": [
      "Estamos en la página https://skinsort.com/products//page/450\n"
     ]
    },
    {
     "data": {
      "application/vnd.jupyter.widget-view+json": {
       "model_id": "6581444020ba48638ba8b20c8388f8e3",
       "version_major": 2,
       "version_minor": 0
      },
      "text/plain": [
       "Obteniendo productos:   0%|          | 0/30 [00:00<?, ?it/s]"
      ]
     },
     "metadata": {},
     "output_type": "display_data"
    },
    {
     "name": "stdout",
     "output_type": "stream",
     "text": [
      "Estamos en la página https://skinsort.com/products//page/451\n"
     ]
    },
    {
     "data": {
      "application/vnd.jupyter.widget-view+json": {
       "model_id": "d8bdbc19fe8e4722be5da97727eabf83",
       "version_major": 2,
       "version_minor": 0
      },
      "text/plain": [
       "Obteniendo productos:   0%|          | 0/30 [00:00<?, ?it/s]"
      ]
     },
     "metadata": {},
     "output_type": "display_data"
    },
    {
     "name": "stdout",
     "output_type": "stream",
     "text": [
      "Estamos en la página https://skinsort.com/products//page/452\n"
     ]
    },
    {
     "data": {
      "application/vnd.jupyter.widget-view+json": {
       "model_id": "664f8b718d35415a89c174e26b682b9a",
       "version_major": 2,
       "version_minor": 0
      },
      "text/plain": [
       "Obteniendo productos:   0%|          | 0/30 [00:00<?, ?it/s]"
      ]
     },
     "metadata": {},
     "output_type": "display_data"
    },
    {
     "name": "stdout",
     "output_type": "stream",
     "text": [
      "Estamos en la página https://skinsort.com/products//page/453\n"
     ]
    },
    {
     "data": {
      "application/vnd.jupyter.widget-view+json": {
       "model_id": "8c0c3e3508e24cf48dc37da6985f4393",
       "version_major": 2,
       "version_minor": 0
      },
      "text/plain": [
       "Obteniendo productos:   0%|          | 0/30 [00:00<?, ?it/s]"
      ]
     },
     "metadata": {},
     "output_type": "display_data"
    },
    {
     "name": "stdout",
     "output_type": "stream",
     "text": [
      "Estamos en la página https://skinsort.com/products//page/454\n"
     ]
    },
    {
     "data": {
      "application/vnd.jupyter.widget-view+json": {
       "model_id": "0f1e479ca9de41e080772a7142bb98cd",
       "version_major": 2,
       "version_minor": 0
      },
      "text/plain": [
       "Obteniendo productos:   0%|          | 0/30 [00:00<?, ?it/s]"
      ]
     },
     "metadata": {},
     "output_type": "display_data"
    },
    {
     "name": "stdout",
     "output_type": "stream",
     "text": [
      "Estamos en la página https://skinsort.com/products//page/455\n"
     ]
    },
    {
     "data": {
      "application/vnd.jupyter.widget-view+json": {
       "model_id": "5f17875013da4cdaab4a198f0d3a436f",
       "version_major": 2,
       "version_minor": 0
      },
      "text/plain": [
       "Obteniendo productos:   0%|          | 0/30 [00:00<?, ?it/s]"
      ]
     },
     "metadata": {},
     "output_type": "display_data"
    },
    {
     "name": "stdout",
     "output_type": "stream",
     "text": [
      "Estamos en la página https://skinsort.com/products//page/456\n"
     ]
    },
    {
     "data": {
      "application/vnd.jupyter.widget-view+json": {
       "model_id": "695730d9d4c24661a3b8bffa5a9f59ef",
       "version_major": 2,
       "version_minor": 0
      },
      "text/plain": [
       "Obteniendo productos:   0%|          | 0/30 [00:00<?, ?it/s]"
      ]
     },
     "metadata": {},
     "output_type": "display_data"
    },
    {
     "name": "stdout",
     "output_type": "stream",
     "text": [
      "Estamos en la página https://skinsort.com/products//page/457\n"
     ]
    },
    {
     "data": {
      "application/vnd.jupyter.widget-view+json": {
       "model_id": "0559c6c521cf4fca8b4ccef1cb4ba4ec",
       "version_major": 2,
       "version_minor": 0
      },
      "text/plain": [
       "Obteniendo productos:   0%|          | 0/30 [00:00<?, ?it/s]"
      ]
     },
     "metadata": {},
     "output_type": "display_data"
    },
    {
     "name": "stdout",
     "output_type": "stream",
     "text": [
      "Estamos en la página https://skinsort.com/products//page/458\n"
     ]
    },
    {
     "data": {
      "application/vnd.jupyter.widget-view+json": {
       "model_id": "43c1226dd9cd4638b76ab1fe7b030711",
       "version_major": 2,
       "version_minor": 0
      },
      "text/plain": [
       "Obteniendo productos:   0%|          | 0/30 [00:00<?, ?it/s]"
      ]
     },
     "metadata": {},
     "output_type": "display_data"
    },
    {
     "name": "stdout",
     "output_type": "stream",
     "text": [
      "Estamos en la página https://skinsort.com/products//page/459\n"
     ]
    },
    {
     "data": {
      "application/vnd.jupyter.widget-view+json": {
       "model_id": "dc32453e0d16426a8f64b22369993170",
       "version_major": 2,
       "version_minor": 0
      },
      "text/plain": [
       "Obteniendo productos:   0%|          | 0/30 [00:00<?, ?it/s]"
      ]
     },
     "metadata": {},
     "output_type": "display_data"
    },
    {
     "name": "stdout",
     "output_type": "stream",
     "text": [
      "Estamos en la página https://skinsort.com/products//page/460\n"
     ]
    },
    {
     "data": {
      "application/vnd.jupyter.widget-view+json": {
       "model_id": "cd682eaa2b2e433a8f206fbe64f3739e",
       "version_major": 2,
       "version_minor": 0
      },
      "text/plain": [
       "Obteniendo productos:   0%|          | 0/30 [00:00<?, ?it/s]"
      ]
     },
     "metadata": {},
     "output_type": "display_data"
    },
    {
     "name": "stdout",
     "output_type": "stream",
     "text": [
      "Estamos en la página https://skinsort.com/products//page/461\n",
      "Error al obtener los datos.\n"
     ]
    },
    {
     "data": {
      "application/vnd.jupyter.widget-view+json": {
       "model_id": "eefe189e93f14ba5b2b50d54bd0c932c",
       "version_major": 2,
       "version_minor": 0
      },
      "text/plain": [
       "Obteniendo productos:   0%|          | 0/30 [00:00<?, ?it/s]"
      ]
     },
     "metadata": {},
     "output_type": "display_data"
    },
    {
     "name": "stdout",
     "output_type": "stream",
     "text": [
      "Estamos en la página https://skinsort.com/products//page/463\n"
     ]
    },
    {
     "data": {
      "application/vnd.jupyter.widget-view+json": {
       "model_id": "a820658258b64aa1b46adf98af687a00",
       "version_major": 2,
       "version_minor": 0
      },
      "text/plain": [
       "Obteniendo productos:   0%|          | 0/30 [00:00<?, ?it/s]"
      ]
     },
     "metadata": {},
     "output_type": "display_data"
    },
    {
     "name": "stdout",
     "output_type": "stream",
     "text": [
      "Estamos en la página https://skinsort.com/products//page/464\n"
     ]
    },
    {
     "data": {
      "application/vnd.jupyter.widget-view+json": {
       "model_id": "10f220a9c8e041bc9466aa160019d85d",
       "version_major": 2,
       "version_minor": 0
      },
      "text/plain": [
       "Obteniendo productos:   0%|          | 0/30 [00:00<?, ?it/s]"
      ]
     },
     "metadata": {},
     "output_type": "display_data"
    },
    {
     "name": "stdout",
     "output_type": "stream",
     "text": [
      "Estamos en la página https://skinsort.com/products//page/465\n"
     ]
    },
    {
     "data": {
      "application/vnd.jupyter.widget-view+json": {
       "model_id": "5a01250cd87a43b896b8c6f32658659d",
       "version_major": 2,
       "version_minor": 0
      },
      "text/plain": [
       "Obteniendo productos:   0%|          | 0/30 [00:00<?, ?it/s]"
      ]
     },
     "metadata": {},
     "output_type": "display_data"
    },
    {
     "name": "stdout",
     "output_type": "stream",
     "text": [
      "Estamos en la página https://skinsort.com/products//page/466\n"
     ]
    },
    {
     "data": {
      "application/vnd.jupyter.widget-view+json": {
       "model_id": "8aa5c36ad502495e8a3aa1c25137a649",
       "version_major": 2,
       "version_minor": 0
      },
      "text/plain": [
       "Obteniendo productos:   0%|          | 0/30 [00:00<?, ?it/s]"
      ]
     },
     "metadata": {},
     "output_type": "display_data"
    },
    {
     "name": "stdout",
     "output_type": "stream",
     "text": [
      "Estamos en la página https://skinsort.com/products//page/467\n"
     ]
    },
    {
     "data": {
      "application/vnd.jupyter.widget-view+json": {
       "model_id": "bc60e2ce89a94f91b1e3759c27978445",
       "version_major": 2,
       "version_minor": 0
      },
      "text/plain": [
       "Obteniendo productos:   0%|          | 0/30 [00:00<?, ?it/s]"
      ]
     },
     "metadata": {},
     "output_type": "display_data"
    },
    {
     "name": "stdout",
     "output_type": "stream",
     "text": [
      "Estamos en la página https://skinsort.com/products//page/468\n"
     ]
    },
    {
     "data": {
      "application/vnd.jupyter.widget-view+json": {
       "model_id": "b5351de4d1e147bd99c2000a6d2aa667",
       "version_major": 2,
       "version_minor": 0
      },
      "text/plain": [
       "Obteniendo productos:   0%|          | 0/30 [00:00<?, ?it/s]"
      ]
     },
     "metadata": {},
     "output_type": "display_data"
    },
    {
     "name": "stdout",
     "output_type": "stream",
     "text": [
      "Estamos en la página https://skinsort.com/products//page/469\n"
     ]
    },
    {
     "data": {
      "application/vnd.jupyter.widget-view+json": {
       "model_id": "a0eff06206324f97b4581c3d67e91d3d",
       "version_major": 2,
       "version_minor": 0
      },
      "text/plain": [
       "Obteniendo productos:   0%|          | 0/30 [00:00<?, ?it/s]"
      ]
     },
     "metadata": {},
     "output_type": "display_data"
    },
    {
     "name": "stdout",
     "output_type": "stream",
     "text": [
      "Estamos en la página https://skinsort.com/products//page/470\n"
     ]
    },
    {
     "data": {
      "application/vnd.jupyter.widget-view+json": {
       "model_id": "bd216cfb1e894ea4a79da16841a4a6a1",
       "version_major": 2,
       "version_minor": 0
      },
      "text/plain": [
       "Obteniendo productos:   0%|          | 0/30 [00:00<?, ?it/s]"
      ]
     },
     "metadata": {},
     "output_type": "display_data"
    },
    {
     "name": "stdout",
     "output_type": "stream",
     "text": [
      "Estamos en la página https://skinsort.com/products//page/471\n"
     ]
    },
    {
     "data": {
      "application/vnd.jupyter.widget-view+json": {
       "model_id": "16c7175f008749b39aa11fd61e75ab5c",
       "version_major": 2,
       "version_minor": 0
      },
      "text/plain": [
       "Obteniendo productos:   0%|          | 0/30 [00:00<?, ?it/s]"
      ]
     },
     "metadata": {},
     "output_type": "display_data"
    },
    {
     "name": "stdout",
     "output_type": "stream",
     "text": [
      "Estamos en la página https://skinsort.com/products//page/472\n"
     ]
    },
    {
     "data": {
      "application/vnd.jupyter.widget-view+json": {
       "model_id": "b5750629d76e46759b0e8ed04baebaec",
       "version_major": 2,
       "version_minor": 0
      },
      "text/plain": [
       "Obteniendo productos:   0%|          | 0/9 [00:00<?, ?it/s]"
      ]
     },
     "metadata": {},
     "output_type": "display_data"
    },
    {
     "name": "stdout",
     "output_type": "stream",
     "text": [
      "Estamos en la página https://skinsort.com/products//page/473\n"
     ]
    }
   ],
   "source": [
    "dict5={}\n",
    "for i in range(400, 474):\n",
    "    dict5[i] = scrap(f'https://skinsort.com/products//page/{i}')"
   ]
  },
  {
   "cell_type": "code",
   "execution_count": 69,
   "id": "af0d7295",
   "metadata": {},
   "outputs": [
    {
     "name": "stderr",
     "output_type": "stream",
     "text": [
      "2023-03-09 14:52:20,645 [88601] WARNING  py.warnings:109: [JupyterRequire] /tmp/ipykernel_88601/4040571658.py:3: DeprecationWarning: executable_path has been deprecated, please pass in a Service object\n",
      "  driver = webdriver.Chrome(PATH)\n",
      "\n"
     ]
    },
    {
     "data": {
      "application/vnd.jupyter.widget-view+json": {
       "model_id": "f782ca13e8724dc599b5d3fb68e2b6ee",
       "version_major": 2,
       "version_minor": 0
      },
      "text/plain": [
       "Obteniendo productos:   0%|          | 0/30 [00:00<?, ?it/s]"
      ]
     },
     "metadata": {},
     "output_type": "display_data"
    },
    {
     "name": "stdout",
     "output_type": "stream",
     "text": [
      "Estamos en la página https://skinsort.com/products//page/405\n"
     ]
    },
    {
     "data": {
      "application/vnd.jupyter.widget-view+json": {
       "model_id": "04b97818d975475394dc573428831e26",
       "version_major": 2,
       "version_minor": 0
      },
      "text/plain": [
       "Obteniendo productos:   0%|          | 0/30 [00:00<?, ?it/s]"
      ]
     },
     "metadata": {},
     "output_type": "display_data"
    },
    {
     "name": "stdout",
     "output_type": "stream",
     "text": [
      "Estamos en la página https://skinsort.com/products//page/462\n"
     ]
    }
   ],
   "source": [
    "dict5[405] = scrap('https://skinsort.com/products//page/405')\n",
    "dict5[462] = scrap('https://skinsort.com/products//page/462')"
   ]
  },
  {
   "cell_type": "code",
   "execution_count": 70,
   "id": "2985b758",
   "metadata": {},
   "outputs": [],
   "source": [
    "with open('datos_scrapeados5.json', 'w') as file:\n",
    "    json.dump(dict5, file)"
   ]
  },
  {
   "cell_type": "code",
   "execution_count": null,
   "id": "94557db6",
   "metadata": {},
   "outputs": [],
   "source": [
    "'''\n",
    "def procesar_producto(producto):\n",
    "    columnas = ['Nombre', 'Marca', 'Ingredientes', 'Cantidad', 'Descripción', 'Precio']\n",
    "    valores = dict(zip(columnas, producto))\n",
    "    return valores\n",
    "\n",
    "# Ejemplo de lista con productos\n",
    "lista_productos = [['Facial Treatment', 'The Ordinary', 'Niacinamide 10% + Zinc 1%', '(20)', 'vegan and cruelty-free facial treatment that contains niacinamide.', '$6.00 at Ulta'],\n",
    "                   ['Hyaluronic Acid 2% + B5', 'The Ordinary', 'Hyaluronic Acid, Vitamin B5', '(30)', 'An ultra-lightweight serum that hydrates and plumps skin, leaving it looking healthier and more radiant. Suitable for all skin types. Free of alcohol, oil, and silicone.', '$6.80 at Ulta'],\n",
    "                   ['Daily Facial Moisturizer SPF 30', 'CeraVe', 'Niacinamide, Ceramides', '(2.5 fl oz)', 'A lightweight, oil-free moisturizer with SPF 30 that hydrates and protects the skin barrier. Ideal for normal to oily skin types. Free of fragrance and oil.', '$15.99 at Ulta']]\n",
    "\n",
    "# Aplicar la función a cada producto en la lista\n",
    "productos_procesados = list(map(procesar_producto, lista_productos))\n",
    "\n",
    "# Crear un dataframe a partir de la lista de productos procesados\n",
    "df = pd.DataFrame(productos_procesados)\n",
    "\n",
    "print(df)\n",
    "\n",
    "'''"
   ]
  },
  {
   "cell_type": "code",
   "execution_count": null,
   "id": "59cdae18",
   "metadata": {},
   "outputs": [],
   "source": []
  }
 ],
 "metadata": {
  "kernelspec": {
   "display_name": "Python 3 (ipykernel)",
   "language": "python",
   "name": "python3"
  },
  "language_info": {
   "codemirror_mode": {
    "name": "ipython",
    "version": 3
   },
   "file_extension": ".py",
   "mimetype": "text/x-python",
   "name": "python",
   "nbconvert_exporter": "python",
   "pygments_lexer": "ipython3",
   "version": "3.9.13"
  }
 },
 "nbformat": 4,
 "nbformat_minor": 5
}
