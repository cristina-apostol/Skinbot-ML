{
 "cells": [
  {
   "cell_type": "code",
   "execution_count": null,
   "id": "83cefdcf",
   "metadata": {},
   "outputs": [],
   "source": [
    "import pandas as pd\n",
    "import numpy as np"
   ]
  },
  {
   "cell_type": "code",
   "execution_count": null,
   "id": "3dbe4be2",
   "metadata": {},
   "outputs": [],
   "source": [
    "from selenium import webdriver"
   ]
  },
  {
   "cell_type": "code",
   "execution_count": null,
   "id": "12fe185a",
   "metadata": {},
   "outputs": [],
   "source": [
    "%pip install webdriver-manager"
   ]
  },
  {
   "cell_type": "code",
   "execution_count": null,
   "id": "49aac5f2",
   "metadata": {},
   "outputs": [],
   "source": [
    "from webdriver_manager.chrome import ChromeDriverManager\n",
    "from selenium.webdriver.common.by import By\n",
    "from selenium.webdriver.chrome.service import Service\n",
    "import time\n",
    "from tqdm.notebook import tqdm"
   ]
  },
  {
   "cell_type": "markdown",
   "id": "34d9839e",
   "metadata": {},
   "source": [
    "### DRY"
   ]
  },
  {
   "cell_type": "code",
   "execution_count": null,
   "id": "63b072b2",
   "metadata": {},
   "outputs": [],
   "source": [
    "def scrap(url):\n",
    "    \n",
    "    PATH = ChromeDriverManager().install()    \n",
    "    driver = webdriver.Chrome(PATH)\n",
    "    driver.get(url)\n",
    "\n",
    "\n",
    "        cookies = driver.find_element(By.XPATH, '//*[@id=\"site-body\"]/div[2]/div/div[2]/div[3]/div/div[2]')\n",
    "        cookies.click()\n",
    "        time.sleep(1.5)\n",
    "\n",
    "        Type = []\n",
    "        tipos = driver.find_elements(By.XPATH, '//*[@id=\"products-table\"]/div[6]/div/div/div[2]/div/div[1]/p')\n",
    "        for producto in tqdm(tipos, desc='Obteniendo productos'):\n",
    "            Type.append(producto.text.split('\\n'))\n",
    "\n",
    "        print(f'Estamos en la página {driver.current_url}') \n",
    "        \n",
    "        Brand=[]\n",
    "        marca = driver.find_elements(By.XPATH, '//*[@id=\"products-table\"]/div[6]/div/div/div[2]/div/div[2]/h2/span[1]/a')\n",
    "        for producto in tqdm(marca, desc='Obteniendo productos'):\n",
    "            Brand.append(producto.text.split('\\n'))\n",
    "\n",
    "        print(f'Estamos en la página {driver.current_url}') \n",
    "              \n",
    "        Name=[]\n",
    "        name = driver.find_elements(By.XPATH, '//*[@id=\"products-table\"]/div[6]/div/div/div[2]/div/div[2]/h2/span[2]/a')\n",
    "        for producto in tqdm(name, desc='Obteniendo productos'):\n",
    "            Name.append(producto.text.split('\\n'))\n",
    "            \n",
    "        print(f'Estamos en la página {driver.current_url}') \n",
    "\n",
    "        return Type, Brand, Name\n",
    "\n",
    "    except:\n",
    "        print('Error al obtener los datos.')\n",
    "        return []\n",
    "        \n",
    "    finally:\n",
    "        driver.quit()\n",
    "\n",
    "dry = {}\n",
    "for i in range(1, 61):\n",
    "    url = f'https://skinsort.com/products/products-for-dry-skin/page/{i}'\n",
    "    data = scrap(url)\n",
    "    dict1[url] = data\n"
   ]
  },
  {
   "cell_type": "code",
   "execution_count": null,
   "id": "3803c7bb",
   "metadata": {},
   "outputs": [],
   "source": [
    "import json\n",
    "\n",
    "with open('dry.json', 'w') as file:\n",
    "    json.dump(dict1, file)\n"
   ]
  },
  {
   "cell_type": "markdown",
   "id": "4debf0c7",
   "metadata": {},
   "source": [
    "## OIL"
   ]
  },
  {
   "cell_type": "code",
   "execution_count": null,
   "id": "0e5d9d99",
   "metadata": {},
   "outputs": [],
   "source": [
    "def scrap(url):\n",
    "    PATH = ChromeDriverManager().install()    \n",
    "    driver = webdriver.Chrome(PATH)\n",
    "    driver.get(url)\n",
    "\n",
    "    try:\n",
    "        cookies = driver.find_element(By.XPATH, '//*[@id=\"site-body\"]/div[2]/div/div[2]/div[3]/div/div[2]')\n",
    "        cookies.click()\n",
    "        time.sleep(1.5)\n",
    "\n",
    "        Type = []\n",
    "        tipos = driver.find_elements(By.XPATH, '//*[@id=\"products-table\"]/div[6]/div/div/div[2]/div/div[1]/p')\n",
    "        for producto in tqdm(tipos, desc='Obteniendo productos'):\n",
    "            Type.append(producto.text.split('\\n'))\n",
    "\n",
    "        print(f'Estamos en la página {driver.current_url}') \n",
    "        \n",
    "        Brand=[]\n",
    "        marca = driver.find_elements(By.XPATH, '//*[@id=\"products-table\"]/div[6]/div/div/div[2]/div/div[2]/h2/span[1]/a')\n",
    "        for producto in tqdm(marca, desc='Obteniendo productos'):\n",
    "            Brand.append(producto.text.split('\\n'))\n",
    "\n",
    "        print(f'Estamos en la página {driver.current_url}') \n",
    "              \n",
    "        Name=[]\n",
    "        name = driver.find_elements(By.XPATH, '//*[@id=\"products-table\"]/div[6]/div/div/div[2]/div/div[2]/h2/span[2]/a')\n",
    "        for producto in tqdm(name, desc='Obteniendo productos'):\n",
    "            Name.append(producto.text.split('\\n'))\n",
    "            \n",
    "        print(f'Estamos en la página {driver.current_url}') \n",
    "\n",
    "        return Type, Brand, Name\n",
    "\n",
    "    except:\n",
    "        print('Error al obtener los datos.')\n",
    "        return []\n",
    "        \n",
    "    finally:\n",
    "        driver.quit()\n",
    "\n",
    "oil = {}\n",
    "for i in range(1, 161):\n",
    "    url = f'https://skinsort.com/products/products-for-oily-skin/page/{i}'\n",
    "    data = scrap(url)\n",
    "    oil[i] = data\n"
   ]
  },
  {
   "cell_type": "code",
   "execution_count": null,
   "id": "81748975",
   "metadata": {},
   "outputs": [],
   "source": [
    "oil[133] = scrap('https://skinsort.com/products/products-for-oily-skin/page/133')\n"
   ]
  },
  {
   "cell_type": "code",
   "execution_count": null,
   "id": "6b055c29",
   "metadata": {},
   "outputs": [],
   "source": [
    "import json\n",
    "\n",
    "with open('oil.json', 'w') as file:\n",
    "    json.dump(oil, file)\n"
   ]
  },
  {
   "cell_type": "markdown",
   "id": "b82696d5",
   "metadata": {},
   "source": [
    "## SENSITIVE"
   ]
  },
  {
   "cell_type": "code",
   "execution_count": null,
   "id": "7e86b72a",
   "metadata": {},
   "outputs": [],
   "source": [
    "sens = {}\n",
    "for i in range(1, 81):\n",
    "    url = f'https://skinsort.com/products/products-for-sensitive-skin/page/{i}'\n",
    "    data = scrap(url)\n",
    "    sens[i] = data"
   ]
  },
  {
   "cell_type": "code",
   "execution_count": null,
   "id": "fa553ae3",
   "metadata": {},
   "outputs": [],
   "source": [
    "sens[23] = scrap('https://skinsort.com/products/products-for-sensitive-skin/page/23')\n",
    "sens[61] = scrap('https://skinsort.com/products/products-for-sensitive-skin/page/61')\n",
    "sens[76] = scrap('https://skinsort.com/products/products-for-sensitive-skin/page/76')"
   ]
  },
  {
   "cell_type": "code",
   "execution_count": null,
   "id": "97785d92",
   "metadata": {},
   "outputs": [],
   "source": [
    "sens[61] = scrap('https://skinsort.com/products/products-for-sensitive-skin/page/61')"
   ]
  },
  {
   "cell_type": "code",
   "execution_count": null,
   "id": "a23857da",
   "metadata": {},
   "outputs": [],
   "source": [
    "import json\n",
    "\n",
    "with open('sens.json', 'w') as file:\n",
    "    json.dump(sens, file)"
   ]
  },
  {
   "cell_type": "markdown",
   "id": "7d936c8a",
   "metadata": {},
   "source": [
    "## TEXTURE"
   ]
  },
  {
   "cell_type": "code",
   "execution_count": null,
   "id": "77bc13f2",
   "metadata": {},
   "outputs": [],
   "source": [
    "text = {}\n",
    "for i in range(1, 133):\n",
    "    url = f'https://skinsort.com/products/products-for-better-texture/page/{i}'\n",
    "    data = scrap(url)\n",
    "    text[i] = data"
   ]
  },
  {
   "cell_type": "code",
   "execution_count": null,
   "id": "d2389a8d",
   "metadata": {},
   "outputs": [],
   "source": [
    "text[6] = scrap('https://skinsort.com/products/products-for-better-texture/page/6')\n",
    "text[7] = scrap('https://skinsort.com/products/products-for-better-texture/page/7')\n",
    "text[99] = scrap('https://skinsort.com/products/products-for-better-texture/page/99')\n",
    "\n"
   ]
  },
  {
   "cell_type": "code",
   "execution_count": null,
   "id": "0952f539",
   "metadata": {},
   "outputs": [],
   "source": [
    "import json\n",
    "\n",
    "with open('text.json', 'w') as file:\n",
    "    json.dump(text, file)"
   ]
  },
  {
   "cell_type": "markdown",
   "id": "2d7e16cf",
   "metadata": {},
   "source": [
    "## LARGE PORES"
   ]
  },
  {
   "cell_type": "code",
   "execution_count": null,
   "id": "6f6aed04",
   "metadata": {},
   "outputs": [],
   "source": [
    "pores = {}\n",
    "for i in range(1, 192):\n",
    "    url = f'https://skinsort.com/products/products-for-large-pores/page/{i}'\n",
    "    data = scrap(url)\n",
    "    pores[i] = data"
   ]
  },
  {
   "cell_type": "code",
   "execution_count": null,
   "id": "36663b72",
   "metadata": {},
   "outputs": [],
   "source": [
    "pores[5] = scrap('https://skinsort.com/products/products-for-large-pores/page/5')\n",
    "pores[30] = scrap('https://skinsort.com/products/products-for-large-pores/page/30')\n",
    "pores[31] = scrap('https://skinsort.com/products/products-for-large-pores/page/31')\n",
    "pores[49] = scrap('https://skinsort.com/products/products-for-large-pores/page/49')\n",
    "pores[176] = scrap('https://skinsort.com/products/products-for-large-pores/page/176')\n",
    "pores[180] = scrap('https://skinsort.com/products/products-for-large-pores/page/186')"
   ]
  },
  {
   "cell_type": "code",
   "execution_count": null,
   "id": "d8824cfb",
   "metadata": {},
   "outputs": [],
   "source": [
    "import json\n",
    "\n",
    "with open('pores.json', 'w') as file:\n",
    "    json.dump(pores, file)"
   ]
  },
  {
   "cell_type": "markdown",
   "id": "f9f3d0f0",
   "metadata": {},
   "source": [
    "## ANTI-AGING"
   ]
  },
  {
   "cell_type": "code",
   "execution_count": null,
   "id": "605c046b",
   "metadata": {},
   "outputs": [],
   "source": [
    "age = {}\n",
    "for i in range(1, 213):\n",
    "    url = f'https://skinsort.com/products/products-for-anti-aging/page/{i}'\n",
    "    data = scrap(url)\n",
    "    age[i] = data"
   ]
  },
  {
   "cell_type": "code",
   "execution_count": null,
   "id": "6ba83946",
   "metadata": {},
   "outputs": [],
   "source": [
    "age[29] = scrap('https://skinsort.com/products/products-for-anti-aging/page/29')\n",
    "age[38] = scrap('https://skinsort.com/products/products-for-anti-aging/page/38')\n",
    "age[46] = scrap('https://skinsort.com/products/products-for-anti-aging/page/46')\n",
    "age[47] = scrap('https://skinsort.com/products/products-for-anti-aging/page/47')\n",
    "age[48] = scrap('https://skinsort.com/products/products-for-anti-aging/page/48')\n",
    "age[49] = scrap('https://skinsort.com/products/products-for-anti-aging/page/49')\n",
    "age[50] = scrap('https://skinsort.com/products/products-for-anti-aging/page/50')\n",
    "age[61] = scrap('https://skinsort.com/products/products-for-anti-aging/page/61')\n",
    "age[64] = scrap('https://skinsort.com/products/products-for-anti-aging/page/64')\n",
    "age[77] = scrap('https://skinsort.com/products/products-for-anti-aging/page/77')\n",
    "age[78] = scrap('https://skinsort.com/products/products-for-anti-aging/page/78')\n",
    "age[96] = scrap('https://skinsort.com/products/products-for-anti-aging/page/96')\n",
    "age[99] = scrap('https://skinsort.com/products/products-for-anti-aging/page/99')\n",
    "age[114] = scrap('https://skinsort.com/products/products-for-anti-aging/page/114')\n",
    "age[117] = scrap('https://skinsort.com/products/products-for-anti-aging/page/117')\n",
    "age[118] = scrap('https://skinsort.com/products/products-for-anti-aging/page/118')\n",
    "age[121] = scrap('https://skinsort.com/products/products-for-anti-aging/page/121')\n",
    "age[136] = scrap('https://skinsort.com/products/products-for-anti-aging/page/136')\n",
    "age[144] = scrap('https://skinsort.com/products/products-for-anti-aging/page/144')\n",
    "age[145] = scrap('https://skinsort.com/products/products-for-anti-aging/page/145')\n",
    "age[147] = scrap('https://skinsort.com/products/products-for-anti-aging/page/147')\n",
    "age[150] = scrap('https://skinsort.com/products/products-for-anti-aging/page/150')\n",
    "age[160] = scrap('https://skinsort.com/products/products-for-anti-aging/page/160')\n",
    "age[164] = scrap('https://skinsort.com/products/products-for-anti-aging/page/164')"
   ]
  },
  {
   "cell_type": "code",
   "execution_count": null,
   "id": "e438f027",
   "metadata": {},
   "outputs": [],
   "source": [
    "import json\n",
    "\n",
    "with open('age.json', 'w') as file:\n",
    "    json.dump(age, file)"
   ]
  },
  {
   "cell_type": "code",
   "execution_count": null,
   "id": "d4781b0c",
   "metadata": {},
   "outputs": [],
   "source": []
  },
  {
   "cell_type": "code",
   "execution_count": null,
   "id": "4c77df54",
   "metadata": {},
   "outputs": [],
   "source": [
    "spots = {}\n",
    "i = 1\n",
    "while i <= 119:\n",
    "    url = f'https://skinsort.com/products/products-for-dark-spots/page/{i}'\n",
    "    data = scrap(url)\n",
    "    if data:\n",
    "        spots[i] = data\n",
    "        i += 1\n",
    "    else:\n",
    "        print(f'Error al obtener los datos de la página {i}. Volviendo a intentar...')\n"
   ]
  },
  {
   "cell_type": "code",
   "execution_count": null,
   "id": "70fff016",
   "metadata": {},
   "outputs": [],
   "source": [
    "import json\n",
    "\n",
    "with open('spots.json', 'w') as file:\n",
    "    json.dump(spots, file)"
   ]
  },
  {
   "cell_type": "code",
   "execution_count": null,
   "id": "fea7e217",
   "metadata": {},
   "outputs": [],
   "source": []
  },
  {
   "cell_type": "markdown",
   "id": "4fea848a",
   "metadata": {},
   "source": [
    "## SCAR HEALING"
   ]
  },
  {
   "cell_type": "code",
   "execution_count": null,
   "id": "dc3de6fb",
   "metadata": {},
   "outputs": [],
   "source": [
    "scar = {}\n",
    "i = 1\n",
    "while i <= 111:\n",
    "    url = f'https://skinsort.com/products/products-for-scar-healing/page/{i}'\n",
    "    data = scrap(url)\n",
    "    if data:\n",
    "        scar[i] = data\n",
    "        i += 1\n",
    "    else:\n",
    "        print(f'Error al obtener los datos de la página {i}. Volviendo a intentar...')"
   ]
  },
  {
   "cell_type": "code",
   "execution_count": null,
   "id": "bed1192a",
   "metadata": {},
   "outputs": [],
   "source": [
    "import json\n",
    "\n",
    "with open('scar.json', 'w') as file:\n",
    "    json.dump(scar, file)"
   ]
  },
  {
   "cell_type": "markdown",
   "id": "2e0c08ca",
   "metadata": {},
   "source": [
    "## ACNE"
   ]
  },
  {
   "cell_type": "code",
   "execution_count": null,
   "id": "c9366e40",
   "metadata": {},
   "outputs": [],
   "source": [
    "acne = {}\n",
    "i = 1\n",
    "while i <= 126:\n",
    "    url = f'https://skinsort.com/products/products-for-acne/page/{i}'\n",
    "    data = scrap(url)\n",
    "    if data:\n",
    "        acne[i] = data\n",
    "        i += 1\n",
    "    else:\n",
    "        print(f'Error al obtener los datos de la página {i}. Volviendo a intentar...')"
   ]
  },
  {
   "cell_type": "code",
   "execution_count": null,
   "id": "76ecd7e1",
   "metadata": {},
   "outputs": [],
   "source": [
    "import json\n",
    "\n",
    "with open('acne.json', 'w') as file:\n",
    "    json.dump(acne, file)"
   ]
  },
  {
   "cell_type": "markdown",
   "id": "ba6c38f4",
   "metadata": {},
   "source": [
    "## BRIGHTENING"
   ]
  },
  {
   "cell_type": "code",
   "execution_count": null,
   "id": "435bdce5",
   "metadata": {},
   "outputs": [],
   "source": [
    "bright = {}\n",
    "i = 1\n",
    "while i <= 306:\n",
    "    url = f'https://skinsort.com/products/products-for-brightening-skin/page/{i}'\n",
    "    data = scrap(url)\n",
    "    if data:\n",
    "        bright[i] = data\n",
    "        i += 1\n",
    "    else:\n",
    "        print(f'Error al obtener los datos de la página {i}. Volviendo a intentar...')"
   ]
  },
  {
   "cell_type": "code",
   "execution_count": null,
   "id": "39190f10",
   "metadata": {},
   "outputs": [],
   "source": [
    "import json\n",
    "\n",
    "with open('bright.json', 'w') as file:\n",
    "    json.dump(bright, file)"
   ]
  },
  {
   "cell_type": "code",
   "execution_count": null,
   "id": "152d377f",
   "metadata": {},
   "outputs": [],
   "source": []
  },
  {
   "cell_type": "code",
   "execution_count": null,
   "id": "d50599c5",
   "metadata": {},
   "outputs": [],
   "source": []
  },
  {
   "cell_type": "code",
   "execution_count": null,
   "id": "0bda05b1",
   "metadata": {},
   "outputs": [],
   "source": []
  },
  {
   "cell_type": "code",
   "execution_count": null,
   "id": "9c484563",
   "metadata": {},
   "outputs": [],
   "source": []
  },
  {
   "cell_type": "code",
   "execution_count": null,
   "id": "2298d082",
   "metadata": {},
   "outputs": [],
   "source": []
  },
  {
   "cell_type": "code",
   "execution_count": null,
   "id": "94ba6b3e",
   "metadata": {},
   "outputs": [],
   "source": [
    "dict1[6] = scrap('https://skinsort.com/products//page/6')\n",
    "dict1[18] = scrap('https://skinsort.com/products//page/18')\n",
    "dict1[81] = scrap('https://skinsort.com/products//page/81')"
   ]
  },
  {
   "cell_type": "code",
   "execution_count": null,
   "id": "60e23434",
   "metadata": {},
   "outputs": [],
   "source": [
    "import json\n",
    "\n",
    "with open('datos_scrapeados1.json', 'w') as file:\n",
    "    json.dump(dict1, file)"
   ]
  },
  {
   "cell_type": "code",
   "execution_count": null,
   "id": "4b613f01",
   "metadata": {},
   "outputs": [],
   "source": []
  },
  {
   "cell_type": "code",
   "execution_count": null,
   "id": "74bd9627",
   "metadata": {},
   "outputs": [],
   "source": [
    "dict2={}\n",
    "for i in range(100, 200):\n",
    "    dict2[i] = scrap(f'https://skinsort.com/products//page/{i}')"
   ]
  },
  {
   "cell_type": "code",
   "execution_count": null,
   "id": "41e19863",
   "metadata": {},
   "outputs": [],
   "source": [
    "dict2[101] = scrap('https://skinsort.com/products//page/101')\n",
    "dict2[132] = scrap('https://skinsort.com/products//page/132')\n",
    "dict2[135] = scrap('https://skinsort.com/products//page/35')\n",
    "dict2[141] = scrap('https://skinsort.com/products//page/141')\n",
    "dict2[145] = scrap('https://skinsort.com/products//page/145')\n",
    "dict2[174] = scrap('https://skinsort.com/products//page/174')\n",
    "dict2[197] = scrap('https://skinsort.com/products//page/197')"
   ]
  },
  {
   "cell_type": "code",
   "execution_count": null,
   "id": "0f97c2e2",
   "metadata": {},
   "outputs": [],
   "source": []
  },
  {
   "cell_type": "code",
   "execution_count": null,
   "id": "a9aee97a",
   "metadata": {},
   "outputs": [],
   "source": [
    "\n",
    "with open('datos_scrapeados2.json', 'w') as file:\n",
    "    json.dump(dict2, file)"
   ]
  },
  {
   "cell_type": "code",
   "execution_count": null,
   "id": "3925f017",
   "metadata": {},
   "outputs": [],
   "source": [
    "dict3={}\n",
    "for i in range(200, 300):\n",
    "    dict3[i] = scrap(f'https://skinsort.com/products//page/{i}')"
   ]
  },
  {
   "cell_type": "code",
   "execution_count": null,
   "id": "cf42da77",
   "metadata": {},
   "outputs": [],
   "source": [
    "dict3[228] = scrap('https://skinsort.com/products//page/228')\n",
    "dict3[243] = scrap('https://skinsort.com/products//page/243')\n",
    "dict3[247] = scrap('https://skinsort.com/products//page/247')\n",
    "dict3[255] = scrap('https://skinsort.com/products//page/255')\n",
    "dict3[263] = scrap('https://skinsort.com/products//page/263')\n",
    "dict3[292] = scrap('https://skinsort.com/products//page/292')\n",
    "dict3[297] = scrap('https://skinsort.com/products//page/297')"
   ]
  },
  {
   "cell_type": "code",
   "execution_count": null,
   "id": "b1e78017",
   "metadata": {},
   "outputs": [],
   "source": [
    "with open('datos_scrapeados3.json', 'w') as file:\n",
    "    json.dump(dict3, file)"
   ]
  },
  {
   "cell_type": "code",
   "execution_count": null,
   "id": "0d489c1b",
   "metadata": {},
   "outputs": [],
   "source": [
    "dict4={}\n",
    "for i in range(300, 400):\n",
    "    dict4[i] = scrap(f'https://skinsort.com/products//page/{i}')"
   ]
  },
  {
   "cell_type": "code",
   "execution_count": null,
   "id": "6eea710d",
   "metadata": {},
   "outputs": [],
   "source": [
    "dict4[317] = scrap('https://skinsort.com/products//page/317')\n",
    "dict4[321] = scrap('https://skinsort.com/products//page/321')\n",
    "dict4[325] = scrap('https://skinsort.com/products//page/325')\n",
    "dict4[347] = scrap('https://skinsort.com/products//page/347')\n",
    "dict4[365] = scrap('https://skinsort.com/products//page/365')"
   ]
  },
  {
   "cell_type": "code",
   "execution_count": null,
   "id": "8b73a53f",
   "metadata": {},
   "outputs": [],
   "source": [
    "with open('datos_scrapeados4.json', 'w') as file:\n",
    "    json.dump(dict4, file)"
   ]
  },
  {
   "cell_type": "code",
   "execution_count": null,
   "id": "4f6e0f70",
   "metadata": {},
   "outputs": [],
   "source": [
    "dict5={}\n",
    "for i in range(400, 474):\n",
    "    dict5[i] = scrap(f'https://skinsort.com/products//page/{i}')"
   ]
  },
  {
   "cell_type": "code",
   "execution_count": null,
   "id": "3ecaa8b7",
   "metadata": {},
   "outputs": [],
   "source": [
    "dict5[405] = scrap('https://skinsort.com/products//page/405')\n",
    "dict5[462] = scrap('https://skinsort.com/products//page/462')"
   ]
  },
  {
   "cell_type": "code",
   "execution_count": null,
   "id": "2049afad",
   "metadata": {},
   "outputs": [],
   "source": [
    "with open('datos_scrapeados5.json', 'w') as file:\n",
    "    json.dump(dict5, file)"
   ]
  },
  {
   "cell_type": "code",
   "execution_count": null,
   "id": "94557db6",
   "metadata": {},
   "outputs": [],
   "source": [
    "'''\n",
    "def procesar_producto(producto):\n",
    "    columnas = ['Nombre', 'Marca', 'Ingredientes', 'Cantidad', 'Descripción', 'Precio']\n",
    "    valores = dict(zip(columnas, producto))\n",
    "    return valores\n",
    "\n",
    "# Ejemplo de lista con productos\n",
    "lista_productos = [['Facial Treatment', 'The Ordinary', 'Niacinamide 10% + Zinc 1%', '(20)', 'vegan and cruelty-free facial treatment that contains niacinamide.', '$6.00 at Ulta'],\n",
    "                   ['Hyaluronic Acid 2% + B5', 'The Ordinary', 'Hyaluronic Acid, Vitamin B5', '(30)', 'An ultra-lightweight serum that hydrates and plumps skin, leaving it looking healthier and more radiant. Suitable for all skin types. Free of alcohol, oil, and silicone.', '$6.80 at Ulta'],\n",
    "                   ['Daily Facial Moisturizer SPF 30', 'CeraVe', 'Niacinamide, Ceramides', '(2.5 fl oz)', 'A lightweight, oil-free moisturizer with SPF 30 that hydrates and protects the skin barrier. Ideal for normal to oily skin types. Free of fragrance and oil.', '$15.99 at Ulta']]\n",
    "\n",
    "# Aplicar la función a cada producto en la lista\n",
    "productos_procesados = list(map(procesar_producto, lista_productos))\n",
    "\n",
    "# Crear un dataframe a partir de la lista de productos procesados\n",
    "df = pd.DataFrame(productos_procesados)\n",
    "\n",
    "print(df)\n",
    "\n",
    "'''"
   ]
  },
  {
   "cell_type": "code",
   "execution_count": null,
   "id": "59cdae18",
   "metadata": {},
   "outputs": [],
   "source": []
  }
 ],
 "metadata": {
  "kernelspec": {
   "display_name": "Python 3 (ipykernel)",
   "language": "python",
   "name": "python3"
  },
  "language_info": {
   "codemirror_mode": {
    "name": "ipython",
    "version": 3
   },
   "file_extension": ".py",
   "mimetype": "text/x-python",
   "name": "python",
   "nbconvert_exporter": "python",
   "pygments_lexer": "ipython3",
   "version": "3.9.13"
  }
 },
 "nbformat": 4,
 "nbformat_minor": 5
}
