{
 "cells": [
  {
   "cell_type": "code",
   "execution_count": null,
   "id": "5177cf81",
   "metadata": {},
   "outputs": [],
   "source": [
    "import pandas as pd\n",
    "import numpy as np\n",
    "import json\n",
    "import warnings\n",
    "warnings.filterwarnings(\"ignore\")"
   ]
  },
  {
   "cell_type": "markdown",
   "id": "e4c713df",
   "metadata": {},
   "source": [
    "### 1. Carga de los datos."
   ]
  },
  {
   "cell_type": "markdown",
   "id": "fa3bf329",
   "metadata": {},
   "source": [
    "**1.1. Cargamos todos los archivos json que hemos recopilado tras el web scraping.**"
   ]
  },
  {
   "cell_type": "code",
   "execution_count": null,
   "id": "c644c7dc",
   "metadata": {},
   "outputs": [],
   "source": [
    "with open('dry.json', 'r') as f:\n",
    "    dry= f.read()\n",
    "with open('oil.json', 'r') as f:\n",
    "    oil= f.read()\n",
    "with open('acne.json', 'r') as f:\n",
    "    acne= f.read()\n",
    "with open('age.json', 'r') as f:\n",
    "    age= f.read()\n",
    "with open('brig.json', 'r') as f:\n",
    "    bright= f.read()\n",
    "with open('pores.json', 'r') as f:\n",
    "    pores= f.read()\n",
    "with open('scar.json', 'r') as f:\n",
    "    scar= f.read()\n",
    "with open('sensitive.json', 'r') as f:\n",
    "    sens= f.read()\n",
    "with open('spots.json', 'r') as f:\n",
    "    spots= f.read()\n",
    "with open('texture.json', 'r') as f:\n",
    "    text= f.read()"
   ]
  },
  {
   "cell_type": "code",
   "execution_count": null,
   "id": "a4556cc4",
   "metadata": {},
   "outputs": [],
   "source": [
    "dry = json.loads(dry)\n",
    "oil = json.loads(oil)\n",
    "acne = json.loads(acne)\n",
    "age = json.loads(age)\n",
    "bright = json.loads(bright)\n",
    "pores = json.loads(pores)\n",
    "scar = json.loads(scar)\n",
    "sens = json.loads(sens)\n",
    "spots = json.loads(spots)\n",
    "text = json.loads(text)"
   ]
  },
  {
   "cell_type": "markdown",
   "id": "e9c830ec",
   "metadata": {},
   "source": [
    "En este caso, tenemos 61 keys, es decir 61 paginas, en cada una de ellas tenemos 3 tipos de datos: tipo de porducto, marca del producto, y el nombre, con un total de 30 productos cada uno.\n",
    "Por tanto, key[0] sería el tipo, key[1] la marca y key[2] es el nombre del porducto."
   ]
  },
  {
   "cell_type": "code",
   "execution_count": null,
   "id": "edd88150",
   "metadata": {},
   "outputs": [],
   "source": [
    "#Extraemos cada porducto según su key.\n",
    "dry_keys = dry.keys()\n",
    "tipo = []\n",
    "marca = []\n",
    "nombre = []\n",
    "\n",
    "for key in dry_keys:\n",
    "   \n",
    "        tipo.append(dry[key][0])\n",
    "\n",
    "        marca.append(dry[key][1])\n",
    "  \n",
    "        nombre.append(dry[key][2])\n",
    "\n",
    "\n"
   ]
  },
  {
   "cell_type": "code",
   "execution_count": null,
   "id": "c463966c",
   "metadata": {},
   "outputs": [],
   "source": [
    "tipos=[]\n",
    "for i in tipo:\n",
    "    for e in i:\n",
    "        tipos.append(e)\n",
    "\n",
    "marcas=[]\n",
    "for i in marca:\n",
    "    for e in i:\n",
    "        marcas.append(e)\n",
    "\n",
    "nombres=[]        \n",
    "for i in nombre:\n",
    "    for e in i:\n",
    "        nombres.append(e)"
   ]
  },
  {
   "cell_type": "code",
   "execution_count": null,
   "id": "def13e92",
   "metadata": {},
   "outputs": [],
   "source": [
    "def obtener_listados(d):\n",
    "    tipo = []\n",
    "    marca = []\n",
    "    nombre = []\n",
    "    \n",
    "    for key in d.keys():\n",
    "        tipo.append(d[key][0])\n",
    "        marca.append(d[key][1])\n",
    "        nombre.append(d[key][2])\n",
    "        \n",
    "    tipos = [e for i in tipo for e in i]\n",
    "    marcas = [e for i in marca for e in i]\n",
    "    nombres = [e for i in nombre for e in i]\n",
    "    \n",
    "    return tipos, marcas, nombres\n"
   ]
  },
  {
   "cell_type": "code",
   "execution_count": null,
   "id": "7b4c03d2",
   "metadata": {},
   "outputs": [],
   "source": [
    "dry_tipos, dry_marcas, dry_nombres = obtener_listados(dry)"
   ]
  },
  {
   "cell_type": "markdown",
   "id": "a0531f1f",
   "metadata": {},
   "source": [
    "**1.2 Creación del dataframe por tipo de piel.**"
   ]
  },
  {
   "cell_type": "code",
   "execution_count": null,
   "id": "a42f54aa",
   "metadata": {},
   "outputs": [],
   "source": [
    "data2 = {'Type': dry_tipos, 'Brand': dry_marcas, 'Name': dry_nombres}\n",
    "dry = pd.DataFrame(data2)\n",
    "dry['Skin'] = ['dry'] * len(dry.index)"
   ]
  },
  {
   "cell_type": "code",
   "execution_count": null,
   "id": "d9c8272a",
   "metadata": {},
   "outputs": [],
   "source": [
    "tipos=[]\n",
    "marcas=[]\n",
    "nombres=[]\n",
    "\n",
    "for lista in oil:\n",
    "    marcas.extend(lista[1])\n",
    "    nombres.extend(lista[2])"
   ]
  },
  {
   "cell_type": "code",
   "execution_count": null,
   "id": "ac892f48",
   "metadata": {},
   "outputs": [],
   "source": [
    "data = {'Type': tipos, 'Brand': marcas, 'Name': nombres}\n",
    "oil = pd.DataFrame(data)\n",
    "oil['Skin'] = ['oil'] * len(oil.index)"
   ]
  },
  {
   "cell_type": "code",
   "execution_count": null,
   "id": "f04b4f11",
   "metadata": {},
   "outputs": [],
   "source": [
    "total = pd.concat([dry,oil], axis=0)"
   ]
  },
  {
   "cell_type": "code",
   "execution_count": null,
   "id": "f4f2ec43",
   "metadata": {},
   "outputs": [],
   "source": [
    "def obtener_listados(lista):\n",
    "    tipos = []\n",
    "    marcas = []\n",
    "    nombres = []\n",
    "    \n",
    "    for elemento in lista:\n",
    "        tipos.extend(elemento[0])\n",
    "        marcas.extend(elemento[1])\n",
    "        nombres.extend(elemento[2])\n",
    "        \n",
    "    return tipos, marcas, nombres\n",
    "\n",
    "tipos1, marcas1, nombres1 = obtener_listados(acne)\n",
    "tipos2, marcas2, nombres2 = obtener_listados(age)\n",
    "tipos3, marcas3, nombres3 = obtener_listados(bright)\n",
    "tipos4, marcas4, nombres4 = obtener_listados(pores)\n",
    "tipos5, marcas5, nombres5 = obtener_listados(scar)\n",
    "tipos6, marcas6, nombres6 = obtener_listados(sens)\n",
    "tipos7, marcas7, nombres7 = obtener_listados(spots)\n",
    "tipos8, marcas8, nombres8 = obtener_listados(text)\n"
   ]
  },
  {
   "cell_type": "code",
   "execution_count": null,
   "id": "0e9ea31a",
   "metadata": {},
   "outputs": [],
   "source": [
    "data3 = {'Type': tipos1, 'Brand': marcas1, 'Name': nombres1}\n",
    "acne = pd.DataFrame(data3)\n",
    "acne['Skin'] = ['acne'] * len(acne.index)"
   ]
  },
  {
   "cell_type": "code",
   "execution_count": null,
   "id": "4ccb2d4a",
   "metadata": {},
   "outputs": [],
   "source": [
    "data4 = {'Type': tipos2, 'Brand': marcas2, 'Name': nombres2}\n",
    "age = pd.DataFrame(data4)\n",
    "age['Skin'] = ['age'] * len(age.index)"
   ]
  },
  {
   "cell_type": "code",
   "execution_count": null,
   "id": "cef99d09",
   "metadata": {},
   "outputs": [],
   "source": [
    "data5 = {'Type': tipos3, 'Brand': marcas3, 'Name': nombres3}\n",
    "bright= pd.DataFrame(data5)\n",
    "bright['Skin'] = ['brightening'] * len(bright.index)"
   ]
  },
  {
   "cell_type": "code",
   "execution_count": null,
   "id": "1c834699",
   "metadata": {},
   "outputs": [],
   "source": [
    "data6 = {'Type': tipos4, 'Brand': marcas4, 'Name': nombres4}\n",
    "pores= pd.DataFrame(data6)\n",
    "pores['Skin'] = ['large pores'] * len(pores.index)"
   ]
  },
  {
   "cell_type": "code",
   "execution_count": null,
   "id": "0b308614",
   "metadata": {},
   "outputs": [],
   "source": [
    "data7 = {'Type': tipos5, 'Brand': marcas5, 'Name': nombres5}\n",
    "scar= pd.DataFrame(data7)\n",
    "scar['Skin'] = ['scar healing'] * len(scar.index)"
   ]
  },
  {
   "cell_type": "code",
   "execution_count": null,
   "id": "abb836bb",
   "metadata": {},
   "outputs": [],
   "source": [
    "data8 = {'Type': tipos6, 'Brand': marcas6, 'Name': nombres6}\n",
    "sens= pd.DataFrame(data8)\n",
    "sens['Skin'] = ['sensitive'] * len(sens.index)"
   ]
  },
  {
   "cell_type": "code",
   "execution_count": null,
   "id": "a924cbca",
   "metadata": {},
   "outputs": [],
   "source": [
    "data9 = {'Type': tipos7, 'Brand': marcas7, 'Name': nombres7}\n",
    "spots= pd.DataFrame(data9)\n",
    "spots['Skin'] = ['dark spots'] * len(spots.index)"
   ]
  },
  {
   "cell_type": "code",
   "execution_count": null,
   "id": "d58d7e7f",
   "metadata": {},
   "outputs": [],
   "source": [
    "dataa = {'Type': tipos8, 'Brand': marcas8, 'Name': nombres8}\n",
    "text= pd.DataFrame(dataa)\n",
    "text['Skin'] = ['texture'] * len(text.index)"
   ]
  },
  {
   "cell_type": "markdown",
   "id": "71726de6",
   "metadata": {},
   "source": [
    "**1.3 Concatenamos todos los datos para obtener el dataframe final.**"
   ]
  },
  {
   "cell_type": "code",
   "execution_count": null,
   "id": "9154c748",
   "metadata": {},
   "outputs": [],
   "source": [
    "skincare = pd.concat([total, acne, age, bright, pores, scar, sens, spots, text], axis=0)"
   ]
  },
  {
   "cell_type": "code",
   "execution_count": null,
   "id": "733d903a",
   "metadata": {},
   "outputs": [],
   "source": [
    "skincare = skincare.reset_index(drop=True)"
   ]
  },
  {
   "cell_type": "markdown",
   "id": "f4f68b76",
   "metadata": {},
   "source": [
    "### 2. Limpieza de los datos."
   ]
  },
  {
   "cell_type": "markdown",
   "id": "6fe86ea6",
   "metadata": {},
   "source": [
    "**2.1 Exploración de los datos.**"
   ]
  },
  {
   "cell_type": "code",
   "execution_count": null,
   "id": "f0f62c88",
   "metadata": {},
   "outputs": [],
   "source": [
    "skincare.Brand.value_counts()"
   ]
  },
  {
   "cell_type": "code",
   "execution_count": null,
   "id": "699102f8",
   "metadata": {},
   "outputs": [],
   "source": [
    "skincare.info()"
   ]
  },
  {
   "cell_type": "code",
   "execution_count": null,
   "id": "5b171ef0",
   "metadata": {},
   "outputs": [],
   "source": [
    "skincare.duplicated().any()"
   ]
  },
  {
   "cell_type": "code",
   "execution_count": null,
   "id": "1ce001d5",
   "metadata": {},
   "outputs": [],
   "source": [
    "skincare = skincare.drop_duplicates()"
   ]
  },
  {
   "cell_type": "code",
   "execution_count": null,
   "id": "91660d96",
   "metadata": {},
   "outputs": [],
   "source": [
    "skincare.info()"
   ]
  },
  {
   "cell_type": "markdown",
   "id": "52fbc5e7",
   "metadata": {},
   "source": [
    "**2.2 Limpieza por columnas.**"
   ]
  },
  {
   "cell_type": "code",
   "execution_count": null,
   "id": "f713c481",
   "metadata": {},
   "outputs": [],
   "source": [
    "skincare[skincare['Type']== 'Sunscreen\\n30 SPF']"
   ]
  },
  {
   "cell_type": "code",
   "execution_count": null,
   "id": "5d8e965a",
   "metadata": {},
   "outputs": [],
   "source": [
    "skincare.Type.unique()"
   ]
  },
  {
   "cell_type": "code",
   "execution_count": null,
   "id": "dc055dcd",
   "metadata": {},
   "outputs": [],
   "source": [
    "skincare['Type'] = skincare['Type'].str.replace('\\n', ' ').str.strip()\n"
   ]
  },
  {
   "cell_type": "code",
   "execution_count": null,
   "id": "968d34c1",
   "metadata": {},
   "outputs": [],
   "source": [
    "skincare.Type.unique()"
   ]
  },
  {
   "cell_type": "code",
   "execution_count": null,
   "id": "34b256cc",
   "metadata": {},
   "outputs": [],
   "source": [
    "skincare['Type'] = skincare['Type'].str.replace(r'\\d+ SPF', '')\n"
   ]
  },
  {
   "cell_type": "code",
   "execution_count": null,
   "id": "e96beacc",
   "metadata": {},
   "outputs": [],
   "source": [
    "skincare.Type.unique()"
   ]
  },
  {
   "cell_type": "code",
   "execution_count": null,
   "id": "46117c96",
   "metadata": {},
   "outputs": [],
   "source": [
    "skincare = skincare.loc[skincare['Type'] != '']\n"
   ]
  },
  {
   "cell_type": "code",
   "execution_count": null,
   "id": "983cf1a8",
   "metadata": {},
   "outputs": [],
   "source": [
    "skincare['Type'] = skincare['Type'].str.strip()"
   ]
  },
  {
   "cell_type": "code",
   "execution_count": null,
   "id": "54c516cb",
   "metadata": {},
   "outputs": [],
   "source": [
    "skincare.Type.value_counts()"
   ]
  },
  {
   "cell_type": "markdown",
   "id": "3f053c39",
   "metadata": {},
   "source": [
    "**2.3 Eliminamos aquellos productos que no son específicos del cuidado facial.**"
   ]
  },
  {
   "cell_type": "code",
   "execution_count": null,
   "id": "aa70bf88",
   "metadata": {},
   "outputs": [],
   "source": [
    "indices = skincare.index[skincare['Type'].isin(['Other Haircare', 'Shampoo', 'Lip Makeup', 'Tanning', 'Conditioner', 'Cheek Makeup', 'Hand Care', 'Nail Care', 'Tool', 'Fragrance', 'False Eyelash', 'Makeup Applicator', 'Eye Makeup'])]"
   ]
  },
  {
   "cell_type": "code",
   "execution_count": null,
   "id": "494f1407",
   "metadata": {},
   "outputs": [],
   "source": [
    "skincare = skincare.drop(indices)"
   ]
  },
  {
   "cell_type": "code",
   "execution_count": null,
   "id": "05ffc099",
   "metadata": {},
   "outputs": [],
   "source": [
    "skincare.Type.value_counts()"
   ]
  },
  {
   "cell_type": "code",
   "execution_count": null,
   "id": "41d61c0e",
   "metadata": {},
   "outputs": [],
   "source": [
    "skincare.Name.unique()[:20]"
   ]
  },
  {
   "cell_type": "code",
   "execution_count": null,
   "id": "fe067bdf",
   "metadata": {},
   "outputs": [],
   "source": [
    "skincare.Brand.value_counts()[:100]"
   ]
  },
  {
   "cell_type": "markdown",
   "id": "d5cf57ee",
   "metadata": {},
   "source": [
    "Vamos a eliminar todas aquellas marcas que tengan menos de 50 productos , para quedarnos con las marcas que sean más conocidas."
   ]
  },
  {
   "cell_type": "code",
   "execution_count": null,
   "id": "b19ac437",
   "metadata": {},
   "outputs": [],
   "source": [
    "skincare= skincare.groupby('Brand').filter(lambda x: len(x) >= 50)\n"
   ]
  },
  {
   "cell_type": "code",
   "execution_count": null,
   "id": "d8b67644",
   "metadata": {},
   "outputs": [],
   "source": [
    "skincare.Brand.value_counts()"
   ]
  },
  {
   "cell_type": "code",
   "execution_count": null,
   "id": "21f74149",
   "metadata": {},
   "outputs": [],
   "source": [
    "skincare.info()\n"
   ]
  },
  {
   "cell_type": "code",
   "execution_count": null,
   "id": "646935c8",
   "metadata": {},
   "outputs": [],
   "source": [
    "skincare = skincare.reset_index(drop=True)"
   ]
  },
  {
   "cell_type": "code",
   "execution_count": null,
   "id": "06d73174",
   "metadata": {},
   "outputs": [],
   "source": [
    "skincare.head()"
   ]
  },
  {
   "cell_type": "code",
   "execution_count": null,
   "id": "8bee99c2",
   "metadata": {},
   "outputs": [],
   "source": [
    "skincare['Producto'] = skincare['Brand'] + ' ' + skincare['Name']"
   ]
  },
  {
   "cell_type": "code",
   "execution_count": null,
   "id": "c5808f72",
   "metadata": {},
   "outputs": [],
   "source": [
    "skincare.head()"
   ]
  },
  {
   "cell_type": "code",
   "execution_count": null,
   "id": "a26f3dcf",
   "metadata": {},
   "outputs": [],
   "source": [
    "skincare.Producto.value_counts()[:250]"
   ]
  },
  {
   "cell_type": "code",
   "execution_count": null,
   "id": "f88a6aa7",
   "metadata": {},
   "outputs": [],
   "source": [
    "skincare.Brand.value_counts()"
   ]
  },
  {
   "cell_type": "code",
   "execution_count": null,
   "id": "da989221",
   "metadata": {},
   "outputs": [],
   "source": [
    "len(skincare.Producto.unique())"
   ]
  },
  {
   "cell_type": "markdown",
   "id": "6e2d1b6f",
   "metadata": {},
   "source": [
    "Filtramos para obtener aquellos productos que se repitan más de 5 veces."
   ]
  },
  {
   "cell_type": "code",
   "execution_count": null,
   "id": "c75add41",
   "metadata": {},
   "outputs": [],
   "source": [
    "skincare= skincare.groupby('Producto').filter(lambda x: len(x) >= 5)"
   ]
  },
  {
   "cell_type": "code",
   "execution_count": null,
   "id": "7882cfec",
   "metadata": {},
   "outputs": [],
   "source": [
    "skincare.Producto.value_counts()"
   ]
  },
  {
   "cell_type": "code",
   "execution_count": null,
   "id": "7c18a6cc",
   "metadata": {},
   "outputs": [],
   "source": [
    "skincare.Type.value_counts()"
   ]
  },
  {
   "cell_type": "markdown",
   "id": "e35cde51",
   "metadata": {},
   "source": [
    "Nos quedamos con las columnas que tienen más importancia para una buena rutina de skincare"
   ]
  },
  {
   "cell_type": "code",
   "execution_count": null,
   "id": "4fd7a95d",
   "metadata": {},
   "outputs": [],
   "source": [
    "categories = ['Serum', 'General Moisturizer', 'Face Cleanser', 'Eye Moisturizer', 'Toner', 'Facial Treatment', 'Sunscreen', 'Night Moisturizer', 'Day Moisturizer']\n"
   ]
  },
  {
   "cell_type": "markdown",
   "id": "de872d63",
   "metadata": {},
   "source": [
    "Guardamos los productos que nos interesan para poder scrapear las reviwes de cada uno de ellos."
   ]
  },
  {
   "cell_type": "code",
   "execution_count": null,
   "id": "abc50699",
   "metadata": {},
   "outputs": [],
   "source": [
    "skincare = skincare[skincare['Type'].isin(categories)]"
   ]
  },
  {
   "cell_type": "code",
   "execution_count": null,
   "id": "809feac3",
   "metadata": {},
   "outputs": [],
   "source": [
    "productos= list(skincare.Producto.unique())"
   ]
  },
  {
   "cell_type": "code",
   "execution_count": null,
   "id": "8c675384",
   "metadata": {},
   "outputs": [],
   "source": [
    "with open('productos.txt', 'w') as file:\n",
    "    for producto in productos:\n",
    "        file.write(producto + '\\n')\n"
   ]
  },
  {
   "cell_type": "markdown",
   "id": "0fca5ab0",
   "metadata": {},
   "source": [
    "### 3. Cargamos los datos de las reviews scrapeadas."
   ]
  },
  {
   "cell_type": "code",
   "execution_count": null,
   "id": "edbf7924",
   "metadata": {},
   "outputs": [],
   "source": [
    "with open('review.json', 'r') as f:\n",
    "    rev= f.read()"
   ]
  },
  {
   "cell_type": "code",
   "execution_count": null,
   "id": "37c0720d",
   "metadata": {},
   "outputs": [],
   "source": [
    "reviews= json.loads(rev)"
   ]
  },
  {
   "cell_type": "code",
   "execution_count": null,
   "id": "d4036d02",
   "metadata": {},
   "outputs": [],
   "source": [
    "rev = pd.DataFrame(reviews)"
   ]
  },
  {
   "cell_type": "markdown",
   "id": "291765e0",
   "metadata": {},
   "source": [
    "**3.1 Exploración y creación del nuevo dataframe.**"
   ]
  },
  {
   "cell_type": "code",
   "execution_count": null,
   "id": "4e0c08be",
   "metadata": {},
   "outputs": [],
   "source": [
    "rev.info()\n"
   ]
  },
  {
   "cell_type": "code",
   "execution_count": null,
   "id": "128a2256",
   "metadata": {},
   "outputs": [],
   "source": [
    "skincare.info()"
   ]
  },
  {
   "cell_type": "code",
   "execution_count": null,
   "id": "7bdeb037",
   "metadata": {},
   "outputs": [],
   "source": [
    "total = pd.merge(rev , skincare, on ='Producto')"
   ]
  },
  {
   "cell_type": "code",
   "execution_count": null,
   "id": "fa301743",
   "metadata": {},
   "outputs": [],
   "source": [
    "total.duplicated().any()"
   ]
  },
  {
   "cell_type": "code",
   "execution_count": null,
   "id": "3e64a2a1",
   "metadata": {},
   "outputs": [],
   "source": [
    "total = total.drop(['Producto', 'Nombre encontrado'], axis=1)\n"
   ]
  },
  {
   "cell_type": "code",
   "execution_count": null,
   "id": "4338a01e",
   "metadata": {},
   "outputs": [],
   "source": [
    "total.head()"
   ]
  },
  {
   "cell_type": "markdown",
   "id": "75506049",
   "metadata": {},
   "source": [
    "**3.2 Limpieza del dataframe reviews.**"
   ]
  },
  {
   "cell_type": "code",
   "execution_count": null,
   "id": "cf9c04e4",
   "metadata": {},
   "outputs": [],
   "source": [
    "total['Reseñas'] = total['Reseñas'].str.replace('[()]', '')"
   ]
  },
  {
   "cell_type": "code",
   "execution_count": null,
   "id": "2cd1ac26",
   "metadata": {},
   "outputs": [],
   "source": [
    "total['Nota'] = total['Nota'].astype(float)"
   ]
  },
  {
   "cell_type": "code",
   "execution_count": null,
   "id": "8684c722",
   "metadata": {},
   "outputs": [],
   "source": [
    "total.info()"
   ]
  },
  {
   "cell_type": "code",
   "execution_count": null,
   "id": "9777a906",
   "metadata": {},
   "outputs": [],
   "source": [
    "total.dropna(inplace=True)"
   ]
  },
  {
   "cell_type": "code",
   "execution_count": null,
   "id": "0b44dba8",
   "metadata": {},
   "outputs": [],
   "source": [
    "total.info()"
   ]
  },
  {
   "cell_type": "code",
   "execution_count": null,
   "id": "e65418fe",
   "metadata": {},
   "outputs": [],
   "source": [
    "total.Type.unique()"
   ]
  },
  {
   "cell_type": "code",
   "execution_count": null,
   "id": "c1bbfd24",
   "metadata": {},
   "outputs": [],
   "source": [
    "# Definimos el nuevo orden de las columnas\n",
    "\n",
    "new_order = ['Type', 'Name', 'Brand', 'Skin', 'Nota', 'Reseñas']\n",
    "total = total.reindex(columns=new_order)"
   ]
  },
  {
   "cell_type": "code",
   "execution_count": null,
   "id": "3466a5fc",
   "metadata": {},
   "outputs": [],
   "source": [
    "total.head()"
   ]
  },
  {
   "cell_type": "code",
   "execution_count": null,
   "id": "aa4cb593",
   "metadata": {},
   "outputs": [],
   "source": [
    "total= total.rename(columns={'Nota': 'Rating', 'Reseñas': 'Reviews'})"
   ]
  },
  {
   "cell_type": "code",
   "execution_count": null,
   "id": "d8a1714a",
   "metadata": {},
   "outputs": [],
   "source": [
    "total.head()"
   ]
  },
  {
   "cell_type": "code",
   "execution_count": null,
   "id": "34bd4cd0",
   "metadata": {},
   "outputs": [],
   "source": [
    "total['Reviews'] = total['Reviews'].str.replace('.', '')"
   ]
  },
  {
   "cell_type": "code",
   "execution_count": null,
   "id": "c9398c0a",
   "metadata": {},
   "outputs": [],
   "source": [
    "total.Reviews.unique()"
   ]
  },
  {
   "cell_type": "code",
   "execution_count": null,
   "id": "06e6e0f2",
   "metadata": {},
   "outputs": [],
   "source": [
    "total['Reviews'] = total['Reviews'].str.replace(',', '')"
   ]
  },
  {
   "cell_type": "code",
   "execution_count": null,
   "id": "53b07241",
   "metadata": {},
   "outputs": [],
   "source": [
    "total['Reviews'] = total['Reviews'].astype(int)"
   ]
  },
  {
   "cell_type": "code",
   "execution_count": null,
   "id": "e3e55394",
   "metadata": {},
   "outputs": [],
   "source": [
    "total['Product'] = total['Name'].str.cat(total['Brand'], sep=' - ')"
   ]
  },
  {
   "cell_type": "code",
   "execution_count": null,
   "id": "87006d23",
   "metadata": {},
   "outputs": [],
   "source": [
    "total= total.drop(columns= ['Name', 'Brand', ], axis=1)"
   ]
  },
  {
   "cell_type": "markdown",
   "id": "d9057a0d",
   "metadata": {},
   "source": [
    "**3.3 Guardamos el dataframe final.**"
   ]
  },
  {
   "cell_type": "code",
   "execution_count": null,
   "id": "04d923dc",
   "metadata": {},
   "outputs": [],
   "source": [
    "\n",
    "total.to_csv('skincaret.csv')"
   ]
  }
 ],
 "metadata": {
  "kernelspec": {
   "display_name": "Python 3 (ipykernel)",
   "language": "python",
   "name": "python3"
  },
  "language_info": {
   "codemirror_mode": {
    "name": "ipython",
    "version": 3
   },
   "file_extension": ".py",
   "mimetype": "text/x-python",
   "name": "python",
   "nbconvert_exporter": "python",
   "pygments_lexer": "ipython3",
   "version": "3.9.13"
  }
 },
 "nbformat": 4,
 "nbformat_minor": 5
}
