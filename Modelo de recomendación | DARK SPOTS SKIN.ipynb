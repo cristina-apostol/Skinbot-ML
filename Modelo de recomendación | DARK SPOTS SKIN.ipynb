{
 "cells": [
  {
   "cell_type": "code",
   "execution_count": null,
   "id": "ffe0a8fc",
   "metadata": {},
   "outputs": [],
   "source": [
    "import pandas as pd\n",
    "import numpy as np\n",
    "import json\n",
    "import warnings\n",
    "warnings.filterwarnings(\"ignore\")\n",
    "import json\n",
    "\n",
    "from scipy.spatial.distance import pdist, squareform"
   ]
  },
  {
   "cell_type": "code",
   "execution_count": null,
   "id": "b1a9c067",
   "metadata": {},
   "outputs": [],
   "source": [
    "skincare= pd.read_csv('SKINCARE.csv')"
   ]
  },
  {
   "cell_type": "code",
   "execution_count": null,
   "id": "89963af6",
   "metadata": {},
   "outputs": [],
   "source": [
    "skincare.head()"
   ]
  },
  {
   "cell_type": "markdown",
   "id": "15a34727",
   "metadata": {},
   "source": [
    "### Para realizar el modelo de recomendación vamos a filtrar cada tipo de piel, según un tipo de producto para poder crear la rutina de skincare final. "
   ]
  },
  {
   "cell_type": "markdown",
   "id": "f518c451",
   "metadata": {},
   "source": [
    "**1. DARK SPOTS - Serum**"
   ]
  },
  {
   "cell_type": "code",
   "execution_count": null,
   "id": "97204220",
   "metadata": {},
   "outputs": [],
   "source": [
    "filtro= skincare.loc[(skincare.Skin == 'dark spots') &  (skincare.Type == 'Serum')]"
   ]
  },
  {
   "cell_type": "code",
   "execution_count": null,
   "id": "b73ca9c6",
   "metadata": {},
   "outputs": [],
   "source": [
    "filtro.Products.unique()"
   ]
  },
  {
   "cell_type": "code",
   "execution_count": null,
   "id": "d0213324",
   "metadata": {},
   "outputs": [],
   "source": [
    "oil_serum=filtro.set_index('Products')"
   ]
  },
  {
   "cell_type": "code",
   "execution_count": null,
   "id": "a91b3e21",
   "metadata": {},
   "outputs": [],
   "source": [
    "oil_serum = oil_serum.drop(columns= ['Type', 'Skin'], axis=1)"
   ]
  },
  {
   "cell_type": "markdown",
   "id": "e8987396",
   "metadata": {},
   "source": [
    "Creamos un usuario random, para la recomendación de productos con piel GRASA."
   ]
  },
  {
   "cell_type": "code",
   "execution_count": null,
   "id": "597e088b",
   "metadata": {},
   "outputs": [],
   "source": [
    "random={'Dr.Ceuracle - Royal Vita Propolis 33 Ampoule':2,\n",
    "       'La Roche-Posay - Effaclar Ultra Concentrated Serum':1,\n",
    "       'Dr. Denese SkinScience - Hydroshield Pro Strength Serum':4,\n",
    "       'COSRX - The Vitamin C 13 Serum':3,\n",
    "       'FaceTheory - Regenacalm 2% Retinol and Vitamin C Serum S1':1,}"
   ]
  },
  {
   "cell_type": "code",
   "execution_count": null,
   "id": "315807ed",
   "metadata": {},
   "outputs": [],
   "source": [
    "oil_serum['random']=pd.Series(random)\n"
   ]
  },
  {
   "cell_type": "code",
   "execution_count": null,
   "id": "4d35e044",
   "metadata": {},
   "outputs": [],
   "source": [
    "prueba_serum= oil_serum.loc[oil_serum[\"random\"].isnull()] "
   ]
  },
  {
   "cell_type": "code",
   "execution_count": null,
   "id": "ac574a13",
   "metadata": {},
   "outputs": [],
   "source": [
    "rat_serum= prueba_serum.drop('random', axis=1)"
   ]
  },
  {
   "cell_type": "code",
   "execution_count": null,
   "id": "de731071",
   "metadata": {},
   "outputs": [],
   "source": [
    "rating_serum= oil_serum.loc[oil_serum[\"random\"].notnull()]"
   ]
  },
  {
   "cell_type": "code",
   "execution_count": null,
   "id": "8f3384ac",
   "metadata": {},
   "outputs": [],
   "source": [
    "distancias=squareform(pdist(rating_serum.T, 'euclidean')) \n",
    "\n",
    "similitud=1/(1+distancias)\n",
    "\n",
    "similitudes_serum=pd.DataFrame(similitud, index=rating_serum.columns, columns=rating_serum.columns)\n",
    "\n",
    "similitudes_serum"
   ]
  },
  {
   "cell_type": "code",
   "execution_count": null,
   "id": "4410ab28",
   "metadata": {},
   "outputs": [],
   "source": [
    "simil_serum=similitudes_serum['random'].sort_values(ascending=False)[1:]\n",
    "\n",
    "simil_serum"
   ]
  },
  {
   "cell_type": "code",
   "execution_count": null,
   "id": "840aaa04",
   "metadata": {},
   "outputs": [],
   "source": [
    "for n,s in dict(simil_serum).items():\n",
    "    \n",
    "    rat_serum[n]=rat_serum[n]*s   # producto entre similitud y rating\n",
    "    \n",
    "rat_serum['Total']=rat_serum.sum(axis=1)\n",
    "\n",
    "reco_serum=rat_serum.sort_values('Total', ascending=False)"
   ]
  },
  {
   "cell_type": "code",
   "execution_count": null,
   "id": "dee7b159",
   "metadata": {},
   "outputs": [],
   "source": [
    "reco_serum[:1]"
   ]
  },
  {
   "cell_type": "markdown",
   "id": "723d8eda",
   "metadata": {},
   "source": [
    "**2. DARK SPOTS - General moisturizer**"
   ]
  },
  {
   "cell_type": "code",
   "execution_count": null,
   "id": "1fde938f",
   "metadata": {},
   "outputs": [],
   "source": [
    "filtro= skincare.loc[(skincare.Type == 'General Moisturizer') & (skincare.Skin == 'dark spots') ]\n"
   ]
  },
  {
   "cell_type": "code",
   "execution_count": null,
   "id": "426b1942",
   "metadata": {},
   "outputs": [],
   "source": [
    "filtro.Products.unique()"
   ]
  },
  {
   "cell_type": "code",
   "execution_count": null,
   "id": "87fe83fa",
   "metadata": {},
   "outputs": [],
   "source": [
    "\n",
    "oil_g=filtro.set_index('Products')\n",
    "\n",
    "oil_g = oil_g.drop(columns= ['Type', 'Skin'], axis=1)"
   ]
  },
  {
   "cell_type": "code",
   "execution_count": null,
   "id": "41047d61",
   "metadata": {},
   "outputs": [],
   "source": [
    "random={'SkinCeuticals - Daily Moisture':1,\n",
    "       'Dermalogica - Intensive Moisture Balance':3,\n",
    "       \"Paula's Choice - Moisture Boost Hydrating Treatment Cream\":4,\n",
    "       \"Paula's Choice - Calm Redness Relief Moisturizer for Normal to Dry Skin\":1,\n",
    "       \"Ryor - Depigmentační Krém', 'Balea - Face Mask Milk & Honey\":4\n",
    "       }\n",
    "\n",
    "oil_g['random']=pd.Series(random)\n",
    "\n",
    "\n",
    "prueba_g= oil_g.loc[oil_g[\"random\"].isnull()] \n",
    "\n",
    "rat_g= prueba_g.drop('random', axis=1)\n",
    "\n",
    "rating_g= oil_g.loc[oil_g[\"random\"].notnull()]\n",
    "\n",
    "distancias=squareform(pdist(rating_g.T, 'euclidean')) \n",
    "\n",
    "similitud=1/(1+distancias)\n",
    "\n",
    "similitudes_g=pd.DataFrame(similitud, index=rating_g.columns, columns=rating_g.columns)\n",
    "\n",
    "similitudes_g"
   ]
  },
  {
   "cell_type": "code",
   "execution_count": null,
   "id": "931ac01c",
   "metadata": {},
   "outputs": [],
   "source": [
    "simil_g=similitudes_g['random'].sort_values(ascending=False)[1:]\n",
    "\n",
    "for n,s in dict(simil_g).items():\n",
    "    \n",
    "    rat_g[n]=rat_g[n]*s   # producto entre similitud y rating\n",
    "    \n",
    "rat_g['Total']=rat_g.sum(axis=1)\n",
    "\n",
    "reco_g=rat_g.sort_values('Total', ascending=False)"
   ]
  },
  {
   "cell_type": "code",
   "execution_count": null,
   "id": "efd1c5e2",
   "metadata": {},
   "outputs": [],
   "source": [
    "reco_g[:1]"
   ]
  },
  {
   "cell_type": "markdown",
   "id": "4cf93743",
   "metadata": {},
   "source": [
    "**3. DARK SPOTS-Eye Moisturizer**"
   ]
  },
  {
   "cell_type": "code",
   "execution_count": null,
   "id": "4cbb31fd",
   "metadata": {},
   "outputs": [],
   "source": [
    "filtro= skincare.loc[(skincare.Skin == 'dark spots') & (skincare.Type == 'Eye Moisturizer')]\n"
   ]
  },
  {
   "cell_type": "code",
   "execution_count": null,
   "id": "19b3ca99",
   "metadata": {},
   "outputs": [],
   "source": [
    "filtro.Products.unique()"
   ]
  },
  {
   "cell_type": "code",
   "execution_count": null,
   "id": "258b7aa6",
   "metadata": {},
   "outputs": [],
   "source": [
    "\n",
    "oil_eye=filtro.set_index('Products')\n",
    "\n",
    "oil_eye = oil_eye.drop(columns= ['Type', 'Skin'], axis=1)"
   ]
  },
  {
   "cell_type": "code",
   "execution_count": null,
   "id": "cdd2211c",
   "metadata": {},
   "outputs": [],
   "source": [
    "\n",
    "random={\"L'Oreal - 2.5% Hyaluronic Acid and Caffeine Eye Serum, Revitalift Filler\":5,\n",
    "       'Derma E - Firming DMAE Eye Lift - Peptides & Vitamin B3':1,\n",
    "       'Tula Skincare - Glow & Get It Cooling & Brightening Eye Balm':1,\n",
    "       'First Aid Beauty - Eye Duty Niacinamide Brightening Eye Cream':1}\n",
    "\n",
    "oil_eye['random']=pd.Series(random)\n",
    "\n",
    "\n",
    "prueba_eye= oil_eye.loc[oil_eye[\"random\"].isnull()] \n",
    "\n",
    "rat_eye= prueba_eye.drop('random', axis=1)\n",
    "\n",
    "rating_eye= oil_eye.loc[oil_eye[\"random\"].notnull()]"
   ]
  },
  {
   "cell_type": "code",
   "execution_count": null,
   "id": "b6fedb4e",
   "metadata": {},
   "outputs": [],
   "source": [
    "\n",
    "distancias=squareform(pdist(rating_eye.T, 'euclidean')) \n",
    "\n",
    "similitud=1/(1+distancias)\n",
    "\n",
    "similitudes_eye=pd.DataFrame(similitud, index=rating_eye.columns, columns=rating_eye.columns)\n",
    "\n",
    "\n"
   ]
  },
  {
   "cell_type": "code",
   "execution_count": null,
   "id": "83752b61",
   "metadata": {
    "scrolled": true
   },
   "outputs": [],
   "source": [
    "simil_eye=similitudes_eye['random'].sort_values(ascending=False)[1:]\n",
    "\n",
    "for n,s in dict(simil_eye).items():\n",
    "    \n",
    "    rat_eye[n]=rat_eye[n]*s   # producto entre similitud y rating\n",
    "    \n",
    "rat_eye['Total']=rat_eye.sum(axis=1)\n",
    "\n",
    "reco_eye=rat_eye.sort_values('Total', ascending=False)\n",
    "\n",
    "reco_eye[:1]"
   ]
  },
  {
   "cell_type": "markdown",
   "id": "c381998e",
   "metadata": {},
   "source": [
    "**4. DARK SPOTS - Toner**"
   ]
  },
  {
   "cell_type": "code",
   "execution_count": null,
   "id": "9c251c4a",
   "metadata": {},
   "outputs": [],
   "source": [
    "filtro= skincare.loc[(skincare.Skin == 'dark spots') & (skincare.Type == 'Toner')]\n"
   ]
  },
  {
   "cell_type": "code",
   "execution_count": null,
   "id": "77a6bfae",
   "metadata": {},
   "outputs": [],
   "source": [
    "filtro.Products.unique()"
   ]
  },
  {
   "cell_type": "code",
   "execution_count": null,
   "id": "f002e435",
   "metadata": {},
   "outputs": [],
   "source": [
    "\n",
    "oil_toner=filtro.set_index('Products')\n",
    "\n",
    "oil_toner = oil_toner.drop(columns= ['Type', 'Skin'], axis=1)"
   ]
  },
  {
   "cell_type": "code",
   "execution_count": null,
   "id": "5e5b9262",
   "metadata": {},
   "outputs": [],
   "source": [
    "\n",
    "random={\"L'Oreal - Revitalift Derm Intensives Glycolic Acid Toner\":1,\n",
    "       'Bliss - Well Yes! Glow Boosting Multivitamin Toner':4,\n",
    "       'FaceTheory - Glycolacsal Solution T4':3,\n",
    "       'Pixi Beauty - Retinol Tonic':5}\n",
    "\n",
    "oil_toner['random']=pd.Series(random)\n",
    "\n",
    "\n",
    "prueba_toner= oil_toner.loc[oil_toner[\"random\"].isnull()] \n",
    "\n",
    "rat_toner= prueba_toner.drop('random', axis=1)\n",
    "\n",
    "rating_toner= oil_toner.loc[oil_toner[\"random\"].notnull()]"
   ]
  },
  {
   "cell_type": "code",
   "execution_count": null,
   "id": "43385c7b",
   "metadata": {},
   "outputs": [],
   "source": [
    "\n",
    "distancias=squareform(pdist(rating_toner.T, 'euclidean')) \n",
    "\n",
    "similitud=1/(1+distancias)\n",
    "\n",
    "similitudes_toner=pd.DataFrame(similitud, index=rating_toner.columns, columns=rating_toner.columns)\n",
    "\n",
    "\n"
   ]
  },
  {
   "cell_type": "code",
   "execution_count": null,
   "id": "7254d749",
   "metadata": {
    "scrolled": true
   },
   "outputs": [],
   "source": [
    "simil_toner=similitudes_toner['random'].sort_values(ascending=False)[1:]\n",
    "\n",
    "for n,s in dict(simil_toner).items():\n",
    "    \n",
    "    rat_toner[n]=rat_toner[n]*s   # producto entre similitud y rating\n",
    "    \n",
    "rat_toner['Total']=rat_toner.sum(axis=1)\n",
    "\n",
    "reco_toner=rat_toner.sort_values('Total', ascending=False)\n",
    "\n",
    "reco_toner[:1]"
   ]
  },
  {
   "cell_type": "markdown",
   "id": "dd13b4e9",
   "metadata": {},
   "source": [
    "**5. DARK SPOTS - Facial Treatment**"
   ]
  },
  {
   "cell_type": "code",
   "execution_count": null,
   "id": "a7d39be4",
   "metadata": {},
   "outputs": [],
   "source": [
    "filtro= skincare.loc[(skincare.Skin == 'dark spots') & (skincare.Type == 'Facial Treatment')]\n"
   ]
  },
  {
   "cell_type": "code",
   "execution_count": null,
   "id": "f3f36760",
   "metadata": {},
   "outputs": [],
   "source": [
    "filtro.Products.unique()"
   ]
  },
  {
   "cell_type": "code",
   "execution_count": null,
   "id": "fa7b38c6",
   "metadata": {},
   "outputs": [],
   "source": [
    "\n",
    "oil_treatment=filtro.set_index('Products')\n",
    "\n",
    "oil_treatment = oil_treatment.drop(columns= ['Type', 'Skin'], axis=1)"
   ]
  },
  {
   "cell_type": "code",
   "execution_count": null,
   "id": "4a7d6fb9",
   "metadata": {},
   "outputs": [],
   "source": [
    "\n",
    "random={\"'The Ordinary - Retinol 0.2% in Squalane'\": 5,\n",
    "       'Dr. Dennis Gross Skincare - C+ Collagen Deep Cream':1,\n",
    "        'Tula Skincare - Beauty Sleep Overnight Repair Treatment':1,\n",
    "       }\n",
    "\n",
    "oil_treatment['random']=pd.Series(random)\n",
    "\n",
    "prueba_treatment= oil_treatment.loc[oil_treatment[\"random\"].isnull()] \n",
    "\n",
    "rat_treatment= oil_treatment.drop('random', axis=1)\n",
    "\n",
    "rating_treatment= oil_treatment.loc[oil_treatment[\"random\"].notnull()]"
   ]
  },
  {
   "cell_type": "code",
   "execution_count": null,
   "id": "683da75a",
   "metadata": {},
   "outputs": [],
   "source": [
    "\n",
    "distancias=squareform(pdist(rating_treatment.T, 'euclidean')) \n",
    "\n",
    "similitud=1/(1+distancias)\n",
    "\n",
    "similitudes_treatment=pd.DataFrame(similitud, index=rating_treatment.columns, columns=rating_treatment.columns)\n",
    "\n",
    "\n"
   ]
  },
  {
   "cell_type": "code",
   "execution_count": null,
   "id": "30ef900d",
   "metadata": {
    "scrolled": true
   },
   "outputs": [],
   "source": [
    "simil_treatment=similitudes_treatment['random'].sort_values(ascending=False)[1:]\n",
    "\n",
    "for n,s in dict(simil_treatment).items():\n",
    "    \n",
    "    rat_treatment[n]=rat_treatment[n]*s   # producto entre similitud y rating\n",
    "    \n",
    "rat_treatment['Total']=rat_treatment.sum(axis=1)\n",
    "\n",
    "reco_treatment=rat_treatment.sort_values('Total', ascending=False)\n",
    "\n",
    "reco_treatment[:1]"
   ]
  },
  {
   "cell_type": "markdown",
   "id": "877b5d57",
   "metadata": {},
   "source": [
    "**6. DARK SPOTS - Sunscreen**"
   ]
  },
  {
   "cell_type": "code",
   "execution_count": null,
   "id": "160c3897",
   "metadata": {},
   "outputs": [],
   "source": [
    "filtro= skincare.loc[(skincare.Skin == 'dark spots') & (skincare.Type == 'Sunscreen')]\n"
   ]
  },
  {
   "cell_type": "code",
   "execution_count": null,
   "id": "cbabbec2",
   "metadata": {},
   "outputs": [],
   "source": [
    "filtro.Products.unique()"
   ]
  },
  {
   "cell_type": "code",
   "execution_count": null,
   "id": "03c41563",
   "metadata": {},
   "outputs": [],
   "source": [
    "\n",
    "oil_sun=filtro.set_index('Products')\n",
    "\n",
    "oil_sun = oil_sun.drop(columns= ['Type', 'Skin'], axis=1)"
   ]
  },
  {
   "cell_type": "code",
   "execution_count": null,
   "id": "255c00e1",
   "metadata": {},
   "outputs": [],
   "source": [
    "\n",
    "random={'IT Cosmetics - CC+ Cream with SPF 50+': 1,\n",
    "        'ma:nyo - Galactomy Sun Serum SPF 50+ PA++++':1\n",
    "       }\n",
    "\n",
    "oil_sun['random']=pd.Series(random)\n",
    "\n",
    "prueba_sun= oil_sun.loc[oil_sun[\"random\"].isnull()] \n",
    "\n",
    "rat_sun= prueba_sun.drop('random', axis=1)\n",
    "\n",
    "rating_sun= oil_sun.loc[oil_sun[\"random\"].notnull()]"
   ]
  },
  {
   "cell_type": "code",
   "execution_count": null,
   "id": "b9d478f3",
   "metadata": {},
   "outputs": [],
   "source": [
    "\n",
    "distancias=squareform(pdist(rating_sun.T, 'euclidean')) \n",
    "\n",
    "similitud=1/(1+distancias)\n",
    "\n",
    "similitudes_sun=pd.DataFrame(similitud, index=rating_sun.columns, columns=rating_sun.columns)\n",
    "\n",
    "\n"
   ]
  },
  {
   "cell_type": "code",
   "execution_count": null,
   "id": "31f0ec55",
   "metadata": {
    "scrolled": true
   },
   "outputs": [],
   "source": [
    "simil_sun=similitudes_sun['random'].sort_values(ascending=False)[1:]\n",
    "\n",
    "for n,s in dict(simil_sun).items():\n",
    "    \n",
    "    rat_sun[n]=rat_sun[n]*s   # producto entre similitud y rating\n",
    "    \n",
    "rat_sun['Total']=rat_sun.sum(axis=1)\n",
    "\n",
    "reco_sun=rat_sun.sort_values('Total', ascending=False)\n",
    "\n",
    "reco_sun[:1]"
   ]
  },
  {
   "cell_type": "markdown",
   "id": "ac432e9c",
   "metadata": {},
   "source": [
    "**7. DARK SPOTS - Face Cleanser**"
   ]
  },
  {
   "cell_type": "code",
   "execution_count": null,
   "id": "70c534e9",
   "metadata": {},
   "outputs": [],
   "source": [
    "filtro= skincare.loc[(skincare.Skin == 'dark spots') & (skincare.Type == 'Face Cleanser')]\n"
   ]
  },
  {
   "cell_type": "code",
   "execution_count": null,
   "id": "792c68fb",
   "metadata": {},
   "outputs": [],
   "source": [
    "filtro.Products.unique()"
   ]
  },
  {
   "cell_type": "code",
   "execution_count": null,
   "id": "2d83987c",
   "metadata": {},
   "outputs": [],
   "source": [
    "\n",
    "oil_clean=filtro.set_index('Products')\n",
    "\n",
    "oil_clean = oil_clean.drop(columns= ['Type', 'Skin'], axis=1)"
   ]
  },
  {
   "cell_type": "code",
   "execution_count": null,
   "id": "c55bf096",
   "metadata": {},
   "outputs": [],
   "source": [
    "\n",
    "random={'Derma E - Hydrating Cleanser':1,\n",
    "       'Urban Skin - Even Tone Gentle Gel Cleanser':2\n",
    "        \n",
    "        \n",
    "       }\n",
    "\n",
    "oil_clean['random']=pd.Series(random)\n",
    "\n",
    "prueba_clean= oil_clean.loc[oil_clean[\"random\"].isnull()] \n",
    "\n",
    "rat_clean= prueba_clean.drop('random', axis=1)\n",
    "\n",
    "rating_clean= oil_clean.loc[oil_clean[\"random\"].notnull()]"
   ]
  },
  {
   "cell_type": "code",
   "execution_count": null,
   "id": "fc978f42",
   "metadata": {},
   "outputs": [],
   "source": [
    "\n",
    "distancias=squareform(pdist(rating_clean.T, 'euclidean')) \n",
    "\n",
    "similitud=1/(1+distancias)\n",
    "\n",
    "similitudes_clean=pd.DataFrame(similitud, index=rating_clean.columns, columns=rating_clean.columns)\n",
    "\n",
    "\n"
   ]
  },
  {
   "cell_type": "code",
   "execution_count": null,
   "id": "c15d5276",
   "metadata": {
    "scrolled": true
   },
   "outputs": [],
   "source": [
    "simil_clean=similitudes_clean['random'].sort_values(ascending=False)[1:]\n",
    "\n",
    "for n,s in dict(simil_clean).items():\n",
    "    \n",
    "    rat_clean[n]=rat_clean[n]*s   # producto entre similitud y rating\n",
    "    \n",
    "rat_clean['Total']=rat_clean.sum(axis=1)\n",
    "\n",
    "reco_clean=rat_clean.sort_values('Total', ascending=False)\n",
    "\n",
    "reco_clean[:1]"
   ]
  },
  {
   "cell_type": "markdown",
   "id": "6ecf6120",
   "metadata": {},
   "source": [
    "**8. DARK SPOTS - Night Moisturizer**"
   ]
  },
  {
   "cell_type": "code",
   "execution_count": null,
   "id": "f31a3d91",
   "metadata": {},
   "outputs": [],
   "source": [
    "filtro= skincare.loc[(skincare.Skin == 'dark spots') & (skincare.Type == 'Night Moisturizer')]\n"
   ]
  },
  {
   "cell_type": "code",
   "execution_count": null,
   "id": "c78be811",
   "metadata": {},
   "outputs": [],
   "source": [
    "filtro.Products.unique()"
   ]
  },
  {
   "cell_type": "code",
   "execution_count": null,
   "id": "288c155a",
   "metadata": {},
   "outputs": [],
   "source": [
    "\n",
    "oil_night=filtro.set_index('Products')\n",
    "\n",
    "oil_night = oil_night.drop(columns= ['Type', 'Skin'], axis=1)"
   ]
  },
  {
   "cell_type": "code",
   "execution_count": null,
   "id": "cdd4b0b4",
   "metadata": {},
   "outputs": [],
   "source": [
    "\n",
    "random={'Olehenriksen - Dewtopia 5% AHA Firming Night Crème':1,\n",
    "       'Ryor - Noční Krém Se Zlatem A Arganovým Olejem':1\n",
    "        \n",
    "       }\n",
    "\n",
    "oil_night['random']=pd.Series(random)\n",
    "\n",
    "prueba_night= oil_night.loc[oil_night[\"random\"].isnull()] \n",
    "\n",
    "rat_night= prueba_night.drop('random', axis=1)\n",
    "\n",
    "rating_night= oil_night.loc[oil_night[\"random\"].notnull()]"
   ]
  },
  {
   "cell_type": "code",
   "execution_count": null,
   "id": "724331f6",
   "metadata": {},
   "outputs": [],
   "source": [
    "\n",
    "distancias=squareform(pdist(rating_night.T, 'euclidean')) \n",
    "\n",
    "similitud=1/(1+distancias)\n",
    "\n",
    "similitudes_night=pd.DataFrame(similitud, index=rating_night.columns, columns=rating_night.columns)\n",
    "\n",
    "\n"
   ]
  },
  {
   "cell_type": "code",
   "execution_count": null,
   "id": "44bb29d7",
   "metadata": {
    "scrolled": true
   },
   "outputs": [],
   "source": [
    "simil_night=similitudes_night['random'].sort_values(ascending=False)[1:]\n",
    "\n",
    "for n,s in dict(simil_night).items():\n",
    "    \n",
    "    rat_night[n]=rat_night[n]*s   # producto entre similitud y rating\n",
    "    \n",
    "rat_night['Total']=rat_night.sum(axis=1)\n",
    "\n",
    "reco_night=rat_night.sort_values('Total', ascending=False)\n",
    "\n",
    "reco_night[:1]"
   ]
  },
  {
   "cell_type": "code",
   "execution_count": null,
   "id": "789bf67c",
   "metadata": {},
   "outputs": [],
   "source": []
  },
  {
   "cell_type": "markdown",
   "id": "71ac00a8",
   "metadata": {},
   "source": [
    "**9. DARK SPOTS - Day Moisturizer**"
   ]
  },
  {
   "cell_type": "code",
   "execution_count": null,
   "id": "25f122ab",
   "metadata": {},
   "outputs": [],
   "source": [
    "filtro= skincare.loc[(skincare.Skin == 'dark spots') & (skincare.Type == 'Day Moisturizer')]\n"
   ]
  },
  {
   "cell_type": "code",
   "execution_count": null,
   "id": "aed4ee60",
   "metadata": {},
   "outputs": [],
   "source": [
    "filtro.Products.unique()"
   ]
  },
  {
   "cell_type": "code",
   "execution_count": null,
   "id": "36ba67ff",
   "metadata": {},
   "outputs": [],
   "source": [
    "\n",
    "oil_day=filtro.set_index('Products')\n",
    "\n",
    "oil_day = oil_day.drop(columns= ['Type', 'Skin'], axis=1)"
   ]
  },
  {
   "cell_type": "code",
   "execution_count": null,
   "id": "0bc87941",
   "metadata": {},
   "outputs": [],
   "source": [
    "\n",
    "random={'Isntree - Onion Newpair Gel Cream': 1,\n",
    "        'Ryor - Denní Krém Mořské Rasy':1,\n",
    "       'Ryor - Denní Krém S Mořskými Rasami':2,\n",
    "        'COSRX - AHA/BHA Refresh Vitamin C Daily Cream':1,\n",
    "        'Origins - Plantscription SPF 25 Power Anti-Aging Oil-Free Cream':1\n",
    "      \n",
    "       }\n",
    "\n",
    "oil_day['random']=pd.Series(random)\n",
    "\n",
    "prueba_day= oil_day.loc[oil_day[\"random\"].isnull()] \n",
    "\n",
    "rat_day= prueba_day.drop('random', axis=1)\n",
    "\n",
    "rating_day= oil_day.loc[oil_day[\"random\"].notnull()]"
   ]
  },
  {
   "cell_type": "code",
   "execution_count": null,
   "id": "1760e73b",
   "metadata": {},
   "outputs": [],
   "source": [
    "\n",
    "distancias=squareform(pdist(rating_day.T, 'euclidean')) \n",
    "\n",
    "similitud=1/(1+distancias)\n",
    "\n",
    "similitudes_day=pd.DataFrame(similitud, index=rating_day.columns, columns=rating_day.columns)\n",
    "\n",
    "\n"
   ]
  },
  {
   "cell_type": "code",
   "execution_count": null,
   "id": "b3a081fc",
   "metadata": {
    "scrolled": true
   },
   "outputs": [],
   "source": [
    "simil_day=similitudes_day['random'].sort_values(ascending=False)[1:]\n",
    "\n",
    "for n,s in dict(simil_day).items():\n",
    "    \n",
    "    rat_day[n]=rat_day[n]*s   # producto entre similitud y rating\n",
    "    \n",
    "rat_day['Total']=rat_day.sum(axis=1)\n",
    "\n",
    "reco_day=rat_day.sort_values('Total', ascending=False)\n",
    "\n",
    "reco_day[:1]"
   ]
  },
  {
   "cell_type": "markdown",
   "id": "e22a544f",
   "metadata": {},
   "source": [
    "### SKINCARE ROUTINE FOR DARK SPOTS SKIN - RANDOM USER"
   ]
  },
  {
   "cell_type": "code",
   "execution_count": null,
   "id": "a8bf340f",
   "metadata": {},
   "outputs": [],
   "source": [
    "skincare_routine= {'Face Cleaneser' : reco_clean.index[0], 'Toner': reco_toner.index[0], 'Serum': reco_serum.index[0] , \n",
    "          \n",
    "          'Eye_Moisturizer': reco_eye.index[0], 'General_Moisturizer': reco_g.index[0],\n",
    "                  'Day_Moisturizer': reco_day.index[0], 'Night_Moisturizer' : reco_night.index[0]}"
   ]
  },
  {
   "cell_type": "code",
   "execution_count": null,
   "id": "dfb92faf",
   "metadata": {},
   "outputs": [],
   "source": [
    "skincare_routine"
   ]
  },
  {
   "cell_type": "code",
   "execution_count": null,
   "id": "b85562e8",
   "metadata": {},
   "outputs": [],
   "source": []
  }
 ],
 "metadata": {
  "kernelspec": {
   "display_name": "Python 3 (ipykernel)",
   "language": "python",
   "name": "python3"
  },
  "language_info": {
   "codemirror_mode": {
    "name": "ipython",
    "version": 3
   },
   "file_extension": ".py",
   "mimetype": "text/x-python",
   "name": "python",
   "nbconvert_exporter": "python",
   "pygments_lexer": "ipython3",
   "version": "3.9.13"
  }
 },
 "nbformat": 4,
 "nbformat_minor": 5
}
